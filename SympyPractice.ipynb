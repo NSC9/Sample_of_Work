{
 "cells": [
  {
   "cell_type": "code",
   "execution_count": 1,
   "id": "75f68047",
   "metadata": {},
   "outputs": [],
   "source": [
    "import sympy as sy\n",
    "from sympy import diff\n",
    "from sympy.abc import x\n",
    "from sympy import Function\n",
    "#f = Function('f')"
   ]
  },
  {
   "cell_type": "code",
   "execution_count": 2,
   "id": "33e4ca49",
   "metadata": {},
   "outputs": [
    {
     "data": {
      "text/latex": [
       "$\\displaystyle \\frac{1}{x + 1}$"
      ],
      "text/plain": [
       "1/(x + 1)"
      ]
     },
     "execution_count": 2,
     "metadata": {},
     "output_type": "execute_result"
    }
   ],
   "source": [
    "f = 1/(x+1)\n",
    "f\n"
   ]
  },
  {
   "cell_type": "code",
   "execution_count": 3,
   "id": "c92bc669",
   "metadata": {},
   "outputs": [
    {
     "data": {
      "text/latex": [
       "$\\displaystyle - \\frac{1}{16}$"
      ],
      "text/plain": [
       "-1/16"
      ]
     },
     "execution_count": 3,
     "metadata": {},
     "output_type": "execute_result"
    }
   ],
   "source": [
    "diff(f,x).subs(x,-5)\n"
   ]
  },
  {
   "cell_type": "code",
   "execution_count": 4,
   "id": "b57d5f2d",
   "metadata": {},
   "outputs": [
    {
     "data": {
      "text/latex": [
       "$\\displaystyle - \\frac{1}{4}$"
      ],
      "text/plain": [
       "-1/4"
      ]
     },
     "execution_count": 4,
     "metadata": {},
     "output_type": "execute_result"
    }
   ],
   "source": [
    "diff(f,x).subs(x,-3)\n"
   ]
  },
  {
   "cell_type": "code",
   "execution_count": 5,
   "id": "a0611b5d",
   "metadata": {},
   "outputs": [
    {
     "data": {
      "text/latex": [
       "$\\displaystyle -1$"
      ],
      "text/plain": [
       "-1"
      ]
     },
     "execution_count": 5,
     "metadata": {},
     "output_type": "execute_result"
    }
   ],
   "source": [
    "diff(f,x).subs(x,0)"
   ]
  },
  {
   "cell_type": "code",
   "execution_count": 6,
   "id": "46191f61",
   "metadata": {},
   "outputs": [
    {
     "data": {
      "text/latex": [
       "$\\displaystyle - \\frac{1}{9}$"
      ],
      "text/plain": [
       "-1/9"
      ]
     },
     "execution_count": 6,
     "metadata": {},
     "output_type": "execute_result"
    }
   ],
   "source": [
    "diff(f,x).subs(x,2)\n",
    "\n"
   ]
  },
  {
   "cell_type": "code",
   "execution_count": 7,
   "id": "cbfd716e",
   "metadata": {},
   "outputs": [],
   "source": [
    "from sympy import sin, cos\n",
    "import sympy as sy\n",
    "from sympy import simplify\n",
    "from sympy import sympify\n",
    "x = sy.symbols('x)')"
   ]
  },
  {
   "cell_type": "code",
   "execution_count": 8,
   "id": "305f8a98",
   "metadata": {},
   "outputs": [
    {
     "data": {
      "text/latex": [
       "$\\displaystyle \\sin^{2}{\\left(x) \\right)} + \\cos^{2}{\\left(x) \\right)}$"
      ],
      "text/plain": [
       "sin(x))**2 + cos(x))**2"
      ]
     },
     "execution_count": 8,
     "metadata": {},
     "output_type": "execute_result"
    }
   ],
   "source": [
    "expr = sin(x)**2 +cos(x)**2\n",
    "expr"
   ]
  },
  {
   "cell_type": "code",
   "execution_count": 9,
   "id": "fe6234e9",
   "metadata": {},
   "outputs": [
    {
     "data": {
      "text/latex": [
       "$\\displaystyle 1$"
      ],
      "text/plain": [
       "1"
      ]
     },
     "execution_count": 9,
     "metadata": {},
     "output_type": "execute_result"
    }
   ],
   "source": [
    "simplify(expr)"
   ]
  },
  {
   "cell_type": "code",
   "execution_count": 10,
   "id": "4223c9ea",
   "metadata": {},
   "outputs": [
    {
     "data": {
      "text/latex": [
       "$\\displaystyle r + \\cos^{2}{\\left(x \\right)}$"
      ],
      "text/plain": [
       "r + cos(x)**2"
      ]
     },
     "execution_count": 10,
     "metadata": {},
     "output_type": "execute_result"
    }
   ],
   "source": [
    "sympify('r + cos(x)**2')"
   ]
  },
  {
   "cell_type": "code",
   "execution_count": 11,
   "id": "b271f2c4",
   "metadata": {},
   "outputs": [
    {
     "name": "stdout",
     "output_type": "stream",
     "text": [
      "x = top row(left to right)            f(x) = bottom row\n"
     ]
    },
    {
     "data": {
      "text/latex": [
       "$\\displaystyle \\left[\\begin{matrix}0 & 2 & 4 & 6 & 8 & 10 & 12\\\\13 & 16 & 18 & 19 & 18 & 14 & 11\\end{matrix}\\right]$"
      ],
      "text/plain": [
       "Matrix([\n",
       "[ 0,  2,  4,  6,  8, 10, 12],\n",
       "[13, 16, 18, 19, 18, 14, 11]])"
      ]
     },
     "execution_count": 11,
     "metadata": {},
     "output_type": "execute_result"
    }
   ],
   "source": [
    "from sympy import Matrix\n",
    "wwb05 = Matrix([[0,2,4,6,8,10,12], \n",
    "                [13,16,18,19,18,14,11]]) \n",
    "print(\"x = top row(left to right)            f(x) = bottom row\")\n",
    "wwb05\n",
    "\n"
   ]
  },
  {
   "cell_type": "code",
   "execution_count": 12,
   "id": "75af505c",
   "metadata": {},
   "outputs": [
    {
     "name": "stdout",
     "output_type": "stream",
     "text": [
      "x-values are stored in variable x as Matrix slice: [0, 2, 4, 6, 8, 10, 12]\n"
     ]
    }
   ],
   "source": [
    "x = wwb05[0:7]\n",
    "print(\"x-values are stored in variable x as Matrix slice:\",x)"
   ]
  },
  {
   "cell_type": "code",
   "execution_count": 13,
   "id": "9922e5e4",
   "metadata": {},
   "outputs": [
    {
     "name": "stdout",
     "output_type": "stream",
     "text": [
      "f(x) values are stored in variable x as Matrix slice: [13, 16, 18, 19, 18, 14, 11]\n"
     ]
    }
   ],
   "source": [
    "def func(x):\n",
    "    return wwb05[7:15]\n",
    "print(\"f(x) values are stored in variable x as Matrix slice:\",func(x))"
   ]
  },
  {
   "cell_type": "code",
   "execution_count": 92,
   "id": "ee1d094b",
   "metadata": {},
   "outputs": [
    {
     "data": {
      "text/latex": [
       "$\\displaystyle \\left[\\begin{matrix}x & 0 & 2 & 4 & 6 & 8 & 10 & 12\\\\y & 13 & 16 & 18 & 19 & 18 & 14 & 11\\end{matrix}\\right]$"
      ],
      "text/plain": [
       "Matrix([\n",
       "[x,  0,  2,  4,  6,  8, 10, 12],\n",
       "[y, 13, 16, 18, 19, 18, 14, 11]])"
      ]
     },
     "execution_count": 92,
     "metadata": {},
     "output_type": "execute_result"
    }
   ],
   "source": [
    "rot = Matrix([[0,2,4,6,8,10,12], \n",
    "              [13,16,18,19,18,14,11]]) \n",
    "from sympy.matrices import Matrix\n",
    "from sympy.abc import x, y\n",
    "M = Matrix([[x, 0,2,4,6,8,10,12], [y, 13,16,18,19,18,14,11]])\n",
    "M"
   ]
  },
  {
   "cell_type": "code",
   "execution_count": 107,
   "id": "cbf3dbeb",
   "metadata": {},
   "outputs": [
    {
     "data": {
      "text/latex": [
       "$\\displaystyle \\left[\\begin{matrix}1 & 0 & 0 & 0 & 0 & 0 & 0 & 0\\\\0 & 0 & 0 & 0 & 0 & 0 & 0 & 0\\end{matrix}\\right]$"
      ],
      "text/plain": [
       "Matrix([\n",
       "[1, 0, 0, 0, 0, 0, 0, 0],\n",
       "[0, 0, 0, 0, 0, 0, 0, 0]])"
      ]
     },
     "execution_count": 107,
     "metadata": {},
     "output_type": "execute_result"
    }
   ],
   "source": [
    "M.diff(x)"
   ]
  },
  {
   "cell_type": "code",
   "execution_count": 221,
   "id": "ff43e7b9",
   "metadata": {},
   "outputs": [
    {
     "data": {
      "text/latex": [
       "$\\displaystyle -2.16666666666667$"
      ],
      "text/plain": [
       "-2.16666666666667"
      ]
     },
     "execution_count": 221,
     "metadata": {},
     "output_type": "execute_result"
    }
   ],
   "source": [
    "f = sy.Function('f')\n",
    "def f(x):\n",
    "    return 1/x\n",
    "diffqot = f(x.subs(x,3)) - f(x.subs(x,0.4))\n",
    "diffqot"
   ]
  },
  {
   "cell_type": "code",
   "execution_count": 267,
   "id": "a5b6d0e8",
   "metadata": {},
   "outputs": [],
   "source": [
    "t,h = sy.symbols('t,h')\n",
    "A,B,C = sy.symbols(\"A,B,C\",constant=True, real=True) \n",
    "# line above this is obsolete code (see cell 185)\n",
    "# I am not sure on problem 6 of WWB05 about the constants \"A,B,C\"\n",
    "# Are these integers, real numbers, rational?\n",
    "\n",
    "def f(t):\n",
    "    return -5 - 11*t"
   ]
  },
  {
   "cell_type": "code",
   "execution_count": 268,
   "id": "bb222038",
   "metadata": {},
   "outputs": [
    {
     "data": {
      "text/latex": [
       "$\\displaystyle -11$"
      ],
      "text/plain": [
       "-11"
      ]
     },
     "execution_count": 268,
     "metadata": {},
     "output_type": "execute_result"
    }
   ],
   "source": [
    "diff(f(t))"
   ]
  },
  {
   "cell_type": "code",
   "execution_count": 269,
   "id": "0e0f82c2",
   "metadata": {},
   "outputs": [],
   "source": [
    "f = sy.Function('f')\n",
    "def f(x):\n",
    "    return -2 -7*sy.sqrt(x)"
   ]
  },
  {
   "cell_type": "code",
   "execution_count": 270,
   "id": "38196d57",
   "metadata": {
    "scrolled": true
   },
   "outputs": [
    {
     "data": {
      "text/latex": [
       "$\\displaystyle - 7 \\sqrt{x} - 2$"
      ],
      "text/plain": [
       "-7*sqrt(x) - 2"
      ]
     },
     "execution_count": 270,
     "metadata": {},
     "output_type": "execute_result"
    }
   ],
   "source": [
    "f(x)"
   ]
  },
  {
   "cell_type": "code",
   "execution_count": null,
   "id": "f9580149",
   "metadata": {},
   "outputs": [],
   "source": []
  },
  {
   "cell_type": "code",
   "execution_count": 290,
   "id": "df513c52",
   "metadata": {},
   "outputs": [
    {
     "data": {
      "text/latex": [
       "$\\displaystyle \\frac{7 \\sqrt{x} - 7 \\sqrt{h + x}}{h}$"
      ],
      "text/plain": [
       "(7*sqrt(x) - 7*sqrt(h + x))/h"
      ]
     },
     "execution_count": 290,
     "metadata": {},
     "output_type": "execute_result"
    }
   ],
   "source": [
    "expr0 = (f(x+h) - f(x))/h\n",
    "expr0"
   ]
  },
  {
   "cell_type": "code",
   "execution_count": 294,
   "id": "6b0cc6ba",
   "metadata": {},
   "outputs": [
    {
     "data": {
      "text/latex": [
       "$\\displaystyle \\frac{A}{\\sqrt{x} + \\sqrt{B x + C h}}$"
      ],
      "text/plain": [
       "A/(sqrt(x) + sqrt(B*x + C*h))"
      ]
     },
     "execution_count": 294,
     "metadata": {},
     "output_type": "execute_result"
    }
   ],
   "source": [
    "\n",
    "expr0_rewritten =   A /  ( sy.sqrt(B*x + C*h) + sy.sqrt(x) )\n",
    "expr0_rewritten"
   ]
  },
  {
   "cell_type": "code",
   "execution_count": 301,
   "id": "63b2b230",
   "metadata": {},
   "outputs": [
    {
     "data": {
      "text/latex": [
       "$\\displaystyle \\frac{7 \\left(\\sqrt{x} - \\sqrt{h + x}\\right)}{h}$"
      ],
      "text/plain": [
       "7*(sqrt(x) - sqrt(h + x))/h"
      ]
     },
     "execution_count": 301,
     "metadata": {},
     "output_type": "execute_result"
    }
   ],
   "source": [
    "from sympy import simplify\n",
    "sy.simplify(expr0)"
   ]
  },
  {
   "cell_type": "code",
   "execution_count": 320,
   "id": "be258bfa",
   "metadata": {},
   "outputs": [
    {
     "data": {
      "text/latex": [
       "$\\displaystyle \\frac{7 \\left(\\sqrt{x} - \\sqrt{h + x}\\right)}{h}$"
      ],
      "text/plain": [
       "7*(sqrt(x) - sqrt(h + x))/h"
      ]
     },
     "execution_count": 320,
     "metadata": {},
     "output_type": "execute_result"
    }
   ],
   "source": [
    "exp5 = sy.simplify(expr0)\n",
    "exp5"
   ]
  },
  {
   "cell_type": "code",
   "execution_count": null,
   "id": "95313b05",
   "metadata": {},
   "outputs": [],
   "source": []
  }
 ],
 "metadata": {
  "kernelspec": {
   "display_name": "Python 3 (ipykernel)",
   "language": "python",
   "name": "python3"
  },
  "language_info": {
   "codemirror_mode": {
    "name": "ipython",
    "version": 3
   },
   "file_extension": ".py",
   "mimetype": "text/x-python",
   "name": "python",
   "nbconvert_exporter": "python",
   "pygments_lexer": "ipython3",
   "version": "3.9.6"
  }
 },
 "nbformat": 4,
 "nbformat_minor": 5
}
