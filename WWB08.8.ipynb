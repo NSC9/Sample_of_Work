{
 "cells": [
  {
   "cell_type": "code",
   "execution_count": 76,
   "id": "a91313e1",
   "metadata": {
    "scrolled": true
   },
   "outputs": [
    {
     "data": {
      "text/html": [
       "<img src=\"https://i.imgur.com/6Jq28eO.png\"/>"
      ],
      "text/plain": [
       "<IPython.core.display.Image object>"
      ]
     },
     "execution_count": 76,
     "metadata": {},
     "output_type": "execute_result"
    }
   ],
   "source": [
    "from IPython.display import Image\n",
    "from IPython.core.display import HTML \n",
    "from sympy import *; x,h = symbols(\"x h\")\n",
    "Image(url= \"https://i.imgur.com/6Jq28eO.png\")"
   ]
  },
  {
   "cell_type": "code",
   "execution_count": 89,
   "id": "699bb08e",
   "metadata": {},
   "outputs": [
    {
     "data": {
      "text/html": [
       "<img src=\"https://i.imgur.com/cdZ7reJ.png\"/>"
      ],
      "text/plain": [
       "<IPython.core.display.Image object>"
      ]
     },
     "execution_count": 89,
     "metadata": {},
     "output_type": "execute_result"
    }
   ],
   "source": [
    "# https://www.onlinemath4all.com/how-to-find-equation-of-tangent-to-the-curve.html\n",
    "# screenshot,upload,copy to clipboard all at once with ShareX (not sponsored)\n",
    "Image(url= \"https://i.imgur.com/cdZ7reJ.png\")"
   ]
  },
  {
   "cell_type": "code",
   "execution_count": 93,
   "id": "93514bc4",
   "metadata": {},
   "outputs": [
    {
     "data": {
      "text/latex": [
       "$\\displaystyle 2 x \\cos{\\left(x \\right)}$"
      ],
      "text/plain": [
       "2*x*cos(x)"
      ]
     },
     "execution_count": 93,
     "metadata": {},
     "output_type": "execute_result"
    }
   ],
   "source": [
    "expr0 = 2*x*cos(x)\n",
    "x0 = pi\n",
    "y0 = -2*pi\n",
    "# m = derivative of expr0\n",
    "expr0"
   ]
  },
  {
   "cell_type": "code",
   "execution_count": 100,
   "id": "75576dd9",
   "metadata": {
    "scrolled": true
   },
   "outputs": [
    {
     "data": {
      "text/latex": [
       "$\\displaystyle 2 x \\cos{\\left(x \\right)}$"
      ],
      "text/plain": [
       "2*x*cos(x)"
      ]
     },
     "execution_count": 100,
     "metadata": {},
     "output_type": "execute_result"
    }
   ],
   "source": [
    "#okay now we find the first derivative of the curve stored as a Function of x\n",
    "def F(x):\n",
    "    return 2*x*cos(x)   #not using lambdify here cause loop function errors\n",
    "f(x)"
   ]
  },
  {
   "cell_type": "code",
   "execution_count": 104,
   "id": "04d814c0",
   "metadata": {},
   "outputs": [
    {
     "data": {
      "text/latex": [
       "$\\displaystyle - 2 x \\sin{\\left(x \\right)} + 2 \\cos{\\left(x \\right)}$"
      ],
      "text/plain": [
       "-2*x*sin(x) + 2*cos(x)"
      ]
     },
     "execution_count": 104,
     "metadata": {},
     "output_type": "execute_result"
    }
   ],
   "source": [
    "def dF(x):    #d means d/dx of F(x)\n",
    "    return limit(  (( F(x+h)-F(x) ) / h)  ,h,0)\n",
    "dF(x)"
   ]
  },
  {
   "cell_type": "code",
   "execution_count": 106,
   "id": "2a618a08",
   "metadata": {},
   "outputs": [
    {
     "data": {
      "text/latex": [
       "$\\displaystyle - 2 x \\sin{\\left(x \\right)} + 2 \\cos{\\left(x \\right)}$"
      ],
      "text/plain": [
       "-2*x*sin(x) + 2*cos(x)"
      ]
     },
     "execution_count": 106,
     "metadata": {},
     "output_type": "execute_result"
    }
   ],
   "source": [
    "dF = diff(F(x))  #does the same thing in less code\n",
    "dF"
   ]
  },
  {
   "cell_type": "code",
   "execution_count": 108,
   "id": "f5d91566",
   "metadata": {},
   "outputs": [
    {
     "data": {
      "text/html": [
       "<img src=\"https://i.imgur.com/DV4ROWu.png\"/>"
      ],
      "text/plain": [
       "<IPython.core.display.Image object>"
      ]
     },
     "execution_count": 108,
     "metadata": {},
     "output_type": "execute_result"
    }
   ],
   "source": [
    "# now that we have both variables we need  (x0,y0) and dF\n",
    "# we can move on\n",
    "Image(url= \"https://i.imgur.com/DV4ROWu.png\")"
   ]
  },
  {
   "cell_type": "code",
   "execution_count": 110,
   "id": "9523c297",
   "metadata": {},
   "outputs": [
    {
     "data": {
      "text/latex": [
       "$\\displaystyle \\left(x - \\pi\\right) \\left(- 2 x \\sin{\\left(x \\right)} + 2 \\cos{\\left(x \\right)}\\right) - 2 \\pi$"
      ],
      "text/plain": [
       "(x - pi)*(-2*x*sin(x) + 2*cos(x)) - 2*pi"
      ]
     },
     "execution_count": 110,
     "metadata": {},
     "output_type": "execute_result"
    }
   ],
   "source": [
    "#now we insert dF into point slope form with x0,y0\n",
    "EofT = y0 + dF*(x - x0)\n",
    "EofT"
   ]
  },
  {
   "cell_type": "code",
   "execution_count": 124,
   "id": "606f4bbd",
   "metadata": {},
   "outputs": [
    {
     "data": {
      "text/latex": [
       "$\\displaystyle - 2 \\left(x - \\pi\\right) \\left(x \\sin{\\left(x \\right)} - \\cos{\\left(x \\right)}\\right) - 2 \\pi$"
      ],
      "text/plain": [
       "-2*(x - pi)*(x*sin(x) - cos(x)) - 2*pi"
      ]
     },
     "execution_count": 124,
     "metadata": {},
     "output_type": "execute_result"
    }
   ],
   "source": [
    "simplify(EofT)   # simplify does some magic here and gives us our first correct answer m = -2"
   ]
  },
  {
   "cell_type": "code",
   "execution_count": 133,
   "id": "ff3d463b",
   "metadata": {},
   "outputs": [],
   "source": [
    "simplify??"
   ]
  },
  {
   "cell_type": "code",
   "execution_count": 149,
   "id": "8c8942a4",
   "metadata": {},
   "outputs": [
    {
     "data": {
      "text/latex": [
       "$\\displaystyle - 2 x \\sin{\\left(x \\right)} + 2 \\cos{\\left(x \\right)}$"
      ],
      "text/plain": [
       "-2*x*sin(x) + 2*cos(x)"
      ]
     },
     "execution_count": 149,
     "metadata": {},
     "output_type": "execute_result"
    }
   ],
   "source": [
    "# from here it is just trial and error trying to find a sympy function that gives us b\n",
    "# finding where we made the error proves to be difficult here. \n",
    "# is handwriting this better here?\n",
    "# gut tells me b solution is simple since somehow we found m.\n",
    "# maybe we have dF correct but made some error when doing point slope form?\n",
    "#now we insert dF into point slope form with x0,y0\n",
    "#EofT2 = y0 + dF*(x - x0)\n",
    "#EofT2\n",
    "#\n",
    "dF = diff(F(x))  #does the same thing in less code\n",
    "dF\n",
    "# correct answer found by guessing 0, looking here at the original dF, it kind of looked like a point-slope for"
   ]
  },
  {
   "cell_type": "code",
   "execution_count": 150,
   "id": "f2acb1b3",
   "metadata": {},
   "outputs": [
    {
     "data": {
      "text/html": [
       "<img src=\"https://i.imgur.com/57Du8iT.png\"/>"
      ],
      "text/plain": [
       "<IPython.core.display.Image object>"
      ]
     },
     "execution_count": 150,
     "metadata": {},
     "output_type": "execute_result"
    }
   ],
   "source": [
    "Image(url= \"https://i.imgur.com/57Du8iT.png\")"
   ]
  },
  {
   "cell_type": "code",
   "execution_count": null,
   "id": "80368fd9",
   "metadata": {},
   "outputs": [],
   "source": []
  }
 ],
 "metadata": {
  "kernelspec": {
   "display_name": "Python 3 (ipykernel)",
   "language": "python",
   "name": "python3"
  },
  "language_info": {
   "codemirror_mode": {
    "name": "ipython",
    "version": 3
   },
   "file_extension": ".py",
   "mimetype": "text/x-python",
   "name": "python",
   "nbconvert_exporter": "python",
   "pygments_lexer": "ipython3",
   "version": "3.9.6"
  }
 },
 "nbformat": 4,
 "nbformat_minor": 5
}
