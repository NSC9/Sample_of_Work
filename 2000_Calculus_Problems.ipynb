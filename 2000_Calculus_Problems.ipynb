{
 "cells": [
  {
   "cell_type": "markdown",
   "id": "0625835f",
   "metadata": {},
   "source": [
    "Credits to https://people.math.harvard.edu/~knill/teaching/math1a_2011/handouts/46-ai.pdf\n",
    "\n",
    "Notebook by github.com/nsc9\n"
   ]
  },
  {
   "cell_type": "code",
   "execution_count": 1,
   "id": "9aef0f0e",
   "metadata": {},
   "outputs": [],
   "source": [
    "# Thanks to @smichr for .replace suggestion https://stackoverflow.com/a/73000728/17291132 \n",
    "from sympy import sqrt,sin,cos,log,exp,tan,Function,Derivative,Eq,Pow,S,sympify,Integral,plot,cbrt,Limit\n",
    "from sympy.abc import x\n",
    "import random\n",
    "f = Function('f')\n",
    "g = Function('g')"
   ]
  },
  {
   "cell_type": "code",
   "execution_count": 2,
   "id": "108761f9",
   "metadata": {},
   "outputs": [],
   "source": [
    "def random_math(x): \n",
    "    def power_function(x):\n",
    "        return x**(random.randrange(-4,6,1))\n",
    "    def scalar_function(x):\n",
    "        allowed_values = list(range(-4, 3))\n",
    "        allowed_values.remove(0)\n",
    "        random_value = random.choice(allowed_values)  \n",
    "        return x*(random_value)\n",
    "    def addSUBTR_function(x):\n",
    "        return x+(random.randrange(-5,5,1))\n",
    "    def rational_function(x):\n",
    "        return power_function(x) +scalar_function(x) + addSUBTR_function(x)\n",
    "    funs = [sqrt,cbrt,sin,cos,log,exp,tan,power_function,\n",
    "            scalar_function,addSUBTR_function,rational_function]      \n",
    "    operations = [f(g(x)),f(x)+g(x),f(x)/g(x),f(x)-g(x)]\n",
    "    operation = operations[random.randrange(0,len(operations))]\n",
    "    return [[operation.replace(f, i) for i in funs][random.randrange(0,len(funs))].replace(g, i) for i in funs]\\\n",
    "[random.randrange(0,len(funs))]"
   ]
  },
  {
   "cell_type": "code",
   "execution_count": null,
   "id": "953fc230",
   "metadata": {
    "scrolled": false
   },
   "outputs": [
    {
     "data": {
      "text/latex": [
       "$\\displaystyle \\frac{d}{d x} \\left(2 x + \\log{\\left(x \\right)}\\right) = 2 + \\frac{1}{x}$"
      ],
      "text/plain": [
       "Eq(Derivative(2*x + log(x), x), 2 + 1/x)"
      ]
     },
     "metadata": {},
     "output_type": "display_data"
    },
    {
     "data": {
      "text/latex": [
       "$\\displaystyle \\int \\left(- x - 3 + \\frac{1}{x^{3}}\\right)\\, dx = - \\frac{x^{2}}{2} - 3 x - \\frac{1}{2 x^{2}}$"
      ],
      "text/plain": [
       "Eq(Integral(-x - 3 + x**(-3), x), -x**2/2 - 3*x - 1/(2*x**2))"
      ]
     },
     "metadata": {},
     "output_type": "display_data"
    },
    {
     "data": {
      "text/latex": [
       "$\\displaystyle \\frac{d}{d x} \\left(- \\sqrt[3]{x} + \\sqrt{x}\\right) = \\frac{1}{2 \\sqrt{x}} - \\frac{1}{3 x^{\\frac{2}{3}}}$"
      ],
      "text/plain": [
       "Eq(Derivative(-x**(1/3) + sqrt(x), x), 1/(2*sqrt(x)) - 1/(3*x**(2/3)))"
      ]
     },
     "metadata": {},
     "output_type": "display_data"
    },
    {
     "data": {
      "text/latex": [
       "$\\displaystyle \\int \\sqrt{2 x + 1}\\, dx = \\frac{\\left(2 x + 1\\right)^{\\frac{3}{2}}}{3}$"
      ],
      "text/plain": [
       "Eq(Integral(sqrt(2*x + 1), x), (2*x + 1)**(3/2)/3)"
      ]
     },
     "metadata": {},
     "output_type": "display_data"
    },
    {
     "data": {
      "text/latex": [
       "$\\displaystyle \\frac{d}{d x} \\frac{\\sqrt[3]{x}}{3 x + 3} = - \\frac{3 \\sqrt[3]{x}}{\\left(3 x + 3\\right)^{2}} + \\frac{1}{3 x^{\\frac{2}{3}} \\left(3 x + 3\\right)}$"
      ],
      "text/plain": [
       "Eq(Derivative(x**(1/3)/(3*x + 3), x), -3*x**(1/3)/(3*x + 3)**2 + 1/(3*x**(2/3)*(3*x + 3)))"
      ]
     },
     "metadata": {},
     "output_type": "display_data"
    },
    {
     "data": {
      "text/latex": [
       "$\\displaystyle \\int \\frac{x^{3}}{\\tan{\\left(x \\right)}}\\, dx = \\int \\frac{x^{3}}{\\tan{\\left(x \\right)}}\\, dx$"
      ],
      "text/plain": [
       "Eq(Integral(x**3/tan(x), x), Integral(x**3/tan(x), x))"
      ]
     },
     "metadata": {},
     "output_type": "display_data"
    },
    {
     "data": {
      "text/latex": [
       "$\\displaystyle \\frac{d}{d x} \\left(- 4 x\\right) = -4$"
      ],
      "text/plain": [
       "Eq(Derivative(-4*x, x), -4)"
      ]
     },
     "metadata": {},
     "output_type": "display_data"
    },
    {
     "data": {
      "text/latex": [
       "$\\displaystyle \\int x\\, dx = \\frac{x^{2}}{2}$"
      ],
      "text/plain": [
       "Eq(Integral(x, x), x**2/2)"
      ]
     },
     "metadata": {},
     "output_type": "display_data"
    },
    {
     "data": {
      "text/latex": [
       "$\\displaystyle \\frac{d}{d x} \\tan{\\left(\\tan{\\left(x \\right)} \\right)} = \\left(\\tan^{2}{\\left(x \\right)} + 1\\right) \\left(\\tan^{2}{\\left(\\tan{\\left(x \\right)} \\right)} + 1\\right)$"
      ],
      "text/plain": [
       "Eq(Derivative(tan(tan(x)), x), (tan(x)**2 + 1)*(tan(tan(x))**2 + 1))"
      ]
     },
     "metadata": {},
     "output_type": "display_data"
    },
    {
     "data": {
      "text/latex": [
       "$\\displaystyle \\int \\sqrt[3]{\\tan{\\left(x \\right)}}\\, dx = \\int \\sqrt[3]{\\tan{\\left(x \\right)}}\\, dx$"
      ],
      "text/plain": [
       "Eq(Integral(tan(x)**(1/3), x), Integral(tan(x)**(1/3), x))"
      ]
     },
     "metadata": {},
     "output_type": "display_data"
    },
    {
     "data": {
      "text/latex": [
       "$\\displaystyle \\frac{d}{d x} \\left(x^{3} + \\sin{\\left(x \\right)}\\right) = 3 x^{2} + \\cos{\\left(x \\right)}$"
      ],
      "text/plain": [
       "Eq(Derivative(x**3 + sin(x), x), 3*x**2 + cos(x))"
      ]
     },
     "metadata": {},
     "output_type": "display_data"
    },
    {
     "data": {
      "text/latex": [
       "$\\displaystyle \\int e^{e^{x}}\\, dx = \\operatorname{Ei}{\\left(e^{x} \\right)}$"
      ],
      "text/plain": [
       "Eq(Integral(exp(exp(x)), x), Ei(exp(x)))"
      ]
     },
     "metadata": {},
     "output_type": "display_data"
    },
    {
     "data": {
      "text/latex": [
       "$\\displaystyle \\frac{d}{d x} \\frac{x^{4}}{\\log{\\left(x \\right)}} = \\frac{4 x^{3}}{\\log{\\left(x \\right)}} - \\frac{x^{3}}{\\log{\\left(x \\right)}^{2}}$"
      ],
      "text/plain": [
       "Eq(Derivative(x**4/log(x), x), 4*x**3/log(x) - x**3/log(x)**2)"
      ]
     },
     "metadata": {},
     "output_type": "display_data"
    },
    {
     "data": {
      "text/latex": [
       "$\\displaystyle \\int \\left(x + \\frac{1}{x^{4}}\\right)\\, dx = \\frac{x^{2}}{2} - \\frac{1}{3 x^{3}}$"
      ],
      "text/plain": [
       "Eq(Integral(x + x**(-4), x), x**2/2 - 1/(3*x**3))"
      ]
     },
     "metadata": {},
     "output_type": "display_data"
    },
    {
     "data": {
      "text/latex": [
       "$\\displaystyle \\frac{d}{d x} \\frac{1}{\\sqrt{x}} = - \\frac{1}{2 x^{\\frac{3}{2}}}$"
      ],
      "text/plain": [
       "Eq(Derivative(1/sqrt(x), x), -1/(2*x**(3/2)))"
      ]
     },
     "metadata": {},
     "output_type": "display_data"
    },
    {
     "data": {
      "text/latex": [
       "$\\displaystyle \\int \\left(e^{x} + \\log{\\left(x \\right)}\\right)\\, dx = x \\log{\\left(x \\right)} - x + e^{x}$"
      ],
      "text/plain": [
       "Eq(Integral(exp(x) + log(x), x), x*log(x) - x + exp(x))"
      ]
     },
     "metadata": {},
     "output_type": "display_data"
    },
    {
     "data": {
      "text/latex": [
       "$\\displaystyle \\frac{d}{d x} \\left(\\sqrt{x} + \\sin{\\left(x \\right)}\\right) = \\cos{\\left(x \\right)} + \\frac{1}{2 \\sqrt{x}}$"
      ],
      "text/plain": [
       "Eq(Derivative(sqrt(x) + sin(x), x), cos(x) + 1/(2*sqrt(x)))"
      ]
     },
     "metadata": {},
     "output_type": "display_data"
    },
    {
     "data": {
      "text/latex": [
       "$\\displaystyle \\int \\left(- 3 x\\right)\\, dx = - \\frac{3 x^{2}}{2}$"
      ],
      "text/plain": [
       "Eq(Integral(-3*x, x), -3*x**2/2)"
      ]
     },
     "metadata": {},
     "output_type": "display_data"
    },
    {
     "data": {
      "text/latex": [
       "$\\displaystyle \\frac{d}{d x} \\left(x^{3} + 3 x + \\sin{\\left(x \\right)} - 4\\right) = 3 x^{2} + \\cos{\\left(x \\right)} + 3$"
      ],
      "text/plain": [
       "Eq(Derivative(x**3 + 3*x + sin(x) - 4, x), 3*x**2 + cos(x) + 3)"
      ]
     },
     "metadata": {},
     "output_type": "display_data"
    },
    {
     "data": {
      "text/latex": [
       "$\\displaystyle \\int \\left(\\sqrt{x} - 3 x + 4 + \\frac{1}{x^{3}}\\right)\\, dx = \\frac{2 x^{\\frac{3}{2}}}{3} - \\frac{3 x^{2}}{2} + 4 x - \\frac{1}{2 x^{2}}$"
      ],
      "text/plain": [
       "Eq(Integral(sqrt(x) - 3*x + 4 + x**(-3), x), 2*x**(3/2)/3 - 3*x**2/2 + 4*x - 1/(2*x**2))"
      ]
     },
     "metadata": {},
     "output_type": "display_data"
    },
    {
     "data": {
      "text/latex": [
       "$\\displaystyle \\frac{d}{d x} \\left(x + \\cos{\\left(x \\right)} + 1\\right) = 1 - \\sin{\\left(x \\right)}$"
      ],
      "text/plain": [
       "Eq(Derivative(x + cos(x) + 1, x), 1 - sin(x))"
      ]
     },
     "metadata": {},
     "output_type": "display_data"
    },
    {
     "data": {
      "text/latex": [
       "$\\displaystyle \\int \\frac{\\tan{\\left(x \\right)}}{\\cos{\\left(x \\right)}}\\, dx = \\frac{1}{\\cos{\\left(x \\right)}}$"
      ],
      "text/plain": [
       "Eq(Integral(tan(x)/cos(x), x), 1/cos(x))"
      ]
     },
     "metadata": {},
     "output_type": "display_data"
    },
    {
     "data": {
      "text/latex": [
       "$\\displaystyle \\frac{d}{d x} \\left(\\sqrt[3]{x} + \\cos{\\left(x \\right)}\\right) = - \\sin{\\left(x \\right)} + \\frac{1}{3 x^{\\frac{2}{3}}}$"
      ],
      "text/plain": [
       "Eq(Derivative(x**(1/3) + cos(x), x), -sin(x) + 1/(3*x**(2/3)))"
      ]
     },
     "metadata": {},
     "output_type": "display_data"
    },
    {
     "data": {
      "text/latex": [
       "$\\displaystyle \\int \\left(x + 4\\right)\\, dx = \\frac{x^{2}}{2} + 4 x$"
      ],
      "text/plain": [
       "Eq(Integral(x + 4, x), x**2/2 + 4*x)"
      ]
     },
     "metadata": {},
     "output_type": "display_data"
    },
    {
     "data": {
      "text/latex": [
       "$\\displaystyle \\frac{d}{d x} \\sqrt{\\cos{\\left(x \\right)}} = - \\frac{\\sin{\\left(x \\right)}}{2 \\sqrt{\\cos{\\left(x \\right)}}}$"
      ],
      "text/plain": [
       "Eq(Derivative(sqrt(cos(x)), x), -sin(x)/(2*sqrt(cos(x))))"
      ]
     },
     "metadata": {},
     "output_type": "display_data"
    },
    {
     "data": {
      "text/latex": [
       "$\\displaystyle \\int e^{- x} \\tan{\\left(x \\right)}\\, dx = \\int e^{- x} \\tan{\\left(x \\right)}\\, dx$"
      ],
      "text/plain": [
       "Eq(Integral(exp(-x)*tan(x), x), Integral(exp(-x)*tan(x), x))"
      ]
     },
     "metadata": {},
     "output_type": "display_data"
    },
    {
     "data": {
      "text/latex": [
       "$\\displaystyle \\frac{d}{d x} \\sin^{4}{\\left(x \\right)} = 4 \\sin^{3}{\\left(x \\right)} \\cos{\\left(x \\right)}$"
      ],
      "text/plain": [
       "Eq(Derivative(sin(x)**4, x), 4*sin(x)**3*cos(x))"
      ]
     },
     "metadata": {},
     "output_type": "display_data"
    },
    {
     "data": {
      "text/latex": [
       "$\\displaystyle \\int \\left(- \\tan{\\left(x \\right)} + \\frac{1}{x^{4}}\\right)\\, dx = \\log{\\left(\\cos{\\left(x \\right)} \\right)} - \\frac{1}{3 x^{3}}$"
      ],
      "text/plain": [
       "Eq(Integral(-tan(x) + x**(-4), x), log(cos(x)) - 1/(3*x**3))"
      ]
     },
     "metadata": {},
     "output_type": "display_data"
    },
    {
     "data": {
      "text/latex": [
       "$\\displaystyle \\frac{d}{d x} \\frac{e^{- x}}{x^{2}} = - \\frac{e^{- x}}{x^{2}} - \\frac{2 e^{- x}}{x^{3}}$"
      ],
      "text/plain": [
       "Eq(Derivative(exp(-x)/x**2, x), -exp(-x)/x**2 - 2*exp(-x)/x**3)"
      ]
     },
     "metadata": {},
     "output_type": "display_data"
    },
    {
     "data": {
      "text/latex": [
       "$\\displaystyle \\int \\left(- 4 x + \\tan{\\left(x \\right)}\\right)\\, dx = - 2 x^{2} - \\log{\\left(\\cos{\\left(x \\right)} \\right)}$"
      ],
      "text/plain": [
       "Eq(Integral(-4*x + tan(x), x), -2*x**2 - log(cos(x)))"
      ]
     },
     "metadata": {},
     "output_type": "display_data"
    },
    {
     "data": {
      "text/latex": [
       "$\\displaystyle \\frac{d}{d x} \\left(e^{x} + \\tan{\\left(x \\right)}\\right) = e^{x} + \\tan^{2}{\\left(x \\right)} + 1$"
      ],
      "text/plain": [
       "Eq(Derivative(exp(x) + tan(x), x), exp(x) + tan(x)**2 + 1)"
      ]
     },
     "metadata": {},
     "output_type": "display_data"
    },
    {
     "data": {
      "text/latex": [
       "$\\displaystyle \\int \\left(- \\sqrt{x} - 4 x\\right)\\, dx = - \\frac{2 x^{\\frac{3}{2}}}{3} - 2 x^{2}$"
      ],
      "text/plain": [
       "Eq(Integral(-sqrt(x) - 4*x, x), -2*x**(3/2)/3 - 2*x**2)"
      ]
     },
     "metadata": {},
     "output_type": "display_data"
    },
    {
     "data": {
      "text/latex": [
       "$\\displaystyle \\frac{d}{d x} 2 \\cos{\\left(x \\right)} = - 2 \\sin{\\left(x \\right)}$"
      ],
      "text/plain": [
       "Eq(Derivative(2*cos(x), x), -2*sin(x))"
      ]
     },
     "metadata": {},
     "output_type": "display_data"
    },
    {
     "data": {
      "text/latex": [
       "$\\displaystyle \\int \\left(- x^{4} + 3 x + \\tan{\\left(x \\right)} + 1\\right)\\, dx = - \\frac{x^{5}}{5} + \\frac{3 x^{2}}{2} + x - \\log{\\left(\\cos{\\left(x \\right)} \\right)}$"
      ],
      "text/plain": [
       "Eq(Integral(-x**4 + 3*x + tan(x) + 1, x), -x**5/5 + 3*x**2/2 + x - log(cos(x)))"
      ]
     },
     "metadata": {},
     "output_type": "display_data"
    },
    {
     "data": {
      "text/latex": [
       "$\\displaystyle \\frac{d}{d x} \\left(\\sqrt{x} + 1\\right) = \\frac{1}{2 \\sqrt{x}}$"
      ],
      "text/plain": [
       "Eq(Derivative(sqrt(x) + 1, x), 1/(2*sqrt(x)))"
      ]
     },
     "metadata": {},
     "output_type": "display_data"
    },
    {
     "data": {
      "text/latex": [
       "$\\displaystyle \\int \\left(\\sqrt{x} + \\sin{\\left(x \\right)}\\right)\\, dx = \\frac{2 x^{\\frac{3}{2}}}{3} - \\cos{\\left(x \\right)}$"
      ],
      "text/plain": [
       "Eq(Integral(sqrt(x) + sin(x), x), 2*x**(3/2)/3 - cos(x))"
      ]
     },
     "metadata": {},
     "output_type": "display_data"
    },
    {
     "data": {
      "text/latex": [
       "$\\displaystyle \\frac{d}{d x} 2 \\cos{\\left(x \\right)} = - 2 \\sin{\\left(x \\right)}$"
      ],
      "text/plain": [
       "Eq(Derivative(2*cos(x), x), -2*sin(x))"
      ]
     },
     "metadata": {},
     "output_type": "display_data"
    },
    {
     "data": {
      "text/latex": [
       "$\\displaystyle \\int \\left(\\cos^{5}{\\left(x \\right)} - 3\\right)\\, dx = - 3 x + \\frac{\\sin^{5}{\\left(x \\right)}}{5} - \\frac{2 \\sin^{3}{\\left(x \\right)}}{3} + \\sin{\\left(x \\right)}$"
      ],
      "text/plain": [
       "Eq(Integral(cos(x)**5 - 3, x), -3*x + sin(x)**5/5 - 2*sin(x)**3/3 + sin(x))"
      ]
     },
     "metadata": {},
     "output_type": "display_data"
    },
    {
     "data": {
      "text/latex": [
       "$\\displaystyle \\frac{d}{d x} \\frac{\\cos{\\left(x \\right)}}{\\sqrt[3]{x}} = - \\frac{\\sin{\\left(x \\right)}}{\\sqrt[3]{x}} - \\frac{\\cos{\\left(x \\right)}}{3 x^{\\frac{4}{3}}}$"
      ],
      "text/plain": [
       "Eq(Derivative(cos(x)/x**(1/3), x), -sin(x)/x**(1/3) - cos(x)/(3*x**(4/3)))"
      ]
     },
     "metadata": {},
     "output_type": "display_data"
    },
    {
     "data": {
      "text/latex": [
       "$\\displaystyle \\int \\frac{x + 1}{\\sqrt[3]{x}}\\, dx = \\begin{cases} \\frac{3 x^{\\frac{2}{3}} \\left(x + 1\\right)}{5} + \\frac{9 x^{\\frac{2}{3}}}{10} & \\text{for}\\: \\left|{x + 1}\\right| > 1 \\\\- \\frac{3 \\left(- x\\right)^{\\frac{2}{3}} \\left(x + 1\\right) e^{- \\frac{i \\pi}{3}}}{5} - \\frac{9 \\left(- x\\right)^{\\frac{2}{3}} e^{- \\frac{i \\pi}{3}}}{10} & \\text{otherwise} \\end{cases}$"
      ],
      "text/plain": [
       "Eq(Integral((x + 1)/x**(1/3), x), Piecewise((3*x**(2/3)*(x + 1)/5 + 9*x**(2/3)/10, Abs(x + 1) > 1), (-3*(-x)**(2/3)*(x + 1)*exp(-I*pi/3)/5 - 9*(-x)**(2/3)*exp(-I*pi/3)/10, True)))"
      ]
     },
     "metadata": {},
     "output_type": "display_data"
    },
    {
     "data": {
      "text/latex": [
       "$\\displaystyle \\frac{d}{d x} \\left(x^{4} + \\sin{\\left(x \\right)}\\right) = 4 x^{3} + \\cos{\\left(x \\right)}$"
      ],
      "text/plain": [
       "Eq(Derivative(x**4 + sin(x), x), 4*x**3 + cos(x))"
      ]
     },
     "metadata": {},
     "output_type": "display_data"
    },
    {
     "data": {
      "text/latex": [
       "$\\displaystyle \\int \\left(x - 5\\right)\\, dx = \\frac{x^{2}}{2} - 5 x$"
      ],
      "text/plain": [
       "Eq(Integral(x - 5, x), x**2/2 - 5*x)"
      ]
     },
     "metadata": {},
     "output_type": "display_data"
    },
    {
     "data": {
      "text/latex": [
       "$\\displaystyle \\frac{d}{d x} \\left(x - e^{x} - 4\\right) = 1 - e^{x}$"
      ],
      "text/plain": [
       "Eq(Derivative(x - exp(x) - 4, x), 1 - exp(x))"
      ]
     },
     "metadata": {},
     "output_type": "display_data"
    },
    {
     "data": {
      "text/latex": [
       "$\\displaystyle \\int \\frac{e^{x}}{3 x + \\frac{1}{x^{2}}}\\, dx = \\int \\frac{x^{2} e^{x}}{3 x^{3} + 1}\\, dx$"
      ],
      "text/plain": [
       "Eq(Integral(exp(x)/(3*x + x**(-2)), x), Integral(x**2*exp(x)/(3*x**3 + 1), x))"
      ]
     },
     "metadata": {},
     "output_type": "display_data"
    },
    {
     "data": {
      "text/latex": [
       "$\\displaystyle \\frac{d}{d x} \\log{\\left(\\sqrt[3]{x} \\right)} = \\frac{1}{3 x}$"
      ],
      "text/plain": [
       "Eq(Derivative(log(x**(1/3)), x), 1/(3*x))"
      ]
     },
     "metadata": {},
     "output_type": "display_data"
    },
    {
     "data": {
      "text/latex": [
       "$\\displaystyle \\int \\left(- 2 x + \\sin{\\left(x \\right)} - 4\\right)\\, dx = - x^{2} - 4 x - \\cos{\\left(x \\right)}$"
      ],
      "text/plain": [
       "Eq(Integral(-2*x + sin(x) - 4, x), -x**2 - 4*x - cos(x))"
      ]
     },
     "metadata": {},
     "output_type": "display_data"
    },
    {
     "data": {
      "text/latex": [
       "$\\displaystyle \\frac{d}{d x} \\left(\\tan^{2}{\\left(x \\right)} - 2 \\tan{\\left(x \\right)} - 4\\right) = \\left(2 \\tan^{2}{\\left(x \\right)} + 2\\right) \\tan{\\left(x \\right)} - 2 \\tan^{2}{\\left(x \\right)} - 2$"
      ],
      "text/plain": [
       "Eq(Derivative(tan(x)**2 - 2*tan(x) - 4, x), (2*tan(x)**2 + 2)*tan(x) - 2*tan(x)**2 - 2)"
      ]
     },
     "metadata": {},
     "output_type": "display_data"
    },
    {
     "data": {
      "text/latex": [
       "$\\displaystyle \\int \\sin{\\left(\\tan{\\left(x \\right)} \\right)}\\, dx = \\int \\sin{\\left(\\tan{\\left(x \\right)} \\right)}\\, dx$"
      ],
      "text/plain": [
       "Eq(Integral(sin(tan(x)), x), Integral(sin(tan(x)), x))"
      ]
     },
     "metadata": {},
     "output_type": "display_data"
    },
    {
     "data": {
      "text/latex": [
       "$\\displaystyle \\frac{d}{d x} \\left(\\sqrt[3]{x} - x\\right) = -1 + \\frac{1}{3 x^{\\frac{2}{3}}}$"
      ],
      "text/plain": [
       "Eq(Derivative(x**(1/3) - x, x), -1 + 1/(3*x**(2/3)))"
      ]
     },
     "metadata": {},
     "output_type": "display_data"
    },
    {
     "data": {
      "text/latex": [
       "$\\displaystyle \\int \\left(- 3 \\sin{\\left(x \\right)}\\right)\\, dx = 3 \\cos{\\left(x \\right)}$"
      ],
      "text/plain": [
       "Eq(Integral(-3*sin(x), x), 3*cos(x))"
      ]
     },
     "metadata": {},
     "output_type": "display_data"
    },
    {
     "data": {
      "text/latex": [
       "$\\displaystyle \\frac{d}{d x} \\frac{x - 1}{\\cos{\\left(x \\right)}} = \\frac{\\left(x - 1\\right) \\sin{\\left(x \\right)}}{\\cos^{2}{\\left(x \\right)}} + \\frac{1}{\\cos{\\left(x \\right)}}$"
      ],
      "text/plain": [
       "Eq(Derivative((x - 1)/cos(x), x), (x - 1)*sin(x)/cos(x)**2 + 1/cos(x))"
      ]
     },
     "metadata": {},
     "output_type": "display_data"
    },
    {
     "data": {
      "text/latex": [
       "$\\displaystyle \\int \\left(\\cos{\\left(x \\right)} + \\tan{\\left(x \\right)}\\right)\\, dx = - \\log{\\left(\\cos{\\left(x \\right)} \\right)} + \\sin{\\left(x \\right)}$"
      ],
      "text/plain": [
       "Eq(Integral(cos(x) + tan(x), x), -log(cos(x)) + sin(x))"
      ]
     },
     "metadata": {},
     "output_type": "display_data"
    },
    {
     "data": {
      "text/latex": [
       "$\\displaystyle \\frac{d}{d x} \\frac{\\tan{\\left(x \\right)}}{x} = \\frac{\\tan^{2}{\\left(x \\right)} + 1}{x} - \\frac{\\tan{\\left(x \\right)}}{x^{2}}$"
      ],
      "text/plain": [
       "Eq(Derivative(tan(x)/x, x), (tan(x)**2 + 1)/x - tan(x)/x**2)"
      ]
     },
     "metadata": {},
     "output_type": "display_data"
    },
    {
     "data": {
      "text/latex": [
       "$\\displaystyle \\int \\left(- \\sqrt[3]{x} + \\sqrt{x}\\right)\\, dx = - \\frac{3 x^{\\frac{4}{3}}}{4} + \\frac{2 x^{\\frac{3}{2}}}{3}$"
      ],
      "text/plain": [
       "Eq(Integral(-x**(1/3) + sqrt(x), x), -3*x**(4/3)/4 + 2*x**(3/2)/3)"
      ]
     },
     "metadata": {},
     "output_type": "display_data"
    },
    {
     "data": {
      "text/latex": [
       "$\\displaystyle \\frac{d}{d x} \\frac{1}{\\sqrt[6]{x}} = - \\frac{1}{6 x^{\\frac{7}{6}}}$"
      ],
      "text/plain": [
       "Eq(Derivative(x**(-1/6), x), -1/(6*x**(7/6)))"
      ]
     },
     "metadata": {},
     "output_type": "display_data"
    },
    {
     "data": {
      "text/latex": [
       "$\\displaystyle \\int \\left(\\sqrt{x} - \\sin{\\left(x \\right)}\\right)\\, dx = \\frac{2 x^{\\frac{3}{2}}}{3} + \\cos{\\left(x \\right)}$"
      ],
      "text/plain": [
       "Eq(Integral(sqrt(x) - sin(x), x), 2*x**(3/2)/3 + cos(x))"
      ]
     },
     "metadata": {},
     "output_type": "display_data"
    },
    {
     "data": {
      "text/latex": [
       "$\\displaystyle \\frac{d}{d x} \\log{\\left(2 x - 2 \\right)} = \\frac{2}{2 x - 2}$"
      ],
      "text/plain": [
       "Eq(Derivative(log(2*x - 2), x), 2/(2*x - 2))"
      ]
     },
     "metadata": {},
     "output_type": "display_data"
    },
    {
     "data": {
      "text/latex": [
       "$\\displaystyle \\int \\left(- \\log{\\left(x \\right)} + \\tan{\\left(x \\right)}\\right)\\, dx = - x \\log{\\left(x \\right)} + x - \\log{\\left(\\cos{\\left(x \\right)} \\right)}$"
      ],
      "text/plain": [
       "Eq(Integral(-log(x) + tan(x), x), -x*log(x) + x - log(cos(x)))"
      ]
     },
     "metadata": {},
     "output_type": "display_data"
    },
    {
     "data": {
      "text/latex": [
       "$\\displaystyle \\frac{d}{d x} \\sin{\\left(\\sqrt{x} \\right)} = \\frac{\\cos{\\left(\\sqrt{x} \\right)}}{2 \\sqrt{x}}$"
      ],
      "text/plain": [
       "Eq(Derivative(sin(sqrt(x)), x), cos(sqrt(x))/(2*sqrt(x)))"
      ]
     },
     "metadata": {},
     "output_type": "display_data"
    },
    {
     "data": {
      "text/latex": [
       "$\\displaystyle \\int \\left(\\sqrt[3]{x} + \\frac{1}{x}\\right)\\, dx = \\frac{3 x^{\\frac{4}{3}}}{4} + \\log{\\left(x \\right)}$"
      ],
      "text/plain": [
       "Eq(Integral(x**(1/3) + 1/x, x), 3*x**(4/3)/4 + log(x))"
      ]
     },
     "metadata": {},
     "output_type": "display_data"
    },
    {
     "data": {
      "text/latex": [
       "$\\displaystyle \\frac{d}{d x} e^{- x} \\cos{\\left(x \\right)} = - e^{- x} \\sin{\\left(x \\right)} - e^{- x} \\cos{\\left(x \\right)}$"
      ],
      "text/plain": [
       "Eq(Derivative(exp(-x)*cos(x), x), -exp(-x)*sin(x) - exp(-x)*cos(x))"
      ]
     },
     "metadata": {},
     "output_type": "display_data"
    },
    {
     "data": {
      "text/latex": [
       "$\\displaystyle \\int \\left(\\sin{\\left(x \\right)} + \\cos{\\left(x \\right)}\\right)\\, dx = \\sin{\\left(x \\right)} - \\cos{\\left(x \\right)}$"
      ],
      "text/plain": [
       "Eq(Integral(sin(x) + cos(x), x), sin(x) - cos(x))"
      ]
     },
     "metadata": {},
     "output_type": "display_data"
    },
    {
     "data": {
      "text/latex": [
       "$\\displaystyle \\frac{d}{d x} \\sqrt[6]{x} = \\frac{1}{6 x^{\\frac{5}{6}}}$"
      ],
      "text/plain": [
       "Eq(Derivative(x**(1/6), x), 1/(6*x**(5/6)))"
      ]
     },
     "metadata": {},
     "output_type": "display_data"
    },
    {
     "data": {
      "text/latex": [
       "$\\displaystyle \\int \\left(x^{4} - 3 x + \\sin{\\left(x \\right)} - 3\\right)\\, dx = \\frac{x^{5}}{5} - \\frac{3 x^{2}}{2} - 3 x - \\cos{\\left(x \\right)}$"
      ],
      "text/plain": [
       "Eq(Integral(x**4 - 3*x + sin(x) - 3, x), x**5/5 - 3*x**2/2 - 3*x - cos(x))"
      ]
     },
     "metadata": {},
     "output_type": "display_data"
    },
    {
     "data": {
      "text/latex": [
       "$\\displaystyle \\frac{d}{d x} \\left(e^{x} + \\sin{\\left(x \\right)}\\right) = e^{x} + \\cos{\\left(x \\right)}$"
      ],
      "text/plain": [
       "Eq(Derivative(exp(x) + sin(x), x), exp(x) + cos(x))"
      ]
     },
     "metadata": {},
     "output_type": "display_data"
    },
    {
     "data": {
      "text/latex": [
       "$\\displaystyle \\int \\left(- x + \\sin{\\left(x \\right)}\\right)\\, dx = - \\frac{x^{2}}{2} - \\cos{\\left(x \\right)}$"
      ],
      "text/plain": [
       "Eq(Integral(-x + sin(x), x), -x**2/2 - cos(x))"
      ]
     },
     "metadata": {},
     "output_type": "display_data"
    },
    {
     "data": {
      "text/latex": [
       "$\\displaystyle \\frac{d}{d x} \\left(\\log{\\left(x \\right)} + \\sin{\\left(x \\right)}\\right) = \\cos{\\left(x \\right)} + \\frac{1}{x}$"
      ],
      "text/plain": [
       "Eq(Derivative(log(x) + sin(x), x), cos(x) + 1/x)"
      ]
     },
     "metadata": {},
     "output_type": "display_data"
    },
    {
     "data": {
      "text/latex": [
       "$\\displaystyle \\int \\frac{\\sin{\\left(x \\right)}}{\\sqrt{x}}\\, dx = \\frac{3 \\sqrt{2} \\sqrt{\\pi} S\\left(\\frac{\\sqrt{2} \\sqrt{x}}{\\sqrt{\\pi}}\\right) \\Gamma\\left(\\frac{3}{4}\\right)}{4 \\Gamma\\left(\\frac{7}{4}\\right)}$"
      ],
      "text/plain": [
       "Eq(Integral(sin(x)/sqrt(x), x), 3*sqrt(2)*sqrt(pi)*fresnels(sqrt(2)*sqrt(x)/sqrt(pi))*gamma(3/4)/(4*gamma(7/4)))"
      ]
     },
     "metadata": {},
     "output_type": "display_data"
    },
    {
     "data": {
      "text/latex": [
       "$\\displaystyle \\frac{d}{d x} \\frac{\\sin{\\left(x \\right)}}{\\tan{\\left(x \\right)}} = \\frac{\\left(- \\tan^{2}{\\left(x \\right)} - 1\\right) \\sin{\\left(x \\right)}}{\\tan^{2}{\\left(x \\right)}} + \\frac{\\cos{\\left(x \\right)}}{\\tan{\\left(x \\right)}}$"
      ],
      "text/plain": [
       "Eq(Derivative(sin(x)/tan(x), x), (-tan(x)**2 - 1)*sin(x)/tan(x)**2 + cos(x)/tan(x))"
      ]
     },
     "metadata": {},
     "output_type": "display_data"
    },
    {
     "data": {
      "text/latex": [
       "$\\displaystyle \\int \\sqrt{\\cos{\\left(x \\right)}}\\, dx = \\int \\sqrt{\\cos{\\left(x \\right)}}\\, dx$"
      ],
      "text/plain": [
       "Eq(Integral(sqrt(cos(x)), x), Integral(sqrt(cos(x)), x))"
      ]
     },
     "metadata": {},
     "output_type": "display_data"
    },
    {
     "data": {
      "text/latex": [
       "$\\displaystyle \\frac{d}{d x} \\log{\\left(x \\right)} = \\frac{1}{x}$"
      ],
      "text/plain": [
       "Eq(Derivative(log(x), x), 1/x)"
      ]
     },
     "metadata": {},
     "output_type": "display_data"
    },
    {
     "data": {
      "text/latex": [
       "$\\displaystyle \\int \\left(- x + \\tan{\\left(x \\right)}\\right)\\, dx = - \\frac{x^{2}}{2} - \\log{\\left(\\cos{\\left(x \\right)} \\right)}$"
      ],
      "text/plain": [
       "Eq(Integral(-x + tan(x), x), -x**2/2 - log(cos(x)))"
      ]
     },
     "metadata": {},
     "output_type": "display_data"
    },
    {
     "data": {
      "text/latex": [
       "$\\displaystyle \\frac{d}{d x} \\left(- \\log{\\left(x \\right)} + \\sin{\\left(x \\right)}\\right) = \\cos{\\left(x \\right)} - \\frac{1}{x}$"
      ],
      "text/plain": [
       "Eq(Derivative(-log(x) + sin(x), x), cos(x) - 1/x)"
      ]
     },
     "metadata": {},
     "output_type": "display_data"
    },
    {
     "data": {
      "text/latex": [
       "$\\displaystyle \\int \\left(- x + \\frac{1}{x^{4}}\\right)\\, dx = - \\frac{x^{2}}{2} - \\frac{1}{3 x^{3}}$"
      ],
      "text/plain": [
       "Eq(Integral(-x + x**(-4), x), -x**2/2 - 1/(3*x**3))"
      ]
     },
     "metadata": {},
     "output_type": "display_data"
    },
    {
     "data": {
      "text/latex": [
       "$\\displaystyle \\frac{d}{d x} \\left(- \\sqrt[3]{x} + e^{x}\\right) = e^{x} - \\frac{1}{3 x^{\\frac{2}{3}}}$"
      ],
      "text/plain": [
       "Eq(Derivative(-x**(1/3) + exp(x), x), exp(x) - 1/(3*x**(2/3)))"
      ]
     },
     "metadata": {},
     "output_type": "display_data"
    },
    {
     "data": {
      "text/latex": [
       "$\\displaystyle \\int \\frac{\\sqrt[3]{x}}{\\log{\\left(x \\right)}}\\, dx = \\operatorname{Ei}{\\left(\\frac{4 \\log{\\left(x \\right)}}{3} \\right)}$"
      ],
      "text/plain": [
       "Eq(Integral(x**(1/3)/log(x), x), Ei(4*log(x)/3))"
      ]
     },
     "metadata": {},
     "output_type": "display_data"
    },
    {
     "data": {
      "text/latex": [
       "$\\displaystyle \\frac{d}{d x} \\frac{\\sin{\\left(x \\right)}}{\\sqrt{x}} = \\frac{\\cos{\\left(x \\right)}}{\\sqrt{x}} - \\frac{\\sin{\\left(x \\right)}}{2 x^{\\frac{3}{2}}}$"
      ],
      "text/plain": [
       "Eq(Derivative(sin(x)/sqrt(x), x), cos(x)/sqrt(x) - sin(x)/(2*x**(3/2)))"
      ]
     },
     "metadata": {},
     "output_type": "display_data"
    },
    {
     "data": {
      "text/latex": [
       "$\\displaystyle \\int \\left(\\sqrt{x} - x - 3\\right)\\, dx = \\frac{2 x^{\\frac{3}{2}}}{3} - \\frac{x^{2}}{2} - 3 x$"
      ],
      "text/plain": [
       "Eq(Integral(sqrt(x) - x - 3, x), 2*x**(3/2)/3 - x**2/2 - 3*x)"
      ]
     },
     "metadata": {},
     "output_type": "display_data"
    },
    {
     "data": {
      "text/latex": [
       "$\\displaystyle \\frac{d}{d x} \\sin{\\left(\\log{\\left(x \\right)} \\right)} = \\frac{\\cos{\\left(\\log{\\left(x \\right)} \\right)}}{x}$"
      ],
      "text/plain": [
       "Eq(Derivative(sin(log(x)), x), cos(log(x))/x)"
      ]
     },
     "metadata": {},
     "output_type": "display_data"
    },
    {
     "data": {
      "text/latex": [
       "$\\displaystyle \\int \\left(\\log{\\left(x \\right)}^{2} - 3 \\log{\\left(x \\right)} - 1\\right)\\, dx = x \\log{\\left(x \\right)}^{2} - 5 x \\log{\\left(x \\right)} + 4 x$"
      ],
      "text/plain": [
       "Eq(Integral(log(x)**2 - 3*log(x) - 1, x), x*log(x)**2 - 5*x*log(x) + 4*x)"
      ]
     },
     "metadata": {},
     "output_type": "display_data"
    },
    {
     "data": {
      "text/latex": [
       "$\\displaystyle \\frac{d}{d x} 2 \\log{\\left(x \\right)} = \\frac{2}{x}$"
      ],
      "text/plain": [
       "Eq(Derivative(2*log(x), x), 2/x)"
      ]
     },
     "metadata": {},
     "output_type": "display_data"
    },
    {
     "data": {
      "text/latex": [
       "$\\displaystyle \\int \\frac{x^{3} - x - 1}{\\log{\\left(x \\right)}}\\, dx = - \\operatorname{Ei}{\\left(\\log{\\left(x \\right)} \\right)} - \\operatorname{Ei}{\\left(2 \\log{\\left(x \\right)} \\right)} + \\operatorname{Ei}{\\left(4 \\log{\\left(x \\right)} \\right)}$"
      ],
      "text/plain": [
       "Eq(Integral((x**3 - x - 1)/log(x), x), -Ei(log(x)) - Ei(2*log(x)) + Ei(4*log(x)))"
      ]
     },
     "metadata": {},
     "output_type": "display_data"
    },
    {
     "data": {
      "text/latex": [
       "$\\displaystyle \\frac{d}{d x} \\left(- 2 \\sqrt{x}\\right) = - \\frac{1}{\\sqrt{x}}$"
      ],
      "text/plain": [
       "Eq(Derivative(-2*sqrt(x), x), -1/sqrt(x))"
      ]
     },
     "metadata": {},
     "output_type": "display_data"
    },
    {
     "data": {
      "text/latex": [
       "$\\displaystyle \\int \\left(\\sqrt[3]{x} + \\tan{\\left(x \\right)}\\right)\\, dx = \\frac{3 x^{\\frac{4}{3}}}{4} - \\log{\\left(\\cos{\\left(x \\right)} \\right)}$"
      ],
      "text/plain": [
       "Eq(Integral(x**(1/3) + tan(x), x), 3*x**(4/3)/4 - log(cos(x)))"
      ]
     },
     "metadata": {},
     "output_type": "display_data"
    },
    {
     "data": {
      "text/latex": [
       "$\\displaystyle \\frac{d}{d x} \\left(x^{3} - x - e^{x} - 2\\right) = 3 x^{2} - e^{x} - 1$"
      ],
      "text/plain": [
       "Eq(Derivative(x**3 - x - exp(x) - 2, x), 3*x**2 - exp(x) - 1)"
      ]
     },
     "metadata": {},
     "output_type": "display_data"
    },
    {
     "data": {
      "text/latex": [
       "$\\displaystyle \\int \\left(- 2 x + \\tan{\\left(x \\right)}\\right)\\, dx = - x^{2} - \\log{\\left(\\cos{\\left(x \\right)} \\right)}$"
      ],
      "text/plain": [
       "Eq(Integral(-2*x + tan(x), x), -x**2 - log(cos(x)))"
      ]
     },
     "metadata": {},
     "output_type": "display_data"
    },
    {
     "data": {
      "text/latex": [
       "$\\displaystyle \\frac{d}{d x} \\left(\\sqrt{x} - \\cos{\\left(x \\right)}\\right) = \\sin{\\left(x \\right)} + \\frac{1}{2 \\sqrt{x}}$"
      ],
      "text/plain": [
       "Eq(Derivative(sqrt(x) - cos(x), x), sin(x) + 1/(2*sqrt(x)))"
      ]
     },
     "metadata": {},
     "output_type": "display_data"
    },
    {
     "data": {
      "text/latex": [
       "$\\displaystyle \\int \\frac{\\sin{\\left(x \\right)}}{x - 4}\\, dx = \\int \\frac{\\sin{\\left(x \\right)}}{x - 4}\\, dx$"
      ],
      "text/plain": [
       "Eq(Integral(sin(x)/(x - 4), x), Integral(sin(x)/(x - 4), x))"
      ]
     },
     "metadata": {},
     "output_type": "display_data"
    },
    {
     "data": {
      "text/latex": [
       "$\\displaystyle \\frac{d}{d x} \\left(x + \\cos{\\left(x \\right)}\\right) = 1 - \\sin{\\left(x \\right)}$"
      ],
      "text/plain": [
       "Eq(Derivative(x + cos(x), x), 1 - sin(x))"
      ]
     },
     "metadata": {},
     "output_type": "display_data"
    },
    {
     "data": {
      "text/latex": [
       "$\\displaystyle \\int \\left(3 \\tan{\\left(x \\right)} - 2\\right)\\, dx = - 2 x - 3 \\log{\\left(\\cos{\\left(x \\right)} \\right)}$"
      ],
      "text/plain": [
       "Eq(Integral(3*tan(x) - 2, x), -2*x - 3*log(cos(x)))"
      ]
     },
     "metadata": {},
     "output_type": "display_data"
    },
    {
     "data": {
      "text/latex": [
       "$\\displaystyle \\frac{d}{d x} \\left(- \\sqrt[3]{x} + \\tan{\\left(x \\right)}\\right) = \\tan^{2}{\\left(x \\right)} + 1 - \\frac{1}{3 x^{\\frac{2}{3}}}$"
      ],
      "text/plain": [
       "Eq(Derivative(-x**(1/3) + tan(x), x), tan(x)**2 + 1 - 1/(3*x**(2/3)))"
      ]
     },
     "metadata": {},
     "output_type": "display_data"
    },
    {
     "data": {
      "text/latex": [
       "$\\displaystyle \\int \\left(e^{x} - \\log{\\left(x \\right)}\\right)\\, dx = - x \\log{\\left(x \\right)} + x + e^{x}$"
      ],
      "text/plain": [
       "Eq(Integral(exp(x) - log(x), x), -x*log(x) + x + exp(x))"
      ]
     },
     "metadata": {},
     "output_type": "display_data"
    },
    {
     "data": {
      "text/latex": [
       "$\\displaystyle \\frac{d}{d x} 2 e^{x} = 2 e^{x}$"
      ],
      "text/plain": [
       "Eq(Derivative(2*exp(x), x), 2*exp(x))"
      ]
     },
     "metadata": {},
     "output_type": "display_data"
    },
    {
     "data": {
      "text/latex": [
       "$\\displaystyle \\int \\left(x + \\cos{\\left(x \\right)} - 2\\right)\\, dx = \\frac{x^{2}}{2} - 2 x + \\sin{\\left(x \\right)}$"
      ],
      "text/plain": [
       "Eq(Integral(x + cos(x) - 2, x), x**2/2 - 2*x + sin(x))"
      ]
     },
     "metadata": {},
     "output_type": "display_data"
    },
    {
     "data": {
      "text/latex": [
       "$\\displaystyle \\frac{d}{d x} \\left(\\sqrt[3]{x} + x + 1\\right) = 1 + \\frac{1}{3 x^{\\frac{2}{3}}}$"
      ],
      "text/plain": [
       "Eq(Derivative(x**(1/3) + x + 1, x), 1 + 1/(3*x**(2/3)))"
      ]
     },
     "metadata": {},
     "output_type": "display_data"
    },
    {
     "data": {
      "text/latex": [
       "$\\displaystyle \\int \\left(\\sqrt{x} + \\tan{\\left(x \\right)}\\right)\\, dx = \\frac{2 x^{\\frac{3}{2}}}{3} - \\log{\\left(\\cos{\\left(x \\right)} \\right)}$"
      ],
      "text/plain": [
       "Eq(Integral(sqrt(x) + tan(x), x), 2*x**(3/2)/3 - log(cos(x)))"
      ]
     },
     "metadata": {},
     "output_type": "display_data"
    },
    {
     "data": {
      "text/latex": [
       "$\\displaystyle \\frac{d}{d x} \\frac{1}{x^{4} \\left(x^{5} - 3 x + 3\\right)} = \\frac{3 - 5 x^{4}}{x^{4} \\left(x^{5} - 3 x + 3\\right)^{2}} - \\frac{4}{x^{5} \\left(x^{5} - 3 x + 3\\right)}$"
      ],
      "text/plain": [
       "Eq(Derivative(1/(x**4*(x**5 - 3*x + 3)), x), (3 - 5*x**4)/(x**4*(x**5 - 3*x + 3)**2) - 4/(x**5*(x**5 - 3*x + 3)))"
      ]
     },
     "metadata": {},
     "output_type": "display_data"
    },
    {
     "data": {
      "text/latex": [
       "$\\displaystyle \\int \\left(\\sqrt[3]{x} - 4\\right)\\, dx = \\frac{3 x^{\\frac{4}{3}}}{4} - 4 x$"
      ],
      "text/plain": [
       "Eq(Integral(x**(1/3) - 4, x), 3*x**(4/3)/4 - 4*x)"
      ]
     },
     "metadata": {},
     "output_type": "display_data"
    },
    {
     "data": {
      "text/latex": [
       "$\\displaystyle \\frac{d}{d x} \\frac{x + 1}{- x - 2} = \\frac{1}{- x - 2} + \\frac{x + 1}{\\left(- x - 2\\right)^{2}}$"
      ],
      "text/plain": [
       "Eq(Derivative((x + 1)/(-x - 2), x), 1/(-x - 2) + (x + 1)/(-x - 2)**2)"
      ]
     },
     "metadata": {},
     "output_type": "display_data"
    },
    {
     "data": {
      "text/latex": [
       "$\\displaystyle \\int \\left(3 x + \\tan{\\left(x \\right)} + 3 - \\frac{1}{x^{4}}\\right)\\, dx = \\frac{3 x^{2}}{2} + 3 x - \\log{\\left(\\cos{\\left(x \\right)} \\right)} + \\frac{1}{3 x^{3}}$"
      ],
      "text/plain": [
       "Eq(Integral(3*x + tan(x) + 3 - 1/x**4, x), 3*x**2/2 + 3*x - log(cos(x)) + 1/(3*x**3))"
      ]
     },
     "metadata": {},
     "output_type": "display_data"
    },
    {
     "data": {
      "text/latex": [
       "$\\displaystyle \\frac{d}{d x} \\left(\\sqrt{x} + x + 4\\right) = 1 + \\frac{1}{2 \\sqrt{x}}$"
      ],
      "text/plain": [
       "Eq(Derivative(sqrt(x) + x + 4, x), 1 + 1/(2*sqrt(x)))"
      ]
     },
     "metadata": {},
     "output_type": "display_data"
    },
    {
     "data": {
      "text/latex": [
       "$\\displaystyle \\int x^{3} \\left(x - 3\\right)\\, dx = \\frac{x^{5}}{5} - \\frac{3 x^{4}}{4}$"
      ],
      "text/plain": [
       "Eq(Integral(x**3*(x - 3), x), x**5/5 - 3*x**4/4)"
      ]
     },
     "metadata": {},
     "output_type": "display_data"
    },
    {
     "data": {
      "text/latex": [
       "$\\displaystyle \\frac{d}{d x} \\left(\\sqrt[3]{x} + e^{x}\\right) = e^{x} + \\frac{1}{3 x^{\\frac{2}{3}}}$"
      ],
      "text/plain": [
       "Eq(Derivative(x**(1/3) + exp(x), x), exp(x) + 1/(3*x**(2/3)))"
      ]
     },
     "metadata": {},
     "output_type": "display_data"
    },
    {
     "data": {
      "text/latex": [
       "$\\displaystyle \\int x^{3} \\left(x^{3} - 3 x + 3\\right)\\, dx = \\frac{x^{7}}{7} - \\frac{3 x^{5}}{5} + \\frac{3 x^{4}}{4}$"
      ],
      "text/plain": [
       "Eq(Integral(x**3*(x**3 - 3*x + 3), x), x**7/7 - 3*x**5/5 + 3*x**4/4)"
      ]
     },
     "metadata": {},
     "output_type": "display_data"
    },
    {
     "data": {
      "text/latex": [
       "$\\displaystyle \\frac{d}{d x} \\left(\\sqrt[3]{x} + \\cos{\\left(x \\right)}\\right) = - \\sin{\\left(x \\right)} + \\frac{1}{3 x^{\\frac{2}{3}}}$"
      ],
      "text/plain": [
       "Eq(Derivative(x**(1/3) + cos(x), x), -sin(x) + 1/(3*x**(2/3)))"
      ]
     },
     "metadata": {},
     "output_type": "display_data"
    },
    {
     "data": {
      "text/latex": [
       "$\\displaystyle \\int \\left(\\sqrt[3]{x} + \\sin{\\left(x \\right)}\\right)\\, dx = \\frac{3 x^{\\frac{4}{3}}}{4} - \\cos{\\left(x \\right)}$"
      ],
      "text/plain": [
       "Eq(Integral(x**(1/3) + sin(x), x), 3*x**(4/3)/4 - cos(x))"
      ]
     },
     "metadata": {},
     "output_type": "display_data"
    },
    {
     "data": {
      "text/latex": [
       "$\\displaystyle \\frac{d}{d x} \\sqrt[3]{\\log{\\left(x \\right)}} = \\frac{1}{3 x \\log{\\left(x \\right)}^{\\frac{2}{3}}}$"
      ],
      "text/plain": [
       "Eq(Derivative(log(x)**(1/3), x), 1/(3*x*log(x)**(2/3)))"
      ]
     },
     "metadata": {},
     "output_type": "display_data"
    },
    {
     "data": {
      "text/latex": [
       "$\\displaystyle \\int \\left(- 3 \\sin{\\left(x \\right)}\\right)\\, dx = 3 \\cos{\\left(x \\right)}$"
      ],
      "text/plain": [
       "Eq(Integral(-3*sin(x), x), 3*cos(x))"
      ]
     },
     "metadata": {},
     "output_type": "display_data"
    },
    {
     "data": {
      "text/latex": [
       "$\\displaystyle \\frac{d}{d x} \\left(\\sqrt[3]{x} + \\log{\\left(x \\right)}\\right) = \\frac{1}{x} + \\frac{1}{3 x^{\\frac{2}{3}}}$"
      ],
      "text/plain": [
       "Eq(Derivative(x**(1/3) + log(x), x), 1/x + 1/(3*x**(2/3)))"
      ]
     },
     "metadata": {},
     "output_type": "display_data"
    },
    {
     "data": {
      "text/latex": [
       "$\\displaystyle \\int \\sqrt[4]{x}\\, dx = \\frac{4 x^{\\frac{5}{4}}}{5}$"
      ],
      "text/plain": [
       "Eq(Integral(x**(1/4), x), 4*x**(5/4)/5)"
      ]
     },
     "metadata": {},
     "output_type": "display_data"
    },
    {
     "data": {
      "text/latex": [
       "$\\displaystyle \\frac{d}{d x} \\left(\\sqrt{x} - \\sin{\\left(x \\right)}\\right) = - \\cos{\\left(x \\right)} + \\frac{1}{2 \\sqrt{x}}$"
      ],
      "text/plain": [
       "Eq(Derivative(sqrt(x) - sin(x), x), -cos(x) + 1/(2*sqrt(x)))"
      ]
     },
     "metadata": {},
     "output_type": "display_data"
    },
    {
     "data": {
      "text/latex": [
       "$\\displaystyle \\int \\left(- \\sqrt{x} + x + 3\\right)\\, dx = - \\frac{2 x^{\\frac{3}{2}}}{3} + \\frac{x^{2}}{2} + 3 x$"
      ],
      "text/plain": [
       "Eq(Integral(-sqrt(x) + x + 3, x), -2*x**(3/2)/3 + x**2/2 + 3*x)"
      ]
     },
     "metadata": {},
     "output_type": "display_data"
    },
    {
     "data": {
      "text/latex": [
       "$\\displaystyle \\frac{d}{d x} \\left(- e^{x} + \\tan{\\left(x \\right)}\\right) = - e^{x} + \\tan^{2}{\\left(x \\right)} + 1$"
      ],
      "text/plain": [
       "Eq(Derivative(-exp(x) + tan(x), x), -exp(x) + tan(x)**2 + 1)"
      ]
     },
     "metadata": {},
     "output_type": "display_data"
    },
    {
     "data": {
      "text/latex": [
       "$\\displaystyle \\int \\left(- x^{3} + x^{2} - 3 x\\right)\\, dx = - \\frac{x^{4}}{4} + \\frac{x^{3}}{3} - \\frac{3 x^{2}}{2}$"
      ],
      "text/plain": [
       "Eq(Integral(-x**3 + x**2 - 3*x, x), -x**4/4 + x**3/3 - 3*x**2/2)"
      ]
     },
     "metadata": {},
     "output_type": "display_data"
    },
    {
     "data": {
      "text/latex": [
       "$\\displaystyle \\frac{d}{d x} \\left(\\sqrt[3]{x} + \\sqrt{x}\\right) = \\frac{1}{2 \\sqrt{x}} + \\frac{1}{3 x^{\\frac{2}{3}}}$"
      ],
      "text/plain": [
       "Eq(Derivative(x**(1/3) + sqrt(x), x), 1/(2*sqrt(x)) + 1/(3*x**(2/3)))"
      ]
     },
     "metadata": {},
     "output_type": "display_data"
    },
    {
     "data": {
      "text/latex": [
       "$\\displaystyle \\int \\sin{\\left(\\frac{1}{x^{2}} \\right)}\\, dx = \\frac{x \\sin{\\left(\\frac{1}{x^{2}} \\right)} \\Gamma\\left(\\frac{1}{4}\\right)}{4 \\Gamma\\left(\\frac{5}{4}\\right)} - \\frac{\\sqrt{2} \\sqrt{\\pi} C\\left(\\frac{\\sqrt{2}}{\\sqrt{\\pi} x}\\right) \\Gamma\\left(\\frac{1}{4}\\right)}{4 \\Gamma\\left(\\frac{5}{4}\\right)}$"
      ],
      "text/plain": [
       "Eq(Integral(sin(x**(-2)), x), x*sin(x**(-2))*gamma(1/4)/(4*gamma(5/4)) - sqrt(2)*sqrt(pi)*fresnelc(sqrt(2)/(sqrt(pi)*x))*gamma(1/4)/(4*gamma(5/4)))"
      ]
     },
     "metadata": {},
     "output_type": "display_data"
    },
    {
     "data": {
      "text/latex": [
       "$\\displaystyle \\frac{d}{d x} \\tan{\\left(\\log{\\left(x \\right)} \\right)} = \\frac{\\tan^{2}{\\left(\\log{\\left(x \\right)} \\right)} + 1}{x}$"
      ],
      "text/plain": [
       "Eq(Derivative(tan(log(x)), x), (tan(log(x))**2 + 1)/x)"
      ]
     },
     "metadata": {},
     "output_type": "display_data"
    },
    {
     "data": {
      "text/latex": [
       "$\\displaystyle \\int \\left(\\sqrt[3]{x} + \\tan{\\left(x \\right)}\\right)\\, dx = \\frac{3 x^{\\frac{4}{3}}}{4} - \\log{\\left(\\cos{\\left(x \\right)} \\right)}$"
      ],
      "text/plain": [
       "Eq(Integral(x**(1/3) + tan(x), x), 3*x**(4/3)/4 - log(cos(x)))"
      ]
     },
     "metadata": {},
     "output_type": "display_data"
    },
    {
     "data": {
      "text/latex": [
       "$\\displaystyle \\frac{d}{d x} \\sin{\\left(x^{2} + 2 x - 3 \\right)} = \\left(2 x + 2\\right) \\cos{\\left(x^{2} + 2 x - 3 \\right)}$"
      ],
      "text/plain": [
       "Eq(Derivative(sin(x**2 + 2*x - 3), x), (2*x + 2)*cos(x**2 + 2*x - 3))"
      ]
     },
     "metadata": {},
     "output_type": "display_data"
    },
    {
     "data": {
      "text/latex": [
       "$\\displaystyle \\int \\left(\\sqrt{x} + 3 x + 3 + \\frac{1}{x^{3}}\\right)\\, dx = \\frac{2 x^{\\frac{3}{2}}}{3} + \\frac{3 x^{2}}{2} + 3 x - \\frac{1}{2 x^{2}}$"
      ],
      "text/plain": [
       "Eq(Integral(sqrt(x) + 3*x + 3 + x**(-3), x), 2*x**(3/2)/3 + 3*x**2/2 + 3*x - 1/(2*x**2))"
      ]
     },
     "metadata": {},
     "output_type": "display_data"
    },
    {
     "data": {
      "text/latex": [
       "$\\displaystyle \\frac{d}{d x} \\left(x + e^{x} - 5\\right) = e^{x} + 1$"
      ],
      "text/plain": [
       "Eq(Derivative(x + exp(x) - 5, x), exp(x) + 1)"
      ]
     },
     "metadata": {},
     "output_type": "display_data"
    },
    {
     "data": {
      "text/latex": [
       "$\\displaystyle \\int \\left(e^{x} + \\sin{\\left(x \\right)}\\right)\\, dx = e^{x} - \\cos{\\left(x \\right)}$"
      ],
      "text/plain": [
       "Eq(Integral(exp(x) + sin(x), x), exp(x) - cos(x))"
      ]
     },
     "metadata": {},
     "output_type": "display_data"
    },
    {
     "data": {
      "text/latex": [
       "$\\displaystyle \\frac{d}{d x} \\left(x + \\tan{\\left(x \\right)} + 4\\right) = \\tan^{2}{\\left(x \\right)} + 2$"
      ],
      "text/plain": [
       "Eq(Derivative(x + tan(x) + 4, x), tan(x)**2 + 2)"
      ]
     },
     "metadata": {},
     "output_type": "display_data"
    },
    {
     "data": {
      "text/latex": [
       "$\\displaystyle \\int \\left(- 4 x + \\log{\\left(x \\right)}\\right)\\, dx = - 2 x^{2} + x \\log{\\left(x \\right)} - x$"
      ],
      "text/plain": [
       "Eq(Integral(-4*x + log(x), x), -2*x**2 + x*log(x) - x)"
      ]
     },
     "metadata": {},
     "output_type": "display_data"
    },
    {
     "data": {
      "text/latex": [
       "$\\displaystyle \\frac{d}{d x} \\left(x - 2\\right) e^{- x} = - \\left(x - 2\\right) e^{- x} + e^{- x}$"
      ],
      "text/plain": [
       "Eq(Derivative((x - 2)*exp(-x), x), -(x - 2)*exp(-x) + exp(-x))"
      ]
     },
     "metadata": {},
     "output_type": "display_data"
    },
    {
     "data": {
      "text/latex": [
       "$\\displaystyle \\int \\frac{1}{\\sqrt[6]{x}}\\, dx = \\frac{6 x^{\\frac{5}{6}}}{5}$"
      ],
      "text/plain": [
       "Eq(Integral(x**(-1/6), x), 6*x**(5/6)/5)"
      ]
     },
     "metadata": {},
     "output_type": "display_data"
    },
    {
     "data": {
      "text/latex": [
       "$\\displaystyle \\frac{d}{d x} \\left(x^{5} + 2 x + \\cos{\\left(x \\right)} - 4\\right) = 5 x^{4} - \\sin{\\left(x \\right)} + 2$"
      ],
      "text/plain": [
       "Eq(Derivative(x**5 + 2*x + cos(x) - 4, x), 5*x**4 - sin(x) + 2)"
      ]
     },
     "metadata": {},
     "output_type": "display_data"
    },
    {
     "data": {
      "text/latex": [
       "$\\displaystyle \\int \\left(\\sqrt[3]{x} + \\sin{\\left(x \\right)}\\right)\\, dx = \\frac{3 x^{\\frac{4}{3}}}{4} - \\cos{\\left(x \\right)}$"
      ],
      "text/plain": [
       "Eq(Integral(x**(1/3) + sin(x), x), 3*x**(4/3)/4 - cos(x))"
      ]
     },
     "metadata": {},
     "output_type": "display_data"
    },
    {
     "data": {
      "text/latex": [
       "$\\displaystyle \\frac{d}{d x} \\frac{\\sqrt[3]{x}}{\\cos{\\left(x \\right)}} = \\frac{\\sqrt[3]{x} \\sin{\\left(x \\right)}}{\\cos^{2}{\\left(x \\right)}} + \\frac{1}{3 x^{\\frac{2}{3}} \\cos{\\left(x \\right)}}$"
      ],
      "text/plain": [
       "Eq(Derivative(x**(1/3)/cos(x), x), x**(1/3)*sin(x)/cos(x)**2 + 1/(3*x**(2/3)*cos(x)))"
      ]
     },
     "metadata": {},
     "output_type": "display_data"
    },
    {
     "data": {
      "text/latex": [
       "$\\displaystyle \\int \\left(4 - 3 x\\right)\\, dx = - \\frac{3 x^{2}}{2} + 4 x$"
      ],
      "text/plain": [
       "Eq(Integral(4 - 3*x, x), -3*x**2/2 + 4*x)"
      ]
     },
     "metadata": {},
     "output_type": "display_data"
    },
    {
     "data": {
      "text/latex": [
       "$\\displaystyle \\frac{d}{d x} \\left(\\sin{\\left(x \\right)} - \\cos{\\left(x \\right)}\\right) = \\sin{\\left(x \\right)} + \\cos{\\left(x \\right)}$"
      ],
      "text/plain": [
       "Eq(Derivative(sin(x) - cos(x), x), sin(x) + cos(x))"
      ]
     },
     "metadata": {},
     "output_type": "display_data"
    },
    {
     "data": {
      "text/latex": [
       "$\\displaystyle \\int \\sqrt[3]{\\tan{\\left(x \\right)}}\\, dx = \\int \\sqrt[3]{\\tan{\\left(x \\right)}}\\, dx$"
      ],
      "text/plain": [
       "Eq(Integral(tan(x)**(1/3), x), Integral(tan(x)**(1/3), x))"
      ]
     },
     "metadata": {},
     "output_type": "display_data"
    },
    {
     "data": {
      "text/latex": [
       "$\\displaystyle \\frac{d}{d x} \\left(\\sqrt[3]{x} + \\sin{\\left(x \\right)}\\right) = \\cos{\\left(x \\right)} + \\frac{1}{3 x^{\\frac{2}{3}}}$"
      ],
      "text/plain": [
       "Eq(Derivative(x**(1/3) + sin(x), x), cos(x) + 1/(3*x**(2/3)))"
      ]
     },
     "metadata": {},
     "output_type": "display_data"
    },
    {
     "data": {
      "text/latex": [
       "$\\displaystyle \\int x^{\\frac{7}{2}}\\, dx = \\frac{2 x^{\\frac{9}{2}}}{9}$"
      ],
      "text/plain": [
       "Eq(Integral(x**(7/2), x), 2*x**(9/2)/9)"
      ]
     },
     "metadata": {},
     "output_type": "display_data"
    },
    {
     "data": {
      "text/latex": [
       "$\\displaystyle \\frac{d}{d x} \\sqrt{- x} = \\frac{\\sqrt{- x}}{2 x}$"
      ],
      "text/plain": [
       "Eq(Derivative(sqrt(-x), x), sqrt(-x)/(2*x))"
      ]
     },
     "metadata": {},
     "output_type": "display_data"
    },
    {
     "data": {
      "text/latex": [
       "$\\displaystyle \\int \\sqrt[3]{x - 4}\\, dx = \\frac{3 \\left(x - 4\\right)^{\\frac{4}{3}}}{4}$"
      ],
      "text/plain": [
       "Eq(Integral((x - 4)**(1/3), x), 3*(x - 4)**(4/3)/4)"
      ]
     },
     "metadata": {},
     "output_type": "display_data"
    },
    {
     "data": {
      "text/latex": [
       "$\\displaystyle \\frac{d}{d x} \\frac{\\sqrt[3]{x}}{\\log{\\left(x \\right)}} = \\frac{1}{3 x^{\\frac{2}{3}} \\log{\\left(x \\right)}} - \\frac{1}{x^{\\frac{2}{3}} \\log{\\left(x \\right)}^{2}}$"
      ],
      "text/plain": [
       "Eq(Derivative(x**(1/3)/log(x), x), 1/(3*x**(2/3)*log(x)) - 1/(x**(2/3)*log(x)**2))"
      ]
     },
     "metadata": {},
     "output_type": "display_data"
    },
    {
     "data": {
      "text/latex": [
       "$\\displaystyle \\int \\left(- x^{5} + \\log{\\left(x \\right)}\\right)\\, dx = - \\frac{x^{6}}{6} + x \\log{\\left(x \\right)} - x$"
      ],
      "text/plain": [
       "Eq(Integral(-x**5 + log(x), x), -x**6/6 + x*log(x) - x)"
      ]
     },
     "metadata": {},
     "output_type": "display_data"
    },
    {
     "data": {
      "text/latex": [
       "$\\displaystyle \\frac{d}{d x} \\left(- 3 x - \\cos{\\left(x \\right)}\\right) = \\sin{\\left(x \\right)} - 3$"
      ],
      "text/plain": [
       "Eq(Derivative(-3*x - cos(x), x), sin(x) - 3)"
      ]
     },
     "metadata": {},
     "output_type": "display_data"
    },
    {
     "data": {
      "text/latex": [
       "$\\displaystyle \\int \\left(\\tan{\\left(x \\right)} + 4\\right)\\, dx = 4 x - \\log{\\left(\\cos{\\left(x \\right)} \\right)}$"
      ],
      "text/plain": [
       "Eq(Integral(tan(x) + 4, x), 4*x - log(cos(x)))"
      ]
     },
     "metadata": {},
     "output_type": "display_data"
    },
    {
     "data": {
      "text/latex": [
       "$\\displaystyle \\frac{d}{d x} \\left(- x^{4} - 2 x + e^{x} + 5\\right) = - 4 x^{3} + e^{x} - 2$"
      ],
      "text/plain": [
       "Eq(Derivative(-x**4 - 2*x + exp(x) + 5, x), -4*x**3 + exp(x) - 2)"
      ]
     },
     "metadata": {},
     "output_type": "display_data"
    },
    {
     "data": {
      "text/latex": [
       "$\\displaystyle \\int \\left(- 6 x - 4 - \\frac{1}{x^{2}}\\right)\\, dx = - 3 x^{2} - 4 x + \\frac{1}{x}$"
      ],
      "text/plain": [
       "Eq(Integral(-6*x - 4 - 1/x**2, x), -3*x**2 - 4*x + 1/x)"
      ]
     },
     "metadata": {},
     "output_type": "display_data"
    },
    {
     "data": {
      "text/latex": [
       "$\\displaystyle \\frac{d}{d x} \\left(- \\sqrt[3]{x} + \\tan{\\left(x \\right)}\\right) = \\tan^{2}{\\left(x \\right)} + 1 - \\frac{1}{3 x^{\\frac{2}{3}}}$"
      ],
      "text/plain": [
       "Eq(Derivative(-x**(1/3) + tan(x), x), tan(x)**2 + 1 - 1/(3*x**(2/3)))"
      ]
     },
     "metadata": {},
     "output_type": "display_data"
    },
    {
     "data": {
      "text/latex": [
       "$\\displaystyle \\int \\left(\\sqrt[3]{x} + x - 2\\right)\\, dx = \\frac{3 x^{\\frac{4}{3}}}{4} + \\frac{x^{2}}{2} - 2 x$"
      ],
      "text/plain": [
       "Eq(Integral(x**(1/3) + x - 2, x), 3*x**(4/3)/4 + x**2/2 - 2*x)"
      ]
     },
     "metadata": {},
     "output_type": "display_data"
    },
    {
     "data": {
      "text/latex": [
       "$\\displaystyle \\frac{d}{d x} \\frac{\\tan{\\left(x \\right)}}{\\sin{\\left(x \\right)}} = \\frac{\\tan^{2}{\\left(x \\right)} + 1}{\\sin{\\left(x \\right)}} - \\frac{\\cos{\\left(x \\right)} \\tan{\\left(x \\right)}}{\\sin^{2}{\\left(x \\right)}}$"
      ],
      "text/plain": [
       "Eq(Derivative(tan(x)/sin(x), x), (tan(x)**2 + 1)/sin(x) - cos(x)*tan(x)/sin(x)**2)"
      ]
     },
     "metadata": {},
     "output_type": "display_data"
    },
    {
     "data": {
      "text/latex": [
       "$\\displaystyle \\int \\left(\\sqrt{x} - 2\\right)\\, dx = \\frac{2 x^{\\frac{3}{2}}}{3} - 2 x$"
      ],
      "text/plain": [
       "Eq(Integral(sqrt(x) - 2, x), 2*x**(3/2)/3 - 2*x)"
      ]
     },
     "metadata": {},
     "output_type": "display_data"
    },
    {
     "data": {
      "text/latex": [
       "$\\displaystyle \\frac{d}{d x} \\sin^{5}{\\left(x \\right)} = 5 \\sin^{4}{\\left(x \\right)} \\cos{\\left(x \\right)}$"
      ],
      "text/plain": [
       "Eq(Derivative(sin(x)**5, x), 5*sin(x)**4*cos(x))"
      ]
     },
     "metadata": {},
     "output_type": "display_data"
    },
    {
     "data": {
      "text/latex": [
       "$\\displaystyle \\int \\sin{\\left(\\log{\\left(x \\right)} \\right)}\\, dx = \\frac{x \\sin{\\left(\\log{\\left(x \\right)} \\right)}}{2} - \\frac{x \\cos{\\left(\\log{\\left(x \\right)} \\right)}}{2}$"
      ],
      "text/plain": [
       "Eq(Integral(sin(log(x)), x), x*sin(log(x))/2 - x*cos(log(x))/2)"
      ]
     },
     "metadata": {},
     "output_type": "display_data"
    },
    {
     "data": {
      "text/latex": [
       "$\\displaystyle \\frac{d}{d x} \\left(- \\cos{\\left(x \\right)} + \\tan{\\left(x \\right)}\\right) = \\sin{\\left(x \\right)} + \\tan^{2}{\\left(x \\right)} + 1$"
      ],
      "text/plain": [
       "Eq(Derivative(-cos(x) + tan(x), x), sin(x) + tan(x)**2 + 1)"
      ]
     },
     "metadata": {},
     "output_type": "display_data"
    },
    {
     "data": {
      "text/latex": [
       "$\\displaystyle \\int \\sqrt[3]{x^{4}}\\, dx = \\frac{3 x \\sqrt[3]{x^{4}}}{7}$"
      ],
      "text/plain": [
       "Eq(Integral((x**4)**(1/3), x), 3*x*(x**4)**(1/3)/7)"
      ]
     },
     "metadata": {},
     "output_type": "display_data"
    },
    {
     "data": {
      "text/latex": [
       "$\\displaystyle \\frac{d}{d x} \\sin{\\left(\\sqrt{x} \\right)} = \\frac{\\cos{\\left(\\sqrt{x} \\right)}}{2 \\sqrt{x}}$"
      ],
      "text/plain": [
       "Eq(Derivative(sin(sqrt(x)), x), cos(sqrt(x))/(2*sqrt(x)))"
      ]
     },
     "metadata": {},
     "output_type": "display_data"
    },
    {
     "data": {
      "text/latex": [
       "$\\displaystyle \\int \\left(x - 5\\right)\\, dx = \\frac{x^{2}}{2} - 5 x$"
      ],
      "text/plain": [
       "Eq(Integral(x - 5, x), x**2/2 - 5*x)"
      ]
     },
     "metadata": {},
     "output_type": "display_data"
    },
    {
     "data": {
      "text/latex": [
       "$\\displaystyle \\frac{d}{d x} \\sqrt[6]{x} = \\frac{1}{6 x^{\\frac{5}{6}}}$"
      ],
      "text/plain": [
       "Eq(Derivative(x**(1/6), x), 1/(6*x**(5/6)))"
      ]
     },
     "metadata": {},
     "output_type": "display_data"
    },
    {
     "data": {
      "text/latex": [
       "$\\displaystyle \\int \\left(x + \\cos{\\left(x \\right)} + 3\\right)\\, dx = \\frac{x^{2}}{2} + 3 x + \\sin{\\left(x \\right)}$"
      ],
      "text/plain": [
       "Eq(Integral(x + cos(x) + 3, x), x**2/2 + 3*x + sin(x))"
      ]
     },
     "metadata": {},
     "output_type": "display_data"
    },
    {
     "data": {
      "text/latex": [
       "$\\displaystyle \\frac{d}{d x} \\left(\\sqrt[3]{x} - \\log{\\left(x \\right)}\\right) = - \\frac{1}{x} + \\frac{1}{3 x^{\\frac{2}{3}}}$"
      ],
      "text/plain": [
       "Eq(Derivative(x**(1/3) - log(x), x), -1/x + 1/(3*x**(2/3)))"
      ]
     },
     "metadata": {},
     "output_type": "display_data"
    },
    {
     "data": {
      "text/latex": [
       "$\\displaystyle \\int \\left(\\sqrt[3]{x} + \\frac{1}{x}\\right)\\, dx = \\frac{3 x^{\\frac{4}{3}}}{4} + \\log{\\left(x \\right)}$"
      ],
      "text/plain": [
       "Eq(Integral(x**(1/3) + 1/x, x), 3*x**(4/3)/4 + log(x))"
      ]
     },
     "metadata": {},
     "output_type": "display_data"
    },
    {
     "data": {
      "text/latex": [
       "$\\displaystyle \\frac{d}{d x} \\left(- x + \\tan{\\left(x \\right)} - 3\\right) = \\tan^{2}{\\left(x \\right)}$"
      ],
      "text/plain": [
       "Eq(Derivative(-x + tan(x) - 3, x), tan(x)**2)"
      ]
     },
     "metadata": {},
     "output_type": "display_data"
    },
    {
     "data": {
      "text/latex": [
       "$\\displaystyle \\int \\left(\\sqrt[3]{x} - \\sin{\\left(x \\right)}\\right)\\, dx = \\frac{3 x^{\\frac{4}{3}}}{4} + \\cos{\\left(x \\right)}$"
      ],
      "text/plain": [
       "Eq(Integral(x**(1/3) - sin(x), x), 3*x**(4/3)/4 + cos(x))"
      ]
     },
     "metadata": {},
     "output_type": "display_data"
    },
    {
     "data": {
      "text/latex": [
       "$\\displaystyle \\frac{d}{d x} \\frac{\\tan{\\left(x \\right)}}{x^{2}} = \\frac{\\tan^{2}{\\left(x \\right)} + 1}{x^{2}} - \\frac{2 \\tan{\\left(x \\right)}}{x^{3}}$"
      ],
      "text/plain": [
       "Eq(Derivative(tan(x)/x**2, x), (tan(x)**2 + 1)/x**2 - 2*tan(x)/x**3)"
      ]
     },
     "metadata": {},
     "output_type": "display_data"
    },
    {
     "data": {
      "text/latex": [
       "$\\displaystyle \\int \\left(\\sqrt[3]{x} + 3 x - \\frac{1}{x^{2}}\\right)\\, dx = \\frac{3 x^{\\frac{4}{3}}}{4} + \\frac{3 x^{2}}{2} + \\frac{1}{x}$"
      ],
      "text/plain": [
       "Eq(Integral(x**(1/3) + 3*x - 1/x**2, x), 3*x**(4/3)/4 + 3*x**2/2 + 1/x)"
      ]
     },
     "metadata": {},
     "output_type": "display_data"
    },
    {
     "data": {
      "text/latex": [
       "$\\displaystyle \\frac{d}{d x} \\frac{x - 1}{\\tan{\\left(x \\right)}} = \\frac{\\left(x - 1\\right) \\left(- \\tan^{2}{\\left(x \\right)} - 1\\right)}{\\tan^{2}{\\left(x \\right)}} + \\frac{1}{\\tan{\\left(x \\right)}}$"
      ],
      "text/plain": [
       "Eq(Derivative((x - 1)/tan(x), x), (x - 1)*(-tan(x)**2 - 1)/tan(x)**2 + 1/tan(x))"
      ]
     },
     "metadata": {},
     "output_type": "display_data"
    },
    {
     "data": {
      "text/latex": [
       "$\\displaystyle \\int \\left(x^{4} + \\sin{\\left(x \\right)}\\right)\\, dx = \\frac{x^{5}}{5} - \\cos{\\left(x \\right)}$"
      ],
      "text/plain": [
       "Eq(Integral(x**4 + sin(x), x), x**5/5 - cos(x))"
      ]
     },
     "metadata": {},
     "output_type": "display_data"
    },
    {
     "data": {
      "text/latex": [
       "$\\displaystyle \\frac{d}{d x} \\left(- x^{4} + \\log{\\left(x \\right)}\\right) = - 4 x^{3} + \\frac{1}{x}$"
      ],
      "text/plain": [
       "Eq(Derivative(-x**4 + log(x), x), -4*x**3 + 1/x)"
      ]
     },
     "metadata": {},
     "output_type": "display_data"
    },
    {
     "data": {
      "text/latex": [
       "$\\displaystyle \\int \\sqrt{\\log{\\left(x \\right)}}\\, dx = \\frac{\\left(x \\sqrt{- \\log{\\left(x \\right)}} + \\frac{\\sqrt{\\pi} \\operatorname{erfc}{\\left(\\sqrt{- \\log{\\left(x \\right)}} \\right)}}{2}\\right) \\sqrt{\\log{\\left(x \\right)}}}{\\sqrt{- \\log{\\left(x \\right)}}}$"
      ],
      "text/plain": [
       "Eq(Integral(sqrt(log(x)), x), (x*sqrt(-log(x)) + sqrt(pi)*erfc(sqrt(-log(x)))/2)*sqrt(log(x))/sqrt(-log(x)))"
      ]
     },
     "metadata": {},
     "output_type": "display_data"
    },
    {
     "data": {
      "text/latex": [
       "$\\displaystyle \\frac{d}{d x} \\left(3 x - 2 + \\frac{1}{x^{3}}\\right) e^{- x} = \\left(3 - \\frac{3}{x^{4}}\\right) e^{- x} - \\left(3 x - 2 + \\frac{1}{x^{3}}\\right) e^{- x}$"
      ],
      "text/plain": [
       "Eq(Derivative((3*x - 2 + x**(-3))*exp(-x), x), (3 - 3/x**4)*exp(-x) - (3*x - 2 + x**(-3))*exp(-x))"
      ]
     },
     "metadata": {},
     "output_type": "display_data"
    },
    {
     "data": {
      "text/latex": [
       "$\\displaystyle \\int \\left(- 3 x - 1\\right)\\, dx = - \\frac{3 x^{2}}{2} - x$"
      ],
      "text/plain": [
       "Eq(Integral(-3*x - 1, x), -3*x**2/2 - x)"
      ]
     },
     "metadata": {},
     "output_type": "display_data"
    },
    {
     "data": {
      "text/latex": [
       "$\\displaystyle \\frac{d}{d x} \\left(- x^{2} + \\log{\\left(x \\right)} + 4\\right) = - 2 x + \\frac{1}{x}$"
      ],
      "text/plain": [
       "Eq(Derivative(-x**2 + log(x) + 4, x), -2*x + 1/x)"
      ]
     },
     "metadata": {},
     "output_type": "display_data"
    },
    {
     "data": {
      "text/latex": [
       "$\\displaystyle \\int \\left(1 - \\sqrt[3]{x}\\right)\\, dx = - \\frac{3 x^{\\frac{4}{3}}}{4} + x$"
      ],
      "text/plain": [
       "Eq(Integral(1 - x**(1/3), x), -3*x**(4/3)/4 + x)"
      ]
     },
     "metadata": {},
     "output_type": "display_data"
    },
    {
     "data": {
      "text/latex": [
       "$\\displaystyle \\frac{d}{d x} \\left(\\log{\\left(x \\right)} + \\tan{\\left(x \\right)}\\right) = \\tan^{2}{\\left(x \\right)} + 1 + \\frac{1}{x}$"
      ],
      "text/plain": [
       "Eq(Derivative(log(x) + tan(x), x), tan(x)**2 + 1 + 1/x)"
      ]
     },
     "metadata": {},
     "output_type": "display_data"
    },
    {
     "data": {
      "text/latex": [
       "$\\displaystyle \\int \\left(\\sqrt[3]{x} + \\sqrt{x}\\right)\\, dx = \\frac{3 x^{\\frac{4}{3}}}{4} + \\frac{2 x^{\\frac{3}{2}}}{3}$"
      ],
      "text/plain": [
       "Eq(Integral(x**(1/3) + sqrt(x), x), 3*x**(4/3)/4 + 2*x**(3/2)/3)"
      ]
     },
     "metadata": {},
     "output_type": "display_data"
    },
    {
     "data": {
      "text/latex": [
       "$\\displaystyle \\frac{d}{d x} \\frac{x + 4}{\\sqrt[3]{x}} = \\frac{1}{\\sqrt[3]{x}} - \\frac{x + 4}{3 x^{\\frac{4}{3}}}$"
      ],
      "text/plain": [
       "Eq(Derivative((x + 4)/x**(1/3), x), x**(-1/3) - (x + 4)/(3*x**(4/3)))"
      ]
     },
     "metadata": {},
     "output_type": "display_data"
    },
    {
     "data": {
      "text/latex": [
       "$\\displaystyle \\int \\left(- \\sqrt{x} + e^{x}\\right)\\, dx = - \\frac{2 x^{\\frac{3}{2}}}{3} + e^{x}$"
      ],
      "text/plain": [
       "Eq(Integral(-sqrt(x) + exp(x), x), -2*x**(3/2)/3 + exp(x))"
      ]
     },
     "metadata": {},
     "output_type": "display_data"
    },
    {
     "data": {
      "text/latex": [
       "$\\displaystyle \\frac{d}{d x} \\cos{\\left(- x^{2} + 3 x + 1 \\right)} = - \\left(3 - 2 x\\right) \\sin{\\left(- x^{2} + 3 x + 1 \\right)}$"
      ],
      "text/plain": [
       "Eq(Derivative(cos(-x**2 + 3*x + 1), x), -(3 - 2*x)*sin(-x**2 + 3*x + 1))"
      ]
     },
     "metadata": {},
     "output_type": "display_data"
    },
    {
     "data": {
      "text/latex": [
       "$\\displaystyle \\int \\left(\\tan{\\left(x \\right)} - 4\\right)\\, dx = - 4 x - \\log{\\left(\\cos{\\left(x \\right)} \\right)}$"
      ],
      "text/plain": [
       "Eq(Integral(tan(x) - 4, x), -4*x - log(cos(x)))"
      ]
     },
     "metadata": {},
     "output_type": "display_data"
    },
    {
     "data": {
      "text/latex": [
       "$\\displaystyle \\frac{d}{d x} e^{- x} \\cos{\\left(x \\right)} = - e^{- x} \\sin{\\left(x \\right)} - e^{- x} \\cos{\\left(x \\right)}$"
      ],
      "text/plain": [
       "Eq(Derivative(exp(-x)*cos(x), x), -exp(-x)*sin(x) - exp(-x)*cos(x))"
      ]
     },
     "metadata": {},
     "output_type": "display_data"
    },
    {
     "data": {
      "text/latex": [
       "$\\displaystyle \\int \\left(- e^{x} + \\sin{\\left(x \\right)}\\right)\\, dx = - e^{x} - \\cos{\\left(x \\right)}$"
      ],
      "text/plain": [
       "Eq(Integral(-exp(x) + sin(x), x), -exp(x) - cos(x))"
      ]
     },
     "metadata": {},
     "output_type": "display_data"
    },
    {
     "data": {
      "text/latex": [
       "$\\displaystyle \\frac{d}{d x} \\left(- 2 x + \\log{\\left(x \\right)} + 3\\right) = -2 + \\frac{1}{x}$"
      ],
      "text/plain": [
       "Eq(Derivative(-2*x + log(x) + 3, x), -2 + 1/x)"
      ]
     },
     "metadata": {},
     "output_type": "display_data"
    },
    {
     "data": {
      "text/latex": [
       "$\\displaystyle \\int e^{-3 + \\frac{1}{x}}\\, dx = \\frac{\\int e^{\\frac{1}{x}}\\, dx}{e^{3}}$"
      ],
      "text/plain": [
       "Eq(Integral(exp(-3 + 1/x), x), exp(-3)*Integral(exp(1/x), x))"
      ]
     },
     "metadata": {},
     "output_type": "display_data"
    },
    {
     "data": {
      "text/latex": [
       "$\\displaystyle \\frac{d}{d x} \\left(- 4 x + 3 + \\frac{1}{x^{3}}\\right) = -4 - \\frac{3}{x^{4}}$"
      ],
      "text/plain": [
       "Eq(Derivative(-4*x + 3 + x**(-3), x), -4 - 3/x**4)"
      ]
     },
     "metadata": {},
     "output_type": "display_data"
    },
    {
     "data": {
      "text/latex": [
       "$\\displaystyle \\int \\sin{\\left(\\cos{\\left(x \\right)} \\right)}\\, dx = \\int \\sin{\\left(\\cos{\\left(x \\right)} \\right)}\\, dx$"
      ],
      "text/plain": [
       "Eq(Integral(sin(cos(x)), x), Integral(sin(cos(x)), x))"
      ]
     },
     "metadata": {},
     "output_type": "display_data"
    },
    {
     "data": {
      "text/latex": [
       "$\\displaystyle \\frac{d}{d x} \\log{\\left(\\cos{\\left(x \\right)} \\right)} = - \\frac{\\sin{\\left(x \\right)}}{\\cos{\\left(x \\right)}}$"
      ],
      "text/plain": [
       "Eq(Derivative(log(cos(x)), x), -sin(x)/cos(x))"
      ]
     },
     "metadata": {},
     "output_type": "display_data"
    },
    {
     "data": {
      "text/latex": [
       "$\\displaystyle \\int \\sqrt{x}\\, dx = \\frac{2 x^{\\frac{3}{2}}}{3}$"
      ],
      "text/plain": [
       "Eq(Integral(sqrt(x), x), 2*x**(3/2)/3)"
      ]
     },
     "metadata": {},
     "output_type": "display_data"
    },
    {
     "data": {
      "text/latex": [
       "$\\displaystyle \\frac{d}{d x} \\frac{\\sin{\\left(x \\right)}}{\\sqrt{x}} = \\frac{\\cos{\\left(x \\right)}}{\\sqrt{x}} - \\frac{\\sin{\\left(x \\right)}}{2 x^{\\frac{3}{2}}}$"
      ],
      "text/plain": [
       "Eq(Derivative(sin(x)/sqrt(x), x), cos(x)/sqrt(x) - sin(x)/(2*x**(3/2)))"
      ]
     },
     "metadata": {},
     "output_type": "display_data"
    },
    {
     "data": {
      "text/latex": [
       "$\\displaystyle \\int \\left(- \\sqrt{x} + x + 4\\right)\\, dx = - \\frac{2 x^{\\frac{3}{2}}}{3} + \\frac{x^{2}}{2} + 4 x$"
      ],
      "text/plain": [
       "Eq(Integral(-sqrt(x) + x + 4, x), -2*x**(3/2)/3 + x**2/2 + 4*x)"
      ]
     },
     "metadata": {},
     "output_type": "display_data"
    },
    {
     "data": {
      "text/latex": [
       "$\\displaystyle \\frac{d}{d x} \\left(\\sin{\\left(x \\right)} - \\cos{\\left(x \\right)}\\right) = \\sin{\\left(x \\right)} + \\cos{\\left(x \\right)}$"
      ],
      "text/plain": [
       "Eq(Derivative(sin(x) - cos(x), x), sin(x) + cos(x))"
      ]
     },
     "metadata": {},
     "output_type": "display_data"
    },
    {
     "data": {
      "text/latex": [
       "$\\displaystyle \\int \\tan{\\left(\\sqrt[3]{x} \\right)}\\, dx = \\int \\tan{\\left(\\sqrt[3]{x} \\right)}\\, dx$"
      ],
      "text/plain": [
       "Eq(Integral(tan(x**(1/3)), x), Integral(tan(x**(1/3)), x))"
      ]
     },
     "metadata": {},
     "output_type": "display_data"
    },
    {
     "data": {
      "text/latex": [
       "$\\displaystyle \\frac{d}{d x} \\left(\\sqrt[3]{x} + \\tan{\\left(x \\right)}\\right) = \\tan^{2}{\\left(x \\right)} + 1 + \\frac{1}{3 x^{\\frac{2}{3}}}$"
      ],
      "text/plain": [
       "Eq(Derivative(x**(1/3) + tan(x), x), tan(x)**2 + 1 + 1/(3*x**(2/3)))"
      ]
     },
     "metadata": {},
     "output_type": "display_data"
    },
    {
     "data": {
      "text/latex": [
       "$\\displaystyle \\int \\left(x + e^{x}\\right)\\, dx = \\frac{x^{2}}{2} + e^{x}$"
      ],
      "text/plain": [
       "Eq(Integral(x + exp(x), x), x**2/2 + exp(x))"
      ]
     },
     "metadata": {},
     "output_type": "display_data"
    },
    {
     "data": {
      "text/latex": [
       "$\\displaystyle \\frac{d}{d x} \\cos{\\left(\\sqrt[3]{x} \\right)} = - \\frac{\\sin{\\left(\\sqrt[3]{x} \\right)}}{3 x^{\\frac{2}{3}}}$"
      ],
      "text/plain": [
       "Eq(Derivative(cos(x**(1/3)), x), -sin(x**(1/3))/(3*x**(2/3)))"
      ]
     },
     "metadata": {},
     "output_type": "display_data"
    },
    {
     "data": {
      "text/latex": [
       "$\\displaystyle \\int \\left(x^{2} - \\frac{1}{x^{4}}\\right)\\, dx = \\frac{x^{3}}{3} + \\frac{1}{3 x^{3}}$"
      ],
      "text/plain": [
       "Eq(Integral(x**2 - 1/x**4, x), x**3/3 + 1/(3*x**3))"
      ]
     },
     "metadata": {},
     "output_type": "display_data"
    },
    {
     "data": {
      "text/latex": [
       "$\\displaystyle \\frac{d}{d x} \\left(- e^{x} + \\sin{\\left(x \\right)}\\right) = - e^{x} + \\cos{\\left(x \\right)}$"
      ],
      "text/plain": [
       "Eq(Derivative(-exp(x) + sin(x), x), -exp(x) + cos(x))"
      ]
     },
     "metadata": {},
     "output_type": "display_data"
    },
    {
     "data": {
      "text/latex": [
       "$\\displaystyle \\int \\frac{1}{x \\left(x^{4} - 2 x + 4\\right)}\\, dx = \\frac{\\log{\\left(x \\right)}}{4} + \\operatorname{RootSum} {\\left(63808 t^{4} + 15952 t^{3} + 1536 t^{2} + 64 t + 1, \\left( t \\mapsto t \\log{\\left(- \\frac{154798208 t^{4}}{3669} + \\frac{319040 t^{3}}{3669} + \\frac{6028312 t^{2}}{3669} + \\frac{784000 t}{3669} + x + \\frac{26926}{3669} \\right)} \\right)\\right)}$"
      ],
      "text/plain": [
       "Eq(Integral(1/(x*(x**4 - 2*x + 4)), x), log(x)/4 + RootSum(63808*_t**4 + 15952*_t**3 + 1536*_t**2 + 64*_t + 1, Lambda(_t, _t*log(-154798208*_t**4/3669 + 319040*_t**3/3669 + 6028312*_t**2/3669 + 784000*_t/3669 + x + 26926/3669))))"
      ]
     },
     "metadata": {},
     "output_type": "display_data"
    },
    {
     "data": {
      "text/latex": [
       "$\\displaystyle \\frac{d}{d x} \\left(\\sqrt{x} - 3\\right) = \\frac{1}{2 \\sqrt{x}}$"
      ],
      "text/plain": [
       "Eq(Derivative(sqrt(x) - 3, x), 1/(2*sqrt(x)))"
      ]
     },
     "metadata": {},
     "output_type": "display_data"
    },
    {
     "data": {
      "text/latex": [
       "$\\displaystyle \\int \\left(\\log{\\left(x \\right)} + \\tan{\\left(x \\right)}\\right)\\, dx = x \\log{\\left(x \\right)} - x - \\log{\\left(\\cos{\\left(x \\right)} \\right)}$"
      ],
      "text/plain": [
       "Eq(Integral(log(x) + tan(x), x), x*log(x) - x - log(cos(x)))"
      ]
     },
     "metadata": {},
     "output_type": "display_data"
    },
    {
     "data": {
      "text/latex": [
       "$\\displaystyle \\frac{d}{d x} \\left(\\sqrt{x} - x\\right) = -1 + \\frac{1}{2 \\sqrt{x}}$"
      ],
      "text/plain": [
       "Eq(Derivative(sqrt(x) - x, x), -1 + 1/(2*sqrt(x)))"
      ]
     },
     "metadata": {},
     "output_type": "display_data"
    },
    {
     "data": {
      "text/latex": [
       "$\\displaystyle \\int \\frac{\\cos{\\left(x \\right)}}{x - 5}\\, dx = \\int \\frac{\\cos{\\left(x \\right)}}{x - 5}\\, dx$"
      ],
      "text/plain": [
       "Eq(Integral(cos(x)/(x - 5), x), Integral(cos(x)/(x - 5), x))"
      ]
     },
     "metadata": {},
     "output_type": "display_data"
    },
    {
     "data": {
      "text/latex": [
       "$\\displaystyle \\frac{d}{d x} \\left(\\sqrt[3]{x} + \\sqrt{x}\\right) = \\frac{1}{2 \\sqrt{x}} + \\frac{1}{3 x^{\\frac{2}{3}}}$"
      ],
      "text/plain": [
       "Eq(Derivative(x**(1/3) + sqrt(x), x), 1/(2*sqrt(x)) + 1/(3*x**(2/3)))"
      ]
     },
     "metadata": {},
     "output_type": "display_data"
    },
    {
     "data": {
      "text/latex": [
       "$\\displaystyle \\int 1\\, dx = x$"
      ],
      "text/plain": [
       "Eq(Integral(1, x), x)"
      ]
     },
     "metadata": {},
     "output_type": "display_data"
    },
    {
     "data": {
      "text/latex": [
       "$\\displaystyle \\frac{d}{d x} \\left(x + \\sin{\\left(x \\right)} + 1\\right) = \\cos{\\left(x \\right)} + 1$"
      ],
      "text/plain": [
       "Eq(Derivative(x + sin(x) + 1, x), cos(x) + 1)"
      ]
     },
     "metadata": {},
     "output_type": "display_data"
    },
    {
     "data": {
      "text/latex": [
       "$\\displaystyle \\int \\left(- e^{x} + \\log{\\left(x \\right)}\\right)\\, dx = x \\log{\\left(x \\right)} - x - e^{x}$"
      ],
      "text/plain": [
       "Eq(Integral(-exp(x) + log(x), x), x*log(x) - x - exp(x))"
      ]
     },
     "metadata": {},
     "output_type": "display_data"
    },
    {
     "data": {
      "text/latex": [
       "$\\displaystyle \\frac{d}{d x} \\frac{\\sqrt{x}}{\\cos{\\left(x \\right)}} = \\frac{\\sqrt{x} \\sin{\\left(x \\right)}}{\\cos^{2}{\\left(x \\right)}} + \\frac{1}{2 \\sqrt{x} \\cos{\\left(x \\right)}}$"
      ],
      "text/plain": [
       "Eq(Derivative(sqrt(x)/cos(x), x), sqrt(x)*sin(x)/cos(x)**2 + 1/(2*sqrt(x)*cos(x)))"
      ]
     },
     "metadata": {},
     "output_type": "display_data"
    },
    {
     "data": {
      "text/latex": [
       "$\\displaystyle \\int \\left(- 2 x - 2 - \\frac{1}{x}\\right)\\, dx = - x^{2} - 2 x - \\log{\\left(x \\right)}$"
      ],
      "text/plain": [
       "Eq(Integral(-2*x - 2 - 1/x, x), -x**2 - 2*x - log(x))"
      ]
     },
     "metadata": {},
     "output_type": "display_data"
    },
    {
     "data": {
      "text/latex": [
       "$\\displaystyle \\frac{d}{d x} \\left(4 - 9 x\\right) = -9$"
      ],
      "text/plain": [
       "Eq(Derivative(4 - 9*x, x), -9)"
      ]
     },
     "metadata": {},
     "output_type": "display_data"
    },
    {
     "data": {
      "text/latex": [
       "$\\displaystyle \\int \\left(\\sin{\\left(x \\right)} + \\tan{\\left(x \\right)}\\right)\\, dx = - \\log{\\left(\\cos{\\left(x \\right)} \\right)} - \\cos{\\left(x \\right)}$"
      ],
      "text/plain": [
       "Eq(Integral(sin(x) + tan(x), x), -log(cos(x)) - cos(x))"
      ]
     },
     "metadata": {},
     "output_type": "display_data"
    },
    {
     "data": {
      "text/latex": [
       "$\\displaystyle \\frac{d}{d x} \\left(- \\sqrt[3]{x} + \\sqrt{x}\\right) = \\frac{1}{2 \\sqrt{x}} - \\frac{1}{3 x^{\\frac{2}{3}}}$"
      ],
      "text/plain": [
       "Eq(Derivative(-x**(1/3) + sqrt(x), x), 1/(2*sqrt(x)) - 1/(3*x**(2/3)))"
      ]
     },
     "metadata": {},
     "output_type": "display_data"
    },
    {
     "data": {
      "text/latex": [
       "$\\displaystyle \\int \\sqrt[3]{\\log{\\left(x \\right)}}\\, dx = \\frac{\\sqrt[3]{\\log{\\left(x \\right)}} \\Gamma\\left(\\frac{4}{3}, - \\log{\\left(x \\right)}\\right)}{\\sqrt[3]{- \\log{\\left(x \\right)}}}$"
      ],
      "text/plain": [
       "Eq(Integral(log(x)**(1/3), x), log(x)**(1/3)*uppergamma(4/3, -log(x))/(-log(x))**(1/3))"
      ]
     },
     "metadata": {},
     "output_type": "display_data"
    },
    {
     "data": {
      "text/latex": [
       "$\\displaystyle \\frac{d}{d x} \\frac{\\sqrt[3]{x}}{\\sin{\\left(x \\right)}} = - \\frac{\\sqrt[3]{x} \\cos{\\left(x \\right)}}{\\sin^{2}{\\left(x \\right)}} + \\frac{1}{3 x^{\\frac{2}{3}} \\sin{\\left(x \\right)}}$"
      ],
      "text/plain": [
       "Eq(Derivative(x**(1/3)/sin(x), x), -x**(1/3)*cos(x)/sin(x)**2 + 1/(3*x**(2/3)*sin(x)))"
      ]
     },
     "metadata": {},
     "output_type": "display_data"
    },
    {
     "data": {
      "text/latex": [
       "$\\displaystyle \\int \\log{\\left(\\sqrt[3]{x} \\right)}\\, dx = x \\log{\\left(\\sqrt[3]{x} \\right)} - \\frac{x}{3}$"
      ],
      "text/plain": [
       "Eq(Integral(log(x**(1/3)), x), x*log(x**(1/3)) - x/3)"
      ]
     },
     "metadata": {},
     "output_type": "display_data"
    },
    {
     "data": {
      "text/latex": [
       "$\\displaystyle \\frac{d}{d x} \\frac{\\sqrt[3]{x}}{\\log{\\left(x \\right)}} = \\frac{1}{3 x^{\\frac{2}{3}} \\log{\\left(x \\right)}} - \\frac{1}{x^{\\frac{2}{3}} \\log{\\left(x \\right)}^{2}}$"
      ],
      "text/plain": [
       "Eq(Derivative(x**(1/3)/log(x), x), 1/(3*x**(2/3)*log(x)) - 1/(x**(2/3)*log(x)**2))"
      ]
     },
     "metadata": {},
     "output_type": "display_data"
    },
    {
     "data": {
      "text/latex": [
       "$\\displaystyle \\int \\left(x - \\sin{\\left(x \\right)}\\right)\\, dx = \\frac{x^{2}}{2} + \\cos{\\left(x \\right)}$"
      ],
      "text/plain": [
       "Eq(Integral(x - sin(x), x), x**2/2 + cos(x))"
      ]
     },
     "metadata": {},
     "output_type": "display_data"
    },
    {
     "data": {
      "text/latex": [
       "$\\displaystyle \\frac{d}{d x} \\left(- x^{3} + x + 2\\right) = 1 - 3 x^{2}$"
      ],
      "text/plain": [
       "Eq(Derivative(-x**3 + x + 2, x), 1 - 3*x**2)"
      ]
     },
     "metadata": {},
     "output_type": "display_data"
    },
    {
     "data": {
      "text/latex": [
       "$\\displaystyle \\int \\left(- \\log{\\left(x \\right)} + \\tan{\\left(x \\right)}\\right)\\, dx = - x \\log{\\left(x \\right)} + x - \\log{\\left(\\cos{\\left(x \\right)} \\right)}$"
      ],
      "text/plain": [
       "Eq(Integral(-log(x) + tan(x), x), -x*log(x) + x - log(cos(x)))"
      ]
     },
     "metadata": {},
     "output_type": "display_data"
    },
    {
     "data": {
      "text/latex": [
       "$\\displaystyle \\frac{d}{d x} x = 1$"
      ],
      "text/plain": [
       "Eq(Derivative(x, x), 1)"
      ]
     },
     "metadata": {},
     "output_type": "display_data"
    },
    {
     "data": {
      "text/latex": [
       "$\\displaystyle \\int \\sqrt[3]{x - 3}\\, dx = \\frac{3 \\left(x - 3\\right)^{\\frac{4}{3}}}{4}$"
      ],
      "text/plain": [
       "Eq(Integral((x - 3)**(1/3), x), 3*(x - 3)**(4/3)/4)"
      ]
     },
     "metadata": {},
     "output_type": "display_data"
    },
    {
     "data": {
      "text/latex": [
       "$\\displaystyle \\frac{d}{d x} \\left(\\sin{\\left(x \\right)} - \\tan{\\left(x \\right)}\\right) = \\cos{\\left(x \\right)} - \\tan^{2}{\\left(x \\right)} - 1$"
      ],
      "text/plain": [
       "Eq(Derivative(sin(x) - tan(x), x), cos(x) - tan(x)**2 - 1)"
      ]
     },
     "metadata": {},
     "output_type": "display_data"
    },
    {
     "data": {
      "text/latex": [
       "$\\displaystyle \\int \\sin{\\left(e^{x} \\right)}\\, dx = \\operatorname{Si}{\\left(e^{x} \\right)}$"
      ],
      "text/plain": [
       "Eq(Integral(sin(exp(x)), x), Si(exp(x)))"
      ]
     },
     "metadata": {},
     "output_type": "display_data"
    },
    {
     "data": {
      "text/latex": [
       "$\\displaystyle \\frac{d}{d x} \\left(\\sqrt{x} + \\tan{\\left(x \\right)}\\right) = \\tan^{2}{\\left(x \\right)} + 1 + \\frac{1}{2 \\sqrt{x}}$"
      ],
      "text/plain": [
       "Eq(Derivative(sqrt(x) + tan(x), x), tan(x)**2 + 1 + 1/(2*sqrt(x)))"
      ]
     },
     "metadata": {},
     "output_type": "display_data"
    },
    {
     "data": {
      "text/latex": [
       "$\\displaystyle \\int 0\\, dx = 0$"
      ],
      "text/plain": [
       "Eq(Integral(0, x), 0)"
      ]
     },
     "metadata": {},
     "output_type": "display_data"
    },
    {
     "data": {
      "text/latex": [
       "$\\displaystyle \\frac{d}{d x} \\left(x + \\cos{\\left(x \\right)}\\right) = 1 - \\sin{\\left(x \\right)}$"
      ],
      "text/plain": [
       "Eq(Derivative(x + cos(x), x), 1 - sin(x))"
      ]
     },
     "metadata": {},
     "output_type": "display_data"
    },
    {
     "data": {
      "text/latex": [
       "$\\displaystyle \\int 0\\, dx = 0$"
      ],
      "text/plain": [
       "Eq(Integral(0, x), 0)"
      ]
     },
     "metadata": {},
     "output_type": "display_data"
    },
    {
     "data": {
      "text/latex": [
       "$\\displaystyle \\frac{d}{d x} \\left(\\sqrt{x} + \\cos{\\left(x \\right)}\\right) = - \\sin{\\left(x \\right)} + \\frac{1}{2 \\sqrt{x}}$"
      ],
      "text/plain": [
       "Eq(Derivative(sqrt(x) + cos(x), x), -sin(x) + 1/(2*sqrt(x)))"
      ]
     },
     "metadata": {},
     "output_type": "display_data"
    },
    {
     "data": {
      "text/latex": [
       "$\\displaystyle \\int \\frac{\\sin{\\left(x \\right)}}{\\log{\\left(x \\right)}}\\, dx = \\int \\frac{\\sin{\\left(x \\right)}}{\\log{\\left(x \\right)}}\\, dx$"
      ],
      "text/plain": [
       "Eq(Integral(sin(x)/log(x), x), Integral(sin(x)/log(x), x))"
      ]
     },
     "metadata": {},
     "output_type": "display_data"
    },
    {
     "data": {
      "text/latex": [
       "$\\displaystyle \\frac{d}{d x} \\sin{\\left(x \\right)} = \\cos{\\left(x \\right)}$"
      ],
      "text/plain": [
       "Eq(Derivative(sin(x), x), cos(x))"
      ]
     },
     "metadata": {},
     "output_type": "display_data"
    },
    {
     "data": {
      "text/latex": [
       "$\\displaystyle \\int \\left(- \\cos{\\left(x \\right)} + \\tan{\\left(x \\right)}\\right)\\, dx = - \\log{\\left(\\cos{\\left(x \\right)} \\right)} - \\sin{\\left(x \\right)}$"
      ],
      "text/plain": [
       "Eq(Integral(-cos(x) + tan(x), x), -log(cos(x)) - sin(x))"
      ]
     },
     "metadata": {},
     "output_type": "display_data"
    },
    {
     "data": {
      "text/latex": [
       "$\\displaystyle \\frac{d}{d x} \\left(3 x + \\cos{\\left(x \\right)} + 1\\right) = 3 - \\sin{\\left(x \\right)}$"
      ],
      "text/plain": [
       "Eq(Derivative(3*x + cos(x) + 1, x), 3 - sin(x))"
      ]
     },
     "metadata": {},
     "output_type": "display_data"
    },
    {
     "data": {
      "text/latex": [
       "$\\displaystyle \\int \\left(- \\sqrt[3]{x} + \\cos{\\left(x \\right)}\\right)\\, dx = - \\frac{3 x^{\\frac{4}{3}}}{4} + \\sin{\\left(x \\right)}$"
      ],
      "text/plain": [
       "Eq(Integral(-x**(1/3) + cos(x), x), -3*x**(4/3)/4 + sin(x))"
      ]
     },
     "metadata": {},
     "output_type": "display_data"
    },
    {
     "data": {
      "text/latex": [
       "$\\displaystyle \\frac{d}{d x} \\frac{1}{x} = - \\frac{1}{x^{2}}$"
      ],
      "text/plain": [
       "Eq(Derivative(1/x, x), -1/x**2)"
      ]
     },
     "metadata": {},
     "output_type": "display_data"
    },
    {
     "data": {
      "text/latex": [
       "$\\displaystyle \\int \\left(\\sin{\\left(x \\right)} + \\tan{\\left(x \\right)}\\right)\\, dx = - \\log{\\left(\\cos{\\left(x \\right)} \\right)} - \\cos{\\left(x \\right)}$"
      ],
      "text/plain": [
       "Eq(Integral(sin(x) + tan(x), x), -log(cos(x)) - cos(x))"
      ]
     },
     "metadata": {},
     "output_type": "display_data"
    },
    {
     "data": {
      "text/latex": [
       "$\\displaystyle \\frac{d}{d x} \\frac{\\cos{\\left(x \\right)}}{\\sqrt{x}} = - \\frac{\\sin{\\left(x \\right)}}{\\sqrt{x}} - \\frac{\\cos{\\left(x \\right)}}{2 x^{\\frac{3}{2}}}$"
      ],
      "text/plain": [
       "Eq(Derivative(cos(x)/sqrt(x), x), -sin(x)/sqrt(x) - cos(x)/(2*x**(3/2)))"
      ]
     },
     "metadata": {},
     "output_type": "display_data"
    },
    {
     "data": {
      "text/latex": [
       "$\\displaystyle \\int \\frac{\\log{\\left(x \\right)}}{x^{4} - 4}\\, dx = \\int \\frac{\\log{\\left(x \\right)}}{\\left(x^{2} - 2\\right) \\left(x^{2} + 2\\right)}\\, dx$"
      ],
      "text/plain": [
       "Eq(Integral(log(x)/(x**4 - 4), x), Integral(log(x)/((x**2 - 2)*(x**2 + 2)), x))"
      ]
     },
     "metadata": {},
     "output_type": "display_data"
    },
    {
     "data": {
      "text/latex": [
       "$\\displaystyle \\frac{d}{d x} \\left(- x^{3} + x + \\tan{\\left(x \\right)} + 3\\right) = - 3 x^{2} + \\tan^{2}{\\left(x \\right)} + 2$"
      ],
      "text/plain": [
       "Eq(Derivative(-x**3 + x + tan(x) + 3, x), -3*x**2 + tan(x)**2 + 2)"
      ]
     },
     "metadata": {},
     "output_type": "display_data"
    },
    {
     "data": {
      "text/latex": [
       "$\\displaystyle \\int \\left(\\sqrt{x} + x - 5\\right)\\, dx = \\frac{2 x^{\\frac{3}{2}}}{3} + \\frac{x^{2}}{2} - 5 x$"
      ],
      "text/plain": [
       "Eq(Integral(sqrt(x) + x - 5, x), 2*x**(3/2)/3 + x**2/2 - 5*x)"
      ]
     },
     "metadata": {},
     "output_type": "display_data"
    },
    {
     "data": {
      "text/latex": [
       "$\\displaystyle \\frac{d}{d x} \\left(e^{x} + \\sin{\\left(x \\right)}\\right) = e^{x} + \\cos{\\left(x \\right)}$"
      ],
      "text/plain": [
       "Eq(Derivative(exp(x) + sin(x), x), exp(x) + cos(x))"
      ]
     },
     "metadata": {},
     "output_type": "display_data"
    },
    {
     "data": {
      "text/latex": [
       "$\\displaystyle \\int \\left(3 x + e^{x}\\right)\\, dx = \\frac{3 x^{2}}{2} + e^{x}$"
      ],
      "text/plain": [
       "Eq(Integral(3*x + exp(x), x), 3*x**2/2 + exp(x))"
      ]
     },
     "metadata": {},
     "output_type": "display_data"
    },
    {
     "data": {
      "text/latex": [
       "$\\displaystyle \\frac{d}{d x} \\left(x + \\log{\\left(x \\right)} - 5\\right) = 1 + \\frac{1}{x}$"
      ],
      "text/plain": [
       "Eq(Derivative(x + log(x) - 5, x), 1 + 1/x)"
      ]
     },
     "metadata": {},
     "output_type": "display_data"
    },
    {
     "data": {
      "text/latex": [
       "$\\displaystyle \\int \\left(\\cos{\\left(x \\right)} + \\tan{\\left(x \\right)}\\right)\\, dx = - \\log{\\left(\\cos{\\left(x \\right)} \\right)} + \\sin{\\left(x \\right)}$"
      ],
      "text/plain": [
       "Eq(Integral(cos(x) + tan(x), x), -log(cos(x)) + sin(x))"
      ]
     },
     "metadata": {},
     "output_type": "display_data"
    },
    {
     "data": {
      "text/latex": [
       "$\\displaystyle \\frac{d}{d x} \\tan{\\left(e^{x} \\right)} = \\left(\\tan^{2}{\\left(e^{x} \\right)} + 1\\right) e^{x}$"
      ],
      "text/plain": [
       "Eq(Derivative(tan(exp(x)), x), (tan(exp(x))**2 + 1)*exp(x))"
      ]
     },
     "metadata": {},
     "output_type": "display_data"
    },
    {
     "data": {
      "text/latex": [
       "$\\displaystyle \\int \\cos{\\left(3 x \\right)}\\, dx = \\frac{\\sin{\\left(3 x \\right)}}{3}$"
      ],
      "text/plain": [
       "Eq(Integral(cos(3*x), x), sin(3*x)/3)"
      ]
     },
     "metadata": {},
     "output_type": "display_data"
    },
    {
     "data": {
      "text/latex": [
       "$\\displaystyle \\frac{d}{d x} \\left(\\sqrt{x} - 3 x + \\frac{1}{x^{4}}\\right) = -3 - \\frac{4}{x^{5}} + \\frac{1}{2 \\sqrt{x}}$"
      ],
      "text/plain": [
       "Eq(Derivative(sqrt(x) - 3*x + x**(-4), x), -3 - 4/x**5 + 1/(2*sqrt(x)))"
      ]
     },
     "metadata": {},
     "output_type": "display_data"
    },
    {
     "data": {
      "text/latex": [
       "$\\displaystyle \\int \\left(x + 1 + \\frac{1}{x^{2}}\\right)\\, dx = \\frac{x^{2}}{2} + x - \\frac{1}{x}$"
      ],
      "text/plain": [
       "Eq(Integral(x + 1 + x**(-2), x), x**2/2 + x - 1/x)"
      ]
     },
     "metadata": {},
     "output_type": "display_data"
    },
    {
     "data": {
      "text/latex": [
       "$\\displaystyle \\frac{d}{d x} \\frac{\\sqrt[3]{x}}{x^{5} - 2 x - 5} = \\frac{\\sqrt[3]{x} \\left(2 - 5 x^{4}\\right)}{\\left(x^{5} - 2 x - 5\\right)^{2}} + \\frac{1}{3 x^{\\frac{2}{3}} \\left(x^{5} - 2 x - 5\\right)}$"
      ],
      "text/plain": [
       "Eq(Derivative(x**(1/3)/(x**5 - 2*x - 5), x), x**(1/3)*(2 - 5*x**4)/(x**5 - 2*x - 5)**2 + 1/(3*x**(2/3)*(x**5 - 2*x - 5)))"
      ]
     },
     "metadata": {},
     "output_type": "display_data"
    },
    {
     "data": {
      "text/latex": [
       "$\\displaystyle \\int \\frac{x + 3}{\\sqrt{x}}\\, dx = \\frac{2 x^{\\frac{3}{2}}}{3} + 6 \\sqrt{x}$"
      ],
      "text/plain": [
       "Eq(Integral((x + 3)/sqrt(x), x), 2*x**(3/2)/3 + 6*sqrt(x))"
      ]
     },
     "metadata": {},
     "output_type": "display_data"
    },
    {
     "data": {
      "text/latex": [
       "$\\displaystyle \\frac{d}{d x} \\frac{x - 1}{\\tan{\\left(x \\right)}} = \\frac{\\left(x - 1\\right) \\left(- \\tan^{2}{\\left(x \\right)} - 1\\right)}{\\tan^{2}{\\left(x \\right)}} + \\frac{1}{\\tan{\\left(x \\right)}}$"
      ],
      "text/plain": [
       "Eq(Derivative((x - 1)/tan(x), x), (x - 1)*(-tan(x)**2 - 1)/tan(x)**2 + 1/tan(x))"
      ]
     },
     "metadata": {},
     "output_type": "display_data"
    },
    {
     "data": {
      "text/latex": [
       "$\\displaystyle \\int \\log{\\left(e^{x} \\right)}\\, dx = \\frac{x^{2}}{2}$"
      ],
      "text/plain": [
       "Eq(Integral(log(exp(x)), x), x**2/2)"
      ]
     },
     "metadata": {},
     "output_type": "display_data"
    },
    {
     "data": {
      "text/latex": [
       "$\\displaystyle \\frac{d}{d x} \\frac{3 x + \\frac{1}{x^{3}}}{- x - 2} = \\frac{3 - \\frac{3}{x^{4}}}{- x - 2} + \\frac{3 x + \\frac{1}{x^{3}}}{\\left(- x - 2\\right)^{2}}$"
      ],
      "text/plain": [
       "Eq(Derivative((3*x + x**(-3))/(-x - 2), x), (3 - 3/x**4)/(-x - 2) + (3*x + x**(-3))/(-x - 2)**2)"
      ]
     },
     "metadata": {},
     "output_type": "display_data"
    },
    {
     "data": {
      "text/latex": [
       "$\\displaystyle \\int \\left(\\log{\\left(x \\right)} + \\cos{\\left(x \\right)}\\right)\\, dx = x \\log{\\left(x \\right)} - x + \\sin{\\left(x \\right)}$"
      ],
      "text/plain": [
       "Eq(Integral(log(x) + cos(x), x), x*log(x) - x + sin(x))"
      ]
     },
     "metadata": {},
     "output_type": "display_data"
    },
    {
     "data": {
      "text/latex": [
       "$\\displaystyle \\frac{d}{d x} \\left(x - \\cos{\\left(x \\right)}\\right) = \\sin{\\left(x \\right)} + 1$"
      ],
      "text/plain": [
       "Eq(Derivative(x - cos(x), x), sin(x) + 1)"
      ]
     },
     "metadata": {},
     "output_type": "display_data"
    },
    {
     "data": {
      "text/latex": [
       "$\\displaystyle \\int \\left(\\sqrt{x} + 3 x\\right)\\, dx = \\frac{2 x^{\\frac{3}{2}}}{3} + \\frac{3 x^{2}}{2}$"
      ],
      "text/plain": [
       "Eq(Integral(sqrt(x) + 3*x, x), 2*x**(3/2)/3 + 3*x**2/2)"
      ]
     },
     "metadata": {},
     "output_type": "display_data"
    },
    {
     "data": {
      "text/latex": [
       "$\\displaystyle \\frac{d}{d x} \\frac{\\sqrt[3]{x}}{\\log{\\left(x \\right)}} = \\frac{1}{3 x^{\\frac{2}{3}} \\log{\\left(x \\right)}} - \\frac{1}{x^{\\frac{2}{3}} \\log{\\left(x \\right)}^{2}}$"
      ],
      "text/plain": [
       "Eq(Derivative(x**(1/3)/log(x), x), 1/(3*x**(2/3)*log(x)) - 1/(x**(2/3)*log(x)**2))"
      ]
     },
     "metadata": {},
     "output_type": "display_data"
    },
    {
     "data": {
      "text/latex": [
       "$\\displaystyle \\int \\left(\\sin{\\left(x \\right)} + \\frac{1}{x^{2}}\\right)\\, dx = - \\cos{\\left(x \\right)} - \\frac{1}{x}$"
      ],
      "text/plain": [
       "Eq(Integral(sin(x) + x**(-2), x), -cos(x) - 1/x)"
      ]
     },
     "metadata": {},
     "output_type": "display_data"
    },
    {
     "data": {
      "text/latex": [
       "$\\displaystyle \\frac{d}{d x} \\left(\\sqrt[3]{x} + x - 3\\right) = 1 + \\frac{1}{3 x^{\\frac{2}{3}}}$"
      ],
      "text/plain": [
       "Eq(Derivative(x**(1/3) + x - 3, x), 1 + 1/(3*x**(2/3)))"
      ]
     },
     "metadata": {},
     "output_type": "display_data"
    },
    {
     "data": {
      "text/latex": [
       "$\\displaystyle \\int \\left(- x^{2} - 3 x + \\log{\\left(x \\right)} - 4\\right)\\, dx = - \\frac{x^{3}}{3} - \\frac{3 x^{2}}{2} + x \\log{\\left(x \\right)} - 5 x$"
      ],
      "text/plain": [
       "Eq(Integral(-x**2 - 3*x + log(x) - 4, x), -x**3/3 - 3*x**2/2 + x*log(x) - 5*x)"
      ]
     },
     "metadata": {},
     "output_type": "display_data"
    },
    {
     "data": {
      "text/latex": [
       "$\\displaystyle \\frac{d}{d x} x \\left(x + 2\\right) = 2 x + 2$"
      ],
      "text/plain": [
       "Eq(Derivative(x*(x + 2), x), 2*x + 2)"
      ]
     },
     "metadata": {},
     "output_type": "display_data"
    },
    {
     "data": {
      "text/latex": [
       "$\\displaystyle \\int \\frac{\\sqrt[3]{x}}{- x - 4}\\, dx = - 3 \\sqrt[3]{x} + 2^{\\frac{2}{3}} \\log{\\left(\\sqrt[3]{x} + 2^{\\frac{2}{3}} \\right)} - \\frac{2^{\\frac{2}{3}} \\log{\\left(4 x^{\\frac{2}{3}} - 4 \\cdot 2^{\\frac{2}{3}} \\sqrt[3]{x} + 8 \\sqrt[3]{2} \\right)}}{2} + 2^{\\frac{2}{3}} \\sqrt{3} \\operatorname{atan}{\\left(\\frac{\\sqrt[3]{2} \\sqrt{3} \\sqrt[3]{x}}{3} - \\frac{\\sqrt{3}}{3} \\right)}$"
      ],
      "text/plain": [
       "Eq(Integral(x**(1/3)/(-x - 4), x), -3*x**(1/3) + 2**(2/3)*log(x**(1/3) + 2**(2/3)) - 2**(2/3)*log(4*x**(2/3) - 4*2**(2/3)*x**(1/3) + 8*2**(1/3))/2 + 2**(2/3)*sqrt(3)*atan(2**(1/3)*sqrt(3)*x**(1/3)/3 - sqrt(3)/3))"
      ]
     },
     "metadata": {},
     "output_type": "display_data"
    },
    {
     "data": {
      "text/latex": [
       "$\\displaystyle \\frac{d}{d x} \\left(- \\sqrt{x} + x^{3} + 2 x + 1\\right) = 3 x^{2} + 2 - \\frac{1}{2 \\sqrt{x}}$"
      ],
      "text/plain": [
       "Eq(Derivative(-sqrt(x) + x**3 + 2*x + 1, x), 3*x**2 + 2 - 1/(2*sqrt(x)))"
      ]
     },
     "metadata": {},
     "output_type": "display_data"
    },
    {
     "data": {
      "text/latex": [
       "$\\displaystyle \\int \\frac{e^{x}}{\\tan{\\left(x \\right)}}\\, dx = \\int \\frac{e^{x}}{\\tan{\\left(x \\right)}}\\, dx$"
      ],
      "text/plain": [
       "Eq(Integral(exp(x)/tan(x), x), Integral(exp(x)/tan(x), x))"
      ]
     },
     "metadata": {},
     "output_type": "display_data"
    },
    {
     "data": {
      "text/latex": [
       "$\\displaystyle \\frac{d}{d x} \\frac{e^{x}}{\\cos{\\left(x \\right)}} = \\frac{e^{x} \\sin{\\left(x \\right)}}{\\cos^{2}{\\left(x \\right)}} + \\frac{e^{x}}{\\cos{\\left(x \\right)}}$"
      ],
      "text/plain": [
       "Eq(Derivative(exp(x)/cos(x), x), exp(x)*sin(x)/cos(x)**2 + exp(x)/cos(x))"
      ]
     },
     "metadata": {},
     "output_type": "display_data"
    },
    {
     "data": {
      "text/latex": [
       "$\\displaystyle \\int \\left(x + \\tan{\\left(x \\right)}\\right)\\, dx = \\frac{x^{2}}{2} - \\log{\\left(\\cos{\\left(x \\right)} \\right)}$"
      ],
      "text/plain": [
       "Eq(Integral(x + tan(x), x), x**2/2 - log(cos(x)))"
      ]
     },
     "metadata": {},
     "output_type": "display_data"
    },
    {
     "data": {
      "text/latex": [
       "$\\displaystyle \\frac{d}{d x} \\sqrt[3]{3} \\sqrt[3]{- x} = \\frac{\\sqrt[3]{3} \\sqrt[3]{- x}}{3 x}$"
      ],
      "text/plain": [
       "Eq(Derivative(3**(1/3)*(-x)**(1/3), x), 3**(1/3)*(-x)**(1/3)/(3*x))"
      ]
     },
     "metadata": {},
     "output_type": "display_data"
    },
    {
     "data": {
      "text/latex": [
       "$\\displaystyle \\int \\frac{\\sin{\\left(x \\right)}}{- 2 x + 2 + \\frac{1}{x^{2}}}\\, dx = - \\int \\frac{x^{2} \\sin{\\left(x \\right)}}{2 x^{3} - 2 x^{2} - 1}\\, dx$"
      ],
      "text/plain": [
       "Eq(Integral(sin(x)/(-2*x + 2 + x**(-2)), x), -Integral(x**2*sin(x)/(2*x**3 - 2*x**2 - 1), x))"
      ]
     },
     "metadata": {},
     "output_type": "display_data"
    },
    {
     "data": {
      "text/latex": [
       "$\\displaystyle \\frac{d}{d x} \\left(- \\sqrt[3]{x} - 3 + \\frac{1}{x}\\right) = - \\frac{1}{x^{2}} - \\frac{1}{3 x^{\\frac{2}{3}}}$"
      ],
      "text/plain": [
       "Eq(Derivative(-x**(1/3) - 3 + 1/x, x), -1/x**2 - 1/(3*x**(2/3)))"
      ]
     },
     "metadata": {},
     "output_type": "display_data"
    },
    {
     "data": {
      "text/latex": [
       "$\\displaystyle \\int \\frac{\\sqrt{x}}{x + 1}\\, dx = 2 \\sqrt{x} - 2 \\operatorname{atan}{\\left(\\sqrt{x} \\right)}$"
      ],
      "text/plain": [
       "Eq(Integral(sqrt(x)/(x + 1), x), 2*sqrt(x) - 2*atan(sqrt(x)))"
      ]
     },
     "metadata": {},
     "output_type": "display_data"
    },
    {
     "data": {
      "text/latex": [
       "$\\displaystyle \\frac{d}{d x} \\frac{2}{x} = - \\frac{2}{x^{2}}$"
      ],
      "text/plain": [
       "Eq(Derivative(2/x, x), -2/x**2)"
      ]
     },
     "metadata": {},
     "output_type": "display_data"
    },
    {
     "data": {
      "text/latex": [
       "$\\displaystyle \\int \\left(\\sqrt{x} - x + 3\\right)\\, dx = \\frac{2 x^{\\frac{3}{2}}}{3} - \\frac{x^{2}}{2} + 3 x$"
      ],
      "text/plain": [
       "Eq(Integral(sqrt(x) - x + 3, x), 2*x**(3/2)/3 - x**2/2 + 3*x)"
      ]
     },
     "metadata": {},
     "output_type": "display_data"
    },
    {
     "data": {
      "text/latex": [
       "$\\displaystyle \\frac{d}{d x} \\left(- 4 x - 4 + \\frac{1}{x^{2}}\\right) = -4 - \\frac{2}{x^{3}}$"
      ],
      "text/plain": [
       "Eq(Derivative(-4*x - 4 + x**(-2), x), -4 - 2/x**3)"
      ]
     },
     "metadata": {},
     "output_type": "display_data"
    },
    {
     "data": {
      "text/latex": [
       "$\\displaystyle \\int \\frac{1}{x^{2} - 2 x}\\, dx = - \\frac{\\log{\\left(x \\right)}}{2} + \\frac{\\log{\\left(x - 2 \\right)}}{2}$"
      ],
      "text/plain": [
       "Eq(Integral(1/(x**2 - 2*x), x), -log(x)/2 + log(x - 2)/2)"
      ]
     },
     "metadata": {},
     "output_type": "display_data"
    },
    {
     "data": {
      "text/latex": [
       "$\\displaystyle \\frac{d}{d x} \\left(4 + \\frac{1}{x^{2}}\\right) e^{- x} = - \\left(4 + \\frac{1}{x^{2}}\\right) e^{- x} - \\frac{2 e^{- x}}{x^{3}}$"
      ],
      "text/plain": [
       "Eq(Derivative((4 + x**(-2))*exp(-x), x), -(4 + x**(-2))*exp(-x) - 2*exp(-x)/x**3)"
      ]
     },
     "metadata": {},
     "output_type": "display_data"
    },
    {
     "data": {
      "text/latex": [
       "$\\displaystyle \\int \\frac{\\cos{\\left(x \\right)}}{\\log{\\left(x \\right)}}\\, dx = \\int \\frac{\\cos{\\left(x \\right)}}{\\log{\\left(x \\right)}}\\, dx$"
      ],
      "text/plain": [
       "Eq(Integral(cos(x)/log(x), x), Integral(cos(x)/log(x), x))"
      ]
     },
     "metadata": {},
     "output_type": "display_data"
    },
    {
     "data": {
      "text/latex": [
       "$\\displaystyle \\frac{d}{d x} \\left(e^{x} - \\cos{\\left(x \\right)}\\right) = e^{x} + \\sin{\\left(x \\right)}$"
      ],
      "text/plain": [
       "Eq(Derivative(exp(x) - cos(x), x), exp(x) + sin(x))"
      ]
     },
     "metadata": {},
     "output_type": "display_data"
    },
    {
     "data": {
      "text/latex": [
       "$\\displaystyle \\int \\left(- x - \\log{\\left(x \\right)} + 3 + \\frac{1}{x}\\right)\\, dx = - \\frac{x^{2}}{2} - x \\log{\\left(x \\right)} + 4 x + \\log{\\left(x \\right)}$"
      ],
      "text/plain": [
       "Eq(Integral(-x - log(x) + 3 + 1/x, x), -x**2/2 - x*log(x) + 4*x + log(x))"
      ]
     },
     "metadata": {},
     "output_type": "display_data"
    },
    {
     "data": {
      "text/latex": [
       "$\\displaystyle \\frac{d}{d x} \\left(- x^{2} - 3 x + e^{x} - 4\\right) = - 2 x + e^{x} - 3$"
      ],
      "text/plain": [
       "Eq(Derivative(-x**2 - 3*x + exp(x) - 4, x), -2*x + exp(x) - 3)"
      ]
     },
     "metadata": {},
     "output_type": "display_data"
    },
    {
     "data": {
      "text/latex": [
       "$\\displaystyle \\int \\left(4 x + \\sin{\\left(x \\right)}\\right)\\, dx = 2 x^{2} - \\cos{\\left(x \\right)}$"
      ],
      "text/plain": [
       "Eq(Integral(4*x + sin(x), x), 2*x**2 - cos(x))"
      ]
     },
     "metadata": {},
     "output_type": "display_data"
    },
    {
     "data": {
      "text/latex": [
       "$\\displaystyle \\frac{d}{d x} \\frac{\\sqrt{x}}{\\tan{\\left(x \\right)}} = \\frac{\\sqrt{x} \\left(- \\tan^{2}{\\left(x \\right)} - 1\\right)}{\\tan^{2}{\\left(x \\right)}} + \\frac{1}{2 \\sqrt{x} \\tan{\\left(x \\right)}}$"
      ],
      "text/plain": [
       "Eq(Derivative(sqrt(x)/tan(x), x), sqrt(x)*(-tan(x)**2 - 1)/tan(x)**2 + 1/(2*sqrt(x)*tan(x)))"
      ]
     },
     "metadata": {},
     "output_type": "display_data"
    },
    {
     "data": {
      "text/latex": [
       "$\\displaystyle \\int \\left(- \\sin{\\left(x \\right)} + \\frac{1}{x^{2}}\\right)\\, dx = \\cos{\\left(x \\right)} - \\frac{1}{x}$"
      ],
      "text/plain": [
       "Eq(Integral(-sin(x) + x**(-2), x), cos(x) - 1/x)"
      ]
     },
     "metadata": {},
     "output_type": "display_data"
    },
    {
     "data": {
      "text/latex": [
       "$\\displaystyle \\frac{d}{d x} \\left(2 x + \\tan{\\left(x \\right)}\\right) = \\tan^{2}{\\left(x \\right)} + 3$"
      ],
      "text/plain": [
       "Eq(Derivative(2*x + tan(x), x), tan(x)**2 + 3)"
      ]
     },
     "metadata": {},
     "output_type": "display_data"
    },
    {
     "data": {
      "text/latex": [
       "$\\displaystyle \\int \\left(e^{x} - \\tan{\\left(x \\right)}\\right)\\, dx = e^{x} + \\log{\\left(\\cos{\\left(x \\right)} \\right)}$"
      ],
      "text/plain": [
       "Eq(Integral(exp(x) - tan(x), x), exp(x) + log(cos(x)))"
      ]
     },
     "metadata": {},
     "output_type": "display_data"
    },
    {
     "data": {
      "text/latex": [
       "$\\displaystyle \\frac{d}{d x} \\frac{x - 4}{\\sin{\\left(x \\right)}} = - \\frac{\\left(x - 4\\right) \\cos{\\left(x \\right)}}{\\sin^{2}{\\left(x \\right)}} + \\frac{1}{\\sin{\\left(x \\right)}}$"
      ],
      "text/plain": [
       "Eq(Derivative((x - 4)/sin(x), x), -(x - 4)*cos(x)/sin(x)**2 + 1/sin(x))"
      ]
     },
     "metadata": {},
     "output_type": "display_data"
    },
    {
     "data": {
      "text/latex": [
       "$\\displaystyle \\int \\left(2 x - \\tan{\\left(x \\right)} - 3 + \\frac{1}{x}\\right)\\, dx = x^{2} - 3 x + \\log{\\left(x \\right)} + \\log{\\left(\\cos{\\left(x \\right)} \\right)}$"
      ],
      "text/plain": [
       "Eq(Integral(2*x - tan(x) - 3 + 1/x, x), x**2 - 3*x + log(x) + log(cos(x)))"
      ]
     },
     "metadata": {},
     "output_type": "display_data"
    },
    {
     "data": {
      "text/latex": [
       "$\\displaystyle \\frac{d}{d x} \\sqrt{x} = \\frac{1}{2 \\sqrt{x}}$"
      ],
      "text/plain": [
       "Eq(Derivative(sqrt(x), x), 1/(2*sqrt(x)))"
      ]
     },
     "metadata": {},
     "output_type": "display_data"
    },
    {
     "data": {
      "text/latex": [
       "$\\displaystyle \\int \\log{\\left(\\cos{\\left(x \\right)} \\right)}\\, dx = \\int \\log{\\left(\\cos{\\left(x \\right)} \\right)}\\, dx$"
      ],
      "text/plain": [
       "Eq(Integral(log(cos(x)), x), Integral(log(cos(x)), x))"
      ]
     },
     "metadata": {},
     "output_type": "display_data"
    },
    {
     "data": {
      "text/latex": [
       "$\\displaystyle \\frac{d}{d x} \\left(x^{5} + \\tan{\\left(x \\right)}\\right) = 5 x^{4} + \\tan^{2}{\\left(x \\right)} + 1$"
      ],
      "text/plain": [
       "Eq(Derivative(x**5 + tan(x), x), 5*x**4 + tan(x)**2 + 1)"
      ]
     },
     "metadata": {},
     "output_type": "display_data"
    },
    {
     "data": {
      "text/latex": [
       "$\\displaystyle \\int \\left(- \\sqrt{x} + x\\right)\\, dx = - \\frac{2 x^{\\frac{3}{2}}}{3} + \\frac{x^{2}}{2}$"
      ],
      "text/plain": [
       "Eq(Integral(-sqrt(x) + x, x), -2*x**(3/2)/3 + x**2/2)"
      ]
     },
     "metadata": {},
     "output_type": "display_data"
    },
    {
     "data": {
      "text/latex": [
       "$\\displaystyle \\frac{d}{d x} \\left(2 x + \\tan{\\left(x \\right)} - \\frac{1}{x^{3}}\\right) = \\tan^{2}{\\left(x \\right)} + 3 + \\frac{3}{x^{4}}$"
      ],
      "text/plain": [
       "Eq(Derivative(2*x + tan(x) - 1/x**3, x), tan(x)**2 + 3 + 3/x**4)"
      ]
     },
     "metadata": {},
     "output_type": "display_data"
    },
    {
     "data": {
      "text/latex": [
       "$\\displaystyle \\int e^{x}\\, dx = e^{x}$"
      ],
      "text/plain": [
       "Eq(Integral(exp(x), x), exp(x))"
      ]
     },
     "metadata": {},
     "output_type": "display_data"
    },
    {
     "data": {
      "text/latex": [
       "$\\displaystyle \\frac{d}{d x} \\log{\\left(e^{x} \\right)} = 1$"
      ],
      "text/plain": [
       "Eq(Derivative(log(exp(x)), x), 1)"
      ]
     },
     "metadata": {},
     "output_type": "display_data"
    },
    {
     "data": {
      "text/latex": [
       "$\\displaystyle \\int \\left(x + \\tan{\\left(x \\right)} - 5\\right)\\, dx = \\frac{x^{2}}{2} - 5 x - \\log{\\left(\\cos{\\left(x \\right)} \\right)}$"
      ],
      "text/plain": [
       "Eq(Integral(x + tan(x) - 5, x), x**2/2 - 5*x - log(cos(x)))"
      ]
     },
     "metadata": {},
     "output_type": "display_data"
    },
    {
     "data": {
      "text/latex": [
       "$\\displaystyle \\frac{d}{d x} \\tan{\\left(e^{x} \\right)} = \\left(\\tan^{2}{\\left(e^{x} \\right)} + 1\\right) e^{x}$"
      ],
      "text/plain": [
       "Eq(Derivative(tan(exp(x)), x), (tan(exp(x))**2 + 1)*exp(x))"
      ]
     },
     "metadata": {},
     "output_type": "display_data"
    },
    {
     "data": {
      "text/latex": [
       "$\\displaystyle \\int \\left(\\log{\\left(x \\right)} + \\frac{1}{x^{3}}\\right)\\, dx = x \\log{\\left(x \\right)} - x - \\frac{1}{2 x^{2}}$"
      ],
      "text/plain": [
       "Eq(Integral(log(x) + x**(-3), x), x*log(x) - x - 1/(2*x**2))"
      ]
     },
     "metadata": {},
     "output_type": "display_data"
    },
    {
     "data": {
      "text/latex": [
       "$\\displaystyle \\frac{d}{d x} \\frac{\\log{\\left(x \\right)}}{\\sqrt[3]{x}} = - \\frac{\\log{\\left(x \\right)}}{3 x^{\\frac{4}{3}}} + \\frac{1}{x^{\\frac{4}{3}}}$"
      ],
      "text/plain": [
       "Eq(Derivative(log(x)/x**(1/3), x), -log(x)/(3*x**(4/3)) + x**(-4/3))"
      ]
     },
     "metadata": {},
     "output_type": "display_data"
    },
    {
     "data": {
      "text/latex": [
       "$\\displaystyle \\int \\log{\\left(\\sqrt[3]{x} \\right)}\\, dx = x \\log{\\left(\\sqrt[3]{x} \\right)} - \\frac{x}{3}$"
      ],
      "text/plain": [
       "Eq(Integral(log(x**(1/3)), x), x*log(x**(1/3)) - x/3)"
      ]
     },
     "metadata": {},
     "output_type": "display_data"
    },
    {
     "data": {
      "text/latex": [
       "$\\displaystyle \\frac{d}{d x} \\left(\\log{\\left(x \\right)} + \\sin{\\left(x \\right)}\\right) = \\cos{\\left(x \\right)} + \\frac{1}{x}$"
      ],
      "text/plain": [
       "Eq(Derivative(log(x) + sin(x), x), cos(x) + 1/x)"
      ]
     },
     "metadata": {},
     "output_type": "display_data"
    },
    {
     "data": {
      "text/latex": [
       "$\\displaystyle \\int \\cos{\\left(\\sin{\\left(x \\right)} \\right)}\\, dx = \\int \\cos{\\left(\\sin{\\left(x \\right)} \\right)}\\, dx$"
      ],
      "text/plain": [
       "Eq(Integral(cos(sin(x)), x), Integral(cos(sin(x)), x))"
      ]
     },
     "metadata": {},
     "output_type": "display_data"
    },
    {
     "data": {
      "text/latex": [
       "$\\displaystyle \\frac{d}{d x} \\left(- x - \\sin{\\left(x \\right)}\\right) = - \\cos{\\left(x \\right)} - 1$"
      ],
      "text/plain": [
       "Eq(Derivative(-x - sin(x), x), -cos(x) - 1)"
      ]
     },
     "metadata": {},
     "output_type": "display_data"
    },
    {
     "data": {
      "text/latex": [
       "$\\displaystyle \\int \\tan{\\left(\\sin{\\left(x \\right)} \\right)}\\, dx = \\int \\tan{\\left(\\sin{\\left(x \\right)} \\right)}\\, dx$"
      ],
      "text/plain": [
       "Eq(Integral(tan(sin(x)), x), Integral(tan(sin(x)), x))"
      ]
     },
     "metadata": {},
     "output_type": "display_data"
    },
    {
     "data": {
      "text/latex": [
       "$\\displaystyle \\frac{d}{d x} \\left(\\sqrt{x} - \\cos{\\left(x \\right)}\\right) = \\sin{\\left(x \\right)} + \\frac{1}{2 \\sqrt{x}}$"
      ],
      "text/plain": [
       "Eq(Derivative(sqrt(x) - cos(x), x), sin(x) + 1/(2*sqrt(x)))"
      ]
     },
     "metadata": {},
     "output_type": "display_data"
    },
    {
     "data": {
      "text/latex": [
       "$\\displaystyle \\int 0\\, dx = 0$"
      ],
      "text/plain": [
       "Eq(Integral(0, x), 0)"
      ]
     },
     "metadata": {},
     "output_type": "display_data"
    },
    {
     "data": {
      "text/latex": [
       "$\\displaystyle \\frac{d}{d x} \\left(x + \\frac{1}{x^{4}}\\right) = 1 - \\frac{4}{x^{5}}$"
      ],
      "text/plain": [
       "Eq(Derivative(x + x**(-4), x), 1 - 4/x**5)"
      ]
     },
     "metadata": {},
     "output_type": "display_data"
    },
    {
     "data": {
      "text/latex": [
       "$\\displaystyle \\int \\left(- 3 \\log{\\left(x \\right)}\\right)\\, dx = - 3 x \\log{\\left(x \\right)} + 3 x$"
      ],
      "text/plain": [
       "Eq(Integral(-3*log(x), x), -3*x*log(x) + 3*x)"
      ]
     },
     "metadata": {},
     "output_type": "display_data"
    },
    {
     "data": {
      "text/latex": [
       "$\\displaystyle \\frac{d}{d x} \\left(\\sqrt[3]{x} + \\sin{\\left(x \\right)}\\right) = \\cos{\\left(x \\right)} + \\frac{1}{3 x^{\\frac{2}{3}}}$"
      ],
      "text/plain": [
       "Eq(Derivative(x**(1/3) + sin(x), x), cos(x) + 1/(3*x**(2/3)))"
      ]
     },
     "metadata": {},
     "output_type": "display_data"
    },
    {
     "data": {
      "text/latex": [
       "$\\displaystyle \\int \\frac{x^{5} - x - 2}{2 x}\\, dx = \\frac{x^{5}}{10} - \\frac{x}{2} - \\log{\\left(x \\right)}$"
      ],
      "text/plain": [
       "Eq(Integral((x**5 - x - 2)/(2*x), x), x**5/10 - x/2 - log(x))"
      ]
     },
     "metadata": {},
     "output_type": "display_data"
    },
    {
     "data": {
      "text/latex": [
       "$\\displaystyle \\frac{d}{d x} \\left(3 - x\\right) = -1$"
      ],
      "text/plain": [
       "Eq(Derivative(3 - x, x), -1)"
      ]
     },
     "metadata": {},
     "output_type": "display_data"
    },
    {
     "data": {
      "text/latex": [
       "$\\displaystyle \\int \\left(- \\sqrt[3]{x} - x\\right)\\, dx = - \\frac{3 x^{\\frac{4}{3}}}{4} - \\frac{x^{2}}{2}$"
      ],
      "text/plain": [
       "Eq(Integral(-x**(1/3) - x, x), -3*x**(4/3)/4 - x**2/2)"
      ]
     },
     "metadata": {},
     "output_type": "display_data"
    },
    {
     "data": {
      "text/latex": [
       "$\\displaystyle \\frac{d}{d x} \\left(- x + \\cos{\\left(x \\right)}\\right) = - \\sin{\\left(x \\right)} - 1$"
      ],
      "text/plain": [
       "Eq(Derivative(-x + cos(x), x), -sin(x) - 1)"
      ]
     },
     "metadata": {},
     "output_type": "display_data"
    },
    {
     "data": {
      "text/latex": [
       "$\\displaystyle \\int \\frac{e^{x}}{\\sqrt[3]{x}}\\, dx = \\frac{2 e^{- \\frac{2 i \\pi}{3}} \\Gamma\\left(\\frac{2}{3}\\right) \\gamma\\left(\\frac{2}{3}, x e^{i \\pi}\\right)}{3 \\Gamma\\left(\\frac{5}{3}\\right)}$"
      ],
      "text/plain": [
       "Eq(Integral(exp(x)/x**(1/3), x), 2*exp(-2*I*pi/3)*gamma(2/3)*lowergamma(2/3, x*exp_polar(I*pi))/(3*gamma(5/3)))"
      ]
     },
     "metadata": {},
     "output_type": "display_data"
    },
    {
     "data": {
      "text/latex": [
       "$\\displaystyle \\frac{d}{d x} \\left(\\sqrt[3]{x} - 4 x\\right) = -4 + \\frac{1}{3 x^{\\frac{2}{3}}}$"
      ],
      "text/plain": [
       "Eq(Derivative(x**(1/3) - 4*x, x), -4 + 1/(3*x**(2/3)))"
      ]
     },
     "metadata": {},
     "output_type": "display_data"
    },
    {
     "data": {
      "text/latex": [
       "$\\displaystyle \\int \\left(x - \\tan{\\left(x \\right)} - 5\\right)\\, dx = \\frac{x^{2}}{2} - 5 x + \\log{\\left(\\cos{\\left(x \\right)} \\right)}$"
      ],
      "text/plain": [
       "Eq(Integral(x - tan(x) - 5, x), x**2/2 - 5*x + log(cos(x)))"
      ]
     },
     "metadata": {},
     "output_type": "display_data"
    },
    {
     "data": {
      "text/latex": [
       "$\\displaystyle \\frac{d}{d x} \\left(x^{4} - \\sin{\\left(x \\right)}\\right) = 4 x^{3} - \\cos{\\left(x \\right)}$"
      ],
      "text/plain": [
       "Eq(Derivative(x**4 - sin(x), x), 4*x**3 - cos(x))"
      ]
     },
     "metadata": {},
     "output_type": "display_data"
    },
    {
     "data": {
      "text/latex": [
       "$\\displaystyle \\int \\log{\\left(x^{5} + 2 x - 4 \\right)}\\, dx = x \\log{\\left(x^{5} + 2 x - 4 \\right)} - 5 x - \\operatorname{RootSum} {\\left(t^{5} + 2 t - 4, \\left( t \\mapsto t \\log{\\left(- t + x \\right)} \\right)\\right)}$"
      ],
      "text/plain": [
       "Eq(Integral(log(x**5 + 2*x - 4), x), x*log(x**5 + 2*x - 4) - 5*x - RootSum(_t**5 + 2*_t - 4, Lambda(_t, _t*log(-_t + x))))"
      ]
     },
     "metadata": {},
     "output_type": "display_data"
    },
    {
     "data": {
      "text/latex": [
       "$\\displaystyle \\frac{d}{d x} \\cos{\\left(\\log{\\left(x \\right)} \\right)} = - \\frac{\\sin{\\left(\\log{\\left(x \\right)} \\right)}}{x}$"
      ],
      "text/plain": [
       "Eq(Derivative(cos(log(x)), x), -sin(log(x))/x)"
      ]
     },
     "metadata": {},
     "output_type": "display_data"
    },
    {
     "data": {
      "text/latex": [
       "$\\displaystyle \\int 1\\, dx = x$"
      ],
      "text/plain": [
       "Eq(Integral(1, x), x)"
      ]
     },
     "metadata": {},
     "output_type": "display_data"
    },
    {
     "data": {
      "text/latex": [
       "$\\displaystyle \\frac{d}{d x} \\left(3 - 4 x\\right) = -4$"
      ],
      "text/plain": [
       "Eq(Derivative(3 - 4*x, x), -4)"
      ]
     },
     "metadata": {},
     "output_type": "display_data"
    },
    {
     "data": {
      "text/latex": [
       "$\\displaystyle \\int \\left(- x + \\tan{\\left(x \\right)}\\right)\\, dx = - \\frac{x^{2}}{2} - \\log{\\left(\\cos{\\left(x \\right)} \\right)}$"
      ],
      "text/plain": [
       "Eq(Integral(-x + tan(x), x), -x**2/2 - log(cos(x)))"
      ]
     },
     "metadata": {},
     "output_type": "display_data"
    },
    {
     "data": {
      "text/latex": [
       "$\\displaystyle \\frac{d}{d x} \\tan{\\left(x^{3} \\right)} = 3 x^{2} \\left(\\tan^{2}{\\left(x^{3} \\right)} + 1\\right)$"
      ],
      "text/plain": [
       "Eq(Derivative(tan(x**3), x), 3*x**2*(tan(x**3)**2 + 1))"
      ]
     },
     "metadata": {},
     "output_type": "display_data"
    },
    {
     "data": {
      "text/latex": [
       "$\\displaystyle \\int \\left(x + \\cos{\\left(x \\right)} + 4\\right)\\, dx = \\frac{x^{2}}{2} + 4 x + \\sin{\\left(x \\right)}$"
      ],
      "text/plain": [
       "Eq(Integral(x + cos(x) + 4, x), x**2/2 + 4*x + sin(x))"
      ]
     },
     "metadata": {},
     "output_type": "display_data"
    },
    {
     "data": {
      "text/latex": [
       "$\\displaystyle \\frac{d}{d x} \\left(e^{x} + \\sin{\\left(x \\right)}\\right) = e^{x} + \\cos{\\left(x \\right)}$"
      ],
      "text/plain": [
       "Eq(Derivative(exp(x) + sin(x), x), exp(x) + cos(x))"
      ]
     },
     "metadata": {},
     "output_type": "display_data"
    },
    {
     "data": {
      "text/latex": [
       "$\\displaystyle \\int \\left(x^{4} - 3\\right)\\, dx = \\frac{x^{5}}{5} - 3 x$"
      ],
      "text/plain": [
       "Eq(Integral(x**4 - 3, x), x**5/5 - 3*x)"
      ]
     },
     "metadata": {},
     "output_type": "display_data"
    },
    {
     "data": {
      "text/latex": [
       "$\\displaystyle \\frac{d}{d x} \\left(2 x + e^{x} - 1 - \\frac{1}{x^{3}}\\right) = e^{x} + 2 + \\frac{3}{x^{4}}$"
      ],
      "text/plain": [
       "Eq(Derivative(2*x + exp(x) - 1 - 1/x**3, x), exp(x) + 2 + 3/x**4)"
      ]
     },
     "metadata": {},
     "output_type": "display_data"
    },
    {
     "data": {
      "text/latex": [
       "$\\displaystyle \\int \\left(- \\frac{4 x}{x - 1}\\right)\\, dx = - 4 x - 4 \\log{\\left(x - 1 \\right)}$"
      ],
      "text/plain": [
       "Eq(Integral(-4*x/(x - 1), x), -4*x - 4*log(x - 1))"
      ]
     },
     "metadata": {},
     "output_type": "display_data"
    },
    {
     "data": {
      "text/latex": [
       "$\\displaystyle \\frac{d}{d x} \\log{\\left(\\tan{\\left(x \\right)} \\right)} = \\frac{\\tan^{2}{\\left(x \\right)} + 1}{\\tan{\\left(x \\right)}}$"
      ],
      "text/plain": [
       "Eq(Derivative(log(tan(x)), x), (tan(x)**2 + 1)/tan(x))"
      ]
     },
     "metadata": {},
     "output_type": "display_data"
    },
    {
     "data": {
      "text/latex": [
       "$\\displaystyle \\int \\left(\\sqrt{x} + x - 1\\right)\\, dx = \\frac{2 x^{\\frac{3}{2}}}{3} + \\frac{x^{2}}{2} - x$"
      ],
      "text/plain": [
       "Eq(Integral(sqrt(x) + x - 1, x), 2*x**(3/2)/3 + x**2/2 - x)"
      ]
     },
     "metadata": {},
     "output_type": "display_data"
    },
    {
     "data": {
      "text/latex": [
       "$\\displaystyle \\frac{d}{d x} \\sin{\\left(\\sqrt[3]{x} \\right)} = \\frac{\\cos{\\left(\\sqrt[3]{x} \\right)}}{3 x^{\\frac{2}{3}}}$"
      ],
      "text/plain": [
       "Eq(Derivative(sin(x**(1/3)), x), cos(x**(1/3))/(3*x**(2/3)))"
      ]
     },
     "metadata": {},
     "output_type": "display_data"
    },
    {
     "data": {
      "text/latex": [
       "$\\displaystyle \\int \\left(x + \\cos{\\left(x \\right)}\\right)\\, dx = \\frac{x^{2}}{2} + \\sin{\\left(x \\right)}$"
      ],
      "text/plain": [
       "Eq(Integral(x + cos(x), x), x**2/2 + sin(x))"
      ]
     },
     "metadata": {},
     "output_type": "display_data"
    },
    {
     "data": {
      "text/latex": [
       "$\\displaystyle \\frac{d}{d x} \\left(- \\frac{x}{1 - x}\\right) = - \\frac{x}{\\left(1 - x\\right)^{2}} - \\frac{1}{1 - x}$"
      ],
      "text/plain": [
       "Eq(Derivative(-x/(1 - x), x), -x/(1 - x)**2 - 1/(1 - x))"
      ]
     },
     "metadata": {},
     "output_type": "display_data"
    },
    {
     "data": {
      "text/latex": [
       "$\\displaystyle \\int 0\\, dx = 0$"
      ],
      "text/plain": [
       "Eq(Integral(0, x), 0)"
      ]
     },
     "metadata": {},
     "output_type": "display_data"
    },
    {
     "data": {
      "text/latex": [
       "$\\displaystyle \\frac{d}{d x} \\sin{\\left(\\sqrt{x} \\right)} = \\frac{\\cos{\\left(\\sqrt{x} \\right)}}{2 \\sqrt{x}}$"
      ],
      "text/plain": [
       "Eq(Derivative(sin(sqrt(x)), x), cos(sqrt(x))/(2*sqrt(x)))"
      ]
     },
     "metadata": {},
     "output_type": "display_data"
    },
    {
     "data": {
      "text/latex": [
       "$\\displaystyle \\int \\left(- \\frac{x}{\\sin{\\left(x \\right)}}\\right)\\, dx = - \\int \\frac{x}{\\sin{\\left(x \\right)}}\\, dx$"
      ],
      "text/plain": [
       "Eq(Integral(-x/sin(x), x), -Integral(x/sin(x), x))"
      ]
     },
     "metadata": {},
     "output_type": "display_data"
    },
    {
     "data": {
      "text/latex": [
       "$\\displaystyle \\frac{d}{d x} \\left(-2 + \\frac{1}{x}\\right) = - \\frac{1}{x^{2}}$"
      ],
      "text/plain": [
       "Eq(Derivative(-2 + 1/x, x), -1/x**2)"
      ]
     },
     "metadata": {},
     "output_type": "display_data"
    },
    {
     "data": {
      "text/latex": [
       "$\\displaystyle \\int \\left(\\sqrt[3]{x} - x\\right)\\, dx = \\frac{3 x^{\\frac{4}{3}}}{4} - \\frac{x^{2}}{2}$"
      ],
      "text/plain": [
       "Eq(Integral(x**(1/3) - x, x), 3*x**(4/3)/4 - x**2/2)"
      ]
     },
     "metadata": {},
     "output_type": "display_data"
    },
    {
     "data": {
      "text/latex": [
       "$\\displaystyle \\frac{d}{d x} \\frac{\\sin{\\left(x \\right)}}{\\sqrt[3]{x}} = \\frac{\\cos{\\left(x \\right)}}{\\sqrt[3]{x}} - \\frac{\\sin{\\left(x \\right)}}{3 x^{\\frac{4}{3}}}$"
      ],
      "text/plain": [
       "Eq(Derivative(sin(x)/x**(1/3), x), cos(x)/x**(1/3) - sin(x)/(3*x**(4/3)))"
      ]
     },
     "metadata": {},
     "output_type": "display_data"
    },
    {
     "data": {
      "text/latex": [
       "$\\displaystyle \\int \\left(- \\sin{\\left(2 x \\right)}\\right)\\, dx = \\frac{\\cos{\\left(2 x \\right)}}{2}$"
      ],
      "text/plain": [
       "Eq(Integral(-sin(2*x), x), cos(2*x)/2)"
      ]
     },
     "metadata": {},
     "output_type": "display_data"
    },
    {
     "data": {
      "text/latex": [
       "$\\displaystyle \\frac{d}{d x} \\left(\\sqrt[3]{x} + x^{3}\\right) = 3 x^{2} + \\frac{1}{3 x^{\\frac{2}{3}}}$"
      ],
      "text/plain": [
       "Eq(Derivative(x**(1/3) + x**3, x), 3*x**2 + 1/(3*x**(2/3)))"
      ]
     },
     "metadata": {},
     "output_type": "display_data"
    },
    {
     "data": {
      "text/latex": [
       "$\\displaystyle \\int 8 x\\, dx = 4 x^{2}$"
      ],
      "text/plain": [
       "Eq(Integral(8*x, x), 4*x**2)"
      ]
     },
     "metadata": {},
     "output_type": "display_data"
    },
    {
     "data": {
      "text/latex": [
       "$\\displaystyle \\frac{d}{d x} \\left(\\sqrt[3]{x} - \\sqrt{x}\\right) = - \\frac{1}{2 \\sqrt{x}} + \\frac{1}{3 x^{\\frac{2}{3}}}$"
      ],
      "text/plain": [
       "Eq(Derivative(x**(1/3) - sqrt(x), x), -1/(2*sqrt(x)) + 1/(3*x**(2/3)))"
      ]
     },
     "metadata": {},
     "output_type": "display_data"
    },
    {
     "data": {
      "text/latex": [
       "$\\displaystyle \\int \\frac{x + 1}{\\tan{\\left(x \\right)}}\\, dx = \\int \\frac{x + 1}{\\tan{\\left(x \\right)}}\\, dx$"
      ],
      "text/plain": [
       "Eq(Integral((x + 1)/tan(x), x), Integral((x + 1)/tan(x), x))"
      ]
     },
     "metadata": {},
     "output_type": "display_data"
    },
    {
     "data": {
      "text/latex": [
       "$\\displaystyle \\frac{d}{d x} x^{\\frac{5}{3}} = \\frac{5 x^{\\frac{2}{3}}}{3}$"
      ],
      "text/plain": [
       "Eq(Derivative(x**(5/3), x), 5*x**(2/3)/3)"
      ]
     },
     "metadata": {},
     "output_type": "display_data"
    },
    {
     "data": {
      "text/latex": [
       "$\\displaystyle \\int \\left(2 x + e^{x}\\right)\\, dx = x^{2} + e^{x}$"
      ],
      "text/plain": [
       "Eq(Integral(2*x + exp(x), x), x**2 + exp(x))"
      ]
     },
     "metadata": {},
     "output_type": "display_data"
    },
    {
     "data": {
      "text/latex": [
       "$\\displaystyle \\frac{d}{d x} \\left(e^{x} - 1\\right) = e^{x}$"
      ],
      "text/plain": [
       "Eq(Derivative(exp(x) - 1, x), exp(x))"
      ]
     },
     "metadata": {},
     "output_type": "display_data"
    },
    {
     "data": {
      "text/latex": [
       "$\\displaystyle \\int \\frac{\\sqrt{x}}{\\sin{\\left(x \\right)}}\\, dx = \\int \\frac{\\sqrt{x}}{\\sin{\\left(x \\right)}}\\, dx$"
      ],
      "text/plain": [
       "Eq(Integral(sqrt(x)/sin(x), x), Integral(sqrt(x)/sin(x), x))"
      ]
     },
     "metadata": {},
     "output_type": "display_data"
    },
    {
     "data": {
      "text/latex": [
       "$\\displaystyle \\frac{d}{d x} \\left(\\sqrt{x} - \\log{\\left(x \\right)}\\right) = - \\frac{1}{x} + \\frac{1}{2 \\sqrt{x}}$"
      ],
      "text/plain": [
       "Eq(Derivative(sqrt(x) - log(x), x), -1/x + 1/(2*sqrt(x)))"
      ]
     },
     "metadata": {},
     "output_type": "display_data"
    },
    {
     "data": {
      "text/latex": [
       "$\\displaystyle \\int \\frac{\\sqrt[3]{x}}{x^{2} + 2 x + 1}\\, dx = - \\frac{6 \\sqrt[3]{x}}{6 x + 6} + \\frac{2 x \\log{\\left(\\sqrt[3]{x} + 1 \\right)}}{6 x + 6} - \\frac{x \\log{\\left(4 x^{\\frac{2}{3}} - 4 \\sqrt[3]{x} + 4 \\right)}}{6 x + 6} + \\frac{2 \\sqrt{3} x \\operatorname{atan}{\\left(\\frac{2 \\sqrt{3} \\sqrt[3]{x}}{3} - \\frac{\\sqrt{3}}{3} \\right)}}{6 x + 6} + \\frac{2 x \\log{\\left(2 \\right)}}{6 x + 6} + \\frac{2 \\log{\\left(\\sqrt[3]{x} + 1 \\right)}}{6 x + 6} - \\frac{\\log{\\left(4 x^{\\frac{2}{3}} - 4 \\sqrt[3]{x} + 4 \\right)}}{6 x + 6} + \\frac{2 \\sqrt{3} \\operatorname{atan}{\\left(\\frac{2 \\sqrt{3} \\sqrt[3]{x}}{3} - \\frac{\\sqrt{3}}{3} \\right)}}{6 x + 6} + \\frac{2 \\log{\\left(2 \\right)}}{6 x + 6}$"
      ],
      "text/plain": [
       "Eq(Integral(x**(1/3)/(x**2 + 2*x + 1), x), -6*x**(1/3)/(6*x + 6) + 2*x*log(x**(1/3) + 1)/(6*x + 6) - x*log(4*x**(2/3) - 4*x**(1/3) + 4)/(6*x + 6) + 2*sqrt(3)*x*atan(2*sqrt(3)*x**(1/3)/3 - sqrt(3)/3)/(6*x + 6) + 2*x*log(2)/(6*x + 6) + 2*log(x**(1/3) + 1)/(6*x + 6) - log(4*x**(2/3) - 4*x**(1/3) + 4)/(6*x + 6) + 2*sqrt(3)*atan(2*sqrt(3)*x**(1/3)/3 - sqrt(3)/3)/(6*x + 6) + 2*log(2)/(6*x + 6))"
      ]
     },
     "metadata": {},
     "output_type": "display_data"
    },
    {
     "data": {
      "text/latex": [
       "$\\displaystyle \\frac{d}{d x} 2 \\sqrt{x} = \\frac{1}{\\sqrt{x}}$"
      ],
      "text/plain": [
       "Eq(Derivative(2*sqrt(x), x), 1/sqrt(x))"
      ]
     },
     "metadata": {},
     "output_type": "display_data"
    },
    {
     "data": {
      "text/latex": [
       "$\\displaystyle \\int \\left(\\sin^{2}{\\left(x \\right)} + 2 \\sin{\\left(x \\right)} - 2\\right)\\, dx = - \\frac{3 x}{2} - \\frac{\\sin{\\left(x \\right)} \\cos{\\left(x \\right)}}{2} - 2 \\cos{\\left(x \\right)}$"
      ],
      "text/plain": [
       "Eq(Integral(sin(x)**2 + 2*sin(x) - 2, x), -3*x/2 - sin(x)*cos(x)/2 - 2*cos(x))"
      ]
     },
     "metadata": {},
     "output_type": "display_data"
    },
    {
     "data": {
      "text/latex": [
       "$\\displaystyle \\frac{d}{d x} \\log{\\left(\\cos{\\left(x \\right)} \\right)} = - \\frac{\\sin{\\left(x \\right)}}{\\cos{\\left(x \\right)}}$"
      ],
      "text/plain": [
       "Eq(Derivative(log(cos(x)), x), -sin(x)/cos(x))"
      ]
     },
     "metadata": {},
     "output_type": "display_data"
    },
    {
     "data": {
      "text/latex": [
       "$\\displaystyle \\int \\left(2 - 3 x\\right)\\, dx = - \\frac{3 x^{2}}{2} + 2 x$"
      ],
      "text/plain": [
       "Eq(Integral(2 - 3*x, x), -3*x**2/2 + 2*x)"
      ]
     },
     "metadata": {},
     "output_type": "display_data"
    },
    {
     "data": {
      "text/latex": [
       "$\\displaystyle \\frac{d}{d x} \\cos{\\left(\\sqrt[3]{x} \\right)} = - \\frac{\\sin{\\left(\\sqrt[3]{x} \\right)}}{3 x^{\\frac{2}{3}}}$"
      ],
      "text/plain": [
       "Eq(Derivative(cos(x**(1/3)), x), -sin(x**(1/3))/(3*x**(2/3)))"
      ]
     },
     "metadata": {},
     "output_type": "display_data"
    },
    {
     "data": {
      "text/latex": [
       "$\\displaystyle \\int \\cos{\\left(x^{2} \\right)}\\, dx = \\frac{\\sqrt{2} \\sqrt{\\pi} C\\left(\\frac{\\sqrt{2} x}{\\sqrt{\\pi}}\\right) \\Gamma\\left(\\frac{1}{4}\\right)}{8 \\Gamma\\left(\\frac{5}{4}\\right)}$"
      ],
      "text/plain": [
       "Eq(Integral(cos(x**2), x), sqrt(2)*sqrt(pi)*fresnelc(sqrt(2)*x/sqrt(pi))*gamma(1/4)/(8*gamma(5/4)))"
      ]
     },
     "metadata": {},
     "output_type": "display_data"
    },
    {
     "data": {
      "text/latex": [
       "$\\displaystyle \\frac{d}{d x} \\frac{x}{- 2 x - 4 + \\frac{1}{x}} = \\frac{x \\left(2 + \\frac{1}{x^{2}}\\right)}{\\left(- 2 x - 4 + \\frac{1}{x}\\right)^{2}} + \\frac{1}{- 2 x - 4 + \\frac{1}{x}}$"
      ],
      "text/plain": [
       "Eq(Derivative(x/(-2*x - 4 + 1/x), x), x*(2 + x**(-2))/(-2*x - 4 + 1/x)**2 + 1/(-2*x - 4 + 1/x))"
      ]
     },
     "metadata": {},
     "output_type": "display_data"
    },
    {
     "data": {
      "text/latex": [
       "$\\displaystyle \\int \\left(\\sqrt[3]{x} - x - 4\\right)\\, dx = \\frac{3 x^{\\frac{4}{3}}}{4} - \\frac{x^{2}}{2} - 4 x$"
      ],
      "text/plain": [
       "Eq(Integral(x**(1/3) - x - 4, x), 3*x**(4/3)/4 - x**2/2 - 4*x)"
      ]
     },
     "metadata": {},
     "output_type": "display_data"
    },
    {
     "data": {
      "text/latex": [
       "$\\displaystyle \\frac{d}{d x} \\left(x + \\sin{\\left(x \\right)}\\right) = \\cos{\\left(x \\right)} + 1$"
      ],
      "text/plain": [
       "Eq(Derivative(x + sin(x), x), cos(x) + 1)"
      ]
     },
     "metadata": {},
     "output_type": "display_data"
    },
    {
     "data": {
      "text/latex": [
       "$\\displaystyle \\int \\sin{\\left(x^{4} + 2 x + 2 \\right)}\\, dx = \\int \\sin{\\left(x^{4} + 2 x + 2 \\right)}\\, dx$"
      ],
      "text/plain": [
       "Eq(Integral(sin(x**4 + 2*x + 2), x), Integral(sin(x**4 + 2*x + 2), x))"
      ]
     },
     "metadata": {},
     "output_type": "display_data"
    },
    {
     "data": {
      "text/latex": [
       "$\\displaystyle \\frac{d}{d x} \\left(- \\frac{1}{x^{2}}\\right) = \\frac{2}{x^{3}}$"
      ],
      "text/plain": [
       "Eq(Derivative(-1/x**2, x), 2/x**3)"
      ]
     },
     "metadata": {},
     "output_type": "display_data"
    },
    {
     "data": {
      "text/latex": [
       "$\\displaystyle \\int \\left(- 2 x + \\sin{\\left(x \\right)}\\right)\\, dx = - x^{2} - \\cos{\\left(x \\right)}$"
      ],
      "text/plain": [
       "Eq(Integral(-2*x + sin(x), x), -x**2 - cos(x))"
      ]
     },
     "metadata": {},
     "output_type": "display_data"
    },
    {
     "data": {
      "text/latex": [
       "$\\displaystyle \\frac{d}{d x} \\left(\\sqrt{x} - 3 x - 1 + \\frac{1}{x^{4}}\\right) = -3 - \\frac{4}{x^{5}} + \\frac{1}{2 \\sqrt{x}}$"
      ],
      "text/plain": [
       "Eq(Derivative(sqrt(x) - 3*x - 1 + x**(-4), x), -3 - 4/x**5 + 1/(2*sqrt(x)))"
      ]
     },
     "metadata": {},
     "output_type": "display_data"
    },
    {
     "data": {
      "text/latex": [
       "$\\displaystyle \\int \\left(\\sqrt{x} - x - 4\\right)\\, dx = \\frac{2 x^{\\frac{3}{2}}}{3} - \\frac{x^{2}}{2} - 4 x$"
      ],
      "text/plain": [
       "Eq(Integral(sqrt(x) - x - 4, x), 2*x**(3/2)/3 - x**2/2 - 4*x)"
      ]
     },
     "metadata": {},
     "output_type": "display_data"
    },
    {
     "data": {
      "text/latex": [
       "$\\displaystyle \\frac{d}{d x} \\left(x + \\sin{\\left(x \\right)} + 1\\right) = \\cos{\\left(x \\right)} + 1$"
      ],
      "text/plain": [
       "Eq(Derivative(x + sin(x) + 1, x), cos(x) + 1)"
      ]
     },
     "metadata": {},
     "output_type": "display_data"
    },
    {
     "data": {
      "text/latex": [
       "$\\displaystyle \\int \\left(- \\sqrt[3]{x} + x\\right)\\, dx = - \\frac{3 x^{\\frac{4}{3}}}{4} + \\frac{x^{2}}{2}$"
      ],
      "text/plain": [
       "Eq(Integral(-x**(1/3) + x, x), -3*x**(4/3)/4 + x**2/2)"
      ]
     },
     "metadata": {},
     "output_type": "display_data"
    },
    {
     "data": {
      "text/latex": [
       "$\\displaystyle \\frac{d}{d x} \\left(\\sqrt[3]{x} - x + 3\\right) = -1 + \\frac{1}{3 x^{\\frac{2}{3}}}$"
      ],
      "text/plain": [
       "Eq(Derivative(x**(1/3) - x + 3, x), -1 + 1/(3*x**(2/3)))"
      ]
     },
     "metadata": {},
     "output_type": "display_data"
    },
    {
     "data": {
      "text/latex": [
       "$\\displaystyle \\int 1\\, dx = x$"
      ],
      "text/plain": [
       "Eq(Integral(1, x), x)"
      ]
     },
     "metadata": {},
     "output_type": "display_data"
    },
    {
     "data": {
      "text/latex": [
       "$\\displaystyle \\frac{d}{d x} \\frac{- x - 4 + \\frac{1}{x^{4}}}{\\cos{\\left(x \\right)}} = \\frac{-1 - \\frac{4}{x^{5}}}{\\cos{\\left(x \\right)}} + \\frac{\\left(- x - 4 + \\frac{1}{x^{4}}\\right) \\sin{\\left(x \\right)}}{\\cos^{2}{\\left(x \\right)}}$"
      ],
      "text/plain": [
       "Eq(Derivative((-x - 4 + x**(-4))/cos(x), x), (-1 - 4/x**5)/cos(x) + (-x - 4 + x**(-4))*sin(x)/cos(x)**2)"
      ]
     },
     "metadata": {},
     "output_type": "display_data"
    },
    {
     "data": {
      "text/latex": [
       "$\\displaystyle \\int \\frac{\\sqrt{x}}{\\tan{\\left(x \\right)}}\\, dx = \\int \\frac{\\sqrt{x}}{\\tan{\\left(x \\right)}}\\, dx$"
      ],
      "text/plain": [
       "Eq(Integral(sqrt(x)/tan(x), x), Integral(sqrt(x)/tan(x), x))"
      ]
     },
     "metadata": {},
     "output_type": "display_data"
    },
    {
     "data": {
      "text/latex": [
       "$\\displaystyle \\frac{d}{d x} \\left(2 x - \\log{\\left(x \\right)}\\right) = 2 - \\frac{1}{x}$"
      ],
      "text/plain": [
       "Eq(Derivative(2*x - log(x), x), 2 - 1/x)"
      ]
     },
     "metadata": {},
     "output_type": "display_data"
    },
    {
     "data": {
      "text/latex": [
       "$\\displaystyle \\int \\tan{\\left(\\sin{\\left(x \\right)} \\right)}\\, dx = \\int \\tan{\\left(\\sin{\\left(x \\right)} \\right)}\\, dx$"
      ],
      "text/plain": [
       "Eq(Integral(tan(sin(x)), x), Integral(tan(sin(x)), x))"
      ]
     },
     "metadata": {},
     "output_type": "display_data"
    },
    {
     "data": {
      "text/latex": [
       "$\\displaystyle \\frac{d}{d x} \\left(x^{\\frac{3}{2}} + 2\\right) = \\frac{3 \\sqrt{x}}{2}$"
      ],
      "text/plain": [
       "Eq(Derivative(x**(3/2) + 2, x), 3*sqrt(x)/2)"
      ]
     },
     "metadata": {},
     "output_type": "display_data"
    },
    {
     "data": {
      "text/latex": [
       "$\\displaystyle \\int \\left(x + \\log{\\left(x \\right)} + 3\\right)\\, dx = \\frac{x^{2}}{2} + x \\log{\\left(x \\right)} + 2 x$"
      ],
      "text/plain": [
       "Eq(Integral(x + log(x) + 3, x), x**2/2 + x*log(x) + 2*x)"
      ]
     },
     "metadata": {},
     "output_type": "display_data"
    },
    {
     "data": {
      "text/latex": [
       "$\\displaystyle \\frac{d}{d x} \\left(x^{5} + 3 x - \\sin{\\left(x \\right)} - 5\\right) = 5 x^{4} - \\cos{\\left(x \\right)} + 3$"
      ],
      "text/plain": [
       "Eq(Derivative(x**5 + 3*x - sin(x) - 5, x), 5*x**4 - cos(x) + 3)"
      ]
     },
     "metadata": {},
     "output_type": "display_data"
    },
    {
     "data": {
      "text/latex": [
       "$\\displaystyle \\int \\left(\\sqrt[3]{x} + \\sin{\\left(x \\right)}\\right)\\, dx = \\frac{3 x^{\\frac{4}{3}}}{4} - \\cos{\\left(x \\right)}$"
      ],
      "text/plain": [
       "Eq(Integral(x**(1/3) + sin(x), x), 3*x**(4/3)/4 - cos(x))"
      ]
     },
     "metadata": {},
     "output_type": "display_data"
    },
    {
     "data": {
      "text/latex": [
       "$\\displaystyle \\frac{d}{d x} \\left(x^{4} + 4 x - 10\\right) = 4 x^{3} + 4$"
      ],
      "text/plain": [
       "Eq(Derivative(x**4 + 4*x - 10, x), 4*x**3 + 4)"
      ]
     },
     "metadata": {},
     "output_type": "display_data"
    },
    {
     "data": {
      "text/latex": [
       "$\\displaystyle \\int \\left(\\sqrt{x} - x + 2\\right)\\, dx = \\frac{2 x^{\\frac{3}{2}}}{3} - \\frac{x^{2}}{2} + 2 x$"
      ],
      "text/plain": [
       "Eq(Integral(sqrt(x) - x + 2, x), 2*x**(3/2)/3 - x**2/2 + 2*x)"
      ]
     },
     "metadata": {},
     "output_type": "display_data"
    },
    {
     "data": {
      "text/latex": [
       "$\\displaystyle \\frac{d}{d x} \\tan{\\left(\\sqrt[3]{x} \\right)} = \\frac{\\tan^{2}{\\left(\\sqrt[3]{x} \\right)} + 1}{3 x^{\\frac{2}{3}}}$"
      ],
      "text/plain": [
       "Eq(Derivative(tan(x**(1/3)), x), (tan(x**(1/3))**2 + 1)/(3*x**(2/3)))"
      ]
     },
     "metadata": {},
     "output_type": "display_data"
    },
    {
     "data": {
      "text/latex": [
       "$\\displaystyle \\int 2 \\log{\\left(x \\right)}\\, dx = 2 x \\log{\\left(x \\right)} - 2 x$"
      ],
      "text/plain": [
       "Eq(Integral(2*log(x), x), 2*x*log(x) - 2*x)"
      ]
     },
     "metadata": {},
     "output_type": "display_data"
    },
    {
     "data": {
      "text/latex": [
       "$\\displaystyle \\frac{d}{d x} \\sqrt[3]{x + 4} = \\frac{1}{3 \\left(x + 4\\right)^{\\frac{2}{3}}}$"
      ],
      "text/plain": [
       "Eq(Derivative((x + 4)**(1/3), x), 1/(3*(x + 4)**(2/3)))"
      ]
     },
     "metadata": {},
     "output_type": "display_data"
    },
    {
     "data": {
      "text/latex": [
       "$\\displaystyle \\int \\frac{\\log{\\left(x \\right)}}{\\tan{\\left(x \\right)}}\\, dx = \\int \\frac{\\log{\\left(x \\right)}}{\\tan{\\left(x \\right)}}\\, dx$"
      ],
      "text/plain": [
       "Eq(Integral(log(x)/tan(x), x), Integral(log(x)/tan(x), x))"
      ]
     },
     "metadata": {},
     "output_type": "display_data"
    },
    {
     "data": {
      "text/latex": [
       "$\\displaystyle \\frac{d}{d x} \\left(- \\log{\\left(x \\right)} + \\cos{\\left(x \\right)}\\right) = - \\sin{\\left(x \\right)} - \\frac{1}{x}$"
      ],
      "text/plain": [
       "Eq(Derivative(-log(x) + cos(x), x), -sin(x) - 1/x)"
      ]
     },
     "metadata": {},
     "output_type": "display_data"
    },
    {
     "data": {
      "text/latex": [
       "$\\displaystyle \\int \\left(x + \\sin{\\left(x \\right)} - 2\\right)\\, dx = \\frac{x^{2}}{2} - 2 x - \\cos{\\left(x \\right)}$"
      ],
      "text/plain": [
       "Eq(Integral(x + sin(x) - 2, x), x**2/2 - 2*x - cos(x))"
      ]
     },
     "metadata": {},
     "output_type": "display_data"
    },
    {
     "data": {
      "text/latex": [
       "$\\displaystyle \\frac{d}{d x} \\left(\\sqrt[3]{x} - e^{x}\\right) = - e^{x} + \\frac{1}{3 x^{\\frac{2}{3}}}$"
      ],
      "text/plain": [
       "Eq(Derivative(x**(1/3) - exp(x), x), -exp(x) + 1/(3*x**(2/3)))"
      ]
     },
     "metadata": {},
     "output_type": "display_data"
    },
    {
     "data": {
      "text/latex": [
       "$\\displaystyle \\int \\left(- x + e^{x}\\right)\\, dx = - \\frac{x^{2}}{2} + e^{x}$"
      ],
      "text/plain": [
       "Eq(Integral(-x + exp(x), x), -x**2/2 + exp(x))"
      ]
     },
     "metadata": {},
     "output_type": "display_data"
    },
    {
     "data": {
      "text/latex": [
       "$\\displaystyle \\frac{d}{d x} \\left(\\sqrt{x} + x\\right) = 1 + \\frac{1}{2 \\sqrt{x}}$"
      ],
      "text/plain": [
       "Eq(Derivative(sqrt(x) + x, x), 1 + 1/(2*sqrt(x)))"
      ]
     },
     "metadata": {},
     "output_type": "display_data"
    },
    {
     "data": {
      "text/latex": [
       "$\\displaystyle \\int e^{x + 4}\\, dx = e^{x + 4}$"
      ],
      "text/plain": [
       "Eq(Integral(exp(x + 4), x), exp(x + 4))"
      ]
     },
     "metadata": {},
     "output_type": "display_data"
    },
    {
     "data": {
      "text/latex": [
       "$\\displaystyle \\frac{d}{d x} \\sqrt{\\tan{\\left(x \\right)}} = \\frac{\\frac{\\tan^{2}{\\left(x \\right)}}{2} + \\frac{1}{2}}{\\sqrt{\\tan{\\left(x \\right)}}}$"
      ],
      "text/plain": [
       "Eq(Derivative(sqrt(tan(x)), x), (tan(x)**2/2 + 1/2)/sqrt(tan(x)))"
      ]
     },
     "metadata": {},
     "output_type": "display_data"
    },
    {
     "data": {
      "text/latex": [
       "$\\displaystyle \\int \\frac{e^{x}}{x}\\, dx = \\operatorname{Ei}{\\left(x \\right)}$"
      ],
      "text/plain": [
       "Eq(Integral(exp(x)/x, x), Ei(x))"
      ]
     },
     "metadata": {},
     "output_type": "display_data"
    },
    {
     "data": {
      "text/latex": [
       "$\\displaystyle \\frac{d}{d x} \\frac{\\cos{\\left(x \\right)}}{x - 2} = - \\frac{\\sin{\\left(x \\right)}}{x - 2} - \\frac{\\cos{\\left(x \\right)}}{\\left(x - 2\\right)^{2}}$"
      ],
      "text/plain": [
       "Eq(Derivative(cos(x)/(x - 2), x), -sin(x)/(x - 2) - cos(x)/(x - 2)**2)"
      ]
     },
     "metadata": {},
     "output_type": "display_data"
    },
    {
     "data": {
      "text/latex": [
       "$\\displaystyle \\int \\left(\\cos{\\left(x \\right)} + \\tan{\\left(x \\right)}\\right)\\, dx = - \\log{\\left(\\cos{\\left(x \\right)} \\right)} + \\sin{\\left(x \\right)}$"
      ],
      "text/plain": [
       "Eq(Integral(cos(x) + tan(x), x), -log(cos(x)) + sin(x))"
      ]
     },
     "metadata": {},
     "output_type": "display_data"
    },
    {
     "data": {
      "text/latex": [
       "$\\displaystyle \\frac{d}{d x} \\left(- \\sin{\\left(x \\right)} + \\cos{\\left(x \\right)}\\right) = - \\sin{\\left(x \\right)} - \\cos{\\left(x \\right)}$"
      ],
      "text/plain": [
       "Eq(Derivative(-sin(x) + cos(x), x), -sin(x) - cos(x))"
      ]
     },
     "metadata": {},
     "output_type": "display_data"
    },
    {
     "data": {
      "text/latex": [
       "$\\displaystyle \\int \\left(\\sqrt{x} - 5\\right)\\, dx = \\frac{2 x^{\\frac{3}{2}}}{3} - 5 x$"
      ],
      "text/plain": [
       "Eq(Integral(sqrt(x) - 5, x), 2*x**(3/2)/3 - 5*x)"
      ]
     },
     "metadata": {},
     "output_type": "display_data"
    },
    {
     "data": {
      "text/latex": [
       "$\\displaystyle \\frac{d}{d x} \\left(\\sqrt[3]{x} - \\sqrt{x}\\right) = - \\frac{1}{2 \\sqrt{x}} + \\frac{1}{3 x^{\\frac{2}{3}}}$"
      ],
      "text/plain": [
       "Eq(Derivative(x**(1/3) - sqrt(x), x), -1/(2*sqrt(x)) + 1/(3*x**(2/3)))"
      ]
     },
     "metadata": {},
     "output_type": "display_data"
    },
    {
     "data": {
      "text/latex": [
       "$\\displaystyle \\int \\frac{\\sqrt[3]{x}}{\\cos{\\left(x \\right)}}\\, dx = \\int \\frac{\\sqrt[3]{x}}{\\cos{\\left(x \\right)}}\\, dx$"
      ],
      "text/plain": [
       "Eq(Integral(x**(1/3)/cos(x), x), Integral(x**(1/3)/cos(x), x))"
      ]
     },
     "metadata": {},
     "output_type": "display_data"
    },
    {
     "data": {
      "text/latex": [
       "$\\displaystyle \\frac{d}{d x} \\left(- \\log{\\left(x \\right)} + \\sin{\\left(x \\right)}\\right) = \\cos{\\left(x \\right)} - \\frac{1}{x}$"
      ],
      "text/plain": [
       "Eq(Derivative(-log(x) + sin(x), x), cos(x) - 1/x)"
      ]
     },
     "metadata": {},
     "output_type": "display_data"
    },
    {
     "data": {
      "text/latex": [
       "$\\displaystyle \\int \\left(x^{3} + 2\\right)\\, dx = \\frac{x^{4}}{4} + 2 x$"
      ],
      "text/plain": [
       "Eq(Integral(x**3 + 2, x), x**4/4 + 2*x)"
      ]
     },
     "metadata": {},
     "output_type": "display_data"
    },
    {
     "data": {
      "text/latex": [
       "$\\displaystyle \\frac{d}{d x} \\frac{1 - 2 x}{\\cos{\\left(x \\right)}} = \\frac{\\left(1 - 2 x\\right) \\sin{\\left(x \\right)}}{\\cos^{2}{\\left(x \\right)}} - \\frac{2}{\\cos{\\left(x \\right)}}$"
      ],
      "text/plain": [
       "Eq(Derivative((1 - 2*x)/cos(x), x), (1 - 2*x)*sin(x)/cos(x)**2 - 2/cos(x))"
      ]
     },
     "metadata": {},
     "output_type": "display_data"
    },
    {
     "data": {
      "text/latex": [
       "$\\displaystyle \\int \\left(- x + e^{x}\\right)\\, dx = - \\frac{x^{2}}{2} + e^{x}$"
      ],
      "text/plain": [
       "Eq(Integral(-x + exp(x), x), -x**2/2 + exp(x))"
      ]
     },
     "metadata": {},
     "output_type": "display_data"
    },
    {
     "data": {
      "text/latex": [
       "$\\displaystyle \\frac{d}{d x} \\left(e^{x} + \\frac{1}{x}\\right) = e^{x} - \\frac{1}{x^{2}}$"
      ],
      "text/plain": [
       "Eq(Derivative(exp(x) + 1/x, x), exp(x) - 1/x**2)"
      ]
     },
     "metadata": {},
     "output_type": "display_data"
    },
    {
     "data": {
      "text/latex": [
       "$\\displaystyle \\int \\left(e^{x} + \\log{\\left(x \\right)}\\right)\\, dx = x \\log{\\left(x \\right)} - x + e^{x}$"
      ],
      "text/plain": [
       "Eq(Integral(exp(x) + log(x), x), x*log(x) - x + exp(x))"
      ]
     },
     "metadata": {},
     "output_type": "display_data"
    },
    {
     "data": {
      "text/latex": [
       "$\\displaystyle \\frac{d}{d x} \\left(e^{x} + \\frac{1}{x^{2}}\\right) = e^{x} - \\frac{2}{x^{3}}$"
      ],
      "text/plain": [
       "Eq(Derivative(exp(x) + x**(-2), x), exp(x) - 2/x**3)"
      ]
     },
     "metadata": {},
     "output_type": "display_data"
    },
    {
     "data": {
      "text/latex": [
       "$\\displaystyle \\int \\frac{x}{\\cos{\\left(x \\right)}}\\, dx = \\int \\frac{x}{\\cos{\\left(x \\right)}}\\, dx$"
      ],
      "text/plain": [
       "Eq(Integral(x/cos(x), x), Integral(x/cos(x), x))"
      ]
     },
     "metadata": {},
     "output_type": "display_data"
    },
    {
     "data": {
      "text/latex": [
       "$\\displaystyle \\frac{d}{d x} \\left(- 3 x + \\sin{\\left(x \\right)}\\right) = \\cos{\\left(x \\right)} - 3$"
      ],
      "text/plain": [
       "Eq(Derivative(-3*x + sin(x), x), cos(x) - 3)"
      ]
     },
     "metadata": {},
     "output_type": "display_data"
    },
    {
     "data": {
      "text/latex": [
       "$\\displaystyle \\int \\frac{1}{\\cos^{3}{\\left(x \\right)}}\\, dx = - \\frac{\\log{\\left(\\sin{\\left(x \\right)} - 1 \\right)}}{4} + \\frac{\\log{\\left(\\sin{\\left(x \\right)} + 1 \\right)}}{4} - \\frac{\\sin{\\left(x \\right)}}{2 \\sin^{2}{\\left(x \\right)} - 2}$"
      ],
      "text/plain": [
       "Eq(Integral(cos(x)**(-3), x), -log(sin(x) - 1)/4 + log(sin(x) + 1)/4 - sin(x)/(2*sin(x)**2 - 2))"
      ]
     },
     "metadata": {},
     "output_type": "display_data"
    },
    {
     "data": {
      "text/latex": [
       "$\\displaystyle \\frac{d}{d x} \\frac{\\sqrt{x}}{\\tan{\\left(x \\right)}} = \\frac{\\sqrt{x} \\left(- \\tan^{2}{\\left(x \\right)} - 1\\right)}{\\tan^{2}{\\left(x \\right)}} + \\frac{1}{2 \\sqrt{x} \\tan{\\left(x \\right)}}$"
      ],
      "text/plain": [
       "Eq(Derivative(sqrt(x)/tan(x), x), sqrt(x)*(-tan(x)**2 - 1)/tan(x)**2 + 1/(2*sqrt(x)*tan(x)))"
      ]
     },
     "metadata": {},
     "output_type": "display_data"
    },
    {
     "data": {
      "text/latex": [
       "$\\displaystyle \\int \\frac{\\sin{\\left(x \\right)}}{\\tan{\\left(x \\right)}}\\, dx = \\sin{\\left(x \\right)}$"
      ],
      "text/plain": [
       "Eq(Integral(sin(x)/tan(x), x), sin(x))"
      ]
     },
     "metadata": {},
     "output_type": "display_data"
    },
    {
     "data": {
      "text/latex": [
       "$\\displaystyle \\frac{d}{d x} \\sin{\\left(\\sqrt[3]{x} \\right)} = \\frac{\\cos{\\left(\\sqrt[3]{x} \\right)}}{3 x^{\\frac{2}{3}}}$"
      ],
      "text/plain": [
       "Eq(Derivative(sin(x**(1/3)), x), cos(x**(1/3))/(3*x**(2/3)))"
      ]
     },
     "metadata": {},
     "output_type": "display_data"
    },
    {
     "data": {
      "text/latex": [
       "$\\displaystyle \\int \\left(\\sin{\\left(x \\right)} + \\tan{\\left(x \\right)}\\right)\\, dx = - \\log{\\left(\\cos{\\left(x \\right)} \\right)} - \\cos{\\left(x \\right)}$"
      ],
      "text/plain": [
       "Eq(Integral(sin(x) + tan(x), x), -log(cos(x)) - cos(x))"
      ]
     },
     "metadata": {},
     "output_type": "display_data"
    },
    {
     "data": {
      "text/latex": [
       "$\\displaystyle \\frac{d}{d x} \\sin{\\left(\\cos{\\left(x \\right)} \\right)} = - \\sin{\\left(x \\right)} \\cos{\\left(\\cos{\\left(x \\right)} \\right)}$"
      ],
      "text/plain": [
       "Eq(Derivative(sin(cos(x)), x), -sin(x)*cos(cos(x)))"
      ]
     },
     "metadata": {},
     "output_type": "display_data"
    },
    {
     "data": {
      "text/latex": [
       "$\\displaystyle \\int \\left(\\sin{\\left(x \\right)} + \\tan{\\left(x \\right)}\\right)\\, dx = - \\log{\\left(\\cos{\\left(x \\right)} \\right)} - \\cos{\\left(x \\right)}$"
      ],
      "text/plain": [
       "Eq(Integral(sin(x) + tan(x), x), -log(cos(x)) - cos(x))"
      ]
     },
     "metadata": {},
     "output_type": "display_data"
    },
    {
     "data": {
      "text/latex": [
       "$\\displaystyle \\frac{d}{d x} \\left(\\sqrt{x} - \\log{\\left(x \\right)}\\right) = - \\frac{1}{x} + \\frac{1}{2 \\sqrt{x}}$"
      ],
      "text/plain": [
       "Eq(Derivative(sqrt(x) - log(x), x), -1/x + 1/(2*sqrt(x)))"
      ]
     },
     "metadata": {},
     "output_type": "display_data"
    },
    {
     "data": {
      "text/latex": [
       "$\\displaystyle \\int \\sin{\\left(x \\right)}\\, dx = - \\cos{\\left(x \\right)}$"
      ],
      "text/plain": [
       "Eq(Integral(sin(x), x), -cos(x))"
      ]
     },
     "metadata": {},
     "output_type": "display_data"
    },
    {
     "data": {
      "text/latex": [
       "$\\displaystyle \\frac{d}{d x} \\left(\\sqrt[3]{x} - 1\\right) = \\frac{1}{3 x^{\\frac{2}{3}}}$"
      ],
      "text/plain": [
       "Eq(Derivative(x**(1/3) - 1, x), 1/(3*x**(2/3)))"
      ]
     },
     "metadata": {},
     "output_type": "display_data"
    },
    {
     "data": {
      "text/latex": [
       "$\\displaystyle \\int \\left(x^{4} - \\sin{\\left(x \\right)}\\right)\\, dx = \\frac{x^{5}}{5} + \\cos{\\left(x \\right)}$"
      ],
      "text/plain": [
       "Eq(Integral(x**4 - sin(x), x), x**5/5 + cos(x))"
      ]
     },
     "metadata": {},
     "output_type": "display_data"
    },
    {
     "data": {
      "text/latex": [
       "$\\displaystyle \\frac{d}{d x} \\log{\\left(\\tan{\\left(x \\right)} \\right)} = \\frac{\\tan^{2}{\\left(x \\right)} + 1}{\\tan{\\left(x \\right)}}$"
      ],
      "text/plain": [
       "Eq(Derivative(log(tan(x)), x), (tan(x)**2 + 1)/tan(x))"
      ]
     },
     "metadata": {},
     "output_type": "display_data"
    },
    {
     "data": {
      "text/latex": [
       "$\\displaystyle \\int \\left(- \\tan{\\left(x \\right)} + \\frac{1}{x}\\right)\\, dx = \\log{\\left(x \\right)} + \\log{\\left(\\cos{\\left(x \\right)} \\right)}$"
      ],
      "text/plain": [
       "Eq(Integral(-tan(x) + 1/x, x), log(x) + log(cos(x)))"
      ]
     },
     "metadata": {},
     "output_type": "display_data"
    },
    {
     "data": {
      "text/latex": [
       "$\\displaystyle \\frac{d}{d x} \\left(e^{x} - 4\\right) = e^{x}$"
      ],
      "text/plain": [
       "Eq(Derivative(exp(x) - 4, x), exp(x))"
      ]
     },
     "metadata": {},
     "output_type": "display_data"
    },
    {
     "data": {
      "text/latex": [
       "$\\displaystyle \\int \\left(\\tan^{4}{\\left(x \\right)} + 2 \\tan{\\left(x \\right)} + 2\\right)\\, dx = 3 x - 2 \\log{\\left(\\cos{\\left(x \\right)} \\right)} + \\frac{\\sin^{3}{\\left(x \\right)}}{3 \\cos^{3}{\\left(x \\right)}} - \\frac{\\sin{\\left(x \\right)}}{\\cos{\\left(x \\right)}}$"
      ],
      "text/plain": [
       "Eq(Integral(tan(x)**4 + 2*tan(x) + 2, x), 3*x - 2*log(cos(x)) + sin(x)**3/(3*cos(x)**3) - sin(x)/cos(x))"
      ]
     },
     "metadata": {},
     "output_type": "display_data"
    },
    {
     "data": {
      "text/latex": [
       "$\\displaystyle \\frac{d}{d x} \\left(- \\frac{\\tan{\\left(x \\right)}}{3 x}\\right) = - \\frac{\\tan^{2}{\\left(x \\right)} + 1}{3 x} + \\frac{\\tan{\\left(x \\right)}}{3 x^{2}}$"
      ],
      "text/plain": [
       "Eq(Derivative(-tan(x)/(3*x), x), -(tan(x)**2 + 1)/(3*x) + tan(x)/(3*x**2))"
      ]
     },
     "metadata": {},
     "output_type": "display_data"
    },
    {
     "data": {
      "text/latex": [
       "$\\displaystyle \\int \\tan{\\left(\\tan{\\left(x \\right)} \\right)}\\, dx = \\int \\tan{\\left(\\tan{\\left(x \\right)} \\right)}\\, dx$"
      ],
      "text/plain": [
       "Eq(Integral(tan(tan(x)), x), Integral(tan(tan(x)), x))"
      ]
     },
     "metadata": {},
     "output_type": "display_data"
    },
    {
     "data": {
      "text/latex": [
       "$\\displaystyle \\frac{d}{d x} \\left(\\sqrt{x} + e^{x}\\right) = e^{x} + \\frac{1}{2 \\sqrt{x}}$"
      ],
      "text/plain": [
       "Eq(Derivative(sqrt(x) + exp(x), x), exp(x) + 1/(2*sqrt(x)))"
      ]
     },
     "metadata": {},
     "output_type": "display_data"
    },
    {
     "data": {
      "text/latex": [
       "$\\displaystyle \\int \\sqrt[3]{-2}\\, dx = \\sqrt[3]{-2} x$"
      ],
      "text/plain": [
       "Eq(Integral((-2)**(1/3), x), (-2)**(1/3)*x)"
      ]
     },
     "metadata": {},
     "output_type": "display_data"
    },
    {
     "data": {
      "text/latex": [
       "$\\displaystyle \\frac{d}{d x} \\frac{- 3 x + \\frac{1}{x^{4}}}{x^{2}} = \\frac{-3 - \\frac{4}{x^{5}}}{x^{2}} - \\frac{2 \\left(- 3 x + \\frac{1}{x^{4}}\\right)}{x^{3}}$"
      ],
      "text/plain": [
       "Eq(Derivative((-3*x + x**(-4))/x**2, x), (-3 - 4/x**5)/x**2 - 2*(-3*x + x**(-4))/x**3)"
      ]
     },
     "metadata": {},
     "output_type": "display_data"
    },
    {
     "data": {
      "text/latex": [
       "$\\displaystyle \\int \\left(- x^{4} + 3 x + e^{x} + 3\\right)\\, dx = - \\frac{x^{5}}{5} + \\frac{3 x^{2}}{2} + 3 x + e^{x}$"
      ],
      "text/plain": [
       "Eq(Integral(-x**4 + 3*x + exp(x) + 3, x), -x**5/5 + 3*x**2/2 + 3*x + exp(x))"
      ]
     },
     "metadata": {},
     "output_type": "display_data"
    },
    {
     "data": {
      "text/latex": [
       "$\\displaystyle \\frac{d}{d x} \\left(x^{2} - \\sin{\\left(x \\right)}\\right) = 2 x - \\cos{\\left(x \\right)}$"
      ],
      "text/plain": [
       "Eq(Derivative(x**2 - sin(x), x), 2*x - cos(x))"
      ]
     },
     "metadata": {},
     "output_type": "display_data"
    },
    {
     "data": {
      "text/latex": [
       "$\\displaystyle \\int \\left(- 4 x + \\tan{\\left(x \\right)}\\right)\\, dx = - 2 x^{2} - \\log{\\left(\\cos{\\left(x \\right)} \\right)}$"
      ],
      "text/plain": [
       "Eq(Integral(-4*x + tan(x), x), -2*x**2 - log(cos(x)))"
      ]
     },
     "metadata": {},
     "output_type": "display_data"
    },
    {
     "data": {
      "text/latex": [
       "$\\displaystyle \\frac{d}{d x} 2 \\sqrt{- x} = \\frac{\\sqrt{- x}}{x}$"
      ],
      "text/plain": [
       "Eq(Derivative(2*sqrt(-x), x), sqrt(-x)/x)"
      ]
     },
     "metadata": {},
     "output_type": "display_data"
    },
    {
     "data": {
      "text/latex": [
       "$\\displaystyle \\int \\left(x^{3} + x - 5\\right)\\, dx = \\frac{x^{4}}{4} + \\frac{x^{2}}{2} - 5 x$"
      ],
      "text/plain": [
       "Eq(Integral(x**3 + x - 5, x), x**4/4 + x**2/2 - 5*x)"
      ]
     },
     "metadata": {},
     "output_type": "display_data"
    },
    {
     "data": {
      "text/latex": [
       "$\\displaystyle \\frac{d}{d x} \\left(- 3 \\sqrt[3]{x} - 3 + \\frac{1}{\\sqrt[3]{x}}\\right) = - \\frac{1}{x^{\\frac{2}{3}}} - \\frac{1}{3 x^{\\frac{4}{3}}}$"
      ],
      "text/plain": [
       "Eq(Derivative(-3*x**(1/3) - 3 + x**(-1/3), x), -1/x**(2/3) - 1/(3*x**(4/3)))"
      ]
     },
     "metadata": {},
     "output_type": "display_data"
    },
    {
     "data": {
      "text/latex": [
       "$\\displaystyle \\int \\sin{\\left(\\sqrt{x} \\right)}\\, dx = - 2 \\sqrt{x} \\cos{\\left(\\sqrt{x} \\right)} + 2 \\sin{\\left(\\sqrt{x} \\right)}$"
      ],
      "text/plain": [
       "Eq(Integral(sin(sqrt(x)), x), -2*sqrt(x)*cos(sqrt(x)) + 2*sin(sqrt(x)))"
      ]
     },
     "metadata": {},
     "output_type": "display_data"
    },
    {
     "data": {
      "text/latex": [
       "$\\displaystyle \\frac{d}{d x} \\sin{\\left(\\frac{1}{x^{4}} \\right)} = - \\frac{4 \\cos{\\left(\\frac{1}{x^{4}} \\right)}}{x^{5}}$"
      ],
      "text/plain": [
       "Eq(Derivative(sin(x**(-4)), x), -4*cos(x**(-4))/x**5)"
      ]
     },
     "metadata": {},
     "output_type": "display_data"
    },
    {
     "data": {
      "text/latex": [
       "$\\displaystyle \\int \\left(2 - x\\right)\\, dx = - \\frac{x^{2}}{2} + 2 x$"
      ],
      "text/plain": [
       "Eq(Integral(2 - x, x), -x**2/2 + 2*x)"
      ]
     },
     "metadata": {},
     "output_type": "display_data"
    },
    {
     "data": {
      "text/latex": [
       "$\\displaystyle \\frac{d}{d x} \\frac{\\sqrt{x}}{\\tan{\\left(x \\right)}} = \\frac{\\sqrt{x} \\left(- \\tan^{2}{\\left(x \\right)} - 1\\right)}{\\tan^{2}{\\left(x \\right)}} + \\frac{1}{2 \\sqrt{x} \\tan{\\left(x \\right)}}$"
      ],
      "text/plain": [
       "Eq(Derivative(sqrt(x)/tan(x), x), sqrt(x)*(-tan(x)**2 - 1)/tan(x)**2 + 1/(2*sqrt(x)*tan(x)))"
      ]
     },
     "metadata": {},
     "output_type": "display_data"
    },
    {
     "data": {
      "text/latex": [
       "$\\displaystyle \\int \\left(- 3 \\sqrt{x}\\right)\\, dx = - 2 x^{\\frac{3}{2}}$"
      ],
      "text/plain": [
       "Eq(Integral(-3*sqrt(x), x), -2*x**(3/2))"
      ]
     },
     "metadata": {},
     "output_type": "display_data"
    },
    {
     "data": {
      "text/latex": [
       "$\\displaystyle \\frac{d}{d x} \\cos{\\left(e^{x} \\right)} = - e^{x} \\sin{\\left(e^{x} \\right)}$"
      ],
      "text/plain": [
       "Eq(Derivative(cos(exp(x)), x), -exp(x)*sin(exp(x)))"
      ]
     },
     "metadata": {},
     "output_type": "display_data"
    },
    {
     "data": {
      "text/latex": [
       "$\\displaystyle \\int \\left(\\tan{\\left(x \\right)} - \\frac{1}{x}\\right)\\, dx = - \\log{\\left(x \\right)} - \\log{\\left(\\cos{\\left(x \\right)} \\right)}$"
      ],
      "text/plain": [
       "Eq(Integral(tan(x) - 1/x, x), -log(x) - log(cos(x)))"
      ]
     },
     "metadata": {},
     "output_type": "display_data"
    },
    {
     "data": {
      "text/latex": [
       "$\\displaystyle \\frac{d}{d x} \\sin{\\left(\\cos{\\left(x \\right)} \\right)} = - \\sin{\\left(x \\right)} \\cos{\\left(\\cos{\\left(x \\right)} \\right)}$"
      ],
      "text/plain": [
       "Eq(Derivative(sin(cos(x)), x), -sin(x)*cos(cos(x)))"
      ]
     },
     "metadata": {},
     "output_type": "display_data"
    },
    {
     "data": {
      "text/latex": [
       "$\\displaystyle \\int \\frac{\\cos{\\left(x \\right)}}{\\sin{\\left(x \\right)}}\\, dx = \\log{\\left(\\sin{\\left(x \\right)} \\right)}$"
      ],
      "text/plain": [
       "Eq(Integral(cos(x)/sin(x), x), log(sin(x)))"
      ]
     },
     "metadata": {},
     "output_type": "display_data"
    },
    {
     "data": {
      "text/latex": [
       "$\\displaystyle \\frac{d}{d x} \\left(\\sin^{4}{\\left(x \\right)} - 2 \\sin{\\left(x \\right)} - 3\\right) = 4 \\sin^{3}{\\left(x \\right)} \\cos{\\left(x \\right)} - 2 \\cos{\\left(x \\right)}$"
      ],
      "text/plain": [
       "Eq(Derivative(sin(x)**4 - 2*sin(x) - 3, x), 4*sin(x)**3*cos(x) - 2*cos(x))"
      ]
     },
     "metadata": {},
     "output_type": "display_data"
    },
    {
     "data": {
      "text/latex": [
       "$\\displaystyle \\int \\frac{\\log{\\left(x \\right)}}{\\tan{\\left(x \\right)}}\\, dx = \\int \\frac{\\log{\\left(x \\right)}}{\\tan{\\left(x \\right)}}\\, dx$"
      ],
      "text/plain": [
       "Eq(Integral(log(x)/tan(x), x), Integral(log(x)/tan(x), x))"
      ]
     },
     "metadata": {},
     "output_type": "display_data"
    },
    {
     "data": {
      "text/latex": [
       "$\\displaystyle \\frac{d}{d x} \\frac{e^{x}}{\\sin{\\left(x \\right)}} = \\frac{e^{x}}{\\sin{\\left(x \\right)}} - \\frac{e^{x} \\cos{\\left(x \\right)}}{\\sin^{2}{\\left(x \\right)}}$"
      ],
      "text/plain": [
       "Eq(Derivative(exp(x)/sin(x), x), exp(x)/sin(x) - exp(x)*cos(x)/sin(x)**2)"
      ]
     },
     "metadata": {},
     "output_type": "display_data"
    },
    {
     "data": {
      "text/latex": [
       "$\\displaystyle \\int \\frac{1}{\\sqrt{x}}\\, dx = 2 \\sqrt{x}$"
      ],
      "text/plain": [
       "Eq(Integral(1/sqrt(x), x), 2*sqrt(x))"
      ]
     },
     "metadata": {},
     "output_type": "display_data"
    },
    {
     "data": {
      "text/latex": [
       "$\\displaystyle \\frac{d}{d x} \\left(- 2 x - 4 - \\frac{1}{x^{3}}\\right) = -2 + \\frac{3}{x^{4}}$"
      ],
      "text/plain": [
       "Eq(Derivative(-2*x - 4 - 1/x**3, x), -2 + 3/x**4)"
      ]
     },
     "metadata": {},
     "output_type": "display_data"
    },
    {
     "data": {
      "text/latex": [
       "$\\displaystyle \\int \\left(- \\sqrt{x} + \\frac{1}{x^{4}}\\right)\\, dx = - \\frac{2 x^{\\frac{3}{2}}}{3} - \\frac{1}{3 x^{3}}$"
      ],
      "text/plain": [
       "Eq(Integral(-sqrt(x) + x**(-4), x), -2*x**(3/2)/3 - 1/(3*x**3))"
      ]
     },
     "metadata": {},
     "output_type": "display_data"
    },
    {
     "data": {
      "text/latex": [
       "$\\displaystyle \\frac{d}{d x} \\left(\\cos{\\left(x \\right)} + \\frac{1}{x^{2}}\\right) = - \\sin{\\left(x \\right)} - \\frac{2}{x^{3}}$"
      ],
      "text/plain": [
       "Eq(Derivative(cos(x) + x**(-2), x), -sin(x) - 2/x**3)"
      ]
     },
     "metadata": {},
     "output_type": "display_data"
    },
    {
     "data": {
      "text/latex": [
       "$\\displaystyle \\int \\left(- x + e^{x}\\right)\\, dx = - \\frac{x^{2}}{2} + e^{x}$"
      ],
      "text/plain": [
       "Eq(Integral(-x + exp(x), x), -x**2/2 + exp(x))"
      ]
     },
     "metadata": {},
     "output_type": "display_data"
    },
    {
     "data": {
      "text/latex": [
       "$\\displaystyle \\frac{d}{d x} \\frac{e^{x}}{\\cos{\\left(x \\right)}} = \\frac{e^{x} \\sin{\\left(x \\right)}}{\\cos^{2}{\\left(x \\right)}} + \\frac{e^{x}}{\\cos{\\left(x \\right)}}$"
      ],
      "text/plain": [
       "Eq(Derivative(exp(x)/cos(x), x), exp(x)*sin(x)/cos(x)**2 + exp(x)/cos(x))"
      ]
     },
     "metadata": {},
     "output_type": "display_data"
    },
    {
     "data": {
      "text/latex": [
       "$\\displaystyle \\int 1\\, dx = x$"
      ],
      "text/plain": [
       "Eq(Integral(1, x), x)"
      ]
     },
     "metadata": {},
     "output_type": "display_data"
    },
    {
     "data": {
      "text/latex": [
       "$\\displaystyle \\frac{d}{d x} \\left(16 x^{4} - 1\\right) = 64 x^{3}$"
      ],
      "text/plain": [
       "Eq(Derivative(16*x**4 - 1, x), 64*x**3)"
      ]
     },
     "metadata": {},
     "output_type": "display_data"
    },
    {
     "data": {
      "text/latex": [
       "$\\displaystyle \\int \\left(\\sqrt[3]{x} + x\\right)\\, dx = \\frac{3 x^{\\frac{4}{3}}}{4} + \\frac{x^{2}}{2}$"
      ],
      "text/plain": [
       "Eq(Integral(x**(1/3) + x, x), 3*x**(4/3)/4 + x**2/2)"
      ]
     },
     "metadata": {},
     "output_type": "display_data"
    },
    {
     "data": {
      "text/latex": [
       "$\\displaystyle \\frac{d}{d x} \\left(x - \\cos{\\left(x \\right)}\\right) = \\sin{\\left(x \\right)} + 1$"
      ],
      "text/plain": [
       "Eq(Derivative(x - cos(x), x), sin(x) + 1)"
      ]
     },
     "metadata": {},
     "output_type": "display_data"
    },
    {
     "data": {
      "text/latex": [
       "$\\displaystyle \\int \\sin{\\left(x^{2} + 2 x - 2 \\right)}\\, dx = \\frac{\\sqrt{2} \\sqrt{\\pi} \\left(- \\sin{\\left(3 \\right)} C\\left(\\frac{\\sqrt{2} \\left(2 x + 2\\right)}{2 \\sqrt{\\pi}}\\right) + \\cos{\\left(3 \\right)} S\\left(\\frac{\\sqrt{2} \\left(2 x + 2\\right)}{2 \\sqrt{\\pi}}\\right)\\right)}{2}$"
      ],
      "text/plain": [
       "Eq(Integral(sin(x**2 + 2*x - 2), x), sqrt(2)*sqrt(pi)*(-sin(3)*fresnelc(sqrt(2)*(2*x + 2)/(2*sqrt(pi))) + cos(3)*fresnels(sqrt(2)*(2*x + 2)/(2*sqrt(pi))))/2)"
      ]
     },
     "metadata": {},
     "output_type": "display_data"
    },
    {
     "data": {
      "text/latex": [
       "$\\displaystyle \\frac{d}{d x} \\frac{x + 3}{\\log{\\left(x \\right)}} = \\frac{1}{\\log{\\left(x \\right)}} - \\frac{x + 3}{x \\log{\\left(x \\right)}^{2}}$"
      ],
      "text/plain": [
       "Eq(Derivative((x + 3)/log(x), x), 1/log(x) - (x + 3)/(x*log(x)**2))"
      ]
     },
     "metadata": {},
     "output_type": "display_data"
    },
    {
     "data": {
      "text/latex": [
       "$\\displaystyle \\int \\left(- \\sin{\\left(x \\right)}\\right)\\, dx = \\cos{\\left(x \\right)}$"
      ],
      "text/plain": [
       "Eq(Integral(-sin(x), x), cos(x))"
      ]
     },
     "metadata": {},
     "output_type": "display_data"
    },
    {
     "data": {
      "text/latex": [
       "$\\displaystyle \\frac{d}{d x} \\frac{\\cos{\\left(x \\right)}}{\\tan{\\left(x \\right)}} = \\frac{\\left(- \\tan^{2}{\\left(x \\right)} - 1\\right) \\cos{\\left(x \\right)}}{\\tan^{2}{\\left(x \\right)}} - \\frac{\\sin{\\left(x \\right)}}{\\tan{\\left(x \\right)}}$"
      ],
      "text/plain": [
       "Eq(Derivative(cos(x)/tan(x), x), (-tan(x)**2 - 1)*cos(x)/tan(x)**2 - sin(x)/tan(x))"
      ]
     },
     "metadata": {},
     "output_type": "display_data"
    },
    {
     "data": {
      "text/latex": [
       "$\\displaystyle \\int \\left(- 4 x + \\log{\\left(x \\right)}\\right)\\, dx = - 2 x^{2} + x \\log{\\left(x \\right)} - x$"
      ],
      "text/plain": [
       "Eq(Integral(-4*x + log(x), x), -2*x**2 + x*log(x) - x)"
      ]
     },
     "metadata": {},
     "output_type": "display_data"
    },
    {
     "data": {
      "text/latex": [
       "$\\displaystyle \\frac{d}{d x} \\cos{\\left(x^{2} \\right)} = - 2 x \\sin{\\left(x^{2} \\right)}$"
      ],
      "text/plain": [
       "Eq(Derivative(cos(x**2), x), -2*x*sin(x**2))"
      ]
     },
     "metadata": {},
     "output_type": "display_data"
    },
    {
     "data": {
      "text/latex": [
       "$\\displaystyle \\int \\log{\\left(\\sqrt[3]{x} \\right)}\\, dx = x \\log{\\left(\\sqrt[3]{x} \\right)} - \\frac{x}{3}$"
      ],
      "text/plain": [
       "Eq(Integral(log(x**(1/3)), x), x*log(x**(1/3)) - x/3)"
      ]
     },
     "metadata": {},
     "output_type": "display_data"
    },
    {
     "data": {
      "text/latex": [
       "$\\displaystyle \\frac{d}{d x} e^{\\cos{\\left(x \\right)}} = - e^{\\cos{\\left(x \\right)}} \\sin{\\left(x \\right)}$"
      ],
      "text/plain": [
       "Eq(Derivative(exp(cos(x)), x), -exp(cos(x))*sin(x))"
      ]
     },
     "metadata": {},
     "output_type": "display_data"
    },
    {
     "data": {
      "text/latex": [
       "$\\displaystyle \\int x^{2} e^{x}\\, dx = \\left(x^{2} - 2 x + 2\\right) e^{x}$"
      ],
      "text/plain": [
       "Eq(Integral(x**2*exp(x), x), (x**2 - 2*x + 2)*exp(x))"
      ]
     },
     "metadata": {},
     "output_type": "display_data"
    },
    {
     "data": {
      "text/latex": [
       "$\\displaystyle \\frac{d}{d x} \\frac{\\sqrt[3]{x}}{2 x - 4 + \\frac{1}{x^{4}}} = \\frac{\\sqrt[3]{x} \\left(-2 + \\frac{4}{x^{5}}\\right)}{\\left(2 x - 4 + \\frac{1}{x^{4}}\\right)^{2}} + \\frac{1}{3 x^{\\frac{2}{3}} \\left(2 x - 4 + \\frac{1}{x^{4}}\\right)}$"
      ],
      "text/plain": [
       "Eq(Derivative(x**(1/3)/(2*x - 4 + x**(-4)), x), x**(1/3)*(-2 + 4/x**5)/(2*x - 4 + x**(-4))**2 + 1/(3*x**(2/3)*(2*x - 4 + x**(-4))))"
      ]
     },
     "metadata": {},
     "output_type": "display_data"
    },
    {
     "data": {
      "text/latex": [
       "$\\displaystyle \\int \\left(- \\frac{2 x}{\\log{\\left(x \\right)}}\\right)\\, dx = - 2 \\operatorname{Ei}{\\left(2 \\log{\\left(x \\right)} \\right)}$"
      ],
      "text/plain": [
       "Eq(Integral(-2*x/log(x), x), -2*Ei(2*log(x)))"
      ]
     },
     "metadata": {},
     "output_type": "display_data"
    },
    {
     "data": {
      "text/latex": [
       "$\\displaystyle \\frac{d}{d x} \\left(3 x - 3\\right) = 3$"
      ],
      "text/plain": [
       "Eq(Derivative(3*x - 3, x), 3)"
      ]
     },
     "metadata": {},
     "output_type": "display_data"
    },
    {
     "data": {
      "text/latex": [
       "$\\displaystyle \\int \\left(- 4 x + e^{x}\\right)\\, dx = - 2 x^{2} + e^{x}$"
      ],
      "text/plain": [
       "Eq(Integral(-4*x + exp(x), x), -2*x**2 + exp(x))"
      ]
     },
     "metadata": {},
     "output_type": "display_data"
    },
    {
     "data": {
      "text/latex": [
       "$\\displaystyle \\frac{d}{d x} \\left(\\cos{\\left(x \\right)} + \\frac{1}{x^{3}}\\right) = - \\sin{\\left(x \\right)} - \\frac{3}{x^{4}}$"
      ],
      "text/plain": [
       "Eq(Derivative(cos(x) + x**(-3), x), -sin(x) - 3/x**4)"
      ]
     },
     "metadata": {},
     "output_type": "display_data"
    },
    {
     "data": {
      "text/latex": [
       "$\\displaystyle \\int \\left(3 x + \\left(x + 1\\right)^{4} + 3\\right)\\, dx = \\frac{x^{5}}{5} + x^{4} + 2 x^{3} + \\frac{7 x^{2}}{2} + 4 x$"
      ],
      "text/plain": [
       "Eq(Integral(3*x + (x + 1)**4 + 3, x), x**5/5 + x**4 + 2*x**3 + 7*x**2/2 + 4*x)"
      ]
     },
     "metadata": {},
     "output_type": "display_data"
    },
    {
     "data": {
      "text/latex": [
       "$\\displaystyle \\frac{d}{d x} e^{x} = e^{x}$"
      ],
      "text/plain": [
       "Eq(Derivative(exp(x), x), exp(x))"
      ]
     },
     "metadata": {},
     "output_type": "display_data"
    },
    {
     "data": {
      "text/latex": [
       "$\\displaystyle \\int \\left(- 2 \\sin{\\left(x \\right)}\\right)\\, dx = 2 \\cos{\\left(x \\right)}$"
      ],
      "text/plain": [
       "Eq(Integral(-2*sin(x), x), 2*cos(x))"
      ]
     },
     "metadata": {},
     "output_type": "display_data"
    },
    {
     "data": {
      "text/latex": [
       "$\\displaystyle \\frac{d}{d x} \\left(\\sin{\\left(x \\right)} - \\tan{\\left(x \\right)}\\right) = \\cos{\\left(x \\right)} - \\tan^{2}{\\left(x \\right)} - 1$"
      ],
      "text/plain": [
       "Eq(Derivative(sin(x) - tan(x), x), cos(x) - tan(x)**2 - 1)"
      ]
     },
     "metadata": {},
     "output_type": "display_data"
    },
    {
     "data": {
      "text/latex": [
       "$\\displaystyle \\int \\frac{\\log{\\left(x \\right)}}{\\sin{\\left(x \\right)}}\\, dx = \\int \\frac{\\log{\\left(x \\right)}}{\\sin{\\left(x \\right)}}\\, dx$"
      ],
      "text/plain": [
       "Eq(Integral(log(x)/sin(x), x), Integral(log(x)/sin(x), x))"
      ]
     },
     "metadata": {},
     "output_type": "display_data"
    },
    {
     "data": {
      "text/latex": [
       "$\\displaystyle \\frac{d}{d x} \\left(\\log{\\left(x \\right)} + 4\\right) = \\frac{1}{x}$"
      ],
      "text/plain": [
       "Eq(Derivative(log(x) + 4, x), 1/x)"
      ]
     },
     "metadata": {},
     "output_type": "display_data"
    },
    {
     "data": {
      "text/latex": [
       "$\\displaystyle \\int \\frac{\\cos{\\left(x \\right)}}{x^{5}}\\, dx = - \\frac{\\log{\\left(x \\right)}}{24} + \\frac{\\log{\\left(x^{2} \\right)}}{48} + \\frac{\\operatorname{Ci}{\\left(x \\right)}}{24} - \\frac{\\sin{\\left(x \\right)}}{24 x} + \\frac{\\cos{\\left(x \\right)}}{24 x^{2}} + \\frac{\\sin{\\left(x \\right)}}{12 x^{3}} - \\frac{\\cos{\\left(x \\right)}}{4 x^{4}}$"
      ],
      "text/plain": [
       "Eq(Integral(cos(x)/x**5, x), -log(x)/24 + log(x**2)/48 + Ci(x)/24 - sin(x)/(24*x) + cos(x)/(24*x**2) + sin(x)/(12*x**3) - cos(x)/(4*x**4))"
      ]
     },
     "metadata": {},
     "output_type": "display_data"
    },
    {
     "data": {
      "text/latex": [
       "$\\displaystyle \\frac{d}{d x} \\frac{e^{x}}{\\sin{\\left(x \\right)}} = \\frac{e^{x}}{\\sin{\\left(x \\right)}} - \\frac{e^{x} \\cos{\\left(x \\right)}}{\\sin^{2}{\\left(x \\right)}}$"
      ],
      "text/plain": [
       "Eq(Derivative(exp(x)/sin(x), x), exp(x)/sin(x) - exp(x)*cos(x)/sin(x)**2)"
      ]
     },
     "metadata": {},
     "output_type": "display_data"
    },
    {
     "data": {
      "text/latex": [
       "$\\displaystyle \\int \\left(2 x + \\log{\\left(x \\right)}\\right)\\, dx = x^{2} + x \\log{\\left(x \\right)} - x$"
      ],
      "text/plain": [
       "Eq(Integral(2*x + log(x), x), x**2 + x*log(x) - x)"
      ]
     },
     "metadata": {},
     "output_type": "display_data"
    },
    {
     "data": {
      "text/latex": [
       "$\\displaystyle \\frac{d}{d x} \\left(\\log{\\left(x \\right)} + \\sin{\\left(x \\right)}\\right) = \\cos{\\left(x \\right)} + \\frac{1}{x}$"
      ],
      "text/plain": [
       "Eq(Derivative(log(x) + sin(x), x), cos(x) + 1/x)"
      ]
     },
     "metadata": {},
     "output_type": "display_data"
    },
    {
     "data": {
      "text/latex": [
       "$\\displaystyle \\int 1\\, dx = x$"
      ],
      "text/plain": [
       "Eq(Integral(1, x), x)"
      ]
     },
     "metadata": {},
     "output_type": "display_data"
    },
    {
     "data": {
      "text/latex": [
       "$\\displaystyle \\frac{d}{d x} \\left(x + \\log{\\left(x \\right)}\\right) = 1 + \\frac{1}{x}$"
      ],
      "text/plain": [
       "Eq(Derivative(x + log(x), x), 1 + 1/x)"
      ]
     },
     "metadata": {},
     "output_type": "display_data"
    },
    {
     "data": {
      "text/latex": [
       "$\\displaystyle \\int 2 \\sin{\\left(x \\right)}\\, dx = - 2 \\cos{\\left(x \\right)}$"
      ],
      "text/plain": [
       "Eq(Integral(2*sin(x), x), -2*cos(x))"
      ]
     },
     "metadata": {},
     "output_type": "display_data"
    },
    {
     "data": {
      "text/latex": [
       "$\\displaystyle \\frac{d}{d x} \\left(- \\sqrt{x} + \\tan{\\left(x \\right)}\\right) = \\tan^{2}{\\left(x \\right)} + 1 - \\frac{1}{2 \\sqrt{x}}$"
      ],
      "text/plain": [
       "Eq(Derivative(-sqrt(x) + tan(x), x), tan(x)**2 + 1 - 1/(2*sqrt(x)))"
      ]
     },
     "metadata": {},
     "output_type": "display_data"
    },
    {
     "data": {
      "text/latex": [
       "$\\displaystyle \\int \\left(- \\sqrt[3]{x} + x^{3}\\right)\\, dx = - \\frac{3 x^{\\frac{4}{3}}}{4} + \\frac{x^{4}}{4}$"
      ],
      "text/plain": [
       "Eq(Integral(-x**(1/3) + x**3, x), -3*x**(4/3)/4 + x**4/4)"
      ]
     },
     "metadata": {},
     "output_type": "display_data"
    },
    {
     "data": {
      "text/latex": [
       "$\\displaystyle \\frac{d}{d x} 12 x = 12$"
      ],
      "text/plain": [
       "Eq(Derivative(12*x, x), 12)"
      ]
     },
     "metadata": {},
     "output_type": "display_data"
    },
    {
     "data": {
      "text/latex": [
       "$\\displaystyle \\int \\left(- \\sqrt[3]{x} + \\log{\\left(x \\right)}\\right)\\, dx = - \\frac{3 x^{\\frac{4}{3}}}{4} + x \\log{\\left(x \\right)} - x$"
      ],
      "text/plain": [
       "Eq(Integral(-x**(1/3) + log(x), x), -3*x**(4/3)/4 + x*log(x) - x)"
      ]
     },
     "metadata": {},
     "output_type": "display_data"
    },
    {
     "data": {
      "text/latex": [
       "$\\displaystyle \\frac{d}{d x} \\left(\\sqrt{x} - x^{4} + 2 x + 4\\right) = - 4 x^{3} + 2 + \\frac{1}{2 \\sqrt{x}}$"
      ],
      "text/plain": [
       "Eq(Derivative(sqrt(x) - x**4 + 2*x + 4, x), -4*x**3 + 2 + 1/(2*sqrt(x)))"
      ]
     },
     "metadata": {},
     "output_type": "display_data"
    },
    {
     "data": {
      "text/latex": [
       "$\\displaystyle \\int \\log{\\left(x \\right)}\\, dx = x \\log{\\left(x \\right)} - x$"
      ],
      "text/plain": [
       "Eq(Integral(log(x), x), x*log(x) - x)"
      ]
     },
     "metadata": {},
     "output_type": "display_data"
    },
    {
     "data": {
      "text/latex": [
       "$\\displaystyle \\frac{d}{d x} \\left(e^{x} - \\cos{\\left(x \\right)}\\right) = e^{x} + \\sin{\\left(x \\right)}$"
      ],
      "text/plain": [
       "Eq(Derivative(exp(x) - cos(x), x), exp(x) + sin(x))"
      ]
     },
     "metadata": {},
     "output_type": "display_data"
    },
    {
     "data": {
      "text/latex": [
       "$\\displaystyle \\int \\left(3 x + \\sin{\\left(x \\right)}\\right)\\, dx = \\frac{3 x^{2}}{2} - \\cos{\\left(x \\right)}$"
      ],
      "text/plain": [
       "Eq(Integral(3*x + sin(x), x), 3*x**2/2 - cos(x))"
      ]
     },
     "metadata": {},
     "output_type": "display_data"
    },
    {
     "data": {
      "text/latex": [
       "$\\displaystyle \\frac{d}{d x} e^{- x} \\cos{\\left(x \\right)} = - e^{- x} \\sin{\\left(x \\right)} - e^{- x} \\cos{\\left(x \\right)}$"
      ],
      "text/plain": [
       "Eq(Derivative(exp(-x)*cos(x), x), -exp(-x)*sin(x) - exp(-x)*cos(x))"
      ]
     },
     "metadata": {},
     "output_type": "display_data"
    },
    {
     "data": {
      "text/latex": [
       "$\\displaystyle \\int \\frac{e^{x}}{\\cos{\\left(x \\right)}}\\, dx = \\int \\frac{e^{x}}{\\cos{\\left(x \\right)}}\\, dx$"
      ],
      "text/plain": [
       "Eq(Integral(exp(x)/cos(x), x), Integral(exp(x)/cos(x), x))"
      ]
     },
     "metadata": {},
     "output_type": "display_data"
    },
    {
     "data": {
      "text/latex": [
       "$\\displaystyle \\frac{d}{d x} \\left(- \\sqrt[3]{x} + \\cos{\\left(x \\right)}\\right) = - \\sin{\\left(x \\right)} - \\frac{1}{3 x^{\\frac{2}{3}}}$"
      ],
      "text/plain": [
       "Eq(Derivative(-x**(1/3) + cos(x), x), -sin(x) - 1/(3*x**(2/3)))"
      ]
     },
     "metadata": {},
     "output_type": "display_data"
    },
    {
     "data": {
      "text/latex": [
       "$\\displaystyle \\int \\tan{\\left(x^{4} + 2 \\right)}\\, dx = \\int \\tan{\\left(x^{4} + 2 \\right)}\\, dx$"
      ],
      "text/plain": [
       "Eq(Integral(tan(x**4 + 2), x), Integral(tan(x**4 + 2), x))"
      ]
     },
     "metadata": {},
     "output_type": "display_data"
    },
    {
     "data": {
      "text/latex": [
       "$\\displaystyle \\frac{d}{d x} \\left(4 x + \\cos{\\left(x \\right)}\\right) = 4 - \\sin{\\left(x \\right)}$"
      ],
      "text/plain": [
       "Eq(Derivative(4*x + cos(x), x), 4 - sin(x))"
      ]
     },
     "metadata": {},
     "output_type": "display_data"
    },
    {
     "data": {
      "text/latex": [
       "$\\displaystyle \\int \\tan{\\left(\\sqrt{x} \\right)}\\, dx = \\int \\tan{\\left(\\sqrt{x} \\right)}\\, dx$"
      ],
      "text/plain": [
       "Eq(Integral(tan(sqrt(x)), x), Integral(tan(sqrt(x)), x))"
      ]
     },
     "metadata": {},
     "output_type": "display_data"
    },
    {
     "data": {
      "text/latex": [
       "$\\displaystyle \\frac{d}{d x} \\left(\\sqrt[3]{x} + x^{4} - x + 3\\right) = 4 x^{3} - 1 + \\frac{1}{3 x^{\\frac{2}{3}}}$"
      ],
      "text/plain": [
       "Eq(Derivative(x**(1/3) + x**4 - x + 3, x), 4*x**3 - 1 + 1/(3*x**(2/3)))"
      ]
     },
     "metadata": {},
     "output_type": "display_data"
    },
    {
     "data": {
      "text/latex": [
       "$\\displaystyle \\int \\frac{1}{x^{4} \\cos{\\left(x \\right)}}\\, dx = \\int \\frac{1}{x^{4} \\cos{\\left(x \\right)}}\\, dx$"
      ],
      "text/plain": [
       "Eq(Integral(1/(x**4*cos(x)), x), Integral(1/(x**4*cos(x)), x))"
      ]
     },
     "metadata": {},
     "output_type": "display_data"
    },
    {
     "data": {
      "text/latex": [
       "$\\displaystyle \\frac{d}{d x} \\left(2 x + 1 + \\frac{1}{x}\\right) = 2 - \\frac{1}{x^{2}}$"
      ],
      "text/plain": [
       "Eq(Derivative(2*x + 1 + 1/x, x), 2 - 1/x**2)"
      ]
     },
     "metadata": {},
     "output_type": "display_data"
    },
    {
     "data": {
      "text/latex": [
       "$\\displaystyle \\int \\left(x + e^{x} + 3\\right)\\, dx = \\frac{x^{2}}{2} + 3 x + e^{x}$"
      ],
      "text/plain": [
       "Eq(Integral(x + exp(x) + 3, x), x**2/2 + 3*x + exp(x))"
      ]
     },
     "metadata": {},
     "output_type": "display_data"
    },
    {
     "data": {
      "text/latex": [
       "$\\displaystyle \\frac{d}{d x} e^{\\sin{\\left(x \\right)}} = e^{\\sin{\\left(x \\right)}} \\cos{\\left(x \\right)}$"
      ],
      "text/plain": [
       "Eq(Derivative(exp(sin(x)), x), exp(sin(x))*cos(x))"
      ]
     },
     "metadata": {},
     "output_type": "display_data"
    },
    {
     "data": {
      "text/latex": [
       "$\\displaystyle \\int \\frac{4 x + 1}{\\sqrt[3]{x}}\\, dx = \\begin{cases} \\frac{12 x^{\\frac{2}{3}} \\left(x + \\frac{1}{4}\\right)}{5} + \\frac{9 x^{\\frac{2}{3}}}{10} & \\text{for}\\: 4 \\left|{x + \\frac{1}{4}}\\right| > 1 \\\\- \\frac{12 \\left(- x\\right)^{\\frac{2}{3}} \\left(x + \\frac{1}{4}\\right) e^{- \\frac{i \\pi}{3}}}{5} - \\frac{9 \\left(- x\\right)^{\\frac{2}{3}} e^{- \\frac{i \\pi}{3}}}{10} & \\text{otherwise} \\end{cases}$"
      ],
      "text/plain": [
       "Eq(Integral((4*x + 1)/x**(1/3), x), Piecewise((12*x**(2/3)*(x + 1/4)/5 + 9*x**(2/3)/10, 4*Abs(x + 1/4) > 1), (-12*(-x)**(2/3)*(x + 1/4)*exp(-I*pi/3)/5 - 9*(-x)**(2/3)*exp(-I*pi/3)/10, True)))"
      ]
     },
     "metadata": {},
     "output_type": "display_data"
    },
    {
     "data": {
      "text/latex": [
       "$\\displaystyle \\frac{d}{d x} \\frac{\\log{\\left(x \\right)}}{\\sqrt{x}} = - \\frac{\\log{\\left(x \\right)}}{2 x^{\\frac{3}{2}}} + \\frac{1}{x^{\\frac{3}{2}}}$"
      ],
      "text/plain": [
       "Eq(Derivative(log(x)/sqrt(x), x), -log(x)/(2*x**(3/2)) + x**(-3/2))"
      ]
     },
     "metadata": {},
     "output_type": "display_data"
    },
    {
     "data": {
      "text/latex": [
       "$\\displaystyle \\int \\left(2 x - e^{x} + 4 + \\frac{1}{x^{3}}\\right)\\, dx = x^{2} + 4 x - e^{x} - \\frac{1}{2 x^{2}}$"
      ],
      "text/plain": [
       "Eq(Integral(2*x - exp(x) + 4 + x**(-3), x), x**2 + 4*x - exp(x) - 1/(2*x**2))"
      ]
     },
     "metadata": {},
     "output_type": "display_data"
    },
    {
     "data": {
      "text/latex": [
       "$\\displaystyle \\frac{d}{d x} \\tan^{2}{\\left(x \\right)} = \\left(2 \\tan^{2}{\\left(x \\right)} + 2\\right) \\tan{\\left(x \\right)}$"
      ],
      "text/plain": [
       "Eq(Derivative(tan(x)**2, x), (2*tan(x)**2 + 2)*tan(x))"
      ]
     },
     "metadata": {},
     "output_type": "display_data"
    },
    {
     "data": {
      "text/latex": [
       "$\\displaystyle \\int \\frac{\\sqrt[3]{x}}{\\cos{\\left(x \\right)}}\\, dx = \\int \\frac{\\sqrt[3]{x}}{\\cos{\\left(x \\right)}}\\, dx$"
      ],
      "text/plain": [
       "Eq(Integral(x**(1/3)/cos(x), x), Integral(x**(1/3)/cos(x), x))"
      ]
     },
     "metadata": {},
     "output_type": "display_data"
    },
    {
     "data": {
      "text/latex": [
       "$\\displaystyle \\frac{d}{d x} \\frac{\\sin{\\left(x \\right)}}{\\sqrt{x}} = \\frac{\\cos{\\left(x \\right)}}{\\sqrt{x}} - \\frac{\\sin{\\left(x \\right)}}{2 x^{\\frac{3}{2}}}$"
      ],
      "text/plain": [
       "Eq(Derivative(sin(x)/sqrt(x), x), cos(x)/sqrt(x) - sin(x)/(2*x**(3/2)))"
      ]
     },
     "metadata": {},
     "output_type": "display_data"
    },
    {
     "data": {
      "text/latex": [
       "$\\displaystyle \\int \\left(- \\sqrt{x} + \\tan{\\left(x \\right)}\\right)\\, dx = - \\frac{2 x^{\\frac{3}{2}}}{3} - \\log{\\left(\\cos{\\left(x \\right)} \\right)}$"
      ],
      "text/plain": [
       "Eq(Integral(-sqrt(x) + tan(x), x), -2*x**(3/2)/3 - log(cos(x)))"
      ]
     },
     "metadata": {},
     "output_type": "display_data"
    },
    {
     "data": {
      "text/latex": [
       "$\\displaystyle \\frac{d}{d x} \\left(4 - 2 x\\right) = -2$"
      ],
      "text/plain": [
       "Eq(Derivative(4 - 2*x, x), -2)"
      ]
     },
     "metadata": {},
     "output_type": "display_data"
    },
    {
     "data": {
      "text/latex": [
       "$\\displaystyle \\int \\left(\\sqrt{x} - \\cos{\\left(x \\right)}\\right)\\, dx = \\frac{2 x^{\\frac{3}{2}}}{3} - \\sin{\\left(x \\right)}$"
      ],
      "text/plain": [
       "Eq(Integral(sqrt(x) - cos(x), x), 2*x**(3/2)/3 - sin(x))"
      ]
     },
     "metadata": {},
     "output_type": "display_data"
    },
    {
     "data": {
      "text/latex": [
       "$\\displaystyle \\frac{d}{d x} x^{\\frac{5}{3}} = \\frac{5 x^{\\frac{2}{3}}}{3}$"
      ],
      "text/plain": [
       "Eq(Derivative(x**(5/3), x), 5*x**(2/3)/3)"
      ]
     },
     "metadata": {},
     "output_type": "display_data"
    },
    {
     "data": {
      "text/latex": [
       "$\\displaystyle \\int \\frac{\\cos{\\left(x \\right)}}{\\tan{\\left(x \\right)}}\\, dx = \\frac{\\log{\\left(\\cos{\\left(x \\right)} - 1 \\right)}}{2} - \\frac{\\log{\\left(\\cos{\\left(x \\right)} + 1 \\right)}}{2} + \\cos{\\left(x \\right)}$"
      ],
      "text/plain": [
       "Eq(Integral(cos(x)/tan(x), x), log(cos(x) - 1)/2 - log(cos(x) + 1)/2 + cos(x))"
      ]
     },
     "metadata": {},
     "output_type": "display_data"
    },
    {
     "data": {
      "text/latex": [
       "$\\displaystyle \\frac{d}{d x} \\left(- \\sqrt{x} - 2 x\\right) = -2 - \\frac{1}{2 \\sqrt{x}}$"
      ],
      "text/plain": [
       "Eq(Derivative(-sqrt(x) - 2*x, x), -2 - 1/(2*sqrt(x)))"
      ]
     },
     "metadata": {},
     "output_type": "display_data"
    },
    {
     "data": {
      "text/latex": [
       "$\\displaystyle \\int \\left(\\sqrt{x} + \\sin{\\left(x \\right)}\\right)\\, dx = \\frac{2 x^{\\frac{3}{2}}}{3} - \\cos{\\left(x \\right)}$"
      ],
      "text/plain": [
       "Eq(Integral(sqrt(x) + sin(x), x), 2*x**(3/2)/3 - cos(x))"
      ]
     },
     "metadata": {},
     "output_type": "display_data"
    },
    {
     "data": {
      "text/latex": [
       "$\\displaystyle \\frac{d}{d x} 2 \\sqrt[3]{x} = \\frac{2}{3 x^{\\frac{2}{3}}}$"
      ],
      "text/plain": [
       "Eq(Derivative(2*x**(1/3), x), 2/(3*x**(2/3)))"
      ]
     },
     "metadata": {},
     "output_type": "display_data"
    },
    {
     "data": {
      "text/latex": [
       "$\\displaystyle \\int \\left(- \\sqrt[3]{x} + \\log{\\left(x \\right)}\\right)\\, dx = - \\frac{3 x^{\\frac{4}{3}}}{4} + x \\log{\\left(x \\right)} - x$"
      ],
      "text/plain": [
       "Eq(Integral(-x**(1/3) + log(x), x), -3*x**(4/3)/4 + x*log(x) - x)"
      ]
     },
     "metadata": {},
     "output_type": "display_data"
    },
    {
     "data": {
      "text/latex": [
       "$\\displaystyle \\frac{d}{d x} \\left(\\sqrt[3]{x} - \\log{\\left(x \\right)}\\right) = - \\frac{1}{x} + \\frac{1}{3 x^{\\frac{2}{3}}}$"
      ],
      "text/plain": [
       "Eq(Derivative(x**(1/3) - log(x), x), -1/x + 1/(3*x**(2/3)))"
      ]
     },
     "metadata": {},
     "output_type": "display_data"
    },
    {
     "data": {
      "text/latex": [
       "$\\displaystyle \\int \\left(\\log{\\left(x \\right)} - \\cos{\\left(x \\right)}\\right)\\, dx = x \\log{\\left(x \\right)} - x - \\sin{\\left(x \\right)}$"
      ],
      "text/plain": [
       "Eq(Integral(log(x) - cos(x), x), x*log(x) - x - sin(x))"
      ]
     },
     "metadata": {},
     "output_type": "display_data"
    },
    {
     "data": {
      "text/latex": [
       "$\\displaystyle \\frac{d}{d x} \\frac{x + 1}{\\cos{\\left(x \\right)}} = \\frac{\\left(x + 1\\right) \\sin{\\left(x \\right)}}{\\cos^{2}{\\left(x \\right)}} + \\frac{1}{\\cos{\\left(x \\right)}}$"
      ],
      "text/plain": [
       "Eq(Derivative((x + 1)/cos(x), x), (x + 1)*sin(x)/cos(x)**2 + 1/cos(x))"
      ]
     },
     "metadata": {},
     "output_type": "display_data"
    },
    {
     "data": {
      "text/latex": [
       "$\\displaystyle \\int \\frac{\\cos{\\left(x \\right)}}{\\sqrt[3]{x}}\\, dx = \\frac{x^{\\frac{2}{3}} \\Gamma\\left(\\frac{1}{3}\\right) {{}_{1}F_{2}\\left(\\begin{matrix} \\frac{1}{3} \\\\ \\frac{1}{2}, \\frac{4}{3} \\end{matrix}\\middle| {- \\frac{x^{2}}{4}} \\right)}}{2 \\Gamma\\left(\\frac{4}{3}\\right)}$"
      ],
      "text/plain": [
       "Eq(Integral(cos(x)/x**(1/3), x), x**(2/3)*gamma(1/3)*hyper((1/3,), (1/2, 4/3), -x**2/4)/(2*gamma(4/3)))"
      ]
     },
     "metadata": {},
     "output_type": "display_data"
    },
    {
     "data": {
      "text/latex": [
       "$\\displaystyle \\frac{d}{d x} e^{\\sqrt[3]{x}} = \\frac{e^{\\sqrt[3]{x}}}{3 x^{\\frac{2}{3}}}$"
      ],
      "text/plain": [
       "Eq(Derivative(exp(x**(1/3)), x), exp(x**(1/3))/(3*x**(2/3)))"
      ]
     },
     "metadata": {},
     "output_type": "display_data"
    },
    {
     "data": {
      "text/latex": [
       "$\\displaystyle \\int \\left(- x^{2} + 3 x + 3 + \\frac{1}{x}\\right)\\, dx = - \\frac{x^{3}}{3} + \\frac{3 x^{2}}{2} + 3 x + \\log{\\left(x \\right)}$"
      ],
      "text/plain": [
       "Eq(Integral(-x**2 + 3*x + 3 + 1/x, x), -x**3/3 + 3*x**2/2 + 3*x + log(x))"
      ]
     },
     "metadata": {},
     "output_type": "display_data"
    },
    {
     "data": {
      "text/latex": [
       "$\\displaystyle \\frac{d}{d x} \\left(x^{4} + x - 5\\right) = 4 x^{3} + 1$"
      ],
      "text/plain": [
       "Eq(Derivative(x**4 + x - 5, x), 4*x**3 + 1)"
      ]
     },
     "metadata": {},
     "output_type": "display_data"
    },
    {
     "data": {
      "text/latex": [
       "$\\displaystyle \\int \\left(\\sqrt{x} + 2 x\\right)\\, dx = \\frac{2 x^{\\frac{3}{2}}}{3} + x^{2}$"
      ],
      "text/plain": [
       "Eq(Integral(sqrt(x) + 2*x, x), 2*x**(3/2)/3 + x**2)"
      ]
     },
     "metadata": {},
     "output_type": "display_data"
    },
    {
     "data": {
      "text/latex": [
       "$\\displaystyle \\frac{d}{d x} \\sqrt{\\log{\\left(x \\right)}} = \\frac{1}{2 x \\sqrt{\\log{\\left(x \\right)}}}$"
      ],
      "text/plain": [
       "Eq(Derivative(sqrt(log(x)), x), 1/(2*x*sqrt(log(x))))"
      ]
     },
     "metadata": {},
     "output_type": "display_data"
    },
    {
     "data": {
      "text/latex": [
       "$\\displaystyle \\int \\left(x^{4} - 2 x + e^{x} - 1\\right)\\, dx = \\frac{x^{5}}{5} - x^{2} - x + e^{x}$"
      ],
      "text/plain": [
       "Eq(Integral(x**4 - 2*x + exp(x) - 1, x), x**5/5 - x**2 - x + exp(x))"
      ]
     },
     "metadata": {},
     "output_type": "display_data"
    },
    {
     "data": {
      "text/latex": [
       "$\\displaystyle \\frac{d}{d x} \\frac{e^{x}}{x} = \\frac{e^{x}}{x} - \\frac{e^{x}}{x^{2}}$"
      ],
      "text/plain": [
       "Eq(Derivative(exp(x)/x, x), exp(x)/x - exp(x)/x**2)"
      ]
     },
     "metadata": {},
     "output_type": "display_data"
    },
    {
     "data": {
      "text/latex": [
       "$\\displaystyle \\int \\frac{\\sqrt{x}}{\\tan{\\left(x \\right)}}\\, dx = \\int \\frac{\\sqrt{x}}{\\tan{\\left(x \\right)}}\\, dx$"
      ],
      "text/plain": [
       "Eq(Integral(sqrt(x)/tan(x), x), Integral(sqrt(x)/tan(x), x))"
      ]
     },
     "metadata": {},
     "output_type": "display_data"
    },
    {
     "data": {
      "text/latex": [
       "$\\displaystyle \\frac{d}{d x} \\left(- x - 1\\right) = -1$"
      ],
      "text/plain": [
       "Eq(Derivative(-x - 1, x), -1)"
      ]
     },
     "metadata": {},
     "output_type": "display_data"
    },
    {
     "data": {
      "text/latex": [
       "$\\displaystyle \\int 9 x\\, dx = \\frac{9 x^{2}}{2}$"
      ],
      "text/plain": [
       "Eq(Integral(9*x, x), 9*x**2/2)"
      ]
     },
     "metadata": {},
     "output_type": "display_data"
    },
    {
     "data": {
      "text/latex": [
       "$\\displaystyle \\frac{d}{d x} \\frac{1}{\\sqrt[6]{x}} = - \\frac{1}{6 x^{\\frac{7}{6}}}$"
      ],
      "text/plain": [
       "Eq(Derivative(x**(-1/6), x), -1/(6*x**(7/6)))"
      ]
     },
     "metadata": {},
     "output_type": "display_data"
    },
    {
     "data": {
      "text/latex": [
       "$\\displaystyle \\int \\left(\\sqrt{x} + \\sin{\\left(x \\right)}\\right)\\, dx = \\frac{2 x^{\\frac{3}{2}}}{3} - \\cos{\\left(x \\right)}$"
      ],
      "text/plain": [
       "Eq(Integral(sqrt(x) + sin(x), x), 2*x**(3/2)/3 - cos(x))"
      ]
     },
     "metadata": {},
     "output_type": "display_data"
    },
    {
     "data": {
      "text/latex": [
       "$\\displaystyle \\frac{d}{d x} \\left(\\sqrt[3]{x} - \\sin{\\left(x \\right)}\\right) = - \\cos{\\left(x \\right)} + \\frac{1}{3 x^{\\frac{2}{3}}}$"
      ],
      "text/plain": [
       "Eq(Derivative(x**(1/3) - sin(x), x), -cos(x) + 1/(3*x**(2/3)))"
      ]
     },
     "metadata": {},
     "output_type": "display_data"
    },
    {
     "data": {
      "text/latex": [
       "$\\displaystyle \\int \\left(\\sin{\\left(x \\right)} + \\cos{\\left(x \\right)}\\right)\\, dx = \\sin{\\left(x \\right)} - \\cos{\\left(x \\right)}$"
      ],
      "text/plain": [
       "Eq(Integral(sin(x) + cos(x), x), sin(x) - cos(x))"
      ]
     },
     "metadata": {},
     "output_type": "display_data"
    },
    {
     "data": {
      "text/latex": [
       "$\\displaystyle \\frac{d}{d x} \\left(\\sqrt{x} - 2 x - 1\\right) = -2 + \\frac{1}{2 \\sqrt{x}}$"
      ],
      "text/plain": [
       "Eq(Derivative(sqrt(x) - 2*x - 1, x), -2 + 1/(2*sqrt(x)))"
      ]
     },
     "metadata": {},
     "output_type": "display_data"
    },
    {
     "data": {
      "text/latex": [
       "$\\displaystyle \\int \\frac{e^{x}}{\\sqrt{x}}\\, dx = - i \\sqrt{\\pi} \\operatorname{erf}{\\left(i \\sqrt{x} \\right)}$"
      ],
      "text/plain": [
       "Eq(Integral(exp(x)/sqrt(x), x), -I*sqrt(pi)*erf(I*sqrt(x)))"
      ]
     },
     "metadata": {},
     "output_type": "display_data"
    },
    {
     "data": {
      "text/latex": [
       "$\\displaystyle \\frac{d}{d x} \\frac{1}{\\tan^{4}{\\left(x \\right)}} = \\frac{- 4 \\tan^{2}{\\left(x \\right)} - 4}{\\tan^{5}{\\left(x \\right)}}$"
      ],
      "text/plain": [
       "Eq(Derivative(tan(x)**(-4), x), (-4*tan(x)**2 - 4)/tan(x)**5)"
      ]
     },
     "metadata": {},
     "output_type": "display_data"
    },
    {
     "data": {
      "text/latex": [
       "$\\displaystyle \\int e^{4 x}\\, dx = \\frac{e^{4 x}}{4}$"
      ],
      "text/plain": [
       "Eq(Integral(exp(4*x), x), exp(4*x)/4)"
      ]
     },
     "metadata": {},
     "output_type": "display_data"
    },
    {
     "data": {
      "text/latex": [
       "$\\displaystyle \\frac{d}{d x} \\frac{\\sqrt[3]{x}}{3 x - 4} = - \\frac{3 \\sqrt[3]{x}}{\\left(3 x - 4\\right)^{2}} + \\frac{1}{3 x^{\\frac{2}{3}} \\left(3 x - 4\\right)}$"
      ],
      "text/plain": [
       "Eq(Derivative(x**(1/3)/(3*x - 4), x), -3*x**(1/3)/(3*x - 4)**2 + 1/(3*x**(2/3)*(3*x - 4)))"
      ]
     },
     "metadata": {},
     "output_type": "display_data"
    },
    {
     "data": {
      "text/latex": [
       "$\\displaystyle \\int e^{\\sqrt{x}}\\, dx = 2 \\sqrt{x} e^{\\sqrt{x}} - 2 e^{\\sqrt{x}}$"
      ],
      "text/plain": [
       "Eq(Integral(exp(sqrt(x)), x), 2*sqrt(x)*exp(sqrt(x)) - 2*exp(sqrt(x)))"
      ]
     },
     "metadata": {},
     "output_type": "display_data"
    },
    {
     "data": {
      "text/latex": [
       "$\\displaystyle \\frac{d}{d x} \\left(\\sqrt{x} - \\tan{\\left(x \\right)}\\right) = - \\tan^{2}{\\left(x \\right)} - 1 + \\frac{1}{2 \\sqrt{x}}$"
      ],
      "text/plain": [
       "Eq(Derivative(sqrt(x) - tan(x), x), -tan(x)**2 - 1 + 1/(2*sqrt(x)))"
      ]
     },
     "metadata": {},
     "output_type": "display_data"
    },
    {
     "data": {
      "text/latex": [
       "$\\displaystyle \\int \\log{\\left(- 2 x \\right)}\\, dx = x \\log{\\left(- 2 x \\right)} - x$"
      ],
      "text/plain": [
       "Eq(Integral(log(-2*x), x), x*log(-2*x) - x)"
      ]
     },
     "metadata": {},
     "output_type": "display_data"
    },
    {
     "data": {
      "text/latex": [
       "$\\displaystyle \\frac{d}{d x} \\left(\\sin^{3}{\\left(x \\right)} - \\sin{\\left(x \\right)} - 4\\right) = 3 \\sin^{2}{\\left(x \\right)} \\cos{\\left(x \\right)} - \\cos{\\left(x \\right)}$"
      ],
      "text/plain": [
       "Eq(Derivative(sin(x)**3 - sin(x) - 4, x), 3*sin(x)**2*cos(x) - cos(x))"
      ]
     },
     "metadata": {},
     "output_type": "display_data"
    },
    {
     "data": {
      "text/latex": [
       "$\\displaystyle \\int 1\\, dx = x$"
      ],
      "text/plain": [
       "Eq(Integral(1, x), x)"
      ]
     },
     "metadata": {},
     "output_type": "display_data"
    },
    {
     "data": {
      "text/latex": [
       "$\\displaystyle \\frac{d}{d x} \\left(- x - \\log{\\left(x \\right)} + 4\\right) = -1 - \\frac{1}{x}$"
      ],
      "text/plain": [
       "Eq(Derivative(-x - log(x) + 4, x), -1 - 1/x)"
      ]
     },
     "metadata": {},
     "output_type": "display_data"
    },
    {
     "data": {
      "text/latex": [
       "$\\displaystyle \\int \\left(e^{x} - 5\\right)\\, dx = - 5 x + e^{x}$"
      ],
      "text/plain": [
       "Eq(Integral(exp(x) - 5, x), -5*x + exp(x))"
      ]
     },
     "metadata": {},
     "output_type": "display_data"
    },
    {
     "data": {
      "text/latex": [
       "$\\displaystyle \\frac{d}{d x} \\left(- x + \\cos{\\left(x \\right)}\\right) = - \\sin{\\left(x \\right)} - 1$"
      ],
      "text/plain": [
       "Eq(Derivative(-x + cos(x), x), -sin(x) - 1)"
      ]
     },
     "metadata": {},
     "output_type": "display_data"
    },
    {
     "data": {
      "text/latex": [
       "$\\displaystyle \\int \\frac{-3 + \\frac{1}{x^{4}}}{x^{3}}\\, dx = - \\frac{1 - 9 x^{4}}{6 x^{6}}$"
      ],
      "text/plain": [
       "Eq(Integral((-3 + x**(-4))/x**3, x), -(1 - 9*x**4)/(6*x**6))"
      ]
     },
     "metadata": {},
     "output_type": "display_data"
    },
    {
     "data": {
      "text/latex": [
       "$\\displaystyle \\frac{d}{d x} \\log{\\left(\\sqrt{x} \\right)} = \\frac{1}{2 x}$"
      ],
      "text/plain": [
       "Eq(Derivative(log(sqrt(x)), x), 1/(2*x))"
      ]
     },
     "metadata": {},
     "output_type": "display_data"
    },
    {
     "data": {
      "text/latex": [
       "$\\displaystyle \\int \\frac{\\log{\\left(x \\right)}}{x - 3}\\, dx = \\begin{cases} \\log{\\left(3 \\right)} \\log{\\left(x - 3 \\right)} - \\operatorname{Li}_{2}\\left(\\frac{\\left(x - 3\\right) e^{i \\pi}}{3}\\right) & \\text{for}\\: \\left|{x - 3}\\right| < 1 \\\\- \\log{\\left(3 \\right)} \\log{\\left(\\frac{1}{x - 3} \\right)} - \\operatorname{Li}_{2}\\left(\\frac{\\left(x - 3\\right) e^{i \\pi}}{3}\\right) & \\text{for}\\: \\frac{1}{\\left|{x - 3}\\right|} < 1 \\\\- {G_{2, 2}^{2, 0}\\left(\\begin{matrix}  & 1, 1 \\\\0, 0 &  \\end{matrix} \\middle| {x - 3} \\right)} \\log{\\left(3 \\right)} + {G_{2, 2}^{0, 2}\\left(\\begin{matrix} 1, 1 &  \\\\ & 0, 0 \\end{matrix} \\middle| {x - 3} \\right)} \\log{\\left(3 \\right)} - \\operatorname{Li}_{2}\\left(\\frac{\\left(x - 3\\right) e^{i \\pi}}{3}\\right) & \\text{otherwise} \\end{cases}$"
      ],
      "text/plain": [
       "Eq(Integral(log(x)/(x - 3), x), Piecewise((log(3)*log(x - 3) - polylog(2, (x - 3)*exp_polar(I*pi)/3), Abs(x - 3) < 1), (-log(3)*log(1/(x - 3)) - polylog(2, (x - 3)*exp_polar(I*pi)/3), 1/Abs(x - 3) < 1), (-meijerg(((), (1, 1)), ((0, 0), ()), x - 3)*log(3) + meijerg(((1, 1), ()), ((), (0, 0)), x - 3)*log(3) - polylog(2, (x - 3)*exp_polar(I*pi)/3), True)))"
      ]
     },
     "metadata": {},
     "output_type": "display_data"
    },
    {
     "data": {
      "text/latex": [
       "$\\displaystyle \\frac{d}{d x} \\left(- e^{x} + \\sin{\\left(x \\right)}\\right) = - e^{x} + \\cos{\\left(x \\right)}$"
      ],
      "text/plain": [
       "Eq(Derivative(-exp(x) + sin(x), x), -exp(x) + cos(x))"
      ]
     },
     "metadata": {},
     "output_type": "display_data"
    },
    {
     "data": {
      "text/latex": [
       "$\\displaystyle \\int \\tan{\\left(\\cos{\\left(x \\right)} \\right)}\\, dx = \\int \\tan{\\left(\\cos{\\left(x \\right)} \\right)}\\, dx$"
      ],
      "text/plain": [
       "Eq(Integral(tan(cos(x)), x), Integral(tan(cos(x)), x))"
      ]
     },
     "metadata": {},
     "output_type": "display_data"
    },
    {
     "data": {
      "text/latex": [
       "$\\displaystyle \\frac{d}{d x} \\left(- \\log{\\left(x \\right)} + \\cos{\\left(x \\right)}\\right) = - \\sin{\\left(x \\right)} - \\frac{1}{x}$"
      ],
      "text/plain": [
       "Eq(Derivative(-log(x) + cos(x), x), -sin(x) - 1/x)"
      ]
     },
     "metadata": {},
     "output_type": "display_data"
    },
    {
     "data": {
      "text/latex": [
       "$\\displaystyle \\int \\frac{\\sqrt{x}}{x^{3} - 2 x + 1}\\, dx = \\frac{40 \\sqrt{5} \\sqrt{-1 + \\sqrt{5}} \\log{\\left(\\sqrt{x} - 1 \\right)}}{- 90 \\sqrt{-1 + \\sqrt{5}} + 40 \\sqrt{5} \\sqrt{-1 + \\sqrt{5}}} - \\frac{90 \\sqrt{-1 + \\sqrt{5}} \\log{\\left(\\sqrt{x} - 1 \\right)}}{- 90 \\sqrt{-1 + \\sqrt{5}} + 40 \\sqrt{5} \\sqrt{-1 + \\sqrt{5}}} + \\frac{90 \\sqrt{-1 + \\sqrt{5}} \\log{\\left(\\sqrt{x} + 1 \\right)}}{- 90 \\sqrt{-1 + \\sqrt{5}} + 40 \\sqrt{5} \\sqrt{-1 + \\sqrt{5}}} - \\frac{40 \\sqrt{5} \\sqrt{-1 + \\sqrt{5}} \\log{\\left(\\sqrt{x} + 1 \\right)}}{- 90 \\sqrt{-1 + \\sqrt{5}} + 40 \\sqrt{5} \\sqrt{-1 + \\sqrt{5}}} + \\frac{25 \\sqrt{2} \\log{\\left(\\sqrt{x} - \\frac{\\sqrt{2} \\sqrt{-1 + \\sqrt{5}}}{2} \\right)}}{- 90 \\sqrt{-1 + \\sqrt{5}} + 40 \\sqrt{5} \\sqrt{-1 + \\sqrt{5}}} - \\frac{11 \\sqrt{10} \\log{\\left(\\sqrt{x} - \\frac{\\sqrt{2} \\sqrt{-1 + \\sqrt{5}}}{2} \\right)}}{- 90 \\sqrt{-1 + \\sqrt{5}} + 40 \\sqrt{5} \\sqrt{-1 + \\sqrt{5}}} + \\frac{11 \\sqrt{10} \\log{\\left(\\sqrt{x} + \\frac{\\sqrt{2} \\sqrt{-1 + \\sqrt{5}}}{2} \\right)}}{- 90 \\sqrt{-1 + \\sqrt{5}} + 40 \\sqrt{5} \\sqrt{-1 + \\sqrt{5}}} - \\frac{25 \\sqrt{2} \\log{\\left(\\sqrt{x} + \\frac{\\sqrt{2} \\sqrt{-1 + \\sqrt{5}}}{2} \\right)}}{- 90 \\sqrt{-1 + \\sqrt{5}} + 40 \\sqrt{5} \\sqrt{-1 + \\sqrt{5}}} + \\frac{47 \\sqrt{10} \\sqrt{-1 + \\sqrt{5}} \\sqrt{1 + \\sqrt{5}} \\operatorname{atan}{\\left(\\frac{\\sqrt{2} \\sqrt{x}}{\\sqrt{1 + \\sqrt{5}}} \\right)}}{- 90 \\sqrt{-1 + \\sqrt{5}} + 40 \\sqrt{5} \\sqrt{-1 + \\sqrt{5}}} - \\frac{105 \\sqrt{2} \\sqrt{-1 + \\sqrt{5}} \\sqrt{1 + \\sqrt{5}} \\operatorname{atan}{\\left(\\frac{\\sqrt{2} \\sqrt{x}}{\\sqrt{1 + \\sqrt{5}}} \\right)}}{- 90 \\sqrt{-1 + \\sqrt{5}} + 40 \\sqrt{5} \\sqrt{-1 + \\sqrt{5}}}$"
      ],
      "text/plain": [
       "Eq(Integral(sqrt(x)/(x**3 - 2*x + 1), x), 40*sqrt(5)*sqrt(-1 + sqrt(5))*log(sqrt(x) - 1)/(-90*sqrt(-1 + sqrt(5)) + 40*sqrt(5)*sqrt(-1 + sqrt(5))) - 90*sqrt(-1 + sqrt(5))*log(sqrt(x) - 1)/(-90*sqrt(-1 + sqrt(5)) + 40*sqrt(5)*sqrt(-1 + sqrt(5))) + 90*sqrt(-1 + sqrt(5))*log(sqrt(x) + 1)/(-90*sqrt(-1 + sqrt(5)) + 40*sqrt(5)*sqrt(-1 + sqrt(5))) - 40*sqrt(5)*sqrt(-1 + sqrt(5))*log(sqrt(x) + 1)/(-90*sqrt(-1 + sqrt(5)) + 40*sqrt(5)*sqrt(-1 + sqrt(5))) + 25*sqrt(2)*log(sqrt(x) - sqrt(2)*sqrt(-1 + sqrt(5))/2)/(-90*sqrt(-1 + sqrt(5)) + 40*sqrt(5)*sqrt(-1 + sqrt(5))) - 11*sqrt(10)*log(sqrt(x) - sqrt(2)*sqrt(-1 + sqrt(5))/2)/(-90*sqrt(-1 + sqrt(5)) + 40*sqrt(5)*sqrt(-1 + sqrt(5))) + 11*sqrt(10)*log(sqrt(x) + sqrt(2)*sqrt(-1 + sqrt(5))/2)/(-90*sqrt(-1 + sqrt(5)) + 40*sqrt(5)*sqrt(-1 + sqrt(5))) - 25*sqrt(2)*log(sqrt(x) + sqrt(2)*sqrt(-1 + sqrt(5))/2)/(-90*sqrt(-1 + sqrt(5)) + 40*sqrt(5)*sqrt(-1 + sqrt(5))) + 47*sqrt(10)*sqrt(-1 + sqrt(5))*sqrt(1 + sqrt(5))*atan(sqrt(2)*sqrt(x)/sqrt(1 + sqrt(5)))/(-90*sqrt(-1 + sqrt(5)) + 40*sqrt(5)*sqrt(-1 + sqrt(5))) - 105*sqrt(2)*sqrt(-1 + sqrt(5))*sqrt(1 + sqrt(5))*atan(sqrt(2)*sqrt(x)/sqrt(1 + sqrt(5)))/(-90*sqrt(-1 + sqrt(5)) + 40*sqrt(5)*sqrt(-1 + sqrt(5))))"
      ]
     },
     "metadata": {},
     "output_type": "display_data"
    },
    {
     "data": {
      "text/latex": [
       "$\\displaystyle \\frac{d}{d x} \\left(\\sqrt[3]{x} + \\frac{1}{x^{2}}\\right) = - \\frac{2}{x^{3}} + \\frac{1}{3 x^{\\frac{2}{3}}}$"
      ],
      "text/plain": [
       "Eq(Derivative(x**(1/3) + x**(-2), x), -2/x**3 + 1/(3*x**(2/3)))"
      ]
     },
     "metadata": {},
     "output_type": "display_data"
    },
    {
     "data": {
      "text/latex": [
       "$\\displaystyle \\int \\left(- \\log{\\left(x \\right)} + \\sin{\\left(x \\right)}\\right)\\, dx = - x \\log{\\left(x \\right)} + x - \\cos{\\left(x \\right)}$"
      ],
      "text/plain": [
       "Eq(Integral(-log(x) + sin(x), x), -x*log(x) + x - cos(x))"
      ]
     },
     "metadata": {},
     "output_type": "display_data"
    },
    {
     "data": {
      "text/latex": [
       "$\\displaystyle \\frac{d}{d x} x = 1$"
      ],
      "text/plain": [
       "Eq(Derivative(x, x), 1)"
      ]
     },
     "metadata": {},
     "output_type": "display_data"
    },
    {
     "data": {
      "text/latex": [
       "$\\displaystyle \\int 2 \\cos{\\left(x \\right)}\\, dx = 2 \\sin{\\left(x \\right)}$"
      ],
      "text/plain": [
       "Eq(Integral(2*cos(x), x), 2*sin(x))"
      ]
     },
     "metadata": {},
     "output_type": "display_data"
    },
    {
     "data": {
      "text/latex": [
       "$\\displaystyle \\frac{d}{d x} \\left(- \\sin{\\left(x \\right)} + \\cos{\\left(x \\right)}\\right) = - \\sin{\\left(x \\right)} - \\cos{\\left(x \\right)}$"
      ],
      "text/plain": [
       "Eq(Derivative(-sin(x) + cos(x), x), -sin(x) - cos(x))"
      ]
     },
     "metadata": {},
     "output_type": "display_data"
    },
    {
     "data": {
      "text/latex": [
       "$\\displaystyle \\int \\left(- 4 x + \\sin{\\left(x \\right)}\\right)\\, dx = - 2 x^{2} - \\cos{\\left(x \\right)}$"
      ],
      "text/plain": [
       "Eq(Integral(-4*x + sin(x), x), -2*x**2 - cos(x))"
      ]
     },
     "metadata": {},
     "output_type": "display_data"
    },
    {
     "data": {
      "text/latex": [
       "$\\displaystyle \\frac{d}{d x} \\left(\\log{\\left(x \\right)} + \\cos{\\left(x \\right)}\\right) = - \\sin{\\left(x \\right)} + \\frac{1}{x}$"
      ],
      "text/plain": [
       "Eq(Derivative(log(x) + cos(x), x), -sin(x) + 1/x)"
      ]
     },
     "metadata": {},
     "output_type": "display_data"
    },
    {
     "data": {
      "text/latex": [
       "$\\displaystyle \\int \\left(- \\log{\\left(x \\right)} + \\sin{\\left(x \\right)}\\right)\\, dx = - x \\log{\\left(x \\right)} + x - \\cos{\\left(x \\right)}$"
      ],
      "text/plain": [
       "Eq(Integral(-log(x) + sin(x), x), -x*log(x) + x - cos(x))"
      ]
     },
     "metadata": {},
     "output_type": "display_data"
    },
    {
     "data": {
      "text/latex": [
       "$\\displaystyle \\frac{d}{d x} \\left(- 3 x + e^{x} + 2 + \\frac{1}{x^{3}}\\right) = e^{x} - 3 - \\frac{3}{x^{4}}$"
      ],
      "text/plain": [
       "Eq(Derivative(-3*x + exp(x) + 2 + x**(-3), x), exp(x) - 3 - 3/x**4)"
      ]
     },
     "metadata": {},
     "output_type": "display_data"
    },
    {
     "data": {
      "text/latex": [
       "$\\displaystyle \\int \\left(x + \\log{\\left(x \\right)} + 1\\right)\\, dx = \\frac{x^{2}}{2} + x \\log{\\left(x \\right)}$"
      ],
      "text/plain": [
       "Eq(Integral(x + log(x) + 1, x), x**2/2 + x*log(x))"
      ]
     },
     "metadata": {},
     "output_type": "display_data"
    },
    {
     "data": {
      "text/latex": [
       "$\\displaystyle \\frac{d}{d x} \\frac{\\log{\\left(x \\right)}}{\\sqrt{x}} = - \\frac{\\log{\\left(x \\right)}}{2 x^{\\frac{3}{2}}} + \\frac{1}{x^{\\frac{3}{2}}}$"
      ],
      "text/plain": [
       "Eq(Derivative(log(x)/sqrt(x), x), -log(x)/(2*x**(3/2)) + x**(-3/2))"
      ]
     },
     "metadata": {},
     "output_type": "display_data"
    },
    {
     "data": {
      "text/latex": [
       "$\\displaystyle \\int \\left(- x + \\log{\\left(x \\right)}\\right)\\, dx = - \\frac{x^{2}}{2} + x \\log{\\left(x \\right)} - x$"
      ],
      "text/plain": [
       "Eq(Integral(-x + log(x), x), -x**2/2 + x*log(x) - x)"
      ]
     },
     "metadata": {},
     "output_type": "display_data"
    },
    {
     "data": {
      "text/latex": [
       "$\\displaystyle \\frac{d}{d x} e^{\\sqrt[3]{x}} = \\frac{e^{\\sqrt[3]{x}}}{3 x^{\\frac{2}{3}}}$"
      ],
      "text/plain": [
       "Eq(Derivative(exp(x**(1/3)), x), exp(x**(1/3))/(3*x**(2/3)))"
      ]
     },
     "metadata": {},
     "output_type": "display_data"
    },
    {
     "data": {
      "text/latex": [
       "$\\displaystyle \\int \\left(- \\frac{1}{4 x^{2}}\\right)\\, dx = \\frac{1}{4 x}$"
      ],
      "text/plain": [
       "Eq(Integral(-1/(4*x**2), x), 1/(4*x))"
      ]
     },
     "metadata": {},
     "output_type": "display_data"
    },
    {
     "data": {
      "text/latex": [
       "$\\displaystyle \\frac{d}{d x} e^{\\tan{\\left(x \\right)}} = \\left(\\tan^{2}{\\left(x \\right)} + 1\\right) e^{\\tan{\\left(x \\right)}}$"
      ],
      "text/plain": [
       "Eq(Derivative(exp(tan(x)), x), (tan(x)**2 + 1)*exp(tan(x)))"
      ]
     },
     "metadata": {},
     "output_type": "display_data"
    },
    {
     "data": {
      "text/latex": [
       "$\\displaystyle \\int \\sqrt{\\log{\\left(x \\right)}}\\, dx = \\frac{\\left(x \\sqrt{- \\log{\\left(x \\right)}} + \\frac{\\sqrt{\\pi} \\operatorname{erfc}{\\left(\\sqrt{- \\log{\\left(x \\right)}} \\right)}}{2}\\right) \\sqrt{\\log{\\left(x \\right)}}}{\\sqrt{- \\log{\\left(x \\right)}}}$"
      ],
      "text/plain": [
       "Eq(Integral(sqrt(log(x)), x), (x*sqrt(-log(x)) + sqrt(pi)*erfc(sqrt(-log(x)))/2)*sqrt(log(x))/sqrt(-log(x)))"
      ]
     },
     "metadata": {},
     "output_type": "display_data"
    },
    {
     "data": {
      "text/latex": [
       "$\\displaystyle \\frac{d}{d x} \\sin^{3}{\\left(x \\right)} = 3 \\sin^{2}{\\left(x \\right)} \\cos{\\left(x \\right)}$"
      ],
      "text/plain": [
       "Eq(Derivative(sin(x)**3, x), 3*sin(x)**2*cos(x))"
      ]
     },
     "metadata": {},
     "output_type": "display_data"
    },
    {
     "data": {
      "text/latex": [
       "$\\displaystyle \\int \\frac{\\cos{\\left(x \\right)}}{x + 3}\\, dx = \\int \\frac{\\cos{\\left(x \\right)}}{x + 3}\\, dx$"
      ],
      "text/plain": [
       "Eq(Integral(cos(x)/(x + 3), x), Integral(cos(x)/(x + 3), x))"
      ]
     },
     "metadata": {},
     "output_type": "display_data"
    },
    {
     "data": {
      "text/latex": [
       "$\\displaystyle \\frac{d}{d x} \\left(\\log{\\left(x \\right)} + \\cos{\\left(x \\right)}\\right) = - \\sin{\\left(x \\right)} + \\frac{1}{x}$"
      ],
      "text/plain": [
       "Eq(Derivative(log(x) + cos(x), x), -sin(x) + 1/x)"
      ]
     },
     "metadata": {},
     "output_type": "display_data"
    },
    {
     "data": {
      "text/latex": [
       "$\\displaystyle \\int \\left(\\sqrt[3]{x} + x + 4\\right)\\, dx = \\frac{3 x^{\\frac{4}{3}}}{4} + \\frac{x^{2}}{2} + 4 x$"
      ],
      "text/plain": [
       "Eq(Integral(x**(1/3) + x + 4, x), 3*x**(4/3)/4 + x**2/2 + 4*x)"
      ]
     },
     "metadata": {},
     "output_type": "display_data"
    },
    {
     "data": {
      "text/latex": [
       "$\\displaystyle \\frac{d}{d x} \\sqrt[3]{x} e^{- x} = - \\sqrt[3]{x} e^{- x} + \\frac{e^{- x}}{3 x^{\\frac{2}{3}}}$"
      ],
      "text/plain": [
       "Eq(Derivative(x**(1/3)*exp(-x), x), -x**(1/3)*exp(-x) + exp(-x)/(3*x**(2/3)))"
      ]
     },
     "metadata": {},
     "output_type": "display_data"
    },
    {
     "data": {
      "text/latex": [
       "$\\displaystyle \\int \\left(\\sqrt[3]{x} + x\\right)\\, dx = \\frac{3 x^{\\frac{4}{3}}}{4} + \\frac{x^{2}}{2}$"
      ],
      "text/plain": [
       "Eq(Integral(x**(1/3) + x, x), 3*x**(4/3)/4 + x**2/2)"
      ]
     },
     "metadata": {},
     "output_type": "display_data"
    },
    {
     "data": {
      "text/latex": [
       "$\\displaystyle \\frac{d}{d x} \\left(x + 1 + \\frac{1}{x^{2}}\\right) = 1 - \\frac{2}{x^{3}}$"
      ],
      "text/plain": [
       "Eq(Derivative(x + 1 + x**(-2), x), 1 - 2/x**3)"
      ]
     },
     "metadata": {},
     "output_type": "display_data"
    },
    {
     "data": {
      "text/latex": [
       "$\\displaystyle \\int 2 \\sqrt{x}\\, dx = \\frac{4 x^{\\frac{3}{2}}}{3}$"
      ],
      "text/plain": [
       "Eq(Integral(2*sqrt(x), x), 4*x**(3/2)/3)"
      ]
     },
     "metadata": {},
     "output_type": "display_data"
    },
    {
     "data": {
      "text/latex": [
       "$\\displaystyle \\frac{d}{d x} \\left(x^{4} - 3 x + e^{x} - 3\\right) = 4 x^{3} + e^{x} - 3$"
      ],
      "text/plain": [
       "Eq(Derivative(x**4 - 3*x + exp(x) - 3, x), 4*x**3 + exp(x) - 3)"
      ]
     },
     "metadata": {},
     "output_type": "display_data"
    },
    {
     "data": {
      "text/latex": [
       "$\\displaystyle \\int \\left(e^{x} + \\tan{\\left(x \\right)}\\right)\\, dx = e^{x} - \\log{\\left(\\cos{\\left(x \\right)} \\right)}$"
      ],
      "text/plain": [
       "Eq(Integral(exp(x) + tan(x), x), exp(x) - log(cos(x)))"
      ]
     },
     "metadata": {},
     "output_type": "display_data"
    },
    {
     "data": {
      "text/latex": [
       "$\\displaystyle \\frac{d}{d x} \\left(\\log{\\left(x \\right)} - \\sin{\\left(x \\right)}\\right) = - \\cos{\\left(x \\right)} + \\frac{1}{x}$"
      ],
      "text/plain": [
       "Eq(Derivative(log(x) - sin(x), x), -cos(x) + 1/x)"
      ]
     },
     "metadata": {},
     "output_type": "display_data"
    },
    {
     "data": {
      "text/latex": [
       "$\\displaystyle \\int \\frac{1}{\\left(3 x - 5 + \\frac{1}{x^{3}}\\right)^{2}}\\, dx = \\operatorname{RootSum} {\\left(36627445161 t^{4} - 238917600 t^{2} - 2411840 t - 6912, \\left( t \\mapsto t \\log{\\left(\\frac{1024911355932663273 t^{3}}{25665881892032} - \\frac{351973921323375 t^{2}}{802058809126} - \\frac{403776109458225 t}{1604117618252} + x - \\frac{1151999397415}{1203088213689} \\right)} \\right)\\right)} + \\frac{- 561 x^{3} + 80 x^{2} + 100 x + 125}{3321 x^{4} - 5535 x^{3} + 1107}$"
      ],
      "text/plain": [
       "Eq(Integral((3*x - 5 + x**(-3))**(-2), x), RootSum(36627445161*_t**4 - 238917600*_t**2 - 2411840*_t - 6912, Lambda(_t, _t*log(1024911355932663273*_t**3/25665881892032 - 351973921323375*_t**2/802058809126 - 403776109458225*_t/1604117618252 + x - 1151999397415/1203088213689))) + (-561*x**3 + 80*x**2 + 100*x + 125)/(3321*x**4 - 5535*x**3 + 1107))"
      ]
     },
     "metadata": {},
     "output_type": "display_data"
    },
    {
     "data": {
      "text/latex": [
       "$\\displaystyle \\frac{d}{d x} \\left(- x - 1\\right) = -1$"
      ],
      "text/plain": [
       "Eq(Derivative(-x - 1, x), -1)"
      ]
     },
     "metadata": {},
     "output_type": "display_data"
    },
    {
     "data": {
      "text/latex": [
       "$\\displaystyle \\int \\left(\\sqrt{x} - \\sin{\\left(x \\right)}\\right)\\, dx = \\frac{2 x^{\\frac{3}{2}}}{3} + \\cos{\\left(x \\right)}$"
      ],
      "text/plain": [
       "Eq(Integral(sqrt(x) - sin(x), x), 2*x**(3/2)/3 + cos(x))"
      ]
     },
     "metadata": {},
     "output_type": "display_data"
    },
    {
     "data": {
      "text/latex": [
       "$\\displaystyle \\frac{d}{d x} \\left(\\log{\\left(x \\right)} + \\sin{\\left(x \\right)}\\right) = \\cos{\\left(x \\right)} + \\frac{1}{x}$"
      ],
      "text/plain": [
       "Eq(Derivative(log(x) + sin(x), x), cos(x) + 1/x)"
      ]
     },
     "metadata": {},
     "output_type": "display_data"
    },
    {
     "data": {
      "text/latex": [
       "$\\displaystyle \\int \\left(2 x - \\sin{\\left(x \\right)}\\right)\\, dx = x^{2} + \\cos{\\left(x \\right)}$"
      ],
      "text/plain": [
       "Eq(Integral(2*x - sin(x), x), x**2 + cos(x))"
      ]
     },
     "metadata": {},
     "output_type": "display_data"
    },
    {
     "data": {
      "text/latex": [
       "$\\displaystyle \\frac{d}{d x} \\left(x + \\cos{\\left(x \\right)} + 2\\right) = 1 - \\sin{\\left(x \\right)}$"
      ],
      "text/plain": [
       "Eq(Derivative(x + cos(x) + 2, x), 1 - sin(x))"
      ]
     },
     "metadata": {},
     "output_type": "display_data"
    },
    {
     "data": {
      "text/latex": [
       "$\\displaystyle \\int \\cos{\\left(\\cos{\\left(x \\right)} \\right)}\\, dx = \\int \\cos{\\left(\\cos{\\left(x \\right)} \\right)}\\, dx$"
      ],
      "text/plain": [
       "Eq(Integral(cos(cos(x)), x), Integral(cos(cos(x)), x))"
      ]
     },
     "metadata": {},
     "output_type": "display_data"
    },
    {
     "data": {
      "text/latex": [
       "$\\displaystyle \\frac{d}{d x} \\left(- 2 x + \\tan{\\left(x \\right)} - 3 + \\frac{1}{x}\\right) = \\tan^{2}{\\left(x \\right)} - 1 - \\frac{1}{x^{2}}$"
      ],
      "text/plain": [
       "Eq(Derivative(-2*x + tan(x) - 3 + 1/x, x), tan(x)**2 - 1 - 1/x**2)"
      ]
     },
     "metadata": {},
     "output_type": "display_data"
    },
    {
     "data": {
      "text/latex": [
       "$\\displaystyle \\int 3\\, dx = 3 x$"
      ],
      "text/plain": [
       "Eq(Integral(3, x), 3*x)"
      ]
     },
     "metadata": {},
     "output_type": "display_data"
    },
    {
     "data": {
      "text/latex": [
       "$\\displaystyle \\frac{d}{d x} \\left(e^{x} + \\tan{\\left(x \\right)}\\right) = e^{x} + \\tan^{2}{\\left(x \\right)} + 1$"
      ],
      "text/plain": [
       "Eq(Derivative(exp(x) + tan(x), x), exp(x) + tan(x)**2 + 1)"
      ]
     },
     "metadata": {},
     "output_type": "display_data"
    },
    {
     "data": {
      "text/latex": [
       "$\\displaystyle \\int \\left(- 3 x - 1\\right)\\, dx = - \\frac{3 x^{2}}{2} - x$"
      ],
      "text/plain": [
       "Eq(Integral(-3*x - 1, x), -3*x**2/2 - x)"
      ]
     },
     "metadata": {},
     "output_type": "display_data"
    },
    {
     "data": {
      "text/latex": [
       "$\\displaystyle \\frac{d}{d x} \\left(- x^{4} + x + e^{x}\\right) = - 4 x^{3} + e^{x} + 1$"
      ],
      "text/plain": [
       "Eq(Derivative(-x**4 + x + exp(x), x), -4*x**3 + exp(x) + 1)"
      ]
     },
     "metadata": {},
     "output_type": "display_data"
    },
    {
     "data": {
      "text/latex": [
       "$\\displaystyle \\int \\frac{x - 4}{\\sqrt[3]{x}}\\, dx = \\frac{3 x^{\\frac{2}{3}} \\left(x - 4\\right)}{5} - \\frac{18 x^{\\frac{2}{3}}}{5}$"
      ],
      "text/plain": [
       "Eq(Integral((x - 4)/x**(1/3), x), 3*x**(2/3)*(x - 4)/5 - 18*x**(2/3)/5)"
      ]
     },
     "metadata": {},
     "output_type": "display_data"
    },
    {
     "data": {
      "text/latex": [
       "$\\displaystyle \\frac{d}{d x} \\frac{1}{x^{\\frac{8}{3}}} = - \\frac{8}{3 x^{\\frac{11}{3}}}$"
      ],
      "text/plain": [
       "Eq(Derivative(x**(-8/3), x), -8/(3*x**(11/3)))"
      ]
     },
     "metadata": {},
     "output_type": "display_data"
    },
    {
     "data": {
      "text/latex": [
       "$\\displaystyle \\int \\left(x^{4} + 3\\right)\\, dx = \\frac{x^{5}}{5} + 3 x$"
      ],
      "text/plain": [
       "Eq(Integral(x**4 + 3, x), x**5/5 + 3*x)"
      ]
     },
     "metadata": {},
     "output_type": "display_data"
    },
    {
     "data": {
      "text/latex": [
       "$\\displaystyle \\frac{d}{d x} \\left(- \\frac{\\cos{\\left(x \\right)}}{x}\\right) = \\frac{\\sin{\\left(x \\right)}}{x} + \\frac{\\cos{\\left(x \\right)}}{x^{2}}$"
      ],
      "text/plain": [
       "Eq(Derivative(-cos(x)/x, x), sin(x)/x + cos(x)/x**2)"
      ]
     },
     "metadata": {},
     "output_type": "display_data"
    },
    {
     "data": {
      "text/latex": [
       "$\\displaystyle \\int \\frac{\\cos{\\left(x \\right)}}{\\log{\\left(x \\right)}}\\, dx = \\int \\frac{\\cos{\\left(x \\right)}}{\\log{\\left(x \\right)}}\\, dx$"
      ],
      "text/plain": [
       "Eq(Integral(cos(x)/log(x), x), Integral(cos(x)/log(x), x))"
      ]
     },
     "metadata": {},
     "output_type": "display_data"
    },
    {
     "data": {
      "text/latex": [
       "$\\displaystyle \\frac{d}{d x} \\left(x + \\tan{\\left(x \\right)} + 3\\right) = \\tan^{2}{\\left(x \\right)} + 2$"
      ],
      "text/plain": [
       "Eq(Derivative(x + tan(x) + 3, x), tan(x)**2 + 2)"
      ]
     },
     "metadata": {},
     "output_type": "display_data"
    },
    {
     "data": {
      "text/latex": [
       "$\\displaystyle \\int \\left(\\sqrt{x} + \\sin{\\left(x \\right)}\\right)\\, dx = \\frac{2 x^{\\frac{3}{2}}}{3} - \\cos{\\left(x \\right)}$"
      ],
      "text/plain": [
       "Eq(Integral(sqrt(x) + sin(x), x), 2*x**(3/2)/3 - cos(x))"
      ]
     },
     "metadata": {},
     "output_type": "display_data"
    },
    {
     "data": {
      "text/latex": [
       "$\\displaystyle \\frac{d}{d x} \\left(e^{x} - \\tan{\\left(x \\right)}\\right) = e^{x} - \\tan^{2}{\\left(x \\right)} - 1$"
      ],
      "text/plain": [
       "Eq(Derivative(exp(x) - tan(x), x), exp(x) - tan(x)**2 - 1)"
      ]
     },
     "metadata": {},
     "output_type": "display_data"
    },
    {
     "data": {
      "text/latex": [
       "$\\displaystyle \\int \\sqrt{\\tan{\\left(x \\right)}}\\, dx = \\int \\sqrt{\\tan{\\left(x \\right)}}\\, dx$"
      ],
      "text/plain": [
       "Eq(Integral(sqrt(tan(x)), x), Integral(sqrt(tan(x)), x))"
      ]
     },
     "metadata": {},
     "output_type": "display_data"
    },
    {
     "data": {
      "text/latex": [
       "$\\displaystyle \\frac{d}{d x} \\frac{e^{x}}{\\cos{\\left(x \\right)}} = \\frac{e^{x} \\sin{\\left(x \\right)}}{\\cos^{2}{\\left(x \\right)}} + \\frac{e^{x}}{\\cos{\\left(x \\right)}}$"
      ],
      "text/plain": [
       "Eq(Derivative(exp(x)/cos(x), x), exp(x)*sin(x)/cos(x)**2 + exp(x)/cos(x))"
      ]
     },
     "metadata": {},
     "output_type": "display_data"
    },
    {
     "data": {
      "text/latex": [
       "$\\displaystyle \\int \\left(x + e^{x}\\right)\\, dx = \\frac{x^{2}}{2} + e^{x}$"
      ],
      "text/plain": [
       "Eq(Integral(x + exp(x), x), x**2/2 + exp(x))"
      ]
     },
     "metadata": {},
     "output_type": "display_data"
    },
    {
     "data": {
      "text/latex": [
       "$\\displaystyle \\frac{d}{d x} \\left(\\sqrt[3]{x} - x^{3}\\right) = - 3 x^{2} + \\frac{1}{3 x^{\\frac{2}{3}}}$"
      ],
      "text/plain": [
       "Eq(Derivative(x**(1/3) - x**3, x), -3*x**2 + 1/(3*x**(2/3)))"
      ]
     },
     "metadata": {},
     "output_type": "display_data"
    },
    {
     "data": {
      "text/latex": [
       "$\\displaystyle \\int 2 \\sin{\\left(x \\right)}\\, dx = - 2 \\cos{\\left(x \\right)}$"
      ],
      "text/plain": [
       "Eq(Integral(2*sin(x), x), -2*cos(x))"
      ]
     },
     "metadata": {},
     "output_type": "display_data"
    },
    {
     "data": {
      "text/latex": [
       "$\\displaystyle \\frac{d}{d x} \\left(\\sqrt{x} + \\tan{\\left(x \\right)}\\right) = \\tan^{2}{\\left(x \\right)} + 1 + \\frac{1}{2 \\sqrt{x}}$"
      ],
      "text/plain": [
       "Eq(Derivative(sqrt(x) + tan(x), x), tan(x)**2 + 1 + 1/(2*sqrt(x)))"
      ]
     },
     "metadata": {},
     "output_type": "display_data"
    },
    {
     "data": {
      "text/latex": [
       "$\\displaystyle \\int \\left(x + \\sin{\\left(x \\right)} - 2\\right)\\, dx = \\frac{x^{2}}{2} - 2 x - \\cos{\\left(x \\right)}$"
      ],
      "text/plain": [
       "Eq(Integral(x + sin(x) - 2, x), x**2/2 - 2*x - cos(x))"
      ]
     },
     "metadata": {},
     "output_type": "display_data"
    },
    {
     "data": {
      "text/latex": [
       "$\\displaystyle \\frac{d}{d x} \\left(\\sqrt{x} + x^{4}\\right) = 4 x^{3} + \\frac{1}{2 \\sqrt{x}}$"
      ],
      "text/plain": [
       "Eq(Derivative(sqrt(x) + x**4, x), 4*x**3 + 1/(2*sqrt(x)))"
      ]
     },
     "metadata": {},
     "output_type": "display_data"
    },
    {
     "data": {
      "text/latex": [
       "$\\displaystyle \\int \\left(x^{3} + 3 x\\right)\\, dx = \\frac{x^{4}}{4} + \\frac{3 x^{2}}{2}$"
      ],
      "text/plain": [
       "Eq(Integral(x**3 + 3*x, x), x**4/4 + 3*x**2/2)"
      ]
     },
     "metadata": {},
     "output_type": "display_data"
    },
    {
     "data": {
      "text/latex": [
       "$\\displaystyle \\frac{d}{d x} \\frac{\\sqrt{x}}{\\cos{\\left(x \\right)}} = \\frac{\\sqrt{x} \\sin{\\left(x \\right)}}{\\cos^{2}{\\left(x \\right)}} + \\frac{1}{2 \\sqrt{x} \\cos{\\left(x \\right)}}$"
      ],
      "text/plain": [
       "Eq(Derivative(sqrt(x)/cos(x), x), sqrt(x)*sin(x)/cos(x)**2 + 1/(2*sqrt(x)*cos(x)))"
      ]
     },
     "metadata": {},
     "output_type": "display_data"
    },
    {
     "data": {
      "text/latex": [
       "$\\displaystyle \\int \\left(- \\frac{3 x}{\\tan{\\left(x \\right)}}\\right)\\, dx = - 3 \\int \\frac{x}{\\tan{\\left(x \\right)}}\\, dx$"
      ],
      "text/plain": [
       "Eq(Integral(-3*x/tan(x), x), -3*Integral(x/tan(x), x))"
      ]
     },
     "metadata": {},
     "output_type": "display_data"
    },
    {
     "data": {
      "text/latex": [
       "$\\displaystyle \\frac{d}{d x} \\left(- x^{4}\\right) = - 4 x^{3}$"
      ],
      "text/plain": [
       "Eq(Derivative(-x**4, x), -4*x**3)"
      ]
     },
     "metadata": {},
     "output_type": "display_data"
    },
    {
     "data": {
      "text/latex": [
       "$\\displaystyle \\int \\left(x^{2} + 2 x - e^{x}\\right)\\, dx = \\frac{x^{3}}{3} + x^{2} - e^{x}$"
      ],
      "text/plain": [
       "Eq(Integral(x**2 + 2*x - exp(x), x), x**3/3 + x**2 - exp(x))"
      ]
     },
     "metadata": {},
     "output_type": "display_data"
    },
    {
     "data": {
      "text/latex": [
       "$\\displaystyle \\frac{d}{d x} \\left(x - \\log{\\left(x \\right)} - 4\\right) = 1 - \\frac{1}{x}$"
      ],
      "text/plain": [
       "Eq(Derivative(x - log(x) - 4, x), 1 - 1/x)"
      ]
     },
     "metadata": {},
     "output_type": "display_data"
    },
    {
     "data": {
      "text/latex": [
       "$\\displaystyle \\int \\left(x + \\sin{\\left(x \\right)} - 2 - \\frac{1}{x^{4}}\\right)\\, dx = \\frac{x^{2}}{2} - 2 x - \\cos{\\left(x \\right)} + \\frac{1}{3 x^{3}}$"
      ],
      "text/plain": [
       "Eq(Integral(x + sin(x) - 2 - 1/x**4, x), x**2/2 - 2*x - cos(x) + 1/(3*x**3))"
      ]
     },
     "metadata": {},
     "output_type": "display_data"
    },
    {
     "data": {
      "text/latex": [
       "$\\displaystyle \\frac{d}{d x} \\left(\\sqrt[3]{x} - 4 x\\right) = -4 + \\frac{1}{3 x^{\\frac{2}{3}}}$"
      ],
      "text/plain": [
       "Eq(Derivative(x**(1/3) - 4*x, x), -4 + 1/(3*x**(2/3)))"
      ]
     },
     "metadata": {},
     "output_type": "display_data"
    },
    {
     "data": {
      "text/latex": [
       "$\\displaystyle \\int \\frac{x - 1}{\\cos{\\left(x \\right)}}\\, dx = \\int \\frac{x - 1}{\\cos{\\left(x \\right)}}\\, dx$"
      ],
      "text/plain": [
       "Eq(Integral((x - 1)/cos(x), x), Integral((x - 1)/cos(x), x))"
      ]
     },
     "metadata": {},
     "output_type": "display_data"
    },
    {
     "data": {
      "text/latex": [
       "$\\displaystyle \\frac{d}{d x} \\left(4 \\sqrt[3]{x} + 1\\right) = \\frac{4}{3 x^{\\frac{2}{3}}}$"
      ],
      "text/plain": [
       "Eq(Derivative(4*x**(1/3) + 1, x), 4/(3*x**(2/3)))"
      ]
     },
     "metadata": {},
     "output_type": "display_data"
    },
    {
     "data": {
      "text/latex": [
       "$\\displaystyle \\int \\frac{e^{x}}{\\sqrt{x}}\\, dx = - i \\sqrt{\\pi} \\operatorname{erf}{\\left(i \\sqrt{x} \\right)}$"
      ],
      "text/plain": [
       "Eq(Integral(exp(x)/sqrt(x), x), -I*sqrt(pi)*erf(I*sqrt(x)))"
      ]
     },
     "metadata": {},
     "output_type": "display_data"
    },
    {
     "data": {
      "text/latex": [
       "$\\displaystyle \\frac{d}{d x} \\frac{- x - 3 + \\frac{1}{x^{4}}}{\\cos{\\left(x \\right)}} = \\frac{-1 - \\frac{4}{x^{5}}}{\\cos{\\left(x \\right)}} + \\frac{\\left(- x - 3 + \\frac{1}{x^{4}}\\right) \\sin{\\left(x \\right)}}{\\cos^{2}{\\left(x \\right)}}$"
      ],
      "text/plain": [
       "Eq(Derivative((-x - 3 + x**(-4))/cos(x), x), (-1 - 4/x**5)/cos(x) + (-x - 3 + x**(-4))*sin(x)/cos(x)**2)"
      ]
     },
     "metadata": {},
     "output_type": "display_data"
    },
    {
     "data": {
      "text/latex": [
       "$\\displaystyle \\int \\left(- x + e^{x} - 4 + \\frac{1}{x}\\right)\\, dx = - \\frac{x^{2}}{2} - 4 x + e^{x} + \\log{\\left(x \\right)}$"
      ],
      "text/plain": [
       "Eq(Integral(-x + exp(x) - 4 + 1/x, x), -x**2/2 - 4*x + exp(x) + log(x))"
      ]
     },
     "metadata": {},
     "output_type": "display_data"
    },
    {
     "data": {
      "text/latex": [
       "$\\displaystyle \\frac{d}{d x} \\left(- 3 x\\right) = -3$"
      ],
      "text/plain": [
       "Eq(Derivative(-3*x, x), -3)"
      ]
     },
     "metadata": {},
     "output_type": "display_data"
    },
    {
     "data": {
      "text/latex": [
       "$\\displaystyle \\int \\left(\\cos{\\left(x \\right)} + \\tan{\\left(x \\right)}\\right)\\, dx = - \\log{\\left(\\cos{\\left(x \\right)} \\right)} + \\sin{\\left(x \\right)}$"
      ],
      "text/plain": [
       "Eq(Integral(cos(x) + tan(x), x), -log(cos(x)) + sin(x))"
      ]
     },
     "metadata": {},
     "output_type": "display_data"
    },
    {
     "data": {
      "text/latex": [
       "$\\displaystyle \\frac{d}{d x} \\left(- \\sqrt{x} + \\frac{1}{x^{2}}\\right) = - \\frac{2}{x^{3}} - \\frac{1}{2 \\sqrt{x}}$"
      ],
      "text/plain": [
       "Eq(Derivative(-sqrt(x) + x**(-2), x), -2/x**3 - 1/(2*sqrt(x)))"
      ]
     },
     "metadata": {},
     "output_type": "display_data"
    },
    {
     "data": {
      "text/latex": [
       "$\\displaystyle \\int \\left(- e^{x} + \\cos{\\left(x \\right)}\\right)\\, dx = - e^{x} + \\sin{\\left(x \\right)}$"
      ],
      "text/plain": [
       "Eq(Integral(-exp(x) + cos(x), x), -exp(x) + sin(x))"
      ]
     },
     "metadata": {},
     "output_type": "display_data"
    },
    {
     "data": {
      "text/latex": [
       "$\\displaystyle \\frac{d}{d x} e^{x + 3} = e^{x + 3}$"
      ],
      "text/plain": [
       "Eq(Derivative(exp(x + 3), x), exp(x + 3))"
      ]
     },
     "metadata": {},
     "output_type": "display_data"
    },
    {
     "data": {
      "text/latex": [
       "$\\displaystyle \\int \\left(- x - 1 + \\frac{1}{x^{3}}\\right)\\, dx = - \\frac{x^{2}}{2} - x - \\frac{1}{2 x^{2}}$"
      ],
      "text/plain": [
       "Eq(Integral(-x - 1 + x**(-3), x), -x**2/2 - x - 1/(2*x**2))"
      ]
     },
     "metadata": {},
     "output_type": "display_data"
    },
    {
     "data": {
      "text/latex": [
       "$\\displaystyle \\frac{d}{d x} \\left(- \\tan{\\left(x \\right)}\\right) = - \\tan^{2}{\\left(x \\right)} - 1$"
      ],
      "text/plain": [
       "Eq(Derivative(-tan(x), x), -tan(x)**2 - 1)"
      ]
     },
     "metadata": {},
     "output_type": "display_data"
    },
    {
     "data": {
      "text/latex": [
       "$\\displaystyle \\int \\left(- 2 x - e^{x}\\right)\\, dx = - x^{2} - e^{x}$"
      ],
      "text/plain": [
       "Eq(Integral(-2*x - exp(x), x), -x**2 - exp(x))"
      ]
     },
     "metadata": {},
     "output_type": "display_data"
    },
    {
     "data": {
      "text/latex": [
       "$\\displaystyle \\frac{d}{d x} \\left(\\sqrt{x} + \\cos{\\left(x \\right)}\\right) = - \\sin{\\left(x \\right)} + \\frac{1}{2 \\sqrt{x}}$"
      ],
      "text/plain": [
       "Eq(Derivative(sqrt(x) + cos(x), x), -sin(x) + 1/(2*sqrt(x)))"
      ]
     },
     "metadata": {},
     "output_type": "display_data"
    },
    {
     "data": {
      "text/latex": [
       "$\\displaystyle \\int \\left(- \\sin{\\left(x \\right)} + \\tan{\\left(x \\right)}\\right)\\, dx = - \\log{\\left(\\cos{\\left(x \\right)} \\right)} + \\cos{\\left(x \\right)}$"
      ],
      "text/plain": [
       "Eq(Integral(-sin(x) + tan(x), x), -log(cos(x)) + cos(x))"
      ]
     },
     "metadata": {},
     "output_type": "display_data"
    },
    {
     "data": {
      "text/latex": [
       "$\\displaystyle \\frac{d}{d x} \\left(\\log{\\left(x \\right)} + \\tan{\\left(x \\right)}\\right) = \\tan^{2}{\\left(x \\right)} + 1 + \\frac{1}{x}$"
      ],
      "text/plain": [
       "Eq(Derivative(log(x) + tan(x), x), tan(x)**2 + 1 + 1/x)"
      ]
     },
     "metadata": {},
     "output_type": "display_data"
    },
    {
     "data": {
      "text/latex": [
       "$\\displaystyle \\int x\\, dx = \\frac{x^{2}}{2}$"
      ],
      "text/plain": [
       "Eq(Integral(x, x), x**2/2)"
      ]
     },
     "metadata": {},
     "output_type": "display_data"
    },
    {
     "data": {
      "text/latex": [
       "$\\displaystyle \\frac{d}{d x} \\sqrt{\\sin{\\left(x \\right)}} = \\frac{\\cos{\\left(x \\right)}}{2 \\sqrt{\\sin{\\left(x \\right)}}}$"
      ],
      "text/plain": [
       "Eq(Derivative(sqrt(sin(x)), x), cos(x)/(2*sqrt(sin(x))))"
      ]
     },
     "metadata": {},
     "output_type": "display_data"
    },
    {
     "data": {
      "text/latex": [
       "$\\displaystyle \\int \\frac{\\log{\\left(x \\right)}}{\\cos{\\left(x \\right)}}\\, dx = \\int \\frac{\\log{\\left(x \\right)}}{\\cos{\\left(x \\right)}}\\, dx$"
      ],
      "text/plain": [
       "Eq(Integral(log(x)/cos(x), x), Integral(log(x)/cos(x), x))"
      ]
     },
     "metadata": {},
     "output_type": "display_data"
    },
    {
     "data": {
      "text/latex": [
       "$\\displaystyle \\frac{d}{d x} \\frac{e^{x}}{\\sqrt[3]{x}} = \\frac{e^{x}}{\\sqrt[3]{x}} - \\frac{e^{x}}{3 x^{\\frac{4}{3}}}$"
      ],
      "text/plain": [
       "Eq(Derivative(exp(x)/x**(1/3), x), exp(x)/x**(1/3) - exp(x)/(3*x**(4/3)))"
      ]
     },
     "metadata": {},
     "output_type": "display_data"
    },
    {
     "data": {
      "text/latex": [
       "$\\displaystyle \\int \\frac{2}{x^{4}}\\, dx = - \\frac{2}{3 x^{3}}$"
      ],
      "text/plain": [
       "Eq(Integral(2/x**4, x), -2/(3*x**3))"
      ]
     },
     "metadata": {},
     "output_type": "display_data"
    },
    {
     "data": {
      "text/latex": [
       "$\\displaystyle \\frac{d}{d x} \\sin{\\left(\\sin{\\left(x \\right)} \\right)} = \\cos{\\left(x \\right)} \\cos{\\left(\\sin{\\left(x \\right)} \\right)}$"
      ],
      "text/plain": [
       "Eq(Derivative(sin(sin(x)), x), cos(x)*cos(sin(x)))"
      ]
     },
     "metadata": {},
     "output_type": "display_data"
    },
    {
     "data": {
      "text/latex": [
       "$\\displaystyle \\int \\frac{\\cos{\\left(x \\right)}}{x}\\, dx = - \\log{\\left(x \\right)} + \\frac{\\log{\\left(x^{2} \\right)}}{2} + \\operatorname{Ci}{\\left(x \\right)}$"
      ],
      "text/plain": [
       "Eq(Integral(cos(x)/x, x), -log(x) + log(x**2)/2 + Ci(x))"
      ]
     },
     "metadata": {},
     "output_type": "display_data"
    },
    {
     "data": {
      "text/latex": [
       "$\\displaystyle \\frac{d}{d x} \\log{\\left(- 3 x \\right)} = \\frac{1}{x}$"
      ],
      "text/plain": [
       "Eq(Derivative(log(-3*x), x), 1/x)"
      ]
     },
     "metadata": {},
     "output_type": "display_data"
    },
    {
     "data": {
      "text/latex": [
       "$\\displaystyle \\int 2 x^{5}\\, dx = \\frac{x^{6}}{3}$"
      ],
      "text/plain": [
       "Eq(Integral(2*x**5, x), x**6/3)"
      ]
     },
     "metadata": {},
     "output_type": "display_data"
    },
    {
     "data": {
      "text/latex": [
       "$\\displaystyle \\frac{d}{d x} \\left(\\sqrt{x} + x^{5} - 3 x + 3\\right) = 5 x^{4} - 3 + \\frac{1}{2 \\sqrt{x}}$"
      ],
      "text/plain": [
       "Eq(Derivative(sqrt(x) + x**5 - 3*x + 3, x), 5*x**4 - 3 + 1/(2*sqrt(x)))"
      ]
     },
     "metadata": {},
     "output_type": "display_data"
    },
    {
     "data": {
      "text/latex": [
       "$\\displaystyle \\int \\left(\\sqrt[3]{x} + \\sin{\\left(x \\right)}\\right)\\, dx = \\frac{3 x^{\\frac{4}{3}}}{4} - \\cos{\\left(x \\right)}$"
      ],
      "text/plain": [
       "Eq(Integral(x**(1/3) + sin(x), x), 3*x**(4/3)/4 - cos(x))"
      ]
     },
     "metadata": {},
     "output_type": "display_data"
    },
    {
     "data": {
      "text/latex": [
       "$\\displaystyle \\frac{d}{d x} \\frac{e^{x}}{x - 4} = \\frac{e^{x}}{x - 4} - \\frac{e^{x}}{\\left(x - 4\\right)^{2}}$"
      ],
      "text/plain": [
       "Eq(Derivative(exp(x)/(x - 4), x), exp(x)/(x - 4) - exp(x)/(x - 4)**2)"
      ]
     },
     "metadata": {},
     "output_type": "display_data"
    },
    {
     "data": {
      "text/latex": [
       "$\\displaystyle \\int \\left(\\tan{\\left(x \\right)} - \\frac{1}{x^{4}}\\right)\\, dx = - \\log{\\left(\\cos{\\left(x \\right)} \\right)} + \\frac{1}{3 x^{3}}$"
      ],
      "text/plain": [
       "Eq(Integral(tan(x) - 1/x**4, x), -log(cos(x)) + 1/(3*x**3))"
      ]
     },
     "metadata": {},
     "output_type": "display_data"
    },
    {
     "data": {
      "text/latex": [
       "$\\displaystyle \\frac{d}{d x} e^{e^{x}} = e^{x} e^{e^{x}}$"
      ],
      "text/plain": [
       "Eq(Derivative(exp(exp(x)), x), exp(x)*exp(exp(x)))"
      ]
     },
     "metadata": {},
     "output_type": "display_data"
    },
    {
     "data": {
      "text/latex": [
       "$\\displaystyle \\int \\frac{e^{x}}{\\log{\\left(x \\right)}}\\, dx = \\int \\frac{e^{x}}{\\log{\\left(x \\right)}}\\, dx$"
      ],
      "text/plain": [
       "Eq(Integral(exp(x)/log(x), x), Integral(exp(x)/log(x), x))"
      ]
     },
     "metadata": {},
     "output_type": "display_data"
    },
    {
     "data": {
      "text/latex": [
       "$\\displaystyle \\frac{d}{d x} \\sqrt[3]{\\log{\\left(x \\right)}} = \\frac{1}{3 x \\log{\\left(x \\right)}^{\\frac{2}{3}}}$"
      ],
      "text/plain": [
       "Eq(Derivative(log(x)**(1/3), x), 1/(3*x*log(x)**(2/3)))"
      ]
     },
     "metadata": {},
     "output_type": "display_data"
    },
    {
     "data": {
      "text/latex": [
       "$\\displaystyle \\int \\tan{\\left(\\sin{\\left(x \\right)} \\right)}\\, dx = \\int \\tan{\\left(\\sin{\\left(x \\right)} \\right)}\\, dx$"
      ],
      "text/plain": [
       "Eq(Integral(tan(sin(x)), x), Integral(tan(sin(x)), x))"
      ]
     },
     "metadata": {},
     "output_type": "display_data"
    },
    {
     "data": {
      "text/latex": [
       "$\\displaystyle \\frac{d}{d x} \\left(- 2 \\sqrt[3]{x}\\right) = - \\frac{2}{3 x^{\\frac{2}{3}}}$"
      ],
      "text/plain": [
       "Eq(Derivative(-2*x**(1/3), x), -2/(3*x**(2/3)))"
      ]
     },
     "metadata": {},
     "output_type": "display_data"
    },
    {
     "data": {
      "text/latex": [
       "$\\displaystyle \\int 3\\, dx = 3 x$"
      ],
      "text/plain": [
       "Eq(Integral(3, x), 3*x)"
      ]
     },
     "metadata": {},
     "output_type": "display_data"
    },
    {
     "data": {
      "text/latex": [
       "$\\displaystyle \\frac{d}{d x} e^{x} = e^{x}$"
      ],
      "text/plain": [
       "Eq(Derivative(exp(x), x), exp(x))"
      ]
     },
     "metadata": {},
     "output_type": "display_data"
    },
    {
     "data": {
      "text/latex": [
       "$\\displaystyle \\int \\left(- \\sqrt{x} + \\cos{\\left(x \\right)}\\right)\\, dx = - \\frac{2 x^{\\frac{3}{2}}}{3} + \\sin{\\left(x \\right)}$"
      ],
      "text/plain": [
       "Eq(Integral(-sqrt(x) + cos(x), x), -2*x**(3/2)/3 + sin(x))"
      ]
     },
     "metadata": {},
     "output_type": "display_data"
    },
    {
     "data": {
      "text/latex": [
       "$\\displaystyle \\frac{d}{d x} \\left(- \\sqrt{x} + x + 2\\right) = 1 - \\frac{1}{2 \\sqrt{x}}$"
      ],
      "text/plain": [
       "Eq(Derivative(-sqrt(x) + x + 2, x), 1 - 1/(2*sqrt(x)))"
      ]
     },
     "metadata": {},
     "output_type": "display_data"
    },
    {
     "data": {
      "text/latex": [
       "$\\displaystyle \\int \\left(\\sqrt[3]{x} - x + 3\\right)\\, dx = \\frac{3 x^{\\frac{4}{3}}}{4} - \\frac{x^{2}}{2} + 3 x$"
      ],
      "text/plain": [
       "Eq(Integral(x**(1/3) - x + 3, x), 3*x**(4/3)/4 - x**2/2 + 3*x)"
      ]
     },
     "metadata": {},
     "output_type": "display_data"
    },
    {
     "data": {
      "text/latex": [
       "$\\displaystyle \\frac{d}{d x} \\left(- \\sqrt{x} + \\log{\\left(x \\right)}\\right) = \\frac{1}{x} - \\frac{1}{2 \\sqrt{x}}$"
      ],
      "text/plain": [
       "Eq(Derivative(-sqrt(x) + log(x), x), 1/x - 1/(2*sqrt(x)))"
      ]
     },
     "metadata": {},
     "output_type": "display_data"
    },
    {
     "data": {
      "text/latex": [
       "$\\displaystyle \\int \\left(\\sqrt[3]{x} + \\tan{\\left(x \\right)}\\right)\\, dx = \\frac{3 x^{\\frac{4}{3}}}{4} - \\log{\\left(\\cos{\\left(x \\right)} \\right)}$"
      ],
      "text/plain": [
       "Eq(Integral(x**(1/3) + tan(x), x), 3*x**(4/3)/4 - log(cos(x)))"
      ]
     },
     "metadata": {},
     "output_type": "display_data"
    },
    {
     "data": {
      "text/latex": [
       "$\\displaystyle \\frac{d}{d x} \\sqrt[3]{e^{x}} = \\frac{\\sqrt[3]{e^{x}}}{3}$"
      ],
      "text/plain": [
       "Eq(Derivative(exp(x)**(1/3), x), exp(x)**(1/3)/3)"
      ]
     },
     "metadata": {},
     "output_type": "display_data"
    },
    {
     "data": {
      "text/latex": [
       "$\\displaystyle \\int \\frac{1}{\\cos^{2}{\\left(x \\right)}}\\, dx = \\frac{\\sin{\\left(x \\right)}}{\\cos{\\left(x \\right)}}$"
      ],
      "text/plain": [
       "Eq(Integral(cos(x)**(-2), x), sin(x)/cos(x))"
      ]
     },
     "metadata": {},
     "output_type": "display_data"
    },
    {
     "data": {
      "text/latex": [
       "$\\displaystyle \\frac{d}{d x} \\left(- \\log{\\left(x \\right)} + \\sin{\\left(x \\right)}\\right) = \\cos{\\left(x \\right)} - \\frac{1}{x}$"
      ],
      "text/plain": [
       "Eq(Derivative(-log(x) + sin(x), x), cos(x) - 1/x)"
      ]
     },
     "metadata": {},
     "output_type": "display_data"
    },
    {
     "data": {
      "text/latex": [
       "$\\displaystyle \\int \\frac{3 x + 3}{2 x}\\, dx = \\frac{3 x}{2} + \\frac{3 \\log{\\left(x \\right)}}{2}$"
      ],
      "text/plain": [
       "Eq(Integral((3*x + 3)/(2*x), x), 3*x/2 + 3*log(x)/2)"
      ]
     },
     "metadata": {},
     "output_type": "display_data"
    },
    {
     "data": {
      "text/latex": [
       "$\\displaystyle \\frac{d}{d x} \\left(\\sqrt[3]{x} + \\sin{\\left(x \\right)}\\right) = \\cos{\\left(x \\right)} + \\frac{1}{3 x^{\\frac{2}{3}}}$"
      ],
      "text/plain": [
       "Eq(Derivative(x**(1/3) + sin(x), x), cos(x) + 1/(3*x**(2/3)))"
      ]
     },
     "metadata": {},
     "output_type": "display_data"
    },
    {
     "data": {
      "text/latex": [
       "$\\displaystyle \\int \\left(- 2 \\tan{\\left(x \\right)}\\right)\\, dx = 2 \\log{\\left(\\cos{\\left(x \\right)} \\right)}$"
      ],
      "text/plain": [
       "Eq(Integral(-2*tan(x), x), 2*log(cos(x)))"
      ]
     },
     "metadata": {},
     "output_type": "display_data"
    },
    {
     "data": {
      "text/latex": [
       "$\\displaystyle \\frac{d}{d x} \\frac{x^{2} - x + 4}{\\sqrt{x}} = \\frac{2 x - 1}{\\sqrt{x}} - \\frac{x^{2} - x + 4}{2 x^{\\frac{3}{2}}}$"
      ],
      "text/plain": [
       "Eq(Derivative((x**2 - x + 4)/sqrt(x), x), (2*x - 1)/sqrt(x) - (x**2 - x + 4)/(2*x**(3/2)))"
      ]
     },
     "metadata": {},
     "output_type": "display_data"
    },
    {
     "data": {
      "text/latex": [
       "$\\displaystyle \\int 1\\, dx = x$"
      ],
      "text/plain": [
       "Eq(Integral(1, x), x)"
      ]
     },
     "metadata": {},
     "output_type": "display_data"
    },
    {
     "data": {
      "text/latex": [
       "$\\displaystyle \\frac{d}{d x} \\frac{\\cos{\\left(x \\right)}}{\\sin{\\left(x \\right)}} = -1 - \\frac{\\cos^{2}{\\left(x \\right)}}{\\sin^{2}{\\left(x \\right)}}$"
      ],
      "text/plain": [
       "Eq(Derivative(cos(x)/sin(x), x), -1 - cos(x)**2/sin(x)**2)"
      ]
     },
     "metadata": {},
     "output_type": "display_data"
    },
    {
     "data": {
      "text/latex": [
       "$\\displaystyle \\int \\left(x^{3} + 3 x - 4\\right)\\, dx = \\frac{x^{4}}{4} + \\frac{3 x^{2}}{2} - 4 x$"
      ],
      "text/plain": [
       "Eq(Integral(x**3 + 3*x - 4, x), x**4/4 + 3*x**2/2 - 4*x)"
      ]
     },
     "metadata": {},
     "output_type": "display_data"
    },
    {
     "data": {
      "text/latex": [
       "$\\displaystyle \\frac{d}{d x} \\left(2 x + \\sin{\\left(x \\right)}\\right) = \\cos{\\left(x \\right)} + 2$"
      ],
      "text/plain": [
       "Eq(Derivative(2*x + sin(x), x), cos(x) + 2)"
      ]
     },
     "metadata": {},
     "output_type": "display_data"
    },
    {
     "data": {
      "text/latex": [
       "$\\displaystyle \\int e^{\\sin{\\left(x \\right)}}\\, dx = \\int e^{\\sin{\\left(x \\right)}}\\, dx$"
      ],
      "text/plain": [
       "Eq(Integral(exp(sin(x)), x), Integral(exp(sin(x)), x))"
      ]
     },
     "metadata": {},
     "output_type": "display_data"
    },
    {
     "data": {
      "text/latex": [
       "$\\displaystyle \\frac{d}{d x} \\left(\\sqrt{x} + x + 4\\right) = 1 + \\frac{1}{2 \\sqrt{x}}$"
      ],
      "text/plain": [
       "Eq(Derivative(sqrt(x) + x + 4, x), 1 + 1/(2*sqrt(x)))"
      ]
     },
     "metadata": {},
     "output_type": "display_data"
    },
    {
     "data": {
      "text/latex": [
       "$\\displaystyle \\int 0\\, dx = 0$"
      ],
      "text/plain": [
       "Eq(Integral(0, x), 0)"
      ]
     },
     "metadata": {},
     "output_type": "display_data"
    },
    {
     "data": {
      "text/latex": [
       "$\\displaystyle \\frac{d}{d x} \\left(\\sqrt[3]{x} - \\sqrt{x}\\right) = - \\frac{1}{2 \\sqrt{x}} + \\frac{1}{3 x^{\\frac{2}{3}}}$"
      ],
      "text/plain": [
       "Eq(Derivative(x**(1/3) - sqrt(x), x), -1/(2*sqrt(x)) + 1/(3*x**(2/3)))"
      ]
     },
     "metadata": {},
     "output_type": "display_data"
    },
    {
     "data": {
      "text/latex": [
       "$\\displaystyle \\int \\left(\\cos{\\left(x \\right)} + 1\\right)\\, dx = x + \\sin{\\left(x \\right)}$"
      ],
      "text/plain": [
       "Eq(Integral(cos(x) + 1, x), x + sin(x))"
      ]
     },
     "metadata": {},
     "output_type": "display_data"
    },
    {
     "data": {
      "text/latex": [
       "$\\displaystyle \\frac{d}{d x} \\frac{e^{- x}}{x} = - \\frac{e^{- x}}{x} - \\frac{e^{- x}}{x^{2}}$"
      ],
      "text/plain": [
       "Eq(Derivative(exp(-x)/x, x), -exp(-x)/x - exp(-x)/x**2)"
      ]
     },
     "metadata": {},
     "output_type": "display_data"
    },
    {
     "data": {
      "text/latex": [
       "$\\displaystyle \\int \\left(- \\sqrt{x} + \\tan{\\left(x \\right)}\\right)\\, dx = - \\frac{2 x^{\\frac{3}{2}}}{3} - \\log{\\left(\\cos{\\left(x \\right)} \\right)}$"
      ],
      "text/plain": [
       "Eq(Integral(-sqrt(x) + tan(x), x), -2*x**(3/2)/3 - log(cos(x)))"
      ]
     },
     "metadata": {},
     "output_type": "display_data"
    },
    {
     "data": {
      "text/latex": [
       "$\\displaystyle \\frac{d}{d x} \\left(\\log{\\left(x \\right)} - \\cos{\\left(x \\right)}\\right) = \\sin{\\left(x \\right)} + \\frac{1}{x}$"
      ],
      "text/plain": [
       "Eq(Derivative(log(x) - cos(x), x), sin(x) + 1/x)"
      ]
     },
     "metadata": {},
     "output_type": "display_data"
    },
    {
     "data": {
      "text/latex": [
       "$\\displaystyle \\int \\left(\\sqrt[3]{x} + \\sin{\\left(x \\right)}\\right)\\, dx = \\frac{3 x^{\\frac{4}{3}}}{4} - \\cos{\\left(x \\right)}$"
      ],
      "text/plain": [
       "Eq(Integral(x**(1/3) + sin(x), x), 3*x**(4/3)/4 - cos(x))"
      ]
     },
     "metadata": {},
     "output_type": "display_data"
    },
    {
     "data": {
      "text/latex": [
       "$\\displaystyle \\frac{d}{d x} \\left(\\frac{1}{x} + \\frac{1}{x^{3}}\\right) = - \\frac{1}{x^{2}} - \\frac{3}{x^{4}}$"
      ],
      "text/plain": [
       "Eq(Derivative(1/x + x**(-3), x), -1/x**2 - 3/x**4)"
      ]
     },
     "metadata": {},
     "output_type": "display_data"
    },
    {
     "data": {
      "text/latex": [
       "$\\displaystyle \\int \\left(3 x + \\frac{1}{x^{3}}\\right)\\, dx = \\frac{3 x^{2}}{2} - \\frac{1}{2 x^{2}}$"
      ],
      "text/plain": [
       "Eq(Integral(3*x + x**(-3), x), 3*x**2/2 - 1/(2*x**2))"
      ]
     },
     "metadata": {},
     "output_type": "display_data"
    },
    {
     "data": {
      "text/latex": [
       "$\\displaystyle \\frac{d}{d x} \\left(- \\frac{x + 4}{x}\\right) = - \\frac{1}{x} + \\frac{x + 4}{x^{2}}$"
      ],
      "text/plain": [
       "Eq(Derivative(-(x + 4)/x, x), -1/x + (x + 4)/x**2)"
      ]
     },
     "metadata": {},
     "output_type": "display_data"
    },
    {
     "data": {
      "text/latex": [
       "$\\displaystyle \\int \\left(e^{x} - \\sin{\\left(x \\right)}\\right)\\, dx = e^{x} + \\cos{\\left(x \\right)}$"
      ],
      "text/plain": [
       "Eq(Integral(exp(x) - sin(x), x), exp(x) + cos(x))"
      ]
     },
     "metadata": {},
     "output_type": "display_data"
    },
    {
     "data": {
      "text/latex": [
       "$\\displaystyle \\frac{d}{d x} \\left(x^{4} - x + \\cos{\\left(x \\right)} - 3\\right) = 4 x^{3} - \\sin{\\left(x \\right)} - 1$"
      ],
      "text/plain": [
       "Eq(Derivative(x**4 - x + cos(x) - 3, x), 4*x**3 - sin(x) - 1)"
      ]
     },
     "metadata": {},
     "output_type": "display_data"
    },
    {
     "data": {
      "text/latex": [
       "$\\displaystyle \\int x^{\\frac{9}{2}}\\, dx = \\frac{2 x^{\\frac{11}{2}}}{11}$"
      ],
      "text/plain": [
       "Eq(Integral(x**(9/2), x), 2*x**(11/2)/11)"
      ]
     },
     "metadata": {},
     "output_type": "display_data"
    },
    {
     "data": {
      "text/latex": [
       "$\\displaystyle \\frac{d}{d x} \\left(e^{x} + \\cos{\\left(x \\right)}\\right) = e^{x} - \\sin{\\left(x \\right)}$"
      ],
      "text/plain": [
       "Eq(Derivative(exp(x) + cos(x), x), exp(x) - sin(x))"
      ]
     },
     "metadata": {},
     "output_type": "display_data"
    },
    {
     "data": {
      "text/latex": [
       "$\\displaystyle \\int \\frac{2 x + 2 + \\frac{1}{x^{2}}}{\\log{\\left(x \\right)}}\\, dx = \\operatorname{Ei}{\\left(- \\log{\\left(x \\right)} \\right)} + 2 \\operatorname{Ei}{\\left(\\log{\\left(x \\right)} \\right)} + 2 \\operatorname{Ei}{\\left(2 \\log{\\left(x \\right)} \\right)}$"
      ],
      "text/plain": [
       "Eq(Integral((2*x + 2 + x**(-2))/log(x), x), Ei(-log(x)) + 2*Ei(log(x)) + 2*Ei(2*log(x)))"
      ]
     },
     "metadata": {},
     "output_type": "display_data"
    },
    {
     "data": {
      "text/latex": [
       "$\\displaystyle \\frac{d}{d x} \\left(e^{x} - \\cos{\\left(x \\right)}\\right) = e^{x} + \\sin{\\left(x \\right)}$"
      ],
      "text/plain": [
       "Eq(Derivative(exp(x) - cos(x), x), exp(x) + sin(x))"
      ]
     },
     "metadata": {},
     "output_type": "display_data"
    },
    {
     "data": {
      "text/latex": [
       "$\\displaystyle \\int \\left(\\sqrt[3]{x} + \\sin{\\left(x \\right)}\\right)\\, dx = \\frac{3 x^{\\frac{4}{3}}}{4} - \\cos{\\left(x \\right)}$"
      ],
      "text/plain": [
       "Eq(Integral(x**(1/3) + sin(x), x), 3*x**(4/3)/4 - cos(x))"
      ]
     },
     "metadata": {},
     "output_type": "display_data"
    },
    {
     "data": {
      "text/latex": [
       "$\\displaystyle \\frac{d}{d x} \\frac{3 x + 1 + \\frac{1}{x^{4}}}{\\sqrt[3]{x}} = \\frac{3 - \\frac{4}{x^{5}}}{\\sqrt[3]{x}} - \\frac{3 x + 1 + \\frac{1}{x^{4}}}{3 x^{\\frac{4}{3}}}$"
      ],
      "text/plain": [
       "Eq(Derivative((3*x + 1 + x**(-4))/x**(1/3), x), (3 - 4/x**5)/x**(1/3) - (3*x + 1 + x**(-4))/(3*x**(4/3)))"
      ]
     },
     "metadata": {},
     "output_type": "display_data"
    },
    {
     "data": {
      "text/latex": [
       "$\\displaystyle \\int \\sqrt{e^{x}}\\, dx = 2 \\sqrt{e^{x}}$"
      ],
      "text/plain": [
       "Eq(Integral(sqrt(exp(x)), x), 2*sqrt(exp(x)))"
      ]
     },
     "metadata": {},
     "output_type": "display_data"
    },
    {
     "data": {
      "text/latex": [
       "$\\displaystyle \\frac{d}{d x} \\left(x^{3} + 2 x - 1\\right) = 3 x^{2} + 2$"
      ],
      "text/plain": [
       "Eq(Derivative(x**3 + 2*x - 1, x), 3*x**2 + 2)"
      ]
     },
     "metadata": {},
     "output_type": "display_data"
    },
    {
     "data": {
      "text/latex": [
       "$\\displaystyle \\int \\left(- x^{3} + \\tan{\\left(x \\right)}\\right)\\, dx = - \\frac{x^{4}}{4} - \\log{\\left(\\cos{\\left(x \\right)} \\right)}$"
      ],
      "text/plain": [
       "Eq(Integral(-x**3 + tan(x), x), -x**4/4 - log(cos(x)))"
      ]
     },
     "metadata": {},
     "output_type": "display_data"
    },
    {
     "data": {
      "text/latex": [
       "$\\displaystyle \\frac{d}{d x} \\left(3 x + e^{x} - 5 + \\frac{1}{x^{3}}\\right) = e^{x} + 3 - \\frac{3}{x^{4}}$"
      ],
      "text/plain": [
       "Eq(Derivative(3*x + exp(x) - 5 + x**(-3), x), exp(x) + 3 - 3/x**4)"
      ]
     },
     "metadata": {},
     "output_type": "display_data"
    },
    {
     "data": {
      "text/latex": [
       "$\\displaystyle \\int \\left(- \\tan{\\left(x \\right)} + \\frac{1}{x}\\right)\\, dx = \\log{\\left(x \\right)} + \\log{\\left(\\cos{\\left(x \\right)} \\right)}$"
      ],
      "text/plain": [
       "Eq(Integral(-tan(x) + 1/x, x), log(x) + log(cos(x)))"
      ]
     },
     "metadata": {},
     "output_type": "display_data"
    },
    {
     "data": {
      "text/latex": [
       "$\\displaystyle \\frac{d}{d x} \\frac{\\tan{\\left(x \\right)}}{\\cos{\\left(x \\right)}} = \\frac{\\tan^{2}{\\left(x \\right)} + 1}{\\cos{\\left(x \\right)}} + \\frac{\\sin{\\left(x \\right)} \\tan{\\left(x \\right)}}{\\cos^{2}{\\left(x \\right)}}$"
      ],
      "text/plain": [
       "Eq(Derivative(tan(x)/cos(x), x), (tan(x)**2 + 1)/cos(x) + sin(x)*tan(x)/cos(x)**2)"
      ]
     },
     "metadata": {},
     "output_type": "display_data"
    },
    {
     "data": {
      "text/latex": [
       "$\\displaystyle \\int \\tan{\\left(\\sqrt{x} \\right)}\\, dx = \\int \\tan{\\left(\\sqrt{x} \\right)}\\, dx$"
      ],
      "text/plain": [
       "Eq(Integral(tan(sqrt(x)), x), Integral(tan(sqrt(x)), x))"
      ]
     },
     "metadata": {},
     "output_type": "display_data"
    },
    {
     "data": {
      "text/latex": [
       "$\\displaystyle \\frac{d}{d x} \\left(e^{x} + 1\\right) = e^{x}$"
      ],
      "text/plain": [
       "Eq(Derivative(exp(x) + 1, x), exp(x))"
      ]
     },
     "metadata": {},
     "output_type": "display_data"
    },
    {
     "data": {
      "text/latex": [
       "$\\displaystyle \\int \\frac{\\sin{\\left(x \\right)}}{\\sqrt[3]{x}}\\, dx = \\frac{x^{\\frac{5}{3}} \\Gamma\\left(\\frac{5}{6}\\right) {{}_{1}F_{2}\\left(\\begin{matrix} \\frac{5}{6} \\\\ \\frac{3}{2}, \\frac{11}{6} \\end{matrix}\\middle| {- \\frac{x^{2}}{4}} \\right)}}{2 \\Gamma\\left(\\frac{11}{6}\\right)}$"
      ],
      "text/plain": [
       "Eq(Integral(sin(x)/x**(1/3), x), x**(5/3)*gamma(5/6)*hyper((5/6,), (3/2, 11/6), -x**2/4)/(2*gamma(11/6)))"
      ]
     },
     "metadata": {},
     "output_type": "display_data"
    },
    {
     "data": {
      "text/latex": [
       "$\\displaystyle \\frac{d}{d x} \\left(\\sqrt[3]{x} - 3\\right) = \\frac{1}{3 x^{\\frac{2}{3}}}$"
      ],
      "text/plain": [
       "Eq(Derivative(x**(1/3) - 3, x), 1/(3*x**(2/3)))"
      ]
     },
     "metadata": {},
     "output_type": "display_data"
    },
    {
     "data": {
      "text/latex": [
       "$\\displaystyle \\int 1\\, dx = x$"
      ],
      "text/plain": [
       "Eq(Integral(1, x), x)"
      ]
     },
     "metadata": {},
     "output_type": "display_data"
    },
    {
     "data": {
      "text/latex": [
       "$\\displaystyle \\frac{d}{d x} e^{- x} = - e^{- x}$"
      ],
      "text/plain": [
       "Eq(Derivative(exp(-x), x), -exp(-x))"
      ]
     },
     "metadata": {},
     "output_type": "display_data"
    },
    {
     "data": {
      "text/latex": [
       "$\\displaystyle \\int \\left(\\sqrt{x} + \\tan{\\left(x \\right)}\\right)\\, dx = \\frac{2 x^{\\frac{3}{2}}}{3} - \\log{\\left(\\cos{\\left(x \\right)} \\right)}$"
      ],
      "text/plain": [
       "Eq(Integral(sqrt(x) + tan(x), x), 2*x**(3/2)/3 - log(cos(x)))"
      ]
     },
     "metadata": {},
     "output_type": "display_data"
    },
    {
     "data": {
      "text/latex": [
       "$\\displaystyle \\frac{d}{d x} \\left(-2 + \\frac{1}{x^{4}}\\right)^{4} = - \\frac{16 \\left(-2 + \\frac{1}{x^{4}}\\right)^{3}}{x^{5}}$"
      ],
      "text/plain": [
       "Eq(Derivative((-2 + x**(-4))**4, x), -16*(-2 + x**(-4))**3/x**5)"
      ]
     },
     "metadata": {},
     "output_type": "display_data"
    },
    {
     "data": {
      "text/latex": [
       "$\\displaystyle \\int \\left(- x + \\tan{\\left(x \\right)}\\right)\\, dx = - \\frac{x^{2}}{2} - \\log{\\left(\\cos{\\left(x \\right)} \\right)}$"
      ],
      "text/plain": [
       "Eq(Integral(-x + tan(x), x), -x**2/2 - log(cos(x)))"
      ]
     },
     "metadata": {},
     "output_type": "display_data"
    },
    {
     "data": {
      "text/latex": [
       "$\\displaystyle \\frac{d}{d x} \\left(\\sin{\\left(x \\right)} + \\tan{\\left(x \\right)}\\right) = \\cos{\\left(x \\right)} + \\tan^{2}{\\left(x \\right)} + 1$"
      ],
      "text/plain": [
       "Eq(Derivative(sin(x) + tan(x), x), cos(x) + tan(x)**2 + 1)"
      ]
     },
     "metadata": {},
     "output_type": "display_data"
    },
    {
     "data": {
      "text/latex": [
       "$\\displaystyle \\int \\frac{5}{\\sqrt[3]{x}}\\, dx = \\frac{15 x^{\\frac{2}{3}}}{2}$"
      ],
      "text/plain": [
       "Eq(Integral(5/x**(1/3), x), 15*x**(2/3)/2)"
      ]
     },
     "metadata": {},
     "output_type": "display_data"
    },
    {
     "data": {
      "text/latex": [
       "$\\displaystyle \\frac{d}{d x} \\left(- \\log{\\left(x \\right)} + \\cos{\\left(x \\right)}\\right) = - \\sin{\\left(x \\right)} - \\frac{1}{x}$"
      ],
      "text/plain": [
       "Eq(Derivative(-log(x) + cos(x), x), -sin(x) - 1/x)"
      ]
     },
     "metadata": {},
     "output_type": "display_data"
    },
    {
     "data": {
      "text/latex": [
       "$\\displaystyle \\int e^{- x} \\log{\\left(x \\right)}\\, dx = \\operatorname{Ei}{\\left(- x \\right)} - e^{- x} \\log{\\left(x \\right)}$"
      ],
      "text/plain": [
       "Eq(Integral(exp(-x)*log(x), x), Ei(-x) - exp(-x)*log(x))"
      ]
     },
     "metadata": {},
     "output_type": "display_data"
    },
    {
     "data": {
      "text/latex": [
       "$\\displaystyle \\frac{d}{d x} \\left(\\sqrt{x} - \\tan{\\left(x \\right)}\\right) = - \\tan^{2}{\\left(x \\right)} - 1 + \\frac{1}{2 \\sqrt{x}}$"
      ],
      "text/plain": [
       "Eq(Derivative(sqrt(x) - tan(x), x), -tan(x)**2 - 1 + 1/(2*sqrt(x)))"
      ]
     },
     "metadata": {},
     "output_type": "display_data"
    },
    {
     "data": {
      "text/latex": [
       "$\\displaystyle \\int x e^{- x}\\, dx = \\left(- x - 1\\right) e^{- x}$"
      ],
      "text/plain": [
       "Eq(Integral(x*exp(-x), x), (-x - 1)*exp(-x))"
      ]
     },
     "metadata": {},
     "output_type": "display_data"
    },
    {
     "data": {
      "text/latex": [
       "$\\displaystyle \\frac{d}{d x} \\frac{\\tan{\\left(x \\right)}}{\\sin{\\left(x \\right)}} = \\frac{\\tan^{2}{\\left(x \\right)} + 1}{\\sin{\\left(x \\right)}} - \\frac{\\cos{\\left(x \\right)} \\tan{\\left(x \\right)}}{\\sin^{2}{\\left(x \\right)}}$"
      ],
      "text/plain": [
       "Eq(Derivative(tan(x)/sin(x), x), (tan(x)**2 + 1)/sin(x) - cos(x)*tan(x)/sin(x)**2)"
      ]
     },
     "metadata": {},
     "output_type": "display_data"
    },
    {
     "data": {
      "text/latex": [
       "$\\displaystyle \\int \\left(e^{x} + \\log{\\left(x \\right)}\\right)\\, dx = x \\log{\\left(x \\right)} - x + e^{x}$"
      ],
      "text/plain": [
       "Eq(Integral(exp(x) + log(x), x), x*log(x) - x + exp(x))"
      ]
     },
     "metadata": {},
     "output_type": "display_data"
    },
    {
     "data": {
      "text/latex": [
       "$\\displaystyle \\frac{d}{d x} \\frac{\\tan{\\left(x \\right)}}{\\sin{\\left(x \\right)}} = \\frac{\\tan^{2}{\\left(x \\right)} + 1}{\\sin{\\left(x \\right)}} - \\frac{\\cos{\\left(x \\right)} \\tan{\\left(x \\right)}}{\\sin^{2}{\\left(x \\right)}}$"
      ],
      "text/plain": [
       "Eq(Derivative(tan(x)/sin(x), x), (tan(x)**2 + 1)/sin(x) - cos(x)*tan(x)/sin(x)**2)"
      ]
     },
     "metadata": {},
     "output_type": "display_data"
    },
    {
     "data": {
      "text/latex": [
       "$\\displaystyle \\int 2 x\\, dx = x^{2}$"
      ],
      "text/plain": [
       "Eq(Integral(2*x, x), x**2)"
      ]
     },
     "metadata": {},
     "output_type": "display_data"
    },
    {
     "data": {
      "text/latex": [
       "$\\displaystyle \\frac{d}{d x} \\left(- x + \\log{\\left(x \\right)} + 1\\right) = -1 + \\frac{1}{x}$"
      ],
      "text/plain": [
       "Eq(Derivative(-x + log(x) + 1, x), -1 + 1/x)"
      ]
     },
     "metadata": {},
     "output_type": "display_data"
    },
    {
     "data": {
      "text/latex": [
       "$\\displaystyle \\int \\left(- e^{x} + \\tan{\\left(x \\right)}\\right)\\, dx = - e^{x} - \\log{\\left(\\cos{\\left(x \\right)} \\right)}$"
      ],
      "text/plain": [
       "Eq(Integral(-exp(x) + tan(x), x), -exp(x) - log(cos(x)))"
      ]
     },
     "metadata": {},
     "output_type": "display_data"
    },
    {
     "data": {
      "text/latex": [
       "$\\displaystyle \\frac{d}{d x} \\left(\\sqrt[3]{x} - 2 x\\right) = -2 + \\frac{1}{3 x^{\\frac{2}{3}}}$"
      ],
      "text/plain": [
       "Eq(Derivative(x**(1/3) - 2*x, x), -2 + 1/(3*x**(2/3)))"
      ]
     },
     "metadata": {},
     "output_type": "display_data"
    },
    {
     "data": {
      "text/latex": [
       "$\\displaystyle \\int \\left(\\sqrt{x} + 3 x + 3 + \\frac{1}{x^{4}}\\right)\\, dx = \\frac{2 x^{\\frac{3}{2}}}{3} + \\frac{3 x^{2}}{2} + 3 x - \\frac{1}{3 x^{3}}$"
      ],
      "text/plain": [
       "Eq(Integral(sqrt(x) + 3*x + 3 + x**(-4), x), 2*x**(3/2)/3 + 3*x**2/2 + 3*x - 1/(3*x**3))"
      ]
     },
     "metadata": {},
     "output_type": "display_data"
    },
    {
     "data": {
      "text/latex": [
       "$\\displaystyle \\frac{d}{d x} e^{\\sqrt[3]{x}} = \\frac{e^{\\sqrt[3]{x}}}{3 x^{\\frac{2}{3}}}$"
      ],
      "text/plain": [
       "Eq(Derivative(exp(x**(1/3)), x), exp(x**(1/3))/(3*x**(2/3)))"
      ]
     },
     "metadata": {},
     "output_type": "display_data"
    },
    {
     "data": {
      "text/latex": [
       "$\\displaystyle \\int \\left(- \\cos{\\left(x \\right)} + \\tan{\\left(x \\right)}\\right)\\, dx = - \\log{\\left(\\cos{\\left(x \\right)} \\right)} - \\sin{\\left(x \\right)}$"
      ],
      "text/plain": [
       "Eq(Integral(-cos(x) + tan(x), x), -log(cos(x)) - sin(x))"
      ]
     },
     "metadata": {},
     "output_type": "display_data"
    },
    {
     "data": {
      "text/latex": [
       "$\\displaystyle \\frac{d}{d x} \\tan{\\left(\\log{\\left(x \\right)} \\right)} = \\frac{\\tan^{2}{\\left(\\log{\\left(x \\right)} \\right)} + 1}{x}$"
      ],
      "text/plain": [
       "Eq(Derivative(tan(log(x)), x), (tan(log(x))**2 + 1)/x)"
      ]
     },
     "metadata": {},
     "output_type": "display_data"
    },
    {
     "data": {
      "text/latex": [
       "$\\displaystyle \\int \\left(e^{x} - \\log{\\left(x \\right)}\\right)\\, dx = - x \\log{\\left(x \\right)} + x + e^{x}$"
      ],
      "text/plain": [
       "Eq(Integral(exp(x) - log(x), x), -x*log(x) + x + exp(x))"
      ]
     },
     "metadata": {},
     "output_type": "display_data"
    },
    {
     "data": {
      "text/latex": [
       "$\\displaystyle \\frac{d}{d x} \\left(- \\cos{\\left(x \\right)} + \\tan{\\left(x \\right)}\\right) = \\sin{\\left(x \\right)} + \\tan^{2}{\\left(x \\right)} + 1$"
      ],
      "text/plain": [
       "Eq(Derivative(-cos(x) + tan(x), x), sin(x) + tan(x)**2 + 1)"
      ]
     },
     "metadata": {},
     "output_type": "display_data"
    },
    {
     "data": {
      "text/latex": [
       "$\\displaystyle \\int \\left(\\sqrt{x} - 3 x + 1 + \\frac{1}{x^{2}}\\right)\\, dx = \\frac{2 x^{\\frac{3}{2}}}{3} - \\frac{3 x^{2}}{2} + x - \\frac{1}{x}$"
      ],
      "text/plain": [
       "Eq(Integral(sqrt(x) - 3*x + 1 + x**(-2), x), 2*x**(3/2)/3 - 3*x**2/2 + x - 1/x)"
      ]
     },
     "metadata": {},
     "output_type": "display_data"
    },
    {
     "data": {
      "text/latex": [
       "$\\displaystyle \\frac{d}{d x} \\tan{\\left(\\sqrt[3]{x} \\right)} = \\frac{\\tan^{2}{\\left(\\sqrt[3]{x} \\right)} + 1}{3 x^{\\frac{2}{3}}}$"
      ],
      "text/plain": [
       "Eq(Derivative(tan(x**(1/3)), x), (tan(x**(1/3))**2 + 1)/(3*x**(2/3)))"
      ]
     },
     "metadata": {},
     "output_type": "display_data"
    },
    {
     "data": {
      "text/latex": [
       "$\\displaystyle \\int \\left(\\sqrt{x} + 1\\right)\\, dx = \\frac{2 x^{\\frac{3}{2}}}{3} + x$"
      ],
      "text/plain": [
       "Eq(Integral(sqrt(x) + 1, x), 2*x**(3/2)/3 + x)"
      ]
     },
     "metadata": {},
     "output_type": "display_data"
    },
    {
     "data": {
      "text/latex": [
       "$\\displaystyle \\frac{d}{d x} \\frac{\\sin{\\left(x \\right)}}{\\tan{\\left(x \\right)}} = \\frac{\\left(- \\tan^{2}{\\left(x \\right)} - 1\\right) \\sin{\\left(x \\right)}}{\\tan^{2}{\\left(x \\right)}} + \\frac{\\cos{\\left(x \\right)}}{\\tan{\\left(x \\right)}}$"
      ],
      "text/plain": [
       "Eq(Derivative(sin(x)/tan(x), x), (-tan(x)**2 - 1)*sin(x)/tan(x)**2 + cos(x)/tan(x))"
      ]
     },
     "metadata": {},
     "output_type": "display_data"
    },
    {
     "data": {
      "text/latex": [
       "$\\displaystyle \\int \\left(- \\frac{1}{4 \\sqrt{x}}\\right)\\, dx = - \\frac{\\sqrt{x}}{2}$"
      ],
      "text/plain": [
       "Eq(Integral(-1/(4*sqrt(x)), x), -sqrt(x)/2)"
      ]
     },
     "metadata": {},
     "output_type": "display_data"
    },
    {
     "data": {
      "text/latex": [
       "$\\displaystyle \\frac{d}{d x} \\cos{\\left(\\sin{\\left(x \\right)} \\right)} = - \\sin{\\left(\\sin{\\left(x \\right)} \\right)} \\cos{\\left(x \\right)}$"
      ],
      "text/plain": [
       "Eq(Derivative(cos(sin(x)), x), -sin(sin(x))*cos(x))"
      ]
     },
     "metadata": {},
     "output_type": "display_data"
    },
    {
     "data": {
      "text/latex": [
       "$\\displaystyle \\int \\frac{\\cos{\\left(x \\right)}}{\\log{\\left(x \\right)}}\\, dx = \\int \\frac{\\cos{\\left(x \\right)}}{\\log{\\left(x \\right)}}\\, dx$"
      ],
      "text/plain": [
       "Eq(Integral(cos(x)/log(x), x), Integral(cos(x)/log(x), x))"
      ]
     },
     "metadata": {},
     "output_type": "display_data"
    },
    {
     "data": {
      "text/latex": [
       "$\\displaystyle \\frac{d}{d x} \\frac{\\cos{\\left(x \\right)}}{\\tan{\\left(x \\right)}} = \\frac{\\left(- \\tan^{2}{\\left(x \\right)} - 1\\right) \\cos{\\left(x \\right)}}{\\tan^{2}{\\left(x \\right)}} - \\frac{\\sin{\\left(x \\right)}}{\\tan{\\left(x \\right)}}$"
      ],
      "text/plain": [
       "Eq(Derivative(cos(x)/tan(x), x), (-tan(x)**2 - 1)*cos(x)/tan(x)**2 - sin(x)/tan(x))"
      ]
     },
     "metadata": {},
     "output_type": "display_data"
    },
    {
     "data": {
      "text/latex": [
       "$\\displaystyle \\int \\left(- 2 x - 2\\right)\\, dx = - x^{2} - 2 x$"
      ],
      "text/plain": [
       "Eq(Integral(-2*x - 2, x), -x**2 - 2*x)"
      ]
     },
     "metadata": {},
     "output_type": "display_data"
    },
    {
     "data": {
      "text/latex": [
       "$\\displaystyle \\frac{d}{d x} \\left(2 x - e^{x}\\right) = 2 - e^{x}$"
      ],
      "text/plain": [
       "Eq(Derivative(2*x - exp(x), x), 2 - exp(x))"
      ]
     },
     "metadata": {},
     "output_type": "display_data"
    },
    {
     "data": {
      "text/latex": [
       "$\\displaystyle \\int \\left(\\sqrt[3]{x} + \\sin{\\left(x \\right)}\\right)\\, dx = \\frac{3 x^{\\frac{4}{3}}}{4} - \\cos{\\left(x \\right)}$"
      ],
      "text/plain": [
       "Eq(Integral(x**(1/3) + sin(x), x), 3*x**(4/3)/4 - cos(x))"
      ]
     },
     "metadata": {},
     "output_type": "display_data"
    },
    {
     "data": {
      "text/latex": [
       "$\\displaystyle \\frac{d}{d x} \\left(- x - \\sin{\\left(x \\right)}\\right) = - \\cos{\\left(x \\right)} - 1$"
      ],
      "text/plain": [
       "Eq(Derivative(-x - sin(x), x), -cos(x) - 1)"
      ]
     },
     "metadata": {},
     "output_type": "display_data"
    },
    {
     "data": {
      "text/latex": [
       "$\\displaystyle \\int \\frac{e^{x}}{\\log{\\left(x \\right)}}\\, dx = \\int \\frac{e^{x}}{\\log{\\left(x \\right)}}\\, dx$"
      ],
      "text/plain": [
       "Eq(Integral(exp(x)/log(x), x), Integral(exp(x)/log(x), x))"
      ]
     },
     "metadata": {},
     "output_type": "display_data"
    },
    {
     "data": {
      "text/latex": [
       "$\\displaystyle \\frac{d}{d x} \\frac{x - 2}{2 x} = \\frac{1}{2 x} - \\frac{x - 2}{2 x^{2}}$"
      ],
      "text/plain": [
       "Eq(Derivative((x - 2)/(2*x), x), 1/(2*x) - (x - 2)/(2*x**2))"
      ]
     },
     "metadata": {},
     "output_type": "display_data"
    },
    {
     "data": {
      "text/latex": [
       "$\\displaystyle \\int \\left(\\log{\\left(x \\right)} + \\cos{\\left(x \\right)}\\right)\\, dx = x \\log{\\left(x \\right)} - x + \\sin{\\left(x \\right)}$"
      ],
      "text/plain": [
       "Eq(Integral(log(x) + cos(x), x), x*log(x) - x + sin(x))"
      ]
     },
     "metadata": {},
     "output_type": "display_data"
    },
    {
     "data": {
      "text/latex": [
       "$\\displaystyle \\frac{d}{d x} \\left(\\sqrt[3]{x} + 2 x\\right) = 2 + \\frac{1}{3 x^{\\frac{2}{3}}}$"
      ],
      "text/plain": [
       "Eq(Derivative(x**(1/3) + 2*x, x), 2 + 1/(3*x**(2/3)))"
      ]
     },
     "metadata": {},
     "output_type": "display_data"
    },
    {
     "data": {
      "text/latex": [
       "$\\displaystyle \\int \\sqrt[3]{\\cos{\\left(x \\right)}}\\, dx = \\int \\sqrt[3]{\\cos{\\left(x \\right)}}\\, dx$"
      ],
      "text/plain": [
       "Eq(Integral(cos(x)**(1/3), x), Integral(cos(x)**(1/3), x))"
      ]
     },
     "metadata": {},
     "output_type": "display_data"
    },
    {
     "data": {
      "text/latex": [
       "$\\displaystyle \\frac{d}{d x} \\frac{e^{x}}{\\log{\\left(x \\right)}} = \\frac{e^{x}}{\\log{\\left(x \\right)}} - \\frac{e^{x}}{x \\log{\\left(x \\right)}^{2}}$"
      ],
      "text/plain": [
       "Eq(Derivative(exp(x)/log(x), x), exp(x)/log(x) - exp(x)/(x*log(x)**2))"
      ]
     },
     "metadata": {},
     "output_type": "display_data"
    },
    {
     "data": {
      "text/latex": [
       "$\\displaystyle \\int \\frac{\\sqrt{x}}{\\log{\\left(x \\right)}}\\, dx = \\int \\frac{\\sqrt{x}}{\\log{\\left(x \\right)}}\\, dx$"
      ],
      "text/plain": [
       "Eq(Integral(sqrt(x)/log(x), x), Integral(sqrt(x)/log(x), x))"
      ]
     },
     "metadata": {},
     "output_type": "display_data"
    },
    {
     "data": {
      "text/latex": [
       "$\\displaystyle \\frac{d}{d x} \\left(\\sin{\\left(x \\right)} - \\cos{\\left(x \\right)}\\right) = \\sin{\\left(x \\right)} + \\cos{\\left(x \\right)}$"
      ],
      "text/plain": [
       "Eq(Derivative(sin(x) - cos(x), x), sin(x) + cos(x))"
      ]
     },
     "metadata": {},
     "output_type": "display_data"
    },
    {
     "data": {
      "text/latex": [
       "$\\displaystyle \\int \\sin{\\left(\\sqrt{x} \\right)}\\, dx = - 2 \\sqrt{x} \\cos{\\left(\\sqrt{x} \\right)} + 2 \\sin{\\left(\\sqrt{x} \\right)}$"
      ],
      "text/plain": [
       "Eq(Integral(sin(sqrt(x)), x), -2*sqrt(x)*cos(sqrt(x)) + 2*sin(sqrt(x)))"
      ]
     },
     "metadata": {},
     "output_type": "display_data"
    },
    {
     "data": {
      "text/latex": [
       "$\\displaystyle \\frac{d}{d x} \\left(\\sqrt[3]{x} - \\sqrt{x}\\right) = - \\frac{1}{2 \\sqrt{x}} + \\frac{1}{3 x^{\\frac{2}{3}}}$"
      ],
      "text/plain": [
       "Eq(Derivative(x**(1/3) - sqrt(x), x), -1/(2*sqrt(x)) + 1/(3*x**(2/3)))"
      ]
     },
     "metadata": {},
     "output_type": "display_data"
    },
    {
     "data": {
      "text/latex": [
       "$\\displaystyle \\int \\left(x - \\log{\\left(x \\right)} - 2\\right)\\, dx = \\frac{x^{2}}{2} - x \\log{\\left(x \\right)} - x$"
      ],
      "text/plain": [
       "Eq(Integral(x - log(x) - 2, x), x**2/2 - x*log(x) - x)"
      ]
     },
     "metadata": {},
     "output_type": "display_data"
    },
    {
     "data": {
      "text/latex": [
       "$\\displaystyle \\frac{d}{d x} x \\log{\\left(x \\right)} = \\log{\\left(x \\right)} + 1$"
      ],
      "text/plain": [
       "Eq(Derivative(x*log(x), x), log(x) + 1)"
      ]
     },
     "metadata": {},
     "output_type": "display_data"
    },
    {
     "data": {
      "text/latex": [
       "$\\displaystyle \\int \\left(\\sqrt{x} + \\cos{\\left(x \\right)}\\right)\\, dx = \\frac{2 x^{\\frac{3}{2}}}{3} + \\sin{\\left(x \\right)}$"
      ],
      "text/plain": [
       "Eq(Integral(sqrt(x) + cos(x), x), 2*x**(3/2)/3 + sin(x))"
      ]
     },
     "metadata": {},
     "output_type": "display_data"
    },
    {
     "data": {
      "text/latex": [
       "$\\displaystyle \\frac{d}{d x} \\frac{\\tan{\\left(x \\right)}}{\\log{\\left(x \\right)}} = \\frac{\\tan^{2}{\\left(x \\right)} + 1}{\\log{\\left(x \\right)}} - \\frac{\\tan{\\left(x \\right)}}{x \\log{\\left(x \\right)}^{2}}$"
      ],
      "text/plain": [
       "Eq(Derivative(tan(x)/log(x), x), (tan(x)**2 + 1)/log(x) - tan(x)/(x*log(x)**2))"
      ]
     },
     "metadata": {},
     "output_type": "display_data"
    },
    {
     "data": {
      "text/latex": [
       "$\\displaystyle \\int \\frac{\\sin{\\left(x \\right)}}{\\log{\\left(x \\right)}}\\, dx = \\int \\frac{\\sin{\\left(x \\right)}}{\\log{\\left(x \\right)}}\\, dx$"
      ],
      "text/plain": [
       "Eq(Integral(sin(x)/log(x), x), Integral(sin(x)/log(x), x))"
      ]
     },
     "metadata": {},
     "output_type": "display_data"
    },
    {
     "data": {
      "text/latex": [
       "$\\displaystyle \\frac{d}{d x} e^{x - 3} = e^{x - 3}$"
      ],
      "text/plain": [
       "Eq(Derivative(exp(x - 3), x), exp(x - 3))"
      ]
     },
     "metadata": {},
     "output_type": "display_data"
    },
    {
     "data": {
      "text/latex": [
       "$\\displaystyle \\int \\log{\\left(\\sqrt[3]{x} \\right)}\\, dx = x \\log{\\left(\\sqrt[3]{x} \\right)} - \\frac{x}{3}$"
      ],
      "text/plain": [
       "Eq(Integral(log(x**(1/3)), x), x*log(x**(1/3)) - x/3)"
      ]
     },
     "metadata": {},
     "output_type": "display_data"
    },
    {
     "data": {
      "text/latex": [
       "$\\displaystyle \\frac{d}{d x} \\left(- \\sqrt{x} + \\cos{\\left(x \\right)}\\right) = - \\sin{\\left(x \\right)} - \\frac{1}{2 \\sqrt{x}}$"
      ],
      "text/plain": [
       "Eq(Derivative(-sqrt(x) + cos(x), x), -sin(x) - 1/(2*sqrt(x)))"
      ]
     },
     "metadata": {},
     "output_type": "display_data"
    },
    {
     "data": {
      "text/latex": [
       "$\\displaystyle \\int \\left(\\sqrt{x} + 2 x - 4 - \\frac{1}{x}\\right)\\, dx = \\frac{2 x^{\\frac{3}{2}}}{3} + x^{2} - 4 x - \\log{\\left(x \\right)}$"
      ],
      "text/plain": [
       "Eq(Integral(sqrt(x) + 2*x - 4 - 1/x, x), 2*x**(3/2)/3 + x**2 - 4*x - log(x))"
      ]
     },
     "metadata": {},
     "output_type": "display_data"
    },
    {
     "data": {
      "text/latex": [
       "$\\displaystyle \\frac{d}{d x} \\left(15 - 3 x\\right) = -3$"
      ],
      "text/plain": [
       "Eq(Derivative(15 - 3*x, x), -3)"
      ]
     },
     "metadata": {},
     "output_type": "display_data"
    },
    {
     "data": {
      "text/latex": [
       "$\\displaystyle \\int \\cos{\\left(\\sqrt[3]{x} \\right)}\\, dx = 3 x^{\\frac{2}{3}} \\sin{\\left(\\sqrt[3]{x} \\right)} + 6 \\sqrt[3]{x} \\cos{\\left(\\sqrt[3]{x} \\right)} - 6 \\sin{\\left(\\sqrt[3]{x} \\right)}$"
      ],
      "text/plain": [
       "Eq(Integral(cos(x**(1/3)), x), 3*x**(2/3)*sin(x**(1/3)) + 6*x**(1/3)*cos(x**(1/3)) - 6*sin(x**(1/3)))"
      ]
     },
     "metadata": {},
     "output_type": "display_data"
    },
    {
     "data": {
      "text/latex": [
       "$\\displaystyle \\frac{d}{d x} 6 x = 6$"
      ],
      "text/plain": [
       "Eq(Derivative(6*x, x), 6)"
      ]
     },
     "metadata": {},
     "output_type": "display_data"
    },
    {
     "data": {
      "text/latex": [
       "$\\displaystyle \\int \\tan{\\left(\\log{\\left(x \\right)} \\right)}\\, dx = \\int \\tan{\\left(\\log{\\left(x \\right)} \\right)}\\, dx$"
      ],
      "text/plain": [
       "Eq(Integral(tan(log(x)), x), Integral(tan(log(x)), x))"
      ]
     },
     "metadata": {},
     "output_type": "display_data"
    },
    {
     "data": {
      "text/latex": [
       "$\\displaystyle \\frac{d}{d x} \\frac{x + 1}{\\sin{\\left(x \\right)}} = - \\frac{\\left(x + 1\\right) \\cos{\\left(x \\right)}}{\\sin^{2}{\\left(x \\right)}} + \\frac{1}{\\sin{\\left(x \\right)}}$"
      ],
      "text/plain": [
       "Eq(Derivative((x + 1)/sin(x), x), -(x + 1)*cos(x)/sin(x)**2 + 1/sin(x))"
      ]
     },
     "metadata": {},
     "output_type": "display_data"
    },
    {
     "data": {
      "text/latex": [
       "$\\displaystyle \\int \\frac{x + 2}{\\sqrt{x}}\\, dx = \\frac{2 x^{\\frac{3}{2}}}{3} + 4 \\sqrt{x}$"
      ],
      "text/plain": [
       "Eq(Integral((x + 2)/sqrt(x), x), 2*x**(3/2)/3 + 4*sqrt(x))"
      ]
     },
     "metadata": {},
     "output_type": "display_data"
    },
    {
     "data": {
      "text/latex": [
       "$\\displaystyle \\frac{d}{d x} \\left(x^{4} - 7\\right) = 4 x^{3}$"
      ],
      "text/plain": [
       "Eq(Derivative(x**4 - 7, x), 4*x**3)"
      ]
     },
     "metadata": {},
     "output_type": "display_data"
    },
    {
     "data": {
      "text/latex": [
       "$\\displaystyle \\int \\left(x^{4} + e^{x}\\right)\\, dx = \\frac{x^{5}}{5} + e^{x}$"
      ],
      "text/plain": [
       "Eq(Integral(x**4 + exp(x), x), x**5/5 + exp(x))"
      ]
     },
     "metadata": {},
     "output_type": "display_data"
    },
    {
     "data": {
      "text/latex": [
       "$\\displaystyle \\frac{d}{d x} \\left(x - \\sin{\\left(x \\right)} - 2\\right) = 1 - \\cos{\\left(x \\right)}$"
      ],
      "text/plain": [
       "Eq(Derivative(x - sin(x) - 2, x), 1 - cos(x))"
      ]
     },
     "metadata": {},
     "output_type": "display_data"
    },
    {
     "data": {
      "text/latex": [
       "$\\displaystyle \\int \\left(x^{5} + x^{3} + 3 x + 1\\right)\\, dx = \\frac{x^{6}}{6} + \\frac{x^{4}}{4} + \\frac{3 x^{2}}{2} + x$"
      ],
      "text/plain": [
       "Eq(Integral(x**5 + x**3 + 3*x + 1, x), x**6/6 + x**4/4 + 3*x**2/2 + x)"
      ]
     },
     "metadata": {},
     "output_type": "display_data"
    },
    {
     "data": {
      "text/latex": [
       "$\\displaystyle \\frac{d}{d x} \\left(\\cos{\\left(x \\right)} + \\frac{1}{x^{3}}\\right) = - \\sin{\\left(x \\right)} - \\frac{3}{x^{4}}$"
      ],
      "text/plain": [
       "Eq(Derivative(cos(x) + x**(-3), x), -sin(x) - 3/x**4)"
      ]
     },
     "metadata": {},
     "output_type": "display_data"
    },
    {
     "data": {
      "text/latex": [
       "$\\displaystyle \\int \\left(- 3 x - e^{x} - 2 + \\frac{1}{x^{3}}\\right)\\, dx = - \\frac{3 x^{2}}{2} - 2 x - e^{x} - \\frac{1}{2 x^{2}}$"
      ],
      "text/plain": [
       "Eq(Integral(-3*x - exp(x) - 2 + x**(-3), x), -3*x**2/2 - 2*x - exp(x) - 1/(2*x**2))"
      ]
     },
     "metadata": {},
     "output_type": "display_data"
    },
    {
     "data": {
      "text/latex": [
       "$\\displaystyle \\frac{d}{d x} \\left(\\log{\\left(x \\right)} + \\tan{\\left(x \\right)}\\right) = \\tan^{2}{\\left(x \\right)} + 1 + \\frac{1}{x}$"
      ],
      "text/plain": [
       "Eq(Derivative(log(x) + tan(x), x), tan(x)**2 + 1 + 1/x)"
      ]
     },
     "metadata": {},
     "output_type": "display_data"
    },
    {
     "data": {
      "text/latex": [
       "$\\displaystyle \\int \\left(- x + \\sin{\\left(x \\right)}\\right)\\, dx = - \\frac{x^{2}}{2} - \\cos{\\left(x \\right)}$"
      ],
      "text/plain": [
       "Eq(Integral(-x + sin(x), x), -x**2/2 - cos(x))"
      ]
     },
     "metadata": {},
     "output_type": "display_data"
    },
    {
     "data": {
      "text/latex": [
       "$\\displaystyle \\frac{d}{d x} \\sqrt[6]{x} = \\frac{1}{6 x^{\\frac{5}{6}}}$"
      ],
      "text/plain": [
       "Eq(Derivative(x**(1/6), x), 1/(6*x**(5/6)))"
      ]
     },
     "metadata": {},
     "output_type": "display_data"
    },
    {
     "data": {
      "text/latex": [
       "$\\displaystyle \\int \\log{\\left(\\sqrt[3]{x} \\right)}\\, dx = x \\log{\\left(\\sqrt[3]{x} \\right)} - \\frac{x}{3}$"
      ],
      "text/plain": [
       "Eq(Integral(log(x**(1/3)), x), x*log(x**(1/3)) - x/3)"
      ]
     },
     "metadata": {},
     "output_type": "display_data"
    },
    {
     "data": {
      "text/latex": [
       "$\\displaystyle \\frac{d}{d x} \\left(- \\log{\\left(x \\right)} + \\sin{\\left(x \\right)}\\right) = \\cos{\\left(x \\right)} - \\frac{1}{x}$"
      ],
      "text/plain": [
       "Eq(Derivative(-log(x) + sin(x), x), cos(x) - 1/x)"
      ]
     },
     "metadata": {},
     "output_type": "display_data"
    },
    {
     "data": {
      "text/latex": [
       "$\\displaystyle \\int \\left(- x^{4} + x + 3\\right)\\, dx = - \\frac{x^{5}}{5} + \\frac{x^{2}}{2} + 3 x$"
      ],
      "text/plain": [
       "Eq(Integral(-x**4 + x + 3, x), -x**5/5 + x**2/2 + 3*x)"
      ]
     },
     "metadata": {},
     "output_type": "display_data"
    },
    {
     "data": {
      "text/latex": [
       "$\\displaystyle \\frac{d}{d x} \\left(- \\frac{\\cos{\\left(x \\right)}}{2 x}\\right) = \\frac{\\sin{\\left(x \\right)}}{2 x} + \\frac{\\cos{\\left(x \\right)}}{2 x^{2}}$"
      ],
      "text/plain": [
       "Eq(Derivative(-cos(x)/(2*x), x), sin(x)/(2*x) + cos(x)/(2*x**2))"
      ]
     },
     "metadata": {},
     "output_type": "display_data"
    },
    {
     "data": {
      "text/latex": [
       "$\\displaystyle \\int \\left(\\sqrt[3]{x} + \\sin{\\left(x \\right)}\\right)\\, dx = \\frac{3 x^{\\frac{4}{3}}}{4} - \\cos{\\left(x \\right)}$"
      ],
      "text/plain": [
       "Eq(Integral(x**(1/3) + sin(x), x), 3*x**(4/3)/4 - cos(x))"
      ]
     },
     "metadata": {},
     "output_type": "display_data"
    },
    {
     "data": {
      "text/latex": [
       "$\\displaystyle \\frac{d}{d x} e^{- 3 x - 2 + \\frac{1}{x^{4}}} = \\left(-3 - \\frac{4}{x^{5}}\\right) e^{- 3 x - 2 + \\frac{1}{x^{4}}}$"
      ],
      "text/plain": [
       "Eq(Derivative(exp(-3*x - 2 + x**(-4)), x), (-3 - 4/x**5)*exp(-3*x - 2 + x**(-4)))"
      ]
     },
     "metadata": {},
     "output_type": "display_data"
    },
    {
     "data": {
      "text/latex": [
       "$\\displaystyle \\int e^{- x} \\tan{\\left(x \\right)}\\, dx = \\int e^{- x} \\tan{\\left(x \\right)}\\, dx$"
      ],
      "text/plain": [
       "Eq(Integral(exp(-x)*tan(x), x), Integral(exp(-x)*tan(x), x))"
      ]
     },
     "metadata": {},
     "output_type": "display_data"
    },
    {
     "data": {
      "text/latex": [
       "$\\displaystyle \\frac{d}{d x} \\left(\\tan{\\left(x \\right)} + \\frac{1}{x^{2}}\\right) = \\tan^{2}{\\left(x \\right)} + 1 - \\frac{2}{x^{3}}$"
      ],
      "text/plain": [
       "Eq(Derivative(tan(x) + x**(-2), x), tan(x)**2 + 1 - 2/x**3)"
      ]
     },
     "metadata": {},
     "output_type": "display_data"
    },
    {
     "data": {
      "text/latex": [
       "$\\displaystyle \\int \\log{\\left(x^{5} + 3 x \\right)}\\, dx = x \\log{\\left(x^{5} + 3 x \\right)} - 5 x - \\frac{\\sqrt{2} \\sqrt[4]{3} \\log{\\left(x^{2} - \\sqrt{2} \\sqrt[4]{3} x + \\sqrt{3} \\right)}}{2} + \\frac{\\sqrt{2} \\sqrt[4]{3} \\log{\\left(x^{2} + \\sqrt{2} \\sqrt[4]{3} x + \\sqrt{3} \\right)}}{2} + \\sqrt{2} \\sqrt[4]{3} \\operatorname{atan}{\\left(\\frac{\\sqrt{2} \\cdot 3^{\\frac{3}{4}} x}{3} - 1 \\right)} + \\sqrt{2} \\sqrt[4]{3} \\operatorname{atan}{\\left(\\frac{\\sqrt{2} \\cdot 3^{\\frac{3}{4}} x}{3} + 1 \\right)}$"
      ],
      "text/plain": [
       "Eq(Integral(log(x**5 + 3*x), x), x*log(x**5 + 3*x) - 5*x - sqrt(2)*3**(1/4)*log(x**2 - sqrt(2)*3**(1/4)*x + sqrt(3))/2 + sqrt(2)*3**(1/4)*log(x**2 + sqrt(2)*3**(1/4)*x + sqrt(3))/2 + sqrt(2)*3**(1/4)*atan(sqrt(2)*3**(3/4)*x/3 - 1) + sqrt(2)*3**(1/4)*atan(sqrt(2)*3**(3/4)*x/3 + 1))"
      ]
     },
     "metadata": {},
     "output_type": "display_data"
    },
    {
     "data": {
      "text/latex": [
       "$\\displaystyle \\frac{d}{d x} \\left(\\sqrt[3]{x} + \\log{\\left(x \\right)}\\right) = \\frac{1}{x} + \\frac{1}{3 x^{\\frac{2}{3}}}$"
      ],
      "text/plain": [
       "Eq(Derivative(x**(1/3) + log(x), x), 1/x + 1/(3*x**(2/3)))"
      ]
     },
     "metadata": {},
     "output_type": "display_data"
    },
    {
     "data": {
      "text/latex": [
       "$\\displaystyle \\int \\left(\\sqrt{x} + x - 1\\right)\\, dx = \\frac{2 x^{\\frac{3}{2}}}{3} + \\frac{x^{2}}{2} - x$"
      ],
      "text/plain": [
       "Eq(Integral(sqrt(x) + x - 1, x), 2*x**(3/2)/3 + x**2/2 - x)"
      ]
     },
     "metadata": {},
     "output_type": "display_data"
    },
    {
     "data": {
      "text/latex": [
       "$\\displaystyle \\frac{d}{d x} \\log{\\left(\\cos{\\left(x \\right)} \\right)} = - \\frac{\\sin{\\left(x \\right)}}{\\cos{\\left(x \\right)}}$"
      ],
      "text/plain": [
       "Eq(Derivative(log(cos(x)), x), -sin(x)/cos(x))"
      ]
     },
     "metadata": {},
     "output_type": "display_data"
    },
    {
     "data": {
      "text/latex": [
       "$\\displaystyle \\int \\left(x^{3} + x + 2\\right)\\, dx = \\frac{x^{4}}{4} + \\frac{x^{2}}{2} + 2 x$"
      ],
      "text/plain": [
       "Eq(Integral(x**3 + x + 2, x), x**4/4 + x**2/2 + 2*x)"
      ]
     },
     "metadata": {},
     "output_type": "display_data"
    },
    {
     "data": {
      "text/latex": [
       "$\\displaystyle \\frac{d}{d x} \\left(\\sqrt[3]{x} + \\log{\\left(x \\right)}\\right) = \\frac{1}{x} + \\frac{1}{3 x^{\\frac{2}{3}}}$"
      ],
      "text/plain": [
       "Eq(Derivative(x**(1/3) + log(x), x), 1/x + 1/(3*x**(2/3)))"
      ]
     },
     "metadata": {},
     "output_type": "display_data"
    },
    {
     "data": {
      "text/latex": [
       "$\\displaystyle \\int \\left(- \\frac{3 x}{x^{2} + 2 x - 5}\\right)\\, dx = - 3 \\left(\\frac{\\sqrt{6}}{12} + \\frac{1}{2}\\right) \\log{\\left(x + 1 + \\sqrt{6} \\right)} - 3 \\left(\\frac{1}{2} - \\frac{\\sqrt{6}}{12}\\right) \\log{\\left(x - \\sqrt{6} + 1 \\right)}$"
      ],
      "text/plain": [
       "Eq(Integral(-3*x/(x**2 + 2*x - 5), x), -3*(sqrt(6)/12 + 1/2)*log(x + 1 + sqrt(6)) - 3*(1/2 - sqrt(6)/12)*log(x - sqrt(6) + 1))"
      ]
     },
     "metadata": {},
     "output_type": "display_data"
    },
    {
     "data": {
      "text/latex": [
       "$\\displaystyle \\frac{d}{d x} \\cos^{4}{\\left(x \\right)} = - 4 \\sin{\\left(x \\right)} \\cos^{3}{\\left(x \\right)}$"
      ],
      "text/plain": [
       "Eq(Derivative(cos(x)**4, x), -4*sin(x)*cos(x)**3)"
      ]
     },
     "metadata": {},
     "output_type": "display_data"
    },
    {
     "data": {
      "text/latex": [
       "$\\displaystyle \\int \\left(\\sin{\\left(x \\right)} + \\cos{\\left(x \\right)}\\right)\\, dx = \\sin{\\left(x \\right)} - \\cos{\\left(x \\right)}$"
      ],
      "text/plain": [
       "Eq(Integral(sin(x) + cos(x), x), sin(x) - cos(x))"
      ]
     },
     "metadata": {},
     "output_type": "display_data"
    },
    {
     "data": {
      "text/latex": [
       "$\\displaystyle \\frac{d}{d x} \\left(- x^{3} + \\tan{\\left(x \\right)}\\right) = - 3 x^{2} + \\tan^{2}{\\left(x \\right)} + 1$"
      ],
      "text/plain": [
       "Eq(Derivative(-x**3 + tan(x), x), -3*x**2 + tan(x)**2 + 1)"
      ]
     },
     "metadata": {},
     "output_type": "display_data"
    },
    {
     "data": {
      "text/latex": [
       "$\\displaystyle \\int \\left(\\sqrt[3]{x} - \\sin{\\left(x \\right)}\\right)\\, dx = \\frac{3 x^{\\frac{4}{3}}}{4} + \\cos{\\left(x \\right)}$"
      ],
      "text/plain": [
       "Eq(Integral(x**(1/3) - sin(x), x), 3*x**(4/3)/4 + cos(x))"
      ]
     },
     "metadata": {},
     "output_type": "display_data"
    },
    {
     "data": {
      "text/latex": [
       "$\\displaystyle \\frac{d}{d x} \\left(\\log{\\left(x \\right)} + \\tan{\\left(x \\right)}\\right) = \\tan^{2}{\\left(x \\right)} + 1 + \\frac{1}{x}$"
      ],
      "text/plain": [
       "Eq(Derivative(log(x) + tan(x), x), tan(x)**2 + 1 + 1/x)"
      ]
     },
     "metadata": {},
     "output_type": "display_data"
    },
    {
     "data": {
      "text/latex": [
       "$\\displaystyle \\int \\frac{\\log{\\left(x \\right)}}{x^{3}}\\, dx = - \\frac{\\log{\\left(x \\right)}}{2 x^{2}} - \\frac{1}{4 x^{2}}$"
      ],
      "text/plain": [
       "Eq(Integral(log(x)/x**3, x), -log(x)/(2*x**2) - 1/(4*x**2))"
      ]
     },
     "metadata": {},
     "output_type": "display_data"
    },
    {
     "data": {
      "text/latex": [
       "$\\displaystyle \\frac{d}{d x} \\frac{1}{x^{2} \\log{\\left(x \\right)}} = - \\frac{2}{x^{3} \\log{\\left(x \\right)}} - \\frac{1}{x^{3} \\log{\\left(x \\right)}^{2}}$"
      ],
      "text/plain": [
       "Eq(Derivative(1/(x**2*log(x)), x), -2/(x**3*log(x)) - 1/(x**3*log(x)**2))"
      ]
     },
     "metadata": {},
     "output_type": "display_data"
    },
    {
     "data": {
      "text/latex": [
       "$\\displaystyle \\int \\sqrt[3]{x}\\, dx = \\frac{3 x^{\\frac{4}{3}}}{4}$"
      ],
      "text/plain": [
       "Eq(Integral(x**(1/3), x), 3*x**(4/3)/4)"
      ]
     },
     "metadata": {},
     "output_type": "display_data"
    },
    {
     "data": {
      "text/latex": [
       "$\\displaystyle \\frac{d}{d x} \\frac{e^{x}}{\\sin{\\left(x \\right)}} = \\frac{e^{x}}{\\sin{\\left(x \\right)}} - \\frac{e^{x} \\cos{\\left(x \\right)}}{\\sin^{2}{\\left(x \\right)}}$"
      ],
      "text/plain": [
       "Eq(Derivative(exp(x)/sin(x), x), exp(x)/sin(x) - exp(x)*cos(x)/sin(x)**2)"
      ]
     },
     "metadata": {},
     "output_type": "display_data"
    },
    {
     "data": {
      "text/latex": [
       "$\\displaystyle \\int \\left(\\sqrt[3]{x} + \\tan{\\left(x \\right)}\\right)\\, dx = \\frac{3 x^{\\frac{4}{3}}}{4} - \\log{\\left(\\cos{\\left(x \\right)} \\right)}$"
      ],
      "text/plain": [
       "Eq(Integral(x**(1/3) + tan(x), x), 3*x**(4/3)/4 - log(cos(x)))"
      ]
     },
     "metadata": {},
     "output_type": "display_data"
    },
    {
     "data": {
      "text/latex": [
       "$\\displaystyle \\frac{d}{d x} \\left(e^{x} + \\tan{\\left(x \\right)}\\right) = e^{x} + \\tan^{2}{\\left(x \\right)} + 1$"
      ],
      "text/plain": [
       "Eq(Derivative(exp(x) + tan(x), x), exp(x) + tan(x)**2 + 1)"
      ]
     },
     "metadata": {},
     "output_type": "display_data"
    },
    {
     "data": {
      "text/latex": [
       "$\\displaystyle \\int \\left(e^{x} + \\sin{\\left(x \\right)}\\right)\\, dx = e^{x} - \\cos{\\left(x \\right)}$"
      ],
      "text/plain": [
       "Eq(Integral(exp(x) + sin(x), x), exp(x) - cos(x))"
      ]
     },
     "metadata": {},
     "output_type": "display_data"
    },
    {
     "data": {
      "text/latex": [
       "$\\displaystyle \\frac{d}{d x} \\sqrt[3]{\\tan{\\left(x \\right)}} = \\frac{\\frac{\\tan^{2}{\\left(x \\right)}}{3} + \\frac{1}{3}}{\\tan^{\\frac{2}{3}}{\\left(x \\right)}}$"
      ],
      "text/plain": [
       "Eq(Derivative(tan(x)**(1/3), x), (tan(x)**2/3 + 1/3)/tan(x)**(2/3))"
      ]
     },
     "metadata": {},
     "output_type": "display_data"
    },
    {
     "data": {
      "text/latex": [
       "$\\displaystyle \\int \\left(x + \\cos{\\left(x \\right)} - 2 - \\frac{1}{x}\\right)\\, dx = \\frac{x^{2}}{2} - 2 x - \\log{\\left(x \\right)} + \\sin{\\left(x \\right)}$"
      ],
      "text/plain": [
       "Eq(Integral(x + cos(x) - 2 - 1/x, x), x**2/2 - 2*x - log(x) + sin(x))"
      ]
     },
     "metadata": {},
     "output_type": "display_data"
    },
    {
     "data": {
      "text/latex": [
       "$\\displaystyle \\frac{d}{d x} x = 1$"
      ],
      "text/plain": [
       "Eq(Derivative(x, x), 1)"
      ]
     },
     "metadata": {},
     "output_type": "display_data"
    },
    {
     "data": {
      "text/latex": [
       "$\\displaystyle \\int \\left(x^{4} - 3 x + 1\\right)\\, dx = \\frac{x^{5}}{5} - \\frac{3 x^{2}}{2} + x$"
      ],
      "text/plain": [
       "Eq(Integral(x**4 - 3*x + 1, x), x**5/5 - 3*x**2/2 + x)"
      ]
     },
     "metadata": {},
     "output_type": "display_data"
    },
    {
     "data": {
      "text/latex": [
       "$\\displaystyle \\frac{d}{d x} \\frac{\\log{\\left(x \\right)}}{\\sqrt{x}} = - \\frac{\\log{\\left(x \\right)}}{2 x^{\\frac{3}{2}}} + \\frac{1}{x^{\\frac{3}{2}}}$"
      ],
      "text/plain": [
       "Eq(Derivative(log(x)/sqrt(x), x), -log(x)/(2*x**(3/2)) + x**(-3/2))"
      ]
     },
     "metadata": {},
     "output_type": "display_data"
    },
    {
     "data": {
      "text/latex": [
       "$\\displaystyle \\int \\left(- \\log{\\left(x \\right)} + \\cos{\\left(x \\right)}\\right)\\, dx = - x \\log{\\left(x \\right)} + x + \\sin{\\left(x \\right)}$"
      ],
      "text/plain": [
       "Eq(Integral(-log(x) + cos(x), x), -x*log(x) + x + sin(x))"
      ]
     },
     "metadata": {},
     "output_type": "display_data"
    },
    {
     "data": {
      "text/latex": [
       "$\\displaystyle \\frac{d}{d x} \\left(x - 7\\right) = 1$"
      ],
      "text/plain": [
       "Eq(Derivative(x - 7, x), 1)"
      ]
     },
     "metadata": {},
     "output_type": "display_data"
    },
    {
     "data": {
      "text/latex": [
       "$\\displaystyle \\int \\left(x + e^{x} + 4\\right)\\, dx = \\frac{x^{2}}{2} + 4 x + e^{x}$"
      ],
      "text/plain": [
       "Eq(Integral(x + exp(x) + 4, x), x**2/2 + 4*x + exp(x))"
      ]
     },
     "metadata": {},
     "output_type": "display_data"
    },
    {
     "data": {
      "text/latex": [
       "$\\displaystyle \\frac{d}{d x} \\left(x^{4} + 4 x\\right) = 4 x^{3} + 4$"
      ],
      "text/plain": [
       "Eq(Derivative(x**4 + 4*x, x), 4*x**3 + 4)"
      ]
     },
     "metadata": {},
     "output_type": "display_data"
    },
    {
     "data": {
      "text/latex": [
       "$\\displaystyle \\int \\frac{\\tan{\\left(x \\right)}}{\\sqrt[3]{x}}\\, dx = \\int \\frac{\\tan{\\left(x \\right)}}{\\sqrt[3]{x}}\\, dx$"
      ],
      "text/plain": [
       "Eq(Integral(tan(x)/x**(1/3), x), Integral(tan(x)/x**(1/3), x))"
      ]
     },
     "metadata": {},
     "output_type": "display_data"
    },
    {
     "data": {
      "text/latex": [
       "$\\displaystyle \\frac{d}{d x} \\left(- 3 \\sqrt{x}\\right) = - \\frac{3}{2 \\sqrt{x}}$"
      ],
      "text/plain": [
       "Eq(Derivative(-3*sqrt(x), x), -3/(2*sqrt(x)))"
      ]
     },
     "metadata": {},
     "output_type": "display_data"
    },
    {
     "data": {
      "text/latex": [
       "$\\displaystyle \\int \\frac{\\cos{\\left(x \\right)}}{x^{2}}\\, dx = - \\operatorname{Si}{\\left(x \\right)} - \\frac{\\cos{\\left(x \\right)}}{x}$"
      ],
      "text/plain": [
       "Eq(Integral(cos(x)/x**2, x), -Si(x) - cos(x)/x)"
      ]
     },
     "metadata": {},
     "output_type": "display_data"
    },
    {
     "data": {
      "text/latex": [
       "$\\displaystyle \\frac{d}{d x} \\frac{e^{x}}{\\tan{\\left(x \\right)}} = \\frac{\\left(- \\tan^{2}{\\left(x \\right)} - 1\\right) e^{x}}{\\tan^{2}{\\left(x \\right)}} + \\frac{e^{x}}{\\tan{\\left(x \\right)}}$"
      ],
      "text/plain": [
       "Eq(Derivative(exp(x)/tan(x), x), (-tan(x)**2 - 1)*exp(x)/tan(x)**2 + exp(x)/tan(x))"
      ]
     },
     "metadata": {},
     "output_type": "display_data"
    },
    {
     "data": {
      "text/latex": [
       "$\\displaystyle \\int \\left(- 4 x + \\sin{\\left(x \\right)}\\right)\\, dx = - 2 x^{2} - \\cos{\\left(x \\right)}$"
      ],
      "text/plain": [
       "Eq(Integral(-4*x + sin(x), x), -2*x**2 - cos(x))"
      ]
     },
     "metadata": {},
     "output_type": "display_data"
    },
    {
     "data": {
      "text/latex": [
       "$\\displaystyle \\frac{d}{d x} e^{\\sqrt{x}} = \\frac{e^{\\sqrt{x}}}{2 \\sqrt{x}}$"
      ],
      "text/plain": [
       "Eq(Derivative(exp(sqrt(x)), x), exp(sqrt(x))/(2*sqrt(x)))"
      ]
     },
     "metadata": {},
     "output_type": "display_data"
    },
    {
     "data": {
      "text/latex": [
       "$\\displaystyle \\int \\left(- e^{x} + \\log{\\left(x \\right)}\\right)\\, dx = x \\log{\\left(x \\right)} - x - e^{x}$"
      ],
      "text/plain": [
       "Eq(Integral(-exp(x) + log(x), x), x*log(x) - x - exp(x))"
      ]
     },
     "metadata": {},
     "output_type": "display_data"
    },
    {
     "data": {
      "text/latex": [
       "$\\displaystyle \\frac{d}{d x} \\left(x + \\sin{\\left(x \\right)} - 4\\right) = \\cos{\\left(x \\right)} + 1$"
      ],
      "text/plain": [
       "Eq(Derivative(x + sin(x) - 4, x), cos(x) + 1)"
      ]
     },
     "metadata": {},
     "output_type": "display_data"
    },
    {
     "data": {
      "text/latex": [
       "$\\displaystyle \\int \\left(x + 2 + \\frac{1}{x^{4}}\\right)\\, dx = \\frac{x^{2}}{2} + 2 x - \\frac{1}{3 x^{3}}$"
      ],
      "text/plain": [
       "Eq(Integral(x + 2 + x**(-4), x), x**2/2 + 2*x - 1/(3*x**3))"
      ]
     },
     "metadata": {},
     "output_type": "display_data"
    },
    {
     "data": {
      "text/latex": [
       "$\\displaystyle \\frac{d}{d x} \\left(- \\sin{\\left(x \\right)} + \\cos{\\left(x \\right)}\\right) = - \\sin{\\left(x \\right)} - \\cos{\\left(x \\right)}$"
      ],
      "text/plain": [
       "Eq(Derivative(-sin(x) + cos(x), x), -sin(x) - cos(x))"
      ]
     },
     "metadata": {},
     "output_type": "display_data"
    },
    {
     "data": {
      "text/latex": [
       "$\\displaystyle \\int \\left(- \\frac{x - 1}{x}\\right)\\, dx = - x + \\log{\\left(x \\right)}$"
      ],
      "text/plain": [
       "Eq(Integral(-(x - 1)/x, x), -x + log(x))"
      ]
     },
     "metadata": {},
     "output_type": "display_data"
    },
    {
     "data": {
      "text/latex": [
       "$\\displaystyle \\frac{d}{d x} \\left(- 2 x + \\cos{\\left(x \\right)}\\right) = - \\sin{\\left(x \\right)} - 2$"
      ],
      "text/plain": [
       "Eq(Derivative(-2*x + cos(x), x), -sin(x) - 2)"
      ]
     },
     "metadata": {},
     "output_type": "display_data"
    },
    {
     "data": {
      "text/latex": [
       "$\\displaystyle \\int \\frac{\\log{\\left(x \\right)}}{\\sin{\\left(x \\right)}}\\, dx = \\int \\frac{\\log{\\left(x \\right)}}{\\sin{\\left(x \\right)}}\\, dx$"
      ],
      "text/plain": [
       "Eq(Integral(log(x)/sin(x), x), Integral(log(x)/sin(x), x))"
      ]
     },
     "metadata": {},
     "output_type": "display_data"
    },
    {
     "data": {
      "text/latex": [
       "$\\displaystyle \\frac{d}{d x} \\left(\\sqrt[3]{x} + x^{3}\\right) = 3 x^{2} + \\frac{1}{3 x^{\\frac{2}{3}}}$"
      ],
      "text/plain": [
       "Eq(Derivative(x**(1/3) + x**3, x), 3*x**2 + 1/(3*x**(2/3)))"
      ]
     },
     "metadata": {},
     "output_type": "display_data"
    },
    {
     "data": {
      "text/latex": [
       "$\\displaystyle \\int \\sin{\\left(\\sqrt{x} \\right)}\\, dx = - 2 \\sqrt{x} \\cos{\\left(\\sqrt{x} \\right)} + 2 \\sin{\\left(\\sqrt{x} \\right)}$"
      ],
      "text/plain": [
       "Eq(Integral(sin(sqrt(x)), x), -2*sqrt(x)*cos(sqrt(x)) + 2*sin(sqrt(x)))"
      ]
     },
     "metadata": {},
     "output_type": "display_data"
    },
    {
     "data": {
      "text/latex": [
       "$\\displaystyle \\frac{d}{d x} \\left(2 - 3 x\\right) = -3$"
      ],
      "text/plain": [
       "Eq(Derivative(2 - 3*x, x), -3)"
      ]
     },
     "metadata": {},
     "output_type": "display_data"
    },
    {
     "data": {
      "text/latex": [
       "$\\displaystyle \\int \\left(x^{4} - 5 x\\right)\\, dx = \\frac{x^{5}}{5} - \\frac{5 x^{2}}{2}$"
      ],
      "text/plain": [
       "Eq(Integral(x**4 - 5*x, x), x**5/5 - 5*x**2/2)"
      ]
     },
     "metadata": {},
     "output_type": "display_data"
    },
    {
     "data": {
      "text/latex": [
       "$\\displaystyle \\frac{d}{d x} \\cos{\\left(- x^{4} + 2 x + 4 \\right)} = - \\left(2 - 4 x^{3}\\right) \\sin{\\left(- x^{4} + 2 x + 4 \\right)}$"
      ],
      "text/plain": [
       "Eq(Derivative(cos(-x**4 + 2*x + 4), x), -(2 - 4*x**3)*sin(-x**4 + 2*x + 4))"
      ]
     },
     "metadata": {},
     "output_type": "display_data"
    },
    {
     "data": {
      "text/latex": [
       "$\\displaystyle \\int \\left(x + 3\\right) e^{- x}\\, dx = \\left(- x - 4\\right) e^{- x}$"
      ],
      "text/plain": [
       "Eq(Integral((x + 3)*exp(-x), x), (-x - 4)*exp(-x))"
      ]
     },
     "metadata": {},
     "output_type": "display_data"
    },
    {
     "data": {
      "text/latex": [
       "$\\displaystyle \\frac{d}{d x} 2 \\tan{\\left(x \\right)} = 2 \\tan^{2}{\\left(x \\right)} + 2$"
      ],
      "text/plain": [
       "Eq(Derivative(2*tan(x), x), 2*tan(x)**2 + 2)"
      ]
     },
     "metadata": {},
     "output_type": "display_data"
    },
    {
     "data": {
      "text/latex": [
       "$\\displaystyle \\int \\left(x - \\sin{\\left(x \\right)}\\right)\\, dx = \\frac{x^{2}}{2} + \\cos{\\left(x \\right)}$"
      ],
      "text/plain": [
       "Eq(Integral(x - sin(x), x), x**2/2 + cos(x))"
      ]
     },
     "metadata": {},
     "output_type": "display_data"
    },
    {
     "data": {
      "text/latex": [
       "$\\displaystyle \\frac{d}{d x} \\frac{\\sqrt{x}}{\\sin{\\left(x \\right)}} = - \\frac{\\sqrt{x} \\cos{\\left(x \\right)}}{\\sin^{2}{\\left(x \\right)}} + \\frac{1}{2 \\sqrt{x} \\sin{\\left(x \\right)}}$"
      ],
      "text/plain": [
       "Eq(Derivative(sqrt(x)/sin(x), x), -sqrt(x)*cos(x)/sin(x)**2 + 1/(2*sqrt(x)*sin(x)))"
      ]
     },
     "metadata": {},
     "output_type": "display_data"
    },
    {
     "data": {
      "text/latex": [
       "$\\displaystyle \\int \\left(\\sqrt[3]{x} + \\log{\\left(x \\right)}\\right)\\, dx = \\frac{3 x^{\\frac{4}{3}}}{4} + x \\log{\\left(x \\right)} - x$"
      ],
      "text/plain": [
       "Eq(Integral(x**(1/3) + log(x), x), 3*x**(4/3)/4 + x*log(x) - x)"
      ]
     },
     "metadata": {},
     "output_type": "display_data"
    },
    {
     "data": {
      "text/latex": [
       "$\\displaystyle \\frac{d}{d x} \\left(- 3 x\\right) = -3$"
      ],
      "text/plain": [
       "Eq(Derivative(-3*x, x), -3)"
      ]
     },
     "metadata": {},
     "output_type": "display_data"
    },
    {
     "data": {
      "text/latex": [
       "$\\displaystyle \\int \\sqrt[6]{x}\\, dx = \\frac{6 x^{\\frac{7}{6}}}{7}$"
      ],
      "text/plain": [
       "Eq(Integral(x**(1/6), x), 6*x**(7/6)/7)"
      ]
     },
     "metadata": {},
     "output_type": "display_data"
    },
    {
     "data": {
      "text/latex": [
       "$\\displaystyle \\frac{d}{d x} \\left(\\sqrt[3]{x} + x + 2\\right) = 1 + \\frac{1}{3 x^{\\frac{2}{3}}}$"
      ],
      "text/plain": [
       "Eq(Derivative(x**(1/3) + x + 2, x), 1 + 1/(3*x**(2/3)))"
      ]
     },
     "metadata": {},
     "output_type": "display_data"
    },
    {
     "data": {
      "text/latex": [
       "$\\displaystyle \\int \\frac{\\tan{\\left(x \\right)}}{x^{4} + 2 x - 3}\\, dx = \\int \\frac{\\tan{\\left(x \\right)}}{\\left(x - 1\\right) \\left(x^{3} + x^{2} + x + 3\\right)}\\, dx$"
      ],
      "text/plain": [
       "Eq(Integral(tan(x)/(x**4 + 2*x - 3), x), Integral(tan(x)/((x - 1)*(x**3 + x**2 + x + 3)), x))"
      ]
     },
     "metadata": {},
     "output_type": "display_data"
    },
    {
     "data": {
      "text/latex": [
       "$\\displaystyle \\frac{d}{d x} \\left(\\cos{\\left(x \\right)} + \\tan{\\left(x \\right)}\\right) = - \\sin{\\left(x \\right)} + \\tan^{2}{\\left(x \\right)} + 1$"
      ],
      "text/plain": [
       "Eq(Derivative(cos(x) + tan(x), x), -sin(x) + tan(x)**2 + 1)"
      ]
     },
     "metadata": {},
     "output_type": "display_data"
    },
    {
     "data": {
      "text/latex": [
       "$\\displaystyle \\int 1\\, dx = x$"
      ],
      "text/plain": [
       "Eq(Integral(1, x), x)"
      ]
     },
     "metadata": {},
     "output_type": "display_data"
    },
    {
     "data": {
      "text/latex": [
       "$\\displaystyle \\frac{d}{d x} \\left(- \\tan{\\left(x \\right)}\\right) = - \\tan^{2}{\\left(x \\right)} - 1$"
      ],
      "text/plain": [
       "Eq(Derivative(-tan(x), x), -tan(x)**2 - 1)"
      ]
     },
     "metadata": {},
     "output_type": "display_data"
    },
    {
     "data": {
      "text/latex": [
       "$\\displaystyle \\int \\sqrt[9]{x}\\, dx = \\frac{9 x^{\\frac{10}{9}}}{10}$"
      ],
      "text/plain": [
       "Eq(Integral(x**(1/9), x), 9*x**(10/9)/10)"
      ]
     },
     "metadata": {},
     "output_type": "display_data"
    },
    {
     "data": {
      "text/latex": [
       "$\\displaystyle \\frac{d}{d x} \\left(\\sin^{5}{\\left(x \\right)} - \\sin{\\left(x \\right)} - 5\\right) = 5 \\sin^{4}{\\left(x \\right)} \\cos{\\left(x \\right)} - \\cos{\\left(x \\right)}$"
      ],
      "text/plain": [
       "Eq(Derivative(sin(x)**5 - sin(x) - 5, x), 5*sin(x)**4*cos(x) - cos(x))"
      ]
     },
     "metadata": {},
     "output_type": "display_data"
    },
    {
     "data": {
      "text/latex": [
       "$\\displaystyle \\int \\left(- \\frac{x}{\\tan{\\left(x \\right)}}\\right)\\, dx = - \\int \\frac{x}{\\tan{\\left(x \\right)}}\\, dx$"
      ],
      "text/plain": [
       "Eq(Integral(-x/tan(x), x), -Integral(x/tan(x), x))"
      ]
     },
     "metadata": {},
     "output_type": "display_data"
    },
    {
     "data": {
      "text/latex": [
       "$\\displaystyle \\frac{d}{d x} \\left(\\sqrt[3]{x} + 2\\right) = \\frac{1}{3 x^{\\frac{2}{3}}}$"
      ],
      "text/plain": [
       "Eq(Derivative(x**(1/3) + 2, x), 1/(3*x**(2/3)))"
      ]
     },
     "metadata": {},
     "output_type": "display_data"
    },
    {
     "data": {
      "text/latex": [
       "$\\displaystyle \\int \\left(\\sin{\\left(x \\right)} - \\cos{\\left(x \\right)}\\right)\\, dx = - \\sin{\\left(x \\right)} - \\cos{\\left(x \\right)}$"
      ],
      "text/plain": [
       "Eq(Integral(sin(x) - cos(x), x), -sin(x) - cos(x))"
      ]
     },
     "metadata": {},
     "output_type": "display_data"
    },
    {
     "data": {
      "text/latex": [
       "$\\displaystyle \\frac{d}{d x} \\left(- 4 e^{x}\\right) = - 4 e^{x}$"
      ],
      "text/plain": [
       "Eq(Derivative(-4*exp(x), x), -4*exp(x))"
      ]
     },
     "metadata": {},
     "output_type": "display_data"
    },
    {
     "data": {
      "text/latex": [
       "$\\displaystyle \\int \\left(x^{4} + 3 x - 8\\right)\\, dx = \\frac{x^{5}}{5} + \\frac{3 x^{2}}{2} - 8 x$"
      ],
      "text/plain": [
       "Eq(Integral(x**4 + 3*x - 8, x), x**5/5 + 3*x**2/2 - 8*x)"
      ]
     },
     "metadata": {},
     "output_type": "display_data"
    },
    {
     "data": {
      "text/latex": [
       "$\\displaystyle \\frac{d}{d x} \\left(- 4 \\log{\\left(x \\right)}\\right) = - \\frac{4}{x}$"
      ],
      "text/plain": [
       "Eq(Derivative(-4*log(x), x), -4/x)"
      ]
     },
     "metadata": {},
     "output_type": "display_data"
    },
    {
     "data": {
      "text/latex": [
       "$\\displaystyle \\int \\left(\\sqrt[3]{x} + \\log{\\left(x \\right)}\\right)\\, dx = \\frac{3 x^{\\frac{4}{3}}}{4} + x \\log{\\left(x \\right)} - x$"
      ],
      "text/plain": [
       "Eq(Integral(x**(1/3) + log(x), x), 3*x**(4/3)/4 + x*log(x) - x)"
      ]
     },
     "metadata": {},
     "output_type": "display_data"
    },
    {
     "data": {
      "text/latex": [
       "$\\displaystyle \\frac{d}{d x} \\left(e^{x} - 2\\right) = e^{x}$"
      ],
      "text/plain": [
       "Eq(Derivative(exp(x) - 2, x), exp(x))"
      ]
     },
     "metadata": {},
     "output_type": "display_data"
    },
    {
     "data": {
      "text/latex": [
       "$\\displaystyle \\int \\left(x^{2} + 3 x - 4 + \\frac{1}{x^{4}}\\right)\\, dx = \\frac{x^{3}}{3} + \\frac{3 x^{2}}{2} - 4 x - \\frac{1}{3 x^{3}}$"
      ],
      "text/plain": [
       "Eq(Integral(x**2 + 3*x - 4 + x**(-4), x), x**3/3 + 3*x**2/2 - 4*x - 1/(3*x**3))"
      ]
     },
     "metadata": {},
     "output_type": "display_data"
    },
    {
     "data": {
      "text/latex": [
       "$\\displaystyle \\frac{d}{d x} 2 x^{4} = 8 x^{3}$"
      ],
      "text/plain": [
       "Eq(Derivative(2*x**4, x), 8*x**3)"
      ]
     },
     "metadata": {},
     "output_type": "display_data"
    },
    {
     "data": {
      "text/latex": [
       "$\\displaystyle \\int \\sqrt[3]{e^{x}}\\, dx = 3 \\sqrt[3]{e^{x}}$"
      ],
      "text/plain": [
       "Eq(Integral(exp(x)**(1/3), x), 3*exp(x)**(1/3))"
      ]
     },
     "metadata": {},
     "output_type": "display_data"
    },
    {
     "data": {
      "text/latex": [
       "$\\displaystyle \\frac{d}{d x} e^{- x} \\cos{\\left(x \\right)} = - e^{- x} \\sin{\\left(x \\right)} - e^{- x} \\cos{\\left(x \\right)}$"
      ],
      "text/plain": [
       "Eq(Derivative(exp(-x)*cos(x), x), -exp(-x)*sin(x) - exp(-x)*cos(x))"
      ]
     },
     "metadata": {},
     "output_type": "display_data"
    },
    {
     "data": {
      "text/latex": [
       "$\\displaystyle \\int \\left(e^{x} + \\log{\\left(x \\right)}\\right)\\, dx = x \\log{\\left(x \\right)} - x + e^{x}$"
      ],
      "text/plain": [
       "Eq(Integral(exp(x) + log(x), x), x*log(x) - x + exp(x))"
      ]
     },
     "metadata": {},
     "output_type": "display_data"
    },
    {
     "data": {
      "text/latex": [
       "$\\displaystyle \\frac{d}{d x} \\left(2 \\log{\\left(x \\right)} - 2 + \\frac{1}{\\log{\\left(x \\right)}^{4}}\\right) = \\frac{2}{x} - \\frac{4}{x \\log{\\left(x \\right)}^{5}}$"
      ],
      "text/plain": [
       "Eq(Derivative(2*log(x) - 2 + log(x)**(-4), x), 2/x - 4/(x*log(x)**5))"
      ]
     },
     "metadata": {},
     "output_type": "display_data"
    },
    {
     "data": {
      "text/latex": [
       "$\\displaystyle \\int \\left(\\sqrt[3]{x} + \\frac{1}{x^{4}}\\right)\\, dx = \\frac{3 x^{\\frac{4}{3}}}{4} - \\frac{1}{3 x^{3}}$"
      ],
      "text/plain": [
       "Eq(Integral(x**(1/3) + x**(-4), x), 3*x**(4/3)/4 - 1/(3*x**3))"
      ]
     },
     "metadata": {},
     "output_type": "display_data"
    },
    {
     "data": {
      "text/latex": [
       "$\\displaystyle \\frac{d}{d x} \\frac{3 x + 3}{\\cos{\\left(x \\right)}} = \\frac{\\left(3 x + 3\\right) \\sin{\\left(x \\right)}}{\\cos^{2}{\\left(x \\right)}} + \\frac{3}{\\cos{\\left(x \\right)}}$"
      ],
      "text/plain": [
       "Eq(Derivative((3*x + 3)/cos(x), x), (3*x + 3)*sin(x)/cos(x)**2 + 3/cos(x))"
      ]
     },
     "metadata": {},
     "output_type": "display_data"
    },
    {
     "data": {
      "text/latex": [
       "$\\displaystyle \\int \\left(x^{3} + 6 x + 1\\right)\\, dx = \\frac{x^{4}}{4} + 3 x^{2} + x$"
      ],
      "text/plain": [
       "Eq(Integral(x**3 + 6*x + 1, x), x**4/4 + 3*x**2 + x)"
      ]
     },
     "metadata": {},
     "output_type": "display_data"
    },
    {
     "data": {
      "text/latex": [
       "$\\displaystyle \\frac{d}{d x} \\sqrt{\\cos{\\left(x \\right)}} = - \\frac{\\sin{\\left(x \\right)}}{2 \\sqrt{\\cos{\\left(x \\right)}}}$"
      ],
      "text/plain": [
       "Eq(Derivative(sqrt(cos(x)), x), -sin(x)/(2*sqrt(cos(x))))"
      ]
     },
     "metadata": {},
     "output_type": "display_data"
    },
    {
     "data": {
      "text/latex": [
       "$\\displaystyle \\int \\left(\\sqrt[3]{x} - \\log{\\left(x \\right)}\\right)\\, dx = \\frac{3 x^{\\frac{4}{3}}}{4} - x \\log{\\left(x \\right)} + x$"
      ],
      "text/plain": [
       "Eq(Integral(x**(1/3) - log(x), x), 3*x**(4/3)/4 - x*log(x) + x)"
      ]
     },
     "metadata": {},
     "output_type": "display_data"
    },
    {
     "data": {
      "text/latex": [
       "$\\displaystyle \\frac{d}{d x} \\cos{\\left(\\tan{\\left(x \\right)} \\right)} = - \\left(\\tan^{2}{\\left(x \\right)} + 1\\right) \\sin{\\left(\\tan{\\left(x \\right)} \\right)}$"
      ],
      "text/plain": [
       "Eq(Derivative(cos(tan(x)), x), -(tan(x)**2 + 1)*sin(tan(x)))"
      ]
     },
     "metadata": {},
     "output_type": "display_data"
    },
    {
     "data": {
      "text/latex": [
       "$\\displaystyle \\int \\left(x - \\tan{\\left(x \\right)} - 4\\right)\\, dx = \\frac{x^{2}}{2} - 4 x + \\log{\\left(\\cos{\\left(x \\right)} \\right)}$"
      ],
      "text/plain": [
       "Eq(Integral(x - tan(x) - 4, x), x**2/2 - 4*x + log(cos(x)))"
      ]
     },
     "metadata": {},
     "output_type": "display_data"
    },
    {
     "data": {
      "text/latex": [
       "$\\displaystyle \\frac{d}{d x} \\left(3 x + 4 + \\frac{1}{x^{4}}\\right) = 3 - \\frac{4}{x^{5}}$"
      ],
      "text/plain": [
       "Eq(Derivative(3*x + 4 + x**(-4), x), 3 - 4/x**5)"
      ]
     },
     "metadata": {},
     "output_type": "display_data"
    },
    {
     "data": {
      "text/latex": [
       "$\\displaystyle \\int \\left(- 4 \\tan{\\left(x \\right)}\\right)\\, dx = 4 \\log{\\left(\\cos{\\left(x \\right)} \\right)}$"
      ],
      "text/plain": [
       "Eq(Integral(-4*tan(x), x), 4*log(cos(x)))"
      ]
     },
     "metadata": {},
     "output_type": "display_data"
    },
    {
     "data": {
      "text/latex": [
       "$\\displaystyle \\frac{d}{d x} e^{\\cos{\\left(x \\right)}} = - e^{\\cos{\\left(x \\right)}} \\sin{\\left(x \\right)}$"
      ],
      "text/plain": [
       "Eq(Derivative(exp(cos(x)), x), -exp(cos(x))*sin(x))"
      ]
     },
     "metadata": {},
     "output_type": "display_data"
    },
    {
     "data": {
      "text/latex": [
       "$\\displaystyle \\int \\frac{\\cos{\\left(x \\right)}}{\\log{\\left(x \\right)}}\\, dx = \\int \\frac{\\cos{\\left(x \\right)}}{\\log{\\left(x \\right)}}\\, dx$"
      ],
      "text/plain": [
       "Eq(Integral(cos(x)/log(x), x), Integral(cos(x)/log(x), x))"
      ]
     },
     "metadata": {},
     "output_type": "display_data"
    },
    {
     "data": {
      "text/latex": [
       "$\\displaystyle \\frac{d}{d x} \\left(\\tan^{2}{\\left(x \\right)} - 2 \\tan{\\left(x \\right)} + 3\\right) = \\left(2 \\tan^{2}{\\left(x \\right)} + 2\\right) \\tan{\\left(x \\right)} - 2 \\tan^{2}{\\left(x \\right)} - 2$"
      ],
      "text/plain": [
       "Eq(Derivative(tan(x)**2 - 2*tan(x) + 3, x), (2*tan(x)**2 + 2)*tan(x) - 2*tan(x)**2 - 2)"
      ]
     },
     "metadata": {},
     "output_type": "display_data"
    },
    {
     "data": {
      "text/latex": [
       "$\\displaystyle \\int \\frac{2 x + 4}{3 x - 3 + \\frac{1}{x^{4}}}\\, dx = \\frac{2 x}{3} + \\operatorname{RootSum} {\\left(1718253 t^{5} - 3436506 t^{4} + 3175200 t^{3} - 931392 t^{2} + 112896 t - 4576, \\left( t \\mapsto t \\log{\\left(\\frac{169468098012171 t^{4}}{1168487199602} - \\frac{155293666573689 t^{3}}{584243599801} + \\frac{131293910785716 t^{2}}{584243599801} - \\frac{49912287765495 t}{1168487199602} + x + \\frac{1628310235846}{584243599801} \\right)} \\right)\\right)}$"
      ],
      "text/plain": [
       "Eq(Integral((2*x + 4)/(3*x - 3 + x**(-4)), x), 2*x/3 + RootSum(1718253*_t**5 - 3436506*_t**4 + 3175200*_t**3 - 931392*_t**2 + 112896*_t - 4576, Lambda(_t, _t*log(169468098012171*_t**4/1168487199602 - 155293666573689*_t**3/584243599801 + 131293910785716*_t**2/584243599801 - 49912287765495*_t/1168487199602 + x + 1628310235846/584243599801))))"
      ]
     },
     "metadata": {},
     "output_type": "display_data"
    },
    {
     "data": {
      "text/latex": [
       "$\\displaystyle \\frac{d}{d x} \\sin{\\left(x - 1 \\right)} = \\cos{\\left(x - 1 \\right)}$"
      ],
      "text/plain": [
       "Eq(Derivative(sin(x - 1), x), cos(x - 1))"
      ]
     },
     "metadata": {},
     "output_type": "display_data"
    },
    {
     "data": {
      "text/latex": [
       "$\\displaystyle \\int \\sin{\\left(\\log{\\left(x \\right)} \\right)}\\, dx = \\frac{x \\sin{\\left(\\log{\\left(x \\right)} \\right)}}{2} - \\frac{x \\cos{\\left(\\log{\\left(x \\right)} \\right)}}{2}$"
      ],
      "text/plain": [
       "Eq(Integral(sin(log(x)), x), x*sin(log(x))/2 - x*cos(log(x))/2)"
      ]
     },
     "metadata": {},
     "output_type": "display_data"
    },
    {
     "data": {
      "text/latex": [
       "$\\displaystyle \\frac{d}{d x} \\left(e^{x} + \\log{\\left(x \\right)}\\right) = e^{x} + \\frac{1}{x}$"
      ],
      "text/plain": [
       "Eq(Derivative(exp(x) + log(x), x), exp(x) + 1/x)"
      ]
     },
     "metadata": {},
     "output_type": "display_data"
    },
    {
     "data": {
      "text/latex": [
       "$\\displaystyle \\int \\left(- 2 \\log{\\left(x \\right)}\\right)\\, dx = - 2 x \\log{\\left(x \\right)} + 2 x$"
      ],
      "text/plain": [
       "Eq(Integral(-2*log(x), x), -2*x*log(x) + 2*x)"
      ]
     },
     "metadata": {},
     "output_type": "display_data"
    },
    {
     "data": {
      "text/latex": [
       "$\\displaystyle \\frac{d}{d x} \\frac{\\sin{\\left(x \\right)}}{\\log{\\left(x \\right)}} = \\frac{\\cos{\\left(x \\right)}}{\\log{\\left(x \\right)}} - \\frac{\\sin{\\left(x \\right)}}{x \\log{\\left(x \\right)}^{2}}$"
      ],
      "text/plain": [
       "Eq(Derivative(sin(x)/log(x), x), cos(x)/log(x) - sin(x)/(x*log(x)**2))"
      ]
     },
     "metadata": {},
     "output_type": "display_data"
    },
    {
     "data": {
      "text/latex": [
       "$\\displaystyle \\int 0\\, dx = 0$"
      ],
      "text/plain": [
       "Eq(Integral(0, x), 0)"
      ]
     },
     "metadata": {},
     "output_type": "display_data"
    },
    {
     "data": {
      "text/latex": [
       "$\\displaystyle \\frac{d}{d x} \\left(e^{x} + \\cos{\\left(x \\right)}\\right) = e^{x} - \\sin{\\left(x \\right)}$"
      ],
      "text/plain": [
       "Eq(Derivative(exp(x) + cos(x), x), exp(x) - sin(x))"
      ]
     },
     "metadata": {},
     "output_type": "display_data"
    },
    {
     "data": {
      "text/latex": [
       "$\\displaystyle \\int \\frac{\\sin{\\left(x \\right)}}{\\log{\\left(x \\right)}}\\, dx = \\int \\frac{\\sin{\\left(x \\right)}}{\\log{\\left(x \\right)}}\\, dx$"
      ],
      "text/plain": [
       "Eq(Integral(sin(x)/log(x), x), Integral(sin(x)/log(x), x))"
      ]
     },
     "metadata": {},
     "output_type": "display_data"
    },
    {
     "data": {
      "text/latex": [
       "$\\displaystyle \\frac{d}{d x} \\frac{x^{3}}{x + 3} = - \\frac{x^{3}}{\\left(x + 3\\right)^{2}} + \\frac{3 x^{2}}{x + 3}$"
      ],
      "text/plain": [
       "Eq(Derivative(x**3/(x + 3), x), -x**3/(x + 3)**2 + 3*x**2/(x + 3))"
      ]
     },
     "metadata": {},
     "output_type": "display_data"
    },
    {
     "data": {
      "text/latex": [
       "$\\displaystyle \\int \\left(- x^{2} - 3 x + \\tan{\\left(x \\right)} - 3\\right)\\, dx = - \\frac{x^{3}}{3} - \\frac{3 x^{2}}{2} - 3 x - \\log{\\left(\\cos{\\left(x \\right)} \\right)}$"
      ],
      "text/plain": [
       "Eq(Integral(-x**2 - 3*x + tan(x) - 3, x), -x**3/3 - 3*x**2/2 - 3*x - log(cos(x)))"
      ]
     },
     "metadata": {},
     "output_type": "display_data"
    },
    {
     "data": {
      "text/latex": [
       "$\\displaystyle \\frac{d}{d x} \\sqrt[3]{\\tan{\\left(x \\right)}} = \\frac{\\frac{\\tan^{2}{\\left(x \\right)}}{3} + \\frac{1}{3}}{\\tan^{\\frac{2}{3}}{\\left(x \\right)}}$"
      ],
      "text/plain": [
       "Eq(Derivative(tan(x)**(1/3), x), (tan(x)**2/3 + 1/3)/tan(x)**(2/3))"
      ]
     },
     "metadata": {},
     "output_type": "display_data"
    },
    {
     "data": {
      "text/latex": [
       "$\\displaystyle \\int \\log{\\left(\\cos{\\left(x \\right)} \\right)}\\, dx = \\int \\log{\\left(\\cos{\\left(x \\right)} \\right)}\\, dx$"
      ],
      "text/plain": [
       "Eq(Integral(log(cos(x)), x), Integral(log(cos(x)), x))"
      ]
     },
     "metadata": {},
     "output_type": "display_data"
    },
    {
     "data": {
      "text/latex": [
       "$\\displaystyle \\frac{d}{d x} \\cos{\\left(2 x \\right)} = - 2 \\sin{\\left(2 x \\right)}$"
      ],
      "text/plain": [
       "Eq(Derivative(cos(2*x), x), -2*sin(2*x))"
      ]
     },
     "metadata": {},
     "output_type": "display_data"
    },
    {
     "data": {
      "text/latex": [
       "$\\displaystyle \\int \\left(x + 4 + \\frac{1}{x^{3}}\\right)\\, dx = \\frac{x^{2}}{2} + 4 x - \\frac{1}{2 x^{2}}$"
      ],
      "text/plain": [
       "Eq(Integral(x + 4 + x**(-3), x), x**2/2 + 4*x - 1/(2*x**2))"
      ]
     },
     "metadata": {},
     "output_type": "display_data"
    },
    {
     "data": {
      "text/latex": [
       "$\\displaystyle \\frac{d}{d x} \\sin{\\left(2 x - 4 + \\frac{1}{x^{2}} \\right)} = \\left(2 - \\frac{2}{x^{3}}\\right) \\cos{\\left(2 x - 4 + \\frac{1}{x^{2}} \\right)}$"
      ],
      "text/plain": [
       "Eq(Derivative(sin(2*x - 4 + x**(-2)), x), (2 - 2/x**3)*cos(2*x - 4 + x**(-2)))"
      ]
     },
     "metadata": {},
     "output_type": "display_data"
    },
    {
     "data": {
      "text/latex": [
       "$\\displaystyle \\int \\left(\\log{\\left(x \\right)} + \\sin{\\left(x \\right)}\\right)\\, dx = x \\log{\\left(x \\right)} - x - \\cos{\\left(x \\right)}$"
      ],
      "text/plain": [
       "Eq(Integral(log(x) + sin(x), x), x*log(x) - x - cos(x))"
      ]
     },
     "metadata": {},
     "output_type": "display_data"
    },
    {
     "data": {
      "text/latex": [
       "$\\displaystyle \\frac{d}{d x} \\log{\\left(\\sqrt[3]{x} \\right)} = \\frac{1}{3 x}$"
      ],
      "text/plain": [
       "Eq(Derivative(log(x**(1/3)), x), 1/(3*x))"
      ]
     },
     "metadata": {},
     "output_type": "display_data"
    },
    {
     "data": {
      "text/latex": [
       "$\\displaystyle \\int \\left(\\log{\\left(x \\right)} + \\cos{\\left(x \\right)}\\right)\\, dx = x \\log{\\left(x \\right)} - x + \\sin{\\left(x \\right)}$"
      ],
      "text/plain": [
       "Eq(Integral(log(x) + cos(x), x), x*log(x) - x + sin(x))"
      ]
     },
     "metadata": {},
     "output_type": "display_data"
    },
    {
     "data": {
      "text/latex": [
       "$\\displaystyle \\frac{d}{d x} \\frac{\\cos{\\left(x \\right)}}{\\sqrt[3]{x}} = - \\frac{\\sin{\\left(x \\right)}}{\\sqrt[3]{x}} - \\frac{\\cos{\\left(x \\right)}}{3 x^{\\frac{4}{3}}}$"
      ],
      "text/plain": [
       "Eq(Derivative(cos(x)/x**(1/3), x), -sin(x)/x**(1/3) - cos(x)/(3*x**(4/3)))"
      ]
     },
     "metadata": {},
     "output_type": "display_data"
    },
    {
     "data": {
      "text/latex": [
       "$\\displaystyle \\int \\left(\\sqrt[3]{x} + \\log{\\left(x \\right)}\\right)\\, dx = \\frac{3 x^{\\frac{4}{3}}}{4} + x \\log{\\left(x \\right)} - x$"
      ],
      "text/plain": [
       "Eq(Integral(x**(1/3) + log(x), x), 3*x**(4/3)/4 + x*log(x) - x)"
      ]
     },
     "metadata": {},
     "output_type": "display_data"
    },
    {
     "data": {
      "text/latex": [
       "$\\displaystyle \\frac{d}{d x} \\frac{e^{x}}{\\sqrt[3]{x}} = \\frac{e^{x}}{\\sqrt[3]{x}} - \\frac{e^{x}}{3 x^{\\frac{4}{3}}}$"
      ],
      "text/plain": [
       "Eq(Derivative(exp(x)/x**(1/3), x), exp(x)/x**(1/3) - exp(x)/(3*x**(4/3)))"
      ]
     },
     "metadata": {},
     "output_type": "display_data"
    },
    {
     "data": {
      "text/latex": [
       "$\\displaystyle \\int \\left(x + \\sin{\\left(x \\right)}\\right)\\, dx = \\frac{x^{2}}{2} - \\cos{\\left(x \\right)}$"
      ],
      "text/plain": [
       "Eq(Integral(x + sin(x), x), x**2/2 - cos(x))"
      ]
     },
     "metadata": {},
     "output_type": "display_data"
    },
    {
     "data": {
      "text/latex": [
       "$\\displaystyle \\frac{d}{d x} \\left(\\sqrt{x} - \\log{\\left(x \\right)}\\right) = - \\frac{1}{x} + \\frac{1}{2 \\sqrt{x}}$"
      ],
      "text/plain": [
       "Eq(Derivative(sqrt(x) - log(x), x), -1/x + 1/(2*sqrt(x)))"
      ]
     },
     "metadata": {},
     "output_type": "display_data"
    },
    {
     "data": {
      "text/latex": [
       "$\\displaystyle \\int \\frac{\\sqrt{x}}{\\tan{\\left(x \\right)}}\\, dx = \\int \\frac{\\sqrt{x}}{\\tan{\\left(x \\right)}}\\, dx$"
      ],
      "text/plain": [
       "Eq(Integral(sqrt(x)/tan(x), x), Integral(sqrt(x)/tan(x), x))"
      ]
     },
     "metadata": {},
     "output_type": "display_data"
    },
    {
     "data": {
      "text/latex": [
       "$\\displaystyle \\frac{d}{d x} \\sqrt[3]{\\log{\\left(x \\right)}} = \\frac{1}{3 x \\log{\\left(x \\right)}^{\\frac{2}{3}}}$"
      ],
      "text/plain": [
       "Eq(Derivative(log(x)**(1/3), x), 1/(3*x*log(x)**(2/3)))"
      ]
     },
     "metadata": {},
     "output_type": "display_data"
    },
    {
     "data": {
      "text/latex": [
       "$\\displaystyle \\int \\left(\\sin{\\left(x \\right)} - \\cos{\\left(x \\right)}\\right)\\, dx = - \\sin{\\left(x \\right)} - \\cos{\\left(x \\right)}$"
      ],
      "text/plain": [
       "Eq(Integral(sin(x) - cos(x), x), -sin(x) - cos(x))"
      ]
     },
     "metadata": {},
     "output_type": "display_data"
    },
    {
     "data": {
      "text/latex": [
       "$\\displaystyle \\frac{d}{d x} \\left(x - 3\\right) = 1$"
      ],
      "text/plain": [
       "Eq(Derivative(x - 3, x), 1)"
      ]
     },
     "metadata": {},
     "output_type": "display_data"
    },
    {
     "data": {
      "text/latex": [
       "$\\displaystyle \\int \\left(\\sqrt{x} - \\tan{\\left(x \\right)}\\right)\\, dx = \\frac{2 x^{\\frac{3}{2}}}{3} + \\log{\\left(\\cos{\\left(x \\right)} \\right)}$"
      ],
      "text/plain": [
       "Eq(Integral(sqrt(x) - tan(x), x), 2*x**(3/2)/3 + log(cos(x)))"
      ]
     },
     "metadata": {},
     "output_type": "display_data"
    },
    {
     "data": {
      "text/latex": [
       "$\\displaystyle \\frac{d}{d x} \\left(- \\sqrt[3]{x} + \\log{\\left(x \\right)}\\right) = \\frac{1}{x} - \\frac{1}{3 x^{\\frac{2}{3}}}$"
      ],
      "text/plain": [
       "Eq(Derivative(-x**(1/3) + log(x), x), 1/x - 1/(3*x**(2/3)))"
      ]
     },
     "metadata": {},
     "output_type": "display_data"
    },
    {
     "data": {
      "text/latex": [
       "$\\displaystyle \\int \\left(- x + \\sin{\\left(x \\right)}\\right)\\, dx = - \\frac{x^{2}}{2} - \\cos{\\left(x \\right)}$"
      ],
      "text/plain": [
       "Eq(Integral(-x + sin(x), x), -x**2/2 - cos(x))"
      ]
     },
     "metadata": {},
     "output_type": "display_data"
    },
    {
     "data": {
      "text/latex": [
       "$\\displaystyle \\frac{d}{d x} \\left(- \\sqrt[3]{x} + \\cos{\\left(x \\right)}\\right) = - \\sin{\\left(x \\right)} - \\frac{1}{3 x^{\\frac{2}{3}}}$"
      ],
      "text/plain": [
       "Eq(Derivative(-x**(1/3) + cos(x), x), -sin(x) - 1/(3*x**(2/3)))"
      ]
     },
     "metadata": {},
     "output_type": "display_data"
    },
    {
     "data": {
      "text/latex": [
       "$\\displaystyle \\int \\left(\\log{\\left(x \\right)} + \\cos{\\left(x \\right)}\\right)\\, dx = x \\log{\\left(x \\right)} - x + \\sin{\\left(x \\right)}$"
      ],
      "text/plain": [
       "Eq(Integral(log(x) + cos(x), x), x*log(x) - x + sin(x))"
      ]
     },
     "metadata": {},
     "output_type": "display_data"
    },
    {
     "data": {
      "text/latex": [
       "$\\displaystyle \\frac{d}{d x} \\frac{\\sqrt[3]{x}}{\\cos{\\left(x \\right)}} = \\frac{\\sqrt[3]{x} \\sin{\\left(x \\right)}}{\\cos^{2}{\\left(x \\right)}} + \\frac{1}{3 x^{\\frac{2}{3}} \\cos{\\left(x \\right)}}$"
      ],
      "text/plain": [
       "Eq(Derivative(x**(1/3)/cos(x), x), x**(1/3)*sin(x)/cos(x)**2 + 1/(3*x**(2/3)*cos(x)))"
      ]
     },
     "metadata": {},
     "output_type": "display_data"
    },
    {
     "data": {
      "text/latex": [
       "$\\displaystyle \\int \\left(- e^{x} + \\sin{\\left(x \\right)}\\right)\\, dx = - e^{x} - \\cos{\\left(x \\right)}$"
      ],
      "text/plain": [
       "Eq(Integral(-exp(x) + sin(x), x), -exp(x) - cos(x))"
      ]
     },
     "metadata": {},
     "output_type": "display_data"
    },
    {
     "data": {
      "text/latex": [
       "$\\displaystyle \\frac{d}{d x} \\tan{\\left(e^{x} \\right)} = \\left(\\tan^{2}{\\left(e^{x} \\right)} + 1\\right) e^{x}$"
      ],
      "text/plain": [
       "Eq(Derivative(tan(exp(x)), x), (tan(exp(x))**2 + 1)*exp(x))"
      ]
     },
     "metadata": {},
     "output_type": "display_data"
    },
    {
     "data": {
      "text/latex": [
       "$\\displaystyle \\int \\left(x^{5} + \\tan{\\left(x \\right)}\\right)\\, dx = \\frac{x^{6}}{6} - \\log{\\left(\\cos{\\left(x \\right)} \\right)}$"
      ],
      "text/plain": [
       "Eq(Integral(x**5 + tan(x), x), x**6/6 - log(cos(x)))"
      ]
     },
     "metadata": {},
     "output_type": "display_data"
    },
    {
     "data": {
      "text/latex": [
       "$\\displaystyle \\frac{d}{d x} \\sqrt[6]{x} = \\frac{1}{6 x^{\\frac{5}{6}}}$"
      ],
      "text/plain": [
       "Eq(Derivative(x**(1/6), x), 1/(6*x**(5/6)))"
      ]
     },
     "metadata": {},
     "output_type": "display_data"
    },
    {
     "data": {
      "text/latex": [
       "$\\displaystyle \\int \\left(\\log{\\left(x \\right)} - \\cos{\\left(x \\right)}\\right)\\, dx = x \\log{\\left(x \\right)} - x - \\sin{\\left(x \\right)}$"
      ],
      "text/plain": [
       "Eq(Integral(log(x) - cos(x), x), x*log(x) - x - sin(x))"
      ]
     },
     "metadata": {},
     "output_type": "display_data"
    },
    {
     "data": {
      "text/latex": [
       "$\\displaystyle \\frac{d}{d x} \\left(\\sqrt{x} + e^{x}\\right) = e^{x} + \\frac{1}{2 \\sqrt{x}}$"
      ],
      "text/plain": [
       "Eq(Derivative(sqrt(x) + exp(x), x), exp(x) + 1/(2*sqrt(x)))"
      ]
     },
     "metadata": {},
     "output_type": "display_data"
    },
    {
     "data": {
      "text/latex": [
       "$\\displaystyle \\int \\frac{\\sin{\\left(x \\right)}}{x^{5} - 1}\\, dx = \\int \\frac{\\sin{\\left(x \\right)}}{\\left(x - 1\\right) \\left(x^{4} + x^{3} + x^{2} + x + 1\\right)}\\, dx$"
      ],
      "text/plain": [
       "Eq(Integral(sin(x)/(x**5 - 1), x), Integral(sin(x)/((x - 1)*(x**4 + x**3 + x**2 + x + 1)), x))"
      ]
     },
     "metadata": {},
     "output_type": "display_data"
    },
    {
     "data": {
      "text/latex": [
       "$\\displaystyle \\frac{d}{d x} \\left(x^{4} + \\log{\\left(x \\right)} + 4\\right) = 4 x^{3} + \\frac{1}{x}$"
      ],
      "text/plain": [
       "Eq(Derivative(x**4 + log(x) + 4, x), 4*x**3 + 1/x)"
      ]
     },
     "metadata": {},
     "output_type": "display_data"
    },
    {
     "data": {
      "text/latex": [
       "$\\displaystyle \\int \\left(\\sqrt[3]{x} + 2 x\\right)\\, dx = \\frac{3 x^{\\frac{4}{3}}}{4} + x^{2}$"
      ],
      "text/plain": [
       "Eq(Integral(x**(1/3) + 2*x, x), 3*x**(4/3)/4 + x**2)"
      ]
     },
     "metadata": {},
     "output_type": "display_data"
    },
    {
     "data": {
      "text/latex": [
       "$\\displaystyle \\frac{d}{d x} \\left(2 \\tan{\\left(x \\right)} - 1 + \\frac{1}{\\tan{\\left(x \\right)}}\\right) = \\frac{- \\tan^{2}{\\left(x \\right)} - 1}{\\tan^{2}{\\left(x \\right)}} + 2 \\tan^{2}{\\left(x \\right)} + 2$"
      ],
      "text/plain": [
       "Eq(Derivative(2*tan(x) - 1 + 1/tan(x), x), (-tan(x)**2 - 1)/tan(x)**2 + 2*tan(x)**2 + 2)"
      ]
     },
     "metadata": {},
     "output_type": "display_data"
    },
    {
     "data": {
      "text/latex": [
       "$\\displaystyle \\int \\left(- \\sqrt{x} + \\cos{\\left(x \\right)}\\right)\\, dx = - \\frac{2 x^{\\frac{3}{2}}}{3} + \\sin{\\left(x \\right)}$"
      ],
      "text/plain": [
       "Eq(Integral(-sqrt(x) + cos(x), x), -2*x**(3/2)/3 + sin(x))"
      ]
     },
     "metadata": {},
     "output_type": "display_data"
    },
    {
     "data": {
      "text/latex": [
       "$\\displaystyle \\frac{d}{d x} \\left(\\sqrt{x} + x^{3}\\right) = 3 x^{2} + \\frac{1}{2 \\sqrt{x}}$"
      ],
      "text/plain": [
       "Eq(Derivative(sqrt(x) + x**3, x), 3*x**2 + 1/(2*sqrt(x)))"
      ]
     },
     "metadata": {},
     "output_type": "display_data"
    },
    {
     "data": {
      "text/latex": [
       "$\\displaystyle \\int \\left(2 x + \\tan{\\left(x \\right)}\\right)\\, dx = x^{2} - \\log{\\left(\\cos{\\left(x \\right)} \\right)}$"
      ],
      "text/plain": [
       "Eq(Integral(2*x + tan(x), x), x**2 - log(cos(x)))"
      ]
     },
     "metadata": {},
     "output_type": "display_data"
    },
    {
     "data": {
      "text/latex": [
       "$\\displaystyle \\frac{d}{d x} \\left(- \\sqrt{x} - x\\right) = -1 - \\frac{1}{2 \\sqrt{x}}$"
      ],
      "text/plain": [
       "Eq(Derivative(-sqrt(x) - x, x), -1 - 1/(2*sqrt(x)))"
      ]
     },
     "metadata": {},
     "output_type": "display_data"
    },
    {
     "data": {
      "text/latex": [
       "$\\displaystyle \\int \\left(\\log{\\left(x \\right)} + \\sin{\\left(x \\right)}\\right)\\, dx = x \\log{\\left(x \\right)} - x - \\cos{\\left(x \\right)}$"
      ],
      "text/plain": [
       "Eq(Integral(log(x) + sin(x), x), x*log(x) - x - cos(x))"
      ]
     },
     "metadata": {},
     "output_type": "display_data"
    },
    {
     "data": {
      "text/latex": [
       "$\\displaystyle \\frac{d}{d x} \\left(- x^{2} + \\tan{\\left(x \\right)}\\right) = - 2 x + \\tan^{2}{\\left(x \\right)} + 1$"
      ],
      "text/plain": [
       "Eq(Derivative(-x**2 + tan(x), x), -2*x + tan(x)**2 + 1)"
      ]
     },
     "metadata": {},
     "output_type": "display_data"
    },
    {
     "data": {
      "text/latex": [
       "$\\displaystyle \\int \\left(- \\frac{1}{4 x^{\\frac{2}{3}}}\\right)\\, dx = - \\frac{3 \\sqrt[3]{x}}{4}$"
      ],
      "text/plain": [
       "Eq(Integral(-1/(4*x**(2/3)), x), -3*x**(1/3)/4)"
      ]
     },
     "metadata": {},
     "output_type": "display_data"
    },
    {
     "data": {
      "text/latex": [
       "$\\displaystyle \\frac{d}{d x} \\left(- \\sqrt[3]{x} + x^{5} - 3 x - 1\\right) = 5 x^{4} - 3 - \\frac{1}{3 x^{\\frac{2}{3}}}$"
      ],
      "text/plain": [
       "Eq(Derivative(-x**(1/3) + x**5 - 3*x - 1, x), 5*x**4 - 3 - 1/(3*x**(2/3)))"
      ]
     },
     "metadata": {},
     "output_type": "display_data"
    },
    {
     "data": {
      "text/latex": [
       "$\\displaystyle \\int e\\, dx = e x$"
      ],
      "text/plain": [
       "Eq(Integral(E, x), E*x)"
      ]
     },
     "metadata": {},
     "output_type": "display_data"
    },
    {
     "data": {
      "text/latex": [
       "$\\displaystyle \\frac{d}{d x} 2 \\cos{\\left(x \\right)} = - 2 \\sin{\\left(x \\right)}$"
      ],
      "text/plain": [
       "Eq(Derivative(2*cos(x), x), -2*sin(x))"
      ]
     },
     "metadata": {},
     "output_type": "display_data"
    },
    {
     "data": {
      "text/latex": [
       "$\\displaystyle \\int \\left(- 2 x + 1 + \\frac{1}{x^{3}}\\right)^{4}\\, dx = \\frac{16 x^{5}}{5} - 8 x^{4} + 8 x^{3} - 4 x^{2} - 31 x + 48 \\log{\\left(x \\right)} + \\frac{18480 x^{10} - 1540 x^{9} - 6160 x^{8} + 4620 x^{7} - 924 x^{6} + 880 x^{4} - 385 x^{3} - 70}{770 x^{11}}$"
      ],
      "text/plain": [
       "Eq(Integral((-2*x + 1 + x**(-3))**4, x), 16*x**5/5 - 8*x**4 + 8*x**3 - 4*x**2 - 31*x + 48*log(x) + (18480*x**10 - 1540*x**9 - 6160*x**8 + 4620*x**7 - 924*x**6 + 880*x**4 - 385*x**3 - 70)/(770*x**11))"
      ]
     },
     "metadata": {},
     "output_type": "display_data"
    },
    {
     "data": {
      "text/latex": [
       "$\\displaystyle \\frac{d}{d x} 2 \\sqrt[3]{x} = \\frac{2}{3 x^{\\frac{2}{3}}}$"
      ],
      "text/plain": [
       "Eq(Derivative(2*x**(1/3), x), 2/(3*x**(2/3)))"
      ]
     },
     "metadata": {},
     "output_type": "display_data"
    },
    {
     "data": {
      "text/latex": [
       "$\\displaystyle \\int \\left(3 - 4 x\\right)\\, dx = - 2 x^{2} + 3 x$"
      ],
      "text/plain": [
       "Eq(Integral(3 - 4*x, x), -2*x**2 + 3*x)"
      ]
     },
     "metadata": {},
     "output_type": "display_data"
    },
    {
     "data": {
      "text/latex": [
       "$\\displaystyle \\frac{d}{d x} \\frac{e^{x}}{\\log{\\left(x \\right)}} = \\frac{e^{x}}{\\log{\\left(x \\right)}} - \\frac{e^{x}}{x \\log{\\left(x \\right)}^{2}}$"
      ],
      "text/plain": [
       "Eq(Derivative(exp(x)/log(x), x), exp(x)/log(x) - exp(x)/(x*log(x)**2))"
      ]
     },
     "metadata": {},
     "output_type": "display_data"
    },
    {
     "data": {
      "text/latex": [
       "$\\displaystyle \\int \\cos{\\left(\\sin{\\left(x \\right)} \\right)}\\, dx = \\int \\cos{\\left(\\sin{\\left(x \\right)} \\right)}\\, dx$"
      ],
      "text/plain": [
       "Eq(Integral(cos(sin(x)), x), Integral(cos(sin(x)), x))"
      ]
     },
     "metadata": {},
     "output_type": "display_data"
    },
    {
     "data": {
      "text/latex": [
       "$\\displaystyle \\frac{d}{d x} \\left(\\sqrt{x} - x^{2} + 3 x - 1\\right) = - 2 x + 3 + \\frac{1}{2 \\sqrt{x}}$"
      ],
      "text/plain": [
       "Eq(Derivative(sqrt(x) - x**2 + 3*x - 1, x), -2*x + 3 + 1/(2*sqrt(x)))"
      ]
     },
     "metadata": {},
     "output_type": "display_data"
    },
    {
     "data": {
      "text/latex": [
       "$\\displaystyle \\int \\left(\\sqrt[3]{x} + 3 x + 2 - \\frac{1}{x^{4}}\\right)\\, dx = \\frac{3 x^{\\frac{4}{3}}}{4} + \\frac{3 x^{2}}{2} + 2 x + \\frac{1}{3 x^{3}}$"
      ],
      "text/plain": [
       "Eq(Integral(x**(1/3) + 3*x + 2 - 1/x**4, x), 3*x**(4/3)/4 + 3*x**2/2 + 2*x + 1/(3*x**3))"
      ]
     },
     "metadata": {},
     "output_type": "display_data"
    },
    {
     "data": {
      "text/latex": [
       "$\\displaystyle \\frac{d}{d x} \\left(x + \\cos{\\left(x \\right)} + 2\\right) = 1 - \\sin{\\left(x \\right)}$"
      ],
      "text/plain": [
       "Eq(Derivative(x + cos(x) + 2, x), 1 - sin(x))"
      ]
     },
     "metadata": {},
     "output_type": "display_data"
    },
    {
     "data": {
      "text/latex": [
       "$\\displaystyle \\int \\left(x + \\log{\\left(x \\right)} - 1\\right)\\, dx = \\frac{x^{2}}{2} + x \\log{\\left(x \\right)} - 2 x$"
      ],
      "text/plain": [
       "Eq(Integral(x + log(x) - 1, x), x**2/2 + x*log(x) - 2*x)"
      ]
     },
     "metadata": {},
     "output_type": "display_data"
    },
    {
     "data": {
      "text/latex": [
       "$\\displaystyle \\frac{d}{d x} \\left(- x + \\tan{\\left(x \\right)}\\right) = \\tan^{2}{\\left(x \\right)}$"
      ],
      "text/plain": [
       "Eq(Derivative(-x + tan(x), x), tan(x)**2)"
      ]
     },
     "metadata": {},
     "output_type": "display_data"
    },
    {
     "data": {
      "text/latex": [
       "$\\displaystyle \\int \\left(- 2 x + \\cos{\\left(x \\right)} + 1\\right)\\, dx = - x^{2} + x + \\sin{\\left(x \\right)}$"
      ],
      "text/plain": [
       "Eq(Integral(-2*x + cos(x) + 1, x), -x**2 + x + sin(x))"
      ]
     },
     "metadata": {},
     "output_type": "display_data"
    },
    {
     "data": {
      "text/latex": [
       "$\\displaystyle \\frac{d}{d x} \\left(- x + \\sin{\\left(x \\right)}\\right) = \\cos{\\left(x \\right)} - 1$"
      ],
      "text/plain": [
       "Eq(Derivative(-x + sin(x), x), cos(x) - 1)"
      ]
     },
     "metadata": {},
     "output_type": "display_data"
    },
    {
     "data": {
      "text/latex": [
       "$\\displaystyle \\int \\tan{\\left(\\log{\\left(x \\right)} \\right)}\\, dx = \\int \\tan{\\left(\\log{\\left(x \\right)} \\right)}\\, dx$"
      ],
      "text/plain": [
       "Eq(Integral(tan(log(x)), x), Integral(tan(log(x)), x))"
      ]
     },
     "metadata": {},
     "output_type": "display_data"
    },
    {
     "data": {
      "text/latex": [
       "$\\displaystyle \\frac{d}{d x} \\left(\\sqrt[3]{x} - \\tan{\\left(x \\right)}\\right) = - \\tan^{2}{\\left(x \\right)} - 1 + \\frac{1}{3 x^{\\frac{2}{3}}}$"
      ],
      "text/plain": [
       "Eq(Derivative(x**(1/3) - tan(x), x), -tan(x)**2 - 1 + 1/(3*x**(2/3)))"
      ]
     },
     "metadata": {},
     "output_type": "display_data"
    },
    {
     "data": {
      "text/latex": [
       "$\\displaystyle \\int \\left(e^{x} + \\cos{\\left(x \\right)}\\right)\\, dx = e^{x} + \\sin{\\left(x \\right)}$"
      ],
      "text/plain": [
       "Eq(Integral(exp(x) + cos(x), x), exp(x) + sin(x))"
      ]
     },
     "metadata": {},
     "output_type": "display_data"
    },
    {
     "data": {
      "text/latex": [
       "$\\displaystyle \\frac{d}{d x} \\left(- \\log{\\left(x \\right)}\\right) = - \\frac{1}{x}$"
      ],
      "text/plain": [
       "Eq(Derivative(-log(x), x), -1/x)"
      ]
     },
     "metadata": {},
     "output_type": "display_data"
    },
    {
     "data": {
      "text/latex": [
       "$\\displaystyle \\int x^{4} e^{x}\\, dx = \\left(x^{4} - 4 x^{3} + 12 x^{2} - 24 x + 24\\right) e^{x}$"
      ],
      "text/plain": [
       "Eq(Integral(x**4*exp(x), x), (x**4 - 4*x**3 + 12*x**2 - 24*x + 24)*exp(x))"
      ]
     },
     "metadata": {},
     "output_type": "display_data"
    },
    {
     "data": {
      "text/latex": [
       "$\\displaystyle \\frac{d}{d x} \\left(\\sqrt[3]{x} + \\tan{\\left(x \\right)}\\right) = \\tan^{2}{\\left(x \\right)} + 1 + \\frac{1}{3 x^{\\frac{2}{3}}}$"
      ],
      "text/plain": [
       "Eq(Derivative(x**(1/3) + tan(x), x), tan(x)**2 + 1 + 1/(3*x**(2/3)))"
      ]
     },
     "metadata": {},
     "output_type": "display_data"
    },
    {
     "data": {
      "text/latex": [
       "$\\displaystyle \\int \\left(x^{4} - \\tan{\\left(x \\right)}\\right)\\, dx = \\frac{x^{5}}{5} + \\log{\\left(\\cos{\\left(x \\right)} \\right)}$"
      ],
      "text/plain": [
       "Eq(Integral(x**4 - tan(x), x), x**5/5 + log(cos(x)))"
      ]
     },
     "metadata": {},
     "output_type": "display_data"
    },
    {
     "data": {
      "text/latex": [
       "$\\displaystyle \\frac{d}{d x} \\left(2 x + e^{x}\\right) = e^{x} + 2$"
      ],
      "text/plain": [
       "Eq(Derivative(2*x + exp(x), x), exp(x) + 2)"
      ]
     },
     "metadata": {},
     "output_type": "display_data"
    },
    {
     "data": {
      "text/latex": [
       "$\\displaystyle \\int \\left(- x - 3\\right)\\, dx = - \\frac{x^{2}}{2} - 3 x$"
      ],
      "text/plain": [
       "Eq(Integral(-x - 3, x), -x**2/2 - 3*x)"
      ]
     },
     "metadata": {},
     "output_type": "display_data"
    },
    {
     "data": {
      "text/latex": [
       "$\\displaystyle \\frac{d}{d x} \\frac{\\sin{\\left(x \\right)}}{\\log{\\left(x \\right)}} = \\frac{\\cos{\\left(x \\right)}}{\\log{\\left(x \\right)}} - \\frac{\\sin{\\left(x \\right)}}{x \\log{\\left(x \\right)}^{2}}$"
      ],
      "text/plain": [
       "Eq(Derivative(sin(x)/log(x), x), cos(x)/log(x) - sin(x)/(x*log(x)**2))"
      ]
     },
     "metadata": {},
     "output_type": "display_data"
    },
    {
     "data": {
      "text/latex": [
       "$\\displaystyle \\int \\left(- x + \\log{\\left(x \\right)}\\right)\\, dx = - \\frac{x^{2}}{2} + x \\log{\\left(x \\right)} - x$"
      ],
      "text/plain": [
       "Eq(Integral(-x + log(x), x), -x**2/2 + x*log(x) - x)"
      ]
     },
     "metadata": {},
     "output_type": "display_data"
    },
    {
     "data": {
      "text/latex": [
       "$\\displaystyle \\frac{d}{d x} \\sqrt[3]{x} e^{- x} = - \\sqrt[3]{x} e^{- x} + \\frac{e^{- x}}{3 x^{\\frac{2}{3}}}$"
      ],
      "text/plain": [
       "Eq(Derivative(x**(1/3)*exp(-x), x), -x**(1/3)*exp(-x) + exp(-x)/(3*x**(2/3)))"
      ]
     },
     "metadata": {},
     "output_type": "display_data"
    },
    {
     "data": {
      "text/latex": [
       "$\\displaystyle \\int \\sqrt[3]{x^{2} + 3 x + 4}\\, dx = \\int \\sqrt[3]{x^{2} + 3 x + 4}\\, dx$"
      ],
      "text/plain": [
       "Eq(Integral((x**2 + 3*x + 4)**(1/3), x), Integral((x**2 + 3*x + 4)**(1/3), x))"
      ]
     },
     "metadata": {},
     "output_type": "display_data"
    },
    {
     "data": {
      "text/latex": [
       "$\\displaystyle \\frac{d}{d x} \\frac{x^{3}}{\\cos{\\left(x \\right)}} = \\frac{x^{3} \\sin{\\left(x \\right)}}{\\cos^{2}{\\left(x \\right)}} + \\frac{3 x^{2}}{\\cos{\\left(x \\right)}}$"
      ],
      "text/plain": [
       "Eq(Derivative(x**3/cos(x), x), x**3*sin(x)/cos(x)**2 + 3*x**2/cos(x))"
      ]
     },
     "metadata": {},
     "output_type": "display_data"
    },
    {
     "data": {
      "text/latex": [
       "$\\displaystyle \\int \\left(\\sqrt{x} + \\cos{\\left(x \\right)}\\right)\\, dx = \\frac{2 x^{\\frac{3}{2}}}{3} + \\sin{\\left(x \\right)}$"
      ],
      "text/plain": [
       "Eq(Integral(sqrt(x) + cos(x), x), 2*x**(3/2)/3 + sin(x))"
      ]
     },
     "metadata": {},
     "output_type": "display_data"
    },
    {
     "data": {
      "text/latex": [
       "$\\displaystyle \\frac{d}{d x} \\left(- x + \\sin{\\left(x \\right)} - 1\\right) = \\cos{\\left(x \\right)} - 1$"
      ],
      "text/plain": [
       "Eq(Derivative(-x + sin(x) - 1, x), cos(x) - 1)"
      ]
     },
     "metadata": {},
     "output_type": "display_data"
    },
    {
     "data": {
      "text/latex": [
       "$\\displaystyle \\int \\left(x + \\sin{\\left(x \\right)} - 2\\right)\\, dx = \\frac{x^{2}}{2} - 2 x - \\cos{\\left(x \\right)}$"
      ],
      "text/plain": [
       "Eq(Integral(x + sin(x) - 2, x), x**2/2 - 2*x - cos(x))"
      ]
     },
     "metadata": {},
     "output_type": "display_data"
    },
    {
     "data": {
      "text/latex": [
       "$\\displaystyle \\frac{d}{d x} e^{x + 4} = e^{x + 4}$"
      ],
      "text/plain": [
       "Eq(Derivative(exp(x + 4), x), exp(x + 4))"
      ]
     },
     "metadata": {},
     "output_type": "display_data"
    },
    {
     "data": {
      "text/latex": [
       "$\\displaystyle \\int x^{\\frac{4}{3}}\\, dx = \\frac{3 x^{\\frac{7}{3}}}{7}$"
      ],
      "text/plain": [
       "Eq(Integral(x**(4/3), x), 3*x**(7/3)/7)"
      ]
     },
     "metadata": {},
     "output_type": "display_data"
    },
    {
     "data": {
      "text/latex": [
       "$\\displaystyle \\frac{d}{d x} \\frac{x + 2}{2 x} = \\frac{1}{2 x} - \\frac{x + 2}{2 x^{2}}$"
      ],
      "text/plain": [
       "Eq(Derivative((x + 2)/(2*x), x), 1/(2*x) - (x + 2)/(2*x**2))"
      ]
     },
     "metadata": {},
     "output_type": "display_data"
    },
    {
     "data": {
      "text/latex": [
       "$\\displaystyle \\int \\left(\\log{\\left(x \\right)} - \\tan{\\left(x \\right)}\\right)\\, dx = x \\log{\\left(x \\right)} - x + \\log{\\left(\\cos{\\left(x \\right)} \\right)}$"
      ],
      "text/plain": [
       "Eq(Integral(log(x) - tan(x), x), x*log(x) - x + log(cos(x)))"
      ]
     },
     "metadata": {},
     "output_type": "display_data"
    },
    {
     "data": {
      "text/latex": [
       "$\\displaystyle \\frac{d}{d x} \\cos{\\left(3 x \\right)} = - 3 \\sin{\\left(3 x \\right)}$"
      ],
      "text/plain": [
       "Eq(Derivative(cos(3*x), x), -3*sin(3*x))"
      ]
     },
     "metadata": {},
     "output_type": "display_data"
    },
    {
     "data": {
      "text/latex": [
       "$\\displaystyle \\int \\left(x + \\cos{\\left(x \\right)}\\right)\\, dx = \\frac{x^{2}}{2} + \\sin{\\left(x \\right)}$"
      ],
      "text/plain": [
       "Eq(Integral(x + cos(x), x), x**2/2 + sin(x))"
      ]
     },
     "metadata": {},
     "output_type": "display_data"
    },
    {
     "data": {
      "text/latex": [
       "$\\displaystyle \\frac{d}{d x} \\left(\\sqrt{x} - e^{x}\\right) = - e^{x} + \\frac{1}{2 \\sqrt{x}}$"
      ],
      "text/plain": [
       "Eq(Derivative(sqrt(x) - exp(x), x), -exp(x) + 1/(2*sqrt(x)))"
      ]
     },
     "metadata": {},
     "output_type": "display_data"
    },
    {
     "data": {
      "text/latex": [
       "$\\displaystyle \\int \\left(- 2 x + 3 + \\frac{1}{x^{2}} + \\frac{1}{x^{4}}\\right)\\, dx = - x^{2} + 3 x - \\frac{3 x^{2} + 1}{3 x^{3}}$"
      ],
      "text/plain": [
       "Eq(Integral(-2*x + 3 + x**(-2) + x**(-4), x), -x**2 + 3*x - (3*x**2 + 1)/(3*x**3))"
      ]
     },
     "metadata": {},
     "output_type": "display_data"
    },
    {
     "data": {
      "text/latex": [
       "$\\displaystyle \\frac{d}{d x} \\frac{x^{4} - x}{\\sin{\\left(x \\right)}} = \\frac{4 x^{3} - 1}{\\sin{\\left(x \\right)}} - \\frac{\\left(x^{4} - x\\right) \\cos{\\left(x \\right)}}{\\sin^{2}{\\left(x \\right)}}$"
      ],
      "text/plain": [
       "Eq(Derivative((x**4 - x)/sin(x), x), (4*x**3 - 1)/sin(x) - (x**4 - x)*cos(x)/sin(x)**2)"
      ]
     },
     "metadata": {},
     "output_type": "display_data"
    },
    {
     "data": {
      "text/latex": [
       "$\\displaystyle \\int \\left(\\sqrt{x} + 2\\right)\\, dx = \\frac{2 x^{\\frac{3}{2}}}{3} + 2 x$"
      ],
      "text/plain": [
       "Eq(Integral(sqrt(x) + 2, x), 2*x**(3/2)/3 + 2*x)"
      ]
     },
     "metadata": {},
     "output_type": "display_data"
    },
    {
     "data": {
      "text/latex": [
       "$\\displaystyle \\frac{d}{d x} \\left(\\log{\\left(x \\right)} + \\sin{\\left(x \\right)}\\right) = \\cos{\\left(x \\right)} + \\frac{1}{x}$"
      ],
      "text/plain": [
       "Eq(Derivative(log(x) + sin(x), x), cos(x) + 1/x)"
      ]
     },
     "metadata": {},
     "output_type": "display_data"
    },
    {
     "data": {
      "text/latex": [
       "$\\displaystyle \\int \\left(4 - 3 x\\right)\\, dx = - \\frac{3 x^{2}}{2} + 4 x$"
      ],
      "text/plain": [
       "Eq(Integral(4 - 3*x, x), -3*x**2/2 + 4*x)"
      ]
     },
     "metadata": {},
     "output_type": "display_data"
    },
    {
     "data": {
      "text/latex": [
       "$\\displaystyle \\frac{d}{d x} \\left(- \\sqrt{x} + \\cos{\\left(x \\right)}\\right) = - \\sin{\\left(x \\right)} - \\frac{1}{2 \\sqrt{x}}$"
      ],
      "text/plain": [
       "Eq(Derivative(-sqrt(x) + cos(x), x), -sin(x) - 1/(2*sqrt(x)))"
      ]
     },
     "metadata": {},
     "output_type": "display_data"
    },
    {
     "data": {
      "text/latex": [
       "$\\displaystyle \\int \\left(- \\sqrt[3]{x} + x - 3\\right)\\, dx = - \\frac{3 x^{\\frac{4}{3}}}{4} + \\frac{x^{2}}{2} - 3 x$"
      ],
      "text/plain": [
       "Eq(Integral(-x**(1/3) + x - 3, x), -3*x**(4/3)/4 + x**2/2 - 3*x)"
      ]
     },
     "metadata": {},
     "output_type": "display_data"
    },
    {
     "data": {
      "text/latex": [
       "$\\displaystyle \\frac{d}{d x} \\frac{e^{x}}{\\sqrt[3]{x}} = \\frac{e^{x}}{\\sqrt[3]{x}} - \\frac{e^{x}}{3 x^{\\frac{4}{3}}}$"
      ],
      "text/plain": [
       "Eq(Derivative(exp(x)/x**(1/3), x), exp(x)/x**(1/3) - exp(x)/(3*x**(4/3)))"
      ]
     },
     "metadata": {},
     "output_type": "display_data"
    },
    {
     "data": {
      "text/latex": [
       "$\\displaystyle \\int \\left(\\sqrt{x} - \\tan{\\left(x \\right)}\\right)\\, dx = \\frac{2 x^{\\frac{3}{2}}}{3} + \\log{\\left(\\cos{\\left(x \\right)} \\right)}$"
      ],
      "text/plain": [
       "Eq(Integral(sqrt(x) - tan(x), x), 2*x**(3/2)/3 + log(cos(x)))"
      ]
     },
     "metadata": {},
     "output_type": "display_data"
    },
    {
     "data": {
      "text/latex": [
       "$\\displaystyle \\frac{d}{d x} \\frac{\\log{\\left(x \\right)}}{\\sqrt{x}} = - \\frac{\\log{\\left(x \\right)}}{2 x^{\\frac{3}{2}}} + \\frac{1}{x^{\\frac{3}{2}}}$"
      ],
      "text/plain": [
       "Eq(Derivative(log(x)/sqrt(x), x), -log(x)/(2*x**(3/2)) + x**(-3/2))"
      ]
     },
     "metadata": {},
     "output_type": "display_data"
    },
    {
     "data": {
      "text/latex": [
       "$\\displaystyle \\int \\frac{\\log{\\left(x \\right)}}{\\sqrt{x}}\\, dx = \\begin{cases} 2 \\sqrt{x} \\log{\\left(x \\right)} - 4 \\sqrt{x} & \\text{for}\\: \\left|{x}\\right| < 1 \\\\- 2 \\sqrt{x} \\log{\\left(\\frac{1}{x} \\right)} - 4 \\sqrt{x} & \\text{for}\\: \\frac{1}{\\left|{x}\\right|} < 1 \\\\- {G_{3, 3}^{2, 1}\\left(\\begin{matrix} 1 & \\frac{3}{2}, \\frac{3}{2} \\\\\\frac{1}{2}, \\frac{1}{2} & 0 \\end{matrix} \\middle| {x} \\right)} + {G_{3, 3}^{0, 3}\\left(\\begin{matrix} \\frac{3}{2}, \\frac{3}{2}, 1 &  \\\\ & \\frac{1}{2}, \\frac{1}{2}, 0 \\end{matrix} \\middle| {x} \\right)} & \\text{otherwise} \\end{cases}$"
      ],
      "text/plain": [
       "Eq(Integral(log(x)/sqrt(x), x), Piecewise((2*sqrt(x)*log(x) - 4*sqrt(x), Abs(x) < 1), (-2*sqrt(x)*log(1/x) - 4*sqrt(x), 1/Abs(x) < 1), (-meijerg(((1,), (3/2, 3/2)), ((1/2, 1/2), (0,)), x) + meijerg(((3/2, 3/2, 1), ()), ((), (1/2, 1/2, 0)), x), True)))"
      ]
     },
     "metadata": {},
     "output_type": "display_data"
    },
    {
     "data": {
      "text/latex": [
       "$\\displaystyle \\frac{d}{d x} \\left(\\sqrt{x} - \\sin{\\left(x \\right)}\\right) = - \\cos{\\left(x \\right)} + \\frac{1}{2 \\sqrt{x}}$"
      ],
      "text/plain": [
       "Eq(Derivative(sqrt(x) - sin(x), x), -cos(x) + 1/(2*sqrt(x)))"
      ]
     },
     "metadata": {},
     "output_type": "display_data"
    },
    {
     "data": {
      "text/latex": [
       "$\\displaystyle \\int \\left(- x e^{- x}\\right)\\, dx = \\left(x + 1\\right) e^{- x}$"
      ],
      "text/plain": [
       "Eq(Integral(-x*exp(-x), x), (x + 1)*exp(-x))"
      ]
     },
     "metadata": {},
     "output_type": "display_data"
    },
    {
     "data": {
      "text/latex": [
       "$\\displaystyle \\frac{d}{d x} \\tan{\\left(x \\right)} = \\tan^{2}{\\left(x \\right)} + 1$"
      ],
      "text/plain": [
       "Eq(Derivative(tan(x), x), tan(x)**2 + 1)"
      ]
     },
     "metadata": {},
     "output_type": "display_data"
    },
    {
     "data": {
      "text/latex": [
       "$\\displaystyle \\int \\left(\\sqrt{x} + \\log{\\left(x \\right)}\\right)\\, dx = \\frac{2 x^{\\frac{3}{2}}}{3} + x \\log{\\left(x \\right)} - x$"
      ],
      "text/plain": [
       "Eq(Integral(sqrt(x) + log(x), x), 2*x**(3/2)/3 + x*log(x) - x)"
      ]
     },
     "metadata": {},
     "output_type": "display_data"
    },
    {
     "data": {
      "text/latex": [
       "$\\displaystyle \\frac{d}{d x} \\log{\\left(\\sqrt[3]{x} \\right)} = \\frac{1}{3 x}$"
      ],
      "text/plain": [
       "Eq(Derivative(log(x**(1/3)), x), 1/(3*x))"
      ]
     },
     "metadata": {},
     "output_type": "display_data"
    },
    {
     "data": {
      "text/latex": [
       "$\\displaystyle \\int \\sin{\\left(x + 2 \\right)}\\, dx = - \\cos{\\left(x + 2 \\right)}$"
      ],
      "text/plain": [
       "Eq(Integral(sin(x + 2), x), -cos(x + 2))"
      ]
     },
     "metadata": {},
     "output_type": "display_data"
    },
    {
     "data": {
      "text/latex": [
       "$\\displaystyle \\frac{d}{d x} \\sqrt{x^{4}} = \\frac{2 \\sqrt{x^{4}}}{x}$"
      ],
      "text/plain": [
       "Eq(Derivative(sqrt(x**4), x), 2*sqrt(x**4)/x)"
      ]
     },
     "metadata": {},
     "output_type": "display_data"
    },
    {
     "data": {
      "text/latex": [
       "$\\displaystyle \\int \\left(\\sin^{5}{\\left(x \\right)} + 2 \\sin{\\left(x \\right)} + 4\\right)\\, dx = 4 x - \\frac{\\cos^{5}{\\left(x \\right)}}{5} + \\frac{2 \\cos^{3}{\\left(x \\right)}}{3} - 3 \\cos{\\left(x \\right)}$"
      ],
      "text/plain": [
       "Eq(Integral(sin(x)**5 + 2*sin(x) + 4, x), 4*x - cos(x)**5/5 + 2*cos(x)**3/3 - 3*cos(x))"
      ]
     },
     "metadata": {},
     "output_type": "display_data"
    },
    {
     "data": {
      "text/latex": [
       "$\\displaystyle \\frac{d}{d x} \\frac{\\sqrt{x}}{3 x + 1} = - \\frac{3 \\sqrt{x}}{\\left(3 x + 1\\right)^{2}} + \\frac{1}{2 \\sqrt{x} \\left(3 x + 1\\right)}$"
      ],
      "text/plain": [
       "Eq(Derivative(sqrt(x)/(3*x + 1), x), -3*sqrt(x)/(3*x + 1)**2 + 1/(2*sqrt(x)*(3*x + 1)))"
      ]
     },
     "metadata": {},
     "output_type": "display_data"
    },
    {
     "data": {
      "text/latex": [
       "$\\displaystyle \\int \\left(x^{2} - 4 x - 3\\right)\\, dx = \\frac{x^{3}}{3} - 2 x^{2} - 3 x$"
      ],
      "text/plain": [
       "Eq(Integral(x**2 - 4*x - 3, x), x**3/3 - 2*x**2 - 3*x)"
      ]
     },
     "metadata": {},
     "output_type": "display_data"
    },
    {
     "data": {
      "text/latex": [
       "$\\displaystyle \\frac{d}{d x} e^{\\frac{1}{x}} = - \\frac{e^{\\frac{1}{x}}}{x^{2}}$"
      ],
      "text/plain": [
       "Eq(Derivative(exp(1/x), x), -exp(1/x)/x**2)"
      ]
     },
     "metadata": {},
     "output_type": "display_data"
    },
    {
     "data": {
      "text/latex": [
       "$\\displaystyle \\int \\left(- 3 x + e^{x}\\right)\\, dx = - \\frac{3 x^{2}}{2} + e^{x}$"
      ],
      "text/plain": [
       "Eq(Integral(-3*x + exp(x), x), -3*x**2/2 + exp(x))"
      ]
     },
     "metadata": {},
     "output_type": "display_data"
    },
    {
     "data": {
      "text/latex": [
       "$\\displaystyle \\frac{d}{d x} \\left(e^{x} + \\sin{\\left(x \\right)}\\right) = e^{x} + \\cos{\\left(x \\right)}$"
      ],
      "text/plain": [
       "Eq(Derivative(exp(x) + sin(x), x), exp(x) + cos(x))"
      ]
     },
     "metadata": {},
     "output_type": "display_data"
    },
    {
     "data": {
      "text/latex": [
       "$\\displaystyle \\int \\left(x + \\log{\\left(x \\right)}\\right)\\, dx = \\frac{x^{2}}{2} + x \\log{\\left(x \\right)} - x$"
      ],
      "text/plain": [
       "Eq(Integral(x + log(x), x), x**2/2 + x*log(x) - x)"
      ]
     },
     "metadata": {},
     "output_type": "display_data"
    },
    {
     "data": {
      "text/latex": [
       "$\\displaystyle \\frac{d}{d x} \\sqrt{x - 4} = \\frac{1}{2 \\sqrt{x - 4}}$"
      ],
      "text/plain": [
       "Eq(Derivative(sqrt(x - 4), x), 1/(2*sqrt(x - 4)))"
      ]
     },
     "metadata": {},
     "output_type": "display_data"
    },
    {
     "data": {
      "text/latex": [
       "$\\displaystyle \\int \\left(x^{2} + 4 x + 1\\right)\\, dx = \\frac{x^{3}}{3} + 2 x^{2} + x$"
      ],
      "text/plain": [
       "Eq(Integral(x**2 + 4*x + 1, x), x**3/3 + 2*x**2 + x)"
      ]
     },
     "metadata": {},
     "output_type": "display_data"
    },
    {
     "data": {
      "text/latex": [
       "$\\displaystyle \\frac{d}{d x} \\frac{\\sin{\\left(x \\right)}}{\\tan{\\left(x \\right)}} = \\frac{\\left(- \\tan^{2}{\\left(x \\right)} - 1\\right) \\sin{\\left(x \\right)}}{\\tan^{2}{\\left(x \\right)}} + \\frac{\\cos{\\left(x \\right)}}{\\tan{\\left(x \\right)}}$"
      ],
      "text/plain": [
       "Eq(Derivative(sin(x)/tan(x), x), (-tan(x)**2 - 1)*sin(x)/tan(x)**2 + cos(x)/tan(x))"
      ]
     },
     "metadata": {},
     "output_type": "display_data"
    },
    {
     "data": {
      "text/latex": [
       "$\\displaystyle \\int \\left(x + \\sin{\\left(x \\right)}\\right)\\, dx = \\frac{x^{2}}{2} - \\cos{\\left(x \\right)}$"
      ],
      "text/plain": [
       "Eq(Integral(x + sin(x), x), x**2/2 - cos(x))"
      ]
     },
     "metadata": {},
     "output_type": "display_data"
    },
    {
     "data": {
      "text/latex": [
       "$\\displaystyle \\frac{d}{d x} \\cos{\\left(2 x \\right)} = - 2 \\sin{\\left(2 x \\right)}$"
      ],
      "text/plain": [
       "Eq(Derivative(cos(2*x), x), -2*sin(2*x))"
      ]
     },
     "metadata": {},
     "output_type": "display_data"
    },
    {
     "data": {
      "text/latex": [
       "$\\displaystyle \\int \\frac{\\sin{\\left(x \\right)}}{\\cos{\\left(x \\right)}}\\, dx = - \\log{\\left(\\cos{\\left(x \\right)} \\right)}$"
      ],
      "text/plain": [
       "Eq(Integral(sin(x)/cos(x), x), -log(cos(x)))"
      ]
     },
     "metadata": {},
     "output_type": "display_data"
    },
    {
     "data": {
      "text/latex": [
       "$\\displaystyle \\frac{d}{d x} \\left(- \\tan{\\left(2 x - \\frac{1}{x^{2}} \\right)}\\right) = - \\left(2 + \\frac{2}{x^{3}}\\right) \\left(\\tan^{2}{\\left(2 x - \\frac{1}{x^{2}} \\right)} + 1\\right)$"
      ],
      "text/plain": [
       "Eq(Derivative(-tan(2*x - 1/x**2), x), -(2 + 2/x**3)*(tan(2*x - 1/x**2)**2 + 1))"
      ]
     },
     "metadata": {},
     "output_type": "display_data"
    },
    {
     "data": {
      "text/latex": [
       "$\\displaystyle \\int \\log{\\left(\\tan{\\left(x \\right)} \\right)}\\, dx = \\int \\log{\\left(\\tan{\\left(x \\right)} \\right)}\\, dx$"
      ],
      "text/plain": [
       "Eq(Integral(log(tan(x)), x), Integral(log(tan(x)), x))"
      ]
     },
     "metadata": {},
     "output_type": "display_data"
    },
    {
     "data": {
      "text/latex": [
       "$\\displaystyle \\frac{d}{d x} \\left(x + \\log{\\left(x \\right)} - 4\\right) = 1 + \\frac{1}{x}$"
      ],
      "text/plain": [
       "Eq(Derivative(x + log(x) - 4, x), 1 + 1/x)"
      ]
     },
     "metadata": {},
     "output_type": "display_data"
    },
    {
     "data": {
      "text/latex": [
       "$\\displaystyle \\int 0\\, dx = 0$"
      ],
      "text/plain": [
       "Eq(Integral(0, x), 0)"
      ]
     },
     "metadata": {},
     "output_type": "display_data"
    },
    {
     "data": {
      "text/latex": [
       "$\\displaystyle \\frac{d}{d x} \\left(x + e^{x} - 5\\right) = e^{x} + 1$"
      ],
      "text/plain": [
       "Eq(Derivative(x + exp(x) - 5, x), exp(x) + 1)"
      ]
     },
     "metadata": {},
     "output_type": "display_data"
    },
    {
     "data": {
      "text/latex": [
       "$\\displaystyle \\int \\left(x^{2} + x\\right)\\, dx = \\frac{x^{3}}{3} + \\frac{x^{2}}{2}$"
      ],
      "text/plain": [
       "Eq(Integral(x**2 + x, x), x**3/3 + x**2/2)"
      ]
     },
     "metadata": {},
     "output_type": "display_data"
    },
    {
     "data": {
      "text/latex": [
       "$\\displaystyle \\frac{d}{d x} \\left(- \\frac{3 x}{\\log{\\left(x \\right)}}\\right) = - \\frac{3}{\\log{\\left(x \\right)}} + \\frac{3}{\\log{\\left(x \\right)}^{2}}$"
      ],
      "text/plain": [
       "Eq(Derivative(-3*x/log(x), x), -3/log(x) + 3/log(x)**2)"
      ]
     },
     "metadata": {},
     "output_type": "display_data"
    },
    {
     "data": {
      "text/latex": [
       "$\\displaystyle \\int \\frac{\\sqrt[3]{x}}{\\cos{\\left(x \\right)}}\\, dx = \\int \\frac{\\sqrt[3]{x}}{\\cos{\\left(x \\right)}}\\, dx$"
      ],
      "text/plain": [
       "Eq(Integral(x**(1/3)/cos(x), x), Integral(x**(1/3)/cos(x), x))"
      ]
     },
     "metadata": {},
     "output_type": "display_data"
    },
    {
     "data": {
      "text/latex": [
       "$\\displaystyle \\frac{d}{d x} \\cos{\\left(3 x \\right)} = - 3 \\sin{\\left(3 x \\right)}$"
      ],
      "text/plain": [
       "Eq(Derivative(cos(3*x), x), -3*sin(3*x))"
      ]
     },
     "metadata": {},
     "output_type": "display_data"
    },
    {
     "data": {
      "text/latex": [
       "$\\displaystyle \\int \\left(- 2 \\sqrt{x} + x^{2} + 1\\right)\\, dx = - \\frac{4 x^{\\frac{3}{2}}}{3} + \\frac{x^{3}}{3} + x$"
      ],
      "text/plain": [
       "Eq(Integral(-2*sqrt(x) + x**2 + 1, x), -4*x**(3/2)/3 + x**3/3 + x)"
      ]
     },
     "metadata": {},
     "output_type": "display_data"
    },
    {
     "data": {
      "text/latex": [
       "$\\displaystyle \\frac{d}{d x} \\left(\\log{\\left(x \\right)} - \\frac{1}{x^{2}}\\right) = \\frac{1}{x} + \\frac{2}{x^{3}}$"
      ],
      "text/plain": [
       "Eq(Derivative(log(x) - 1/x**2, x), 1/x + 2/x**3)"
      ]
     },
     "metadata": {},
     "output_type": "display_data"
    },
    {
     "data": {
      "text/latex": [
       "$\\displaystyle \\int \\left(x^{2} - 3 x + \\sin{\\left(x \\right)} - 4\\right)\\, dx = \\frac{x^{3}}{3} - \\frac{3 x^{2}}{2} - 4 x - \\cos{\\left(x \\right)}$"
      ],
      "text/plain": [
       "Eq(Integral(x**2 - 3*x + sin(x) - 4, x), x**3/3 - 3*x**2/2 - 4*x - cos(x))"
      ]
     },
     "metadata": {},
     "output_type": "display_data"
    },
    {
     "data": {
      "text/latex": [
       "$\\displaystyle \\frac{d}{d x} \\frac{\\cos{\\left(x \\right)}}{\\sqrt{x}} = - \\frac{\\sin{\\left(x \\right)}}{\\sqrt{x}} - \\frac{\\cos{\\left(x \\right)}}{2 x^{\\frac{3}{2}}}$"
      ],
      "text/plain": [
       "Eq(Derivative(cos(x)/sqrt(x), x), -sin(x)/sqrt(x) - cos(x)/(2*x**(3/2)))"
      ]
     },
     "metadata": {},
     "output_type": "display_data"
    },
    {
     "data": {
      "text/latex": [
       "$\\displaystyle \\int \\frac{x}{\\tan{\\left(x \\right)}}\\, dx = \\int \\frac{x}{\\tan{\\left(x \\right)}}\\, dx$"
      ],
      "text/plain": [
       "Eq(Integral(x/tan(x), x), Integral(x/tan(x), x))"
      ]
     },
     "metadata": {},
     "output_type": "display_data"
    },
    {
     "data": {
      "text/latex": [
       "$\\displaystyle \\frac{d}{d x} e^{x + 3} = e^{x + 3}$"
      ],
      "text/plain": [
       "Eq(Derivative(exp(x + 3), x), exp(x + 3))"
      ]
     },
     "metadata": {},
     "output_type": "display_data"
    },
    {
     "data": {
      "text/latex": [
       "$\\displaystyle \\int 2 \\sin{\\left(x \\right)}\\, dx = - 2 \\cos{\\left(x \\right)}$"
      ],
      "text/plain": [
       "Eq(Integral(2*sin(x), x), -2*cos(x))"
      ]
     },
     "metadata": {},
     "output_type": "display_data"
    },
    {
     "data": {
      "text/latex": [
       "$\\displaystyle \\frac{d}{d x} \\frac{\\sin{\\left(x \\right)}}{x + 4} = \\frac{\\cos{\\left(x \\right)}}{x + 4} - \\frac{\\sin{\\left(x \\right)}}{\\left(x + 4\\right)^{2}}$"
      ],
      "text/plain": [
       "Eq(Derivative(sin(x)/(x + 4), x), cos(x)/(x + 4) - sin(x)/(x + 4)**2)"
      ]
     },
     "metadata": {},
     "output_type": "display_data"
    },
    {
     "data": {
      "text/latex": [
       "$\\displaystyle \\int \\left(\\sqrt[3]{x} + x\\right)\\, dx = \\frac{3 x^{\\frac{4}{3}}}{4} + \\frac{x^{2}}{2}$"
      ],
      "text/plain": [
       "Eq(Integral(x**(1/3) + x, x), 3*x**(4/3)/4 + x**2/2)"
      ]
     },
     "metadata": {},
     "output_type": "display_data"
    },
    {
     "data": {
      "text/latex": [
       "$\\displaystyle \\frac{d}{d x} \\left(e^{x} + \\tan{\\left(x \\right)}\\right) = e^{x} + \\tan^{2}{\\left(x \\right)} + 1$"
      ],
      "text/plain": [
       "Eq(Derivative(exp(x) + tan(x), x), exp(x) + tan(x)**2 + 1)"
      ]
     },
     "metadata": {},
     "output_type": "display_data"
    },
    {
     "data": {
      "text/latex": [
       "$\\displaystyle \\int \\left(\\sqrt[3]{x} - x\\right)\\, dx = \\frac{3 x^{\\frac{4}{3}}}{4} - \\frac{x^{2}}{2}$"
      ],
      "text/plain": [
       "Eq(Integral(x**(1/3) - x, x), 3*x**(4/3)/4 - x**2/2)"
      ]
     },
     "metadata": {},
     "output_type": "display_data"
    },
    {
     "data": {
      "text/latex": [
       "$\\displaystyle \\frac{d}{d x} \\left(- x + e^{x} - 2\\right) = e^{x} - 1$"
      ],
      "text/plain": [
       "Eq(Derivative(-x + exp(x) - 2, x), exp(x) - 1)"
      ]
     },
     "metadata": {},
     "output_type": "display_data"
    },
    {
     "data": {
      "text/latex": [
       "$\\displaystyle \\int \\left(x + 3\\right)\\, dx = \\frac{x^{2}}{2} + 3 x$"
      ],
      "text/plain": [
       "Eq(Integral(x + 3, x), x**2/2 + 3*x)"
      ]
     },
     "metadata": {},
     "output_type": "display_data"
    },
    {
     "data": {
      "text/latex": [
       "$\\displaystyle \\frac{d}{d x} \\left(e^{x} + \\frac{1}{x^{3}}\\right) = e^{x} - \\frac{3}{x^{4}}$"
      ],
      "text/plain": [
       "Eq(Derivative(exp(x) + x**(-3), x), exp(x) - 3/x**4)"
      ]
     },
     "metadata": {},
     "output_type": "display_data"
    },
    {
     "data": {
      "text/latex": [
       "$\\displaystyle \\int \\frac{x^{2} + 3 x + 4}{x^{4} + 2 x}\\, dx = 2 \\log{\\left(x \\right)} + \\left(- \\frac{2}{3} - \\frac{2^{\\frac{2}{3}}}{6} + \\frac{\\sqrt[3]{2}}{2}\\right) \\log{\\left(x - \\frac{2113 \\cdot 2^{\\frac{2}{3}}}{5713} - \\frac{10980 \\left(- \\frac{2}{3} - \\frac{2^{\\frac{2}{3}}}{6} + \\frac{\\sqrt[3]{2}}{2}\\right)^{2}}{62843} - \\frac{44496 \\left(- \\frac{2}{3} - \\frac{2^{\\frac{2}{3}}}{6} + \\frac{\\sqrt[3]{2}}{2}\\right)^{3}}{62843} + \\frac{28000}{62843} + \\frac{6339 \\sqrt[3]{2}}{5713} \\right)} + \\left(- \\frac{2}{3} - \\frac{\\sqrt[3]{2}}{4} + \\frac{2^{\\frac{2}{3}}}{12}\\right) \\log{\\left(x^{2} + x \\left(- \\frac{217013 \\sqrt[3]{2}}{62843} - \\frac{20298 \\cdot 2^{\\frac{2}{3}}}{62843} - \\frac{1854 \\cdot 2^{\\frac{2}{3}} \\sqrt{-183 - 40 \\sqrt[3]{2} + 168 \\cdot 2^{\\frac{2}{3}}}}{62843} + \\frac{5562 \\sqrt[3]{2} \\sqrt{-183 - 40 \\sqrt[3]{2} + 168 \\cdot 2^{\\frac{2}{3}}}}{62843} + \\frac{6 \\sqrt{-183 - 40 \\sqrt[3]{2} + 168 \\cdot 2^{\\frac{2}{3}}}}{29} + \\frac{127998}{62843}\\right) - \\frac{18513421209 \\sqrt[3]{2}}{3949242649} - \\frac{1890816303 \\sqrt[3]{2} \\sqrt{-183 - 40 \\sqrt[3]{2} + 168 \\cdot 2^{\\frac{2}{3}}}}{3949242649} - \\frac{944714187 \\cdot 2^{\\frac{2}{3}} \\sqrt{-183 - 40 \\sqrt[3]{2} + 168 \\cdot 2^{\\frac{2}{3}}}}{3949242649} + \\frac{440271567 \\sqrt{-183 - 40 \\sqrt[3]{2} + 168 \\cdot 2^{\\frac{2}{3}}}}{3949242649} + \\frac{8867424765}{3949242649} + \\frac{25565981992 \\cdot 2^{\\frac{2}{3}}}{3949242649} \\right)} - 2 \\sqrt{- \\frac{\\sqrt{-183 - 40 \\sqrt[3]{2} + 168 \\cdot 2^{\\frac{2}{3}}}}{12} + \\frac{\\sqrt[3]{2} \\left(50 - 7 \\sqrt[3]{2}\\right)}{48}} \\operatorname{atan}{\\left(\\frac{125686 \\sqrt{3} x}{- 52947 \\sqrt{- 4 \\sqrt{-183 - 40 \\sqrt[3]{2} + 168 \\cdot 2^{\\frac{2}{3}}} - 7 \\cdot 2^{\\frac{2}{3}} + 50 \\sqrt[3]{2}} - 2745 \\sqrt[3]{2} \\sqrt{- 4 \\sqrt{-183 - 40 \\sqrt[3]{2} + 168 \\cdot 2^{\\frac{2}{3}}} - 7 \\cdot 2^{\\frac{2}{3}} + 50 \\sqrt[3]{2}} + 915 \\cdot 2^{\\frac{2}{3}} \\sqrt{- 4 \\sqrt{-183 - 40 \\sqrt[3]{2} + 168 \\cdot 2^{\\frac{2}{3}}} - 7 \\cdot 2^{\\frac{2}{3}} + 50 \\sqrt[3]{2}} + 1854 \\sqrt{-183 - 40 \\sqrt[3]{2} + 168 \\cdot 2^{\\frac{2}{3}}} \\sqrt{- 4 \\sqrt{-183 - 40 \\sqrt[3]{2} + 168 \\cdot 2^{\\frac{2}{3}}} - 7 \\cdot 2^{\\frac{2}{3}} + 50 \\sqrt[3]{2}}} + \\frac{127998 \\sqrt{3}}{- 52947 \\sqrt{- 4 \\sqrt{-183 - 40 \\sqrt[3]{2} + 168 \\cdot 2^{\\frac{2}{3}}} - 7 \\cdot 2^{\\frac{2}{3}} + 50 \\sqrt[3]{2}} - 2745 \\sqrt[3]{2} \\sqrt{- 4 \\sqrt{-183 - 40 \\sqrt[3]{2} + 168 \\cdot 2^{\\frac{2}{3}}} - 7 \\cdot 2^{\\frac{2}{3}} + 50 \\sqrt[3]{2}} + 915 \\cdot 2^{\\frac{2}{3}} \\sqrt{- 4 \\sqrt{-183 - 40 \\sqrt[3]{2} + 168 \\cdot 2^{\\frac{2}{3}}} - 7 \\cdot 2^{\\frac{2}{3}} + 50 \\sqrt[3]{2}} + 1854 \\sqrt{-183 - 40 \\sqrt[3]{2} + 168 \\cdot 2^{\\frac{2}{3}}} \\sqrt{- 4 \\sqrt{-183 - 40 \\sqrt[3]{2} + 168 \\cdot 2^{\\frac{2}{3}}} - 7 \\cdot 2^{\\frac{2}{3}} + 50 \\sqrt[3]{2}}} + \\frac{13002 \\sqrt{3} \\sqrt{-183 - 40 \\sqrt[3]{2} + 168 \\cdot 2^{\\frac{2}{3}}}}{- 52947 \\sqrt{- 4 \\sqrt{-183 - 40 \\sqrt[3]{2} + 168 \\cdot 2^{\\frac{2}{3}}} - 7 \\cdot 2^{\\frac{2}{3}} + 50 \\sqrt[3]{2}} - 2745 \\sqrt[3]{2} \\sqrt{- 4 \\sqrt{-183 - 40 \\sqrt[3]{2} + 168 \\cdot 2^{\\frac{2}{3}}} - 7 \\cdot 2^{\\frac{2}{3}} + 50 \\sqrt[3]{2}} + 915 \\cdot 2^{\\frac{2}{3}} \\sqrt{- 4 \\sqrt{-183 - 40 \\sqrt[3]{2} + 168 \\cdot 2^{\\frac{2}{3}}} - 7 \\cdot 2^{\\frac{2}{3}} + 50 \\sqrt[3]{2}} + 1854 \\sqrt{-183 - 40 \\sqrt[3]{2} + 168 \\cdot 2^{\\frac{2}{3}}} \\sqrt{- 4 \\sqrt{-183 - 40 \\sqrt[3]{2} + 168 \\cdot 2^{\\frac{2}{3}}} - 7 \\cdot 2^{\\frac{2}{3}} + 50 \\sqrt[3]{2}}} + \\frac{5562 \\sqrt[3]{2} \\sqrt{3} \\sqrt{-183 - 40 \\sqrt[3]{2} + 168 \\cdot 2^{\\frac{2}{3}}}}{- 52947 \\sqrt{- 4 \\sqrt{-183 - 40 \\sqrt[3]{2} + 168 \\cdot 2^{\\frac{2}{3}}} - 7 \\cdot 2^{\\frac{2}{3}} + 50 \\sqrt[3]{2}} - 2745 \\sqrt[3]{2} \\sqrt{- 4 \\sqrt{-183 - 40 \\sqrt[3]{2} + 168 \\cdot 2^{\\frac{2}{3}}} - 7 \\cdot 2^{\\frac{2}{3}} + 50 \\sqrt[3]{2}} + 915 \\cdot 2^{\\frac{2}{3}} \\sqrt{- 4 \\sqrt{-183 - 40 \\sqrt[3]{2} + 168 \\cdot 2^{\\frac{2}{3}}} - 7 \\cdot 2^{\\frac{2}{3}} + 50 \\sqrt[3]{2}} + 1854 \\sqrt{-183 - 40 \\sqrt[3]{2} + 168 \\cdot 2^{\\frac{2}{3}}} \\sqrt{- 4 \\sqrt{-183 - 40 \\sqrt[3]{2} + 168 \\cdot 2^{\\frac{2}{3}}} - 7 \\cdot 2^{\\frac{2}{3}} + 50 \\sqrt[3]{2}}} - \\frac{1854 \\cdot 2^{\\frac{2}{3}} \\sqrt{3} \\sqrt{-183 - 40 \\sqrt[3]{2} + 168 \\cdot 2^{\\frac{2}{3}}}}{- 52947 \\sqrt{- 4 \\sqrt{-183 - 40 \\sqrt[3]{2} + 168 \\cdot 2^{\\frac{2}{3}}} - 7 \\cdot 2^{\\frac{2}{3}} + 50 \\sqrt[3]{2}} - 2745 \\sqrt[3]{2} \\sqrt{- 4 \\sqrt{-183 - 40 \\sqrt[3]{2} + 168 \\cdot 2^{\\frac{2}{3}}} - 7 \\cdot 2^{\\frac{2}{3}} + 50 \\sqrt[3]{2}} + 915 \\cdot 2^{\\frac{2}{3}} \\sqrt{- 4 \\sqrt{-183 - 40 \\sqrt[3]{2} + 168 \\cdot 2^{\\frac{2}{3}}} - 7 \\cdot 2^{\\frac{2}{3}} + 50 \\sqrt[3]{2}} + 1854 \\sqrt{-183 - 40 \\sqrt[3]{2} + 168 \\cdot 2^{\\frac{2}{3}}} \\sqrt{- 4 \\sqrt{-183 - 40 \\sqrt[3]{2} + 168 \\cdot 2^{\\frac{2}{3}}} - 7 \\cdot 2^{\\frac{2}{3}} + 50 \\sqrt[3]{2}}} - \\frac{20298 \\cdot 2^{\\frac{2}{3}} \\sqrt{3}}{- 52947 \\sqrt{- 4 \\sqrt{-183 - 40 \\sqrt[3]{2} + 168 \\cdot 2^{\\frac{2}{3}}} - 7 \\cdot 2^{\\frac{2}{3}} + 50 \\sqrt[3]{2}} - 2745 \\sqrt[3]{2} \\sqrt{- 4 \\sqrt{-183 - 40 \\sqrt[3]{2} + 168 \\cdot 2^{\\frac{2}{3}}} - 7 \\cdot 2^{\\frac{2}{3}} + 50 \\sqrt[3]{2}} + 915 \\cdot 2^{\\frac{2}{3}} \\sqrt{- 4 \\sqrt{-183 - 40 \\sqrt[3]{2} + 168 \\cdot 2^{\\frac{2}{3}}} - 7 \\cdot 2^{\\frac{2}{3}} + 50 \\sqrt[3]{2}} + 1854 \\sqrt{-183 - 40 \\sqrt[3]{2} + 168 \\cdot 2^{\\frac{2}{3}}} \\sqrt{- 4 \\sqrt{-183 - 40 \\sqrt[3]{2} + 168 \\cdot 2^{\\frac{2}{3}}} - 7 \\cdot 2^{\\frac{2}{3}} + 50 \\sqrt[3]{2}}} - \\frac{217013 \\sqrt[3]{2} \\sqrt{3}}{- 52947 \\sqrt{- 4 \\sqrt{-183 - 40 \\sqrt[3]{2} + 168 \\cdot 2^{\\frac{2}{3}}} - 7 \\cdot 2^{\\frac{2}{3}} + 50 \\sqrt[3]{2}} - 2745 \\sqrt[3]{2} \\sqrt{- 4 \\sqrt{-183 - 40 \\sqrt[3]{2} + 168 \\cdot 2^{\\frac{2}{3}}} - 7 \\cdot 2^{\\frac{2}{3}} + 50 \\sqrt[3]{2}} + 915 \\cdot 2^{\\frac{2}{3}} \\sqrt{- 4 \\sqrt{-183 - 40 \\sqrt[3]{2} + 168 \\cdot 2^{\\frac{2}{3}}} - 7 \\cdot 2^{\\frac{2}{3}} + 50 \\sqrt[3]{2}} + 1854 \\sqrt{-183 - 40 \\sqrt[3]{2} + 168 \\cdot 2^{\\frac{2}{3}}} \\sqrt{- 4 \\sqrt{-183 - 40 \\sqrt[3]{2} + 168 \\cdot 2^{\\frac{2}{3}}} - 7 \\cdot 2^{\\frac{2}{3}} + 50 \\sqrt[3]{2}}} \\right)}$"
      ],
      "text/plain": [
       "Eq(Integral((x**2 + 3*x + 4)/(x**4 + 2*x), x), 2*log(x) + (-2/3 - 2**(2/3)/6 + 2**(1/3)/2)*log(x - 2113*2**(2/3)/5713 - 10980*(-2/3 - 2**(2/3)/6 + 2**(1/3)/2)**2/62843 - 44496*(-2/3 - 2**(2/3)/6 + 2**(1/3)/2)**3/62843 + 28000/62843 + 6339*2**(1/3)/5713) + (-2/3 - 2**(1/3)/4 + 2**(2/3)/12)*log(x**2 + x*(-217013*2**(1/3)/62843 - 20298*2**(2/3)/62843 - 1854*2**(2/3)*sqrt(-183 - 40*2**(1/3) + 168*2**(2/3))/62843 + 5562*2**(1/3)*sqrt(-183 - 40*2**(1/3) + 168*2**(2/3))/62843 + 6*sqrt(-183 - 40*2**(1/3) + 168*2**(2/3))/29 + 127998/62843) - 18513421209*2**(1/3)/3949242649 - 1890816303*2**(1/3)*sqrt(-183 - 40*2**(1/3) + 168*2**(2/3))/3949242649 - 944714187*2**(2/3)*sqrt(-183 - 40*2**(1/3) + 168*2**(2/3))/3949242649 + 440271567*sqrt(-183 - 40*2**(1/3) + 168*2**(2/3))/3949242649 + 8867424765/3949242649 + 25565981992*2**(2/3)/3949242649) - 2*sqrt(-sqrt(-183 - 40*2**(1/3) + 168*2**(2/3))/12 + 2**(1/3)*(50 - 7*2**(1/3))/48)*atan(125686*sqrt(3)*x/(-52947*sqrt(-4*sqrt(-183 - 40*2**(1/3) + 168*2**(2/3)) - 7*2**(2/3) + 50*2**(1/3)) - 2745*2**(1/3)*sqrt(-4*sqrt(-183 - 40*2**(1/3) + 168*2**(2/3)) - 7*2**(2/3) + 50*2**(1/3)) + 915*2**(2/3)*sqrt(-4*sqrt(-183 - 40*2**(1/3) + 168*2**(2/3)) - 7*2**(2/3) + 50*2**(1/3)) + 1854*sqrt(-183 - 40*2**(1/3) + 168*2**(2/3))*sqrt(-4*sqrt(-183 - 40*2**(1/3) + 168*2**(2/3)) - 7*2**(2/3) + 50*2**(1/3))) + 127998*sqrt(3)/(-52947*sqrt(-4*sqrt(-183 - 40*2**(1/3) + 168*2**(2/3)) - 7*2**(2/3) + 50*2**(1/3)) - 2745*2**(1/3)*sqrt(-4*sqrt(-183 - 40*2**(1/3) + 168*2**(2/3)) - 7*2**(2/3) + 50*2**(1/3)) + 915*2**(2/3)*sqrt(-4*sqrt(-183 - 40*2**(1/3) + 168*2**(2/3)) - 7*2**(2/3) + 50*2**(1/3)) + 1854*sqrt(-183 - 40*2**(1/3) + 168*2**(2/3))*sqrt(-4*sqrt(-183 - 40*2**(1/3) + 168*2**(2/3)) - 7*2**(2/3) + 50*2**(1/3))) + 13002*sqrt(3)*sqrt(-183 - 40*2**(1/3) + 168*2**(2/3))/(-52947*sqrt(-4*sqrt(-183 - 40*2**(1/3) + 168*2**(2/3)) - 7*2**(2/3) + 50*2**(1/3)) - 2745*2**(1/3)*sqrt(-4*sqrt(-183 - 40*2**(1/3) + 168*2**(2/3)) - 7*2**(2/3) + 50*2**(1/3)) + 915*2**(2/3)*sqrt(-4*sqrt(-183 - 40*2**(1/3) + 168*2**(2/3)) - 7*2**(2/3) + 50*2**(1/3)) + 1854*sqrt(-183 - 40*2**(1/3) + 168*2**(2/3))*sqrt(-4*sqrt(-183 - 40*2**(1/3) + 168*2**(2/3)) - 7*2**(2/3) + 50*2**(1/3))) + 5562*2**(1/3)*sqrt(3)*sqrt(-183 - 40*2**(1/3) + 168*2**(2/3))/(-52947*sqrt(-4*sqrt(-183 - 40*2**(1/3) + 168*2**(2/3)) - 7*2**(2/3) + 50*2**(1/3)) - 2745*2**(1/3)*sqrt(-4*sqrt(-183 - 40*2**(1/3) + 168*2**(2/3)) - 7*2**(2/3) + 50*2**(1/3)) + 915*2**(2/3)*sqrt(-4*sqrt(-183 - 40*2**(1/3) + 168*2**(2/3)) - 7*2**(2/3) + 50*2**(1/3)) + 1854*sqrt(-183 - 40*2**(1/3) + 168*2**(2/3))*sqrt(-4*sqrt(-183 - 40*2**(1/3) + 168*2**(2/3)) - 7*2**(2/3) + 50*2**(1/3))) - 1854*2**(2/3)*sqrt(3)*sqrt(-183 - 40*2**(1/3) + 168*2**(2/3))/(-52947*sqrt(-4*sqrt(-183 - 40*2**(1/3) + 168*2**(2/3)) - 7*2**(2/3) + 50*2**(1/3)) - 2745*2**(1/3)*sqrt(-4*sqrt(-183 - 40*2**(1/3) + 168*2**(2/3)) - 7*2**(2/3) + 50*2**(1/3)) + 915*2**(2/3)*sqrt(-4*sqrt(-183 - 40*2**(1/3) + 168*2**(2/3)) - 7*2**(2/3) + 50*2**(1/3)) + 1854*sqrt(-183 - 40*2**(1/3) + 168*2**(2/3))*sqrt(-4*sqrt(-183 - 40*2**(1/3) + 168*2**(2/3)) - 7*2**(2/3) + 50*2**(1/3))) - 20298*2**(2/3)*sqrt(3)/(-52947*sqrt(-4*sqrt(-183 - 40*2**(1/3) + 168*2**(2/3)) - 7*2**(2/3) + 50*2**(1/3)) - 2745*2**(1/3)*sqrt(-4*sqrt(-183 - 40*2**(1/3) + 168*2**(2/3)) - 7*2**(2/3) + 50*2**(1/3)) + 915*2**(2/3)*sqrt(-4*sqrt(-183 - 40*2**(1/3) + 168*2**(2/3)) - 7*2**(2/3) + 50*2**(1/3)) + 1854*sqrt(-183 - 40*2**(1/3) + 168*2**(2/3))*sqrt(-4*sqrt(-183 - 40*2**(1/3) + 168*2**(2/3)) - 7*2**(2/3) + 50*2**(1/3))) - 217013*2**(1/3)*sqrt(3)/(-52947*sqrt(-4*sqrt(-183 - 40*2**(1/3) + 168*2**(2/3)) - 7*2**(2/3) + 50*2**(1/3)) - 2745*2**(1/3)*sqrt(-4*sqrt(-183 - 40*2**(1/3) + 168*2**(2/3)) - 7*2**(2/3) + 50*2**(1/3)) + 915*2**(2/3)*sqrt(-4*sqrt(-183 - 40*2**(1/3) + 168*2**(2/3)) - 7*2**(2/3) + 50*2**(1/3)) + 1854*sqrt(-183 - 40*2**(1/3) + 168*2**(2/3))*sqrt(-4*sqrt(-183 - 40*2**(1/3) + 168*2**(2/3)) - 7*2**(2/3) + 50*2**(1/3)))))"
      ]
     },
     "metadata": {},
     "output_type": "display_data"
    },
    {
     "data": {
      "text/latex": [
       "$\\displaystyle \\frac{d}{d x} \\frac{e^{x}}{\\tan{\\left(x \\right)}} = \\frac{\\left(- \\tan^{2}{\\left(x \\right)} - 1\\right) e^{x}}{\\tan^{2}{\\left(x \\right)}} + \\frac{e^{x}}{\\tan{\\left(x \\right)}}$"
      ],
      "text/plain": [
       "Eq(Derivative(exp(x)/tan(x), x), (-tan(x)**2 - 1)*exp(x)/tan(x)**2 + exp(x)/tan(x))"
      ]
     },
     "metadata": {},
     "output_type": "display_data"
    },
    {
     "data": {
      "text/latex": [
       "$\\displaystyle \\int \\left(- \\cos{\\left(x \\right)} + \\tan{\\left(x \\right)}\\right)\\, dx = - \\log{\\left(\\cos{\\left(x \\right)} \\right)} - \\sin{\\left(x \\right)}$"
      ],
      "text/plain": [
       "Eq(Integral(-cos(x) + tan(x), x), -log(cos(x)) - sin(x))"
      ]
     },
     "metadata": {},
     "output_type": "display_data"
    },
    {
     "data": {
      "text/latex": [
       "$\\displaystyle \\frac{d}{d x} \\left(- \\sqrt[3]{x} + \\log{\\left(x \\right)}\\right) = \\frac{1}{x} - \\frac{1}{3 x^{\\frac{2}{3}}}$"
      ],
      "text/plain": [
       "Eq(Derivative(-x**(1/3) + log(x), x), 1/x - 1/(3*x**(2/3)))"
      ]
     },
     "metadata": {},
     "output_type": "display_data"
    },
    {
     "data": {
      "text/latex": [
       "$\\displaystyle \\int 2 \\sin{\\left(x \\right)}\\, dx = - 2 \\cos{\\left(x \\right)}$"
      ],
      "text/plain": [
       "Eq(Integral(2*sin(x), x), -2*cos(x))"
      ]
     },
     "metadata": {},
     "output_type": "display_data"
    },
    {
     "data": {
      "text/latex": [
       "$\\displaystyle \\frac{d}{d x} \\left(x^{5} + \\log{\\left(x \\right)}\\right) = 5 x^{4} + \\frac{1}{x}$"
      ],
      "text/plain": [
       "Eq(Derivative(x**5 + log(x), x), 5*x**4 + 1/x)"
      ]
     },
     "metadata": {},
     "output_type": "display_data"
    },
    {
     "data": {
      "text/latex": [
       "$\\displaystyle \\int \\left(- \\sqrt[3]{x} - 2 x\\right)\\, dx = - \\frac{3 x^{\\frac{4}{3}}}{4} - x^{2}$"
      ],
      "text/plain": [
       "Eq(Integral(-x**(1/3) - 2*x, x), -3*x**(4/3)/4 - x**2)"
      ]
     },
     "metadata": {},
     "output_type": "display_data"
    },
    {
     "data": {
      "text/latex": [
       "$\\displaystyle \\frac{d}{d x} \\left(x + e^{x} + 1\\right) = e^{x} + 1$"
      ],
      "text/plain": [
       "Eq(Derivative(x + exp(x) + 1, x), exp(x) + 1)"
      ]
     },
     "metadata": {},
     "output_type": "display_data"
    },
    {
     "data": {
      "text/latex": [
       "$\\displaystyle \\int \\left(\\cos{\\left(x \\right)} - \\frac{1}{x^{2}}\\right)\\, dx = \\sin{\\left(x \\right)} + \\frac{1}{x}$"
      ],
      "text/plain": [
       "Eq(Integral(cos(x) - 1/x**2, x), sin(x) + 1/x)"
      ]
     },
     "metadata": {},
     "output_type": "display_data"
    },
    {
     "data": {
      "text/latex": [
       "$\\displaystyle \\frac{d}{d x} \\left(x + e^{x}\\right) = e^{x} + 1$"
      ],
      "text/plain": [
       "Eq(Derivative(x + exp(x), x), exp(x) + 1)"
      ]
     },
     "metadata": {},
     "output_type": "display_data"
    },
    {
     "data": {
      "text/latex": [
       "$\\displaystyle \\int e^{- x} \\tan{\\left(x \\right)}\\, dx = \\int e^{- x} \\tan{\\left(x \\right)}\\, dx$"
      ],
      "text/plain": [
       "Eq(Integral(exp(-x)*tan(x), x), Integral(exp(-x)*tan(x), x))"
      ]
     },
     "metadata": {},
     "output_type": "display_data"
    },
    {
     "data": {
      "text/latex": [
       "$\\displaystyle \\frac{d}{d x} \\left(- x + e^{x}\\right) = e^{x} - 1$"
      ],
      "text/plain": [
       "Eq(Derivative(-x + exp(x), x), exp(x) - 1)"
      ]
     },
     "metadata": {},
     "output_type": "display_data"
    },
    {
     "data": {
      "text/latex": [
       "$\\displaystyle \\int \\left(\\sqrt{x} + \\cos{\\left(x \\right)}\\right)\\, dx = \\frac{2 x^{\\frac{3}{2}}}{3} + \\sin{\\left(x \\right)}$"
      ],
      "text/plain": [
       "Eq(Integral(sqrt(x) + cos(x), x), 2*x**(3/2)/3 + sin(x))"
      ]
     },
     "metadata": {},
     "output_type": "display_data"
    },
    {
     "data": {
      "text/latex": [
       "$\\displaystyle \\frac{d}{d x} \\left(- \\sqrt[3]{x} + x\\right) = 1 - \\frac{1}{3 x^{\\frac{2}{3}}}$"
      ],
      "text/plain": [
       "Eq(Derivative(-x**(1/3) + x, x), 1 - 1/(3*x**(2/3)))"
      ]
     },
     "metadata": {},
     "output_type": "display_data"
    },
    {
     "data": {
      "text/latex": [
       "$\\displaystyle \\int \\log{\\left(x \\right)}\\, dx = x \\log{\\left(x \\right)} - x$"
      ],
      "text/plain": [
       "Eq(Integral(log(x), x), x*log(x) - x)"
      ]
     },
     "metadata": {},
     "output_type": "display_data"
    },
    {
     "data": {
      "text/latex": [
       "$\\displaystyle \\frac{d}{d x} \\frac{x - 3}{\\sqrt{x}} = \\frac{1}{\\sqrt{x}} - \\frac{x - 3}{2 x^{\\frac{3}{2}}}$"
      ],
      "text/plain": [
       "Eq(Derivative((x - 3)/sqrt(x), x), 1/sqrt(x) - (x - 3)/(2*x**(3/2)))"
      ]
     },
     "metadata": {},
     "output_type": "display_data"
    },
    {
     "data": {
      "text/latex": [
       "$\\displaystyle \\int e^{3 x - 3 + \\frac{1}{x^{2}}}\\, dx = \\frac{\\int e^{\\frac{1}{x^{2}}} e^{3 x}\\, dx}{e^{3}}$"
      ],
      "text/plain": [
       "Eq(Integral(exp(3*x - 3 + x**(-2)), x), exp(-3)*Integral(exp(x**(-2))*exp(3*x), x))"
      ]
     },
     "metadata": {},
     "output_type": "display_data"
    },
    {
     "data": {
      "text/latex": [
       "$\\displaystyle \\frac{d}{d x} \\cos{\\left(\\tan{\\left(x \\right)} \\right)} = - \\left(\\tan^{2}{\\left(x \\right)} + 1\\right) \\sin{\\left(\\tan{\\left(x \\right)} \\right)}$"
      ],
      "text/plain": [
       "Eq(Derivative(cos(tan(x)), x), -(tan(x)**2 + 1)*sin(tan(x)))"
      ]
     },
     "metadata": {},
     "output_type": "display_data"
    },
    {
     "data": {
      "text/latex": [
       "$\\displaystyle \\int \\frac{\\log{\\left(x \\right)}}{\\sqrt[3]{x}}\\, dx = \\begin{cases} \\frac{3 x^{\\frac{2}{3}} \\log{\\left(x \\right)}}{2} - \\frac{9 x^{\\frac{2}{3}}}{4} & \\text{for}\\: \\left|{x}\\right| < 1 \\\\- \\frac{3 x^{\\frac{2}{3}} \\log{\\left(\\frac{1}{x} \\right)}}{2} - \\frac{9 x^{\\frac{2}{3}}}{4} & \\text{for}\\: \\frac{1}{\\left|{x}\\right|} < 1 \\\\- {G_{3, 3}^{2, 1}\\left(\\begin{matrix} 1 & \\frac{5}{3}, \\frac{5}{3} \\\\\\frac{2}{3}, \\frac{2}{3} & 0 \\end{matrix} \\middle| {x} \\right)} + {G_{3, 3}^{0, 3}\\left(\\begin{matrix} \\frac{5}{3}, \\frac{5}{3}, 1 &  \\\\ & \\frac{2}{3}, \\frac{2}{3}, 0 \\end{matrix} \\middle| {x} \\right)} & \\text{otherwise} \\end{cases}$"
      ],
      "text/plain": [
       "Eq(Integral(log(x)/x**(1/3), x), Piecewise((3*x**(2/3)*log(x)/2 - 9*x**(2/3)/4, Abs(x) < 1), (-3*x**(2/3)*log(1/x)/2 - 9*x**(2/3)/4, 1/Abs(x) < 1), (-meijerg(((1,), (5/3, 5/3)), ((2/3, 2/3), (0,)), x) + meijerg(((5/3, 5/3, 1), ()), ((), (2/3, 2/3, 0)), x), True)))"
      ]
     },
     "metadata": {},
     "output_type": "display_data"
    },
    {
     "data": {
      "text/latex": [
       "$\\displaystyle \\frac{d}{d x} x^{8} = 8 x^{7}$"
      ],
      "text/plain": [
       "Eq(Derivative(x**8, x), 8*x**7)"
      ]
     },
     "metadata": {},
     "output_type": "display_data"
    },
    {
     "data": {
      "text/latex": [
       "$\\displaystyle \\int \\frac{\\sqrt{x}}{\\cos{\\left(x \\right)}}\\, dx = \\int \\frac{\\sqrt{x}}{\\cos{\\left(x \\right)}}\\, dx$"
      ],
      "text/plain": [
       "Eq(Integral(sqrt(x)/cos(x), x), Integral(sqrt(x)/cos(x), x))"
      ]
     },
     "metadata": {},
     "output_type": "display_data"
    },
    {
     "data": {
      "text/latex": [
       "$\\displaystyle \\frac{d}{d x} \\left(- \\sqrt{x} + e^{x}\\right) = e^{x} - \\frac{1}{2 \\sqrt{x}}$"
      ],
      "text/plain": [
       "Eq(Derivative(-sqrt(x) + exp(x), x), exp(x) - 1/(2*sqrt(x)))"
      ]
     },
     "metadata": {},
     "output_type": "display_data"
    },
    {
     "data": {
      "text/latex": [
       "$\\displaystyle \\int \\sin{\\left(\\sqrt[3]{x} \\right)}\\, dx = - 3 x^{\\frac{2}{3}} \\cos{\\left(\\sqrt[3]{x} \\right)} + 6 \\sqrt[3]{x} \\sin{\\left(\\sqrt[3]{x} \\right)} + 6 \\cos{\\left(\\sqrt[3]{x} \\right)}$"
      ],
      "text/plain": [
       "Eq(Integral(sin(x**(1/3)), x), -3*x**(2/3)*cos(x**(1/3)) + 6*x**(1/3)*sin(x**(1/3)) + 6*cos(x**(1/3)))"
      ]
     },
     "metadata": {},
     "output_type": "display_data"
    },
    {
     "data": {
      "text/latex": [
       "$\\displaystyle \\frac{d}{d x} \\left(x^{3} - x - 4\\right) = 3 x^{2} - 1$"
      ],
      "text/plain": [
       "Eq(Derivative(x**3 - x - 4, x), 3*x**2 - 1)"
      ]
     },
     "metadata": {},
     "output_type": "display_data"
    },
    {
     "data": {
      "text/latex": [
       "$\\displaystyle \\int \\left(e^{x} + \\sin{\\left(x \\right)}\\right)\\, dx = e^{x} - \\cos{\\left(x \\right)}$"
      ],
      "text/plain": [
       "Eq(Integral(exp(x) + sin(x), x), exp(x) - cos(x))"
      ]
     },
     "metadata": {},
     "output_type": "display_data"
    },
    {
     "data": {
      "text/latex": [
       "$\\displaystyle \\frac{d}{d x} \\left(\\sqrt[3]{x} - 3 x\\right) = -3 + \\frac{1}{3 x^{\\frac{2}{3}}}$"
      ],
      "text/plain": [
       "Eq(Derivative(x**(1/3) - 3*x, x), -3 + 1/(3*x**(2/3)))"
      ]
     },
     "metadata": {},
     "output_type": "display_data"
    },
    {
     "data": {
      "text/latex": [
       "$\\displaystyle \\int \\sqrt{\\cos{\\left(x \\right)}}\\, dx = \\int \\sqrt{\\cos{\\left(x \\right)}}\\, dx$"
      ],
      "text/plain": [
       "Eq(Integral(sqrt(cos(x)), x), Integral(sqrt(cos(x)), x))"
      ]
     },
     "metadata": {},
     "output_type": "display_data"
    },
    {
     "data": {
      "text/latex": [
       "$\\displaystyle \\frac{d}{d x} \\left(- 2 x + e^{x}\\right) = e^{x} - 2$"
      ],
      "text/plain": [
       "Eq(Derivative(-2*x + exp(x), x), exp(x) - 2)"
      ]
     },
     "metadata": {},
     "output_type": "display_data"
    },
    {
     "data": {
      "text/latex": [
       "$\\displaystyle \\int \\log{\\left(x \\right)}^{5}\\, dx = x \\log{\\left(x \\right)}^{5} - 5 x \\log{\\left(x \\right)}^{4} + 20 x \\log{\\left(x \\right)}^{3} - 60 x \\log{\\left(x \\right)}^{2} + 120 x \\log{\\left(x \\right)} - 120 x$"
      ],
      "text/plain": [
       "Eq(Integral(log(x)**5, x), x*log(x)**5 - 5*x*log(x)**4 + 20*x*log(x)**3 - 60*x*log(x)**2 + 120*x*log(x) - 120*x)"
      ]
     },
     "metadata": {},
     "output_type": "display_data"
    },
    {
     "data": {
      "text/latex": [
       "$\\displaystyle \\frac{d}{d x} \\left(x - \\tan{\\left(x \\right)}\\right) = - \\tan^{2}{\\left(x \\right)}$"
      ],
      "text/plain": [
       "Eq(Derivative(x - tan(x), x), -tan(x)**2)"
      ]
     },
     "metadata": {},
     "output_type": "display_data"
    },
    {
     "data": {
      "text/latex": [
       "$\\displaystyle \\int \\log{\\left(- x \\right)}\\, dx = x \\log{\\left(- x \\right)} - x$"
      ],
      "text/plain": [
       "Eq(Integral(log(-x), x), x*log(-x) - x)"
      ]
     },
     "metadata": {},
     "output_type": "display_data"
    },
    {
     "data": {
      "text/latex": [
       "$\\displaystyle \\frac{d}{d x} \\left(- 2 x - e^{x}\\right) = - e^{x} - 2$"
      ],
      "text/plain": [
       "Eq(Derivative(-2*x - exp(x), x), -exp(x) - 2)"
      ]
     },
     "metadata": {},
     "output_type": "display_data"
    },
    {
     "data": {
      "text/latex": [
       "$\\displaystyle \\int \\left(x^{5} + \\sin{\\left(x \\right)}\\right)\\, dx = \\frac{x^{6}}{6} - \\cos{\\left(x \\right)}$"
      ],
      "text/plain": [
       "Eq(Integral(x**5 + sin(x), x), x**6/6 - cos(x))"
      ]
     },
     "metadata": {},
     "output_type": "display_data"
    },
    {
     "data": {
      "text/latex": [
       "$\\displaystyle \\frac{d}{d x} \\left(- e^{x} + \\cos{\\left(x \\right)}\\right) = - e^{x} - \\sin{\\left(x \\right)}$"
      ],
      "text/plain": [
       "Eq(Derivative(-exp(x) + cos(x), x), -exp(x) - sin(x))"
      ]
     },
     "metadata": {},
     "output_type": "display_data"
    },
    {
     "data": {
      "text/latex": [
       "$\\displaystyle \\int \\frac{\\sqrt[3]{x}}{\\log{\\left(x \\right)}}\\, dx = \\operatorname{Ei}{\\left(\\frac{4 \\log{\\left(x \\right)}}{3} \\right)}$"
      ],
      "text/plain": [
       "Eq(Integral(x**(1/3)/log(x), x), Ei(4*log(x)/3))"
      ]
     },
     "metadata": {},
     "output_type": "display_data"
    },
    {
     "data": {
      "text/latex": [
       "$\\displaystyle \\frac{d}{d x} \\left(\\sqrt[3]{x} + \\tan{\\left(x \\right)}\\right) = \\tan^{2}{\\left(x \\right)} + 1 + \\frac{1}{3 x^{\\frac{2}{3}}}$"
      ],
      "text/plain": [
       "Eq(Derivative(x**(1/3) + tan(x), x), tan(x)**2 + 1 + 1/(3*x**(2/3)))"
      ]
     },
     "metadata": {},
     "output_type": "display_data"
    },
    {
     "data": {
      "text/latex": [
       "$\\displaystyle \\int \\left(- 2 x + \\sin{\\left(x \\right)}\\right)\\, dx = - x^{2} - \\cos{\\left(x \\right)}$"
      ],
      "text/plain": [
       "Eq(Integral(-2*x + sin(x), x), -x**2 - cos(x))"
      ]
     },
     "metadata": {},
     "output_type": "display_data"
    },
    {
     "data": {
      "text/latex": [
       "$\\displaystyle \\frac{d}{d x} \\frac{\\cos{\\left(x \\right)}}{x + 1} = - \\frac{\\sin{\\left(x \\right)}}{x + 1} - \\frac{\\cos{\\left(x \\right)}}{\\left(x + 1\\right)^{2}}$"
      ],
      "text/plain": [
       "Eq(Derivative(cos(x)/(x + 1), x), -sin(x)/(x + 1) - cos(x)/(x + 1)**2)"
      ]
     },
     "metadata": {},
     "output_type": "display_data"
    },
    {
     "data": {
      "text/latex": [
       "$\\displaystyle \\int \\left(e^{x} - \\sin{\\left(x \\right)}\\right)\\, dx = e^{x} + \\cos{\\left(x \\right)}$"
      ],
      "text/plain": [
       "Eq(Integral(exp(x) - sin(x), x), exp(x) + cos(x))"
      ]
     },
     "metadata": {},
     "output_type": "display_data"
    },
    {
     "data": {
      "text/latex": [
       "$\\displaystyle \\frac{d}{d x} \\left(\\sqrt[3]{x} + \\cos{\\left(x \\right)}\\right) = - \\sin{\\left(x \\right)} + \\frac{1}{3 x^{\\frac{2}{3}}}$"
      ],
      "text/plain": [
       "Eq(Derivative(x**(1/3) + cos(x), x), -sin(x) + 1/(3*x**(2/3)))"
      ]
     },
     "metadata": {},
     "output_type": "display_data"
    },
    {
     "data": {
      "text/latex": [
       "$\\displaystyle \\int \\frac{\\cos{\\left(x \\right)}}{- 3 x - 2}\\, dx = - \\int \\frac{\\cos{\\left(x \\right)}}{3 x + 2}\\, dx$"
      ],
      "text/plain": [
       "Eq(Integral(cos(x)/(-3*x - 2), x), -Integral(cos(x)/(3*x + 2), x))"
      ]
     },
     "metadata": {},
     "output_type": "display_data"
    },
    {
     "data": {
      "text/latex": [
       "$\\displaystyle \\frac{d}{d x} \\frac{\\cos{\\left(x \\right)}}{\\sqrt[3]{x}} = - \\frac{\\sin{\\left(x \\right)}}{\\sqrt[3]{x}} - \\frac{\\cos{\\left(x \\right)}}{3 x^{\\frac{4}{3}}}$"
      ],
      "text/plain": [
       "Eq(Derivative(cos(x)/x**(1/3), x), -sin(x)/x**(1/3) - cos(x)/(3*x**(4/3)))"
      ]
     },
     "metadata": {},
     "output_type": "display_data"
    },
    {
     "data": {
      "text/latex": [
       "$\\displaystyle \\int 0\\, dx = 0$"
      ],
      "text/plain": [
       "Eq(Integral(0, x), 0)"
      ]
     },
     "metadata": {},
     "output_type": "display_data"
    },
    {
     "data": {
      "text/latex": [
       "$\\displaystyle \\frac{d}{d x} \\tan{\\left(\\cos{\\left(x \\right)} \\right)} = - \\left(\\tan^{2}{\\left(\\cos{\\left(x \\right)} \\right)} + 1\\right) \\sin{\\left(x \\right)}$"
      ],
      "text/plain": [
       "Eq(Derivative(tan(cos(x)), x), -(tan(cos(x))**2 + 1)*sin(x))"
      ]
     },
     "metadata": {},
     "output_type": "display_data"
    },
    {
     "data": {
      "text/latex": [
       "$\\displaystyle \\int x^{\\frac{9}{2}}\\, dx = \\frac{2 x^{\\frac{11}{2}}}{11}$"
      ],
      "text/plain": [
       "Eq(Integral(x**(9/2), x), 2*x**(11/2)/11)"
      ]
     },
     "metadata": {},
     "output_type": "display_data"
    },
    {
     "data": {
      "text/latex": [
       "$\\displaystyle \\frac{d}{d x} x^{5} = 5 x^{4}$"
      ],
      "text/plain": [
       "Eq(Derivative(x**5, x), 5*x**4)"
      ]
     },
     "metadata": {},
     "output_type": "display_data"
    },
    {
     "data": {
      "text/latex": [
       "$\\displaystyle \\int \\left(- x^{4} + e^{x}\\right)\\, dx = - \\frac{x^{5}}{5} + e^{x}$"
      ],
      "text/plain": [
       "Eq(Integral(-x**4 + exp(x), x), -x**5/5 + exp(x))"
      ]
     },
     "metadata": {},
     "output_type": "display_data"
    },
    {
     "data": {
      "text/latex": [
       "$\\displaystyle \\frac{d}{d x} \\sqrt[3]{\\log{\\left(x \\right)}} = \\frac{1}{3 x \\log{\\left(x \\right)}^{\\frac{2}{3}}}$"
      ],
      "text/plain": [
       "Eq(Derivative(log(x)**(1/3), x), 1/(3*x*log(x)**(2/3)))"
      ]
     },
     "metadata": {},
     "output_type": "display_data"
    },
    {
     "data": {
      "text/latex": [
       "$\\displaystyle \\int \\sqrt{\\cos{\\left(x \\right)}}\\, dx = \\int \\sqrt{\\cos{\\left(x \\right)}}\\, dx$"
      ],
      "text/plain": [
       "Eq(Integral(sqrt(cos(x)), x), Integral(sqrt(cos(x)), x))"
      ]
     },
     "metadata": {},
     "output_type": "display_data"
    },
    {
     "data": {
      "text/latex": [
       "$\\displaystyle \\frac{d}{d x} \\log{\\left(\\sqrt{x} \\right)} = \\frac{1}{2 x}$"
      ],
      "text/plain": [
       "Eq(Derivative(log(sqrt(x)), x), 1/(2*x))"
      ]
     },
     "metadata": {},
     "output_type": "display_data"
    },
    {
     "data": {
      "text/latex": [
       "$\\displaystyle \\int \\left(- x^{4} + \\cos{\\left(x \\right)} - 4\\right)\\, dx = - \\frac{x^{5}}{5} - 4 x + \\sin{\\left(x \\right)}$"
      ],
      "text/plain": [
       "Eq(Integral(-x**4 + cos(x) - 4, x), -x**5/5 - 4*x + sin(x))"
      ]
     },
     "metadata": {},
     "output_type": "display_data"
    },
    {
     "data": {
      "text/latex": [
       "$\\displaystyle \\frac{d}{d x} \\log{\\left(x + 1 \\right)} = \\frac{1}{x + 1}$"
      ],
      "text/plain": [
       "Eq(Derivative(log(x + 1), x), 1/(x + 1))"
      ]
     },
     "metadata": {},
     "output_type": "display_data"
    },
    {
     "data": {
      "text/latex": [
       "$\\displaystyle \\int \\left(- \\frac{1}{4 x^{\\frac{2}{3}}}\\right)\\, dx = - \\frac{3 \\sqrt[3]{x}}{4}$"
      ],
      "text/plain": [
       "Eq(Integral(-1/(4*x**(2/3)), x), -3*x**(1/3)/4)"
      ]
     },
     "metadata": {},
     "output_type": "display_data"
    },
    {
     "data": {
      "text/latex": [
       "$\\displaystyle \\frac{d}{d x} \\frac{\\sqrt[3]{x}}{x - 4} = - \\frac{\\sqrt[3]{x}}{\\left(x - 4\\right)^{2}} + \\frac{1}{3 x^{\\frac{2}{3}} \\left(x - 4\\right)}$"
      ],
      "text/plain": [
       "Eq(Derivative(x**(1/3)/(x - 4), x), -x**(1/3)/(x - 4)**2 + 1/(3*x**(2/3)*(x - 4)))"
      ]
     },
     "metadata": {},
     "output_type": "display_data"
    },
    {
     "data": {
      "text/latex": [
       "$\\displaystyle \\int 1\\, dx = x$"
      ],
      "text/plain": [
       "Eq(Integral(1, x), x)"
      ]
     },
     "metadata": {},
     "output_type": "display_data"
    },
    {
     "data": {
      "text/latex": [
       "$\\displaystyle \\frac{d}{d x} \\frac{\\sqrt[3]{x}}{x - 4} = - \\frac{\\sqrt[3]{x}}{\\left(x - 4\\right)^{2}} + \\frac{1}{3 x^{\\frac{2}{3}} \\left(x - 4\\right)}$"
      ],
      "text/plain": [
       "Eq(Derivative(x**(1/3)/(x - 4), x), -x**(1/3)/(x - 4)**2 + 1/(3*x**(2/3)*(x - 4)))"
      ]
     },
     "metadata": {},
     "output_type": "display_data"
    },
    {
     "data": {
      "text/latex": [
       "$\\displaystyle \\int \\frac{x + 1}{\\sin{\\left(x \\right)}}\\, dx = \\int \\frac{x + 1}{\\sin{\\left(x \\right)}}\\, dx$"
      ],
      "text/plain": [
       "Eq(Integral((x + 1)/sin(x), x), Integral((x + 1)/sin(x), x))"
      ]
     },
     "metadata": {},
     "output_type": "display_data"
    },
    {
     "data": {
      "text/latex": [
       "$\\displaystyle \\frac{d}{d x} \\left(x^{4} - \\cos{\\left(x \\right)} + 4\\right) = 4 x^{3} + \\sin{\\left(x \\right)}$"
      ],
      "text/plain": [
       "Eq(Derivative(x**4 - cos(x) + 4, x), 4*x**3 + sin(x))"
      ]
     },
     "metadata": {},
     "output_type": "display_data"
    },
    {
     "data": {
      "text/latex": [
       "$\\displaystyle \\int \\tan{\\left(\\log{\\left(x \\right)} \\right)}\\, dx = \\int \\tan{\\left(\\log{\\left(x \\right)} \\right)}\\, dx$"
      ],
      "text/plain": [
       "Eq(Integral(tan(log(x)), x), Integral(tan(log(x)), x))"
      ]
     },
     "metadata": {},
     "output_type": "display_data"
    },
    {
     "data": {
      "text/latex": [
       "$\\displaystyle \\frac{d}{d x} \\frac{\\log{\\left(x \\right)}}{x - 2} = - \\frac{\\log{\\left(x \\right)}}{\\left(x - 2\\right)^{2}} + \\frac{1}{x \\left(x - 2\\right)}$"
      ],
      "text/plain": [
       "Eq(Derivative(log(x)/(x - 2), x), -log(x)/(x - 2)**2 + 1/(x*(x - 2)))"
      ]
     },
     "metadata": {},
     "output_type": "display_data"
    },
    {
     "data": {
      "text/latex": [
       "$\\displaystyle \\int \\frac{x + 4}{\\cos{\\left(x \\right)}}\\, dx = \\int \\frac{x + 4}{\\cos{\\left(x \\right)}}\\, dx$"
      ],
      "text/plain": [
       "Eq(Integral((x + 4)/cos(x), x), Integral((x + 4)/cos(x), x))"
      ]
     },
     "metadata": {},
     "output_type": "display_data"
    },
    {
     "data": {
      "text/latex": [
       "$\\displaystyle \\frac{d}{d x} \\left(x - \\tan{\\left(x \\right)} - 1\\right) = - \\tan^{2}{\\left(x \\right)}$"
      ],
      "text/plain": [
       "Eq(Derivative(x - tan(x) - 1, x), -tan(x)**2)"
      ]
     },
     "metadata": {},
     "output_type": "display_data"
    },
    {
     "data": {
      "text/latex": [
       "$\\displaystyle \\int \\left(x^{4} + \\log{\\left(x \\right)}\\right)\\, dx = \\frac{x^{5}}{5} + x \\log{\\left(x \\right)} - x$"
      ],
      "text/plain": [
       "Eq(Integral(x**4 + log(x), x), x**5/5 + x*log(x) - x)"
      ]
     },
     "metadata": {},
     "output_type": "display_data"
    },
    {
     "data": {
      "text/latex": [
       "$\\displaystyle \\frac{d}{d x} \\frac{1}{x^{4} \\log{\\left(x \\right)}} = - \\frac{4}{x^{5} \\log{\\left(x \\right)}} - \\frac{1}{x^{5} \\log{\\left(x \\right)}^{2}}$"
      ],
      "text/plain": [
       "Eq(Derivative(1/(x**4*log(x)), x), -4/(x**5*log(x)) - 1/(x**5*log(x)**2))"
      ]
     },
     "metadata": {},
     "output_type": "display_data"
    },
    {
     "data": {
      "text/latex": [
       "$\\displaystyle \\int \\frac{\\tan{\\left(x \\right)}}{x^{3} - 5}\\, dx = \\int \\frac{\\tan{\\left(x \\right)}}{x^{3} - 5}\\, dx$"
      ],
      "text/plain": [
       "Eq(Integral(tan(x)/(x**3 - 5), x), Integral(tan(x)/(x**3 - 5), x))"
      ]
     },
     "metadata": {},
     "output_type": "display_data"
    },
    {
     "data": {
      "text/latex": [
       "$\\displaystyle \\frac{d}{d x} 2 \\cos{\\left(x \\right)} = - 2 \\sin{\\left(x \\right)}$"
      ],
      "text/plain": [
       "Eq(Derivative(2*cos(x), x), -2*sin(x))"
      ]
     },
     "metadata": {},
     "output_type": "display_data"
    },
    {
     "data": {
      "text/latex": [
       "$\\displaystyle \\int \\frac{e^{x}}{\\log{\\left(x \\right)}}\\, dx = \\int \\frac{e^{x}}{\\log{\\left(x \\right)}}\\, dx$"
      ],
      "text/plain": [
       "Eq(Integral(exp(x)/log(x), x), Integral(exp(x)/log(x), x))"
      ]
     },
     "metadata": {},
     "output_type": "display_data"
    },
    {
     "data": {
      "text/latex": [
       "$\\displaystyle \\frac{d}{d x} \\left(\\cos{\\left(x \\right)} + \\frac{1}{x^{4}}\\right) = - \\sin{\\left(x \\right)} - \\frac{4}{x^{5}}$"
      ],
      "text/plain": [
       "Eq(Derivative(cos(x) + x**(-4), x), -sin(x) - 4/x**5)"
      ]
     },
     "metadata": {},
     "output_type": "display_data"
    },
    {
     "data": {
      "text/latex": [
       "$\\displaystyle \\int \\frac{\\sqrt{x}}{\\log{\\left(x \\right)}}\\, dx = \\int \\frac{\\sqrt{x}}{\\log{\\left(x \\right)}}\\, dx$"
      ],
      "text/plain": [
       "Eq(Integral(sqrt(x)/log(x), x), Integral(sqrt(x)/log(x), x))"
      ]
     },
     "metadata": {},
     "output_type": "display_data"
    },
    {
     "data": {
      "text/latex": [
       "$\\displaystyle \\frac{d}{d x} \\left(\\sqrt{x} + \\sin{\\left(x \\right)}\\right) = \\cos{\\left(x \\right)} + \\frac{1}{2 \\sqrt{x}}$"
      ],
      "text/plain": [
       "Eq(Derivative(sqrt(x) + sin(x), x), cos(x) + 1/(2*sqrt(x)))"
      ]
     },
     "metadata": {},
     "output_type": "display_data"
    },
    {
     "data": {
      "text/latex": [
       "$\\displaystyle \\int \\left(x + \\sin{\\left(x \\right)} + 2\\right)\\, dx = \\frac{x^{2}}{2} + 2 x - \\cos{\\left(x \\right)}$"
      ],
      "text/plain": [
       "Eq(Integral(x + sin(x) + 2, x), x**2/2 + 2*x - cos(x))"
      ]
     },
     "metadata": {},
     "output_type": "display_data"
    },
    {
     "data": {
      "text/latex": [
       "$\\displaystyle \\frac{d}{d x} \\left(6 x + 2 + \\frac{1}{x^{2}}\\right) = 6 - \\frac{2}{x^{3}}$"
      ],
      "text/plain": [
       "Eq(Derivative(6*x + 2 + x**(-2), x), 6 - 2/x**3)"
      ]
     },
     "metadata": {},
     "output_type": "display_data"
    },
    {
     "data": {
      "text/latex": [
       "$\\displaystyle \\int \\left(- \\frac{\\log{\\left(x \\right)}}{x}\\right)\\, dx = - \\frac{\\log{\\left(x \\right)}^{2}}{2}$"
      ],
      "text/plain": [
       "Eq(Integral(-log(x)/x, x), -log(x)**2/2)"
      ]
     },
     "metadata": {},
     "output_type": "display_data"
    },
    {
     "data": {
      "text/latex": [
       "$\\displaystyle \\frac{d}{d x} \\left(\\sqrt{x} + \\log{\\left(x \\right)}\\right) = \\frac{1}{x} + \\frac{1}{2 \\sqrt{x}}$"
      ],
      "text/plain": [
       "Eq(Derivative(sqrt(x) + log(x), x), 1/x + 1/(2*sqrt(x)))"
      ]
     },
     "metadata": {},
     "output_type": "display_data"
    },
    {
     "data": {
      "text/latex": [
       "$\\displaystyle \\int \\sqrt[3]{\\sin{\\left(x \\right)}}\\, dx = \\int \\sqrt[3]{\\sin{\\left(x \\right)}}\\, dx$"
      ],
      "text/plain": [
       "Eq(Integral(sin(x)**(1/3), x), Integral(sin(x)**(1/3), x))"
      ]
     },
     "metadata": {},
     "output_type": "display_data"
    },
    {
     "data": {
      "text/latex": [
       "$\\displaystyle \\frac{d}{d x} \\frac{1}{\\sin^{3}{\\left(x \\right)}} = - \\frac{3 \\cos{\\left(x \\right)}}{\\sin^{4}{\\left(x \\right)}}$"
      ],
      "text/plain": [
       "Eq(Derivative(sin(x)**(-3), x), -3*cos(x)/sin(x)**4)"
      ]
     },
     "metadata": {},
     "output_type": "display_data"
    },
    {
     "data": {
      "text/latex": [
       "$\\displaystyle \\int \\left(- e^{x} + \\log{\\left(x \\right)}\\right)\\, dx = x \\log{\\left(x \\right)} - x - e^{x}$"
      ],
      "text/plain": [
       "Eq(Integral(-exp(x) + log(x), x), x*log(x) - x - exp(x))"
      ]
     },
     "metadata": {},
     "output_type": "display_data"
    },
    {
     "data": {
      "text/latex": [
       "$\\displaystyle \\frac{d}{d x} \\left(- 4 x + \\sin{\\left(x \\right)}\\right) = \\cos{\\left(x \\right)} - 4$"
      ],
      "text/plain": [
       "Eq(Derivative(-4*x + sin(x), x), cos(x) - 4)"
      ]
     },
     "metadata": {},
     "output_type": "display_data"
    },
    {
     "data": {
      "text/latex": [
       "$\\displaystyle \\int \\left(- \\sqrt{x} + \\cos{\\left(x \\right)}\\right)\\, dx = - \\frac{2 x^{\\frac{3}{2}}}{3} + \\sin{\\left(x \\right)}$"
      ],
      "text/plain": [
       "Eq(Integral(-sqrt(x) + cos(x), x), -2*x**(3/2)/3 + sin(x))"
      ]
     },
     "metadata": {},
     "output_type": "display_data"
    },
    {
     "data": {
      "text/latex": [
       "$\\displaystyle \\frac{d}{d x} \\frac{x}{x^{5} + 4} = - \\frac{5 x^{5}}{\\left(x^{5} + 4\\right)^{2}} + \\frac{1}{x^{5} + 4}$"
      ],
      "text/plain": [
       "Eq(Derivative(x/(x**5 + 4), x), -5*x**5/(x**5 + 4)**2 + 1/(x**5 + 4))"
      ]
     },
     "metadata": {},
     "output_type": "display_data"
    },
    {
     "data": {
      "text/latex": [
       "$\\displaystyle \\int \\frac{1}{x^{2} \\tan{\\left(x \\right)}}\\, dx = \\int \\frac{1}{x^{2} \\tan{\\left(x \\right)}}\\, dx$"
      ],
      "text/plain": [
       "Eq(Integral(1/(x**2*tan(x)), x), Integral(1/(x**2*tan(x)), x))"
      ]
     },
     "metadata": {},
     "output_type": "display_data"
    },
    {
     "data": {
      "text/latex": [
       "$\\displaystyle \\frac{d}{d x} \\left(\\log{\\left(x \\right)} - 1\\right) = \\frac{1}{x}$"
      ],
      "text/plain": [
       "Eq(Derivative(log(x) - 1, x), 1/x)"
      ]
     },
     "metadata": {},
     "output_type": "display_data"
    },
    {
     "data": {
      "text/latex": [
       "$\\displaystyle \\int \\left(- \\log{\\left(x \\right)} + \\sin{\\left(x \\right)}\\right)\\, dx = - x \\log{\\left(x \\right)} + x - \\cos{\\left(x \\right)}$"
      ],
      "text/plain": [
       "Eq(Integral(-log(x) + sin(x), x), -x*log(x) + x - cos(x))"
      ]
     },
     "metadata": {},
     "output_type": "display_data"
    },
    {
     "data": {
      "text/latex": [
       "$\\displaystyle \\frac{d}{d x} \\left(e^{x} + \\cos{\\left(x \\right)}\\right) = e^{x} - \\sin{\\left(x \\right)}$"
      ],
      "text/plain": [
       "Eq(Derivative(exp(x) + cos(x), x), exp(x) - sin(x))"
      ]
     },
     "metadata": {},
     "output_type": "display_data"
    },
    {
     "data": {
      "text/latex": [
       "$\\displaystyle \\int \\left(4 x + 6 + \\frac{1}{x^{2}}\\right)\\, dx = 2 x^{2} + 6 x - \\frac{1}{x}$"
      ],
      "text/plain": [
       "Eq(Integral(4*x + 6 + x**(-2), x), 2*x**2 + 6*x - 1/x)"
      ]
     },
     "metadata": {},
     "output_type": "display_data"
    },
    {
     "data": {
      "text/latex": [
       "$\\displaystyle \\frac{d}{d x} \\left(\\sqrt{x} + x - 3\\right) = 1 + \\frac{1}{2 \\sqrt{x}}$"
      ],
      "text/plain": [
       "Eq(Derivative(sqrt(x) + x - 3, x), 1 + 1/(2*sqrt(x)))"
      ]
     },
     "metadata": {},
     "output_type": "display_data"
    },
    {
     "data": {
      "text/latex": [
       "$\\displaystyle \\int x^{\\frac{7}{3}}\\, dx = \\frac{3 x^{\\frac{10}{3}}}{10}$"
      ],
      "text/plain": [
       "Eq(Integral(x**(7/3), x), 3*x**(10/3)/10)"
      ]
     },
     "metadata": {},
     "output_type": "display_data"
    },
    {
     "data": {
      "text/latex": [
       "$\\displaystyle \\frac{d}{d x} \\left(\\sqrt{x} + 3 x\\right) = 3 + \\frac{1}{2 \\sqrt{x}}$"
      ],
      "text/plain": [
       "Eq(Derivative(sqrt(x) + 3*x, x), 3 + 1/(2*sqrt(x)))"
      ]
     },
     "metadata": {},
     "output_type": "display_data"
    },
    {
     "data": {
      "text/latex": [
       "$\\displaystyle \\int \\sin{\\left(\\sqrt[3]{x} \\right)}\\, dx = - 3 x^{\\frac{2}{3}} \\cos{\\left(\\sqrt[3]{x} \\right)} + 6 \\sqrt[3]{x} \\sin{\\left(\\sqrt[3]{x} \\right)} + 6 \\cos{\\left(\\sqrt[3]{x} \\right)}$"
      ],
      "text/plain": [
       "Eq(Integral(sin(x**(1/3)), x), -3*x**(2/3)*cos(x**(1/3)) + 6*x**(1/3)*sin(x**(1/3)) + 6*cos(x**(1/3)))"
      ]
     },
     "metadata": {},
     "output_type": "display_data"
    },
    {
     "data": {
      "text/latex": [
       "$\\displaystyle \\frac{d}{d x} \\left(\\sqrt{x} + 2 x - 5 + \\frac{1}{x^{2}}\\right) = 2 - \\frac{2}{x^{3}} + \\frac{1}{2 \\sqrt{x}}$"
      ],
      "text/plain": [
       "Eq(Derivative(sqrt(x) + 2*x - 5 + x**(-2), x), 2 - 2/x**3 + 1/(2*sqrt(x)))"
      ]
     },
     "metadata": {},
     "output_type": "display_data"
    },
    {
     "data": {
      "text/latex": [
       "$\\displaystyle \\int \\left(x^{4} + \\sin{\\left(x \\right)}\\right)\\, dx = \\frac{x^{5}}{5} - \\cos{\\left(x \\right)}$"
      ],
      "text/plain": [
       "Eq(Integral(x**4 + sin(x), x), x**5/5 - cos(x))"
      ]
     },
     "metadata": {},
     "output_type": "display_data"
    },
    {
     "data": {
      "text/latex": [
       "$\\displaystyle \\frac{d}{d x} \\cos^{2}{\\left(x \\right)} = - 2 \\sin{\\left(x \\right)} \\cos{\\left(x \\right)}$"
      ],
      "text/plain": [
       "Eq(Derivative(cos(x)**2, x), -2*sin(x)*cos(x))"
      ]
     },
     "metadata": {},
     "output_type": "display_data"
    },
    {
     "data": {
      "text/latex": [
       "$\\displaystyle \\int \\left(e^{x} - \\cos{\\left(x \\right)}\\right)\\, dx = e^{x} - \\sin{\\left(x \\right)}$"
      ],
      "text/plain": [
       "Eq(Integral(exp(x) - cos(x), x), exp(x) - sin(x))"
      ]
     },
     "metadata": {},
     "output_type": "display_data"
    },
    {
     "data": {
      "text/latex": [
       "$\\displaystyle \\frac{d}{d x} \\left(2 x + \\cos{\\left(x \\right)}\\right) = 2 - \\sin{\\left(x \\right)}$"
      ],
      "text/plain": [
       "Eq(Derivative(2*x + cos(x), x), 2 - sin(x))"
      ]
     },
     "metadata": {},
     "output_type": "display_data"
    },
    {
     "data": {
      "text/latex": [
       "$\\displaystyle \\int \\left(2 x - 8\\right)\\, dx = x^{2} - 8 x$"
      ],
      "text/plain": [
       "Eq(Integral(2*x - 8, x), x**2 - 8*x)"
      ]
     },
     "metadata": {},
     "output_type": "display_data"
    },
    {
     "data": {
      "text/latex": [
       "$\\displaystyle \\frac{d}{d x} \\left(\\sin{\\left(x \\right)} - \\tan{\\left(x \\right)}\\right) = \\cos{\\left(x \\right)} - \\tan^{2}{\\left(x \\right)} - 1$"
      ],
      "text/plain": [
       "Eq(Derivative(sin(x) - tan(x), x), cos(x) - tan(x)**2 - 1)"
      ]
     },
     "metadata": {},
     "output_type": "display_data"
    },
    {
     "data": {
      "text/latex": [
       "$\\displaystyle \\int \\frac{2 x}{x - 1}\\, dx = 2 x + 2 \\log{\\left(x - 1 \\right)}$"
      ],
      "text/plain": [
       "Eq(Integral(2*x/(x - 1), x), 2*x + 2*log(x - 1))"
      ]
     },
     "metadata": {},
     "output_type": "display_data"
    },
    {
     "data": {
      "text/latex": [
       "$\\displaystyle \\frac{d}{d x} \\left(2 x + e^{x}\\right) = e^{x} + 2$"
      ],
      "text/plain": [
       "Eq(Derivative(2*x + exp(x), x), exp(x) + 2)"
      ]
     },
     "metadata": {},
     "output_type": "display_data"
    },
    {
     "data": {
      "text/latex": [
       "$\\displaystyle \\int \\left(- \\cos{\\left(x \\right)} - 5\\right)\\, dx = - 5 x - \\sin{\\left(x \\right)}$"
      ],
      "text/plain": [
       "Eq(Integral(-cos(x) - 5, x), -5*x - sin(x))"
      ]
     },
     "metadata": {},
     "output_type": "display_data"
    },
    {
     "data": {
      "text/latex": [
       "$\\displaystyle \\frac{d}{d x} e^{x^{5}} = 5 x^{4} e^{x^{5}}$"
      ],
      "text/plain": [
       "Eq(Derivative(exp(x**5), x), 5*x**4*exp(x**5))"
      ]
     },
     "metadata": {},
     "output_type": "display_data"
    },
    {
     "data": {
      "text/latex": [
       "$\\displaystyle \\int \\tan{\\left(x^{5} \\right)}\\, dx = \\int \\tan{\\left(x^{5} \\right)}\\, dx$"
      ],
      "text/plain": [
       "Eq(Integral(tan(x**5), x), Integral(tan(x**5), x))"
      ]
     },
     "metadata": {},
     "output_type": "display_data"
    },
    {
     "data": {
      "text/latex": [
       "$\\displaystyle \\frac{d}{d x} \\left(x^{2} - \\log{\\left(x \\right)}\\right) = 2 x - \\frac{1}{x}$"
      ],
      "text/plain": [
       "Eq(Derivative(x**2 - log(x), x), 2*x - 1/x)"
      ]
     },
     "metadata": {},
     "output_type": "display_data"
    },
    {
     "data": {
      "text/latex": [
       "$\\displaystyle \\int \\cos{\\left(\\sin{\\left(x \\right)} \\right)}\\, dx = \\int \\cos{\\left(\\sin{\\left(x \\right)} \\right)}\\, dx$"
      ],
      "text/plain": [
       "Eq(Integral(cos(sin(x)), x), Integral(cos(sin(x)), x))"
      ]
     },
     "metadata": {},
     "output_type": "display_data"
    },
    {
     "data": {
      "text/latex": [
       "$\\displaystyle \\frac{d}{d x} \\frac{\\tan{\\left(x \\right)}}{x} = \\frac{\\tan^{2}{\\left(x \\right)} + 1}{x} - \\frac{\\tan{\\left(x \\right)}}{x^{2}}$"
      ],
      "text/plain": [
       "Eq(Derivative(tan(x)/x, x), (tan(x)**2 + 1)/x - tan(x)/x**2)"
      ]
     },
     "metadata": {},
     "output_type": "display_data"
    },
    {
     "data": {
      "text/latex": [
       "$\\displaystyle \\int \\frac{e^{x}}{\\cos{\\left(x \\right)}}\\, dx = \\int \\frac{e^{x}}{\\cos{\\left(x \\right)}}\\, dx$"
      ],
      "text/plain": [
       "Eq(Integral(exp(x)/cos(x), x), Integral(exp(x)/cos(x), x))"
      ]
     },
     "metadata": {},
     "output_type": "display_data"
    },
    {
     "data": {
      "text/latex": [
       "$\\displaystyle \\frac{d}{d x} \\frac{\\cos{\\left(x \\right)}}{x^{3}} = - \\frac{\\sin{\\left(x \\right)}}{x^{3}} - \\frac{3 \\cos{\\left(x \\right)}}{x^{4}}$"
      ],
      "text/plain": [
       "Eq(Derivative(cos(x)/x**3, x), -sin(x)/x**3 - 3*cos(x)/x**4)"
      ]
     },
     "metadata": {},
     "output_type": "display_data"
    },
    {
     "data": {
      "text/latex": [
       "$\\displaystyle \\int \\left(x^{5} - e^{x}\\right)\\, dx = \\frac{x^{6}}{6} - e^{x}$"
      ],
      "text/plain": [
       "Eq(Integral(x**5 - exp(x), x), x**6/6 - exp(x))"
      ]
     },
     "metadata": {},
     "output_type": "display_data"
    },
    {
     "data": {
      "text/latex": [
       "$\\displaystyle \\frac{d}{d x} \\sqrt[6]{x} = \\frac{1}{6 x^{\\frac{5}{6}}}$"
      ],
      "text/plain": [
       "Eq(Derivative(x**(1/6), x), 1/(6*x**(5/6)))"
      ]
     },
     "metadata": {},
     "output_type": "display_data"
    },
    {
     "data": {
      "text/latex": [
       "$\\displaystyle \\int \\left(x^{2} + e^{x}\\right)\\, dx = \\frac{x^{3}}{3} + e^{x}$"
      ],
      "text/plain": [
       "Eq(Integral(x**2 + exp(x), x), x**3/3 + exp(x))"
      ]
     },
     "metadata": {},
     "output_type": "display_data"
    },
    {
     "data": {
      "text/latex": [
       "$\\displaystyle \\frac{d}{d x} \\left(\\sqrt[3]{x} + x\\right) = 1 + \\frac{1}{3 x^{\\frac{2}{3}}}$"
      ],
      "text/plain": [
       "Eq(Derivative(x**(1/3) + x, x), 1 + 1/(3*x**(2/3)))"
      ]
     },
     "metadata": {},
     "output_type": "display_data"
    },
    {
     "data": {
      "text/latex": [
       "$\\displaystyle \\int \\left(- \\frac{x}{- 2 x - 1 + \\frac{1}{x^{4}}}\\right)\\, dx = \\frac{x}{2} + \\operatorname{RootSum} {\\left(198976 t^{5} + 49744 t^{4} + 3200 t^{3} + 32 t^{2} - 1, \\left( t \\mapsto t \\log{\\left(\\frac{28383926400 t^{4}}{8265449} + \\frac{4697922848 t^{3}}{8265449} + \\frac{105685312 t^{2}}{8265449} - \\frac{82906170 t}{8265449} + x - \\frac{3359082}{8265449} \\right)} \\right)\\right)}$"
      ],
      "text/plain": [
       "Eq(Integral(-x/(-2*x - 1 + x**(-4)), x), x/2 + RootSum(198976*_t**5 + 49744*_t**4 + 3200*_t**3 + 32*_t**2 - 1, Lambda(_t, _t*log(28383926400*_t**4/8265449 + 4697922848*_t**3/8265449 + 105685312*_t**2/8265449 - 82906170*_t/8265449 + x - 3359082/8265449))))"
      ]
     },
     "metadata": {},
     "output_type": "display_data"
    },
    {
     "data": {
      "text/latex": [
       "$\\displaystyle \\frac{d}{d x} \\left(- \\frac{\\log{\\left(x \\right)}}{4 x}\\right) = \\frac{\\log{\\left(x \\right)}}{4 x^{2}} - \\frac{1}{4 x^{2}}$"
      ],
      "text/plain": [
       "Eq(Derivative(-log(x)/(4*x), x), log(x)/(4*x**2) - 1/(4*x**2))"
      ]
     },
     "metadata": {},
     "output_type": "display_data"
    },
    {
     "data": {
      "text/latex": [
       "$\\displaystyle \\int \\frac{\\sqrt[3]{x}}{\\tan{\\left(x \\right)}}\\, dx = \\int \\frac{\\sqrt[3]{x}}{\\tan{\\left(x \\right)}}\\, dx$"
      ],
      "text/plain": [
       "Eq(Integral(x**(1/3)/tan(x), x), Integral(x**(1/3)/tan(x), x))"
      ]
     },
     "metadata": {},
     "output_type": "display_data"
    },
    {
     "data": {
      "text/latex": [
       "$\\displaystyle \\frac{d}{d x} \\left(4 x + \\log{\\left(x \\right)} + 1\\right) = 4 + \\frac{1}{x}$"
      ],
      "text/plain": [
       "Eq(Derivative(4*x + log(x) + 1, x), 4 + 1/x)"
      ]
     },
     "metadata": {},
     "output_type": "display_data"
    },
    {
     "data": {
      "text/latex": [
       "$\\displaystyle \\int \\left(e^{x} + \\frac{1}{x^{2}}\\right)\\, dx = e^{x} - \\frac{1}{x}$"
      ],
      "text/plain": [
       "Eq(Integral(exp(x) + x**(-2), x), exp(x) - 1/x)"
      ]
     },
     "metadata": {},
     "output_type": "display_data"
    },
    {
     "data": {
      "text/latex": [
       "$\\displaystyle \\frac{d}{d x} \\sin{\\left(\\sqrt{x} \\right)} = \\frac{\\cos{\\left(\\sqrt{x} \\right)}}{2 \\sqrt{x}}$"
      ],
      "text/plain": [
       "Eq(Derivative(sin(sqrt(x)), x), cos(sqrt(x))/(2*sqrt(x)))"
      ]
     },
     "metadata": {},
     "output_type": "display_data"
    },
    {
     "data": {
      "text/latex": [
       "$\\displaystyle \\int \\frac{1}{x \\left(x^{4} + 3 x + 4\\right)}\\, dx = \\frac{\\log{\\left(x \\right)}}{4} + \\operatorname{RootSum} {\\left(56788 t^{4} + 14197 t^{3} + 1536 t^{2} + 64 t + 1, \\left( t \\mapsto t \\log{\\left(\\frac{4009914256 t^{4}}{160317} - \\frac{9086080 t^{3}}{160317} - \\frac{144431129 t^{2}}{160317} - \\frac{22841600 t}{160317} + x - \\frac{784412}{160317} \\right)} \\right)\\right)}$"
      ],
      "text/plain": [
       "Eq(Integral(1/(x*(x**4 + 3*x + 4)), x), log(x)/4 + RootSum(56788*_t**4 + 14197*_t**3 + 1536*_t**2 + 64*_t + 1, Lambda(_t, _t*log(4009914256*_t**4/160317 - 9086080*_t**3/160317 - 144431129*_t**2/160317 - 22841600*_t/160317 + x - 784412/160317))))"
      ]
     },
     "metadata": {},
     "output_type": "display_data"
    },
    {
     "data": {
      "text/latex": [
       "$\\displaystyle \\frac{d}{d x} \\frac{x^{3} - x - 1}{x - 3} = \\frac{3 x^{2} - 1}{x - 3} - \\frac{x^{3} - x - 1}{\\left(x - 3\\right)^{2}}$"
      ],
      "text/plain": [
       "Eq(Derivative((x**3 - x - 1)/(x - 3), x), (3*x**2 - 1)/(x - 3) - (x**3 - x - 1)/(x - 3)**2)"
      ]
     },
     "metadata": {},
     "output_type": "display_data"
    },
    {
     "data": {
      "text/latex": [
       "$\\displaystyle \\int \\left(- 3 x^{5} + 9 x + \\tilde{\\infty}\\right)\\, dx = - \\frac{x^{6}}{2} + \\frac{9 x^{2}}{2} + \\tilde{\\infty} x$"
      ],
      "text/plain": [
       "Eq(Integral(-3*x**5 + 9*x + zoo, x), -x**6/2 + 9*x**2/2 + zoo*x)"
      ]
     },
     "metadata": {},
     "output_type": "display_data"
    },
    {
     "data": {
      "text/latex": [
       "$\\displaystyle \\frac{d}{d x} \\sqrt[3]{2} \\sqrt[3]{- x} = \\frac{\\sqrt[3]{2} \\sqrt[3]{- x}}{3 x}$"
      ],
      "text/plain": [
       "Eq(Derivative(2**(1/3)*(-x)**(1/3), x), 2**(1/3)*(-x)**(1/3)/(3*x))"
      ]
     },
     "metadata": {},
     "output_type": "display_data"
    },
    {
     "data": {
      "text/latex": [
       "$\\displaystyle \\int \\left(\\cos{\\left(x \\right)} - 4\\right)\\, dx = - 4 x + \\sin{\\left(x \\right)}$"
      ],
      "text/plain": [
       "Eq(Integral(cos(x) - 4, x), -4*x + sin(x))"
      ]
     },
     "metadata": {},
     "output_type": "display_data"
    },
    {
     "data": {
      "text/latex": [
       "$\\displaystyle \\frac{d}{d x} \\left(- x + \\tan{\\left(x \\right)} + 1\\right) = \\tan^{2}{\\left(x \\right)}$"
      ],
      "text/plain": [
       "Eq(Derivative(-x + tan(x) + 1, x), tan(x)**2)"
      ]
     },
     "metadata": {},
     "output_type": "display_data"
    },
    {
     "data": {
      "text/latex": [
       "$\\displaystyle \\int e^{\\sqrt{x}}\\, dx = 2 \\sqrt{x} e^{\\sqrt{x}} - 2 e^{\\sqrt{x}}$"
      ],
      "text/plain": [
       "Eq(Integral(exp(sqrt(x)), x), 2*sqrt(x)*exp(sqrt(x)) - 2*exp(sqrt(x)))"
      ]
     },
     "metadata": {},
     "output_type": "display_data"
    },
    {
     "data": {
      "text/latex": [
       "$\\displaystyle \\frac{d}{d x} \\sin{\\left(2 x \\right)} = 2 \\cos{\\left(2 x \\right)}$"
      ],
      "text/plain": [
       "Eq(Derivative(sin(2*x), x), 2*cos(2*x))"
      ]
     },
     "metadata": {},
     "output_type": "display_data"
    },
    {
     "data": {
      "text/latex": [
       "$\\displaystyle \\int \\left(\\sqrt{x} + x + 1\\right)\\, dx = \\frac{2 x^{\\frac{3}{2}}}{3} + \\frac{x^{2}}{2} + x$"
      ],
      "text/plain": [
       "Eq(Integral(sqrt(x) + x + 1, x), 2*x**(3/2)/3 + x**2/2 + x)"
      ]
     },
     "metadata": {},
     "output_type": "display_data"
    },
    {
     "data": {
      "text/latex": [
       "$\\displaystyle \\frac{d}{d x} \\log{\\left(\\sin{\\left(x \\right)} \\right)} = \\frac{\\cos{\\left(x \\right)}}{\\sin{\\left(x \\right)}}$"
      ],
      "text/plain": [
       "Eq(Derivative(log(sin(x)), x), cos(x)/sin(x))"
      ]
     },
     "metadata": {},
     "output_type": "display_data"
    },
    {
     "data": {
      "text/latex": [
       "$\\displaystyle \\int \\left(3 x + \\sin{\\left(x \\right)} - 3\\right)\\, dx = \\frac{3 x^{2}}{2} - 3 x - \\cos{\\left(x \\right)}$"
      ],
      "text/plain": [
       "Eq(Integral(3*x + sin(x) - 3, x), 3*x**2/2 - 3*x - cos(x))"
      ]
     },
     "metadata": {},
     "output_type": "display_data"
    },
    {
     "data": {
      "text/latex": [
       "$\\displaystyle \\frac{d}{d x} \\left(x + \\log{\\left(x \\right)} + 1\\right) = 1 + \\frac{1}{x}$"
      ],
      "text/plain": [
       "Eq(Derivative(x + log(x) + 1, x), 1 + 1/x)"
      ]
     },
     "metadata": {},
     "output_type": "display_data"
    },
    {
     "data": {
      "text/latex": [
       "$\\displaystyle \\int \\frac{\\sqrt[3]{x}}{x - 5}\\, dx = 3 \\sqrt[3]{x} + \\sqrt[3]{5} \\log{\\left(\\sqrt[3]{x} - \\sqrt[3]{5} \\right)} - \\frac{\\sqrt[3]{5} \\log{\\left(4 x^{\\frac{2}{3}} + 4 \\sqrt[3]{5} \\sqrt[3]{x} + 4 \\cdot 5^{\\frac{2}{3}} \\right)}}{2} - \\sqrt{3} \\sqrt[3]{5} \\operatorname{atan}{\\left(\\frac{2 \\sqrt{3} \\cdot 5^{\\frac{2}{3}} \\sqrt[3]{x}}{15} + \\frac{\\sqrt{3}}{3} \\right)}$"
      ],
      "text/plain": [
       "Eq(Integral(x**(1/3)/(x - 5), x), 3*x**(1/3) + 5**(1/3)*log(x**(1/3) - 5**(1/3)) - 5**(1/3)*log(4*x**(2/3) + 4*5**(1/3)*x**(1/3) + 4*5**(2/3))/2 - sqrt(3)*5**(1/3)*atan(2*sqrt(3)*5**(2/3)*x**(1/3)/15 + sqrt(3)/3))"
      ]
     },
     "metadata": {},
     "output_type": "display_data"
    },
    {
     "data": {
      "text/latex": [
       "$\\displaystyle \\frac{d}{d x} \\cos{\\left(\\tan{\\left(x \\right)} \\right)} = - \\left(\\tan^{2}{\\left(x \\right)} + 1\\right) \\sin{\\left(\\tan{\\left(x \\right)} \\right)}$"
      ],
      "text/plain": [
       "Eq(Derivative(cos(tan(x)), x), -(tan(x)**2 + 1)*sin(tan(x)))"
      ]
     },
     "metadata": {},
     "output_type": "display_data"
    },
    {
     "data": {
      "text/latex": [
       "$\\displaystyle \\int \\left(x + \\log{\\left(x \\right)} - 3\\right)\\, dx = \\frac{x^{2}}{2} + x \\log{\\left(x \\right)} - 4 x$"
      ],
      "text/plain": [
       "Eq(Integral(x + log(x) - 3, x), x**2/2 + x*log(x) - 4*x)"
      ]
     },
     "metadata": {},
     "output_type": "display_data"
    },
    {
     "data": {
      "text/latex": [
       "$\\displaystyle \\frac{d}{d x} \\frac{e^{x}}{\\sqrt[3]{x}} = \\frac{e^{x}}{\\sqrt[3]{x}} - \\frac{e^{x}}{3 x^{\\frac{4}{3}}}$"
      ],
      "text/plain": [
       "Eq(Derivative(exp(x)/x**(1/3), x), exp(x)/x**(1/3) - exp(x)/(3*x**(4/3)))"
      ]
     },
     "metadata": {},
     "output_type": "display_data"
    },
    {
     "data": {
      "text/latex": [
       "$\\displaystyle \\int 1\\, dx = x$"
      ],
      "text/plain": [
       "Eq(Integral(1, x), x)"
      ]
     },
     "metadata": {},
     "output_type": "display_data"
    },
    {
     "data": {
      "text/latex": [
       "$\\displaystyle \\frac{d}{d x} \\left(\\cos{\\left(x \\right)} - \\tan{\\left(x \\right)}\\right) = - \\sin{\\left(x \\right)} - \\tan^{2}{\\left(x \\right)} - 1$"
      ],
      "text/plain": [
       "Eq(Derivative(cos(x) - tan(x), x), -sin(x) - tan(x)**2 - 1)"
      ]
     },
     "metadata": {},
     "output_type": "display_data"
    },
    {
     "data": {
      "text/latex": [
       "$\\displaystyle \\int \\left(\\log{\\left(x \\right)} + \\frac{1}{x^{2}}\\right)\\, dx = x \\log{\\left(x \\right)} - x - \\frac{1}{x}$"
      ],
      "text/plain": [
       "Eq(Integral(log(x) + x**(-2), x), x*log(x) - x - 1/x)"
      ]
     },
     "metadata": {},
     "output_type": "display_data"
    },
    {
     "data": {
      "text/latex": [
       "$\\displaystyle \\frac{d}{d x} x^{4} = 4 x^{3}$"
      ],
      "text/plain": [
       "Eq(Derivative(x**4, x), 4*x**3)"
      ]
     },
     "metadata": {},
     "output_type": "display_data"
    },
    {
     "data": {
      "text/latex": [
       "$\\displaystyle \\int \\frac{\\sin{\\left(x \\right)}}{\\sqrt[3]{x}}\\, dx = \\frac{x^{\\frac{5}{3}} \\Gamma\\left(\\frac{5}{6}\\right) {{}_{1}F_{2}\\left(\\begin{matrix} \\frac{5}{6} \\\\ \\frac{3}{2}, \\frac{11}{6} \\end{matrix}\\middle| {- \\frac{x^{2}}{4}} \\right)}}{2 \\Gamma\\left(\\frac{11}{6}\\right)}$"
      ],
      "text/plain": [
       "Eq(Integral(sin(x)/x**(1/3), x), x**(5/3)*gamma(5/6)*hyper((5/6,), (3/2, 11/6), -x**2/4)/(2*gamma(11/6)))"
      ]
     },
     "metadata": {},
     "output_type": "display_data"
    },
    {
     "data": {
      "text/latex": [
       "$\\displaystyle \\frac{d}{d x} \\frac{\\cos{\\left(x \\right)}}{\\sin{\\left(x \\right)}} = -1 - \\frac{\\cos^{2}{\\left(x \\right)}}{\\sin^{2}{\\left(x \\right)}}$"
      ],
      "text/plain": [
       "Eq(Derivative(cos(x)/sin(x), x), -1 - cos(x)**2/sin(x)**2)"
      ]
     },
     "metadata": {},
     "output_type": "display_data"
    },
    {
     "data": {
      "text/latex": [
       "$\\displaystyle \\int \\left(- x^{3} + \\sin{\\left(x \\right)}\\right)\\, dx = - \\frac{x^{4}}{4} - \\cos{\\left(x \\right)}$"
      ],
      "text/plain": [
       "Eq(Integral(-x**3 + sin(x), x), -x**4/4 - cos(x))"
      ]
     },
     "metadata": {},
     "output_type": "display_data"
    },
    {
     "data": {
      "text/latex": [
       "$\\displaystyle \\frac{d}{d x} \\left(- \\frac{2 x}{\\cos{\\left(x \\right)}}\\right) = - \\frac{2 x \\sin{\\left(x \\right)}}{\\cos^{2}{\\left(x \\right)}} - \\frac{2}{\\cos{\\left(x \\right)}}$"
      ],
      "text/plain": [
       "Eq(Derivative(-2*x/cos(x), x), -2*x*sin(x)/cos(x)**2 - 2/cos(x))"
      ]
     },
     "metadata": {},
     "output_type": "display_data"
    },
    {
     "data": {
      "text/latex": [
       "$\\displaystyle \\int \\frac{e^{x}}{\\sqrt[3]{x}}\\, dx = \\frac{2 e^{- \\frac{2 i \\pi}{3}} \\Gamma\\left(\\frac{2}{3}\\right) \\gamma\\left(\\frac{2}{3}, x e^{i \\pi}\\right)}{3 \\Gamma\\left(\\frac{5}{3}\\right)}$"
      ],
      "text/plain": [
       "Eq(Integral(exp(x)/x**(1/3), x), 2*exp(-2*I*pi/3)*gamma(2/3)*lowergamma(2/3, x*exp_polar(I*pi))/(3*gamma(5/3)))"
      ]
     },
     "metadata": {},
     "output_type": "display_data"
    },
    {
     "data": {
      "text/latex": [
       "$\\displaystyle \\frac{d}{d x} \\left(x + e^{x} + 3\\right) = e^{x} + 1$"
      ],
      "text/plain": [
       "Eq(Derivative(x + exp(x) + 3, x), exp(x) + 1)"
      ]
     },
     "metadata": {},
     "output_type": "display_data"
    },
    {
     "data": {
      "text/latex": [
       "$\\displaystyle \\int \\left(- \\sqrt[3]{x} + \\log{\\left(x \\right)}\\right)\\, dx = - \\frac{3 x^{\\frac{4}{3}}}{4} + x \\log{\\left(x \\right)} - x$"
      ],
      "text/plain": [
       "Eq(Integral(-x**(1/3) + log(x), x), -3*x**(4/3)/4 + x*log(x) - x)"
      ]
     },
     "metadata": {},
     "output_type": "display_data"
    },
    {
     "data": {
      "text/latex": [
       "$\\displaystyle \\frac{d}{d x} \\left(1 - \\sin{\\left(x \\right)}\\right) = - \\cos{\\left(x \\right)}$"
      ],
      "text/plain": [
       "Eq(Derivative(1 - sin(x), x), -cos(x))"
      ]
     },
     "metadata": {},
     "output_type": "display_data"
    },
    {
     "data": {
      "text/latex": [
       "$\\displaystyle \\int \\left(x + \\cos{\\left(x \\right)} - 5\\right)\\, dx = \\frac{x^{2}}{2} - 5 x + \\sin{\\left(x \\right)}$"
      ],
      "text/plain": [
       "Eq(Integral(x + cos(x) - 5, x), x**2/2 - 5*x + sin(x))"
      ]
     },
     "metadata": {},
     "output_type": "display_data"
    },
    {
     "data": {
      "text/latex": [
       "$\\displaystyle \\frac{d}{d x} \\left(- \\sqrt{x} + x + 2\\right) = 1 - \\frac{1}{2 \\sqrt{x}}$"
      ],
      "text/plain": [
       "Eq(Derivative(-sqrt(x) + x + 2, x), 1 - 1/(2*sqrt(x)))"
      ]
     },
     "metadata": {},
     "output_type": "display_data"
    },
    {
     "data": {
      "text/latex": [
       "$\\displaystyle \\int \\sqrt{x^{4}}\\, dx = \\frac{x^{3}}{3}$"
      ],
      "text/plain": [
       "Eq(Integral(sqrt(x**4), x), x**3/3)"
      ]
     },
     "metadata": {},
     "output_type": "display_data"
    },
    {
     "data": {
      "text/latex": [
       "$\\displaystyle \\frac{d}{d x} e^{\\sqrt{x}} = \\frac{e^{\\sqrt{x}}}{2 \\sqrt{x}}$"
      ],
      "text/plain": [
       "Eq(Derivative(exp(sqrt(x)), x), exp(sqrt(x))/(2*sqrt(x)))"
      ]
     },
     "metadata": {},
     "output_type": "display_data"
    },
    {
     "data": {
      "text/latex": [
       "$\\displaystyle \\int \\sqrt{x - 4}\\, dx = \\frac{2 \\left(x - 4\\right)^{\\frac{3}{2}}}{3}$"
      ],
      "text/plain": [
       "Eq(Integral(sqrt(x - 4), x), 2*(x - 4)**(3/2)/3)"
      ]
     },
     "metadata": {},
     "output_type": "display_data"
    },
    {
     "data": {
      "text/latex": [
       "$\\displaystyle \\frac{d}{d x} \\left(2 x + 4\\right) = 2$"
      ],
      "text/plain": [
       "Eq(Derivative(2*x + 4, x), 2)"
      ]
     },
     "metadata": {},
     "output_type": "display_data"
    },
    {
     "data": {
      "text/latex": [
       "$\\displaystyle \\int \\left(- x + \\cos{\\left(x \\right)} + 3\\right)\\, dx = - \\frac{x^{2}}{2} + 3 x + \\sin{\\left(x \\right)}$"
      ],
      "text/plain": [
       "Eq(Integral(-x + cos(x) + 3, x), -x**2/2 + 3*x + sin(x))"
      ]
     },
     "metadata": {},
     "output_type": "display_data"
    },
    {
     "data": {
      "text/latex": [
       "$\\displaystyle \\frac{d}{d x} \\left(- \\sqrt{x} + \\log{\\left(x \\right)}\\right) = \\frac{1}{x} - \\frac{1}{2 \\sqrt{x}}$"
      ],
      "text/plain": [
       "Eq(Derivative(-sqrt(x) + log(x), x), 1/x - 1/(2*sqrt(x)))"
      ]
     },
     "metadata": {},
     "output_type": "display_data"
    },
    {
     "data": {
      "text/latex": [
       "$\\displaystyle \\int \\left(\\sqrt[3]{x} + x\\right)\\, dx = \\frac{3 x^{\\frac{4}{3}}}{4} + \\frac{x^{2}}{2}$"
      ],
      "text/plain": [
       "Eq(Integral(x**(1/3) + x, x), 3*x**(4/3)/4 + x**2/2)"
      ]
     },
     "metadata": {},
     "output_type": "display_data"
    },
    {
     "data": {
      "text/latex": [
       "$\\displaystyle \\frac{d}{d x} \\left(- 2 x + \\left(2 + \\frac{1}{x}\\right)^{5} - 1 + \\frac{2}{x^{4}}\\right) = -2 - \\frac{5 \\left(2 + \\frac{1}{x}\\right)^{4}}{x^{2}} - \\frac{8}{x^{5}}$"
      ],
      "text/plain": [
       "Eq(Derivative(-2*x + (2 + 1/x)**5 - 1 + 2/x**4, x), -2 - 5*(2 + 1/x)**4/x**2 - 8/x**5)"
      ]
     },
     "metadata": {},
     "output_type": "display_data"
    },
    {
     "data": {
      "text/latex": [
       "$\\displaystyle \\int \\frac{x^{5} - x + 4}{\\cos{\\left(x \\right)}}\\, dx = \\int \\frac{x^{5} - x + 4}{\\cos{\\left(x \\right)}}\\, dx$"
      ],
      "text/plain": [
       "Eq(Integral((x**5 - x + 4)/cos(x), x), Integral((x**5 - x + 4)/cos(x), x))"
      ]
     },
     "metadata": {},
     "output_type": "display_data"
    },
    {
     "data": {
      "text/latex": [
       "$\\displaystyle \\frac{d}{d x} \\left(e^{x} - 3\\right) = e^{x}$"
      ],
      "text/plain": [
       "Eq(Derivative(exp(x) - 3, x), exp(x))"
      ]
     },
     "metadata": {},
     "output_type": "display_data"
    },
    {
     "data": {
      "text/latex": [
       "$\\displaystyle \\int \\left(\\sqrt[3]{x} + \\cos{\\left(x \\right)}\\right)\\, dx = \\frac{3 x^{\\frac{4}{3}}}{4} + \\sin{\\left(x \\right)}$"
      ],
      "text/plain": [
       "Eq(Integral(x**(1/3) + cos(x), x), 3*x**(4/3)/4 + sin(x))"
      ]
     },
     "metadata": {},
     "output_type": "display_data"
    },
    {
     "data": {
      "text/latex": [
       "$\\displaystyle \\frac{d}{d x} \\left(3 + \\frac{1}{x^{2}}\\right) = - \\frac{2}{x^{3}}$"
      ],
      "text/plain": [
       "Eq(Derivative(3 + x**(-2), x), -2/x**3)"
      ]
     },
     "metadata": {},
     "output_type": "display_data"
    },
    {
     "data": {
      "text/latex": [
       "$\\displaystyle \\int \\frac{\\sqrt[3]{x}}{\\sin{\\left(x \\right)}}\\, dx = \\int \\frac{\\sqrt[3]{x}}{\\sin{\\left(x \\right)}}\\, dx$"
      ],
      "text/plain": [
       "Eq(Integral(x**(1/3)/sin(x), x), Integral(x**(1/3)/sin(x), x))"
      ]
     },
     "metadata": {},
     "output_type": "display_data"
    },
    {
     "data": {
      "text/latex": [
       "$\\displaystyle \\frac{d}{d x} \\frac{\\sqrt[3]{x}}{- 3 x - 4 + \\frac{1}{x^{3}}} = \\frac{\\sqrt[3]{x} \\left(3 + \\frac{3}{x^{4}}\\right)}{\\left(- 3 x - 4 + \\frac{1}{x^{3}}\\right)^{2}} + \\frac{1}{3 x^{\\frac{2}{3}} \\left(- 3 x - 4 + \\frac{1}{x^{3}}\\right)}$"
      ],
      "text/plain": [
       "Eq(Derivative(x**(1/3)/(-3*x - 4 + x**(-3)), x), x**(1/3)*(3 + 3/x**4)/(-3*x - 4 + x**(-3))**2 + 1/(3*x**(2/3)*(-3*x - 4 + x**(-3))))"
      ]
     },
     "metadata": {},
     "output_type": "display_data"
    },
    {
     "data": {
      "text/latex": [
       "$\\displaystyle \\int \\log{\\left(e^{x} \\right)}\\, dx = \\frac{x^{2}}{2}$"
      ],
      "text/plain": [
       "Eq(Integral(log(exp(x)), x), x**2/2)"
      ]
     },
     "metadata": {},
     "output_type": "display_data"
    },
    {
     "data": {
      "text/latex": [
       "$\\displaystyle \\frac{d}{d x} \\left(x + 4\\right) = 1$"
      ],
      "text/plain": [
       "Eq(Derivative(x + 4, x), 1)"
      ]
     },
     "metadata": {},
     "output_type": "display_data"
    },
    {
     "data": {
      "text/latex": [
       "$\\displaystyle \\int \\left(- \\frac{\\cos{\\left(x \\right)}}{x}\\right)\\, dx = \\log{\\left(x \\right)} - \\frac{\\log{\\left(x^{2} \\right)}}{2} - \\operatorname{Ci}{\\left(x \\right)}$"
      ],
      "text/plain": [
       "Eq(Integral(-cos(x)/x, x), log(x) - log(x**2)/2 - Ci(x))"
      ]
     },
     "metadata": {},
     "output_type": "display_data"
    },
    {
     "data": {
      "text/latex": [
       "$\\displaystyle \\frac{d}{d x} \\left(- 3 x - \\frac{1}{x^{3}}\\right) = -3 + \\frac{3}{x^{4}}$"
      ],
      "text/plain": [
       "Eq(Derivative(-3*x - 1/x**3, x), -3 + 3/x**4)"
      ]
     },
     "metadata": {},
     "output_type": "display_data"
    },
    {
     "data": {
      "text/latex": [
       "$\\displaystyle \\int \\cos{\\left(\\frac{1}{x} \\right)}\\, dx = x \\cos{\\left(\\frac{1}{x} \\right)} + \\operatorname{Si}{\\left(\\frac{1}{x} \\right)}$"
      ],
      "text/plain": [
       "Eq(Integral(cos(1/x), x), x*cos(1/x) + Si(1/x))"
      ]
     },
     "metadata": {},
     "output_type": "display_data"
    },
    {
     "data": {
      "text/latex": [
       "$\\displaystyle \\frac{d}{d x} \\left(x + \\cos{\\left(x \\right)} + 4\\right) = 1 - \\sin{\\left(x \\right)}$"
      ],
      "text/plain": [
       "Eq(Derivative(x + cos(x) + 4, x), 1 - sin(x))"
      ]
     },
     "metadata": {},
     "output_type": "display_data"
    },
    {
     "data": {
      "text/latex": [
       "$\\displaystyle \\int \\left(- x + e^{x} - 2\\right)\\, dx = - \\frac{x^{2}}{2} - 2 x + e^{x}$"
      ],
      "text/plain": [
       "Eq(Integral(-x + exp(x) - 2, x), -x**2/2 - 2*x + exp(x))"
      ]
     },
     "metadata": {},
     "output_type": "display_data"
    },
    {
     "data": {
      "text/latex": [
       "$\\displaystyle \\frac{d}{d x} \\sqrt{\\frac{1}{x}} = - \\frac{\\sqrt{\\frac{1}{x}}}{2 x}$"
      ],
      "text/plain": [
       "Eq(Derivative(sqrt(1/x), x), -sqrt(1/x)/(2*x))"
      ]
     },
     "metadata": {},
     "output_type": "display_data"
    },
    {
     "data": {
      "text/latex": [
       "$\\displaystyle \\int \\frac{1}{x^{\\frac{7}{2}}}\\, dx = - \\frac{2}{5 x^{\\frac{5}{2}}}$"
      ],
      "text/plain": [
       "Eq(Integral(x**(-7/2), x), -2/(5*x**(5/2)))"
      ]
     },
     "metadata": {},
     "output_type": "display_data"
    },
    {
     "data": {
      "text/latex": [
       "$\\displaystyle \\frac{d}{d x} \\left(x^{2} - e^{x}\\right) = 2 x - e^{x}$"
      ],
      "text/plain": [
       "Eq(Derivative(x**2 - exp(x), x), 2*x - exp(x))"
      ]
     },
     "metadata": {},
     "output_type": "display_data"
    },
    {
     "data": {
      "text/latex": [
       "$\\displaystyle \\int \\left(- x + \\sin{\\left(x \\right)}\\right)\\, dx = - \\frac{x^{2}}{2} - \\cos{\\left(x \\right)}$"
      ],
      "text/plain": [
       "Eq(Integral(-x + sin(x), x), -x**2/2 - cos(x))"
      ]
     },
     "metadata": {},
     "output_type": "display_data"
    },
    {
     "data": {
      "text/latex": [
       "$\\displaystyle \\frac{d}{d x} \\frac{x^{4} - 3 x + 1}{\\sqrt[3]{x}} = \\frac{4 x^{3} - 3}{\\sqrt[3]{x}} - \\frac{x^{4} - 3 x + 1}{3 x^{\\frac{4}{3}}}$"
      ],
      "text/plain": [
       "Eq(Derivative((x**4 - 3*x + 1)/x**(1/3), x), (4*x**3 - 3)/x**(1/3) - (x**4 - 3*x + 1)/(3*x**(4/3)))"
      ]
     },
     "metadata": {},
     "output_type": "display_data"
    },
    {
     "data": {
      "text/latex": [
       "$\\displaystyle \\int \\tan{\\left(\\sin{\\left(x \\right)} \\right)}\\, dx = \\int \\tan{\\left(\\sin{\\left(x \\right)} \\right)}\\, dx$"
      ],
      "text/plain": [
       "Eq(Integral(tan(sin(x)), x), Integral(tan(sin(x)), x))"
      ]
     },
     "metadata": {},
     "output_type": "display_data"
    },
    {
     "data": {
      "text/latex": [
       "$\\displaystyle \\frac{d}{d x} \\left(- 2 x + \\log{\\left(x \\right)}\\right) = -2 + \\frac{1}{x}$"
      ],
      "text/plain": [
       "Eq(Derivative(-2*x + log(x), x), -2 + 1/x)"
      ]
     },
     "metadata": {},
     "output_type": "display_data"
    },
    {
     "data": {
      "text/latex": [
       "$\\displaystyle \\int \\frac{x}{x - 5}\\, dx = x + 5 \\log{\\left(x - 5 \\right)}$"
      ],
      "text/plain": [
       "Eq(Integral(x/(x - 5), x), x + 5*log(x - 5))"
      ]
     },
     "metadata": {},
     "output_type": "display_data"
    },
    {
     "data": {
      "text/latex": [
       "$\\displaystyle \\frac{d}{d x} \\left(x^{3} - x\\right) = 3 x^{2} - 1$"
      ],
      "text/plain": [
       "Eq(Derivative(x**3 - x, x), 3*x**2 - 1)"
      ]
     },
     "metadata": {},
     "output_type": "display_data"
    },
    {
     "data": {
      "text/latex": [
       "$\\displaystyle \\int \\frac{e^{x}}{\\sin{\\left(x \\right)}}\\, dx = \\int \\frac{e^{x}}{\\sin{\\left(x \\right)}}\\, dx$"
      ],
      "text/plain": [
       "Eq(Integral(exp(x)/sin(x), x), Integral(exp(x)/sin(x), x))"
      ]
     },
     "metadata": {},
     "output_type": "display_data"
    },
    {
     "data": {
      "text/latex": [
       "$\\displaystyle \\frac{d}{d x} \\left(- x + \\tan{\\left(x \\right)} - 2\\right) = \\tan^{2}{\\left(x \\right)}$"
      ],
      "text/plain": [
       "Eq(Derivative(-x + tan(x) - 2, x), tan(x)**2)"
      ]
     },
     "metadata": {},
     "output_type": "display_data"
    },
    {
     "data": {
      "text/latex": [
       "$\\displaystyle \\int \\left(3 x + 2 + \\frac{1}{x^{4}}\\right)\\, dx = \\frac{3 x^{2}}{2} + 2 x - \\frac{1}{3 x^{3}}$"
      ],
      "text/plain": [
       "Eq(Integral(3*x + 2 + x**(-4), x), 3*x**2/2 + 2*x - 1/(3*x**3))"
      ]
     },
     "metadata": {},
     "output_type": "display_data"
    },
    {
     "data": {
      "text/latex": [
       "$\\displaystyle \\frac{d}{d x} 3 x = 3$"
      ],
      "text/plain": [
       "Eq(Derivative(3*x, x), 3)"
      ]
     },
     "metadata": {},
     "output_type": "display_data"
    },
    {
     "data": {
      "text/latex": [
       "$\\displaystyle \\int \\left(- x^{3} + \\sin{\\left(x \\right)}\\right)\\, dx = - \\frac{x^{4}}{4} - \\cos{\\left(x \\right)}$"
      ],
      "text/plain": [
       "Eq(Integral(-x**3 + sin(x), x), -x**4/4 - cos(x))"
      ]
     },
     "metadata": {},
     "output_type": "display_data"
    },
    {
     "data": {
      "text/latex": [
       "$\\displaystyle \\frac{d}{d x} \\frac{\\log{\\left(x \\right)}}{\\cos{\\left(x \\right)}} = \\frac{\\log{\\left(x \\right)} \\sin{\\left(x \\right)}}{\\cos^{2}{\\left(x \\right)}} + \\frac{1}{x \\cos{\\left(x \\right)}}$"
      ],
      "text/plain": [
       "Eq(Derivative(log(x)/cos(x), x), log(x)*sin(x)/cos(x)**2 + 1/(x*cos(x)))"
      ]
     },
     "metadata": {},
     "output_type": "display_data"
    },
    {
     "data": {
      "text/latex": [
       "$\\displaystyle \\int e^{- x} \\tan{\\left(x \\right)}\\, dx = \\int e^{- x} \\tan{\\left(x \\right)}\\, dx$"
      ],
      "text/plain": [
       "Eq(Integral(exp(-x)*tan(x), x), Integral(exp(-x)*tan(x), x))"
      ]
     },
     "metadata": {},
     "output_type": "display_data"
    },
    {
     "data": {
      "text/latex": [
       "$\\displaystyle \\frac{d}{d x} \\left(- \\frac{\\cos{\\left(x \\right)}}{3 x}\\right) = \\frac{\\sin{\\left(x \\right)}}{3 x} + \\frac{\\cos{\\left(x \\right)}}{3 x^{2}}$"
      ],
      "text/plain": [
       "Eq(Derivative(-cos(x)/(3*x), x), sin(x)/(3*x) + cos(x)/(3*x**2))"
      ]
     },
     "metadata": {},
     "output_type": "display_data"
    },
    {
     "data": {
      "text/latex": [
       "$\\displaystyle \\int \\left(- \\sin{\\left(x \\right)} + \\tan{\\left(x \\right)}\\right)\\, dx = - \\log{\\left(\\cos{\\left(x \\right)} \\right)} + \\cos{\\left(x \\right)}$"
      ],
      "text/plain": [
       "Eq(Integral(-sin(x) + tan(x), x), -log(cos(x)) + cos(x))"
      ]
     },
     "metadata": {},
     "output_type": "display_data"
    },
    {
     "data": {
      "text/latex": [
       "$\\displaystyle \\frac{d}{d x} \\frac{1}{\\sqrt[6]{x}} = - \\frac{1}{6 x^{\\frac{7}{6}}}$"
      ],
      "text/plain": [
       "Eq(Derivative(x**(-1/6), x), -1/(6*x**(7/6)))"
      ]
     },
     "metadata": {},
     "output_type": "display_data"
    },
    {
     "data": {
      "text/latex": [
       "$\\displaystyle \\int \\left(3 x + \\tan{\\left(x \\right)}\\right)\\, dx = \\frac{3 x^{2}}{2} - \\log{\\left(\\cos{\\left(x \\right)} \\right)}$"
      ],
      "text/plain": [
       "Eq(Integral(3*x + tan(x), x), 3*x**2/2 - log(cos(x)))"
      ]
     },
     "metadata": {},
     "output_type": "display_data"
    },
    {
     "data": {
      "text/latex": [
       "$\\displaystyle \\frac{d}{d x} \\sqrt{x} = \\frac{1}{2 \\sqrt{x}}$"
      ],
      "text/plain": [
       "Eq(Derivative(sqrt(x), x), 1/(2*sqrt(x)))"
      ]
     },
     "metadata": {},
     "output_type": "display_data"
    },
    {
     "data": {
      "text/latex": [
       "$\\displaystyle \\int \\left(- 3 e^{x} - 2 + e^{- 3 x}\\right)\\, dx = - 2 x - 3 e^{x} - \\frac{e^{- 3 x}}{3}$"
      ],
      "text/plain": [
       "Eq(Integral(-3*exp(x) - 2 + exp(-3*x), x), -2*x - 3*exp(x) - exp(-3*x)/3)"
      ]
     },
     "metadata": {},
     "output_type": "display_data"
    },
    {
     "data": {
      "text/latex": [
       "$\\displaystyle \\frac{d}{d x} \\left(- 2 x + \\sin{\\left(x \\right)} - 1 - \\frac{1}{x}\\right) = \\cos{\\left(x \\right)} - 2 + \\frac{1}{x^{2}}$"
      ],
      "text/plain": [
       "Eq(Derivative(-2*x + sin(x) - 1 - 1/x, x), cos(x) - 2 + x**(-2))"
      ]
     },
     "metadata": {},
     "output_type": "display_data"
    },
    {
     "data": {
      "text/latex": [
       "$\\displaystyle \\int \\left(2 x + e^{x} + 2\\right)\\, dx = x^{2} + 2 x + e^{x}$"
      ],
      "text/plain": [
       "Eq(Integral(2*x + exp(x) + 2, x), x**2 + 2*x + exp(x))"
      ]
     },
     "metadata": {},
     "output_type": "display_data"
    },
    {
     "data": {
      "text/latex": [
       "$\\displaystyle \\frac{d}{d x} \\left(- \\frac{x - 1}{2 x}\\right) = - \\frac{1}{2 x} + \\frac{x - 1}{2 x^{2}}$"
      ],
      "text/plain": [
       "Eq(Derivative(-(x - 1)/(2*x), x), -1/(2*x) + (x - 1)/(2*x**2))"
      ]
     },
     "metadata": {},
     "output_type": "display_data"
    },
    {
     "data": {
      "text/latex": [
       "$\\displaystyle \\int \\left(3 \\sin{\\left(x \\right)} - 1\\right)\\, dx = - x - 3 \\cos{\\left(x \\right)}$"
      ],
      "text/plain": [
       "Eq(Integral(3*sin(x) - 1, x), -x - 3*cos(x))"
      ]
     },
     "metadata": {},
     "output_type": "display_data"
    },
    {
     "data": {
      "text/latex": [
       "$\\displaystyle \\frac{d}{d x} \\left(\\sqrt{x} - 4 x\\right) = -4 + \\frac{1}{2 \\sqrt{x}}$"
      ],
      "text/plain": [
       "Eq(Derivative(sqrt(x) - 4*x, x), -4 + 1/(2*sqrt(x)))"
      ]
     },
     "metadata": {},
     "output_type": "display_data"
    },
    {
     "data": {
      "text/latex": [
       "$\\displaystyle \\int \\left(- \\frac{\\tan{\\left(x \\right)}}{x}\\right)\\, dx = - \\int \\frac{\\tan{\\left(x \\right)}}{x}\\, dx$"
      ],
      "text/plain": [
       "Eq(Integral(-tan(x)/x, x), -Integral(tan(x)/x, x))"
      ]
     },
     "metadata": {},
     "output_type": "display_data"
    },
    {
     "data": {
      "text/latex": [
       "$\\displaystyle \\frac{d}{d x} \\sqrt[3]{- x - 4 + \\frac{1}{x^{3}}} = \\frac{- \\frac{1}{3} - \\frac{1}{x^{4}}}{\\left(- x - 4 + \\frac{1}{x^{3}}\\right)^{\\frac{2}{3}}}$"
      ],
      "text/plain": [
       "Eq(Derivative((-x - 4 + x**(-3))**(1/3), x), (-1/3 - 1/x**4)/(-x - 4 + x**(-3))**(2/3))"
      ]
     },
     "metadata": {},
     "output_type": "display_data"
    },
    {
     "data": {
      "text/latex": [
       "$\\displaystyle \\int e^{\\sqrt[3]{x}}\\, dx = 3 x^{\\frac{2}{3}} e^{\\sqrt[3]{x}} - 6 \\sqrt[3]{x} e^{\\sqrt[3]{x}} + 6 e^{\\sqrt[3]{x}}$"
      ],
      "text/plain": [
       "Eq(Integral(exp(x**(1/3)), x), 3*x**(2/3)*exp(x**(1/3)) - 6*x**(1/3)*exp(x**(1/3)) + 6*exp(x**(1/3)))"
      ]
     },
     "metadata": {},
     "output_type": "display_data"
    },
    {
     "data": {
      "text/latex": [
       "$\\displaystyle \\frac{d}{d x} \\left(\\frac{4}{3} - \\frac{x}{3}\\right) = - \\frac{1}{3}$"
      ],
      "text/plain": [
       "Eq(Derivative(4/3 - x/3, x), -1/3)"
      ]
     },
     "metadata": {},
     "output_type": "display_data"
    },
    {
     "data": {
      "text/latex": [
       "$\\displaystyle \\int \\left(x + \\cos{\\left(x \\right)} + 3\\right)\\, dx = \\frac{x^{2}}{2} + 3 x + \\sin{\\left(x \\right)}$"
      ],
      "text/plain": [
       "Eq(Integral(x + cos(x) + 3, x), x**2/2 + 3*x + sin(x))"
      ]
     },
     "metadata": {},
     "output_type": "display_data"
    },
    {
     "data": {
      "text/latex": [
       "$\\displaystyle \\frac{d}{d x} \\left(e^{x} - \\log{\\left(x \\right)}\\right) = e^{x} - \\frac{1}{x}$"
      ],
      "text/plain": [
       "Eq(Derivative(exp(x) - log(x), x), exp(x) - 1/x)"
      ]
     },
     "metadata": {},
     "output_type": "display_data"
    },
    {
     "data": {
      "text/latex": [
       "$\\displaystyle \\int \\tan{\\left(\\sin{\\left(x \\right)} \\right)}\\, dx = \\int \\tan{\\left(\\sin{\\left(x \\right)} \\right)}\\, dx$"
      ],
      "text/plain": [
       "Eq(Integral(tan(sin(x)), x), Integral(tan(sin(x)), x))"
      ]
     },
     "metadata": {},
     "output_type": "display_data"
    },
    {
     "data": {
      "text/latex": [
       "$\\displaystyle \\frac{d}{d x} \\cos{\\left(\\cos{\\left(x \\right)} \\right)} = \\sin{\\left(x \\right)} \\sin{\\left(\\cos{\\left(x \\right)} \\right)}$"
      ],
      "text/plain": [
       "Eq(Derivative(cos(cos(x)), x), sin(x)*sin(cos(x)))"
      ]
     },
     "metadata": {},
     "output_type": "display_data"
    },
    {
     "data": {
      "text/latex": [
       "$\\displaystyle \\int \\left(1 - 3 x\\right)\\, dx = - \\frac{3 x^{2}}{2} + x$"
      ],
      "text/plain": [
       "Eq(Integral(1 - 3*x, x), -3*x**2/2 + x)"
      ]
     },
     "metadata": {},
     "output_type": "display_data"
    },
    {
     "data": {
      "text/latex": [
       "$\\displaystyle \\frac{d}{d x} \\sqrt{e^{x}} = \\frac{\\sqrt{e^{x}}}{2}$"
      ],
      "text/plain": [
       "Eq(Derivative(sqrt(exp(x)), x), sqrt(exp(x))/2)"
      ]
     },
     "metadata": {},
     "output_type": "display_data"
    },
    {
     "data": {
      "text/latex": [
       "$\\displaystyle \\int \\sqrt[9]{x}\\, dx = \\frac{9 x^{\\frac{10}{9}}}{10}$"
      ],
      "text/plain": [
       "Eq(Integral(x**(1/9), x), 9*x**(10/9)/10)"
      ]
     },
     "metadata": {},
     "output_type": "display_data"
    },
    {
     "data": {
      "text/latex": [
       "$\\displaystyle \\frac{d}{d x} \\left(e^{x} + \\log{\\left(x \\right)}\\right) = e^{x} + \\frac{1}{x}$"
      ],
      "text/plain": [
       "Eq(Derivative(exp(x) + log(x), x), exp(x) + 1/x)"
      ]
     },
     "metadata": {},
     "output_type": "display_data"
    },
    {
     "data": {
      "text/latex": [
       "$\\displaystyle \\int \\left(\\sin{\\left(x \\right)} + \\tan{\\left(x \\right)}\\right)\\, dx = - \\log{\\left(\\cos{\\left(x \\right)} \\right)} - \\cos{\\left(x \\right)}$"
      ],
      "text/plain": [
       "Eq(Integral(sin(x) + tan(x), x), -log(cos(x)) - cos(x))"
      ]
     },
     "metadata": {},
     "output_type": "display_data"
    },
    {
     "data": {
      "text/latex": [
       "$\\displaystyle \\frac{d}{d x} \\frac{\\sin{\\left(x \\right)}}{\\tan{\\left(x \\right)}} = \\frac{\\left(- \\tan^{2}{\\left(x \\right)} - 1\\right) \\sin{\\left(x \\right)}}{\\tan^{2}{\\left(x \\right)}} + \\frac{\\cos{\\left(x \\right)}}{\\tan{\\left(x \\right)}}$"
      ],
      "text/plain": [
       "Eq(Derivative(sin(x)/tan(x), x), (-tan(x)**2 - 1)*sin(x)/tan(x)**2 + cos(x)/tan(x))"
      ]
     },
     "metadata": {},
     "output_type": "display_data"
    },
    {
     "data": {
      "text/latex": [
       "$\\displaystyle \\int \\sin{\\left(\\tan{\\left(x \\right)} \\right)}\\, dx = \\int \\sin{\\left(\\tan{\\left(x \\right)} \\right)}\\, dx$"
      ],
      "text/plain": [
       "Eq(Integral(sin(tan(x)), x), Integral(sin(tan(x)), x))"
      ]
     },
     "metadata": {},
     "output_type": "display_data"
    },
    {
     "data": {
      "text/latex": [
       "$\\displaystyle \\frac{d}{d x} \\left(\\sqrt[3]{x} + e^{x}\\right) = e^{x} + \\frac{1}{3 x^{\\frac{2}{3}}}$"
      ],
      "text/plain": [
       "Eq(Derivative(x**(1/3) + exp(x), x), exp(x) + 1/(3*x**(2/3)))"
      ]
     },
     "metadata": {},
     "output_type": "display_data"
    },
    {
     "data": {
      "text/latex": [
       "$\\displaystyle \\int 2 e^{x}\\, dx = 2 e^{x}$"
      ],
      "text/plain": [
       "Eq(Integral(2*exp(x), x), 2*exp(x))"
      ]
     },
     "metadata": {},
     "output_type": "display_data"
    },
    {
     "data": {
      "text/latex": [
       "$\\displaystyle \\frac{d}{d x} \\left(1 - 3 x\\right) = -3$"
      ],
      "text/plain": [
       "Eq(Derivative(1 - 3*x, x), -3)"
      ]
     },
     "metadata": {},
     "output_type": "display_data"
    },
    {
     "data": {
      "text/latex": [
       "$\\displaystyle \\int \\left(- x + \\sin{\\left(x \\right)}\\right)\\, dx = - \\frac{x^{2}}{2} - \\cos{\\left(x \\right)}$"
      ],
      "text/plain": [
       "Eq(Integral(-x + sin(x), x), -x**2/2 - cos(x))"
      ]
     },
     "metadata": {},
     "output_type": "display_data"
    },
    {
     "data": {
      "text/latex": [
       "$\\displaystyle \\frac{d}{d x} \\left(- \\sqrt[3]{x} + e^{x}\\right) = e^{x} - \\frac{1}{3 x^{\\frac{2}{3}}}$"
      ],
      "text/plain": [
       "Eq(Derivative(-x**(1/3) + exp(x), x), exp(x) - 1/(3*x**(2/3)))"
      ]
     },
     "metadata": {},
     "output_type": "display_data"
    },
    {
     "data": {
      "text/latex": [
       "$\\displaystyle \\int x e^{x}\\, dx = \\left(x - 1\\right) e^{x}$"
      ],
      "text/plain": [
       "Eq(Integral(x*exp(x), x), (x - 1)*exp(x))"
      ]
     },
     "metadata": {},
     "output_type": "display_data"
    },
    {
     "data": {
      "text/latex": [
       "$\\displaystyle \\frac{d}{d x} \\left(- \\frac{\\sin{\\left(x \\right)}}{x}\\right) = - \\frac{\\cos{\\left(x \\right)}}{x} + \\frac{\\sin{\\left(x \\right)}}{x^{2}}$"
      ],
      "text/plain": [
       "Eq(Derivative(-sin(x)/x, x), -cos(x)/x + sin(x)/x**2)"
      ]
     },
     "metadata": {},
     "output_type": "display_data"
    },
    {
     "data": {
      "text/latex": [
       "$\\displaystyle \\int \\tan{\\left(\\log{\\left(x \\right)} \\right)}\\, dx = \\int \\tan{\\left(\\log{\\left(x \\right)} \\right)}\\, dx$"
      ],
      "text/plain": [
       "Eq(Integral(tan(log(x)), x), Integral(tan(log(x)), x))"
      ]
     },
     "metadata": {},
     "output_type": "display_data"
    },
    {
     "data": {
      "text/latex": [
       "$\\displaystyle \\frac{d}{d x} \\frac{\\sqrt[3]{x}}{\\cos{\\left(x \\right)}} = \\frac{\\sqrt[3]{x} \\sin{\\left(x \\right)}}{\\cos^{2}{\\left(x \\right)}} + \\frac{1}{3 x^{\\frac{2}{3}} \\cos{\\left(x \\right)}}$"
      ],
      "text/plain": [
       "Eq(Derivative(x**(1/3)/cos(x), x), x**(1/3)*sin(x)/cos(x)**2 + 1/(3*x**(2/3)*cos(x)))"
      ]
     },
     "metadata": {},
     "output_type": "display_data"
    },
    {
     "data": {
      "text/latex": [
       "$\\displaystyle \\int \\left(\\sqrt{x} - x^{4}\\right)\\, dx = \\frac{2 x^{\\frac{3}{2}}}{3} - \\frac{x^{5}}{5}$"
      ],
      "text/plain": [
       "Eq(Integral(sqrt(x) - x**4, x), 2*x**(3/2)/3 - x**5/5)"
      ]
     },
     "metadata": {},
     "output_type": "display_data"
    },
    {
     "data": {
      "text/latex": [
       "$\\displaystyle \\frac{d}{d x} \\left(\\log{\\left(x \\right)} - \\tan{\\left(x \\right)}\\right) = - \\tan^{2}{\\left(x \\right)} - 1 + \\frac{1}{x}$"
      ],
      "text/plain": [
       "Eq(Derivative(log(x) - tan(x), x), -tan(x)**2 - 1 + 1/x)"
      ]
     },
     "metadata": {},
     "output_type": "display_data"
    },
    {
     "data": {
      "text/latex": [
       "$\\displaystyle \\int \\frac{\\tan{\\left(x \\right)}}{\\cos{\\left(x \\right)}}\\, dx = \\frac{1}{\\cos{\\left(x \\right)}}$"
      ],
      "text/plain": [
       "Eq(Integral(tan(x)/cos(x), x), 1/cos(x))"
      ]
     },
     "metadata": {},
     "output_type": "display_data"
    },
    {
     "data": {
      "text/latex": [
       "$\\displaystyle \\frac{d}{d x} \\sqrt[6]{x} = \\frac{1}{6 x^{\\frac{5}{6}}}$"
      ],
      "text/plain": [
       "Eq(Derivative(x**(1/6), x), 1/(6*x**(5/6)))"
      ]
     },
     "metadata": {},
     "output_type": "display_data"
    },
    {
     "data": {
      "text/latex": [
       "$\\displaystyle \\int \\left(2 x + \\tan{\\left(x \\right)}\\right)\\, dx = x^{2} - \\log{\\left(\\cos{\\left(x \\right)} \\right)}$"
      ],
      "text/plain": [
       "Eq(Integral(2*x + tan(x), x), x**2 - log(cos(x)))"
      ]
     },
     "metadata": {},
     "output_type": "display_data"
    },
    {
     "data": {
      "text/latex": [
       "$\\displaystyle \\frac{d}{d x} \\left(\\sqrt[3]{x} - \\sqrt{x}\\right) = - \\frac{1}{2 \\sqrt{x}} + \\frac{1}{3 x^{\\frac{2}{3}}}$"
      ],
      "text/plain": [
       "Eq(Derivative(x**(1/3) - sqrt(x), x), -1/(2*sqrt(x)) + 1/(3*x**(2/3)))"
      ]
     },
     "metadata": {},
     "output_type": "display_data"
    },
    {
     "data": {
      "text/latex": [
       "$\\displaystyle \\int \\left(\\sqrt[3]{x} - 2\\right)\\, dx = \\frac{3 x^{\\frac{4}{3}}}{4} - 2 x$"
      ],
      "text/plain": [
       "Eq(Integral(x**(1/3) - 2, x), 3*x**(4/3)/4 - 2*x)"
      ]
     },
     "metadata": {},
     "output_type": "display_data"
    },
    {
     "data": {
      "text/latex": [
       "$\\displaystyle \\frac{d}{d x} \\sqrt[3]{\\log{\\left(x \\right)}} = \\frac{1}{3 x \\log{\\left(x \\right)}^{\\frac{2}{3}}}$"
      ],
      "text/plain": [
       "Eq(Derivative(log(x)**(1/3), x), 1/(3*x*log(x)**(2/3)))"
      ]
     },
     "metadata": {},
     "output_type": "display_data"
    },
    {
     "data": {
      "text/latex": [
       "$\\displaystyle \\int e^{\\cos{\\left(x \\right)}}\\, dx = \\int e^{\\cos{\\left(x \\right)}}\\, dx$"
      ],
      "text/plain": [
       "Eq(Integral(exp(cos(x)), x), Integral(exp(cos(x)), x))"
      ]
     },
     "metadata": {},
     "output_type": "display_data"
    },
    {
     "data": {
      "text/latex": [
       "$\\displaystyle \\frac{d}{d x} \\left(\\log{\\left(x \\right)} + \\sin{\\left(x \\right)}\\right) = \\cos{\\left(x \\right)} + \\frac{1}{x}$"
      ],
      "text/plain": [
       "Eq(Derivative(log(x) + sin(x), x), cos(x) + 1/x)"
      ]
     },
     "metadata": {},
     "output_type": "display_data"
    },
    {
     "data": {
      "text/latex": [
       "$\\displaystyle \\int \\frac{\\sqrt{x}}{- 2 x + 2 + \\frac{1}{x^{4}}}\\, dx = - \\sqrt{x} - \\operatorname{RootSum} {\\left(27090470912 t^{10} + 232768000 t^{8} + 3176832 t^{6} + 27072 t^{4} + 152 t^{2} - 1, \\left( t \\mapsto t \\log{\\left(- \\frac{68364693976851713024 t^{9}}{108251852999} - \\frac{796677447806282752 t^{7}}{108251852999} - \\frac{9930460135048960 t^{5}}{108251852999} - \\frac{88023082981728 t^{3}}{108251852999} - \\frac{1596862207142 t}{108251852999} + \\sqrt{x} \\right)} \\right)\\right)} - 2 \\operatorname{RootSum} {\\left(6935160553472 t^{10} - 61018734592 t^{8} - 819200000 t^{6} - 2560000 t^{4} - 2800 t^{2} - 1, \\left( t \\mapsto t \\log{\\left(\\frac{25971613874576506880000 t^{9}}{6901883507} - \\frac{248102041372590080000 t^{7}}{6901883507} - \\frac{2893162370844262400 t^{5}}{6901883507} - \\frac{7247739355555840 t^{3}}{6901883507} - \\frac{4154722701388 t}{6901883507} + \\sqrt{x} \\right)} \\right)\\right)}$"
      ],
      "text/plain": [
       "Eq(Integral(sqrt(x)/(-2*x + 2 + x**(-4)), x), -sqrt(x) - RootSum(27090470912*_t**10 + 232768000*_t**8 + 3176832*_t**6 + 27072*_t**4 + 152*_t**2 - 1, Lambda(_t, _t*log(-68364693976851713024*_t**9/108251852999 - 796677447806282752*_t**7/108251852999 - 9930460135048960*_t**5/108251852999 - 88023082981728*_t**3/108251852999 - 1596862207142*_t/108251852999 + sqrt(x)))) - 2*RootSum(6935160553472*_t**10 - 61018734592*_t**8 - 819200000*_t**6 - 2560000*_t**4 - 2800*_t**2 - 1, Lambda(_t, _t*log(25971613874576506880000*_t**9/6901883507 - 248102041372590080000*_t**7/6901883507 - 2893162370844262400*_t**5/6901883507 - 7247739355555840*_t**3/6901883507 - 4154722701388*_t/6901883507 + sqrt(x)))))"
      ]
     },
     "metadata": {},
     "output_type": "display_data"
    },
    {
     "data": {
      "text/latex": [
       "$\\displaystyle \\frac{d}{d x} \\frac{x}{\\cos{\\left(x \\right)}} = \\frac{x \\sin{\\left(x \\right)}}{\\cos^{2}{\\left(x \\right)}} + \\frac{1}{\\cos{\\left(x \\right)}}$"
      ],
      "text/plain": [
       "Eq(Derivative(x/cos(x), x), x*sin(x)/cos(x)**2 + 1/cos(x))"
      ]
     },
     "metadata": {},
     "output_type": "display_data"
    },
    {
     "data": {
      "text/latex": [
       "$\\displaystyle \\int \\left(- \\frac{\\log{\\left(x \\right)}}{2 x}\\right)\\, dx = - \\frac{\\log{\\left(x \\right)}^{2}}{4}$"
      ],
      "text/plain": [
       "Eq(Integral(-log(x)/(2*x), x), -log(x)**2/4)"
      ]
     },
     "metadata": {},
     "output_type": "display_data"
    },
    {
     "data": {
      "text/latex": [
       "$\\displaystyle \\frac{d}{d x} \\left(\\log{\\left(x \\right)} + 2\\right) = \\frac{1}{x}$"
      ],
      "text/plain": [
       "Eq(Derivative(log(x) + 2, x), 1/x)"
      ]
     },
     "metadata": {},
     "output_type": "display_data"
    },
    {
     "data": {
      "text/latex": [
       "$\\displaystyle \\int \\left(- \\sqrt{x} + \\cos{\\left(x \\right)}\\right)\\, dx = - \\frac{2 x^{\\frac{3}{2}}}{3} + \\sin{\\left(x \\right)}$"
      ],
      "text/plain": [
       "Eq(Integral(-sqrt(x) + cos(x), x), -2*x**(3/2)/3 + sin(x))"
      ]
     },
     "metadata": {},
     "output_type": "display_data"
    },
    {
     "data": {
      "text/latex": [
       "$\\displaystyle \\frac{d}{d x} \\left(- x^{3} + x + \\cos{\\left(x \\right)} + 4\\right) = - 3 x^{2} - \\sin{\\left(x \\right)} + 1$"
      ],
      "text/plain": [
       "Eq(Derivative(-x**3 + x + cos(x) + 4, x), -3*x**2 - sin(x) + 1)"
      ]
     },
     "metadata": {},
     "output_type": "display_data"
    },
    {
     "data": {
      "text/latex": [
       "$\\displaystyle \\int \\left(- 4 x - \\log{\\left(x \\right)}\\right)\\, dx = - 2 x^{2} - x \\log{\\left(x \\right)} + x$"
      ],
      "text/plain": [
       "Eq(Integral(-4*x - log(x), x), -2*x**2 - x*log(x) + x)"
      ]
     },
     "metadata": {},
     "output_type": "display_data"
    },
    {
     "data": {
      "text/latex": [
       "$\\displaystyle \\frac{d}{d x} \\left(x + \\cos{\\left(x \\right)} + 2\\right) = 1 - \\sin{\\left(x \\right)}$"
      ],
      "text/plain": [
       "Eq(Derivative(x + cos(x) + 2, x), 1 - sin(x))"
      ]
     },
     "metadata": {},
     "output_type": "display_data"
    },
    {
     "data": {
      "text/latex": [
       "$\\displaystyle \\int \\cos{\\left(4 x \\right)}\\, dx = \\frac{\\sin{\\left(4 x \\right)}}{4}$"
      ],
      "text/plain": [
       "Eq(Integral(cos(4*x), x), sin(4*x)/4)"
      ]
     },
     "metadata": {},
     "output_type": "display_data"
    },
    {
     "data": {
      "text/latex": [
       "$\\displaystyle \\frac{d}{d x} \\sqrt{x} e^{- x} = - \\sqrt{x} e^{- x} + \\frac{e^{- x}}{2 \\sqrt{x}}$"
      ],
      "text/plain": [
       "Eq(Derivative(sqrt(x)*exp(-x), x), -sqrt(x)*exp(-x) + exp(-x)/(2*sqrt(x)))"
      ]
     },
     "metadata": {},
     "output_type": "display_data"
    },
    {
     "data": {
      "text/latex": [
       "$\\displaystyle \\int \\frac{\\tan{\\left(x \\right)}}{\\sqrt[3]{x}}\\, dx = \\int \\frac{\\tan{\\left(x \\right)}}{\\sqrt[3]{x}}\\, dx$"
      ],
      "text/plain": [
       "Eq(Integral(tan(x)/x**(1/3), x), Integral(tan(x)/x**(1/3), x))"
      ]
     },
     "metadata": {},
     "output_type": "display_data"
    },
    {
     "data": {
      "text/latex": [
       "$\\displaystyle \\frac{d}{d x} \\left(e^{x} + \\cos{\\left(x \\right)}\\right) = e^{x} - \\sin{\\left(x \\right)}$"
      ],
      "text/plain": [
       "Eq(Derivative(exp(x) + cos(x), x), exp(x) - sin(x))"
      ]
     },
     "metadata": {},
     "output_type": "display_data"
    },
    {
     "data": {
      "text/latex": [
       "$\\displaystyle \\int \\frac{\\cos{\\left(x \\right)}}{\\tan{\\left(x \\right)}}\\, dx = \\frac{\\log{\\left(\\cos{\\left(x \\right)} - 1 \\right)}}{2} - \\frac{\\log{\\left(\\cos{\\left(x \\right)} + 1 \\right)}}{2} + \\cos{\\left(x \\right)}$"
      ],
      "text/plain": [
       "Eq(Integral(cos(x)/tan(x), x), log(cos(x) - 1)/2 - log(cos(x) + 1)/2 + cos(x))"
      ]
     },
     "metadata": {},
     "output_type": "display_data"
    },
    {
     "data": {
      "text/latex": [
       "$\\displaystyle \\frac{d}{d x} \\frac{x - 5}{\\sqrt[3]{x}} = \\frac{1}{\\sqrt[3]{x}} - \\frac{x - 5}{3 x^{\\frac{4}{3}}}$"
      ],
      "text/plain": [
       "Eq(Derivative((x - 5)/x**(1/3), x), x**(-1/3) - (x - 5)/(3*x**(4/3)))"
      ]
     },
     "metadata": {},
     "output_type": "display_data"
    },
    {
     "data": {
      "text/latex": [
       "$\\displaystyle \\int \\cos{\\left(x \\right)}\\, dx = \\sin{\\left(x \\right)}$"
      ],
      "text/plain": [
       "Eq(Integral(cos(x), x), sin(x))"
      ]
     },
     "metadata": {},
     "output_type": "display_data"
    },
    {
     "data": {
      "text/latex": [
       "$\\displaystyle \\frac{d}{d x} \\frac{x}{\\cos{\\left(x \\right)}} = \\frac{x \\sin{\\left(x \\right)}}{\\cos^{2}{\\left(x \\right)}} + \\frac{1}{\\cos{\\left(x \\right)}}$"
      ],
      "text/plain": [
       "Eq(Derivative(x/cos(x), x), x*sin(x)/cos(x)**2 + 1/cos(x))"
      ]
     },
     "metadata": {},
     "output_type": "display_data"
    },
    {
     "data": {
      "text/latex": [
       "$\\displaystyle \\int \\frac{\\cos{\\left(x \\right)}}{\\sqrt[3]{x}}\\, dx = \\frac{x^{\\frac{2}{3}} \\Gamma\\left(\\frac{1}{3}\\right) {{}_{1}F_{2}\\left(\\begin{matrix} \\frac{1}{3} \\\\ \\frac{1}{2}, \\frac{4}{3} \\end{matrix}\\middle| {- \\frac{x^{2}}{4}} \\right)}}{2 \\Gamma\\left(\\frac{4}{3}\\right)}$"
      ],
      "text/plain": [
       "Eq(Integral(cos(x)/x**(1/3), x), x**(2/3)*gamma(1/3)*hyper((1/3,), (1/2, 4/3), -x**2/4)/(2*gamma(4/3)))"
      ]
     },
     "metadata": {},
     "output_type": "display_data"
    },
    {
     "data": {
      "text/latex": [
       "$\\displaystyle \\frac{d}{d x} 2 \\log{\\left(x \\right)} = \\frac{2}{x}$"
      ],
      "text/plain": [
       "Eq(Derivative(2*log(x), x), 2/x)"
      ]
     },
     "metadata": {},
     "output_type": "display_data"
    },
    {
     "data": {
      "text/latex": [
       "$\\displaystyle \\int \\frac{1}{\\tan^{4}{\\left(x \\right)}}\\, dx = x + \\frac{\\cos{\\left(x \\right)}}{\\sin{\\left(x \\right)}} - \\frac{\\cos^{3}{\\left(x \\right)}}{3 \\sin^{3}{\\left(x \\right)}}$"
      ],
      "text/plain": [
       "Eq(Integral(tan(x)**(-4), x), x + cos(x)/sin(x) - cos(x)**3/(3*sin(x)**3))"
      ]
     },
     "metadata": {},
     "output_type": "display_data"
    },
    {
     "data": {
      "text/latex": [
       "$\\displaystyle \\frac{d}{d x} \\frac{\\sqrt{x}}{\\log{\\left(x \\right)}} = \\frac{1}{2 \\sqrt{x} \\log{\\left(x \\right)}} - \\frac{1}{\\sqrt{x} \\log{\\left(x \\right)}^{2}}$"
      ],
      "text/plain": [
       "Eq(Derivative(sqrt(x)/log(x), x), 1/(2*sqrt(x)*log(x)) - 1/(sqrt(x)*log(x)**2))"
      ]
     },
     "metadata": {},
     "output_type": "display_data"
    },
    {
     "data": {
      "text/latex": [
       "$\\displaystyle \\int \\left(\\sqrt{x} - \\sin{\\left(x \\right)}\\right)\\, dx = \\frac{2 x^{\\frac{3}{2}}}{3} + \\cos{\\left(x \\right)}$"
      ],
      "text/plain": [
       "Eq(Integral(sqrt(x) - sin(x), x), 2*x**(3/2)/3 + cos(x))"
      ]
     },
     "metadata": {},
     "output_type": "display_data"
    },
    {
     "data": {
      "text/latex": [
       "$\\displaystyle \\frac{d}{d x} \\frac{\\tan{\\left(x \\right)}}{\\cos{\\left(x \\right)}} = \\frac{\\tan^{2}{\\left(x \\right)} + 1}{\\cos{\\left(x \\right)}} + \\frac{\\sin{\\left(x \\right)} \\tan{\\left(x \\right)}}{\\cos^{2}{\\left(x \\right)}}$"
      ],
      "text/plain": [
       "Eq(Derivative(tan(x)/cos(x), x), (tan(x)**2 + 1)/cos(x) + sin(x)*tan(x)/cos(x)**2)"
      ]
     },
     "metadata": {},
     "output_type": "display_data"
    },
    {
     "data": {
      "text/latex": [
       "$\\displaystyle \\int \\left(- \\log{\\left(x \\right)} + \\sin{\\left(x \\right)}\\right)\\, dx = - x \\log{\\left(x \\right)} + x - \\cos{\\left(x \\right)}$"
      ],
      "text/plain": [
       "Eq(Integral(-log(x) + sin(x), x), -x*log(x) + x - cos(x))"
      ]
     },
     "metadata": {},
     "output_type": "display_data"
    },
    {
     "data": {
      "text/latex": [
       "$\\displaystyle \\frac{d}{d x} \\frac{e^{x}}{\\tan{\\left(x \\right)}} = \\frac{\\left(- \\tan^{2}{\\left(x \\right)} - 1\\right) e^{x}}{\\tan^{2}{\\left(x \\right)}} + \\frac{e^{x}}{\\tan{\\left(x \\right)}}$"
      ],
      "text/plain": [
       "Eq(Derivative(exp(x)/tan(x), x), (-tan(x)**2 - 1)*exp(x)/tan(x)**2 + exp(x)/tan(x))"
      ]
     },
     "metadata": {},
     "output_type": "display_data"
    },
    {
     "data": {
      "text/latex": [
       "$\\displaystyle \\int \\left(- x - e^{x}\\right)\\, dx = - \\frac{x^{2}}{2} - e^{x}$"
      ],
      "text/plain": [
       "Eq(Integral(-x - exp(x), x), -x**2/2 - exp(x))"
      ]
     },
     "metadata": {},
     "output_type": "display_data"
    },
    {
     "data": {
      "text/latex": [
       "$\\displaystyle \\frac{d}{d x} \\left(\\sqrt{x} + x^{5} - 3 x - 4\\right) = 5 x^{4} - 3 + \\frac{1}{2 \\sqrt{x}}$"
      ],
      "text/plain": [
       "Eq(Derivative(sqrt(x) + x**5 - 3*x - 4, x), 5*x**4 - 3 + 1/(2*sqrt(x)))"
      ]
     },
     "metadata": {},
     "output_type": "display_data"
    },
    {
     "data": {
      "text/latex": [
       "$\\displaystyle \\int 2 x\\, dx = x^{2}$"
      ],
      "text/plain": [
       "Eq(Integral(2*x, x), x**2)"
      ]
     },
     "metadata": {},
     "output_type": "display_data"
    },
    {
     "data": {
      "text/latex": [
       "$\\displaystyle \\frac{d}{d x} \\left(1 - 2 x\\right) = -2$"
      ],
      "text/plain": [
       "Eq(Derivative(1 - 2*x, x), -2)"
      ]
     },
     "metadata": {},
     "output_type": "display_data"
    },
    {
     "data": {
      "text/latex": [
       "$\\displaystyle \\int \\left(x + 4\\right)\\, dx = \\frac{x^{2}}{2} + 4 x$"
      ],
      "text/plain": [
       "Eq(Integral(x + 4, x), x**2/2 + 4*x)"
      ]
     },
     "metadata": {},
     "output_type": "display_data"
    },
    {
     "data": {
      "text/latex": [
       "$\\displaystyle \\frac{d}{d x} \\left(\\sqrt{x} - e^{x}\\right) = - e^{x} + \\frac{1}{2 \\sqrt{x}}$"
      ],
      "text/plain": [
       "Eq(Derivative(sqrt(x) - exp(x), x), -exp(x) + 1/(2*sqrt(x)))"
      ]
     },
     "metadata": {},
     "output_type": "display_data"
    },
    {
     "data": {
      "text/latex": [
       "$\\displaystyle \\int \\left(- x + \\tan{\\left(x \\right)}\\right)\\, dx = - \\frac{x^{2}}{2} - \\log{\\left(\\cos{\\left(x \\right)} \\right)}$"
      ],
      "text/plain": [
       "Eq(Integral(-x + tan(x), x), -x**2/2 - log(cos(x)))"
      ]
     },
     "metadata": {},
     "output_type": "display_data"
    },
    {
     "data": {
      "text/latex": [
       "$\\displaystyle \\frac{d}{d x} \\left(\\sqrt[3]{x} - \\log{\\left(x \\right)}\\right) = - \\frac{1}{x} + \\frac{1}{3 x^{\\frac{2}{3}}}$"
      ],
      "text/plain": [
       "Eq(Derivative(x**(1/3) - log(x), x), -1/x + 1/(3*x**(2/3)))"
      ]
     },
     "metadata": {},
     "output_type": "display_data"
    },
    {
     "data": {
      "text/latex": [
       "$\\displaystyle \\int \\left(- \\frac{\\cos{\\left(x \\right)}}{x}\\right)\\, dx = \\log{\\left(x \\right)} - \\frac{\\log{\\left(x^{2} \\right)}}{2} - \\operatorname{Ci}{\\left(x \\right)}$"
      ],
      "text/plain": [
       "Eq(Integral(-cos(x)/x, x), log(x) - log(x**2)/2 - Ci(x))"
      ]
     },
     "metadata": {},
     "output_type": "display_data"
    },
    {
     "data": {
      "text/latex": [
       "$\\displaystyle \\frac{d}{d x} \\left(- \\sqrt{x} + \\cos{\\left(x \\right)}\\right) = - \\sin{\\left(x \\right)} - \\frac{1}{2 \\sqrt{x}}$"
      ],
      "text/plain": [
       "Eq(Derivative(-sqrt(x) + cos(x), x), -sin(x) - 1/(2*sqrt(x)))"
      ]
     },
     "metadata": {},
     "output_type": "display_data"
    },
    {
     "data": {
      "text/latex": [
       "$\\displaystyle \\int \\left(x + \\tan{\\left(x \\right)} - 4\\right)\\, dx = \\frac{x^{2}}{2} - 4 x - \\log{\\left(\\cos{\\left(x \\right)} \\right)}$"
      ],
      "text/plain": [
       "Eq(Integral(x + tan(x) - 4, x), x**2/2 - 4*x - log(cos(x)))"
      ]
     },
     "metadata": {},
     "output_type": "display_data"
    },
    {
     "data": {
      "text/latex": [
       "$\\displaystyle \\frac{d}{d x} \\left(x + \\log{\\left(x \\right)}\\right) = 1 + \\frac{1}{x}$"
      ],
      "text/plain": [
       "Eq(Derivative(x + log(x), x), 1 + 1/x)"
      ]
     },
     "metadata": {},
     "output_type": "display_data"
    },
    {
     "data": {
      "text/latex": [
       "$\\displaystyle \\int \\left(\\tan{\\left(x \\right)} - 1\\right)\\, dx = - x - \\log{\\left(\\cos{\\left(x \\right)} \\right)}$"
      ],
      "text/plain": [
       "Eq(Integral(tan(x) - 1, x), -x - log(cos(x)))"
      ]
     },
     "metadata": {},
     "output_type": "display_data"
    },
    {
     "data": {
      "text/latex": [
       "$\\displaystyle \\frac{d}{d x} \\left(\\sin{\\left(x \\right)} + \\tan{\\left(x \\right)}\\right) = \\cos{\\left(x \\right)} + \\tan^{2}{\\left(x \\right)} + 1$"
      ],
      "text/plain": [
       "Eq(Derivative(sin(x) + tan(x), x), cos(x) + tan(x)**2 + 1)"
      ]
     },
     "metadata": {},
     "output_type": "display_data"
    },
    {
     "data": {
      "text/latex": [
       "$\\displaystyle \\int \\left(\\sqrt[3]{x} - e^{x}\\right)\\, dx = \\frac{3 x^{\\frac{4}{3}}}{4} - e^{x}$"
      ],
      "text/plain": [
       "Eq(Integral(x**(1/3) - exp(x), x), 3*x**(4/3)/4 - exp(x))"
      ]
     },
     "metadata": {},
     "output_type": "display_data"
    },
    {
     "data": {
      "text/latex": [
       "$\\displaystyle \\frac{d}{d x} \\sin{\\left(x + 2 \\right)} = \\cos{\\left(x + 2 \\right)}$"
      ],
      "text/plain": [
       "Eq(Derivative(sin(x + 2), x), cos(x + 2))"
      ]
     },
     "metadata": {},
     "output_type": "display_data"
    },
    {
     "data": {
      "text/latex": [
       "$\\displaystyle \\int \\frac{\\log{\\left(x \\right)}}{\\sqrt[3]{x}}\\, dx = \\begin{cases} \\frac{3 x^{\\frac{2}{3}} \\log{\\left(x \\right)}}{2} - \\frac{9 x^{\\frac{2}{3}}}{4} & \\text{for}\\: \\left|{x}\\right| < 1 \\\\- \\frac{3 x^{\\frac{2}{3}} \\log{\\left(\\frac{1}{x} \\right)}}{2} - \\frac{9 x^{\\frac{2}{3}}}{4} & \\text{for}\\: \\frac{1}{\\left|{x}\\right|} < 1 \\\\- {G_{3, 3}^{2, 1}\\left(\\begin{matrix} 1 & \\frac{5}{3}, \\frac{5}{3} \\\\\\frac{2}{3}, \\frac{2}{3} & 0 \\end{matrix} \\middle| {x} \\right)} + {G_{3, 3}^{0, 3}\\left(\\begin{matrix} \\frac{5}{3}, \\frac{5}{3}, 1 &  \\\\ & \\frac{2}{3}, \\frac{2}{3}, 0 \\end{matrix} \\middle| {x} \\right)} & \\text{otherwise} \\end{cases}$"
      ],
      "text/plain": [
       "Eq(Integral(log(x)/x**(1/3), x), Piecewise((3*x**(2/3)*log(x)/2 - 9*x**(2/3)/4, Abs(x) < 1), (-3*x**(2/3)*log(1/x)/2 - 9*x**(2/3)/4, 1/Abs(x) < 1), (-meijerg(((1,), (5/3, 5/3)), ((2/3, 2/3), (0,)), x) + meijerg(((5/3, 5/3, 1), ()), ((), (2/3, 2/3, 0)), x), True)))"
      ]
     },
     "metadata": {},
     "output_type": "display_data"
    },
    {
     "data": {
      "text/latex": [
       "$\\displaystyle \\frac{d}{d x} \\tan{\\left(x \\right)} = \\tan^{2}{\\left(x \\right)} + 1$"
      ],
      "text/plain": [
       "Eq(Derivative(tan(x), x), tan(x)**2 + 1)"
      ]
     },
     "metadata": {},
     "output_type": "display_data"
    },
    {
     "data": {
      "text/latex": [
       "$\\displaystyle \\int \\left(\\sin{\\left(x \\right)} + \\cos{\\left(x \\right)}\\right)\\, dx = \\sin{\\left(x \\right)} - \\cos{\\left(x \\right)}$"
      ],
      "text/plain": [
       "Eq(Integral(sin(x) + cos(x), x), sin(x) - cos(x))"
      ]
     },
     "metadata": {},
     "output_type": "display_data"
    },
    {
     "data": {
      "text/latex": [
       "$\\displaystyle \\frac{d}{d x} \\left(- 2 x + e^{x}\\right) = e^{x} - 2$"
      ],
      "text/plain": [
       "Eq(Derivative(-2*x + exp(x), x), exp(x) - 2)"
      ]
     },
     "metadata": {},
     "output_type": "display_data"
    },
    {
     "data": {
      "text/latex": [
       "$\\displaystyle \\int e^{\\sqrt[3]{x}}\\, dx = 3 x^{\\frac{2}{3}} e^{\\sqrt[3]{x}} - 6 \\sqrt[3]{x} e^{\\sqrt[3]{x}} + 6 e^{\\sqrt[3]{x}}$"
      ],
      "text/plain": [
       "Eq(Integral(exp(x**(1/3)), x), 3*x**(2/3)*exp(x**(1/3)) - 6*x**(1/3)*exp(x**(1/3)) + 6*exp(x**(1/3)))"
      ]
     },
     "metadata": {},
     "output_type": "display_data"
    },
    {
     "data": {
      "text/latex": [
       "$\\displaystyle \\frac{d}{d x} \\left(2 x - e^{x}\\right) = 2 - e^{x}$"
      ],
      "text/plain": [
       "Eq(Derivative(2*x - exp(x), x), 2 - exp(x))"
      ]
     },
     "metadata": {},
     "output_type": "display_data"
    },
    {
     "data": {
      "text/latex": [
       "$\\displaystyle \\int \\frac{\\sqrt[3]{x}}{\\sin{\\left(x \\right)}}\\, dx = \\int \\frac{\\sqrt[3]{x}}{\\sin{\\left(x \\right)}}\\, dx$"
      ],
      "text/plain": [
       "Eq(Integral(x**(1/3)/sin(x), x), Integral(x**(1/3)/sin(x), x))"
      ]
     },
     "metadata": {},
     "output_type": "display_data"
    },
    {
     "data": {
      "text/latex": [
       "$\\displaystyle \\frac{d}{d x} e^{x^{5}} = 5 x^{4} e^{x^{5}}$"
      ],
      "text/plain": [
       "Eq(Derivative(exp(x**5), x), 5*x**4*exp(x**5))"
      ]
     },
     "metadata": {},
     "output_type": "display_data"
    },
    {
     "data": {
      "text/latex": [
       "$\\displaystyle \\int \\frac{e^{x}}{\\sin{\\left(x \\right)}}\\, dx = \\int \\frac{e^{x}}{\\sin{\\left(x \\right)}}\\, dx$"
      ],
      "text/plain": [
       "Eq(Integral(exp(x)/sin(x), x), Integral(exp(x)/sin(x), x))"
      ]
     },
     "metadata": {},
     "output_type": "display_data"
    },
    {
     "data": {
      "text/latex": [
       "$\\displaystyle \\frac{d}{d x} \\left(x + \\tan{\\left(x \\right)}\\right) = \\tan^{2}{\\left(x \\right)} + 2$"
      ],
      "text/plain": [
       "Eq(Derivative(x + tan(x), x), tan(x)**2 + 2)"
      ]
     },
     "metadata": {},
     "output_type": "display_data"
    },
    {
     "data": {
      "text/latex": [
       "$\\displaystyle \\int \\log{\\left(\\sqrt{x} \\right)}\\, dx = x \\log{\\left(\\sqrt{x} \\right)} - \\frac{x}{2}$"
      ],
      "text/plain": [
       "Eq(Integral(log(sqrt(x)), x), x*log(sqrt(x)) - x/2)"
      ]
     },
     "metadata": {},
     "output_type": "display_data"
    },
    {
     "data": {
      "text/latex": [
       "$\\displaystyle \\frac{d}{d x} \\frac{1}{x^{2}} = - \\frac{2}{x^{3}}$"
      ],
      "text/plain": [
       "Eq(Derivative(x**(-2), x), -2/x**3)"
      ]
     },
     "metadata": {},
     "output_type": "display_data"
    },
    {
     "data": {
      "text/latex": [
       "$\\displaystyle \\int \\left(x^{2} - e^{x} + 4\\right)\\, dx = \\frac{x^{3}}{3} + 4 x - e^{x}$"
      ],
      "text/plain": [
       "Eq(Integral(x**2 - exp(x) + 4, x), x**3/3 + 4*x - exp(x))"
      ]
     },
     "metadata": {},
     "output_type": "display_data"
    },
    {
     "data": {
      "text/latex": [
       "$\\displaystyle \\frac{d}{d x} \\left(\\sqrt{x} + 2 x\\right) = 2 + \\frac{1}{2 \\sqrt{x}}$"
      ],
      "text/plain": [
       "Eq(Derivative(sqrt(x) + 2*x, x), 2 + 1/(2*sqrt(x)))"
      ]
     },
     "metadata": {},
     "output_type": "display_data"
    },
    {
     "data": {
      "text/latex": [
       "$\\displaystyle \\int \\left(- 2 x + e^{x} + \\frac{1}{x^{2}}\\right)\\, dx = - x^{2} + e^{x} - \\frac{1}{x}$"
      ],
      "text/plain": [
       "Eq(Integral(-2*x + exp(x) + x**(-2), x), -x**2 + exp(x) - 1/x)"
      ]
     },
     "metadata": {},
     "output_type": "display_data"
    },
    {
     "data": {
      "text/latex": [
       "$\\displaystyle \\frac{d}{d x} x^{2} \\log{\\left(x \\right)} = 2 x \\log{\\left(x \\right)} + x$"
      ],
      "text/plain": [
       "Eq(Derivative(x**2*log(x), x), 2*x*log(x) + x)"
      ]
     },
     "metadata": {},
     "output_type": "display_data"
    },
    {
     "data": {
      "text/latex": [
       "$\\displaystyle \\int \\left(- 3 x + 9 + \\frac{1}{\\left(x + 3\\right)^{2}}\\right)\\, dx = - \\frac{3 x^{2}}{2} + 9 x - \\frac{1}{x + 3}$"
      ],
      "text/plain": [
       "Eq(Integral(-3*x + 9 + (x + 3)**(-2), x), -3*x**2/2 + 9*x - 1/(x + 3))"
      ]
     },
     "metadata": {},
     "output_type": "display_data"
    },
    {
     "data": {
      "text/latex": [
       "$\\displaystyle \\frac{d}{d x} \\log{\\left(\\log{\\left(x \\right)} \\right)} = \\frac{1}{x \\log{\\left(x \\right)}}$"
      ],
      "text/plain": [
       "Eq(Derivative(log(log(x)), x), 1/(x*log(x)))"
      ]
     },
     "metadata": {},
     "output_type": "display_data"
    },
    {
     "data": {
      "text/latex": [
       "$\\displaystyle \\int \\frac{\\cos{\\left(x \\right)}}{x^{4}}\\, dx = \\frac{\\operatorname{Si}{\\left(x \\right)}}{6} + \\frac{\\cos{\\left(x \\right)}}{6 x} + \\frac{\\sin{\\left(x \\right)}}{6 x^{2}} - \\frac{\\cos{\\left(x \\right)}}{3 x^{3}}$"
      ],
      "text/plain": [
       "Eq(Integral(cos(x)/x**4, x), Si(x)/6 + cos(x)/(6*x) + sin(x)/(6*x**2) - cos(x)/(3*x**3))"
      ]
     },
     "metadata": {},
     "output_type": "display_data"
    },
    {
     "data": {
      "text/latex": [
       "$\\displaystyle \\frac{d}{d x} \\frac{1}{\\cos^{2}{\\left(x \\right)}} = \\frac{2 \\sin{\\left(x \\right)}}{\\cos^{3}{\\left(x \\right)}}$"
      ],
      "text/plain": [
       "Eq(Derivative(cos(x)**(-2), x), 2*sin(x)/cos(x)**3)"
      ]
     },
     "metadata": {},
     "output_type": "display_data"
    },
    {
     "data": {
      "text/latex": [
       "$\\displaystyle \\int \\frac{e^{x}}{\\tan{\\left(x \\right)}}\\, dx = \\int \\frac{e^{x}}{\\tan{\\left(x \\right)}}\\, dx$"
      ],
      "text/plain": [
       "Eq(Integral(exp(x)/tan(x), x), Integral(exp(x)/tan(x), x))"
      ]
     },
     "metadata": {},
     "output_type": "display_data"
    },
    {
     "data": {
      "text/latex": [
       "$\\displaystyle \\frac{d}{d x} \\left(x - 5 + \\frac{1}{x^{3}}\\right) = 1 - \\frac{3}{x^{4}}$"
      ],
      "text/plain": [
       "Eq(Derivative(x - 5 + x**(-3), x), 1 - 3/x**4)"
      ]
     },
     "metadata": {},
     "output_type": "display_data"
    },
    {
     "data": {
      "text/latex": [
       "$\\displaystyle \\int x^{5} e^{- x}\\, dx = \\left(- x^{5} - 5 x^{4} - 20 x^{3} - 60 x^{2} - 120 x - 120\\right) e^{- x}$"
      ],
      "text/plain": [
       "Eq(Integral(x**5*exp(-x), x), (-x**5 - 5*x**4 - 20*x**3 - 60*x**2 - 120*x - 120)*exp(-x))"
      ]
     },
     "metadata": {},
     "output_type": "display_data"
    },
    {
     "data": {
      "text/latex": [
       "$\\displaystyle \\frac{d}{d x} \\frac{x + 3}{- 2 x + 3 + \\frac{1}{x^{2}}} = \\frac{\\left(2 + \\frac{2}{x^{3}}\\right) \\left(x + 3\\right)}{\\left(- 2 x + 3 + \\frac{1}{x^{2}}\\right)^{2}} + \\frac{1}{- 2 x + 3 + \\frac{1}{x^{2}}}$"
      ],
      "text/plain": [
       "Eq(Derivative((x + 3)/(-2*x + 3 + x**(-2)), x), (2 + 2/x**3)*(x + 3)/(-2*x + 3 + x**(-2))**2 + 1/(-2*x + 3 + x**(-2)))"
      ]
     },
     "metadata": {},
     "output_type": "display_data"
    },
    {
     "data": {
      "text/latex": [
       "$\\displaystyle \\int \\left(1 - \\sqrt[3]{x}\\right)\\, dx = - \\frac{3 x^{\\frac{4}{3}}}{4} + x$"
      ],
      "text/plain": [
       "Eq(Integral(1 - x**(1/3), x), -3*x**(4/3)/4 + x)"
      ]
     },
     "metadata": {},
     "output_type": "display_data"
    },
    {
     "data": {
      "text/latex": [
       "$\\displaystyle \\frac{d}{d x} \\left(- 2 x - 1 - \\frac{1}{x^{4}}\\right) = -2 + \\frac{4}{x^{5}}$"
      ],
      "text/plain": [
       "Eq(Derivative(-2*x - 1 - 1/x**4, x), -2 + 4/x**5)"
      ]
     },
     "metadata": {},
     "output_type": "display_data"
    },
    {
     "data": {
      "text/latex": [
       "$\\displaystyle \\int \\left(x^{3} - e^{x}\\right)\\, dx = \\frac{x^{4}}{4} - e^{x}$"
      ],
      "text/plain": [
       "Eq(Integral(x**3 - exp(x), x), x**4/4 - exp(x))"
      ]
     },
     "metadata": {},
     "output_type": "display_data"
    },
    {
     "data": {
      "text/latex": [
       "$\\displaystyle \\frac{d}{d x} \\frac{x}{\\cos{\\left(x \\right)}} = \\frac{x \\sin{\\left(x \\right)}}{\\cos^{2}{\\left(x \\right)}} + \\frac{1}{\\cos{\\left(x \\right)}}$"
      ],
      "text/plain": [
       "Eq(Derivative(x/cos(x), x), x*sin(x)/cos(x)**2 + 1/cos(x))"
      ]
     },
     "metadata": {},
     "output_type": "display_data"
    },
    {
     "data": {
      "text/latex": [
       "$\\displaystyle \\int \\left(- x^{5} + x - 3\\right)\\, dx = - \\frac{x^{6}}{6} + \\frac{x^{2}}{2} - 3 x$"
      ],
      "text/plain": [
       "Eq(Integral(-x**5 + x - 3, x), -x**6/6 + x**2/2 - 3*x)"
      ]
     },
     "metadata": {},
     "output_type": "display_data"
    },
    {
     "data": {
      "text/latex": [
       "$\\displaystyle \\frac{d}{d x} \\left(x^{3} + 3 x + 4\\right) = 3 x^{2} + 3$"
      ],
      "text/plain": [
       "Eq(Derivative(x**3 + 3*x + 4, x), 3*x**2 + 3)"
      ]
     },
     "metadata": {},
     "output_type": "display_data"
    },
    {
     "data": {
      "text/latex": [
       "$\\displaystyle \\int \\left(- x^{5} - x - 2 + \\frac{1}{x}\\right)\\, dx = - \\frac{x^{6}}{6} - \\frac{x^{2}}{2} - 2 x + \\log{\\left(x \\right)}$"
      ],
      "text/plain": [
       "Eq(Integral(-x**5 - x - 2 + 1/x, x), -x**6/6 - x**2/2 - 2*x + log(x))"
      ]
     },
     "metadata": {},
     "output_type": "display_data"
    },
    {
     "data": {
      "text/latex": [
       "$\\displaystyle \\frac{d}{d x} \\left(\\cos{\\left(x \\right)} + \\tan{\\left(x \\right)}\\right) = - \\sin{\\left(x \\right)} + \\tan^{2}{\\left(x \\right)} + 1$"
      ],
      "text/plain": [
       "Eq(Derivative(cos(x) + tan(x), x), -sin(x) + tan(x)**2 + 1)"
      ]
     },
     "metadata": {},
     "output_type": "display_data"
    },
    {
     "data": {
      "text/latex": [
       "$\\displaystyle \\int \\left(\\sqrt[3]{x} + e^{x}\\right)\\, dx = \\frac{3 x^{\\frac{4}{3}}}{4} + e^{x}$"
      ],
      "text/plain": [
       "Eq(Integral(x**(1/3) + exp(x), x), 3*x**(4/3)/4 + exp(x))"
      ]
     },
     "metadata": {},
     "output_type": "display_data"
    },
    {
     "data": {
      "text/latex": [
       "$\\displaystyle \\frac{d}{d x} \\left(\\sin{\\left(x \\right)} + \\tan{\\left(x \\right)}\\right) = \\cos{\\left(x \\right)} + \\tan^{2}{\\left(x \\right)} + 1$"
      ],
      "text/plain": [
       "Eq(Derivative(sin(x) + tan(x), x), cos(x) + tan(x)**2 + 1)"
      ]
     },
     "metadata": {},
     "output_type": "display_data"
    },
    {
     "data": {
      "text/latex": [
       "$\\displaystyle \\int \\frac{e^{x}}{\\sqrt[3]{x}}\\, dx = \\frac{2 e^{- \\frac{2 i \\pi}{3}} \\Gamma\\left(\\frac{2}{3}\\right) \\gamma\\left(\\frac{2}{3}, x e^{i \\pi}\\right)}{3 \\Gamma\\left(\\frac{5}{3}\\right)}$"
      ],
      "text/plain": [
       "Eq(Integral(exp(x)/x**(1/3), x), 2*exp(-2*I*pi/3)*gamma(2/3)*lowergamma(2/3, x*exp_polar(I*pi))/(3*gamma(5/3)))"
      ]
     },
     "metadata": {},
     "output_type": "display_data"
    },
    {
     "data": {
      "text/latex": [
       "$\\displaystyle \\frac{d}{d x} \\left(\\sqrt[3]{x} + 4 x\\right) = 4 + \\frac{1}{3 x^{\\frac{2}{3}}}$"
      ],
      "text/plain": [
       "Eq(Derivative(x**(1/3) + 4*x, x), 4 + 1/(3*x**(2/3)))"
      ]
     },
     "metadata": {},
     "output_type": "display_data"
    },
    {
     "data": {
      "text/latex": [
       "$\\displaystyle \\int \\left(- \\sin{\\left(x \\right)} + \\tan{\\left(x \\right)}\\right)\\, dx = - \\log{\\left(\\cos{\\left(x \\right)} \\right)} + \\cos{\\left(x \\right)}$"
      ],
      "text/plain": [
       "Eq(Integral(-sin(x) + tan(x), x), -log(cos(x)) + cos(x))"
      ]
     },
     "metadata": {},
     "output_type": "display_data"
    },
    {
     "data": {
      "text/latex": [
       "$\\displaystyle \\frac{d}{d x} \\left(\\sqrt[3]{x} + \\sin{\\left(x \\right)}\\right) = \\cos{\\left(x \\right)} + \\frac{1}{3 x^{\\frac{2}{3}}}$"
      ],
      "text/plain": [
       "Eq(Derivative(x**(1/3) + sin(x), x), cos(x) + 1/(3*x**(2/3)))"
      ]
     },
     "metadata": {},
     "output_type": "display_data"
    },
    {
     "data": {
      "text/latex": [
       "$\\displaystyle \\int \\left(\\cos{\\left(x \\right)} + \\tan{\\left(x \\right)}\\right)\\, dx = - \\log{\\left(\\cos{\\left(x \\right)} \\right)} + \\sin{\\left(x \\right)}$"
      ],
      "text/plain": [
       "Eq(Integral(cos(x) + tan(x), x), -log(cos(x)) + sin(x))"
      ]
     },
     "metadata": {},
     "output_type": "display_data"
    },
    {
     "data": {
      "text/latex": [
       "$\\displaystyle \\frac{d}{d x} \\left(\\sqrt{x} - x\\right) = -1 + \\frac{1}{2 \\sqrt{x}}$"
      ],
      "text/plain": [
       "Eq(Derivative(sqrt(x) - x, x), -1 + 1/(2*sqrt(x)))"
      ]
     },
     "metadata": {},
     "output_type": "display_data"
    },
    {
     "data": {
      "text/latex": [
       "$\\displaystyle \\int \\left(\\log{\\left(x \\right)} + \\tan{\\left(x \\right)}\\right)\\, dx = x \\log{\\left(x \\right)} - x - \\log{\\left(\\cos{\\left(x \\right)} \\right)}$"
      ],
      "text/plain": [
       "Eq(Integral(log(x) + tan(x), x), x*log(x) - x - log(cos(x)))"
      ]
     },
     "metadata": {},
     "output_type": "display_data"
    },
    {
     "data": {
      "text/latex": [
       "$\\displaystyle \\frac{d}{d x} \\left(\\sqrt{x} - e^{x}\\right) = - e^{x} + \\frac{1}{2 \\sqrt{x}}$"
      ],
      "text/plain": [
       "Eq(Derivative(sqrt(x) - exp(x), x), -exp(x) + 1/(2*sqrt(x)))"
      ]
     },
     "metadata": {},
     "output_type": "display_data"
    },
    {
     "data": {
      "text/latex": [
       "$\\displaystyle \\int \\left(x + \\frac{1}{x} + \\frac{1}{x^{3}}\\right)\\, dx = \\frac{x^{2}}{2} + \\log{\\left(x \\right)} - \\frac{1}{2 x^{2}}$"
      ],
      "text/plain": [
       "Eq(Integral(x + 1/x + x**(-3), x), x**2/2 + log(x) - 1/(2*x**2))"
      ]
     },
     "metadata": {},
     "output_type": "display_data"
    },
    {
     "data": {
      "text/latex": [
       "$\\displaystyle \\frac{d}{d x} \\left(\\sin{\\left(x \\right)} + \\cos{\\left(x \\right)}\\right) = - \\sin{\\left(x \\right)} + \\cos{\\left(x \\right)}$"
      ],
      "text/plain": [
       "Eq(Derivative(sin(x) + cos(x), x), -sin(x) + cos(x))"
      ]
     },
     "metadata": {},
     "output_type": "display_data"
    },
    {
     "data": {
      "text/latex": [
       "$\\displaystyle \\int \\left(- 4 x + \\sin{\\left(x \\right)}\\right)\\, dx = - 2 x^{2} - \\cos{\\left(x \\right)}$"
      ],
      "text/plain": [
       "Eq(Integral(-4*x + sin(x), x), -2*x**2 - cos(x))"
      ]
     },
     "metadata": {},
     "output_type": "display_data"
    },
    {
     "data": {
      "text/latex": [
       "$\\displaystyle \\frac{d}{d x} \\left(\\sqrt{x} + \\sin{\\left(x \\right)}\\right) = \\cos{\\left(x \\right)} + \\frac{1}{2 \\sqrt{x}}$"
      ],
      "text/plain": [
       "Eq(Derivative(sqrt(x) + sin(x), x), cos(x) + 1/(2*sqrt(x)))"
      ]
     },
     "metadata": {},
     "output_type": "display_data"
    },
    {
     "data": {
      "text/latex": [
       "$\\displaystyle \\int \\left(x + \\sin{\\left(x \\right)} - 2\\right)\\, dx = \\frac{x^{2}}{2} - 2 x - \\cos{\\left(x \\right)}$"
      ],
      "text/plain": [
       "Eq(Integral(x + sin(x) - 2, x), x**2/2 - 2*x - cos(x))"
      ]
     },
     "metadata": {},
     "output_type": "display_data"
    },
    {
     "data": {
      "text/latex": [
       "$\\displaystyle \\frac{d}{d x} \\left(x^{4} - x - e^{x} - 5\\right) = 4 x^{3} - e^{x} - 1$"
      ],
      "text/plain": [
       "Eq(Derivative(x**4 - x - exp(x) - 5, x), 4*x**3 - exp(x) - 1)"
      ]
     },
     "metadata": {},
     "output_type": "display_data"
    },
    {
     "data": {
      "text/latex": [
       "$\\displaystyle \\int \\left(x + \\log{\\left(x \\right)}\\right)\\, dx = \\frac{x^{2}}{2} + x \\log{\\left(x \\right)} - x$"
      ],
      "text/plain": [
       "Eq(Integral(x + log(x), x), x**2/2 + x*log(x) - x)"
      ]
     },
     "metadata": {},
     "output_type": "display_data"
    },
    {
     "data": {
      "text/latex": [
       "$\\displaystyle \\frac{d}{d x} \\left(2 x + 4\\right) = 2$"
      ],
      "text/plain": [
       "Eq(Derivative(2*x + 4, x), 2)"
      ]
     },
     "metadata": {},
     "output_type": "display_data"
    },
    {
     "data": {
      "text/latex": [
       "$\\displaystyle \\int \\left(\\sqrt{x} - \\cos{\\left(x \\right)}\\right)\\, dx = \\frac{2 x^{\\frac{3}{2}}}{3} - \\sin{\\left(x \\right)}$"
      ],
      "text/plain": [
       "Eq(Integral(sqrt(x) - cos(x), x), 2*x**(3/2)/3 - sin(x))"
      ]
     },
     "metadata": {},
     "output_type": "display_data"
    },
    {
     "data": {
      "text/latex": [
       "$\\displaystyle \\frac{d}{d x} \\left(- \\sqrt[3]{x} + \\sin{\\left(x \\right)}\\right) = \\cos{\\left(x \\right)} - \\frac{1}{3 x^{\\frac{2}{3}}}$"
      ],
      "text/plain": [
       "Eq(Derivative(-x**(1/3) + sin(x), x), cos(x) - 1/(3*x**(2/3)))"
      ]
     },
     "metadata": {},
     "output_type": "display_data"
    },
    {
     "data": {
      "text/latex": [
       "$\\displaystyle \\int \\cos{\\left(x \\right)}\\, dx = \\sin{\\left(x \\right)}$"
      ],
      "text/plain": [
       "Eq(Integral(cos(x), x), sin(x))"
      ]
     },
     "metadata": {},
     "output_type": "display_data"
    },
    {
     "data": {
      "text/latex": [
       "$\\displaystyle \\frac{d}{d x} \\frac{e^{x}}{\\sin{\\left(x \\right)}} = \\frac{e^{x}}{\\sin{\\left(x \\right)}} - \\frac{e^{x} \\cos{\\left(x \\right)}}{\\sin^{2}{\\left(x \\right)}}$"
      ],
      "text/plain": [
       "Eq(Derivative(exp(x)/sin(x), x), exp(x)/sin(x) - exp(x)*cos(x)/sin(x)**2)"
      ]
     },
     "metadata": {},
     "output_type": "display_data"
    },
    {
     "data": {
      "text/latex": [
       "$\\displaystyle \\int \\left(\\log{\\left(x \\right)} + 1\\right)\\, dx = x \\log{\\left(x \\right)}$"
      ],
      "text/plain": [
       "Eq(Integral(log(x) + 1, x), x*log(x))"
      ]
     },
     "metadata": {},
     "output_type": "display_data"
    },
    {
     "data": {
      "text/latex": [
       "$\\displaystyle \\frac{d}{d x} \\left(x^{3} - x\\right) = 3 x^{2} - 1$"
      ],
      "text/plain": [
       "Eq(Derivative(x**3 - x, x), 3*x**2 - 1)"
      ]
     },
     "metadata": {},
     "output_type": "display_data"
    },
    {
     "data": {
      "text/latex": [
       "$\\displaystyle \\int x e^{- x}\\, dx = \\left(- x - 1\\right) e^{- x}$"
      ],
      "text/plain": [
       "Eq(Integral(x*exp(-x), x), (-x - 1)*exp(-x))"
      ]
     },
     "metadata": {},
     "output_type": "display_data"
    },
    {
     "data": {
      "text/latex": [
       "$\\displaystyle \\frac{d}{d x} \\left(e^{x} - 2\\right) = e^{x}$"
      ],
      "text/plain": [
       "Eq(Derivative(exp(x) - 2, x), exp(x))"
      ]
     },
     "metadata": {},
     "output_type": "display_data"
    },
    {
     "data": {
      "text/latex": [
       "$\\displaystyle \\int \\frac{e^{x}}{- 2 x + 3 + \\frac{1}{x^{2}}}\\, dx = - \\int \\frac{x^{2} e^{x}}{2 x^{3} - 3 x^{2} - 1}\\, dx$"
      ],
      "text/plain": [
       "Eq(Integral(exp(x)/(-2*x + 3 + x**(-2)), x), -Integral(x**2*exp(x)/(2*x**3 - 3*x**2 - 1), x))"
      ]
     },
     "metadata": {},
     "output_type": "display_data"
    },
    {
     "data": {
      "text/latex": [
       "$\\displaystyle \\frac{d}{d x} \\tan{\\left(e^{x} \\right)} = \\left(\\tan^{2}{\\left(e^{x} \\right)} + 1\\right) e^{x}$"
      ],
      "text/plain": [
       "Eq(Derivative(tan(exp(x)), x), (tan(exp(x))**2 + 1)*exp(x))"
      ]
     },
     "metadata": {},
     "output_type": "display_data"
    },
    {
     "data": {
      "text/latex": [
       "$\\displaystyle \\int \\left(\\sqrt{x} - e^{x}\\right)\\, dx = \\frac{2 x^{\\frac{3}{2}}}{3} - e^{x}$"
      ],
      "text/plain": [
       "Eq(Integral(sqrt(x) - exp(x), x), 2*x**(3/2)/3 - exp(x))"
      ]
     },
     "metadata": {},
     "output_type": "display_data"
    },
    {
     "data": {
      "text/latex": [
       "$\\displaystyle \\frac{d}{d x} \\left(\\cos{\\left(x \\right)} + \\frac{1}{x^{4}}\\right) = - \\sin{\\left(x \\right)} - \\frac{4}{x^{5}}$"
      ],
      "text/plain": [
       "Eq(Derivative(cos(x) + x**(-4), x), -sin(x) - 4/x**5)"
      ]
     },
     "metadata": {},
     "output_type": "display_data"
    },
    {
     "data": {
      "text/latex": [
       "$\\displaystyle \\int 5\\, dx = 5 x$"
      ],
      "text/plain": [
       "Eq(Integral(5, x), 5*x)"
      ]
     },
     "metadata": {},
     "output_type": "display_data"
    },
    {
     "data": {
      "text/latex": [
       "$\\displaystyle \\frac{d}{d x} \\frac{x^{2} - 2 x - 5}{x^{3} + 1} = - \\frac{3 x^{2} \\left(x^{2} - 2 x - 5\\right)}{\\left(x^{3} + 1\\right)^{2}} + \\frac{2 x - 2}{x^{3} + 1}$"
      ],
      "text/plain": [
       "Eq(Derivative((x**2 - 2*x - 5)/(x**3 + 1), x), -3*x**2*(x**2 - 2*x - 5)/(x**3 + 1)**2 + (2*x - 2)/(x**3 + 1))"
      ]
     },
     "metadata": {},
     "output_type": "display_data"
    },
    {
     "data": {
      "text/latex": [
       "$\\displaystyle \\int \\left(2 x + \\log{\\left(x \\right)} - \\frac{1}{x^{2}}\\right)\\, dx = x^{2} + x \\log{\\left(x \\right)} - x + \\frac{1}{x}$"
      ],
      "text/plain": [
       "Eq(Integral(2*x + log(x) - 1/x**2, x), x**2 + x*log(x) - x + 1/x)"
      ]
     },
     "metadata": {},
     "output_type": "display_data"
    },
    {
     "data": {
      "text/latex": [
       "$\\displaystyle \\frac{d}{d x} \\frac{\\cos{\\left(x \\right)}}{\\sqrt[3]{x}} = - \\frac{\\sin{\\left(x \\right)}}{\\sqrt[3]{x}} - \\frac{\\cos{\\left(x \\right)}}{3 x^{\\frac{4}{3}}}$"
      ],
      "text/plain": [
       "Eq(Derivative(cos(x)/x**(1/3), x), -sin(x)/x**(1/3) - cos(x)/(3*x**(4/3)))"
      ]
     },
     "metadata": {},
     "output_type": "display_data"
    },
    {
     "data": {
      "text/latex": [
       "$\\displaystyle \\int \\frac{- 2 x - 3 + \\frac{1}{x^{2}}}{\\cos{\\left(x \\right)}}\\, dx = - \\int \\left(- \\frac{1}{x^{2} \\cos{\\left(x \\right)}}\\right)\\, dx - \\int \\frac{2 x}{\\cos{\\left(x \\right)}}\\, dx - \\int \\frac{3}{\\cos{\\left(x \\right)}}\\, dx$"
      ],
      "text/plain": [
       "Eq(Integral((-2*x - 3 + x**(-2))/cos(x), x), -Integral(-1/(x**2*cos(x)), x) - Integral(2*x/cos(x), x) - Integral(3/cos(x), x))"
      ]
     },
     "metadata": {},
     "output_type": "display_data"
    },
    {
     "data": {
      "text/latex": [
       "$\\displaystyle \\frac{d}{d x} \\left(x^{5} + e^{x}\\right) = 5 x^{4} + e^{x}$"
      ],
      "text/plain": [
       "Eq(Derivative(x**5 + exp(x), x), 5*x**4 + exp(x))"
      ]
     },
     "metadata": {},
     "output_type": "display_data"
    },
    {
     "data": {
      "text/latex": [
       "$\\displaystyle \\int \\frac{\\sin{\\left(x \\right)}}{\\log{\\left(x \\right)}}\\, dx = \\int \\frac{\\sin{\\left(x \\right)}}{\\log{\\left(x \\right)}}\\, dx$"
      ],
      "text/plain": [
       "Eq(Integral(sin(x)/log(x), x), Integral(sin(x)/log(x), x))"
      ]
     },
     "metadata": {},
     "output_type": "display_data"
    },
    {
     "data": {
      "text/latex": [
       "$\\displaystyle \\frac{d}{d x} \\frac{x - 2}{\\sqrt{x}} = \\frac{1}{\\sqrt{x}} - \\frac{x - 2}{2 x^{\\frac{3}{2}}}$"
      ],
      "text/plain": [
       "Eq(Derivative((x - 2)/sqrt(x), x), 1/sqrt(x) - (x - 2)/(2*x**(3/2)))"
      ]
     },
     "metadata": {},
     "output_type": "display_data"
    },
    {
     "data": {
      "text/latex": [
       "$\\displaystyle \\int \\tan{\\left(\\cos{\\left(x \\right)} \\right)}\\, dx = \\int \\tan{\\left(\\cos{\\left(x \\right)} \\right)}\\, dx$"
      ],
      "text/plain": [
       "Eq(Integral(tan(cos(x)), x), Integral(tan(cos(x)), x))"
      ]
     },
     "metadata": {},
     "output_type": "display_data"
    },
    {
     "data": {
      "text/latex": [
       "$\\displaystyle \\frac{d}{d x} \\frac{\\cos{\\left(x \\right)}}{\\log{\\left(x \\right)}} = - \\frac{\\sin{\\left(x \\right)}}{\\log{\\left(x \\right)}} - \\frac{\\cos{\\left(x \\right)}}{x \\log{\\left(x \\right)}^{2}}$"
      ],
      "text/plain": [
       "Eq(Derivative(cos(x)/log(x), x), -sin(x)/log(x) - cos(x)/(x*log(x)**2))"
      ]
     },
     "metadata": {},
     "output_type": "display_data"
    },
    {
     "data": {
      "text/latex": [
       "$\\displaystyle \\int \\left(x^{4} - x^{3} + 2 x\\right)\\, dx = \\frac{x^{5}}{5} - \\frac{x^{4}}{4} + x^{2}$"
      ],
      "text/plain": [
       "Eq(Integral(x**4 - x**3 + 2*x, x), x**5/5 - x**4/4 + x**2)"
      ]
     },
     "metadata": {},
     "output_type": "display_data"
    },
    {
     "data": {
      "text/latex": [
       "$\\displaystyle \\frac{d}{d x} \\left(\\sqrt[3]{x} + e^{x}\\right) = e^{x} + \\frac{1}{3 x^{\\frac{2}{3}}}$"
      ],
      "text/plain": [
       "Eq(Derivative(x**(1/3) + exp(x), x), exp(x) + 1/(3*x**(2/3)))"
      ]
     },
     "metadata": {},
     "output_type": "display_data"
    },
    {
     "data": {
      "text/latex": [
       "$\\displaystyle \\int 1\\, dx = x$"
      ],
      "text/plain": [
       "Eq(Integral(1, x), x)"
      ]
     },
     "metadata": {},
     "output_type": "display_data"
    },
    {
     "data": {
      "text/latex": [
       "$\\displaystyle \\frac{d}{d x} \\frac{\\sqrt[3]{x}}{\\tan{\\left(x \\right)}} = \\frac{\\sqrt[3]{x} \\left(- \\tan^{2}{\\left(x \\right)} - 1\\right)}{\\tan^{2}{\\left(x \\right)}} + \\frac{1}{3 x^{\\frac{2}{3}} \\tan{\\left(x \\right)}}$"
      ],
      "text/plain": [
       "Eq(Derivative(x**(1/3)/tan(x), x), x**(1/3)*(-tan(x)**2 - 1)/tan(x)**2 + 1/(3*x**(2/3)*tan(x)))"
      ]
     },
     "metadata": {},
     "output_type": "display_data"
    },
    {
     "data": {
      "text/latex": [
       "$\\displaystyle \\int \\left(\\sin{\\left(x \\right)} + \\frac{1}{x}\\right)\\, dx = \\log{\\left(x \\right)} - \\cos{\\left(x \\right)}$"
      ],
      "text/plain": [
       "Eq(Integral(sin(x) + 1/x, x), log(x) - cos(x))"
      ]
     },
     "metadata": {},
     "output_type": "display_data"
    },
    {
     "data": {
      "text/latex": [
       "$\\displaystyle \\frac{d}{d x} x^{4} e^{- x} = - x^{4} e^{- x} + 4 x^{3} e^{- x}$"
      ],
      "text/plain": [
       "Eq(Derivative(x**4*exp(-x), x), -x**4*exp(-x) + 4*x**3*exp(-x))"
      ]
     },
     "metadata": {},
     "output_type": "display_data"
    },
    {
     "data": {
      "text/latex": [
       "$\\displaystyle \\int \\left(\\sqrt[3]{x} + \\sqrt{x}\\right)\\, dx = \\frac{3 x^{\\frac{4}{3}}}{4} + \\frac{2 x^{\\frac{3}{2}}}{3}$"
      ],
      "text/plain": [
       "Eq(Integral(x**(1/3) + sqrt(x), x), 3*x**(4/3)/4 + 2*x**(3/2)/3)"
      ]
     },
     "metadata": {},
     "output_type": "display_data"
    },
    {
     "data": {
      "text/latex": [
       "$\\displaystyle \\frac{d}{d x} \\frac{\\tan{\\left(x \\right)}}{\\sin{\\left(x \\right)}} = \\frac{\\tan^{2}{\\left(x \\right)} + 1}{\\sin{\\left(x \\right)}} - \\frac{\\cos{\\left(x \\right)} \\tan{\\left(x \\right)}}{\\sin^{2}{\\left(x \\right)}}$"
      ],
      "text/plain": [
       "Eq(Derivative(tan(x)/sin(x), x), (tan(x)**2 + 1)/sin(x) - cos(x)*tan(x)/sin(x)**2)"
      ]
     },
     "metadata": {},
     "output_type": "display_data"
    },
    {
     "data": {
      "text/latex": [
       "$\\displaystyle \\int \\left(x^{2} - \\sin{\\left(x \\right)}\\right)\\, dx = \\frac{x^{3}}{3} + \\cos{\\left(x \\right)}$"
      ],
      "text/plain": [
       "Eq(Integral(x**2 - sin(x), x), x**3/3 + cos(x))"
      ]
     },
     "metadata": {},
     "output_type": "display_data"
    },
    {
     "data": {
      "text/latex": [
       "$\\displaystyle \\frac{d}{d x} e^{\\tan{\\left(x \\right)}} = \\left(\\tan^{2}{\\left(x \\right)} + 1\\right) e^{\\tan{\\left(x \\right)}}$"
      ],
      "text/plain": [
       "Eq(Derivative(exp(tan(x)), x), (tan(x)**2 + 1)*exp(tan(x)))"
      ]
     },
     "metadata": {},
     "output_type": "display_data"
    },
    {
     "data": {
      "text/latex": [
       "$\\displaystyle \\int \\frac{\\sin{\\left(x \\right)}}{\\sqrt{x}}\\, dx = \\frac{3 \\sqrt{2} \\sqrt{\\pi} S\\left(\\frac{\\sqrt{2} \\sqrt{x}}{\\sqrt{\\pi}}\\right) \\Gamma\\left(\\frac{3}{4}\\right)}{4 \\Gamma\\left(\\frac{7}{4}\\right)}$"
      ],
      "text/plain": [
       "Eq(Integral(sin(x)/sqrt(x), x), 3*sqrt(2)*sqrt(pi)*fresnels(sqrt(2)*sqrt(x)/sqrt(pi))*gamma(3/4)/(4*gamma(7/4)))"
      ]
     },
     "metadata": {},
     "output_type": "display_data"
    },
    {
     "data": {
      "text/latex": [
       "$\\displaystyle \\frac{d}{d x} e^{- x} \\tan{\\left(x \\right)} = \\left(\\tan^{2}{\\left(x \\right)} + 1\\right) e^{- x} - e^{- x} \\tan{\\left(x \\right)}$"
      ],
      "text/plain": [
       "Eq(Derivative(exp(-x)*tan(x), x), (tan(x)**2 + 1)*exp(-x) - exp(-x)*tan(x))"
      ]
     },
     "metadata": {},
     "output_type": "display_data"
    },
    {
     "data": {
      "text/latex": [
       "$\\displaystyle \\int \\tan{\\left(\\frac{1}{x^{3}} \\right)}\\, dx = \\int \\tan{\\left(\\frac{1}{x^{3}} \\right)}\\, dx$"
      ],
      "text/plain": [
       "Eq(Integral(tan(x**(-3)), x), Integral(tan(x**(-3)), x))"
      ]
     },
     "metadata": {},
     "output_type": "display_data"
    },
    {
     "data": {
      "text/latex": [
       "$\\displaystyle \\frac{d}{d x} \\left(\\sqrt{x} - x + 4\\right) = -1 + \\frac{1}{2 \\sqrt{x}}$"
      ],
      "text/plain": [
       "Eq(Derivative(sqrt(x) - x + 4, x), -1 + 1/(2*sqrt(x)))"
      ]
     },
     "metadata": {},
     "output_type": "display_data"
    },
    {
     "data": {
      "text/latex": [
       "$\\displaystyle \\int e^{3 x}\\, dx = \\frac{e^{3 x}}{3}$"
      ],
      "text/plain": [
       "Eq(Integral(exp(3*x), x), exp(3*x)/3)"
      ]
     },
     "metadata": {},
     "output_type": "display_data"
    },
    {
     "data": {
      "text/latex": [
       "$\\displaystyle \\frac{d}{d x} \\left(x + \\cos{\\left(x \\right)} + 4 - \\frac{1}{x^{4}}\\right) = - \\sin{\\left(x \\right)} + 1 + \\frac{4}{x^{5}}$"
      ],
      "text/plain": [
       "Eq(Derivative(x + cos(x) + 4 - 1/x**4, x), -sin(x) + 1 + 4/x**5)"
      ]
     },
     "metadata": {},
     "output_type": "display_data"
    },
    {
     "data": {
      "text/latex": [
       "$\\displaystyle \\int \\frac{x^{2}}{- 3 x + \\frac{1}{x^{2}}}\\, dx = - \\frac{x^{2}}{6} - \\frac{\\sqrt[3]{3} \\log{\\left(x - \\frac{3^{\\frac{2}{3}}}{3} \\right)}}{27} + \\frac{\\sqrt[3]{3} \\log{\\left(x^{2} + \\frac{3^{\\frac{2}{3}} x}{3} + \\frac{\\sqrt[3]{3}}{3} \\right)}}{54} - \\frac{3^{\\frac{5}{6}} \\operatorname{atan}{\\left(\\frac{2 \\cdot 3^{\\frac{5}{6}} x}{3} + \\frac{\\sqrt{3}}{3} \\right)}}{27}$"
      ],
      "text/plain": [
       "Eq(Integral(x**2/(-3*x + x**(-2)), x), -x**2/6 - 3**(1/3)*log(x - 3**(2/3)/3)/27 + 3**(1/3)*log(x**2 + 3**(2/3)*x/3 + 3**(1/3)/3)/54 - 3**(5/6)*atan(2*3**(5/6)*x/3 + sqrt(3)/3)/27)"
      ]
     },
     "metadata": {},
     "output_type": "display_data"
    },
    {
     "data": {
      "text/latex": [
       "$\\displaystyle \\frac{d}{d x} \\left(\\sin{\\left(x \\right)} + \\tan{\\left(x \\right)}\\right) = \\cos{\\left(x \\right)} + \\tan^{2}{\\left(x \\right)} + 1$"
      ],
      "text/plain": [
       "Eq(Derivative(sin(x) + tan(x), x), cos(x) + tan(x)**2 + 1)"
      ]
     },
     "metadata": {},
     "output_type": "display_data"
    },
    {
     "data": {
      "text/latex": [
       "$\\displaystyle \\int \\left(e^{x} + \\cos{\\left(x \\right)}\\right)\\, dx = e^{x} + \\sin{\\left(x \\right)}$"
      ],
      "text/plain": [
       "Eq(Integral(exp(x) + cos(x), x), exp(x) + sin(x))"
      ]
     },
     "metadata": {},
     "output_type": "display_data"
    },
    {
     "data": {
      "text/latex": [
       "$\\displaystyle \\frac{d}{d x} \\frac{1}{x^{\\frac{5}{2}}} = - \\frac{5}{2 x^{\\frac{7}{2}}}$"
      ],
      "text/plain": [
       "Eq(Derivative(x**(-5/2), x), -5/(2*x**(7/2)))"
      ]
     },
     "metadata": {},
     "output_type": "display_data"
    },
    {
     "data": {
      "text/latex": [
       "$\\displaystyle \\int \\left(- \\log{\\left(x \\right)} + \\sin{\\left(x \\right)}\\right)\\, dx = - x \\log{\\left(x \\right)} + x - \\cos{\\left(x \\right)}$"
      ],
      "text/plain": [
       "Eq(Integral(-log(x) + sin(x), x), -x*log(x) + x - cos(x))"
      ]
     },
     "metadata": {},
     "output_type": "display_data"
    },
    {
     "data": {
      "text/latex": [
       "$\\displaystyle \\frac{d}{d x} \\tan{\\left(\\tan{\\left(x \\right)} \\right)} = \\left(\\tan^{2}{\\left(x \\right)} + 1\\right) \\left(\\tan^{2}{\\left(\\tan{\\left(x \\right)} \\right)} + 1\\right)$"
      ],
      "text/plain": [
       "Eq(Derivative(tan(tan(x)), x), (tan(x)**2 + 1)*(tan(tan(x))**2 + 1))"
      ]
     },
     "metadata": {},
     "output_type": "display_data"
    },
    {
     "data": {
      "text/latex": [
       "$\\displaystyle \\int \\left(- \\sin{\\left(x \\right)} + \\tan{\\left(x \\right)}\\right)\\, dx = - \\log{\\left(\\cos{\\left(x \\right)} \\right)} + \\cos{\\left(x \\right)}$"
      ],
      "text/plain": [
       "Eq(Integral(-sin(x) + tan(x), x), -log(cos(x)) + cos(x))"
      ]
     },
     "metadata": {},
     "output_type": "display_data"
    },
    {
     "data": {
      "text/latex": [
       "$\\displaystyle \\frac{d}{d x} \\left(- \\sqrt{x} + \\sin{\\left(x \\right)}\\right) = \\cos{\\left(x \\right)} - \\frac{1}{2 \\sqrt{x}}$"
      ],
      "text/plain": [
       "Eq(Derivative(-sqrt(x) + sin(x), x), cos(x) - 1/(2*sqrt(x)))"
      ]
     },
     "metadata": {},
     "output_type": "display_data"
    },
    {
     "data": {
      "text/latex": [
       "$\\displaystyle \\int \\sqrt[3]{\\sin{\\left(x \\right)}}\\, dx = \\int \\sqrt[3]{\\sin{\\left(x \\right)}}\\, dx$"
      ],
      "text/plain": [
       "Eq(Integral(sin(x)**(1/3), x), Integral(sin(x)**(1/3), x))"
      ]
     },
     "metadata": {},
     "output_type": "display_data"
    },
    {
     "data": {
      "text/latex": [
       "$\\displaystyle \\frac{d}{d x} \\left(\\log{\\left(x \\right)} - \\cos{\\left(x \\right)}\\right) = \\sin{\\left(x \\right)} + \\frac{1}{x}$"
      ],
      "text/plain": [
       "Eq(Derivative(log(x) - cos(x), x), sin(x) + 1/x)"
      ]
     },
     "metadata": {},
     "output_type": "display_data"
    },
    {
     "data": {
      "text/latex": [
       "$\\displaystyle \\int \\sqrt{e^{x}}\\, dx = 2 \\sqrt{e^{x}}$"
      ],
      "text/plain": [
       "Eq(Integral(sqrt(exp(x)), x), 2*sqrt(exp(x)))"
      ]
     },
     "metadata": {},
     "output_type": "display_data"
    },
    {
     "data": {
      "text/latex": [
       "$\\displaystyle \\frac{d}{d x} \\left(- 2 x + \\cos{\\left(x \\right)}\\right) = - \\sin{\\left(x \\right)} - 2$"
      ],
      "text/plain": [
       "Eq(Derivative(-2*x + cos(x), x), -sin(x) - 2)"
      ]
     },
     "metadata": {},
     "output_type": "display_data"
    },
    {
     "data": {
      "text/latex": [
       "$\\displaystyle \\int \\left(3 x + \\log{\\left(x \\right)} + 4\\right)\\, dx = \\frac{3 x^{2}}{2} + x \\log{\\left(x \\right)} + 3 x$"
      ],
      "text/plain": [
       "Eq(Integral(3*x + log(x) + 4, x), 3*x**2/2 + x*log(x) + 3*x)"
      ]
     },
     "metadata": {},
     "output_type": "display_data"
    },
    {
     "data": {
      "text/latex": [
       "$\\displaystyle \\frac{d}{d x} \\sin{\\left(\\sqrt[3]{x} \\right)} = \\frac{\\cos{\\left(\\sqrt[3]{x} \\right)}}{3 x^{\\frac{2}{3}}}$"
      ],
      "text/plain": [
       "Eq(Derivative(sin(x**(1/3)), x), cos(x**(1/3))/(3*x**(2/3)))"
      ]
     },
     "metadata": {},
     "output_type": "display_data"
    },
    {
     "data": {
      "text/latex": [
       "$\\displaystyle \\int x^{3} \\tan{\\left(x \\right)}\\, dx = \\int x^{3} \\tan{\\left(x \\right)}\\, dx$"
      ],
      "text/plain": [
       "Eq(Integral(x**3*tan(x), x), Integral(x**3*tan(x), x))"
      ]
     },
     "metadata": {},
     "output_type": "display_data"
    },
    {
     "data": {
      "text/latex": [
       "$\\displaystyle \\frac{d}{d x} \\left(x^{3} + 2 x + \\sin{\\left(x \\right)} + 2\\right) = 3 x^{2} + \\cos{\\left(x \\right)} + 2$"
      ],
      "text/plain": [
       "Eq(Derivative(x**3 + 2*x + sin(x) + 2, x), 3*x**2 + cos(x) + 2)"
      ]
     },
     "metadata": {},
     "output_type": "display_data"
    },
    {
     "data": {
      "text/latex": [
       "$\\displaystyle \\int \\sqrt[6]{x}\\, dx = \\frac{6 x^{\\frac{7}{6}}}{7}$"
      ],
      "text/plain": [
       "Eq(Integral(x**(1/6), x), 6*x**(7/6)/7)"
      ]
     },
     "metadata": {},
     "output_type": "display_data"
    },
    {
     "data": {
      "text/latex": [
       "$\\displaystyle \\frac{d}{d x} \\left(- \\frac{x + 3}{2 x}\\right) = - \\frac{1}{2 x} + \\frac{x + 3}{2 x^{2}}$"
      ],
      "text/plain": [
       "Eq(Derivative(-(x + 3)/(2*x), x), -1/(2*x) + (x + 3)/(2*x**2))"
      ]
     },
     "metadata": {},
     "output_type": "display_data"
    },
    {
     "data": {
      "text/latex": [
       "$\\displaystyle \\int \\left(x^{4} - 3 x - \\tan{\\left(x \\right)} - 5\\right)\\, dx = \\frac{x^{5}}{5} - \\frac{3 x^{2}}{2} - 5 x + \\log{\\left(\\cos{\\left(x \\right)} \\right)}$"
      ],
      "text/plain": [
       "Eq(Integral(x**4 - 3*x - tan(x) - 5, x), x**5/5 - 3*x**2/2 - 5*x + log(cos(x)))"
      ]
     },
     "metadata": {},
     "output_type": "display_data"
    },
    {
     "data": {
      "text/latex": [
       "$\\displaystyle \\frac{d}{d x} \\left(\\sqrt[3]{x} - 4 x\\right) = -4 + \\frac{1}{3 x^{\\frac{2}{3}}}$"
      ],
      "text/plain": [
       "Eq(Derivative(x**(1/3) - 4*x, x), -4 + 1/(3*x**(2/3)))"
      ]
     },
     "metadata": {},
     "output_type": "display_data"
    },
    {
     "data": {
      "text/latex": [
       "$\\displaystyle \\int \\sin{\\left(\\cos{\\left(x \\right)} \\right)}\\, dx = \\int \\sin{\\left(\\cos{\\left(x \\right)} \\right)}\\, dx$"
      ],
      "text/plain": [
       "Eq(Integral(sin(cos(x)), x), Integral(sin(cos(x)), x))"
      ]
     },
     "metadata": {},
     "output_type": "display_data"
    },
    {
     "data": {
      "text/latex": [
       "$\\displaystyle \\frac{d}{d x} \\frac{\\log{\\left(x \\right)}}{\\cos{\\left(x \\right)}} = \\frac{\\log{\\left(x \\right)} \\sin{\\left(x \\right)}}{\\cos^{2}{\\left(x \\right)}} + \\frac{1}{x \\cos{\\left(x \\right)}}$"
      ],
      "text/plain": [
       "Eq(Derivative(log(x)/cos(x), x), log(x)*sin(x)/cos(x)**2 + 1/(x*cos(x)))"
      ]
     },
     "metadata": {},
     "output_type": "display_data"
    },
    {
     "data": {
      "text/latex": [
       "$\\displaystyle \\int \\left(- 3 x - 1 + \\frac{1}{x^{4}}\\right)\\, dx = - \\frac{3 x^{2}}{2} - x - \\frac{1}{3 x^{3}}$"
      ],
      "text/plain": [
       "Eq(Integral(-3*x - 1 + x**(-4), x), -3*x**2/2 - x - 1/(3*x**3))"
      ]
     },
     "metadata": {},
     "output_type": "display_data"
    },
    {
     "data": {
      "text/latex": [
       "$\\displaystyle \\frac{d}{d x} \\left(3 x - 1 - \\frac{1}{x^{2}} + \\frac{1}{x^{4}}\\right) = 3 + \\frac{2}{x^{3}} - \\frac{4}{x^{5}}$"
      ],
      "text/plain": [
       "Eq(Derivative(3*x - 1 - 1/x**2 + x**(-4), x), 3 + 2/x**3 - 4/x**5)"
      ]
     },
     "metadata": {},
     "output_type": "display_data"
    },
    {
     "data": {
      "text/latex": [
       "$\\displaystyle \\int e^{- x} \\sin{\\left(x \\right)}\\, dx = - \\frac{e^{- x} \\sin{\\left(x \\right)}}{2} - \\frac{e^{- x} \\cos{\\left(x \\right)}}{2}$"
      ],
      "text/plain": [
       "Eq(Integral(exp(-x)*sin(x), x), -exp(-x)*sin(x)/2 - exp(-x)*cos(x)/2)"
      ]
     },
     "metadata": {},
     "output_type": "display_data"
    },
    {
     "data": {
      "text/latex": [
       "$\\displaystyle \\frac{d}{d x} \\left(2 x - 2\\right) = 2$"
      ],
      "text/plain": [
       "Eq(Derivative(2*x - 2, x), 2)"
      ]
     },
     "metadata": {},
     "output_type": "display_data"
    },
    {
     "data": {
      "text/latex": [
       "$\\displaystyle \\int \\frac{\\log{\\left(x \\right)}}{\\sqrt[3]{x}}\\, dx = \\begin{cases} \\frac{3 x^{\\frac{2}{3}} \\log{\\left(x \\right)}}{2} - \\frac{9 x^{\\frac{2}{3}}}{4} & \\text{for}\\: \\left|{x}\\right| < 1 \\\\- \\frac{3 x^{\\frac{2}{3}} \\log{\\left(\\frac{1}{x} \\right)}}{2} - \\frac{9 x^{\\frac{2}{3}}}{4} & \\text{for}\\: \\frac{1}{\\left|{x}\\right|} < 1 \\\\- {G_{3, 3}^{2, 1}\\left(\\begin{matrix} 1 & \\frac{5}{3}, \\frac{5}{3} \\\\\\frac{2}{3}, \\frac{2}{3} & 0 \\end{matrix} \\middle| {x} \\right)} + {G_{3, 3}^{0, 3}\\left(\\begin{matrix} \\frac{5}{3}, \\frac{5}{3}, 1 &  \\\\ & \\frac{2}{3}, \\frac{2}{3}, 0 \\end{matrix} \\middle| {x} \\right)} & \\text{otherwise} \\end{cases}$"
      ],
      "text/plain": [
       "Eq(Integral(log(x)/x**(1/3), x), Piecewise((3*x**(2/3)*log(x)/2 - 9*x**(2/3)/4, Abs(x) < 1), (-3*x**(2/3)*log(1/x)/2 - 9*x**(2/3)/4, 1/Abs(x) < 1), (-meijerg(((1,), (5/3, 5/3)), ((2/3, 2/3), (0,)), x) + meijerg(((5/3, 5/3, 1), ()), ((), (2/3, 2/3, 0)), x), True)))"
      ]
     },
     "metadata": {},
     "output_type": "display_data"
    },
    {
     "data": {
      "text/latex": [
       "$\\displaystyle \\frac{d}{d x} \\left(\\log{\\left(x \\right)} - 4\\right) = \\frac{1}{x}$"
      ],
      "text/plain": [
       "Eq(Derivative(log(x) - 4, x), 1/x)"
      ]
     },
     "metadata": {},
     "output_type": "display_data"
    },
    {
     "data": {
      "text/latex": [
       "$\\displaystyle \\int \\sqrt[3]{\\log{\\left(x \\right)}}\\, dx = \\frac{\\sqrt[3]{\\log{\\left(x \\right)}} \\Gamma\\left(\\frac{4}{3}, - \\log{\\left(x \\right)}\\right)}{\\sqrt[3]{- \\log{\\left(x \\right)}}}$"
      ],
      "text/plain": [
       "Eq(Integral(log(x)**(1/3), x), log(x)**(1/3)*uppergamma(4/3, -log(x))/(-log(x))**(1/3))"
      ]
     },
     "metadata": {},
     "output_type": "display_data"
    },
    {
     "data": {
      "text/latex": [
       "$\\displaystyle \\frac{d}{d x} \\left(\\sqrt[3]{x} + \\cos{\\left(x \\right)}\\right) = - \\sin{\\left(x \\right)} + \\frac{1}{3 x^{\\frac{2}{3}}}$"
      ],
      "text/plain": [
       "Eq(Derivative(x**(1/3) + cos(x), x), -sin(x) + 1/(3*x**(2/3)))"
      ]
     },
     "metadata": {},
     "output_type": "display_data"
    },
    {
     "data": {
      "text/latex": [
       "$\\displaystyle \\int \\left(e^{x} + \\tan{\\left(x \\right)}\\right)\\, dx = e^{x} - \\log{\\left(\\cos{\\left(x \\right)} \\right)}$"
      ],
      "text/plain": [
       "Eq(Integral(exp(x) + tan(x), x), exp(x) - log(cos(x)))"
      ]
     },
     "metadata": {},
     "output_type": "display_data"
    },
    {
     "data": {
      "text/latex": [
       "$\\displaystyle \\frac{d}{d x} \\left(\\log{\\left(x \\right)} - 5\\right) = \\frac{1}{x}$"
      ],
      "text/plain": [
       "Eq(Derivative(log(x) - 5, x), 1/x)"
      ]
     },
     "metadata": {},
     "output_type": "display_data"
    },
    {
     "data": {
      "text/latex": [
       "$\\displaystyle \\int \\left(\\cos{\\left(x \\right)} - \\tan{\\left(x \\right)}\\right)\\, dx = \\log{\\left(\\cos{\\left(x \\right)} \\right)} + \\sin{\\left(x \\right)}$"
      ],
      "text/plain": [
       "Eq(Integral(cos(x) - tan(x), x), log(cos(x)) + sin(x))"
      ]
     },
     "metadata": {},
     "output_type": "display_data"
    },
    {
     "data": {
      "text/latex": [
       "$\\displaystyle \\frac{d}{d x} \\left(x + 5\\right) = 1$"
      ],
      "text/plain": [
       "Eq(Derivative(x + 5, x), 1)"
      ]
     },
     "metadata": {},
     "output_type": "display_data"
    },
    {
     "data": {
      "text/latex": [
       "$\\displaystyle \\int \\left(x^{4} - \\cos{\\left(x \\right)}\\right)\\, dx = \\frac{x^{5}}{5} - \\sin{\\left(x \\right)}$"
      ],
      "text/plain": [
       "Eq(Integral(x**4 - cos(x), x), x**5/5 - sin(x))"
      ]
     },
     "metadata": {},
     "output_type": "display_data"
    },
    {
     "data": {
      "text/latex": [
       "$\\displaystyle \\frac{d}{d x} \\left(- \\cos{\\left(x \\right)} + \\frac{1}{x^{3}}\\right) = \\sin{\\left(x \\right)} - \\frac{3}{x^{4}}$"
      ],
      "text/plain": [
       "Eq(Derivative(-cos(x) + x**(-3), x), sin(x) - 3/x**4)"
      ]
     },
     "metadata": {},
     "output_type": "display_data"
    },
    {
     "data": {
      "text/latex": [
       "$\\displaystyle \\int \\left(2 x + 1\\right)\\, dx = x^{2} + x$"
      ],
      "text/plain": [
       "Eq(Integral(2*x + 1, x), x**2 + x)"
      ]
     },
     "metadata": {},
     "output_type": "display_data"
    },
    {
     "data": {
      "text/latex": [
       "$\\displaystyle \\frac{d}{d x} \\sin{\\left(\\log{\\left(x \\right)} \\right)} = \\frac{\\cos{\\left(\\log{\\left(x \\right)} \\right)}}{x}$"
      ],
      "text/plain": [
       "Eq(Derivative(sin(log(x)), x), cos(log(x))/x)"
      ]
     },
     "metadata": {},
     "output_type": "display_data"
    },
    {
     "data": {
      "text/latex": [
       "$\\displaystyle \\int \\left(- e^{x} + \\cos{\\left(x \\right)}\\right)\\, dx = - e^{x} + \\sin{\\left(x \\right)}$"
      ],
      "text/plain": [
       "Eq(Integral(-exp(x) + cos(x), x), -exp(x) + sin(x))"
      ]
     },
     "metadata": {},
     "output_type": "display_data"
    },
    {
     "data": {
      "text/latex": [
       "$\\displaystyle \\frac{d}{d x} \\frac{\\sqrt{x}}{x^{3} - 1} = - \\frac{3 x^{\\frac{5}{2}}}{\\left(x^{3} - 1\\right)^{2}} + \\frac{1}{2 \\sqrt{x} \\left(x^{3} - 1\\right)}$"
      ],
      "text/plain": [
       "Eq(Derivative(sqrt(x)/(x**3 - 1), x), -3*x**(5/2)/(x**3 - 1)**2 + 1/(2*sqrt(x)*(x**3 - 1)))"
      ]
     },
     "metadata": {},
     "output_type": "display_data"
    },
    {
     "data": {
      "text/latex": [
       "$\\displaystyle \\int \\tan{\\left(\\cos{\\left(x \\right)} \\right)}\\, dx = \\int \\tan{\\left(\\cos{\\left(x \\right)} \\right)}\\, dx$"
      ],
      "text/plain": [
       "Eq(Integral(tan(cos(x)), x), Integral(tan(cos(x)), x))"
      ]
     },
     "metadata": {},
     "output_type": "display_data"
    },
    {
     "data": {
      "text/latex": [
       "$\\displaystyle \\frac{d}{d x} \\left(x^{2} + e^{x}\\right) = 2 x + e^{x}$"
      ],
      "text/plain": [
       "Eq(Derivative(x**2 + exp(x), x), 2*x + exp(x))"
      ]
     },
     "metadata": {},
     "output_type": "display_data"
    },
    {
     "data": {
      "text/latex": [
       "$\\displaystyle \\int \\left(e^{x} + 2\\right)\\, dx = 2 x + e^{x}$"
      ],
      "text/plain": [
       "Eq(Integral(exp(x) + 2, x), 2*x + exp(x))"
      ]
     },
     "metadata": {},
     "output_type": "display_data"
    },
    {
     "data": {
      "text/latex": [
       "$\\displaystyle \\frac{d}{d x} \\cos{\\left(\\sqrt{x} \\right)} = - \\frac{\\sin{\\left(\\sqrt{x} \\right)}}{2 \\sqrt{x}}$"
      ],
      "text/plain": [
       "Eq(Derivative(cos(sqrt(x)), x), -sin(sqrt(x))/(2*sqrt(x)))"
      ]
     },
     "metadata": {},
     "output_type": "display_data"
    },
    {
     "data": {
      "text/latex": [
       "$\\displaystyle \\int \\frac{\\sin{\\left(x \\right)}}{x + 2}\\, dx = \\int \\frac{\\sin{\\left(x \\right)}}{x + 2}\\, dx$"
      ],
      "text/plain": [
       "Eq(Integral(sin(x)/(x + 2), x), Integral(sin(x)/(x + 2), x))"
      ]
     },
     "metadata": {},
     "output_type": "display_data"
    },
    {
     "data": {
      "text/latex": [
       "$\\displaystyle \\frac{d}{d x} \\sqrt{\\log{\\left(x \\right)}} = \\frac{1}{2 x \\sqrt{\\log{\\left(x \\right)}}}$"
      ],
      "text/plain": [
       "Eq(Derivative(sqrt(log(x)), x), 1/(2*x*sqrt(log(x))))"
      ]
     },
     "metadata": {},
     "output_type": "display_data"
    },
    {
     "data": {
      "text/latex": [
       "$\\displaystyle \\int \\left(- \\sqrt[3]{x} + \\log{\\left(x \\right)}\\right)\\, dx = - \\frac{3 x^{\\frac{4}{3}}}{4} + x \\log{\\left(x \\right)} - x$"
      ],
      "text/plain": [
       "Eq(Integral(-x**(1/3) + log(x), x), -3*x**(4/3)/4 + x*log(x) - x)"
      ]
     },
     "metadata": {},
     "output_type": "display_data"
    },
    {
     "data": {
      "text/latex": [
       "$\\displaystyle \\frac{d}{d x} \\left(x^{2} - \\sin{\\left(x \\right)}\\right) = 2 x - \\cos{\\left(x \\right)}$"
      ],
      "text/plain": [
       "Eq(Derivative(x**2 - sin(x), x), 2*x - cos(x))"
      ]
     },
     "metadata": {},
     "output_type": "display_data"
    },
    {
     "data": {
      "text/latex": [
       "$\\displaystyle \\int \\left(2 e^{x} + e^{- x}\\right)\\, dx = 2 e^{x} - e^{- x}$"
      ],
      "text/plain": [
       "Eq(Integral(2*exp(x) + exp(-x), x), 2*exp(x) - exp(-x))"
      ]
     },
     "metadata": {},
     "output_type": "display_data"
    },
    {
     "data": {
      "text/latex": [
       "$\\displaystyle \\frac{d}{d x} \\left(-1 + \\frac{1}{x^{\\frac{2}{3}}}\\right) = - \\frac{2}{3 x^{\\frac{5}{3}}}$"
      ],
      "text/plain": [
       "Eq(Derivative(-1 + x**(-2/3), x), -2/(3*x**(5/3)))"
      ]
     },
     "metadata": {},
     "output_type": "display_data"
    },
    {
     "data": {
      "text/latex": [
       "$\\displaystyle \\int \\left(\\sqrt{x} + \\tan{\\left(x \\right)}\\right)\\, dx = \\frac{2 x^{\\frac{3}{2}}}{3} - \\log{\\left(\\cos{\\left(x \\right)} \\right)}$"
      ],
      "text/plain": [
       "Eq(Integral(sqrt(x) + tan(x), x), 2*x**(3/2)/3 - log(cos(x)))"
      ]
     },
     "metadata": {},
     "output_type": "display_data"
    },
    {
     "data": {
      "text/latex": [
       "$\\displaystyle \\frac{d}{d x} \\left(- \\log{\\left(x \\right)} + \\tan{\\left(x \\right)}\\right) = \\tan^{2}{\\left(x \\right)} + 1 - \\frac{1}{x}$"
      ],
      "text/plain": [
       "Eq(Derivative(-log(x) + tan(x), x), tan(x)**2 + 1 - 1/x)"
      ]
     },
     "metadata": {},
     "output_type": "display_data"
    },
    {
     "data": {
      "text/latex": [
       "$\\displaystyle \\int \\frac{x^{2} - 3 x + 3}{x^{2}}\\, dx = x - 3 \\log{\\left(x \\right)} - \\frac{3}{x}$"
      ],
      "text/plain": [
       "Eq(Integral((x**2 - 3*x + 3)/x**2, x), x - 3*log(x) - 3/x)"
      ]
     },
     "metadata": {},
     "output_type": "display_data"
    },
    {
     "data": {
      "text/latex": [
       "$\\displaystyle \\frac{d}{d x} \\left(- e^{x} + \\frac{1}{x}\\right) = - e^{x} - \\frac{1}{x^{2}}$"
      ],
      "text/plain": [
       "Eq(Derivative(-exp(x) + 1/x, x), -exp(x) - 1/x**2)"
      ]
     },
     "metadata": {},
     "output_type": "display_data"
    },
    {
     "data": {
      "text/latex": [
       "$\\displaystyle \\int \\frac{e^{x}}{\\sqrt[3]{x}}\\, dx = \\frac{2 e^{- \\frac{2 i \\pi}{3}} \\Gamma\\left(\\frac{2}{3}\\right) \\gamma\\left(\\frac{2}{3}, x e^{i \\pi}\\right)}{3 \\Gamma\\left(\\frac{5}{3}\\right)}$"
      ],
      "text/plain": [
       "Eq(Integral(exp(x)/x**(1/3), x), 2*exp(-2*I*pi/3)*gamma(2/3)*lowergamma(2/3, x*exp_polar(I*pi))/(3*gamma(5/3)))"
      ]
     },
     "metadata": {},
     "output_type": "display_data"
    },
    {
     "data": {
      "text/latex": [
       "$\\displaystyle \\frac{d}{d x} \\frac{e^{x}}{\\sqrt[3]{x}} = \\frac{e^{x}}{\\sqrt[3]{x}} - \\frac{e^{x}}{3 x^{\\frac{4}{3}}}$"
      ],
      "text/plain": [
       "Eq(Derivative(exp(x)/x**(1/3), x), exp(x)/x**(1/3) - exp(x)/(3*x**(4/3)))"
      ]
     },
     "metadata": {},
     "output_type": "display_data"
    },
    {
     "data": {
      "text/latex": [
       "$\\displaystyle \\int \\cos{\\left(x \\right)}\\, dx = \\sin{\\left(x \\right)}$"
      ],
      "text/plain": [
       "Eq(Integral(cos(x), x), sin(x))"
      ]
     },
     "metadata": {},
     "output_type": "display_data"
    },
    {
     "data": {
      "text/latex": [
       "$\\displaystyle \\frac{d}{d x} \\sqrt[6]{x} = \\frac{1}{6 x^{\\frac{5}{6}}}$"
      ],
      "text/plain": [
       "Eq(Derivative(x**(1/6), x), 1/(6*x**(5/6)))"
      ]
     },
     "metadata": {},
     "output_type": "display_data"
    },
    {
     "data": {
      "text/latex": [
       "$\\displaystyle \\int \\frac{\\cos{\\left(x \\right)}}{\\sqrt{x}}\\, dx = \\frac{\\sqrt{2} \\sqrt{\\pi} C\\left(\\frac{\\sqrt{2} \\sqrt{x}}{\\sqrt{\\pi}}\\right) \\Gamma\\left(\\frac{1}{4}\\right)}{4 \\Gamma\\left(\\frac{5}{4}\\right)}$"
      ],
      "text/plain": [
       "Eq(Integral(cos(x)/sqrt(x), x), sqrt(2)*sqrt(pi)*fresnelc(sqrt(2)*sqrt(x)/sqrt(pi))*gamma(1/4)/(4*gamma(5/4)))"
      ]
     },
     "metadata": {},
     "output_type": "display_data"
    },
    {
     "data": {
      "text/latex": [
       "$\\displaystyle \\frac{d}{d x} \\left(x + \\cos{\\left(x \\right)}\\right) = 1 - \\sin{\\left(x \\right)}$"
      ],
      "text/plain": [
       "Eq(Derivative(x + cos(x), x), 1 - sin(x))"
      ]
     },
     "metadata": {},
     "output_type": "display_data"
    },
    {
     "data": {
      "text/latex": [
       "$\\displaystyle \\int \\left(x - \\log{\\left(x \\right)}\\right)\\, dx = \\frac{x^{2}}{2} - x \\log{\\left(x \\right)} + x$"
      ],
      "text/plain": [
       "Eq(Integral(x - log(x), x), x**2/2 - x*log(x) + x)"
      ]
     },
     "metadata": {},
     "output_type": "display_data"
    },
    {
     "data": {
      "text/latex": [
       "$\\displaystyle \\frac{d}{d x} \\sqrt{\\frac{1}{x^{4}}} = - \\frac{2 \\sqrt{\\frac{1}{x^{4}}}}{x}$"
      ],
      "text/plain": [
       "Eq(Derivative(sqrt(x**(-4)), x), -2*sqrt(x**(-4))/x)"
      ]
     },
     "metadata": {},
     "output_type": "display_data"
    },
    {
     "data": {
      "text/latex": [
       "$\\displaystyle \\int \\frac{\\sin{\\left(x \\right)}}{2 x - 3 + \\frac{1}{x}}\\, dx = \\int \\frac{x \\sin{\\left(x \\right)}}{\\left(x - 1\\right) \\left(2 x - 1\\right)}\\, dx$"
      ],
      "text/plain": [
       "Eq(Integral(sin(x)/(2*x - 3 + 1/x), x), Integral(x*sin(x)/((x - 1)*(2*x - 1)), x))"
      ]
     },
     "metadata": {},
     "output_type": "display_data"
    },
    {
     "data": {
      "text/latex": [
       "$\\displaystyle \\frac{d}{d x} \\left(- \\sqrt{x} - 3 x\\right) = -3 - \\frac{1}{2 \\sqrt{x}}$"
      ],
      "text/plain": [
       "Eq(Derivative(-sqrt(x) - 3*x, x), -3 - 1/(2*sqrt(x)))"
      ]
     },
     "metadata": {},
     "output_type": "display_data"
    },
    {
     "data": {
      "text/latex": [
       "$\\displaystyle \\int \\sqrt{2} \\sqrt{x}\\, dx = \\frac{2 \\sqrt{2} x^{\\frac{3}{2}}}{3}$"
      ],
      "text/plain": [
       "Eq(Integral(sqrt(2)*sqrt(x), x), 2*sqrt(2)*x**(3/2)/3)"
      ]
     },
     "metadata": {},
     "output_type": "display_data"
    },
    {
     "data": {
      "text/latex": [
       "$\\displaystyle \\frac{d}{d x} \\log{\\left(x^{4} - 3 x + 4 \\right)} = \\frac{4 x^{3} - 3}{x^{4} - 3 x + 4}$"
      ],
      "text/plain": [
       "Eq(Derivative(log(x**4 - 3*x + 4), x), (4*x**3 - 3)/(x**4 - 3*x + 4))"
      ]
     },
     "metadata": {},
     "output_type": "display_data"
    },
    {
     "data": {
      "text/latex": [
       "$\\displaystyle \\int \\left(x^{\\frac{3}{2}} + 2 \\sqrt{x} - 5\\right)\\, dx = \\frac{2 x^{\\frac{5}{2}}}{5} + \\frac{4 x^{\\frac{3}{2}}}{3} - 5 x$"
      ],
      "text/plain": [
       "Eq(Integral(x**(3/2) + 2*sqrt(x) - 5, x), 2*x**(5/2)/5 + 4*x**(3/2)/3 - 5*x)"
      ]
     },
     "metadata": {},
     "output_type": "display_data"
    },
    {
     "data": {
      "text/latex": [
       "$\\displaystyle \\frac{d}{d x} e^{x} = e^{x}$"
      ],
      "text/plain": [
       "Eq(Derivative(exp(x), x), exp(x))"
      ]
     },
     "metadata": {},
     "output_type": "display_data"
    },
    {
     "data": {
      "text/latex": [
       "$\\displaystyle \\int \\frac{1}{x + 3}\\, dx = \\log{\\left(x + 3 \\right)}$"
      ],
      "text/plain": [
       "Eq(Integral(1/(x + 3), x), log(x + 3))"
      ]
     },
     "metadata": {},
     "output_type": "display_data"
    },
    {
     "data": {
      "text/latex": [
       "$\\displaystyle \\frac{d}{d x} \\frac{1}{\\sqrt[3]{x}} = - \\frac{1}{3 x^{\\frac{4}{3}}}$"
      ],
      "text/plain": [
       "Eq(Derivative(x**(-1/3), x), -1/(3*x**(4/3)))"
      ]
     },
     "metadata": {},
     "output_type": "display_data"
    },
    {
     "data": {
      "text/latex": [
       "$\\displaystyle \\int \\left(e^{x} + \\tan{\\left(x \\right)}\\right)\\, dx = e^{x} - \\log{\\left(\\cos{\\left(x \\right)} \\right)}$"
      ],
      "text/plain": [
       "Eq(Integral(exp(x) + tan(x), x), exp(x) - log(cos(x)))"
      ]
     },
     "metadata": {},
     "output_type": "display_data"
    },
    {
     "data": {
      "text/latex": [
       "$\\displaystyle \\frac{d}{d x} \\left(\\sqrt[3]{x} - 4 x\\right) = -4 + \\frac{1}{3 x^{\\frac{2}{3}}}$"
      ],
      "text/plain": [
       "Eq(Derivative(x**(1/3) - 4*x, x), -4 + 1/(3*x**(2/3)))"
      ]
     },
     "metadata": {},
     "output_type": "display_data"
    },
    {
     "data": {
      "text/latex": [
       "$\\displaystyle \\int \\frac{\\tan{\\left(x \\right)}}{x - 2}\\, dx = \\int \\frac{\\tan{\\left(x \\right)}}{x - 2}\\, dx$"
      ],
      "text/plain": [
       "Eq(Integral(tan(x)/(x - 2), x), Integral(tan(x)/(x - 2), x))"
      ]
     },
     "metadata": {},
     "output_type": "display_data"
    },
    {
     "data": {
      "text/latex": [
       "$\\displaystyle \\frac{d}{d x} \\left(\\sqrt[3]{x} + 3\\right) = \\frac{1}{3 x^{\\frac{2}{3}}}$"
      ],
      "text/plain": [
       "Eq(Derivative(x**(1/3) + 3, x), 1/(3*x**(2/3)))"
      ]
     },
     "metadata": {},
     "output_type": "display_data"
    },
    {
     "data": {
      "text/latex": [
       "$\\displaystyle \\int \\left(- 2 x + \\tan{\\left(x \\right)}\\right)\\, dx = - x^{2} - \\log{\\left(\\cos{\\left(x \\right)} \\right)}$"
      ],
      "text/plain": [
       "Eq(Integral(-2*x + tan(x), x), -x**2 - log(cos(x)))"
      ]
     },
     "metadata": {},
     "output_type": "display_data"
    },
    {
     "data": {
      "text/latex": [
       "$\\displaystyle \\frac{d}{d x} \\left(1 - \\sin{\\left(x \\right)}\\right) = - \\cos{\\left(x \\right)}$"
      ],
      "text/plain": [
       "Eq(Derivative(1 - sin(x), x), -cos(x))"
      ]
     },
     "metadata": {},
     "output_type": "display_data"
    },
    {
     "data": {
      "text/latex": [
       "$\\displaystyle \\int \\left(x + 6 + \\frac{1}{x^{3}}\\right)\\, dx = \\frac{x^{2}}{2} + 6 x - \\frac{1}{2 x^{2}}$"
      ],
      "text/plain": [
       "Eq(Integral(x + 6 + x**(-3), x), x**2/2 + 6*x - 1/(2*x**2))"
      ]
     },
     "metadata": {},
     "output_type": "display_data"
    },
    {
     "data": {
      "text/latex": [
       "$\\displaystyle \\frac{d}{d x} \\left(\\sqrt{x} + x^{4}\\right) = 4 x^{3} + \\frac{1}{2 \\sqrt{x}}$"
      ],
      "text/plain": [
       "Eq(Derivative(sqrt(x) + x**4, x), 4*x**3 + 1/(2*sqrt(x)))"
      ]
     },
     "metadata": {},
     "output_type": "display_data"
    },
    {
     "data": {
      "text/latex": [
       "$\\displaystyle \\int \\left(- \\sqrt{x} + x^{2} + 3\\right)\\, dx = - \\frac{2 x^{\\frac{3}{2}}}{3} + \\frac{x^{3}}{3} + 3 x$"
      ],
      "text/plain": [
       "Eq(Integral(-sqrt(x) + x**2 + 3, x), -2*x**(3/2)/3 + x**3/3 + 3*x)"
      ]
     },
     "metadata": {},
     "output_type": "display_data"
    },
    {
     "data": {
      "text/latex": [
       "$\\displaystyle \\frac{d}{d x} \\frac{1}{x \\cos{\\left(x \\right)}} = \\frac{\\sin{\\left(x \\right)}}{x \\cos^{2}{\\left(x \\right)}} - \\frac{1}{x^{2} \\cos{\\left(x \\right)}}$"
      ],
      "text/plain": [
       "Eq(Derivative(1/(x*cos(x)), x), sin(x)/(x*cos(x)**2) - 1/(x**2*cos(x)))"
      ]
     },
     "metadata": {},
     "output_type": "display_data"
    },
    {
     "data": {
      "text/latex": [
       "$\\displaystyle \\int \\log{\\left(2 x \\right)}\\, dx = x \\log{\\left(2 x \\right)} - x$"
      ],
      "text/plain": [
       "Eq(Integral(log(2*x), x), x*log(2*x) - x)"
      ]
     },
     "metadata": {},
     "output_type": "display_data"
    },
    {
     "data": {
      "text/latex": [
       "$\\displaystyle \\frac{d}{d x} \\left(\\cos{\\left(x \\right)} - \\tan{\\left(x \\right)}\\right) = - \\sin{\\left(x \\right)} - \\tan^{2}{\\left(x \\right)} - 1$"
      ],
      "text/plain": [
       "Eq(Derivative(cos(x) - tan(x), x), -sin(x) - tan(x)**2 - 1)"
      ]
     },
     "metadata": {},
     "output_type": "display_data"
    },
    {
     "data": {
      "text/latex": [
       "$\\displaystyle \\int \\left(-3\\right)\\, dx = - 3 x$"
      ],
      "text/plain": [
       "Eq(Integral(-3, x), -3*x)"
      ]
     },
     "metadata": {},
     "output_type": "display_data"
    },
    {
     "data": {
      "text/latex": [
       "$\\displaystyle \\frac{d}{d x} \\left(\\sqrt[3]{x} + x + 3\\right) = 1 + \\frac{1}{3 x^{\\frac{2}{3}}}$"
      ],
      "text/plain": [
       "Eq(Derivative(x**(1/3) + x + 3, x), 1 + 1/(3*x**(2/3)))"
      ]
     },
     "metadata": {},
     "output_type": "display_data"
    },
    {
     "data": {
      "text/latex": [
       "$\\displaystyle \\int \\left(- x + e^{x} - 2 + \\frac{1}{x^{2}}\\right)\\, dx = - \\frac{x^{2}}{2} - 2 x + e^{x} - \\frac{1}{x}$"
      ],
      "text/plain": [
       "Eq(Integral(-x + exp(x) - 2 + x**(-2), x), -x**2/2 - 2*x + exp(x) - 1/x)"
      ]
     },
     "metadata": {},
     "output_type": "display_data"
    },
    {
     "data": {
      "text/latex": [
       "$\\displaystyle \\frac{d}{d x} \\left(- \\sqrt{x} + \\frac{1}{x^{4}}\\right) = - \\frac{4}{x^{5}} - \\frac{1}{2 \\sqrt{x}}$"
      ],
      "text/plain": [
       "Eq(Derivative(-sqrt(x) + x**(-4), x), -4/x**5 - 1/(2*sqrt(x)))"
      ]
     },
     "metadata": {},
     "output_type": "display_data"
    },
    {
     "data": {
      "text/latex": [
       "$\\displaystyle \\int \\left(\\sqrt{x} - x^{5}\\right)\\, dx = \\frac{2 x^{\\frac{3}{2}}}{3} - \\frac{x^{6}}{6}$"
      ],
      "text/plain": [
       "Eq(Integral(sqrt(x) - x**5, x), 2*x**(3/2)/3 - x**6/6)"
      ]
     },
     "metadata": {},
     "output_type": "display_data"
    },
    {
     "data": {
      "text/latex": [
       "$\\displaystyle \\frac{d}{d x} \\left(x + \\cos{\\left(x \\right)} - 4\\right) = 1 - \\sin{\\left(x \\right)}$"
      ],
      "text/plain": [
       "Eq(Derivative(x + cos(x) - 4, x), 1 - sin(x))"
      ]
     },
     "metadata": {},
     "output_type": "display_data"
    },
    {
     "data": {
      "text/latex": [
       "$\\displaystyle \\int \\left(x^{4} - e^{x}\\right)\\, dx = \\frac{x^{5}}{5} - e^{x}$"
      ],
      "text/plain": [
       "Eq(Integral(x**4 - exp(x), x), x**5/5 - exp(x))"
      ]
     },
     "metadata": {},
     "output_type": "display_data"
    },
    {
     "data": {
      "text/latex": [
       "$\\displaystyle \\frac{d}{d x} \\left(x^{4} - 3 x + \\tan{\\left(x \\right)} - 1\\right) = 4 x^{3} + \\tan^{2}{\\left(x \\right)} - 2$"
      ],
      "text/plain": [
       "Eq(Derivative(x**4 - 3*x + tan(x) - 1, x), 4*x**3 + tan(x)**2 - 2)"
      ]
     },
     "metadata": {},
     "output_type": "display_data"
    },
    {
     "data": {
      "text/latex": [
       "$\\displaystyle \\int \\left(\\sin{\\left(x \\right)} + 3\\right)\\, dx = 3 x - \\cos{\\left(x \\right)}$"
      ],
      "text/plain": [
       "Eq(Integral(sin(x) + 3, x), 3*x - cos(x))"
      ]
     },
     "metadata": {},
     "output_type": "display_data"
    },
    {
     "data": {
      "text/latex": [
       "$\\displaystyle \\frac{d}{d x} \\left(- \\log{\\left(x \\right)} + \\sin{\\left(x \\right)}\\right) = \\cos{\\left(x \\right)} - \\frac{1}{x}$"
      ],
      "text/plain": [
       "Eq(Derivative(-log(x) + sin(x), x), cos(x) - 1/x)"
      ]
     },
     "metadata": {},
     "output_type": "display_data"
    },
    {
     "data": {
      "text/latex": [
       "$\\displaystyle \\int \\left(x + \\log{\\left(x \\right)} - 2\\right)\\, dx = \\frac{x^{2}}{2} + x \\log{\\left(x \\right)} - 3 x$"
      ],
      "text/plain": [
       "Eq(Integral(x + log(x) - 2, x), x**2/2 + x*log(x) - 3*x)"
      ]
     },
     "metadata": {},
     "output_type": "display_data"
    },
    {
     "data": {
      "text/latex": [
       "$\\displaystyle \\frac{d}{d x} \\frac{- x - 5 + \\frac{1}{x^{4}}}{\\sin{\\left(x \\right)}} = \\frac{-1 - \\frac{4}{x^{5}}}{\\sin{\\left(x \\right)}} - \\frac{\\left(- x - 5 + \\frac{1}{x^{4}}\\right) \\cos{\\left(x \\right)}}{\\sin^{2}{\\left(x \\right)}}$"
      ],
      "text/plain": [
       "Eq(Derivative((-x - 5 + x**(-4))/sin(x), x), (-1 - 4/x**5)/sin(x) - (-x - 5 + x**(-4))*cos(x)/sin(x)**2)"
      ]
     },
     "metadata": {},
     "output_type": "display_data"
    },
    {
     "data": {
      "text/latex": [
       "$\\displaystyle \\int \\frac{e^{x}}{x^{2} - 4}\\, dx = \\int \\frac{e^{x}}{\\left(x - 2\\right) \\left(x + 2\\right)}\\, dx$"
      ],
      "text/plain": [
       "Eq(Integral(exp(x)/(x**2 - 4), x), Integral(exp(x)/((x - 2)*(x + 2)), x))"
      ]
     },
     "metadata": {},
     "output_type": "display_data"
    },
    {
     "data": {
      "text/latex": [
       "$\\displaystyle \\frac{d}{d x} \\left(\\sqrt{x} + x + 4\\right) = 1 + \\frac{1}{2 \\sqrt{x}}$"
      ],
      "text/plain": [
       "Eq(Derivative(sqrt(x) + x + 4, x), 1 + 1/(2*sqrt(x)))"
      ]
     },
     "metadata": {},
     "output_type": "display_data"
    },
    {
     "data": {
      "text/latex": [
       "$\\displaystyle \\int \\sqrt[3]{\\tan{\\left(x \\right)}}\\, dx = \\int \\sqrt[3]{\\tan{\\left(x \\right)}}\\, dx$"
      ],
      "text/plain": [
       "Eq(Integral(tan(x)**(1/3), x), Integral(tan(x)**(1/3), x))"
      ]
     },
     "metadata": {},
     "output_type": "display_data"
    },
    {
     "data": {
      "text/latex": [
       "$\\displaystyle \\frac{d}{d x} \\frac{1}{\\left(x - 2\\right)^{3}} = - \\frac{3}{\\left(x - 2\\right)^{4}}$"
      ],
      "text/plain": [
       "Eq(Derivative((x - 2)**(-3), x), -3/(x - 2)**4)"
      ]
     },
     "metadata": {},
     "output_type": "display_data"
    },
    {
     "data": {
      "text/latex": [
       "$\\displaystyle \\int \\left(x - \\cos{\\left(x \\right)} - 4\\right)\\, dx = \\frac{x^{2}}{2} - 4 x - \\sin{\\left(x \\right)}$"
      ],
      "text/plain": [
       "Eq(Integral(x - cos(x) - 4, x), x**2/2 - 4*x - sin(x))"
      ]
     },
     "metadata": {},
     "output_type": "display_data"
    },
    {
     "data": {
      "text/latex": [
       "$\\displaystyle \\frac{d}{d x} \\left(- 2 x - 2 + \\frac{1}{x^{2}}\\right) = -2 - \\frac{2}{x^{3}}$"
      ],
      "text/plain": [
       "Eq(Derivative(-2*x - 2 + x**(-2), x), -2 - 2/x**3)"
      ]
     },
     "metadata": {},
     "output_type": "display_data"
    },
    {
     "data": {
      "text/latex": [
       "$\\displaystyle \\int \\log{\\left(\\sqrt{x} \\right)}\\, dx = x \\log{\\left(\\sqrt{x} \\right)} - \\frac{x}{2}$"
      ],
      "text/plain": [
       "Eq(Integral(log(sqrt(x)), x), x*log(sqrt(x)) - x/2)"
      ]
     },
     "metadata": {},
     "output_type": "display_data"
    },
    {
     "data": {
      "text/latex": [
       "$\\displaystyle \\frac{d}{d x} \\tan{\\left(\\sin{\\left(x \\right)} \\right)} = \\left(\\tan^{2}{\\left(\\sin{\\left(x \\right)} \\right)} + 1\\right) \\cos{\\left(x \\right)}$"
      ],
      "text/plain": [
       "Eq(Derivative(tan(sin(x)), x), (tan(sin(x))**2 + 1)*cos(x))"
      ]
     },
     "metadata": {},
     "output_type": "display_data"
    },
    {
     "data": {
      "text/latex": [
       "$\\displaystyle \\int \\left(x^{\\frac{5}{3}} - \\sqrt[3]{x} - 4\\right)\\, dx = \\frac{3 x^{\\frac{8}{3}}}{8} - \\frac{3 x^{\\frac{4}{3}}}{4} - 4 x$"
      ],
      "text/plain": [
       "Eq(Integral(x**(5/3) - x**(1/3) - 4, x), 3*x**(8/3)/8 - 3*x**(4/3)/4 - 4*x)"
      ]
     },
     "metadata": {},
     "output_type": "display_data"
    },
    {
     "data": {
      "text/latex": [
       "$\\displaystyle \\frac{d}{d x} \\sin{\\left(\\sqrt{x} \\right)} = \\frac{\\cos{\\left(\\sqrt{x} \\right)}}{2 \\sqrt{x}}$"
      ],
      "text/plain": [
       "Eq(Derivative(sin(sqrt(x)), x), cos(sqrt(x))/(2*sqrt(x)))"
      ]
     },
     "metadata": {},
     "output_type": "display_data"
    },
    {
     "data": {
      "text/latex": [
       "$\\displaystyle \\int \\frac{\\sqrt{x}}{x + 3}\\, dx = 2 \\sqrt{x} - 2 \\sqrt{3} \\operatorname{atan}{\\left(\\frac{\\sqrt{3} \\sqrt{x}}{3} \\right)}$"
      ],
      "text/plain": [
       "Eq(Integral(sqrt(x)/(x + 3), x), 2*sqrt(x) - 2*sqrt(3)*atan(sqrt(3)*sqrt(x)/3))"
      ]
     },
     "metadata": {},
     "output_type": "display_data"
    },
    {
     "data": {
      "text/latex": [
       "$\\displaystyle \\frac{d}{d x} \\frac{\\tan{\\left(x \\right)}}{\\log{\\left(x \\right)}} = \\frac{\\tan^{2}{\\left(x \\right)} + 1}{\\log{\\left(x \\right)}} - \\frac{\\tan{\\left(x \\right)}}{x \\log{\\left(x \\right)}^{2}}$"
      ],
      "text/plain": [
       "Eq(Derivative(tan(x)/log(x), x), (tan(x)**2 + 1)/log(x) - tan(x)/(x*log(x)**2))"
      ]
     },
     "metadata": {},
     "output_type": "display_data"
    },
    {
     "data": {
      "text/latex": [
       "$\\displaystyle \\int \\left(- \\sqrt[3]{x} + \\tan{\\left(x \\right)}\\right)\\, dx = - \\frac{3 x^{\\frac{4}{3}}}{4} - \\log{\\left(\\cos{\\left(x \\right)} \\right)}$"
      ],
      "text/plain": [
       "Eq(Integral(-x**(1/3) + tan(x), x), -3*x**(4/3)/4 - log(cos(x)))"
      ]
     },
     "metadata": {},
     "output_type": "display_data"
    },
    {
     "data": {
      "text/latex": [
       "$\\displaystyle \\frac{d}{d x} x = 1$"
      ],
      "text/plain": [
       "Eq(Derivative(x, x), 1)"
      ]
     },
     "metadata": {},
     "output_type": "display_data"
    },
    {
     "data": {
      "text/latex": [
       "$\\displaystyle \\int \\left(3 x - 4\\right)\\, dx = \\frac{3 x^{2}}{2} - 4 x$"
      ],
      "text/plain": [
       "Eq(Integral(3*x - 4, x), 3*x**2/2 - 4*x)"
      ]
     },
     "metadata": {},
     "output_type": "display_data"
    },
    {
     "data": {
      "text/latex": [
       "$\\displaystyle \\frac{d}{d x} \\log{\\left(- x \\right)} = \\frac{1}{x}$"
      ],
      "text/plain": [
       "Eq(Derivative(log(-x), x), 1/x)"
      ]
     },
     "metadata": {},
     "output_type": "display_data"
    },
    {
     "data": {
      "text/latex": [
       "$\\displaystyle \\int \\frac{2 x}{\\log{\\left(x \\right)}}\\, dx = 2 \\operatorname{Ei}{\\left(2 \\log{\\left(x \\right)} \\right)}$"
      ],
      "text/plain": [
       "Eq(Integral(2*x/log(x), x), 2*Ei(2*log(x)))"
      ]
     },
     "metadata": {},
     "output_type": "display_data"
    },
    {
     "data": {
      "text/latex": [
       "$\\displaystyle \\frac{d}{d x} \\left(\\sqrt[3]{x} - e^{x}\\right) = - e^{x} + \\frac{1}{3 x^{\\frac{2}{3}}}$"
      ],
      "text/plain": [
       "Eq(Derivative(x**(1/3) - exp(x), x), -exp(x) + 1/(3*x**(2/3)))"
      ]
     },
     "metadata": {},
     "output_type": "display_data"
    },
    {
     "data": {
      "text/latex": [
       "$\\displaystyle \\int \\left(x + \\tan{\\left(x \\right)} + 1\\right)\\, dx = \\frac{x^{2}}{2} + x - \\log{\\left(\\cos{\\left(x \\right)} \\right)}$"
      ],
      "text/plain": [
       "Eq(Integral(x + tan(x) + 1, x), x**2/2 + x - log(cos(x)))"
      ]
     },
     "metadata": {},
     "output_type": "display_data"
    },
    {
     "data": {
      "text/latex": [
       "$\\displaystyle \\frac{d}{d x} e^{- x} \\cos{\\left(x \\right)} = - e^{- x} \\sin{\\left(x \\right)} - e^{- x} \\cos{\\left(x \\right)}$"
      ],
      "text/plain": [
       "Eq(Derivative(exp(-x)*cos(x), x), -exp(-x)*sin(x) - exp(-x)*cos(x))"
      ]
     },
     "metadata": {},
     "output_type": "display_data"
    },
    {
     "data": {
      "text/latex": [
       "$\\displaystyle \\int e^{- x} \\log{\\left(x \\right)}\\, dx = \\operatorname{Ei}{\\left(- x \\right)} - e^{- x} \\log{\\left(x \\right)}$"
      ],
      "text/plain": [
       "Eq(Integral(exp(-x)*log(x), x), Ei(-x) - exp(-x)*log(x))"
      ]
     },
     "metadata": {},
     "output_type": "display_data"
    },
    {
     "data": {
      "text/latex": [
       "$\\displaystyle \\frac{d}{d x} \\log{\\left(\\sqrt{x} \\right)} = \\frac{1}{2 x}$"
      ],
      "text/plain": [
       "Eq(Derivative(log(sqrt(x)), x), 1/(2*x))"
      ]
     },
     "metadata": {},
     "output_type": "display_data"
    },
    {
     "data": {
      "text/latex": [
       "$\\displaystyle \\int \\left(e^{x} + \\frac{1}{x}\\right)\\, dx = e^{x} + \\log{\\left(x \\right)}$"
      ],
      "text/plain": [
       "Eq(Integral(exp(x) + 1/x, x), exp(x) + log(x))"
      ]
     },
     "metadata": {},
     "output_type": "display_data"
    },
    {
     "data": {
      "text/latex": [
       "$\\displaystyle \\frac{d}{d x} \\left(\\sqrt[3]{x} + x^{3}\\right) = 3 x^{2} + \\frac{1}{3 x^{\\frac{2}{3}}}$"
      ],
      "text/plain": [
       "Eq(Derivative(x**(1/3) + x**3, x), 3*x**2 + 1/(3*x**(2/3)))"
      ]
     },
     "metadata": {},
     "output_type": "display_data"
    },
    {
     "data": {
      "text/latex": [
       "$\\displaystyle \\int \\left(\\log{\\left(x \\right)} + \\frac{1}{x^{2}}\\right)\\, dx = x \\log{\\left(x \\right)} - x - \\frac{1}{x}$"
      ],
      "text/plain": [
       "Eq(Integral(log(x) + x**(-2), x), x*log(x) - x - 1/x)"
      ]
     },
     "metadata": {},
     "output_type": "display_data"
    },
    {
     "data": {
      "text/latex": [
       "$\\displaystyle \\frac{d}{d x} \\left(\\log{\\left(x \\right)} + \\frac{1}{x}\\right) = \\frac{1}{x} - \\frac{1}{x^{2}}$"
      ],
      "text/plain": [
       "Eq(Derivative(log(x) + 1/x, x), 1/x - 1/x**2)"
      ]
     },
     "metadata": {},
     "output_type": "display_data"
    },
    {
     "data": {
      "text/latex": [
       "$\\displaystyle \\int \\left(- 2 x^{4} + 4 x - 4\\right)\\, dx = - \\frac{2 x^{5}}{5} + 2 x^{2} - 4 x$"
      ],
      "text/plain": [
       "Eq(Integral(-2*x**4 + 4*x - 4, x), -2*x**5/5 + 2*x**2 - 4*x)"
      ]
     },
     "metadata": {},
     "output_type": "display_data"
    },
    {
     "data": {
      "text/latex": [
       "$\\displaystyle \\frac{d}{d x} \\sqrt[3]{x^{4}} = \\frac{4 \\sqrt[3]{x^{4}}}{3 x}$"
      ],
      "text/plain": [
       "Eq(Derivative((x**4)**(1/3), x), 4*(x**4)**(1/3)/(3*x))"
      ]
     },
     "metadata": {},
     "output_type": "display_data"
    },
    {
     "data": {
      "text/latex": [
       "$\\displaystyle \\int \\left(\\sqrt{x} - x^{3}\\right)\\, dx = \\frac{2 x^{\\frac{3}{2}}}{3} - \\frac{x^{4}}{4}$"
      ],
      "text/plain": [
       "Eq(Integral(sqrt(x) - x**3, x), 2*x**(3/2)/3 - x**4/4)"
      ]
     },
     "metadata": {},
     "output_type": "display_data"
    },
    {
     "data": {
      "text/latex": [
       "$\\displaystyle \\frac{d}{d x} \\tan{\\left(\\tan{\\left(x \\right)} \\right)} = \\left(\\tan^{2}{\\left(x \\right)} + 1\\right) \\left(\\tan^{2}{\\left(\\tan{\\left(x \\right)} \\right)} + 1\\right)$"
      ],
      "text/plain": [
       "Eq(Derivative(tan(tan(x)), x), (tan(x)**2 + 1)*(tan(tan(x))**2 + 1))"
      ]
     },
     "metadata": {},
     "output_type": "display_data"
    },
    {
     "data": {
      "text/latex": [
       "$\\displaystyle \\int \\left(\\sqrt{x} + \\cos{\\left(x \\right)}\\right)\\, dx = \\frac{2 x^{\\frac{3}{2}}}{3} + \\sin{\\left(x \\right)}$"
      ],
      "text/plain": [
       "Eq(Integral(sqrt(x) + cos(x), x), 2*x**(3/2)/3 + sin(x))"
      ]
     },
     "metadata": {},
     "output_type": "display_data"
    },
    {
     "data": {
      "text/latex": [
       "$\\displaystyle \\frac{d}{d x} \\left(\\sqrt[3]{x} - \\sin{\\left(x \\right)}\\right) = - \\cos{\\left(x \\right)} + \\frac{1}{3 x^{\\frac{2}{3}}}$"
      ],
      "text/plain": [
       "Eq(Derivative(x**(1/3) - sin(x), x), -cos(x) + 1/(3*x**(2/3)))"
      ]
     },
     "metadata": {},
     "output_type": "display_data"
    },
    {
     "data": {
      "text/latex": [
       "$\\displaystyle \\int \\log{\\left(- x \\right)}\\, dx = x \\log{\\left(- x \\right)} - x$"
      ],
      "text/plain": [
       "Eq(Integral(log(-x), x), x*log(-x) - x)"
      ]
     },
     "metadata": {},
     "output_type": "display_data"
    },
    {
     "data": {
      "text/latex": [
       "$\\displaystyle \\frac{d}{d x} \\frac{\\cos{\\left(x \\right)}}{x} = - \\frac{\\sin{\\left(x \\right)}}{x} - \\frac{\\cos{\\left(x \\right)}}{x^{2}}$"
      ],
      "text/plain": [
       "Eq(Derivative(cos(x)/x, x), -sin(x)/x - cos(x)/x**2)"
      ]
     },
     "metadata": {},
     "output_type": "display_data"
    },
    {
     "data": {
      "text/latex": [
       "$\\displaystyle \\int \\left(x^{3} + \\cos{\\left(x \\right)}\\right)\\, dx = \\frac{x^{4}}{4} + \\sin{\\left(x \\right)}$"
      ],
      "text/plain": [
       "Eq(Integral(x**3 + cos(x), x), x**4/4 + sin(x))"
      ]
     },
     "metadata": {},
     "output_type": "display_data"
    },
    {
     "data": {
      "text/latex": [
       "$\\displaystyle \\frac{d}{d x} \\cos{\\left(\\sqrt[3]{x} \\right)} = - \\frac{\\sin{\\left(\\sqrt[3]{x} \\right)}}{3 x^{\\frac{2}{3}}}$"
      ],
      "text/plain": [
       "Eq(Derivative(cos(x**(1/3)), x), -sin(x**(1/3))/(3*x**(2/3)))"
      ]
     },
     "metadata": {},
     "output_type": "display_data"
    },
    {
     "data": {
      "text/latex": [
       "$\\displaystyle \\int \\left(x^{3} + 4 x\\right)\\, dx = \\frac{x^{4}}{4} + 2 x^{2}$"
      ],
      "text/plain": [
       "Eq(Integral(x**3 + 4*x, x), x**4/4 + 2*x**2)"
      ]
     },
     "metadata": {},
     "output_type": "display_data"
    },
    {
     "data": {
      "text/latex": [
       "$\\displaystyle \\frac{d}{d x} \\left(- \\cos{\\left(x \\right)} + \\tan{\\left(x \\right)}\\right) = \\sin{\\left(x \\right)} + \\tan^{2}{\\left(x \\right)} + 1$"
      ],
      "text/plain": [
       "Eq(Derivative(-cos(x) + tan(x), x), sin(x) + tan(x)**2 + 1)"
      ]
     },
     "metadata": {},
     "output_type": "display_data"
    },
    {
     "data": {
      "text/latex": [
       "$\\displaystyle \\int \\left(- x^{2} + 4 x - 6\\right)\\, dx = - \\frac{x^{3}}{3} + 2 x^{2} - 6 x$"
      ],
      "text/plain": [
       "Eq(Integral(-x**2 + 4*x - 6, x), -x**3/3 + 2*x**2 - 6*x)"
      ]
     },
     "metadata": {},
     "output_type": "display_data"
    },
    {
     "data": {
      "text/latex": [
       "$\\displaystyle \\frac{d}{d x} \\left(\\tan{\\left(x \\right)} - \\frac{1}{x}\\right) = \\tan^{2}{\\left(x \\right)} + 1 + \\frac{1}{x^{2}}$"
      ],
      "text/plain": [
       "Eq(Derivative(tan(x) - 1/x, x), tan(x)**2 + 1 + x**(-2))"
      ]
     },
     "metadata": {},
     "output_type": "display_data"
    },
    {
     "data": {
      "text/latex": [
       "$\\displaystyle \\int \\left(- 2 x + e^{x}\\right)\\, dx = - x^{2} + e^{x}$"
      ],
      "text/plain": [
       "Eq(Integral(-2*x + exp(x), x), -x**2 + exp(x))"
      ]
     },
     "metadata": {},
     "output_type": "display_data"
    },
    {
     "data": {
      "text/latex": [
       "$\\displaystyle \\frac{d}{d x} \\left(- \\sin{\\left(x \\right)} + \\tan{\\left(x \\right)}\\right) = - \\cos{\\left(x \\right)} + \\tan^{2}{\\left(x \\right)} + 1$"
      ],
      "text/plain": [
       "Eq(Derivative(-sin(x) + tan(x), x), -cos(x) + tan(x)**2 + 1)"
      ]
     },
     "metadata": {},
     "output_type": "display_data"
    },
    {
     "data": {
      "text/latex": [
       "$\\displaystyle \\int \\left(- e^{x} + \\sin{\\left(x \\right)}\\right)\\, dx = - e^{x} - \\cos{\\left(x \\right)}$"
      ],
      "text/plain": [
       "Eq(Integral(-exp(x) + sin(x), x), -exp(x) - cos(x))"
      ]
     },
     "metadata": {},
     "output_type": "display_data"
    },
    {
     "data": {
      "text/latex": [
       "$\\displaystyle \\frac{d}{d x} \\left(3 - 7 x\\right) = -7$"
      ],
      "text/plain": [
       "Eq(Derivative(3 - 7*x, x), -7)"
      ]
     },
     "metadata": {},
     "output_type": "display_data"
    },
    {
     "data": {
      "text/latex": [
       "$\\displaystyle \\int \\sqrt[3]{\\frac{1}{x^{4}}}\\, dx = - 3 x \\sqrt[3]{\\frac{1}{x^{4}}}$"
      ],
      "text/plain": [
       "Eq(Integral((x**(-4))**(1/3), x), -3*x*(x**(-4))**(1/3))"
      ]
     },
     "metadata": {},
     "output_type": "display_data"
    },
    {
     "data": {
      "text/latex": [
       "$\\displaystyle \\frac{d}{d x} \\left(- \\sqrt{x}\\right) = - \\frac{1}{2 \\sqrt{x}}$"
      ],
      "text/plain": [
       "Eq(Derivative(-sqrt(x), x), -1/(2*sqrt(x)))"
      ]
     },
     "metadata": {},
     "output_type": "display_data"
    },
    {
     "data": {
      "text/latex": [
       "$\\displaystyle \\int \\left(x - \\tan{\\left(x \\right)} - 2\\right)\\, dx = \\frac{x^{2}}{2} - 2 x + \\log{\\left(\\cos{\\left(x \\right)} \\right)}$"
      ],
      "text/plain": [
       "Eq(Integral(x - tan(x) - 2, x), x**2/2 - 2*x + log(cos(x)))"
      ]
     },
     "metadata": {},
     "output_type": "display_data"
    },
    {
     "data": {
      "text/latex": [
       "$\\displaystyle \\frac{d}{d x} \\left(x + e^{x} - 1\\right) = e^{x} + 1$"
      ],
      "text/plain": [
       "Eq(Derivative(x + exp(x) - 1, x), exp(x) + 1)"
      ]
     },
     "metadata": {},
     "output_type": "display_data"
    },
    {
     "data": {
      "text/latex": [
       "$\\displaystyle \\int \\left(x + 3\\right)\\, dx = \\frac{x^{2}}{2} + 3 x$"
      ],
      "text/plain": [
       "Eq(Integral(x + 3, x), x**2/2 + 3*x)"
      ]
     },
     "metadata": {},
     "output_type": "display_data"
    },
    {
     "data": {
      "text/latex": [
       "$\\displaystyle \\frac{d}{d x} \\log{\\left(\\sqrt[3]{x} \\right)} = \\frac{1}{3 x}$"
      ],
      "text/plain": [
       "Eq(Derivative(log(x**(1/3)), x), 1/(3*x))"
      ]
     },
     "metadata": {},
     "output_type": "display_data"
    },
    {
     "data": {
      "text/latex": [
       "$\\displaystyle \\int \\frac{\\tan{\\left(x \\right)}}{\\sqrt{x}}\\, dx = \\int \\frac{\\tan{\\left(x \\right)}}{\\sqrt{x}}\\, dx$"
      ],
      "text/plain": [
       "Eq(Integral(tan(x)/sqrt(x), x), Integral(tan(x)/sqrt(x), x))"
      ]
     },
     "metadata": {},
     "output_type": "display_data"
    },
    {
     "data": {
      "text/latex": [
       "$\\displaystyle \\frac{d}{d x} \\left(6 x - 4 + \\frac{1}{x^{3}}\\right) = 6 - \\frac{3}{x^{4}}$"
      ],
      "text/plain": [
       "Eq(Derivative(6*x - 4 + x**(-3), x), 6 - 3/x**4)"
      ]
     },
     "metadata": {},
     "output_type": "display_data"
    },
    {
     "data": {
      "text/latex": [
       "$\\displaystyle \\int \\left(e^{x} + \\frac{1}{x^{3}}\\right)\\, dx = e^{x} - \\frac{1}{2 x^{2}}$"
      ],
      "text/plain": [
       "Eq(Integral(exp(x) + x**(-3), x), exp(x) - 1/(2*x**2))"
      ]
     },
     "metadata": {},
     "output_type": "display_data"
    },
    {
     "data": {
      "text/latex": [
       "$\\displaystyle \\frac{d}{d x} \\left(\\sqrt[3]{x} + \\cos{\\left(x \\right)}\\right) = - \\sin{\\left(x \\right)} + \\frac{1}{3 x^{\\frac{2}{3}}}$"
      ],
      "text/plain": [
       "Eq(Derivative(x**(1/3) + cos(x), x), -sin(x) + 1/(3*x**(2/3)))"
      ]
     },
     "metadata": {},
     "output_type": "display_data"
    },
    {
     "data": {
      "text/latex": [
       "$\\displaystyle \\int x^{3} e^{x}\\, dx = \\left(x^{3} - 3 x^{2} + 6 x - 6\\right) e^{x}$"
      ],
      "text/plain": [
       "Eq(Integral(x**3*exp(x), x), (x**3 - 3*x**2 + 6*x - 6)*exp(x))"
      ]
     },
     "metadata": {},
     "output_type": "display_data"
    },
    {
     "data": {
      "text/latex": [
       "$\\displaystyle \\frac{d}{d x} 3 x = 3$"
      ],
      "text/plain": [
       "Eq(Derivative(3*x, x), 3)"
      ]
     },
     "metadata": {},
     "output_type": "display_data"
    },
    {
     "data": {
      "text/latex": [
       "$\\displaystyle \\int \\frac{- x - 5 + \\frac{1}{x^{4}}}{\\tan{\\left(x \\right)}}\\, dx = - \\int \\left(- \\frac{1}{x^{4} \\tan{\\left(x \\right)}}\\right)\\, dx - \\int \\frac{x}{\\tan{\\left(x \\right)}}\\, dx - \\int \\frac{5}{\\tan{\\left(x \\right)}}\\, dx$"
      ],
      "text/plain": [
       "Eq(Integral((-x - 5 + x**(-4))/tan(x), x), -Integral(-1/(x**4*tan(x)), x) - Integral(x/tan(x), x) - Integral(5/tan(x), x))"
      ]
     },
     "metadata": {},
     "output_type": "display_data"
    },
    {
     "data": {
      "text/latex": [
       "$\\displaystyle \\frac{d}{d x} \\sqrt[3]{\\tan{\\left(x \\right)}} = \\frac{\\frac{\\tan^{2}{\\left(x \\right)}}{3} + \\frac{1}{3}}{\\tan^{\\frac{2}{3}}{\\left(x \\right)}}$"
      ],
      "text/plain": [
       "Eq(Derivative(tan(x)**(1/3), x), (tan(x)**2/3 + 1/3)/tan(x)**(2/3))"
      ]
     },
     "metadata": {},
     "output_type": "display_data"
    },
    {
     "data": {
      "text/latex": [
       "$\\displaystyle \\int \\left(- 64 x^{3}\\right)\\, dx = - 16 x^{4}$"
      ],
      "text/plain": [
       "Eq(Integral(-64*x**3, x), -16*x**4)"
      ]
     },
     "metadata": {},
     "output_type": "display_data"
    },
    {
     "data": {
      "text/latex": [
       "$\\displaystyle \\frac{d}{d x} \\left(\\log{\\left(x \\right)} - \\tan{\\left(x \\right)}\\right) = - \\tan^{2}{\\left(x \\right)} - 1 + \\frac{1}{x}$"
      ],
      "text/plain": [
       "Eq(Derivative(log(x) - tan(x), x), -tan(x)**2 - 1 + 1/x)"
      ]
     },
     "metadata": {},
     "output_type": "display_data"
    },
    {
     "data": {
      "text/latex": [
       "$\\displaystyle \\int \\left(- \\frac{e^{x}}{3 x}\\right)\\, dx = - \\frac{\\operatorname{Ei}{\\left(x \\right)}}{3}$"
      ],
      "text/plain": [
       "Eq(Integral(-exp(x)/(3*x), x), -Ei(x)/3)"
      ]
     },
     "metadata": {},
     "output_type": "display_data"
    },
    {
     "data": {
      "text/latex": [
       "$\\displaystyle \\frac{d}{d x} \\sqrt[3]{\\sin{\\left(x \\right)}} = \\frac{\\cos{\\left(x \\right)}}{3 \\sin^{\\frac{2}{3}}{\\left(x \\right)}}$"
      ],
      "text/plain": [
       "Eq(Derivative(sin(x)**(1/3), x), cos(x)/(3*sin(x)**(2/3)))"
      ]
     },
     "metadata": {},
     "output_type": "display_data"
    },
    {
     "data": {
      "text/latex": [
       "$\\displaystyle \\int \\frac{1}{x^{3} \\cos{\\left(x \\right)}}\\, dx = \\int \\frac{1}{x^{3} \\cos{\\left(x \\right)}}\\, dx$"
      ],
      "text/plain": [
       "Eq(Integral(1/(x**3*cos(x)), x), Integral(1/(x**3*cos(x)), x))"
      ]
     },
     "metadata": {},
     "output_type": "display_data"
    },
    {
     "data": {
      "text/latex": [
       "$\\displaystyle \\frac{d}{d x} \\left(- 2 x + \\sin{\\left(x \\right)}\\right) = \\cos{\\left(x \\right)} - 2$"
      ],
      "text/plain": [
       "Eq(Derivative(-2*x + sin(x), x), cos(x) - 2)"
      ]
     },
     "metadata": {},
     "output_type": "display_data"
    },
    {
     "data": {
      "text/latex": [
       "$\\displaystyle \\int \\left(x^{3} - 3 x - 3\\right)\\, dx = \\frac{x^{4}}{4} - \\frac{3 x^{2}}{2} - 3 x$"
      ],
      "text/plain": [
       "Eq(Integral(x**3 - 3*x - 3, x), x**4/4 - 3*x**2/2 - 3*x)"
      ]
     },
     "metadata": {},
     "output_type": "display_data"
    },
    {
     "data": {
      "text/latex": [
       "$\\displaystyle \\frac{d}{d x} \\left(1 - 4 x\\right) = -4$"
      ],
      "text/plain": [
       "Eq(Derivative(1 - 4*x, x), -4)"
      ]
     },
     "metadata": {},
     "output_type": "display_data"
    },
    {
     "data": {
      "text/latex": [
       "$\\displaystyle \\int \\cos{\\left(\\sqrt{x} \\right)}\\, dx = 2 \\sqrt{x} \\sin{\\left(\\sqrt{x} \\right)} + 2 \\cos{\\left(\\sqrt{x} \\right)}$"
      ],
      "text/plain": [
       "Eq(Integral(cos(sqrt(x)), x), 2*sqrt(x)*sin(sqrt(x)) + 2*cos(sqrt(x)))"
      ]
     },
     "metadata": {},
     "output_type": "display_data"
    },
    {
     "data": {
      "text/latex": [
       "$\\displaystyle \\frac{d}{d x} \\left(- 3 \\tan{\\left(x \\right)}\\right) = - 3 \\tan^{2}{\\left(x \\right)} - 3$"
      ],
      "text/plain": [
       "Eq(Derivative(-3*tan(x), x), -3*tan(x)**2 - 3)"
      ]
     },
     "metadata": {},
     "output_type": "display_data"
    },
    {
     "data": {
      "text/latex": [
       "$\\displaystyle \\int 0\\, dx = 0$"
      ],
      "text/plain": [
       "Eq(Integral(0, x), 0)"
      ]
     },
     "metadata": {},
     "output_type": "display_data"
    },
    {
     "data": {
      "text/latex": [
       "$\\displaystyle \\frac{d}{d x} \\left(- 2 x - e^{x}\\right) = - e^{x} - 2$"
      ],
      "text/plain": [
       "Eq(Derivative(-2*x - exp(x), x), -exp(x) - 2)"
      ]
     },
     "metadata": {},
     "output_type": "display_data"
    },
    {
     "data": {
      "text/latex": [
       "$\\displaystyle \\int \\frac{e^{x}}{x - 4}\\, dx = \\int \\frac{e^{x}}{x - 4}\\, dx$"
      ],
      "text/plain": [
       "Eq(Integral(exp(x)/(x - 4), x), Integral(exp(x)/(x - 4), x))"
      ]
     },
     "metadata": {},
     "output_type": "display_data"
    },
    {
     "data": {
      "text/latex": [
       "$\\displaystyle \\frac{d}{d x} \\frac{\\log{\\left(x \\right)}}{\\cos{\\left(x \\right)}} = \\frac{\\log{\\left(x \\right)} \\sin{\\left(x \\right)}}{\\cos^{2}{\\left(x \\right)}} + \\frac{1}{x \\cos{\\left(x \\right)}}$"
      ],
      "text/plain": [
       "Eq(Derivative(log(x)/cos(x), x), log(x)*sin(x)/cos(x)**2 + 1/(x*cos(x)))"
      ]
     },
     "metadata": {},
     "output_type": "display_data"
    },
    {
     "data": {
      "text/latex": [
       "$\\displaystyle \\int \\left(- \\sin{\\left(x \\right)} + \\frac{1}{x}\\right)\\, dx = \\log{\\left(x \\right)} + \\cos{\\left(x \\right)}$"
      ],
      "text/plain": [
       "Eq(Integral(-sin(x) + 1/x, x), log(x) + cos(x))"
      ]
     },
     "metadata": {},
     "output_type": "display_data"
    },
    {
     "data": {
      "text/latex": [
       "$\\displaystyle \\frac{d}{d x} \\left(1 - \\sin{\\left(x \\right)}\\right) = - \\cos{\\left(x \\right)}$"
      ],
      "text/plain": [
       "Eq(Derivative(1 - sin(x), x), -cos(x))"
      ]
     },
     "metadata": {},
     "output_type": "display_data"
    },
    {
     "data": {
      "text/latex": [
       "$\\displaystyle \\int \\left(e^{x} + \\sin{\\left(x \\right)}\\right)\\, dx = e^{x} - \\cos{\\left(x \\right)}$"
      ],
      "text/plain": [
       "Eq(Integral(exp(x) + sin(x), x), exp(x) - cos(x))"
      ]
     },
     "metadata": {},
     "output_type": "display_data"
    },
    {
     "data": {
      "text/latex": [
       "$\\displaystyle \\frac{d}{d x} e^{- x} \\log{\\left(x \\right)} = - e^{- x} \\log{\\left(x \\right)} + \\frac{e^{- x}}{x}$"
      ],
      "text/plain": [
       "Eq(Derivative(exp(-x)*log(x), x), -exp(-x)*log(x) + exp(-x)/x)"
      ]
     },
     "metadata": {},
     "output_type": "display_data"
    },
    {
     "data": {
      "text/latex": [
       "$\\displaystyle \\int \\frac{\\cos{\\left(x \\right)}}{\\log{\\left(x \\right)}}\\, dx = \\int \\frac{\\cos{\\left(x \\right)}}{\\log{\\left(x \\right)}}\\, dx$"
      ],
      "text/plain": [
       "Eq(Integral(cos(x)/log(x), x), Integral(cos(x)/log(x), x))"
      ]
     },
     "metadata": {},
     "output_type": "display_data"
    },
    {
     "data": {
      "text/latex": [
       "$\\displaystyle \\frac{d}{d x} \\frac{\\cos{\\left(x \\right)}}{\\log{\\left(x \\right)}} = - \\frac{\\sin{\\left(x \\right)}}{\\log{\\left(x \\right)}} - \\frac{\\cos{\\left(x \\right)}}{x \\log{\\left(x \\right)}^{2}}$"
      ],
      "text/plain": [
       "Eq(Derivative(cos(x)/log(x), x), -sin(x)/log(x) - cos(x)/(x*log(x)**2))"
      ]
     },
     "metadata": {},
     "output_type": "display_data"
    },
    {
     "data": {
      "text/latex": [
       "$\\displaystyle \\int \\log{\\left(- 3 x \\right)}\\, dx = x \\log{\\left(- 3 x \\right)} - x$"
      ],
      "text/plain": [
       "Eq(Integral(log(-3*x), x), x*log(-3*x) - x)"
      ]
     },
     "metadata": {},
     "output_type": "display_data"
    },
    {
     "data": {
      "text/latex": [
       "$\\displaystyle \\frac{d}{d x} \\left(x + \\cos{\\left(x \\right)}\\right) = 1 - \\sin{\\left(x \\right)}$"
      ],
      "text/plain": [
       "Eq(Derivative(x + cos(x), x), 1 - sin(x))"
      ]
     },
     "metadata": {},
     "output_type": "display_data"
    },
    {
     "data": {
      "text/latex": [
       "$\\displaystyle \\int \\log{\\left(\\sqrt[3]{x} \\right)}\\, dx = x \\log{\\left(\\sqrt[3]{x} \\right)} - \\frac{x}{3}$"
      ],
      "text/plain": [
       "Eq(Integral(log(x**(1/3)), x), x*log(x**(1/3)) - x/3)"
      ]
     },
     "metadata": {},
     "output_type": "display_data"
    },
    {
     "data": {
      "text/latex": [
       "$\\displaystyle \\frac{d}{d x} \\left(- 3 x + 2 + \\frac{1}{x}\\right) = -3 - \\frac{1}{x^{2}}$"
      ],
      "text/plain": [
       "Eq(Derivative(-3*x + 2 + 1/x, x), -3 - 1/x**2)"
      ]
     },
     "metadata": {},
     "output_type": "display_data"
    },
    {
     "data": {
      "text/latex": [
       "$\\displaystyle \\int \\left(\\cos{\\left(x \\right)} + \\tan{\\left(x \\right)}\\right)\\, dx = - \\log{\\left(\\cos{\\left(x \\right)} \\right)} + \\sin{\\left(x \\right)}$"
      ],
      "text/plain": [
       "Eq(Integral(cos(x) + tan(x), x), -log(cos(x)) + sin(x))"
      ]
     },
     "metadata": {},
     "output_type": "display_data"
    },
    {
     "data": {
      "text/latex": [
       "$\\displaystyle \\frac{d}{d x} \\sqrt[3]{x} e^{- x} = - \\sqrt[3]{x} e^{- x} + \\frac{e^{- x}}{3 x^{\\frac{2}{3}}}$"
      ],
      "text/plain": [
       "Eq(Derivative(x**(1/3)*exp(-x), x), -x**(1/3)*exp(-x) + exp(-x)/(3*x**(2/3)))"
      ]
     },
     "metadata": {},
     "output_type": "display_data"
    },
    {
     "data": {
      "text/latex": [
       "$\\displaystyle \\int \\left(- 4 x^{\\frac{2}{3}}\\right)\\, dx = - \\frac{12 x^{\\frac{5}{3}}}{5}$"
      ],
      "text/plain": [
       "Eq(Integral(-4*x**(2/3), x), -12*x**(5/3)/5)"
      ]
     },
     "metadata": {},
     "output_type": "display_data"
    },
    {
     "data": {
      "text/latex": [
       "$\\displaystyle \\frac{d}{d x} \\left(- \\frac{\\tan{\\left(x \\right)}}{4 x}\\right) = - \\frac{\\tan^{2}{\\left(x \\right)} + 1}{4 x} + \\frac{\\tan{\\left(x \\right)}}{4 x^{2}}$"
      ],
      "text/plain": [
       "Eq(Derivative(-tan(x)/(4*x), x), -(tan(x)**2 + 1)/(4*x) + tan(x)/(4*x**2))"
      ]
     },
     "metadata": {},
     "output_type": "display_data"
    },
    {
     "data": {
      "text/latex": [
       "$\\displaystyle \\int \\left(\\sin{\\left(x \\right)} + \\cos{\\left(x \\right)}\\right)\\, dx = \\sin{\\left(x \\right)} - \\cos{\\left(x \\right)}$"
      ],
      "text/plain": [
       "Eq(Integral(sin(x) + cos(x), x), sin(x) - cos(x))"
      ]
     },
     "metadata": {},
     "output_type": "display_data"
    },
    {
     "data": {
      "text/latex": [
       "$\\displaystyle \\frac{d}{d x} \\left(- 3 x - 1\\right) = -3$"
      ],
      "text/plain": [
       "Eq(Derivative(-3*x - 1, x), -3)"
      ]
     },
     "metadata": {},
     "output_type": "display_data"
    },
    {
     "data": {
      "text/latex": [
       "$\\displaystyle \\int \\left(2 \\sqrt{x} + x - 4\\right)\\, dx = \\frac{4 x^{\\frac{3}{2}}}{3} + \\frac{x^{2}}{2} - 4 x$"
      ],
      "text/plain": [
       "Eq(Integral(2*sqrt(x) + x - 4, x), 4*x**(3/2)/3 + x**2/2 - 4*x)"
      ]
     },
     "metadata": {},
     "output_type": "display_data"
    },
    {
     "data": {
      "text/latex": [
       "$\\displaystyle \\frac{d}{d x} \\left(- \\sin{\\left(x \\right)} + \\cos{\\left(x \\right)}\\right) = - \\sin{\\left(x \\right)} - \\cos{\\left(x \\right)}$"
      ],
      "text/plain": [
       "Eq(Derivative(-sin(x) + cos(x), x), -sin(x) - cos(x))"
      ]
     },
     "metadata": {},
     "output_type": "display_data"
    },
    {
     "data": {
      "text/latex": [
       "$\\displaystyle \\int \\tan{\\left(\\sqrt{x} \\right)}\\, dx = \\int \\tan{\\left(\\sqrt{x} \\right)}\\, dx$"
      ],
      "text/plain": [
       "Eq(Integral(tan(sqrt(x)), x), Integral(tan(sqrt(x)), x))"
      ]
     },
     "metadata": {},
     "output_type": "display_data"
    },
    {
     "data": {
      "text/latex": [
       "$\\displaystyle \\frac{d}{d x} \\left(- 2 \\sqrt{x}\\right) = - \\frac{1}{\\sqrt{x}}$"
      ],
      "text/plain": [
       "Eq(Derivative(-2*sqrt(x), x), -1/sqrt(x))"
      ]
     },
     "metadata": {},
     "output_type": "display_data"
    },
    {
     "data": {
      "text/latex": [
       "$\\displaystyle \\int \\frac{\\log{\\left(x \\right)}}{\\sqrt[3]{x}}\\, dx = \\begin{cases} \\frac{3 x^{\\frac{2}{3}} \\log{\\left(x \\right)}}{2} - \\frac{9 x^{\\frac{2}{3}}}{4} & \\text{for}\\: \\left|{x}\\right| < 1 \\\\- \\frac{3 x^{\\frac{2}{3}} \\log{\\left(\\frac{1}{x} \\right)}}{2} - \\frac{9 x^{\\frac{2}{3}}}{4} & \\text{for}\\: \\frac{1}{\\left|{x}\\right|} < 1 \\\\- {G_{3, 3}^{2, 1}\\left(\\begin{matrix} 1 & \\frac{5}{3}, \\frac{5}{3} \\\\\\frac{2}{3}, \\frac{2}{3} & 0 \\end{matrix} \\middle| {x} \\right)} + {G_{3, 3}^{0, 3}\\left(\\begin{matrix} \\frac{5}{3}, \\frac{5}{3}, 1 &  \\\\ & \\frac{2}{3}, \\frac{2}{3}, 0 \\end{matrix} \\middle| {x} \\right)} & \\text{otherwise} \\end{cases}$"
      ],
      "text/plain": [
       "Eq(Integral(log(x)/x**(1/3), x), Piecewise((3*x**(2/3)*log(x)/2 - 9*x**(2/3)/4, Abs(x) < 1), (-3*x**(2/3)*log(1/x)/2 - 9*x**(2/3)/4, 1/Abs(x) < 1), (-meijerg(((1,), (5/3, 5/3)), ((2/3, 2/3), (0,)), x) + meijerg(((5/3, 5/3, 1), ()), ((), (2/3, 2/3, 0)), x), True)))"
      ]
     },
     "metadata": {},
     "output_type": "display_data"
    },
    {
     "data": {
      "text/latex": [
       "$\\displaystyle \\frac{d}{d x} \\left(\\sqrt{x} + \\log{\\left(x \\right)}\\right) = \\frac{1}{x} + \\frac{1}{2 \\sqrt{x}}$"
      ],
      "text/plain": [
       "Eq(Derivative(sqrt(x) + log(x), x), 1/x + 1/(2*sqrt(x)))"
      ]
     },
     "metadata": {},
     "output_type": "display_data"
    },
    {
     "data": {
      "text/latex": [
       "$\\displaystyle \\int \\frac{x - 2}{\\sin{\\left(x \\right)}}\\, dx = \\int \\frac{x - 2}{\\sin{\\left(x \\right)}}\\, dx$"
      ],
      "text/plain": [
       "Eq(Integral((x - 2)/sin(x), x), Integral((x - 2)/sin(x), x))"
      ]
     },
     "metadata": {},
     "output_type": "display_data"
    },
    {
     "data": {
      "text/latex": [
       "$\\displaystyle \\frac{d}{d x} \\left(\\sqrt{x} - 3\\right) = \\frac{1}{2 \\sqrt{x}}$"
      ],
      "text/plain": [
       "Eq(Derivative(sqrt(x) - 3, x), 1/(2*sqrt(x)))"
      ]
     },
     "metadata": {},
     "output_type": "display_data"
    },
    {
     "data": {
      "text/latex": [
       "$\\displaystyle \\int \\left(- 4 x - 4 + \\frac{1}{x^{2}}\\right)\\, dx = - 2 x^{2} - 4 x - \\frac{1}{x}$"
      ],
      "text/plain": [
       "Eq(Integral(-4*x - 4 + x**(-2), x), -2*x**2 - 4*x - 1/x)"
      ]
     },
     "metadata": {},
     "output_type": "display_data"
    },
    {
     "data": {
      "text/latex": [
       "$\\displaystyle \\frac{d}{d x} \\left(x + 4\\right)^{4} = 4 \\left(x + 4\\right)^{3}$"
      ],
      "text/plain": [
       "Eq(Derivative((x + 4)**4, x), 4*(x + 4)**3)"
      ]
     },
     "metadata": {},
     "output_type": "display_data"
    },
    {
     "data": {
      "text/latex": [
       "$\\displaystyle \\int \\left(- x + e^{x} - 3\\right)\\, dx = - \\frac{x^{2}}{2} - 3 x + e^{x}$"
      ],
      "text/plain": [
       "Eq(Integral(-x + exp(x) - 3, x), -x**2/2 - 3*x + exp(x))"
      ]
     },
     "metadata": {},
     "output_type": "display_data"
    },
    {
     "data": {
      "text/latex": [
       "$\\displaystyle \\frac{d}{d x} \\left(e^{x} + \\tan{\\left(x \\right)}\\right) = e^{x} + \\tan^{2}{\\left(x \\right)} + 1$"
      ],
      "text/plain": [
       "Eq(Derivative(exp(x) + tan(x), x), exp(x) + tan(x)**2 + 1)"
      ]
     },
     "metadata": {},
     "output_type": "display_data"
    },
    {
     "data": {
      "text/latex": [
       "$\\displaystyle \\int \\left(- \\sqrt[3]{x} + \\sin{\\left(x \\right)}\\right)\\, dx = - \\frac{3 x^{\\frac{4}{3}}}{4} - \\cos{\\left(x \\right)}$"
      ],
      "text/plain": [
       "Eq(Integral(-x**(1/3) + sin(x), x), -3*x**(4/3)/4 - cos(x))"
      ]
     },
     "metadata": {},
     "output_type": "display_data"
    },
    {
     "data": {
      "text/latex": [
       "$\\displaystyle \\frac{d}{d x} \\log{\\left(\\frac{1}{x} \\right)} = - \\frac{1}{x}$"
      ],
      "text/plain": [
       "Eq(Derivative(log(1/x), x), -1/x)"
      ]
     },
     "metadata": {},
     "output_type": "display_data"
    },
    {
     "data": {
      "text/latex": [
       "$\\displaystyle \\int \\sqrt[6]{x}\\, dx = \\frac{6 x^{\\frac{7}{6}}}{7}$"
      ],
      "text/plain": [
       "Eq(Integral(x**(1/6), x), 6*x**(7/6)/7)"
      ]
     },
     "metadata": {},
     "output_type": "display_data"
    },
    {
     "data": {
      "text/latex": [
       "$\\displaystyle \\frac{d}{d x} \\log{\\left(x - 2 \\right)} = \\frac{1}{x - 2}$"
      ],
      "text/plain": [
       "Eq(Derivative(log(x - 2), x), 1/(x - 2))"
      ]
     },
     "metadata": {},
     "output_type": "display_data"
    },
    {
     "data": {
      "text/latex": [
       "$\\displaystyle \\int \\left(2 x + \\frac{1}{x}\\right)\\, dx = x^{2} + \\log{\\left(x \\right)}$"
      ],
      "text/plain": [
       "Eq(Integral(2*x + 1/x, x), x**2 + log(x))"
      ]
     },
     "metadata": {},
     "output_type": "display_data"
    },
    {
     "data": {
      "text/latex": [
       "$\\displaystyle \\frac{d}{d x} e^{\\frac{1}{x^{4}}} = - \\frac{4 e^{\\frac{1}{x^{4}}}}{x^{5}}$"
      ],
      "text/plain": [
       "Eq(Derivative(exp(x**(-4)), x), -4*exp(x**(-4))/x**5)"
      ]
     },
     "metadata": {},
     "output_type": "display_data"
    },
    {
     "data": {
      "text/latex": [
       "$\\displaystyle \\int \\sqrt[3]{3} \\sqrt[3]{- x}\\, dx = - \\frac{3 \\sqrt[3]{3} \\left(- x\\right)^{\\frac{4}{3}}}{4}$"
      ],
      "text/plain": [
       "Eq(Integral(3**(1/3)*(-x)**(1/3), x), -3*3**(1/3)*(-x)**(4/3)/4)"
      ]
     },
     "metadata": {},
     "output_type": "display_data"
    },
    {
     "data": {
      "text/latex": [
       "$\\displaystyle \\frac{d}{d x} \\frac{1}{x} = - \\frac{1}{x^{2}}$"
      ],
      "text/plain": [
       "Eq(Derivative(1/x, x), -1/x**2)"
      ]
     },
     "metadata": {},
     "output_type": "display_data"
    },
    {
     "data": {
      "text/latex": [
       "$\\displaystyle \\int \\frac{x - 5}{\\cos{\\left(x \\right)}}\\, dx = \\int \\frac{x - 5}{\\cos{\\left(x \\right)}}\\, dx$"
      ],
      "text/plain": [
       "Eq(Integral((x - 5)/cos(x), x), Integral((x - 5)/cos(x), x))"
      ]
     },
     "metadata": {},
     "output_type": "display_data"
    },
    {
     "data": {
      "text/latex": [
       "$\\displaystyle \\frac{d}{d x} \\frac{x + 1}{\\cos{\\left(x \\right)}} = \\frac{\\left(x + 1\\right) \\sin{\\left(x \\right)}}{\\cos^{2}{\\left(x \\right)}} + \\frac{1}{\\cos{\\left(x \\right)}}$"
      ],
      "text/plain": [
       "Eq(Derivative((x + 1)/cos(x), x), (x + 1)*sin(x)/cos(x)**2 + 1/cos(x))"
      ]
     },
     "metadata": {},
     "output_type": "display_data"
    },
    {
     "data": {
      "text/latex": [
       "$\\displaystyle \\int \\left(x^{4} + \\sin{\\left(x \\right)}\\right)\\, dx = \\frac{x^{5}}{5} - \\cos{\\left(x \\right)}$"
      ],
      "text/plain": [
       "Eq(Integral(x**4 + sin(x), x), x**5/5 - cos(x))"
      ]
     },
     "metadata": {},
     "output_type": "display_data"
    },
    {
     "data": {
      "text/latex": [
       "$\\displaystyle \\frac{d}{d x} \\left(- 3 x - \\cos{\\left(x \\right)}\\right) = \\sin{\\left(x \\right)} - 3$"
      ],
      "text/plain": [
       "Eq(Derivative(-3*x - cos(x), x), sin(x) - 3)"
      ]
     },
     "metadata": {},
     "output_type": "display_data"
    },
    {
     "data": {
      "text/latex": [
       "$\\displaystyle \\int \\left(\\sqrt[3]{x} + \\tan{\\left(x \\right)}\\right)\\, dx = \\frac{3 x^{\\frac{4}{3}}}{4} - \\log{\\left(\\cos{\\left(x \\right)} \\right)}$"
      ],
      "text/plain": [
       "Eq(Integral(x**(1/3) + tan(x), x), 3*x**(4/3)/4 - log(cos(x)))"
      ]
     },
     "metadata": {},
     "output_type": "display_data"
    },
    {
     "data": {
      "text/latex": [
       "$\\displaystyle \\frac{d}{d x} \\left(- 2 x e^{- x}\\right) = 2 x e^{- x} - 2 e^{- x}$"
      ],
      "text/plain": [
       "Eq(Derivative(-2*x*exp(-x), x), 2*x*exp(-x) - 2*exp(-x))"
      ]
     },
     "metadata": {},
     "output_type": "display_data"
    },
    {
     "data": {
      "text/latex": [
       "$\\displaystyle \\int \\left(- e^{x} + \\frac{1}{x^{4}}\\right)\\, dx = - e^{x} - \\frac{1}{3 x^{3}}$"
      ],
      "text/plain": [
       "Eq(Integral(-exp(x) + x**(-4), x), -exp(x) - 1/(3*x**3))"
      ]
     },
     "metadata": {},
     "output_type": "display_data"
    },
    {
     "data": {
      "text/latex": [
       "$\\displaystyle \\frac{d}{d x} \\left(\\sqrt{x} + \\frac{1}{x^{2}}\\right) = - \\frac{2}{x^{3}} + \\frac{1}{2 \\sqrt{x}}$"
      ],
      "text/plain": [
       "Eq(Derivative(sqrt(x) + x**(-2), x), -2/x**3 + 1/(2*sqrt(x)))"
      ]
     },
     "metadata": {},
     "output_type": "display_data"
    },
    {
     "data": {
      "text/latex": [
       "$\\displaystyle \\int \\frac{1}{x^{\\frac{2}{3}}}\\, dx = 3 \\sqrt[3]{x}$"
      ],
      "text/plain": [
       "Eq(Integral(x**(-2/3), x), 3*x**(1/3))"
      ]
     },
     "metadata": {},
     "output_type": "display_data"
    },
    {
     "data": {
      "text/latex": [
       "$\\displaystyle \\frac{d}{d x} \\left(-4 + \\frac{1}{x} + \\frac{1}{x^{3}}\\right) = - \\frac{1}{x^{2}} - \\frac{3}{x^{4}}$"
      ],
      "text/plain": [
       "Eq(Derivative(-4 + 1/x + x**(-3), x), -1/x**2 - 3/x**4)"
      ]
     },
     "metadata": {},
     "output_type": "display_data"
    },
    {
     "data": {
      "text/latex": [
       "$\\displaystyle \\int \\left(\\sqrt[3]{x} - 2 x\\right)\\, dx = \\frac{3 x^{\\frac{4}{3}}}{4} - x^{2}$"
      ],
      "text/plain": [
       "Eq(Integral(x**(1/3) - 2*x, x), 3*x**(4/3)/4 - x**2)"
      ]
     },
     "metadata": {},
     "output_type": "display_data"
    },
    {
     "data": {
      "text/latex": [
       "$\\displaystyle \\frac{d}{d x} \\sqrt[3]{- x} = \\frac{\\sqrt[3]{- x}}{3 x}$"
      ],
      "text/plain": [
       "Eq(Derivative((-x)**(1/3), x), (-x)**(1/3)/(3*x))"
      ]
     },
     "metadata": {},
     "output_type": "display_data"
    },
    {
     "data": {
      "text/latex": [
       "$\\displaystyle \\int \\sqrt{x^{4}}\\, dx = \\frac{x^{3}}{3}$"
      ],
      "text/plain": [
       "Eq(Integral(sqrt(x**4), x), x**3/3)"
      ]
     },
     "metadata": {},
     "output_type": "display_data"
    },
    {
     "data": {
      "text/latex": [
       "$\\displaystyle \\frac{d}{d x} \\left(- 3 x\\right) = -3$"
      ],
      "text/plain": [
       "Eq(Derivative(-3*x, x), -3)"
      ]
     },
     "metadata": {},
     "output_type": "display_data"
    },
    {
     "data": {
      "text/latex": [
       "$\\displaystyle \\int \\tan{\\left(\\frac{1}{x^{3}} \\right)}\\, dx = \\int \\tan{\\left(\\frac{1}{x^{3}} \\right)}\\, dx$"
      ],
      "text/plain": [
       "Eq(Integral(tan(x**(-3)), x), Integral(tan(x**(-3)), x))"
      ]
     },
     "metadata": {},
     "output_type": "display_data"
    },
    {
     "data": {
      "text/latex": [
       "$\\displaystyle \\frac{d}{d x} \\left(\\log{\\left(x \\right)} - \\sin{\\left(x \\right)}\\right) = - \\cos{\\left(x \\right)} + \\frac{1}{x}$"
      ],
      "text/plain": [
       "Eq(Derivative(log(x) - sin(x), x), -cos(x) + 1/x)"
      ]
     },
     "metadata": {},
     "output_type": "display_data"
    },
    {
     "data": {
      "text/latex": [
       "$\\displaystyle \\int \\frac{x - 1}{\\tan{\\left(x \\right)}}\\, dx = \\int \\frac{x - 1}{\\tan{\\left(x \\right)}}\\, dx$"
      ],
      "text/plain": [
       "Eq(Integral((x - 1)/tan(x), x), Integral((x - 1)/tan(x), x))"
      ]
     },
     "metadata": {},
     "output_type": "display_data"
    },
    {
     "data": {
      "text/latex": [
       "$\\displaystyle \\frac{d}{d x} \\left(- 3 e^{x}\\right) = - 3 e^{x}$"
      ],
      "text/plain": [
       "Eq(Derivative(-3*exp(x), x), -3*exp(x))"
      ]
     },
     "metadata": {},
     "output_type": "display_data"
    },
    {
     "data": {
      "text/latex": [
       "$\\displaystyle \\int \\left(3 x + \\log{\\left(x \\right)}\\right)\\, dx = \\frac{3 x^{2}}{2} + x \\log{\\left(x \\right)} - x$"
      ],
      "text/plain": [
       "Eq(Integral(3*x + log(x), x), 3*x**2/2 + x*log(x) - x)"
      ]
     },
     "metadata": {},
     "output_type": "display_data"
    },
    {
     "data": {
      "text/latex": [
       "$\\displaystyle \\frac{d}{d x} \\frac{\\log{\\left(x \\right)}}{\\sqrt{x}} = - \\frac{\\log{\\left(x \\right)}}{2 x^{\\frac{3}{2}}} + \\frac{1}{x^{\\frac{3}{2}}}$"
      ],
      "text/plain": [
       "Eq(Derivative(log(x)/sqrt(x), x), -log(x)/(2*x**(3/2)) + x**(-3/2))"
      ]
     },
     "metadata": {},
     "output_type": "display_data"
    },
    {
     "data": {
      "text/latex": [
       "$\\displaystyle \\int \\left(\\sqrt{x} + 2 x + 3 + \\frac{1}{x^{2}}\\right)\\, dx = \\frac{2 x^{\\frac{3}{2}}}{3} + x^{2} + 3 x - \\frac{1}{x}$"
      ],
      "text/plain": [
       "Eq(Integral(sqrt(x) + 2*x + 3 + x**(-2), x), 2*x**(3/2)/3 + x**2 + 3*x - 1/x)"
      ]
     },
     "metadata": {},
     "output_type": "display_data"
    },
    {
     "data": {
      "text/latex": [
       "$\\displaystyle \\frac{d}{d x} \\frac{1}{x^{\\frac{5}{2}}} = - \\frac{5}{2 x^{\\frac{7}{2}}}$"
      ],
      "text/plain": [
       "Eq(Derivative(x**(-5/2), x), -5/(2*x**(7/2)))"
      ]
     },
     "metadata": {},
     "output_type": "display_data"
    },
    {
     "data": {
      "text/latex": [
       "$\\displaystyle \\int \\left(e^{x} - \\sin{\\left(x \\right)}\\right)\\, dx = e^{x} + \\cos{\\left(x \\right)}$"
      ],
      "text/plain": [
       "Eq(Integral(exp(x) - sin(x), x), exp(x) + cos(x))"
      ]
     },
     "metadata": {},
     "output_type": "display_data"
    },
    {
     "data": {
      "text/latex": [
       "$\\displaystyle \\frac{d}{d x} \\frac{\\cos{\\left(x \\right)}}{x - 1} = - \\frac{\\sin{\\left(x \\right)}}{x - 1} - \\frac{\\cos{\\left(x \\right)}}{\\left(x - 1\\right)^{2}}$"
      ],
      "text/plain": [
       "Eq(Derivative(cos(x)/(x - 1), x), -sin(x)/(x - 1) - cos(x)/(x - 1)**2)"
      ]
     },
     "metadata": {},
     "output_type": "display_data"
    },
    {
     "data": {
      "text/latex": [
       "$\\displaystyle \\int e^{\\sin{\\left(x \\right)}}\\, dx = \\int e^{\\sin{\\left(x \\right)}}\\, dx$"
      ],
      "text/plain": [
       "Eq(Integral(exp(sin(x)), x), Integral(exp(sin(x)), x))"
      ]
     },
     "metadata": {},
     "output_type": "display_data"
    },
    {
     "data": {
      "text/latex": [
       "$\\displaystyle \\frac{d}{d x} \\left(- x + e^{x}\\right) = e^{x} - 1$"
      ],
      "text/plain": [
       "Eq(Derivative(-x + exp(x), x), exp(x) - 1)"
      ]
     },
     "metadata": {},
     "output_type": "display_data"
    },
    {
     "data": {
      "text/latex": [
       "$\\displaystyle \\int \\left(- \\log{\\left(x \\right)} + \\tan{\\left(x \\right)}\\right)\\, dx = - x \\log{\\left(x \\right)} + x - \\log{\\left(\\cos{\\left(x \\right)} \\right)}$"
      ],
      "text/plain": [
       "Eq(Integral(-log(x) + tan(x), x), -x*log(x) + x - log(cos(x)))"
      ]
     },
     "metadata": {},
     "output_type": "display_data"
    },
    {
     "data": {
      "text/latex": [
       "$\\displaystyle \\frac{d}{d x} \\left(\\tan^{2}{\\left(x \\right)} - 2 \\tan{\\left(x \\right)} + 3\\right) = \\left(2 \\tan^{2}{\\left(x \\right)} + 2\\right) \\tan{\\left(x \\right)} - 2 \\tan^{2}{\\left(x \\right)} - 2$"
      ],
      "text/plain": [
       "Eq(Derivative(tan(x)**2 - 2*tan(x) + 3, x), (2*tan(x)**2 + 2)*tan(x) - 2*tan(x)**2 - 2)"
      ]
     },
     "metadata": {},
     "output_type": "display_data"
    },
    {
     "data": {
      "text/latex": [
       "$\\displaystyle \\int \\left(- \\sqrt[3]{x} + x - 5\\right)\\, dx = - \\frac{3 x^{\\frac{4}{3}}}{4} + \\frac{x^{2}}{2} - 5 x$"
      ],
      "text/plain": [
       "Eq(Integral(-x**(1/3) + x - 5, x), -3*x**(4/3)/4 + x**2/2 - 5*x)"
      ]
     },
     "metadata": {},
     "output_type": "display_data"
    },
    {
     "data": {
      "text/latex": [
       "$\\displaystyle \\frac{d}{d x} \\left(\\sqrt{x} + x + 2\\right) = 1 + \\frac{1}{2 \\sqrt{x}}$"
      ],
      "text/plain": [
       "Eq(Derivative(sqrt(x) + x + 2, x), 1 + 1/(2*sqrt(x)))"
      ]
     },
     "metadata": {},
     "output_type": "display_data"
    },
    {
     "data": {
      "text/latex": [
       "$\\displaystyle \\int \\left(x^{4} + 2 x + \\tan{\\left(x \\right)} - 5\\right)\\, dx = \\frac{x^{5}}{5} + x^{2} - 5 x - \\log{\\left(\\cos{\\left(x \\right)} \\right)}$"
      ],
      "text/plain": [
       "Eq(Integral(x**4 + 2*x + tan(x) - 5, x), x**5/5 + x**2 - 5*x - log(cos(x)))"
      ]
     },
     "metadata": {},
     "output_type": "display_data"
    },
    {
     "data": {
      "text/latex": [
       "$\\displaystyle \\frac{d}{d x} e^{\\cos{\\left(x \\right)}} = - e^{\\cos{\\left(x \\right)}} \\sin{\\left(x \\right)}$"
      ],
      "text/plain": [
       "Eq(Derivative(exp(cos(x)), x), -exp(cos(x))*sin(x))"
      ]
     },
     "metadata": {},
     "output_type": "display_data"
    },
    {
     "data": {
      "text/latex": [
       "$\\displaystyle \\int \\frac{\\sin{\\left(x \\right)}}{\\cos{\\left(x \\right)}}\\, dx = - \\log{\\left(\\cos{\\left(x \\right)} \\right)}$"
      ],
      "text/plain": [
       "Eq(Integral(sin(x)/cos(x), x), -log(cos(x)))"
      ]
     },
     "metadata": {},
     "output_type": "display_data"
    },
    {
     "data": {
      "text/latex": [
       "$\\displaystyle \\frac{d}{d x} \\frac{\\sqrt{x}}{\\tan{\\left(x \\right)}} = \\frac{\\sqrt{x} \\left(- \\tan^{2}{\\left(x \\right)} - 1\\right)}{\\tan^{2}{\\left(x \\right)}} + \\frac{1}{2 \\sqrt{x} \\tan{\\left(x \\right)}}$"
      ],
      "text/plain": [
       "Eq(Derivative(sqrt(x)/tan(x), x), sqrt(x)*(-tan(x)**2 - 1)/tan(x)**2 + 1/(2*sqrt(x)*tan(x)))"
      ]
     },
     "metadata": {},
     "output_type": "display_data"
    },
    {
     "data": {
      "text/latex": [
       "$\\displaystyle \\int \\left(- \\log{\\left(x \\right)} + \\sin{\\left(x \\right)}\\right)\\, dx = - x \\log{\\left(x \\right)} + x - \\cos{\\left(x \\right)}$"
      ],
      "text/plain": [
       "Eq(Integral(-log(x) + sin(x), x), -x*log(x) + x - cos(x))"
      ]
     },
     "metadata": {},
     "output_type": "display_data"
    },
    {
     "data": {
      "text/latex": [
       "$\\displaystyle \\frac{d}{d x} \\frac{- x - 1 + \\frac{1}{x^{3}}}{x - 3} = \\frac{-1 - \\frac{3}{x^{4}}}{x - 3} - \\frac{- x - 1 + \\frac{1}{x^{3}}}{\\left(x - 3\\right)^{2}}$"
      ],
      "text/plain": [
       "Eq(Derivative((-x - 1 + x**(-3))/(x - 3), x), (-1 - 3/x**4)/(x - 3) - (-x - 1 + x**(-3))/(x - 3)**2)"
      ]
     },
     "metadata": {},
     "output_type": "display_data"
    },
    {
     "data": {
      "text/latex": [
       "$\\displaystyle \\int \\left(- 2 x^{\\frac{2}{3}}\\right)\\, dx = - \\frac{6 x^{\\frac{5}{3}}}{5}$"
      ],
      "text/plain": [
       "Eq(Integral(-2*x**(2/3), x), -6*x**(5/3)/5)"
      ]
     },
     "metadata": {},
     "output_type": "display_data"
    },
    {
     "data": {
      "text/latex": [
       "$\\displaystyle \\frac{d}{d x} \\left(x - \\tan{\\left(x \\right)} + 2\\right) = - \\tan^{2}{\\left(x \\right)}$"
      ],
      "text/plain": [
       "Eq(Derivative(x - tan(x) + 2, x), -tan(x)**2)"
      ]
     },
     "metadata": {},
     "output_type": "display_data"
    },
    {
     "data": {
      "text/latex": [
       "$\\displaystyle \\int \\left(1 + \\frac{1}{x^{3}}\\right)\\, dx = x - \\frac{1}{2 x^{2}}$"
      ],
      "text/plain": [
       "Eq(Integral(1 + x**(-3), x), x - 1/(2*x**2))"
      ]
     },
     "metadata": {},
     "output_type": "display_data"
    },
    {
     "data": {
      "text/latex": [
       "$\\displaystyle \\frac{d}{d x} \\left(x + \\tan{\\left(x \\right)} + 3\\right) = \\tan^{2}{\\left(x \\right)} + 2$"
      ],
      "text/plain": [
       "Eq(Derivative(x + tan(x) + 3, x), tan(x)**2 + 2)"
      ]
     },
     "metadata": {},
     "output_type": "display_data"
    },
    {
     "data": {
      "text/latex": [
       "$\\displaystyle \\int \\left(- \\sin{\\left(x \\right)} - 3 + \\frac{1}{\\sin^{4}{\\left(x \\right)}}\\right)\\, dx = - 3 x + \\cos{\\left(x \\right)} - \\frac{2 \\cos{\\left(x \\right)}}{3 \\sin{\\left(x \\right)}} - \\frac{\\cos{\\left(x \\right)}}{3 \\sin^{3}{\\left(x \\right)}}$"
      ],
      "text/plain": [
       "Eq(Integral(-sin(x) - 3 + sin(x)**(-4), x), -3*x + cos(x) - 2*cos(x)/(3*sin(x)) - cos(x)/(3*sin(x)**3))"
      ]
     },
     "metadata": {},
     "output_type": "display_data"
    },
    {
     "data": {
      "text/latex": [
       "$\\displaystyle \\frac{d}{d x} \\left(- x + \\sin{\\left(x \\right)} + 5\\right) = \\cos{\\left(x \\right)} - 1$"
      ],
      "text/plain": [
       "Eq(Derivative(-x + sin(x) + 5, x), cos(x) - 1)"
      ]
     },
     "metadata": {},
     "output_type": "display_data"
    },
    {
     "data": {
      "text/latex": [
       "$\\displaystyle \\int \\left(\\sqrt[3]{x} + \\sqrt{x}\\right)\\, dx = \\frac{3 x^{\\frac{4}{3}}}{4} + \\frac{2 x^{\\frac{3}{2}}}{3}$"
      ],
      "text/plain": [
       "Eq(Integral(x**(1/3) + sqrt(x), x), 3*x**(4/3)/4 + 2*x**(3/2)/3)"
      ]
     },
     "metadata": {},
     "output_type": "display_data"
    },
    {
     "data": {
      "text/latex": [
       "$\\displaystyle \\frac{d}{d x} \\frac{1}{\\sqrt[3]{x}} = - \\frac{1}{3 x^{\\frac{4}{3}}}$"
      ],
      "text/plain": [
       "Eq(Derivative(x**(-1/3), x), -1/(3*x**(4/3)))"
      ]
     },
     "metadata": {},
     "output_type": "display_data"
    },
    {
     "data": {
      "text/latex": [
       "$\\displaystyle \\int \\left(- \\sqrt[3]{x} + e^{x}\\right)\\, dx = - \\frac{3 x^{\\frac{4}{3}}}{4} + e^{x}$"
      ],
      "text/plain": [
       "Eq(Integral(-x**(1/3) + exp(x), x), -3*x**(4/3)/4 + exp(x))"
      ]
     },
     "metadata": {},
     "output_type": "display_data"
    },
    {
     "data": {
      "text/latex": [
       "$\\displaystyle \\frac{d}{d x} \\left(2 x + \\cos{\\left(x \\right)}\\right) = 2 - \\sin{\\left(x \\right)}$"
      ],
      "text/plain": [
       "Eq(Derivative(2*x + cos(x), x), 2 - sin(x))"
      ]
     },
     "metadata": {},
     "output_type": "display_data"
    },
    {
     "data": {
      "text/latex": [
       "$\\displaystyle \\int \\left(- \\sqrt{x} + \\sin{\\left(x \\right)}\\right)\\, dx = - \\frac{2 x^{\\frac{3}{2}}}{3} - \\cos{\\left(x \\right)}$"
      ],
      "text/plain": [
       "Eq(Integral(-sqrt(x) + sin(x), x), -2*x**(3/2)/3 - cos(x))"
      ]
     },
     "metadata": {},
     "output_type": "display_data"
    },
    {
     "data": {
      "text/latex": [
       "$\\displaystyle \\frac{d}{d x} \\frac{1}{x^{\\frac{9}{2}}} = - \\frac{9}{2 x^{\\frac{11}{2}}}$"
      ],
      "text/plain": [
       "Eq(Derivative(x**(-9/2), x), -9/(2*x**(11/2)))"
      ]
     },
     "metadata": {},
     "output_type": "display_data"
    },
    {
     "data": {
      "text/latex": [
       "$\\displaystyle \\int \\left(4 x + 1\\right)\\, dx = 2 x^{2} + x$"
      ],
      "text/plain": [
       "Eq(Integral(4*x + 1, x), 2*x**2 + x)"
      ]
     },
     "metadata": {},
     "output_type": "display_data"
    },
    {
     "data": {
      "text/latex": [
       "$\\displaystyle \\frac{d}{d x} \\sqrt{\\sin{\\left(x \\right)}} = \\frac{\\cos{\\left(x \\right)}}{2 \\sqrt{\\sin{\\left(x \\right)}}}$"
      ],
      "text/plain": [
       "Eq(Derivative(sqrt(sin(x)), x), cos(x)/(2*sqrt(sin(x))))"
      ]
     },
     "metadata": {},
     "output_type": "display_data"
    },
    {
     "data": {
      "text/latex": [
       "$\\displaystyle \\int \\left(\\cos{\\left(x \\right)} + 1\\right)\\, dx = x + \\sin{\\left(x \\right)}$"
      ],
      "text/plain": [
       "Eq(Integral(cos(x) + 1, x), x + sin(x))"
      ]
     },
     "metadata": {},
     "output_type": "display_data"
    },
    {
     "data": {
      "text/latex": [
       "$\\displaystyle \\frac{d}{d x} \\tan{\\left(\\log{\\left(x \\right)} \\right)} = \\frac{\\tan^{2}{\\left(\\log{\\left(x \\right)} \\right)} + 1}{x}$"
      ],
      "text/plain": [
       "Eq(Derivative(tan(log(x)), x), (tan(log(x))**2 + 1)/x)"
      ]
     },
     "metadata": {},
     "output_type": "display_data"
    },
    {
     "data": {
      "text/latex": [
       "$\\displaystyle \\int x e^{- x}\\, dx = \\left(- x - 1\\right) e^{- x}$"
      ],
      "text/plain": [
       "Eq(Integral(x*exp(-x), x), (-x - 1)*exp(-x))"
      ]
     },
     "metadata": {},
     "output_type": "display_data"
    },
    {
     "data": {
      "text/latex": [
       "$\\displaystyle \\frac{d}{d x} \\left(\\sqrt{x} + \\tan{\\left(x \\right)}\\right) = \\tan^{2}{\\left(x \\right)} + 1 + \\frac{1}{2 \\sqrt{x}}$"
      ],
      "text/plain": [
       "Eq(Derivative(sqrt(x) + tan(x), x), tan(x)**2 + 1 + 1/(2*sqrt(x)))"
      ]
     },
     "metadata": {},
     "output_type": "display_data"
    },
    {
     "data": {
      "text/latex": [
       "$\\displaystyle \\int \\left(- \\sqrt[3]{x} + \\cos{\\left(x \\right)}\\right)\\, dx = - \\frac{3 x^{\\frac{4}{3}}}{4} + \\sin{\\left(x \\right)}$"
      ],
      "text/plain": [
       "Eq(Integral(-x**(1/3) + cos(x), x), -3*x**(4/3)/4 + sin(x))"
      ]
     },
     "metadata": {},
     "output_type": "display_data"
    },
    {
     "data": {
      "text/latex": [
       "$\\displaystyle \\frac{d}{d x} \\left(x + \\cos{\\left(x \\right)} - 4\\right) = 1 - \\sin{\\left(x \\right)}$"
      ],
      "text/plain": [
       "Eq(Derivative(x + cos(x) - 4, x), 1 - sin(x))"
      ]
     },
     "metadata": {},
     "output_type": "display_data"
    },
    {
     "data": {
      "text/latex": [
       "$\\displaystyle \\int \\left(\\sin{\\left(x \\right)} - 3\\right)\\, dx = - 3 x - \\cos{\\left(x \\right)}$"
      ],
      "text/plain": [
       "Eq(Integral(sin(x) - 3, x), -3*x - cos(x))"
      ]
     },
     "metadata": {},
     "output_type": "display_data"
    },
    {
     "data": {
      "text/latex": [
       "$\\displaystyle \\frac{d}{d x} \\left(x - 7\\right) = 1$"
      ],
      "text/plain": [
       "Eq(Derivative(x - 7, x), 1)"
      ]
     },
     "metadata": {},
     "output_type": "display_data"
    },
    {
     "data": {
      "text/latex": [
       "$\\displaystyle \\int \\left(\\sqrt[3]{x} - \\sqrt{x}\\right)\\, dx = \\frac{3 x^{\\frac{4}{3}}}{4} - \\frac{2 x^{\\frac{3}{2}}}{3}$"
      ],
      "text/plain": [
       "Eq(Integral(x**(1/3) - sqrt(x), x), 3*x**(4/3)/4 - 2*x**(3/2)/3)"
      ]
     },
     "metadata": {},
     "output_type": "display_data"
    },
    {
     "data": {
      "text/latex": [
       "$\\displaystyle \\frac{d}{d x} \\left(- x - \\log{\\left(x \\right)} + 3 + \\frac{1}{x^{2}}\\right) = -1 - \\frac{1}{x} - \\frac{2}{x^{3}}$"
      ],
      "text/plain": [
       "Eq(Derivative(-x - log(x) + 3 + x**(-2), x), -1 - 1/x - 2/x**3)"
      ]
     },
     "metadata": {},
     "output_type": "display_data"
    },
    {
     "data": {
      "text/latex": [
       "$\\displaystyle \\int \\frac{\\cos{\\left(x \\right)}}{\\sqrt{x}}\\, dx = \\frac{\\sqrt{2} \\sqrt{\\pi} C\\left(\\frac{\\sqrt{2} \\sqrt{x}}{\\sqrt{\\pi}}\\right) \\Gamma\\left(\\frac{1}{4}\\right)}{4 \\Gamma\\left(\\frac{5}{4}\\right)}$"
      ],
      "text/plain": [
       "Eq(Integral(cos(x)/sqrt(x), x), sqrt(2)*sqrt(pi)*fresnelc(sqrt(2)*sqrt(x)/sqrt(pi))*gamma(1/4)/(4*gamma(5/4)))"
      ]
     },
     "metadata": {},
     "output_type": "display_data"
    },
    {
     "data": {
      "text/latex": [
       "$\\displaystyle \\frac{d}{d x} \\left(e^{x} - \\sin{\\left(x \\right)}\\right) = e^{x} - \\cos{\\left(x \\right)}$"
      ],
      "text/plain": [
       "Eq(Derivative(exp(x) - sin(x), x), exp(x) - cos(x))"
      ]
     },
     "metadata": {},
     "output_type": "display_data"
    },
    {
     "data": {
      "text/latex": [
       "$\\displaystyle \\int \\left(4 x - 4 - \\frac{1}{27 x^{3}}\\right)\\, dx = 2 x^{2} - 4 x + \\frac{1}{54 x^{2}}$"
      ],
      "text/plain": [
       "Eq(Integral(4*x - 4 - 1/(27*x**3), x), 2*x**2 - 4*x + 1/(54*x**2))"
      ]
     },
     "metadata": {},
     "output_type": "display_data"
    },
    {
     "data": {
      "text/latex": [
       "$\\displaystyle \\frac{d}{d x} \\sqrt{\\cos{\\left(x \\right)}} = - \\frac{\\sin{\\left(x \\right)}}{2 \\sqrt{\\cos{\\left(x \\right)}}}$"
      ],
      "text/plain": [
       "Eq(Derivative(sqrt(cos(x)), x), -sin(x)/(2*sqrt(cos(x))))"
      ]
     },
     "metadata": {},
     "output_type": "display_data"
    },
    {
     "data": {
      "text/latex": [
       "$\\displaystyle \\int \\left(\\sqrt[3]{x} - e^{x}\\right)\\, dx = \\frac{3 x^{\\frac{4}{3}}}{4} - e^{x}$"
      ],
      "text/plain": [
       "Eq(Integral(x**(1/3) - exp(x), x), 3*x**(4/3)/4 - exp(x))"
      ]
     },
     "metadata": {},
     "output_type": "display_data"
    },
    {
     "data": {
      "text/latex": [
       "$\\displaystyle \\frac{d}{d x} \\sqrt[3]{\\cos{\\left(x \\right)}} = - \\frac{\\sin{\\left(x \\right)}}{3 \\cos^{\\frac{2}{3}}{\\left(x \\right)}}$"
      ],
      "text/plain": [
       "Eq(Derivative(cos(x)**(1/3), x), -sin(x)/(3*cos(x)**(2/3)))"
      ]
     },
     "metadata": {},
     "output_type": "display_data"
    },
    {
     "data": {
      "text/latex": [
       "$\\displaystyle \\int 2 e^{x}\\, dx = 2 e^{x}$"
      ],
      "text/plain": [
       "Eq(Integral(2*exp(x), x), 2*exp(x))"
      ]
     },
     "metadata": {},
     "output_type": "display_data"
    },
    {
     "data": {
      "text/latex": [
       "$\\displaystyle \\frac{d}{d x} \\left(- \\sin{\\left(x - 1 \\right)}\\right) = - \\cos{\\left(x - 1 \\right)}$"
      ],
      "text/plain": [
       "Eq(Derivative(-sin(x - 1), x), -cos(x - 1))"
      ]
     },
     "metadata": {},
     "output_type": "display_data"
    },
    {
     "data": {
      "text/latex": [
       "$\\displaystyle \\int \\left(x^{3} + e^{x}\\right)\\, dx = \\frac{x^{4}}{4} + e^{x}$"
      ],
      "text/plain": [
       "Eq(Integral(x**3 + exp(x), x), x**4/4 + exp(x))"
      ]
     },
     "metadata": {},
     "output_type": "display_data"
    },
    {
     "data": {
      "text/latex": [
       "$\\displaystyle \\frac{d}{d x} \\left(x - \\sin{\\left(x \\right)} - 5\\right) = 1 - \\cos{\\left(x \\right)}$"
      ],
      "text/plain": [
       "Eq(Derivative(x - sin(x) - 5, x), 1 - cos(x))"
      ]
     },
     "metadata": {},
     "output_type": "display_data"
    },
    {
     "data": {
      "text/latex": [
       "$\\displaystyle \\int x^{2} \\cos{\\left(x \\right)}\\, dx = x^{2} \\sin{\\left(x \\right)} + 2 x \\cos{\\left(x \\right)} - 2 \\sin{\\left(x \\right)}$"
      ],
      "text/plain": [
       "Eq(Integral(x**2*cos(x), x), x**2*sin(x) + 2*x*cos(x) - 2*sin(x))"
      ]
     },
     "metadata": {},
     "output_type": "display_data"
    },
    {
     "data": {
      "text/latex": [
       "$\\displaystyle \\frac{d}{d x} \\left(x^{3} + 2 x - 1\\right) e^{- x} = \\left(3 x^{2} + 2\\right) e^{- x} - \\left(x^{3} + 2 x - 1\\right) e^{- x}$"
      ],
      "text/plain": [
       "Eq(Derivative((x**3 + 2*x - 1)*exp(-x), x), (3*x**2 + 2)*exp(-x) - (x**3 + 2*x - 1)*exp(-x))"
      ]
     },
     "metadata": {},
     "output_type": "display_data"
    },
    {
     "data": {
      "text/latex": [
       "$\\displaystyle \\int x e^{- x}\\, dx = \\left(- x - 1\\right) e^{- x}$"
      ],
      "text/plain": [
       "Eq(Integral(x*exp(-x), x), (-x - 1)*exp(-x))"
      ]
     },
     "metadata": {},
     "output_type": "display_data"
    },
    {
     "data": {
      "text/latex": [
       "$\\displaystyle \\frac{d}{d x} e^{- x} \\sin{\\left(x \\right)} = - e^{- x} \\sin{\\left(x \\right)} + e^{- x} \\cos{\\left(x \\right)}$"
      ],
      "text/plain": [
       "Eq(Derivative(exp(-x)*sin(x), x), -exp(-x)*sin(x) + exp(-x)*cos(x))"
      ]
     },
     "metadata": {},
     "output_type": "display_data"
    },
    {
     "data": {
      "text/latex": [
       "$\\displaystyle \\int \\left(x^{4} + x^{3} + 2\\right)\\, dx = \\frac{x^{5}}{5} + \\frac{x^{4}}{4} + 2 x$"
      ],
      "text/plain": [
       "Eq(Integral(x**4 + x**3 + 2, x), x**5/5 + x**4/4 + 2*x)"
      ]
     },
     "metadata": {},
     "output_type": "display_data"
    },
    {
     "data": {
      "text/latex": [
       "$\\displaystyle \\frac{d}{d x} \\frac{1}{\\log{\\left(x \\right)}^{2}} = - \\frac{2}{x \\log{\\left(x \\right)}^{3}}$"
      ],
      "text/plain": [
       "Eq(Derivative(log(x)**(-2), x), -2/(x*log(x)**3))"
      ]
     },
     "metadata": {},
     "output_type": "display_data"
    },
    {
     "data": {
      "text/latex": [
       "$\\displaystyle \\int \\left(e^{x} - \\frac{1}{x^{2}}\\right)\\, dx = e^{x} + \\frac{1}{x}$"
      ],
      "text/plain": [
       "Eq(Integral(exp(x) - 1/x**2, x), exp(x) + 1/x)"
      ]
     },
     "metadata": {},
     "output_type": "display_data"
    },
    {
     "data": {
      "text/latex": [
       "$\\displaystyle \\frac{d}{d x} \\left(x - 3 + \\frac{1}{x^{4}}\\right) = 1 - \\frac{4}{x^{5}}$"
      ],
      "text/plain": [
       "Eq(Derivative(x - 3 + x**(-4), x), 1 - 4/x**5)"
      ]
     },
     "metadata": {},
     "output_type": "display_data"
    },
    {
     "data": {
      "text/latex": [
       "$\\displaystyle \\int \\sqrt[3]{x - 3}\\, dx = \\frac{3 \\left(x - 3\\right)^{\\frac{4}{3}}}{4}$"
      ],
      "text/plain": [
       "Eq(Integral((x - 3)**(1/3), x), 3*(x - 3)**(4/3)/4)"
      ]
     },
     "metadata": {},
     "output_type": "display_data"
    },
    {
     "data": {
      "text/latex": [
       "$\\displaystyle \\frac{d}{d x} \\left(- \\sqrt{x} + \\sin{\\left(x \\right)}\\right) = \\cos{\\left(x \\right)} - \\frac{1}{2 \\sqrt{x}}$"
      ],
      "text/plain": [
       "Eq(Derivative(-sqrt(x) + sin(x), x), cos(x) - 1/(2*sqrt(x)))"
      ]
     },
     "metadata": {},
     "output_type": "display_data"
    },
    {
     "data": {
      "text/latex": [
       "$\\displaystyle \\int \\left(3 x + \\log{\\left(x \\right)} + 1 + \\frac{1}{x^{2}}\\right)\\, dx = \\frac{3 x^{2}}{2} + x \\log{\\left(x \\right)} - \\frac{1}{x}$"
      ],
      "text/plain": [
       "Eq(Integral(3*x + log(x) + 1 + x**(-2), x), 3*x**2/2 + x*log(x) - 1/x)"
      ]
     },
     "metadata": {},
     "output_type": "display_data"
    },
    {
     "data": {
      "text/latex": [
       "$\\displaystyle \\frac{d}{d x} \\left(- \\log{\\left(x \\right)} + \\tan{\\left(x \\right)}\\right) = \\tan^{2}{\\left(x \\right)} + 1 - \\frac{1}{x}$"
      ],
      "text/plain": [
       "Eq(Derivative(-log(x) + tan(x), x), tan(x)**2 + 1 - 1/x)"
      ]
     },
     "metadata": {},
     "output_type": "display_data"
    },
    {
     "data": {
      "text/latex": [
       "$\\displaystyle \\int \\left(3 x + \\log{\\left(x \\right)} - 3 + \\frac{1}{x^{4}}\\right)\\, dx = \\frac{3 x^{2}}{2} + x \\log{\\left(x \\right)} - 4 x - \\frac{1}{3 x^{3}}$"
      ],
      "text/plain": [
       "Eq(Integral(3*x + log(x) - 3 + x**(-4), x), 3*x**2/2 + x*log(x) - 4*x - 1/(3*x**3))"
      ]
     },
     "metadata": {},
     "output_type": "display_data"
    },
    {
     "data": {
      "text/latex": [
       "$\\displaystyle \\frac{d}{d x} \\sin{\\left(x - 3 \\right)} = \\cos{\\left(x - 3 \\right)}$"
      ],
      "text/plain": [
       "Eq(Derivative(sin(x - 3), x), cos(x - 3))"
      ]
     },
     "metadata": {},
     "output_type": "display_data"
    },
    {
     "data": {
      "text/latex": [
       "$\\displaystyle \\int \\left(- 4 \\sqrt{x}\\right)\\, dx = - \\frac{8 x^{\\frac{3}{2}}}{3}$"
      ],
      "text/plain": [
       "Eq(Integral(-4*sqrt(x), x), -8*x**(3/2)/3)"
      ]
     },
     "metadata": {},
     "output_type": "display_data"
    },
    {
     "data": {
      "text/latex": [
       "$\\displaystyle \\frac{d}{d x} \\left(x + \\tan{\\left(x \\right)}\\right) = \\tan^{2}{\\left(x \\right)} + 2$"
      ],
      "text/plain": [
       "Eq(Derivative(x + tan(x), x), tan(x)**2 + 2)"
      ]
     },
     "metadata": {},
     "output_type": "display_data"
    },
    {
     "data": {
      "text/latex": [
       "$\\displaystyle \\int \\left(- \\sqrt{x} + \\sin{\\left(x \\right)}\\right)\\, dx = - \\frac{2 x^{\\frac{3}{2}}}{3} - \\cos{\\left(x \\right)}$"
      ],
      "text/plain": [
       "Eq(Integral(-sqrt(x) + sin(x), x), -2*x**(3/2)/3 - cos(x))"
      ]
     },
     "metadata": {},
     "output_type": "display_data"
    },
    {
     "data": {
      "text/latex": [
       "$\\displaystyle \\frac{d}{d x} \\tan{\\left(e^{x} \\right)} = \\left(\\tan^{2}{\\left(e^{x} \\right)} + 1\\right) e^{x}$"
      ],
      "text/plain": [
       "Eq(Derivative(tan(exp(x)), x), (tan(exp(x))**2 + 1)*exp(x))"
      ]
     },
     "metadata": {},
     "output_type": "display_data"
    },
    {
     "data": {
      "text/latex": [
       "$\\displaystyle \\int \\left(- \\sqrt[3]{x} + \\sqrt{x}\\right)\\, dx = - \\frac{3 x^{\\frac{4}{3}}}{4} + \\frac{2 x^{\\frac{3}{2}}}{3}$"
      ],
      "text/plain": [
       "Eq(Integral(-x**(1/3) + sqrt(x), x), -3*x**(4/3)/4 + 2*x**(3/2)/3)"
      ]
     },
     "metadata": {},
     "output_type": "display_data"
    },
    {
     "data": {
      "text/latex": [
       "$\\displaystyle \\frac{d}{d x} \\left(- x - \\tan{\\left(x \\right)}\\right) = - \\tan^{2}{\\left(x \\right)} - 2$"
      ],
      "text/plain": [
       "Eq(Derivative(-x - tan(x), x), -tan(x)**2 - 2)"
      ]
     },
     "metadata": {},
     "output_type": "display_data"
    },
    {
     "data": {
      "text/latex": [
       "$\\displaystyle \\int 2 e^{x}\\, dx = 2 e^{x}$"
      ],
      "text/plain": [
       "Eq(Integral(2*exp(x), x), 2*exp(x))"
      ]
     },
     "metadata": {},
     "output_type": "display_data"
    },
    {
     "data": {
      "text/latex": [
       "$\\displaystyle \\frac{d}{d x} \\left(\\sqrt{x} + \\tan{\\left(x \\right)}\\right) = \\tan^{2}{\\left(x \\right)} + 1 + \\frac{1}{2 \\sqrt{x}}$"
      ],
      "text/plain": [
       "Eq(Derivative(sqrt(x) + tan(x), x), tan(x)**2 + 1 + 1/(2*sqrt(x)))"
      ]
     },
     "metadata": {},
     "output_type": "display_data"
    },
    {
     "data": {
      "text/latex": [
       "$\\displaystyle \\int 2 x\\, dx = x^{2}$"
      ],
      "text/plain": [
       "Eq(Integral(2*x, x), x**2)"
      ]
     },
     "metadata": {},
     "output_type": "display_data"
    },
    {
     "data": {
      "text/latex": [
       "$\\displaystyle \\frac{d}{d x} \\left(\\sin{\\left(x \\right)} + \\tan{\\left(x \\right)}\\right) = \\cos{\\left(x \\right)} + \\tan^{2}{\\left(x \\right)} + 1$"
      ],
      "text/plain": [
       "Eq(Derivative(sin(x) + tan(x), x), cos(x) + tan(x)**2 + 1)"
      ]
     },
     "metadata": {},
     "output_type": "display_data"
    },
    {
     "data": {
      "text/latex": [
       "$\\displaystyle \\int \\log{\\left(\\sin{\\left(x \\right)} \\right)}\\, dx = \\int \\log{\\left(\\sin{\\left(x \\right)} \\right)}\\, dx$"
      ],
      "text/plain": [
       "Eq(Integral(log(sin(x)), x), Integral(log(sin(x)), x))"
      ]
     },
     "metadata": {},
     "output_type": "display_data"
    },
    {
     "data": {
      "text/latex": [
       "$\\displaystyle \\frac{d}{d x} e^{- x} \\log{\\left(x \\right)} = - e^{- x} \\log{\\left(x \\right)} + \\frac{e^{- x}}{x}$"
      ],
      "text/plain": [
       "Eq(Derivative(exp(-x)*log(x), x), -exp(-x)*log(x) + exp(-x)/x)"
      ]
     },
     "metadata": {},
     "output_type": "display_data"
    },
    {
     "data": {
      "text/latex": [
       "$\\displaystyle \\int \\left(- \\sqrt[3]{x} + \\tan{\\left(x \\right)}\\right)\\, dx = - \\frac{3 x^{\\frac{4}{3}}}{4} - \\log{\\left(\\cos{\\left(x \\right)} \\right)}$"
      ],
      "text/plain": [
       "Eq(Integral(-x**(1/3) + tan(x), x), -3*x**(4/3)/4 - log(cos(x)))"
      ]
     },
     "metadata": {},
     "output_type": "display_data"
    },
    {
     "data": {
      "text/latex": [
       "$\\displaystyle \\frac{d}{d x} \\log{\\left(\\log{\\left(x \\right)} \\right)} = \\frac{1}{x \\log{\\left(x \\right)}}$"
      ],
      "text/plain": [
       "Eq(Derivative(log(log(x)), x), 1/(x*log(x)))"
      ]
     },
     "metadata": {},
     "output_type": "display_data"
    },
    {
     "data": {
      "text/latex": [
       "$\\displaystyle \\int \\left(- \\log{\\left(x \\right)} + \\frac{1}{x^{3}}\\right)\\, dx = - x \\log{\\left(x \\right)} + x - \\frac{1}{2 x^{2}}$"
      ],
      "text/plain": [
       "Eq(Integral(-log(x) + x**(-3), x), -x*log(x) + x - 1/(2*x**2))"
      ]
     },
     "metadata": {},
     "output_type": "display_data"
    },
    {
     "data": {
      "text/latex": [
       "$\\displaystyle \\frac{d}{d x} \\tan{\\left(e^{x} \\right)} = \\left(\\tan^{2}{\\left(e^{x} \\right)} + 1\\right) e^{x}$"
      ],
      "text/plain": [
       "Eq(Derivative(tan(exp(x)), x), (tan(exp(x))**2 + 1)*exp(x))"
      ]
     },
     "metadata": {},
     "output_type": "display_data"
    },
    {
     "data": {
      "text/latex": [
       "$\\displaystyle \\int \\left(- 3 \\sqrt[3]{x} - 5 + \\frac{1}{x^{\\frac{2}{3}}}\\right)\\, dx = - \\frac{9 x^{\\frac{4}{3}}}{4} + 3 \\sqrt[3]{x} - 5 x$"
      ],
      "text/plain": [
       "Eq(Integral(-3*x**(1/3) - 5 + x**(-2/3), x), -9*x**(4/3)/4 + 3*x**(1/3) - 5*x)"
      ]
     },
     "metadata": {},
     "output_type": "display_data"
    },
    {
     "data": {
      "text/latex": [
       "$\\displaystyle \\frac{d}{d x} \\left(- \\sqrt[3]{x} + x^{2}\\right) = 2 x - \\frac{1}{3 x^{\\frac{2}{3}}}$"
      ],
      "text/plain": [
       "Eq(Derivative(-x**(1/3) + x**2, x), 2*x - 1/(3*x**(2/3)))"
      ]
     },
     "metadata": {},
     "output_type": "display_data"
    },
    {
     "data": {
      "text/latex": [
       "$\\displaystyle \\int \\left(- \\sqrt[3]{x} + \\tan{\\left(x \\right)}\\right)\\, dx = - \\frac{3 x^{\\frac{4}{3}}}{4} - \\log{\\left(\\cos{\\left(x \\right)} \\right)}$"
      ],
      "text/plain": [
       "Eq(Integral(-x**(1/3) + tan(x), x), -3*x**(4/3)/4 - log(cos(x)))"
      ]
     },
     "metadata": {},
     "output_type": "display_data"
    },
    {
     "data": {
      "text/latex": [
       "$\\displaystyle \\frac{d}{d x} \\left(\\sqrt[3]{x} + \\frac{1}{x}\\right) = - \\frac{1}{x^{2}} + \\frac{1}{3 x^{\\frac{2}{3}}}$"
      ],
      "text/plain": [
       "Eq(Derivative(x**(1/3) + 1/x, x), -1/x**2 + 1/(3*x**(2/3)))"
      ]
     },
     "metadata": {},
     "output_type": "display_data"
    },
    {
     "data": {
      "text/latex": [
       "$\\displaystyle \\int \\cos{\\left(\\sin{\\left(x \\right)} \\right)}\\, dx = \\int \\cos{\\left(\\sin{\\left(x \\right)} \\right)}\\, dx$"
      ],
      "text/plain": [
       "Eq(Integral(cos(sin(x)), x), Integral(cos(sin(x)), x))"
      ]
     },
     "metadata": {},
     "output_type": "display_data"
    },
    {
     "data": {
      "text/latex": [
       "$\\displaystyle \\frac{d}{d x} \\log{\\left(\\cos{\\left(x \\right)} \\right)} = - \\frac{\\sin{\\left(x \\right)}}{\\cos{\\left(x \\right)}}$"
      ],
      "text/plain": [
       "Eq(Derivative(log(cos(x)), x), -sin(x)/cos(x))"
      ]
     },
     "metadata": {},
     "output_type": "display_data"
    },
    {
     "data": {
      "text/latex": [
       "$\\displaystyle \\int \\frac{2 x + 5}{\\sqrt{x}}\\, dx = \\frac{4 x^{\\frac{3}{2}}}{3} + 10 \\sqrt{x}$"
      ],
      "text/plain": [
       "Eq(Integral((2*x + 5)/sqrt(x), x), 4*x**(3/2)/3 + 10*sqrt(x))"
      ]
     },
     "metadata": {},
     "output_type": "display_data"
    },
    {
     "data": {
      "text/latex": [
       "$\\displaystyle \\frac{d}{d x} \\left(\\sqrt[3]{x} - 2 x\\right) = -2 + \\frac{1}{3 x^{\\frac{2}{3}}}$"
      ],
      "text/plain": [
       "Eq(Derivative(x**(1/3) - 2*x, x), -2 + 1/(3*x**(2/3)))"
      ]
     },
     "metadata": {},
     "output_type": "display_data"
    },
    {
     "data": {
      "text/latex": [
       "$\\displaystyle \\int \\sqrt[3]{x + 2}\\, dx = \\frac{3 \\left(x + 2\\right)^{\\frac{4}{3}}}{4}$"
      ],
      "text/plain": [
       "Eq(Integral((x + 2)**(1/3), x), 3*(x + 2)**(4/3)/4)"
      ]
     },
     "metadata": {},
     "output_type": "display_data"
    },
    {
     "data": {
      "text/latex": [
       "$\\displaystyle \\frac{d}{d x} \\left(\\sqrt[3]{x} + x\\right) = 1 + \\frac{1}{3 x^{\\frac{2}{3}}}$"
      ],
      "text/plain": [
       "Eq(Derivative(x**(1/3) + x, x), 1 + 1/(3*x**(2/3)))"
      ]
     },
     "metadata": {},
     "output_type": "display_data"
    },
    {
     "data": {
      "text/latex": [
       "$\\displaystyle \\int \\left(\\sqrt{x} + x - 3\\right)\\, dx = \\frac{2 x^{\\frac{3}{2}}}{3} + \\frac{x^{2}}{2} - 3 x$"
      ],
      "text/plain": [
       "Eq(Integral(sqrt(x) + x - 3, x), 2*x**(3/2)/3 + x**2/2 - 3*x)"
      ]
     },
     "metadata": {},
     "output_type": "display_data"
    },
    {
     "data": {
      "text/latex": [
       "$\\displaystyle \\frac{d}{d x} \\left(\\cos{\\left(x \\right)} + \\tan{\\left(x \\right)}\\right) = - \\sin{\\left(x \\right)} + \\tan^{2}{\\left(x \\right)} + 1$"
      ],
      "text/plain": [
       "Eq(Derivative(cos(x) + tan(x), x), -sin(x) + tan(x)**2 + 1)"
      ]
     },
     "metadata": {},
     "output_type": "display_data"
    },
    {
     "data": {
      "text/latex": [
       "$\\displaystyle \\int \\left(- x + \\cos{\\left(x \\right)}\\right)\\, dx = - \\frac{x^{2}}{2} + \\sin{\\left(x \\right)}$"
      ],
      "text/plain": [
       "Eq(Integral(-x + cos(x), x), -x**2/2 + sin(x))"
      ]
     },
     "metadata": {},
     "output_type": "display_data"
    },
    {
     "data": {
      "text/latex": [
       "$\\displaystyle \\frac{d}{d x} \\left(- e^{x} + \\frac{1}{x}\\right) = - e^{x} - \\frac{1}{x^{2}}$"
      ],
      "text/plain": [
       "Eq(Derivative(-exp(x) + 1/x, x), -exp(x) - 1/x**2)"
      ]
     },
     "metadata": {},
     "output_type": "display_data"
    },
    {
     "data": {
      "text/latex": [
       "$\\displaystyle \\int \\tan{\\left(e^{x} \\right)}\\, dx = \\int \\tan{\\left(e^{x} \\right)}\\, dx$"
      ],
      "text/plain": [
       "Eq(Integral(tan(exp(x)), x), Integral(tan(exp(x)), x))"
      ]
     },
     "metadata": {},
     "output_type": "display_data"
    },
    {
     "data": {
      "text/latex": [
       "$\\displaystyle \\frac{d}{d x} \\left(\\sin{\\left(x \\right)} + 3\\right) = \\cos{\\left(x \\right)}$"
      ],
      "text/plain": [
       "Eq(Derivative(sin(x) + 3, x), cos(x))"
      ]
     },
     "metadata": {},
     "output_type": "display_data"
    },
    {
     "data": {
      "text/latex": [
       "$\\displaystyle \\int \\left(e^{x} + \\log{\\left(x \\right)}\\right)\\, dx = x \\log{\\left(x \\right)} - x + e^{x}$"
      ],
      "text/plain": [
       "Eq(Integral(exp(x) + log(x), x), x*log(x) - x + exp(x))"
      ]
     },
     "metadata": {},
     "output_type": "display_data"
    },
    {
     "data": {
      "text/latex": [
       "$\\displaystyle \\frac{d}{d x} \\sin{\\left(x \\right)} = \\cos{\\left(x \\right)}$"
      ],
      "text/plain": [
       "Eq(Derivative(sin(x), x), cos(x))"
      ]
     },
     "metadata": {},
     "output_type": "display_data"
    },
    {
     "data": {
      "text/latex": [
       "$\\displaystyle \\int \\left(\\tan{\\left(x \\right)} + 1\\right)\\, dx = x - \\log{\\left(\\cos{\\left(x \\right)} \\right)}$"
      ],
      "text/plain": [
       "Eq(Integral(tan(x) + 1, x), x - log(cos(x)))"
      ]
     },
     "metadata": {},
     "output_type": "display_data"
    },
    {
     "data": {
      "text/latex": [
       "$\\displaystyle \\frac{d}{d x} \\left(\\sqrt[3]{x} + \\sin{\\left(x \\right)}\\right) = \\cos{\\left(x \\right)} + \\frac{1}{3 x^{\\frac{2}{3}}}$"
      ],
      "text/plain": [
       "Eq(Derivative(x**(1/3) + sin(x), x), cos(x) + 1/(3*x**(2/3)))"
      ]
     },
     "metadata": {},
     "output_type": "display_data"
    },
    {
     "data": {
      "text/latex": [
       "$\\displaystyle \\int \\left(- \\sqrt[3]{x} + \\cos{\\left(x \\right)}\\right)\\, dx = - \\frac{3 x^{\\frac{4}{3}}}{4} + \\sin{\\left(x \\right)}$"
      ],
      "text/plain": [
       "Eq(Integral(-x**(1/3) + cos(x), x), -3*x**(4/3)/4 + sin(x))"
      ]
     },
     "metadata": {},
     "output_type": "display_data"
    },
    {
     "data": {
      "text/latex": [
       "$\\displaystyle \\frac{d}{d x} \\left(\\cos^{5}{\\left(x \\right)} - 3 \\cos{\\left(x \\right)} + 3\\right) = - 5 \\sin{\\left(x \\right)} \\cos^{4}{\\left(x \\right)} + 3 \\sin{\\left(x \\right)}$"
      ],
      "text/plain": [
       "Eq(Derivative(cos(x)**5 - 3*cos(x) + 3, x), -5*sin(x)*cos(x)**4 + 3*sin(x))"
      ]
     },
     "metadata": {},
     "output_type": "display_data"
    },
    {
     "data": {
      "text/latex": [
       "$\\displaystyle \\int \\left(\\sqrt[3]{x} - x\\right)\\, dx = \\frac{3 x^{\\frac{4}{3}}}{4} - \\frac{x^{2}}{2}$"
      ],
      "text/plain": [
       "Eq(Integral(x**(1/3) - x, x), 3*x**(4/3)/4 - x**2/2)"
      ]
     },
     "metadata": {},
     "output_type": "display_data"
    },
    {
     "data": {
      "text/latex": [
       "$\\displaystyle \\frac{d}{d x} \\sqrt{x} e^{- x} = - \\sqrt{x} e^{- x} + \\frac{e^{- x}}{2 \\sqrt{x}}$"
      ],
      "text/plain": [
       "Eq(Derivative(sqrt(x)*exp(-x), x), -sqrt(x)*exp(-x) + exp(-x)/(2*sqrt(x)))"
      ]
     },
     "metadata": {},
     "output_type": "display_data"
    },
    {
     "data": {
      "text/latex": [
       "$\\displaystyle \\int \\left(- \\sqrt{x} - 3 x\\right)\\, dx = - \\frac{2 x^{\\frac{3}{2}}}{3} - \\frac{3 x^{2}}{2}$"
      ],
      "text/plain": [
       "Eq(Integral(-sqrt(x) - 3*x, x), -2*x**(3/2)/3 - 3*x**2/2)"
      ]
     },
     "metadata": {},
     "output_type": "display_data"
    },
    {
     "data": {
      "text/latex": [
       "$\\displaystyle \\frac{d}{d x} \\tan{\\left(\\tan{\\left(x \\right)} \\right)} = \\left(\\tan^{2}{\\left(x \\right)} + 1\\right) \\left(\\tan^{2}{\\left(\\tan{\\left(x \\right)} \\right)} + 1\\right)$"
      ],
      "text/plain": [
       "Eq(Derivative(tan(tan(x)), x), (tan(x)**2 + 1)*(tan(tan(x))**2 + 1))"
      ]
     },
     "metadata": {},
     "output_type": "display_data"
    },
    {
     "data": {
      "text/latex": [
       "$\\displaystyle \\int \\sin{\\left(\\log{\\left(x \\right)} \\right)}\\, dx = \\frac{x \\sin{\\left(\\log{\\left(x \\right)} \\right)}}{2} - \\frac{x \\cos{\\left(\\log{\\left(x \\right)} \\right)}}{2}$"
      ],
      "text/plain": [
       "Eq(Integral(sin(log(x)), x), x*sin(log(x))/2 - x*cos(log(x))/2)"
      ]
     },
     "metadata": {},
     "output_type": "display_data"
    },
    {
     "data": {
      "text/latex": [
       "$\\displaystyle \\frac{d}{d x} \\left(\\tan{\\left(x \\right)} + \\frac{1}{x}\\right) = \\tan^{2}{\\left(x \\right)} + 1 - \\frac{1}{x^{2}}$"
      ],
      "text/plain": [
       "Eq(Derivative(tan(x) + 1/x, x), tan(x)**2 + 1 - 1/x**2)"
      ]
     },
     "metadata": {},
     "output_type": "display_data"
    },
    {
     "data": {
      "text/latex": [
       "$\\displaystyle \\int \\left(\\cos{\\left(x \\right)} + \\tan{\\left(x \\right)}\\right)\\, dx = - \\log{\\left(\\cos{\\left(x \\right)} \\right)} + \\sin{\\left(x \\right)}$"
      ],
      "text/plain": [
       "Eq(Integral(cos(x) + tan(x), x), -log(cos(x)) + sin(x))"
      ]
     },
     "metadata": {},
     "output_type": "display_data"
    },
    {
     "data": {
      "text/latex": [
       "$\\displaystyle \\frac{d}{d x} \\left(x^{2} - x - \\sin{\\left(x \\right)} - 4\\right) = 2 x - \\cos{\\left(x \\right)} - 1$"
      ],
      "text/plain": [
       "Eq(Derivative(x**2 - x - sin(x) - 4, x), 2*x - cos(x) - 1)"
      ]
     },
     "metadata": {},
     "output_type": "display_data"
    },
    {
     "data": {
      "text/latex": [
       "$\\displaystyle \\int \\sqrt[3]{e^{x}}\\, dx = 3 \\sqrt[3]{e^{x}}$"
      ],
      "text/plain": [
       "Eq(Integral(exp(x)**(1/3), x), 3*exp(x)**(1/3))"
      ]
     },
     "metadata": {},
     "output_type": "display_data"
    },
    {
     "data": {
      "text/latex": [
       "$\\displaystyle \\frac{d}{d x} \\left(- 2 x + \\left(x + 4\\right)^{2} + 5\\right) = 2 x + 6$"
      ],
      "text/plain": [
       "Eq(Derivative(-2*x + (x + 4)**2 + 5, x), 2*x + 6)"
      ]
     },
     "metadata": {},
     "output_type": "display_data"
    },
    {
     "data": {
      "text/latex": [
       "$\\displaystyle \\int 0\\, dx = 0$"
      ],
      "text/plain": [
       "Eq(Integral(0, x), 0)"
      ]
     },
     "metadata": {},
     "output_type": "display_data"
    },
    {
     "data": {
      "text/latex": [
       "$\\displaystyle \\frac{d}{d x} \\cos{\\left(\\tan{\\left(x \\right)} \\right)} = - \\left(\\tan^{2}{\\left(x \\right)} + 1\\right) \\sin{\\left(\\tan{\\left(x \\right)} \\right)}$"
      ],
      "text/plain": [
       "Eq(Derivative(cos(tan(x)), x), -(tan(x)**2 + 1)*sin(tan(x)))"
      ]
     },
     "metadata": {},
     "output_type": "display_data"
    },
    {
     "data": {
      "text/latex": [
       "$\\displaystyle \\int \\left(x + \\tan{\\left(x \\right)}\\right)\\, dx = \\frac{x^{2}}{2} - \\log{\\left(\\cos{\\left(x \\right)} \\right)}$"
      ],
      "text/plain": [
       "Eq(Integral(x + tan(x), x), x**2/2 - log(cos(x)))"
      ]
     },
     "metadata": {},
     "output_type": "display_data"
    },
    {
     "data": {
      "text/latex": [
       "$\\displaystyle \\frac{d}{d x} \\sin{\\left(\\log{\\left(x \\right)} \\right)} = \\frac{\\cos{\\left(\\log{\\left(x \\right)} \\right)}}{x}$"
      ],
      "text/plain": [
       "Eq(Derivative(sin(log(x)), x), cos(log(x))/x)"
      ]
     },
     "metadata": {},
     "output_type": "display_data"
    },
    {
     "data": {
      "text/latex": [
       "$\\displaystyle \\int \\left(1 - \\sin{\\left(x \\right)}\\right)\\, dx = x + \\cos{\\left(x \\right)}$"
      ],
      "text/plain": [
       "Eq(Integral(1 - sin(x), x), x + cos(x))"
      ]
     },
     "metadata": {},
     "output_type": "display_data"
    },
    {
     "data": {
      "text/latex": [
       "$\\displaystyle \\frac{d}{d x} \\left(\\sqrt[3]{x} - 4 + \\frac{1}{x^{4}}\\right) = - \\frac{4}{x^{5}} + \\frac{1}{3 x^{\\frac{2}{3}}}$"
      ],
      "text/plain": [
       "Eq(Derivative(x**(1/3) - 4 + x**(-4), x), -4/x**5 + 1/(3*x**(2/3)))"
      ]
     },
     "metadata": {},
     "output_type": "display_data"
    },
    {
     "data": {
      "text/latex": [
       "$\\displaystyle \\int \\left(x + \\cos{\\left(x \\right)}\\right)\\, dx = \\frac{x^{2}}{2} + \\sin{\\left(x \\right)}$"
      ],
      "text/plain": [
       "Eq(Integral(x + cos(x), x), x**2/2 + sin(x))"
      ]
     },
     "metadata": {},
     "output_type": "display_data"
    },
    {
     "data": {
      "text/latex": [
       "$\\displaystyle \\frac{d}{d x} \\left(- 2 x - 1\\right) = -2$"
      ],
      "text/plain": [
       "Eq(Derivative(-2*x - 1, x), -2)"
      ]
     },
     "metadata": {},
     "output_type": "display_data"
    },
    {
     "data": {
      "text/latex": [
       "$\\displaystyle \\int \\left(x^{3} - x^{2} + 5\\right)\\, dx = \\frac{x^{4}}{4} - \\frac{x^{3}}{3} + 5 x$"
      ],
      "text/plain": [
       "Eq(Integral(x**3 - x**2 + 5, x), x**4/4 - x**3/3 + 5*x)"
      ]
     },
     "metadata": {},
     "output_type": "display_data"
    },
    {
     "data": {
      "text/latex": [
       "$\\displaystyle \\frac{d}{d x} \\left(\\sqrt[3]{x} - 4 x\\right) = -4 + \\frac{1}{3 x^{\\frac{2}{3}}}$"
      ],
      "text/plain": [
       "Eq(Derivative(x**(1/3) - 4*x, x), -4 + 1/(3*x**(2/3)))"
      ]
     },
     "metadata": {},
     "output_type": "display_data"
    },
    {
     "data": {
      "text/latex": [
       "$\\displaystyle \\int \\sin{\\left(x^{3} \\right)}\\, dx = \\frac{x^{4} \\Gamma\\left(\\frac{2}{3}\\right) {{}_{1}F_{2}\\left(\\begin{matrix} \\frac{2}{3} \\\\ \\frac{3}{2}, \\frac{5}{3} \\end{matrix}\\middle| {- \\frac{x^{6}}{4}} \\right)}}{6 \\Gamma\\left(\\frac{5}{3}\\right)}$"
      ],
      "text/plain": [
       "Eq(Integral(sin(x**3), x), x**4*gamma(2/3)*hyper((2/3,), (3/2, 5/3), -x**6/4)/(6*gamma(5/3)))"
      ]
     },
     "metadata": {},
     "output_type": "display_data"
    },
    {
     "data": {
      "text/latex": [
       "$\\displaystyle \\frac{d}{d x} \\left(\\log{\\left(x \\right)} + \\frac{1}{x^{2}}\\right) = \\frac{1}{x} - \\frac{2}{x^{3}}$"
      ],
      "text/plain": [
       "Eq(Derivative(log(x) + x**(-2), x), 1/x - 2/x**3)"
      ]
     },
     "metadata": {},
     "output_type": "display_data"
    },
    {
     "data": {
      "text/latex": [
       "$\\displaystyle \\int \\left(\\sqrt{x} + x + 2\\right)\\, dx = \\frac{2 x^{\\frac{3}{2}}}{3} + \\frac{x^{2}}{2} + 2 x$"
      ],
      "text/plain": [
       "Eq(Integral(sqrt(x) + x + 2, x), 2*x**(3/2)/3 + x**2/2 + 2*x)"
      ]
     },
     "metadata": {},
     "output_type": "display_data"
    },
    {
     "data": {
      "text/latex": [
       "$\\displaystyle \\frac{d}{d x} \\cos{\\left(\\cos{\\left(x \\right)} \\right)} = \\sin{\\left(x \\right)} \\sin{\\left(\\cos{\\left(x \\right)} \\right)}$"
      ],
      "text/plain": [
       "Eq(Derivative(cos(cos(x)), x), sin(x)*sin(cos(x)))"
      ]
     },
     "metadata": {},
     "output_type": "display_data"
    },
    {
     "data": {
      "text/latex": [
       "$\\displaystyle \\int \\left(x + \\log{\\left(x \\right)}\\right)\\, dx = \\frac{x^{2}}{2} + x \\log{\\left(x \\right)} - x$"
      ],
      "text/plain": [
       "Eq(Integral(x + log(x), x), x**2/2 + x*log(x) - x)"
      ]
     },
     "metadata": {},
     "output_type": "display_data"
    },
    {
     "data": {
      "text/latex": [
       "$\\displaystyle \\frac{d}{d x} \\left(x^{2} + 3\\right) = 2 x$"
      ],
      "text/plain": [
       "Eq(Derivative(x**2 + 3, x), 2*x)"
      ]
     },
     "metadata": {},
     "output_type": "display_data"
    },
    {
     "data": {
      "text/latex": [
       "$\\displaystyle \\int \\frac{4 x - 4}{x}\\, dx = 4 x - 4 \\log{\\left(x \\right)}$"
      ],
      "text/plain": [
       "Eq(Integral((4*x - 4)/x, x), 4*x - 4*log(x))"
      ]
     },
     "metadata": {},
     "output_type": "display_data"
    },
    {
     "data": {
      "text/latex": [
       "$\\displaystyle \\frac{d}{d x} \\log{\\left(\\sin{\\left(x \\right)} \\right)} = \\frac{\\cos{\\left(x \\right)}}{\\sin{\\left(x \\right)}}$"
      ],
      "text/plain": [
       "Eq(Derivative(log(sin(x)), x), cos(x)/sin(x))"
      ]
     },
     "metadata": {},
     "output_type": "display_data"
    },
    {
     "data": {
      "text/latex": [
       "$\\displaystyle \\int \\left(2 x + \\sin{\\left(x \\right)}\\right)\\, dx = x^{2} - \\cos{\\left(x \\right)}$"
      ],
      "text/plain": [
       "Eq(Integral(2*x + sin(x), x), x**2 - cos(x))"
      ]
     },
     "metadata": {},
     "output_type": "display_data"
    },
    {
     "data": {
      "text/latex": [
       "$\\displaystyle \\frac{d}{d x} 2 \\log{\\left(x \\right)} = \\frac{2}{x}$"
      ],
      "text/plain": [
       "Eq(Derivative(2*log(x), x), 2/x)"
      ]
     },
     "metadata": {},
     "output_type": "display_data"
    },
    {
     "data": {
      "text/latex": [
       "$\\displaystyle \\int \\left(- \\sqrt{x} + x^{4} - x - 4\\right)\\, dx = - \\frac{2 x^{\\frac{3}{2}}}{3} + \\frac{x^{5}}{5} - \\frac{x^{2}}{2} - 4 x$"
      ],
      "text/plain": [
       "Eq(Integral(-sqrt(x) + x**4 - x - 4, x), -2*x**(3/2)/3 + x**5/5 - x**2/2 - 4*x)"
      ]
     },
     "metadata": {},
     "output_type": "display_data"
    },
    {
     "data": {
      "text/latex": [
       "$\\displaystyle \\frac{d}{d x} \\sin{\\left(\\tan{\\left(x \\right)} \\right)} = \\left(\\tan^{2}{\\left(x \\right)} + 1\\right) \\cos{\\left(\\tan{\\left(x \\right)} \\right)}$"
      ],
      "text/plain": [
       "Eq(Derivative(sin(tan(x)), x), (tan(x)**2 + 1)*cos(tan(x)))"
      ]
     },
     "metadata": {},
     "output_type": "display_data"
    },
    {
     "data": {
      "text/latex": [
       "$\\displaystyle \\int \\log{\\left(x \\right)}\\, dx = x \\log{\\left(x \\right)} - x$"
      ],
      "text/plain": [
       "Eq(Integral(log(x), x), x*log(x) - x)"
      ]
     },
     "metadata": {},
     "output_type": "display_data"
    },
    {
     "data": {
      "text/latex": [
       "$\\displaystyle \\frac{d}{d x} \\left(- \\frac{x}{\\tan{\\left(x \\right)}}\\right) = - \\frac{x \\left(- \\tan^{2}{\\left(x \\right)} - 1\\right)}{\\tan^{2}{\\left(x \\right)}} - \\frac{1}{\\tan{\\left(x \\right)}}$"
      ],
      "text/plain": [
       "Eq(Derivative(-x/tan(x), x), -x*(-tan(x)**2 - 1)/tan(x)**2 - 1/tan(x))"
      ]
     },
     "metadata": {},
     "output_type": "display_data"
    },
    {
     "data": {
      "text/latex": [
       "$\\displaystyle \\int \\left(\\log{\\left(x \\right)} - \\cos{\\left(x \\right)}\\right)\\, dx = x \\log{\\left(x \\right)} - x - \\sin{\\left(x \\right)}$"
      ],
      "text/plain": [
       "Eq(Integral(log(x) - cos(x), x), x*log(x) - x - sin(x))"
      ]
     },
     "metadata": {},
     "output_type": "display_data"
    },
    {
     "data": {
      "text/latex": [
       "$\\displaystyle \\frac{d}{d x} \\left(x + \\cos{\\left(x \\right)}\\right) = 1 - \\sin{\\left(x \\right)}$"
      ],
      "text/plain": [
       "Eq(Derivative(x + cos(x), x), 1 - sin(x))"
      ]
     },
     "metadata": {},
     "output_type": "display_data"
    },
    {
     "data": {
      "text/latex": [
       "$\\displaystyle \\int \\left(\\sin{\\left(x \\right)} + \\tan{\\left(x \\right)}\\right)\\, dx = - \\log{\\left(\\cos{\\left(x \\right)} \\right)} - \\cos{\\left(x \\right)}$"
      ],
      "text/plain": [
       "Eq(Integral(sin(x) + tan(x), x), -log(cos(x)) - cos(x))"
      ]
     },
     "metadata": {},
     "output_type": "display_data"
    },
    {
     "data": {
      "text/latex": [
       "$\\displaystyle \\frac{d}{d x} \\left(-2 - \\frac{1}{x}\\right) = \\frac{1}{x^{2}}$"
      ],
      "text/plain": [
       "Eq(Derivative(-2 - 1/x, x), x**(-2))"
      ]
     },
     "metadata": {},
     "output_type": "display_data"
    },
    {
     "data": {
      "text/latex": [
       "$\\displaystyle \\int \\left(\\sqrt[3]{x} + \\cos{\\left(x \\right)}\\right)\\, dx = \\frac{3 x^{\\frac{4}{3}}}{4} + \\sin{\\left(x \\right)}$"
      ],
      "text/plain": [
       "Eq(Integral(x**(1/3) + cos(x), x), 3*x**(4/3)/4 + sin(x))"
      ]
     },
     "metadata": {},
     "output_type": "display_data"
    },
    {
     "data": {
      "text/latex": [
       "$\\displaystyle \\frac{d}{d x} \\left(x^{3} - 3 x + e^{x} - 3\\right) = 3 x^{2} + e^{x} - 3$"
      ],
      "text/plain": [
       "Eq(Derivative(x**3 - 3*x + exp(x) - 3, x), 3*x**2 + exp(x) - 3)"
      ]
     },
     "metadata": {},
     "output_type": "display_data"
    },
    {
     "data": {
      "text/latex": [
       "$\\displaystyle \\int \\left(x^{4} + x\\right)\\, dx = \\frac{x^{5}}{5} + \\frac{x^{2}}{2}$"
      ],
      "text/plain": [
       "Eq(Integral(x**4 + x, x), x**5/5 + x**2/2)"
      ]
     },
     "metadata": {},
     "output_type": "display_data"
    },
    {
     "data": {
      "text/latex": [
       "$\\displaystyle \\frac{d}{d x} \\left(x^{15} - 2 x^{3} - 5\\right) = 15 x^{14} - 6 x^{2}$"
      ],
      "text/plain": [
       "Eq(Derivative(x**15 - 2*x**3 - 5, x), 15*x**14 - 6*x**2)"
      ]
     },
     "metadata": {},
     "output_type": "display_data"
    },
    {
     "data": {
      "text/latex": [
       "$\\displaystyle \\int \\frac{x^{2}}{\\cos{\\left(x \\right)}}\\, dx = \\int \\frac{x^{2}}{\\cos{\\left(x \\right)}}\\, dx$"
      ],
      "text/plain": [
       "Eq(Integral(x**2/cos(x), x), Integral(x**2/cos(x), x))"
      ]
     },
     "metadata": {},
     "output_type": "display_data"
    },
    {
     "data": {
      "text/latex": [
       "$\\displaystyle \\frac{d}{d x} \\left(\\sqrt{x} + x + 2\\right) = 1 + \\frac{1}{2 \\sqrt{x}}$"
      ],
      "text/plain": [
       "Eq(Derivative(sqrt(x) + x + 2, x), 1 + 1/(2*sqrt(x)))"
      ]
     },
     "metadata": {},
     "output_type": "display_data"
    },
    {
     "data": {
      "text/latex": [
       "$\\displaystyle \\int \\left(\\sqrt{x} + 3 x\\right)\\, dx = \\frac{2 x^{\\frac{3}{2}}}{3} + \\frac{3 x^{2}}{2}$"
      ],
      "text/plain": [
       "Eq(Integral(sqrt(x) + 3*x, x), 2*x**(3/2)/3 + 3*x**2/2)"
      ]
     },
     "metadata": {},
     "output_type": "display_data"
    },
    {
     "data": {
      "text/latex": [
       "$\\displaystyle \\frac{d}{d x} \\frac{x^{3}}{\\cos{\\left(x \\right)}} = \\frac{x^{3} \\sin{\\left(x \\right)}}{\\cos^{2}{\\left(x \\right)}} + \\frac{3 x^{2}}{\\cos{\\left(x \\right)}}$"
      ],
      "text/plain": [
       "Eq(Derivative(x**3/cos(x), x), x**3*sin(x)/cos(x)**2 + 3*x**2/cos(x))"
      ]
     },
     "metadata": {},
     "output_type": "display_data"
    },
    {
     "data": {
      "text/latex": [
       "$\\displaystyle \\int \\frac{1}{4 x^{3}}\\, dx = - \\frac{1}{8 x^{2}}$"
      ],
      "text/plain": [
       "Eq(Integral(1/(4*x**3), x), -1/(8*x**2))"
      ]
     },
     "metadata": {},
     "output_type": "display_data"
    },
    {
     "data": {
      "text/latex": [
       "$\\displaystyle \\frac{d}{d x} \\frac{\\sin{\\left(x \\right)}}{\\sqrt[3]{x}} = \\frac{\\cos{\\left(x \\right)}}{\\sqrt[3]{x}} - \\frac{\\sin{\\left(x \\right)}}{3 x^{\\frac{4}{3}}}$"
      ],
      "text/plain": [
       "Eq(Derivative(sin(x)/x**(1/3), x), cos(x)/x**(1/3) - sin(x)/(3*x**(4/3)))"
      ]
     },
     "metadata": {},
     "output_type": "display_data"
    },
    {
     "data": {
      "text/latex": [
       "$\\displaystyle \\int \\left(- e^{x} + \\log{\\left(x \\right)}\\right)\\, dx = x \\log{\\left(x \\right)} - x - e^{x}$"
      ],
      "text/plain": [
       "Eq(Integral(-exp(x) + log(x), x), x*log(x) - x - exp(x))"
      ]
     },
     "metadata": {},
     "output_type": "display_data"
    },
    {
     "data": {
      "text/latex": [
       "$\\displaystyle \\frac{d}{d x} \\left(\\cos{\\left(x \\right)} + \\tan{\\left(x \\right)}\\right) = - \\sin{\\left(x \\right)} + \\tan^{2}{\\left(x \\right)} + 1$"
      ],
      "text/plain": [
       "Eq(Derivative(cos(x) + tan(x), x), -sin(x) + tan(x)**2 + 1)"
      ]
     },
     "metadata": {},
     "output_type": "display_data"
    },
    {
     "data": {
      "text/latex": [
       "$\\displaystyle \\int \\tan{\\left(\\sin{\\left(x \\right)} \\right)}\\, dx = \\int \\tan{\\left(\\sin{\\left(x \\right)} \\right)}\\, dx$"
      ],
      "text/plain": [
       "Eq(Integral(tan(sin(x)), x), Integral(tan(sin(x)), x))"
      ]
     },
     "metadata": {},
     "output_type": "display_data"
    },
    {
     "data": {
      "text/latex": [
       "$\\displaystyle \\frac{d}{d x} \\left(\\sqrt{x} + \\cos{\\left(x \\right)}\\right) = - \\sin{\\left(x \\right)} + \\frac{1}{2 \\sqrt{x}}$"
      ],
      "text/plain": [
       "Eq(Derivative(sqrt(x) + cos(x), x), -sin(x) + 1/(2*sqrt(x)))"
      ]
     },
     "metadata": {},
     "output_type": "display_data"
    },
    {
     "data": {
      "text/latex": [
       "$\\displaystyle \\int 0\\, dx = 0$"
      ],
      "text/plain": [
       "Eq(Integral(0, x), 0)"
      ]
     },
     "metadata": {},
     "output_type": "display_data"
    },
    {
     "data": {
      "text/latex": [
       "$\\displaystyle \\frac{d}{d x} \\left(x^{4} + x\\right) = 4 x^{3} + 1$"
      ],
      "text/plain": [
       "Eq(Derivative(x**4 + x, x), 4*x**3 + 1)"
      ]
     },
     "metadata": {},
     "output_type": "display_data"
    },
    {
     "data": {
      "text/latex": [
       "$\\displaystyle \\int \\left(\\sqrt[3]{x} + \\sqrt{x}\\right)\\, dx = \\frac{3 x^{\\frac{4}{3}}}{4} + \\frac{2 x^{\\frac{3}{2}}}{3}$"
      ],
      "text/plain": [
       "Eq(Integral(x**(1/3) + sqrt(x), x), 3*x**(4/3)/4 + 2*x**(3/2)/3)"
      ]
     },
     "metadata": {},
     "output_type": "display_data"
    },
    {
     "data": {
      "text/latex": [
       "$\\displaystyle \\frac{d}{d x} \\left(\\sqrt[3]{x} + x^{4}\\right) = 4 x^{3} + \\frac{1}{3 x^{\\frac{2}{3}}}$"
      ],
      "text/plain": [
       "Eq(Derivative(x**(1/3) + x**4, x), 4*x**3 + 1/(3*x**(2/3)))"
      ]
     },
     "metadata": {},
     "output_type": "display_data"
    },
    {
     "data": {
      "text/latex": [
       "$\\displaystyle \\int \\left(x + \\log{\\left(x \\right)} - 5\\right)\\, dx = \\frac{x^{2}}{2} + x \\log{\\left(x \\right)} - 6 x$"
      ],
      "text/plain": [
       "Eq(Integral(x + log(x) - 5, x), x**2/2 + x*log(x) - 6*x)"
      ]
     },
     "metadata": {},
     "output_type": "display_data"
    },
    {
     "data": {
      "text/latex": [
       "$\\displaystyle \\frac{d}{d x} \\left(- 3 x e^{- x}\\right) = 3 x e^{- x} - 3 e^{- x}$"
      ],
      "text/plain": [
       "Eq(Derivative(-3*x*exp(-x), x), 3*x*exp(-x) - 3*exp(-x))"
      ]
     },
     "metadata": {},
     "output_type": "display_data"
    },
    {
     "data": {
      "text/latex": [
       "$\\displaystyle \\int 0\\, dx = 0$"
      ],
      "text/plain": [
       "Eq(Integral(0, x), 0)"
      ]
     },
     "metadata": {},
     "output_type": "display_data"
    },
    {
     "data": {
      "text/latex": [
       "$\\displaystyle \\frac{d}{d x} \\left(x^{5} + 4 x\\right) = 5 x^{4} + 4$"
      ],
      "text/plain": [
       "Eq(Derivative(x**5 + 4*x, x), 5*x**4 + 4)"
      ]
     },
     "metadata": {},
     "output_type": "display_data"
    },
    {
     "data": {
      "text/latex": [
       "$\\displaystyle \\int \\left(x - \\tan{\\left(x \\right)} + 1\\right)\\, dx = \\frac{x^{2}}{2} + x + \\log{\\left(\\cos{\\left(x \\right)} \\right)}$"
      ],
      "text/plain": [
       "Eq(Integral(x - tan(x) + 1, x), x**2/2 + x + log(cos(x)))"
      ]
     },
     "metadata": {},
     "output_type": "display_data"
    },
    {
     "data": {
      "text/latex": [
       "$\\displaystyle \\frac{d}{d x} \\left(\\sqrt{x} - x^{4}\\right) = - 4 x^{3} + \\frac{1}{2 \\sqrt{x}}$"
      ],
      "text/plain": [
       "Eq(Derivative(sqrt(x) - x**4, x), -4*x**3 + 1/(2*sqrt(x)))"
      ]
     },
     "metadata": {},
     "output_type": "display_data"
    },
    {
     "data": {
      "text/latex": [
       "$\\displaystyle \\int \\left(x - \\frac{1}{x^{3}}\\right)\\, dx = \\frac{x^{2}}{2} + \\frac{1}{2 x^{2}}$"
      ],
      "text/plain": [
       "Eq(Integral(x - 1/x**3, x), x**2/2 + 1/(2*x**2))"
      ]
     },
     "metadata": {},
     "output_type": "display_data"
    },
    {
     "data": {
      "text/latex": [
       "$\\displaystyle \\frac{d}{d x} \\left(- e^{x} - 1 + \\frac{1}{x}\\right) = - e^{x} - \\frac{1}{x^{2}}$"
      ],
      "text/plain": [
       "Eq(Derivative(-exp(x) - 1 + 1/x, x), -exp(x) - 1/x**2)"
      ]
     },
     "metadata": {},
     "output_type": "display_data"
    },
    {
     "data": {
      "text/latex": [
       "$\\displaystyle \\int \\left(- \\frac{x^{3}}{3}\\right)\\, dx = - \\frac{x^{4}}{12}$"
      ],
      "text/plain": [
       "Eq(Integral(-x**3/3, x), -x**4/12)"
      ]
     },
     "metadata": {},
     "output_type": "display_data"
    },
    {
     "data": {
      "text/latex": [
       "$\\displaystyle \\frac{d}{d x} \\left(2 x - 5\\right) = 2$"
      ],
      "text/plain": [
       "Eq(Derivative(2*x - 5, x), 2)"
      ]
     },
     "metadata": {},
     "output_type": "display_data"
    },
    {
     "data": {
      "text/latex": [
       "$\\displaystyle \\int 0\\, dx = 0$"
      ],
      "text/plain": [
       "Eq(Integral(0, x), 0)"
      ]
     },
     "metadata": {},
     "output_type": "display_data"
    },
    {
     "data": {
      "text/latex": [
       "$\\displaystyle \\frac{d}{d x} \\frac{1}{\\sqrt[6]{x}} = - \\frac{1}{6 x^{\\frac{7}{6}}}$"
      ],
      "text/plain": [
       "Eq(Derivative(x**(-1/6), x), -1/(6*x**(7/6)))"
      ]
     },
     "metadata": {},
     "output_type": "display_data"
    },
    {
     "data": {
      "text/latex": [
       "$\\displaystyle \\int \\left(x - \\cos{\\left(x \\right)} + 1\\right)\\, dx = \\frac{x^{2}}{2} + x - \\sin{\\left(x \\right)}$"
      ],
      "text/plain": [
       "Eq(Integral(x - cos(x) + 1, x), x**2/2 + x - sin(x))"
      ]
     },
     "metadata": {},
     "output_type": "display_data"
    },
    {
     "data": {
      "text/latex": [
       "$\\displaystyle \\frac{d}{d x} \\left(- 4 x + \\cos{\\left(x \\right)}\\right) = - \\sin{\\left(x \\right)} - 4$"
      ],
      "text/plain": [
       "Eq(Derivative(-4*x + cos(x), x), -sin(x) - 4)"
      ]
     },
     "metadata": {},
     "output_type": "display_data"
    },
    {
     "data": {
      "text/latex": [
       "$\\displaystyle \\int \\left(\\log{\\left(x \\right)} + \\sin{\\left(x \\right)}\\right)\\, dx = x \\log{\\left(x \\right)} - x - \\cos{\\left(x \\right)}$"
      ],
      "text/plain": [
       "Eq(Integral(log(x) + sin(x), x), x*log(x) - x - cos(x))"
      ]
     },
     "metadata": {},
     "output_type": "display_data"
    },
    {
     "data": {
      "text/latex": [
       "$\\displaystyle \\frac{d}{d x} \\left(x + \\sin{\\left(x \\right)} + 2\\right) = \\cos{\\left(x \\right)} + 1$"
      ],
      "text/plain": [
       "Eq(Derivative(x + sin(x) + 2, x), cos(x) + 1)"
      ]
     },
     "metadata": {},
     "output_type": "display_data"
    },
    {
     "data": {
      "text/latex": [
       "$\\displaystyle \\int \\left(- 3 x^{\\frac{2}{3}}\\right)\\, dx = - \\frac{9 x^{\\frac{5}{3}}}{5}$"
      ],
      "text/plain": [
       "Eq(Integral(-3*x**(2/3), x), -9*x**(5/3)/5)"
      ]
     },
     "metadata": {},
     "output_type": "display_data"
    },
    {
     "data": {
      "text/latex": [
       "$\\displaystyle \\frac{d}{d x} \\left(\\sqrt{x} + x + 2\\right) = 1 + \\frac{1}{2 \\sqrt{x}}$"
      ],
      "text/plain": [
       "Eq(Derivative(sqrt(x) + x + 2, x), 1 + 1/(2*sqrt(x)))"
      ]
     },
     "metadata": {},
     "output_type": "display_data"
    },
    {
     "data": {
      "text/latex": [
       "$\\displaystyle \\int \\left(- \\sqrt[3]{x} + \\cos{\\left(x \\right)}\\right)\\, dx = - \\frac{3 x^{\\frac{4}{3}}}{4} + \\sin{\\left(x \\right)}$"
      ],
      "text/plain": [
       "Eq(Integral(-x**(1/3) + cos(x), x), -3*x**(4/3)/4 + sin(x))"
      ]
     },
     "metadata": {},
     "output_type": "display_data"
    },
    {
     "data": {
      "text/latex": [
       "$\\displaystyle \\frac{d}{d x} \\sin{\\left(\\sqrt[3]{x} \\right)} = \\frac{\\cos{\\left(\\sqrt[3]{x} \\right)}}{3 x^{\\frac{2}{3}}}$"
      ],
      "text/plain": [
       "Eq(Derivative(sin(x**(1/3)), x), cos(x**(1/3))/(3*x**(2/3)))"
      ]
     },
     "metadata": {},
     "output_type": "display_data"
    },
    {
     "data": {
      "text/latex": [
       "$\\displaystyle \\int \\sqrt[3]{\\sin{\\left(x \\right)}}\\, dx = \\int \\sqrt[3]{\\sin{\\left(x \\right)}}\\, dx$"
      ],
      "text/plain": [
       "Eq(Integral(sin(x)**(1/3), x), Integral(sin(x)**(1/3), x))"
      ]
     },
     "metadata": {},
     "output_type": "display_data"
    },
    {
     "data": {
      "text/latex": [
       "$\\displaystyle \\frac{d}{d x} \\left(- 2 x + \\frac{1}{x^{2}}\\right) = -2 - \\frac{2}{x^{3}}$"
      ],
      "text/plain": [
       "Eq(Derivative(-2*x + x**(-2), x), -2 - 2/x**3)"
      ]
     },
     "metadata": {},
     "output_type": "display_data"
    },
    {
     "data": {
      "text/latex": [
       "$\\displaystyle \\int \\left(- x + \\frac{1}{x^{2}}\\right)\\, dx = - \\frac{x^{2}}{2} - \\frac{1}{x}$"
      ],
      "text/plain": [
       "Eq(Integral(-x + x**(-2), x), -x**2/2 - 1/x)"
      ]
     },
     "metadata": {},
     "output_type": "display_data"
    },
    {
     "data": {
      "text/latex": [
       "$\\displaystyle \\frac{d}{d x} \\left(- x + \\cos{\\left(x \\right)}\\right) = - \\sin{\\left(x \\right)} - 1$"
      ],
      "text/plain": [
       "Eq(Derivative(-x + cos(x), x), -sin(x) - 1)"
      ]
     },
     "metadata": {},
     "output_type": "display_data"
    },
    {
     "data": {
      "text/latex": [
       "$\\displaystyle \\int \\left(\\sqrt[3]{x} + \\cos{\\left(x \\right)}\\right)\\, dx = \\frac{3 x^{\\frac{4}{3}}}{4} + \\sin{\\left(x \\right)}$"
      ],
      "text/plain": [
       "Eq(Integral(x**(1/3) + cos(x), x), 3*x**(4/3)/4 + sin(x))"
      ]
     },
     "metadata": {},
     "output_type": "display_data"
    },
    {
     "data": {
      "text/latex": [
       "$\\displaystyle \\frac{d}{d x} \\left(\\sqrt[3]{x} + \\tan{\\left(x \\right)}\\right) = \\tan^{2}{\\left(x \\right)} + 1 + \\frac{1}{3 x^{\\frac{2}{3}}}$"
      ],
      "text/plain": [
       "Eq(Derivative(x**(1/3) + tan(x), x), tan(x)**2 + 1 + 1/(3*x**(2/3)))"
      ]
     },
     "metadata": {},
     "output_type": "display_data"
    },
    {
     "data": {
      "text/latex": [
       "$\\displaystyle \\int \\tan{\\left(\\log{\\left(x \\right)} \\right)}\\, dx = \\int \\tan{\\left(\\log{\\left(x \\right)} \\right)}\\, dx$"
      ],
      "text/plain": [
       "Eq(Integral(tan(log(x)), x), Integral(tan(log(x)), x))"
      ]
     },
     "metadata": {},
     "output_type": "display_data"
    },
    {
     "data": {
      "text/latex": [
       "$\\displaystyle \\frac{d}{d x} \\frac{1}{x \\cos{\\left(x \\right)}} = \\frac{\\sin{\\left(x \\right)}}{x \\cos^{2}{\\left(x \\right)}} - \\frac{1}{x^{2} \\cos{\\left(x \\right)}}$"
      ],
      "text/plain": [
       "Eq(Derivative(1/(x*cos(x)), x), sin(x)/(x*cos(x)**2) - 1/(x**2*cos(x)))"
      ]
     },
     "metadata": {},
     "output_type": "display_data"
    },
    {
     "data": {
      "text/latex": [
       "$\\displaystyle \\int \\left(\\log{\\left(x \\right)} + \\sin{\\left(x \\right)}\\right)\\, dx = x \\log{\\left(x \\right)} - x - \\cos{\\left(x \\right)}$"
      ],
      "text/plain": [
       "Eq(Integral(log(x) + sin(x), x), x*log(x) - x - cos(x))"
      ]
     },
     "metadata": {},
     "output_type": "display_data"
    },
    {
     "data": {
      "text/latex": [
       "$\\displaystyle \\frac{d}{d x} 2 \\sin{\\left(x \\right)} = 2 \\cos{\\left(x \\right)}$"
      ],
      "text/plain": [
       "Eq(Derivative(2*sin(x), x), 2*cos(x))"
      ]
     },
     "metadata": {},
     "output_type": "display_data"
    },
    {
     "data": {
      "text/latex": [
       "$\\displaystyle \\int \\left(\\sqrt[3]{x} - 2 x\\right)\\, dx = \\frac{3 x^{\\frac{4}{3}}}{4} - x^{2}$"
      ],
      "text/plain": [
       "Eq(Integral(x**(1/3) - 2*x, x), 3*x**(4/3)/4 - x**2)"
      ]
     },
     "metadata": {},
     "output_type": "display_data"
    },
    {
     "data": {
      "text/latex": [
       "$\\displaystyle \\frac{d}{d x} \\sqrt[3]{x} e^{- x} = - \\sqrt[3]{x} e^{- x} + \\frac{e^{- x}}{3 x^{\\frac{2}{3}}}$"
      ],
      "text/plain": [
       "Eq(Derivative(x**(1/3)*exp(-x), x), -x**(1/3)*exp(-x) + exp(-x)/(3*x**(2/3)))"
      ]
     },
     "metadata": {},
     "output_type": "display_data"
    },
    {
     "data": {
      "text/latex": [
       "$\\displaystyle \\int \\left(\\sqrt[3]{x} + \\frac{1}{x}\\right)\\, dx = \\frac{3 x^{\\frac{4}{3}}}{4} + \\log{\\left(x \\right)}$"
      ],
      "text/plain": [
       "Eq(Integral(x**(1/3) + 1/x, x), 3*x**(4/3)/4 + log(x))"
      ]
     },
     "metadata": {},
     "output_type": "display_data"
    },
    {
     "data": {
      "text/latex": [
       "$\\displaystyle \\frac{d}{d x} \\frac{1}{\\log{\\left(x \\right)}^{2}} = - \\frac{2}{x \\log{\\left(x \\right)}^{3}}$"
      ],
      "text/plain": [
       "Eq(Derivative(log(x)**(-2), x), -2/(x*log(x)**3))"
      ]
     },
     "metadata": {},
     "output_type": "display_data"
    },
    {
     "data": {
      "text/latex": [
       "$\\displaystyle \\int \\left(- \\sqrt{x} + x^{2} + 2 x\\right)\\, dx = - \\frac{2 x^{\\frac{3}{2}}}{3} + \\frac{x^{3}}{3} + x^{2}$"
      ],
      "text/plain": [
       "Eq(Integral(-sqrt(x) + x**2 + 2*x, x), -2*x**(3/2)/3 + x**3/3 + x**2)"
      ]
     },
     "metadata": {},
     "output_type": "display_data"
    },
    {
     "data": {
      "text/latex": [
       "$\\displaystyle \\frac{d}{d x} \\left(\\sqrt[3]{x} + x\\right) = 1 + \\frac{1}{3 x^{\\frac{2}{3}}}$"
      ],
      "text/plain": [
       "Eq(Derivative(x**(1/3) + x, x), 1 + 1/(3*x**(2/3)))"
      ]
     },
     "metadata": {},
     "output_type": "display_data"
    },
    {
     "data": {
      "text/latex": [
       "$\\displaystyle \\int \\left(\\tan{\\left(x \\right)} - \\frac{1}{x^{4}}\\right)\\, dx = - \\log{\\left(\\cos{\\left(x \\right)} \\right)} + \\frac{1}{3 x^{3}}$"
      ],
      "text/plain": [
       "Eq(Integral(tan(x) - 1/x**4, x), -log(cos(x)) + 1/(3*x**3))"
      ]
     },
     "metadata": {},
     "output_type": "display_data"
    },
    {
     "data": {
      "text/latex": [
       "$\\displaystyle \\frac{d}{d x} \\cos{\\left(x \\right)} = - \\sin{\\left(x \\right)}$"
      ],
      "text/plain": [
       "Eq(Derivative(cos(x), x), -sin(x))"
      ]
     },
     "metadata": {},
     "output_type": "display_data"
    },
    {
     "data": {
      "text/latex": [
       "$\\displaystyle \\int \\left(x^{2} - x + e^{x} - 2\\right)\\, dx = \\frac{x^{3}}{3} - \\frac{x^{2}}{2} - 2 x + e^{x}$"
      ],
      "text/plain": [
       "Eq(Integral(x**2 - x + exp(x) - 2, x), x**3/3 - x**2/2 - 2*x + exp(x))"
      ]
     },
     "metadata": {},
     "output_type": "display_data"
    },
    {
     "data": {
      "text/latex": [
       "$\\displaystyle \\frac{d}{d x} \\sqrt[6]{x} = \\frac{1}{6 x^{\\frac{5}{6}}}$"
      ],
      "text/plain": [
       "Eq(Derivative(x**(1/6), x), 1/(6*x**(5/6)))"
      ]
     },
     "metadata": {},
     "output_type": "display_data"
    },
    {
     "data": {
      "text/latex": [
       "$\\displaystyle \\int 0\\, dx = 0$"
      ],
      "text/plain": [
       "Eq(Integral(0, x), 0)"
      ]
     },
     "metadata": {},
     "output_type": "display_data"
    },
    {
     "data": {
      "text/latex": [
       "$\\displaystyle \\frac{d}{d x} \\frac{\\sqrt{x}}{\\log{\\left(x \\right)}} = \\frac{1}{2 \\sqrt{x} \\log{\\left(x \\right)}} - \\frac{1}{\\sqrt{x} \\log{\\left(x \\right)}^{2}}$"
      ],
      "text/plain": [
       "Eq(Derivative(sqrt(x)/log(x), x), 1/(2*sqrt(x)*log(x)) - 1/(sqrt(x)*log(x)**2))"
      ]
     },
     "metadata": {},
     "output_type": "display_data"
    },
    {
     "data": {
      "text/latex": [
       "$\\displaystyle \\int \\cos{\\left(x^{2} \\right)}\\, dx = \\frac{\\sqrt{2} \\sqrt{\\pi} C\\left(\\frac{\\sqrt{2} x}{\\sqrt{\\pi}}\\right) \\Gamma\\left(\\frac{1}{4}\\right)}{8 \\Gamma\\left(\\frac{5}{4}\\right)}$"
      ],
      "text/plain": [
       "Eq(Integral(cos(x**2), x), sqrt(2)*sqrt(pi)*fresnelc(sqrt(2)*x/sqrt(pi))*gamma(1/4)/(8*gamma(5/4)))"
      ]
     },
     "metadata": {},
     "output_type": "display_data"
    },
    {
     "data": {
      "text/latex": [
       "$\\displaystyle \\frac{d}{d x} \\left(- 8 x\\right) = -8$"
      ],
      "text/plain": [
       "Eq(Derivative(-8*x, x), -8)"
      ]
     },
     "metadata": {},
     "output_type": "display_data"
    },
    {
     "data": {
      "text/latex": [
       "$\\displaystyle \\int \\left(\\sqrt[3]{x} + \\sqrt{x}\\right)\\, dx = \\frac{3 x^{\\frac{4}{3}}}{4} + \\frac{2 x^{\\frac{3}{2}}}{3}$"
      ],
      "text/plain": [
       "Eq(Integral(x**(1/3) + sqrt(x), x), 3*x**(4/3)/4 + 2*x**(3/2)/3)"
      ]
     },
     "metadata": {},
     "output_type": "display_data"
    },
    {
     "data": {
      "text/latex": [
       "$\\displaystyle \\frac{d}{d x} \\frac{\\sin{\\left(x \\right)}}{\\cos{\\left(x \\right)}} = \\frac{\\sin^{2}{\\left(x \\right)}}{\\cos^{2}{\\left(x \\right)}} + 1$"
      ],
      "text/plain": [
       "Eq(Derivative(sin(x)/cos(x), x), sin(x)**2/cos(x)**2 + 1)"
      ]
     },
     "metadata": {},
     "output_type": "display_data"
    },
    {
     "data": {
      "text/latex": [
       "$\\displaystyle \\int \\frac{x^{3} - 4}{\\cos{\\left(x \\right)}}\\, dx = \\int \\frac{x^{3} - 4}{\\cos{\\left(x \\right)}}\\, dx$"
      ],
      "text/plain": [
       "Eq(Integral((x**3 - 4)/cos(x), x), Integral((x**3 - 4)/cos(x), x))"
      ]
     },
     "metadata": {},
     "output_type": "display_data"
    },
    {
     "data": {
      "text/latex": [
       "$\\displaystyle \\frac{d}{d x} \\sin{\\left(\\sin{\\left(x \\right)} \\right)} = \\cos{\\left(x \\right)} \\cos{\\left(\\sin{\\left(x \\right)} \\right)}$"
      ],
      "text/plain": [
       "Eq(Derivative(sin(sin(x)), x), cos(x)*cos(sin(x)))"
      ]
     },
     "metadata": {},
     "output_type": "display_data"
    },
    {
     "data": {
      "text/latex": [
       "$\\displaystyle \\int 2 e^{x}\\, dx = 2 e^{x}$"
      ],
      "text/plain": [
       "Eq(Integral(2*exp(x), x), 2*exp(x))"
      ]
     },
     "metadata": {},
     "output_type": "display_data"
    },
    {
     "data": {
      "text/latex": [
       "$\\displaystyle \\frac{d}{d x} \\left(e^{x} + \\cos{\\left(x \\right)}\\right) = e^{x} - \\sin{\\left(x \\right)}$"
      ],
      "text/plain": [
       "Eq(Derivative(exp(x) + cos(x), x), exp(x) - sin(x))"
      ]
     },
     "metadata": {},
     "output_type": "display_data"
    },
    {
     "data": {
      "text/latex": [
       "$\\displaystyle \\int \\left(\\sqrt{x} + 2 x - 1 - \\frac{1}{x^{2}}\\right)\\, dx = \\frac{2 x^{\\frac{3}{2}}}{3} + x^{2} - x + \\frac{1}{x}$"
      ],
      "text/plain": [
       "Eq(Integral(sqrt(x) + 2*x - 1 - 1/x**2, x), 2*x**(3/2)/3 + x**2 - x + 1/x)"
      ]
     },
     "metadata": {},
     "output_type": "display_data"
    },
    {
     "data": {
      "text/latex": [
       "$\\displaystyle \\frac{d}{d x} \\left(x^{3} + x + 2\\right) = 3 x^{2} + 1$"
      ],
      "text/plain": [
       "Eq(Derivative(x**3 + x + 2, x), 3*x**2 + 1)"
      ]
     },
     "metadata": {},
     "output_type": "display_data"
    },
    {
     "data": {
      "text/latex": [
       "$\\displaystyle \\int \\frac{e^{x}}{\\log{\\left(x \\right)}}\\, dx = \\int \\frac{e^{x}}{\\log{\\left(x \\right)}}\\, dx$"
      ],
      "text/plain": [
       "Eq(Integral(exp(x)/log(x), x), Integral(exp(x)/log(x), x))"
      ]
     },
     "metadata": {},
     "output_type": "display_data"
    },
    {
     "data": {
      "text/latex": [
       "$\\displaystyle \\frac{d}{d x} \\left(- x^{4} + \\sin{\\left(x \\right)}\\right) = - 4 x^{3} + \\cos{\\left(x \\right)}$"
      ],
      "text/plain": [
       "Eq(Derivative(-x**4 + sin(x), x), -4*x**3 + cos(x))"
      ]
     },
     "metadata": {},
     "output_type": "display_data"
    },
    {
     "data": {
      "text/latex": [
       "$\\displaystyle \\int 1\\, dx = x$"
      ],
      "text/plain": [
       "Eq(Integral(1, x), x)"
      ]
     },
     "metadata": {},
     "output_type": "display_data"
    },
    {
     "data": {
      "text/latex": [
       "$\\displaystyle \\frac{d}{d x} \\frac{\\sqrt{x}}{x - 5} = - \\frac{\\sqrt{x}}{\\left(x - 5\\right)^{2}} + \\frac{1}{2 \\sqrt{x} \\left(x - 5\\right)}$"
      ],
      "text/plain": [
       "Eq(Derivative(sqrt(x)/(x - 5), x), -sqrt(x)/(x - 5)**2 + 1/(2*sqrt(x)*(x - 5)))"
      ]
     },
     "metadata": {},
     "output_type": "display_data"
    },
    {
     "data": {
      "text/latex": [
       "$\\displaystyle \\int \\left(- \\log{\\left(x \\right)} + \\sin{\\left(x \\right)}\\right)\\, dx = - x \\log{\\left(x \\right)} + x - \\cos{\\left(x \\right)}$"
      ],
      "text/plain": [
       "Eq(Integral(-log(x) + sin(x), x), -x*log(x) + x - cos(x))"
      ]
     },
     "metadata": {},
     "output_type": "display_data"
    },
    {
     "data": {
      "text/latex": [
       "$\\displaystyle \\frac{d}{d x} e^{- x} \\tan{\\left(x \\right)} = \\left(\\tan^{2}{\\left(x \\right)} + 1\\right) e^{- x} - e^{- x} \\tan{\\left(x \\right)}$"
      ],
      "text/plain": [
       "Eq(Derivative(exp(-x)*tan(x), x), (tan(x)**2 + 1)*exp(-x) - exp(-x)*tan(x))"
      ]
     },
     "metadata": {},
     "output_type": "display_data"
    },
    {
     "data": {
      "text/latex": [
       "$\\displaystyle \\int \\frac{1}{\\sqrt[6]{x}}\\, dx = \\frac{6 x^{\\frac{5}{6}}}{5}$"
      ],
      "text/plain": [
       "Eq(Integral(x**(-1/6), x), 6*x**(5/6)/5)"
      ]
     },
     "metadata": {},
     "output_type": "display_data"
    },
    {
     "data": {
      "text/latex": [
       "$\\displaystyle \\frac{d}{d x} \\frac{x + 3}{\\log{\\left(x \\right)}} = \\frac{1}{\\log{\\left(x \\right)}} - \\frac{x + 3}{x \\log{\\left(x \\right)}^{2}}$"
      ],
      "text/plain": [
       "Eq(Derivative((x + 3)/log(x), x), 1/log(x) - (x + 3)/(x*log(x)**2))"
      ]
     },
     "metadata": {},
     "output_type": "display_data"
    },
    {
     "data": {
      "text/latex": [
       "$\\displaystyle \\int \\left(\\log{\\left(x \\right)} - \\frac{1}{x^{2}}\\right)\\, dx = x \\log{\\left(x \\right)} - x + \\frac{1}{x}$"
      ],
      "text/plain": [
       "Eq(Integral(log(x) - 1/x**2, x), x*log(x) - x + 1/x)"
      ]
     },
     "metadata": {},
     "output_type": "display_data"
    },
    {
     "data": {
      "text/latex": [
       "$\\displaystyle \\frac{d}{d x} \\sin{\\left(x + 1 \\right)} = \\cos{\\left(x + 1 \\right)}$"
      ],
      "text/plain": [
       "Eq(Derivative(sin(x + 1), x), cos(x + 1))"
      ]
     },
     "metadata": {},
     "output_type": "display_data"
    },
    {
     "data": {
      "text/latex": [
       "$\\displaystyle \\int \\left(x + \\tan{\\left(x \\right)} - 2\\right)\\, dx = \\frac{x^{2}}{2} - 2 x - \\log{\\left(\\cos{\\left(x \\right)} \\right)}$"
      ],
      "text/plain": [
       "Eq(Integral(x + tan(x) - 2, x), x**2/2 - 2*x - log(cos(x)))"
      ]
     },
     "metadata": {},
     "output_type": "display_data"
    },
    {
     "data": {
      "text/latex": [
       "$\\displaystyle \\frac{d}{d x} \\frac{x + 3}{\\sqrt{x}} = \\frac{1}{\\sqrt{x}} - \\frac{x + 3}{2 x^{\\frac{3}{2}}}$"
      ],
      "text/plain": [
       "Eq(Derivative((x + 3)/sqrt(x), x), 1/sqrt(x) - (x + 3)/(2*x**(3/2)))"
      ]
     },
     "metadata": {},
     "output_type": "display_data"
    },
    {
     "data": {
      "text/latex": [
       "$\\displaystyle \\int \\sin{\\left(\\sqrt[3]{x} \\right)}\\, dx = - 3 x^{\\frac{2}{3}} \\cos{\\left(\\sqrt[3]{x} \\right)} + 6 \\sqrt[3]{x} \\sin{\\left(\\sqrt[3]{x} \\right)} + 6 \\cos{\\left(\\sqrt[3]{x} \\right)}$"
      ],
      "text/plain": [
       "Eq(Integral(sin(x**(1/3)), x), -3*x**(2/3)*cos(x**(1/3)) + 6*x**(1/3)*sin(x**(1/3)) + 6*cos(x**(1/3)))"
      ]
     },
     "metadata": {},
     "output_type": "display_data"
    },
    {
     "data": {
      "text/latex": [
       "$\\displaystyle \\frac{d}{d x} \\left(- \\sin{\\left(x \\right)} + \\tan{\\left(x \\right)}\\right) = - \\cos{\\left(x \\right)} + \\tan^{2}{\\left(x \\right)} + 1$"
      ],
      "text/plain": [
       "Eq(Derivative(-sin(x) + tan(x), x), -cos(x) + tan(x)**2 + 1)"
      ]
     },
     "metadata": {},
     "output_type": "display_data"
    },
    {
     "data": {
      "text/latex": [
       "$\\displaystyle \\int \\left(e^{x} + 3\\right)\\, dx = 3 x + e^{x}$"
      ],
      "text/plain": [
       "Eq(Integral(exp(x) + 3, x), 3*x + exp(x))"
      ]
     },
     "metadata": {},
     "output_type": "display_data"
    },
    {
     "data": {
      "text/latex": [
       "$\\displaystyle \\frac{d}{d x} \\left(\\sqrt[3]{x} - \\log{\\left(x \\right)}\\right) = - \\frac{1}{x} + \\frac{1}{3 x^{\\frac{2}{3}}}$"
      ],
      "text/plain": [
       "Eq(Derivative(x**(1/3) - log(x), x), -1/x + 1/(3*x**(2/3)))"
      ]
     },
     "metadata": {},
     "output_type": "display_data"
    },
    {
     "data": {
      "text/latex": [
       "$\\displaystyle \\int e^{- x} \\tan{\\left(x \\right)}\\, dx = \\int e^{- x} \\tan{\\left(x \\right)}\\, dx$"
      ],
      "text/plain": [
       "Eq(Integral(exp(-x)*tan(x), x), Integral(exp(-x)*tan(x), x))"
      ]
     },
     "metadata": {},
     "output_type": "display_data"
    },
    {
     "data": {
      "text/latex": [
       "$\\displaystyle \\frac{d}{d x} \\tan{\\left(\\sin{\\left(x \\right)} \\right)} = \\left(\\tan^{2}{\\left(\\sin{\\left(x \\right)} \\right)} + 1\\right) \\cos{\\left(x \\right)}$"
      ],
      "text/plain": [
       "Eq(Derivative(tan(sin(x)), x), (tan(sin(x))**2 + 1)*cos(x))"
      ]
     },
     "metadata": {},
     "output_type": "display_data"
    },
    {
     "data": {
      "text/latex": [
       "$\\displaystyle \\int \\log{\\left(\\sqrt{x} \\right)}\\, dx = x \\log{\\left(\\sqrt{x} \\right)} - \\frac{x}{2}$"
      ],
      "text/plain": [
       "Eq(Integral(log(sqrt(x)), x), x*log(sqrt(x)) - x/2)"
      ]
     },
     "metadata": {},
     "output_type": "display_data"
    },
    {
     "data": {
      "text/latex": [
       "$\\displaystyle \\frac{d}{d x} \\left(3 x - 3 + \\frac{1}{x^{2}}\\right) = 3 - \\frac{2}{x^{3}}$"
      ],
      "text/plain": [
       "Eq(Derivative(3*x - 3 + x**(-2), x), 3 - 2/x**3)"
      ]
     },
     "metadata": {},
     "output_type": "display_data"
    },
    {
     "data": {
      "text/latex": [
       "$\\displaystyle \\int \\left(- \\sqrt{x} + \\sin{\\left(x \\right)}\\right)\\, dx = - \\frac{2 x^{\\frac{3}{2}}}{3} - \\cos{\\left(x \\right)}$"
      ],
      "text/plain": [
       "Eq(Integral(-sqrt(x) + sin(x), x), -2*x**(3/2)/3 - cos(x))"
      ]
     },
     "metadata": {},
     "output_type": "display_data"
    },
    {
     "data": {
      "text/latex": [
       "$\\displaystyle \\frac{d}{d x} \\frac{\\tan{\\left(x \\right)}}{x + 1} = \\frac{\\tan^{2}{\\left(x \\right)} + 1}{x + 1} - \\frac{\\tan{\\left(x \\right)}}{\\left(x + 1\\right)^{2}}$"
      ],
      "text/plain": [
       "Eq(Derivative(tan(x)/(x + 1), x), (tan(x)**2 + 1)/(x + 1) - tan(x)/(x + 1)**2)"
      ]
     },
     "metadata": {},
     "output_type": "display_data"
    },
    {
     "data": {
      "text/latex": [
       "$\\displaystyle \\int \\left(\\sqrt{x} - e^{x}\\right)\\, dx = \\frac{2 x^{\\frac{3}{2}}}{3} - e^{x}$"
      ],
      "text/plain": [
       "Eq(Integral(sqrt(x) - exp(x), x), 2*x**(3/2)/3 - exp(x))"
      ]
     },
     "metadata": {},
     "output_type": "display_data"
    },
    {
     "data": {
      "text/latex": [
       "$\\displaystyle \\frac{d}{d x} \\left(3 \\sin{\\left(x \\right)} + 4 + \\frac{1}{\\sin{\\left(x \\right)}}\\right) = 3 \\cos{\\left(x \\right)} - \\frac{\\cos{\\left(x \\right)}}{\\sin^{2}{\\left(x \\right)}}$"
      ],
      "text/plain": [
       "Eq(Derivative(3*sin(x) + 4 + 1/sin(x), x), 3*cos(x) - cos(x)/sin(x)**2)"
      ]
     },
     "metadata": {},
     "output_type": "display_data"
    },
    {
     "data": {
      "text/latex": [
       "$\\displaystyle \\int 1\\, dx = x$"
      ],
      "text/plain": [
       "Eq(Integral(1, x), x)"
      ]
     },
     "metadata": {},
     "output_type": "display_data"
    },
    {
     "data": {
      "text/latex": [
       "$\\displaystyle \\frac{d}{d x} \\left(\\log{\\left(x \\right)}^{4} - 2 \\log{\\left(x \\right)}\\right) = \\frac{4 \\log{\\left(x \\right)}^{3}}{x} - \\frac{2}{x}$"
      ],
      "text/plain": [
       "Eq(Derivative(log(x)**4 - 2*log(x), x), 4*log(x)**3/x - 2/x)"
      ]
     },
     "metadata": {},
     "output_type": "display_data"
    },
    {
     "data": {
      "text/latex": [
       "$\\displaystyle \\int e^{x^{5} - 3 x + 4}\\, dx = e^{4} \\int e^{- 3 x} e^{x^{5}}\\, dx$"
      ],
      "text/plain": [
       "Eq(Integral(exp(x**5 - 3*x + 4), x), exp(4)*Integral(exp(-3*x)*exp(x**5), x))"
      ]
     },
     "metadata": {},
     "output_type": "display_data"
    },
    {
     "data": {
      "text/latex": [
       "$\\displaystyle \\frac{d}{d x} \\left(x^{5} + x + 2\\right) = 5 x^{4} + 1$"
      ],
      "text/plain": [
       "Eq(Derivative(x**5 + x + 2, x), 5*x**4 + 1)"
      ]
     },
     "metadata": {},
     "output_type": "display_data"
    },
    {
     "data": {
      "text/latex": [
       "$\\displaystyle \\int \\left(- \\sqrt{x} + \\sin{\\left(x \\right)}\\right)\\, dx = - \\frac{2 x^{\\frac{3}{2}}}{3} - \\cos{\\left(x \\right)}$"
      ],
      "text/plain": [
       "Eq(Integral(-sqrt(x) + sin(x), x), -2*x**(3/2)/3 - cos(x))"
      ]
     },
     "metadata": {},
     "output_type": "display_data"
    },
    {
     "data": {
      "text/latex": [
       "$\\displaystyle \\frac{d}{d x} \\left(\\sqrt{x} + x + 2\\right) = 1 + \\frac{1}{2 \\sqrt{x}}$"
      ],
      "text/plain": [
       "Eq(Derivative(sqrt(x) + x + 2, x), 1 + 1/(2*sqrt(x)))"
      ]
     },
     "metadata": {},
     "output_type": "display_data"
    },
    {
     "data": {
      "text/latex": [
       "$\\displaystyle \\int \\left(2 - 2 x\\right)\\, dx = - x^{2} + 2 x$"
      ],
      "text/plain": [
       "Eq(Integral(2 - 2*x, x), -x**2 + 2*x)"
      ]
     },
     "metadata": {},
     "output_type": "display_data"
    },
    {
     "data": {
      "text/latex": [
       "$\\displaystyle \\frac{d}{d x} \\frac{x + 3}{\\cos{\\left(x \\right)}} = \\frac{\\left(x + 3\\right) \\sin{\\left(x \\right)}}{\\cos^{2}{\\left(x \\right)}} + \\frac{1}{\\cos{\\left(x \\right)}}$"
      ],
      "text/plain": [
       "Eq(Derivative((x + 3)/cos(x), x), (x + 3)*sin(x)/cos(x)**2 + 1/cos(x))"
      ]
     },
     "metadata": {},
     "output_type": "display_data"
    },
    {
     "data": {
      "text/latex": [
       "$\\displaystyle \\int \\left(\\cos{\\left(x \\right)} + \\tan{\\left(x \\right)}\\right)\\, dx = - \\log{\\left(\\cos{\\left(x \\right)} \\right)} + \\sin{\\left(x \\right)}$"
      ],
      "text/plain": [
       "Eq(Integral(cos(x) + tan(x), x), -log(cos(x)) + sin(x))"
      ]
     },
     "metadata": {},
     "output_type": "display_data"
    },
    {
     "data": {
      "text/latex": [
       "$\\displaystyle \\frac{d}{d x} \\left(5 - 2 x\\right) = -2$"
      ],
      "text/plain": [
       "Eq(Derivative(5 - 2*x, x), -2)"
      ]
     },
     "metadata": {},
     "output_type": "display_data"
    },
    {
     "data": {
      "text/latex": [
       "$\\displaystyle \\int \\sqrt{x - 5}\\, dx = \\frac{2 \\left(x - 5\\right)^{\\frac{3}{2}}}{3}$"
      ],
      "text/plain": [
       "Eq(Integral(sqrt(x - 5), x), 2*(x - 5)**(3/2)/3)"
      ]
     },
     "metadata": {},
     "output_type": "display_data"
    },
    {
     "data": {
      "text/latex": [
       "$\\displaystyle \\frac{d}{d x} \\frac{\\log{\\left(x \\right)}}{\\sin{\\left(x \\right)}} = - \\frac{\\log{\\left(x \\right)} \\cos{\\left(x \\right)}}{\\sin^{2}{\\left(x \\right)}} + \\frac{1}{x \\sin{\\left(x \\right)}}$"
      ],
      "text/plain": [
       "Eq(Derivative(log(x)/sin(x), x), -log(x)*cos(x)/sin(x)**2 + 1/(x*sin(x)))"
      ]
     },
     "metadata": {},
     "output_type": "display_data"
    },
    {
     "data": {
      "text/latex": [
       "$\\displaystyle \\int \\left(\\sqrt{x} + e^{x}\\right)\\, dx = \\frac{2 x^{\\frac{3}{2}}}{3} + e^{x}$"
      ],
      "text/plain": [
       "Eq(Integral(sqrt(x) + exp(x), x), 2*x**(3/2)/3 + exp(x))"
      ]
     },
     "metadata": {},
     "output_type": "display_data"
    },
    {
     "data": {
      "text/latex": [
       "$\\displaystyle \\frac{d}{d x} \\sqrt{\\sin{\\left(x \\right)}} = \\frac{\\cos{\\left(x \\right)}}{2 \\sqrt{\\sin{\\left(x \\right)}}}$"
      ],
      "text/plain": [
       "Eq(Derivative(sqrt(sin(x)), x), cos(x)/(2*sqrt(sin(x))))"
      ]
     },
     "metadata": {},
     "output_type": "display_data"
    },
    {
     "data": {
      "text/latex": [
       "$\\displaystyle \\int \\frac{\\log{\\left(x \\right)}}{-4 + \\frac{1}{x^{4}}}\\, dx = - \\int \\frac{x^{4} \\log{\\left(x \\right)}}{4 x^{4} - 1}\\, dx$"
      ],
      "text/plain": [
       "Eq(Integral(log(x)/(-4 + x**(-4)), x), -Integral(x**4*log(x)/(4*x**4 - 1), x))"
      ]
     },
     "metadata": {},
     "output_type": "display_data"
    },
    {
     "data": {
      "text/latex": [
       "$\\displaystyle \\frac{d}{d x} \\left(\\sqrt[3]{x} - \\sin{\\left(x \\right)}\\right) = - \\cos{\\left(x \\right)} + \\frac{1}{3 x^{\\frac{2}{3}}}$"
      ],
      "text/plain": [
       "Eq(Derivative(x**(1/3) - sin(x), x), -cos(x) + 1/(3*x**(2/3)))"
      ]
     },
     "metadata": {},
     "output_type": "display_data"
    },
    {
     "data": {
      "text/latex": [
       "$\\displaystyle \\int \\sqrt[3]{x} e^{- x}\\, dx = \\frac{4 \\Gamma\\left(\\frac{4}{3}\\right) \\gamma\\left(\\frac{4}{3}, x\\right)}{3 \\Gamma\\left(\\frac{7}{3}\\right)}$"
      ],
      "text/plain": [
       "Eq(Integral(x**(1/3)*exp(-x), x), 4*gamma(4/3)*lowergamma(4/3, x)/(3*gamma(7/3)))"
      ]
     },
     "metadata": {},
     "output_type": "display_data"
    },
    {
     "data": {
      "text/latex": [
       "$\\displaystyle \\frac{d}{d x} x^{\\frac{2}{3}} = \\frac{2}{3 \\sqrt[3]{x}}$"
      ],
      "text/plain": [
       "Eq(Derivative(x**(2/3), x), 2/(3*x**(1/3)))"
      ]
     },
     "metadata": {},
     "output_type": "display_data"
    },
    {
     "data": {
      "text/latex": [
       "$\\displaystyle \\int \\left(3 x^{5} - 9 x + \\left(x^{5} - 2 x - 4\\right)^{3} - 7\\right)\\, dx = \\frac{x^{16}}{16} - \\frac{x^{12}}{2} - \\frac{12 x^{11}}{11} + \\frac{3 x^{8}}{2} + \\frac{48 x^{7}}{7} + \\frac{17 x^{6}}{2} - 2 x^{4} - 16 x^{3} - \\frac{105 x^{2}}{2} - 71 x$"
      ],
      "text/plain": [
       "Eq(Integral(3*x**5 - 9*x + (x**5 - 2*x - 4)**3 - 7, x), x**16/16 - x**12/2 - 12*x**11/11 + 3*x**8/2 + 48*x**7/7 + 17*x**6/2 - 2*x**4 - 16*x**3 - 105*x**2/2 - 71*x)"
      ]
     },
     "metadata": {},
     "output_type": "display_data"
    },
    {
     "data": {
      "text/latex": [
       "$\\displaystyle \\frac{d}{d x} \\frac{\\tan{\\left(x \\right)}}{\\log{\\left(x \\right)}} = \\frac{\\tan^{2}{\\left(x \\right)} + 1}{\\log{\\left(x \\right)}} - \\frac{\\tan{\\left(x \\right)}}{x \\log{\\left(x \\right)}^{2}}$"
      ],
      "text/plain": [
       "Eq(Derivative(tan(x)/log(x), x), (tan(x)**2 + 1)/log(x) - tan(x)/(x*log(x)**2))"
      ]
     },
     "metadata": {},
     "output_type": "display_data"
    },
    {
     "data": {
      "text/latex": [
       "$\\displaystyle \\int \\left(\\log{\\left(x \\right)} + \\tan{\\left(x \\right)}\\right)\\, dx = x \\log{\\left(x \\right)} - x - \\log{\\left(\\cos{\\left(x \\right)} \\right)}$"
      ],
      "text/plain": [
       "Eq(Integral(log(x) + tan(x), x), x*log(x) - x - log(cos(x)))"
      ]
     },
     "metadata": {},
     "output_type": "display_data"
    },
    {
     "data": {
      "text/latex": [
       "$\\displaystyle \\frac{d}{d x} \\frac{1}{\\sqrt[6]{x}} = - \\frac{1}{6 x^{\\frac{7}{6}}}$"
      ],
      "text/plain": [
       "Eq(Derivative(x**(-1/6), x), -1/(6*x**(7/6)))"
      ]
     },
     "metadata": {},
     "output_type": "display_data"
    },
    {
     "data": {
      "text/latex": [
       "$\\displaystyle \\int \\left(- \\sqrt{x} + \\tan{\\left(x \\right)}\\right)\\, dx = - \\frac{2 x^{\\frac{3}{2}}}{3} - \\log{\\left(\\cos{\\left(x \\right)} \\right)}$"
      ],
      "text/plain": [
       "Eq(Integral(-sqrt(x) + tan(x), x), -2*x**(3/2)/3 - log(cos(x)))"
      ]
     },
     "metadata": {},
     "output_type": "display_data"
    },
    {
     "data": {
      "text/latex": [
       "$\\displaystyle \\frac{d}{d x} \\left(\\sqrt{x} + e^{x}\\right) = e^{x} + \\frac{1}{2 \\sqrt{x}}$"
      ],
      "text/plain": [
       "Eq(Derivative(sqrt(x) + exp(x), x), exp(x) + 1/(2*sqrt(x)))"
      ]
     },
     "metadata": {},
     "output_type": "display_data"
    },
    {
     "data": {
      "text/latex": [
       "$\\displaystyle \\int \\left(1 - \\sin{\\left(x \\right)}\\right)\\, dx = x + \\cos{\\left(x \\right)}$"
      ],
      "text/plain": [
       "Eq(Integral(1 - sin(x), x), x + cos(x))"
      ]
     },
     "metadata": {},
     "output_type": "display_data"
    },
    {
     "data": {
      "text/latex": [
       "$\\displaystyle \\frac{d}{d x} \\left(\\sin{\\left(x \\right)} - \\tan{\\left(x \\right)}\\right) = \\cos{\\left(x \\right)} - \\tan^{2}{\\left(x \\right)} - 1$"
      ],
      "text/plain": [
       "Eq(Derivative(sin(x) - tan(x), x), cos(x) - tan(x)**2 - 1)"
      ]
     },
     "metadata": {},
     "output_type": "display_data"
    },
    {
     "data": {
      "text/latex": [
       "$\\displaystyle \\int \\left(\\sqrt{x} + x\\right)\\, dx = \\frac{2 x^{\\frac{3}{2}}}{3} + \\frac{x^{2}}{2}$"
      ],
      "text/plain": [
       "Eq(Integral(sqrt(x) + x, x), 2*x**(3/2)/3 + x**2/2)"
      ]
     },
     "metadata": {},
     "output_type": "display_data"
    },
    {
     "data": {
      "text/latex": [
       "$\\displaystyle \\frac{d}{d x} e^{- x} \\cos{\\left(x \\right)} = - e^{- x} \\sin{\\left(x \\right)} - e^{- x} \\cos{\\left(x \\right)}$"
      ],
      "text/plain": [
       "Eq(Derivative(exp(-x)*cos(x), x), -exp(-x)*sin(x) - exp(-x)*cos(x))"
      ]
     },
     "metadata": {},
     "output_type": "display_data"
    },
    {
     "data": {
      "text/latex": [
       "$\\displaystyle \\int \\sqrt{x^{4} + 2 x}\\, dx = \\int \\sqrt{x^{4} + 2 x}\\, dx$"
      ],
      "text/plain": [
       "Eq(Integral(sqrt(x**4 + 2*x), x), Integral(sqrt(x**4 + 2*x), x))"
      ]
     },
     "metadata": {},
     "output_type": "display_data"
    },
    {
     "data": {
      "text/latex": [
       "$\\displaystyle \\frac{d}{d x} \\left(- \\tan{\\left(x \\right)}\\right) = - \\tan^{2}{\\left(x \\right)} - 1$"
      ],
      "text/plain": [
       "Eq(Derivative(-tan(x), x), -tan(x)**2 - 1)"
      ]
     },
     "metadata": {},
     "output_type": "display_data"
    },
    {
     "data": {
      "text/latex": [
       "$\\displaystyle \\int \\left(\\sqrt{x} + x^{4} + 3 x + 4\\right)\\, dx = \\frac{2 x^{\\frac{3}{2}}}{3} + \\frac{x^{5}}{5} + \\frac{3 x^{2}}{2} + 4 x$"
      ],
      "text/plain": [
       "Eq(Integral(sqrt(x) + x**4 + 3*x + 4, x), 2*x**(3/2)/3 + x**5/5 + 3*x**2/2 + 4*x)"
      ]
     },
     "metadata": {},
     "output_type": "display_data"
    },
    {
     "data": {
      "text/latex": [
       "$\\displaystyle \\frac{d}{d x} \\sin{\\left(\\log{\\left(x \\right)} \\right)} = \\frac{\\cos{\\left(\\log{\\left(x \\right)} \\right)}}{x}$"
      ],
      "text/plain": [
       "Eq(Derivative(sin(log(x)), x), cos(log(x))/x)"
      ]
     },
     "metadata": {},
     "output_type": "display_data"
    },
    {
     "data": {
      "text/latex": [
       "$\\displaystyle \\int \\left(\\sqrt[3]{x} + x^{2} - 2 x + 3\\right)\\, dx = \\frac{3 x^{\\frac{4}{3}}}{4} + \\frac{x^{3}}{3} - x^{2} + 3 x$"
      ],
      "text/plain": [
       "Eq(Integral(x**(1/3) + x**2 - 2*x + 3, x), 3*x**(4/3)/4 + x**3/3 - x**2 + 3*x)"
      ]
     },
     "metadata": {},
     "output_type": "display_data"
    },
    {
     "data": {
      "text/latex": [
       "$\\displaystyle \\frac{d}{d x} \\left(- 2 x + e^{x}\\right) = e^{x} - 2$"
      ],
      "text/plain": [
       "Eq(Derivative(-2*x + exp(x), x), exp(x) - 2)"
      ]
     },
     "metadata": {},
     "output_type": "display_data"
    },
    {
     "data": {
      "text/latex": [
       "$\\displaystyle \\int \\tan{\\left(e^{x} \\right)}\\, dx = \\int \\tan{\\left(e^{x} \\right)}\\, dx$"
      ],
      "text/plain": [
       "Eq(Integral(tan(exp(x)), x), Integral(tan(exp(x)), x))"
      ]
     },
     "metadata": {},
     "output_type": "display_data"
    },
    {
     "data": {
      "text/latex": [
       "$\\displaystyle \\frac{d}{d x} \\left(\\sqrt{x} + \\log{\\left(x \\right)}\\right) = \\frac{1}{x} + \\frac{1}{2 \\sqrt{x}}$"
      ],
      "text/plain": [
       "Eq(Derivative(sqrt(x) + log(x), x), 1/x + 1/(2*sqrt(x)))"
      ]
     },
     "metadata": {},
     "output_type": "display_data"
    },
    {
     "data": {
      "text/latex": [
       "$\\displaystyle \\int \\frac{\\sqrt{x}}{\\log{\\left(x \\right)}}\\, dx = \\int \\frac{\\sqrt{x}}{\\log{\\left(x \\right)}}\\, dx$"
      ],
      "text/plain": [
       "Eq(Integral(sqrt(x)/log(x), x), Integral(sqrt(x)/log(x), x))"
      ]
     },
     "metadata": {},
     "output_type": "display_data"
    },
    {
     "data": {
      "text/latex": [
       "$\\displaystyle \\frac{d}{d x} \\left(\\sqrt{x} + x - 5\\right) = 1 + \\frac{1}{2 \\sqrt{x}}$"
      ],
      "text/plain": [
       "Eq(Derivative(sqrt(x) + x - 5, x), 1 + 1/(2*sqrt(x)))"
      ]
     },
     "metadata": {},
     "output_type": "display_data"
    },
    {
     "data": {
      "text/latex": [
       "$\\displaystyle \\int \\left(x^{4} - x^{2} + 1\\right)\\, dx = \\frac{x^{5}}{5} - \\frac{x^{3}}{3} + x$"
      ],
      "text/plain": [
       "Eq(Integral(x**4 - x**2 + 1, x), x**5/5 - x**3/3 + x)"
      ]
     },
     "metadata": {},
     "output_type": "display_data"
    },
    {
     "data": {
      "text/latex": [
       "$\\displaystyle \\frac{d}{d x} \\left(x^{3} + x^{2} + 3 x\\right) = 3 x^{2} + 2 x + 3$"
      ],
      "text/plain": [
       "Eq(Derivative(x**3 + x**2 + 3*x, x), 3*x**2 + 2*x + 3)"
      ]
     },
     "metadata": {},
     "output_type": "display_data"
    },
    {
     "data": {
      "text/latex": [
       "$\\displaystyle \\int \\frac{\\sqrt{x}}{x - 5}\\, dx = 2 \\sqrt{x} + \\sqrt{5} \\log{\\left(\\sqrt{x} - \\sqrt{5} \\right)} - \\sqrt{5} \\log{\\left(\\sqrt{x} + \\sqrt{5} \\right)}$"
      ],
      "text/plain": [
       "Eq(Integral(sqrt(x)/(x - 5), x), 2*sqrt(x) + sqrt(5)*log(sqrt(x) - sqrt(5)) - sqrt(5)*log(sqrt(x) + sqrt(5)))"
      ]
     },
     "metadata": {},
     "output_type": "display_data"
    },
    {
     "data": {
      "text/latex": [
       "$\\displaystyle \\frac{d}{d x} e^{- x} \\sin{\\left(x \\right)} = - e^{- x} \\sin{\\left(x \\right)} + e^{- x} \\cos{\\left(x \\right)}$"
      ],
      "text/plain": [
       "Eq(Derivative(exp(-x)*sin(x), x), -exp(-x)*sin(x) + exp(-x)*cos(x))"
      ]
     },
     "metadata": {},
     "output_type": "display_data"
    },
    {
     "data": {
      "text/latex": [
       "$\\displaystyle \\int \\sin{\\left(\\log{\\left(x \\right)} \\right)}\\, dx = \\frac{x \\sin{\\left(\\log{\\left(x \\right)} \\right)}}{2} - \\frac{x \\cos{\\left(\\log{\\left(x \\right)} \\right)}}{2}$"
      ],
      "text/plain": [
       "Eq(Integral(sin(log(x)), x), x*sin(log(x))/2 - x*cos(log(x))/2)"
      ]
     },
     "metadata": {},
     "output_type": "display_data"
    },
    {
     "data": {
      "text/latex": [
       "$\\displaystyle \\frac{d}{d x} \\left(3 x + \\log{\\left(x \\right)}\\right) = 3 + \\frac{1}{x}$"
      ],
      "text/plain": [
       "Eq(Derivative(3*x + log(x), x), 3 + 1/x)"
      ]
     },
     "metadata": {},
     "output_type": "display_data"
    },
    {
     "data": {
      "text/latex": [
       "$\\displaystyle \\int \\left(x^{2} - x\\right)\\, dx = \\frac{x^{3}}{3} - \\frac{x^{2}}{2}$"
      ],
      "text/plain": [
       "Eq(Integral(x**2 - x, x), x**3/3 - x**2/2)"
      ]
     },
     "metadata": {},
     "output_type": "display_data"
    },
    {
     "data": {
      "text/latex": [
       "$\\displaystyle \\frac{d}{d x} \\left(- \\log{\\left(x \\right)} + \\tan{\\left(x \\right)}\\right) = \\tan^{2}{\\left(x \\right)} + 1 - \\frac{1}{x}$"
      ],
      "text/plain": [
       "Eq(Derivative(-log(x) + tan(x), x), tan(x)**2 + 1 - 1/x)"
      ]
     },
     "metadata": {},
     "output_type": "display_data"
    },
    {
     "data": {
      "text/latex": [
       "$\\displaystyle \\int \\log{\\left(- 2 x \\right)}\\, dx = x \\log{\\left(- 2 x \\right)} - x$"
      ],
      "text/plain": [
       "Eq(Integral(log(-2*x), x), x*log(-2*x) - x)"
      ]
     },
     "metadata": {},
     "output_type": "display_data"
    },
    {
     "data": {
      "text/latex": [
       "$\\displaystyle \\frac{d}{d x} \\left(- \\sqrt{x} + \\log{\\left(x \\right)}\\right) = \\frac{1}{x} - \\frac{1}{2 \\sqrt{x}}$"
      ],
      "text/plain": [
       "Eq(Derivative(-sqrt(x) + log(x), x), 1/x - 1/(2*sqrt(x)))"
      ]
     },
     "metadata": {},
     "output_type": "display_data"
    },
    {
     "data": {
      "text/latex": [
       "$\\displaystyle \\int \\frac{\\sqrt{x}}{4 x + 1}\\, dx = \\frac{\\sqrt{x}}{2} - \\frac{\\operatorname{atan}{\\left(2 \\sqrt{x} \\right)}}{4}$"
      ],
      "text/plain": [
       "Eq(Integral(sqrt(x)/(4*x + 1), x), sqrt(x)/2 - atan(2*sqrt(x))/4)"
      ]
     },
     "metadata": {},
     "output_type": "display_data"
    },
    {
     "data": {
      "text/latex": [
       "$\\displaystyle \\frac{d}{d x} \\left(- x^{2} + \\tan{\\left(x \\right)}\\right) = - 2 x + \\tan^{2}{\\left(x \\right)} + 1$"
      ],
      "text/plain": [
       "Eq(Derivative(-x**2 + tan(x), x), -2*x + tan(x)**2 + 1)"
      ]
     },
     "metadata": {},
     "output_type": "display_data"
    },
    {
     "data": {
      "text/latex": [
       "$\\displaystyle \\int e^{\\sqrt{x}}\\, dx = 2 \\sqrt{x} e^{\\sqrt{x}} - 2 e^{\\sqrt{x}}$"
      ],
      "text/plain": [
       "Eq(Integral(exp(sqrt(x)), x), 2*sqrt(x)*exp(sqrt(x)) - 2*exp(sqrt(x)))"
      ]
     },
     "metadata": {},
     "output_type": "display_data"
    },
    {
     "data": {
      "text/latex": [
       "$\\displaystyle \\frac{d}{d x} \\frac{\\sqrt[3]{x}}{\\cos{\\left(x \\right)}} = \\frac{\\sqrt[3]{x} \\sin{\\left(x \\right)}}{\\cos^{2}{\\left(x \\right)}} + \\frac{1}{3 x^{\\frac{2}{3}} \\cos{\\left(x \\right)}}$"
      ],
      "text/plain": [
       "Eq(Derivative(x**(1/3)/cos(x), x), x**(1/3)*sin(x)/cos(x)**2 + 1/(3*x**(2/3)*cos(x)))"
      ]
     },
     "metadata": {},
     "output_type": "display_data"
    },
    {
     "data": {
      "text/latex": [
       "$\\displaystyle \\int \\frac{\\sin{\\left(x \\right)}}{x^{2}}\\, dx = - \\log{\\left(x \\right)} + \\frac{\\log{\\left(x^{2} \\right)}}{2} + \\operatorname{Ci}{\\left(x \\right)} - \\frac{\\sin{\\left(x \\right)}}{x}$"
      ],
      "text/plain": [
       "Eq(Integral(sin(x)/x**2, x), -log(x) + log(x**2)/2 + Ci(x) - sin(x)/x)"
      ]
     },
     "metadata": {},
     "output_type": "display_data"
    },
    {
     "data": {
      "text/latex": [
       "$\\displaystyle \\frac{d}{d x} \\left(x + \\tan{\\left(x \\right)} + 4\\right) = \\tan^{2}{\\left(x \\right)} + 2$"
      ],
      "text/plain": [
       "Eq(Derivative(x + tan(x) + 4, x), tan(x)**2 + 2)"
      ]
     },
     "metadata": {},
     "output_type": "display_data"
    },
    {
     "data": {
      "text/latex": [
       "$\\displaystyle \\int \\left(- x + \\log{\\left(x \\right)} + 2\\right)\\, dx = - \\frac{x^{2}}{2} + x \\log{\\left(x \\right)} + x$"
      ],
      "text/plain": [
       "Eq(Integral(-x + log(x) + 2, x), -x**2/2 + x*log(x) + x)"
      ]
     },
     "metadata": {},
     "output_type": "display_data"
    },
    {
     "data": {
      "text/latex": [
       "$\\displaystyle \\frac{d}{d x} \\left(x^{4} - x + 2\\right) = 4 x^{3} - 1$"
      ],
      "text/plain": [
       "Eq(Derivative(x**4 - x + 2, x), 4*x**3 - 1)"
      ]
     },
     "metadata": {},
     "output_type": "display_data"
    },
    {
     "data": {
      "text/latex": [
       "$\\displaystyle \\int \\left(x + 1 - \\frac{1}{x^{4}}\\right)\\, dx = \\frac{x^{2}}{2} + x + \\frac{1}{3 x^{3}}$"
      ],
      "text/plain": [
       "Eq(Integral(x + 1 - 1/x**4, x), x**2/2 + x + 1/(3*x**3))"
      ]
     },
     "metadata": {},
     "output_type": "display_data"
    },
    {
     "data": {
      "text/latex": [
       "$\\displaystyle \\frac{d}{d x} \\left(- \\sqrt{x} + x^{2}\\right) = 2 x - \\frac{1}{2 \\sqrt{x}}$"
      ],
      "text/plain": [
       "Eq(Derivative(-sqrt(x) + x**2, x), 2*x - 1/(2*sqrt(x)))"
      ]
     },
     "metadata": {},
     "output_type": "display_data"
    },
    {
     "data": {
      "text/latex": [
       "$\\displaystyle \\int \\cos{\\left(\\sqrt[3]{x} \\right)}\\, dx = 3 x^{\\frac{2}{3}} \\sin{\\left(\\sqrt[3]{x} \\right)} + 6 \\sqrt[3]{x} \\cos{\\left(\\sqrt[3]{x} \\right)} - 6 \\sin{\\left(\\sqrt[3]{x} \\right)}$"
      ],
      "text/plain": [
       "Eq(Integral(cos(x**(1/3)), x), 3*x**(2/3)*sin(x**(1/3)) + 6*x**(1/3)*cos(x**(1/3)) - 6*sin(x**(1/3)))"
      ]
     },
     "metadata": {},
     "output_type": "display_data"
    },
    {
     "data": {
      "text/latex": [
       "$\\displaystyle \\frac{d}{d x} \\left(- 2 x\\right) = -2$"
      ],
      "text/plain": [
       "Eq(Derivative(-2*x, x), -2)"
      ]
     },
     "metadata": {},
     "output_type": "display_data"
    },
    {
     "data": {
      "text/latex": [
       "$\\displaystyle \\int \\left(- 2 x + \\tan{\\left(x \\right)}\\right)\\, dx = - x^{2} - \\log{\\left(\\cos{\\left(x \\right)} \\right)}$"
      ],
      "text/plain": [
       "Eq(Integral(-2*x + tan(x), x), -x**2 - log(cos(x)))"
      ]
     },
     "metadata": {},
     "output_type": "display_data"
    },
    {
     "data": {
      "text/latex": [
       "$\\displaystyle \\frac{d}{d x} \\left(3 x - 1 - \\frac{1}{x^{2}}\\right) = 3 + \\frac{2}{x^{3}}$"
      ],
      "text/plain": [
       "Eq(Derivative(3*x - 1 - 1/x**2, x), 3 + 2/x**3)"
      ]
     },
     "metadata": {},
     "output_type": "display_data"
    },
    {
     "data": {
      "text/latex": [
       "$\\displaystyle \\int \\left(2 x + \\sin{\\left(x \\right)}\\right)\\, dx = x^{2} - \\cos{\\left(x \\right)}$"
      ],
      "text/plain": [
       "Eq(Integral(2*x + sin(x), x), x**2 - cos(x))"
      ]
     },
     "metadata": {},
     "output_type": "display_data"
    },
    {
     "data": {
      "text/latex": [
       "$\\displaystyle \\frac{d}{d x} \\left(- \\frac{\\tan{\\left(x \\right)}}{3 x}\\right) = - \\frac{\\tan^{2}{\\left(x \\right)} + 1}{3 x} + \\frac{\\tan{\\left(x \\right)}}{3 x^{2}}$"
      ],
      "text/plain": [
       "Eq(Derivative(-tan(x)/(3*x), x), -(tan(x)**2 + 1)/(3*x) + tan(x)/(3*x**2))"
      ]
     },
     "metadata": {},
     "output_type": "display_data"
    },
    {
     "data": {
      "text/latex": [
       "$\\displaystyle \\int \\log{\\left(\\tan{\\left(x \\right)} \\right)}\\, dx = \\int \\log{\\left(\\tan{\\left(x \\right)} \\right)}\\, dx$"
      ],
      "text/plain": [
       "Eq(Integral(log(tan(x)), x), Integral(log(tan(x)), x))"
      ]
     },
     "metadata": {},
     "output_type": "display_data"
    },
    {
     "data": {
      "text/latex": [
       "$\\displaystyle \\frac{d}{d x} \\cos{\\left(\\frac{1}{x^{3}} \\right)} = \\frac{3 \\sin{\\left(\\frac{1}{x^{3}} \\right)}}{x^{4}}$"
      ],
      "text/plain": [
       "Eq(Derivative(cos(x**(-3)), x), 3*sin(x**(-3))/x**4)"
      ]
     },
     "metadata": {},
     "output_type": "display_data"
    },
    {
     "data": {
      "text/latex": [
       "$\\displaystyle \\int \\left(- 2 x\\right)\\, dx = - x^{2}$"
      ],
      "text/plain": [
       "Eq(Integral(-2*x, x), -x**2)"
      ]
     },
     "metadata": {},
     "output_type": "display_data"
    },
    {
     "data": {
      "text/latex": [
       "$\\displaystyle \\frac{d}{d x} \\frac{2 x}{\\tan{\\left(x \\right)}} = \\frac{2 x \\left(- \\tan^{2}{\\left(x \\right)} - 1\\right)}{\\tan^{2}{\\left(x \\right)}} + \\frac{2}{\\tan{\\left(x \\right)}}$"
      ],
      "text/plain": [
       "Eq(Derivative(2*x/tan(x), x), 2*x*(-tan(x)**2 - 1)/tan(x)**2 + 2/tan(x))"
      ]
     },
     "metadata": {},
     "output_type": "display_data"
    },
    {
     "data": {
      "text/latex": [
       "$\\displaystyle \\int \\frac{2 x}{\\sin{\\left(x \\right)}}\\, dx = 2 \\int \\frac{x}{\\sin{\\left(x \\right)}}\\, dx$"
      ],
      "text/plain": [
       "Eq(Integral(2*x/sin(x), x), 2*Integral(x/sin(x), x))"
      ]
     },
     "metadata": {},
     "output_type": "display_data"
    },
    {
     "data": {
      "text/latex": [
       "$\\displaystyle \\frac{d}{d x} \\frac{\\sin{\\left(x \\right)}}{x^{3} + 3 x - 3} = \\frac{\\left(- 3 x^{2} - 3\\right) \\sin{\\left(x \\right)}}{\\left(x^{3} + 3 x - 3\\right)^{2}} + \\frac{\\cos{\\left(x \\right)}}{x^{3} + 3 x - 3}$"
      ],
      "text/plain": [
       "Eq(Derivative(sin(x)/(x**3 + 3*x - 3), x), (-3*x**2 - 3)*sin(x)/(x**3 + 3*x - 3)**2 + cos(x)/(x**3 + 3*x - 3))"
      ]
     },
     "metadata": {},
     "output_type": "display_data"
    },
    {
     "data": {
      "text/latex": [
       "$\\displaystyle \\int \\frac{x^{2} - 2 x - 1}{\\log{\\left(x \\right)}}\\, dx = - \\operatorname{Ei}{\\left(\\log{\\left(x \\right)} \\right)} - 2 \\operatorname{Ei}{\\left(2 \\log{\\left(x \\right)} \\right)} + \\operatorname{Ei}{\\left(3 \\log{\\left(x \\right)} \\right)}$"
      ],
      "text/plain": [
       "Eq(Integral((x**2 - 2*x - 1)/log(x), x), -Ei(log(x)) - 2*Ei(2*log(x)) + Ei(3*log(x)))"
      ]
     },
     "metadata": {},
     "output_type": "display_data"
    },
    {
     "data": {
      "text/latex": [
       "$\\displaystyle \\frac{d}{d x} \\left(x^{4} - 2 x + e^{x} - 4\\right) = 4 x^{3} + e^{x} - 2$"
      ],
      "text/plain": [
       "Eq(Derivative(x**4 - 2*x + exp(x) - 4, x), 4*x**3 + exp(x) - 2)"
      ]
     },
     "metadata": {},
     "output_type": "display_data"
    },
    {
     "data": {
      "text/latex": [
       "$\\displaystyle \\int \\left(\\sqrt{x} + \\cos{\\left(x \\right)}\\right)\\, dx = \\frac{2 x^{\\frac{3}{2}}}{3} + \\sin{\\left(x \\right)}$"
      ],
      "text/plain": [
       "Eq(Integral(sqrt(x) + cos(x), x), 2*x**(3/2)/3 + sin(x))"
      ]
     },
     "metadata": {},
     "output_type": "display_data"
    },
    {
     "data": {
      "text/latex": [
       "$\\displaystyle \\frac{d}{d x} \\left(e^{x} - \\log{\\left(x \\right)}\\right) = e^{x} - \\frac{1}{x}$"
      ],
      "text/plain": [
       "Eq(Derivative(exp(x) - log(x), x), exp(x) - 1/x)"
      ]
     },
     "metadata": {},
     "output_type": "display_data"
    },
    {
     "data": {
      "text/latex": [
       "$\\displaystyle \\int \\left(- x^{4} + \\cos{\\left(x \\right)}\\right)\\, dx = - \\frac{x^{5}}{5} + \\sin{\\left(x \\right)}$"
      ],
      "text/plain": [
       "Eq(Integral(-x**4 + cos(x), x), -x**5/5 + sin(x))"
      ]
     },
     "metadata": {},
     "output_type": "display_data"
    },
    {
     "data": {
      "text/latex": [
       "$\\displaystyle \\frac{d}{d x} \\left(\\log{\\left(x \\right)} + \\sin{\\left(x \\right)}\\right) = \\cos{\\left(x \\right)} + \\frac{1}{x}$"
      ],
      "text/plain": [
       "Eq(Derivative(log(x) + sin(x), x), cos(x) + 1/x)"
      ]
     },
     "metadata": {},
     "output_type": "display_data"
    },
    {
     "data": {
      "text/latex": [
       "$\\displaystyle \\int \\left(- \\log{\\left(x \\right)} + \\cos{\\left(x \\right)}\\right)\\, dx = - x \\log{\\left(x \\right)} + x + \\sin{\\left(x \\right)}$"
      ],
      "text/plain": [
       "Eq(Integral(-log(x) + cos(x), x), -x*log(x) + x + sin(x))"
      ]
     },
     "metadata": {},
     "output_type": "display_data"
    },
    {
     "data": {
      "text/latex": [
       "$\\displaystyle \\frac{d}{d x} \\frac{\\sqrt[3]{x}}{\\cos{\\left(x \\right)}} = \\frac{\\sqrt[3]{x} \\sin{\\left(x \\right)}}{\\cos^{2}{\\left(x \\right)}} + \\frac{1}{3 x^{\\frac{2}{3}} \\cos{\\left(x \\right)}}$"
      ],
      "text/plain": [
       "Eq(Derivative(x**(1/3)/cos(x), x), x**(1/3)*sin(x)/cos(x)**2 + 1/(3*x**(2/3)*cos(x)))"
      ]
     },
     "metadata": {},
     "output_type": "display_data"
    },
    {
     "data": {
      "text/latex": [
       "$\\displaystyle \\int \\sqrt{x}\\, dx = \\frac{2 x^{\\frac{3}{2}}}{3}$"
      ],
      "text/plain": [
       "Eq(Integral(sqrt(x), x), 2*x**(3/2)/3)"
      ]
     },
     "metadata": {},
     "output_type": "display_data"
    },
    {
     "data": {
      "text/latex": [
       "$\\displaystyle \\frac{d}{d x} \\frac{\\sin{\\left(x \\right)}}{x^{5} - 3 x + 2} = \\frac{\\left(3 - 5 x^{4}\\right) \\sin{\\left(x \\right)}}{\\left(x^{5} - 3 x + 2\\right)^{2}} + \\frac{\\cos{\\left(x \\right)}}{x^{5} - 3 x + 2}$"
      ],
      "text/plain": [
       "Eq(Derivative(sin(x)/(x**5 - 3*x + 2), x), (3 - 5*x**4)*sin(x)/(x**5 - 3*x + 2)**2 + cos(x)/(x**5 - 3*x + 2))"
      ]
     },
     "metadata": {},
     "output_type": "display_data"
    },
    {
     "data": {
      "text/latex": [
       "$\\displaystyle \\int 1\\, dx = x$"
      ],
      "text/plain": [
       "Eq(Integral(1, x), x)"
      ]
     },
     "metadata": {},
     "output_type": "display_data"
    },
    {
     "data": {
      "text/latex": [
       "$\\displaystyle \\frac{d}{d x} \\left(\\sqrt{x} - e^{x}\\right) = - e^{x} + \\frac{1}{2 \\sqrt{x}}$"
      ],
      "text/plain": [
       "Eq(Derivative(sqrt(x) - exp(x), x), -exp(x) + 1/(2*sqrt(x)))"
      ]
     },
     "metadata": {},
     "output_type": "display_data"
    },
    {
     "data": {
      "text/latex": [
       "$\\displaystyle \\int \\frac{\\tan{\\left(x \\right)}}{\\cos{\\left(x \\right)}}\\, dx = \\frac{1}{\\cos{\\left(x \\right)}}$"
      ],
      "text/plain": [
       "Eq(Integral(tan(x)/cos(x), x), 1/cos(x))"
      ]
     },
     "metadata": {},
     "output_type": "display_data"
    },
    {
     "data": {
      "text/latex": [
       "$\\displaystyle \\frac{d}{d x} \\frac{\\log{\\left(x \\right)}}{\\tan{\\left(x \\right)}} = \\frac{\\left(- \\tan^{2}{\\left(x \\right)} - 1\\right) \\log{\\left(x \\right)}}{\\tan^{2}{\\left(x \\right)}} + \\frac{1}{x \\tan{\\left(x \\right)}}$"
      ],
      "text/plain": [
       "Eq(Derivative(log(x)/tan(x), x), (-tan(x)**2 - 1)*log(x)/tan(x)**2 + 1/(x*tan(x)))"
      ]
     },
     "metadata": {},
     "output_type": "display_data"
    },
    {
     "data": {
      "text/latex": [
       "$\\displaystyle \\int \\frac{\\log{\\left(x \\right)}}{x}\\, dx = \\frac{\\log{\\left(x \\right)}^{2}}{2}$"
      ],
      "text/plain": [
       "Eq(Integral(log(x)/x, x), log(x)**2/2)"
      ]
     },
     "metadata": {},
     "output_type": "display_data"
    },
    {
     "data": {
      "text/latex": [
       "$\\displaystyle \\frac{d}{d x} \\frac{\\tan{\\left(x \\right)}}{\\sqrt{x}} = \\frac{\\tan^{2}{\\left(x \\right)} + 1}{\\sqrt{x}} - \\frac{\\tan{\\left(x \\right)}}{2 x^{\\frac{3}{2}}}$"
      ],
      "text/plain": [
       "Eq(Derivative(tan(x)/sqrt(x), x), (tan(x)**2 + 1)/sqrt(x) - tan(x)/(2*x**(3/2)))"
      ]
     },
     "metadata": {},
     "output_type": "display_data"
    },
    {
     "data": {
      "text/latex": [
       "$\\displaystyle \\int \\frac{\\sqrt[3]{x}}{\\sin{\\left(x \\right)}}\\, dx = \\int \\frac{\\sqrt[3]{x}}{\\sin{\\left(x \\right)}}\\, dx$"
      ],
      "text/plain": [
       "Eq(Integral(x**(1/3)/sin(x), x), Integral(x**(1/3)/sin(x), x))"
      ]
     },
     "metadata": {},
     "output_type": "display_data"
    },
    {
     "data": {
      "text/latex": [
       "$\\displaystyle \\frac{d}{d x} \\left(\\sqrt[3]{x} + e^{x}\\right) = e^{x} + \\frac{1}{3 x^{\\frac{2}{3}}}$"
      ],
      "text/plain": [
       "Eq(Derivative(x**(1/3) + exp(x), x), exp(x) + 1/(3*x**(2/3)))"
      ]
     },
     "metadata": {},
     "output_type": "display_data"
    },
    {
     "data": {
      "text/latex": [
       "$\\displaystyle \\int \\tan{\\left(\\sin{\\left(x \\right)} \\right)}\\, dx = \\int \\tan{\\left(\\sin{\\left(x \\right)} \\right)}\\, dx$"
      ],
      "text/plain": [
       "Eq(Integral(tan(sin(x)), x), Integral(tan(sin(x)), x))"
      ]
     },
     "metadata": {},
     "output_type": "display_data"
    },
    {
     "data": {
      "text/latex": [
       "$\\displaystyle \\frac{d}{d x} \\tan{\\left(\\tan{\\left(x \\right)} \\right)} = \\left(\\tan^{2}{\\left(x \\right)} + 1\\right) \\left(\\tan^{2}{\\left(\\tan{\\left(x \\right)} \\right)} + 1\\right)$"
      ],
      "text/plain": [
       "Eq(Derivative(tan(tan(x)), x), (tan(x)**2 + 1)*(tan(tan(x))**2 + 1))"
      ]
     },
     "metadata": {},
     "output_type": "display_data"
    },
    {
     "data": {
      "text/latex": [
       "$\\displaystyle \\int \\tan{\\left(\\cos{\\left(x \\right)} \\right)}\\, dx = \\int \\tan{\\left(\\cos{\\left(x \\right)} \\right)}\\, dx$"
      ],
      "text/plain": [
       "Eq(Integral(tan(cos(x)), x), Integral(tan(cos(x)), x))"
      ]
     },
     "metadata": {},
     "output_type": "display_data"
    },
    {
     "data": {
      "text/latex": [
       "$\\displaystyle \\frac{d}{d x} \\left(\\sqrt{x} + \\sin{\\left(x \\right)}\\right) = \\cos{\\left(x \\right)} + \\frac{1}{2 \\sqrt{x}}$"
      ],
      "text/plain": [
       "Eq(Derivative(sqrt(x) + sin(x), x), cos(x) + 1/(2*sqrt(x)))"
      ]
     },
     "metadata": {},
     "output_type": "display_data"
    },
    {
     "data": {
      "text/latex": [
       "$\\displaystyle \\int \\left(x + e^{x}\\right)\\, dx = \\frac{x^{2}}{2} + e^{x}$"
      ],
      "text/plain": [
       "Eq(Integral(x + exp(x), x), x**2/2 + exp(x))"
      ]
     },
     "metadata": {},
     "output_type": "display_data"
    },
    {
     "data": {
      "text/latex": [
       "$\\displaystyle \\frac{d}{d x} 3 x = 3$"
      ],
      "text/plain": [
       "Eq(Derivative(3*x, x), 3)"
      ]
     },
     "metadata": {},
     "output_type": "display_data"
    },
    {
     "data": {
      "text/latex": [
       "$\\displaystyle \\int \\left(- 4 x + \\sin{\\left(x \\right)}\\right)\\, dx = - 2 x^{2} - \\cos{\\left(x \\right)}$"
      ],
      "text/plain": [
       "Eq(Integral(-4*x + sin(x), x), -2*x**2 - cos(x))"
      ]
     },
     "metadata": {},
     "output_type": "display_data"
    },
    {
     "data": {
      "text/latex": [
       "$\\displaystyle \\frac{d}{d x} \\sqrt[3]{e^{x}} = \\frac{\\sqrt[3]{e^{x}}}{3}$"
      ],
      "text/plain": [
       "Eq(Derivative(exp(x)**(1/3), x), exp(x)**(1/3)/3)"
      ]
     },
     "metadata": {},
     "output_type": "display_data"
    },
    {
     "data": {
      "text/latex": [
       "$\\displaystyle \\int \\frac{e^{x}}{\\sqrt[3]{x}}\\, dx = \\frac{2 e^{- \\frac{2 i \\pi}{3}} \\Gamma\\left(\\frac{2}{3}\\right) \\gamma\\left(\\frac{2}{3}, x e^{i \\pi}\\right)}{3 \\Gamma\\left(\\frac{5}{3}\\right)}$"
      ],
      "text/plain": [
       "Eq(Integral(exp(x)/x**(1/3), x), 2*exp(-2*I*pi/3)*gamma(2/3)*lowergamma(2/3, x*exp_polar(I*pi))/(3*gamma(5/3)))"
      ]
     },
     "metadata": {},
     "output_type": "display_data"
    },
    {
     "data": {
      "text/latex": [
       "$\\displaystyle \\frac{d}{d x} \\sin{\\left(\\sqrt[3]{x} \\right)} = \\frac{\\cos{\\left(\\sqrt[3]{x} \\right)}}{3 x^{\\frac{2}{3}}}$"
      ],
      "text/plain": [
       "Eq(Derivative(sin(x**(1/3)), x), cos(x**(1/3))/(3*x**(2/3)))"
      ]
     },
     "metadata": {},
     "output_type": "display_data"
    },
    {
     "data": {
      "text/latex": [
       "$\\displaystyle \\int 2 \\sqrt{x}\\, dx = \\frac{4 x^{\\frac{3}{2}}}{3}$"
      ],
      "text/plain": [
       "Eq(Integral(2*sqrt(x), x), 4*x**(3/2)/3)"
      ]
     },
     "metadata": {},
     "output_type": "display_data"
    },
    {
     "data": {
      "text/latex": [
       "$\\displaystyle \\frac{d}{d x} e^{x - 1} = e^{x - 1}$"
      ],
      "text/plain": [
       "Eq(Derivative(exp(x - 1), x), exp(x - 1))"
      ]
     },
     "metadata": {},
     "output_type": "display_data"
    },
    {
     "data": {
      "text/latex": [
       "$\\displaystyle \\int \\frac{\\sin{\\left(x \\right)}}{3 x + 1 + \\frac{1}{x}}\\, dx = \\int \\frac{x \\sin{\\left(x \\right)}}{3 x^{2} + x + 1}\\, dx$"
      ],
      "text/plain": [
       "Eq(Integral(sin(x)/(3*x + 1 + 1/x), x), Integral(x*sin(x)/(3*x**2 + x + 1), x))"
      ]
     },
     "metadata": {},
     "output_type": "display_data"
    },
    {
     "data": {
      "text/latex": [
       "$\\displaystyle \\frac{d}{d x} \\left(3 x + \\tan{\\left(x \\right)}\\right) = \\tan^{2}{\\left(x \\right)} + 4$"
      ],
      "text/plain": [
       "Eq(Derivative(3*x + tan(x), x), tan(x)**2 + 4)"
      ]
     },
     "metadata": {},
     "output_type": "display_data"
    }
   ],
   "source": [
    "for i in range(0,1000):\n",
    "    practice1 = Derivative(random_math(x))\n",
    "    practice2 = Integral(random_math(x),x)\n",
    "    if practice1.evalf() != 0 and practice2.evalf()!= 0: \n",
    "        display(Eq(practice1,practice1.doit(),evaluate=False))\n",
    "        display(Eq(practice2,practice2.doit(),evaluate=False))"
   ]
  },
  {
   "cell_type": "code",
   "execution_count": null,
   "id": "af1d986c",
   "metadata": {},
   "outputs": [],
   "source": []
  }
 ],
 "metadata": {
  "kernelspec": {
   "display_name": "Python 3 (ipykernel)",
   "language": "python",
   "name": "python3"
  },
  "language_info": {
   "codemirror_mode": {
    "name": "ipython",
    "version": 3
   },
   "file_extension": ".py",
   "mimetype": "text/x-python",
   "name": "python",
   "nbconvert_exporter": "python",
   "pygments_lexer": "ipython3",
   "version": "3.8.10"
  }
 },
 "nbformat": 4,
 "nbformat_minor": 5
}
