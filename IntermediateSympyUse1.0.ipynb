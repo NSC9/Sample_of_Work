{
 "cells": [
  {
   "cell_type": "code",
   "execution_count": 1,
   "id": "75f68047",
   "metadata": {},
   "outputs": [],
   "source": [
    "import sympy as sy\n",
    "from sympy import diff\n",
    "from sympy.abc import x\n",
    "from sympy import Function\n",
    "#f = Function('f')"
   ]
  },
  {
   "cell_type": "code",
   "execution_count": 2,
   "id": "33e4ca49",
   "metadata": {},
   "outputs": [
    {
     "data": {
      "text/latex": [
       "$\\displaystyle \\frac{1}{x + 1}$"
      ],
      "text/plain": [
       "1/(x + 1)"
      ]
     },
     "execution_count": 2,
     "metadata": {},
     "output_type": "execute_result"
    }
   ],
   "source": [
    "f = 1/(x+1)\n",
    "f\n"
   ]
  },
  {
   "cell_type": "code",
   "execution_count": 3,
   "id": "c92bc669",
   "metadata": {},
   "outputs": [
    {
     "data": {
      "text/latex": [
       "$\\displaystyle - \\frac{1}{16}$"
      ],
      "text/plain": [
       "-1/16"
      ]
     },
     "execution_count": 3,
     "metadata": {},
     "output_type": "execute_result"
    }
   ],
   "source": [
    "diff(f,x).subs(x,-5)\n"
   ]
  },
  {
   "cell_type": "code",
   "execution_count": 4,
   "id": "b57d5f2d",
   "metadata": {},
   "outputs": [
    {
     "data": {
      "text/latex": [
       "$\\displaystyle - \\frac{1}{4}$"
      ],
      "text/plain": [
       "-1/4"
      ]
     },
     "execution_count": 4,
     "metadata": {},
     "output_type": "execute_result"
    }
   ],
   "source": [
    "diff(f,x).subs(x,-3)\n"
   ]
  },
  {
   "cell_type": "code",
   "execution_count": 5,
   "id": "a0611b5d",
   "metadata": {},
   "outputs": [
    {
     "data": {
      "text/latex": [
       "$\\displaystyle -1$"
      ],
      "text/plain": [
       "-1"
      ]
     },
     "execution_count": 5,
     "metadata": {},
     "output_type": "execute_result"
    }
   ],
   "source": [
    "diff(f,x).subs(x,0)"
   ]
  },
  {
   "cell_type": "code",
   "execution_count": 6,
   "id": "46191f61",
   "metadata": {},
   "outputs": [
    {
     "data": {
      "text/latex": [
       "$\\displaystyle - \\frac{1}{9}$"
      ],
      "text/plain": [
       "-1/9"
      ]
     },
     "execution_count": 6,
     "metadata": {},
     "output_type": "execute_result"
    }
   ],
   "source": [
    "diff(f,x).subs(x,2)\n",
    "\n"
   ]
  },
  {
   "cell_type": "code",
   "execution_count": 7,
   "id": "cbfd716e",
   "metadata": {},
   "outputs": [],
   "source": [
    "from sympy import sin, cos\n",
    "import sympy as sy\n",
    "from sympy import simplify\n",
    "from sympy import sympify\n",
    "x = sy.symbols('x)')"
   ]
  },
  {
   "cell_type": "code",
   "execution_count": 8,
   "id": "305f8a98",
   "metadata": {},
   "outputs": [
    {
     "data": {
      "text/latex": [
       "$\\displaystyle \\sin^{2}{\\left(x) \\right)} + \\cos^{2}{\\left(x) \\right)}$"
      ],
      "text/plain": [
       "sin(x))**2 + cos(x))**2"
      ]
     },
     "execution_count": 8,
     "metadata": {},
     "output_type": "execute_result"
    }
   ],
   "source": [
    "expr = sin(x)**2 +cos(x)**2\n",
    "expr"
   ]
  },
  {
   "cell_type": "code",
   "execution_count": 9,
   "id": "fe6234e9",
   "metadata": {},
   "outputs": [
    {
     "data": {
      "text/latex": [
       "$\\displaystyle 1$"
      ],
      "text/plain": [
       "1"
      ]
     },
     "execution_count": 9,
     "metadata": {},
     "output_type": "execute_result"
    }
   ],
   "source": [
    "simplify(expr)"
   ]
  },
  {
   "cell_type": "code",
   "execution_count": 10,
   "id": "4223c9ea",
   "metadata": {},
   "outputs": [
    {
     "data": {
      "text/latex": [
       "$\\displaystyle r + \\cos^{2}{\\left(x \\right)}$"
      ],
      "text/plain": [
       "r + cos(x)**2"
      ]
     },
     "execution_count": 10,
     "metadata": {},
     "output_type": "execute_result"
    }
   ],
   "source": [
    "sympify('r + cos(x)**2')"
   ]
  },
  {
   "cell_type": "code",
   "execution_count": 46,
   "id": "b271f2c4",
   "metadata": {},
   "outputs": [
    {
     "name": "stdout",
     "output_type": "stream",
     "text": [
      "x = top row(left to right)            f(x) = bottom row\n"
     ]
    },
    {
     "data": {
      "text/latex": [
       "$\\displaystyle \\left[\\begin{matrix}0 & 2 & 4 & 6 & 8 & 10 & 12\\\\13 & 16 & 18 & 19 & 18 & 14 & 11\\end{matrix}\\right]$"
      ],
      "text/plain": [
       "Matrix([\n",
       "[ 0,  2,  4,  6,  8, 10, 12],\n",
       "[13, 16, 18, 19, 18, 14, 11]])"
      ]
     },
     "execution_count": 46,
     "metadata": {},
     "output_type": "execute_result"
    }
   ],
   "source": [
    "from sympy import Matrix\n",
    "wwb05 = Matrix([[0,2,4,6,8,10,12], \n",
    "                [13,16,18,19,18,14,11]]) \n",
    "print(\"x = top row(left to right)            f(x) = bottom row\")\n",
    "wwb05\n",
    "\n"
   ]
  },
  {
   "cell_type": "code",
   "execution_count": 65,
   "id": "75af505c",
   "metadata": {},
   "outputs": [
    {
     "name": "stdout",
     "output_type": "stream",
     "text": [
      "x values are stored in variable x as Matrix slice: [0, 2, 4, 6, 8, 10, 12]\n"
     ]
    }
   ],
   "source": [
    "x = wwb05[0:7]\n",
    "print(\"x-values are stored in variable x as Matrix slice:\",x)"
   ]
  },
  {
   "cell_type": "code",
   "execution_count": 70,
   "id": "9922e5e4",
   "metadata": {},
   "outputs": [
    {
     "name": "stdout",
     "output_type": "stream",
     "text": [
      "f(x) values are stored in variable x as Matrix slice: [13, 16, 18, 19, 18, 14, 11]\n"
     ]
    }
   ],
   "source": [
    "def func(x):\n",
    "    return wwb05[7:15]\n",
    "print(\"f(x) values are stored in variable x as Matrix slice:\",func(x))"
   ]
  },
  {
   "cell_type": "code",
   "execution_count": null,
   "id": "ee1d094b",
   "metadata": {},
   "outputs": [
    {
     "name": "stdout",
     "output_type": "stream",
     "text": [
      "\n",
      "Welcome to Python 3.9's help utility!\n",
      "\n",
      "If this is your first time using Python, you should definitely check out\n",
      "the tutorial on the Internet at https://docs.python.org/3.9/tutorial/.\n",
      "\n",
      "Enter the name of any module, keyword, or topic to get help on writing\n",
      "Python programs and using Python modules.  To quit this help utility and\n",
      "return to the interpreter, just type \"quit\".\n",
      "\n",
      "To get a list of available modules, keywords, symbols, or topics, type\n",
      "\"modules\", \"keywords\", \"symbols\", or \"topics\".  Each module also comes\n",
      "with a one-line summary of what it does; to list the modules whose name\n",
      "or summary contain a given string such as \"spam\", type \"modules spam\".\n",
      "\n",
      "help> sympy\n"
     ]
    },
    {
     "name": "stderr",
     "output_type": "stream",
     "text": [
      "IOPub data rate exceeded.\n",
      "The notebook server will temporarily stop sending output\n",
      "to the client in order to avoid crashing it.\n",
      "To change this limit, set the config variable\n",
      "`--NotebookApp.iopub_data_rate_limit`.\n",
      "\n",
      "Current values:\n",
      "NotebookApp.iopub_data_rate_limit=1000000.0 (bytes/sec)\n",
      "NotebookApp.rate_limit_window=3.0 (secs)\n",
      "\n"
     ]
    }
   ],
   "source": [
    "help()"
   ]
  },
  {
   "cell_type": "code",
   "execution_count": null,
   "id": "cbf3dbeb",
   "metadata": {},
   "outputs": [],
   "source": []
  }
 ],
 "metadata": {
  "kernelspec": {
   "display_name": "Python 3 (ipykernel)",
   "language": "python",
   "name": "python3"
  },
  "language_info": {
   "codemirror_mode": {
    "name": "ipython",
    "version": 3
   },
   "file_extension": ".py",
   "mimetype": "text/x-python",
   "name": "python",
   "nbconvert_exporter": "python",
   "pygments_lexer": "ipython3",
   "version": "3.9.6"
  }
 },
 "nbformat": 4,
 "nbformat_minor": 5
}
