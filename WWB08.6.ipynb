{
 "cells": [
  {
   "cell_type": "code",
   "execution_count": 21,
   "id": "3571a7c5",
   "metadata": {},
   "outputs": [
    {
     "data": {
      "text/html": [
       "<img src=\"https://i.imgur.com/fOp728G.png\"/>"
      ],
      "text/plain": [
       "<IPython.core.display.Image object>"
      ]
     },
     "execution_count": 21,
     "metadata": {},
     "output_type": "execute_result"
    }
   ],
   "source": [
    "from IPython.display import Image\n",
    "from IPython.core.display import HTML \n",
    "from sympy import *; x,h,y = symbols(\"x h y\")\n",
    "Image(url= \"https://i.imgur.com/fOp728G.png\")\n"
   ]
  },
  {
   "cell_type": "code",
   "execution_count": 46,
   "id": "4cc2b786",
   "metadata": {},
   "outputs": [
    {
     "name": "stdout",
     "output_type": "stream",
     "text": [
      "0.21*x + 0.27\n"
     ]
    }
   ],
   "source": [
    "#Fx = \n",
    "expr = (3*x) / (x+7)\n",
    "MofTan = (diff(expr)).subs(x,3)   #differentiating our expression then substiting x for 3.\n",
    "y = 0.9 + (21/100)*(x-3)   #plugging in the slope for the line of tangency into point slope form\n",
    "print(y)"
   ]
  },
  {
   "cell_type": "code",
   "execution_count": 45,
   "id": "a30d2993",
   "metadata": {},
   "outputs": [
    {
     "data": {
      "text/html": [
       "<img src=\"https://i.imgur.com/GT56S3W.png\"/>"
      ],
      "text/plain": [
       "<IPython.core.display.Image object>"
      ]
     },
     "execution_count": 45,
     "metadata": {},
     "output_type": "execute_result"
    }
   ],
   "source": [
    "Image(url= \"https://i.imgur.com/GT56S3W.png\")"
   ]
  },
  {
   "cell_type": "code",
   "execution_count": null,
   "id": "95a6efa1",
   "metadata": {},
   "outputs": [],
   "source": []
  }
 ],
 "metadata": {
  "kernelspec": {
   "display_name": "Python 3 (ipykernel)",
   "language": "python",
   "name": "python3"
  },
  "language_info": {
   "codemirror_mode": {
    "name": "ipython",
    "version": 3
   },
   "file_extension": ".py",
   "mimetype": "text/x-python",
   "name": "python",
   "nbconvert_exporter": "python",
   "pygments_lexer": "ipython3",
   "version": "3.9.6"
  }
 },
 "nbformat": 4,
 "nbformat_minor": 5
}
