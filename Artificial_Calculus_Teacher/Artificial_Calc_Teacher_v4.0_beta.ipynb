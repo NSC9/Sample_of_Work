{
 "cells": [
  {
   "cell_type": "raw",
   "id": "8c69730d",
   "metadata": {},
   "source": [
    "---\n",
    "title: Calculus Problem Generator\n",
    "description: Generates Derivative and Integral Expressions\n",
    "show-code : False\n",
    "---"
   ]
  },
  {
   "cell_type": "code",
   "execution_count": null,
   "id": "c5197005",
   "metadata": {},
   "outputs": [],
   "source": [
    "# changelog: added definite integrals"
   ]
  },
  {
   "cell_type": "code",
   "execution_count": 293,
   "id": "108761f9",
   "metadata": {
    "scrolled": false
   },
   "outputs": [
    {
     "name": "stdout",
     "output_type": "stream",
     "text": [
      "\n",
      "\n",
      "Solve with pen and paper:\n",
      "\n",
      "\n"
     ]
    },
    {
     "data": {
      "text/latex": [
       "$\\displaystyle \\left. \\frac{d}{d u} \\left(- 6 u\\right) \\right|_{\\substack{ u=-2 }}$"
      ],
      "text/plain": [
       "Subs(Derivative(-6*u, u), u, -2)"
      ]
     },
     "metadata": {},
     "output_type": "display_data"
    },
    {
     "name": "stdout",
     "output_type": "stream",
     "text": [
      "\n",
      "\n"
     ]
    },
    {
     "data": {
      "text/latex": [
       "$\\displaystyle \\int \\left(- \\frac{z^{4}}{5}\\right)\\, dz$"
      ],
      "text/plain": [
       "Integral(-z**4/5, z)"
      ]
     },
     "metadata": {},
     "output_type": "display_data"
    },
    {
     "name": "stdout",
     "output_type": "stream",
     "text": [
      "\n",
      "\n",
      "\n",
      "\n",
      "-----------------------------------------------------------------------------------------------------------\n"
     ]
    }
   ],
   "source": [
    "from sympy.simplify.fu import TR22\n",
    "from sympy import sin,cos,ln,exp,tan,Function,Derivative,Eq,Integral,sec\n",
    "from sympy import factor_terms,simplify, sqrt, Symbol,pi\n",
    "import random\n",
    "f = Function('f')\n",
    "g = Function('g')\n",
    "h = Function('h')\n",
    "theta = Symbol('theta')\n",
    "i = 0\n",
    "def random_value(i):\n",
    "    allowed_values = list(range(-6,6))\n",
    "    allowed_values.remove(0)\n",
    "    for i in range (0,len(allowed_values)):\n",
    "        return random.choice(allowed_values)\n",
    "def random_variable(i):\n",
    "    allowed_values = ['v','u','t','x', 'y', 'z']\n",
    "    for i in range (0,len(allowed_values)):\n",
    "        return Symbol(random.choice(allowed_values), real=True)\n",
    "a = random_variable(i)\n",
    "b = random_variable(i)\n",
    "def random_math(a): \n",
    "    def power(a):      \n",
    "        return a**random_value(i)\n",
    "    def scalar(a):       \n",
    "        return a*random_value(i)\n",
    "    def addSUBTR(a):     \n",
    "        return a+random_value(i)\n",
    "    funs = [power,power,power,scalar,scalar,scalar,addSUBTR,addSUBTR,addSUBTR,\n",
    "            ln,exp,cos,sin,cos,sin,tan,sec,sqrt]   \n",
    "    operations = [f(g(a)),f(a)+g(a),f(a)-g(a),f(a)/g(a),f(a)*g(a),\n",
    "                  f(g(a)),f(a)+g(a),f(a)-g(a),f(a)/g(a),f(a)*g(a),\n",
    "                  f(g(a)),f(a)+g(a),f(a)-g(a),f(a)/g(a),f(a)*g(a),\n",
    "                  f(g(a)),f(a)+g(a),f(a)-g(a),f(a)/g(a),f(a)*g(a),\n",
    "                  (f(a)*g(a))/h(a), f(a)/(g(a)*h(a)),\n",
    "                  f(g(h(a))),\n",
    "                  f(h(a))+g(a),f(h(a))-g(a),\n",
    "                  f(h(a))/g(a),f(a)/g(h(a)),\n",
    "                  f(h(a))*g(a), \n",
    "                  f(a)*h(a)*g(a)]\n",
    "    operation = operations[random.randrange(0,len(operations))]\n",
    "    return [[[operation.replace(f, i) for i in funs][random.randrange(0,len(funs))].replace(g, i) for i in funs]\\\n",
    "[random.randrange(0,len(funs))].replace(h, i) for i in funs][random.randrange(0,len(funs))]\n",
    "\n",
    "def random_math2(b): \n",
    "\n",
    "    def power(b):      \n",
    "        return b**random_value(i)\n",
    "    def scalar(b):\n",
    "        return b*random_value(i)\n",
    "    def addSUBTR(b): \n",
    "        return b+random_value(i)\n",
    "    funs = [power,power,power,addSUBTR,addSUBTR,addSUBTR,scalar,scalar,scalar,\n",
    "            power,power,power,addSUBTR,addSUBTR,addSUBTR,scalar,scalar,scalar,\n",
    "            ln,exp,cos,sin,cos,sin,tan,sqrt]   \n",
    "    operations = [f(g(b)),f(b)+g(b),f(b)-g(b),f(b)/g(b),f(b)*g(b)]\n",
    "    operation = operations[random.randrange(0,len(operations))]\n",
    "    return [[operation.replace(f, i) for i in funs][random.randrange(0,len(funs))].replace(g, i) for i in funs]\\\n",
    "[random.randrange(0,len(funs))]\n",
    "\n",
    "keywords2 = {\n",
    "\"sin\",\n",
    "\"cos\",\n",
    "\"sec\",\n",
    "\"tan\",\n",
    "}\n",
    "setup1 = random_math(a)\n",
    "setup2 = random_math2(b)\n",
    "\n",
    "if any(kw in str(setup1) for kw in keywords2):\n",
    "    setup1 = setup1.replace(a,theta)\n",
    "    a = theta\n",
    "else:\n",
    "    pass\n",
    "\n",
    "if any(kw in str(setup2) for kw in keywords2):\n",
    "    setup2 = setup2.replace(b,theta)\n",
    "    b = theta\n",
    "else:\n",
    "    pass\n",
    "def random_value2(i):\n",
    "    allowed_values = list(range(1,4))\n",
    "    for i in range (0,len(allowed_values)):\n",
    "        return random.choice(allowed_values)\n",
    "\n",
    "# chooses to evaluate derivative at a value (1 = evaluate) (2 or 3 = do not evaluate)    \n",
    "if random_value2(i) == 1:\n",
    "    def random_value3(i):\n",
    "        allowed_values = list(range(-10,10))\n",
    "        if any(kw in str(setup1) for kw in keywords2):\n",
    "            allowed_values.clear()\n",
    "            allowed_values.append(-pi/2)\n",
    "            allowed_values.append(-pi)\n",
    "            allowed_values.append(-3*pi/2)\n",
    "            allowed_values.append(-2*pi)   \n",
    "            allowed_values.append(pi/2)\n",
    "            allowed_values.append(pi)\n",
    "            allowed_values.append(3*pi/2)\n",
    "            allowed_values.append(2*pi)        \n",
    "        else:\n",
    "            pass\n",
    "        for i in range (0,len(allowed_values)):\n",
    "            return random.choice(allowed_values)        \n",
    "    practice1 = Derivative(simplify(setup1),a).subs(a,random_value3(i))\n",
    "else:\n",
    "    practice1 = Derivative(simplify(setup1),a)\n",
    "\n",
    "# chooses definite or indefinite integral (1 for definite) (2 or 3 for indefinite)\n",
    "if random_value2(i) == 1:\n",
    "    def random_value3(i):\n",
    "        allowed_values = list(range(-11,0))\n",
    "        if any(kw in str(setup2) for kw in keywords2):\n",
    "            allowed_values.clear()\n",
    "            allowed_values.append(-pi/2)\n",
    "            allowed_values.append(-pi)\n",
    "            allowed_values.append(-3*pi/2)\n",
    "            allowed_values.append(-2*pi)            \n",
    "        else:\n",
    "            pass\n",
    "        for i in range (0,len(allowed_values)):\n",
    "            return random.choice(allowed_values)\n",
    "    def random_value4(i):\n",
    "        allowed_values = list(range(1,11))\n",
    "        if any(kw in str(setup2) for kw in keywords2):\n",
    "            allowed_values.clear()\n",
    "            allowed_values.append(pi/2)\n",
    "            allowed_values.append(pi)\n",
    "            allowed_values.append(3*pi/2)\n",
    "            allowed_values.append(2*pi)\n",
    "        else:\n",
    "            pass\n",
    "        for i in range (0,len(allowed_values)):\n",
    "            return random.choice(allowed_values)\n",
    "\n",
    "    practice2 = Integral(simplify(setup2),(b,random_value3(i),random_value4(i)))   \n",
    "else: \n",
    "    practice2 = Integral(simplify(setup2),b)  \n",
    "p1eq = TR22(Eq(practice1,practice1.doit().evalf(),evaluate=False))\n",
    "p2eq = TR22(Eq(practice2,practice2.doit().simplify(),evaluate=False))    \n",
    "\n",
    "\n",
    "print(\"\\n\")\n",
    "print(\"Solve with pen and paper:\")\n",
    "print(\"\\n\")\n",
    "\n",
    "keywords1 = {\n",
    "    \"Ei\",\n",
    "    \"gamma\",\n",
    "    \"Piecewise\",\n",
    "    \"li\",\n",
    "    \"erf\",\n",
    "    \"atan\",\n",
    "    \"Si\",\n",
    "    \"Ci\",\n",
    "    \"hyper\",\n",
    "    \"fresnel\",\n",
    "    \"Li\",\n",
    "    \"expint\",\n",
    "    \"zoo\",\n",
    "    \"nan\"\n",
    "}\n",
    "if str(p1eq.rhs) != \"0\":\n",
    "    if not any(kw in str(p1eq) for kw in keywords1):\n",
    "        display(p1eq.lhs)\n",
    "    else:\n",
    "        pass\n",
    "else: \n",
    "    pass\n",
    "print(\"\\n\")\n",
    "\n",
    "if str(factor_terms(p2eq.lhs)) != str(p2eq.rhs):    \n",
    "    if not any(kw in str(p2eq) for kw in keywords1):\n",
    "        display(p2eq.lhs) \n",
    "    else:\n",
    "        pass      \n",
    "else: \n",
    "    pass\n",
    "print(\"\\n\")\n",
    "print(\"\\n\")\n",
    "print(\"-----------------------------------------------------------------------------------------------------------\")\n",
    "\n"
   ]
  },
  {
   "cell_type": "markdown",
   "id": "b3f5b9fb",
   "metadata": {},
   "source": [
    "If LaTeX display breaks, refresh the page.\n",
    "\n",
    "Helpful resources: https://www.derivative-calculator.net/ & https://www.integral-calculator.com/ \n",
    "\n",
    "**Created by GitHub.com/NSC9   - MIT License - v4.0**\n",
    "\n",
    "Donate by sending Bitcoin (BTC) to address: **bc1qtawr2gw52ftufzu0r3r20pnj3vmynssxs0mjl4**"
   ]
  },
  {
   "cell_type": "code",
   "execution_count": 294,
   "id": "12b6490e",
   "metadata": {},
   "outputs": [
    {
     "name": "stdout",
     "output_type": "stream",
     "text": [
      "---------------------------------------------------------------------------------------------------------\n",
      "\n",
      "\n",
      "Solutions:\n",
      "\n",
      "\n"
     ]
    },
    {
     "data": {
      "text/latex": [
       "$\\displaystyle \\left. \\frac{d}{d u} \\left(- 6 u\\right) \\right|_{\\substack{ u=-2 }} = -6.0$"
      ],
      "text/plain": [
       "Eq(Subs(Derivative(-6*u, u), u, -2), -6.0)"
      ]
     },
     "metadata": {},
     "output_type": "display_data"
    },
    {
     "name": "stdout",
     "output_type": "stream",
     "text": [
      "\n",
      "\n"
     ]
    },
    {
     "data": {
      "text/latex": [
       "$\\displaystyle \\int \\left(- \\frac{z^{4}}{5}\\right)\\, dz = - \\frac{z^{5}}{25}$"
      ],
      "text/plain": [
       "Eq(Integral(-z**4/5, z), -z**5/25)"
      ]
     },
     "metadata": {},
     "output_type": "display_data"
    }
   ],
   "source": [
    "print(\"---------------------------------------------------------------------------------------------------------\")\n",
    "print(\"\\n\")\n",
    "print(\"Solutions:\")\n",
    "print(\"\\n\")\n",
    "if str(p1eq.rhs) != \"0\":\n",
    "    display(p1eq)\n",
    "else: \n",
    "    pass\n",
    "print(\"\\n\")\n",
    "if str(factor_terms(p2eq.lhs)) != str(p2eq.rhs):    \n",
    "    if not any(kw in str(p2eq) for kw in keywords1):\n",
    "        display(p2eq) \n",
    "    else:\n",
    "        pass"
   ]
  }
 ],
 "metadata": {
  "kernelspec": {
   "display_name": "Python 3 (ipykernel)",
   "language": "python",
   "name": "python3"
  },
  "language_info": {
   "codemirror_mode": {
    "name": "ipython",
    "version": 3
   },
   "file_extension": ".py",
   "mimetype": "text/x-python",
   "name": "python",
   "nbconvert_exporter": "python",
   "pygments_lexer": "ipython3",
   "version": "3.8.10"
  }
 },
 "nbformat": 4,
 "nbformat_minor": 5
}
