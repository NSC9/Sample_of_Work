{
 "cells": [
  {
   "cell_type": "raw",
   "id": "8c69730d",
   "metadata": {},
   "source": [
    "---\n",
    "title: Calculus Problem Generator\n",
    "description: Generates Derivative and Integral Expressions\n",
    "show-code : False\n",
    "---"
   ]
  },
  {
   "cell_type": "markdown",
   "id": "710e3738",
   "metadata": {},
   "source": [
    "If LaTeX display breaks, refresh the page.\n",
    "\n",
    "\n",
    "**Created by GitHub.com/NSC9   - MIT License - v5.82**\n",
    "\n",
    "Donate by sending Bitcoin (BTC) to address: **bc1qtawr2gw52ftufzu0r3r20pnj3vmynssxs0mjl4**\n",
    "\n",
    "**Solve the left expression with pen and paper and then compare answers.**"
   ]
  },
  {
   "cell_type": "code",
   "execution_count": 1,
   "id": "c5197005",
   "metadata": {},
   "outputs": [],
   "source": [
    "# changelog: formatting. shorted code. speed improvements"
   ]
  },
  {
   "cell_type": "code",
   "execution_count": 2,
   "id": "108761f9",
   "metadata": {
    "scrolled": false
   },
   "outputs": [],
   "source": [
    "from sympy.simplify.fu import TR22,TR2i\n",
    "from sympy import ln,exp,Function,Derivative,Eq,Integral,factor_terms, sqrt, Symbol\n",
    "from sympy import pi,I, sin,cos,tan,Rational\n",
    "import random\n",
    "f = Function('f')\n",
    "g = Function('g')\n",
    "h = Function('h')\n",
    "theta = Symbol('theta')\n",
    "i = 0\n",
    "dkeywords = {\"polylog\",\"Ei\",\"gamma\",\"Piecewise\",\"li\",\"erf\",\"Si\",\"Ci\",\"hyper\",\"fresnel\",\"Li\",\"expint\",\"zoo\",\n",
    "\"nan\",\"oo\",\"abs\",\"re\",\"EulerGamma\", \"sinh\",\"tanh\", \"cosh\",'sign','abs','atan','csc','asin'} \n",
    "ikeywords = {\"polylog\",\"Ei\",\"gamma\",\"Piecewise\", \"li\", \"erf\", \"atan\", \"Si\",  \"Ci\",  \"hyper\",  \"fresnel\",  \"Li\", \n",
    "\"expint\",\"zoo\", \"nan\", \"oo\",\"EulerGamma\",\"sinh\",\"csc\",\"asin\"}\n",
    "keywords2 = {\"sin\",\"cos\",\"tan\"}\n",
    "def random_variable(i):\n",
    "    return Symbol(random.choice([i for i in ['v','t','x','z','y']]), real=True)\n",
    "def random_value(i):\n",
    "    return random.choice([i for i in range(-10,10) if i not in [0]])\n",
    "def power(a):      \n",
    "    return random_value(i)*a**int(random_value(i)/2)\n",
    "def scalar(a):       \n",
    "    return a*random_value(i) + random_value(i)\n",
    "def addSUBTR(a):     \n",
    "    return a+random_value(i)\n",
    "def switch(a): \n",
    "    stuff = [pi/2,pi,(3*pi)/2,(2*pi),pi/(2 - a),(a + 2*pi),(a + pi), -pi/2, -pi,-(3*pi)/2,-(2*pi),\n",
    "             I,-I,a*I,-I*a,4*a,Rational(4,3)*pi, Rational(1,3)*pi, Rational(1,4)*pi, Rational(1,6)*pi]\n",
    "    return random.choice([n for n in stuff]) \n",
    "def dmain(a):\n",
    "    def random_math(a): \n",
    "        funs = [power,scalar,addSUBTR,switch,power,scalar,addSUBTR,switch,power,scalar,addSUBTR,switch,\n",
    "                ln,exp,sin,cos,tan]   \n",
    "        operations = [f(g(a)),f(a)+g(a),f(a)-g(a),f(a)/g(a),f(a)*g(a),\n",
    "                      f(g(a)),f(a)+g(a),f(a)-g(a),f(a)/g(a),f(a)*g(a),\n",
    "                      f(g(a)),f(a)+g(a),f(a)-g(a),f(a)/g(a),f(a)*g(a),\n",
    "                      f(a)+g(a)+h(a), f(a)-g(a)-h(a),f(a)+g(a)-h(a), f(a)-g(a)+h(a),\n",
    "                      (f(a)*g(a))/h(a), f(a)/(g(a)*h(a)),f(g(h(a))),f(h(a))+g(a),f(h(a))-g(a),\n",
    "                      f(h(a))/g(a),f(a)/g(h(a)),f(h(a))*g(a),f(a)*h(a)*g(a)]\n",
    "        operation = operations[random.randrange(0,len(operations))]\n",
    "        return [[[operation.replace(f, i) for i in funs][random.randrange(0,len(funs))].replace(g, i) for i in funs]\\\n",
    "    [random.randrange(0,len(funs))].replace(h, i) for i in funs][random.randrange(0,len(funs))]\n",
    "    return random_math(a)\n",
    "def imain(a):\n",
    "    def random_math2(a):  \n",
    "        funs = [power,scalar,addSUBTR,switch,sin,cos]   \n",
    "        operations = [f(g(a)),f(a)+g(a),f(a)-g(a),f(a)/g(a),f(a)*g(a)]\n",
    "        operation = operations[random.randrange(0,len(operations))]\n",
    "        return [[operation.replace(f, i) for i in funs][random.randrange(0,len(funs))].replace(g, i) for i in funs]\\\n",
    "    [random.randrange(0,len(funs))]\n",
    "    return random_math2(a)"
   ]
  },
  {
   "cell_type": "code",
   "execution_count": 11,
   "id": "5ddcf6a5",
   "metadata": {
    "scrolled": false
   },
   "outputs": [
    {
     "data": {
      "text/latex": [
       "$\\displaystyle \\frac{d}{d y} \\left(- 7 y - 13\\right) = -7$"
      ],
      "text/plain": [
       "Eq(Derivative(-7*y - 13, y), -7)"
      ]
     },
     "metadata": {},
     "output_type": "display_data"
    },
    {
     "data": {
      "text/latex": [
       "$\\displaystyle \\int \\left(- i y + \\pi\\right)\\, dy = - \\frac{i y^{2}}{2} + \\pi y$"
      ],
      "text/plain": [
       "Eq(Integral(-I*y + pi, y), -I*y**2/2 + pi*y)"
      ]
     },
     "metadata": {},
     "output_type": "display_data"
    },
    {
     "data": {
      "text/latex": [
       "$\\displaystyle \\frac{d}{d \\theta} \\left(- \\theta - \\tan{\\left(2 \\theta + 10 \\right)} - 4\\right) = - 2 \\sec^{2}{\\left(2 \\theta + 10 \\right)} - 1$"
      ],
      "text/plain": [
       "Eq(Derivative(-theta - tan(2*theta + 10) - 4, theta), -2*sec(2*theta + 10)**2 - 1)"
      ]
     },
     "metadata": {},
     "output_type": "display_data"
    },
    {
     "data": {
      "text/latex": [
       "$\\displaystyle \\int \\left(\\cos{\\left(\\theta \\right)} + 2 \\pi\\right)\\, d\\theta = 2 \\pi \\theta + \\sin{\\left(\\theta \\right)}$"
      ],
      "text/plain": [
       "Eq(Integral(cos(theta) + 2*pi, theta), 2*pi*theta + sin(theta))"
      ]
     },
     "metadata": {},
     "output_type": "display_data"
    },
    {
     "data": {
      "text/latex": [
       "$\\displaystyle \\frac{d}{d y} 4 \\left(y + 5\\right) \\log{\\left(y \\right)} = 4 \\log{\\left(y \\right)} + \\frac{4 y + 20}{y}$"
      ],
      "text/plain": [
       "Eq(Derivative(4*(y + 5)*log(y), y), 4*log(y) + (4*y + 20)/y)"
      ]
     },
     "metadata": {},
     "output_type": "display_data"
    },
    {
     "data": {
      "text/latex": [
       "$\\displaystyle \\int \\left(- 36 y - 60\\right)\\, dy = - 18 y^{2} - 60 y$"
      ],
      "text/plain": [
       "Eq(Integral(-36*y - 60, y), -18*y**2 - 60*y)"
      ]
     },
     "metadata": {},
     "output_type": "display_data"
    },
    {
     "data": {
      "text/latex": [
       "$\\displaystyle \\frac{d}{d \\theta} \\frac{\\cos{\\left(\\theta \\right)} - 6}{4 \\theta - 1} = - \\frac{\\sin{\\left(\\theta \\right)}}{4 \\theta - 1} - \\frac{4 \\left(\\cos{\\left(\\theta \\right)} - 6\\right)}{\\left(4 \\theta - 1\\right)^{2}}$"
      ],
      "text/plain": [
       "Eq(Derivative((cos(theta) - 6)/(4*theta - 1), theta), -sin(theta)/(4*theta - 1) - 4*(cos(theta) - 6)/(4*theta - 1)**2)"
      ]
     },
     "metadata": {},
     "output_type": "display_data"
    },
    {
     "data": {
      "text/latex": [
       "$\\displaystyle \\int \\left(\\sin{\\left(\\theta \\right)} + \\frac{\\pi}{4}\\right)\\, d\\theta = \\frac{\\pi \\theta}{4} - \\cos{\\left(\\theta \\right)}$"
      ],
      "text/plain": [
       "Eq(Integral(sin(theta) + pi/4, theta), pi*theta/4 - cos(theta))"
      ]
     },
     "metadata": {},
     "output_type": "display_data"
    },
    {
     "data": {
      "text/latex": [
       "$\\displaystyle \\frac{d}{d \\theta} \\left(\\theta + 8\\right) \\cos{\\left(\\theta \\right)} = - \\left(\\theta + 8\\right) \\sin{\\left(\\theta \\right)} + \\cos{\\left(\\theta \\right)}$"
      ],
      "text/plain": [
       "Eq(Derivative((theta + 8)*cos(theta), theta), -(theta + 8)*sin(theta) + cos(theta))"
      ]
     },
     "metadata": {},
     "output_type": "display_data"
    },
    {
     "data": {
      "text/latex": [
       "$\\displaystyle \\int \\left(\\sin{\\left(\\theta \\right)} + \\cos{\\left(\\theta \\right)}\\right)\\, d\\theta = \\sin{\\left(\\theta \\right)} - \\cos{\\left(\\theta \\right)}$"
      ],
      "text/plain": [
       "Eq(Integral(sin(theta) + cos(theta), theta), sin(theta) - cos(theta))"
      ]
     },
     "metadata": {},
     "output_type": "display_data"
    }
   ],
   "source": [
    "for i in range(0,5):\n",
    "    derror = True\n",
    "    def dtest():\n",
    "        global setup1\n",
    "        global derror\n",
    "        global practice1\n",
    "        a = random_variable(i)\n",
    "        setup1 = dmain(a)\n",
    "        practice1 = Derivative(setup1,a)       \n",
    "        p1eq = TR22(Eq(practice1,practice1.doit(),evaluate=False))\n",
    "        if any(kw in str(setup1) for kw in keywords2):\n",
    "            setup1 = setup1.replace(a,theta)\n",
    "            practice1 = Derivative(setup1,theta)   \n",
    "            p1eq = TR22(Eq(practice1,practice1.doit(),evaluate=False))\n",
    "        if p1eq.rhs != 0 and not any(kw in str(p1eq) for kw in dkeywords):\n",
    "            derror = False\n",
    "        return p1eq\n",
    "    while derror == True: \n",
    "        output1 = dtest()\n",
    "    display(output1)  \n",
    "    ierror = True\n",
    "    def itest():\n",
    "        global ierror\n",
    "        global practice2\n",
    "        global setup2\n",
    "        a = random_variable(i)\n",
    "        setup2 = imain(a)\n",
    "        practice2 = Integral(setup2,a)  \n",
    "        p2eq = TR22(Eq(practice2,practice2.doit(),evaluate=False))\n",
    "        if str(factor_terms(p2eq.lhs)) != str(factor_terms(p2eq.rhs)) and not any(kw in str(p2eq) for kw in ikeywords)\\\n",
    "        and str(p2eq.lhs) != str(-p2eq.rhs): \n",
    "            if any(kw in str(setup2) for kw in keywords2):\n",
    "                setup2 = setup2.replace(a,theta)\n",
    "                practice2 = Integral(setup2,theta)  \n",
    "                p2eq = TR22(Eq(practice2,practice2.doit(),evaluate=False))\n",
    "            ierror = False\n",
    "        return p2eq\n",
    "    while ierror == True:\n",
    "        output2 = itest()\n",
    "    display(output2)"
   ]
  }
 ],
 "metadata": {
  "kernelspec": {
   "display_name": "Python 3 (ipykernel)",
   "language": "python",
   "name": "python3"
  },
  "language_info": {
   "codemirror_mode": {
    "name": "ipython",
    "version": 3
   },
   "file_extension": ".py",
   "mimetype": "text/x-python",
   "name": "python",
   "nbconvert_exporter": "python",
   "pygments_lexer": "ipython3",
   "version": "3.8.10"
  }
 },
 "nbformat": 4,
 "nbformat_minor": 5
}
