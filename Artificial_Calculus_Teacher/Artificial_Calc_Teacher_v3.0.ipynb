{
 "cells": [
  {
   "cell_type": "raw",
   "id": "8c69730d",
   "metadata": {},
   "source": [
    "---\n",
    "title: Calculus Problem Generator\n",
    "description: Generates Derivative and Integral Expressions\n",
    "show-code : False\n",
    "---"
   ]
  },
  {
   "cell_type": "code",
   "execution_count": null,
   "id": "c5197005",
   "metadata": {},
   "outputs": [],
   "source": [
    "# changelog: cleaned up code for better run-times"
   ]
  },
  {
   "cell_type": "code",
   "execution_count": 1,
   "id": "108761f9",
   "metadata": {
    "scrolled": false
   },
   "outputs": [
    {
     "name": "stdout",
     "output_type": "stream",
     "text": [
      "\n",
      "\n",
      "Solve:\n",
      "\n",
      "\n"
     ]
    },
    {
     "data": {
      "text/latex": [
       "$\\displaystyle \\frac{d}{d x} \\left(x + 3\\right)^{2}$"
      ],
      "text/plain": [
       "Derivative((x + 3)**2, x)"
      ]
     },
     "metadata": {},
     "output_type": "display_data"
    },
    {
     "name": "stdout",
     "output_type": "stream",
     "text": [
      "\n",
      "\n"
     ]
    },
    {
     "data": {
      "text/latex": [
       "$\\displaystyle \\int 16 x\\, dx$"
      ],
      "text/plain": [
       "Integral(16*x, x)"
      ]
     },
     "metadata": {},
     "output_type": "display_data"
    },
    {
     "name": "stdout",
     "output_type": "stream",
     "text": [
      "\n",
      "\n",
      "-----------------------------------------------------------------------------------------------------------\n",
      "\n",
      "\n"
     ]
    }
   ],
   "source": [
    "from sympy.simplify.fu import TR22\n",
    "from sympy import sin,cos,ln,exp,tan,Function,Derivative,Eq,Integral,sec\n",
    "from sympy import factor_terms,simplify, sqrt\n",
    "from sympy.abc import x\n",
    "import random\n",
    "f = Function('f')\n",
    "g = Function('g')\n",
    "h = Function('h')\n",
    "\n",
    "def random_math(x): \n",
    "    allowed_values = list(range(-5, 5))\n",
    "    allowed_values.remove(0)\n",
    "    random_value = random.choice(allowed_values)\n",
    "    random_value2 = random.choice(allowed_values)\n",
    "    random_value3 = random.choice(allowed_values)\n",
    "    def power(x):      \n",
    "        return x**random_value\n",
    "    def scalar(x):\n",
    "        return x*random_value2\n",
    "    def addSUBTR(x): \n",
    "        return x+random_value3\n",
    "    funs = [power,power,power,addSUBTR,addSUBTR,addSUBTR,scalar,scalar,scalar,ln,exp,cos,tan,sqrt,sin,sec]   \n",
    "    operations = [f(g(x)),f(x)+g(x),f(x)-g(x),f(x)/g(x),f(x)*g(x),\n",
    "                  f(g(x)),f(x)+g(x),f(x)-g(x),f(x)/g(x),f(x)*g(x),\n",
    "                  f(g(h(x))),f(h(x))+g(x),f(h(x))-g(x),f(h(x))/g(x),f(x)/g(h(x)),f(h(x))*g(x), f(x)*g(x)*h(x)]\n",
    "    operation = operations[random.randrange(0,len(operations))]\n",
    "    return [[[operation.replace(f, i) for i in funs][random.randrange(0,len(funs))].replace(g, i) for i in funs]\\\n",
    "[random.randrange(0,len(funs))].replace(h, i) for i in funs][random.randrange(0,len(funs))]\n",
    "\n",
    "def random_math2(x): \n",
    "    allowed_values = list(range(-5, 5))\n",
    "    allowed_values.remove(0)\n",
    "    random_value = random.choice(allowed_values)\n",
    "    random_value2 = random.choice(allowed_values)\n",
    "    random_value3 = random.choice(allowed_values)\n",
    "    def power(x):      \n",
    "        return x**random_value\n",
    "    def scalar(x):\n",
    "        return x*random_value2\n",
    "    def addSUBTR(x): \n",
    "        return x+random_value3\n",
    "    funs = [power,power,power,addSUBTR,addSUBTR,addSUBTR,scalar,scalar,scalar,ln,exp,cos,tan,sqrt,sin,sec]   \n",
    "    operations = [f(g(x)),f(x)+g(x),f(x)-g(x),f(x)/g(x),f(x)*g(x)]\n",
    "    operation = operations[random.randrange(0,len(operations))]\n",
    "    return [[operation.replace(f, i) for i in funs][random.randrange(0,len(funs))].replace(g, i) for i in funs]\\\n",
    "[random.randrange(0,len(funs))]\n",
    "\n",
    "setup1 = random_math(x)\n",
    "setup2 = random_math2(x)\n",
    "practice1 = Derivative(simplify(setup1),x)\n",
    "practice2 = Integral(simplify(setup2),x)\n",
    "p1eq = Eq(practice1,practice1.doit(),evaluate=False)\n",
    "p2eq = Eq(practice2,practice2.doit().simplify(),evaluate=False)\n",
    "print(\"\\n\")\n",
    "print(\"Solve:\")\n",
    "print(\"\\n\")\n",
    "display(p1eq.lhs)\n",
    "print(\"\\n\")\n",
    "if str(factor_terms(p2eq.lhs)) != str(p2eq.rhs):    \n",
    "    keywords = {\n",
    "        \"Ei\",\n",
    "        \"gamma\",\n",
    "        \"Piecewise\",\n",
    "        \"li\",\n",
    "        \"erf\",\n",
    "        \"atan\",\n",
    "        \"Si\",\n",
    "        \"Ci\",\n",
    "        \"hyper\",\n",
    "        \"fresnel\",\n",
    "        \"Li\",\n",
    "        \"expint\",\n",
    "    }\n",
    "    if not any(kw in str(p2eq) for kw in keywords):\n",
    "        display(p2eq.lhs) \n",
    "    else:\n",
    "        print(\"Error: Complex Integral\")  \n",
    "        pass      \n",
    "\n",
    "else:\n",
    "    print(\"Error: Impossible Integral\")  \n",
    "    pass\n",
    "print(\"\\n\")\n",
    "print(\"-----------------------------------------------------------------------------------------------------------\")\n",
    "print(\"\\n\")"
   ]
  },
  {
   "cell_type": "markdown",
   "id": "b3f5b9fb",
   "metadata": {},
   "source": [
    "If LaTeX display breaks, refresh the page.\n",
    "\n",
    "Helpful resources: https://www.derivative-calculator.net/ & https://www.integral-calculator.com/ \n",
    "\n",
    "**Created by GitHub.com/NSC9   - MIT License - v3.0**\n",
    "\n",
    "Donate by sending Bitcoin (BTC) to address: **bc1qtawr2gw52ftufzu0r3r20pnj3vmynssxs0mjl4**"
   ]
  },
  {
   "cell_type": "code",
   "execution_count": 2,
   "id": "e3e2997a",
   "metadata": {},
   "outputs": [
    {
     "name": "stdout",
     "output_type": "stream",
     "text": [
      "\n",
      "\n",
      "---------------------------------------------------------------------------------------------------------\n",
      "\n",
      "\n",
      "Solutions:\n",
      "\n",
      "\n"
     ]
    },
    {
     "data": {
      "text/latex": [
       "$\\displaystyle \\frac{d}{d x} \\left(x + 3\\right)^{2} = 2 x + 6$"
      ],
      "text/plain": [
       "Eq(Derivative((x + 3)**2, x), 2*x + 6)"
      ]
     },
     "metadata": {},
     "output_type": "display_data"
    },
    {
     "name": "stdout",
     "output_type": "stream",
     "text": [
      "\n",
      "\n"
     ]
    },
    {
     "data": {
      "text/latex": [
       "$\\displaystyle \\int 16 x\\, dx = 8 x^{2}$"
      ],
      "text/plain": [
       "Eq(Integral(16*x, x), 8*x**2)"
      ]
     },
     "metadata": {},
     "output_type": "display_data"
    }
   ],
   "source": [
    "print(\"\\n\")\n",
    "print(\"---------------------------------------------------------------------------------------------------------\")\n",
    "print(\"\\n\")\n",
    "print(\"Solutions:\")\n",
    "print(\"\\n\")\n",
    "display(TR22(p1eq))\n",
    "print(\"\\n\")\n",
    "display(TR22(p2eq))"
   ]
  }
 ],
 "metadata": {
  "kernelspec": {
   "display_name": "Python 3 (ipykernel)",
   "language": "python",
   "name": "python3"
  },
  "language_info": {
   "codemirror_mode": {
    "name": "ipython",
    "version": 3
   },
   "file_extension": ".py",
   "mimetype": "text/x-python",
   "name": "python",
   "nbconvert_exporter": "python",
   "pygments_lexer": "ipython3",
   "version": "3.8.10"
  }
 },
 "nbformat": 4,
 "nbformat_minor": 5
}
