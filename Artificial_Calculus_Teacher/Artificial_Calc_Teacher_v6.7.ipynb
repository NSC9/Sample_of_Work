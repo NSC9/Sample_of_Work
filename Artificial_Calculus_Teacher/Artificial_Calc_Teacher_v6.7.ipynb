{
 "cells": [
  {
   "cell_type": "raw",
   "id": "8c69730d",
   "metadata": {},
   "source": [
    "---\n",
    "title: Calculus Problem Generator\n",
    "description: Generates Derivative and Integral Expressions\n",
    "show-code : False\n",
    "---"
   ]
  },
  {
   "cell_type": "code",
   "execution_count": 1,
   "id": "c5197005",
   "metadata": {},
   "outputs": [],
   "source": [
    "# changelog: added expand, removed ln from integrals (sorry!)\n",
    "# Known Bugs:\n",
    "#      integral(ln(x-a)), where a = constant, does not display an obvious handwritten solution. \n",
    "#      .collect() is a too specific solution"
   ]
  },
  {
   "cell_type": "code",
   "execution_count": 2,
   "id": "bc231adc",
   "metadata": {},
   "outputs": [],
   "source": [
    "from sympy.simplify.fu import TR22,TR2i\n",
    "from sympy import sin,cos,ln,exp,tan,Function,Derivative,Eq,Integral,sec, expand\n",
    "from sympy import factor_terms, sqrt, Symbol,pi\n",
    "import random"
   ]
  },
  {
   "cell_type": "code",
   "execution_count": 3,
   "id": "3518b95a",
   "metadata": {},
   "outputs": [],
   "source": [
    "f = Function('f')\n",
    "g = Function('g')\n",
    "h = Function('h')\n",
    "theta = Symbol('theta')\n",
    "y = Symbol('y')\n",
    "i = 0\n",
    "dkeywords = {\"polylog\",\"Ei\",\"gamma\",\"Piecewise\",\"li\",\"erf\",\"atan\",\"Si\",\"Ci\",\"hyper\",\"fresnel\",\"Li\",\"expint\",\"zoo\",\n",
    "\"nan\",\"oo\",\"I\",\"abs\",\"re\",\"EulerGamma\", \"sinh\",\"tanh\", \"cosh\",\"cot\",\"csc\"} \n",
    "ikeywords = {\"polylog\",\"Ei\",\"gamma\",\"Piecewise\", \"li\", \"erf\", \"atan\", \"Si\",  \"Ci\",  \"hyper\",  \"fresnel\",  \"Li\", \n",
    "\"expint\",\"zoo\", \"nan\", \"oo\",\"EulerGamma\",\"sinh\",\"csc\"}\n",
    "keywords2 = {\"sin\",\"cos\",\"sec\",\"tan\"}"
   ]
  },
  {
   "cell_type": "code",
   "execution_count": 4,
   "id": "6febbb17",
   "metadata": {},
   "outputs": [],
   "source": [
    "def random_value2(i):\n",
    "    return random.randint(1, 5)"
   ]
  },
  {
   "cell_type": "code",
   "execution_count": 5,
   "id": "666e1ee7",
   "metadata": {},
   "outputs": [],
   "source": [
    "def random_value(i):\n",
    "    return random.choice([i for i in range(-random_value2(i),random_value2(i)) if i not in [0]])"
   ]
  },
  {
   "cell_type": "code",
   "execution_count": 6,
   "id": "f5ce06bb",
   "metadata": {},
   "outputs": [],
   "source": [
    "def random_variable(i):\n",
    "    return Symbol(random.choice([i for i in ['v','t','x']]), real=True)\n",
    "a = random_variable(i)\n",
    "b = random_variable(i)"
   ]
  },
  {
   "cell_type": "code",
   "execution_count": 7,
   "id": "69553719",
   "metadata": {},
   "outputs": [],
   "source": [
    "def dmain(a):\n",
    "    def random_math(a): \n",
    "        def power(a):      \n",
    "            return a**random_value(i)\n",
    "        def scalar(a):       \n",
    "            return a*random_value(i)\n",
    "        def addSUBTR(a):     \n",
    "            return a+random_value(i)\n",
    "        def _2_variable1(a):\n",
    "            return a + y\n",
    "        def _2_variable2(a):\n",
    "            return a - y\n",
    "        def _2_variable3(a):\n",
    "            return a * y\n",
    "        def _2_variable4(a):\n",
    "            return a / y\n",
    "        funs = [power,scalar,addSUBTR,ln,exp,cos,sin,cos,sin,tan,sec,sqrt,\n",
    "                _2_variable1,_2_variable2,_2_variable3,_2_variable4]   \n",
    "        operations = [f(g(a)),f(a)+g(a),f(a)-g(a),f(a)/g(a),f(a)*g(a),\n",
    "                      f(a)+g(a)+h(a), f(a)-g(a)-h(a),\n",
    "                      (f(a)*g(a))/h(a), f(a)/(g(a)*h(a)),\n",
    "                      f(g(h(a))),f(h(a))+g(a),f(h(a))-g(a),\n",
    "                      f(h(a))/g(a),f(a)/g(h(a)),f(h(a))*g(a),f(a)*h(a)*g(a)]\n",
    "        operation = operations[random.randrange(0,len(operations))]\n",
    "        return [[[operation.replace(f, i) for i in funs][random.randrange(0,len(funs))].replace(g, i) for i in funs]\\\n",
    "    [random.randrange(0,len(funs))].replace(h, i) for i in funs][random.randrange(0,len(funs))]\n",
    "    global setup1\n",
    "    setup1 = random_math(a)\n",
    "    global c\n",
    "    if any(kw in str(setup1) for kw in keywords2):\n",
    "        setup1 = setup1.replace(a,theta)\n",
    "        a = theta\n",
    "        c = theta\n",
    "    else:\n",
    "        c = a\n",
    "        pass  \n",
    "    if random_value2(i) == 1:\n",
    "        def random_value3(i):\n",
    "            if any(kw in str(setup1) for kw in keywords2):\n",
    "                return random.choice([i for i in [-2*pi,-3*pi/2,-pi,-pi/2,0,pi/2,\\\n",
    "                                                  pi,3*pi/2, 2*pi]])\n",
    "            else: return random.choice([i for i in range(-3,5)])  \n",
    "        global final\n",
    "        final = random_value3(i)\n",
    "        practice1 = Derivative(setup1,a).subs(a,final)\n",
    "    else:\n",
    "        practice1 = Derivative(setup1,a)\n",
    "    global p1eq\n",
    "    p1eq = TR22(Eq(practice1,practice1.doit(),evaluate=False))"
   ]
  },
  {
   "cell_type": "code",
   "execution_count": 8,
   "id": "050b90f8",
   "metadata": {},
   "outputs": [],
   "source": [
    "def imain(b):\n",
    "    def random_math2(b): \n",
    "        def power(b):      \n",
    "            return b**random_value(i)\n",
    "        def scalar(b):\n",
    "            return b*random_value(i)\n",
    "        def addSUBTR(b): \n",
    "            return b+random_value(i)\n",
    "        def _2_variable1(b):\n",
    "            return b + y\n",
    "        def _2_variable2(b):\n",
    "            return b - y\n",
    "        def _2_variable3(b):\n",
    "            return b * y\n",
    "        def _2_variable4(b):\n",
    "            return b / y\n",
    "        funs = [power,addSUBTR,scalar,exp,cos,sin,cos,sin,sqrt,\n",
    "               _2_variable1,_2_variable2,_2_variable3,_2_variable4]   \n",
    "        operations = [f(g(b)),f(b)+g(b),f(b)-g(b),f(b)/g(b),f(b)*g(b)]\n",
    "        operation = operations[random.randrange(0,len(operations))]\n",
    "        return [[operation.replace(f, i) for i in funs][random.randrange(0,len(funs))].replace(g, i) for i in funs]\\\n",
    "    [random.randrange(0,len(funs))]\n",
    "    global setup2\n",
    "    setup2 = random_math2(b)\n",
    "    global d\n",
    "    if any(kw in str(setup2) for kw in keywords2):\n",
    "        setup2 = setup2.replace(b,theta)\n",
    "        b = theta\n",
    "        d = theta\n",
    "    else:\n",
    "        d = b\n",
    "        pass\n",
    "    global practice2\n",
    "    if random_value2(i) == 1:\n",
    "        def random_value4(i):\n",
    "            if any(kw in str(setup2) for kw in keywords2):\n",
    "                return random.choice([i for i in [pi/2,pi,3*pi/2, 2*pi]])\n",
    "            else: return random.choice([i for i in range(1,6)])\n",
    "        practice2 = Integral(setup2,(d,0,random_value4(i)))\n",
    "    else: \n",
    "        practice2 = Integral(setup2,d)  \n",
    "    global p2eq \n",
    "    p2eq = TR22(Eq(practice2,practice2.doit(),evaluate=False))"
   ]
  },
  {
   "cell_type": "code",
   "execution_count": 27,
   "id": "5880bd50",
   "metadata": {},
   "outputs": [
    {
     "name": "stdout",
     "output_type": "stream",
     "text": [
      "\n",
      "\n",
      "Solve with pen and paper:\n",
      "\n",
      "\n"
     ]
    },
    {
     "data": {
      "text/latex": [
       "$\\displaystyle \\frac{\\partial}{\\partial v} \\frac{e^{v}}{v^{2} y}$"
      ],
      "text/plain": [
       "Derivative(exp(v)/(v**2*y), v)"
      ]
     },
     "metadata": {},
     "output_type": "display_data"
    },
    {
     "data": {
      "text/latex": [
       "$\\displaystyle \\int\\limits_{0}^{2 \\pi} \\left(\\theta + \\sin{\\left(\\theta \\right)} + 2\\right)\\, d\\theta$"
      ],
      "text/plain": [
       "Integral(theta + sin(theta) + 2, (theta, 0, 2*pi))"
      ]
     },
     "metadata": {},
     "output_type": "display_data"
    },
    {
     "name": "stdout",
     "output_type": "stream",
     "text": [
      "\n",
      "\n",
      "---------------------------------------------------------------------------------------------\n",
      "---------------------------------------------------------------------------------------------\n",
      "\n",
      "\n",
      "Solutions:\n",
      "\n",
      "\n"
     ]
    },
    {
     "data": {
      "text/latex": [
       "$\\displaystyle \\frac{\\partial}{\\partial v} \\frac{e^{v}}{v^{2} y} = \\frac{e^{v}}{v^{2} y} - \\frac{2 e^{v}}{v^{3} y}$"
      ],
      "text/plain": [
       "Eq(Derivative(exp(v)/(v**2*y), v), exp(v)/(v**2*y) - 2*exp(v)/(v**3*y))"
      ]
     },
     "metadata": {},
     "output_type": "display_data"
    },
    {
     "data": {
      "text/latex": [
       "$\\displaystyle \\int \\left(\\theta + \\sin{\\left(\\theta \\right)} + 2\\right)\\, d\\theta = \\frac{\\theta^{2}}{2} + 2 \\theta - \\cos{\\left(\\theta \\right)}$"
      ],
      "text/plain": [
       "Eq(Integral(theta + sin(theta) + 2, theta), theta**2/2 + 2*theta - cos(theta))"
      ]
     },
     "metadata": {},
     "output_type": "display_data"
    },
    {
     "data": {
      "text/latex": [
       "$\\displaystyle \\int\\limits_{0}^{2 \\pi} \\left(\\theta + \\sin{\\left(\\theta \\right)} + 2\\right)\\, d\\theta = 4 \\pi + 2 \\pi^{2}$"
      ],
      "text/plain": [
       "Eq(Integral(theta + sin(theta) + 2, (theta, 0, 2*pi)), 4*pi + 2*pi**2)"
      ]
     },
     "metadata": {},
     "output_type": "display_data"
    },
    {
     "name": "stdout",
     "output_type": "stream",
     "text": [
      "---------------------------------------------------------------------------------------------\n"
     ]
    }
   ],
   "source": [
    "print(\"\\n\")\n",
    "print(\"Solve with pen and paper:\")\n",
    "print(\"\\n\")\n",
    "\n",
    "derror = True\n",
    "def dtest():\n",
    "    global derror\n",
    "    if p1eq.rhs != 0:\n",
    "        if not any(kw in str(p1eq) for kw in dkeywords):\n",
    "            derror = False\n",
    "    else:  pass\n",
    "while derror == True:\n",
    "    dmain(a)\n",
    "    dtest()\n",
    "display(expand(p1eq.lhs))\n",
    "ierror = True\n",
    "def itest():\n",
    "    global ierror\n",
    "    if str(factor_terms(p2eq.lhs)) != str(factor_terms(p2eq.rhs)): \n",
    "        checker1 = str(p2eq)+str(Integral(setup2,d).doit())\n",
    "        if not any(kw in checker1 for kw in ikeywords):\n",
    "            ierror = False\n",
    "    else: pass\n",
    "    \n",
    "while ierror == True:\n",
    "    imain(b)\n",
    "    itest()\n",
    "display(p2eq.lhs)\n",
    "\n",
    "print(\"\\n\")\n",
    "print(\"---------------------------------------------------------------------------------------------\")\n",
    "print(\"---------------------------------------------------------------------------------------------\")\n",
    "print(\"\\n\")\n",
    "print(\"Solutions:\")\n",
    "print(\"\\n\")\n",
    "if derror == False:    \n",
    "    if str(p1eq).find(\"Subs\") != -1:       \n",
    "        display(TR22(Eq(Derivative(expand(setup1),a),expand(Derivative(setup1,a).doit()))))\n",
    "        display(p1eq)\n",
    "        print(\"\\n\")\n",
    "        print(\"Line tangent to the curve at this point is:\")\n",
    "        display(Eq(y,expand(p1eq.rhs*(c-final)+TR2i(setup1))))\n",
    "    else: \n",
    "        display(p1eq)\n",
    "if ierror == False:\n",
    "    if str(p2eq).find(\" 0, \") != -1:\n",
    "        itest()\n",
    "        display(Eq(Integral(setup2,d),Integral(setup2,d).doit()))\n",
    "    display(p2eq)\n",
    "else:\n",
    "    pass\n",
    "print(\"---------------------------------------------------------------------------------------------\")"
   ]
  },
  {
   "cell_type": "markdown",
   "id": "b3f5b9fb",
   "metadata": {},
   "source": [
    "If LaTeX display breaks, refresh the page.\n",
    "\n",
    "**Created by GitHub.com/NSC9   - MIT License - v6.7**\n",
    "\n",
    "Donate by sending Bitcoin (BTC) to address: **bc1qtawr2gw52ftufzu0r3r20pnj3vmynssxs0mjl4**\n"
   ]
  }
 ],
 "metadata": {
  "kernelspec": {
   "display_name": "Python 3 (ipykernel)",
   "language": "python",
   "name": "python3"
  },
  "language_info": {
   "codemirror_mode": {
    "name": "ipython",
    "version": 3
   },
   "file_extension": ".py",
   "mimetype": "text/x-python",
   "name": "python",
   "nbconvert_exporter": "python",
   "pygments_lexer": "ipython3",
   "version": "3.8.10"
  }
 },
 "nbformat": 4,
 "nbformat_minor": 5
}
