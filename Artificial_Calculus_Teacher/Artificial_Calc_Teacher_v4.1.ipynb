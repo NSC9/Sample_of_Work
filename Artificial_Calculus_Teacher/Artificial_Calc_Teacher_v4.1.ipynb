{
 "cells": [
  {
   "cell_type": "raw",
   "id": "8c69730d",
   "metadata": {},
   "source": [
    "---\n",
    "title: Calculus Problem Generator\n",
    "description: Generates Derivative and Integral Expressions\n",
    "show-code : False\n",
    "---"
   ]
  },
  {
   "cell_type": "code",
   "execution_count": null,
   "id": "c5197005",
   "metadata": {},
   "outputs": [],
   "source": [
    "# changelog: cleaned up code. added tests"
   ]
  },
  {
   "cell_type": "code",
   "execution_count": 13,
   "id": "108761f9",
   "metadata": {
    "scrolled": false
   },
   "outputs": [
    {
     "name": "stdout",
     "output_type": "stream",
     "text": [
      "\n",
      "\n",
      "Solve with pen and paper:\n",
      "\n",
      "\n"
     ]
    },
    {
     "data": {
      "text/latex": [
       "$\\displaystyle \\left. \\frac{d}{d v} \\left(v^{5} + v + 2\\right) \\right|_{\\substack{ v=9 }}$"
      ],
      "text/plain": [
       "Subs(Derivative(v**5 + v + 2, v), v, 9)"
      ]
     },
     "metadata": {},
     "output_type": "display_data"
    },
    {
     "name": "stdout",
     "output_type": "stream",
     "text": [
      "\n",
      "\n"
     ]
    },
    {
     "data": {
      "text/latex": [
       "$\\displaystyle \\int\\limits_{0}^{2} \\left(z^{2} - 1\\right)\\, dz$"
      ],
      "text/plain": [
       "Integral(z**2 - 1, (z, 0, 2))"
      ]
     },
     "metadata": {},
     "output_type": "display_data"
    },
    {
     "name": "stdout",
     "output_type": "stream",
     "text": [
      "\n",
      "\n",
      "\n",
      "\n",
      "-----------------------------------------------------------------------------------------------------------\n"
     ]
    }
   ],
   "source": [
    "from sympy.simplify.fu import TR22,TR2i\n",
    "from sympy import sin,cos,ln,exp,tan,Function,Derivative,Eq,Integral,sec\n",
    "from sympy import factor_terms,simplify, sqrt, Symbol,pi\n",
    "import random\n",
    "f = Function('f')\n",
    "g = Function('g')\n",
    "h = Function('h')\n",
    "theta = Symbol('theta')\n",
    "y = Symbol('y')\n",
    "i = 0\n",
    "midstep = 0\n",
    "dkeywords = {\"Ei\",\"gamma\",\"Piecewise\",\"li\",\"erf\",\"atan\",\"Si\",\"Ci\",\"hyper\",\"fresnel\",\"Li\",\"expint\",\"zoo\",\n",
    "\"nan\",\"oo\",\"I\",\"abs\",\"re\"} \n",
    "ikeywords = {\"Ei\",\"gamma\",\"Piecewise\", \"li\", \"erf\", \"atan\", \"Si\",  \"Ci\",  \"hyper\",  \"fresnel\",  \"Li\", \"expint\",\n",
    "\"zoo\",  \"nan\", \"oo\"}\n",
    "def random_value(i):\n",
    "    allowed_values = list(range(-6,6))\n",
    "    allowed_values.remove(0)\n",
    "    for i in range (0,len(allowed_values)):\n",
    "        return random.choice(allowed_values)\n",
    "def random_variable(i):\n",
    "    allowed_values = ['v','t','x','z']\n",
    "    for i in range (0,len(allowed_values)):\n",
    "        return Symbol(random.choice(allowed_values), real=True)\n",
    "a = random_variable(i)\n",
    "b = random_variable(i)\n",
    "keywords2 = {\"sin\",\"cos\",\"sec\",\"tan\"}\n",
    "\n",
    "def random_value2(i):\n",
    "    allowed_values = list(range(1,4))\n",
    "    for i in range (0,len(allowed_values)):\n",
    "        return random.choice(allowed_values)\n",
    "    \n",
    "def dmain(a):\n",
    "    def random_math(a): \n",
    "        def power(a):      \n",
    "            return a**random_value(i)\n",
    "        def scalar(a):       \n",
    "            return a*random_value(i)\n",
    "        def addSUBTR(a):     \n",
    "            return a+random_value(i)\n",
    "        funs = [power,power,power,scalar,scalar,scalar,addSUBTR,addSUBTR,addSUBTR,\n",
    "                ln,exp,cos,sin,cos,sin,tan,sec,sqrt]   \n",
    "        operations = [f(g(a)),f(a)+g(a),f(a)-g(a),f(a)/g(a),f(a)*g(a),\n",
    "                      f(g(a)),f(a)+g(a),f(a)-g(a),f(a)/g(a),f(a)*g(a),\n",
    "                      f(g(a)),f(a)+g(a),f(a)-g(a),f(a)/g(a),f(a)*g(a),\n",
    "                      f(g(a)),f(a)+g(a),f(a)-g(a),f(a)/g(a),f(a)*g(a),\n",
    "                      (f(a)*g(a))/h(a), f(a)/(g(a)*h(a)),\n",
    "                      f(g(h(a))),\n",
    "                      f(h(a))+g(a),f(h(a))-g(a),\n",
    "                      f(h(a))/g(a),f(a)/g(h(a)),\n",
    "                      f(h(a))*g(a), \n",
    "                      f(a)*h(a)*g(a)]\n",
    "        operation = operations[random.randrange(0,len(operations))]\n",
    "        return [[[operation.replace(f, i) for i in funs][random.randrange(0,len(funs))].replace(g, i) for i in funs]\\\n",
    "    [random.randrange(0,len(funs))].replace(h, i) for i in funs][random.randrange(0,len(funs))]\n",
    "    global setup1\n",
    "    setup1 = random_math(a)\n",
    "    if any(kw in str(setup1) for kw in keywords2):\n",
    "        setup1 = setup1.replace(a,theta)\n",
    "        a = theta\n",
    "    else:\n",
    "        pass  \n",
    "    if random_value2(i) == 1:\n",
    "        def random_value3(i):\n",
    "            allowed_values = list(range(-10,10))\n",
    "            if any(kw in str(setup1) for kw in keywords2):\n",
    "                allowed_values.clear()\n",
    "                allowed_values.append(-pi/2)\n",
    "                allowed_values.append(-pi)\n",
    "                allowed_values.append(-3*pi/2)\n",
    "                allowed_values.append(-2*pi)   \n",
    "                allowed_values.append(pi/2)\n",
    "                allowed_values.append(pi)\n",
    "                allowed_values.append(3*pi/2)\n",
    "                allowed_values.append(2*pi)        \n",
    "            else:\n",
    "                pass\n",
    "            for i in range (0,len(allowed_values)):\n",
    "                return random.choice(allowed_values)  \n",
    "        global final\n",
    "        final = random_value3(i)\n",
    "        practice1 = Derivative(simplify(setup1),a).subs(a,final)\n",
    "    else:\n",
    "        practice1 = Derivative(simplify(setup1),a)\n",
    "    global p1eq\n",
    "    p1eq = TR22(Eq(practice1,practice1.doit(),evaluate=False))\n",
    "dmain(a)\n",
    "\n",
    "def imain(b):\n",
    "    def random_math2(b): \n",
    "\n",
    "        def power(b):      \n",
    "            return b**random_value(i)\n",
    "        def scalar(b):\n",
    "            return b*random_value(i)\n",
    "        def addSUBTR(b): \n",
    "            return b+random_value(i)\n",
    "        funs = [power,power,power,addSUBTR,addSUBTR,addSUBTR,scalar,scalar,scalar,\n",
    "                power,power,power,addSUBTR,addSUBTR,addSUBTR,scalar,scalar,scalar,\n",
    "                ln,exp,cos,sin,cos,sin,tan,sqrt]   \n",
    "        operations = [f(g(b)),f(b)+g(b),f(b)-g(b),f(b)/g(b),f(b)*g(b)]\n",
    "        operation = operations[random.randrange(0,len(operations))]\n",
    "        return [[operation.replace(f, i) for i in funs][random.randrange(0,len(funs))].replace(g, i) for i in funs]\\\n",
    "    [random.randrange(0,len(funs))]\n",
    "    setup2 = random_math2(b)\n",
    "    if any(kw in str(setup2) for kw in keywords2):\n",
    "        setup2 = setup2.replace(b,theta)\n",
    "        b = theta\n",
    "    else:\n",
    "        pass\n",
    "    if random_value2(i) == 1:\n",
    "        def random_value4(i):\n",
    "            allowed_values = list(range(1,7))\n",
    "            if any(kw in str(setup2) for kw in keywords2):\n",
    "                allowed_values.clear()\n",
    "                allowed_values.append(pi/2)\n",
    "                allowed_values.append(pi)\n",
    "                allowed_values.append(3*pi/2)\n",
    "                allowed_values.append(2*pi)\n",
    "            else:\n",
    "                pass\n",
    "            for i in range (0,len(allowed_values)):\n",
    "                return random.choice(allowed_values)\n",
    "        midstep = simplify(setup2)\n",
    "        practice2 = Integral(midstep,(b,0,random_value4(i)))\n",
    "    else: \n",
    "        practice2 = Integral(simplify(setup2),b)  \n",
    "    global p2eq \n",
    "    p2eq = TR22(Eq(practice2,practice2.doit().simplify(),evaluate=False))\n",
    "imain(b)\n",
    "\n",
    "print(\"\\n\")\n",
    "print(\"Solve with pen and paper:\")\n",
    "print(\"\\n\")\n",
    "derror = True\n",
    "def dtest():\n",
    "    global derror\n",
    "    if p1eq.rhs != 0:\n",
    "        if not any(kw in str(p1eq) for kw in dkeywords):\n",
    "            display(p1eq.lhs)\n",
    "            derror = False\n",
    "        else: pass\n",
    "    else:  pass\n",
    "while derror == True:\n",
    "    dmain(a)\n",
    "    dtest()\n",
    "\n",
    "print(\"\\n\")\n",
    "\n",
    "ierror = True\n",
    "def itest():\n",
    "    global ierror\n",
    "    if str(factor_terms(p2eq.lhs)) != str(p2eq.rhs): \n",
    "        if not any(kw in str(p2eq) for kw in ikeywords):\n",
    "            display(p2eq.lhs)\n",
    "            ierror = False\n",
    "        else: pass\n",
    "    else: pass\n",
    "while ierror == True:\n",
    "    imain(b)\n",
    "    itest()\n",
    "\n",
    "print(\"\\n\")\n",
    "print(\"\\n\")\n",
    "print(\"-----------------------------------------------------------------------------------------------------------\")"
   ]
  },
  {
   "cell_type": "markdown",
   "id": "b3f5b9fb",
   "metadata": {},
   "source": [
    "If LaTeX display breaks, refresh the page.\n",
    "\n",
    "Helpful resources: https://www.derivative-calculator.net/ & https://www.integral-calculator.com/ \n",
    "\n",
    "**Created by GitHub.com/NSC9   - MIT License - v4.1**\n",
    "\n",
    "Donate by sending Bitcoin (BTC) to address: **bc1qtawr2gw52ftufzu0r3r20pnj3vmynssxs0mjl4**"
   ]
  },
  {
   "cell_type": "code",
   "execution_count": 14,
   "id": "d9296907",
   "metadata": {},
   "outputs": [
    {
     "name": "stdout",
     "output_type": "stream",
     "text": [
      "---------------------------------------------------------------------------------------------------------\n",
      "\n",
      "\n",
      "Solutions:\n",
      "\n",
      "\n"
     ]
    },
    {
     "data": {
      "text/latex": [
       "$\\displaystyle \\left. \\frac{d}{d v} \\left(v^{5} + v + 2\\right) \\right|_{\\substack{ v=9 }} = 32806$"
      ],
      "text/plain": [
       "Eq(Subs(Derivative(v**5 + v + 2, v), v, 9), 32806)"
      ]
     },
     "metadata": {},
     "output_type": "display_data"
    },
    {
     "name": "stdout",
     "output_type": "stream",
     "text": [
      "\n",
      "\n",
      "Line tangent to the curve at this point is\n"
     ]
    },
    {
     "data": {
      "text/latex": [
       "$\\displaystyle y = v^{5} + 32807 v - 295252$"
      ],
      "text/plain": [
       "Eq(y, v**5 + 32807*v - 295252)"
      ]
     },
     "metadata": {},
     "output_type": "display_data"
    },
    {
     "name": "stdout",
     "output_type": "stream",
     "text": [
      "\n",
      "\n",
      "\n",
      "\n"
     ]
    },
    {
     "data": {
      "text/latex": [
       "$\\displaystyle \\int\\limits_{0}^{2} \\left(z^{2} - 1\\right)\\, dz = \\frac{2}{3}$"
      ],
      "text/plain": [
       "Eq(Integral(z**2 - 1, (z, 0, 2)), 2/3)"
      ]
     },
     "metadata": {},
     "output_type": "display_data"
    }
   ],
   "source": [
    "print(\"---------------------------------------------------------------------------------------------------------\")\n",
    "print(\"\\n\")\n",
    "print(\"Solutions:\")\n",
    "print(\"\\n\")\n",
    "\n",
    "subskey = {\"Subs\"}\n",
    "if derror == False:\n",
    "    display(p1eq)\n",
    "    if any(kw in str(p1eq) for kw in subskey):\n",
    "        print(\"\\n\")\n",
    "        print(\"Line tangent to the curve at this point is\")\n",
    "        display(Eq(y,p1eq.rhs*(a-final)+TR2i(setup1)))\n",
    "    else: \n",
    "        pass\n",
    "\n",
    "print(\"\\n\")\n",
    "print(\"\\n\")\n",
    "if ierror == False:\n",
    "    if midstep != 0:\n",
    "        display(TR22(Eq(Integral(midstep,b),Integral(midstep,b).doit().simplify(),evaluate=False)))\n",
    "    else:\n",
    "        pass\n",
    "    display(p2eq)\n",
    "else:\n",
    "    pass"
   ]
  }
 ],
 "metadata": {
  "kernelspec": {
   "display_name": "Python 3 (ipykernel)",
   "language": "python",
   "name": "python3"
  },
  "language_info": {
   "codemirror_mode": {
    "name": "ipython",
    "version": 3
   },
   "file_extension": ".py",
   "mimetype": "text/x-python",
   "name": "python",
   "nbconvert_exporter": "python",
   "pygments_lexer": "ipython3",
   "version": "3.8.10"
  }
 },
 "nbformat": 4,
 "nbformat_minor": 5
}
