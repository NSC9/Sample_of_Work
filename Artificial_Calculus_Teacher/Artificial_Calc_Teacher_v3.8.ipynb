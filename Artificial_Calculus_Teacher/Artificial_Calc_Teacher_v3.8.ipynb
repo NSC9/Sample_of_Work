{
 "cells": [
  {
   "cell_type": "raw",
   "id": "8c69730d",
   "metadata": {},
   "source": [
    "---\n",
    "title: Calculus Problem Generator\n",
    "description: Generates Derivative and Integral Expressions\n",
    "show-code : False\n",
    "---"
   ]
  },
  {
   "cell_type": "code",
   "execution_count": null,
   "id": "c5197005",
   "metadata": {},
   "outputs": [],
   "source": [
    "# changelog: added random variables for more variety"
   ]
  },
  {
   "cell_type": "code",
   "execution_count": 26,
   "id": "108761f9",
   "metadata": {
    "scrolled": false
   },
   "outputs": [
    {
     "name": "stdout",
     "output_type": "stream",
     "text": [
      "\n",
      "\n",
      "Solve with pen and paper:\n",
      "\n",
      "\n"
     ]
    },
    {
     "data": {
      "text/latex": [
       "$\\displaystyle \\frac{d}{d v} 2 v^{2}$"
      ],
      "text/plain": [
       "Derivative(2*v**2, v)"
      ]
     },
     "metadata": {},
     "output_type": "display_data"
    },
    {
     "name": "stdout",
     "output_type": "stream",
     "text": [
      "\n",
      "\n"
     ]
    },
    {
     "data": {
      "text/latex": [
       "$\\displaystyle \\int \\left(6 t - 3\\right)\\, dt$"
      ],
      "text/plain": [
       "Integral(6*t - 3, t)"
      ]
     },
     "metadata": {},
     "output_type": "display_data"
    },
    {
     "name": "stdout",
     "output_type": "stream",
     "text": [
      "\n",
      "\n",
      "\n",
      "\n",
      "-----------------------------------------------------------------------------------------------------------\n",
      "\n",
      "\n"
     ]
    }
   ],
   "source": [
    "from sympy.simplify.fu import TR22\n",
    "from sympy import sin,cos,ln,exp,tan,Function,Derivative,Eq,Integral,sec\n",
    "from sympy import factor_terms,simplify, sqrt, Symbol\n",
    "import random\n",
    "f = Function('f')\n",
    "g = Function('g')\n",
    "h = Function('h')\n",
    "i = 0\n",
    "def random_value(i):\n",
    "    allowed_values = list(range(-6,6))\n",
    "    allowed_values.remove(0)\n",
    "    for i in range (0,len(allowed_values)):\n",
    "        return random.choice(allowed_values)\n",
    "def random_variable(i):\n",
    "    allowed_values = ['v','u','t','x', 'y', 'z', 'theta']\n",
    "    for i in range (0,len(allowed_values)):\n",
    "        return Symbol(random.choice(allowed_values))\n",
    "var1 = random_variable(i)\n",
    "var2 = random_variable(i)\n",
    "def random_math(var1): \n",
    "    def power(var1):      \n",
    "        return var1**random_value(i)\n",
    "    def scalar(var1):       \n",
    "        return var1*random_value(i)\n",
    "    def addSUBTR(var1):     \n",
    "        return var1+random_value(i)\n",
    "    funs = [power,power,power,scalar,scalar,scalar,addSUBTR,addSUBTR,addSUBTR,\n",
    "            ln,exp,cos,sin,cos,sin,tan,sec,sqrt]   \n",
    "    operations = [f(g(var1)),f(var1)+g(var1),f(var1)-g(var1),f(var1)/g(var1),f(var1)*g(var1),\n",
    "                  f(g(var1)),f(var1)+g(var1),f(var1)-g(var1),f(var1)/g(var1),f(var1)*g(var1),\n",
    "                  f(g(var1)),f(var1)+g(var1),f(var1)-g(var1),f(var1)/g(var1),f(var1)*g(var1),\n",
    "                  f(g(var1)),f(var1)+g(var1),f(var1)-g(var1),f(var1)/g(var1),f(var1)*g(var1),\n",
    "                  (f(var1)*g(var1))/h(var1), f(var1)/(g(var1)*h(var1)),\n",
    "                  f(g(h(var1))),\n",
    "                  f(h(var1))+g(var1),f(h(var1))-g(var1),\n",
    "                  f(h(var1))/g(var1),f(var1)/g(h(var1)),\n",
    "                  f(h(var1))*g(var1), \n",
    "                  f(var1)*h(var1)*g(var1)]\n",
    "    operation = operations[random.randrange(0,len(operations))]\n",
    "    return [[[operation.replace(f, i) for i in funs][random.randrange(0,len(funs))].replace(g, i) for i in funs]\\\n",
    "[random.randrange(0,len(funs))].replace(h, i) for i in funs][random.randrange(0,len(funs))]\n",
    "\n",
    "def random_math2(var2): \n",
    "\n",
    "    def power(var2):      \n",
    "        return var2**random_value(i)\n",
    "    def scalar(var2):\n",
    "        return var2*random_value(i)\n",
    "    def addSUBTR(var2): \n",
    "        return var2+random_value(i)\n",
    "    funs = [power,power,power,addSUBTR,addSUBTR,addSUBTR,scalar,scalar,scalar,\n",
    "            power,power,power,addSUBTR,addSUBTR,addSUBTR,scalar,scalar,scalar,\n",
    "            ln,exp,cos,sin,cos,sin,tan,sqrt]   \n",
    "    operations = [f(g(var2)),f(var2)+g(var2),f(var2)-g(var2),f(var2)/g(var2),f(var2)*g(var2)]\n",
    "    operation = operations[random.randrange(0,len(operations))]\n",
    "    return [[operation.replace(f, i) for i in funs][random.randrange(0,len(funs))].replace(g, i) for i in funs]\\\n",
    "[random.randrange(0,len(funs))]\n",
    "\n",
    "setup1 = random_math(var1)\n",
    "setup2 = random_math2(var2)\n",
    "practice1 = Derivative(simplify(setup1),var1)\n",
    "practice2 = Integral(simplify(setup2),var2)\n",
    "p1eq = TR22(Eq(practice1,practice1.doit(),evaluate=False))\n",
    "p2eq = TR22(Eq(practice2,practice2.doit().simplify(),evaluate=False))\n",
    "print(\"\\n\")\n",
    "print(\"Solve with pen and paper:\")\n",
    "print(\"\\n\")\n",
    "if str(p1eq.rhs) != \"0\":\n",
    "    display(p1eq.lhs)\n",
    "else: \n",
    "    pass\n",
    "print(\"\\n\")\n",
    "keywords1 = {\n",
    "    \"Ei\",\n",
    "    \"gamma\",\n",
    "    \"Piecewise\",\n",
    "    \"li\",\n",
    "    \"erf\",\n",
    "    \"atan\",\n",
    "    \"Si\",\n",
    "    \"Ci\",\n",
    "    \"hyper\",\n",
    "    \"fresnel\",\n",
    "    \"Li\",\n",
    "    \"expint\",\n",
    "    \"zoo\"\n",
    "}\n",
    "if str(factor_terms(p2eq.lhs)) != str(p2eq.rhs):    \n",
    "    if not any(kw in str(p2eq) for kw in keywords1):\n",
    "        display(p2eq.lhs) \n",
    "    else:\n",
    "        pass      \n",
    "else: \n",
    "    pass\n",
    "print(\"\\n\")\n",
    "print(\"\\n\")\n",
    "print(\"-----------------------------------------------------------------------------------------------------------\")\n",
    "print(\"\\n\")"
   ]
  },
  {
   "cell_type": "markdown",
   "id": "b3f5b9fb",
   "metadata": {},
   "source": [
    "If LaTeX display breaks, refresh the page.\n",
    "\n",
    "Helpful resources: https://www.derivative-calculator.net/ & https://www.integral-calculator.com/ \n",
    "\n",
    "**Created by GitHub.com/NSC9   - MIT License - v3.8**\n",
    "\n",
    "Donate by sending Bitcoin (BTC) to address: **bc1qtawr2gw52ftufzu0r3r20pnj3vmynssxs0mjl4**"
   ]
  },
  {
   "cell_type": "code",
   "execution_count": 27,
   "id": "12b6490e",
   "metadata": {},
   "outputs": [
    {
     "name": "stdout",
     "output_type": "stream",
     "text": [
      "\n",
      "\n",
      "\n",
      "\n",
      "---------------------------------------------------------------------------------------------------------\n",
      "\n",
      "\n",
      "Solutions:\n",
      "\n",
      "\n"
     ]
    },
    {
     "data": {
      "text/latex": [
       "$\\displaystyle \\frac{d}{d v} 2 v^{2} = 4 v$"
      ],
      "text/plain": [
       "Eq(Derivative(2*v**2, v), 4*v)"
      ]
     },
     "metadata": {},
     "output_type": "display_data"
    },
    {
     "name": "stdout",
     "output_type": "stream",
     "text": [
      "\n",
      "\n"
     ]
    },
    {
     "data": {
      "text/latex": [
       "$\\displaystyle \\int \\left(6 t - 3\\right)\\, dt = 3 t \\left(t - 1\\right)$"
      ],
      "text/plain": [
       "Eq(Integral(6*t - 3, t), 3*t*(t - 1))"
      ]
     },
     "metadata": {},
     "output_type": "display_data"
    }
   ],
   "source": [
    "print(\"\\n\")\n",
    "print(\"\\n\")\n",
    "print(\"---------------------------------------------------------------------------------------------------------\")\n",
    "print(\"\\n\")\n",
    "print(\"Solutions:\")\n",
    "print(\"\\n\")\n",
    "if str(p1eq.rhs) != \"0\":\n",
    "    display(p1eq)\n",
    "else: \n",
    "    pass\n",
    "print(\"\\n\")\n",
    "if str(factor_terms(p2eq.lhs)) != str(p2eq.rhs):    \n",
    "    if not any(kw in str(p2eq) for kw in keywords1):\n",
    "        display(p2eq) \n",
    "    else:\n",
    "        pass"
   ]
  }
 ],
 "metadata": {
  "kernelspec": {
   "display_name": "Python 3 (ipykernel)",
   "language": "python",
   "name": "python3"
  },
  "language_info": {
   "codemirror_mode": {
    "name": "ipython",
    "version": 3
   },
   "file_extension": ".py",
   "mimetype": "text/x-python",
   "name": "python",
   "nbconvert_exporter": "python",
   "pygments_lexer": "ipython3",
   "version": "3.8.10"
  }
 },
 "nbformat": 4,
 "nbformat_minor": 5
}
