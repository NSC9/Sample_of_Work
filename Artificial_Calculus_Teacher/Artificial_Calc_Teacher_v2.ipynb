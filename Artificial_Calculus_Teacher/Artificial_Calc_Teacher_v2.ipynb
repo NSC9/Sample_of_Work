{
 "cells": [
  {
   "attachments": {},
   "cell_type": "markdown",
   "id": "0625835f",
   "metadata": {},
   "source": [
    "Credits to https://people.math.harvard.edu/~knill/teaching/math1a_2011/handouts/46-ai.pdf\n",
    "\n",
    "Notebook by github.com/nsc9\n"
   ]
  },
  {
   "cell_type": "code",
   "execution_count": 1,
   "id": "9aef0f0e",
   "metadata": {},
   "outputs": [],
   "source": [
    "# Thanks to @smichr for .replace suggestion https://stackoverflow.com/q/73000225/17291132 \n",
    "from sympy import sqrt,sin,cos,log,exp,tan,Function,Derivative,Eq, Pow , S, sympify\n",
    "from sympy.abc import x\n",
    "import random\n",
    "f = Function('f')\n",
    "g = Function('g')"
   ]
  },
  {
   "cell_type": "code",
   "execution_count": 22,
   "id": "108761f9",
   "metadata": {},
   "outputs": [
    {
     "data": {
      "text/latex": [
       "$\\displaystyle 2 x + 4$"
      ],
      "text/plain": [
       "2*x + 4"
      ]
     },
     "metadata": {},
     "output_type": "display_data"
    },
    {
     "data": {
      "text/latex": [
       "$\\displaystyle - x + \\sin{\\left(x \\right)} - 1$"
      ],
      "text/plain": [
       "-x + sin(x) - 1"
      ]
     },
     "metadata": {},
     "output_type": "display_data"
    },
    {
     "data": {
      "text/latex": [
       "$\\displaystyle \\log{\\left(x \\right)}^{4}$"
      ],
      "text/plain": [
       "log(x)**4"
      ]
     },
     "metadata": {},
     "output_type": "display_data"
    },
    {
     "data": {
      "text/latex": [
       "$\\displaystyle x^{5} - \\cos{\\left(x \\right)}$"
      ],
      "text/plain": [
       "x**5 - cos(x)"
      ]
     },
     "metadata": {},
     "output_type": "display_data"
    },
    {
     "data": {
      "text/latex": [
       "$\\displaystyle \\sin{\\left(x \\right)} - \\cos{\\left(x \\right)}$"
      ],
      "text/plain": [
       "sin(x) - cos(x)"
      ]
     },
     "metadata": {},
     "output_type": "display_data"
    },
    {
     "data": {
      "text/latex": [
       "$\\displaystyle e^{\\sin{\\left(x \\right)}}$"
      ],
      "text/plain": [
       "exp(sin(x))"
      ]
     },
     "metadata": {},
     "output_type": "display_data"
    },
    {
     "data": {
      "text/latex": [
       "$\\displaystyle \\frac{x - 5}{\\sqrt{x}}$"
      ],
      "text/plain": [
       "(x - 5)/sqrt(x)"
      ]
     },
     "metadata": {},
     "output_type": "display_data"
    },
    {
     "data": {
      "text/latex": [
       "$\\displaystyle - \\log{\\left(x \\right)} + \\cos{\\left(x \\right)}$"
      ],
      "text/plain": [
       "-log(x) + cos(x)"
      ]
     },
     "metadata": {},
     "output_type": "display_data"
    },
    {
     "data": {
      "text/latex": [
       "$\\displaystyle \\log{\\left(x \\right)} - \\tan{\\left(x \\right)}$"
      ],
      "text/plain": [
       "log(x) - tan(x)"
      ]
     },
     "metadata": {},
     "output_type": "display_data"
    },
    {
     "data": {
      "text/latex": [
       "$\\displaystyle \\tan{\\left(\\sin{\\left(x \\right)} \\right)}$"
      ],
      "text/plain": [
       "tan(sin(x))"
      ]
     },
     "metadata": {},
     "output_type": "display_data"
    },
    {
     "data": {
      "text/latex": [
       "$\\displaystyle 1$"
      ],
      "text/plain": [
       "1"
      ]
     },
     "metadata": {},
     "output_type": "display_data"
    },
    {
     "data": {
      "text/latex": [
       "$\\displaystyle \\frac{1}{x^{6}}$"
      ],
      "text/plain": [
       "x**(-6)"
      ]
     },
     "metadata": {},
     "output_type": "display_data"
    },
    {
     "data": {
      "text/latex": [
       "$\\displaystyle \\frac{3}{4}$"
      ],
      "text/plain": [
       "3/4"
      ]
     },
     "metadata": {},
     "output_type": "display_data"
    },
    {
     "data": {
      "text/latex": [
       "$\\displaystyle \\left(x + 3\\right) e^{- x}$"
      ],
      "text/plain": [
       "(x + 3)*exp(-x)"
      ]
     },
     "metadata": {},
     "output_type": "display_data"
    }
   ],
   "source": [
    "def random_math(x): \n",
    "    def inv_power_function(x):\n",
    "        return x**(random.randrange(-1,-4,-1))\n",
    "    def scalar_function(x):\n",
    "        allowed_values = list(range(-4, 3))\n",
    "        allowed_values.remove(0)\n",
    "        random_value = random.choice(allowed_values)  \n",
    "        return x*(random_value)\n",
    "    def addSUBTR_function(x):\n",
    "        return x+(random.randrange(-5,5,1))\n",
    "    funs = [lambda _:Pow(_,S.Half),sin,cos,log,exp,tan,lambda _:Pow(_,random.randrange(2,6)),inv_power_function,\n",
    "            scalar_function,addSUBTR_function]      \n",
    "    \n",
    "    operations = [f(g(x)),f(x)+g(x),f(x)/g(x),f(x)-g(x)]\n",
    "    operation = operations[random.randrange(0,len(operations))]\n",
    "    return [[operation.replace(f, i) for i in funs][random.randrange(0,len(funs))].replace(g, i) for i in funs]\\\n",
    "[random.randrange(0,len(funs))]\n",
    "\n",
    "\n",
    "for i in range(1,15):\n",
    "    display(random_math(x))"
   ]
  },
  {
   "cell_type": "code",
   "execution_count": 23,
   "id": "953fc230",
   "metadata": {},
   "outputs": [
    {
     "name": "stdout",
     "output_type": "stream",
     "text": [
      "Differentiate These Problems:\n"
     ]
    },
    {
     "data": {
      "text/latex": [
       "$\\displaystyle \\sqrt{\\log{\\left(x \\right)}}$"
      ],
      "text/plain": [
       "sqrt(log(x))"
      ]
     },
     "metadata": {},
     "output_type": "display_data"
    },
    {
     "data": {
      "text/latex": [
       "$\\displaystyle - \\log{\\left(x \\right)} + \\tan{\\left(x \\right)}$"
      ],
      "text/plain": [
       "-log(x) + tan(x)"
      ]
     },
     "metadata": {},
     "output_type": "display_data"
    },
    {
     "data": {
      "text/latex": [
       "$\\displaystyle x^{2} + \\frac{1}{x^{2}}$"
      ],
      "text/plain": [
       "x**2 + x**(-2)"
      ]
     },
     "metadata": {},
     "output_type": "display_data"
    },
    {
     "name": "stdout",
     "output_type": "stream",
     "text": [
      "-------\n",
      "-------\n",
      "-------\n",
      "-------\n",
      "-------\n",
      "-------\n",
      "-------\n",
      "-------\n",
      "-------\n",
      "-------\n",
      "-------\n",
      "-------\n",
      "-------\n",
      "-------\n",
      "-------\n",
      "Solutions:\n"
     ]
    },
    {
     "data": {
      "text/latex": [
       "$\\displaystyle \\frac{d}{d x} \\sqrt{\\log{\\left(x \\right)}} = \\frac{1}{2 x \\sqrt{\\log{\\left(x \\right)}}}$"
      ],
      "text/plain": [
       "Eq(Derivative(sqrt(log(x)), x), 1/(2*x*sqrt(log(x))))"
      ]
     },
     "metadata": {},
     "output_type": "display_data"
    },
    {
     "data": {
      "text/latex": [
       "$\\displaystyle \\frac{d}{d x} \\left(- \\log{\\left(x \\right)} + \\tan{\\left(x \\right)}\\right) = \\tan^{2}{\\left(x \\right)} + 1 - \\frac{1}{x}$"
      ],
      "text/plain": [
       "Eq(Derivative(-log(x) + tan(x), x), tan(x)**2 + 1 - 1/x)"
      ]
     },
     "metadata": {},
     "output_type": "display_data"
    },
    {
     "data": {
      "text/latex": [
       "$\\displaystyle \\frac{d}{d x} \\left(x^{2} + \\frac{1}{x^{2}}\\right) = 2 x - \\frac{2}{x^{3}}$"
      ],
      "text/plain": [
       "Eq(Derivative(x**2 + x**(-2), x), 2*x - 2/x**3)"
      ]
     },
     "metadata": {},
     "output_type": "display_data"
    }
   ],
   "source": [
    "practice1 = random_math(x)\n",
    "practice2 = random_math(x)\n",
    "practice3 = random_math(x)\n",
    "print(\"Differentiate These Problems:\")\n",
    "display(practice1)\n",
    "display(practice2)\n",
    "display(practice3)\n",
    "for i in range(0,15):\n",
    "    print(\"-------\")\n",
    "print(\"Solutions:\")\n",
    "display(Eq(Derivative(practice1,x),Derivative(practice1,x).doit()))\n",
    "display(Eq(Derivative(practice2,x),Derivative(practice2,x).doit()))\n",
    "display(Eq(Derivative(practice3,x),Derivative(practice3,x).doit()))"
   ]
  }
 ],
 "metadata": {
  "kernelspec": {
   "display_name": "Python 3 (ipykernel)",
   "language": "python",
   "name": "python3"
  },
  "language_info": {
   "codemirror_mode": {
    "name": "ipython",
    "version": 3
   },
   "file_extension": ".py",
   "mimetype": "text/x-python",
   "name": "python",
   "nbconvert_exporter": "python",
   "pygments_lexer": "ipython3",
   "version": "3.8.10"
  }
 },
 "nbformat": 4,
 "nbformat_minor": 5
}
