{
 "cells": [
  {
   "cell_type": "code",
   "execution_count": null,
   "id": "eefbb211",
   "metadata": {},
   "outputs": [],
   "source": [
    "import mercury as mr\n",
    " \n",
    "# set Application parameters\n",
    "app = mr.App(title=\"Calculus Problem Generator\",\n",
    "        description=\"Generates expressions which students can apply differential and integral calculus to.\",\n",
    "        show_code=False,\n",
    "        show_prompt=False,\n",
    "        continuous_update=True,\n",
    "        static_notebook=False,\n",
    "        show_sidebar=True,\n",
    "        full_screen=True,\n",
    "        allow_download=False)"
   ]
  },
  {
   "cell_type": "code",
   "execution_count": null,
   "id": "9258ca84",
   "metadata": {},
   "outputs": [],
   "source": [
    "equation_count = 0"
   ]
  },
  {
   "cell_type": "code",
   "execution_count": null,
   "id": "81f9af3c",
   "metadata": {},
   "outputs": [],
   "source": [
    "generate = mr.Button(label=\"New equation\")"
   ]
  },
  {
   "cell_type": "code",
   "execution_count": 1,
   "id": "c5197005",
   "metadata": {},
   "outputs": [],
   "source": [
    "# changelog: updated code to work with updated Mercury. (button works again!)"
   ]
  },
  {
   "cell_type": "markdown",
   "id": "6bdf2faf",
   "metadata": {},
   "source": [
    "# Solve with pen and paper:"
   ]
  },
  {
   "cell_type": "code",
   "execution_count": 28,
   "id": "108761f9",
   "metadata": {
    "scrolled": false
   },
   "outputs": [
    {
     "data": {
      "text/latex": [
       "$\\displaystyle \\frac{d}{d \\theta} \\left(\\sin{\\left(\\theta \\right)} + \\tan{\\left(\\theta \\right)} + 2\\right) = ?$"
      ],
      "text/plain": [
       "Eq(Derivative(sin(theta) + tan(theta) + 2, theta), ?)"
      ]
     },
     "metadata": {},
     "output_type": "display_data"
    },
    {
     "data": {
      "text/latex": [
       "$\\displaystyle \\int \\left(- \\sqrt{y} + e^{y}\\right)\\, dy = ?$"
      ],
      "text/plain": [
       "Eq(Integral(-sqrt(y) + exp(y), y), ?)"
      ]
     },
     "metadata": {},
     "output_type": "display_data"
    },
    {
     "name": "stdout",
     "output_type": "stream",
     "text": [
      "\n",
      "\n",
      "\n",
      "\n",
      "\n",
      "\n",
      "\n",
      "\n",
      "\n",
      "\n",
      "Possible answers:\n"
     ]
    },
    {
     "data": {
      "text/latex": [
       "$\\displaystyle \\frac{d}{d \\theta} \\left(\\sin{\\left(\\theta \\right)} + \\tan{\\left(\\theta \\right)} + 2\\right) = \\cos{\\left(\\theta \\right)} + \\sec^{2}{\\left(\\theta \\right)}$"
      ],
      "text/plain": [
       "Eq(Derivative(sin(theta) + tan(theta) + 2, theta), cos(theta) + sec(theta)**2)"
      ]
     },
     "metadata": {},
     "output_type": "display_data"
    },
    {
     "data": {
      "text/latex": [
       "$\\displaystyle \\int \\left(- \\sqrt{y} + e^{y}\\right)\\, dy = - \\frac{2 y^{\\frac{3}{2}}}{3} + e^{y}$"
      ],
      "text/plain": [
       "Eq(Integral(-sqrt(y) + exp(y), y), -2*y**(3/2)/3 + exp(y))"
      ]
     },
     "metadata": {},
     "output_type": "display_data"
    }
   ],
   "source": [
    "from sympy.simplify.fu import TR22,TR2i\n",
    "from sympy import *\n",
    "from sympy.abc import theta\n",
    "import random\n",
    "f = Function('f')\n",
    "g = Function('g')\n",
    "h = Function('h')\n",
    "theta = Symbol('theta')\n",
    "i = 0\n",
    "dkeywords = {\"polylog\",\"Ei\",\"gamma\",\"Piecewise\",\"li\",\"erf\",\"Si\",\"Ci\",\"hyper\",\"fresnel\",\"Li\",\"expint\",\"zoo\",\n",
    "\"nan\",\"oo\",\"abs\",\"re\",\"EulerGamma\", \"sinh\",\"tanh\", \"cosh\",'sign','abs','atan','csc','asin'} \n",
    "ikeywords = {\"polylog\",\"Ei\",\"gamma\",\"Piecewise\", \"li\", \"erf\", \"atan\", \"Si\",  \"Ci\",  \"hyper\",  \"fresnel\",  \"Li\", \n",
    "\"expint\",\"zoo\", \"nan\", \"oo\",\"EulerGamma\",\"sinh\",\"csc\",\"asin\"}\n",
    "keywords2 = {\"sin\",\"cos\",\"tan\"}\n",
    "def random_variable(i):\n",
    "    return Symbol(random.choice([i for i in ['v','t','x','z','y']]), real=True)\n",
    "def random_value(i):\n",
    "    return random.choice([i for i in range(-10,10) if i not in [0]])\n",
    "def power(a):      \n",
    "    return random_value(i)*a**int(random_value(i)/2)\n",
    "def scalar(a):       \n",
    "    return a*random_value(i) + random_value(i)\n",
    "def addSUBTR(a):     \n",
    "    return a+random_value(i)\n",
    "def dmain(a):\n",
    "    def random_math(a): \n",
    "        funs = [power,scalar,addSUBTR,power,scalar,addSUBTR,ln,exp,sin,cos,tan,sqrt]   \n",
    "        operations = [f(a)+g(a)+h(a),\n",
    "                      f(a)+g(a)-h(a),\n",
    "                      f(a)+g(a)*h(a),\n",
    "                      f(a)+g(a)/h(a),\n",
    "                      \n",
    "                      f(a)-g(a)+h(a),\n",
    "                      f(a)-g(a)-h(a),\n",
    "                      f(a)-g(a)*h(a),\n",
    "                      f(a)-g(a)/h(a),\n",
    "\n",
    "                      f(a)*g(a)+h(a),\n",
    "                      f(a)*g(a)-h(a),\n",
    "                      f(a)*g(a)*h(a),\n",
    "                      f(a)*g(a)/h(a),                    \n",
    "                      \n",
    "                      f(a)/g(a)+h(a),\n",
    "                      f(a)/g(a)-h(a),\n",
    "                      f(a)/g(a)*h(a),\n",
    "                      f(a)/g(a)/h(a),                      \n",
    "\n",
    "                      f(a)* ( g(a)+h(a) ),\n",
    "                      f(a)* ( g(a)-h(a) ),\n",
    "                      f(a)/ ( g(a)+h(a) ),\n",
    "                      f(a)/ ( g(a)-h(a) ),\n",
    "                      \n",
    "                      f(g(h(a))),\n",
    "                      f(h(a))+g(a),\n",
    "                      f(h(a))-g(a),\n",
    "                      f(h(a))*g(a),\n",
    "                      f(h(a))/g(a),\n",
    "                      f(a)/g(h(a))]\n",
    "        operation = operations[random.randrange(0,len(operations))]\n",
    "        return [[[operation.replace(f, i) for i in funs][random.randrange(0,len(funs))].replace(g, i) for i in funs]\\\n",
    "    [random.randrange(0,len(funs))].replace(h, i) for i in funs][random.randrange(0,len(funs))]\n",
    "    return random_math(a)\n",
    "def imain(a):\n",
    "    def random_math2(a):  \n",
    "        funs = [power,scalar,addSUBTR,power,scalar,addSUBTR,ln,exp,sin,cos,tan,sqrt]   \n",
    "        operations = [f(g(a)),f(a)+g(a),f(a)-g(a),f(a)/g(a),f(a)*g(a)]\n",
    "        operation = operations[random.randrange(0,len(operations))]\n",
    "        return [[operation.replace(f, i) for i in funs][random.randrange(0,len(funs))].replace(g, i) for i in funs]\\\n",
    "    [random.randrange(0,len(funs))]\n",
    "    return random_math2(a)\n",
    "derror = True\n",
    "def dtest():\n",
    "    global setup1\n",
    "    global derror\n",
    "    global practice1\n",
    "    a = random_variable(i)\n",
    "    setup1 = dmain(a)\n",
    "    practice1 = Derivative(setup1,a)       \n",
    "    p1eq = TR22(Eq(practice1,practice1.doit(),evaluate=False))\n",
    "    if any(kw in str(setup1) for kw in keywords2):\n",
    "        setup1 = setup1.replace(a,theta)\n",
    "        practice1 = Derivative(setup1,theta)   \n",
    "        p1eq = TR22(Eq(practice1,practice1.doit(),evaluate=False))\n",
    "    if p1eq.rhs != 0 and not any(kw in str(p1eq) for kw in dkeywords):\n",
    "        derror = False\n",
    "    return p1eq\n",
    "while derror == True: \n",
    "    output1 = dtest()\n",
    "ierror = True\n",
    "def itest():\n",
    "    global ierror\n",
    "    global practice2\n",
    "    global setup2\n",
    "    a = random_variable(i)\n",
    "    setup2 = imain(a)\n",
    "    practice2 = Integral(setup2,a)  \n",
    "    p2eq = TR22(Eq(practice2,practice2.doit(),evaluate=False))\n",
    "    if str(factor_terms(p2eq.lhs)) != str(factor_terms(p2eq.rhs)) and not any(kw in str(p2eq) for kw in ikeywords)\\\n",
    "    and str(p2eq.lhs) != str(-p2eq.rhs): \n",
    "        if any(kw in str(setup2) for kw in keywords2):\n",
    "            setup2 = setup2.replace(a,theta)\n",
    "            practice2 = Integral(setup2,theta)  \n",
    "            p2eq = TR22(Eq(practice2,practice2.doit(),evaluate=False))\n",
    "        ierror = False\n",
    "    return p2eq\n",
    "while ierror == True:\n",
    "    output2 = itest()\n",
    "questionmark = Symbol('?')\n",
    "def lhs():\n",
    "    return display(Eq(nsimplify(output1.lhs),questionmark),Eq(nsimplify(output2.lhs),questionmark)) \n",
    "def rhs():\n",
    "    return display(Eq(nsimplify(output1.lhs),nsimplify(output1.rhs)),Eq(nsimplify(output2.lhs),nsimplify(output2.rhs)))\n",
    "lhs()\n",
    "print(\"\\n\")\n",
    "print(\"\\n\")\n",
    "print(\"\\n\")\n",
    "print(\"\\n\")\n",
    "print(\"\\n\")\n",
    "print(\"Possible answers:\")\n",
    "rhs()\n",
    "if generate.clicked:\n",
    "    equation_count += 1\n",
    "    print(f\"Equation count {equation_count}\")"
   ]
  },
  {
   "cell_type": "markdown",
   "id": "2393180e",
   "metadata": {},
   "source": [
    "# Donate Bitcoin (BTC) to address: **bc1qtrjmtsfxhmjmu4wwdh03u92gpy662rnt3drlm7**\n",
    "\n",
    "**Created by https://github.com/NSC9 - Live @ https://nsc9.github.io/ - MIT License - v7.8**\n",
    "\n",
    "**Powered by https://huggingface.co & https://runmercury.com/**\n",
    "\n",
    "Latest version source code: https://github.com/NSC9/Sample_of_Work/tree/Main/Artificial_Calculus_Teacher\n",
    "\n",
    "**Below are the expressions in plain text format for easy copy/pasting into these calculus calculator websites if you get stuck:**"
   ]
  },
  {
   "cell_type": "code",
   "execution_count": 30,
   "id": "15c3f34f",
   "metadata": {},
   "outputs": [
    {
     "name": "stdout",
     "output_type": "stream",
     "text": [
      "Differentiate: sin(theta) + tan(theta) + 2\n",
      "Integrate: -sqrt(y) + exp(y)\n"
     ]
    }
   ],
   "source": [
    "keywords3 = {\"theta\"}\n",
    "if any(kw in str(nsimplify(output1.lhs)) for kw in keywords3):\n",
    "    print(\"Differentiate:\",str(nsimplify(output1.lhs))[11:-8])\n",
    "    p1 = \"    \"+str(nsimplify(output1.lhs))[11:-8]\n",
    "else:\n",
    "    print(\"Differentiate:\",str(nsimplify(output1.lhs))[11:-4])\n",
    "    p1 = \"    \"+str(nsimplify(output1.lhs))[11:-4]\n",
    "    \n",
    "if any(kw in str(nsimplify(output2.lhs)) for kw in keywords3):\n",
    "    print(\"Integrate:\",str(nsimplify(output2.lhs))[9:-8])\n",
    "    p2 = \"    \"+str(nsimplify(output2.lhs))[9:-8]\n",
    "else:\n",
    "    print(\"Integrate:\",str(nsimplify(output2.lhs))[9:-4]) \n",
    "    p2 = \"    \"+str(nsimplify(output2.lhs))[9:-4]\n"
   ]
  },
  {
   "cell_type": "markdown",
   "id": "30b55c90",
   "metadata": {},
   "source": [
    "**https://www.derivative-calculator.net/ --  https://www.integral-calculator.com/**"
   ]
  }
 ],
 "metadata": {
  "kernelspec": {
   "display_name": "Python 3 (ipykernel)",
   "language": "python",
   "name": "python3"
  },
  "language_info": {
   "codemirror_mode": {
    "name": "ipython",
    "version": 3
   },
   "file_extension": ".py",
   "mimetype": "text/x-python",
   "name": "python",
   "nbconvert_exporter": "python",
   "pygments_lexer": "ipython3",
   "version": "3.10.6"
  }
 },
 "nbformat": 4,
 "nbformat_minor": 5
}
