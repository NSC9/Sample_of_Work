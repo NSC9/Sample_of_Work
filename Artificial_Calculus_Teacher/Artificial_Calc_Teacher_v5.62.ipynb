{
 "cells": [
  {
   "cell_type": "raw",
   "id": "8c69730d",
   "metadata": {},
   "source": [
    "---\n",
    "title: Calculus Problem Generator\n",
    "description: Generates Derivative and Integral Expressions\n",
    "show-code : False\n",
    "---"
   ]
  },
  {
   "cell_type": "code",
   "execution_count": 1,
   "id": "c5197005",
   "metadata": {},
   "outputs": [],
   "source": [
    "# changelog: added TR22 to solutions so diff(tan(x)) = sec(x)**2 instead of tan(x)**2+1"
   ]
  },
  {
   "cell_type": "markdown",
   "id": "8cda1bb8",
   "metadata": {},
   "source": [
    "**Solve with pen and paper:**"
   ]
  },
  {
   "cell_type": "code",
   "execution_count": 14,
   "id": "108761f9",
   "metadata": {
    "scrolled": false
   },
   "outputs": [
    {
     "name": "stdout",
     "output_type": "stream",
     "text": [
      "\n",
      "\n"
     ]
    },
    {
     "data": {
      "text/latex": [
       "$\\displaystyle \\left. \\frac{d}{d \\theta} \\frac{\\sin{\\left(e^{\\theta} \\right)}}{\\cos{\\left(\\theta \\right)}} \\right|_{\\substack{ \\theta=2 \\pi }}$"
      ],
      "text/plain": [
       "Subs(Derivative(sin(exp(theta))/cos(theta), theta), theta, 2*pi)"
      ]
     },
     "metadata": {},
     "output_type": "display_data"
    },
    {
     "name": "stdout",
     "output_type": "stream",
     "text": [
      "\n",
      "\n"
     ]
    },
    {
     "data": {
      "text/latex": [
       "$\\displaystyle \\int \\frac{1}{v^{5}}\\, dv$"
      ],
      "text/plain": [
       "Integral(v**(-5), v)"
      ]
     },
     "metadata": {},
     "output_type": "display_data"
    },
    {
     "name": "stdout",
     "output_type": "stream",
     "text": [
      "\n",
      "\n"
     ]
    }
   ],
   "source": [
    "from sympy.simplify.fu import TR22,TR2i\n",
    "from sympy import sin,cos,ln,exp,tan,Function,Derivative,Eq,Integral,sec\n",
    "from sympy import factor_terms, sqrt, Symbol,pi, simplify\n",
    "import random\n",
    "f = Function('f')\n",
    "g = Function('g')\n",
    "h = Function('h')\n",
    "theta = Symbol('theta')\n",
    "y = Symbol('y')\n",
    "i = 0\n",
    "dkeywords = {\"polylog\",\"Ei\",\"gamma\",\"Piecewise\",\"li\",\"erf\",\"atan\",\"Si\",\"Ci\",\"hyper\",\"fresnel\",\"Li\",\"expint\",\"zoo\",\n",
    "\"nan\",\"oo\",\"I\",\"abs\",\"re\",\"EulerGamma\", \"sinh\",\"tanh\", \"cosh\",\"cot\",\"csc\"} \n",
    "ikeywords = {\"polylog\",\"Ei\",\"gamma\",\"Piecewise\", \"li\", \"erf\", \"atan\", \"Si\",  \"Ci\",  \"hyper\",  \"fresnel\",  \"Li\", \n",
    "\"expint\",\"zoo\", \"nan\", \"oo\",\"EulerGamma\",\"sinh\",\"csc\"}\n",
    "keywords2 = {\"sin\",\"cos\",\"sec\",\"tan\"}\n",
    "def random_value(i):\n",
    "    return random.choice([i for i in range(-5,6) if i not in [0]])\n",
    "def random_variable(i):\n",
    "    return Symbol(random.choice([i for i in ['v','t','x','z']]), real=True)\n",
    "a = random_variable(i)\n",
    "b = random_variable(i)\n",
    "\n",
    "def random_value2(i):\n",
    "    return random.choice([i for i in range(1,7)])\n",
    "    \n",
    "def dmain(a):\n",
    "    def random_math(a): \n",
    "        def power(a):      \n",
    "            return a**random_value(i)\n",
    "        def scalar(a):       \n",
    "            return a*random_value(i)\n",
    "        def addSUBTR(a):     \n",
    "            return a+random_value(i)\n",
    "        funs = [power,power,power,scalar,scalar,scalar,addSUBTR,addSUBTR,addSUBTR,\n",
    "                ln,exp,cos,sin,cos,sin,tan,sec,sqrt]   \n",
    "        operations = [f(g(a)),f(a)+g(a),f(a)-g(a),f(a)/g(a),f(a)*g(a),\n",
    "                      f(g(a)),f(a)+g(a),f(a)-g(a),f(a)/g(a),f(a)*g(a),\n",
    "                      f(g(a)),f(a)+g(a),f(a)-g(a),f(a)/g(a),f(a)*g(a),\n",
    "                      f(g(a)),f(a)+g(a),f(a)-g(a),f(a)/g(a),f(a)*g(a), f(a)+g(a)+h(a), f(a)-g(a)-h(a),\n",
    "                      (f(a)*g(a))/h(a), f(a)/(g(a)*h(a)),f(g(h(a))),f(h(a))+g(a),f(h(a))-g(a),\n",
    "                      f(h(a))/g(a),f(a)/g(h(a)),f(h(a))*g(a),f(a)*h(a)*g(a)]\n",
    "        operation = operations[random.randrange(0,len(operations))]\n",
    "        return [[[operation.replace(f, i) for i in funs][random.randrange(0,len(funs))].replace(g, i) for i in funs]\\\n",
    "    [random.randrange(0,len(funs))].replace(h, i) for i in funs][random.randrange(0,len(funs))]\n",
    "    global setup1\n",
    "    setup1 = random_math(a)\n",
    "    global c\n",
    "    if any(kw in str(setup1) for kw in keywords2):\n",
    "        setup1 = setup1.replace(a,theta)\n",
    "        a = theta\n",
    "        c = theta\n",
    "    else:\n",
    "        c = a\n",
    "        pass  \n",
    "    if random_value2(i) == 1:\n",
    "        def random_value3(i):\n",
    "            if any(kw in str(setup1) for kw in keywords2):\n",
    "                return random.choice([i for i in [-2*pi,-3*pi/2,-pi,-pi/2,0,pi/2,\\\n",
    "                                                  pi,3*pi/2, 2*pi]])\n",
    "            else: return random.choice([i for i in range(-5,5)])  \n",
    "        global final\n",
    "        final = random_value3(i)\n",
    "        practice1 = Derivative(setup1,a).subs(a,final)\n",
    "    else:\n",
    "        practice1 = Derivative(setup1,a)\n",
    "    global p1eq\n",
    "    p1eq = TR22(Eq(practice1,practice1.doit(),evaluate=False))\n",
    "\n",
    "def imain(b):\n",
    "    def random_math2(b): \n",
    "\n",
    "        def power(b):      \n",
    "            return b**random_value(i)\n",
    "        def scalar(b):\n",
    "            return b*random_value(i)\n",
    "        def addSUBTR(b): \n",
    "            return b+random_value(i)\n",
    "        funs = [power,power,power,addSUBTR,addSUBTR,addSUBTR,scalar,scalar,scalar,\n",
    "                power,power,power,addSUBTR,addSUBTR,addSUBTR,scalar,scalar,scalar,\n",
    "                ln,exp,cos,sin,cos,sin,sqrt]   \n",
    "        operations = [f(g(b)),f(b)+g(b),f(b)-g(b),f(b)/g(b),f(b)*g(b)]\n",
    "        operation = operations[random.randrange(0,len(operations))]\n",
    "        return [[operation.replace(f, i) for i in funs][random.randrange(0,len(funs))].replace(g, i) for i in funs]\\\n",
    "    [random.randrange(0,len(funs))]\n",
    "    global setup2\n",
    "    setup2 = random_math2(b)\n",
    "    global d\n",
    "    if any(kw in str(setup2) for kw in keywords2):\n",
    "        setup2 = setup2.replace(b,theta)\n",
    "        b = theta\n",
    "        d = theta\n",
    "    else:\n",
    "        d = b\n",
    "        pass\n",
    "    global practice2\n",
    "    if random_value2(i) == 1:\n",
    "        def random_value4(i):\n",
    "            if any(kw in str(setup2) for kw in keywords2):\n",
    "                return random.choice([i for i in [pi/2,pi,3*pi/2, 2*pi]])\n",
    "            else: return random_value2(i)\n",
    "        practice2 = Integral(setup2,(d,0,random_value4(i)))\n",
    "    else: \n",
    "        practice2 = Integral(setup2,d)  \n",
    "    global p2eq \n",
    "    p2eq = TR22(Eq(practice2,practice2.doit(),evaluate=False))\n",
    "\n",
    "print(\"\\n\")\n",
    "derror = True\n",
    "def dtest():\n",
    "    global derror\n",
    "    if p1eq.rhs != 0:\n",
    "        if not any(kw in str(p1eq) for kw in dkeywords):\n",
    "            derror = False\n",
    "    else:  pass\n",
    "while derror == True:\n",
    "    dmain(a)\n",
    "    dtest()\n",
    "display(p1eq.lhs)\n",
    "print(\"\\n\")    \n",
    "ierror = True\n",
    "def itest():\n",
    "    global ierror\n",
    "    if str(factor_terms(p2eq.lhs)) != str(factor_terms(p2eq.rhs)): \n",
    "        checker1 = str(p2eq)+str(Integral(setup2,d).doit())\n",
    "        if not any(kw in checker1 for kw in ikeywords):\n",
    "            ierror = False\n",
    "    else: pass\n",
    "while ierror == True:\n",
    "    imain(b)\n",
    "    itest()\n",
    "display(p2eq.lhs)\n",
    "print(\"\\n\")\n",
    "\n"
   ]
  },
  {
   "cell_type": "markdown",
   "id": "82be651f",
   "metadata": {},
   "source": [
    "**Solutions:**"
   ]
  },
  {
   "cell_type": "code",
   "execution_count": 15,
   "id": "a0a40876",
   "metadata": {},
   "outputs": [
    {
     "name": "stdout",
     "output_type": "stream",
     "text": [
      "\n",
      "\n"
     ]
    },
    {
     "data": {
      "text/latex": [
       "$\\displaystyle \\frac{d}{d \\theta} \\frac{\\sin{\\left(e^{\\theta} \\right)}}{\\cos{\\left(\\theta \\right)}} = \\frac{e^{\\theta} \\cos{\\left(e^{\\theta} \\right)}}{\\cos{\\left(\\theta \\right)}} + \\frac{\\sin{\\left(\\theta \\right)} \\sin{\\left(e^{\\theta} \\right)}}{\\cos^{2}{\\left(\\theta \\right)}}$"
      ],
      "text/plain": [
       "Eq(Derivative(sin(exp(theta))/cos(theta), theta), exp(theta)*cos(exp(theta))/cos(theta) + sin(theta)*sin(exp(theta))/cos(theta)**2)"
      ]
     },
     "metadata": {},
     "output_type": "display_data"
    },
    {
     "data": {
      "text/latex": [
       "$\\displaystyle \\left. \\frac{d}{d \\theta} \\frac{\\sin{\\left(e^{\\theta} \\right)}}{\\cos{\\left(\\theta \\right)}} \\right|_{\\substack{ \\theta=2 \\pi }} = e^{2 \\pi} \\cos{\\left(e^{2 \\pi} \\right)}$"
      ],
      "text/plain": [
       "Eq(Subs(Derivative(sin(exp(theta))/cos(theta), theta), theta, 2*pi), exp(2*pi)*cos(exp(2*pi)))"
      ]
     },
     "metadata": {},
     "output_type": "display_data"
    },
    {
     "name": "stdout",
     "output_type": "stream",
     "text": [
      "\n",
      "\n",
      "Line tangent to the curve at this point is:\n"
     ]
    },
    {
     "data": {
      "text/latex": [
       "$\\displaystyle y = \\left(\\theta - 2 \\pi\\right) e^{2 \\pi} \\cos{\\left(e^{2 \\pi} \\right)} + \\frac{\\sin{\\left(e^{\\theta} \\right)}}{\\cos{\\left(\\theta \\right)}}$"
      ],
      "text/plain": [
       "Eq(y, (theta - 2*pi)*exp(2*pi)*cos(exp(2*pi)) + sin(exp(theta))/cos(theta))"
      ]
     },
     "metadata": {},
     "output_type": "display_data"
    },
    {
     "name": "stdout",
     "output_type": "stream",
     "text": [
      "\n",
      "\n"
     ]
    },
    {
     "data": {
      "text/latex": [
       "$\\displaystyle \\int \\frac{1}{v^{5}}\\, dv = - \\frac{1}{4 v^{4}}$"
      ],
      "text/plain": [
       "Eq(Integral(v**(-5), v), -1/(4*v**4))"
      ]
     },
     "metadata": {},
     "output_type": "display_data"
    },
    {
     "name": "stdout",
     "output_type": "stream",
     "text": [
      "\n",
      "\n"
     ]
    }
   ],
   "source": [
    "print(\"\\n\")\n",
    "if derror == False:    \n",
    "    if str(p1eq).find(\"Subs\") != -1:       \n",
    "        display(TR22(Eq(Derivative(setup1),Derivative(setup1).doit())))\n",
    "        display(p1eq)\n",
    "        print(\"\\n\")\n",
    "        print(\"Line tangent to the curve at this point is:\")\n",
    "        display(Eq(y,p1eq.rhs*(c-final)+TR2i(setup1)))\n",
    "    else: \n",
    "        display(p1eq)\n",
    "\n",
    "print(\"\\n\")\n",
    "if ierror == False:\n",
    "    if str(p2eq).find(\" 0, \") != -1:\n",
    "        itest()\n",
    "        display(Eq(Integral(setup2,d),Integral(setup2,d).doit()))\n",
    "    display(p2eq)\n",
    "else:\n",
    "    pass\n",
    "print(\"\\n\")"
   ]
  },
  {
   "cell_type": "markdown",
   "id": "b3f5b9fb",
   "metadata": {},
   "source": [
    "If LaTeX display breaks, refresh the page.\n",
    "\n",
    "\n",
    "**Created by GitHub.com/NSC9   - MIT License - v5.62**\n",
    "\n",
    "Donate by sending Bitcoin (BTC) to address: **bc1qtawr2gw52ftufzu0r3r20pnj3vmynssxs0mjl4**"
   ]
  }
 ],
 "metadata": {
  "kernelspec": {
   "display_name": "Python 3 (ipykernel)",
   "language": "python",
   "name": "python3"
  },
  "language_info": {
   "codemirror_mode": {
    "name": "ipython",
    "version": 3
   },
   "file_extension": ".py",
   "mimetype": "text/x-python",
   "name": "python",
   "nbconvert_exporter": "python",
   "pygments_lexer": "ipython3",
   "version": "3.8.10"
  }
 },
 "nbformat": 4,
 "nbformat_minor": 5
}
