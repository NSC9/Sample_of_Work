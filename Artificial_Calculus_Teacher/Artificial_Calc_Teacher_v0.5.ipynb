{
 "cells": [
  {
   "cell_type": "markdown",
   "id": "0625835f",
   "metadata": {},
   "source": [
    "Credits to https://people.math.harvard.edu/~knill/teaching/math1a_2011/handouts/46-ai.pdf\n",
    "\n",
    "Notebook by github.com/nsc9\n"
   ]
  },
  {
   "cell_type": "code",
   "execution_count": 1,
   "id": "9aef0f0e",
   "metadata": {},
   "outputs": [],
   "source": [
    "# Thanks to @smichr for .replace suggestion https://stackoverflow.com/a/73000728/17291132 \n",
    "from sympy import sqrt,sin,cos,log,exp,tan,Function,Derivative,Eq,Pow,S,sympify,Integral,plot,cbrt,Limit\n",
    "from sympy.abc import x\n",
    "import random\n",
    "f = Function('f')\n",
    "g = Function('g')"
   ]
  },
  {
   "cell_type": "code",
   "execution_count": 37,
   "id": "108761f9",
   "metadata": {},
   "outputs": [],
   "source": [
    "def random_math(x): \n",
    "    def power_function(x):\n",
    "        return x**(random.randrange(-4,6,1))\n",
    "    def scalar_function(x):\n",
    "        allowed_values = list(range(-4, 3))\n",
    "        allowed_values.remove(0)\n",
    "        random_value = random.choice(allowed_values)  \n",
    "        return x*(random_value)\n",
    "    def addSUBTR_function(x):\n",
    "        return x+(random.randrange(-5,5,1))\n",
    "    def rational_function(x):\n",
    "        return power_function(x) +scalar_function(x) + addSUBTR_function(x)\n",
    "    funs = [sqrt,cbrt,sin,cos,log,exp,tan,power_function,\n",
    "            scalar_function,addSUBTR_function,rational_function]      \n",
    "    operations = [f(g(x)),f(x)+g(x),f(x)/g(x),f(x)-g(x)]\n",
    "    operation = operations[random.randrange(0,len(operations))]\n",
    "    return [[operation.replace(f, i) for i in funs][random.randrange(0,len(funs))].replace(g, i) for i in funs]\\\n",
    "[random.randrange(0,len(funs))]"
   ]
  },
  {
   "cell_type": "code",
   "execution_count": 39,
   "id": "953fc230",
   "metadata": {},
   "outputs": [
    {
     "data": {
      "text/latex": [
       "$\\displaystyle \\lim_{x \\to 6}\\left(\\frac{e^{x}}{\\tan{\\left(x \\right)}}\\right)$"
      ],
      "text/plain": [
       "Limit(exp(x)/tan(x), x, 6, dir='+-')"
      ]
     },
     "metadata": {},
     "output_type": "display_data"
    },
    {
     "data": {
      "text/latex": [
       "$\\displaystyle \\frac{d}{d x} \\left(- \\sqrt[3]{x} + e^{x}\\right)$"
      ],
      "text/plain": [
       "Derivative(-x**(1/3) + exp(x), x)"
      ]
     },
     "metadata": {},
     "output_type": "display_data"
    },
    {
     "data": {
      "text/latex": [
       "$\\displaystyle \\int \\left(\\sqrt{x} - \\tan{\\left(x \\right)}\\right)\\, dx$"
      ],
      "text/plain": [
       "Integral(sqrt(x) - tan(x), x)"
      ]
     },
     "metadata": {},
     "output_type": "display_data"
    },
    {
     "name": "stdout",
     "output_type": "stream",
     "text": [
      "----------------------------------------------------------------------\n",
      "----------------------------------------------------------------------\n",
      "----------------------------------------------------------------------\n",
      "----------------------------------------------------------------------\n",
      "----------------------------------------------------------------------\n",
      "----------------------------------------------------------------------\n",
      "----------------------------------------------------------------------\n",
      "----------------------------------------------------------------------\n",
      "----------------------------------------------------------------------\n"
     ]
    },
    {
     "data": {
      "text/latex": [
       "$\\displaystyle \\lim_{x \\to 6}\\left(\\frac{e^{x}}{\\tan{\\left(x \\right)}}\\right) = \\frac{e^{6}}{\\tan{\\left(6 \\right)}}$"
      ],
      "text/plain": [
       "Eq(Limit(exp(x)/tan(x), x, 6, dir='+-'), exp(6)/tan(6))"
      ]
     },
     "metadata": {},
     "output_type": "display_data"
    },
    {
     "data": {
      "text/latex": [
       "$\\displaystyle \\frac{d}{d x} \\left(- \\sqrt[3]{x} + e^{x}\\right) = e^{x} - \\frac{1}{3 x^{\\frac{2}{3}}}$"
      ],
      "text/plain": [
       "Eq(Derivative(-x**(1/3) + exp(x), x), exp(x) - 1/(3*x**(2/3)))"
      ]
     },
     "metadata": {},
     "output_type": "display_data"
    },
    {
     "data": {
      "text/latex": [
       "$\\displaystyle \\int \\left(\\sqrt{x} - \\tan{\\left(x \\right)}\\right)\\, dx = \\frac{2 x^{\\frac{3}{2}}}{3} + \\log{\\left(\\cos{\\left(x \\right)} \\right)}$"
      ],
      "text/plain": [
       "Eq(Integral(sqrt(x) - tan(x), x), 2*x**(3/2)/3 + log(cos(x)))"
      ]
     },
     "metadata": {},
     "output_type": "display_data"
    }
   ],
   "source": [
    "practice3 = Limit(random_math(x),x,random.randrange(-9,9),dir='+-')\n",
    "practice1 = Derivative(random_math(x))\n",
    "practice2 = Integral(random_math(x),x)\n",
    "if practice1.evalf() != 0 and practice2.evalf() and practice3.evalf() != 0:\n",
    "    display(practice3)\n",
    "    display(practice1)\n",
    "    display(practice2)\n",
    "    for i in range(0,9):\n",
    "        print(\"----------------------------------------------------------------------\")\n",
    "    display(Eq(practice3,practice3.doit(),evaluate=False))    \n",
    "    display(Eq(practice1,practice1.doit(),evaluate=False))\n",
    "    display(Eq(practice2,practice2.doit(),evaluate=False))\n",
    "    "
   ]
  }
 ],
 "metadata": {
  "kernelspec": {
   "display_name": "Python 3 (ipykernel)",
   "language": "python",
   "name": "python3"
  },
  "language_info": {
   "codemirror_mode": {
    "name": "ipython",
    "version": 3
   },
   "file_extension": ".py",
   "mimetype": "text/x-python",
   "name": "python",
   "nbconvert_exporter": "python",
   "pygments_lexer": "ipython3",
   "version": "3.8.10"
  }
 },
 "nbformat": 4,
 "nbformat_minor": 5
}
