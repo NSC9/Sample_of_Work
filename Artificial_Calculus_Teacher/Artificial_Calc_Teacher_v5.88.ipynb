{
 "cells": [
  {
   "cell_type": "raw",
   "id": "8c69730d",
   "metadata": {},
   "source": [
    "---\n",
    "title: Calculus Problem Generator\n",
    "description: Generates Derivative and Integral Expressions\n",
    "show-code : False\n",
    "---"
   ]
  },
  {
   "cell_type": "code",
   "execution_count": 1,
   "id": "c5197005",
   "metadata": {},
   "outputs": [],
   "source": [
    "# changelog: new quote at the bottom. Added differential equations. "
   ]
  },
  {
   "cell_type": "markdown",
   "id": "6bdf2faf",
   "metadata": {},
   "source": [
    "# Solve with pen and paper:"
   ]
  },
  {
   "cell_type": "code",
   "execution_count": 2,
   "id": "108761f9",
   "metadata": {
    "scrolled": false
   },
   "outputs": [],
   "source": [
    "from sympy.simplify.fu import TR22,TR2i\n",
    "from sympy import ln,exp,Function,Derivative,Eq,Integral,factor_terms, sqrt, Symbol,Limit,solve\n",
    "from sympy import sin,cos,tan,Rational,nsimplify\n",
    "from sympy.abc import theta, alpha,beta\n",
    "import random\n",
    "f = Function('f')\n",
    "g = Function('g')\n",
    "h = Function('h')\n",
    "i = 0\n",
    "dkeywords = {\"polylog\",\"Ei\",\"gamma\",\"Piecewise\",\"li\",\"erf\",\"Si\",\"Ci\",\"hyper\",\"fresnel\",\"Li\",\"expint\",\"zoo\",\n",
    "\"nan\",\"oo\",\"abs\",\"re\",\"EulerGamma\", \"sinh\",\"tanh\", \"cosh\",'sign','abs','atan','csc','asin'} \n",
    "ikeywords = {\"polylog\",\"Ei\",\"gamma\",\"Piecewise\", \"li\", \"erf\", \"atan\", \"Si\",  \"Ci\",  \"hyper\",  \"fresnel\",  \"Li\", \n",
    "\"expint\",\"zoo\", \"nan\", \"oo\",\"EulerGamma\",\"sinh\",\"csc\",\"asin\"}\n",
    "keywords2 = {\"sin\",\"cos\",\"tan\"}\n",
    "def random_variable(i):\n",
    "    return Symbol(random.choice([i for i in ['v','t','x','z','y']]), real=True)\n",
    "def random_value(i):\n",
    "    return random.choice([i for i in range(-10,10) if i not in [0]])\n",
    "def power(a):      \n",
    "    return random_value(i)*a**int(random_value(i)/2)\n",
    "def scalar(a):       \n",
    "    return a*random_value(i) + random_value(i)\n",
    "def addSUBTR(a):     \n",
    "    return a+random_value(i)\n",
    "def dmain(a):\n",
    "    def random_math(a): \n",
    "        funs = [power,scalar,addSUBTR,ln,exp,sin,cos,tan,sqrt]   \n",
    "        operations = [f(a)*g(a)+h(a), f(a)-g(a)*h(a),f(a)/(g(a)-h(a)), f(a)/(-g(a)+h(a)),\n",
    "                      f(a)+g(a)+h(a), f(a)-g(a)-h(a),f(a)+g(a)-h(a), f(a)-g(a)+h(a),\n",
    "                      (f(a)*g(a))/h(a), f(a)/(g(a)*h(a)),f(g(h(a))),f(h(a))+g(a),f(h(a))-g(a),\n",
    "                      f(h(a))/g(a),f(a)/g(h(a)),f(h(a))*g(a),f(a)*h(a)*g(a)]\n",
    "        operation = operations[random.randrange(0,len(operations))]\n",
    "        return [[[operation.replace(f, i) for i in funs][random.randrange(0,len(funs))].replace(g, i) for i in funs]\\\n",
    "    [random.randrange(0,len(funs))].replace(h, i) for i in funs][random.randrange(0,len(funs))]\n",
    "    return random_math(a)\n",
    "def imain(a):\n",
    "    def random_math2(a):  \n",
    "        funs = [power,scalar,addSUBTR,power,scalar,addSUBTR,sin,cos]   \n",
    "        operations = [f(g(a)),f(a)+g(a),f(a)-g(a),f(a)/g(a),f(a)*g(a)]\n",
    "        operation = operations[random.randrange(0,len(operations))]\n",
    "        return [[operation.replace(f, i) for i in funs][random.randrange(0,len(funs))].replace(g, i) for i in funs]\\\n",
    "    [random.randrange(0,len(funs))]\n",
    "    return random_math2(a)"
   ]
  },
  {
   "cell_type": "code",
   "execution_count": 17,
   "id": "5ddcf6a5",
   "metadata": {
    "scrolled": false
   },
   "outputs": [
    {
     "data": {
      "text/latex": [
       "$\\displaystyle \\lim_{v \\to 2} \\sqrt[4]{v - 8}$"
      ],
      "text/plain": [
       "Limit((v - 8)**(1/4), v, 2, dir='+-')"
      ]
     },
     "metadata": {},
     "output_type": "display_data"
    },
    {
     "data": {
      "text/latex": [
       "$\\displaystyle \\frac{d}{d \\theta} \\frac{\\tan{\\left(\\theta \\right)}}{\\sin{\\left(\\theta \\right)} \\cos{\\left(\\theta \\right)}}$"
      ],
      "text/plain": [
       "Derivative(tan(theta)/(sin(theta)*cos(theta)), theta)"
      ]
     },
     "metadata": {},
     "output_type": "display_data"
    },
    {
     "data": {
      "text/latex": [
       "$\\displaystyle \\int \\left(z + 3\\right) \\left(z + 6\\right)\\, dz$"
      ],
      "text/plain": [
       "Integral((z + 3)*(z + 6), z)"
      ]
     },
     "metadata": {},
     "output_type": "display_data"
    },
    {
     "data": {
      "text/latex": [
       "$\\displaystyle \\frac{d^{2}}{d y^{2}} 7 x^{2} \\left(x + 5\\right) = \\left(24 y - 15\\right) \\left(- 10 x + 8 - \\frac{7}{x^{3}}\\right)$"
      ],
      "text/plain": [
       "Eq(Derivative(7*x**2*(x + 5), (y, 2)), (24*y - 15)*(-10*x + 8 - 7/x**3))"
      ]
     },
     "metadata": {},
     "output_type": "display_data"
    }
   ],
   "source": [
    "derror = True\n",
    "def dtest():\n",
    "    global setup1\n",
    "    global derror\n",
    "    global practice1\n",
    "    a = random_variable(i)\n",
    "    setup1 = dmain(a)\n",
    "    practice1 = Derivative(setup1,a)       \n",
    "    p1eq = TR22(Eq(practice1,practice1.doit(),evaluate=False))\n",
    "    if any(kw in str(setup1) for kw in keywords2):\n",
    "        setup1 = setup1.replace(a,theta)\n",
    "        practice1 = Derivative(setup1,theta)   \n",
    "        p1eq = TR22(Eq(practice1,practice1.doit(),evaluate=False))\n",
    "    if p1eq.lhs != 0 and not any(kw in str(p1eq) for kw in dkeywords):\n",
    "        derror = False\n",
    "    return p1eq\n",
    "while derror == True: \n",
    "    output1 = dtest()\n",
    "ierror = True\n",
    "def itest():\n",
    "    global ierror\n",
    "    global practice2\n",
    "    global setup2\n",
    "    a = random_variable(i)\n",
    "    setup2 = imain(a)\n",
    "    practice2 = Integral(setup2,a)  \n",
    "    p2eq = TR22(Eq(practice2,practice2.doit(),evaluate=False))\n",
    "    if str(factor_terms(p2eq.lhs)) != str(factor_terms(p2eq.rhs)) and not any(kw in str(p2eq) for kw in ikeywords)\\\n",
    "    and str(p2eq.lhs) != str(-p2eq.rhs): \n",
    "        if any(kw in str(setup2) for kw in keywords2):\n",
    "            setup2 = setup2.replace(a,theta)\n",
    "            practice2 = Integral(setup2,theta)  \n",
    "            p2eq = TR22(Eq(practice2,practice2.doit(),evaluate=False))\n",
    "        ierror = False\n",
    "    return p2eq\n",
    "while ierror == True:\n",
    "    output2 = itest()\n",
    "p = random_variable(i)\n",
    "lim = Limit(dmain(p),p,random_value(i),'+-')\n",
    "limi = Eq(lim,lim.doit(),evaluate=False)\n",
    "if any(kw in str(limi) for kw in keywords2):\n",
    "    limi = limi.replace(p,theta)\n",
    "def diffeq():\n",
    "    twokindsofDiffEqs = random.randint(1, 2)\n",
    "    if  twokindsofDiffEqs == 1:\n",
    "        p = random_variable(i)\n",
    "        q = random_variable(i)\n",
    "        eq = imain(p)\n",
    "        eq2 = imain(q)\n",
    "        if any(kw in str(eq) for kw in keywords2) or any(kw in str(eq2) for kw in keywords2):\n",
    "            eq = eq.replace(p,alpha)\n",
    "            p = alpha\n",
    "            eq2 = eq2.replace(q,beta)     \n",
    "            q = beta\n",
    "        return Eq(Derivative(eq2,p,random.randint(1, 2)),eq, evaluate=False)\n",
    "    else:\n",
    "        p = random_variable(i)\n",
    "        q = random_variable(i)\n",
    "        if random.randint(1, 4) == 1:\n",
    "            eq = imain(p)+imain(q)\n",
    "        elif random.randint(1, 4) == 2:\n",
    "            eq = imain(p)-imain(q)\n",
    "        elif random.randint(1, 4) == 3:\n",
    "            eq = imain(p)*imain(q)\n",
    "        else:\n",
    "            eq = imain(p)/imain(q)       \n",
    "        eq2 = imain(q)\n",
    "        if any(kw in str(eq) for kw in keywords2) or any(kw in str(eq2) for kw in keywords2):\n",
    "            eq = eq.replace(p,alpha).replace(q,beta)\n",
    "            p = alpha\n",
    "            eq2 = eq2.replace(q,beta)     \n",
    "            q = beta\n",
    "        return Eq(Derivative(eq2,p,random.randint(1, 2)),eq, evaluate=False)\n",
    "stuff1 = diffeq()\n",
    "def lhs():\n",
    "    return display(limi.lhs,nsimplify(output1.lhs),nsimplify(output2.lhs),stuff1)\n",
    "def rhs():\n",
    "    return display(limi,nsimplify(output1),nsimplify(output2), solve(stuff1))\n",
    "    \n",
    "lhs()"
   ]
  },
  {
   "cell_type": "markdown",
   "id": "2393180e",
   "metadata": {},
   "source": [
    "If LaTeX display breaks, refresh the page.\n",
    "\n",
    "\n",
    "**Created by GitHub.com/NSC9   - MIT License - v5.88**\n",
    "\n",
    "Donate by sending Bitcoin (BTC) to address: **bc1qtawr2gw52ftufzu0r3r20pnj3vmynssxs0mjl4**\n",
    "\n",
    "# Answers:"
   ]
  },
  {
   "cell_type": "code",
   "execution_count": 18,
   "id": "522a6f9c",
   "metadata": {},
   "outputs": [
    {
     "data": {
      "text/latex": [
       "$\\displaystyle \\lim_{v \\to 2} \\sqrt[4]{v - 8} = \\sqrt[4]{-6}$"
      ],
      "text/plain": [
       "Eq(Limit((v - 8)**(1/4), v, 2, dir='+-'), (-6)**(1/4))"
      ]
     },
     "metadata": {},
     "output_type": "display_data"
    },
    {
     "data": {
      "text/latex": [
       "$\\displaystyle \\frac{d}{d \\theta} \\frac{\\tan{\\left(\\theta \\right)}}{\\sin{\\left(\\theta \\right)} \\cos{\\left(\\theta \\right)}} = \\frac{\\tan{\\left(\\theta \\right)}}{\\cos^{2}{\\left(\\theta \\right)}} + \\frac{\\sec^{2}{\\left(\\theta \\right)}}{\\sin{\\left(\\theta \\right)} \\cos{\\left(\\theta \\right)}} - \\frac{\\tan{\\left(\\theta \\right)}}{\\sin^{2}{\\left(\\theta \\right)}}$"
      ],
      "text/plain": [
       "Eq(Derivative(tan(theta)/(sin(theta)*cos(theta)), theta), tan(theta)/cos(theta)**2 + sec(theta)**2/(sin(theta)*cos(theta)) - tan(theta)/sin(theta)**2)"
      ]
     },
     "metadata": {},
     "output_type": "display_data"
    },
    {
     "data": {
      "text/latex": [
       "$\\displaystyle \\int \\left(z + 3\\right) \\left(z + 6\\right)\\, dz = \\frac{z^{3}}{3} + \\frac{9 z^{2}}{2} + 18 z$"
      ],
      "text/plain": [
       "Eq(Integral((z + 3)*(z + 6), z), z**3/3 + 9*z**2/2 + 18*z)"
      ]
     },
     "metadata": {},
     "output_type": "display_data"
    },
    {
     "data": {
      "text/plain": [
       "(0, 5/8)"
      ]
     },
     "metadata": {},
     "output_type": "display_data"
    }
   ],
   "source": [
    "rhs()"
   ]
  },
  {
   "cell_type": "markdown",
   "id": "a49c620b",
   "metadata": {},
   "source": [
    "> “Thinking is generating possible solutions to problems and testing those solutions. The solutions are tested by observation, memory, and experiment.” ― Henry Hazlitt's 'Thinking as a Science'"
   ]
  },
  {
   "cell_type": "markdown",
   "id": "a3a20255",
   "metadata": {},
   "source": [
    "> “Thinking is to have a coherent set of propositions in your head.\n",
    "\" - John Vervaeke\""
   ]
  }
 ],
 "metadata": {
  "kernelspec": {
   "display_name": "Python 3 (ipykernel)",
   "language": "python",
   "name": "python3"
  },
  "language_info": {
   "codemirror_mode": {
    "name": "ipython",
    "version": 3
   },
   "file_extension": ".py",
   "mimetype": "text/x-python",
   "name": "python",
   "nbconvert_exporter": "python",
   "pygments_lexer": "ipython3",
   "version": "3.8.10"
  }
 },
 "nbformat": 4,
 "nbformat_minor": 5
}
