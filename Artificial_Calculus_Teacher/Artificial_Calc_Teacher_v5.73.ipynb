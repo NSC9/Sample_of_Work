{
 "cells": [
  {
   "cell_type": "raw",
   "id": "8c69730d",
   "metadata": {},
   "source": [
    "---\n",
    "title: Calculus Problem Generator\n",
    "description: Generates Derivative and Integral Expressions\n",
    "show-code : False\n",
    "---"
   ]
  },
  {
   "cell_type": "code",
   "execution_count": 1,
   "id": "c5197005",
   "metadata": {},
   "outputs": [],
   "source": [
    "# changelog: partly rewritten"
   ]
  },
  {
   "cell_type": "code",
   "execution_count": 29,
   "id": "108761f9",
   "metadata": {
    "scrolled": false
   },
   "outputs": [],
   "source": [
    "from sympy.simplify.fu import TR22,TR2i\n",
    "from sympy import sin,cos,ln,exp,tan,Function,Derivative,Eq,Integral,sec\n",
    "from sympy import factor_terms, sqrt, Symbol,pi, I, cbrt, asin,acos,acot,atan,csc,cot \n",
    "import random\n",
    "f = Function('f')\n",
    "g = Function('g')\n",
    "h = Function('h')\n",
    "theta = Symbol('theta')\n",
    "i = 0\n",
    "dkeywords = {\"polylog\",\"Ei\",\"gamma\",\"Piecewise\",\"li\",\"erf\",\"atan\",\"Si\",\"Ci\",\"hyper\",\"fresnel\",\"Li\",\"expint\",\"zoo\",\n",
    "\"nan\",\"oo\",\"I\",\"abs\",\"re\",\"EulerGamma\", \"sinh\",\"tanh\", \"cosh\",'sign','abs'} \n",
    "ikeywords = {\"polylog\",\"Ei\",\"gamma\",\"Piecewise\", \"li\", \"erf\", \"atan\", \"Si\",  \"Ci\",  \"hyper\",  \"fresnel\",  \"Li\", \n",
    "\"expint\",\"zoo\", \"nan\", \"oo\",\"EulerGamma\",\"sinh\",\"csc\",\"asin\"}\n",
    "keywords2 = {\"sin\",\"cos\",\"sec\",\"tan\",\"asin\",\"acos\",\"acot\",\"atan\",\"csc\",\"cot\" }\n",
    "\n",
    "def random_variable(i):\n",
    "    return Symbol(random.choice([i for i in ['v','t','x','z']]), real=True)\n",
    "a = random_variable(i)\n",
    "b = random_variable(i)\n",
    "def dmain(a):\n",
    "    def random_value(i):\n",
    "        return random.choice([i for i in range(-8,8) if i not in [0]])\n",
    "    def random_math(a): \n",
    "        def power(a):      \n",
    "            return random_value(i)*a**random_value(i)\n",
    "        def scalar(a):       \n",
    "            return a*random_value(i)\n",
    "        def addSUBTR(b):     \n",
    "            return a+random_value(i)\n",
    "        funs = [power,scalar,addSUBTR,ln,exp,cos,sin,tan,sec,sqrt,cbrt,asin,acos,acot,atan,csc,cot]   \n",
    "        operations = [f(g(a)),f(a)+g(a),f(a)-g(a),f(a)/g(a),f(a)*g(a),\n",
    "                      f(g(a)),f(a)+g(a),f(a)-g(a),f(a)/g(a),f(a)*g(a),\n",
    "                      f(g(a)),f(a)+g(a),f(a)-g(a),f(a)/g(a),f(a)*g(a),\n",
    "                      f(a)+g(a)+h(a), f(a)-g(a)-h(a),f(a)+g(a)-h(a), f(a)-g(a)+h(a),\n",
    "                      (f(a)*g(a))/h(a), f(a)/(g(a)*h(a)),f(g(h(a))),f(h(a))+g(a),f(h(a))-g(a),\n",
    "                      f(h(a))/g(a),f(a)/g(h(a)),f(h(a))*g(a),f(a)*h(a)*g(a)]\n",
    "        operation = operations[random.randrange(0,len(operations))]\n",
    "        return [[[operation.replace(f, i) for i in funs][random.randrange(0,len(funs))].replace(g, i) for i in funs]\\\n",
    "    [random.randrange(0,len(funs))].replace(h, i) for i in funs][random.randrange(0,len(funs))]\n",
    "    return random_math(a)\n",
    "\n",
    "def imain(b):\n",
    "    def random_value(i):\n",
    "        return random.choice([i for i in range(-5,5) if i not in [0]])\n",
    "    def random_math2(b): \n",
    "        def power(b):      \n",
    "            return random_value(i)*b**random_value(i)\n",
    "        def scalar(b):\n",
    "            return b*random_value(i)\n",
    "        def addSUBTR(b): \n",
    "            return b+random_value(i)\n",
    "        def switch(b): \n",
    "            stuff = [pi/2,pi,(3*pi)/2,(2*pi),I,I,pi/(2 - b),(b + 2*pi),(b + pi), -pi/2, ]\n",
    "            return random.choice([n for n in stuff])        \n",
    "        funs = [power,scalar,addSUBTR,cos,sin,switch,sqrt]   \n",
    "        operations = [f(g(b)),f(b)+g(b),f(b)-g(b),f(b)/g(b),f(b)*g(b),f(g(b)) + f(b)]\n",
    "        operation = operations[random.randrange(0,len(operations))]\n",
    "        return [[operation.replace(f, i) for i in funs][random.randrange(0,len(funs))].replace(g, i) for i in funs]\\\n",
    "    [random.randrange(0,len(funs))]\n",
    "    return random_math2(b)"
   ]
  },
  {
   "cell_type": "markdown",
   "id": "68ba1a1f",
   "metadata": {},
   "source": [
    "**Solve with pen and paper:**"
   ]
  },
  {
   "cell_type": "code",
   "execution_count": 3,
   "id": "5ddcf6a5",
   "metadata": {},
   "outputs": [
    {
     "name": "stdout",
     "output_type": "stream",
     "text": [
      "\n",
      "\n"
     ]
    },
    {
     "data": {
      "text/latex": [
       "$\\displaystyle \\frac{d}{d \\theta} \\left(5 \\theta + \\operatorname{acos}{\\left(\\theta \\right)}\\right)$"
      ],
      "text/plain": [
       "Derivative(5*theta + acos(theta), theta)"
      ]
     },
     "metadata": {},
     "output_type": "display_data"
    },
    {
     "name": "stdout",
     "output_type": "stream",
     "text": [
      "\n",
      "\n"
     ]
    }
   ],
   "source": [
    "print(\"\\n\")\n",
    "derror = True\n",
    "def dtest():\n",
    "    global setup1\n",
    "    global derror\n",
    "    global practice1\n",
    "    a = random_variable(i)\n",
    "    setup1 = dmain(a)\n",
    "    practice1 = Derivative(setup1,a)       \n",
    "    p1eq = TR22(Eq(practice1,practice1.doit(),evaluate=False))\n",
    "    if any(kw in str(setup1) for kw in keywords2):\n",
    "        setup1 = setup1.replace(a,theta)\n",
    "        practice1 = Derivative(setup1,theta)   \n",
    "        p1eq = TR22(Eq(practice1,practice1.doit(),evaluate=False))\n",
    "    if p1eq.rhs != 0 and not any(kw in str(p1eq) for kw in dkeywords):\n",
    "        derror = False\n",
    "    return p1eq\n",
    "while derror == True: \n",
    "    output1 = dtest()\n",
    "setup11 = setup1\n",
    "output11 = output1\n",
    "display(output11.lhs)\n",
    "print(\"\\n\")"
   ]
  },
  {
   "cell_type": "markdown",
   "id": "797625b1",
   "metadata": {},
   "source": [
    "**Solution:**"
   ]
  },
  {
   "cell_type": "code",
   "execution_count": 4,
   "id": "c5b1a73f",
   "metadata": {},
   "outputs": [
    {
     "name": "stdout",
     "output_type": "stream",
     "text": [
      "\n",
      "\n"
     ]
    },
    {
     "data": {
      "text/latex": [
       "$\\displaystyle \\frac{d}{d \\theta} \\left(5 \\theta + \\operatorname{acos}{\\left(\\theta \\right)}\\right) = 5 - \\frac{1}{\\sqrt{1 - \\theta^{2}}}$"
      ],
      "text/plain": [
       "Eq(Derivative(5*theta + acos(theta), theta), 5 - 1/sqrt(1 - theta**2))"
      ]
     },
     "metadata": {},
     "output_type": "display_data"
    },
    {
     "name": "stdout",
     "output_type": "stream",
     "text": [
      "\n",
      "\n"
     ]
    }
   ],
   "source": [
    "print(\"\\n\")\n",
    "display(output11)\n",
    "print(\"\\n\")"
   ]
  },
  {
   "cell_type": "markdown",
   "id": "82be651f",
   "metadata": {},
   "source": [
    "**Solve:**"
   ]
  },
  {
   "cell_type": "code",
   "execution_count": 27,
   "id": "a0a40876",
   "metadata": {},
   "outputs": [
    {
     "name": "stdout",
     "output_type": "stream",
     "text": [
      "\n",
      "\n"
     ]
    },
    {
     "data": {
      "text/latex": [
       "$\\displaystyle \\int \\left(- 5 x - i\\right)\\, dx$"
      ],
      "text/plain": [
       "Integral(-5*x - I, x)"
      ]
     },
     "metadata": {},
     "output_type": "display_data"
    },
    {
     "name": "stdout",
     "output_type": "stream",
     "text": [
      "\n",
      "\n"
     ]
    }
   ],
   "source": [
    "print(\"\\n\")    \n",
    "ierror = True\n",
    "def itest():\n",
    "    global ierror\n",
    "    global practice2\n",
    "    global setup2\n",
    "    b = random_variable(i)\n",
    "    setup2 = imain(b)\n",
    "    practice2 = Integral(setup2,b)  \n",
    "    p2eq = TR22(Eq(practice2,practice2.doit(),evaluate=False))\n",
    "    if str(factor_terms(p2eq.lhs)) != str(factor_terms(p2eq.rhs)) and not any(kw in str(p2eq) for kw in ikeywords): \n",
    "        if any(kw in str(setup2) for kw in keywords2):\n",
    "            setup2 = setup2.replace(b,theta)\n",
    "            practice2 = Integral(setup2,theta)  \n",
    "            p2eq = TR22(Eq(practice2,practice2.doit(),evaluate=False))\n",
    "        ierror = False\n",
    "    return p2eq\n",
    "while ierror == True:\n",
    "    output2 = itest()\n",
    "setup22 = setup2\n",
    "output22 = output2\n",
    "display(output22.lhs)\n",
    "print(\"\\n\")"
   ]
  },
  {
   "cell_type": "markdown",
   "id": "560e2984",
   "metadata": {},
   "source": [
    "**Solution:**"
   ]
  },
  {
   "cell_type": "code",
   "execution_count": 28,
   "id": "a98d1bf8",
   "metadata": {},
   "outputs": [
    {
     "name": "stdout",
     "output_type": "stream",
     "text": [
      "\n",
      "\n"
     ]
    },
    {
     "data": {
      "text/latex": [
       "$\\displaystyle \\int \\left(- 5 x - i\\right)\\, dx = - \\frac{5 x^{2}}{2} - i x$"
      ],
      "text/plain": [
       "Eq(Integral(-5*x - I, x), -5*x**2/2 - I*x)"
      ]
     },
     "metadata": {},
     "output_type": "display_data"
    },
    {
     "name": "stdout",
     "output_type": "stream",
     "text": [
      "\n",
      "\n"
     ]
    }
   ],
   "source": [
    "print(\"\\n\")\n",
    "display(output22)\n",
    "print(\"\\n\")"
   ]
  },
  {
   "cell_type": "markdown",
   "id": "b3f5b9fb",
   "metadata": {},
   "source": [
    "If LaTeX display breaks, refresh the page.\n",
    "\n",
    "\n",
    "**Created by GitHub.com/NSC9   - MIT License - v5.73**\n",
    "\n",
    "Donate by sending Bitcoin (BTC) to address: **bc1qtawr2gw52ftufzu0r3r20pnj3vmynssxs0mjl4**"
   ]
  }
 ],
 "metadata": {
  "kernelspec": {
   "display_name": "Python 3 (ipykernel)",
   "language": "python",
   "name": "python3"
  },
  "language_info": {
   "codemirror_mode": {
    "name": "ipython",
    "version": 3
   },
   "file_extension": ".py",
   "mimetype": "text/x-python",
   "name": "python",
   "nbconvert_exporter": "python",
   "pygments_lexer": "ipython3",
   "version": "3.8.10"
  }
 },
 "nbformat": 4,
 "nbformat_minor": 5
}
