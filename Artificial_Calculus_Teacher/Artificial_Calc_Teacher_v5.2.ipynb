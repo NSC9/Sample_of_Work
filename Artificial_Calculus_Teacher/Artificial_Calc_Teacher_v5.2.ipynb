{
 "cells": [
  {
   "cell_type": "raw",
   "id": "8c69730d",
   "metadata": {},
   "source": [
    "---\n",
    "title: Calculus Problem Generator\n",
    "description: Generates Derivative and Integral Expressions\n",
    "show-code : False\n",
    "---"
   ]
  },
  {
   "cell_type": "code",
   "execution_count": 24,
   "id": "c5197005",
   "metadata": {},
   "outputs": [],
   "source": [
    "# changelog: removed symbol substitute to improve runtime"
   ]
  },
  {
   "cell_type": "code",
   "execution_count": 18,
   "id": "108761f9",
   "metadata": {
    "scrolled": false
   },
   "outputs": [
    {
     "name": "stdout",
     "output_type": "stream",
     "text": [
      "\n",
      "\n",
      "Solve with pen and paper:\n",
      "\n",
      "\n"
     ]
    },
    {
     "data": {
      "text/latex": [
       "$\\displaystyle \\frac{d}{d x} \\frac{\\sin{\\left(x \\right)}}{x^{2}}$"
      ],
      "text/plain": [
       "Derivative(sin(x)/x**2, x)"
      ]
     },
     "metadata": {},
     "output_type": "display_data"
    },
    {
     "name": "stdout",
     "output_type": "stream",
     "text": [
      "\n",
      "\n"
     ]
    },
    {
     "data": {
      "text/latex": [
       "$\\displaystyle \\int x^{4}\\, dx$"
      ],
      "text/plain": [
       "Integral(x**4, x)"
      ]
     },
     "metadata": {},
     "output_type": "display_data"
    },
    {
     "name": "stdout",
     "output_type": "stream",
     "text": [
      "\n",
      "\n",
      "---------------------------------------------------------------------------------------------\n",
      "---------------------------------------------------------------------------------------------\n",
      "Solutions:\n",
      "\n",
      "\n"
     ]
    },
    {
     "data": {
      "text/latex": [
       "$\\displaystyle \\frac{d}{d x} \\frac{\\sin{\\left(x \\right)}}{x^{2}} = \\frac{\\cos{\\left(x \\right)}}{x^{2}} - \\frac{2 \\sin{\\left(x \\right)}}{x^{3}}$"
      ],
      "text/plain": [
       "Eq(Derivative(sin(x)/x**2, x), cos(x)/x**2 - 2*sin(x)/x**3)"
      ]
     },
     "metadata": {},
     "output_type": "display_data"
    },
    {
     "name": "stdout",
     "output_type": "stream",
     "text": [
      "\n",
      "\n",
      "\n",
      "\n"
     ]
    },
    {
     "data": {
      "text/latex": [
       "$\\displaystyle \\int x^{4}\\, dx = \\frac{x^{5}}{5}$"
      ],
      "text/plain": [
       "Eq(Integral(x**4, x), x**5/5)"
      ]
     },
     "metadata": {},
     "output_type": "display_data"
    },
    {
     "name": "stdout",
     "output_type": "stream",
     "text": [
      "---------------------------------------------------------------------------------------------\n"
     ]
    }
   ],
   "source": [
    "from sympy.simplify.fu import TR22,TR2i\n",
    "from sympy import sin,cos,ln,exp,tan,Function,Derivative,Eq,Integral,sec\n",
    "from sympy import factor_terms, sqrt, Symbol,pi, simplify\n",
    "from sympy.abc import x,y\n",
    "import random\n",
    "f = Function('f')\n",
    "g = Function('g')\n",
    "h = Function('h')\n",
    "theta = Symbol('theta')\n",
    "i = 0\n",
    "dkeywords = {\"polylog\",\"Ei\",\"gamma\",\"Piecewise\",\"li\",\"erf\",\"atan\",\"Si\",\"Ci\",\"hyper\",\"fresnel\",\"Li\",\"expint\",\"zoo\",\n",
    "\"nan\",\"oo\",\"I\",\"abs\",\"re\",\"EulerGamma\", \"sinh\",\"tanh\", \"cosh\",\"cot\",\"csc\"} \n",
    "ikeywords = {\"polylog\",\"Ei\",\"gamma\",\"Piecewise\", \"li\", \"erf\", \"atan\", \"Si\",  \"Ci\",  \"hyper\",  \"fresnel\",  \"Li\", \n",
    "\"expint\",\"zoo\", \"nan\", \"oo\",\"EulerGamma\",\"sinh\"}\n",
    "keywords2 = {\"sin\",\"cos\",\"sec\",\"tan\"}\n",
    "def random_value(i):\n",
    "    allowed_values = list(range(-5,5))\n",
    "    allowed_values.remove(0)\n",
    "    for i in range (0,len(allowed_values)):\n",
    "        return random.choice(allowed_values)\n",
    "def random_value2(i):\n",
    "    allowed_values = list(range(1,4))\n",
    "    for i in range (0,len(allowed_values)):\n",
    "        return random.choice(allowed_values)\n",
    "    \n",
    "def dmain(x):\n",
    "    def random_math(x): \n",
    "        def power(x):      \n",
    "            return x**random_value(i)\n",
    "        def scalar(x):       \n",
    "            return x*random_value(i)\n",
    "        def addSUBTR(a):     \n",
    "            return x+random_value(i)\n",
    "        funs = [power,power,power,scalar,scalar,scalar,addSUBTR,addSUBTR,addSUBTR,\n",
    "                ln,exp,cos,sin,cos,sin,tan,sec,sqrt]   \n",
    "        operations = [f(g(x)),f(x)+g(x),f(x)-g(x),f(x)/g(x),f(x)*g(x),\n",
    "                      f(g(x)),f(x)+g(x),f(x)-g(x),f(x)/g(x),f(x)*g(x),\n",
    "                      f(g(x)),f(x)+g(x),f(x)-g(x),f(x)/g(x),f(x)*g(x),\n",
    "                      f(g(x)),f(x)+g(x),f(x)-g(x),f(x)/g(x),f(x)*g(x),\n",
    "                      (f(x)*g(x))/h(x), f(x)/(g(x)*h(x)),f(g(h(x))),f(h(x))+g(x),f(h(x))-g(x),\n",
    "                      f(h(x))/g(x),f(x)/g(h(x)),f(h(x))*g(x),f(x)*h(x)*g(x)]\n",
    "        operation = operations[random.randrange(0,len(operations))]\n",
    "        return [[[operation.replace(f, i) for i in funs][random.randrange(0,len(funs))].replace(g, i) for i in funs]\\\n",
    "    [random.randrange(0,len(funs))].replace(h, i) for i in funs][random.randrange(0,len(funs))]\n",
    "    global setup1\n",
    "    setup1 = random_math(x)\n",
    "    \n",
    "    if random_value2(i) == 1:\n",
    "        def random_value3(i):\n",
    "            allowed_values = list(range(-7,7))\n",
    "            if any(kw in str(setup1) for kw in keywords2):\n",
    "                allowed_values.clear()\n",
    "                allowed_values.append(-pi/2)\n",
    "                allowed_values.append(-pi)\n",
    "                allowed_values.append(-3*pi/2)\n",
    "                allowed_values.append(-2*pi)   \n",
    "                allowed_values.append(pi/2)\n",
    "                allowed_values.append(pi)\n",
    "                allowed_values.append(3*pi/2)\n",
    "                allowed_values.append(2*pi)        \n",
    "            for i in range (0,len(allowed_values)):\n",
    "                return random.choice(allowed_values)  \n",
    "        global final\n",
    "        final = random_value3(i)\n",
    "        practice1 = Derivative(setup1,x).subs(x,final)\n",
    "    else:\n",
    "        practice1 = Derivative(setup1,x)\n",
    "    global p1eq\n",
    "    p1eq = TR22(Eq(practice1,practice1.doit(),evaluate=False))\n",
    "\n",
    "def imain(x):\n",
    "    def random_math2(x): \n",
    "        def power(x):      \n",
    "            return x**random_value(i)\n",
    "        def scalar(x):\n",
    "            return x*random_value(i)\n",
    "        def addSUBTR(x): \n",
    "            return x+random_value(i)\n",
    "        funs = [power,power,power,addSUBTR,addSUBTR,addSUBTR,scalar,scalar,scalar,\n",
    "                power,power,power,addSUBTR,addSUBTR,addSUBTR,scalar,scalar,scalar,\n",
    "                ln,exp,cos,sin,cos,sin,tan,sqrt]   \n",
    "        operations = [f(g(x)),f(x)+g(x),f(x)-g(x),f(x)/g(x),f(x)*g(x)]\n",
    "        operation = operations[random.randrange(0,len(operations))]\n",
    "        return [[operation.replace(f, i) for i in funs][random.randrange(0,len(funs))].replace(g, i) for i in funs]\\\n",
    "    [random.randrange(0,len(funs))]\n",
    "    global setup2\n",
    "    setup2 = random_math2(x)\n",
    "    global practice2\n",
    "    if random_value2(i) == 1:\n",
    "        def random_value4(i):\n",
    "            allowed_values = list(range(1,9))\n",
    "            if any(kw in str(setup2) for kw in keywords2):\n",
    "                allowed_values.clear()\n",
    "                allowed_values.append(pi/2)\n",
    "                allowed_values.append(pi)\n",
    "                allowed_values.append(3*pi/2)\n",
    "                allowed_values.append(2*pi)\n",
    "            for i in range (0,len(allowed_values)):\n",
    "                return random.choice(allowed_values)\n",
    "        practice2 = Integral(setup2,(x,0,random_value4(i)))\n",
    "    else: \n",
    "        practice2 = Integral(setup2,x)  \n",
    "    global p2eq \n",
    "    p2eq = TR22(Eq(practice2,practice2.doit(),evaluate=False))\n",
    "\n",
    "print(\"\\n\")\n",
    "print(\"Solve with pen and paper:\")\n",
    "print(\"\\n\")\n",
    "derror = True\n",
    "def dtest():\n",
    "    global derror\n",
    "    if p1eq.rhs != 0:\n",
    "        if not any(kw in str(p1eq) for kw in dkeywords):\n",
    "            derror = False\n",
    "    else:  pass\n",
    "while derror == True:\n",
    "    dmain(x)\n",
    "    dtest()\n",
    "display(p1eq.lhs)\n",
    "print(\"\\n\")    \n",
    "ierror = True\n",
    "def itest():\n",
    "    global ierror\n",
    "    if str(factor_terms(p2eq.lhs)) != str(factor_terms(p2eq.rhs)): \n",
    "        if not any(kw in str(p2eq) for kw in ikeywords) and not any(kw in str(Integral(setup2,x).doit()) for kw \\\n",
    "                                                                    in ikeywords):\n",
    "            ierror = False\n",
    "    else: pass\n",
    "while ierror == True:\n",
    "    imain(x)\n",
    "    itest()\n",
    "display(p2eq.lhs)\n",
    "print(\"\\n\")\n",
    "print(\"---------------------------------------------------------------------------------------------\")\n",
    "print(\"---------------------------------------------------------------------------------------------\")\n",
    "print(\"Solutions:\")\n",
    "print(\"\\n\")\n",
    "if derror == False:    \n",
    "    if str(p1eq).find(\"Subs\") != -1:       \n",
    "        display(Eq(Derivative(setup1),Derivative(setup1).doit()))\n",
    "        display(p1eq)\n",
    "        print(\"\\n\")\n",
    "        print(\"Line tangent to the curve at this point is:\")\n",
    "        display(Eq(y,p1eq.rhs*(x-final)+TR2i(setup1)))\n",
    "    else: \n",
    "        display(p1eq)\n",
    "\n",
    "print(\"\\n\")\n",
    "print(\"\\n\")\n",
    "if ierror == False:\n",
    "    if str(p2eq).find(\" 0, \") != -1:\n",
    "        itest()\n",
    "        display(Eq(Integral(setup2,x),Integral(setup2,x).doit()))\n",
    "    display(p2eq)\n",
    "else:\n",
    "    pass\n",
    "print(\"---------------------------------------------------------------------------------------------\")"
   ]
  },
  {
   "cell_type": "markdown",
   "id": "b3f5b9fb",
   "metadata": {},
   "source": [
    "If LaTeX display breaks, refresh the page.\n",
    "\n",
    "Helpful resources: https://www.derivative-calculator.net/ & https://www.integral-calculator.com/ \n",
    "\n",
    "**Created by GitHub.com/NSC9   - MIT License - v5.2**\n",
    "\n",
    "Donate by sending Bitcoin (BTC) to address: **bc1qtawr2gw52ftufzu0r3r20pnj3vmynssxs0mjl4**"
   ]
  }
 ],
 "metadata": {
  "kernelspec": {
   "display_name": "Python 3 (ipykernel)",
   "language": "python",
   "name": "python3"
  },
  "language_info": {
   "codemirror_mode": {
    "name": "ipython",
    "version": 3
   },
   "file_extension": ".py",
   "mimetype": "text/x-python",
   "name": "python",
   "nbconvert_exporter": "python",
   "pygments_lexer": "ipython3",
   "version": "3.8.10"
  }
 },
 "nbformat": 4,
 "nbformat_minor": 5
}
