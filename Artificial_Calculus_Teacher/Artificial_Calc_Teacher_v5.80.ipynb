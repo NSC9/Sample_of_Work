{
 "cells": [
  {
   "cell_type": "raw",
   "id": "8c69730d",
   "metadata": {},
   "source": [
    "---\n",
    "title: Calculus Problem Generator\n",
    "description: Generates Derivative and Integral Expressions\n",
    "show-code : False\n",
    "---"
   ]
  },
  {
   "cell_type": "markdown",
   "id": "6c4b25e0",
   "metadata": {},
   "source": [
    "If LaTeX display breaks, refresh the page.\n",
    "\n",
    "\n",
    "**Created by GitHub.com/NSC9   - MIT License - v5.80**\n",
    "\n",
    "Donate by sending Bitcoin (BTC) to address: **bc1qtawr2gw52ftufzu0r3r20pnj3vmynssxs0mjl4**\n",
    "\n",
    "**Solve the left expression with pen and paper and then compare answers.**"
   ]
  },
  {
   "cell_type": "code",
   "execution_count": 1,
   "id": "c5197005",
   "metadata": {},
   "outputs": [],
   "source": [
    "# changelog: formatting"
   ]
  },
  {
   "cell_type": "code",
   "execution_count": 2,
   "id": "108761f9",
   "metadata": {
    "scrolled": false
   },
   "outputs": [],
   "source": [
    "from sympy.simplify.fu import TR22,TR2i\n",
    "from sympy import ln,exp,Function,Derivative,Eq,Integral,factor_terms, sqrt, Symbol\n",
    "from sympy import pi,I, sin,cos,sec,tan,asin,acos,Rational\n",
    "import random\n",
    "f = Function('f')\n",
    "g = Function('g')\n",
    "h = Function('h')\n",
    "theta = Symbol('theta')\n",
    "i = 0\n",
    "dkeywords = {\"polylog\",\"Ei\",\"gamma\",\"Piecewise\",\"li\",\"erf\",\"Si\",\"Ci\",\"hyper\",\"fresnel\",\"Li\",\"expint\",\"zoo\",\n",
    "\"nan\",\"oo\",\"abs\",\"re\",\"EulerGamma\", \"sinh\",\"tanh\", \"cosh\",'sign','abs','atan'} \n",
    "ikeywords = {\"polylog\",\"Ei\",\"gamma\",\"Piecewise\", \"li\", \"erf\", \"atan\", \"Si\",  \"Ci\",  \"hyper\",  \"fresnel\",  \"Li\", \n",
    "\"expint\",\"zoo\", \"nan\", \"oo\",\"EulerGamma\",\"sinh\",\"csc\",\"asin\"}\n",
    "keywords2 = {\"sin\",\"cos\",\"sec\",\"tan\",\"asin\",\"acos\"}\n",
    "\n",
    "def random_variable(i):\n",
    "    return Symbol(random.choice([i for i in ['v','t','x','z','y']]), real=True)\n",
    "a = random_variable(i)\n",
    "b = random_variable(i)\n",
    "def dmain(a):\n",
    "    def random_value(i):\n",
    "        return random.choice([i for i in range(-10,10) if i not in [0]])\n",
    "    def random_math(a): \n",
    "        def power(a):      \n",
    "            return random_value(i)*a**int(random_value(i)/2)\n",
    "        def scalar(a):       \n",
    "            return a*random_value(i) + random_value(i)\n",
    "        def addSUBTR(a):     \n",
    "            return a+random_value(i)\n",
    "        def switch(a): \n",
    "            stuff = [pi/2,pi,(3*pi)/2,(2*pi),pi/(2 - a),(a + 2*pi),(a + pi), -pi/2, -pi,-(3*pi)/2,-(2*pi),\n",
    "                     I,-I,a*I,-I*a,4*a,Rational(4,3)*pi, Rational(1,3)*pi, Rational(1,4)*pi, Rational(1,6)*pi]\n",
    "            return random.choice([n for n in stuff]) \n",
    "        funs = [power,scalar,addSUBTR,switch,power,scalar,addSUBTR,\n",
    "                ln,exp,sqrt,sin,cos,sec,tan,asin,acos]   \n",
    "        operations = [f(g(a)),f(a)+g(a),f(a)-g(a),f(a)/g(a),f(a)*g(a),\n",
    "                      f(g(a)),f(a)+g(a),f(a)-g(a),f(a)/g(a),f(a)*g(a),\n",
    "                      f(g(a)),f(a)+g(a),f(a)-g(a),f(a)/g(a),f(a)*g(a),\n",
    "                      f(a)+g(a)+h(a), f(a)-g(a)-h(a),f(a)+g(a)-h(a), f(a)-g(a)+h(a),\n",
    "                      (f(a)*g(a))/h(a), f(a)/(g(a)*h(a)),f(g(h(a))),f(h(a))+g(a),f(h(a))-g(a),\n",
    "                      f(h(a))/g(a),f(a)/g(h(a)),f(h(a))*g(a),f(a)*h(a)*g(a)]\n",
    "        operation = operations[random.randrange(0,len(operations))]\n",
    "        return [[[operation.replace(f, i) for i in funs][random.randrange(0,len(funs))].replace(g, i) for i in funs]\\\n",
    "    [random.randrange(0,len(funs))].replace(h, i) for i in funs][random.randrange(0,len(funs))]\n",
    "    return random_math(a)\n",
    "\n",
    "def imain(b):\n",
    "    def random_value(i):\n",
    "        return random.choice([i for i in range(-4,4) if i not in [0]])\n",
    "    def random_math2(b): \n",
    "        def power(b):      \n",
    "            return random_value(i)*b**int(random_value(i)/2)\n",
    "        def scalar(b):\n",
    "            return b*random_value(i) + random_value(i)\n",
    "        def addSUBTR(b): \n",
    "            return b+random_value(i)\n",
    "        def switch(b): \n",
    "            stuff = [pi/2,pi,(3*pi)/2,(2*pi),pi/(2 - b),(b + 2*pi),(b + pi), -pi/2, -pi,-(3*pi)/2,-(2*pi),\n",
    "                     I,-I,b*I,-I*b,4*b,Rational(4,3)*pi, Rational(1,3)*pi, Rational(1,4)*pi, Rational(1,6)*pi]\n",
    "            return random.choice([n for n in stuff])   \n",
    "        funs = [power,scalar,addSUBTR,switch,sin,cos,exp,ln]   \n",
    "        operations = [f(g(b)),f(b)+g(b),f(b)-g(b),f(b)/g(b),f(b)*g(b)]\n",
    "        operation = operations[random.randrange(0,len(operations))]\n",
    "        return [[operation.replace(f, i) for i in funs][random.randrange(0,len(funs))].replace(g, i) for i in funs]\\\n",
    "    [random.randrange(0,len(funs))]\n",
    "    return random_math2(b)"
   ]
  },
  {
   "cell_type": "code",
   "execution_count": 4,
   "id": "5ddcf6a5",
   "metadata": {
    "scrolled": false
   },
   "outputs": [
    {
     "data": {
      "text/latex": [
       "$\\displaystyle \\frac{d}{d \\theta} \\left(\\sqrt{\\theta} + \\sin{\\left(\\theta \\right)} + \\sec{\\left(\\theta \\right)}\\right) = \\cos{\\left(\\theta \\right)} + \\tan{\\left(\\theta \\right)} \\sec{\\left(\\theta \\right)} + \\frac{1}{2 \\sqrt{\\theta}}$"
      ],
      "text/plain": [
       "Eq(Derivative(sqrt(theta) + sin(theta) + sec(theta), theta), cos(theta) + tan(theta)*sec(theta) + 1/(2*sqrt(theta)))"
      ]
     },
     "metadata": {},
     "output_type": "display_data"
    },
    {
     "data": {
      "text/latex": [
       "$\\displaystyle \\int \\left(v + 2\\right)\\, dv = \\frac{v^{2}}{2} + 2 v$"
      ],
      "text/plain": [
       "Eq(Integral(v + 2, v), v**2/2 + 2*v)"
      ]
     },
     "metadata": {},
     "output_type": "display_data"
    },
    {
     "data": {
      "text/latex": [
       "$\\displaystyle \\frac{d}{d \\theta} \\left(- \\log{\\left(\\theta \\right)} + 2 \\operatorname{acos}{\\left(\\theta \\right)}\\right) = - \\frac{2}{\\sqrt{1 - \\theta^{2}}} - \\frac{1}{\\theta}$"
      ],
      "text/plain": [
       "Eq(Derivative(-log(theta) + 2*acos(theta), theta), -2/sqrt(1 - theta**2) - 1/theta)"
      ]
     },
     "metadata": {},
     "output_type": "display_data"
    },
    {
     "data": {
      "text/latex": [
       "$\\displaystyle \\int \\frac{\\cos{\\left(\\theta \\right)}}{\\sin{\\left(\\theta \\right)}}\\, d\\theta = \\log{\\left(\\sin{\\left(\\theta \\right)} \\right)}$"
      ],
      "text/plain": [
       "Eq(Integral(cos(theta)/sin(theta), theta), log(sin(theta)))"
      ]
     },
     "metadata": {},
     "output_type": "display_data"
    },
    {
     "data": {
      "text/latex": [
       "$\\displaystyle \\frac{d}{d \\theta} \\left(- 9 \\left(\\theta - 10\\right)^{2} \\sin{\\left(\\theta \\right)}\\right) = \\left(180 - 18 \\theta\\right) \\sin{\\left(\\theta \\right)} - 9 \\left(\\theta - 10\\right)^{2} \\cos{\\left(\\theta \\right)}$"
      ],
      "text/plain": [
       "Eq(Derivative(-9*(theta - 10)**2*sin(theta), theta), (180 - 18*theta)*sin(theta) - 9*(theta - 10)**2*cos(theta))"
      ]
     },
     "metadata": {},
     "output_type": "display_data"
    },
    {
     "data": {
      "text/latex": [
       "$\\displaystyle \\int \\left(- 3 \\sin{\\left(\\theta \\right)}\\right)\\, d\\theta = 3 \\cos{\\left(\\theta \\right)}$"
      ],
      "text/plain": [
       "Eq(Integral(-3*sin(theta), theta), 3*cos(theta))"
      ]
     },
     "metadata": {},
     "output_type": "display_data"
    },
    {
     "data": {
      "text/latex": [
       "$\\displaystyle \\frac{d}{d \\theta} \\left(7 \\theta - 4\\right) \\operatorname{acos}{\\left(\\theta \\right)} = 7 \\operatorname{acos}{\\left(\\theta \\right)} - \\frac{7 \\theta - 4}{\\sqrt{1 - \\theta^{2}}}$"
      ],
      "text/plain": [
       "Eq(Derivative((7*theta - 4)*acos(theta), theta), 7*acos(theta) - (7*theta - 4)/sqrt(1 - theta**2))"
      ]
     },
     "metadata": {},
     "output_type": "display_data"
    },
    {
     "data": {
      "text/latex": [
       "$\\displaystyle \\int \\left(2 x + 1 + \\frac{2}{x}\\right)\\, dx = x^{2} + x + 2 \\log{\\left(x \\right)}$"
      ],
      "text/plain": [
       "Eq(Integral(2*x + 1 + 2/x, x), x**2 + x + 2*log(x))"
      ]
     },
     "metadata": {},
     "output_type": "display_data"
    },
    {
     "data": {
      "text/latex": [
       "$\\displaystyle \\frac{d}{d \\theta} \\frac{\\log{\\left(\\theta \\right)} \\sin{\\left(\\theta \\right)}}{3 - 4 \\theta} = \\frac{\\log{\\left(\\theta \\right)} \\cos{\\left(\\theta \\right)}}{3 - 4 \\theta} + \\frac{4 \\log{\\left(\\theta \\right)} \\sin{\\left(\\theta \\right)}}{\\left(3 - 4 \\theta\\right)^{2}} + \\frac{\\sin{\\left(\\theta \\right)}}{\\theta \\left(3 - 4 \\theta\\right)}$"
      ],
      "text/plain": [
       "Eq(Derivative(log(theta)*sin(theta)/(3 - 4*theta), theta), log(theta)*cos(theta)/(3 - 4*theta) + 4*log(theta)*sin(theta)/(3 - 4*theta)**2 + sin(theta)/(theta*(3 - 4*theta)))"
      ]
     },
     "metadata": {},
     "output_type": "display_data"
    },
    {
     "data": {
      "text/latex": [
       "$\\displaystyle \\int \\left(1 + 2 \\pi\\right)\\, dv = v \\left(1 + 2 \\pi\\right)$"
      ],
      "text/plain": [
       "Eq(Integral(1 + 2*pi, v), v*(1 + 2*pi))"
      ]
     },
     "metadata": {},
     "output_type": "display_data"
    }
   ],
   "source": [
    "for i in range(0,5):\n",
    "    derror = True\n",
    "    def dtest():\n",
    "        global setup1\n",
    "        global derror\n",
    "        global practice1\n",
    "        a = random_variable(i)\n",
    "        setup1 = dmain(a)\n",
    "        practice1 = Derivative(setup1,a)       \n",
    "        p1eq = TR22(Eq(practice1,practice1.doit(),evaluate=False))\n",
    "        if any(kw in str(setup1) for kw in keywords2):\n",
    "            setup1 = setup1.replace(a,theta)\n",
    "            practice1 = Derivative(setup1,theta)   \n",
    "            p1eq = TR22(Eq(practice1,practice1.doit(),evaluate=False))\n",
    "        if p1eq.rhs != 0 and not any(kw in str(p1eq) for kw in dkeywords):\n",
    "            derror = False\n",
    "        return p1eq\n",
    "    while derror == True: \n",
    "        output1 = dtest()\n",
    "    output11 = output1\n",
    "    display(output11)  \n",
    "    ierror = True\n",
    "    def itest():\n",
    "        global ierror\n",
    "        global practice2\n",
    "        global setup2\n",
    "        b = random_variable(i)\n",
    "        setup2 = imain(b)\n",
    "        practice2 = Integral(setup2,b)  \n",
    "        p2eq = TR22(Eq(practice2,practice2.doit(),evaluate=False))\n",
    "        if str(factor_terms(p2eq.lhs)) != str(factor_terms(p2eq.rhs)) and not any(kw in str(p2eq) for kw in ikeywords)\\\n",
    "        and str(p2eq.lhs) != str(-p2eq.rhs): \n",
    "            if any(kw in str(setup2) for kw in keywords2):\n",
    "                setup2 = setup2.replace(b,theta)\n",
    "                practice2 = Integral(setup2,theta)  \n",
    "                p2eq = TR22(Eq(practice2,practice2.doit(),evaluate=False))\n",
    "            ierror = False\n",
    "        return p2eq\n",
    "    while ierror == True:\n",
    "        output2 = itest()\n",
    "    output22 = output2\n",
    "    display(output22)"
   ]
  }
 ],
 "metadata": {
  "kernelspec": {
   "display_name": "Python 3 (ipykernel)",
   "language": "python",
   "name": "python3"
  },
  "language_info": {
   "codemirror_mode": {
    "name": "ipython",
    "version": 3
   },
   "file_extension": ".py",
   "mimetype": "text/x-python",
   "name": "python",
   "nbconvert_exporter": "python",
   "pygments_lexer": "ipython3",
   "version": "3.8.10"
  }
 },
 "nbformat": 4,
 "nbformat_minor": 5
}
