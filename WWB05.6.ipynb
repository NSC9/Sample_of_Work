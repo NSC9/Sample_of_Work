{
 "cells": [
  {
   "cell_type": "code",
   "execution_count": 32,
   "id": "4f60f3f0",
   "metadata": {},
   "outputs": [],
   "source": [
    "import sympy as sy\n",
    "x, y, h = sy.symbols('x y h')\n",
    "from sympy import sqrt"
   ]
  },
  {
   "cell_type": "code",
   "execution_count": 17,
   "id": "bfa35111",
   "metadata": {},
   "outputs": [
    {
     "name": "stdout",
     "output_type": "stream",
     "text": [
      "f(x) =\n"
     ]
    },
    {
     "data": {
      "text/plain": [
       "-17.65247584249853"
      ]
     },
     "execution_count": 17,
     "metadata": {},
     "output_type": "execute_result"
    }
   ],
   "source": [
    "from sympy import *\n",
    " \n",
    "# create a \"symbol\" called x\n",
    "x = Symbol('x')\n",
    " \n",
    "#Define function\n",
    "f = -2 -7 *(sy.sqrt(x))\n",
    " \n",
    "f = lambdify(x, f)\n",
    "#passing x=2 to the function\n",
    "print('f(x) =');f(5)\n"
   ]
  },
  {
   "cell_type": "code",
   "execution_count": 87,
   "id": "f5815a7c",
   "metadata": {},
   "outputs": [
    {
     "data": {
      "text/latex": [
       "$\\displaystyle \\frac{- f{\\left(x \\right)} + f{\\left(h + x \\right)}}{h}$"
      ],
      "text/plain": [
       "(-f(x) + f(h + x))/h"
      ]
     },
     "execution_count": 87,
     "metadata": {},
     "output_type": "execute_result"
    }
   ],
   "source": [
    "#  (f(x+h) - f(x))/h\n",
    "f = sy.Function('f')\n",
    "((f(x+h) - f(x))/h)"
   ]
  },
  {
   "cell_type": "code",
   "execution_count": 96,
   "id": "fdb0d3a8",
   "metadata": {},
   "outputs": [],
   "source": [
    "A, B, C = sy.symbols('A B C', real=True)\n",
    "answer = A/(sy.sqrt(B*x + C*h) + sy.sqrt(x))"
   ]
  },
  {
   "cell_type": "code",
   "execution_count": 59,
   "id": "399fed8a",
   "metadata": {},
   "outputs": [
    {
     "data": {
      "text/latex": [
       "$\\displaystyle -2$"
      ],
      "text/plain": [
       "-2"
      ]
     },
     "execution_count": 59,
     "metadata": {},
     "output_type": "execute_result"
    }
   ],
   "source": [
    "import math\n",
    "expr  = -2 -7*sy.sqrt(x)\n",
    "expr.subs(x,0)"
   ]
  },
  {
   "cell_type": "code",
   "execution_count": 63,
   "id": "13ce3f23",
   "metadata": {},
   "outputs": [
    {
     "data": {
      "text/latex": [
       "$\\displaystyle \\frac{A}{\\sqrt{- 7 \\sqrt{x} - 2} + \\sqrt{B \\left(- 7 \\sqrt{x} - 2\\right) + C h}}$"
      ],
      "text/plain": [
       "A/(sqrt(-7*sqrt(x) - 2) + sqrt(B*(-7*sqrt(x) - 2) + C*h))"
      ]
     },
     "execution_count": 63,
     "metadata": {},
     "output_type": "execute_result"
    }
   ],
   "source": [
    "answer.subs(x,expr)"
   ]
  },
  {
   "cell_type": "code",
   "execution_count": 71,
   "id": "da8ec401",
   "metadata": {},
   "outputs": [
    {
     "data": {
      "text/latex": [
       "$\\displaystyle \\frac{A \\left(- \\frac{B}{2 \\sqrt{B x + C h}} - \\frac{1}{2 \\sqrt{x}}\\right)}{\\left(\\sqrt{x} + \\sqrt{B x + C h}\\right)^{2}}$"
      ],
      "text/plain": [
       "A*(-B/(2*sqrt(B*x + C*h)) - 1/(2*sqrt(x)))/(sqrt(x) + sqrt(B*x + C*h))**2"
      ]
     },
     "execution_count": 71,
     "metadata": {},
     "output_type": "execute_result"
    }
   ],
   "source": [
    "diff(answer,x)\n"
   ]
  },
  {
   "cell_type": "code",
   "execution_count": 91,
   "id": "d667e6e1",
   "metadata": {},
   "outputs": [
    {
     "data": {
      "text/latex": [
       "$\\displaystyle \\frac{- f{\\left(- 7 \\sqrt{x} - 2 \\right)} + f{\\left(h - 7 \\sqrt{x} - 2 \\right)}}{h}$"
      ],
      "text/plain": [
       "(-f(-7*sqrt(x) - 2) + f(h - 7*sqrt(x) - 2))/h"
      ]
     },
     "execution_count": 91,
     "metadata": {},
     "output_type": "execute_result"
    }
   ],
   "source": [
    "diffquot = (f(x+h) - f(x))/h\n",
    "expr = -2 -7 *(sy.sqrt(x))\n",
    "full_diff_quot = diffquot.subs(x,expr)\n",
    "full_diff_quot"
   ]
  },
  {
   "cell_type": "code",
   "execution_count": 107,
   "id": "04be2cf6",
   "metadata": {},
   "outputs": [
    {
     "data": {
      "text/latex": [
       "$\\displaystyle \\left. \\frac{d}{d \\xi_{1}} f{\\left(\\xi_{1} \\right)} \\right|_{\\substack{ \\xi_{1}=- 7 \\sqrt{x} - 2 }}$"
      ],
      "text/plain": [
       "Subs(Derivative(f(_xi_1), _xi_1), _xi_1, -7*sqrt(x) - 2)"
      ]
     },
     "execution_count": 107,
     "metadata": {},
     "output_type": "execute_result"
    }
   ],
   "source": [
    "sy.limit(full_diff_quot,h,0)\n"
   ]
  },
  {
   "cell_type": "code",
   "execution_count": null,
   "id": "f4b790ec",
   "metadata": {},
   "outputs": [],
   "source": []
  }
 ],
 "metadata": {
  "kernelspec": {
   "display_name": "Python 3 (ipykernel)",
   "language": "python",
   "name": "python3"
  },
  "language_info": {
   "codemirror_mode": {
    "name": "ipython",
    "version": 3
   },
   "file_extension": ".py",
   "mimetype": "text/x-python",
   "name": "python",
   "nbconvert_exporter": "python",
   "pygments_lexer": "ipython3",
   "version": "3.8.10"
  }
 },
 "nbformat": 4,
 "nbformat_minor": 5
}
