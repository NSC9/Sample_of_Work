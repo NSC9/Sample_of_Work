{
 "cells": [
  {
   "cell_type": "code",
   "execution_count": null,
   "id": "9253bc3e",
   "metadata": {},
   "outputs": [],
   "source": [
    "# picture of problem https://i.imgur.com/we5rKpY.png"
   ]
  },
  {
   "cell_type": "code",
   "execution_count": 1,
   "id": "747946f5",
   "metadata": {},
   "outputs": [],
   "source": [
    "from sympy import *"
   ]
  },
  {
   "cell_type": "code",
   "execution_count": 18,
   "id": "6ad2c61c",
   "metadata": {},
   "outputs": [],
   "source": [
    "x,h,t_0,t_1 = symbols('x h t_0 t_1')"
   ]
  },
  {
   "cell_type": "code",
   "execution_count": 49,
   "id": "f84adc7f",
   "metadata": {},
   "outputs": [
    {
     "data": {
      "text/latex": [
       "$\\displaystyle - 7 \\sqrt{x} - 2$"
      ],
      "text/plain": [
       "-7*sqrt(x) - 2"
      ]
     },
     "execution_count": 49,
     "metadata": {},
     "output_type": "execute_result"
    }
   ],
   "source": [
    "given = -2 + (-7*sqrt(x))\n",
    "given\n"
   ]
  },
  {
   "cell_type": "code",
   "execution_count": 50,
   "id": "0b3e393a",
   "metadata": {},
   "outputs": [
    {
     "data": {
      "text/latex": [
       "$\\displaystyle - \\frac{7}{2 \\sqrt{x}}$"
      ],
      "text/plain": [
       "-7/(2*sqrt(x))"
      ]
     },
     "execution_count": 50,
     "metadata": {},
     "output_type": "execute_result"
    }
   ],
   "source": [
    "given.diff(x)"
   ]
  },
  {
   "cell_type": "code",
   "execution_count": 52,
   "id": "4bf6397d",
   "metadata": {},
   "outputs": [
    {
     "name": "stdout",
     "output_type": "stream",
     "text": [
      "-7/(2*sqrt(x))\n"
     ]
    }
   ],
   "source": [
    "print(diff(given,x))"
   ]
  },
  {
   "cell_type": "code",
   "execution_count": 39,
   "id": "3926d02f",
   "metadata": {},
   "outputs": [
    {
     "data": {
      "text/plain": [
       "-14.12435565298214"
      ]
     },
     "execution_count": 39,
     "metadata": {},
     "output_type": "execute_result"
    }
   ],
   "source": [
    "#Define function\n",
    "f = given\n",
    " \n",
    "f1 = lambdify(x, f)\n",
    "#passing x=2 to the function\n",
    "f1(3)"
   ]
  },
  {
   "cell_type": "code",
   "execution_count": 4,
   "id": "94696a08",
   "metadata": {},
   "outputs": [
    {
     "data": {
      "text/latex": [
       "$\\displaystyle \\frac{- f{\\left(x \\right)} + f{\\left(h + x \\right)}}{h}$"
      ],
      "text/plain": [
       "(-f(x) + f(h + x))/h"
      ]
     },
     "execution_count": 4,
     "metadata": {},
     "output_type": "execute_result"
    }
   ],
   "source": [
    "diffquot = (f(x+h) - f(x))/h\n",
    "diffquot"
   ]
  },
  {
   "cell_type": "code",
   "execution_count": 15,
   "id": "82a2a003",
   "metadata": {},
   "outputs": [
    {
     "data": {
      "text/latex": [
       "$\\displaystyle \\frac{- f{\\left(- 7 \\sqrt{x} - 2 \\right)} + f{\\left(h - 7 \\sqrt{x} - 2 \\right)}}{h}$"
      ],
      "text/plain": [
       "(-f(-7*sqrt(x) - 2) + f(h - 7*sqrt(x) - 2))/h"
      ]
     },
     "execution_count": 15,
     "metadata": {},
     "output_type": "execute_result"
    }
   ],
   "source": [
    "diffquot.subs(x,given)"
   ]
  },
  {
   "cell_type": "code",
   "execution_count": 7,
   "id": "e8d745e7",
   "metadata": {},
   "outputs": [
    {
     "data": {
      "text/latex": [
       "$\\displaystyle \\left. \\frac{d}{d \\xi_{1}} f{\\left(\\xi_{1} \\right)} \\right|_{\\substack{ \\xi_{1}=- 7 \\sqrt{x} - 2 }}$"
      ],
      "text/plain": [
       "Subs(Derivative(f(_xi_1), _xi_1), _xi_1, -7*sqrt(x) - 2)"
      ]
     },
     "execution_count": 7,
     "metadata": {},
     "output_type": "execute_result"
    }
   ],
   "source": [
    "limit(diffquot.subs(x,given),h,0)"
   ]
  },
  {
   "cell_type": "code",
   "execution_count": 16,
   "id": "08fb128c",
   "metadata": {},
   "outputs": [
    {
     "data": {
      "text/latex": [
       "$\\displaystyle \\frac{- f{\\left(- 7 \\sqrt{x} - 2 \\right)} + f{\\left(h - 7 \\sqrt{x} - 2 \\right)}}{h}$"
      ],
      "text/plain": [
       "(-f(-7*sqrt(x) - 2) + f(h - 7*sqrt(x) - 2))/h"
      ]
     },
     "execution_count": 16,
     "metadata": {},
     "output_type": "execute_result"
    }
   ],
   "source": [
    "expr = diffquot.subs(x,given)\n",
    "expr"
   ]
  },
  {
   "cell_type": "code",
   "execution_count": 8,
   "id": "2db93cf1",
   "metadata": {},
   "outputs": [
    {
     "data": {
      "text/latex": [
       "$\\displaystyle \\left. \\frac{d}{d \\xi_{1}} f{\\left(\\xi_{1} \\right)} \\right|_{\\substack{ \\xi_{1}=x }}$"
      ],
      "text/plain": [
       "Subs(Derivative(f(_xi_1), _xi_1), _xi_1, x)"
      ]
     },
     "execution_count": 8,
     "metadata": {},
     "output_type": "execute_result"
    }
   ],
   "source": [
    "limit(diffquot,h,0)"
   ]
  },
  {
   "cell_type": "code",
   "execution_count": 18,
   "id": "427b9f5c",
   "metadata": {},
   "outputs": [
    {
     "name": "stdout",
     "output_type": "stream",
     "text": [
      "Subs(Derivative(f(_xi_1), _xi_1), _xi_1, -7*sqrt(x) - 2)\n"
     ]
    }
   ],
   "source": [
    "print(limit(expr,h,0))"
   ]
  },
  {
   "cell_type": "code",
   "execution_count": 44,
   "id": "d625c7e9",
   "metadata": {},
   "outputs": [
    {
     "name": "stdout",
     "output_type": "stream",
     "text": [
      "-7/(2*sqrt(x))\n"
     ]
    }
   ],
   "source": [
    "deriv = given.diff(x)\n",
    "print(deriv)"
   ]
  },
  {
   "cell_type": "code",
   "execution_count": 54,
   "id": "73b243ae",
   "metadata": {},
   "outputs": [
    {
     "data": {
      "text/latex": [
       "$\\displaystyle - \\frac{7}{2}$"
      ],
      "text/plain": [
       "-7/2"
      ]
     },
     "execution_count": 54,
     "metadata": {},
     "output_type": "execute_result"
    }
   ],
   "source": [
    "-7/(2*sqrt(1))"
   ]
  },
  {
   "cell_type": "code",
   "execution_count": 57,
   "id": "e3f8b5a9",
   "metadata": {},
   "outputs": [
    {
     "name": "stdout",
     "output_type": "stream",
     "text": [
      "-7*sqrt(2)/4\n"
     ]
    }
   ],
   "source": [
    "print(-7/(2*sqrt(2)))\n"
   ]
  },
  {
   "cell_type": "code",
   "execution_count": 59,
   "id": "00dee7bd",
   "metadata": {},
   "outputs": [
    {
     "name": "stdout",
     "output_type": "stream",
     "text": [
      "-7*sqrt(3)/6\n"
     ]
    }
   ],
   "source": [
    "print(-7/(2*sqrt(3)))"
   ]
  },
  {
   "cell_type": "code",
   "execution_count": null,
   "id": "3e09118d",
   "metadata": {},
   "outputs": [],
   "source": []
  }
 ],
 "metadata": {
  "kernelspec": {
   "display_name": "Python 3 (ipykernel)",
   "language": "python",
   "name": "python3"
  },
  "language_info": {
   "codemirror_mode": {
    "name": "ipython",
    "version": 3
   },
   "file_extension": ".py",
   "mimetype": "text/x-python",
   "name": "python",
   "nbconvert_exporter": "python",
   "pygments_lexer": "ipython3",
   "version": "3.9.6"
  }
 },
 "nbformat": 4,
 "nbformat_minor": 5
}
