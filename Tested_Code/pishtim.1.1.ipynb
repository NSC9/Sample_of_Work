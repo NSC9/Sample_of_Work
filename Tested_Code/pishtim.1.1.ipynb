{
 "cells": [
  {
   "cell_type": "code",
   "execution_count": 26,
   "id": "c377d94e",
   "metadata": {},
   "outputs": [
    {
     "name": "stdout",
     "output_type": "stream",
     "text": [
      "hello\n"
     ]
    },
    {
     "name": "stderr",
     "output_type": "stream",
     "text": [
      ".\n",
      "----------------------------------------------------------------------\n",
      "Ran 1 test in 0.002s\n",
      "\n",
      "OK\n"
     ]
    },
    {
     "data": {
      "text/plain": [
       "'Pishtim.io: hey'"
      ]
     },
     "execution_count": 26,
     "metadata": {},
     "output_type": "execute_result"
    }
   ],
   "source": [
    "import unittest,random \n",
    "      \n",
    "\n",
    "class Agent(unittest.TestCase): \n",
    "    self = input(prompt='')\n",
    "    if __name__ == '__main__':\n",
    "        unittest.main(argv=['first-arg-is-ignored',], exit=False)    \n",
    "    def test_io(self):\n",
    "        my_response_bank = [\"Pishtim.io: hello there\",\"Pishtim.io: hi there\",\"Pishtim.io: hey\"]\n",
    "        \n",
    "        return(my_response_bank[random.randrange(len(my_response_bank))])           \n",
    "\n",
    "    \n",
    "Agent.test_io(self)"
   ]
  },
  {
   "cell_type": "code",
   "execution_count": null,
   "id": "e4b6af94",
   "metadata": {},
   "outputs": [],
   "source": []
  },
  {
   "cell_type": "code",
   "execution_count": null,
   "id": "b9be95af",
   "metadata": {},
   "outputs": [],
   "source": []
  }
 ],
 "metadata": {
  "kernelspec": {
   "display_name": "Python 3 (ipykernel)",
   "language": "python",
   "name": "python3"
  },
  "language_info": {
   "codemirror_mode": {
    "name": "ipython",
    "version": 3
   },
   "file_extension": ".py",
   "mimetype": "text/x-python",
   "name": "python",
   "nbconvert_exporter": "python",
   "pygments_lexer": "ipython3",
   "version": "3.9.6"
  }
 },
 "nbformat": 4,
 "nbformat_minor": 5
}
