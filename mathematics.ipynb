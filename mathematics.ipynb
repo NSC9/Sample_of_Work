{
 "cells": [
  {
   "cell_type": "markdown",
   "id": "0dd6e6a2",
   "metadata": {},
   "source": [
    "Run this program in the browser Integrated Development Environment 'Jupyter Notebook.' I had a mobile web application version running for some time but Huggingface and Mercury were unstable. \n",
    "\n",
    "This program is designed to accelerate ones ability to solve mathematical/logic problems using pen and paper to strengthen intuition. I use this program everyday for less than 15 minutes and post example use cases on my twitter @Noeo1234. "
   ]
  },
  {
   "cell_type": "markdown",
   "id": "b74751a4",
   "metadata": {},
   "source": [
    "# Donate With Crypto:\n",
    " Bitcoin (BTC): bc1qtrjmtsfxhmjmu4wwdh03u92gpy662rnt3drlm7\n",
    "\n",
    "Ethereum (ETH): 0x8B20704BB59E985Ad85D2477A9aB85a6F499F9E8\n",
    "\n",
    "Binance (BNB/BEP20): 0x8B20704BB59E985Ad85D2477A9aB85a6F499F9E8\n",
    "\n",
    "Created by https://github.com/NSC9 - MIT License"
   ]
  },
  {
   "cell_type": "code",
   "execution_count": 2,
   "id": "108761f9",
   "metadata": {
    "scrolled": false
   },
   "outputs": [
    {
     "name": "stdout",
     "output_type": "stream",
     "text": [
      "Solve with Pen and Paper:\n",
      "1)\n"
     ]
    },
    {
     "data": {
      "text/latex": [
       "$\\displaystyle \\frac{d}{d x} \\left(b + c + 2 x\\right) = ?$"
      ],
      "text/plain": [
       "Eq(Derivative(b + c + 2*x, x), ?)"
      ]
     },
     "metadata": {},
     "output_type": "display_data"
    },
    {
     "data": {
      "text/latex": [
       "$\\displaystyle \\int \\left(c x + c - \\log{\\left(x \\right)}\\right)\\, dx = ?$"
      ],
      "text/plain": [
       "Eq(Integral(c*x + c - log(x), x), ?)"
      ]
     },
     "metadata": {},
     "output_type": "display_data"
    },
    {
     "name": "stdout",
     "output_type": "stream",
     "text": [
      "\n",
      "\n",
      "Possible answers:\n",
      "\n",
      "\n",
      "1)\n"
     ]
    },
    {
     "data": {
      "text/latex": [
       "$\\displaystyle \\frac{d}{d x} \\left(b + c + 2 x\\right) = 2$"
      ],
      "text/plain": [
       "Eq(Derivative(b + c + 2*x, x), 2)"
      ]
     },
     "metadata": {},
     "output_type": "display_data"
    },
    {
     "data": {
      "text/latex": [
       "$\\displaystyle \\int \\left(c x + c - \\log{\\left(x \\right)}\\right)\\, dx = \\frac{c x^{2}}{2} + x \\left(c + 1\\right) - x \\log{\\left(x \\right)}$"
      ],
      "text/plain": [
       "Eq(Integral(c*x + c - log(x), x), c*x**2/2 + x*(c + 1) - x*log(x))"
      ]
     },
     "metadata": {},
     "output_type": "display_data"
    },
    {
     "name": "stdout",
     "output_type": "stream",
     "text": [
      "----------------------------------------------------------------------\n",
      "2) Calculate the eigenvalues of matrix M by solving the \n",
      "     characteristic equation det(M-lambda*I).\n"
     ]
    },
    {
     "data": {
      "text/latex": [
       "$\\displaystyle M = \\left[\\begin{matrix}5 & 1\\\\5 & 1\\end{matrix}\\right]$"
      ],
      "text/plain": [
       "Eq(M, Matrix([\n",
       "[5, 1],\n",
       "[5, 1]]))"
      ]
     },
     "metadata": {},
     "output_type": "display_data"
    },
    {
     "name": "stdout",
     "output_type": "stream",
     "text": [
      "3) Find which eigenvectors correspond to answer(2) by solving null(det(M-lambda*I)) @ each eigenval.\n",
      "\n",
      "\n",
      "4) Diagonalize the matrix MP = PD_M where \n",
      "     P: matrix of M's eigenvectors \n",
      "     D: a 0 matrix that places M's eigenvalues on its diagonal entries\n",
      "\n",
      "\n",
      "Possible answers:\n",
      "\n",
      "\n",
      "2)\n"
     ]
    },
    {
     "data": {
      "text/latex": [
       "$\\displaystyle 0 = \\lambda \\left(\\lambda - 6\\right)$"
      ],
      "text/plain": [
       "Eq(0, lamda*(lamda - 6))"
      ]
     },
     "metadata": {},
     "output_type": "display_data"
    },
    {
     "data": {
      "text/latex": [
       "$\\displaystyle \\lambda_{i} = \\left\\{ 0 : 1, \\  6 : 1\\right\\}$"
      ],
      "text/plain": [
       "Eq(lambda_i, {0: 1, 6: 1})"
      ]
     },
     "metadata": {},
     "output_type": "display_data"
    },
    {
     "name": "stdout",
     "output_type": "stream",
     "text": [
      "\n",
      "\n",
      "3)\n"
     ]
    },
    {
     "data": {
      "text/latex": [
       "$\\displaystyle V_{1} = \\left[\\begin{matrix}-1\\\\5\\end{matrix}\\right]$"
      ],
      "text/plain": [
       "Eq(V_1, Matrix([\n",
       "[-1],\n",
       "[ 5]]))"
      ]
     },
     "metadata": {},
     "output_type": "display_data"
    },
    {
     "data": {
      "text/latex": [
       "$\\displaystyle V_{2} = \\left[\\begin{matrix}1\\\\1\\end{matrix}\\right]$"
      ],
      "text/plain": [
       "Eq(V_2, Matrix([\n",
       "[1],\n",
       "[1]]))"
      ]
     },
     "metadata": {},
     "output_type": "display_data"
    },
    {
     "name": "stdout",
     "output_type": "stream",
     "text": [
      "\n",
      "\n",
      "4)\n"
     ]
    },
    {
     "data": {
      "text/latex": [
       "$\\displaystyle M = \\left[\\begin{matrix}5 & 1\\\\5 & 1\\end{matrix}\\right]$"
      ],
      "text/plain": [
       "Eq(M, Matrix([\n",
       "[5, 1],\n",
       "[5, 1]]))"
      ]
     },
     "metadata": {},
     "output_type": "display_data"
    },
    {
     "data": {
      "text/latex": [
       "$\\displaystyle P = \\left[\\begin{matrix}-1 & 1\\\\5 & 1\\end{matrix}\\right]$"
      ],
      "text/plain": [
       "Eq(P, Matrix([\n",
       "[-1, 1],\n",
       "[ 5, 1]]))"
      ]
     },
     "metadata": {},
     "output_type": "display_data"
    },
    {
     "data": {
      "text/latex": [
       "$\\displaystyle D_{M} = \\left[\\begin{matrix}0 & 0\\\\0 & 6\\end{matrix}\\right]$"
      ],
      "text/plain": [
       "Eq(D_M, Matrix([\n",
       "[0, 0],\n",
       "[0, 6]]))"
      ]
     },
     "metadata": {},
     "output_type": "display_data"
    },
    {
     "data": {
      "text/latex": [
       "$\\displaystyle MP = \\left[\\begin{matrix}0 & 6\\\\0 & 6\\end{matrix}\\right] = PD_{M}$"
      ],
      "text/plain": [
       "Eq(Eq(MP, Matrix([\n",
       "[0, 6],\n",
       "[0, 6]])), PD_M)"
      ]
     },
     "metadata": {},
     "output_type": "display_data"
    },
    {
     "name": "stdout",
     "output_type": "stream",
     "text": [
      "----------------------------------------------------------------------\n",
      "5) Convert to Disjunctive Normal Form:\n"
     ]
    },
    {
     "data": {
      "text/latex": [
       "$\\displaystyle (A⟷C)∧(H∧D)$"
      ],
      "text/plain": [
       "(A⟷C)∧(H∧D)"
      ]
     },
     "metadata": {},
     "output_type": "display_data"
    },
    {
     "name": "stdout",
     "output_type": "stream",
     "text": [
      "\n",
      "\n",
      "----------------------------------------------------------------------\n",
      "for help on 1), copy/paste https://www.derivative-calculator.net/ or https://www.integral-calculator.com/\n",
      "     Differentiate: b + c + 2*x\n",
      "     Integrate: c*x + c - log(x)\n",
      "for help on 5) Chang and Lee. Computer Science and Applied Mathematics. 'Symbolic Logic and       \n",
      "        Mechanical Theorem Proving.' Academic Press, Inc. 1973. Page 13-15.\n"
     ]
    }
   ],
   "source": [
    "from sympy.simplify.fu import TR22\n",
    "from sympy import *\n",
    "import random\n",
    "f,g,h,i,x = Function('f'),Function('g'),Function('h'),0,Symbol('x')\n",
    "keywords = {\"polylog\",\"Ei\",\"gamma\",\"Piecewise\",\"li\",\"erf\",\n",
    "             \"hyper\",\"fresnel\",\"Li\",\"expint\",\"zoo\",\"nan\",\"oo\",\"abs\",\n",
    "             \"re\",\"EulerGamma\", \"sinh\",\"tanh\", \"cosh\",'sign',\"abs\",\n",
    "             \"atan\",\"csc\",\"asin\",\"Ci\",\"Si\"}\n",
    "def random_variable(i):\n",
    "    return Symbol(random.choice([i for i in ['a','b','c','k']]), integer=True)\n",
    "def power(x):      \n",
    "    return random_variable(i)*x**random_variable(i)\n",
    "def scalar(x):       \n",
    "    return x*random_variable(i) + random_variable(i)\n",
    "def addSUBTR(x):     \n",
    "    return x+random_variable(i)\n",
    "def dmain(x):\n",
    "    def random_math(x): \n",
    "        funs = [power,scalar,addSUBTR,power,scalar,addSUBTR,\n",
    "                power,scalar,addSUBTR,power,scalar,addSUBTR,\n",
    "                sqrt,ln,exp,sin,cos,tan]   \n",
    "        operations = [f(x)+g(x),f(x)-g(x),f(x)*g(x),f(x)/g(x),\n",
    "                      f(x)+g(x),f(x)-g(x),f(x)*g(x),f(x)/g(x),\n",
    "                      f(x)+g(x),f(x)-g(x),f(x)*g(x),f(x)/g(x),\n",
    "                      f(x)+g(x),f(x)-g(x),f(x)*g(x),f(x)/g(x),\n",
    "                      f(x)+g(x),f(x)-g(x),f(x)*g(x),f(x)/g(x),\n",
    "                      f(x)**g(x),]\n",
    "        operation = operations[random.randrange(0,len(operations))]\n",
    "        return [[[operation.replace(f, i) for i in funs][random.randrange(0,len(funs))].replace(g, i) for i in funs]\\\n",
    "    [random.randrange(0,len(funs))].replace(h, i) for i in funs][random.randrange(0,len(funs))]\n",
    "    return random_math(x)\n",
    "def imain(x):\n",
    "    def random_math2(x):  \n",
    "        funs = [power,scalar,addSUBTR,power,scalar,addSUBTR,sqrt,\n",
    "                power,scalar,addSUBTR,power,scalar,addSUBTR,sqrt,\n",
    "                ln,exp,sin,cos,tan]   \n",
    "        operations = [f(g(x)),f(x)+g(x),f(x)-g(x),f(x)/g(x),f(x)*g(x)]\n",
    "        operation = operations[random.randrange(0,len(operations))]\n",
    "        return [[operation.replace(f, i) for i in funs][random.randrange(0,len(funs))].replace(g, i) for i in funs]\\\n",
    "    [random.randrange(0,len(funs))]\n",
    "    return random_math2(x)\n",
    "derror = True\n",
    "def dtest():\n",
    "    global derror\n",
    "    global practice1\n",
    "    global setup1\n",
    "    setup1 = dmain(x)\n",
    "    practice1 = Derivative(setup1,x)       \n",
    "    p1eq = TR22(Eq(practice1,practice1.doit(),evaluate=False))\n",
    "    if p1eq.rhs != 0 and not any(kw in str(p1eq) for kw in keywords):\n",
    "        derror = False\n",
    "    return p1eq\n",
    "while derror == True: \n",
    "    output1 = dtest()\n",
    "ierror = True\n",
    "def itest():\n",
    "    global ierror\n",
    "    global practice2\n",
    "    global setup2\n",
    "    setup2 = imain(x)\n",
    "    practice2 = Integral(setup2,x)  \n",
    "    p2eq = TR22(Eq(practice2,practice2.doit(),evaluate=False))\n",
    "    if str(factor_terms(p2eq.lhs)) != str(factor_terms(p2eq.rhs)) and not any(kw in str(p2eq) for kw in keywords)\\\n",
    "    and str(p2eq.lhs) != str(-p2eq.rhs): \n",
    "        ierror = False\n",
    "    return p2eq\n",
    "while ierror == True:\n",
    "    output2 = itest()\n",
    "questionmark = Symbol('?')\n",
    "addsymbol = Symbol('+')\n",
    "\n",
    "def lhs():\n",
    "    return display(Eq(nsimplify(output1.lhs),questionmark),Eq(nsimplify(output2.lhs),questionmark)) \n",
    "def rhs():\n",
    "    return display(Eq(nsimplify(output1.lhs),nsimplify(output1.rhs)),Eq(nsimplify(output2.lhs),nsimplify(output2.rhs)))\n",
    "\n",
    "def calculus():\n",
    "    print('Solve with Pen and Paper:')\n",
    "    print('1)')\n",
    "    lhs()\n",
    "    print(\"\\n\")\n",
    "    print(\"Possible answers:\")\n",
    "    print(\"\\n\")\n",
    "    print('1)')\n",
    "    rhs()\n",
    "    print(\"----------------------------------------------------------------------\")\n",
    "\n",
    "def linear_algebra():\n",
    "    lambda1 = Symbol('lambda_i')\n",
    "    kw3 = {\"I\",\"*I\",\"I/2\",\"*I/2\",\"*I:\",\"I:\",\"sqrt\"}\n",
    "    n = 2\n",
    "    def Mgen():\n",
    "        M = randMatrix(n,n,percent=100,min=0, max=9,symmetric=False)\n",
    "        return M\n",
    "    def diagonalizer():\n",
    "        M = Mgen()\n",
    "        P,D = [0,0]\n",
    "        if M.is_diagonalizable():\n",
    "            P, D = M.diagonalize()\n",
    "        else:\n",
    "            diagonalizer()\n",
    "        return P, D, M\n",
    "    def mstest():\n",
    "        P,D,M = diagonalizer()\n",
    "        if not any(kw in str(M) for kw in kw3) and not any(kw in str(P) for kw in kw3) and str(P) != '0' and str(D) != '0':\n",
    "            merror = False\n",
    "            return merror,P,D,M\n",
    "        else:\n",
    "            merror = True\n",
    "            return merror,P,D,M\n",
    "            mstest()\n",
    "    if type(mstest()) == None:\n",
    "        linear_algebra()\n",
    "    else:\n",
    "        merror,P,D,M = mstest()\n",
    "    if merror == False and type(merror) != None:\n",
    "        M0 = Symbol('M')\n",
    "        lamda = symbols('lamda')\n",
    "        print('2) Calculate the eigenvalues of matrix M by solving the \\n     characteristic equation det(M-lambda*I).')\n",
    "        display(Eq(M0,M,evaluate=False))\n",
    "        print(\"3) Find which eigenvectors correspond to answer(2) by solving null(det(M-lambda*I)) @ each eigenval.\")\n",
    "        print(\"\\n\")\n",
    "        print(\"4) Diagonalize the matrix MP = PD_M where \\n     P: matrix of M's eigenvectors \\n     D: a 0 matrix that places M's eigenvalues on its diagonal entries\")\n",
    "        print(\"\\n\")\n",
    "        print(\"Possible answers:\")\n",
    "        print(\"\\n\")\n",
    "        print(\"2)\")\n",
    "        display(Eq(0,factor((M.charpoly(lamda)).as_expr()),evaluate=False))\n",
    "        display(Eq(lambda1,M.eigenvals()))\n",
    "        print(\"\\n\")\n",
    "        print(\"3)\")\n",
    "        eigvec0,eigvec1 = Symbol('V_1'),Symbol('V_2')\n",
    "        display(Eq(eigvec0,P.col(0),evaluate=False))\n",
    "        display(Eq(eigvec1,P.col(1),evaluate=False))\n",
    "        print(\"\\n\")\n",
    "        print(\"4)\")\n",
    "        P0 = Symbol(\"P\")\n",
    "        D0 = Symbol(\"D_M\")\n",
    "        PD = Symbol(\"PD_M\")\n",
    "        MP = Symbol(\"MP\")\n",
    "        display(Eq(M0,M,evaluate=False))\n",
    "        display(Eq(P0,P,evaluate=False))\n",
    "        display(Eq(D0,D,evaluate=False))\n",
    "        display(Eq(Eq(MP,M*P,evaluate=False),PD,evaluate=False)) \n",
    "    else:\n",
    "        linear_algebra()\n",
    "   \n",
    "    \n",
    "def prop_logic_gen():\n",
    "    print(\"----------------------------------------------------------------------\")    \n",
    "    print(\"5) Convert to Disjunctive Normal Form:\")\n",
    "    def ran_var(i):\n",
    "        return Symbol(random.choice([i for i in ['A','B','C','D','F','G','H','P','Q','R','S','□','■' ]]))\n",
    "    def L():\n",
    "        if random.choices([1, 2])[0] > 1:  \n",
    "            tild = Symbol('∼')\n",
    "            L = Symbol('%s%s'%(tild,ran_var(i)))\n",
    "        else:\n",
    "            L = ran_var(i)\n",
    "        return L\n",
    "    def logic():\n",
    "        def iff():\n",
    "            iff = Symbol('⟷')\n",
    "            v1,v2 = L(),L()\n",
    "            iff = Symbol('%s%s%s'%(v1,iff,v2))\n",
    "            return iff\n",
    "        def ifthen():  \n",
    "            ifthen = Symbol('→')\n",
    "            ifthen = Symbol('%s%s%s'%(L(),ifthen,L()))\n",
    "            return ifthen\n",
    "        def Or():\n",
    "            Or = Symbol(' ∨ ')\n",
    "            Or = Symbol('%s%s%s'%(L(),Or,L()))\n",
    "            return Or\n",
    "        def And():\n",
    "            And = Symbol('∧')\n",
    "            And = Symbol('%s%s%s'%(L(),And,L()))\n",
    "            return And\n",
    "        return iff(),ifthen(),Or(),And()\n",
    "    def rand_op(i):\n",
    "        return Symbol(random.choice([i for i in ['∧',' ∨ ','→','⟷']]))\n",
    "    value  = random.choices([1, 2, 3, 4], [0.25, 0.25, 0.25,0.25])[0]\n",
    "    value2 = random.choices([1, 2, 3, 4], [0.25, 0.25, 0.25,0.25])[0]\n",
    "    if value == 1:\n",
    "        if value2 == 1:\n",
    "            formula = Symbol('(%s)%s(%s)'%(logic()[0],rand_op(i),logic()[0]))\n",
    "            return formula\n",
    "        elif value2 == 2:\n",
    "            formula = Symbol('(%s)%s(%s)'%(logic()[0],rand_op(i),logic()[1]))\n",
    "            return formula    \n",
    "        elif value2 == 3:\n",
    "            formula = Symbol('(%s)%s(%s)'%(logic()[0],rand_op(i),logic()[2]))\n",
    "            return formula   \n",
    "        elif value2 == 4:\n",
    "            formula = Symbol('(%s)%s(%s)'%(logic()[0],rand_op(i),logic()[3]))\n",
    "            return formula\n",
    "    elif value == 2:\n",
    "        if value2 == 1:\n",
    "            formula = Symbol('(%s)%s(%s)'%(logic()[1],rand_op(i),logic()[0]))\n",
    "            return formula\n",
    "        elif value2 == 2:\n",
    "            formula = Symbol('(%s)%s(%s)'%(logic()[1],rand_op(i),logic()[1]))\n",
    "            return formula    \n",
    "        elif value2 == 3:\n",
    "            formula = Symbol('(%s)%s(%s)'%(logic()[1],rand_op(i),logic()[2]))\n",
    "            return formula   \n",
    "        elif value2 == 4:\n",
    "            formula = Symbol('(%s)%s(%s)'%(logic()[1],rand_op(i),logic()[3]))\n",
    "            return formula\n",
    "    elif value == 3:\n",
    "        if value2 == 1:\n",
    "            formula = Symbol('(%s)%s(%s)'%(logic()[2],rand_op(i),logic()[0]))\n",
    "            return formula\n",
    "        elif value2 == 2:\n",
    "            formula = Symbol('(%s)%s(%s)'%(logic()[2],rand_op(i),logic()[1]))\n",
    "            return formula    \n",
    "        elif value2 == 3:\n",
    "            formula = Symbol('(%s)%s(%s)'%(logic()[2],rand_op(i),logic()[2]))\n",
    "            return formula   \n",
    "        elif value2 == 4:\n",
    "            formula = Symbol('(%s)%s(%s)'%(logic()[2],rand_op(i),logic()[3]))\n",
    "            return formula\n",
    "    elif value == 4:\n",
    "        if value2 == 1:\n",
    "            formula = Symbol('(%s)%s(%s)'%(logic()[3],rand_op(i),logic()[0]))\n",
    "            return formula\n",
    "        elif value2 == 2:\n",
    "            formula = Symbol('(%s)%s(%s)'%(logic()[3],rand_op(i),logic()[1]))\n",
    "            return formula    \n",
    "        elif value2 == 3:\n",
    "            formula = Symbol('(%s)%s(%s)'%(logic()[3],rand_op(i),logic()[2]))\n",
    "            return formula   \n",
    "        elif value2 == 4:\n",
    "            formula = Symbol('(%s)%s(%s)'%(logic()[3],rand_op(i),logic()[3]))\n",
    "            return formula\n",
    "\n",
    "def plaintext():\n",
    "    print(\"\\n\")\n",
    "    print(\"----------------------------------------------------------------------\") \n",
    "    print(\"for help on 1), copy/paste https://www.derivative-calculator.net/ or https://www.integral-calculator.com/\")\n",
    "    print(\"     Differentiate:\",str(nsimplify(output1.lhs))[11:-4])\n",
    "    print(\"     Integrate:\",str(nsimplify(output2.lhs))[9:-4]) \n",
    "    print('''for help on 5) Chang and Lee. Computer Science and Applied Mathematics. 'Symbolic Logic and       \n",
    "        Mechanical Theorem Proving.' Academic Press, Inc. 1973. Page 13-15.''')\n",
    "    \n",
    "calculus()\n",
    "linear_algebra()\n",
    "display(prop_logic_gen())   \n",
    "plaintext()"
   ]
  }
 ],
 "metadata": {
  "kernelspec": {
   "display_name": "Python 3 (ipykernel)",
   "language": "python",
   "name": "python3"
  },
  "language_info": {
   "codemirror_mode": {
    "name": "ipython",
    "version": 3
   },
   "file_extension": ".py",
   "mimetype": "text/x-python",
   "name": "python",
   "nbconvert_exporter": "python",
   "pygments_lexer": "ipython3",
   "version": "3.10.6"
  }
 },
 "nbformat": 4,
 "nbformat_minor": 5
}
