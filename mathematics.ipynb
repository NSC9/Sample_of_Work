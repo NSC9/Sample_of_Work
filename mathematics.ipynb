{
 "cells": [
  {
   "cell_type": "markdown",
   "id": "69dc5572",
   "metadata": {},
   "source": [
    "This program is designed to accelerate ones ability to solve mathematical/logical problems using pen and paper to strengthen intuition. I use this program everyday for less than 15 minutes and post example use cases on my twitter @Noeo1234. "
   ]
  },
  {
   "cell_type": "markdown",
   "id": "b74751a4",
   "metadata": {},
   "source": [
    "# Donate With Crypto:\n",
    " Bitcoin (BTC): bc1qtrjmtsfxhmjmu4wwdh03u92gpy662rnt3drlm7\n",
    "\n",
    "Ethereum (ETH): 0x8B20704BB59E985Ad85D2477A9aB85a6F499F9E8\n",
    "\n",
    "Binance (BNB/BEP20): 0x8B20704BB59E985Ad85D2477A9aB85a6F499F9E8\n",
    "\n",
    "Created by https://github.com/NSC9 - MIT License"
   ]
  },
  {
   "cell_type": "code",
   "execution_count": 1,
   "id": "108761f9",
   "metadata": {
    "scrolled": false
   },
   "outputs": [
    {
     "name": "stdout",
     "output_type": "stream",
     "text": [
      "Solve with Pen and Paper:\n",
      "\n",
      "\n",
      "q1)\n"
     ]
    },
    {
     "data": {
      "text/latex": [
       "$\\displaystyle \\frac{d}{d y} \\left(1 - \\frac{2}{y}\\right)^{\\log{\\left(y \\right)}} = ?$"
      ],
      "text/plain": [
       "Eq(Derivative((1 - 2/y)**log(y), y), ?)"
      ]
     },
     "metadata": {},
     "output_type": "display_data"
    },
    {
     "name": "stdout",
     "output_type": "stream",
     "text": [
      "q2)\n"
     ]
    },
    {
     "data": {
      "text/latex": [
       "$\\displaystyle \\int \\sqrt[4]{z}\\, dz = ?$"
      ],
      "text/plain": [
       "Eq(Integral(z**(1/4), z), ?)"
      ]
     },
     "metadata": {},
     "output_type": "display_data"
    },
    {
     "name": "stdout",
     "output_type": "stream",
     "text": [
      "\n",
      "\n",
      "a1)\n"
     ]
    },
    {
     "data": {
      "text/latex": [
       "$\\displaystyle \\frac{d}{d y} \\left(1 - \\frac{2}{y}\\right)^{\\log{\\left(y \\right)}} = \\left(1 - \\frac{2}{y}\\right)^{\\log{\\left(y \\right)}} \\left(\\frac{\\log{\\left(1 - \\frac{2}{y} \\right)}}{y} + \\frac{2 \\log{\\left(y \\right)}}{y^{2} \\cdot \\left(1 - \\frac{2}{y}\\right)}\\right)$"
      ],
      "text/plain": [
       "Eq(Derivative((1 - 2/y)**log(y), y), (1 - 2/y)**log(y)*(log(1 - 2/y)/y + 2*log(y)/(y**2*(1 - 2/y))))"
      ]
     },
     "metadata": {},
     "output_type": "display_data"
    },
    {
     "name": "stdout",
     "output_type": "stream",
     "text": [
      "a2)\n"
     ]
    },
    {
     "data": {
      "text/latex": [
       "$\\displaystyle \\int \\sqrt[4]{z}\\, dz = \\frac{4 z^{\\frac{5}{4}}}{5}$"
      ],
      "text/plain": [
       "Eq(Integral(z**(1/4), z), 4*z**(5/4)/5)"
      ]
     },
     "metadata": {},
     "output_type": "display_data"
    },
    {
     "name": "stdout",
     "output_type": "stream",
     "text": [
      "----------------------------------------------------------------------\n",
      "q3) Calculate the eigenvalues of matrix M. \n",
      "      Make a diagnal matrix with them.\n"
     ]
    },
    {
     "data": {
      "text/latex": [
       "$\\displaystyle M = \\left[\\begin{matrix}5 & 0\\\\9 & 2\\end{matrix}\\right]$"
      ],
      "text/plain": [
       "Eq(M, Matrix([\n",
       "[5, 0],\n",
       "[9, 2]]))"
      ]
     },
     "metadata": {},
     "output_type": "display_data"
    },
    {
     "name": "stdout",
     "output_type": "stream",
     "text": [
      "\n",
      "\n",
      "a3)\n"
     ]
    },
    {
     "data": {
      "text/latex": [
       "$\\displaystyle 0 = \\left(\\lambda - 5\\right) \\left(\\lambda - 2\\right)$"
      ],
      "text/plain": [
       "Eq(0, (lamda - 5)*(lamda - 2))"
      ]
     },
     "metadata": {},
     "output_type": "display_data"
    },
    {
     "data": {
      "text/latex": [
       "$\\displaystyle D_{M} = \\left[\\begin{matrix}2 & 0\\\\0 & 5\\end{matrix}\\right]$"
      ],
      "text/plain": [
       "Eq(D_M, Matrix([\n",
       "[2, 0],\n",
       "[0, 5]]))"
      ]
     },
     "metadata": {},
     "output_type": "display_data"
    },
    {
     "name": "stdout",
     "output_type": "stream",
     "text": [
      "\n",
      "\n",
      "q4) Find which eigenvectors correspond to q3.\n",
      "\n",
      "\n",
      "a4)\n"
     ]
    },
    {
     "data": {
      "text/latex": [
       "$\\displaystyle E_{5} = \\left[\\begin{matrix}0\\\\1\\end{matrix}\\right]$"
      ],
      "text/plain": [
       "Eq(E_5, Matrix([\n",
       "[0],\n",
       "[1]]))"
      ]
     },
     "metadata": {},
     "output_type": "display_data"
    },
    {
     "data": {
      "text/latex": [
       "$\\displaystyle E_{2} = \\left[\\begin{matrix}1\\\\3\\end{matrix}\\right]$"
      ],
      "text/plain": [
       "Eq(E_2, Matrix([\n",
       "[1],\n",
       "[3]]))"
      ]
     },
     "metadata": {},
     "output_type": "display_data"
    },
    {
     "name": "stdout",
     "output_type": "stream",
     "text": [
      "\n",
      "\n",
      "q5) Make a matrix P of eigenvectors from q3. Verify MP=PD.\n",
      "\n",
      "\n",
      "a5)\n"
     ]
    },
    {
     "data": {
      "text/latex": [
       "$\\displaystyle M = \\left[\\begin{matrix}5 & 0\\\\9 & 2\\end{matrix}\\right]$"
      ],
      "text/plain": [
       "Eq(M, Matrix([\n",
       "[5, 0],\n",
       "[9, 2]]))"
      ]
     },
     "metadata": {},
     "output_type": "display_data"
    },
    {
     "data": {
      "text/latex": [
       "$\\displaystyle P = \\left[\\begin{matrix}0 & 1\\\\1 & 3\\end{matrix}\\right]$"
      ],
      "text/plain": [
       "Eq(P, Matrix([\n",
       "[0, 1],\n",
       "[1, 3]]))"
      ]
     },
     "metadata": {},
     "output_type": "display_data"
    },
    {
     "data": {
      "text/latex": [
       "$\\displaystyle MP = \\left[\\begin{matrix}0 & 5\\\\2 & 15\\end{matrix}\\right] = PD_{M}$"
      ],
      "text/plain": [
       "Eq(Eq(MP, Matrix([\n",
       "[0,  5],\n",
       "[2, 15]])), PD_M)"
      ]
     },
     "metadata": {},
     "output_type": "display_data"
    },
    {
     "name": "stdout",
     "output_type": "stream",
     "text": [
      "----------------------------------------------------------------------\n",
      "q5) Convert to Disjunctive Normal Form:\n"
     ]
    },
    {
     "data": {
      "text/latex": [
       "$\\displaystyle (■  ∨  ∼ D)  ∨  (□ → ∼ H)$"
      ],
      "text/plain": [
       "(■  ∨  ∼ D)  ∨  (□ → ∼ H)"
      ]
     },
     "metadata": {},
     "output_type": "display_data"
    },
    {
     "name": "stdout",
     "output_type": "stream",
     "text": [
      "\n",
      "\n",
      "----------------------------------------------------------------------\n",
      "for help on q1&q2: copy/paste expressions to https://www.derivative-calculator.net/ or https://www.integral-calculator.com/\n",
      "     Differentiate: (1 - 2/y)**log(y)\n",
      "     Integrate: z**(1/4)\n",
      "\n",
      "\n",
      "q5) Chang and Lee. Computer Science and Applied Mathematics. 'Symbolic Logic and Mechanical Theorem Proving.' Academic Press, Inc. 1973. Page 13-15.\n",
      "----------------------------------------------------------------------\n",
      "!!!EXPERIMENTAL!!!\n",
      "\n",
      "\n",
      "q6)\n"
     ]
    },
    {
     "data": {
      "text/latex": [
       "$\\displaystyle y{\\left(t \\right)} = \\sqrt{t} e^{- t} \\frac{d^{2}}{d t^{2}} y{\\left(t \\right)}$"
      ],
      "text/plain": [
       "Eq(y(t), sqrt(t)*exp(-t)*Derivative(y(t), (t, 2)))"
      ]
     },
     "metadata": {},
     "output_type": "display_data"
    },
    {
     "name": "stdout",
     "output_type": "stream",
     "text": [
      "\n",
      "\n",
      "a6)\n"
     ]
    },
    {
     "data": {
      "text/latex": [
       "$\\displaystyle y{\\left(t \\right)} = C_{1} t \\left(\\frac{t^{4}}{2880} + \\frac{t^{3}}{144} + \\frac{t^{2}}{12} + \\frac{t}{2} + 1\\right) + O\\left(t^{6}\\right)$"
      ],
      "text/plain": [
       "Eq(y(t), C1*t*(t**4/2880 + t**3/144 + t**2/12 + t/2 + 1) + O(t**6))"
      ]
     },
     "metadata": {},
     "output_type": "display_data"
    }
   ],
   "source": [
    "# Sympy v1.12\n",
    "from sympy.simplify.fu import TR22\n",
    "from sympy import *\n",
    "import random\n",
    "f,g,h,i,x,y = Function('f'),Function('g'),Function('h'),0,Symbol('x'),Symbol('y')\n",
    "theta = Symbol('theta')\n",
    "keywords = {\"polylog\",\"Ei\",\"gamma\",\"Piecewise\",\"li\",\"erf\",\n",
    "             \"hyper\",\"fresnel\",\"Li\",\"expint\",\"zoo\",\"nan\",\"oo\",\"abs\",\n",
    "             \"re\",\"EulerGamma\", \"sinh\",\"tanh\", \"cosh\",'sign',\"abs\",\n",
    "             \"atan\",\"csc\",\"asin\",\"Ci\",\"Si\"}\n",
    "keywords2 = {\"sin\",\"cos\",\"tan\"}\n",
    "def random_constant(i):\n",
    "    if random.choices([1,2])[0] > 1:\n",
    "        return random.randint(-10, 10)\n",
    "    else:\n",
    "        return Symbol(random.choice([i for i in ['a_1','a_2','a_3',\n",
    "                                                 'b_1','b_2','b_3',\n",
    "                                                 'c_1','c_2','c_3',\n",
    "                                                 'k_1','k_2','k_3']]), integer=True)\n",
    "def random_variable(i):\n",
    "    return Symbol(random.choice([i for i in ['phi','psi','v','t','x','z','y']]), real=True)                                               \n",
    "def power(x):      \n",
    "    return random_constant(i)*x**random_constant(i)+random_constant(i)\n",
    "def dmain(x):\n",
    "    def random_math(x): \n",
    "        funs = [power,sqrt,cbrt,ln,exp,sin,cos,tan]   \n",
    "        operations = [f(x)+g(x),f(x)-g(x),f(x)*g(x),f(x)/g(x),\n",
    "                      f(x)+g(x),f(x)-g(x),f(x)*g(x),f(x)/g(x),\n",
    "                      f(x)+g(x),f(x)-g(x),f(x)*g(x),f(x)/g(x),\n",
    "                      f(x)+g(x),f(x)-g(x),f(x)*g(x),f(x)/g(x),\n",
    "                      f(x)+g(x),f(x)-g(x),f(x)*g(x),f(x)/g(x),\n",
    "                      f(x)**g(x),]\n",
    "        operation = operations[random.randrange(0,len(operations))]\n",
    "        return [[[operation.replace(f, i) for i in funs][random.randrange(0,len(funs))].replace(g, i) for i in funs]\\\n",
    "    [random.randrange(0,len(funs))].replace(h, i) for i in funs][random.randrange(0,len(funs))]\n",
    "    return random_math(x)\n",
    "def imain(x):\n",
    "    def random_math2(x):  \n",
    "        funs = [power,sqrt,cbrt,ln,exp,sin,cos,tan]   \n",
    "        operations = [f(g(x)),f(x)+g(x),f(x)-g(x),f(x)/g(x),f(x)*g(x)]\n",
    "        operation = operations[random.randrange(0,len(operations))]\n",
    "        return [[operation.replace(f, i) for i in funs][random.randrange(0,len(funs))].replace(g, i) for i in funs]\\\n",
    "    [random.randrange(0,len(funs))]\n",
    "    return random_math2(x)\n",
    "derror = True\n",
    "def dtest():\n",
    "    global derror\n",
    "    global practice1\n",
    "    global setup1\n",
    "    x = random_variable(i)\n",
    "    setup1 = dmain(x)\n",
    "    practice1 = Derivative(setup1,x)       \n",
    "    p1eq = TR22(Eq(practice1,practice1.doit(),evaluate=False))\n",
    "    if any(kw in str(setup1) for kw in keywords2):\n",
    "        setup1 = setup1.replace(x,theta)\n",
    "        practice1 = Derivative(setup1,theta)   \n",
    "        p1eq = TR22(Eq(practice1,practice1.doit(),evaluate=False))\n",
    "    if p1eq.rhs != 0 and not any(kw in str(p1eq) for kw in keywords):\n",
    "        derror = False\n",
    "    return p1eq\n",
    "while derror == True: \n",
    "    output1 = dtest()\n",
    "ierror = True\n",
    "def itest():\n",
    "    global ierror\n",
    "    global practice2\n",
    "    global setup2\n",
    "    x = random_variable(i)\n",
    "    setup2 = imain(x)\n",
    "    practice2 = Integral(setup2,x)  \n",
    "    p2eq = TR22(Eq(practice2,practice2.doit(),evaluate=False))\n",
    "    integral = \"Integral\"\n",
    "    if str(factor_terms(p2eq.lhs)) != str(factor_terms(p2eq.rhs)) and not any(kw in str(p2eq) for kw in keywords)\\\n",
    "    and str(p2eq.lhs) != str(-p2eq.rhs)and not any(kw in str(p2eq.rhs) for kw in integral): \n",
    "        if any(kw in str(setup2) for kw in keywords2) and practice2.doit.evalf() != 1:\n",
    "            setup2 = setup2.replace(x,theta)\n",
    "            practice2 = Integral(setup2,theta)  \n",
    "            p2eq = TR22(Eq(practice2,practice2.doit(),evaluate=False))\n",
    "        ierror = False\n",
    "    return p2eq\n",
    "while ierror == True:\n",
    "    output2 = itest()\n",
    "questionmark = Symbol('?')\n",
    "addsymbol = Symbol('+')\n",
    "def question():\n",
    "    eqn = Eq(nsimplify(output1.lhs),questionmark)\n",
    "    eqn2 = Eq(nsimplify(output2.lhs),questionmark)\n",
    "    return print(\"q1)\"),display(eqn),print(\"q2)\"),display(eqn2)\n",
    "def answer():\n",
    "    eqn = TR22(Eq(nsimplify(output1.lhs),nsimplify(output1.rhs)))\n",
    "    eqn2 = TR22(Eq(nsimplify(output2.lhs),nsimplify(output2.rhs)))\n",
    "    return print(\"a1)\"),display(eqn),print(\"a2)\"),display(eqn2)\n",
    "def calculus():\n",
    "    print('Solve with Pen and Paper:')\n",
    "    print(\"\\n\")\n",
    "    question()\n",
    "    print(\"\\n\")\n",
    "    answer()\n",
    "    print(\"----------------------------------------------------------------------\")\n",
    "def linear_algebra():\n",
    "    kw3 = {\"I\",\"*I\",\"I/2\",\"*I/2\",\"*I:\",\"I:\",\"sqrt\"}\n",
    "    n = 2\n",
    "    def Mgen():\n",
    "        M = randMatrix(n,n,percent=100,min=0, max=9,symmetric=False)\n",
    "        return M\n",
    "    def diagonalizer():\n",
    "        M = Mgen()\n",
    "        P,D = [0,0]\n",
    "        if M.is_diagonalizable():\n",
    "            P, D = M.diagonalize()\n",
    "        else:\n",
    "            diagonalizer()\n",
    "        return P, D, M\n",
    "    def mstest():\n",
    "        P,D,M = diagonalizer()\n",
    "        if not any(kw in str(M) for kw in kw3) and not any(kw in str(P) for kw in kw3) and str(P) != '0' and str(D) != '0':\n",
    "            merror = False\n",
    "            return merror,P,D,M\n",
    "        else:\n",
    "            merror = True\n",
    "            return merror,P,D,M\n",
    "            mstest()\n",
    "    if type(mstest()) == None:\n",
    "        linear_algebra()\n",
    "    else:\n",
    "        merror,P,D,M = mstest()\n",
    "    if merror == False and type(merror) != None:\n",
    "        P0 = Symbol(\"P\")\n",
    "        D0 = Symbol(\"D_M\")\n",
    "        PD = Symbol(\"PD_M\")\n",
    "        MP = Symbol(\"MP\")\n",
    "        M0 = Symbol('M')\n",
    "        lamda = symbols('lamda')\n",
    "        print('q3) Calculate the eigenvalues of matrix M. \\n      Make a diagnal matrix with them.')\n",
    "        display(Eq(M0,M,evaluate=False))\n",
    "        print(\"\\n\")\n",
    "        print(\"a3)\")\n",
    "        display(Eq(0,factor((M.charpoly(lamda)).as_expr()),evaluate=False))\n",
    "        display(Eq(D0,D,evaluate=False))\n",
    "        print(\"\\n\")\n",
    "        print(\"q4) Find which eigenvectors correspond to q3.\")\n",
    "        eigenvs = M.eigenvals()\n",
    "        if len(str(eigenvs)) == 12:\n",
    "            k1,k2 = str(eigenvs)[1:-10],str(eigenvs)[7:8]\n",
    "        elif len(str(eigenvs)) == 13:\n",
    "            k1,k2 = str(eigenvs)[1:-10],str(eigenvs)[7:9]\n",
    "        else:\n",
    "            k1,k2 = str(eigenvs)[1:-10],str(eigenvs)[7:10]\n",
    "        print(\"\\n\")\n",
    "        print(\"a4)\")\n",
    "        eigvec0,eigvec1 = Symbol('E_%s'%k1),Symbol('E_%s'%k2)\n",
    "        display(Eq(eigvec0,P.col(0),evaluate=False))\n",
    "        display(Eq(eigvec1,P.col(1),evaluate=False))\n",
    "        print(\"\\n\")\n",
    "        print(\"q5) Make a matrix P of eigenvectors from q3. Verify MP=PD.\")\n",
    "        print(\"\\n\")\n",
    "        print(\"a5)\")\n",
    "\n",
    "        display(Eq(M0,M,evaluate=False))\n",
    "        display(Eq(P0,P,evaluate=False))\n",
    "        display(Eq(Eq(MP,M*P,evaluate=False),PD,evaluate=False)) \n",
    "    else:\n",
    "        linear_algebra()\n",
    "   \n",
    "    \n",
    "def prop_logic_gen():\n",
    "    print(\"----------------------------------------------------------------------\")    \n",
    "    print(\"q5) Convert to Disjunctive Normal Form:\")\n",
    "    def ran_var(i):\n",
    "        return Symbol(random.choice([i for i in ['A','B','C','D','G','H','P','Q','R','S','□','■','F','T','U','W']]))\n",
    "    def L(i):\n",
    "        if random.choices([1, 2])[0] > 1:  \n",
    "            tild = Symbol('∼')\n",
    "            L = Symbol('%s %s'%(tild,ran_var(i)))\n",
    "        else:\n",
    "            L = ran_var(i)\n",
    "        return L\n",
    "    def logic():\n",
    "        def ifthen():  \n",
    "            ifthen = Symbol('→')\n",
    "            ifthen = Symbol('%s %s %s'%(L(i),ifthen,L(i)))\n",
    "            return ifthen\n",
    "        def Or():\n",
    "            Or = Symbol(' ∨ ')\n",
    "            Or = Symbol('%s %s %s'%(L(i),Or,L(i)))\n",
    "            return Or\n",
    "        def And():\n",
    "            And = Symbol('∧')\n",
    "            And = Symbol('%s %s %s'%(L(i),And,L(i)))\n",
    "            return And\n",
    "        return ifthen(),Or(),And()\n",
    "\n",
    "    def get_formula():\n",
    "        value,value2 = random.randint(1, 3),random.randint(1, 3)\n",
    "        if isinstance(value, int) and isinstance(value2, int): \n",
    "            if value in [1, 2, 3] and value2 in [1, 2, 3]: \n",
    "                def rand_op(i):\n",
    "                    return Symbol(random.choice([i for i in ['∧',' ∨ ','→']]))\n",
    "                logic_list = list(logic())\n",
    "                logic_list2 = list(logic())\n",
    "                formula = Symbol('(%s) %s (%s)' % (logic_list[value-1], rand_op(i), logic_list2[value2-1]))\n",
    "                return formula\n",
    "            else:\n",
    "                return None\n",
    "    output = None\n",
    "    while output is None:\n",
    "        output = get_formula()\n",
    "    return display(output)\n",
    "    \n",
    "def resources():\n",
    "    print(\"\\n\")\n",
    "    print(\"----------------------------------------------------------------------\") \n",
    "    print(\"for help on q1&q2: copy/paste expressions to https://www.derivative-calculator.net/ or https://www.integral-calculator.com/\")\n",
    "    print(\"     Differentiate:\",str(nsimplify(output1.lhs))[11:-4])\n",
    "    print(\"     Integrate:\",str(nsimplify(output2.lhs))[9:-4]) \n",
    "    print(\"\\n\")\n",
    "    print(\"q5) Chang and Lee. Computer Science and Applied Mathematics. 'Symbolic Logic and Mechanical Theorem Proving.' Academic Press, Inc. 1973. Page 13-15.\")\n",
    "\n",
    "def differ_calc():\n",
    "    print(\"----------------------------------------------------------------------\") \n",
    "    print(\"!!!EXPERIMENTAL!!!\") \n",
    "    print(\"\\n\")\n",
    "    print(\"q6)\")\n",
    "    t= symbols('t')\n",
    "    y = Function('y')(t)\n",
    "    value3 = random.randint(1, 4)\n",
    "    if value3 == 1:\n",
    "        eq0=imain(t) + Derivative(y, t, random.choices([1,2])[0])*(-1)**random.choices([0,1])[0]\n",
    "    elif value3 == 2:\n",
    "        eq0=imain(t) * Derivative(y, t, random.choices([1,2])[0])**random.choices([-1,1])[0]\n",
    "    elif value3 == 3:\n",
    "        eq0=imain(t) ** Derivative(y, t, random.choices([1,2])[0])\n",
    "    elif value3 == 4:\n",
    "        eq0=Derivative(y, t, random.choices([1,2])[0])*ln(imain(t))\n",
    "    deq = Eq(y,eq0)\n",
    "    display(deq)\n",
    "    print(\"\\n\")\n",
    "    print(\"a6)\")\n",
    "    deqs = dsolve(deq,y) \n",
    "    display(deqs)\n",
    "def main():\n",
    "    calculus()\n",
    "    linear_algebra()\n",
    "    prop_logic_gen()\n",
    "    resources()\n",
    "    differ_calc()\n",
    "main()"
   ]
  }
 ],
 "metadata": {
  "kernelspec": {
   "display_name": "Python 3 (ipykernel)",
   "language": "python",
   "name": "python3"
  },
  "language_info": {
   "codemirror_mode": {
    "name": "ipython",
    "version": 3
   },
   "file_extension": ".py",
   "mimetype": "text/x-python",
   "name": "python",
   "nbconvert_exporter": "python",
   "pygments_lexer": "ipython3",
   "version": "3.10.12"
  }
 },
 "nbformat": 4,
 "nbformat_minor": 5
}
