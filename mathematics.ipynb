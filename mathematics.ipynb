{
 "cells": [
  {
   "cell_type": "markdown",
   "id": "b74751a4",
   "metadata": {},
   "source": [
    "# Donate With Crypto:\n",
    " Bitcoin (BTC): bc1qtrjmtsfxhmjmu4wwdh03u92gpy662rnt3drlm7\n",
    "\n",
    "Ethereum (ETH): 0x8B20704BB59E985Ad85D2477A9aB85a6F499F9E8\n",
    "\n",
    "Binance (BNB/BEP20): 0x8B20704BB59E985Ad85D2477A9aB85a6F499F9E8\n",
    "\n",
    "Created by https://github.com/NSC9 - MIT License - v7.8"
   ]
  },
  {
   "cell_type": "markdown",
   "id": "6bdf2faf",
   "metadata": {},
   "source": [
    "# Solve With Pen and Paper:"
   ]
  },
  {
   "cell_type": "code",
   "execution_count": 11,
   "id": "108761f9",
   "metadata": {
    "scrolled": false
   },
   "outputs": [
    {
     "name": "stdout",
     "output_type": "stream",
     "text": [
      "1)\n"
     ]
    },
    {
     "data": {
      "text/latex": [
       "$\\displaystyle \\frac{d}{d x} \\frac{\\sqrt{x}}{3 - 4 x} = ?$"
      ],
      "text/plain": [
       "Eq(Derivative(sqrt(x)/(3 - 4*x), x), ?)"
      ]
     },
     "metadata": {},
     "output_type": "display_data"
    },
    {
     "data": {
      "text/latex": [
       "$\\displaystyle \\int \\left(\\sqrt{z} - 3 z^{4}\\right)\\, dz = ?$"
      ],
      "text/plain": [
       "Eq(Integral(sqrt(z) - 3*z**4, z), ?)"
      ]
     },
     "metadata": {},
     "output_type": "display_data"
    },
    {
     "name": "stdout",
     "output_type": "stream",
     "text": [
      "2) Multiply these two matrices:\n"
     ]
    },
    {
     "data": {
      "text/latex": [
       "$\\displaystyle A = \\left[\\begin{matrix}5 & 10 & 8\\\\9 & 8 & 9\\\\8 & 1 & 9\\end{matrix}\\right]$"
      ],
      "text/plain": [
       "Eq(A, Matrix([\n",
       "[5, 10, 8],\n",
       "[9,  8, 9],\n",
       "[8,  1, 9]]))"
      ]
     },
     "metadata": {},
     "output_type": "display_data"
    },
    {
     "data": {
      "text/latex": [
       "$\\displaystyle B = \\left[\\begin{matrix}7 & 9 & 1\\\\5 & 10 & 7\\\\9 & 0 & 2\\end{matrix}\\right]$"
      ],
      "text/plain": [
       "Eq(B, Matrix([\n",
       "[7,  9, 1],\n",
       "[5, 10, 7],\n",
       "[9,  0, 2]]))"
      ]
     },
     "metadata": {},
     "output_type": "display_data"
    },
    {
     "name": "stdout",
     "output_type": "stream",
     "text": [
      "3) Calculate the determinate of matrix AB denoted |AB|.\n",
      "\n",
      "\n",
      "\n",
      "\n",
      "\n",
      "\n",
      "\n",
      "\n",
      "\n",
      "\n",
      "Possible answers:\n",
      "1)\n"
     ]
    },
    {
     "data": {
      "text/latex": [
       "$\\displaystyle \\frac{d}{d x} \\frac{\\sqrt{x}}{3 - 4 x} = \\frac{4 \\sqrt{x}}{\\left(3 - 4 x\\right)^{2}} + \\frac{1}{2 \\sqrt{x} \\left(3 - 4 x\\right)}$"
      ],
      "text/plain": [
       "Eq(Derivative(sqrt(x)/(3 - 4*x), x), 4*sqrt(x)/(3 - 4*x)**2 + 1/(2*sqrt(x)*(3 - 4*x)))"
      ]
     },
     "metadata": {},
     "output_type": "display_data"
    },
    {
     "data": {
      "text/latex": [
       "$\\displaystyle \\int \\left(\\sqrt{z} - 3 z^{4}\\right)\\, dz = \\frac{2 z^{\\frac{3}{2}}}{3} - \\frac{3 z^{5}}{5}$"
      ],
      "text/plain": [
       "Eq(Integral(sqrt(z) - 3*z**4, z), 2*z**(3/2)/3 - 3*z**5/5)"
      ]
     },
     "metadata": {},
     "output_type": "display_data"
    },
    {
     "name": "stdout",
     "output_type": "stream",
     "text": [
      "2)\n"
     ]
    },
    {
     "data": {
      "text/latex": [
       "$\\displaystyle A B = \\left[\\begin{matrix}157 & 145 & 91\\\\184 & 161 & 83\\\\142 & 82 & 33\\end{matrix}\\right]$"
      ],
      "text/plain": [
       "Eq(A*B, Matrix([\n",
       "[157, 145, 91],\n",
       "[184, 161, 83],\n",
       "[142,  82, 33]]))"
      ]
     },
     "metadata": {},
     "output_type": "display_data"
    },
    {
     "name": "stdout",
     "output_type": "stream",
     "text": [
      "3) \n"
     ]
    },
    {
     "data": {
      "text/latex": [
       "$\\displaystyle |AB| = -113305$"
      ],
      "text/plain": [
       "Eq(|AB|, -113305)"
      ]
     },
     "metadata": {},
     "output_type": "display_data"
    },
    {
     "name": "stdout",
     "output_type": "stream",
     "text": [
      "\n",
      "\n",
      "hint: |AB| = |A|*|B|\n",
      "\n",
      "\n",
      "        for copy/pasting for 3rd party calculators to learn the steps:\n",
      "Differentiate: sqrt(x)/(3 - 4*x)\n",
      "Integrate: sqrt(z) - 3*z**4\n",
      "------------------------------------------------------------------------------------------------------\n",
      "1)\n"
     ]
    },
    {
     "data": {
      "text/latex": [
       "$\\displaystyle \\frac{d}{d x} \\frac{\\sqrt{x}}{3 - 4 x} = ?$"
      ],
      "text/plain": [
       "Eq(Derivative(sqrt(x)/(3 - 4*x), x), ?)"
      ]
     },
     "metadata": {},
     "output_type": "display_data"
    },
    {
     "data": {
      "text/latex": [
       "$\\displaystyle \\int \\left(\\sqrt{z} - 3 z^{4}\\right)\\, dz = ?$"
      ],
      "text/plain": [
       "Eq(Integral(sqrt(z) - 3*z**4, z), ?)"
      ]
     },
     "metadata": {},
     "output_type": "display_data"
    },
    {
     "name": "stdout",
     "output_type": "stream",
     "text": [
      "2) Multiply these two matrices:\n"
     ]
    },
    {
     "data": {
      "text/latex": [
       "$\\displaystyle A = \\left[\\begin{matrix}3 & 9\\\\8 & 6\\end{matrix}\\right]$"
      ],
      "text/plain": [
       "Eq(A, Matrix([\n",
       "[3, 9],\n",
       "[8, 6]]))"
      ]
     },
     "metadata": {},
     "output_type": "display_data"
    },
    {
     "data": {
      "text/latex": [
       "$\\displaystyle B = \\left[\\begin{matrix}10 & 1\\\\3 & 6\\end{matrix}\\right]$"
      ],
      "text/plain": [
       "Eq(B, Matrix([\n",
       "[10, 1],\n",
       "[ 3, 6]]))"
      ]
     },
     "metadata": {},
     "output_type": "display_data"
    },
    {
     "name": "stdout",
     "output_type": "stream",
     "text": [
      "3) Calculate the determinate of matrix AB denoted |AB|.\n",
      "\n",
      "\n",
      "\n",
      "\n",
      "\n",
      "\n",
      "\n",
      "\n",
      "\n",
      "\n",
      "Possible answers:\n",
      "1)\n"
     ]
    },
    {
     "data": {
      "text/latex": [
       "$\\displaystyle \\frac{d}{d x} \\frac{\\sqrt{x}}{3 - 4 x} = \\frac{4 \\sqrt{x}}{\\left(3 - 4 x\\right)^{2}} + \\frac{1}{2 \\sqrt{x} \\left(3 - 4 x\\right)}$"
      ],
      "text/plain": [
       "Eq(Derivative(sqrt(x)/(3 - 4*x), x), 4*sqrt(x)/(3 - 4*x)**2 + 1/(2*sqrt(x)*(3 - 4*x)))"
      ]
     },
     "metadata": {},
     "output_type": "display_data"
    },
    {
     "data": {
      "text/latex": [
       "$\\displaystyle \\int \\left(\\sqrt{z} - 3 z^{4}\\right)\\, dz = \\frac{2 z^{\\frac{3}{2}}}{3} - \\frac{3 z^{5}}{5}$"
      ],
      "text/plain": [
       "Eq(Integral(sqrt(z) - 3*z**4, z), 2*z**(3/2)/3 - 3*z**5/5)"
      ]
     },
     "metadata": {},
     "output_type": "display_data"
    },
    {
     "name": "stdout",
     "output_type": "stream",
     "text": [
      "2)\n"
     ]
    },
    {
     "data": {
      "text/latex": [
       "$\\displaystyle A B = \\left[\\begin{matrix}57 & 57\\\\98 & 44\\end{matrix}\\right]$"
      ],
      "text/plain": [
       "Eq(A*B, Matrix([\n",
       "[57, 57],\n",
       "[98, 44]]))"
      ]
     },
     "metadata": {},
     "output_type": "display_data"
    },
    {
     "name": "stdout",
     "output_type": "stream",
     "text": [
      "3) \n"
     ]
    },
    {
     "data": {
      "text/latex": [
       "$\\displaystyle |AB| = -3078$"
      ],
      "text/plain": [
       "Eq(|AB|, -3078)"
      ]
     },
     "metadata": {},
     "output_type": "display_data"
    },
    {
     "name": "stdout",
     "output_type": "stream",
     "text": [
      "\n",
      "\n",
      "\n",
      "\n",
      "        for copy/pasting for 3rd party calculators to learn the steps:\n",
      "Differentiate: sqrt(x)/(3 - 4*x)\n",
      "Integrate: sqrt(z) - 3*z**4\n",
      "------------------------------------------------------------------------------------------------------\n",
      "1)\n"
     ]
    },
    {
     "data": {
      "text/latex": [
       "$\\displaystyle \\frac{d}{d x} \\frac{\\sqrt{x}}{3 - 4 x} = ?$"
      ],
      "text/plain": [
       "Eq(Derivative(sqrt(x)/(3 - 4*x), x), ?)"
      ]
     },
     "metadata": {},
     "output_type": "display_data"
    },
    {
     "data": {
      "text/latex": [
       "$\\displaystyle \\int \\left(\\sqrt{z} - 3 z^{4}\\right)\\, dz = ?$"
      ],
      "text/plain": [
       "Eq(Integral(sqrt(z) - 3*z**4, z), ?)"
      ]
     },
     "metadata": {},
     "output_type": "display_data"
    },
    {
     "name": "stdout",
     "output_type": "stream",
     "text": [
      "2) Multiply these two matrices:\n"
     ]
    },
    {
     "data": {
      "text/latex": [
       "$\\displaystyle A = \\left[\\begin{matrix}8 & 1\\\\4 & 2\\end{matrix}\\right]$"
      ],
      "text/plain": [
       "Eq(A, Matrix([\n",
       "[8, 1],\n",
       "[4, 2]]))"
      ]
     },
     "metadata": {},
     "output_type": "display_data"
    },
    {
     "data": {
      "text/latex": [
       "$\\displaystyle B = \\left[\\begin{matrix}2 & 9\\\\0 & 6\\end{matrix}\\right]$"
      ],
      "text/plain": [
       "Eq(B, Matrix([\n",
       "[2, 9],\n",
       "[0, 6]]))"
      ]
     },
     "metadata": {},
     "output_type": "display_data"
    },
    {
     "name": "stdout",
     "output_type": "stream",
     "text": [
      "3) Calculate the determinate of matrix AB denoted |AB|.\n",
      "\n",
      "\n",
      "\n",
      "\n",
      "\n",
      "\n",
      "\n",
      "\n",
      "\n",
      "\n",
      "Possible answers:\n",
      "1)\n"
     ]
    },
    {
     "data": {
      "text/latex": [
       "$\\displaystyle \\frac{d}{d x} \\frac{\\sqrt{x}}{3 - 4 x} = \\frac{4 \\sqrt{x}}{\\left(3 - 4 x\\right)^{2}} + \\frac{1}{2 \\sqrt{x} \\left(3 - 4 x\\right)}$"
      ],
      "text/plain": [
       "Eq(Derivative(sqrt(x)/(3 - 4*x), x), 4*sqrt(x)/(3 - 4*x)**2 + 1/(2*sqrt(x)*(3 - 4*x)))"
      ]
     },
     "metadata": {},
     "output_type": "display_data"
    },
    {
     "data": {
      "text/latex": [
       "$\\displaystyle \\int \\left(\\sqrt{z} - 3 z^{4}\\right)\\, dz = \\frac{2 z^{\\frac{3}{2}}}{3} - \\frac{3 z^{5}}{5}$"
      ],
      "text/plain": [
       "Eq(Integral(sqrt(z) - 3*z**4, z), 2*z**(3/2)/3 - 3*z**5/5)"
      ]
     },
     "metadata": {},
     "output_type": "display_data"
    },
    {
     "name": "stdout",
     "output_type": "stream",
     "text": [
      "2)\n"
     ]
    },
    {
     "data": {
      "text/latex": [
       "$\\displaystyle A B = \\left[\\begin{matrix}16 & 78\\\\8 & 48\\end{matrix}\\right]$"
      ],
      "text/plain": [
       "Eq(A*B, Matrix([\n",
       "[16, 78],\n",
       "[ 8, 48]]))"
      ]
     },
     "metadata": {},
     "output_type": "display_data"
    },
    {
     "name": "stdout",
     "output_type": "stream",
     "text": [
      "3) \n"
     ]
    },
    {
     "data": {
      "text/latex": [
       "$\\displaystyle |AB| = 144$"
      ],
      "text/plain": [
       "Eq(|AB|, 144)"
      ]
     },
     "metadata": {},
     "output_type": "display_data"
    },
    {
     "name": "stdout",
     "output_type": "stream",
     "text": [
      "\n",
      "\n",
      "\n",
      "\n",
      "        for copy/pasting for 3rd party calculators to learn the steps:\n",
      "Differentiate: sqrt(x)/(3 - 4*x)\n",
      "Integrate: sqrt(z) - 3*z**4\n",
      "------------------------------------------------------------------------------------------------------\n",
      "1)\n"
     ]
    },
    {
     "data": {
      "text/latex": [
       "$\\displaystyle \\frac{d}{d x} \\frac{\\sqrt{x}}{3 - 4 x} = ?$"
      ],
      "text/plain": [
       "Eq(Derivative(sqrt(x)/(3 - 4*x), x), ?)"
      ]
     },
     "metadata": {},
     "output_type": "display_data"
    },
    {
     "data": {
      "text/latex": [
       "$\\displaystyle \\int \\left(\\sqrt{z} - 3 z^{4}\\right)\\, dz = ?$"
      ],
      "text/plain": [
       "Eq(Integral(sqrt(z) - 3*z**4, z), ?)"
      ]
     },
     "metadata": {},
     "output_type": "display_data"
    },
    {
     "name": "stdout",
     "output_type": "stream",
     "text": [
      "2) Multiply these two matrices:\n"
     ]
    },
    {
     "data": {
      "text/latex": [
       "$\\displaystyle A = \\left[\\begin{matrix}9 & 6 & 10\\\\0 & 2 & 6\\\\8 & 9 & 8\\end{matrix}\\right]$"
      ],
      "text/plain": [
       "Eq(A, Matrix([\n",
       "[9, 6, 10],\n",
       "[0, 2,  6],\n",
       "[8, 9,  8]]))"
      ]
     },
     "metadata": {},
     "output_type": "display_data"
    },
    {
     "data": {
      "text/latex": [
       "$\\displaystyle B = \\left[\\begin{matrix}8 & 6 & 9\\\\0 & 5 & 8\\\\1 & 1 & 2\\end{matrix}\\right]$"
      ],
      "text/plain": [
       "Eq(B, Matrix([\n",
       "[8, 6, 9],\n",
       "[0, 5, 8],\n",
       "[1, 1, 2]]))"
      ]
     },
     "metadata": {},
     "output_type": "display_data"
    },
    {
     "name": "stdout",
     "output_type": "stream",
     "text": [
      "3) Calculate the determinate of matrix AB denoted |AB|.\n",
      "\n",
      "\n",
      "\n",
      "\n",
      "\n",
      "\n",
      "\n",
      "\n",
      "\n",
      "\n",
      "Possible answers:\n",
      "1)\n"
     ]
    },
    {
     "data": {
      "text/latex": [
       "$\\displaystyle \\frac{d}{d x} \\frac{\\sqrt{x}}{3 - 4 x} = \\frac{4 \\sqrt{x}}{\\left(3 - 4 x\\right)^{2}} + \\frac{1}{2 \\sqrt{x} \\left(3 - 4 x\\right)}$"
      ],
      "text/plain": [
       "Eq(Derivative(sqrt(x)/(3 - 4*x), x), 4*sqrt(x)/(3 - 4*x)**2 + 1/(2*sqrt(x)*(3 - 4*x)))"
      ]
     },
     "metadata": {},
     "output_type": "display_data"
    },
    {
     "data": {
      "text/latex": [
       "$\\displaystyle \\int \\left(\\sqrt{z} - 3 z^{4}\\right)\\, dz = \\frac{2 z^{\\frac{3}{2}}}{3} - \\frac{3 z^{5}}{5}$"
      ],
      "text/plain": [
       "Eq(Integral(sqrt(z) - 3*z**4, z), 2*z**(3/2)/3 - 3*z**5/5)"
      ]
     },
     "metadata": {},
     "output_type": "display_data"
    },
    {
     "name": "stdout",
     "output_type": "stream",
     "text": [
      "2)\n"
     ]
    },
    {
     "data": {
      "text/latex": [
       "$\\displaystyle A B = \\left[\\begin{matrix}82 & 94 & 149\\\\6 & 16 & 28\\\\72 & 101 & 160\\end{matrix}\\right]$"
      ],
      "text/plain": [
       "Eq(A*B, Matrix([\n",
       "[82,  94, 149],\n",
       "[ 6,  16,  28],\n",
       "[72, 101, 160]]))"
      ]
     },
     "metadata": {},
     "output_type": "display_data"
    },
    {
     "name": "stdout",
     "output_type": "stream",
     "text": [
      "3) \n"
     ]
    },
    {
     "data": {
      "text/latex": [
       "$\\displaystyle |AB| = -4066$"
      ],
      "text/plain": [
       "Eq(|AB|, -4066)"
      ]
     },
     "metadata": {},
     "output_type": "display_data"
    },
    {
     "name": "stdout",
     "output_type": "stream",
     "text": [
      "\n",
      "\n",
      "\n",
      "\n",
      "        for copy/pasting for 3rd party calculators to learn the steps:\n",
      "Differentiate: sqrt(x)/(3 - 4*x)\n",
      "Integrate: sqrt(z) - 3*z**4\n",
      "------------------------------------------------------------------------------------------------------\n",
      "1)\n"
     ]
    },
    {
     "data": {
      "text/latex": [
       "$\\displaystyle \\frac{d}{d x} \\frac{\\sqrt{x}}{3 - 4 x} = ?$"
      ],
      "text/plain": [
       "Eq(Derivative(sqrt(x)/(3 - 4*x), x), ?)"
      ]
     },
     "metadata": {},
     "output_type": "display_data"
    },
    {
     "data": {
      "text/latex": [
       "$\\displaystyle \\int \\left(\\sqrt{z} - 3 z^{4}\\right)\\, dz = ?$"
      ],
      "text/plain": [
       "Eq(Integral(sqrt(z) - 3*z**4, z), ?)"
      ]
     },
     "metadata": {},
     "output_type": "display_data"
    },
    {
     "name": "stdout",
     "output_type": "stream",
     "text": [
      "2) Multiply these two matrices:\n"
     ]
    },
    {
     "data": {
      "text/latex": [
       "$\\displaystyle A = \\left[\\begin{matrix}3 & 2 & 0\\\\9 & 6 & 0\\\\8 & 9 & 1\\end{matrix}\\right]$"
      ],
      "text/plain": [
       "Eq(A, Matrix([\n",
       "[3, 2, 0],\n",
       "[9, 6, 0],\n",
       "[8, 9, 1]]))"
      ]
     },
     "metadata": {},
     "output_type": "display_data"
    },
    {
     "data": {
      "text/latex": [
       "$\\displaystyle B = \\left[\\begin{matrix}4 & 10 & 2\\\\0 & 6 & 6\\\\7 & 8 & 4\\end{matrix}\\right]$"
      ],
      "text/plain": [
       "Eq(B, Matrix([\n",
       "[4, 10, 2],\n",
       "[0,  6, 6],\n",
       "[7,  8, 4]]))"
      ]
     },
     "metadata": {},
     "output_type": "display_data"
    },
    {
     "name": "stdout",
     "output_type": "stream",
     "text": [
      "3) Calculate the determinate of matrix AB denoted |AB|.\n",
      "\n",
      "\n",
      "\n",
      "\n",
      "\n",
      "\n",
      "\n",
      "\n",
      "\n",
      "\n",
      "Possible answers:\n",
      "1)\n"
     ]
    },
    {
     "data": {
      "text/latex": [
       "$\\displaystyle \\frac{d}{d x} \\frac{\\sqrt{x}}{3 - 4 x} = \\frac{4 \\sqrt{x}}{\\left(3 - 4 x\\right)^{2}} + \\frac{1}{2 \\sqrt{x} \\left(3 - 4 x\\right)}$"
      ],
      "text/plain": [
       "Eq(Derivative(sqrt(x)/(3 - 4*x), x), 4*sqrt(x)/(3 - 4*x)**2 + 1/(2*sqrt(x)*(3 - 4*x)))"
      ]
     },
     "metadata": {},
     "output_type": "display_data"
    },
    {
     "data": {
      "text/latex": [
       "$\\displaystyle \\int \\left(\\sqrt{z} - 3 z^{4}\\right)\\, dz = \\frac{2 z^{\\frac{3}{2}}}{3} - \\frac{3 z^{5}}{5}$"
      ],
      "text/plain": [
       "Eq(Integral(sqrt(z) - 3*z**4, z), 2*z**(3/2)/3 - 3*z**5/5)"
      ]
     },
     "metadata": {},
     "output_type": "display_data"
    },
    {
     "name": "stdout",
     "output_type": "stream",
     "text": [
      "2)\n"
     ]
    },
    {
     "data": {
      "text/latex": [
       "$\\displaystyle A B = \\left[\\begin{matrix}12 & 42 & 18\\\\36 & 126 & 54\\\\39 & 142 & 74\\end{matrix}\\right]$"
      ],
      "text/plain": [
       "Eq(A*B, Matrix([\n",
       "[12,  42, 18],\n",
       "[36, 126, 54],\n",
       "[39, 142, 74]]))"
      ]
     },
     "metadata": {},
     "output_type": "display_data"
    },
    {
     "name": "stdout",
     "output_type": "stream",
     "text": [
      "3) \n"
     ]
    },
    {
     "data": {
      "text/latex": [
       "$\\displaystyle |AB| = 0$"
      ],
      "text/plain": [
       "Eq(|AB|, 0)"
      ]
     },
     "metadata": {},
     "output_type": "display_data"
    },
    {
     "name": "stdout",
     "output_type": "stream",
     "text": [
      "\n",
      "\n",
      "\n",
      "\n",
      "        for copy/pasting for 3rd party calculators to learn the steps:\n",
      "Differentiate: sqrt(x)/(3 - 4*x)\n",
      "Integrate: sqrt(z) - 3*z**4\n",
      "------------------------------------------------------------------------------------------------------\n",
      "1)\n"
     ]
    },
    {
     "data": {
      "text/latex": [
       "$\\displaystyle \\frac{d}{d x} \\frac{\\sqrt{x}}{3 - 4 x} = ?$"
      ],
      "text/plain": [
       "Eq(Derivative(sqrt(x)/(3 - 4*x), x), ?)"
      ]
     },
     "metadata": {},
     "output_type": "display_data"
    },
    {
     "data": {
      "text/latex": [
       "$\\displaystyle \\int \\left(\\sqrt{z} - 3 z^{4}\\right)\\, dz = ?$"
      ],
      "text/plain": [
       "Eq(Integral(sqrt(z) - 3*z**4, z), ?)"
      ]
     },
     "metadata": {},
     "output_type": "display_data"
    },
    {
     "name": "stdout",
     "output_type": "stream",
     "text": [
      "2) Multiply these two matrices:\n"
     ]
    },
    {
     "data": {
      "text/latex": [
       "$\\displaystyle A = \\left[\\begin{matrix}9 & 6\\\\2 & 0\\end{matrix}\\right]$"
      ],
      "text/plain": [
       "Eq(A, Matrix([\n",
       "[9, 6],\n",
       "[2, 0]]))"
      ]
     },
     "metadata": {},
     "output_type": "display_data"
    },
    {
     "data": {
      "text/latex": [
       "$\\displaystyle B = \\left[\\begin{matrix}0 & 9\\\\5 & 10\\end{matrix}\\right]$"
      ],
      "text/plain": [
       "Eq(B, Matrix([\n",
       "[0,  9],\n",
       "[5, 10]]))"
      ]
     },
     "metadata": {},
     "output_type": "display_data"
    },
    {
     "name": "stdout",
     "output_type": "stream",
     "text": [
      "3) Calculate the determinate of matrix AB denoted |AB|.\n",
      "\n",
      "\n",
      "\n",
      "\n",
      "\n",
      "\n",
      "\n",
      "\n",
      "\n",
      "\n",
      "Possible answers:\n",
      "1)\n"
     ]
    },
    {
     "data": {
      "text/latex": [
       "$\\displaystyle \\frac{d}{d x} \\frac{\\sqrt{x}}{3 - 4 x} = \\frac{4 \\sqrt{x}}{\\left(3 - 4 x\\right)^{2}} + \\frac{1}{2 \\sqrt{x} \\left(3 - 4 x\\right)}$"
      ],
      "text/plain": [
       "Eq(Derivative(sqrt(x)/(3 - 4*x), x), 4*sqrt(x)/(3 - 4*x)**2 + 1/(2*sqrt(x)*(3 - 4*x)))"
      ]
     },
     "metadata": {},
     "output_type": "display_data"
    },
    {
     "data": {
      "text/latex": [
       "$\\displaystyle \\int \\left(\\sqrt{z} - 3 z^{4}\\right)\\, dz = \\frac{2 z^{\\frac{3}{2}}}{3} - \\frac{3 z^{5}}{5}$"
      ],
      "text/plain": [
       "Eq(Integral(sqrt(z) - 3*z**4, z), 2*z**(3/2)/3 - 3*z**5/5)"
      ]
     },
     "metadata": {},
     "output_type": "display_data"
    },
    {
     "name": "stdout",
     "output_type": "stream",
     "text": [
      "2)\n"
     ]
    },
    {
     "data": {
      "text/latex": [
       "$\\displaystyle A B = \\left[\\begin{matrix}30 & 141\\\\0 & 18\\end{matrix}\\right]$"
      ],
      "text/plain": [
       "Eq(A*B, Matrix([\n",
       "[30, 141],\n",
       "[ 0,  18]]))"
      ]
     },
     "metadata": {},
     "output_type": "display_data"
    },
    {
     "name": "stdout",
     "output_type": "stream",
     "text": [
      "3) \n"
     ]
    },
    {
     "data": {
      "text/latex": [
       "$\\displaystyle |AB| = 540$"
      ],
      "text/plain": [
       "Eq(|AB|, 540)"
      ]
     },
     "metadata": {},
     "output_type": "display_data"
    },
    {
     "name": "stdout",
     "output_type": "stream",
     "text": [
      "\n",
      "\n",
      "\n",
      "\n",
      "        for copy/pasting for 3rd party calculators to learn the steps:\n",
      "Differentiate: sqrt(x)/(3 - 4*x)\n",
      "Integrate: sqrt(z) - 3*z**4\n",
      "------------------------------------------------------------------------------------------------------\n",
      "1)\n"
     ]
    },
    {
     "data": {
      "text/latex": [
       "$\\displaystyle \\frac{d}{d x} \\frac{\\sqrt{x}}{3 - 4 x} = ?$"
      ],
      "text/plain": [
       "Eq(Derivative(sqrt(x)/(3 - 4*x), x), ?)"
      ]
     },
     "metadata": {},
     "output_type": "display_data"
    },
    {
     "data": {
      "text/latex": [
       "$\\displaystyle \\int \\left(\\sqrt{z} - 3 z^{4}\\right)\\, dz = ?$"
      ],
      "text/plain": [
       "Eq(Integral(sqrt(z) - 3*z**4, z), ?)"
      ]
     },
     "metadata": {},
     "output_type": "display_data"
    },
    {
     "name": "stdout",
     "output_type": "stream",
     "text": [
      "2) Multiply these two matrices:\n"
     ]
    },
    {
     "data": {
      "text/latex": [
       "$\\displaystyle A = \\left[\\begin{matrix}8 & 9 & 9\\\\10 & 0 & 1\\\\2 & 0 & 9\\end{matrix}\\right]$"
      ],
      "text/plain": [
       "Eq(A, Matrix([\n",
       "[ 8, 9, 9],\n",
       "[10, 0, 1],\n",
       "[ 2, 0, 9]]))"
      ]
     },
     "metadata": {},
     "output_type": "display_data"
    },
    {
     "data": {
      "text/latex": [
       "$\\displaystyle B = \\left[\\begin{matrix}8 & 10 & 1\\\\10 & 2 & 1\\\\10 & 5 & 5\\end{matrix}\\right]$"
      ],
      "text/plain": [
       "Eq(B, Matrix([\n",
       "[ 8, 10, 1],\n",
       "[10,  2, 1],\n",
       "[10,  5, 5]]))"
      ]
     },
     "metadata": {},
     "output_type": "display_data"
    },
    {
     "name": "stdout",
     "output_type": "stream",
     "text": [
      "3) Calculate the determinate of matrix AB denoted |AB|.\n",
      "\n",
      "\n",
      "\n",
      "\n",
      "\n",
      "\n",
      "\n",
      "\n",
      "\n",
      "\n",
      "Possible answers:\n",
      "1)\n"
     ]
    },
    {
     "data": {
      "text/latex": [
       "$\\displaystyle \\frac{d}{d x} \\frac{\\sqrt{x}}{3 - 4 x} = \\frac{4 \\sqrt{x}}{\\left(3 - 4 x\\right)^{2}} + \\frac{1}{2 \\sqrt{x} \\left(3 - 4 x\\right)}$"
      ],
      "text/plain": [
       "Eq(Derivative(sqrt(x)/(3 - 4*x), x), 4*sqrt(x)/(3 - 4*x)**2 + 1/(2*sqrt(x)*(3 - 4*x)))"
      ]
     },
     "metadata": {},
     "output_type": "display_data"
    },
    {
     "data": {
      "text/latex": [
       "$\\displaystyle \\int \\left(\\sqrt{z} - 3 z^{4}\\right)\\, dz = \\frac{2 z^{\\frac{3}{2}}}{3} - \\frac{3 z^{5}}{5}$"
      ],
      "text/plain": [
       "Eq(Integral(sqrt(z) - 3*z**4, z), 2*z**(3/2)/3 - 3*z**5/5)"
      ]
     },
     "metadata": {},
     "output_type": "display_data"
    },
    {
     "name": "stdout",
     "output_type": "stream",
     "text": [
      "2)\n"
     ]
    },
    {
     "data": {
      "text/latex": [
       "$\\displaystyle A B = \\left[\\begin{matrix}244 & 143 & 62\\\\90 & 105 & 15\\\\106 & 65 & 47\\end{matrix}\\right]$"
      ],
      "text/plain": [
       "Eq(A*B, Matrix([\n",
       "[244, 143, 62],\n",
       "[ 90, 105, 15],\n",
       "[106,  65, 47]]))"
      ]
     },
     "metadata": {},
     "output_type": "display_data"
    },
    {
     "name": "stdout",
     "output_type": "stream",
     "text": [
      "3) \n"
     ]
    },
    {
     "data": {
      "text/latex": [
       "$\\displaystyle |AB| = 261360$"
      ],
      "text/plain": [
       "Eq(|AB|, 261360)"
      ]
     },
     "metadata": {},
     "output_type": "display_data"
    },
    {
     "name": "stdout",
     "output_type": "stream",
     "text": [
      "\n",
      "\n",
      "\n",
      "\n",
      "        for copy/pasting for 3rd party calculators to learn the steps:\n",
      "Differentiate: sqrt(x)/(3 - 4*x)\n",
      "Integrate: sqrt(z) - 3*z**4\n",
      "------------------------------------------------------------------------------------------------------\n",
      "1)\n"
     ]
    },
    {
     "data": {
      "text/latex": [
       "$\\displaystyle \\frac{d}{d x} \\frac{\\sqrt{x}}{3 - 4 x} = ?$"
      ],
      "text/plain": [
       "Eq(Derivative(sqrt(x)/(3 - 4*x), x), ?)"
      ]
     },
     "metadata": {},
     "output_type": "display_data"
    },
    {
     "data": {
      "text/latex": [
       "$\\displaystyle \\int \\left(\\sqrt{z} - 3 z^{4}\\right)\\, dz = ?$"
      ],
      "text/plain": [
       "Eq(Integral(sqrt(z) - 3*z**4, z), ?)"
      ]
     },
     "metadata": {},
     "output_type": "display_data"
    },
    {
     "name": "stdout",
     "output_type": "stream",
     "text": [
      "2) Multiply these two matrices:\n"
     ]
    },
    {
     "data": {
      "text/latex": [
       "$\\displaystyle A = \\left[\\begin{matrix}8 & 3 & 8\\\\0 & 4 & 10\\\\2 & 5 & 3\\end{matrix}\\right]$"
      ],
      "text/plain": [
       "Eq(A, Matrix([\n",
       "[8, 3,  8],\n",
       "[0, 4, 10],\n",
       "[2, 5,  3]]))"
      ]
     },
     "metadata": {},
     "output_type": "display_data"
    },
    {
     "data": {
      "text/latex": [
       "$\\displaystyle B = \\left[\\begin{matrix}5 & 6 & 1\\\\2 & 8 & 8\\\\7 & 1 & 10\\end{matrix}\\right]$"
      ],
      "text/plain": [
       "Eq(B, Matrix([\n",
       "[5, 6,  1],\n",
       "[2, 8,  8],\n",
       "[7, 1, 10]]))"
      ]
     },
     "metadata": {},
     "output_type": "display_data"
    },
    {
     "name": "stdout",
     "output_type": "stream",
     "text": [
      "3) Calculate the determinate of matrix AB denoted |AB|.\n",
      "\n",
      "\n",
      "\n",
      "\n",
      "\n",
      "\n",
      "\n",
      "\n",
      "\n",
      "\n",
      "Possible answers:\n",
      "1)\n"
     ]
    },
    {
     "data": {
      "text/latex": [
       "$\\displaystyle \\frac{d}{d x} \\frac{\\sqrt{x}}{3 - 4 x} = \\frac{4 \\sqrt{x}}{\\left(3 - 4 x\\right)^{2}} + \\frac{1}{2 \\sqrt{x} \\left(3 - 4 x\\right)}$"
      ],
      "text/plain": [
       "Eq(Derivative(sqrt(x)/(3 - 4*x), x), 4*sqrt(x)/(3 - 4*x)**2 + 1/(2*sqrt(x)*(3 - 4*x)))"
      ]
     },
     "metadata": {},
     "output_type": "display_data"
    },
    {
     "data": {
      "text/latex": [
       "$\\displaystyle \\int \\left(\\sqrt{z} - 3 z^{4}\\right)\\, dz = \\frac{2 z^{\\frac{3}{2}}}{3} - \\frac{3 z^{5}}{5}$"
      ],
      "text/plain": [
       "Eq(Integral(sqrt(z) - 3*z**4, z), 2*z**(3/2)/3 - 3*z**5/5)"
      ]
     },
     "metadata": {},
     "output_type": "display_data"
    },
    {
     "name": "stdout",
     "output_type": "stream",
     "text": [
      "2)\n"
     ]
    },
    {
     "data": {
      "text/latex": [
       "$\\displaystyle A B = \\left[\\begin{matrix}102 & 80 & 112\\\\78 & 42 & 132\\\\41 & 55 & 72\\end{matrix}\\right]$"
      ],
      "text/plain": [
       "Eq(A*B, Matrix([\n",
       "[102, 80, 112],\n",
       "[ 78, 42, 132],\n",
       "[ 41, 55,  72]]))"
      ]
     },
     "metadata": {},
     "output_type": "display_data"
    },
    {
     "name": "stdout",
     "output_type": "stream",
     "text": [
      "3) \n"
     ]
    },
    {
     "data": {
      "text/latex": [
       "$\\displaystyle |AB| = -160776$"
      ],
      "text/plain": [
       "Eq(|AB|, -160776)"
      ]
     },
     "metadata": {},
     "output_type": "display_data"
    },
    {
     "name": "stdout",
     "output_type": "stream",
     "text": [
      "\n",
      "\n",
      "\n",
      "\n",
      "        for copy/pasting for 3rd party calculators to learn the steps:\n",
      "Differentiate: sqrt(x)/(3 - 4*x)\n",
      "Integrate: sqrt(z) - 3*z**4\n",
      "------------------------------------------------------------------------------------------------------\n",
      "1)\n"
     ]
    },
    {
     "data": {
      "text/latex": [
       "$\\displaystyle \\frac{d}{d x} \\frac{\\sqrt{x}}{3 - 4 x} = ?$"
      ],
      "text/plain": [
       "Eq(Derivative(sqrt(x)/(3 - 4*x), x), ?)"
      ]
     },
     "metadata": {},
     "output_type": "display_data"
    },
    {
     "data": {
      "text/latex": [
       "$\\displaystyle \\int \\left(\\sqrt{z} - 3 z^{4}\\right)\\, dz = ?$"
      ],
      "text/plain": [
       "Eq(Integral(sqrt(z) - 3*z**4, z), ?)"
      ]
     },
     "metadata": {},
     "output_type": "display_data"
    },
    {
     "name": "stdout",
     "output_type": "stream",
     "text": [
      "2) Multiply these two matrices:\n"
     ]
    },
    {
     "data": {
      "text/latex": [
       "$\\displaystyle A = \\left[\\begin{matrix}0 & 0\\\\8 & 0\\end{matrix}\\right]$"
      ],
      "text/plain": [
       "Eq(A, Matrix([\n",
       "[0, 0],\n",
       "[8, 0]]))"
      ]
     },
     "metadata": {},
     "output_type": "display_data"
    },
    {
     "data": {
      "text/latex": [
       "$\\displaystyle B = \\left[\\begin{matrix}9 & 0\\\\8 & 4\\end{matrix}\\right]$"
      ],
      "text/plain": [
       "Eq(B, Matrix([\n",
       "[9, 0],\n",
       "[8, 4]]))"
      ]
     },
     "metadata": {},
     "output_type": "display_data"
    },
    {
     "name": "stdout",
     "output_type": "stream",
     "text": [
      "3) Calculate the determinate of matrix AB denoted |AB|.\n",
      "\n",
      "\n",
      "\n",
      "\n",
      "\n",
      "\n",
      "\n",
      "\n",
      "\n",
      "\n",
      "Possible answers:\n",
      "1)\n"
     ]
    },
    {
     "data": {
      "text/latex": [
       "$\\displaystyle \\frac{d}{d x} \\frac{\\sqrt{x}}{3 - 4 x} = \\frac{4 \\sqrt{x}}{\\left(3 - 4 x\\right)^{2}} + \\frac{1}{2 \\sqrt{x} \\left(3 - 4 x\\right)}$"
      ],
      "text/plain": [
       "Eq(Derivative(sqrt(x)/(3 - 4*x), x), 4*sqrt(x)/(3 - 4*x)**2 + 1/(2*sqrt(x)*(3 - 4*x)))"
      ]
     },
     "metadata": {},
     "output_type": "display_data"
    },
    {
     "data": {
      "text/latex": [
       "$\\displaystyle \\int \\left(\\sqrt{z} - 3 z^{4}\\right)\\, dz = \\frac{2 z^{\\frac{3}{2}}}{3} - \\frac{3 z^{5}}{5}$"
      ],
      "text/plain": [
       "Eq(Integral(sqrt(z) - 3*z**4, z), 2*z**(3/2)/3 - 3*z**5/5)"
      ]
     },
     "metadata": {},
     "output_type": "display_data"
    },
    {
     "name": "stdout",
     "output_type": "stream",
     "text": [
      "2)\n"
     ]
    },
    {
     "data": {
      "text/latex": [
       "$\\displaystyle A B = \\left[\\begin{matrix}0 & 0\\\\72 & 0\\end{matrix}\\right]$"
      ],
      "text/plain": [
       "Eq(A*B, Matrix([\n",
       "[ 0, 0],\n",
       "[72, 0]]))"
      ]
     },
     "metadata": {},
     "output_type": "display_data"
    },
    {
     "name": "stdout",
     "output_type": "stream",
     "text": [
      "3) \n"
     ]
    },
    {
     "data": {
      "text/latex": [
       "$\\displaystyle |AB| = 0$"
      ],
      "text/plain": [
       "Eq(|AB|, 0)"
      ]
     },
     "metadata": {},
     "output_type": "display_data"
    },
    {
     "name": "stdout",
     "output_type": "stream",
     "text": [
      "\n",
      "\n",
      "\n",
      "\n",
      "        for copy/pasting for 3rd party calculators to learn the steps:\n",
      "Differentiate: sqrt(x)/(3 - 4*x)\n",
      "Integrate: sqrt(z) - 3*z**4\n",
      "------------------------------------------------------------------------------------------------------\n",
      "1)\n"
     ]
    },
    {
     "data": {
      "text/latex": [
       "$\\displaystyle \\frac{d}{d x} \\frac{\\sqrt{x}}{3 - 4 x} = ?$"
      ],
      "text/plain": [
       "Eq(Derivative(sqrt(x)/(3 - 4*x), x), ?)"
      ]
     },
     "metadata": {},
     "output_type": "display_data"
    },
    {
     "data": {
      "text/latex": [
       "$\\displaystyle \\int \\left(\\sqrt{z} - 3 z^{4}\\right)\\, dz = ?$"
      ],
      "text/plain": [
       "Eq(Integral(sqrt(z) - 3*z**4, z), ?)"
      ]
     },
     "metadata": {},
     "output_type": "display_data"
    },
    {
     "name": "stdout",
     "output_type": "stream",
     "text": [
      "2) Multiply these two matrices:\n"
     ]
    },
    {
     "data": {
      "text/latex": [
       "$\\displaystyle A = \\left[\\begin{matrix}7 & 0 & 10\\\\7 & 8 & 6\\\\4 & 7 & 8\\end{matrix}\\right]$"
      ],
      "text/plain": [
       "Eq(A, Matrix([\n",
       "[7, 0, 10],\n",
       "[7, 8,  6],\n",
       "[4, 7,  8]]))"
      ]
     },
     "metadata": {},
     "output_type": "display_data"
    },
    {
     "data": {
      "text/latex": [
       "$\\displaystyle B = \\left[\\begin{matrix}9 & 9 & 4\\\\5 & 3 & 3\\\\8 & 8 & 5\\end{matrix}\\right]$"
      ],
      "text/plain": [
       "Eq(B, Matrix([\n",
       "[9, 9, 4],\n",
       "[5, 3, 3],\n",
       "[8, 8, 5]]))"
      ]
     },
     "metadata": {},
     "output_type": "display_data"
    },
    {
     "name": "stdout",
     "output_type": "stream",
     "text": [
      "3) Calculate the determinate of matrix AB denoted |AB|.\n",
      "\n",
      "\n",
      "\n",
      "\n",
      "\n",
      "\n",
      "\n",
      "\n",
      "\n",
      "\n",
      "Possible answers:\n",
      "1)\n"
     ]
    },
    {
     "data": {
      "text/latex": [
       "$\\displaystyle \\frac{d}{d x} \\frac{\\sqrt{x}}{3 - 4 x} = \\frac{4 \\sqrt{x}}{\\left(3 - 4 x\\right)^{2}} + \\frac{1}{2 \\sqrt{x} \\left(3 - 4 x\\right)}$"
      ],
      "text/plain": [
       "Eq(Derivative(sqrt(x)/(3 - 4*x), x), 4*sqrt(x)/(3 - 4*x)**2 + 1/(2*sqrt(x)*(3 - 4*x)))"
      ]
     },
     "metadata": {},
     "output_type": "display_data"
    },
    {
     "data": {
      "text/latex": [
       "$\\displaystyle \\int \\left(\\sqrt{z} - 3 z^{4}\\right)\\, dz = \\frac{2 z^{\\frac{3}{2}}}{3} - \\frac{3 z^{5}}{5}$"
      ],
      "text/plain": [
       "Eq(Integral(sqrt(z) - 3*z**4, z), 2*z**(3/2)/3 - 3*z**5/5)"
      ]
     },
     "metadata": {},
     "output_type": "display_data"
    },
    {
     "name": "stdout",
     "output_type": "stream",
     "text": [
      "2)\n"
     ]
    },
    {
     "data": {
      "text/latex": [
       "$\\displaystyle A B = \\left[\\begin{matrix}143 & 143 & 78\\\\151 & 135 & 82\\\\135 & 121 & 77\\end{matrix}\\right]$"
      ],
      "text/plain": [
       "Eq(A*B, Matrix([\n",
       "[143, 143, 78],\n",
       "[151, 135, 82],\n",
       "[135, 121, 77]]))"
      ]
     },
     "metadata": {},
     "output_type": "display_data"
    },
    {
     "name": "stdout",
     "output_type": "stream",
     "text": [
      "3) \n"
     ]
    },
    {
     "data": {
      "text/latex": [
       "$\\displaystyle |AB| = -8424$"
      ],
      "text/plain": [
       "Eq(|AB|, -8424)"
      ]
     },
     "metadata": {},
     "output_type": "display_data"
    },
    {
     "name": "stdout",
     "output_type": "stream",
     "text": [
      "\n",
      "\n",
      "\n",
      "\n",
      "        for copy/pasting for 3rd party calculators to learn the steps:\n",
      "Differentiate: sqrt(x)/(3 - 4*x)\n",
      "Integrate: sqrt(z) - 3*z**4\n",
      "------------------------------------------------------------------------------------------------------\n",
      "1)\n"
     ]
    },
    {
     "data": {
      "text/latex": [
       "$\\displaystyle \\frac{d}{d x} \\frac{\\sqrt{x}}{3 - 4 x} = ?$"
      ],
      "text/plain": [
       "Eq(Derivative(sqrt(x)/(3 - 4*x), x), ?)"
      ]
     },
     "metadata": {},
     "output_type": "display_data"
    },
    {
     "data": {
      "text/latex": [
       "$\\displaystyle \\int \\left(\\sqrt{z} - 3 z^{4}\\right)\\, dz = ?$"
      ],
      "text/plain": [
       "Eq(Integral(sqrt(z) - 3*z**4, z), ?)"
      ]
     },
     "metadata": {},
     "output_type": "display_data"
    },
    {
     "name": "stdout",
     "output_type": "stream",
     "text": [
      "2) Multiply these two matrices:\n"
     ]
    },
    {
     "data": {
      "text/latex": [
       "$\\displaystyle A = \\left[\\begin{matrix}9 & 5\\\\7 & 4\\end{matrix}\\right]$"
      ],
      "text/plain": [
       "Eq(A, Matrix([\n",
       "[9, 5],\n",
       "[7, 4]]))"
      ]
     },
     "metadata": {},
     "output_type": "display_data"
    },
    {
     "data": {
      "text/latex": [
       "$\\displaystyle B = \\left[\\begin{matrix}9 & 1\\\\6 & 7\\end{matrix}\\right]$"
      ],
      "text/plain": [
       "Eq(B, Matrix([\n",
       "[9, 1],\n",
       "[6, 7]]))"
      ]
     },
     "metadata": {},
     "output_type": "display_data"
    },
    {
     "name": "stdout",
     "output_type": "stream",
     "text": [
      "3) Calculate the determinate of matrix AB denoted |AB|.\n",
      "\n",
      "\n",
      "\n",
      "\n",
      "\n",
      "\n",
      "\n",
      "\n",
      "\n",
      "\n",
      "Possible answers:\n",
      "1)\n"
     ]
    },
    {
     "data": {
      "text/latex": [
       "$\\displaystyle \\frac{d}{d x} \\frac{\\sqrt{x}}{3 - 4 x} = \\frac{4 \\sqrt{x}}{\\left(3 - 4 x\\right)^{2}} + \\frac{1}{2 \\sqrt{x} \\left(3 - 4 x\\right)}$"
      ],
      "text/plain": [
       "Eq(Derivative(sqrt(x)/(3 - 4*x), x), 4*sqrt(x)/(3 - 4*x)**2 + 1/(2*sqrt(x)*(3 - 4*x)))"
      ]
     },
     "metadata": {},
     "output_type": "display_data"
    },
    {
     "data": {
      "text/latex": [
       "$\\displaystyle \\int \\left(\\sqrt{z} - 3 z^{4}\\right)\\, dz = \\frac{2 z^{\\frac{3}{2}}}{3} - \\frac{3 z^{5}}{5}$"
      ],
      "text/plain": [
       "Eq(Integral(sqrt(z) - 3*z**4, z), 2*z**(3/2)/3 - 3*z**5/5)"
      ]
     },
     "metadata": {},
     "output_type": "display_data"
    },
    {
     "name": "stdout",
     "output_type": "stream",
     "text": [
      "2)\n"
     ]
    },
    {
     "data": {
      "text/latex": [
       "$\\displaystyle A B = \\left[\\begin{matrix}111 & 44\\\\87 & 35\\end{matrix}\\right]$"
      ],
      "text/plain": [
       "Eq(A*B, Matrix([\n",
       "[111, 44],\n",
       "[ 87, 35]]))"
      ]
     },
     "metadata": {},
     "output_type": "display_data"
    },
    {
     "name": "stdout",
     "output_type": "stream",
     "text": [
      "3) \n"
     ]
    },
    {
     "data": {
      "text/latex": [
       "$\\displaystyle |AB| = 57$"
      ],
      "text/plain": [
       "Eq(|AB|, 57)"
      ]
     },
     "metadata": {},
     "output_type": "display_data"
    },
    {
     "name": "stdout",
     "output_type": "stream",
     "text": [
      "\n",
      "\n",
      "\n",
      "\n",
      "        for copy/pasting for 3rd party calculators to learn the steps:\n",
      "Differentiate: sqrt(x)/(3 - 4*x)\n",
      "Integrate: sqrt(z) - 3*z**4\n",
      "------------------------------------------------------------------------------------------------------\n",
      "1)\n"
     ]
    },
    {
     "data": {
      "text/latex": [
       "$\\displaystyle \\frac{d}{d x} \\frac{\\sqrt{x}}{3 - 4 x} = ?$"
      ],
      "text/plain": [
       "Eq(Derivative(sqrt(x)/(3 - 4*x), x), ?)"
      ]
     },
     "metadata": {},
     "output_type": "display_data"
    },
    {
     "data": {
      "text/latex": [
       "$\\displaystyle \\int \\left(\\sqrt{z} - 3 z^{4}\\right)\\, dz = ?$"
      ],
      "text/plain": [
       "Eq(Integral(sqrt(z) - 3*z**4, z), ?)"
      ]
     },
     "metadata": {},
     "output_type": "display_data"
    },
    {
     "name": "stdout",
     "output_type": "stream",
     "text": [
      "2) Multiply these two matrices:\n"
     ]
    },
    {
     "data": {
      "text/latex": [
       "$\\displaystyle A = \\left[\\begin{matrix}6 & 3\\\\5 & 5\\end{matrix}\\right]$"
      ],
      "text/plain": [
       "Eq(A, Matrix([\n",
       "[6, 3],\n",
       "[5, 5]]))"
      ]
     },
     "metadata": {},
     "output_type": "display_data"
    },
    {
     "data": {
      "text/latex": [
       "$\\displaystyle B = \\left[\\begin{matrix}6 & 1\\\\7 & 2\\end{matrix}\\right]$"
      ],
      "text/plain": [
       "Eq(B, Matrix([\n",
       "[6, 1],\n",
       "[7, 2]]))"
      ]
     },
     "metadata": {},
     "output_type": "display_data"
    },
    {
     "name": "stdout",
     "output_type": "stream",
     "text": [
      "3) Calculate the determinate of matrix AB denoted |AB|.\n",
      "\n",
      "\n",
      "\n",
      "\n",
      "\n",
      "\n",
      "\n",
      "\n",
      "\n",
      "\n",
      "Possible answers:\n",
      "1)\n"
     ]
    },
    {
     "data": {
      "text/latex": [
       "$\\displaystyle \\frac{d}{d x} \\frac{\\sqrt{x}}{3 - 4 x} = \\frac{4 \\sqrt{x}}{\\left(3 - 4 x\\right)^{2}} + \\frac{1}{2 \\sqrt{x} \\left(3 - 4 x\\right)}$"
      ],
      "text/plain": [
       "Eq(Derivative(sqrt(x)/(3 - 4*x), x), 4*sqrt(x)/(3 - 4*x)**2 + 1/(2*sqrt(x)*(3 - 4*x)))"
      ]
     },
     "metadata": {},
     "output_type": "display_data"
    },
    {
     "data": {
      "text/latex": [
       "$\\displaystyle \\int \\left(\\sqrt{z} - 3 z^{4}\\right)\\, dz = \\frac{2 z^{\\frac{3}{2}}}{3} - \\frac{3 z^{5}}{5}$"
      ],
      "text/plain": [
       "Eq(Integral(sqrt(z) - 3*z**4, z), 2*z**(3/2)/3 - 3*z**5/5)"
      ]
     },
     "metadata": {},
     "output_type": "display_data"
    },
    {
     "name": "stdout",
     "output_type": "stream",
     "text": [
      "2)\n"
     ]
    },
    {
     "data": {
      "text/latex": [
       "$\\displaystyle A B = \\left[\\begin{matrix}57 & 12\\\\65 & 15\\end{matrix}\\right]$"
      ],
      "text/plain": [
       "Eq(A*B, Matrix([\n",
       "[57, 12],\n",
       "[65, 15]]))"
      ]
     },
     "metadata": {},
     "output_type": "display_data"
    },
    {
     "name": "stdout",
     "output_type": "stream",
     "text": [
      "3) \n"
     ]
    },
    {
     "data": {
      "text/latex": [
       "$\\displaystyle |AB| = 75$"
      ],
      "text/plain": [
       "Eq(|AB|, 75)"
      ]
     },
     "metadata": {},
     "output_type": "display_data"
    },
    {
     "name": "stdout",
     "output_type": "stream",
     "text": [
      "\n",
      "\n",
      "\n",
      "\n",
      "        for copy/pasting for 3rd party calculators to learn the steps:\n",
      "Differentiate: sqrt(x)/(3 - 4*x)\n",
      "Integrate: sqrt(z) - 3*z**4\n",
      "------------------------------------------------------------------------------------------------------\n",
      "1)\n"
     ]
    },
    {
     "data": {
      "text/latex": [
       "$\\displaystyle \\frac{d}{d x} \\frac{\\sqrt{x}}{3 - 4 x} = ?$"
      ],
      "text/plain": [
       "Eq(Derivative(sqrt(x)/(3 - 4*x), x), ?)"
      ]
     },
     "metadata": {},
     "output_type": "display_data"
    },
    {
     "data": {
      "text/latex": [
       "$\\displaystyle \\int \\left(\\sqrt{z} - 3 z^{4}\\right)\\, dz = ?$"
      ],
      "text/plain": [
       "Eq(Integral(sqrt(z) - 3*z**4, z), ?)"
      ]
     },
     "metadata": {},
     "output_type": "display_data"
    },
    {
     "name": "stdout",
     "output_type": "stream",
     "text": [
      "2) Multiply these two matrices:\n"
     ]
    },
    {
     "data": {
      "text/latex": [
       "$\\displaystyle A = \\left[\\begin{matrix}2 & 10\\\\10 & 1\\end{matrix}\\right]$"
      ],
      "text/plain": [
       "Eq(A, Matrix([\n",
       "[ 2, 10],\n",
       "[10,  1]]))"
      ]
     },
     "metadata": {},
     "output_type": "display_data"
    },
    {
     "data": {
      "text/latex": [
       "$\\displaystyle B = \\left[\\begin{matrix}2 & 8\\\\7 & 0\\end{matrix}\\right]$"
      ],
      "text/plain": [
       "Eq(B, Matrix([\n",
       "[2, 8],\n",
       "[7, 0]]))"
      ]
     },
     "metadata": {},
     "output_type": "display_data"
    },
    {
     "name": "stdout",
     "output_type": "stream",
     "text": [
      "3) Calculate the determinate of matrix AB denoted |AB|.\n",
      "\n",
      "\n",
      "\n",
      "\n",
      "\n",
      "\n",
      "\n",
      "\n",
      "\n",
      "\n",
      "Possible answers:\n",
      "1)\n"
     ]
    },
    {
     "data": {
      "text/latex": [
       "$\\displaystyle \\frac{d}{d x} \\frac{\\sqrt{x}}{3 - 4 x} = \\frac{4 \\sqrt{x}}{\\left(3 - 4 x\\right)^{2}} + \\frac{1}{2 \\sqrt{x} \\left(3 - 4 x\\right)}$"
      ],
      "text/plain": [
       "Eq(Derivative(sqrt(x)/(3 - 4*x), x), 4*sqrt(x)/(3 - 4*x)**2 + 1/(2*sqrt(x)*(3 - 4*x)))"
      ]
     },
     "metadata": {},
     "output_type": "display_data"
    },
    {
     "data": {
      "text/latex": [
       "$\\displaystyle \\int \\left(\\sqrt{z} - 3 z^{4}\\right)\\, dz = \\frac{2 z^{\\frac{3}{2}}}{3} - \\frac{3 z^{5}}{5}$"
      ],
      "text/plain": [
       "Eq(Integral(sqrt(z) - 3*z**4, z), 2*z**(3/2)/3 - 3*z**5/5)"
      ]
     },
     "metadata": {},
     "output_type": "display_data"
    },
    {
     "name": "stdout",
     "output_type": "stream",
     "text": [
      "2)\n"
     ]
    },
    {
     "data": {
      "text/latex": [
       "$\\displaystyle A B = \\left[\\begin{matrix}74 & 16\\\\27 & 80\\end{matrix}\\right]$"
      ],
      "text/plain": [
       "Eq(A*B, Matrix([\n",
       "[74, 16],\n",
       "[27, 80]]))"
      ]
     },
     "metadata": {},
     "output_type": "display_data"
    },
    {
     "name": "stdout",
     "output_type": "stream",
     "text": [
      "3) \n"
     ]
    },
    {
     "data": {
      "text/latex": [
       "$\\displaystyle |AB| = 5488$"
      ],
      "text/plain": [
       "Eq(|AB|, 5488)"
      ]
     },
     "metadata": {},
     "output_type": "display_data"
    },
    {
     "name": "stdout",
     "output_type": "stream",
     "text": [
      "\n",
      "\n",
      "\n",
      "\n",
      "        for copy/pasting for 3rd party calculators to learn the steps:\n",
      "Differentiate: sqrt(x)/(3 - 4*x)\n",
      "Integrate: sqrt(z) - 3*z**4\n",
      "------------------------------------------------------------------------------------------------------\n",
      "1)\n"
     ]
    },
    {
     "data": {
      "text/latex": [
       "$\\displaystyle \\frac{d}{d x} \\frac{\\sqrt{x}}{3 - 4 x} = ?$"
      ],
      "text/plain": [
       "Eq(Derivative(sqrt(x)/(3 - 4*x), x), ?)"
      ]
     },
     "metadata": {},
     "output_type": "display_data"
    },
    {
     "data": {
      "text/latex": [
       "$\\displaystyle \\int \\left(\\sqrt{z} - 3 z^{4}\\right)\\, dz = ?$"
      ],
      "text/plain": [
       "Eq(Integral(sqrt(z) - 3*z**4, z), ?)"
      ]
     },
     "metadata": {},
     "output_type": "display_data"
    },
    {
     "name": "stdout",
     "output_type": "stream",
     "text": [
      "2) Multiply these two matrices:\n"
     ]
    },
    {
     "data": {
      "text/latex": [
       "$\\displaystyle A = \\left[\\begin{matrix}2 & 6 & 4\\\\1 & 5 & 6\\\\1 & 6 & 3\\end{matrix}\\right]$"
      ],
      "text/plain": [
       "Eq(A, Matrix([\n",
       "[2, 6, 4],\n",
       "[1, 5, 6],\n",
       "[1, 6, 3]]))"
      ]
     },
     "metadata": {},
     "output_type": "display_data"
    },
    {
     "data": {
      "text/latex": [
       "$\\displaystyle B = \\left[\\begin{matrix}1 & 2 & 9\\\\9 & 10 & 1\\\\10 & 7 & 9\\end{matrix}\\right]$"
      ],
      "text/plain": [
       "Eq(B, Matrix([\n",
       "[ 1,  2, 9],\n",
       "[ 9, 10, 1],\n",
       "[10,  7, 9]]))"
      ]
     },
     "metadata": {},
     "output_type": "display_data"
    },
    {
     "name": "stdout",
     "output_type": "stream",
     "text": [
      "3) Calculate the determinate of matrix AB denoted |AB|.\n",
      "\n",
      "\n",
      "\n",
      "\n",
      "\n",
      "\n",
      "\n",
      "\n",
      "\n",
      "\n",
      "Possible answers:\n",
      "1)\n"
     ]
    },
    {
     "data": {
      "text/latex": [
       "$\\displaystyle \\frac{d}{d x} \\frac{\\sqrt{x}}{3 - 4 x} = \\frac{4 \\sqrt{x}}{\\left(3 - 4 x\\right)^{2}} + \\frac{1}{2 \\sqrt{x} \\left(3 - 4 x\\right)}$"
      ],
      "text/plain": [
       "Eq(Derivative(sqrt(x)/(3 - 4*x), x), 4*sqrt(x)/(3 - 4*x)**2 + 1/(2*sqrt(x)*(3 - 4*x)))"
      ]
     },
     "metadata": {},
     "output_type": "display_data"
    },
    {
     "data": {
      "text/latex": [
       "$\\displaystyle \\int \\left(\\sqrt{z} - 3 z^{4}\\right)\\, dz = \\frac{2 z^{\\frac{3}{2}}}{3} - \\frac{3 z^{5}}{5}$"
      ],
      "text/plain": [
       "Eq(Integral(sqrt(z) - 3*z**4, z), 2*z**(3/2)/3 - 3*z**5/5)"
      ]
     },
     "metadata": {},
     "output_type": "display_data"
    },
    {
     "name": "stdout",
     "output_type": "stream",
     "text": [
      "2)\n"
     ]
    },
    {
     "data": {
      "text/latex": [
       "$\\displaystyle A B = \\left[\\begin{matrix}96 & 92 & 60\\\\106 & 94 & 68\\\\85 & 83 & 42\\end{matrix}\\right]$"
      ],
      "text/plain": [
       "Eq(A*B, Matrix([\n",
       "[ 96, 92, 60],\n",
       "[106, 94, 68],\n",
       "[ 85, 83, 42]]))"
      ]
     },
     "metadata": {},
     "output_type": "display_data"
    },
    {
     "name": "stdout",
     "output_type": "stream",
     "text": [
      "3) \n"
     ]
    },
    {
     "data": {
      "text/latex": [
       "$\\displaystyle |AB| = 7840$"
      ],
      "text/plain": [
       "Eq(|AB|, 7840)"
      ]
     },
     "metadata": {},
     "output_type": "display_data"
    },
    {
     "name": "stdout",
     "output_type": "stream",
     "text": [
      "\n",
      "\n",
      "\n",
      "\n",
      "        for copy/pasting for 3rd party calculators to learn the steps:\n",
      "Differentiate: sqrt(x)/(3 - 4*x)\n",
      "Integrate: sqrt(z) - 3*z**4\n",
      "------------------------------------------------------------------------------------------------------\n",
      "1)\n"
     ]
    },
    {
     "data": {
      "text/latex": [
       "$\\displaystyle \\frac{d}{d x} \\frac{\\sqrt{x}}{3 - 4 x} = ?$"
      ],
      "text/plain": [
       "Eq(Derivative(sqrt(x)/(3 - 4*x), x), ?)"
      ]
     },
     "metadata": {},
     "output_type": "display_data"
    },
    {
     "data": {
      "text/latex": [
       "$\\displaystyle \\int \\left(\\sqrt{z} - 3 z^{4}\\right)\\, dz = ?$"
      ],
      "text/plain": [
       "Eq(Integral(sqrt(z) - 3*z**4, z), ?)"
      ]
     },
     "metadata": {},
     "output_type": "display_data"
    },
    {
     "name": "stdout",
     "output_type": "stream",
     "text": [
      "2) Multiply these two matrices:\n"
     ]
    },
    {
     "data": {
      "text/latex": [
       "$\\displaystyle A = \\left[\\begin{matrix}9 & 1\\\\7 & 6\\end{matrix}\\right]$"
      ],
      "text/plain": [
       "Eq(A, Matrix([\n",
       "[9, 1],\n",
       "[7, 6]]))"
      ]
     },
     "metadata": {},
     "output_type": "display_data"
    },
    {
     "data": {
      "text/latex": [
       "$\\displaystyle B = \\left[\\begin{matrix}7 & 10\\\\5 & 8\\end{matrix}\\right]$"
      ],
      "text/plain": [
       "Eq(B, Matrix([\n",
       "[7, 10],\n",
       "[5,  8]]))"
      ]
     },
     "metadata": {},
     "output_type": "display_data"
    },
    {
     "name": "stdout",
     "output_type": "stream",
     "text": [
      "3) Calculate the determinate of matrix AB denoted |AB|.\n",
      "\n",
      "\n",
      "\n",
      "\n",
      "\n",
      "\n",
      "\n",
      "\n",
      "\n",
      "\n",
      "Possible answers:\n",
      "1)\n"
     ]
    },
    {
     "data": {
      "text/latex": [
       "$\\displaystyle \\frac{d}{d x} \\frac{\\sqrt{x}}{3 - 4 x} = \\frac{4 \\sqrt{x}}{\\left(3 - 4 x\\right)^{2}} + \\frac{1}{2 \\sqrt{x} \\left(3 - 4 x\\right)}$"
      ],
      "text/plain": [
       "Eq(Derivative(sqrt(x)/(3 - 4*x), x), 4*sqrt(x)/(3 - 4*x)**2 + 1/(2*sqrt(x)*(3 - 4*x)))"
      ]
     },
     "metadata": {},
     "output_type": "display_data"
    },
    {
     "data": {
      "text/latex": [
       "$\\displaystyle \\int \\left(\\sqrt{z} - 3 z^{4}\\right)\\, dz = \\frac{2 z^{\\frac{3}{2}}}{3} - \\frac{3 z^{5}}{5}$"
      ],
      "text/plain": [
       "Eq(Integral(sqrt(z) - 3*z**4, z), 2*z**(3/2)/3 - 3*z**5/5)"
      ]
     },
     "metadata": {},
     "output_type": "display_data"
    },
    {
     "name": "stdout",
     "output_type": "stream",
     "text": [
      "2)\n"
     ]
    },
    {
     "data": {
      "text/latex": [
       "$\\displaystyle A B = \\left[\\begin{matrix}68 & 98\\\\79 & 118\\end{matrix}\\right]$"
      ],
      "text/plain": [
       "Eq(A*B, Matrix([\n",
       "[68,  98],\n",
       "[79, 118]]))"
      ]
     },
     "metadata": {},
     "output_type": "display_data"
    },
    {
     "name": "stdout",
     "output_type": "stream",
     "text": [
      "3) \n"
     ]
    },
    {
     "data": {
      "text/latex": [
       "$\\displaystyle |AB| = 282$"
      ],
      "text/plain": [
       "Eq(|AB|, 282)"
      ]
     },
     "metadata": {},
     "output_type": "display_data"
    },
    {
     "name": "stdout",
     "output_type": "stream",
     "text": [
      "\n",
      "\n",
      "\n",
      "\n",
      "        for copy/pasting for 3rd party calculators to learn the steps:\n",
      "Differentiate: sqrt(x)/(3 - 4*x)\n",
      "Integrate: sqrt(z) - 3*z**4\n",
      "------------------------------------------------------------------------------------------------------\n",
      "1)\n"
     ]
    },
    {
     "data": {
      "text/latex": [
       "$\\displaystyle \\frac{d}{d x} \\frac{\\sqrt{x}}{3 - 4 x} = ?$"
      ],
      "text/plain": [
       "Eq(Derivative(sqrt(x)/(3 - 4*x), x), ?)"
      ]
     },
     "metadata": {},
     "output_type": "display_data"
    },
    {
     "data": {
      "text/latex": [
       "$\\displaystyle \\int \\left(\\sqrt{z} - 3 z^{4}\\right)\\, dz = ?$"
      ],
      "text/plain": [
       "Eq(Integral(sqrt(z) - 3*z**4, z), ?)"
      ]
     },
     "metadata": {},
     "output_type": "display_data"
    },
    {
     "name": "stdout",
     "output_type": "stream",
     "text": [
      "2) Multiply these two matrices:\n"
     ]
    },
    {
     "data": {
      "text/latex": [
       "$\\displaystyle A = \\left[\\begin{matrix}7 & 1\\\\8 & 0\\end{matrix}\\right]$"
      ],
      "text/plain": [
       "Eq(A, Matrix([\n",
       "[7, 1],\n",
       "[8, 0]]))"
      ]
     },
     "metadata": {},
     "output_type": "display_data"
    },
    {
     "data": {
      "text/latex": [
       "$\\displaystyle B = \\left[\\begin{matrix}1 & 6\\\\6 & 3\\end{matrix}\\right]$"
      ],
      "text/plain": [
       "Eq(B, Matrix([\n",
       "[1, 6],\n",
       "[6, 3]]))"
      ]
     },
     "metadata": {},
     "output_type": "display_data"
    },
    {
     "name": "stdout",
     "output_type": "stream",
     "text": [
      "3) Calculate the determinate of matrix AB denoted |AB|.\n",
      "\n",
      "\n",
      "\n",
      "\n",
      "\n",
      "\n",
      "\n",
      "\n",
      "\n",
      "\n",
      "Possible answers:\n",
      "1)\n"
     ]
    },
    {
     "data": {
      "text/latex": [
       "$\\displaystyle \\frac{d}{d x} \\frac{\\sqrt{x}}{3 - 4 x} = \\frac{4 \\sqrt{x}}{\\left(3 - 4 x\\right)^{2}} + \\frac{1}{2 \\sqrt{x} \\left(3 - 4 x\\right)}$"
      ],
      "text/plain": [
       "Eq(Derivative(sqrt(x)/(3 - 4*x), x), 4*sqrt(x)/(3 - 4*x)**2 + 1/(2*sqrt(x)*(3 - 4*x)))"
      ]
     },
     "metadata": {},
     "output_type": "display_data"
    },
    {
     "data": {
      "text/latex": [
       "$\\displaystyle \\int \\left(\\sqrt{z} - 3 z^{4}\\right)\\, dz = \\frac{2 z^{\\frac{3}{2}}}{3} - \\frac{3 z^{5}}{5}$"
      ],
      "text/plain": [
       "Eq(Integral(sqrt(z) - 3*z**4, z), 2*z**(3/2)/3 - 3*z**5/5)"
      ]
     },
     "metadata": {},
     "output_type": "display_data"
    },
    {
     "name": "stdout",
     "output_type": "stream",
     "text": [
      "2)\n"
     ]
    },
    {
     "data": {
      "text/latex": [
       "$\\displaystyle A B = \\left[\\begin{matrix}13 & 45\\\\8 & 48\\end{matrix}\\right]$"
      ],
      "text/plain": [
       "Eq(A*B, Matrix([\n",
       "[13, 45],\n",
       "[ 8, 48]]))"
      ]
     },
     "metadata": {},
     "output_type": "display_data"
    },
    {
     "name": "stdout",
     "output_type": "stream",
     "text": [
      "3) \n"
     ]
    },
    {
     "data": {
      "text/latex": [
       "$\\displaystyle |AB| = 264$"
      ],
      "text/plain": [
       "Eq(|AB|, 264)"
      ]
     },
     "metadata": {},
     "output_type": "display_data"
    },
    {
     "name": "stdout",
     "output_type": "stream",
     "text": [
      "\n",
      "\n",
      "\n",
      "\n",
      "        for copy/pasting for 3rd party calculators to learn the steps:\n",
      "Differentiate: sqrt(x)/(3 - 4*x)\n",
      "Integrate: sqrt(z) - 3*z**4\n",
      "------------------------------------------------------------------------------------------------------\n",
      "1)\n"
     ]
    },
    {
     "data": {
      "text/latex": [
       "$\\displaystyle \\frac{d}{d x} \\frac{\\sqrt{x}}{3 - 4 x} = ?$"
      ],
      "text/plain": [
       "Eq(Derivative(sqrt(x)/(3 - 4*x), x), ?)"
      ]
     },
     "metadata": {},
     "output_type": "display_data"
    },
    {
     "data": {
      "text/latex": [
       "$\\displaystyle \\int \\left(\\sqrt{z} - 3 z^{4}\\right)\\, dz = ?$"
      ],
      "text/plain": [
       "Eq(Integral(sqrt(z) - 3*z**4, z), ?)"
      ]
     },
     "metadata": {},
     "output_type": "display_data"
    },
    {
     "name": "stdout",
     "output_type": "stream",
     "text": [
      "2) Multiply these two matrices:\n"
     ]
    },
    {
     "data": {
      "text/latex": [
       "$\\displaystyle A = \\left[\\begin{matrix}7 & 3 & 0\\\\2 & 4 & 0\\\\7 & 7 & 1\\end{matrix}\\right]$"
      ],
      "text/plain": [
       "Eq(A, Matrix([\n",
       "[7, 3, 0],\n",
       "[2, 4, 0],\n",
       "[7, 7, 1]]))"
      ]
     },
     "metadata": {},
     "output_type": "display_data"
    },
    {
     "data": {
      "text/latex": [
       "$\\displaystyle B = \\left[\\begin{matrix}0 & 7 & 3\\\\4 & 0 & 3\\\\9 & 6 & 3\\end{matrix}\\right]$"
      ],
      "text/plain": [
       "Eq(B, Matrix([\n",
       "[0, 7, 3],\n",
       "[4, 0, 3],\n",
       "[9, 6, 3]]))"
      ]
     },
     "metadata": {},
     "output_type": "display_data"
    },
    {
     "name": "stdout",
     "output_type": "stream",
     "text": [
      "3) Calculate the determinate of matrix AB denoted |AB|.\n",
      "\n",
      "\n",
      "\n",
      "\n",
      "\n",
      "\n",
      "\n",
      "\n",
      "\n",
      "\n",
      "Possible answers:\n",
      "1)\n"
     ]
    },
    {
     "data": {
      "text/latex": [
       "$\\displaystyle \\frac{d}{d x} \\frac{\\sqrt{x}}{3 - 4 x} = \\frac{4 \\sqrt{x}}{\\left(3 - 4 x\\right)^{2}} + \\frac{1}{2 \\sqrt{x} \\left(3 - 4 x\\right)}$"
      ],
      "text/plain": [
       "Eq(Derivative(sqrt(x)/(3 - 4*x), x), 4*sqrt(x)/(3 - 4*x)**2 + 1/(2*sqrt(x)*(3 - 4*x)))"
      ]
     },
     "metadata": {},
     "output_type": "display_data"
    },
    {
     "data": {
      "text/latex": [
       "$\\displaystyle \\int \\left(\\sqrt{z} - 3 z^{4}\\right)\\, dz = \\frac{2 z^{\\frac{3}{2}}}{3} - \\frac{3 z^{5}}{5}$"
      ],
      "text/plain": [
       "Eq(Integral(sqrt(z) - 3*z**4, z), 2*z**(3/2)/3 - 3*z**5/5)"
      ]
     },
     "metadata": {},
     "output_type": "display_data"
    },
    {
     "name": "stdout",
     "output_type": "stream",
     "text": [
      "2)\n"
     ]
    },
    {
     "data": {
      "text/latex": [
       "$\\displaystyle A B = \\left[\\begin{matrix}12 & 49 & 30\\\\16 & 14 & 18\\\\37 & 55 & 45\\end{matrix}\\right]$"
      ],
      "text/plain": [
       "Eq(A*B, Matrix([\n",
       "[12, 49, 30],\n",
       "[16, 14, 18],\n",
       "[37, 55, 45]]))"
      ]
     },
     "metadata": {},
     "output_type": "display_data"
    },
    {
     "name": "stdout",
     "output_type": "stream",
     "text": [
      "3) \n"
     ]
    },
    {
     "data": {
      "text/latex": [
       "$\\displaystyle |AB| = 3894$"
      ],
      "text/plain": [
       "Eq(|AB|, 3894)"
      ]
     },
     "metadata": {},
     "output_type": "display_data"
    },
    {
     "name": "stdout",
     "output_type": "stream",
     "text": [
      "\n",
      "\n",
      "\n",
      "\n",
      "        for copy/pasting for 3rd party calculators to learn the steps:\n",
      "Differentiate: sqrt(x)/(3 - 4*x)\n",
      "Integrate: sqrt(z) - 3*z**4\n",
      "------------------------------------------------------------------------------------------------------\n",
      "1)\n"
     ]
    },
    {
     "data": {
      "text/latex": [
       "$\\displaystyle \\frac{d}{d x} \\frac{\\sqrt{x}}{3 - 4 x} = ?$"
      ],
      "text/plain": [
       "Eq(Derivative(sqrt(x)/(3 - 4*x), x), ?)"
      ]
     },
     "metadata": {},
     "output_type": "display_data"
    },
    {
     "data": {
      "text/latex": [
       "$\\displaystyle \\int \\left(\\sqrt{z} - 3 z^{4}\\right)\\, dz = ?$"
      ],
      "text/plain": [
       "Eq(Integral(sqrt(z) - 3*z**4, z), ?)"
      ]
     },
     "metadata": {},
     "output_type": "display_data"
    },
    {
     "name": "stdout",
     "output_type": "stream",
     "text": [
      "2) Multiply these two matrices:\n"
     ]
    },
    {
     "data": {
      "text/latex": [
       "$\\displaystyle A = \\left[\\begin{matrix}5 & 10\\\\6 & 1\\end{matrix}\\right]$"
      ],
      "text/plain": [
       "Eq(A, Matrix([\n",
       "[5, 10],\n",
       "[6,  1]]))"
      ]
     },
     "metadata": {},
     "output_type": "display_data"
    },
    {
     "data": {
      "text/latex": [
       "$\\displaystyle B = \\left[\\begin{matrix}2 & 4\\\\4 & 10\\end{matrix}\\right]$"
      ],
      "text/plain": [
       "Eq(B, Matrix([\n",
       "[2,  4],\n",
       "[4, 10]]))"
      ]
     },
     "metadata": {},
     "output_type": "display_data"
    },
    {
     "name": "stdout",
     "output_type": "stream",
     "text": [
      "3) Calculate the determinate of matrix AB denoted |AB|.\n",
      "\n",
      "\n",
      "\n",
      "\n",
      "\n",
      "\n",
      "\n",
      "\n",
      "\n",
      "\n",
      "Possible answers:\n",
      "1)\n"
     ]
    },
    {
     "data": {
      "text/latex": [
       "$\\displaystyle \\frac{d}{d x} \\frac{\\sqrt{x}}{3 - 4 x} = \\frac{4 \\sqrt{x}}{\\left(3 - 4 x\\right)^{2}} + \\frac{1}{2 \\sqrt{x} \\left(3 - 4 x\\right)}$"
      ],
      "text/plain": [
       "Eq(Derivative(sqrt(x)/(3 - 4*x), x), 4*sqrt(x)/(3 - 4*x)**2 + 1/(2*sqrt(x)*(3 - 4*x)))"
      ]
     },
     "metadata": {},
     "output_type": "display_data"
    },
    {
     "data": {
      "text/latex": [
       "$\\displaystyle \\int \\left(\\sqrt{z} - 3 z^{4}\\right)\\, dz = \\frac{2 z^{\\frac{3}{2}}}{3} - \\frac{3 z^{5}}{5}$"
      ],
      "text/plain": [
       "Eq(Integral(sqrt(z) - 3*z**4, z), 2*z**(3/2)/3 - 3*z**5/5)"
      ]
     },
     "metadata": {},
     "output_type": "display_data"
    },
    {
     "name": "stdout",
     "output_type": "stream",
     "text": [
      "2)\n"
     ]
    },
    {
     "data": {
      "text/latex": [
       "$\\displaystyle A B = \\left[\\begin{matrix}50 & 120\\\\16 & 34\\end{matrix}\\right]$"
      ],
      "text/plain": [
       "Eq(A*B, Matrix([\n",
       "[50, 120],\n",
       "[16,  34]]))"
      ]
     },
     "metadata": {},
     "output_type": "display_data"
    },
    {
     "name": "stdout",
     "output_type": "stream",
     "text": [
      "3) \n"
     ]
    },
    {
     "data": {
      "text/latex": [
       "$\\displaystyle |AB| = -220$"
      ],
      "text/plain": [
       "Eq(|AB|, -220)"
      ]
     },
     "metadata": {},
     "output_type": "display_data"
    },
    {
     "name": "stdout",
     "output_type": "stream",
     "text": [
      "\n",
      "\n",
      "\n",
      "\n",
      "        for copy/pasting for 3rd party calculators to learn the steps:\n",
      "Differentiate: sqrt(x)/(3 - 4*x)\n",
      "Integrate: sqrt(z) - 3*z**4\n",
      "------------------------------------------------------------------------------------------------------\n",
      "1)\n"
     ]
    },
    {
     "data": {
      "text/latex": [
       "$\\displaystyle \\frac{d}{d x} \\frac{\\sqrt{x}}{3 - 4 x} = ?$"
      ],
      "text/plain": [
       "Eq(Derivative(sqrt(x)/(3 - 4*x), x), ?)"
      ]
     },
     "metadata": {},
     "output_type": "display_data"
    },
    {
     "data": {
      "text/latex": [
       "$\\displaystyle \\int \\left(\\sqrt{z} - 3 z^{4}\\right)\\, dz = ?$"
      ],
      "text/plain": [
       "Eq(Integral(sqrt(z) - 3*z**4, z), ?)"
      ]
     },
     "metadata": {},
     "output_type": "display_data"
    },
    {
     "name": "stdout",
     "output_type": "stream",
     "text": [
      "2) Multiply these two matrices:\n"
     ]
    },
    {
     "data": {
      "text/latex": [
       "$\\displaystyle A = \\left[\\begin{matrix}5 & 3\\\\6 & 2\\end{matrix}\\right]$"
      ],
      "text/plain": [
       "Eq(A, Matrix([\n",
       "[5, 3],\n",
       "[6, 2]]))"
      ]
     },
     "metadata": {},
     "output_type": "display_data"
    },
    {
     "data": {
      "text/latex": [
       "$\\displaystyle B = \\left[\\begin{matrix}3 & 5\\\\7 & 0\\end{matrix}\\right]$"
      ],
      "text/plain": [
       "Eq(B, Matrix([\n",
       "[3, 5],\n",
       "[7, 0]]))"
      ]
     },
     "metadata": {},
     "output_type": "display_data"
    },
    {
     "name": "stdout",
     "output_type": "stream",
     "text": [
      "3) Calculate the determinate of matrix AB denoted |AB|.\n",
      "\n",
      "\n",
      "\n",
      "\n",
      "\n",
      "\n",
      "\n",
      "\n",
      "\n",
      "\n",
      "Possible answers:\n",
      "1)\n"
     ]
    },
    {
     "data": {
      "text/latex": [
       "$\\displaystyle \\frac{d}{d x} \\frac{\\sqrt{x}}{3 - 4 x} = \\frac{4 \\sqrt{x}}{\\left(3 - 4 x\\right)^{2}} + \\frac{1}{2 \\sqrt{x} \\left(3 - 4 x\\right)}$"
      ],
      "text/plain": [
       "Eq(Derivative(sqrt(x)/(3 - 4*x), x), 4*sqrt(x)/(3 - 4*x)**2 + 1/(2*sqrt(x)*(3 - 4*x)))"
      ]
     },
     "metadata": {},
     "output_type": "display_data"
    },
    {
     "data": {
      "text/latex": [
       "$\\displaystyle \\int \\left(\\sqrt{z} - 3 z^{4}\\right)\\, dz = \\frac{2 z^{\\frac{3}{2}}}{3} - \\frac{3 z^{5}}{5}$"
      ],
      "text/plain": [
       "Eq(Integral(sqrt(z) - 3*z**4, z), 2*z**(3/2)/3 - 3*z**5/5)"
      ]
     },
     "metadata": {},
     "output_type": "display_data"
    },
    {
     "name": "stdout",
     "output_type": "stream",
     "text": [
      "2)\n"
     ]
    },
    {
     "data": {
      "text/latex": [
       "$\\displaystyle A B = \\left[\\begin{matrix}36 & 25\\\\32 & 30\\end{matrix}\\right]$"
      ],
      "text/plain": [
       "Eq(A*B, Matrix([\n",
       "[36, 25],\n",
       "[32, 30]]))"
      ]
     },
     "metadata": {},
     "output_type": "display_data"
    },
    {
     "name": "stdout",
     "output_type": "stream",
     "text": [
      "3) \n"
     ]
    },
    {
     "data": {
      "text/latex": [
       "$\\displaystyle |AB| = 280$"
      ],
      "text/plain": [
       "Eq(|AB|, 280)"
      ]
     },
     "metadata": {},
     "output_type": "display_data"
    },
    {
     "name": "stdout",
     "output_type": "stream",
     "text": [
      "\n",
      "\n",
      "\n",
      "\n",
      "        for copy/pasting for 3rd party calculators to learn the steps:\n",
      "Differentiate: sqrt(x)/(3 - 4*x)\n",
      "Integrate: sqrt(z) - 3*z**4\n",
      "------------------------------------------------------------------------------------------------------\n",
      "1)\n"
     ]
    },
    {
     "data": {
      "text/latex": [
       "$\\displaystyle \\frac{d}{d x} \\frac{\\sqrt{x}}{3 - 4 x} = ?$"
      ],
      "text/plain": [
       "Eq(Derivative(sqrt(x)/(3 - 4*x), x), ?)"
      ]
     },
     "metadata": {},
     "output_type": "display_data"
    },
    {
     "data": {
      "text/latex": [
       "$\\displaystyle \\int \\left(\\sqrt{z} - 3 z^{4}\\right)\\, dz = ?$"
      ],
      "text/plain": [
       "Eq(Integral(sqrt(z) - 3*z**4, z), ?)"
      ]
     },
     "metadata": {},
     "output_type": "display_data"
    },
    {
     "name": "stdout",
     "output_type": "stream",
     "text": [
      "2) Multiply these two matrices:\n"
     ]
    },
    {
     "data": {
      "text/latex": [
       "$\\displaystyle A = \\left[\\begin{matrix}0 & 7 & 3\\\\5 & 1 & 10\\\\3 & 10 & 2\\end{matrix}\\right]$"
      ],
      "text/plain": [
       "Eq(A, Matrix([\n",
       "[0,  7,  3],\n",
       "[5,  1, 10],\n",
       "[3, 10,  2]]))"
      ]
     },
     "metadata": {},
     "output_type": "display_data"
    },
    {
     "data": {
      "text/latex": [
       "$\\displaystyle B = \\left[\\begin{matrix}4 & 8 & 6\\\\5 & 3 & 0\\\\3 & 3 & 7\\end{matrix}\\right]$"
      ],
      "text/plain": [
       "Eq(B, Matrix([\n",
       "[4, 8, 6],\n",
       "[5, 3, 0],\n",
       "[3, 3, 7]]))"
      ]
     },
     "metadata": {},
     "output_type": "display_data"
    },
    {
     "name": "stdout",
     "output_type": "stream",
     "text": [
      "3) Calculate the determinate of matrix AB denoted |AB|.\n",
      "\n",
      "\n",
      "\n",
      "\n",
      "\n",
      "\n",
      "\n",
      "\n",
      "\n",
      "\n",
      "Possible answers:\n",
      "1)\n"
     ]
    },
    {
     "data": {
      "text/latex": [
       "$\\displaystyle \\frac{d}{d x} \\frac{\\sqrt{x}}{3 - 4 x} = \\frac{4 \\sqrt{x}}{\\left(3 - 4 x\\right)^{2}} + \\frac{1}{2 \\sqrt{x} \\left(3 - 4 x\\right)}$"
      ],
      "text/plain": [
       "Eq(Derivative(sqrt(x)/(3 - 4*x), x), 4*sqrt(x)/(3 - 4*x)**2 + 1/(2*sqrt(x)*(3 - 4*x)))"
      ]
     },
     "metadata": {},
     "output_type": "display_data"
    },
    {
     "data": {
      "text/latex": [
       "$\\displaystyle \\int \\left(\\sqrt{z} - 3 z^{4}\\right)\\, dz = \\frac{2 z^{\\frac{3}{2}}}{3} - \\frac{3 z^{5}}{5}$"
      ],
      "text/plain": [
       "Eq(Integral(sqrt(z) - 3*z**4, z), 2*z**(3/2)/3 - 3*z**5/5)"
      ]
     },
     "metadata": {},
     "output_type": "display_data"
    },
    {
     "name": "stdout",
     "output_type": "stream",
     "text": [
      "2)\n"
     ]
    },
    {
     "data": {
      "text/latex": [
       "$\\displaystyle A B = \\left[\\begin{matrix}44 & 30 & 21\\\\55 & 73 & 100\\\\68 & 60 & 32\\end{matrix}\\right]$"
      ],
      "text/plain": [
       "Eq(A*B, Matrix([\n",
       "[44, 30,  21],\n",
       "[55, 73, 100],\n",
       "[68, 60,  32]]))"
      ]
     },
     "metadata": {},
     "output_type": "display_data"
    },
    {
     "name": "stdout",
     "output_type": "stream",
     "text": [
      "3) \n"
     ]
    },
    {
     "data": {
      "text/latex": [
       "$\\displaystyle |AB| = -44960$"
      ],
      "text/plain": [
       "Eq(|AB|, -44960)"
      ]
     },
     "metadata": {},
     "output_type": "display_data"
    },
    {
     "name": "stdout",
     "output_type": "stream",
     "text": [
      "\n",
      "\n",
      "\n",
      "\n",
      "        for copy/pasting for 3rd party calculators to learn the steps:\n",
      "Differentiate: sqrt(x)/(3 - 4*x)\n",
      "Integrate: sqrt(z) - 3*z**4\n",
      "------------------------------------------------------------------------------------------------------\n",
      "1)\n"
     ]
    },
    {
     "data": {
      "text/latex": [
       "$\\displaystyle \\frac{d}{d x} \\frac{\\sqrt{x}}{3 - 4 x} = ?$"
      ],
      "text/plain": [
       "Eq(Derivative(sqrt(x)/(3 - 4*x), x), ?)"
      ]
     },
     "metadata": {},
     "output_type": "display_data"
    },
    {
     "data": {
      "text/latex": [
       "$\\displaystyle \\int \\left(\\sqrt{z} - 3 z^{4}\\right)\\, dz = ?$"
      ],
      "text/plain": [
       "Eq(Integral(sqrt(z) - 3*z**4, z), ?)"
      ]
     },
     "metadata": {},
     "output_type": "display_data"
    },
    {
     "name": "stdout",
     "output_type": "stream",
     "text": [
      "2) Multiply these two matrices:\n"
     ]
    },
    {
     "data": {
      "text/latex": [
       "$\\displaystyle A = \\left[\\begin{matrix}0 & 5\\\\8 & 5\\end{matrix}\\right]$"
      ],
      "text/plain": [
       "Eq(A, Matrix([\n",
       "[0, 5],\n",
       "[8, 5]]))"
      ]
     },
     "metadata": {},
     "output_type": "display_data"
    },
    {
     "data": {
      "text/latex": [
       "$\\displaystyle B = \\left[\\begin{matrix}10 & 4\\\\0 & 3\\end{matrix}\\right]$"
      ],
      "text/plain": [
       "Eq(B, Matrix([\n",
       "[10, 4],\n",
       "[ 0, 3]]))"
      ]
     },
     "metadata": {},
     "output_type": "display_data"
    },
    {
     "name": "stdout",
     "output_type": "stream",
     "text": [
      "3) Calculate the determinate of matrix AB denoted |AB|.\n",
      "\n",
      "\n",
      "\n",
      "\n",
      "\n",
      "\n",
      "\n",
      "\n",
      "\n",
      "\n",
      "Possible answers:\n",
      "1)\n"
     ]
    },
    {
     "data": {
      "text/latex": [
       "$\\displaystyle \\frac{d}{d x} \\frac{\\sqrt{x}}{3 - 4 x} = \\frac{4 \\sqrt{x}}{\\left(3 - 4 x\\right)^{2}} + \\frac{1}{2 \\sqrt{x} \\left(3 - 4 x\\right)}$"
      ],
      "text/plain": [
       "Eq(Derivative(sqrt(x)/(3 - 4*x), x), 4*sqrt(x)/(3 - 4*x)**2 + 1/(2*sqrt(x)*(3 - 4*x)))"
      ]
     },
     "metadata": {},
     "output_type": "display_data"
    },
    {
     "data": {
      "text/latex": [
       "$\\displaystyle \\int \\left(\\sqrt{z} - 3 z^{4}\\right)\\, dz = \\frac{2 z^{\\frac{3}{2}}}{3} - \\frac{3 z^{5}}{5}$"
      ],
      "text/plain": [
       "Eq(Integral(sqrt(z) - 3*z**4, z), 2*z**(3/2)/3 - 3*z**5/5)"
      ]
     },
     "metadata": {},
     "output_type": "display_data"
    },
    {
     "name": "stdout",
     "output_type": "stream",
     "text": [
      "2)\n"
     ]
    },
    {
     "data": {
      "text/latex": [
       "$\\displaystyle A B = \\left[\\begin{matrix}0 & 15\\\\80 & 47\\end{matrix}\\right]$"
      ],
      "text/plain": [
       "Eq(A*B, Matrix([\n",
       "[ 0, 15],\n",
       "[80, 47]]))"
      ]
     },
     "metadata": {},
     "output_type": "display_data"
    },
    {
     "name": "stdout",
     "output_type": "stream",
     "text": [
      "3) \n"
     ]
    },
    {
     "data": {
      "text/latex": [
       "$\\displaystyle |AB| = -1200$"
      ],
      "text/plain": [
       "Eq(|AB|, -1200)"
      ]
     },
     "metadata": {},
     "output_type": "display_data"
    },
    {
     "name": "stdout",
     "output_type": "stream",
     "text": [
      "\n",
      "\n",
      "\n",
      "\n",
      "        for copy/pasting for 3rd party calculators to learn the steps:\n",
      "Differentiate: sqrt(x)/(3 - 4*x)\n",
      "Integrate: sqrt(z) - 3*z**4\n",
      "------------------------------------------------------------------------------------------------------\n",
      "1)\n"
     ]
    },
    {
     "data": {
      "text/latex": [
       "$\\displaystyle \\frac{d}{d x} \\frac{\\sqrt{x}}{3 - 4 x} = ?$"
      ],
      "text/plain": [
       "Eq(Derivative(sqrt(x)/(3 - 4*x), x), ?)"
      ]
     },
     "metadata": {},
     "output_type": "display_data"
    },
    {
     "data": {
      "text/latex": [
       "$\\displaystyle \\int \\left(\\sqrt{z} - 3 z^{4}\\right)\\, dz = ?$"
      ],
      "text/plain": [
       "Eq(Integral(sqrt(z) - 3*z**4, z), ?)"
      ]
     },
     "metadata": {},
     "output_type": "display_data"
    },
    {
     "name": "stdout",
     "output_type": "stream",
     "text": [
      "2) Multiply these two matrices:\n"
     ]
    },
    {
     "data": {
      "text/latex": [
       "$\\displaystyle A = \\left[\\begin{matrix}6 & 8 & 2\\\\5 & 8 & 6\\\\6 & 8 & 4\\end{matrix}\\right]$"
      ],
      "text/plain": [
       "Eq(A, Matrix([\n",
       "[6, 8, 2],\n",
       "[5, 8, 6],\n",
       "[6, 8, 4]]))"
      ]
     },
     "metadata": {},
     "output_type": "display_data"
    },
    {
     "data": {
      "text/latex": [
       "$\\displaystyle B = \\left[\\begin{matrix}0 & 8 & 3\\\\1 & 3 & 7\\\\6 & 5 & 6\\end{matrix}\\right]$"
      ],
      "text/plain": [
       "Eq(B, Matrix([\n",
       "[0, 8, 3],\n",
       "[1, 3, 7],\n",
       "[6, 5, 6]]))"
      ]
     },
     "metadata": {},
     "output_type": "display_data"
    },
    {
     "name": "stdout",
     "output_type": "stream",
     "text": [
      "3) Calculate the determinate of matrix AB denoted |AB|.\n",
      "\n",
      "\n",
      "\n",
      "\n",
      "\n",
      "\n",
      "\n",
      "\n",
      "\n",
      "\n",
      "Possible answers:\n",
      "1)\n"
     ]
    },
    {
     "data": {
      "text/latex": [
       "$\\displaystyle \\frac{d}{d x} \\frac{\\sqrt{x}}{3 - 4 x} = \\frac{4 \\sqrt{x}}{\\left(3 - 4 x\\right)^{2}} + \\frac{1}{2 \\sqrt{x} \\left(3 - 4 x\\right)}$"
      ],
      "text/plain": [
       "Eq(Derivative(sqrt(x)/(3 - 4*x), x), 4*sqrt(x)/(3 - 4*x)**2 + 1/(2*sqrt(x)*(3 - 4*x)))"
      ]
     },
     "metadata": {},
     "output_type": "display_data"
    },
    {
     "data": {
      "text/latex": [
       "$\\displaystyle \\int \\left(\\sqrt{z} - 3 z^{4}\\right)\\, dz = \\frac{2 z^{\\frac{3}{2}}}{3} - \\frac{3 z^{5}}{5}$"
      ],
      "text/plain": [
       "Eq(Integral(sqrt(z) - 3*z**4, z), 2*z**(3/2)/3 - 3*z**5/5)"
      ]
     },
     "metadata": {},
     "output_type": "display_data"
    },
    {
     "name": "stdout",
     "output_type": "stream",
     "text": [
      "2)\n"
     ]
    },
    {
     "data": {
      "text/latex": [
       "$\\displaystyle A B = \\left[\\begin{matrix}20 & 82 & 86\\\\44 & 94 & 107\\\\32 & 92 & 98\\end{matrix}\\right]$"
      ],
      "text/plain": [
       "Eq(A*B, Matrix([\n",
       "[20, 82,  86],\n",
       "[44, 94, 107],\n",
       "[32, 92,  98]]))"
      ]
     },
     "metadata": {},
     "output_type": "display_data"
    },
    {
     "name": "stdout",
     "output_type": "stream",
     "text": [
      "3) \n"
     ]
    },
    {
     "data": {
      "text/latex": [
       "$\\displaystyle |AB| = 3984$"
      ],
      "text/plain": [
       "Eq(|AB|, 3984)"
      ]
     },
     "metadata": {},
     "output_type": "display_data"
    },
    {
     "name": "stdout",
     "output_type": "stream",
     "text": [
      "\n",
      "\n",
      "\n",
      "\n",
      "        for copy/pasting for 3rd party calculators to learn the steps:\n",
      "Differentiate: sqrt(x)/(3 - 4*x)\n",
      "Integrate: sqrt(z) - 3*z**4\n",
      "------------------------------------------------------------------------------------------------------\n",
      "1)\n"
     ]
    },
    {
     "data": {
      "text/latex": [
       "$\\displaystyle \\frac{d}{d x} \\frac{\\sqrt{x}}{3 - 4 x} = ?$"
      ],
      "text/plain": [
       "Eq(Derivative(sqrt(x)/(3 - 4*x), x), ?)"
      ]
     },
     "metadata": {},
     "output_type": "display_data"
    },
    {
     "data": {
      "text/latex": [
       "$\\displaystyle \\int \\left(\\sqrt{z} - 3 z^{4}\\right)\\, dz = ?$"
      ],
      "text/plain": [
       "Eq(Integral(sqrt(z) - 3*z**4, z), ?)"
      ]
     },
     "metadata": {},
     "output_type": "display_data"
    },
    {
     "name": "stdout",
     "output_type": "stream",
     "text": [
      "2) Multiply these two matrices:\n"
     ]
    },
    {
     "data": {
      "text/latex": [
       "$\\displaystyle A = \\left[\\begin{matrix}9 & 6\\\\4 & 9\\end{matrix}\\right]$"
      ],
      "text/plain": [
       "Eq(A, Matrix([\n",
       "[9, 6],\n",
       "[4, 9]]))"
      ]
     },
     "metadata": {},
     "output_type": "display_data"
    },
    {
     "data": {
      "text/latex": [
       "$\\displaystyle B = \\left[\\begin{matrix}4 & 0\\\\0 & 5\\end{matrix}\\right]$"
      ],
      "text/plain": [
       "Eq(B, Matrix([\n",
       "[4, 0],\n",
       "[0, 5]]))"
      ]
     },
     "metadata": {},
     "output_type": "display_data"
    },
    {
     "name": "stdout",
     "output_type": "stream",
     "text": [
      "3) Calculate the determinate of matrix AB denoted |AB|.\n",
      "\n",
      "\n",
      "\n",
      "\n",
      "\n",
      "\n",
      "\n",
      "\n",
      "\n",
      "\n",
      "Possible answers:\n",
      "1)\n"
     ]
    },
    {
     "data": {
      "text/latex": [
       "$\\displaystyle \\frac{d}{d x} \\frac{\\sqrt{x}}{3 - 4 x} = \\frac{4 \\sqrt{x}}{\\left(3 - 4 x\\right)^{2}} + \\frac{1}{2 \\sqrt{x} \\left(3 - 4 x\\right)}$"
      ],
      "text/plain": [
       "Eq(Derivative(sqrt(x)/(3 - 4*x), x), 4*sqrt(x)/(3 - 4*x)**2 + 1/(2*sqrt(x)*(3 - 4*x)))"
      ]
     },
     "metadata": {},
     "output_type": "display_data"
    },
    {
     "data": {
      "text/latex": [
       "$\\displaystyle \\int \\left(\\sqrt{z} - 3 z^{4}\\right)\\, dz = \\frac{2 z^{\\frac{3}{2}}}{3} - \\frac{3 z^{5}}{5}$"
      ],
      "text/plain": [
       "Eq(Integral(sqrt(z) - 3*z**4, z), 2*z**(3/2)/3 - 3*z**5/5)"
      ]
     },
     "metadata": {},
     "output_type": "display_data"
    },
    {
     "name": "stdout",
     "output_type": "stream",
     "text": [
      "2)\n"
     ]
    },
    {
     "data": {
      "text/latex": [
       "$\\displaystyle A B = \\left[\\begin{matrix}36 & 30\\\\16 & 45\\end{matrix}\\right]$"
      ],
      "text/plain": [
       "Eq(A*B, Matrix([\n",
       "[36, 30],\n",
       "[16, 45]]))"
      ]
     },
     "metadata": {},
     "output_type": "display_data"
    },
    {
     "name": "stdout",
     "output_type": "stream",
     "text": [
      "3) \n"
     ]
    },
    {
     "data": {
      "text/latex": [
       "$\\displaystyle |AB| = 1140$"
      ],
      "text/plain": [
       "Eq(|AB|, 1140)"
      ]
     },
     "metadata": {},
     "output_type": "display_data"
    },
    {
     "name": "stdout",
     "output_type": "stream",
     "text": [
      "\n",
      "\n",
      "\n",
      "\n",
      "        for copy/pasting for 3rd party calculators to learn the steps:\n",
      "Differentiate: sqrt(x)/(3 - 4*x)\n",
      "Integrate: sqrt(z) - 3*z**4\n",
      "------------------------------------------------------------------------------------------------------\n",
      "1)\n"
     ]
    },
    {
     "data": {
      "text/latex": [
       "$\\displaystyle \\frac{d}{d x} \\frac{\\sqrt{x}}{3 - 4 x} = ?$"
      ],
      "text/plain": [
       "Eq(Derivative(sqrt(x)/(3 - 4*x), x), ?)"
      ]
     },
     "metadata": {},
     "output_type": "display_data"
    },
    {
     "data": {
      "text/latex": [
       "$\\displaystyle \\int \\left(\\sqrt{z} - 3 z^{4}\\right)\\, dz = ?$"
      ],
      "text/plain": [
       "Eq(Integral(sqrt(z) - 3*z**4, z), ?)"
      ]
     },
     "metadata": {},
     "output_type": "display_data"
    },
    {
     "name": "stdout",
     "output_type": "stream",
     "text": [
      "2) Multiply these two matrices:\n"
     ]
    },
    {
     "data": {
      "text/latex": [
       "$\\displaystyle A = \\left[\\begin{matrix}7 & 7\\\\3 & 7\\end{matrix}\\right]$"
      ],
      "text/plain": [
       "Eq(A, Matrix([\n",
       "[7, 7],\n",
       "[3, 7]]))"
      ]
     },
     "metadata": {},
     "output_type": "display_data"
    },
    {
     "data": {
      "text/latex": [
       "$\\displaystyle B = \\left[\\begin{matrix}1 & 0\\\\5 & 1\\end{matrix}\\right]$"
      ],
      "text/plain": [
       "Eq(B, Matrix([\n",
       "[1, 0],\n",
       "[5, 1]]))"
      ]
     },
     "metadata": {},
     "output_type": "display_data"
    },
    {
     "name": "stdout",
     "output_type": "stream",
     "text": [
      "3) Calculate the determinate of matrix AB denoted |AB|.\n",
      "\n",
      "\n",
      "\n",
      "\n",
      "\n",
      "\n",
      "\n",
      "\n",
      "\n",
      "\n",
      "Possible answers:\n",
      "1)\n"
     ]
    },
    {
     "data": {
      "text/latex": [
       "$\\displaystyle \\frac{d}{d x} \\frac{\\sqrt{x}}{3 - 4 x} = \\frac{4 \\sqrt{x}}{\\left(3 - 4 x\\right)^{2}} + \\frac{1}{2 \\sqrt{x} \\left(3 - 4 x\\right)}$"
      ],
      "text/plain": [
       "Eq(Derivative(sqrt(x)/(3 - 4*x), x), 4*sqrt(x)/(3 - 4*x)**2 + 1/(2*sqrt(x)*(3 - 4*x)))"
      ]
     },
     "metadata": {},
     "output_type": "display_data"
    },
    {
     "data": {
      "text/latex": [
       "$\\displaystyle \\int \\left(\\sqrt{z} - 3 z^{4}\\right)\\, dz = \\frac{2 z^{\\frac{3}{2}}}{3} - \\frac{3 z^{5}}{5}$"
      ],
      "text/plain": [
       "Eq(Integral(sqrt(z) - 3*z**4, z), 2*z**(3/2)/3 - 3*z**5/5)"
      ]
     },
     "metadata": {},
     "output_type": "display_data"
    },
    {
     "name": "stdout",
     "output_type": "stream",
     "text": [
      "2)\n"
     ]
    },
    {
     "data": {
      "text/latex": [
       "$\\displaystyle A B = \\left[\\begin{matrix}42 & 7\\\\38 & 7\\end{matrix}\\right]$"
      ],
      "text/plain": [
       "Eq(A*B, Matrix([\n",
       "[42, 7],\n",
       "[38, 7]]))"
      ]
     },
     "metadata": {},
     "output_type": "display_data"
    },
    {
     "name": "stdout",
     "output_type": "stream",
     "text": [
      "3) \n"
     ]
    },
    {
     "data": {
      "text/latex": [
       "$\\displaystyle |AB| = 28$"
      ],
      "text/plain": [
       "Eq(|AB|, 28)"
      ]
     },
     "metadata": {},
     "output_type": "display_data"
    },
    {
     "name": "stdout",
     "output_type": "stream",
     "text": [
      "\n",
      "\n",
      "\n",
      "\n",
      "        for copy/pasting for 3rd party calculators to learn the steps:\n",
      "Differentiate: sqrt(x)/(3 - 4*x)\n",
      "Integrate: sqrt(z) - 3*z**4\n",
      "------------------------------------------------------------------------------------------------------\n",
      "1)\n"
     ]
    },
    {
     "data": {
      "text/latex": [
       "$\\displaystyle \\frac{d}{d x} \\frac{\\sqrt{x}}{3 - 4 x} = ?$"
      ],
      "text/plain": [
       "Eq(Derivative(sqrt(x)/(3 - 4*x), x), ?)"
      ]
     },
     "metadata": {},
     "output_type": "display_data"
    },
    {
     "data": {
      "text/latex": [
       "$\\displaystyle \\int \\left(\\sqrt{z} - 3 z^{4}\\right)\\, dz = ?$"
      ],
      "text/plain": [
       "Eq(Integral(sqrt(z) - 3*z**4, z), ?)"
      ]
     },
     "metadata": {},
     "output_type": "display_data"
    },
    {
     "name": "stdout",
     "output_type": "stream",
     "text": [
      "2) Multiply these two matrices:\n"
     ]
    },
    {
     "data": {
      "text/latex": [
       "$\\displaystyle A = \\left[\\begin{matrix}7 & 4\\\\1 & 10\\end{matrix}\\right]$"
      ],
      "text/plain": [
       "Eq(A, Matrix([\n",
       "[7,  4],\n",
       "[1, 10]]))"
      ]
     },
     "metadata": {},
     "output_type": "display_data"
    },
    {
     "data": {
      "text/latex": [
       "$\\displaystyle B = \\left[\\begin{matrix}6 & 10\\\\5 & 7\\end{matrix}\\right]$"
      ],
      "text/plain": [
       "Eq(B, Matrix([\n",
       "[6, 10],\n",
       "[5,  7]]))"
      ]
     },
     "metadata": {},
     "output_type": "display_data"
    },
    {
     "name": "stdout",
     "output_type": "stream",
     "text": [
      "3) Calculate the determinate of matrix AB denoted |AB|.\n",
      "\n",
      "\n",
      "\n",
      "\n",
      "\n",
      "\n",
      "\n",
      "\n",
      "\n",
      "\n",
      "Possible answers:\n",
      "1)\n"
     ]
    },
    {
     "data": {
      "text/latex": [
       "$\\displaystyle \\frac{d}{d x} \\frac{\\sqrt{x}}{3 - 4 x} = \\frac{4 \\sqrt{x}}{\\left(3 - 4 x\\right)^{2}} + \\frac{1}{2 \\sqrt{x} \\left(3 - 4 x\\right)}$"
      ],
      "text/plain": [
       "Eq(Derivative(sqrt(x)/(3 - 4*x), x), 4*sqrt(x)/(3 - 4*x)**2 + 1/(2*sqrt(x)*(3 - 4*x)))"
      ]
     },
     "metadata": {},
     "output_type": "display_data"
    },
    {
     "data": {
      "text/latex": [
       "$\\displaystyle \\int \\left(\\sqrt{z} - 3 z^{4}\\right)\\, dz = \\frac{2 z^{\\frac{3}{2}}}{3} - \\frac{3 z^{5}}{5}$"
      ],
      "text/plain": [
       "Eq(Integral(sqrt(z) - 3*z**4, z), 2*z**(3/2)/3 - 3*z**5/5)"
      ]
     },
     "metadata": {},
     "output_type": "display_data"
    },
    {
     "name": "stdout",
     "output_type": "stream",
     "text": [
      "2)\n"
     ]
    },
    {
     "data": {
      "text/latex": [
       "$\\displaystyle A B = \\left[\\begin{matrix}62 & 98\\\\56 & 80\\end{matrix}\\right]$"
      ],
      "text/plain": [
       "Eq(A*B, Matrix([\n",
       "[62, 98],\n",
       "[56, 80]]))"
      ]
     },
     "metadata": {},
     "output_type": "display_data"
    },
    {
     "name": "stdout",
     "output_type": "stream",
     "text": [
      "3) \n"
     ]
    },
    {
     "data": {
      "text/latex": [
       "$\\displaystyle |AB| = -528$"
      ],
      "text/plain": [
       "Eq(|AB|, -528)"
      ]
     },
     "metadata": {},
     "output_type": "display_data"
    },
    {
     "name": "stdout",
     "output_type": "stream",
     "text": [
      "\n",
      "\n",
      "\n",
      "\n",
      "        for copy/pasting for 3rd party calculators to learn the steps:\n",
      "Differentiate: sqrt(x)/(3 - 4*x)\n",
      "Integrate: sqrt(z) - 3*z**4\n",
      "------------------------------------------------------------------------------------------------------\n",
      "1)\n"
     ]
    },
    {
     "data": {
      "text/latex": [
       "$\\displaystyle \\frac{d}{d x} \\frac{\\sqrt{x}}{3 - 4 x} = ?$"
      ],
      "text/plain": [
       "Eq(Derivative(sqrt(x)/(3 - 4*x), x), ?)"
      ]
     },
     "metadata": {},
     "output_type": "display_data"
    },
    {
     "data": {
      "text/latex": [
       "$\\displaystyle \\int \\left(\\sqrt{z} - 3 z^{4}\\right)\\, dz = ?$"
      ],
      "text/plain": [
       "Eq(Integral(sqrt(z) - 3*z**4, z), ?)"
      ]
     },
     "metadata": {},
     "output_type": "display_data"
    },
    {
     "name": "stdout",
     "output_type": "stream",
     "text": [
      "2) Multiply these two matrices:\n"
     ]
    },
    {
     "data": {
      "text/latex": [
       "$\\displaystyle A = \\left[\\begin{matrix}3 & 3 & 3\\\\1 & 2 & 7\\\\2 & 7 & 8\\end{matrix}\\right]$"
      ],
      "text/plain": [
       "Eq(A, Matrix([\n",
       "[3, 3, 3],\n",
       "[1, 2, 7],\n",
       "[2, 7, 8]]))"
      ]
     },
     "metadata": {},
     "output_type": "display_data"
    },
    {
     "data": {
      "text/latex": [
       "$\\displaystyle B = \\left[\\begin{matrix}6 & 8 & 5\\\\3 & 6 & 2\\\\10 & 10 & 6\\end{matrix}\\right]$"
      ],
      "text/plain": [
       "Eq(B, Matrix([\n",
       "[ 6,  8, 5],\n",
       "[ 3,  6, 2],\n",
       "[10, 10, 6]]))"
      ]
     },
     "metadata": {},
     "output_type": "display_data"
    },
    {
     "name": "stdout",
     "output_type": "stream",
     "text": [
      "3) Calculate the determinate of matrix AB denoted |AB|.\n",
      "\n",
      "\n",
      "\n",
      "\n",
      "\n",
      "\n",
      "\n",
      "\n",
      "\n",
      "\n",
      "Possible answers:\n",
      "1)\n"
     ]
    },
    {
     "data": {
      "text/latex": [
       "$\\displaystyle \\frac{d}{d x} \\frac{\\sqrt{x}}{3 - 4 x} = \\frac{4 \\sqrt{x}}{\\left(3 - 4 x\\right)^{2}} + \\frac{1}{2 \\sqrt{x} \\left(3 - 4 x\\right)}$"
      ],
      "text/plain": [
       "Eq(Derivative(sqrt(x)/(3 - 4*x), x), 4*sqrt(x)/(3 - 4*x)**2 + 1/(2*sqrt(x)*(3 - 4*x)))"
      ]
     },
     "metadata": {},
     "output_type": "display_data"
    },
    {
     "data": {
      "text/latex": [
       "$\\displaystyle \\int \\left(\\sqrt{z} - 3 z^{4}\\right)\\, dz = \\frac{2 z^{\\frac{3}{2}}}{3} - \\frac{3 z^{5}}{5}$"
      ],
      "text/plain": [
       "Eq(Integral(sqrt(z) - 3*z**4, z), 2*z**(3/2)/3 - 3*z**5/5)"
      ]
     },
     "metadata": {},
     "output_type": "display_data"
    },
    {
     "name": "stdout",
     "output_type": "stream",
     "text": [
      "2)\n"
     ]
    },
    {
     "data": {
      "text/latex": [
       "$\\displaystyle A B = \\left[\\begin{matrix}57 & 72 & 39\\\\82 & 90 & 51\\\\113 & 138 & 72\\end{matrix}\\right]$"
      ],
      "text/plain": [
       "Eq(A*B, Matrix([\n",
       "[ 57,  72, 39],\n",
       "[ 82,  90, 51],\n",
       "[113, 138, 72]]))"
      ]
     },
     "metadata": {},
     "output_type": "display_data"
    },
    {
     "name": "stdout",
     "output_type": "stream",
     "text": [
      "3) \n"
     ]
    },
    {
     "data": {
      "text/latex": [
       "$\\displaystyle |AB| = 2736$"
      ],
      "text/plain": [
       "Eq(|AB|, 2736)"
      ]
     },
     "metadata": {},
     "output_type": "display_data"
    },
    {
     "name": "stdout",
     "output_type": "stream",
     "text": [
      "\n",
      "\n",
      "\n",
      "\n",
      "        for copy/pasting for 3rd party calculators to learn the steps:\n",
      "Differentiate: sqrt(x)/(3 - 4*x)\n",
      "Integrate: sqrt(z) - 3*z**4\n",
      "------------------------------------------------------------------------------------------------------\n",
      "1)\n"
     ]
    },
    {
     "data": {
      "text/latex": [
       "$\\displaystyle \\frac{d}{d x} \\frac{\\sqrt{x}}{3 - 4 x} = ?$"
      ],
      "text/plain": [
       "Eq(Derivative(sqrt(x)/(3 - 4*x), x), ?)"
      ]
     },
     "metadata": {},
     "output_type": "display_data"
    },
    {
     "data": {
      "text/latex": [
       "$\\displaystyle \\int \\left(\\sqrt{z} - 3 z^{4}\\right)\\, dz = ?$"
      ],
      "text/plain": [
       "Eq(Integral(sqrt(z) - 3*z**4, z), ?)"
      ]
     },
     "metadata": {},
     "output_type": "display_data"
    },
    {
     "name": "stdout",
     "output_type": "stream",
     "text": [
      "2) Multiply these two matrices:\n"
     ]
    },
    {
     "data": {
      "text/latex": [
       "$\\displaystyle A = \\left[\\begin{matrix}4 & 8\\\\0 & 3\\end{matrix}\\right]$"
      ],
      "text/plain": [
       "Eq(A, Matrix([\n",
       "[4, 8],\n",
       "[0, 3]]))"
      ]
     },
     "metadata": {},
     "output_type": "display_data"
    },
    {
     "data": {
      "text/latex": [
       "$\\displaystyle B = \\left[\\begin{matrix}6 & 1\\\\9 & 10\\end{matrix}\\right]$"
      ],
      "text/plain": [
       "Eq(B, Matrix([\n",
       "[6,  1],\n",
       "[9, 10]]))"
      ]
     },
     "metadata": {},
     "output_type": "display_data"
    },
    {
     "name": "stdout",
     "output_type": "stream",
     "text": [
      "3) Calculate the determinate of matrix AB denoted |AB|.\n",
      "\n",
      "\n",
      "\n",
      "\n",
      "\n",
      "\n",
      "\n",
      "\n",
      "\n",
      "\n",
      "Possible answers:\n",
      "1)\n"
     ]
    },
    {
     "data": {
      "text/latex": [
       "$\\displaystyle \\frac{d}{d x} \\frac{\\sqrt{x}}{3 - 4 x} = \\frac{4 \\sqrt{x}}{\\left(3 - 4 x\\right)^{2}} + \\frac{1}{2 \\sqrt{x} \\left(3 - 4 x\\right)}$"
      ],
      "text/plain": [
       "Eq(Derivative(sqrt(x)/(3 - 4*x), x), 4*sqrt(x)/(3 - 4*x)**2 + 1/(2*sqrt(x)*(3 - 4*x)))"
      ]
     },
     "metadata": {},
     "output_type": "display_data"
    },
    {
     "data": {
      "text/latex": [
       "$\\displaystyle \\int \\left(\\sqrt{z} - 3 z^{4}\\right)\\, dz = \\frac{2 z^{\\frac{3}{2}}}{3} - \\frac{3 z^{5}}{5}$"
      ],
      "text/plain": [
       "Eq(Integral(sqrt(z) - 3*z**4, z), 2*z**(3/2)/3 - 3*z**5/5)"
      ]
     },
     "metadata": {},
     "output_type": "display_data"
    },
    {
     "name": "stdout",
     "output_type": "stream",
     "text": [
      "2)\n"
     ]
    },
    {
     "data": {
      "text/latex": [
       "$\\displaystyle A B = \\left[\\begin{matrix}96 & 84\\\\27 & 30\\end{matrix}\\right]$"
      ],
      "text/plain": [
       "Eq(A*B, Matrix([\n",
       "[96, 84],\n",
       "[27, 30]]))"
      ]
     },
     "metadata": {},
     "output_type": "display_data"
    },
    {
     "name": "stdout",
     "output_type": "stream",
     "text": [
      "3) \n"
     ]
    },
    {
     "data": {
      "text/latex": [
       "$\\displaystyle |AB| = 612$"
      ],
      "text/plain": [
       "Eq(|AB|, 612)"
      ]
     },
     "metadata": {},
     "output_type": "display_data"
    },
    {
     "name": "stdout",
     "output_type": "stream",
     "text": [
      "\n",
      "\n",
      "\n",
      "\n",
      "        for copy/pasting for 3rd party calculators to learn the steps:\n",
      "Differentiate: sqrt(x)/(3 - 4*x)\n",
      "Integrate: sqrt(z) - 3*z**4\n",
      "------------------------------------------------------------------------------------------------------\n",
      "1)\n"
     ]
    },
    {
     "data": {
      "text/latex": [
       "$\\displaystyle \\frac{d}{d x} \\frac{\\sqrt{x}}{3 - 4 x} = ?$"
      ],
      "text/plain": [
       "Eq(Derivative(sqrt(x)/(3 - 4*x), x), ?)"
      ]
     },
     "metadata": {},
     "output_type": "display_data"
    },
    {
     "data": {
      "text/latex": [
       "$\\displaystyle \\int \\left(\\sqrt{z} - 3 z^{4}\\right)\\, dz = ?$"
      ],
      "text/plain": [
       "Eq(Integral(sqrt(z) - 3*z**4, z), ?)"
      ]
     },
     "metadata": {},
     "output_type": "display_data"
    },
    {
     "name": "stdout",
     "output_type": "stream",
     "text": [
      "2) Multiply these two matrices:\n"
     ]
    },
    {
     "data": {
      "text/latex": [
       "$\\displaystyle A = \\left[\\begin{matrix}5 & 10\\\\9 & 6\\end{matrix}\\right]$"
      ],
      "text/plain": [
       "Eq(A, Matrix([\n",
       "[5, 10],\n",
       "[9,  6]]))"
      ]
     },
     "metadata": {},
     "output_type": "display_data"
    },
    {
     "data": {
      "text/latex": [
       "$\\displaystyle B = \\left[\\begin{matrix}0 & 9\\\\4 & 8\\end{matrix}\\right]$"
      ],
      "text/plain": [
       "Eq(B, Matrix([\n",
       "[0, 9],\n",
       "[4, 8]]))"
      ]
     },
     "metadata": {},
     "output_type": "display_data"
    },
    {
     "name": "stdout",
     "output_type": "stream",
     "text": [
      "3) Calculate the determinate of matrix AB denoted |AB|.\n",
      "\n",
      "\n",
      "\n",
      "\n",
      "\n",
      "\n",
      "\n",
      "\n",
      "\n",
      "\n",
      "Possible answers:\n",
      "1)\n"
     ]
    },
    {
     "data": {
      "text/latex": [
       "$\\displaystyle \\frac{d}{d x} \\frac{\\sqrt{x}}{3 - 4 x} = \\frac{4 \\sqrt{x}}{\\left(3 - 4 x\\right)^{2}} + \\frac{1}{2 \\sqrt{x} \\left(3 - 4 x\\right)}$"
      ],
      "text/plain": [
       "Eq(Derivative(sqrt(x)/(3 - 4*x), x), 4*sqrt(x)/(3 - 4*x)**2 + 1/(2*sqrt(x)*(3 - 4*x)))"
      ]
     },
     "metadata": {},
     "output_type": "display_data"
    },
    {
     "data": {
      "text/latex": [
       "$\\displaystyle \\int \\left(\\sqrt{z} - 3 z^{4}\\right)\\, dz = \\frac{2 z^{\\frac{3}{2}}}{3} - \\frac{3 z^{5}}{5}$"
      ],
      "text/plain": [
       "Eq(Integral(sqrt(z) - 3*z**4, z), 2*z**(3/2)/3 - 3*z**5/5)"
      ]
     },
     "metadata": {},
     "output_type": "display_data"
    },
    {
     "name": "stdout",
     "output_type": "stream",
     "text": [
      "2)\n"
     ]
    },
    {
     "data": {
      "text/latex": [
       "$\\displaystyle A B = \\left[\\begin{matrix}40 & 125\\\\24 & 129\\end{matrix}\\right]$"
      ],
      "text/plain": [
       "Eq(A*B, Matrix([\n",
       "[40, 125],\n",
       "[24, 129]]))"
      ]
     },
     "metadata": {},
     "output_type": "display_data"
    },
    {
     "name": "stdout",
     "output_type": "stream",
     "text": [
      "3) \n"
     ]
    },
    {
     "data": {
      "text/latex": [
       "$\\displaystyle |AB| = 2160$"
      ],
      "text/plain": [
       "Eq(|AB|, 2160)"
      ]
     },
     "metadata": {},
     "output_type": "display_data"
    },
    {
     "name": "stdout",
     "output_type": "stream",
     "text": [
      "\n",
      "\n",
      "\n",
      "\n",
      "        for copy/pasting for 3rd party calculators to learn the steps:\n",
      "Differentiate: sqrt(x)/(3 - 4*x)\n",
      "Integrate: sqrt(z) - 3*z**4\n",
      "------------------------------------------------------------------------------------------------------\n",
      "1)\n"
     ]
    },
    {
     "data": {
      "text/latex": [
       "$\\displaystyle \\frac{d}{d x} \\frac{\\sqrt{x}}{3 - 4 x} = ?$"
      ],
      "text/plain": [
       "Eq(Derivative(sqrt(x)/(3 - 4*x), x), ?)"
      ]
     },
     "metadata": {},
     "output_type": "display_data"
    },
    {
     "data": {
      "text/latex": [
       "$\\displaystyle \\int \\left(\\sqrt{z} - 3 z^{4}\\right)\\, dz = ?$"
      ],
      "text/plain": [
       "Eq(Integral(sqrt(z) - 3*z**4, z), ?)"
      ]
     },
     "metadata": {},
     "output_type": "display_data"
    },
    {
     "name": "stdout",
     "output_type": "stream",
     "text": [
      "2) Multiply these two matrices:\n"
     ]
    },
    {
     "data": {
      "text/latex": [
       "$\\displaystyle A = \\left[\\begin{matrix}4 & 6\\\\2 & 1\\end{matrix}\\right]$"
      ],
      "text/plain": [
       "Eq(A, Matrix([\n",
       "[4, 6],\n",
       "[2, 1]]))"
      ]
     },
     "metadata": {},
     "output_type": "display_data"
    },
    {
     "data": {
      "text/latex": [
       "$\\displaystyle B = \\left[\\begin{matrix}0 & 1\\\\6 & 9\\end{matrix}\\right]$"
      ],
      "text/plain": [
       "Eq(B, Matrix([\n",
       "[0, 1],\n",
       "[6, 9]]))"
      ]
     },
     "metadata": {},
     "output_type": "display_data"
    },
    {
     "name": "stdout",
     "output_type": "stream",
     "text": [
      "3) Calculate the determinate of matrix AB denoted |AB|.\n",
      "\n",
      "\n",
      "\n",
      "\n",
      "\n",
      "\n",
      "\n",
      "\n",
      "\n",
      "\n",
      "Possible answers:\n",
      "1)\n"
     ]
    },
    {
     "data": {
      "text/latex": [
       "$\\displaystyle \\frac{d}{d x} \\frac{\\sqrt{x}}{3 - 4 x} = \\frac{4 \\sqrt{x}}{\\left(3 - 4 x\\right)^{2}} + \\frac{1}{2 \\sqrt{x} \\left(3 - 4 x\\right)}$"
      ],
      "text/plain": [
       "Eq(Derivative(sqrt(x)/(3 - 4*x), x), 4*sqrt(x)/(3 - 4*x)**2 + 1/(2*sqrt(x)*(3 - 4*x)))"
      ]
     },
     "metadata": {},
     "output_type": "display_data"
    },
    {
     "data": {
      "text/latex": [
       "$\\displaystyle \\int \\left(\\sqrt{z} - 3 z^{4}\\right)\\, dz = \\frac{2 z^{\\frac{3}{2}}}{3} - \\frac{3 z^{5}}{5}$"
      ],
      "text/plain": [
       "Eq(Integral(sqrt(z) - 3*z**4, z), 2*z**(3/2)/3 - 3*z**5/5)"
      ]
     },
     "metadata": {},
     "output_type": "display_data"
    },
    {
     "name": "stdout",
     "output_type": "stream",
     "text": [
      "2)\n"
     ]
    },
    {
     "data": {
      "text/latex": [
       "$\\displaystyle A B = \\left[\\begin{matrix}36 & 58\\\\6 & 11\\end{matrix}\\right]$"
      ],
      "text/plain": [
       "Eq(A*B, Matrix([\n",
       "[36, 58],\n",
       "[ 6, 11]]))"
      ]
     },
     "metadata": {},
     "output_type": "display_data"
    },
    {
     "name": "stdout",
     "output_type": "stream",
     "text": [
      "3) \n"
     ]
    },
    {
     "data": {
      "text/latex": [
       "$\\displaystyle |AB| = 48$"
      ],
      "text/plain": [
       "Eq(|AB|, 48)"
      ]
     },
     "metadata": {},
     "output_type": "display_data"
    },
    {
     "name": "stdout",
     "output_type": "stream",
     "text": [
      "\n",
      "\n",
      "\n",
      "\n",
      "        for copy/pasting for 3rd party calculators to learn the steps:\n",
      "Differentiate: sqrt(x)/(3 - 4*x)\n",
      "Integrate: sqrt(z) - 3*z**4\n",
      "------------------------------------------------------------------------------------------------------\n"
     ]
    }
   ],
   "source": [
    "from sympy.simplify.fu import TR22,TR2i\n",
    "from sympy import *\n",
    "from sympy.abc import theta\n",
    "import random\n",
    "f = Function('f')\n",
    "g = Function('g')\n",
    "h = Function('h')\n",
    "theta = Symbol('theta')\n",
    "i = 0\n",
    "dkeywords = {\"polylog\",\"Ei\",\"gamma\",\"Piecewise\",\"li\",\"erf\",\"Si\",\"Ci\",\"hyper\",\"fresnel\",\"Li\",\"expint\",\"zoo\",\n",
    "\"nan\",\"oo\",\"abs\",\"re\",\"EulerGamma\", \"sinh\",\"tanh\", \"cosh\",'sign','abs','atan','csc','asin'} \n",
    "ikeywords = {\"polylog\",\"Ei\",\"gamma\",\"Piecewise\", \"li\", \"erf\", \"atan\", \"Si\",  \"Ci\",  \"hyper\",  \"fresnel\",  \"Li\", \n",
    "\"expint\",\"zoo\", \"nan\", \"oo\",\"EulerGamma\",\"sinh\",\"csc\",\"asin\"}\n",
    "keywords2 = {\"sin\",\"cos\",\"tan\"}\n",
    "def random_variable(i):\n",
    "    return Symbol(random.choice([i for i in ['v','t','x','z','y']]), real=True)\n",
    "def random_value(i):\n",
    "    return random.choice([i for i in range(-10,10) if i not in [0]])\n",
    "def power(a):      \n",
    "    return random_value(i)*a**int(random_value(i)/2)\n",
    "def scalar(a):       \n",
    "    return a*random_value(i) + random_value(i)\n",
    "def addSUBTR(a):     \n",
    "    return a+random_value(i)\n",
    "def dmain(a):\n",
    "    def random_math(a): \n",
    "        funs = [power,scalar,addSUBTR,power,scalar,addSUBTR,ln,exp,sin,cos,tan,sqrt]   \n",
    "        operations = [f(a)+g(a),\n",
    "                      f(a)-g(a),\n",
    "                      f(a)*g(a),\n",
    "                      f(a)/g(a),\n",
    "                      f(a)**g(a),\n",
    "                      ]\n",
    "        operation = operations[random.randrange(0,len(operations))]\n",
    "        return [[[operation.replace(f, i) for i in funs][random.randrange(0,len(funs))].replace(g, i) for i in funs]\\\n",
    "    [random.randrange(0,len(funs))].replace(h, i) for i in funs][random.randrange(0,len(funs))]\n",
    "    return random_math(a)\n",
    "def imain(a):\n",
    "    def random_math2(a):  \n",
    "        funs = [power,scalar,addSUBTR,power,scalar,addSUBTR,ln,exp,sin,cos,tan,sqrt]   \n",
    "        operations = [f(g(a)),f(a)+g(a),f(a)-g(a),f(a)/g(a),f(a)*g(a)]\n",
    "        operation = operations[random.randrange(0,len(operations))]\n",
    "        return [[operation.replace(f, i) for i in funs][random.randrange(0,len(funs))].replace(g, i) for i in funs]\\\n",
    "    [random.randrange(0,len(funs))]\n",
    "    return random_math2(a)\n",
    "derror = True\n",
    "def dtest():\n",
    "    global setup1\n",
    "    global derror\n",
    "    global practice1\n",
    "    a = random_variable(i)\n",
    "    setup1 = dmain(a)\n",
    "    practice1 = Derivative(setup1,a)       \n",
    "    p1eq = TR22(Eq(practice1,practice1.doit(),evaluate=False))\n",
    "    if any(kw in str(setup1) for kw in keywords2):\n",
    "        setup1 = setup1.replace(a,theta)\n",
    "        practice1 = Derivative(setup1,theta)   \n",
    "        p1eq = TR22(Eq(practice1,practice1.doit(),evaluate=False))\n",
    "    if p1eq.rhs != 0 and not any(kw in str(p1eq) for kw in dkeywords):\n",
    "        derror = False\n",
    "    return p1eq\n",
    "while derror == True: \n",
    "    output1 = dtest()\n",
    "ierror = True\n",
    "def itest():\n",
    "    global ierror\n",
    "    global practice2\n",
    "    global setup2\n",
    "    a = random_variable(i)\n",
    "    setup2 = imain(a)\n",
    "    practice2 = Integral(setup2,a)  \n",
    "    p2eq = TR22(Eq(practice2,practice2.doit(),evaluate=False))\n",
    "    if str(factor_terms(p2eq.lhs)) != str(factor_terms(p2eq.rhs)) and not any(kw in str(p2eq) for kw in ikeywords)\\\n",
    "    and str(p2eq.lhs) != str(-p2eq.rhs): \n",
    "        if any(kw in str(setup2) for kw in keywords2):\n",
    "            setup2 = setup2.replace(a,theta)\n",
    "            practice2 = Integral(setup2,theta)  \n",
    "            p2eq = TR22(Eq(practice2,practice2.doit(),evaluate=False))\n",
    "        ierror = False\n",
    "    return p2eq\n",
    "while ierror == True:\n",
    "    output2 = itest()\n",
    "questionmark = Symbol('?')\n",
    "addsymbol = Symbol('+')\n",
    "for i in range(1,30):\n",
    "    def lhs():\n",
    "        return display(Eq(nsimplify(output1.lhs),questionmark),Eq(nsimplify(output2.lhs),questionmark)) \n",
    "    def rhs():\n",
    "        return display(Eq(nsimplify(output1.lhs),nsimplify(output1.rhs)),Eq(nsimplify(output2.lhs),nsimplify(output2.rhs)))\n",
    "\n",
    "    k=0\n",
    "    n=random.randrange(2, 4, 1) \n",
    "    A0 = MatrixSymbol('A',n,n)\n",
    "    A1 = MatrixSymbol('A^-1',n,n)\n",
    "    A = randMatrix(n,n,percent=100,min=0, max=10,symmetric=False)\n",
    "    B0 = MatrixSymbol('B',n,n)\n",
    "    B1 = MatrixSymbol('B^-1',n,n)\n",
    "    B = randMatrix(n,n,percent=100,min=0, max=10,symmetric=False)\n",
    "    print('1)')\n",
    "    lhs()\n",
    "    print(\"2) Multiply these two matrices:\")\n",
    "    display(Eq(A0,A,evaluate=False),Eq(B0,B,evaluate=False))\n",
    "    print('3) Calculate the determinate of matrix AB denoted |AB|.')\n",
    "    print(\"\\n\")\n",
    "    print(\"\\n\")\n",
    "    print(\"\\n\")\n",
    "    print(\"\\n\")\n",
    "    print(\"\\n\")\n",
    "    print(\"Possible answers:\")\n",
    "    print('1)')\n",
    "    rhs()\n",
    "    print('2)')\n",
    "    answer1=A*B\n",
    "    display(Eq(A0*B0,answer1))\n",
    "    print('3) ')\n",
    "    dettt = Symbol('|AB|')\n",
    "    display(Eq(dettt,answer1.det()))\n",
    "    print(\"\\n\")\n",
    "    if i ==  1:\n",
    "        print(\"hint: |AB| = |A|*|B|\")\n",
    "    print(\"\\n\")\n",
    "    print(\"        for copy/pasting for 3rd party calculators to learn the steps:\")\n",
    "    keywords3 = {\"theta\"}\n",
    "    if any(kw in str(nsimplify(output1.lhs)) for kw in keywords3):\n",
    "        print(\"Differentiate:\",str(nsimplify(output1.lhs))[11:-8])\n",
    "        p1 = \"    \"+str(nsimplify(output1.lhs))[11:-8]\n",
    "    else:\n",
    "        print(\"Differentiate:\",str(nsimplify(output1.lhs))[11:-4])\n",
    "        p1 = \"    \"+str(nsimplify(output1.lhs))[11:-4]\n",
    "\n",
    "    if any(kw in str(nsimplify(output2.lhs)) for kw in keywords3):\n",
    "        print(\"Integrate:\",str(nsimplify(output2.lhs))[9:-8])\n",
    "        p2 = \"    \"+str(nsimplify(output2.lhs))[9:-8]\n",
    "    else:\n",
    "        print(\"Integrate:\",str(nsimplify(output2.lhs))[9:-4]) \n",
    "        p2 = \"    \"+str(nsimplify(output2.lhs))[9:-4]\n",
    "    print(\"------------------------------------------------------------------------------------------------------\")"
   ]
  }
 ],
 "metadata": {
  "kernelspec": {
   "display_name": "Python 3 (ipykernel)",
   "language": "python",
   "name": "python3"
  },
  "language_info": {
   "codemirror_mode": {
    "name": "ipython",
    "version": 3
   },
   "file_extension": ".py",
   "mimetype": "text/x-python",
   "name": "python",
   "nbconvert_exporter": "python",
   "pygments_lexer": "ipython3",
   "version": "3.10.6"
  }
 },
 "nbformat": 4,
 "nbformat_minor": 5
}
