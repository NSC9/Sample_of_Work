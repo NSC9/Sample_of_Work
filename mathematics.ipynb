{
 "cells": [
  {
   "cell_type": "markdown",
   "id": "b74751a4",
   "metadata": {},
   "source": [
    "# Donate With Crypto:\n",
    " Bitcoin (BTC): bc1qtrjmtsfxhmjmu4wwdh03u92gpy662rnt3drlm7\n",
    "\n",
    "Ethereum (ETH): 0x8B20704BB59E985Ad85D2477A9aB85a6F499F9E8\n",
    "\n",
    "Binance (BNB/BEP20): 0x8B20704BB59E985Ad85D2477A9aB85a6F499F9E8\n",
    "\n",
    "Created by https://github.com/NSC9 - MIT License"
   ]
  },
  {
   "cell_type": "code",
   "execution_count": 13,
   "id": "108761f9",
   "metadata": {
    "scrolled": false
   },
   "outputs": [
    {
     "name": "stdout",
     "output_type": "stream",
     "text": [
      "Solve With Pen and Paper:\n",
      "\n",
      "\n",
      "1)\n"
     ]
    },
    {
     "data": {
      "text/latex": [
       "$\\displaystyle \\frac{d}{d \\theta} \\left(\\cos{\\left(\\theta \\right)} + \\frac{1}{\\theta^{4}}\\right) = ?$"
      ],
      "text/plain": [
       "Eq(Derivative(cos(theta) + theta**(-4), theta), ?)"
      ]
     },
     "metadata": {},
     "output_type": "display_data"
    },
    {
     "data": {
      "text/latex": [
       "$\\displaystyle \\int \\left(8 \\theta + \\tan{\\left(\\theta \\right)} - 1\\right)\\, d\\theta = ?$"
      ],
      "text/plain": [
       "Eq(Integral(8*theta + tan(theta) - 1, theta), ?)"
      ]
     },
     "metadata": {},
     "output_type": "display_data"
    },
    {
     "name": "stdout",
     "output_type": "stream",
     "text": [
      "\n",
      "\n",
      "Possible answers:\n",
      "\n",
      "\n",
      "1)\n"
     ]
    },
    {
     "data": {
      "text/latex": [
       "$\\displaystyle \\frac{d}{d \\theta} \\left(\\cos{\\left(\\theta \\right)} + \\frac{1}{\\theta^{4}}\\right) = - \\sin{\\left(\\theta \\right)} - \\frac{4}{\\theta^{5}}$"
      ],
      "text/plain": [
       "Eq(Derivative(cos(theta) + theta**(-4), theta), -sin(theta) - 4/theta**5)"
      ]
     },
     "metadata": {},
     "output_type": "display_data"
    },
    {
     "data": {
      "text/latex": [
       "$\\displaystyle \\int \\left(8 \\theta + \\tan{\\left(\\theta \\right)} - 1\\right)\\, d\\theta = 4 \\theta^{2} - \\theta - \\log{\\left(\\cos{\\left(\\theta \\right)} \\right)}$"
      ],
      "text/plain": [
       "Eq(Integral(8*theta + tan(theta) - 1, theta), 4*theta**2 - theta - log(cos(theta)))"
      ]
     },
     "metadata": {},
     "output_type": "display_data"
    },
    {
     "name": "stdout",
     "output_type": "stream",
     "text": [
      "---------------------------------------------------------------------------------------------------------\n",
      "2) Multiply the two matrices A and B:\n"
     ]
    },
    {
     "data": {
      "text/latex": [
       "$\\displaystyle A = \\left[\\begin{matrix}0 & 2\\\\1 & 3\\end{matrix}\\right]$"
      ],
      "text/plain": [
       "Eq(A, Matrix([\n",
       "[0, 2],\n",
       "[1, 3]]))"
      ]
     },
     "metadata": {},
     "output_type": "display_data"
    },
    {
     "data": {
      "text/latex": [
       "$\\displaystyle B = \\left[\\begin{matrix}1 & 1\\\\1 & 1\\end{matrix}\\right]$"
      ],
      "text/plain": [
       "Eq(B, Matrix([\n",
       "[1, 1],\n",
       "[1, 1]]))"
      ]
     },
     "metadata": {},
     "output_type": "display_data"
    },
    {
     "data": {
      "text/latex": [
       "$\\displaystyle A B = C$"
      ],
      "text/plain": [
       "Eq(A*B, C)"
      ]
     },
     "metadata": {},
     "output_type": "display_data"
    },
    {
     "name": "stdout",
     "output_type": "stream",
     "text": [
      "\n",
      "\n",
      "3) Calculate the eigenvalues of matrix C by solving the \n",
      "     characteristic equation det(C-lambda*I)=0.\n",
      "\n",
      "\n",
      "4) Find which eigenvectors correspond to the set of eigenvalues.\n",
      "\n",
      "\n",
      "5) Diagonalize the matrix C as D*P*P^-1 where \n",
      "     P: matrix of eigenvectors \n",
      "     D: a diagonal matrix with eigenvalues on the diagonal \n",
      "     P^-1: the inverse of P\n",
      "\n",
      "\n",
      "\n",
      "\n",
      "Possible answers:\n",
      "\n",
      "\n",
      "2)\n"
     ]
    },
    {
     "data": {
      "text/latex": [
       "$\\displaystyle A B = \\left[\\begin{matrix}2 & 2\\\\4 & 4\\end{matrix}\\right] = C$"
      ],
      "text/plain": [
       "Eq(Eq(A*B, Matrix([\n",
       "[2, 2],\n",
       "[4, 4]])), C)"
      ]
     },
     "metadata": {},
     "output_type": "display_data"
    },
    {
     "name": "stdout",
     "output_type": "stream",
     "text": [
      "\n",
      "\n",
      "3) Eigenvalues for C:  (Eigenalues are on the left side of the colons, right side are multiplicity values)\n"
     ]
    },
    {
     "data": {
      "text/latex": [
       "$\\displaystyle 0 = \\lambda \\left(\\lambda - 6\\right)$"
      ],
      "text/plain": [
       "Eq(0, lamda*(lamda - 6))"
      ]
     },
     "metadata": {},
     "output_type": "display_data"
    },
    {
     "data": {
      "text/latex": [
       "$\\displaystyle \\lambda_{i} = \\left\\{ 0 : 1, \\  6 : 1\\right\\}$"
      ],
      "text/plain": [
       "Eq(lambda_i, {0: 1, 6: 1})"
      ]
     },
     "metadata": {},
     "output_type": "display_data"
    },
    {
     "name": "stdout",
     "output_type": "stream",
     "text": [
      "\n",
      "\n",
      "4) Eigenvectors for C:\n"
     ]
    },
    {
     "data": {
      "text/plain": [
       "[(0,\n",
       "  1,\n",
       "  [Matrix([\n",
       "   [-1],\n",
       "   [ 1]])]),\n",
       " (6,\n",
       "  1,\n",
       "  [Matrix([\n",
       "   [1/2],\n",
       "   [  1]])])]"
      ]
     },
     "metadata": {},
     "output_type": "display_data"
    },
    {
     "name": "stdout",
     "output_type": "stream",
     "text": [
      "\n",
      "\n",
      "\n",
      "\n",
      "5) Diagonalize the matrix C as D*P*P^-1 where \n",
      "     P: matrix of eigenvectors \n",
      "     D: a diagonal matrix with eigenvalues on the diagonal \n",
      "     P^-1: the inverse of P\n"
     ]
    },
    {
     "data": {
      "text/latex": [
       "$\\displaystyle P = \\left[\\begin{matrix}-1 & 1\\\\1 & 2\\end{matrix}\\right]$"
      ],
      "text/plain": [
       "Eq(P, Matrix([\n",
       "[-1, 1],\n",
       "[ 1, 2]]))"
      ]
     },
     "metadata": {},
     "output_type": "display_data"
    },
    {
     "data": {
      "text/latex": [
       "$\\displaystyle D = \\left[\\begin{matrix}0 & 0\\\\0 & 6\\end{matrix}\\right]$"
      ],
      "text/plain": [
       "Eq(D, Matrix([\n",
       "[0, 0],\n",
       "[0, 6]]))"
      ]
     },
     "metadata": {},
     "output_type": "display_data"
    },
    {
     "data": {
      "text/latex": [
       "$\\displaystyle P^{-1} = \\left[\\begin{matrix}- \\frac{2}{3} & \\frac{1}{3}\\\\\\frac{1}{3} & \\frac{1}{3}\\end{matrix}\\right]$"
      ],
      "text/plain": [
       "Eq(P^-1, Matrix([\n",
       "[-2/3, 1/3],\n",
       "[ 1/3, 1/3]]))"
      ]
     },
     "metadata": {},
     "output_type": "display_data"
    },
    {
     "data": {
      "text/latex": [
       "$\\displaystyle PD P^{-1} = \\left[\\begin{matrix}2 & 2\\\\4 & 4\\end{matrix}\\right] = C$"
      ],
      "text/plain": [
       "Eq(Eq(PD*P^-1, Matrix([\n",
       "[2, 2],\n",
       "[4, 4]])), C)"
      ]
     },
     "metadata": {},
     "output_type": "display_data"
    },
    {
     "name": "stdout",
     "output_type": "stream",
     "text": [
      "\n",
      "\n",
      "\n",
      "\n",
      "---------------------------------------------------------------------------------------------------------\n",
      "for help on 1), copy/paste https://www.derivative-calculator.net/ or https://www.integral-calculator.com/\n",
      "Differentiate: cos(theta) + theta**(-4)\n",
      "Integrate: 8*theta + tan(theta) - 1\n",
      "https://calculatores.com/eigenvectors-calculator\n",
      "---------------------------------------------------------------------------------------------------------\n",
      "---------------------------------------------------------------------------------------------------------\n",
      "---------------------------------------------------------------------------------------------------------\n"
     ]
    }
   ],
   "source": [
    "from sympy.simplify.fu import TR22,TR2i\n",
    "from sympy.abc import theta\n",
    "from sympy import *\n",
    "import random\n",
    "f,g,h,theta,i = Function('f'),Function('g'),Function('h'),Symbol('theta'),0\n",
    "dkeywords = {\"polylog\",\"Ei\",\"gamma\",\"Piecewise\",\"li\",\"erf\",\"Si\",\"Ci\",\"hyper\",\"fresnel\",\"Li\",\"expint\",\"zoo\",\n",
    "\"nan\",\"oo\",\"abs\",\"re\",\"EulerGamma\", \"sinh\",\"tanh\", \"cosh\",'sign','abs','atan','csc','asin'} \n",
    "ikeywords = {\"polylog\",\"Ei\",\"gamma\",\"Piecewise\", \"li\", \"erf\", \"atan\", \"Si\",  \"Ci\",  \"hyper\",  \"fresnel\",  \"Li\", \n",
    "\"expint\",\"zoo\", \"nan\", \"oo\",\"EulerGamma\",\"sinh\",\"csc\",\"asin\"}\n",
    "keywords2 = {\"sin\",\"cos\",\"tan\"}\n",
    "def random_variable(i):\n",
    "    return Symbol(random.choice([i for i in ['v','t','x','z','y']]), real=True)\n",
    "def random_value(i):\n",
    "    return random.choice([i for i in range(-9,9) if i not in [0]])\n",
    "def power(a):      \n",
    "    return random_value(i)*a**int(random_value(i)/2)\n",
    "def scalar(a):       \n",
    "    return a*random_value(i) + random_value(i)\n",
    "def addSUBTR(a):     \n",
    "    return a+random_value(i)\n",
    "def dmain(a):\n",
    "    def random_math(a): \n",
    "        funs = [power,scalar,addSUBTR,power,scalar,addSUBTR,ln,exp,sin,cos,tan,sqrt]   \n",
    "        operations = [f(a)+g(a),f(a)-g(a),f(a)*g(a),f(a)/g(a),\n",
    "                      f(a)+g(a),f(a)-g(a),f(a)*g(a),f(a)/g(a),\n",
    "                      f(a)+g(a),f(a)-g(a),f(a)*g(a),f(a)/g(a),\n",
    "                      f(a)**g(a),\n",
    "                      ]\n",
    "        operation = operations[random.randrange(0,len(operations))]\n",
    "        return [[[operation.replace(f, i) for i in funs][random.randrange(0,len(funs))].replace(g, i) for i in funs]\\\n",
    "    [random.randrange(0,len(funs))].replace(h, i) for i in funs][random.randrange(0,len(funs))]\n",
    "    return random_math(a)\n",
    "def imain(a):\n",
    "    def random_math2(a):  \n",
    "        funs = [power,scalar,addSUBTR,power,scalar,addSUBTR,ln,exp,sin,cos,tan,sqrt]   \n",
    "        operations = [f(g(a)),f(a)+g(a),f(a)-g(a),f(a)/g(a),f(a)*g(a),\n",
    "                      f(g(a)),f(a)+g(a),f(a)-g(a),f(a)/g(a),f(a)*g(a),\n",
    "                      f(g(a)),f(a)+g(a),f(a)-g(a),f(a)/g(a),f(a)*g(a),\n",
    "                      f(a)**g(a)\n",
    "                     ]\n",
    "        operation = operations[random.randrange(0,len(operations))]\n",
    "        return [[operation.replace(f, i) for i in funs][random.randrange(0,len(funs))].replace(g, i) for i in funs]\\\n",
    "    [random.randrange(0,len(funs))]\n",
    "    return random_math2(a)\n",
    "derror = True\n",
    "def dtest():\n",
    "    global setup1\n",
    "    global derror\n",
    "    global practice1\n",
    "    a = random_variable(i)\n",
    "    setup1 = dmain(a)\n",
    "    practice1 = Derivative(setup1,a)       \n",
    "    p1eq = TR22(Eq(practice1,practice1.doit(),evaluate=False))\n",
    "    if any(kw in str(setup1) for kw in keywords2):\n",
    "        setup1 = setup1.replace(a,theta)\n",
    "        practice1 = Derivative(setup1,theta)   \n",
    "        p1eq = TR22(Eq(practice1,practice1.doit(),evaluate=False))\n",
    "    if p1eq.rhs != 0 and not any(kw in str(p1eq) for kw in dkeywords):\n",
    "        derror = False\n",
    "    return p1eq\n",
    "while derror == True: \n",
    "    output1 = dtest()\n",
    "ierror = True\n",
    "def itest():\n",
    "    global ierror\n",
    "    global practice2\n",
    "    global setup2\n",
    "    a = random_variable(i)\n",
    "    setup2 = imain(a)\n",
    "    practice2 = Integral(setup2,a)  \n",
    "    p2eq = TR22(Eq(practice2,practice2.doit(),evaluate=False))\n",
    "    if str(factor_terms(p2eq.lhs)) != str(factor_terms(p2eq.rhs)) and not any(kw in str(p2eq) for kw in ikeywords)\\\n",
    "    and str(p2eq.lhs) != str(-p2eq.rhs): \n",
    "        if any(kw in str(setup2) for kw in keywords2):\n",
    "            setup2 = setup2.replace(a,theta)\n",
    "            practice2 = Integral(setup2,theta)  \n",
    "            p2eq = TR22(Eq(practice2,practice2.doit(),evaluate=False))\n",
    "        ierror = False\n",
    "    return p2eq\n",
    "while ierror == True:\n",
    "    output2 = itest()\n",
    "questionmark = Symbol('?')\n",
    "addsymbol = Symbol('+')\n",
    "\n",
    "def lhs():\n",
    "    return display(Eq(nsimplify(output1.lhs),questionmark),Eq(nsimplify(output2.lhs),questionmark)) \n",
    "def rhs():\n",
    "    return display(Eq(nsimplify(output1.lhs),nsimplify(output1.rhs)),Eq(nsimplify(output2.lhs),nsimplify(output2.rhs)))\n",
    "\n",
    "def calculus():\n",
    "    print(\"Solve With Pen and Paper:\")\n",
    "    print(\"\\n\")\n",
    "    print('1)')\n",
    "    lhs()\n",
    "    print(\"\\n\")\n",
    "    print(\"Possible answers:\")\n",
    "    print(\"\\n\")\n",
    "    print('1)')\n",
    "    rhs()\n",
    "    print(\"---------------------------------------------------------------------------------------------------------\")\n",
    "\n",
    "def linear_algebra():\n",
    "    lambda1 = Symbol('lambda_i')\n",
    "    kw3 = {\"I\",\"*I\",\"I/2\",\"*I/2\",\"*I:\",\"I:\",\"sqrt\"}\n",
    "    n = 2\n",
    "    def Amgen():\n",
    "        A = randMatrix(n,n,percent=100,min=0, max=3,symmetric=False)\n",
    "        return A\n",
    "    def Bmgen():\n",
    "        B = randMatrix(n,n,percent=100,min=0, max=3,symmetric=False)\n",
    "        return B\n",
    "    def diagonalizer():\n",
    "        mA, mB = Amgen(),Bmgen()\n",
    "        C = mA*mB\n",
    "        P,D = [0,0]\n",
    "        if C.is_diagonalizable():\n",
    "            P, D = C.diagonalize()\n",
    "        else:\n",
    "            diagonalizer()\n",
    "        return P, D, mA, mB, C\n",
    "    def mstest():\n",
    "        P,D,mA,mB,C = diagonalizer()\n",
    "        if not any(kw in str(C) for kw in kw3) and not any(kw in str(P) for kw in kw3) and str(P) != '0' and str(D) != '0':\n",
    "            merror = False\n",
    "            return merror,P,D,mA,mB,C \n",
    "        else:\n",
    "            merror = True\n",
    "            return merror,P,D,mA,mB,C\n",
    "            mstest()\n",
    "    if type(mstest()) == None:\n",
    "        linear_algebra()\n",
    "    else:\n",
    "        merror,P,D,mA,mB,C = mstest()\n",
    "    if merror == False and type(merror) != None:\n",
    "        A0,A1,B0,B1,C0 = Symbol('A'),Symbol('A^-1'),Symbol('B'),Symbol('B^-1'),Symbol('C')\n",
    "        lamda = symbols('lamda')\n",
    "        print(\"2) Multiply the two matrices A and B:\")\n",
    "        eq66 = Eq(A0,mA,evaluate=False),Eq(B0,mB,evaluate=False),Eq(A0*B0,C0,evaluate=False)\n",
    "        display(eq66[0],eq66[1],eq66[2])\n",
    "        print(\"\\n\")\n",
    "        print('3) Calculate the eigenvalues of matrix C by solving the \\n     characteristic equation det(C-lambda*I)=0.')\n",
    "        print(\"\\n\")\n",
    "        print(\"4) Find which eigenvectors correspond to the set of eigenvalues.\")\n",
    "        print(\"\\n\")\n",
    "        print(\"5) Diagonalize the matrix C as D*P*P^-1 where \\n     P: matrix of eigenvectors \\n     D: a diagonal matrix with eigenvalues on the diagonal \\n     P^-1: the inverse of P\")\n",
    "        print(\"\\n\")\n",
    "        print(\"\\n\")\n",
    "        print(\"Possible answers:\")\n",
    "        print(\"\\n\")\n",
    "        print('2)')\n",
    "        display(Eq(Eq(A0*B0,C,evaluate=False),C0,evaluate=False))\n",
    "        print(\"\\n\")\n",
    "        print('3) Eigenvalues for C:  (Eigenalues are on the left side of the colons, right side are multiplicity values)')\n",
    "        display(Eq(0,factor((C.charpoly(lamda)).as_expr()),evaluate=False))\n",
    "        display(Eq(lambda1,C.eigenvals()))\n",
    "        print(\"\\n\")\n",
    "        print(\"4) Eigenvectors for C:\")\n",
    "        display(C.eigenvects())\n",
    "        print(\"\\n\")\n",
    "        print(\"\\n\")\n",
    "        print(\"5) Diagonalize the matrix C as D*P*P^-1 where \\n     P: matrix of eigenvectors \\n     D: a diagonal matrix with eigenvalues on the diagonal \\n     P^-1: the inverse of P\")\n",
    "        P0 = Symbol(\"P\")\n",
    "        D0 = Symbol(\"D\")\n",
    "        P1 = Symbol(\"P^-1\")\n",
    "        PD = Symbol(\"PD\")\n",
    "        display(Eq(P0,P,evaluate=False))\n",
    "        display(Eq(D0,D,evaluate=False))\n",
    "        display(Eq(P1,P**-1,evaluate=False))\n",
    "        display(Eq(Eq(PD*P1,P*D*P**-1,evaluate=False),C0,evaluate=False))\n",
    "    else:\n",
    "        linear_algebra()\n",
    "\n",
    "\n",
    "def plaintext():\n",
    "    print(\"\\n\")\n",
    "    print(\"\\n\")\n",
    "    print(\"---------------------------------------------------------------------------------------------------------\")\n",
    "    print(\"for help on 1), copy/paste https://www.derivative-calculator.net/ or https://www.integral-calculator.com/\")\n",
    "    kw4 = {\"theta\"}\n",
    "    if any(kw in str(nsimplify(output1.lhs)) for kw in kw4):\n",
    "        print(\"Differentiate:\",str(nsimplify(output1.lhs))[11:-8])\n",
    "        p1 = \"    \"+str(nsimplify(output1.lhs))[11:-8]\n",
    "    else:\n",
    "        print(\"Differentiate:\",str(nsimplify(output1.lhs))[11:-4])\n",
    "        p1 = \"    \"+str(nsimplify(output1.lhs))[11:-4]\n",
    "\n",
    "    if any(kw in str(nsimplify(output2.lhs)) for kw in kw4):\n",
    "        print(\"Integrate:\",str(nsimplify(output2.lhs))[9:-8])\n",
    "        p2 = \"    \"+str(nsimplify(output2.lhs))[9:-8]\n",
    "    else:\n",
    "        print(\"Integrate:\",str(nsimplify(output2.lhs))[9:-4]) \n",
    "        p2 = \"    \"+str(nsimplify(output2.lhs))[9:-4]\n",
    "    print(\"https://calculatores.com/eigenvectors-calculator\")\n",
    "    print(\"---------------------------------------------------------------------------------------------------------\")\n",
    "    print(\"---------------------------------------------------------------------------------------------------------\")\n",
    "    print(\"---------------------------------------------------------------------------------------------------------\")\n",
    "calculus()\n",
    "linear_algebra()\n",
    "plaintext()"
   ]
  }
 ],
 "metadata": {
  "kernelspec": {
   "display_name": "Python 3 (ipykernel)",
   "language": "python",
   "name": "python3"
  },
  "language_info": {
   "codemirror_mode": {
    "name": "ipython",
    "version": 3
   },
   "file_extension": ".py",
   "mimetype": "text/x-python",
   "name": "python",
   "nbconvert_exporter": "python",
   "pygments_lexer": "ipython3",
   "version": "3.10.6"
  }
 },
 "nbformat": 4,
 "nbformat_minor": 5
}
