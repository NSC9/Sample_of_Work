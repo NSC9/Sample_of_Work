{
 "cells": [
  {
   "cell_type": "markdown",
   "id": "b74751a4",
   "metadata": {},
   "source": [
    "# Donate With Crypto:\n",
    " Bitcoin (BTC): bc1qtrjmtsfxhmjmu4wwdh03u92gpy662rnt3drlm7\n",
    "\n",
    "Ethereum (ETH): 0x8B20704BB59E985Ad85D2477A9aB85a6F499F9E8\n",
    "\n",
    "Binance (BNB/BEP20): 0x8B20704BB59E985Ad85D2477A9aB85a6F499F9E8\n",
    "\n",
    "Created by https://github.com/NSC9 - MIT License"
   ]
  },
  {
   "cell_type": "markdown",
   "id": "6bdf2faf",
   "metadata": {},
   "source": [
    "# Solve With Pen and Paper:"
   ]
  },
  {
   "cell_type": "code",
   "execution_count": 2,
   "id": "108761f9",
   "metadata": {
    "scrolled": false
   },
   "outputs": [
    {
     "name": "stdout",
     "output_type": "stream",
     "text": [
      "1)\n"
     ]
    },
    {
     "data": {
      "text/latex": [
       "$\\displaystyle \\frac{d}{d t} \\left(3 - 8 t\\right)^{t - 8} = ?$"
      ],
      "text/plain": [
       "Eq(Derivative((3 - 8*t)**(t - 8), t), ?)"
      ]
     },
     "metadata": {},
     "output_type": "display_data"
    },
    {
     "data": {
      "text/latex": [
       "$\\displaystyle \\int \\left(\\sqrt{\\theta} + \\tan{\\left(\\theta \\right)}\\right)\\, d\\theta = ?$"
      ],
      "text/plain": [
       "Eq(Integral(sqrt(theta) + tan(theta), theta), ?)"
      ]
     },
     "metadata": {},
     "output_type": "display_data"
    },
    {
     "name": "stdout",
     "output_type": "stream",
     "text": [
      "2) Multiply these two matrices:\n"
     ]
    },
    {
     "data": {
      "text/latex": [
       "$\\displaystyle A = \\left[\\begin{matrix}-3 & 4\\\\-3 & -1\\end{matrix}\\right]$"
      ],
      "text/plain": [
       "Eq(A, Matrix([\n",
       "[-3,  4],\n",
       "[-3, -1]]))"
      ]
     },
     "metadata": {},
     "output_type": "display_data"
    },
    {
     "data": {
      "text/latex": [
       "$\\displaystyle B = \\left[\\begin{matrix}2 & -4\\\\0 & -3\\end{matrix}\\right]$"
      ],
      "text/plain": [
       "Eq(B, Matrix([\n",
       "[2, -4],\n",
       "[0, -3]]))"
      ]
     },
     "metadata": {},
     "output_type": "display_data"
    },
    {
     "name": "stdout",
     "output_type": "stream",
     "text": [
      "3) Calculate the determinate of matrix AB denoted |AB|.\n",
      "4) Calculate the eigenvalue of matrix AB if possible by solving the characteristic equation det(AB-lambda*I)=0\n",
      "\n",
      "\n",
      "\n",
      "\n",
      "\n",
      "\n",
      "\n",
      "\n",
      "\n",
      "\n",
      "Possible answers:\n",
      "1)\n"
     ]
    },
    {
     "data": {
      "text/latex": [
       "$\\displaystyle \\frac{d}{d t} \\left(3 - 8 t\\right)^{t - 8} = \\left(3 - 8 t\\right)^{t - 8} \\left(\\log{\\left(3 - 8 t \\right)} + \\frac{64 - 8 t}{3 - 8 t}\\right)$"
      ],
      "text/plain": [
       "Eq(Derivative((3 - 8*t)**(t - 8), t), (3 - 8*t)**(t - 8)*(log(3 - 8*t) + (64 - 8*t)/(3 - 8*t)))"
      ]
     },
     "metadata": {},
     "output_type": "display_data"
    },
    {
     "data": {
      "text/latex": [
       "$\\displaystyle \\int \\left(\\sqrt{\\theta} + \\tan{\\left(\\theta \\right)}\\right)\\, d\\theta = \\frac{2 \\theta^{\\frac{3}{2}}}{3} - \\log{\\left(\\cos{\\left(\\theta \\right)} \\right)}$"
      ],
      "text/plain": [
       "Eq(Integral(sqrt(theta) + tan(theta), theta), 2*theta**(3/2)/3 - log(cos(theta)))"
      ]
     },
     "metadata": {},
     "output_type": "display_data"
    },
    {
     "name": "stdout",
     "output_type": "stream",
     "text": [
      "2)\n"
     ]
    },
    {
     "data": {
      "text/latex": [
       "$\\displaystyle A B = \\left[\\begin{matrix}-6 & 0\\\\-6 & 15\\end{matrix}\\right]$"
      ],
      "text/plain": [
       "Eq(A*B, Matrix([\n",
       "[-6,  0],\n",
       "[-6, 15]]))"
      ]
     },
     "metadata": {},
     "output_type": "display_data"
    },
    {
     "name": "stdout",
     "output_type": "stream",
     "text": [
      "3) \n"
     ]
    },
    {
     "data": {
      "text/latex": [
       "$\\displaystyle |AB| = -90$"
      ],
      "text/plain": [
       "Eq(|AB|, -90)"
      ]
     },
     "metadata": {},
     "output_type": "display_data"
    },
    {
     "name": "stdout",
     "output_type": "stream",
     "text": [
      "4)\n"
     ]
    },
    {
     "data": {
      "text/latex": [
       "$\\displaystyle 0 = \\left(\\lambda - 15\\right) \\left(\\lambda + 6\\right)$"
      ],
      "text/plain": [
       "Eq(0, (lamda - 15)*(lamda + 6))"
      ]
     },
     "metadata": {},
     "output_type": "display_data"
    },
    {
     "data": {
      "text/latex": [
       "$\\displaystyle \\lambda_{i} = \\left\\{ -6 : 1, \\  15 : 1\\right\\}$"
      ],
      "text/plain": [
       "Eq(lambda_i, {-6: 1, 15: 1})"
      ]
     },
     "metadata": {},
     "output_type": "display_data"
    },
    {
     "name": "stdout",
     "output_type": "stream",
     "text": [
      "\n",
      "\n",
      "\n",
      "\n",
      "for copy/pasting to https://www.derivative-calculator.net/ or https://www.integral-calculator.com/\n",
      "Differentiate: (3 - 8*t)**(t - 8)\n",
      "Integrate: sqrt(theta) + tan(theta)\n",
      "------------------------------------------------------------------------------------------------------\n",
      "1)\n"
     ]
    },
    {
     "data": {
      "text/latex": [
       "$\\displaystyle \\frac{d}{d t} \\left(3 - 8 t\\right)^{t - 8} = ?$"
      ],
      "text/plain": [
       "Eq(Derivative((3 - 8*t)**(t - 8), t), ?)"
      ]
     },
     "metadata": {},
     "output_type": "display_data"
    },
    {
     "data": {
      "text/latex": [
       "$\\displaystyle \\int \\left(\\sqrt{\\theta} + \\tan{\\left(\\theta \\right)}\\right)\\, d\\theta = ?$"
      ],
      "text/plain": [
       "Eq(Integral(sqrt(theta) + tan(theta), theta), ?)"
      ]
     },
     "metadata": {},
     "output_type": "display_data"
    },
    {
     "name": "stdout",
     "output_type": "stream",
     "text": [
      "2) Multiply these two matrices:\n"
     ]
    },
    {
     "data": {
      "text/latex": [
       "$\\displaystyle A = \\left[\\begin{matrix}-1 & -2 & -4\\\\-4 & 3 & 4\\\\-1 & 2 & -4\\end{matrix}\\right]$"
      ],
      "text/plain": [
       "Eq(A, Matrix([\n",
       "[-1, -2, -4],\n",
       "[-4,  3,  4],\n",
       "[-1,  2, -4]]))"
      ]
     },
     "metadata": {},
     "output_type": "display_data"
    },
    {
     "data": {
      "text/latex": [
       "$\\displaystyle B = \\left[\\begin{matrix}1 & -2 & -3\\\\0 & 2 & 0\\\\-3 & 2 & -1\\end{matrix}\\right]$"
      ],
      "text/plain": [
       "Eq(B, Matrix([\n",
       "[ 1, -2, -3],\n",
       "[ 0,  2,  0],\n",
       "[-3,  2, -1]]))"
      ]
     },
     "metadata": {},
     "output_type": "display_data"
    },
    {
     "name": "stdout",
     "output_type": "stream",
     "text": [
      "3) Calculate the determinate of matrix AB denoted |AB|.\n",
      "\n",
      "\n",
      "\n",
      "\n",
      "\n",
      "\n",
      "\n",
      "\n",
      "\n",
      "\n",
      "Possible answers:\n",
      "1)\n"
     ]
    },
    {
     "data": {
      "text/latex": [
       "$\\displaystyle \\frac{d}{d t} \\left(3 - 8 t\\right)^{t - 8} = \\left(3 - 8 t\\right)^{t - 8} \\left(\\log{\\left(3 - 8 t \\right)} + \\frac{64 - 8 t}{3 - 8 t}\\right)$"
      ],
      "text/plain": [
       "Eq(Derivative((3 - 8*t)**(t - 8), t), (3 - 8*t)**(t - 8)*(log(3 - 8*t) + (64 - 8*t)/(3 - 8*t)))"
      ]
     },
     "metadata": {},
     "output_type": "display_data"
    },
    {
     "data": {
      "text/latex": [
       "$\\displaystyle \\int \\left(\\sqrt{\\theta} + \\tan{\\left(\\theta \\right)}\\right)\\, d\\theta = \\frac{2 \\theta^{\\frac{3}{2}}}{3} - \\log{\\left(\\cos{\\left(\\theta \\right)} \\right)}$"
      ],
      "text/plain": [
       "Eq(Integral(sqrt(theta) + tan(theta), theta), 2*theta**(3/2)/3 - log(cos(theta)))"
      ]
     },
     "metadata": {},
     "output_type": "display_data"
    },
    {
     "name": "stdout",
     "output_type": "stream",
     "text": [
      "2)\n"
     ]
    },
    {
     "data": {
      "text/latex": [
       "$\\displaystyle A B = \\left[\\begin{matrix}11 & -10 & 7\\\\-16 & 22 & 8\\\\11 & -2 & 7\\end{matrix}\\right]$"
      ],
      "text/plain": [
       "Eq(A*B, Matrix([\n",
       "[ 11, -10, 7],\n",
       "[-16,  22, 8],\n",
       "[ 11,  -2, 7]]))"
      ]
     },
     "metadata": {},
     "output_type": "display_data"
    },
    {
     "name": "stdout",
     "output_type": "stream",
     "text": [
      "3) \n"
     ]
    },
    {
     "data": {
      "text/latex": [
       "$\\displaystyle |AB| = -1600$"
      ],
      "text/plain": [
       "Eq(|AB|, -1600)"
      ]
     },
     "metadata": {},
     "output_type": "display_data"
    },
    {
     "name": "stdout",
     "output_type": "stream",
     "text": [
      "\n",
      "\n",
      "\n",
      "\n",
      "for copy/pasting to https://www.derivative-calculator.net/ or https://www.integral-calculator.com/\n",
      "Differentiate: (3 - 8*t)**(t - 8)\n",
      "Integrate: sqrt(theta) + tan(theta)\n",
      "------------------------------------------------------------------------------------------------------\n"
     ]
    }
   ],
   "source": [
    "from sympy.simplify.fu import TR22,TR2i\n",
    "from sympy import *\n",
    "from sympy.abc import theta\n",
    "import random\n",
    "f = Function('f')\n",
    "g = Function('g')\n",
    "h = Function('h')\n",
    "theta = Symbol('theta')\n",
    "i = 0\n",
    "dkeywords = {\"polylog\",\"Ei\",\"gamma\",\"Piecewise\",\"li\",\"erf\",\"Si\",\"Ci\",\"hyper\",\"fresnel\",\"Li\",\"expint\",\"zoo\",\n",
    "\"nan\",\"oo\",\"abs\",\"re\",\"EulerGamma\", \"sinh\",\"tanh\", \"cosh\",'sign','abs','atan','csc','asin'} \n",
    "ikeywords = {\"polylog\",\"Ei\",\"gamma\",\"Piecewise\", \"li\", \"erf\", \"atan\", \"Si\",  \"Ci\",  \"hyper\",  \"fresnel\",  \"Li\", \n",
    "\"expint\",\"zoo\", \"nan\", \"oo\",\"EulerGamma\",\"sinh\",\"csc\",\"asin\"}\n",
    "keywords2 = {\"sin\",\"cos\",\"tan\"}\n",
    "kw3 = {\"I\",\"*I\",\"I/2\",\"*I/2\",\"*I:\",\"I:\"}\n",
    "\n",
    "def random_variable(i):\n",
    "    return Symbol(random.choice([i for i in ['v','t','x','z','y']]), real=True)\n",
    "def random_value(i):\n",
    "    return random.choice([i for i in range(-10,10) if i not in [0]])\n",
    "def power(a):      \n",
    "    return random_value(i)*a**int(random_value(i)/2)\n",
    "def scalar(a):       \n",
    "    return a*random_value(i) + random_value(i)\n",
    "def addSUBTR(a):     \n",
    "    return a+random_value(i)\n",
    "def dmain(a):\n",
    "    def random_math(a): \n",
    "        funs = [power,scalar,addSUBTR,power,scalar,addSUBTR,ln,exp,sin,cos,tan,sqrt]   \n",
    "        operations = [f(a)+g(a),f(a)-g(a),f(a)*g(a),f(a)/g(a),\n",
    "                      f(a)+g(a),f(a)-g(a),f(a)*g(a),f(a)/g(a),\n",
    "                      f(a)+g(a),f(a)-g(a),f(a)*g(a),f(a)/g(a),\n",
    "                      f(a)**g(a),\n",
    "                      ]\n",
    "        operation = operations[random.randrange(0,len(operations))]\n",
    "        return [[[operation.replace(f, i) for i in funs][random.randrange(0,len(funs))].replace(g, i) for i in funs]\\\n",
    "    [random.randrange(0,len(funs))].replace(h, i) for i in funs][random.randrange(0,len(funs))]\n",
    "    return random_math(a)\n",
    "def imain(a):\n",
    "    def random_math2(a):  \n",
    "        funs = [power,scalar,addSUBTR,power,scalar,addSUBTR,ln,exp,sin,cos,tan,sqrt]   \n",
    "        operations = [f(g(a)),f(a)+g(a),f(a)-g(a),f(a)/g(a),f(a)*g(a),\n",
    "                      f(g(a)),f(a)+g(a),f(a)-g(a),f(a)/g(a),f(a)*g(a),\n",
    "                      f(g(a)),f(a)+g(a),f(a)-g(a),f(a)/g(a),f(a)*g(a),\n",
    "                      f(a)**g(a)\n",
    "                     ]\n",
    "        operation = operations[random.randrange(0,len(operations))]\n",
    "        return [[operation.replace(f, i) for i in funs][random.randrange(0,len(funs))].replace(g, i) for i in funs]\\\n",
    "    [random.randrange(0,len(funs))]\n",
    "    return random_math2(a)\n",
    "derror = True\n",
    "def dtest():\n",
    "    global setup1\n",
    "    global derror\n",
    "    global practice1\n",
    "    a = random_variable(i)\n",
    "    setup1 = dmain(a)\n",
    "    practice1 = Derivative(setup1,a)       \n",
    "    p1eq = TR22(Eq(practice1,practice1.doit(),evaluate=False))\n",
    "    if any(kw in str(setup1) for kw in keywords2):\n",
    "        setup1 = setup1.replace(a,theta)\n",
    "        practice1 = Derivative(setup1,theta)   \n",
    "        p1eq = TR22(Eq(practice1,practice1.doit(),evaluate=False))\n",
    "    if p1eq.rhs != 0 and not any(kw in str(p1eq) for kw in dkeywords):\n",
    "        derror = False\n",
    "    return p1eq\n",
    "while derror == True: \n",
    "    output1 = dtest()\n",
    "ierror = True\n",
    "def itest():\n",
    "    global ierror\n",
    "    global practice2\n",
    "    global setup2\n",
    "    a = random_variable(i)\n",
    "    setup2 = imain(a)\n",
    "    practice2 = Integral(setup2,a)  \n",
    "    p2eq = TR22(Eq(practice2,practice2.doit(),evaluate=False))\n",
    "    if str(factor_terms(p2eq.lhs)) != str(factor_terms(p2eq.rhs)) and not any(kw in str(p2eq) for kw in ikeywords)\\\n",
    "    and str(p2eq.lhs) != str(-p2eq.rhs): \n",
    "        if any(kw in str(setup2) for kw in keywords2):\n",
    "            setup2 = setup2.replace(a,theta)\n",
    "            practice2 = Integral(setup2,theta)  \n",
    "            p2eq = TR22(Eq(practice2,practice2.doit(),evaluate=False))\n",
    "        ierror = False\n",
    "    return p2eq\n",
    "while ierror == True:\n",
    "    output2 = itest()\n",
    "questionmark = Symbol('?')\n",
    "addsymbol = Symbol('+')\n",
    "for i in range(1,3):\n",
    "    def lhs():\n",
    "        return display(Eq(nsimplify(output1.lhs),questionmark),Eq(nsimplify(output2.lhs),questionmark)) \n",
    "    def rhs():\n",
    "        return display(Eq(nsimplify(output1.lhs),nsimplify(output1.rhs)),Eq(nsimplify(output2.lhs),nsimplify(output2.rhs)))\n",
    "\n",
    "    k=0\n",
    "    n=random.randrange(2, 4, 1) \n",
    "    A0 = MatrixSymbol('A',n,n)\n",
    "    A1 = MatrixSymbol('A^-1',n,n)\n",
    "    A = randMatrix(n,n,percent=100,min=-4, max=4,symmetric=False)\n",
    "    B0 = MatrixSymbol('B',n,n)\n",
    "    B1 = MatrixSymbol('B^-1',n,n)\n",
    "    lambda1 = Symbol('lambda_i')\n",
    "    lamda = symbols('lamda')\n",
    "    B = randMatrix(n,n,percent=100,min=-4, max=4,symmetric=False)\n",
    "    print('1)')\n",
    "    lhs()\n",
    "    print(\"2) Multiply these two matrices:\")\n",
    "    display(Eq(A0,A,evaluate=False),Eq(B0,B,evaluate=False))\n",
    "    print('3) Calculate the determinate of matrix AB denoted |AB|.')\n",
    "    answer1=A*B\n",
    "    eq55 = Eq(lambda1,answer1.eigenvals())\n",
    "    if not any(kw in str(eq55) for kw in kw3):\n",
    "        if len(str(eq55)) < 180:\n",
    "            print('4) Calculate the eigenvalue of matrix AB if possible by solving the characteristic equation det(AB-lambda*I)=0')\n",
    "    print(\"\\n\")\n",
    "    print(\"\\n\")\n",
    "    print(\"\\n\")\n",
    "    print(\"\\n\")\n",
    "    print(\"\\n\")\n",
    "    print(\"Possible answers:\")\n",
    "    print('1)')\n",
    "    rhs()\n",
    "    print('2)')\n",
    "    display(Eq(A0*B0,answer1))\n",
    "    print('3) ')\n",
    "    dettt = Symbol('|AB|')\n",
    "    display(Eq(dettt,answer1.det()))\n",
    "    if not any(kw in str(eq55) for kw in kw3):\n",
    "        if len(str(eq55)) < 180:\n",
    "            print('4)')\n",
    "            display(Eq(0,factor((answer1.charpoly(lamda)).as_expr()),evaluate=False))\n",
    "            display(eq55)\n",
    "    print(\"\\n\")\n",
    "    print(\"\\n\")\n",
    "    keywords3 = {\"theta\"}\n",
    "    print(\"for copy/pasting to https://www.derivative-calculator.net/ or https://www.integral-calculator.com/\")\n",
    "    if any(kw in str(nsimplify(output1.lhs)) for kw in keywords3):\n",
    "        print(\"Differentiate:\",str(nsimplify(output1.lhs))[11:-8])\n",
    "        p1 = \"    \"+str(nsimplify(output1.lhs))[11:-8]\n",
    "    else:\n",
    "        print(\"Differentiate:\",str(nsimplify(output1.lhs))[11:-4])\n",
    "        p1 = \"    \"+str(nsimplify(output1.lhs))[11:-4]\n",
    "\n",
    "    if any(kw in str(nsimplify(output2.lhs)) for kw in keywords3):\n",
    "        print(\"Integrate:\",str(nsimplify(output2.lhs))[9:-8])\n",
    "        p2 = \"    \"+str(nsimplify(output2.lhs))[9:-8]\n",
    "    else:\n",
    "        print(\"Integrate:\",str(nsimplify(output2.lhs))[9:-4]) \n",
    "        p2 = \"    \"+str(nsimplify(output2.lhs))[9:-4]\n",
    "    print(\"------------------------------------------------------------------------------------------------------\")\n"
   ]
  }
 ],
 "metadata": {
  "kernelspec": {
   "display_name": "Python 3 (ipykernel)",
   "language": "python",
   "name": "python3"
  },
  "language_info": {
   "codemirror_mode": {
    "name": "ipython",
    "version": 3
   },
   "file_extension": ".py",
   "mimetype": "text/x-python",
   "name": "python",
   "nbconvert_exporter": "python",
   "pygments_lexer": "ipython3",
   "version": "3.10.6"
  }
 },
 "nbformat": 4,
 "nbformat_minor": 5
}
