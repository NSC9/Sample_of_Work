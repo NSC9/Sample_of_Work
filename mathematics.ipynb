{
 "cells": [
  {
   "cell_type": "markdown",
   "id": "69dc5572",
   "metadata": {},
   "source": [
    "This program is designed to accelerate ones ability to solve mathematical/logical problems using pen and paper to strengthen intuition. I use this program everyday for less than 15 minutes and post example use cases on my twitter @Noeo1234. "
   ]
  },
  {
   "cell_type": "markdown",
   "id": "b74751a4",
   "metadata": {},
   "source": [
    "# Donate With Crypto:\n",
    " Bitcoin (BTC): bc1qtrjmtsfxhmjmu4wwdh03u92gpy662rnt3drlm7\n",
    "\n",
    "Ethereum (ETH): 0x8B20704BB59E985Ad85D2477A9aB85a6F499F9E8\n",
    "\n",
    "Binance (BNB/BEP20): 0x8B20704BB59E985Ad85D2477A9aB85a6F499F9E8\n",
    "\n",
    "Created by https://github.com/NSC9 - MIT License"
   ]
  },
  {
   "cell_type": "code",
   "execution_count": 3,
   "id": "108761f9",
   "metadata": {
    "scrolled": false
   },
   "outputs": [
    {
     "name": "stdout",
     "output_type": "stream",
     "text": [
      "Solve with Pen and Paper:\n",
      "1)\n"
     ]
    },
    {
     "data": {
      "text/latex": [
       "$\\displaystyle \\frac{d}{d x} k x^{k} \\left(a + x\\right) = ?$"
      ],
      "text/plain": [
       "Eq(Derivative(k*x**k*(a + x), x), ?)"
      ]
     },
     "metadata": {},
     "output_type": "display_data"
    },
    {
     "data": {
      "text/latex": [
       "$\\displaystyle \\int \\left(a + b + 2 x\\right)\\, dx = ?$"
      ],
      "text/plain": [
       "Eq(Integral(a + b + 2*x, x), ?)"
      ]
     },
     "metadata": {},
     "output_type": "display_data"
    },
    {
     "name": "stdout",
     "output_type": "stream",
     "text": [
      "\n",
      "\n",
      "Possible answers:\n",
      "\n",
      "\n",
      "1)\n"
     ]
    },
    {
     "data": {
      "text/latex": [
       "$\\displaystyle \\frac{d}{d x} k x^{k} \\left(a + x\\right) = \\frac{k^{2} x^{k} \\left(a + x\\right)}{x} + k x^{k}$"
      ],
      "text/plain": [
       "Eq(Derivative(k*x**k*(a + x), x), k**2*x**k*(a + x)/x + k*x**k)"
      ]
     },
     "metadata": {},
     "output_type": "display_data"
    },
    {
     "data": {
      "text/latex": [
       "$\\displaystyle \\int \\left(a + b + 2 x\\right)\\, dx = x^{2} + x \\left(a + b\\right)$"
      ],
      "text/plain": [
       "Eq(Integral(a + b + 2*x, x), x**2 + x*(a + b))"
      ]
     },
     "metadata": {},
     "output_type": "display_data"
    },
    {
     "name": "stdout",
     "output_type": "stream",
     "text": [
      "----------------------------------------------------------------------\n",
      "2) Calculate the eigenvalues of matrix M by solving the \n",
      "   characteristic equation det(M-lambda*I).\n"
     ]
    },
    {
     "data": {
      "text/latex": [
       "$\\displaystyle M = \\left[\\begin{matrix}8 & 0\\\\4 & 7\\end{matrix}\\right]$"
      ],
      "text/plain": [
       "Eq(M, Matrix([\n",
       "[8, 0],\n",
       "[4, 7]]))"
      ]
     },
     "metadata": {},
     "output_type": "display_data"
    },
    {
     "name": "stdout",
     "output_type": "stream",
     "text": [
      "3) Find which eigenvectors correspond to answer(2) by solving \n",
      "   null(det(M-lambda*I)) for each eigenvalue or lambda.\n",
      "\n",
      "\n",
      "4) Diagonalize the matrix MP = PD_M where \n",
      "   P: matrix of M's eigenvectors \n",
      "   D_M: a 0 matrix that places M's eigenvalues on its diagonal entries\n",
      "\n",
      "\n",
      "Possible answers:\n",
      "\n",
      "\n",
      "2)\n"
     ]
    },
    {
     "data": {
      "text/latex": [
       "$\\displaystyle 0 = \\left(\\lambda - 8\\right) \\left(\\lambda - 7\\right)$"
      ],
      "text/plain": [
       "Eq(0, (lamda - 8)*(lamda - 7))"
      ]
     },
     "metadata": {},
     "output_type": "display_data"
    },
    {
     "name": "stdout",
     "output_type": "stream",
     "text": [
      "\n",
      "\n",
      "3)\n"
     ]
    },
    {
     "data": {
      "text/latex": [
       "$\\displaystyle E_{8} = \\left[\\begin{matrix}0\\\\1\\end{matrix}\\right]$"
      ],
      "text/plain": [
       "Eq(E_8, Matrix([\n",
       "[0],\n",
       "[1]]))"
      ]
     },
     "metadata": {},
     "output_type": "display_data"
    },
    {
     "data": {
      "text/latex": [
       "$\\displaystyle E_{7} = \\left[\\begin{matrix}1\\\\4\\end{matrix}\\right]$"
      ],
      "text/plain": [
       "Eq(E_7, Matrix([\n",
       "[1],\n",
       "[4]]))"
      ]
     },
     "metadata": {},
     "output_type": "display_data"
    },
    {
     "name": "stdout",
     "output_type": "stream",
     "text": [
      "\n",
      "\n",
      "4)\n"
     ]
    },
    {
     "data": {
      "text/latex": [
       "$\\displaystyle M = \\left[\\begin{matrix}8 & 0\\\\4 & 7\\end{matrix}\\right]$"
      ],
      "text/plain": [
       "Eq(M, Matrix([\n",
       "[8, 0],\n",
       "[4, 7]]))"
      ]
     },
     "metadata": {},
     "output_type": "display_data"
    },
    {
     "data": {
      "text/latex": [
       "$\\displaystyle P = \\left[\\begin{matrix}0 & 1\\\\1 & 4\\end{matrix}\\right]$"
      ],
      "text/plain": [
       "Eq(P, Matrix([\n",
       "[0, 1],\n",
       "[1, 4]]))"
      ]
     },
     "metadata": {},
     "output_type": "display_data"
    },
    {
     "data": {
      "text/latex": [
       "$\\displaystyle D_{M} = \\left[\\begin{matrix}7 & 0\\\\0 & 8\\end{matrix}\\right]$"
      ],
      "text/plain": [
       "Eq(D_M, Matrix([\n",
       "[7, 0],\n",
       "[0, 8]]))"
      ]
     },
     "metadata": {},
     "output_type": "display_data"
    },
    {
     "data": {
      "text/latex": [
       "$\\displaystyle MP = \\left[\\begin{matrix}0 & 8\\\\7 & 32\\end{matrix}\\right] = PD_{M}$"
      ],
      "text/plain": [
       "Eq(Eq(MP, Matrix([\n",
       "[0,  8],\n",
       "[7, 32]])), PD_M)"
      ]
     },
     "metadata": {},
     "output_type": "display_data"
    },
    {
     "name": "stdout",
     "output_type": "stream",
     "text": [
      "----------------------------------------------------------------------\n",
      "5) Convert to Disjunctive Normal Form:\n"
     ]
    },
    {
     "data": {
      "text/latex": [
       "$\\displaystyle (∼ C → ∼ C)  ∨  (U → ∼ S)$"
      ],
      "text/plain": [
       "(∼ C → ∼ C)  ∨  (U → ∼ S)"
      ]
     },
     "metadata": {},
     "output_type": "display_data"
    },
    {
     "name": "stdout",
     "output_type": "stream",
     "text": [
      "\n",
      "\n",
      "----------------------------------------------------------------------\n",
      "for help on 1): copy/paste expressions to https://www.derivative-calculator.net/ or https://www.integral-calculator.com/\n",
      "     Differentiate: k*x**k*(a + x)\n",
      "     Integrate: a + b + 2*x\n",
      "\n",
      "\n",
      "5) Chang and Lee. Computer Science and Applied Mathematics. 'Symbolic Logic and Mechanical Theorem Proving.' Academic Press, Inc. 1973. Page 13-15.\n"
     ]
    }
   ],
   "source": [
    "# Sympy v1.12\n",
    "from sympy.simplify.fu import TR22\n",
    "from sympy import *\n",
    "import random\n",
    "f,g,h,i,x = Function('f'),Function('g'),Function('h'),0,Symbol('x')\n",
    "keywords = {\"polylog\",\"Ei\",\"gamma\",\"Piecewise\",\"li\",\"erf\",\n",
    "             \"hyper\",\"fresnel\",\"Li\",\"expint\",\"zoo\",\"nan\",\"oo\",\"abs\",\n",
    "             \"re\",\"EulerGamma\", \"sinh\",\"tanh\", \"cosh\",'sign',\"abs\",\n",
    "             \"atan\",\"csc\",\"asin\",\"Ci\",\"Si\"}\n",
    "def random_variable(i):\n",
    "    return Symbol(random.choice([i for i in ['a','b','c','k']]), integer=True)\n",
    "def power(x):      \n",
    "    return random_variable(i)*x**random_variable(i)\n",
    "def scalar(x):       \n",
    "    return x*random_variable(i) + random_variable(i)\n",
    "def addSUBTR(x):     \n",
    "    return x+random_variable(i)\n",
    "def dmain(x):\n",
    "    def random_math(x): \n",
    "        funs = [power,scalar,addSUBTR,power,scalar,addSUBTR,\n",
    "                power,scalar,addSUBTR,power,scalar,addSUBTR,\n",
    "                sqrt,ln,exp,sin,cos,tan]   \n",
    "        operations = [f(x)+g(x),f(x)-g(x),f(x)*g(x),f(x)/g(x),\n",
    "                      f(x)+g(x),f(x)-g(x),f(x)*g(x),f(x)/g(x),\n",
    "                      f(x)+g(x),f(x)-g(x),f(x)*g(x),f(x)/g(x),\n",
    "                      f(x)+g(x),f(x)-g(x),f(x)*g(x),f(x)/g(x),\n",
    "                      f(x)+g(x),f(x)-g(x),f(x)*g(x),f(x)/g(x),\n",
    "                      f(x)**g(x),]\n",
    "        operation = operations[random.randrange(0,len(operations))]\n",
    "        return [[[operation.replace(f, i) for i in funs][random.randrange(0,len(funs))].replace(g, i) for i in funs]\\\n",
    "    [random.randrange(0,len(funs))].replace(h, i) for i in funs][random.randrange(0,len(funs))]\n",
    "    return random_math(x)\n",
    "def imain(x):\n",
    "    def random_math2(x):  \n",
    "        funs = [power,scalar,addSUBTR,power,scalar,addSUBTR,sqrt,\n",
    "                power,scalar,addSUBTR,power,scalar,addSUBTR,sqrt,\n",
    "                ln,exp,sin,cos,tan]   \n",
    "        operations = [f(g(x)),f(x)+g(x),f(x)-g(x),f(x)/g(x),f(x)*g(x)]\n",
    "        operation = operations[random.randrange(0,len(operations))]\n",
    "        return [[operation.replace(f, i) for i in funs][random.randrange(0,len(funs))].replace(g, i) for i in funs]\\\n",
    "    [random.randrange(0,len(funs))]\n",
    "    return random_math2(x)\n",
    "derror = True\n",
    "def dtest():\n",
    "    global derror\n",
    "    global practice1\n",
    "    global setup1\n",
    "    setup1 = dmain(x)\n",
    "    practice1 = Derivative(setup1,x)       \n",
    "    p1eq = TR22(Eq(practice1,practice1.doit(),evaluate=False))\n",
    "    if p1eq.rhs != 0 and not any(kw in str(p1eq) for kw in keywords):\n",
    "        derror = False\n",
    "    return p1eq\n",
    "while derror == True: \n",
    "    output1 = dtest()\n",
    "ierror = True\n",
    "def itest():\n",
    "    global ierror\n",
    "    global practice2\n",
    "    global setup2\n",
    "    setup2 = imain(x)\n",
    "    practice2 = Integral(setup2,x)  \n",
    "    p2eq = TR22(Eq(practice2,practice2.doit(),evaluate=False))\n",
    "    if str(factor_terms(p2eq.lhs)) != str(factor_terms(p2eq.rhs)) and not any(kw in str(p2eq) for kw in keywords)\\\n",
    "    and str(p2eq.lhs) != str(-p2eq.rhs): \n",
    "        ierror = False\n",
    "    return p2eq\n",
    "while ierror == True:\n",
    "    output2 = itest()\n",
    "questionmark = Symbol('?')\n",
    "addsymbol = Symbol('+')\n",
    "\n",
    "def lhs():\n",
    "    return display(Eq(nsimplify(output1.lhs),questionmark),Eq(nsimplify(output2.lhs),questionmark)) \n",
    "def rhs():\n",
    "    return display(Eq(nsimplify(output1.lhs),nsimplify(output1.rhs)),Eq(nsimplify(output2.lhs),nsimplify(output2.rhs)))\n",
    "\n",
    "def calculus():\n",
    "    print('Solve with Pen and Paper:')\n",
    "    print('1)')\n",
    "    lhs()\n",
    "    print(\"\\n\")\n",
    "    print(\"Possible answers:\")\n",
    "    print(\"\\n\")\n",
    "    print('1)')\n",
    "    rhs()\n",
    "    print(\"----------------------------------------------------------------------\")\n",
    "\n",
    "def linear_algebra():\n",
    "    kw3 = {\"I\",\"*I\",\"I/2\",\"*I/2\",\"*I:\",\"I:\",\"sqrt\"}\n",
    "    n = 2\n",
    "    def Mgen():\n",
    "        M = randMatrix(n,n,percent=100,min=0, max=9,symmetric=False)\n",
    "        return M\n",
    "    def diagonalizer():\n",
    "        M = Mgen()\n",
    "        P,D = [0,0]\n",
    "        if M.is_diagonalizable():\n",
    "            P, D = M.diagonalize()\n",
    "        else:\n",
    "            diagonalizer()\n",
    "        return P, D, M\n",
    "    def mstest():\n",
    "        P,D,M = diagonalizer()\n",
    "        if not any(kw in str(M) for kw in kw3) and not any(kw in str(P) for kw in kw3) and str(P) != '0' and str(D) != '0':\n",
    "            merror = False\n",
    "            return merror,P,D,M\n",
    "        else:\n",
    "            merror = True\n",
    "            return merror,P,D,M\n",
    "            mstest()\n",
    "    if type(mstest()) == None:\n",
    "        linear_algebra()\n",
    "    else:\n",
    "        merror,P,D,M = mstest()\n",
    "    if merror == False and type(merror) != None:\n",
    "        M0 = Symbol('M')\n",
    "        lamda = symbols('lamda')\n",
    "        print('2) Calculate the eigenvalues of matrix M by solving the \\n   characteristic equation det(M-lambda*I).')\n",
    "        display(Eq(M0,M,evaluate=False))\n",
    "        print(\"3) Find which eigenvectors correspond to answer(2) by solving \\n   null(det(M-lambda*I)) for each eigenvalue or lambda.\")\n",
    "        print(\"\\n\")\n",
    "        print(\"4) Diagonalize the matrix MP = PD_M where \\n   P: matrix of M's eigenvectors \\n   D_M: a 0 matrix that places M's eigenvalues on its diagonal entries\")\n",
    "        print(\"\\n\")\n",
    "        print(\"Possible answers:\")\n",
    "        print(\"\\n\")\n",
    "        print(\"2)\")\n",
    "        display(Eq(0,factor((M.charpoly(lamda)).as_expr()),evaluate=False))\n",
    "        eigenvs = M.eigenvals()\n",
    "        if len(str(eigenvs)) == 12:\n",
    "            k1,k2 = str(eigenvs)[1:-10],str(eigenvs)[7:8]\n",
    "        elif len(str(eigenvs)) == 13:\n",
    "            k1,k2 = str(eigenvs)[1:-10],str(eigenvs)[7:9]\n",
    "        else:\n",
    "            k1,k2 = str(eigenvs)[1:-10],str(eigenvs)[7:10]\n",
    "        print(\"\\n\")\n",
    "        print(\"3)\")\n",
    "        eigvec0,eigvec1 = Symbol('E_%s'%k1),Symbol('E_%s'%k2)\n",
    "        display(Eq(eigvec0,P.col(0),evaluate=False))\n",
    "        display(Eq(eigvec1,P.col(1),evaluate=False))\n",
    "        print(\"\\n\")\n",
    "        print(\"4)\")\n",
    "        P0 = Symbol(\"P\")\n",
    "        D0 = Symbol(\"D_M\")\n",
    "        PD = Symbol(\"PD_M\")\n",
    "        MP = Symbol(\"MP\")\n",
    "        display(Eq(M0,M,evaluate=False))\n",
    "        display(Eq(P0,P,evaluate=False))\n",
    "        display(Eq(D0,D,evaluate=False))\n",
    "        display(Eq(Eq(MP,M*P,evaluate=False),PD,evaluate=False)) \n",
    "    else:\n",
    "        linear_algebra()\n",
    "   \n",
    "    \n",
    "def prop_logic_gen():\n",
    "    print(\"----------------------------------------------------------------------\")    \n",
    "    print(\"5) Convert to Disjunctive Normal Form:\")\n",
    "    def ran_var(i):\n",
    "        return Symbol(random.choice([i for i in ['A','B','C','D','G','H','P','Q','R','S','□','■','F','T','U','W']]))\n",
    "    def L(i):\n",
    "        if random.choices([1, 2])[0] > 1:  \n",
    "            tild = Symbol('∼')\n",
    "            L = Symbol('%s %s'%(tild,ran_var(i)))\n",
    "        else:\n",
    "            L = ran_var(i)\n",
    "        return L\n",
    "    def logic():\n",
    "        def ifthen():  \n",
    "            ifthen = Symbol('→')\n",
    "            ifthen = Symbol('%s %s %s'%(L(i),ifthen,L(i)))\n",
    "            return ifthen\n",
    "        def Or():\n",
    "            Or = Symbol(' ∨ ')\n",
    "            Or = Symbol('%s %s %s'%(L(i),Or,L(i)))\n",
    "            return Or\n",
    "        def And():\n",
    "            And = Symbol('∧')\n",
    "            And = Symbol('%s %s %s'%(L(i),And,L(i)))\n",
    "            return And\n",
    "        return ifthen(),Or(),And()\n",
    "\n",
    "    def get_formula():\n",
    "        value,value2 = random.randint(1, 3),random.randint(1, 3)\n",
    "        if isinstance(value, int) and isinstance(value2, int): \n",
    "            if value in [1, 2, 3] and value2 in [1, 2, 3]: \n",
    "                def rand_op(i):\n",
    "                    return Symbol(random.choice([i for i in ['∧',' ∨ ','→']]))\n",
    "                logic_list = list(logic())\n",
    "                logic_list2 = list(logic())\n",
    "                formula = Symbol('(%s) %s (%s)' % (logic_list[value-1], rand_op(i), logic_list2[value2-1]))\n",
    "                return formula\n",
    "            else:\n",
    "                return None\n",
    "    output = None\n",
    "    while output is None:\n",
    "        output = get_formula()\n",
    "    return display(output)\n",
    "    \n",
    "def plaintext():\n",
    "    print(\"\\n\")\n",
    "    print(\"----------------------------------------------------------------------\") \n",
    "    print(\"for help on 1): copy/paste expressions to https://www.derivative-calculator.net/ or https://www.integral-calculator.com/\")\n",
    "    print(\"     Differentiate:\",str(nsimplify(output1.lhs))[11:-4])\n",
    "    print(\"     Integrate:\",str(nsimplify(output2.lhs))[9:-4]) \n",
    "    print(\"\\n\")\n",
    "    print(\"5) Chang and Lee. Computer Science and Applied Mathematics. 'Symbolic Logic and Mechanical Theorem Proving.' Academic Press, Inc. 1973. Page 13-15.\")\n",
    "def main():\n",
    "    calculus()\n",
    "    linear_algebra()\n",
    "    prop_logic_gen()\n",
    "    plaintext()\n",
    "main()"
   ]
  }
 ],
 "metadata": {
  "kernelspec": {
   "display_name": "Python 3 (ipykernel)",
   "language": "python",
   "name": "python3"
  },
  "language_info": {
   "codemirror_mode": {
    "name": "ipython",
    "version": 3
   },
   "file_extension": ".py",
   "mimetype": "text/x-python",
   "name": "python",
   "nbconvert_exporter": "python",
   "pygments_lexer": "ipython3",
   "version": "3.10.12"
  }
 },
 "nbformat": 4,
 "nbformat_minor": 5
}
