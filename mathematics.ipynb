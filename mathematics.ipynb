{
 "cells": [
  {
   "cell_type": "markdown",
   "id": "6bdf2faf",
   "metadata": {},
   "source": [
    "# Solve With Pen and Paper:"
   ]
  },
  {
   "cell_type": "code",
   "execution_count": 8,
   "id": "108761f9",
   "metadata": {
    "scrolled": false
   },
   "outputs": [
    {
     "name": "stdout",
     "output_type": "stream",
     "text": [
      "1)\n"
     ]
    },
    {
     "data": {
      "text/latex": [
       "$\\displaystyle \\frac{d}{d v} \\left(- 4 v - \\log{\\left(v \\right)} + 9\\right) = ?$"
      ],
      "text/plain": [
       "Eq(Derivative(-4*v - log(v) + 9, v), ?)"
      ]
     },
     "metadata": {},
     "output_type": "display_data"
    },
    {
     "data": {
      "text/latex": [
       "$\\displaystyle \\int \\left(z - 12\\right)\\, dz = ?$"
      ],
      "text/plain": [
       "Eq(Integral(z - 12, z), ?)"
      ]
     },
     "metadata": {},
     "output_type": "display_data"
    },
    {
     "name": "stdout",
     "output_type": "stream",
     "text": [
      "2) Multiply these two matrices:\n"
     ]
    },
    {
     "data": {
      "text/latex": [
       "$\\displaystyle A = \\left[\\begin{matrix}5 & 6\\\\8 & 4\\end{matrix}\\right]$"
      ],
      "text/plain": [
       "Eq(A, Matrix([\n",
       "[5, 6],\n",
       "[8, 4]]))"
      ]
     },
     "metadata": {},
     "output_type": "display_data"
    },
    {
     "data": {
      "text/latex": [
       "$\\displaystyle B = \\left[\\begin{matrix}8 & 1\\\\1 & 5\\end{matrix}\\right]$"
      ],
      "text/plain": [
       "Eq(B, Matrix([\n",
       "[8, 1],\n",
       "[1, 5]]))"
      ]
     },
     "metadata": {},
     "output_type": "display_data"
    },
    {
     "name": "stdout",
     "output_type": "stream",
     "text": [
      "3) Calculate the determinate of matrix AB denoted |AB|.\n",
      "\n",
      "\n",
      "\n",
      "\n",
      "\n",
      "\n",
      "\n",
      "\n",
      "\n",
      "\n",
      "Possible answers:\n",
      "1)\n"
     ]
    },
    {
     "data": {
      "text/latex": [
       "$\\displaystyle \\frac{d}{d v} \\left(- 4 v - \\log{\\left(v \\right)} + 9\\right) = -4 - \\frac{1}{v}$"
      ],
      "text/plain": [
       "Eq(Derivative(-4*v - log(v) + 9, v), -4 - 1/v)"
      ]
     },
     "metadata": {},
     "output_type": "display_data"
    },
    {
     "data": {
      "text/latex": [
       "$\\displaystyle \\int \\left(z - 12\\right)\\, dz = \\frac{z^{2}}{2} - 12 z$"
      ],
      "text/plain": [
       "Eq(Integral(z - 12, z), z**2/2 - 12*z)"
      ]
     },
     "metadata": {},
     "output_type": "display_data"
    },
    {
     "name": "stdout",
     "output_type": "stream",
     "text": [
      "2)\n"
     ]
    },
    {
     "data": {
      "text/latex": [
       "$\\displaystyle A B = \\left[\\begin{matrix}46 & 35\\\\68 & 28\\end{matrix}\\right]$"
      ],
      "text/plain": [
       "Eq(A*B, Matrix([\n",
       "[46, 35],\n",
       "[68, 28]]))"
      ]
     },
     "metadata": {},
     "output_type": "display_data"
    },
    {
     "name": "stdout",
     "output_type": "stream",
     "text": [
      "3) \n"
     ]
    },
    {
     "data": {
      "text/latex": [
       "$\\displaystyle |AB| = -1092$"
      ],
      "text/plain": [
       "Eq(|AB|, -1092)"
      ]
     },
     "metadata": {},
     "output_type": "display_data"
    },
    {
     "name": "stdout",
     "output_type": "stream",
     "text": [
      "\n",
      "\n",
      "\n",
      "\n",
      "hint: |AB| = |A|*|B|\n",
      "\n",
      "\n",
      "\n",
      "\n",
      "        for copy/pasting for 3rd party calculators to learn the steps:\n",
      "Differentiate: -4*v - log(v) + 9\n",
      "Integrate: z - 12\n",
      "Matrix([[5, 6], [8, 4]])\n",
      "Matrix([[8, 1], [1, 5]])\n",
      "Matrix([[46, 35], [68, 28]])\n",
      "------------------------------------------------------------------------------------------------------\n",
      "1)\n"
     ]
    },
    {
     "data": {
      "text/latex": [
       "$\\displaystyle \\frac{d}{d v} \\left(- 4 v - \\log{\\left(v \\right)} + 9\\right) = ?$"
      ],
      "text/plain": [
       "Eq(Derivative(-4*v - log(v) + 9, v), ?)"
      ]
     },
     "metadata": {},
     "output_type": "display_data"
    },
    {
     "data": {
      "text/latex": [
       "$\\displaystyle \\int \\left(z - 12\\right)\\, dz = ?$"
      ],
      "text/plain": [
       "Eq(Integral(z - 12, z), ?)"
      ]
     },
     "metadata": {},
     "output_type": "display_data"
    },
    {
     "name": "stdout",
     "output_type": "stream",
     "text": [
      "2) Multiply these two matrices:\n"
     ]
    },
    {
     "data": {
      "text/latex": [
       "$\\displaystyle A = \\left[\\begin{matrix}0 & 8\\\\4 & 4\\end{matrix}\\right]$"
      ],
      "text/plain": [
       "Eq(A, Matrix([\n",
       "[0, 8],\n",
       "[4, 4]]))"
      ]
     },
     "metadata": {},
     "output_type": "display_data"
    },
    {
     "data": {
      "text/latex": [
       "$\\displaystyle B = \\left[\\begin{matrix}6 & 7\\\\8 & 1\\end{matrix}\\right]$"
      ],
      "text/plain": [
       "Eq(B, Matrix([\n",
       "[6, 7],\n",
       "[8, 1]]))"
      ]
     },
     "metadata": {},
     "output_type": "display_data"
    },
    {
     "name": "stdout",
     "output_type": "stream",
     "text": [
      "3) Calculate the determinate of matrix AB denoted |AB|.\n",
      "\n",
      "\n",
      "\n",
      "\n",
      "\n",
      "\n",
      "\n",
      "\n",
      "\n",
      "\n",
      "Possible answers:\n",
      "1)\n"
     ]
    },
    {
     "data": {
      "text/latex": [
       "$\\displaystyle \\frac{d}{d v} \\left(- 4 v - \\log{\\left(v \\right)} + 9\\right) = -4 - \\frac{1}{v}$"
      ],
      "text/plain": [
       "Eq(Derivative(-4*v - log(v) + 9, v), -4 - 1/v)"
      ]
     },
     "metadata": {},
     "output_type": "display_data"
    },
    {
     "data": {
      "text/latex": [
       "$\\displaystyle \\int \\left(z - 12\\right)\\, dz = \\frac{z^{2}}{2} - 12 z$"
      ],
      "text/plain": [
       "Eq(Integral(z - 12, z), z**2/2 - 12*z)"
      ]
     },
     "metadata": {},
     "output_type": "display_data"
    },
    {
     "name": "stdout",
     "output_type": "stream",
     "text": [
      "2)\n"
     ]
    },
    {
     "data": {
      "text/latex": [
       "$\\displaystyle A B = \\left[\\begin{matrix}64 & 8\\\\56 & 32\\end{matrix}\\right]$"
      ],
      "text/plain": [
       "Eq(A*B, Matrix([\n",
       "[64,  8],\n",
       "[56, 32]]))"
      ]
     },
     "metadata": {},
     "output_type": "display_data"
    },
    {
     "name": "stdout",
     "output_type": "stream",
     "text": [
      "3) \n"
     ]
    },
    {
     "data": {
      "text/latex": [
       "$\\displaystyle |AB| = 1600$"
      ],
      "text/plain": [
       "Eq(|AB|, 1600)"
      ]
     },
     "metadata": {},
     "output_type": "display_data"
    },
    {
     "name": "stdout",
     "output_type": "stream",
     "text": [
      "\n",
      "\n",
      "\n",
      "\n",
      "hint: |AB| = |A|*|B|\n",
      "\n",
      "\n",
      "\n",
      "\n",
      "        for copy/pasting for 3rd party calculators to learn the steps:\n",
      "Differentiate: -4*v - log(v) + 9\n",
      "Integrate: z - 12\n",
      "Matrix([[0, 8], [4, 4]])\n",
      "Matrix([[6, 7], [8, 1]])\n",
      "Matrix([[64, 8], [56, 32]])\n",
      "------------------------------------------------------------------------------------------------------\n",
      "1)\n"
     ]
    },
    {
     "data": {
      "text/latex": [
       "$\\displaystyle \\frac{d}{d v} \\left(- 4 v - \\log{\\left(v \\right)} + 9\\right) = ?$"
      ],
      "text/plain": [
       "Eq(Derivative(-4*v - log(v) + 9, v), ?)"
      ]
     },
     "metadata": {},
     "output_type": "display_data"
    },
    {
     "data": {
      "text/latex": [
       "$\\displaystyle \\int \\left(z - 12\\right)\\, dz = ?$"
      ],
      "text/plain": [
       "Eq(Integral(z - 12, z), ?)"
      ]
     },
     "metadata": {},
     "output_type": "display_data"
    },
    {
     "name": "stdout",
     "output_type": "stream",
     "text": [
      "2) Multiply these two matrices:\n"
     ]
    },
    {
     "data": {
      "text/latex": [
       "$\\displaystyle A = \\left[\\begin{matrix}9 & 5\\\\0 & 5\\end{matrix}\\right]$"
      ],
      "text/plain": [
       "Eq(A, Matrix([\n",
       "[9, 5],\n",
       "[0, 5]]))"
      ]
     },
     "metadata": {},
     "output_type": "display_data"
    },
    {
     "data": {
      "text/latex": [
       "$\\displaystyle B = \\left[\\begin{matrix}5 & 10\\\\3 & 3\\end{matrix}\\right]$"
      ],
      "text/plain": [
       "Eq(B, Matrix([\n",
       "[5, 10],\n",
       "[3,  3]]))"
      ]
     },
     "metadata": {},
     "output_type": "display_data"
    },
    {
     "name": "stdout",
     "output_type": "stream",
     "text": [
      "3) Calculate the determinate of matrix AB denoted |AB|.\n",
      "\n",
      "\n",
      "\n",
      "\n",
      "\n",
      "\n",
      "\n",
      "\n",
      "\n",
      "\n",
      "Possible answers:\n",
      "1)\n"
     ]
    },
    {
     "data": {
      "text/latex": [
       "$\\displaystyle \\frac{d}{d v} \\left(- 4 v - \\log{\\left(v \\right)} + 9\\right) = -4 - \\frac{1}{v}$"
      ],
      "text/plain": [
       "Eq(Derivative(-4*v - log(v) + 9, v), -4 - 1/v)"
      ]
     },
     "metadata": {},
     "output_type": "display_data"
    },
    {
     "data": {
      "text/latex": [
       "$\\displaystyle \\int \\left(z - 12\\right)\\, dz = \\frac{z^{2}}{2} - 12 z$"
      ],
      "text/plain": [
       "Eq(Integral(z - 12, z), z**2/2 - 12*z)"
      ]
     },
     "metadata": {},
     "output_type": "display_data"
    },
    {
     "name": "stdout",
     "output_type": "stream",
     "text": [
      "2)\n"
     ]
    },
    {
     "data": {
      "text/latex": [
       "$\\displaystyle A B = \\left[\\begin{matrix}60 & 105\\\\15 & 15\\end{matrix}\\right]$"
      ],
      "text/plain": [
       "Eq(A*B, Matrix([\n",
       "[60, 105],\n",
       "[15,  15]]))"
      ]
     },
     "metadata": {},
     "output_type": "display_data"
    },
    {
     "name": "stdout",
     "output_type": "stream",
     "text": [
      "3) \n"
     ]
    },
    {
     "data": {
      "text/latex": [
       "$\\displaystyle |AB| = -675$"
      ],
      "text/plain": [
       "Eq(|AB|, -675)"
      ]
     },
     "metadata": {},
     "output_type": "display_data"
    },
    {
     "name": "stdout",
     "output_type": "stream",
     "text": [
      "\n",
      "\n",
      "\n",
      "\n",
      "hint: |AB| = |A|*|B|\n",
      "\n",
      "\n",
      "\n",
      "\n",
      "        for copy/pasting for 3rd party calculators to learn the steps:\n",
      "Differentiate: -4*v - log(v) + 9\n",
      "Integrate: z - 12\n",
      "Matrix([[9, 5], [0, 5]])\n",
      "Matrix([[5, 10], [3, 3]])\n",
      "Matrix([[60, 105], [15, 15]])\n",
      "------------------------------------------------------------------------------------------------------\n",
      "1)\n"
     ]
    },
    {
     "data": {
      "text/latex": [
       "$\\displaystyle \\frac{d}{d v} \\left(- 4 v - \\log{\\left(v \\right)} + 9\\right) = ?$"
      ],
      "text/plain": [
       "Eq(Derivative(-4*v - log(v) + 9, v), ?)"
      ]
     },
     "metadata": {},
     "output_type": "display_data"
    },
    {
     "data": {
      "text/latex": [
       "$\\displaystyle \\int \\left(z - 12\\right)\\, dz = ?$"
      ],
      "text/plain": [
       "Eq(Integral(z - 12, z), ?)"
      ]
     },
     "metadata": {},
     "output_type": "display_data"
    },
    {
     "name": "stdout",
     "output_type": "stream",
     "text": [
      "2) Multiply these two matrices:\n"
     ]
    },
    {
     "data": {
      "text/latex": [
       "$\\displaystyle A = \\left[\\begin{matrix}9 & 4 & 9\\\\4 & 10 & 1\\\\8 & 8 & 1\\end{matrix}\\right]$"
      ],
      "text/plain": [
       "Eq(A, Matrix([\n",
       "[9,  4, 9],\n",
       "[4, 10, 1],\n",
       "[8,  8, 1]]))"
      ]
     },
     "metadata": {},
     "output_type": "display_data"
    },
    {
     "data": {
      "text/latex": [
       "$\\displaystyle B = \\left[\\begin{matrix}5 & 5 & 4\\\\8 & 3 & 2\\\\9 & 3 & 1\\end{matrix}\\right]$"
      ],
      "text/plain": [
       "Eq(B, Matrix([\n",
       "[5, 5, 4],\n",
       "[8, 3, 2],\n",
       "[9, 3, 1]]))"
      ]
     },
     "metadata": {},
     "output_type": "display_data"
    },
    {
     "name": "stdout",
     "output_type": "stream",
     "text": [
      "3) Calculate the determinate of matrix AB denoted |AB|.\n",
      "\n",
      "\n",
      "\n",
      "\n",
      "\n",
      "\n",
      "\n",
      "\n",
      "\n",
      "\n",
      "Possible answers:\n",
      "1)\n"
     ]
    },
    {
     "data": {
      "text/latex": [
       "$\\displaystyle \\frac{d}{d v} \\left(- 4 v - \\log{\\left(v \\right)} + 9\\right) = -4 - \\frac{1}{v}$"
      ],
      "text/plain": [
       "Eq(Derivative(-4*v - log(v) + 9, v), -4 - 1/v)"
      ]
     },
     "metadata": {},
     "output_type": "display_data"
    },
    {
     "data": {
      "text/latex": [
       "$\\displaystyle \\int \\left(z - 12\\right)\\, dz = \\frac{z^{2}}{2} - 12 z$"
      ],
      "text/plain": [
       "Eq(Integral(z - 12, z), z**2/2 - 12*z)"
      ]
     },
     "metadata": {},
     "output_type": "display_data"
    },
    {
     "name": "stdout",
     "output_type": "stream",
     "text": [
      "2)\n"
     ]
    },
    {
     "data": {
      "text/latex": [
       "$\\displaystyle A B = \\left[\\begin{matrix}158 & 84 & 53\\\\109 & 53 & 37\\\\113 & 67 & 49\\end{matrix}\\right]$"
      ],
      "text/plain": [
       "Eq(A*B, Matrix([\n",
       "[158, 84, 53],\n",
       "[109, 53, 37],\n",
       "[113, 67, 49]]))"
      ]
     },
     "metadata": {},
     "output_type": "display_data"
    },
    {
     "name": "stdout",
     "output_type": "stream",
     "text": [
      "3) \n"
     ]
    },
    {
     "data": {
      "text/latex": [
       "$\\displaystyle |AB| = -9154$"
      ],
      "text/plain": [
       "Eq(|AB|, -9154)"
      ]
     },
     "metadata": {},
     "output_type": "display_data"
    },
    {
     "name": "stdout",
     "output_type": "stream",
     "text": [
      "\n",
      "\n",
      "\n",
      "\n",
      "hint: |AB| = |A|*|B|\n",
      "\n",
      "\n",
      "\n",
      "\n",
      "        for copy/pasting for 3rd party calculators to learn the steps:\n",
      "Differentiate: -4*v - log(v) + 9\n",
      "Integrate: z - 12\n",
      "Matrix([[9, 4, 9], [4, 10, 1], [8, 8, 1]])\n",
      "Matrix([[5, 5, 4], [8, 3, 2], [9, 3, 1]])\n",
      "Matrix([[158, 84, 53], [109, 53, 37], [113, 67, 49]])\n",
      "------------------------------------------------------------------------------------------------------\n",
      "1)\n"
     ]
    },
    {
     "data": {
      "text/latex": [
       "$\\displaystyle \\frac{d}{d v} \\left(- 4 v - \\log{\\left(v \\right)} + 9\\right) = ?$"
      ],
      "text/plain": [
       "Eq(Derivative(-4*v - log(v) + 9, v), ?)"
      ]
     },
     "metadata": {},
     "output_type": "display_data"
    },
    {
     "data": {
      "text/latex": [
       "$\\displaystyle \\int \\left(z - 12\\right)\\, dz = ?$"
      ],
      "text/plain": [
       "Eq(Integral(z - 12, z), ?)"
      ]
     },
     "metadata": {},
     "output_type": "display_data"
    },
    {
     "name": "stdout",
     "output_type": "stream",
     "text": [
      "2) Multiply these two matrices:\n"
     ]
    },
    {
     "data": {
      "text/latex": [
       "$\\displaystyle A = \\left[\\begin{matrix}3 & 2 & 7\\\\7 & 0 & 3\\\\0 & 0 & 1\\end{matrix}\\right]$"
      ],
      "text/plain": [
       "Eq(A, Matrix([\n",
       "[3, 2, 7],\n",
       "[7, 0, 3],\n",
       "[0, 0, 1]]))"
      ]
     },
     "metadata": {},
     "output_type": "display_data"
    },
    {
     "data": {
      "text/latex": [
       "$\\displaystyle B = \\left[\\begin{matrix}8 & 6 & 1\\\\10 & 1 & 7\\\\2 & 0 & 0\\end{matrix}\\right]$"
      ],
      "text/plain": [
       "Eq(B, Matrix([\n",
       "[ 8, 6, 1],\n",
       "[10, 1, 7],\n",
       "[ 2, 0, 0]]))"
      ]
     },
     "metadata": {},
     "output_type": "display_data"
    },
    {
     "name": "stdout",
     "output_type": "stream",
     "text": [
      "3) Calculate the determinate of matrix AB denoted |AB|.\n",
      "\n",
      "\n",
      "\n",
      "\n",
      "\n",
      "\n",
      "\n",
      "\n",
      "\n",
      "\n",
      "Possible answers:\n",
      "1)\n"
     ]
    },
    {
     "data": {
      "text/latex": [
       "$\\displaystyle \\frac{d}{d v} \\left(- 4 v - \\log{\\left(v \\right)} + 9\\right) = -4 - \\frac{1}{v}$"
      ],
      "text/plain": [
       "Eq(Derivative(-4*v - log(v) + 9, v), -4 - 1/v)"
      ]
     },
     "metadata": {},
     "output_type": "display_data"
    },
    {
     "data": {
      "text/latex": [
       "$\\displaystyle \\int \\left(z - 12\\right)\\, dz = \\frac{z^{2}}{2} - 12 z$"
      ],
      "text/plain": [
       "Eq(Integral(z - 12, z), z**2/2 - 12*z)"
      ]
     },
     "metadata": {},
     "output_type": "display_data"
    },
    {
     "name": "stdout",
     "output_type": "stream",
     "text": [
      "2)\n"
     ]
    },
    {
     "data": {
      "text/latex": [
       "$\\displaystyle A B = \\left[\\begin{matrix}58 & 20 & 17\\\\62 & 42 & 7\\\\2 & 0 & 0\\end{matrix}\\right]$"
      ],
      "text/plain": [
       "Eq(A*B, Matrix([\n",
       "[58, 20, 17],\n",
       "[62, 42,  7],\n",
       "[ 2,  0,  0]]))"
      ]
     },
     "metadata": {},
     "output_type": "display_data"
    },
    {
     "name": "stdout",
     "output_type": "stream",
     "text": [
      "3) \n"
     ]
    },
    {
     "data": {
      "text/latex": [
       "$\\displaystyle |AB| = -1148$"
      ],
      "text/plain": [
       "Eq(|AB|, -1148)"
      ]
     },
     "metadata": {},
     "output_type": "display_data"
    },
    {
     "name": "stdout",
     "output_type": "stream",
     "text": [
      "\n",
      "\n",
      "\n",
      "\n",
      "hint: |AB| = |A|*|B|\n",
      "\n",
      "\n",
      "\n",
      "\n",
      "        for copy/pasting for 3rd party calculators to learn the steps:\n",
      "Differentiate: -4*v - log(v) + 9\n",
      "Integrate: z - 12\n",
      "Matrix([[3, 2, 7], [7, 0, 3], [0, 0, 1]])\n",
      "Matrix([[8, 6, 1], [10, 1, 7], [2, 0, 0]])\n",
      "Matrix([[58, 20, 17], [62, 42, 7], [2, 0, 0]])\n",
      "------------------------------------------------------------------------------------------------------\n",
      "1)\n"
     ]
    },
    {
     "data": {
      "text/latex": [
       "$\\displaystyle \\frac{d}{d v} \\left(- 4 v - \\log{\\left(v \\right)} + 9\\right) = ?$"
      ],
      "text/plain": [
       "Eq(Derivative(-4*v - log(v) + 9, v), ?)"
      ]
     },
     "metadata": {},
     "output_type": "display_data"
    },
    {
     "data": {
      "text/latex": [
       "$\\displaystyle \\int \\left(z - 12\\right)\\, dz = ?$"
      ],
      "text/plain": [
       "Eq(Integral(z - 12, z), ?)"
      ]
     },
     "metadata": {},
     "output_type": "display_data"
    },
    {
     "name": "stdout",
     "output_type": "stream",
     "text": [
      "2) Multiply these two matrices:\n"
     ]
    },
    {
     "data": {
      "text/latex": [
       "$\\displaystyle A = \\left[\\begin{matrix}5 & 5 & 3\\\\4 & 7 & 3\\\\10 & 4 & 9\\end{matrix}\\right]$"
      ],
      "text/plain": [
       "Eq(A, Matrix([\n",
       "[ 5, 5, 3],\n",
       "[ 4, 7, 3],\n",
       "[10, 4, 9]]))"
      ]
     },
     "metadata": {},
     "output_type": "display_data"
    },
    {
     "data": {
      "text/latex": [
       "$\\displaystyle B = \\left[\\begin{matrix}7 & 10 & 10\\\\3 & 9 & 0\\\\2 & 1 & 7\\end{matrix}\\right]$"
      ],
      "text/plain": [
       "Eq(B, Matrix([\n",
       "[7, 10, 10],\n",
       "[3,  9,  0],\n",
       "[2,  1,  7]]))"
      ]
     },
     "metadata": {},
     "output_type": "display_data"
    },
    {
     "name": "stdout",
     "output_type": "stream",
     "text": [
      "3) Calculate the determinate of matrix AB denoted |AB|.\n",
      "\n",
      "\n",
      "\n",
      "\n",
      "\n",
      "\n",
      "\n",
      "\n",
      "\n",
      "\n",
      "Possible answers:\n",
      "1)\n"
     ]
    },
    {
     "data": {
      "text/latex": [
       "$\\displaystyle \\frac{d}{d v} \\left(- 4 v - \\log{\\left(v \\right)} + 9\\right) = -4 - \\frac{1}{v}$"
      ],
      "text/plain": [
       "Eq(Derivative(-4*v - log(v) + 9, v), -4 - 1/v)"
      ]
     },
     "metadata": {},
     "output_type": "display_data"
    },
    {
     "data": {
      "text/latex": [
       "$\\displaystyle \\int \\left(z - 12\\right)\\, dz = \\frac{z^{2}}{2} - 12 z$"
      ],
      "text/plain": [
       "Eq(Integral(z - 12, z), z**2/2 - 12*z)"
      ]
     },
     "metadata": {},
     "output_type": "display_data"
    },
    {
     "name": "stdout",
     "output_type": "stream",
     "text": [
      "2)\n"
     ]
    },
    {
     "data": {
      "text/latex": [
       "$\\displaystyle A B = \\left[\\begin{matrix}56 & 98 & 71\\\\55 & 106 & 61\\\\100 & 145 & 163\\end{matrix}\\right]$"
      ],
      "text/plain": [
       "Eq(A*B, Matrix([\n",
       "[ 56,  98,  71],\n",
       "[ 55, 106,  61],\n",
       "[100, 145, 163]]))"
      ]
     },
     "metadata": {},
     "output_type": "display_data"
    },
    {
     "name": "stdout",
     "output_type": "stream",
     "text": [
      "3) \n"
     ]
    },
    {
     "data": {
      "text/latex": [
       "$\\displaystyle |AB| = 5103$"
      ],
      "text/plain": [
       "Eq(|AB|, 5103)"
      ]
     },
     "metadata": {},
     "output_type": "display_data"
    },
    {
     "name": "stdout",
     "output_type": "stream",
     "text": [
      "\n",
      "\n",
      "\n",
      "\n",
      "hint: |AB| = |A|*|B|\n",
      "\n",
      "\n",
      "\n",
      "\n",
      "        for copy/pasting for 3rd party calculators to learn the steps:\n",
      "Differentiate: -4*v - log(v) + 9\n",
      "Integrate: z - 12\n",
      "Matrix([[5, 5, 3], [4, 7, 3], [10, 4, 9]])\n",
      "Matrix([[7, 10, 10], [3, 9, 0], [2, 1, 7]])\n",
      "Matrix([[56, 98, 71], [55, 106, 61], [100, 145, 163]])\n",
      "------------------------------------------------------------------------------------------------------\n",
      "1)\n"
     ]
    },
    {
     "data": {
      "text/latex": [
       "$\\displaystyle \\frac{d}{d v} \\left(- 4 v - \\log{\\left(v \\right)} + 9\\right) = ?$"
      ],
      "text/plain": [
       "Eq(Derivative(-4*v - log(v) + 9, v), ?)"
      ]
     },
     "metadata": {},
     "output_type": "display_data"
    },
    {
     "data": {
      "text/latex": [
       "$\\displaystyle \\int \\left(z - 12\\right)\\, dz = ?$"
      ],
      "text/plain": [
       "Eq(Integral(z - 12, z), ?)"
      ]
     },
     "metadata": {},
     "output_type": "display_data"
    },
    {
     "name": "stdout",
     "output_type": "stream",
     "text": [
      "2) Multiply these two matrices:\n"
     ]
    },
    {
     "data": {
      "text/latex": [
       "$\\displaystyle A = \\left[\\begin{matrix}9 & 8 & 3\\\\2 & 1 & 4\\\\10 & 2 & 6\\end{matrix}\\right]$"
      ],
      "text/plain": [
       "Eq(A, Matrix([\n",
       "[ 9, 8, 3],\n",
       "[ 2, 1, 4],\n",
       "[10, 2, 6]]))"
      ]
     },
     "metadata": {},
     "output_type": "display_data"
    },
    {
     "data": {
      "text/latex": [
       "$\\displaystyle B = \\left[\\begin{matrix}10 & 9 & 4\\\\2 & 5 & 8\\\\4 & 6 & 1\\end{matrix}\\right]$"
      ],
      "text/plain": [
       "Eq(B, Matrix([\n",
       "[10, 9, 4],\n",
       "[ 2, 5, 8],\n",
       "[ 4, 6, 1]]))"
      ]
     },
     "metadata": {},
     "output_type": "display_data"
    },
    {
     "name": "stdout",
     "output_type": "stream",
     "text": [
      "3) Calculate the determinate of matrix AB denoted |AB|.\n",
      "\n",
      "\n",
      "\n",
      "\n",
      "\n",
      "\n",
      "\n",
      "\n",
      "\n",
      "\n",
      "Possible answers:\n",
      "1)\n"
     ]
    },
    {
     "data": {
      "text/latex": [
       "$\\displaystyle \\frac{d}{d v} \\left(- 4 v - \\log{\\left(v \\right)} + 9\\right) = -4 - \\frac{1}{v}$"
      ],
      "text/plain": [
       "Eq(Derivative(-4*v - log(v) + 9, v), -4 - 1/v)"
      ]
     },
     "metadata": {},
     "output_type": "display_data"
    },
    {
     "data": {
      "text/latex": [
       "$\\displaystyle \\int \\left(z - 12\\right)\\, dz = \\frac{z^{2}}{2} - 12 z$"
      ],
      "text/plain": [
       "Eq(Integral(z - 12, z), z**2/2 - 12*z)"
      ]
     },
     "metadata": {},
     "output_type": "display_data"
    },
    {
     "name": "stdout",
     "output_type": "stream",
     "text": [
      "2)\n"
     ]
    },
    {
     "data": {
      "text/latex": [
       "$\\displaystyle A B = \\left[\\begin{matrix}118 & 139 & 103\\\\38 & 47 & 20\\\\128 & 136 & 62\\end{matrix}\\right]$"
      ],
      "text/plain": [
       "Eq(A*B, Matrix([\n",
       "[118, 139, 103],\n",
       "[ 38,  47,  20],\n",
       "[128, 136,  62]]))"
      ]
     },
     "metadata": {},
     "output_type": "display_data"
    },
    {
     "name": "stdout",
     "output_type": "stream",
     "text": [
      "3) \n"
     ]
    },
    {
     "data": {
      "text/latex": [
       "$\\displaystyle |AB| = -36096$"
      ],
      "text/plain": [
       "Eq(|AB|, -36096)"
      ]
     },
     "metadata": {},
     "output_type": "display_data"
    },
    {
     "name": "stdout",
     "output_type": "stream",
     "text": [
      "\n",
      "\n",
      "\n",
      "\n",
      "hint: |AB| = |A|*|B|\n",
      "\n",
      "\n",
      "\n",
      "\n",
      "        for copy/pasting for 3rd party calculators to learn the steps:\n",
      "Differentiate: -4*v - log(v) + 9\n",
      "Integrate: z - 12\n",
      "Matrix([[9, 8, 3], [2, 1, 4], [10, 2, 6]])\n",
      "Matrix([[10, 9, 4], [2, 5, 8], [4, 6, 1]])\n",
      "Matrix([[118, 139, 103], [38, 47, 20], [128, 136, 62]])\n",
      "------------------------------------------------------------------------------------------------------\n",
      "1)\n"
     ]
    },
    {
     "data": {
      "text/latex": [
       "$\\displaystyle \\frac{d}{d v} \\left(- 4 v - \\log{\\left(v \\right)} + 9\\right) = ?$"
      ],
      "text/plain": [
       "Eq(Derivative(-4*v - log(v) + 9, v), ?)"
      ]
     },
     "metadata": {},
     "output_type": "display_data"
    },
    {
     "data": {
      "text/latex": [
       "$\\displaystyle \\int \\left(z - 12\\right)\\, dz = ?$"
      ],
      "text/plain": [
       "Eq(Integral(z - 12, z), ?)"
      ]
     },
     "metadata": {},
     "output_type": "display_data"
    },
    {
     "name": "stdout",
     "output_type": "stream",
     "text": [
      "2) Multiply these two matrices:\n"
     ]
    },
    {
     "data": {
      "text/latex": [
       "$\\displaystyle A = \\left[\\begin{matrix}3 & 8 & 10\\\\9 & 4 & 10\\\\3 & 2 & 7\\end{matrix}\\right]$"
      ],
      "text/plain": [
       "Eq(A, Matrix([\n",
       "[3, 8, 10],\n",
       "[9, 4, 10],\n",
       "[3, 2,  7]]))"
      ]
     },
     "metadata": {},
     "output_type": "display_data"
    },
    {
     "data": {
      "text/latex": [
       "$\\displaystyle B = \\left[\\begin{matrix}6 & 7 & 1\\\\7 & 10 & 6\\\\9 & 5 & 5\\end{matrix}\\right]$"
      ],
      "text/plain": [
       "Eq(B, Matrix([\n",
       "[6,  7, 1],\n",
       "[7, 10, 6],\n",
       "[9,  5, 5]]))"
      ]
     },
     "metadata": {},
     "output_type": "display_data"
    },
    {
     "name": "stdout",
     "output_type": "stream",
     "text": [
      "3) Calculate the determinate of matrix AB denoted |AB|.\n",
      "\n",
      "\n",
      "\n",
      "\n",
      "\n",
      "\n",
      "\n",
      "\n",
      "\n",
      "\n",
      "Possible answers:\n",
      "1)\n"
     ]
    },
    {
     "data": {
      "text/latex": [
       "$\\displaystyle \\frac{d}{d v} \\left(- 4 v - \\log{\\left(v \\right)} + 9\\right) = -4 - \\frac{1}{v}$"
      ],
      "text/plain": [
       "Eq(Derivative(-4*v - log(v) + 9, v), -4 - 1/v)"
      ]
     },
     "metadata": {},
     "output_type": "display_data"
    },
    {
     "data": {
      "text/latex": [
       "$\\displaystyle \\int \\left(z - 12\\right)\\, dz = \\frac{z^{2}}{2} - 12 z$"
      ],
      "text/plain": [
       "Eq(Integral(z - 12, z), z**2/2 - 12*z)"
      ]
     },
     "metadata": {},
     "output_type": "display_data"
    },
    {
     "name": "stdout",
     "output_type": "stream",
     "text": [
      "2)\n"
     ]
    },
    {
     "data": {
      "text/latex": [
       "$\\displaystyle A B = \\left[\\begin{matrix}164 & 151 & 101\\\\172 & 153 & 83\\\\95 & 76 & 50\\end{matrix}\\right]$"
      ],
      "text/plain": [
       "Eq(A*B, Matrix([\n",
       "[164, 151, 101],\n",
       "[172, 153,  83],\n",
       "[ 95,  76,  50]]))"
      ]
     },
     "metadata": {},
     "output_type": "display_data"
    },
    {
     "name": "stdout",
     "output_type": "stream",
     "text": [
      "3) \n"
     ]
    },
    {
     "data": {
      "text/latex": [
       "$\\displaystyle |AB| = -35640$"
      ],
      "text/plain": [
       "Eq(|AB|, -35640)"
      ]
     },
     "metadata": {},
     "output_type": "display_data"
    },
    {
     "name": "stdout",
     "output_type": "stream",
     "text": [
      "\n",
      "\n",
      "\n",
      "\n",
      "hint: |AB| = |A|*|B|\n",
      "\n",
      "\n",
      "\n",
      "\n",
      "        for copy/pasting for 3rd party calculators to learn the steps:\n",
      "Differentiate: -4*v - log(v) + 9\n",
      "Integrate: z - 12\n",
      "Matrix([[3, 8, 10], [9, 4, 10], [3, 2, 7]])\n",
      "Matrix([[6, 7, 1], [7, 10, 6], [9, 5, 5]])\n",
      "Matrix([[164, 151, 101], [172, 153, 83], [95, 76, 50]])\n",
      "------------------------------------------------------------------------------------------------------\n",
      "1)\n"
     ]
    },
    {
     "data": {
      "text/latex": [
       "$\\displaystyle \\frac{d}{d v} \\left(- 4 v - \\log{\\left(v \\right)} + 9\\right) = ?$"
      ],
      "text/plain": [
       "Eq(Derivative(-4*v - log(v) + 9, v), ?)"
      ]
     },
     "metadata": {},
     "output_type": "display_data"
    },
    {
     "data": {
      "text/latex": [
       "$\\displaystyle \\int \\left(z - 12\\right)\\, dz = ?$"
      ],
      "text/plain": [
       "Eq(Integral(z - 12, z), ?)"
      ]
     },
     "metadata": {},
     "output_type": "display_data"
    },
    {
     "name": "stdout",
     "output_type": "stream",
     "text": [
      "2) Multiply these two matrices:\n"
     ]
    },
    {
     "data": {
      "text/latex": [
       "$\\displaystyle A = \\left[\\begin{matrix}4 & 9\\\\0 & 6\\end{matrix}\\right]$"
      ],
      "text/plain": [
       "Eq(A, Matrix([\n",
       "[4, 9],\n",
       "[0, 6]]))"
      ]
     },
     "metadata": {},
     "output_type": "display_data"
    },
    {
     "data": {
      "text/latex": [
       "$\\displaystyle B = \\left[\\begin{matrix}4 & 7\\\\7 & 10\\end{matrix}\\right]$"
      ],
      "text/plain": [
       "Eq(B, Matrix([\n",
       "[4,  7],\n",
       "[7, 10]]))"
      ]
     },
     "metadata": {},
     "output_type": "display_data"
    },
    {
     "name": "stdout",
     "output_type": "stream",
     "text": [
      "3) Calculate the determinate of matrix AB denoted |AB|.\n",
      "\n",
      "\n",
      "\n",
      "\n",
      "\n",
      "\n",
      "\n",
      "\n",
      "\n",
      "\n",
      "Possible answers:\n",
      "1)\n"
     ]
    },
    {
     "data": {
      "text/latex": [
       "$\\displaystyle \\frac{d}{d v} \\left(- 4 v - \\log{\\left(v \\right)} + 9\\right) = -4 - \\frac{1}{v}$"
      ],
      "text/plain": [
       "Eq(Derivative(-4*v - log(v) + 9, v), -4 - 1/v)"
      ]
     },
     "metadata": {},
     "output_type": "display_data"
    },
    {
     "data": {
      "text/latex": [
       "$\\displaystyle \\int \\left(z - 12\\right)\\, dz = \\frac{z^{2}}{2} - 12 z$"
      ],
      "text/plain": [
       "Eq(Integral(z - 12, z), z**2/2 - 12*z)"
      ]
     },
     "metadata": {},
     "output_type": "display_data"
    },
    {
     "name": "stdout",
     "output_type": "stream",
     "text": [
      "2)\n"
     ]
    },
    {
     "data": {
      "text/latex": [
       "$\\displaystyle A B = \\left[\\begin{matrix}79 & 118\\\\42 & 60\\end{matrix}\\right]$"
      ],
      "text/plain": [
       "Eq(A*B, Matrix([\n",
       "[79, 118],\n",
       "[42,  60]]))"
      ]
     },
     "metadata": {},
     "output_type": "display_data"
    },
    {
     "name": "stdout",
     "output_type": "stream",
     "text": [
      "3) \n"
     ]
    },
    {
     "data": {
      "text/latex": [
       "$\\displaystyle |AB| = -216$"
      ],
      "text/plain": [
       "Eq(|AB|, -216)"
      ]
     },
     "metadata": {},
     "output_type": "display_data"
    },
    {
     "name": "stdout",
     "output_type": "stream",
     "text": [
      "\n",
      "\n",
      "\n",
      "\n",
      "hint: |AB| = |A|*|B|\n",
      "\n",
      "\n",
      "\n",
      "\n",
      "        for copy/pasting for 3rd party calculators to learn the steps:\n",
      "Differentiate: -4*v - log(v) + 9\n",
      "Integrate: z - 12\n",
      "Matrix([[4, 9], [0, 6]])\n",
      "Matrix([[4, 7], [7, 10]])\n",
      "Matrix([[79, 118], [42, 60]])\n",
      "------------------------------------------------------------------------------------------------------\n",
      "1)\n"
     ]
    },
    {
     "data": {
      "text/latex": [
       "$\\displaystyle \\frac{d}{d v} \\left(- 4 v - \\log{\\left(v \\right)} + 9\\right) = ?$"
      ],
      "text/plain": [
       "Eq(Derivative(-4*v - log(v) + 9, v), ?)"
      ]
     },
     "metadata": {},
     "output_type": "display_data"
    },
    {
     "data": {
      "text/latex": [
       "$\\displaystyle \\int \\left(z - 12\\right)\\, dz = ?$"
      ],
      "text/plain": [
       "Eq(Integral(z - 12, z), ?)"
      ]
     },
     "metadata": {},
     "output_type": "display_data"
    },
    {
     "name": "stdout",
     "output_type": "stream",
     "text": [
      "2) Multiply these two matrices:\n"
     ]
    },
    {
     "data": {
      "text/latex": [
       "$\\displaystyle A = \\left[\\begin{matrix}4 & 9\\\\5 & 10\\end{matrix}\\right]$"
      ],
      "text/plain": [
       "Eq(A, Matrix([\n",
       "[4,  9],\n",
       "[5, 10]]))"
      ]
     },
     "metadata": {},
     "output_type": "display_data"
    },
    {
     "data": {
      "text/latex": [
       "$\\displaystyle B = \\left[\\begin{matrix}8 & 2\\\\0 & 7\\end{matrix}\\right]$"
      ],
      "text/plain": [
       "Eq(B, Matrix([\n",
       "[8, 2],\n",
       "[0, 7]]))"
      ]
     },
     "metadata": {},
     "output_type": "display_data"
    },
    {
     "name": "stdout",
     "output_type": "stream",
     "text": [
      "3) Calculate the determinate of matrix AB denoted |AB|.\n",
      "\n",
      "\n",
      "\n",
      "\n",
      "\n",
      "\n",
      "\n",
      "\n",
      "\n",
      "\n",
      "Possible answers:\n",
      "1)\n"
     ]
    },
    {
     "data": {
      "text/latex": [
       "$\\displaystyle \\frac{d}{d v} \\left(- 4 v - \\log{\\left(v \\right)} + 9\\right) = -4 - \\frac{1}{v}$"
      ],
      "text/plain": [
       "Eq(Derivative(-4*v - log(v) + 9, v), -4 - 1/v)"
      ]
     },
     "metadata": {},
     "output_type": "display_data"
    },
    {
     "data": {
      "text/latex": [
       "$\\displaystyle \\int \\left(z - 12\\right)\\, dz = \\frac{z^{2}}{2} - 12 z$"
      ],
      "text/plain": [
       "Eq(Integral(z - 12, z), z**2/2 - 12*z)"
      ]
     },
     "metadata": {},
     "output_type": "display_data"
    },
    {
     "name": "stdout",
     "output_type": "stream",
     "text": [
      "2)\n"
     ]
    },
    {
     "data": {
      "text/latex": [
       "$\\displaystyle A B = \\left[\\begin{matrix}32 & 71\\\\40 & 80\\end{matrix}\\right]$"
      ],
      "text/plain": [
       "Eq(A*B, Matrix([\n",
       "[32, 71],\n",
       "[40, 80]]))"
      ]
     },
     "metadata": {},
     "output_type": "display_data"
    },
    {
     "name": "stdout",
     "output_type": "stream",
     "text": [
      "3) \n"
     ]
    },
    {
     "data": {
      "text/latex": [
       "$\\displaystyle |AB| = -280$"
      ],
      "text/plain": [
       "Eq(|AB|, -280)"
      ]
     },
     "metadata": {},
     "output_type": "display_data"
    },
    {
     "name": "stdout",
     "output_type": "stream",
     "text": [
      "\n",
      "\n",
      "\n",
      "\n",
      "hint: |AB| = |A|*|B|\n",
      "\n",
      "\n",
      "\n",
      "\n",
      "        for copy/pasting for 3rd party calculators to learn the steps:\n",
      "Differentiate: -4*v - log(v) + 9\n",
      "Integrate: z - 12\n",
      "Matrix([[4, 9], [5, 10]])\n",
      "Matrix([[8, 2], [0, 7]])\n",
      "Matrix([[32, 71], [40, 80]])\n",
      "------------------------------------------------------------------------------------------------------\n",
      "1)\n"
     ]
    },
    {
     "data": {
      "text/latex": [
       "$\\displaystyle \\frac{d}{d v} \\left(- 4 v - \\log{\\left(v \\right)} + 9\\right) = ?$"
      ],
      "text/plain": [
       "Eq(Derivative(-4*v - log(v) + 9, v), ?)"
      ]
     },
     "metadata": {},
     "output_type": "display_data"
    },
    {
     "data": {
      "text/latex": [
       "$\\displaystyle \\int \\left(z - 12\\right)\\, dz = ?$"
      ],
      "text/plain": [
       "Eq(Integral(z - 12, z), ?)"
      ]
     },
     "metadata": {},
     "output_type": "display_data"
    },
    {
     "name": "stdout",
     "output_type": "stream",
     "text": [
      "2) Multiply these two matrices:\n"
     ]
    },
    {
     "data": {
      "text/latex": [
       "$\\displaystyle A = \\left[\\begin{matrix}1 & 9 & 1\\\\4 & 5 & 4\\\\7 & 6 & 7\\end{matrix}\\right]$"
      ],
      "text/plain": [
       "Eq(A, Matrix([\n",
       "[1, 9, 1],\n",
       "[4, 5, 4],\n",
       "[7, 6, 7]]))"
      ]
     },
     "metadata": {},
     "output_type": "display_data"
    },
    {
     "data": {
      "text/latex": [
       "$\\displaystyle B = \\left[\\begin{matrix}10 & 4 & 1\\\\10 & 8 & 6\\\\6 & 5 & 10\\end{matrix}\\right]$"
      ],
      "text/plain": [
       "Eq(B, Matrix([\n",
       "[10, 4,  1],\n",
       "[10, 8,  6],\n",
       "[ 6, 5, 10]]))"
      ]
     },
     "metadata": {},
     "output_type": "display_data"
    },
    {
     "name": "stdout",
     "output_type": "stream",
     "text": [
      "3) Calculate the determinate of matrix AB denoted |AB|.\n",
      "\n",
      "\n",
      "\n",
      "\n",
      "\n",
      "\n",
      "\n",
      "\n",
      "\n",
      "\n",
      "Possible answers:\n",
      "1)\n"
     ]
    },
    {
     "data": {
      "text/latex": [
       "$\\displaystyle \\frac{d}{d v} \\left(- 4 v - \\log{\\left(v \\right)} + 9\\right) = -4 - \\frac{1}{v}$"
      ],
      "text/plain": [
       "Eq(Derivative(-4*v - log(v) + 9, v), -4 - 1/v)"
      ]
     },
     "metadata": {},
     "output_type": "display_data"
    },
    {
     "data": {
      "text/latex": [
       "$\\displaystyle \\int \\left(z - 12\\right)\\, dz = \\frac{z^{2}}{2} - 12 z$"
      ],
      "text/plain": [
       "Eq(Integral(z - 12, z), z**2/2 - 12*z)"
      ]
     },
     "metadata": {},
     "output_type": "display_data"
    },
    {
     "name": "stdout",
     "output_type": "stream",
     "text": [
      "2)\n"
     ]
    },
    {
     "data": {
      "text/latex": [
       "$\\displaystyle A B = \\left[\\begin{matrix}106 & 81 & 65\\\\114 & 76 & 74\\\\172 & 111 & 113\\end{matrix}\\right]$"
      ],
      "text/plain": [
       "Eq(A*B, Matrix([\n",
       "[106,  81,  65],\n",
       "[114,  76,  74],\n",
       "[172, 111, 113]]))"
      ]
     },
     "metadata": {},
     "output_type": "display_data"
    },
    {
     "name": "stdout",
     "output_type": "stream",
     "text": [
      "3) \n"
     ]
    },
    {
     "data": {
      "text/latex": [
       "$\\displaystyle |AB| = 0$"
      ],
      "text/plain": [
       "Eq(|AB|, 0)"
      ]
     },
     "metadata": {},
     "output_type": "display_data"
    },
    {
     "name": "stdout",
     "output_type": "stream",
     "text": [
      "\n",
      "\n",
      "\n",
      "\n",
      "hint: |AB| = |A|*|B|\n",
      "\n",
      "\n",
      "\n",
      "\n",
      "        for copy/pasting for 3rd party calculators to learn the steps:\n",
      "Differentiate: -4*v - log(v) + 9\n",
      "Integrate: z - 12\n",
      "Matrix([[1, 9, 1], [4, 5, 4], [7, 6, 7]])\n",
      "Matrix([[10, 4, 1], [10, 8, 6], [6, 5, 10]])\n",
      "Matrix([[106, 81, 65], [114, 76, 74], [172, 111, 113]])\n",
      "------------------------------------------------------------------------------------------------------\n",
      "1)\n"
     ]
    },
    {
     "data": {
      "text/latex": [
       "$\\displaystyle \\frac{d}{d v} \\left(- 4 v - \\log{\\left(v \\right)} + 9\\right) = ?$"
      ],
      "text/plain": [
       "Eq(Derivative(-4*v - log(v) + 9, v), ?)"
      ]
     },
     "metadata": {},
     "output_type": "display_data"
    },
    {
     "data": {
      "text/latex": [
       "$\\displaystyle \\int \\left(z - 12\\right)\\, dz = ?$"
      ],
      "text/plain": [
       "Eq(Integral(z - 12, z), ?)"
      ]
     },
     "metadata": {},
     "output_type": "display_data"
    },
    {
     "name": "stdout",
     "output_type": "stream",
     "text": [
      "2) Multiply these two matrices:\n"
     ]
    },
    {
     "data": {
      "text/latex": [
       "$\\displaystyle A = \\left[\\begin{matrix}9 & 0\\\\6 & 2\\end{matrix}\\right]$"
      ],
      "text/plain": [
       "Eq(A, Matrix([\n",
       "[9, 0],\n",
       "[6, 2]]))"
      ]
     },
     "metadata": {},
     "output_type": "display_data"
    },
    {
     "data": {
      "text/latex": [
       "$\\displaystyle B = \\left[\\begin{matrix}5 & 8\\\\3 & 6\\end{matrix}\\right]$"
      ],
      "text/plain": [
       "Eq(B, Matrix([\n",
       "[5, 8],\n",
       "[3, 6]]))"
      ]
     },
     "metadata": {},
     "output_type": "display_data"
    },
    {
     "name": "stdout",
     "output_type": "stream",
     "text": [
      "3) Calculate the determinate of matrix AB denoted |AB|.\n",
      "\n",
      "\n",
      "\n",
      "\n",
      "\n",
      "\n",
      "\n",
      "\n",
      "\n",
      "\n",
      "Possible answers:\n",
      "1)\n"
     ]
    },
    {
     "data": {
      "text/latex": [
       "$\\displaystyle \\frac{d}{d v} \\left(- 4 v - \\log{\\left(v \\right)} + 9\\right) = -4 - \\frac{1}{v}$"
      ],
      "text/plain": [
       "Eq(Derivative(-4*v - log(v) + 9, v), -4 - 1/v)"
      ]
     },
     "metadata": {},
     "output_type": "display_data"
    },
    {
     "data": {
      "text/latex": [
       "$\\displaystyle \\int \\left(z - 12\\right)\\, dz = \\frac{z^{2}}{2} - 12 z$"
      ],
      "text/plain": [
       "Eq(Integral(z - 12, z), z**2/2 - 12*z)"
      ]
     },
     "metadata": {},
     "output_type": "display_data"
    },
    {
     "name": "stdout",
     "output_type": "stream",
     "text": [
      "2)\n"
     ]
    },
    {
     "data": {
      "text/latex": [
       "$\\displaystyle A B = \\left[\\begin{matrix}45 & 72\\\\36 & 60\\end{matrix}\\right]$"
      ],
      "text/plain": [
       "Eq(A*B, Matrix([\n",
       "[45, 72],\n",
       "[36, 60]]))"
      ]
     },
     "metadata": {},
     "output_type": "display_data"
    },
    {
     "name": "stdout",
     "output_type": "stream",
     "text": [
      "3) \n"
     ]
    },
    {
     "data": {
      "text/latex": [
       "$\\displaystyle |AB| = 108$"
      ],
      "text/plain": [
       "Eq(|AB|, 108)"
      ]
     },
     "metadata": {},
     "output_type": "display_data"
    },
    {
     "name": "stdout",
     "output_type": "stream",
     "text": [
      "\n",
      "\n",
      "\n",
      "\n",
      "hint: |AB| = |A|*|B|\n",
      "\n",
      "\n",
      "\n",
      "\n",
      "        for copy/pasting for 3rd party calculators to learn the steps:\n",
      "Differentiate: -4*v - log(v) + 9\n",
      "Integrate: z - 12\n",
      "Matrix([[9, 0], [6, 2]])\n",
      "Matrix([[5, 8], [3, 6]])\n",
      "Matrix([[45, 72], [36, 60]])\n",
      "------------------------------------------------------------------------------------------------------\n",
      "1)\n"
     ]
    },
    {
     "data": {
      "text/latex": [
       "$\\displaystyle \\frac{d}{d v} \\left(- 4 v - \\log{\\left(v \\right)} + 9\\right) = ?$"
      ],
      "text/plain": [
       "Eq(Derivative(-4*v - log(v) + 9, v), ?)"
      ]
     },
     "metadata": {},
     "output_type": "display_data"
    },
    {
     "data": {
      "text/latex": [
       "$\\displaystyle \\int \\left(z - 12\\right)\\, dz = ?$"
      ],
      "text/plain": [
       "Eq(Integral(z - 12, z), ?)"
      ]
     },
     "metadata": {},
     "output_type": "display_data"
    },
    {
     "name": "stdout",
     "output_type": "stream",
     "text": [
      "2) Multiply these two matrices:\n"
     ]
    },
    {
     "data": {
      "text/latex": [
       "$\\displaystyle A = \\left[\\begin{matrix}10 & 3 & 2\\\\3 & 7 & 5\\\\4 & 6 & 3\\end{matrix}\\right]$"
      ],
      "text/plain": [
       "Eq(A, Matrix([\n",
       "[10, 3, 2],\n",
       "[ 3, 7, 5],\n",
       "[ 4, 6, 3]]))"
      ]
     },
     "metadata": {},
     "output_type": "display_data"
    },
    {
     "data": {
      "text/latex": [
       "$\\displaystyle B = \\left[\\begin{matrix}10 & 9 & 0\\\\8 & 3 & 5\\\\2 & 9 & 5\\end{matrix}\\right]$"
      ],
      "text/plain": [
       "Eq(B, Matrix([\n",
       "[10, 9, 0],\n",
       "[ 8, 3, 5],\n",
       "[ 2, 9, 5]]))"
      ]
     },
     "metadata": {},
     "output_type": "display_data"
    },
    {
     "name": "stdout",
     "output_type": "stream",
     "text": [
      "3) Calculate the determinate of matrix AB denoted |AB|.\n",
      "\n",
      "\n",
      "\n",
      "\n",
      "\n",
      "\n",
      "\n",
      "\n",
      "\n",
      "\n",
      "Possible answers:\n",
      "1)\n"
     ]
    },
    {
     "data": {
      "text/latex": [
       "$\\displaystyle \\frac{d}{d v} \\left(- 4 v - \\log{\\left(v \\right)} + 9\\right) = -4 - \\frac{1}{v}$"
      ],
      "text/plain": [
       "Eq(Derivative(-4*v - log(v) + 9, v), -4 - 1/v)"
      ]
     },
     "metadata": {},
     "output_type": "display_data"
    },
    {
     "data": {
      "text/latex": [
       "$\\displaystyle \\int \\left(z - 12\\right)\\, dz = \\frac{z^{2}}{2} - 12 z$"
      ],
      "text/plain": [
       "Eq(Integral(z - 12, z), z**2/2 - 12*z)"
      ]
     },
     "metadata": {},
     "output_type": "display_data"
    },
    {
     "name": "stdout",
     "output_type": "stream",
     "text": [
      "2)\n"
     ]
    },
    {
     "data": {
      "text/latex": [
       "$\\displaystyle A B = \\left[\\begin{matrix}128 & 117 & 25\\\\96 & 93 & 60\\\\94 & 81 & 45\\end{matrix}\\right]$"
      ],
      "text/plain": [
       "Eq(A*B, Matrix([\n",
       "[128, 117, 25],\n",
       "[ 96,  93, 60],\n",
       "[ 94,  81, 45]]))"
      ]
     },
     "metadata": {},
     "output_type": "display_data"
    },
    {
     "name": "stdout",
     "output_type": "stream",
     "text": [
      "3) \n"
     ]
    },
    {
     "data": {
      "text/latex": [
       "$\\displaystyle |AB| = 43890$"
      ],
      "text/plain": [
       "Eq(|AB|, 43890)"
      ]
     },
     "metadata": {},
     "output_type": "display_data"
    },
    {
     "name": "stdout",
     "output_type": "stream",
     "text": [
      "\n",
      "\n",
      "\n",
      "\n",
      "hint: |AB| = |A|*|B|\n",
      "\n",
      "\n",
      "\n",
      "\n",
      "        for copy/pasting for 3rd party calculators to learn the steps:\n",
      "Differentiate: -4*v - log(v) + 9\n",
      "Integrate: z - 12\n",
      "Matrix([[10, 3, 2], [3, 7, 5], [4, 6, 3]])\n",
      "Matrix([[10, 9, 0], [8, 3, 5], [2, 9, 5]])\n",
      "Matrix([[128, 117, 25], [96, 93, 60], [94, 81, 45]])\n",
      "------------------------------------------------------------------------------------------------------\n",
      "1)\n"
     ]
    },
    {
     "data": {
      "text/latex": [
       "$\\displaystyle \\frac{d}{d v} \\left(- 4 v - \\log{\\left(v \\right)} + 9\\right) = ?$"
      ],
      "text/plain": [
       "Eq(Derivative(-4*v - log(v) + 9, v), ?)"
      ]
     },
     "metadata": {},
     "output_type": "display_data"
    },
    {
     "data": {
      "text/latex": [
       "$\\displaystyle \\int \\left(z - 12\\right)\\, dz = ?$"
      ],
      "text/plain": [
       "Eq(Integral(z - 12, z), ?)"
      ]
     },
     "metadata": {},
     "output_type": "display_data"
    },
    {
     "name": "stdout",
     "output_type": "stream",
     "text": [
      "2) Multiply these two matrices:\n"
     ]
    },
    {
     "data": {
      "text/latex": [
       "$\\displaystyle A = \\left[\\begin{matrix}6 & 3\\\\0 & 8\\end{matrix}\\right]$"
      ],
      "text/plain": [
       "Eq(A, Matrix([\n",
       "[6, 3],\n",
       "[0, 8]]))"
      ]
     },
     "metadata": {},
     "output_type": "display_data"
    },
    {
     "data": {
      "text/latex": [
       "$\\displaystyle B = \\left[\\begin{matrix}0 & 3\\\\1 & 7\\end{matrix}\\right]$"
      ],
      "text/plain": [
       "Eq(B, Matrix([\n",
       "[0, 3],\n",
       "[1, 7]]))"
      ]
     },
     "metadata": {},
     "output_type": "display_data"
    },
    {
     "name": "stdout",
     "output_type": "stream",
     "text": [
      "3) Calculate the determinate of matrix AB denoted |AB|.\n",
      "\n",
      "\n",
      "\n",
      "\n",
      "\n",
      "\n",
      "\n",
      "\n",
      "\n",
      "\n",
      "Possible answers:\n",
      "1)\n"
     ]
    },
    {
     "data": {
      "text/latex": [
       "$\\displaystyle \\frac{d}{d v} \\left(- 4 v - \\log{\\left(v \\right)} + 9\\right) = -4 - \\frac{1}{v}$"
      ],
      "text/plain": [
       "Eq(Derivative(-4*v - log(v) + 9, v), -4 - 1/v)"
      ]
     },
     "metadata": {},
     "output_type": "display_data"
    },
    {
     "data": {
      "text/latex": [
       "$\\displaystyle \\int \\left(z - 12\\right)\\, dz = \\frac{z^{2}}{2} - 12 z$"
      ],
      "text/plain": [
       "Eq(Integral(z - 12, z), z**2/2 - 12*z)"
      ]
     },
     "metadata": {},
     "output_type": "display_data"
    },
    {
     "name": "stdout",
     "output_type": "stream",
     "text": [
      "2)\n"
     ]
    },
    {
     "data": {
      "text/latex": [
       "$\\displaystyle A B = \\left[\\begin{matrix}3 & 39\\\\8 & 56\\end{matrix}\\right]$"
      ],
      "text/plain": [
       "Eq(A*B, Matrix([\n",
       "[3, 39],\n",
       "[8, 56]]))"
      ]
     },
     "metadata": {},
     "output_type": "display_data"
    },
    {
     "name": "stdout",
     "output_type": "stream",
     "text": [
      "3) \n"
     ]
    },
    {
     "data": {
      "text/latex": [
       "$\\displaystyle |AB| = -144$"
      ],
      "text/plain": [
       "Eq(|AB|, -144)"
      ]
     },
     "metadata": {},
     "output_type": "display_data"
    },
    {
     "name": "stdout",
     "output_type": "stream",
     "text": [
      "\n",
      "\n",
      "\n",
      "\n",
      "hint: |AB| = |A|*|B|\n",
      "\n",
      "\n",
      "\n",
      "\n",
      "        for copy/pasting for 3rd party calculators to learn the steps:\n",
      "Differentiate: -4*v - log(v) + 9\n",
      "Integrate: z - 12\n",
      "Matrix([[6, 3], [0, 8]])\n",
      "Matrix([[0, 3], [1, 7]])\n",
      "Matrix([[3, 39], [8, 56]])\n",
      "------------------------------------------------------------------------------------------------------\n",
      "1)\n"
     ]
    },
    {
     "data": {
      "text/latex": [
       "$\\displaystyle \\frac{d}{d v} \\left(- 4 v - \\log{\\left(v \\right)} + 9\\right) = ?$"
      ],
      "text/plain": [
       "Eq(Derivative(-4*v - log(v) + 9, v), ?)"
      ]
     },
     "metadata": {},
     "output_type": "display_data"
    },
    {
     "data": {
      "text/latex": [
       "$\\displaystyle \\int \\left(z - 12\\right)\\, dz = ?$"
      ],
      "text/plain": [
       "Eq(Integral(z - 12, z), ?)"
      ]
     },
     "metadata": {},
     "output_type": "display_data"
    },
    {
     "name": "stdout",
     "output_type": "stream",
     "text": [
      "2) Multiply these two matrices:\n"
     ]
    },
    {
     "data": {
      "text/latex": [
       "$\\displaystyle A = \\left[\\begin{matrix}0 & 8\\\\0 & 9\\end{matrix}\\right]$"
      ],
      "text/plain": [
       "Eq(A, Matrix([\n",
       "[0, 8],\n",
       "[0, 9]]))"
      ]
     },
     "metadata": {},
     "output_type": "display_data"
    },
    {
     "data": {
      "text/latex": [
       "$\\displaystyle B = \\left[\\begin{matrix}5 & 9\\\\2 & 2\\end{matrix}\\right]$"
      ],
      "text/plain": [
       "Eq(B, Matrix([\n",
       "[5, 9],\n",
       "[2, 2]]))"
      ]
     },
     "metadata": {},
     "output_type": "display_data"
    },
    {
     "name": "stdout",
     "output_type": "stream",
     "text": [
      "3) Calculate the determinate of matrix AB denoted |AB|.\n",
      "\n",
      "\n",
      "\n",
      "\n",
      "\n",
      "\n",
      "\n",
      "\n",
      "\n",
      "\n",
      "Possible answers:\n",
      "1)\n"
     ]
    },
    {
     "data": {
      "text/latex": [
       "$\\displaystyle \\frac{d}{d v} \\left(- 4 v - \\log{\\left(v \\right)} + 9\\right) = -4 - \\frac{1}{v}$"
      ],
      "text/plain": [
       "Eq(Derivative(-4*v - log(v) + 9, v), -4 - 1/v)"
      ]
     },
     "metadata": {},
     "output_type": "display_data"
    },
    {
     "data": {
      "text/latex": [
       "$\\displaystyle \\int \\left(z - 12\\right)\\, dz = \\frac{z^{2}}{2} - 12 z$"
      ],
      "text/plain": [
       "Eq(Integral(z - 12, z), z**2/2 - 12*z)"
      ]
     },
     "metadata": {},
     "output_type": "display_data"
    },
    {
     "name": "stdout",
     "output_type": "stream",
     "text": [
      "2)\n"
     ]
    },
    {
     "data": {
      "text/latex": [
       "$\\displaystyle A B = \\left[\\begin{matrix}16 & 16\\\\18 & 18\\end{matrix}\\right]$"
      ],
      "text/plain": [
       "Eq(A*B, Matrix([\n",
       "[16, 16],\n",
       "[18, 18]]))"
      ]
     },
     "metadata": {},
     "output_type": "display_data"
    },
    {
     "name": "stdout",
     "output_type": "stream",
     "text": [
      "3) \n"
     ]
    },
    {
     "data": {
      "text/latex": [
       "$\\displaystyle |AB| = 0$"
      ],
      "text/plain": [
       "Eq(|AB|, 0)"
      ]
     },
     "metadata": {},
     "output_type": "display_data"
    },
    {
     "name": "stdout",
     "output_type": "stream",
     "text": [
      "\n",
      "\n",
      "\n",
      "\n",
      "hint: |AB| = |A|*|B|\n",
      "\n",
      "\n",
      "\n",
      "\n",
      "        for copy/pasting for 3rd party calculators to learn the steps:\n",
      "Differentiate: -4*v - log(v) + 9\n",
      "Integrate: z - 12\n",
      "Matrix([[0, 8], [0, 9]])\n",
      "Matrix([[5, 9], [2, 2]])\n",
      "Matrix([[16, 16], [18, 18]])\n",
      "------------------------------------------------------------------------------------------------------\n",
      "1)\n"
     ]
    },
    {
     "data": {
      "text/latex": [
       "$\\displaystyle \\frac{d}{d v} \\left(- 4 v - \\log{\\left(v \\right)} + 9\\right) = ?$"
      ],
      "text/plain": [
       "Eq(Derivative(-4*v - log(v) + 9, v), ?)"
      ]
     },
     "metadata": {},
     "output_type": "display_data"
    },
    {
     "data": {
      "text/latex": [
       "$\\displaystyle \\int \\left(z - 12\\right)\\, dz = ?$"
      ],
      "text/plain": [
       "Eq(Integral(z - 12, z), ?)"
      ]
     },
     "metadata": {},
     "output_type": "display_data"
    },
    {
     "name": "stdout",
     "output_type": "stream",
     "text": [
      "2) Multiply these two matrices:\n"
     ]
    },
    {
     "data": {
      "text/latex": [
       "$\\displaystyle A = \\left[\\begin{matrix}4 & 7\\\\1 & 7\\end{matrix}\\right]$"
      ],
      "text/plain": [
       "Eq(A, Matrix([\n",
       "[4, 7],\n",
       "[1, 7]]))"
      ]
     },
     "metadata": {},
     "output_type": "display_data"
    },
    {
     "data": {
      "text/latex": [
       "$\\displaystyle B = \\left[\\begin{matrix}1 & 0\\\\3 & 9\\end{matrix}\\right]$"
      ],
      "text/plain": [
       "Eq(B, Matrix([\n",
       "[1, 0],\n",
       "[3, 9]]))"
      ]
     },
     "metadata": {},
     "output_type": "display_data"
    },
    {
     "name": "stdout",
     "output_type": "stream",
     "text": [
      "3) Calculate the determinate of matrix AB denoted |AB|.\n",
      "\n",
      "\n",
      "\n",
      "\n",
      "\n",
      "\n",
      "\n",
      "\n",
      "\n",
      "\n",
      "Possible answers:\n",
      "1)\n"
     ]
    },
    {
     "data": {
      "text/latex": [
       "$\\displaystyle \\frac{d}{d v} \\left(- 4 v - \\log{\\left(v \\right)} + 9\\right) = -4 - \\frac{1}{v}$"
      ],
      "text/plain": [
       "Eq(Derivative(-4*v - log(v) + 9, v), -4 - 1/v)"
      ]
     },
     "metadata": {},
     "output_type": "display_data"
    },
    {
     "data": {
      "text/latex": [
       "$\\displaystyle \\int \\left(z - 12\\right)\\, dz = \\frac{z^{2}}{2} - 12 z$"
      ],
      "text/plain": [
       "Eq(Integral(z - 12, z), z**2/2 - 12*z)"
      ]
     },
     "metadata": {},
     "output_type": "display_data"
    },
    {
     "name": "stdout",
     "output_type": "stream",
     "text": [
      "2)\n"
     ]
    },
    {
     "data": {
      "text/latex": [
       "$\\displaystyle A B = \\left[\\begin{matrix}25 & 63\\\\22 & 63\\end{matrix}\\right]$"
      ],
      "text/plain": [
       "Eq(A*B, Matrix([\n",
       "[25, 63],\n",
       "[22, 63]]))"
      ]
     },
     "metadata": {},
     "output_type": "display_data"
    },
    {
     "name": "stdout",
     "output_type": "stream",
     "text": [
      "3) \n"
     ]
    },
    {
     "data": {
      "text/latex": [
       "$\\displaystyle |AB| = 189$"
      ],
      "text/plain": [
       "Eq(|AB|, 189)"
      ]
     },
     "metadata": {},
     "output_type": "display_data"
    },
    {
     "name": "stdout",
     "output_type": "stream",
     "text": [
      "\n",
      "\n",
      "\n",
      "\n",
      "hint: |AB| = |A|*|B|\n",
      "\n",
      "\n",
      "\n",
      "\n",
      "        for copy/pasting for 3rd party calculators to learn the steps:\n",
      "Differentiate: -4*v - log(v) + 9\n",
      "Integrate: z - 12\n",
      "Matrix([[4, 7], [1, 7]])\n",
      "Matrix([[1, 0], [3, 9]])\n",
      "Matrix([[25, 63], [22, 63]])\n",
      "------------------------------------------------------------------------------------------------------\n",
      "1)\n"
     ]
    },
    {
     "data": {
      "text/latex": [
       "$\\displaystyle \\frac{d}{d v} \\left(- 4 v - \\log{\\left(v \\right)} + 9\\right) = ?$"
      ],
      "text/plain": [
       "Eq(Derivative(-4*v - log(v) + 9, v), ?)"
      ]
     },
     "metadata": {},
     "output_type": "display_data"
    },
    {
     "data": {
      "text/latex": [
       "$\\displaystyle \\int \\left(z - 12\\right)\\, dz = ?$"
      ],
      "text/plain": [
       "Eq(Integral(z - 12, z), ?)"
      ]
     },
     "metadata": {},
     "output_type": "display_data"
    },
    {
     "name": "stdout",
     "output_type": "stream",
     "text": [
      "2) Multiply these two matrices:\n"
     ]
    },
    {
     "data": {
      "text/latex": [
       "$\\displaystyle A = \\left[\\begin{matrix}5 & 7\\\\10 & 7\\end{matrix}\\right]$"
      ],
      "text/plain": [
       "Eq(A, Matrix([\n",
       "[ 5, 7],\n",
       "[10, 7]]))"
      ]
     },
     "metadata": {},
     "output_type": "display_data"
    },
    {
     "data": {
      "text/latex": [
       "$\\displaystyle B = \\left[\\begin{matrix}6 & 9\\\\5 & 10\\end{matrix}\\right]$"
      ],
      "text/plain": [
       "Eq(B, Matrix([\n",
       "[6,  9],\n",
       "[5, 10]]))"
      ]
     },
     "metadata": {},
     "output_type": "display_data"
    },
    {
     "name": "stdout",
     "output_type": "stream",
     "text": [
      "3) Calculate the determinate of matrix AB denoted |AB|.\n",
      "\n",
      "\n",
      "\n",
      "\n",
      "\n",
      "\n",
      "\n",
      "\n",
      "\n",
      "\n",
      "Possible answers:\n",
      "1)\n"
     ]
    },
    {
     "data": {
      "text/latex": [
       "$\\displaystyle \\frac{d}{d v} \\left(- 4 v - \\log{\\left(v \\right)} + 9\\right) = -4 - \\frac{1}{v}$"
      ],
      "text/plain": [
       "Eq(Derivative(-4*v - log(v) + 9, v), -4 - 1/v)"
      ]
     },
     "metadata": {},
     "output_type": "display_data"
    },
    {
     "data": {
      "text/latex": [
       "$\\displaystyle \\int \\left(z - 12\\right)\\, dz = \\frac{z^{2}}{2} - 12 z$"
      ],
      "text/plain": [
       "Eq(Integral(z - 12, z), z**2/2 - 12*z)"
      ]
     },
     "metadata": {},
     "output_type": "display_data"
    },
    {
     "name": "stdout",
     "output_type": "stream",
     "text": [
      "2)\n"
     ]
    },
    {
     "data": {
      "text/latex": [
       "$\\displaystyle A B = \\left[\\begin{matrix}65 & 115\\\\95 & 160\\end{matrix}\\right]$"
      ],
      "text/plain": [
       "Eq(A*B, Matrix([\n",
       "[65, 115],\n",
       "[95, 160]]))"
      ]
     },
     "metadata": {},
     "output_type": "display_data"
    },
    {
     "name": "stdout",
     "output_type": "stream",
     "text": [
      "3) \n"
     ]
    },
    {
     "data": {
      "text/latex": [
       "$\\displaystyle |AB| = -525$"
      ],
      "text/plain": [
       "Eq(|AB|, -525)"
      ]
     },
     "metadata": {},
     "output_type": "display_data"
    },
    {
     "name": "stdout",
     "output_type": "stream",
     "text": [
      "\n",
      "\n",
      "\n",
      "\n",
      "hint: |AB| = |A|*|B|\n",
      "\n",
      "\n",
      "\n",
      "\n",
      "        for copy/pasting for 3rd party calculators to learn the steps:\n",
      "Differentiate: -4*v - log(v) + 9\n",
      "Integrate: z - 12\n",
      "Matrix([[5, 7], [10, 7]])\n",
      "Matrix([[6, 9], [5, 10]])\n",
      "Matrix([[65, 115], [95, 160]])\n",
      "------------------------------------------------------------------------------------------------------\n",
      "1)\n"
     ]
    },
    {
     "data": {
      "text/latex": [
       "$\\displaystyle \\frac{d}{d v} \\left(- 4 v - \\log{\\left(v \\right)} + 9\\right) = ?$"
      ],
      "text/plain": [
       "Eq(Derivative(-4*v - log(v) + 9, v), ?)"
      ]
     },
     "metadata": {},
     "output_type": "display_data"
    },
    {
     "data": {
      "text/latex": [
       "$\\displaystyle \\int \\left(z - 12\\right)\\, dz = ?$"
      ],
      "text/plain": [
       "Eq(Integral(z - 12, z), ?)"
      ]
     },
     "metadata": {},
     "output_type": "display_data"
    },
    {
     "name": "stdout",
     "output_type": "stream",
     "text": [
      "2) Multiply these two matrices:\n"
     ]
    },
    {
     "data": {
      "text/latex": [
       "$\\displaystyle A = \\left[\\begin{matrix}2 & 2 & 0\\\\7 & 8 & 10\\\\3 & 7 & 9\\end{matrix}\\right]$"
      ],
      "text/plain": [
       "Eq(A, Matrix([\n",
       "[2, 2,  0],\n",
       "[7, 8, 10],\n",
       "[3, 7,  9]]))"
      ]
     },
     "metadata": {},
     "output_type": "display_data"
    },
    {
     "data": {
      "text/latex": [
       "$\\displaystyle B = \\left[\\begin{matrix}10 & 5 & 0\\\\2 & 1 & 8\\\\2 & 4 & 2\\end{matrix}\\right]$"
      ],
      "text/plain": [
       "Eq(B, Matrix([\n",
       "[10, 5, 0],\n",
       "[ 2, 1, 8],\n",
       "[ 2, 4, 2]]))"
      ]
     },
     "metadata": {},
     "output_type": "display_data"
    },
    {
     "name": "stdout",
     "output_type": "stream",
     "text": [
      "3) Calculate the determinate of matrix AB denoted |AB|.\n",
      "\n",
      "\n",
      "\n",
      "\n",
      "\n",
      "\n",
      "\n",
      "\n",
      "\n",
      "\n",
      "Possible answers:\n",
      "1)\n"
     ]
    },
    {
     "data": {
      "text/latex": [
       "$\\displaystyle \\frac{d}{d v} \\left(- 4 v - \\log{\\left(v \\right)} + 9\\right) = -4 - \\frac{1}{v}$"
      ],
      "text/plain": [
       "Eq(Derivative(-4*v - log(v) + 9, v), -4 - 1/v)"
      ]
     },
     "metadata": {},
     "output_type": "display_data"
    },
    {
     "data": {
      "text/latex": [
       "$\\displaystyle \\int \\left(z - 12\\right)\\, dz = \\frac{z^{2}}{2} - 12 z$"
      ],
      "text/plain": [
       "Eq(Integral(z - 12, z), z**2/2 - 12*z)"
      ]
     },
     "metadata": {},
     "output_type": "display_data"
    },
    {
     "name": "stdout",
     "output_type": "stream",
     "text": [
      "2)\n"
     ]
    },
    {
     "data": {
      "text/latex": [
       "$\\displaystyle A B = \\left[\\begin{matrix}24 & 12 & 16\\\\106 & 83 & 84\\\\62 & 58 & 74\\end{matrix}\\right]$"
      ],
      "text/plain": [
       "Eq(A*B, Matrix([\n",
       "[ 24, 12, 16],\n",
       "[106, 83, 84],\n",
       "[ 62, 58, 74]]))"
      ]
     },
     "metadata": {},
     "output_type": "display_data"
    },
    {
     "name": "stdout",
     "output_type": "stream",
     "text": [
      "3) \n"
     ]
    },
    {
     "data": {
      "text/latex": [
       "$\\displaystyle |AB| = 14880$"
      ],
      "text/plain": [
       "Eq(|AB|, 14880)"
      ]
     },
     "metadata": {},
     "output_type": "display_data"
    },
    {
     "name": "stdout",
     "output_type": "stream",
     "text": [
      "\n",
      "\n",
      "\n",
      "\n",
      "hint: |AB| = |A|*|B|\n",
      "\n",
      "\n",
      "\n",
      "\n",
      "        for copy/pasting for 3rd party calculators to learn the steps:\n",
      "Differentiate: -4*v - log(v) + 9\n",
      "Integrate: z - 12\n",
      "Matrix([[2, 2, 0], [7, 8, 10], [3, 7, 9]])\n",
      "Matrix([[10, 5, 0], [2, 1, 8], [2, 4, 2]])\n",
      "Matrix([[24, 12, 16], [106, 83, 84], [62, 58, 74]])\n",
      "------------------------------------------------------------------------------------------------------\n",
      "1)\n"
     ]
    },
    {
     "data": {
      "text/latex": [
       "$\\displaystyle \\frac{d}{d v} \\left(- 4 v - \\log{\\left(v \\right)} + 9\\right) = ?$"
      ],
      "text/plain": [
       "Eq(Derivative(-4*v - log(v) + 9, v), ?)"
      ]
     },
     "metadata": {},
     "output_type": "display_data"
    },
    {
     "data": {
      "text/latex": [
       "$\\displaystyle \\int \\left(z - 12\\right)\\, dz = ?$"
      ],
      "text/plain": [
       "Eq(Integral(z - 12, z), ?)"
      ]
     },
     "metadata": {},
     "output_type": "display_data"
    },
    {
     "name": "stdout",
     "output_type": "stream",
     "text": [
      "2) Multiply these two matrices:\n"
     ]
    },
    {
     "data": {
      "text/latex": [
       "$\\displaystyle A = \\left[\\begin{matrix}6 & 7\\\\7 & 4\\end{matrix}\\right]$"
      ],
      "text/plain": [
       "Eq(A, Matrix([\n",
       "[6, 7],\n",
       "[7, 4]]))"
      ]
     },
     "metadata": {},
     "output_type": "display_data"
    },
    {
     "data": {
      "text/latex": [
       "$\\displaystyle B = \\left[\\begin{matrix}8 & 9\\\\2 & 7\\end{matrix}\\right]$"
      ],
      "text/plain": [
       "Eq(B, Matrix([\n",
       "[8, 9],\n",
       "[2, 7]]))"
      ]
     },
     "metadata": {},
     "output_type": "display_data"
    },
    {
     "name": "stdout",
     "output_type": "stream",
     "text": [
      "3) Calculate the determinate of matrix AB denoted |AB|.\n",
      "\n",
      "\n",
      "\n",
      "\n",
      "\n",
      "\n",
      "\n",
      "\n",
      "\n",
      "\n",
      "Possible answers:\n",
      "1)\n"
     ]
    },
    {
     "data": {
      "text/latex": [
       "$\\displaystyle \\frac{d}{d v} \\left(- 4 v - \\log{\\left(v \\right)} + 9\\right) = -4 - \\frac{1}{v}$"
      ],
      "text/plain": [
       "Eq(Derivative(-4*v - log(v) + 9, v), -4 - 1/v)"
      ]
     },
     "metadata": {},
     "output_type": "display_data"
    },
    {
     "data": {
      "text/latex": [
       "$\\displaystyle \\int \\left(z - 12\\right)\\, dz = \\frac{z^{2}}{2} - 12 z$"
      ],
      "text/plain": [
       "Eq(Integral(z - 12, z), z**2/2 - 12*z)"
      ]
     },
     "metadata": {},
     "output_type": "display_data"
    },
    {
     "name": "stdout",
     "output_type": "stream",
     "text": [
      "2)\n"
     ]
    },
    {
     "data": {
      "text/latex": [
       "$\\displaystyle A B = \\left[\\begin{matrix}62 & 103\\\\64 & 91\\end{matrix}\\right]$"
      ],
      "text/plain": [
       "Eq(A*B, Matrix([\n",
       "[62, 103],\n",
       "[64,  91]]))"
      ]
     },
     "metadata": {},
     "output_type": "display_data"
    },
    {
     "name": "stdout",
     "output_type": "stream",
     "text": [
      "3) \n"
     ]
    },
    {
     "data": {
      "text/latex": [
       "$\\displaystyle |AB| = -950$"
      ],
      "text/plain": [
       "Eq(|AB|, -950)"
      ]
     },
     "metadata": {},
     "output_type": "display_data"
    },
    {
     "name": "stdout",
     "output_type": "stream",
     "text": [
      "\n",
      "\n",
      "\n",
      "\n",
      "hint: |AB| = |A|*|B|\n",
      "\n",
      "\n",
      "\n",
      "\n",
      "        for copy/pasting for 3rd party calculators to learn the steps:\n",
      "Differentiate: -4*v - log(v) + 9\n",
      "Integrate: z - 12\n",
      "Matrix([[6, 7], [7, 4]])\n",
      "Matrix([[8, 9], [2, 7]])\n",
      "Matrix([[62, 103], [64, 91]])\n",
      "------------------------------------------------------------------------------------------------------\n",
      "1)\n"
     ]
    },
    {
     "data": {
      "text/latex": [
       "$\\displaystyle \\frac{d}{d v} \\left(- 4 v - \\log{\\left(v \\right)} + 9\\right) = ?$"
      ],
      "text/plain": [
       "Eq(Derivative(-4*v - log(v) + 9, v), ?)"
      ]
     },
     "metadata": {},
     "output_type": "display_data"
    },
    {
     "data": {
      "text/latex": [
       "$\\displaystyle \\int \\left(z - 12\\right)\\, dz = ?$"
      ],
      "text/plain": [
       "Eq(Integral(z - 12, z), ?)"
      ]
     },
     "metadata": {},
     "output_type": "display_data"
    },
    {
     "name": "stdout",
     "output_type": "stream",
     "text": [
      "2) Multiply these two matrices:\n"
     ]
    },
    {
     "data": {
      "text/latex": [
       "$\\displaystyle A = \\left[\\begin{matrix}3 & 9\\\\2 & 4\\end{matrix}\\right]$"
      ],
      "text/plain": [
       "Eq(A, Matrix([\n",
       "[3, 9],\n",
       "[2, 4]]))"
      ]
     },
     "metadata": {},
     "output_type": "display_data"
    },
    {
     "data": {
      "text/latex": [
       "$\\displaystyle B = \\left[\\begin{matrix}4 & 8\\\\2 & 1\\end{matrix}\\right]$"
      ],
      "text/plain": [
       "Eq(B, Matrix([\n",
       "[4, 8],\n",
       "[2, 1]]))"
      ]
     },
     "metadata": {},
     "output_type": "display_data"
    },
    {
     "name": "stdout",
     "output_type": "stream",
     "text": [
      "3) Calculate the determinate of matrix AB denoted |AB|.\n",
      "\n",
      "\n",
      "\n",
      "\n",
      "\n",
      "\n",
      "\n",
      "\n",
      "\n",
      "\n",
      "Possible answers:\n",
      "1)\n"
     ]
    },
    {
     "data": {
      "text/latex": [
       "$\\displaystyle \\frac{d}{d v} \\left(- 4 v - \\log{\\left(v \\right)} + 9\\right) = -4 - \\frac{1}{v}$"
      ],
      "text/plain": [
       "Eq(Derivative(-4*v - log(v) + 9, v), -4 - 1/v)"
      ]
     },
     "metadata": {},
     "output_type": "display_data"
    },
    {
     "data": {
      "text/latex": [
       "$\\displaystyle \\int \\left(z - 12\\right)\\, dz = \\frac{z^{2}}{2} - 12 z$"
      ],
      "text/plain": [
       "Eq(Integral(z - 12, z), z**2/2 - 12*z)"
      ]
     },
     "metadata": {},
     "output_type": "display_data"
    },
    {
     "name": "stdout",
     "output_type": "stream",
     "text": [
      "2)\n"
     ]
    },
    {
     "data": {
      "text/latex": [
       "$\\displaystyle A B = \\left[\\begin{matrix}30 & 33\\\\16 & 20\\end{matrix}\\right]$"
      ],
      "text/plain": [
       "Eq(A*B, Matrix([\n",
       "[30, 33],\n",
       "[16, 20]]))"
      ]
     },
     "metadata": {},
     "output_type": "display_data"
    },
    {
     "name": "stdout",
     "output_type": "stream",
     "text": [
      "3) \n"
     ]
    },
    {
     "data": {
      "text/latex": [
       "$\\displaystyle |AB| = 72$"
      ],
      "text/plain": [
       "Eq(|AB|, 72)"
      ]
     },
     "metadata": {},
     "output_type": "display_data"
    },
    {
     "name": "stdout",
     "output_type": "stream",
     "text": [
      "\n",
      "\n",
      "\n",
      "\n",
      "hint: |AB| = |A|*|B|\n",
      "\n",
      "\n",
      "\n",
      "\n",
      "        for copy/pasting for 3rd party calculators to learn the steps:\n",
      "Differentiate: -4*v - log(v) + 9\n",
      "Integrate: z - 12\n",
      "Matrix([[3, 9], [2, 4]])\n",
      "Matrix([[4, 8], [2, 1]])\n",
      "Matrix([[30, 33], [16, 20]])\n",
      "------------------------------------------------------------------------------------------------------\n",
      "1)\n"
     ]
    },
    {
     "data": {
      "text/latex": [
       "$\\displaystyle \\frac{d}{d v} \\left(- 4 v - \\log{\\left(v \\right)} + 9\\right) = ?$"
      ],
      "text/plain": [
       "Eq(Derivative(-4*v - log(v) + 9, v), ?)"
      ]
     },
     "metadata": {},
     "output_type": "display_data"
    },
    {
     "data": {
      "text/latex": [
       "$\\displaystyle \\int \\left(z - 12\\right)\\, dz = ?$"
      ],
      "text/plain": [
       "Eq(Integral(z - 12, z), ?)"
      ]
     },
     "metadata": {},
     "output_type": "display_data"
    },
    {
     "name": "stdout",
     "output_type": "stream",
     "text": [
      "2) Multiply these two matrices:\n"
     ]
    },
    {
     "data": {
      "text/latex": [
       "$\\displaystyle A = \\left[\\begin{matrix}6 & 5 & 2\\\\0 & 6 & 3\\\\7 & 10 & 5\\end{matrix}\\right]$"
      ],
      "text/plain": [
       "Eq(A, Matrix([\n",
       "[6,  5, 2],\n",
       "[0,  6, 3],\n",
       "[7, 10, 5]]))"
      ]
     },
     "metadata": {},
     "output_type": "display_data"
    },
    {
     "data": {
      "text/latex": [
       "$\\displaystyle B = \\left[\\begin{matrix}10 & 3 & 9\\\\1 & 9 & 1\\\\1 & 5 & 9\\end{matrix}\\right]$"
      ],
      "text/plain": [
       "Eq(B, Matrix([\n",
       "[10, 3, 9],\n",
       "[ 1, 9, 1],\n",
       "[ 1, 5, 9]]))"
      ]
     },
     "metadata": {},
     "output_type": "display_data"
    },
    {
     "name": "stdout",
     "output_type": "stream",
     "text": [
      "3) Calculate the determinate of matrix AB denoted |AB|.\n",
      "\n",
      "\n",
      "\n",
      "\n",
      "\n",
      "\n",
      "\n",
      "\n",
      "\n",
      "\n",
      "Possible answers:\n",
      "1)\n"
     ]
    },
    {
     "data": {
      "text/latex": [
       "$\\displaystyle \\frac{d}{d v} \\left(- 4 v - \\log{\\left(v \\right)} + 9\\right) = -4 - \\frac{1}{v}$"
      ],
      "text/plain": [
       "Eq(Derivative(-4*v - log(v) + 9, v), -4 - 1/v)"
      ]
     },
     "metadata": {},
     "output_type": "display_data"
    },
    {
     "data": {
      "text/latex": [
       "$\\displaystyle \\int \\left(z - 12\\right)\\, dz = \\frac{z^{2}}{2} - 12 z$"
      ],
      "text/plain": [
       "Eq(Integral(z - 12, z), z**2/2 - 12*z)"
      ]
     },
     "metadata": {},
     "output_type": "display_data"
    },
    {
     "name": "stdout",
     "output_type": "stream",
     "text": [
      "2)\n"
     ]
    },
    {
     "data": {
      "text/latex": [
       "$\\displaystyle A B = \\left[\\begin{matrix}67 & 73 & 77\\\\9 & 69 & 33\\\\85 & 136 & 118\\end{matrix}\\right]$"
      ],
      "text/plain": [
       "Eq(A*B, Matrix([\n",
       "[67,  73,  77],\n",
       "[ 9,  69,  33],\n",
       "[85, 136, 118]]))"
      ]
     },
     "metadata": {},
     "output_type": "display_data"
    },
    {
     "name": "stdout",
     "output_type": "stream",
     "text": [
      "3) \n"
     ]
    },
    {
     "data": {
      "text/latex": [
       "$\\displaystyle |AB| = 14700$"
      ],
      "text/plain": [
       "Eq(|AB|, 14700)"
      ]
     },
     "metadata": {},
     "output_type": "display_data"
    },
    {
     "name": "stdout",
     "output_type": "stream",
     "text": [
      "\n",
      "\n",
      "\n",
      "\n",
      "hint: |AB| = |A|*|B|\n",
      "\n",
      "\n",
      "\n",
      "\n",
      "        for copy/pasting for 3rd party calculators to learn the steps:\n",
      "Differentiate: -4*v - log(v) + 9\n",
      "Integrate: z - 12\n",
      "Matrix([[6, 5, 2], [0, 6, 3], [7, 10, 5]])\n",
      "Matrix([[10, 3, 9], [1, 9, 1], [1, 5, 9]])\n",
      "Matrix([[67, 73, 77], [9, 69, 33], [85, 136, 118]])\n",
      "------------------------------------------------------------------------------------------------------\n",
      "1)\n"
     ]
    },
    {
     "data": {
      "text/latex": [
       "$\\displaystyle \\frac{d}{d v} \\left(- 4 v - \\log{\\left(v \\right)} + 9\\right) = ?$"
      ],
      "text/plain": [
       "Eq(Derivative(-4*v - log(v) + 9, v), ?)"
      ]
     },
     "metadata": {},
     "output_type": "display_data"
    },
    {
     "data": {
      "text/latex": [
       "$\\displaystyle \\int \\left(z - 12\\right)\\, dz = ?$"
      ],
      "text/plain": [
       "Eq(Integral(z - 12, z), ?)"
      ]
     },
     "metadata": {},
     "output_type": "display_data"
    },
    {
     "name": "stdout",
     "output_type": "stream",
     "text": [
      "2) Multiply these two matrices:\n"
     ]
    },
    {
     "data": {
      "text/latex": [
       "$\\displaystyle A = \\left[\\begin{matrix}9 & 4\\\\2 & 5\\end{matrix}\\right]$"
      ],
      "text/plain": [
       "Eq(A, Matrix([\n",
       "[9, 4],\n",
       "[2, 5]]))"
      ]
     },
     "metadata": {},
     "output_type": "display_data"
    },
    {
     "data": {
      "text/latex": [
       "$\\displaystyle B = \\left[\\begin{matrix}5 & 4\\\\4 & 8\\end{matrix}\\right]$"
      ],
      "text/plain": [
       "Eq(B, Matrix([\n",
       "[5, 4],\n",
       "[4, 8]]))"
      ]
     },
     "metadata": {},
     "output_type": "display_data"
    },
    {
     "name": "stdout",
     "output_type": "stream",
     "text": [
      "3) Calculate the determinate of matrix AB denoted |AB|.\n",
      "\n",
      "\n",
      "\n",
      "\n",
      "\n",
      "\n",
      "\n",
      "\n",
      "\n",
      "\n",
      "Possible answers:\n",
      "1)\n"
     ]
    },
    {
     "data": {
      "text/latex": [
       "$\\displaystyle \\frac{d}{d v} \\left(- 4 v - \\log{\\left(v \\right)} + 9\\right) = -4 - \\frac{1}{v}$"
      ],
      "text/plain": [
       "Eq(Derivative(-4*v - log(v) + 9, v), -4 - 1/v)"
      ]
     },
     "metadata": {},
     "output_type": "display_data"
    },
    {
     "data": {
      "text/latex": [
       "$\\displaystyle \\int \\left(z - 12\\right)\\, dz = \\frac{z^{2}}{2} - 12 z$"
      ],
      "text/plain": [
       "Eq(Integral(z - 12, z), z**2/2 - 12*z)"
      ]
     },
     "metadata": {},
     "output_type": "display_data"
    },
    {
     "name": "stdout",
     "output_type": "stream",
     "text": [
      "2)\n"
     ]
    },
    {
     "data": {
      "text/latex": [
       "$\\displaystyle A B = \\left[\\begin{matrix}61 & 68\\\\30 & 48\\end{matrix}\\right]$"
      ],
      "text/plain": [
       "Eq(A*B, Matrix([\n",
       "[61, 68],\n",
       "[30, 48]]))"
      ]
     },
     "metadata": {},
     "output_type": "display_data"
    },
    {
     "name": "stdout",
     "output_type": "stream",
     "text": [
      "3) \n"
     ]
    },
    {
     "data": {
      "text/latex": [
       "$\\displaystyle |AB| = 888$"
      ],
      "text/plain": [
       "Eq(|AB|, 888)"
      ]
     },
     "metadata": {},
     "output_type": "display_data"
    },
    {
     "name": "stdout",
     "output_type": "stream",
     "text": [
      "\n",
      "\n",
      "\n",
      "\n",
      "hint: |AB| = |A|*|B|\n",
      "\n",
      "\n",
      "\n",
      "\n",
      "        for copy/pasting for 3rd party calculators to learn the steps:\n",
      "Differentiate: -4*v - log(v) + 9\n",
      "Integrate: z - 12\n",
      "Matrix([[9, 4], [2, 5]])\n",
      "Matrix([[5, 4], [4, 8]])\n",
      "Matrix([[61, 68], [30, 48]])\n",
      "------------------------------------------------------------------------------------------------------\n",
      "1)\n"
     ]
    },
    {
     "data": {
      "text/latex": [
       "$\\displaystyle \\frac{d}{d v} \\left(- 4 v - \\log{\\left(v \\right)} + 9\\right) = ?$"
      ],
      "text/plain": [
       "Eq(Derivative(-4*v - log(v) + 9, v), ?)"
      ]
     },
     "metadata": {},
     "output_type": "display_data"
    },
    {
     "data": {
      "text/latex": [
       "$\\displaystyle \\int \\left(z - 12\\right)\\, dz = ?$"
      ],
      "text/plain": [
       "Eq(Integral(z - 12, z), ?)"
      ]
     },
     "metadata": {},
     "output_type": "display_data"
    },
    {
     "name": "stdout",
     "output_type": "stream",
     "text": [
      "2) Multiply these two matrices:\n"
     ]
    },
    {
     "data": {
      "text/latex": [
       "$\\displaystyle A = \\left[\\begin{matrix}6 & 4\\\\8 & 2\\end{matrix}\\right]$"
      ],
      "text/plain": [
       "Eq(A, Matrix([\n",
       "[6, 4],\n",
       "[8, 2]]))"
      ]
     },
     "metadata": {},
     "output_type": "display_data"
    },
    {
     "data": {
      "text/latex": [
       "$\\displaystyle B = \\left[\\begin{matrix}6 & 6\\\\3 & 0\\end{matrix}\\right]$"
      ],
      "text/plain": [
       "Eq(B, Matrix([\n",
       "[6, 6],\n",
       "[3, 0]]))"
      ]
     },
     "metadata": {},
     "output_type": "display_data"
    },
    {
     "name": "stdout",
     "output_type": "stream",
     "text": [
      "3) Calculate the determinate of matrix AB denoted |AB|.\n",
      "\n",
      "\n",
      "\n",
      "\n",
      "\n",
      "\n",
      "\n",
      "\n",
      "\n",
      "\n",
      "Possible answers:\n",
      "1)\n"
     ]
    },
    {
     "data": {
      "text/latex": [
       "$\\displaystyle \\frac{d}{d v} \\left(- 4 v - \\log{\\left(v \\right)} + 9\\right) = -4 - \\frac{1}{v}$"
      ],
      "text/plain": [
       "Eq(Derivative(-4*v - log(v) + 9, v), -4 - 1/v)"
      ]
     },
     "metadata": {},
     "output_type": "display_data"
    },
    {
     "data": {
      "text/latex": [
       "$\\displaystyle \\int \\left(z - 12\\right)\\, dz = \\frac{z^{2}}{2} - 12 z$"
      ],
      "text/plain": [
       "Eq(Integral(z - 12, z), z**2/2 - 12*z)"
      ]
     },
     "metadata": {},
     "output_type": "display_data"
    },
    {
     "name": "stdout",
     "output_type": "stream",
     "text": [
      "2)\n"
     ]
    },
    {
     "data": {
      "text/latex": [
       "$\\displaystyle A B = \\left[\\begin{matrix}48 & 36\\\\54 & 48\\end{matrix}\\right]$"
      ],
      "text/plain": [
       "Eq(A*B, Matrix([\n",
       "[48, 36],\n",
       "[54, 48]]))"
      ]
     },
     "metadata": {},
     "output_type": "display_data"
    },
    {
     "name": "stdout",
     "output_type": "stream",
     "text": [
      "3) \n"
     ]
    },
    {
     "data": {
      "text/latex": [
       "$\\displaystyle |AB| = 360$"
      ],
      "text/plain": [
       "Eq(|AB|, 360)"
      ]
     },
     "metadata": {},
     "output_type": "display_data"
    },
    {
     "name": "stdout",
     "output_type": "stream",
     "text": [
      "\n",
      "\n",
      "\n",
      "\n",
      "hint: |AB| = |A|*|B|\n",
      "\n",
      "\n",
      "\n",
      "\n",
      "        for copy/pasting for 3rd party calculators to learn the steps:\n",
      "Differentiate: -4*v - log(v) + 9\n",
      "Integrate: z - 12\n",
      "Matrix([[6, 4], [8, 2]])\n",
      "Matrix([[6, 6], [3, 0]])\n",
      "Matrix([[48, 36], [54, 48]])\n",
      "------------------------------------------------------------------------------------------------------\n",
      "1)\n"
     ]
    },
    {
     "data": {
      "text/latex": [
       "$\\displaystyle \\frac{d}{d v} \\left(- 4 v - \\log{\\left(v \\right)} + 9\\right) = ?$"
      ],
      "text/plain": [
       "Eq(Derivative(-4*v - log(v) + 9, v), ?)"
      ]
     },
     "metadata": {},
     "output_type": "display_data"
    },
    {
     "data": {
      "text/latex": [
       "$\\displaystyle \\int \\left(z - 12\\right)\\, dz = ?$"
      ],
      "text/plain": [
       "Eq(Integral(z - 12, z), ?)"
      ]
     },
     "metadata": {},
     "output_type": "display_data"
    },
    {
     "name": "stdout",
     "output_type": "stream",
     "text": [
      "2) Multiply these two matrices:\n"
     ]
    },
    {
     "data": {
      "text/latex": [
       "$\\displaystyle A = \\left[\\begin{matrix}4 & 4\\\\10 & 5\\end{matrix}\\right]$"
      ],
      "text/plain": [
       "Eq(A, Matrix([\n",
       "[ 4, 4],\n",
       "[10, 5]]))"
      ]
     },
     "metadata": {},
     "output_type": "display_data"
    },
    {
     "data": {
      "text/latex": [
       "$\\displaystyle B = \\left[\\begin{matrix}2 & 7\\\\6 & 5\\end{matrix}\\right]$"
      ],
      "text/plain": [
       "Eq(B, Matrix([\n",
       "[2, 7],\n",
       "[6, 5]]))"
      ]
     },
     "metadata": {},
     "output_type": "display_data"
    },
    {
     "name": "stdout",
     "output_type": "stream",
     "text": [
      "3) Calculate the determinate of matrix AB denoted |AB|.\n",
      "\n",
      "\n",
      "\n",
      "\n",
      "\n",
      "\n",
      "\n",
      "\n",
      "\n",
      "\n",
      "Possible answers:\n",
      "1)\n"
     ]
    },
    {
     "data": {
      "text/latex": [
       "$\\displaystyle \\frac{d}{d v} \\left(- 4 v - \\log{\\left(v \\right)} + 9\\right) = -4 - \\frac{1}{v}$"
      ],
      "text/plain": [
       "Eq(Derivative(-4*v - log(v) + 9, v), -4 - 1/v)"
      ]
     },
     "metadata": {},
     "output_type": "display_data"
    },
    {
     "data": {
      "text/latex": [
       "$\\displaystyle \\int \\left(z - 12\\right)\\, dz = \\frac{z^{2}}{2} - 12 z$"
      ],
      "text/plain": [
       "Eq(Integral(z - 12, z), z**2/2 - 12*z)"
      ]
     },
     "metadata": {},
     "output_type": "display_data"
    },
    {
     "name": "stdout",
     "output_type": "stream",
     "text": [
      "2)\n"
     ]
    },
    {
     "data": {
      "text/latex": [
       "$\\displaystyle A B = \\left[\\begin{matrix}32 & 48\\\\50 & 95\\end{matrix}\\right]$"
      ],
      "text/plain": [
       "Eq(A*B, Matrix([\n",
       "[32, 48],\n",
       "[50, 95]]))"
      ]
     },
     "metadata": {},
     "output_type": "display_data"
    },
    {
     "name": "stdout",
     "output_type": "stream",
     "text": [
      "3) \n"
     ]
    },
    {
     "data": {
      "text/latex": [
       "$\\displaystyle |AB| = 640$"
      ],
      "text/plain": [
       "Eq(|AB|, 640)"
      ]
     },
     "metadata": {},
     "output_type": "display_data"
    },
    {
     "name": "stdout",
     "output_type": "stream",
     "text": [
      "\n",
      "\n",
      "\n",
      "\n",
      "hint: |AB| = |A|*|B|\n",
      "\n",
      "\n",
      "\n",
      "\n",
      "        for copy/pasting for 3rd party calculators to learn the steps:\n",
      "Differentiate: -4*v - log(v) + 9\n",
      "Integrate: z - 12\n",
      "Matrix([[4, 4], [10, 5]])\n",
      "Matrix([[2, 7], [6, 5]])\n",
      "Matrix([[32, 48], [50, 95]])\n",
      "------------------------------------------------------------------------------------------------------\n",
      "1)\n"
     ]
    },
    {
     "data": {
      "text/latex": [
       "$\\displaystyle \\frac{d}{d v} \\left(- 4 v - \\log{\\left(v \\right)} + 9\\right) = ?$"
      ],
      "text/plain": [
       "Eq(Derivative(-4*v - log(v) + 9, v), ?)"
      ]
     },
     "metadata": {},
     "output_type": "display_data"
    },
    {
     "data": {
      "text/latex": [
       "$\\displaystyle \\int \\left(z - 12\\right)\\, dz = ?$"
      ],
      "text/plain": [
       "Eq(Integral(z - 12, z), ?)"
      ]
     },
     "metadata": {},
     "output_type": "display_data"
    },
    {
     "name": "stdout",
     "output_type": "stream",
     "text": [
      "2) Multiply these two matrices:\n"
     ]
    },
    {
     "data": {
      "text/latex": [
       "$\\displaystyle A = \\left[\\begin{matrix}9 & 3\\\\4 & 7\\end{matrix}\\right]$"
      ],
      "text/plain": [
       "Eq(A, Matrix([\n",
       "[9, 3],\n",
       "[4, 7]]))"
      ]
     },
     "metadata": {},
     "output_type": "display_data"
    },
    {
     "data": {
      "text/latex": [
       "$\\displaystyle B = \\left[\\begin{matrix}9 & 9\\\\4 & 10\\end{matrix}\\right]$"
      ],
      "text/plain": [
       "Eq(B, Matrix([\n",
       "[9,  9],\n",
       "[4, 10]]))"
      ]
     },
     "metadata": {},
     "output_type": "display_data"
    },
    {
     "name": "stdout",
     "output_type": "stream",
     "text": [
      "3) Calculate the determinate of matrix AB denoted |AB|.\n",
      "\n",
      "\n",
      "\n",
      "\n",
      "\n",
      "\n",
      "\n",
      "\n",
      "\n",
      "\n",
      "Possible answers:\n",
      "1)\n"
     ]
    },
    {
     "data": {
      "text/latex": [
       "$\\displaystyle \\frac{d}{d v} \\left(- 4 v - \\log{\\left(v \\right)} + 9\\right) = -4 - \\frac{1}{v}$"
      ],
      "text/plain": [
       "Eq(Derivative(-4*v - log(v) + 9, v), -4 - 1/v)"
      ]
     },
     "metadata": {},
     "output_type": "display_data"
    },
    {
     "data": {
      "text/latex": [
       "$\\displaystyle \\int \\left(z - 12\\right)\\, dz = \\frac{z^{2}}{2} - 12 z$"
      ],
      "text/plain": [
       "Eq(Integral(z - 12, z), z**2/2 - 12*z)"
      ]
     },
     "metadata": {},
     "output_type": "display_data"
    },
    {
     "name": "stdout",
     "output_type": "stream",
     "text": [
      "2)\n"
     ]
    },
    {
     "data": {
      "text/latex": [
       "$\\displaystyle A B = \\left[\\begin{matrix}93 & 111\\\\64 & 106\\end{matrix}\\right]$"
      ],
      "text/plain": [
       "Eq(A*B, Matrix([\n",
       "[93, 111],\n",
       "[64, 106]]))"
      ]
     },
     "metadata": {},
     "output_type": "display_data"
    },
    {
     "name": "stdout",
     "output_type": "stream",
     "text": [
      "3) \n"
     ]
    },
    {
     "data": {
      "text/latex": [
       "$\\displaystyle |AB| = 2754$"
      ],
      "text/plain": [
       "Eq(|AB|, 2754)"
      ]
     },
     "metadata": {},
     "output_type": "display_data"
    },
    {
     "name": "stdout",
     "output_type": "stream",
     "text": [
      "\n",
      "\n",
      "\n",
      "\n",
      "hint: |AB| = |A|*|B|\n",
      "\n",
      "\n",
      "\n",
      "\n",
      "        for copy/pasting for 3rd party calculators to learn the steps:\n",
      "Differentiate: -4*v - log(v) + 9\n",
      "Integrate: z - 12\n",
      "Matrix([[9, 3], [4, 7]])\n",
      "Matrix([[9, 9], [4, 10]])\n",
      "Matrix([[93, 111], [64, 106]])\n",
      "------------------------------------------------------------------------------------------------------\n",
      "1)\n"
     ]
    },
    {
     "data": {
      "text/latex": [
       "$\\displaystyle \\frac{d}{d v} \\left(- 4 v - \\log{\\left(v \\right)} + 9\\right) = ?$"
      ],
      "text/plain": [
       "Eq(Derivative(-4*v - log(v) + 9, v), ?)"
      ]
     },
     "metadata": {},
     "output_type": "display_data"
    },
    {
     "data": {
      "text/latex": [
       "$\\displaystyle \\int \\left(z - 12\\right)\\, dz = ?$"
      ],
      "text/plain": [
       "Eq(Integral(z - 12, z), ?)"
      ]
     },
     "metadata": {},
     "output_type": "display_data"
    },
    {
     "name": "stdout",
     "output_type": "stream",
     "text": [
      "2) Multiply these two matrices:\n"
     ]
    },
    {
     "data": {
      "text/latex": [
       "$\\displaystyle A = \\left[\\begin{matrix}0 & 1\\\\2 & 7\\end{matrix}\\right]$"
      ],
      "text/plain": [
       "Eq(A, Matrix([\n",
       "[0, 1],\n",
       "[2, 7]]))"
      ]
     },
     "metadata": {},
     "output_type": "display_data"
    },
    {
     "data": {
      "text/latex": [
       "$\\displaystyle B = \\left[\\begin{matrix}0 & 6\\\\8 & 1\\end{matrix}\\right]$"
      ],
      "text/plain": [
       "Eq(B, Matrix([\n",
       "[0, 6],\n",
       "[8, 1]]))"
      ]
     },
     "metadata": {},
     "output_type": "display_data"
    },
    {
     "name": "stdout",
     "output_type": "stream",
     "text": [
      "3) Calculate the determinate of matrix AB denoted |AB|.\n",
      "\n",
      "\n",
      "\n",
      "\n",
      "\n",
      "\n",
      "\n",
      "\n",
      "\n",
      "\n",
      "Possible answers:\n",
      "1)\n"
     ]
    },
    {
     "data": {
      "text/latex": [
       "$\\displaystyle \\frac{d}{d v} \\left(- 4 v - \\log{\\left(v \\right)} + 9\\right) = -4 - \\frac{1}{v}$"
      ],
      "text/plain": [
       "Eq(Derivative(-4*v - log(v) + 9, v), -4 - 1/v)"
      ]
     },
     "metadata": {},
     "output_type": "display_data"
    },
    {
     "data": {
      "text/latex": [
       "$\\displaystyle \\int \\left(z - 12\\right)\\, dz = \\frac{z^{2}}{2} - 12 z$"
      ],
      "text/plain": [
       "Eq(Integral(z - 12, z), z**2/2 - 12*z)"
      ]
     },
     "metadata": {},
     "output_type": "display_data"
    },
    {
     "name": "stdout",
     "output_type": "stream",
     "text": [
      "2)\n"
     ]
    },
    {
     "data": {
      "text/latex": [
       "$\\displaystyle A B = \\left[\\begin{matrix}8 & 1\\\\56 & 19\\end{matrix}\\right]$"
      ],
      "text/plain": [
       "Eq(A*B, Matrix([\n",
       "[ 8,  1],\n",
       "[56, 19]]))"
      ]
     },
     "metadata": {},
     "output_type": "display_data"
    },
    {
     "name": "stdout",
     "output_type": "stream",
     "text": [
      "3) \n"
     ]
    },
    {
     "data": {
      "text/latex": [
       "$\\displaystyle |AB| = 96$"
      ],
      "text/plain": [
       "Eq(|AB|, 96)"
      ]
     },
     "metadata": {},
     "output_type": "display_data"
    },
    {
     "name": "stdout",
     "output_type": "stream",
     "text": [
      "\n",
      "\n",
      "\n",
      "\n",
      "hint: |AB| = |A|*|B|\n",
      "\n",
      "\n",
      "\n",
      "\n",
      "        for copy/pasting for 3rd party calculators to learn the steps:\n",
      "Differentiate: -4*v - log(v) + 9\n",
      "Integrate: z - 12\n",
      "Matrix([[0, 1], [2, 7]])\n",
      "Matrix([[0, 6], [8, 1]])\n",
      "Matrix([[8, 1], [56, 19]])\n",
      "------------------------------------------------------------------------------------------------------\n",
      "1)\n"
     ]
    },
    {
     "data": {
      "text/latex": [
       "$\\displaystyle \\frac{d}{d v} \\left(- 4 v - \\log{\\left(v \\right)} + 9\\right) = ?$"
      ],
      "text/plain": [
       "Eq(Derivative(-4*v - log(v) + 9, v), ?)"
      ]
     },
     "metadata": {},
     "output_type": "display_data"
    },
    {
     "data": {
      "text/latex": [
       "$\\displaystyle \\int \\left(z - 12\\right)\\, dz = ?$"
      ],
      "text/plain": [
       "Eq(Integral(z - 12, z), ?)"
      ]
     },
     "metadata": {},
     "output_type": "display_data"
    },
    {
     "name": "stdout",
     "output_type": "stream",
     "text": [
      "2) Multiply these two matrices:\n"
     ]
    },
    {
     "data": {
      "text/latex": [
       "$\\displaystyle A = \\left[\\begin{matrix}7 & 0\\\\10 & 9\\end{matrix}\\right]$"
      ],
      "text/plain": [
       "Eq(A, Matrix([\n",
       "[ 7, 0],\n",
       "[10, 9]]))"
      ]
     },
     "metadata": {},
     "output_type": "display_data"
    },
    {
     "data": {
      "text/latex": [
       "$\\displaystyle B = \\left[\\begin{matrix}10 & 1\\\\1 & 8\\end{matrix}\\right]$"
      ],
      "text/plain": [
       "Eq(B, Matrix([\n",
       "[10, 1],\n",
       "[ 1, 8]]))"
      ]
     },
     "metadata": {},
     "output_type": "display_data"
    },
    {
     "name": "stdout",
     "output_type": "stream",
     "text": [
      "3) Calculate the determinate of matrix AB denoted |AB|.\n",
      "\n",
      "\n",
      "\n",
      "\n",
      "\n",
      "\n",
      "\n",
      "\n",
      "\n",
      "\n",
      "Possible answers:\n",
      "1)\n"
     ]
    },
    {
     "data": {
      "text/latex": [
       "$\\displaystyle \\frac{d}{d v} \\left(- 4 v - \\log{\\left(v \\right)} + 9\\right) = -4 - \\frac{1}{v}$"
      ],
      "text/plain": [
       "Eq(Derivative(-4*v - log(v) + 9, v), -4 - 1/v)"
      ]
     },
     "metadata": {},
     "output_type": "display_data"
    },
    {
     "data": {
      "text/latex": [
       "$\\displaystyle \\int \\left(z - 12\\right)\\, dz = \\frac{z^{2}}{2} - 12 z$"
      ],
      "text/plain": [
       "Eq(Integral(z - 12, z), z**2/2 - 12*z)"
      ]
     },
     "metadata": {},
     "output_type": "display_data"
    },
    {
     "name": "stdout",
     "output_type": "stream",
     "text": [
      "2)\n"
     ]
    },
    {
     "data": {
      "text/latex": [
       "$\\displaystyle A B = \\left[\\begin{matrix}70 & 7\\\\109 & 82\\end{matrix}\\right]$"
      ],
      "text/plain": [
       "Eq(A*B, Matrix([\n",
       "[ 70,  7],\n",
       "[109, 82]]))"
      ]
     },
     "metadata": {},
     "output_type": "display_data"
    },
    {
     "name": "stdout",
     "output_type": "stream",
     "text": [
      "3) \n"
     ]
    },
    {
     "data": {
      "text/latex": [
       "$\\displaystyle |AB| = 4977$"
      ],
      "text/plain": [
       "Eq(|AB|, 4977)"
      ]
     },
     "metadata": {},
     "output_type": "display_data"
    },
    {
     "name": "stdout",
     "output_type": "stream",
     "text": [
      "\n",
      "\n",
      "\n",
      "\n",
      "hint: |AB| = |A|*|B|\n",
      "\n",
      "\n",
      "\n",
      "\n",
      "        for copy/pasting for 3rd party calculators to learn the steps:\n",
      "Differentiate: -4*v - log(v) + 9\n",
      "Integrate: z - 12\n",
      "Matrix([[7, 0], [10, 9]])\n",
      "Matrix([[10, 1], [1, 8]])\n",
      "Matrix([[70, 7], [109, 82]])\n",
      "------------------------------------------------------------------------------------------------------\n",
      "1)\n"
     ]
    },
    {
     "data": {
      "text/latex": [
       "$\\displaystyle \\frac{d}{d v} \\left(- 4 v - \\log{\\left(v \\right)} + 9\\right) = ?$"
      ],
      "text/plain": [
       "Eq(Derivative(-4*v - log(v) + 9, v), ?)"
      ]
     },
     "metadata": {},
     "output_type": "display_data"
    },
    {
     "data": {
      "text/latex": [
       "$\\displaystyle \\int \\left(z - 12\\right)\\, dz = ?$"
      ],
      "text/plain": [
       "Eq(Integral(z - 12, z), ?)"
      ]
     },
     "metadata": {},
     "output_type": "display_data"
    },
    {
     "name": "stdout",
     "output_type": "stream",
     "text": [
      "2) Multiply these two matrices:\n"
     ]
    },
    {
     "data": {
      "text/latex": [
       "$\\displaystyle A = \\left[\\begin{matrix}6 & 3 & 4\\\\3 & 0 & 9\\\\3 & 6 & 6\\end{matrix}\\right]$"
      ],
      "text/plain": [
       "Eq(A, Matrix([\n",
       "[6, 3, 4],\n",
       "[3, 0, 9],\n",
       "[3, 6, 6]]))"
      ]
     },
     "metadata": {},
     "output_type": "display_data"
    },
    {
     "data": {
      "text/latex": [
       "$\\displaystyle B = \\left[\\begin{matrix}3 & 7 & 9\\\\6 & 1 & 7\\\\1 & 10 & 6\\end{matrix}\\right]$"
      ],
      "text/plain": [
       "Eq(B, Matrix([\n",
       "[3,  7, 9],\n",
       "[6,  1, 7],\n",
       "[1, 10, 6]]))"
      ]
     },
     "metadata": {},
     "output_type": "display_data"
    },
    {
     "name": "stdout",
     "output_type": "stream",
     "text": [
      "3) Calculate the determinate of matrix AB denoted |AB|.\n",
      "\n",
      "\n",
      "\n",
      "\n",
      "\n",
      "\n",
      "\n",
      "\n",
      "\n",
      "\n",
      "Possible answers:\n",
      "1)\n"
     ]
    },
    {
     "data": {
      "text/latex": [
       "$\\displaystyle \\frac{d}{d v} \\left(- 4 v - \\log{\\left(v \\right)} + 9\\right) = -4 - \\frac{1}{v}$"
      ],
      "text/plain": [
       "Eq(Derivative(-4*v - log(v) + 9, v), -4 - 1/v)"
      ]
     },
     "metadata": {},
     "output_type": "display_data"
    },
    {
     "data": {
      "text/latex": [
       "$\\displaystyle \\int \\left(z - 12\\right)\\, dz = \\frac{z^{2}}{2} - 12 z$"
      ],
      "text/plain": [
       "Eq(Integral(z - 12, z), z**2/2 - 12*z)"
      ]
     },
     "metadata": {},
     "output_type": "display_data"
    },
    {
     "name": "stdout",
     "output_type": "stream",
     "text": [
      "2)\n"
     ]
    },
    {
     "data": {
      "text/latex": [
       "$\\displaystyle A B = \\left[\\begin{matrix}40 & 85 & 99\\\\18 & 111 & 81\\\\51 & 87 & 105\\end{matrix}\\right]$"
      ],
      "text/plain": [
       "Eq(A*B, Matrix([\n",
       "[40,  85,  99],\n",
       "[18, 111,  81],\n",
       "[51,  87, 105]]))"
      ]
     },
     "metadata": {},
     "output_type": "display_data"
    },
    {
     "name": "stdout",
     "output_type": "stream",
     "text": [
      "3) \n"
     ]
    },
    {
     "data": {
      "text/latex": [
       "$\\displaystyle |AB| = -30600$"
      ],
      "text/plain": [
       "Eq(|AB|, -30600)"
      ]
     },
     "metadata": {},
     "output_type": "display_data"
    },
    {
     "name": "stdout",
     "output_type": "stream",
     "text": [
      "\n",
      "\n",
      "\n",
      "\n",
      "hint: |AB| = |A|*|B|\n",
      "\n",
      "\n",
      "\n",
      "\n",
      "        for copy/pasting for 3rd party calculators to learn the steps:\n",
      "Differentiate: -4*v - log(v) + 9\n",
      "Integrate: z - 12\n",
      "Matrix([[6, 3, 4], [3, 0, 9], [3, 6, 6]])\n",
      "Matrix([[3, 7, 9], [6, 1, 7], [1, 10, 6]])\n",
      "Matrix([[40, 85, 99], [18, 111, 81], [51, 87, 105]])\n",
      "------------------------------------------------------------------------------------------------------\n",
      "1)\n"
     ]
    },
    {
     "data": {
      "text/latex": [
       "$\\displaystyle \\frac{d}{d v} \\left(- 4 v - \\log{\\left(v \\right)} + 9\\right) = ?$"
      ],
      "text/plain": [
       "Eq(Derivative(-4*v - log(v) + 9, v), ?)"
      ]
     },
     "metadata": {},
     "output_type": "display_data"
    },
    {
     "data": {
      "text/latex": [
       "$\\displaystyle \\int \\left(z - 12\\right)\\, dz = ?$"
      ],
      "text/plain": [
       "Eq(Integral(z - 12, z), ?)"
      ]
     },
     "metadata": {},
     "output_type": "display_data"
    },
    {
     "name": "stdout",
     "output_type": "stream",
     "text": [
      "2) Multiply these two matrices:\n"
     ]
    },
    {
     "data": {
      "text/latex": [
       "$\\displaystyle A = \\left[\\begin{matrix}9 & 2\\\\7 & 9\\end{matrix}\\right]$"
      ],
      "text/plain": [
       "Eq(A, Matrix([\n",
       "[9, 2],\n",
       "[7, 9]]))"
      ]
     },
     "metadata": {},
     "output_type": "display_data"
    },
    {
     "data": {
      "text/latex": [
       "$\\displaystyle B = \\left[\\begin{matrix}5 & 6\\\\0 & 2\\end{matrix}\\right]$"
      ],
      "text/plain": [
       "Eq(B, Matrix([\n",
       "[5, 6],\n",
       "[0, 2]]))"
      ]
     },
     "metadata": {},
     "output_type": "display_data"
    },
    {
     "name": "stdout",
     "output_type": "stream",
     "text": [
      "3) Calculate the determinate of matrix AB denoted |AB|.\n",
      "\n",
      "\n",
      "\n",
      "\n",
      "\n",
      "\n",
      "\n",
      "\n",
      "\n",
      "\n",
      "Possible answers:\n",
      "1)\n"
     ]
    },
    {
     "data": {
      "text/latex": [
       "$\\displaystyle \\frac{d}{d v} \\left(- 4 v - \\log{\\left(v \\right)} + 9\\right) = -4 - \\frac{1}{v}$"
      ],
      "text/plain": [
       "Eq(Derivative(-4*v - log(v) + 9, v), -4 - 1/v)"
      ]
     },
     "metadata": {},
     "output_type": "display_data"
    },
    {
     "data": {
      "text/latex": [
       "$\\displaystyle \\int \\left(z - 12\\right)\\, dz = \\frac{z^{2}}{2} - 12 z$"
      ],
      "text/plain": [
       "Eq(Integral(z - 12, z), z**2/2 - 12*z)"
      ]
     },
     "metadata": {},
     "output_type": "display_data"
    },
    {
     "name": "stdout",
     "output_type": "stream",
     "text": [
      "2)\n"
     ]
    },
    {
     "data": {
      "text/latex": [
       "$\\displaystyle A B = \\left[\\begin{matrix}45 & 58\\\\35 & 60\\end{matrix}\\right]$"
      ],
      "text/plain": [
       "Eq(A*B, Matrix([\n",
       "[45, 58],\n",
       "[35, 60]]))"
      ]
     },
     "metadata": {},
     "output_type": "display_data"
    },
    {
     "name": "stdout",
     "output_type": "stream",
     "text": [
      "3) \n"
     ]
    },
    {
     "data": {
      "text/latex": [
       "$\\displaystyle |AB| = 670$"
      ],
      "text/plain": [
       "Eq(|AB|, 670)"
      ]
     },
     "metadata": {},
     "output_type": "display_data"
    },
    {
     "name": "stdout",
     "output_type": "stream",
     "text": [
      "\n",
      "\n",
      "\n",
      "\n",
      "hint: |AB| = |A|*|B|\n",
      "\n",
      "\n",
      "\n",
      "\n",
      "        for copy/pasting for 3rd party calculators to learn the steps:\n",
      "Differentiate: -4*v - log(v) + 9\n",
      "Integrate: z - 12\n",
      "Matrix([[9, 2], [7, 9]])\n",
      "Matrix([[5, 6], [0, 2]])\n",
      "Matrix([[45, 58], [35, 60]])\n",
      "------------------------------------------------------------------------------------------------------\n"
     ]
    }
   ],
   "source": [
    "from sympy.simplify.fu import TR22,TR2i\n",
    "from sympy import *\n",
    "from sympy.abc import theta\n",
    "import random\n",
    "f = Function('f')\n",
    "g = Function('g')\n",
    "h = Function('h')\n",
    "theta = Symbol('theta')\n",
    "i = 0\n",
    "dkeywords = {\"polylog\",\"Ei\",\"gamma\",\"Piecewise\",\"li\",\"erf\",\"Si\",\"Ci\",\"hyper\",\"fresnel\",\"Li\",\"expint\",\"zoo\",\n",
    "\"nan\",\"oo\",\"abs\",\"re\",\"EulerGamma\", \"sinh\",\"tanh\", \"cosh\",'sign','abs','atan','csc','asin'} \n",
    "ikeywords = {\"polylog\",\"Ei\",\"gamma\",\"Piecewise\", \"li\", \"erf\", \"atan\", \"Si\",  \"Ci\",  \"hyper\",  \"fresnel\",  \"Li\", \n",
    "\"expint\",\"zoo\", \"nan\", \"oo\",\"EulerGamma\",\"sinh\",\"csc\",\"asin\"}\n",
    "keywords2 = {\"sin\",\"cos\",\"tan\"}\n",
    "def random_variable(i):\n",
    "    return Symbol(random.choice([i for i in ['v','t','x','z','y']]), real=True)\n",
    "def random_value(i):\n",
    "    return random.choice([i for i in range(-10,10) if i not in [0]])\n",
    "def power(a):      \n",
    "    return random_value(i)*a**int(random_value(i)/2)\n",
    "def scalar(a):       \n",
    "    return a*random_value(i) + random_value(i)\n",
    "def addSUBTR(a):     \n",
    "    return a+random_value(i)\n",
    "def dmain(a):\n",
    "    def random_math(a): \n",
    "        funs = [power,scalar,addSUBTR,power,scalar,addSUBTR,ln,exp,sin,cos,tan,sqrt]   \n",
    "        operations = [f(a)+g(a),\n",
    "                      f(a)-g(a),\n",
    "                      f(a)*g(a),\n",
    "                      f(a)/g(a),\n",
    "                      f(a)**g(a),\n",
    "                      ]\n",
    "        operation = operations[random.randrange(0,len(operations))]\n",
    "        return [[[operation.replace(f, i) for i in funs][random.randrange(0,len(funs))].replace(g, i) for i in funs]\\\n",
    "    [random.randrange(0,len(funs))].replace(h, i) for i in funs][random.randrange(0,len(funs))]\n",
    "    return random_math(a)\n",
    "def imain(a):\n",
    "    def random_math2(a):  \n",
    "        funs = [power,scalar,addSUBTR,power,scalar,addSUBTR,ln,exp,sin,cos,tan,sqrt]   \n",
    "        operations = [f(g(a)),f(a)+g(a),f(a)-g(a),f(a)/g(a),f(a)*g(a)]\n",
    "        operation = operations[random.randrange(0,len(operations))]\n",
    "        return [[operation.replace(f, i) for i in funs][random.randrange(0,len(funs))].replace(g, i) for i in funs]\\\n",
    "    [random.randrange(0,len(funs))]\n",
    "    return random_math2(a)\n",
    "derror = True\n",
    "def dtest():\n",
    "    global setup1\n",
    "    global derror\n",
    "    global practice1\n",
    "    a = random_variable(i)\n",
    "    setup1 = dmain(a)\n",
    "    practice1 = Derivative(setup1,a)       \n",
    "    p1eq = TR22(Eq(practice1,practice1.doit(),evaluate=False))\n",
    "    if any(kw in str(setup1) for kw in keywords2):\n",
    "        setup1 = setup1.replace(a,theta)\n",
    "        practice1 = Derivative(setup1,theta)   \n",
    "        p1eq = TR22(Eq(practice1,practice1.doit(),evaluate=False))\n",
    "    if p1eq.rhs != 0 and not any(kw in str(p1eq) for kw in dkeywords):\n",
    "        derror = False\n",
    "    return p1eq\n",
    "while derror == True: \n",
    "    output1 = dtest()\n",
    "ierror = True\n",
    "def itest():\n",
    "    global ierror\n",
    "    global practice2\n",
    "    global setup2\n",
    "    a = random_variable(i)\n",
    "    setup2 = imain(a)\n",
    "    practice2 = Integral(setup2,a)  \n",
    "    p2eq = TR22(Eq(practice2,practice2.doit(),evaluate=False))\n",
    "    if str(factor_terms(p2eq.lhs)) != str(factor_terms(p2eq.rhs)) and not any(kw in str(p2eq) for kw in ikeywords)\\\n",
    "    and str(p2eq.lhs) != str(-p2eq.rhs): \n",
    "        if any(kw in str(setup2) for kw in keywords2):\n",
    "            setup2 = setup2.replace(a,theta)\n",
    "            practice2 = Integral(setup2,theta)  \n",
    "            p2eq = TR22(Eq(practice2,practice2.doit(),evaluate=False))\n",
    "        ierror = False\n",
    "    return p2eq\n",
    "while ierror == True:\n",
    "    output2 = itest()\n",
    "questionmark = Symbol('?')\n",
    "addsymbol = Symbol('+')\n",
    "for i in range(1,30):\n",
    "    def lhs():\n",
    "        return display(Eq(nsimplify(output1.lhs),questionmark),Eq(nsimplify(output2.lhs),questionmark)) \n",
    "    def rhs():\n",
    "        return display(Eq(nsimplify(output1.lhs),nsimplify(output1.rhs)),Eq(nsimplify(output2.lhs),nsimplify(output2.rhs)))\n",
    "\n",
    "    k=0\n",
    "    n=random.randrange(2, 4, 1) \n",
    "    A0 = MatrixSymbol('A',n,n)\n",
    "    A1 = MatrixSymbol('A^-1',n,n)\n",
    "    A = randMatrix(n,n,percent=100,min=0, max=10,symmetric=False)\n",
    "    B0 = MatrixSymbol('B',n,n)\n",
    "    B1 = MatrixSymbol('B^-1',n,n)\n",
    "    B = randMatrix(n,n,percent=100,min=0, max=10,symmetric=False)\n",
    "    print('1)')\n",
    "    lhs()\n",
    "    print(\"2) Multiply these two matrices:\")\n",
    "    display(Eq(A0,A,evaluate=False),Eq(B0,B,evaluate=False))\n",
    "    print('3) Calculate the determinate of matrix AB denoted |AB|.')\n",
    "    print(\"\\n\")\n",
    "    print(\"\\n\")\n",
    "    print(\"\\n\")\n",
    "    print(\"\\n\")\n",
    "    print(\"\\n\")\n",
    "    print(\"Possible answers:\")\n",
    "    print('1)')\n",
    "    rhs()\n",
    "    print('2)')\n",
    "    answer1=A*B\n",
    "    display(Eq(A0*B0,answer1))\n",
    "    print('3) ')\n",
    "    dettt = Symbol('|AB|')\n",
    "    display(Eq(dettt,answer1.det()))\n",
    "    print(\"\\n\")\n",
    "    print(\"\\n\")\n",
    "    print(\"hint: |AB| = |A|*|B|\")\n",
    "    print(\"\\n\")\n",
    "    print(\"\\n\")\n",
    "    print(\"        for copy/pasting for 3rd party calculators to learn the steps:\")\n",
    "    keywords3 = {\"theta\"}\n",
    "    if any(kw in str(nsimplify(output1.lhs)) for kw in keywords3):\n",
    "        print(\"Differentiate:\",str(nsimplify(output1.lhs))[11:-8])\n",
    "        p1 = \"    \"+str(nsimplify(output1.lhs))[11:-8]\n",
    "    else:\n",
    "        print(\"Differentiate:\",str(nsimplify(output1.lhs))[11:-4])\n",
    "        p1 = \"    \"+str(nsimplify(output1.lhs))[11:-4]\n",
    "\n",
    "    if any(kw in str(nsimplify(output2.lhs)) for kw in keywords3):\n",
    "        print(\"Integrate:\",str(nsimplify(output2.lhs))[9:-8])\n",
    "        p2 = \"    \"+str(nsimplify(output2.lhs))[9:-8]\n",
    "    else:\n",
    "        print(\"Integrate:\",str(nsimplify(output2.lhs))[9:-4]) \n",
    "        p2 = \"    \"+str(nsimplify(output2.lhs))[9:-4]\n",
    "    print(A)\n",
    "    print(B)\n",
    "    print(A*B)\n",
    "    print(\"------------------------------------------------------------------------------------------------------\")"
   ]
  }
 ],
 "metadata": {
  "kernelspec": {
   "display_name": "Python 3 (ipykernel)",
   "language": "python",
   "name": "python3"
  },
  "language_info": {
   "codemirror_mode": {
    "name": "ipython",
    "version": 3
   },
   "file_extension": ".py",
   "mimetype": "text/x-python",
   "name": "python",
   "nbconvert_exporter": "python",
   "pygments_lexer": "ipython3",
   "version": "3.10.6"
  }
 },
 "nbformat": 4,
 "nbformat_minor": 5
}
