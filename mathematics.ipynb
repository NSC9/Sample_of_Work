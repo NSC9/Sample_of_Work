{
 "cells": [
  {
   "cell_type": "markdown",
   "id": "6bdf2faf",
   "metadata": {},
   "source": [
    "# Solve With Pen and Paper:"
   ]
  },
  {
   "cell_type": "code",
   "execution_count": 56,
   "id": "108761f9",
   "metadata": {
    "scrolled": false
   },
   "outputs": [
    {
     "name": "stdout",
     "output_type": "stream",
     "text": [
      "1)\n"
     ]
    },
    {
     "data": {
      "text/latex": [
       "$\\displaystyle \\frac{d}{d x} \\frac{3 x + 5}{- 4 x - 2} = ?$"
      ],
      "text/plain": [
       "Eq(Derivative((3*x + 5)/(-4*x - 2), x), ?)"
      ]
     },
     "metadata": {},
     "output_type": "display_data"
    },
    {
     "data": {
      "text/latex": [
       "$\\displaystyle \\int \\left(- 2 y^{4} - \\log{\\left(y \\right)}\\right)\\, dy = ?$"
      ],
      "text/plain": [
       "Eq(Integral(-2*y**4 - log(y), y), ?)"
      ]
     },
     "metadata": {},
     "output_type": "display_data"
    },
    {
     "name": "stdout",
     "output_type": "stream",
     "text": [
      "2) Multiply these two matrices:\n"
     ]
    },
    {
     "data": {
      "text/latex": [
       "$\\displaystyle A = \\left[\\begin{matrix}9 & 1 & 9 & 0\\\\8 & 9 & 8 & 5\\\\7 & 0 & 1 & 6\\\\4 & 7 & 6 & 0\\end{matrix}\\right]$"
      ],
      "text/plain": [
       "Eq(A, Matrix([\n",
       "[9, 1, 9, 0],\n",
       "[8, 9, 8, 5],\n",
       "[7, 0, 1, 6],\n",
       "[4, 7, 6, 0]]))"
      ]
     },
     "metadata": {},
     "output_type": "display_data"
    },
    {
     "data": {
      "text/latex": [
       "$\\displaystyle B = \\left[\\begin{matrix}7 & 7 & 9 & 5\\\\1 & 6 & 4 & 4\\\\9 & 5 & 2 & 4\\\\7 & 10 & 1 & 3\\end{matrix}\\right]$"
      ],
      "text/plain": [
       "Eq(B, Matrix([\n",
       "[7,  7, 9, 5],\n",
       "[1,  6, 4, 4],\n",
       "[9,  5, 2, 4],\n",
       "[7, 10, 1, 3]]))"
      ]
     },
     "metadata": {},
     "output_type": "display_data"
    },
    {
     "name": "stdout",
     "output_type": "stream",
     "text": [
      "3) Calculate the determinate of matrix AB denoted |AB|.\n",
      "\n",
      "\n",
      "\n",
      "\n",
      "\n",
      "\n",
      "\n",
      "\n",
      "\n",
      "\n",
      "Possible answers:\n",
      "1)\n"
     ]
    },
    {
     "data": {
      "text/latex": [
       "$\\displaystyle \\frac{d}{d x} \\frac{3 x + 5}{- 4 x - 2} = \\frac{3}{- 4 x - 2} + \\frac{4 \\left(3 x + 5\\right)}{\\left(- 4 x - 2\\right)^{2}}$"
      ],
      "text/plain": [
       "Eq(Derivative((3*x + 5)/(-4*x - 2), x), 3/(-4*x - 2) + 4*(3*x + 5)/(-4*x - 2)**2)"
      ]
     },
     "metadata": {},
     "output_type": "display_data"
    },
    {
     "data": {
      "text/latex": [
       "$\\displaystyle \\int \\left(- 2 y^{4} - \\log{\\left(y \\right)}\\right)\\, dy = - \\frac{2 y^{5}}{5} - y \\log{\\left(y \\right)} + y$"
      ],
      "text/plain": [
       "Eq(Integral(-2*y**4 - log(y), y), -2*y**5/5 - y*log(y) + y)"
      ]
     },
     "metadata": {},
     "output_type": "display_data"
    },
    {
     "name": "stdout",
     "output_type": "stream",
     "text": [
      "2)\n"
     ]
    },
    {
     "data": {
      "text/latex": [
       "$\\displaystyle A B = \\left[\\begin{matrix}145 & 114 & 103 & 85\\\\172 & 200 & 129 & 123\\\\100 & 114 & 71 & 57\\\\89 & 100 & 76 & 72\\end{matrix}\\right]$"
      ],
      "text/plain": [
       "Eq(A*B, Matrix([\n",
       "[145, 114, 103,  85],\n",
       "[172, 200, 129, 123],\n",
       "[100, 114,  71,  57],\n",
       "[ 89, 100,  76,  72]]))"
      ]
     },
     "metadata": {},
     "output_type": "display_data"
    },
    {
     "name": "stdout",
     "output_type": "stream",
     "text": [
      "3) \n"
     ]
    },
    {
     "data": {
      "text/latex": [
       "$\\displaystyle 903104$"
      ],
      "text/plain": [
       "903104"
      ]
     },
     "metadata": {},
     "output_type": "display_data"
    },
    {
     "name": "stdout",
     "output_type": "stream",
     "text": [
      "\n",
      "\n",
      "\n",
      "\n",
      "hint: det(AB) = det(A)*det(B)\n"
     ]
    }
   ],
   "source": [
    "from sympy.simplify.fu import TR22,TR2i\n",
    "from sympy import *\n",
    "from sympy.abc import theta\n",
    "import random\n",
    "f = Function('f')\n",
    "g = Function('g')\n",
    "h = Function('h')\n",
    "theta = Symbol('theta')\n",
    "i = 0\n",
    "dkeywords = {\"polylog\",\"Ei\",\"gamma\",\"Piecewise\",\"li\",\"erf\",\"Si\",\"Ci\",\"hyper\",\"fresnel\",\"Li\",\"expint\",\"zoo\",\n",
    "\"nan\",\"oo\",\"abs\",\"re\",\"EulerGamma\", \"sinh\",\"tanh\", \"cosh\",'sign','abs','atan','csc','asin'} \n",
    "ikeywords = {\"polylog\",\"Ei\",\"gamma\",\"Piecewise\", \"li\", \"erf\", \"atan\", \"Si\",  \"Ci\",  \"hyper\",  \"fresnel\",  \"Li\", \n",
    "\"expint\",\"zoo\", \"nan\", \"oo\",\"EulerGamma\",\"sinh\",\"csc\",\"asin\"}\n",
    "keywords2 = {\"sin\",\"cos\",\"tan\"}\n",
    "def random_variable(i):\n",
    "    return Symbol(random.choice([i for i in ['v','t','x','z','y']]), real=True)\n",
    "def random_value(i):\n",
    "    return random.choice([i for i in range(-10,10) if i not in [0]])\n",
    "def power(a):      \n",
    "    return random_value(i)*a**int(random_value(i)/2)\n",
    "def scalar(a):       \n",
    "    return a*random_value(i) + random_value(i)\n",
    "def addSUBTR(a):     \n",
    "    return a+random_value(i)\n",
    "def dmain(a):\n",
    "    def random_math(a): \n",
    "        funs = [power,scalar,addSUBTR,power,scalar,addSUBTR,ln,exp,sin,cos,tan,sqrt]   \n",
    "        operations = [f(a)+g(a),\n",
    "                      f(a)-g(a),\n",
    "                      f(a)*g(a),\n",
    "                      f(a)/g(a),\n",
    "                      f(a)**g(a),\n",
    "                      ]\n",
    "        operation = operations[random.randrange(0,len(operations))]\n",
    "        return [[[operation.replace(f, i) for i in funs][random.randrange(0,len(funs))].replace(g, i) for i in funs]\\\n",
    "    [random.randrange(0,len(funs))].replace(h, i) for i in funs][random.randrange(0,len(funs))]\n",
    "    return random_math(a)\n",
    "def imain(a):\n",
    "    def random_math2(a):  \n",
    "        funs = [power,scalar,addSUBTR,power,scalar,addSUBTR,ln,exp,sin,cos,tan,sqrt]   \n",
    "        operations = [f(g(a)),f(a)+g(a),f(a)-g(a),f(a)/g(a),f(a)*g(a)]\n",
    "        operation = operations[random.randrange(0,len(operations))]\n",
    "        return [[operation.replace(f, i) for i in funs][random.randrange(0,len(funs))].replace(g, i) for i in funs]\\\n",
    "    [random.randrange(0,len(funs))]\n",
    "    return random_math2(a)\n",
    "derror = True\n",
    "def dtest():\n",
    "    global setup1\n",
    "    global derror\n",
    "    global practice1\n",
    "    a = random_variable(i)\n",
    "    setup1 = dmain(a)\n",
    "    practice1 = Derivative(setup1,a)       \n",
    "    p1eq = TR22(Eq(practice1,practice1.doit(),evaluate=False))\n",
    "    if any(kw in str(setup1) for kw in keywords2):\n",
    "        setup1 = setup1.replace(a,theta)\n",
    "        practice1 = Derivative(setup1,theta)   \n",
    "        p1eq = TR22(Eq(practice1,practice1.doit(),evaluate=False))\n",
    "    if p1eq.rhs != 0 and not any(kw in str(p1eq) for kw in dkeywords):\n",
    "        derror = False\n",
    "    return p1eq\n",
    "while derror == True: \n",
    "    output1 = dtest()\n",
    "ierror = True\n",
    "def itest():\n",
    "    global ierror\n",
    "    global practice2\n",
    "    global setup2\n",
    "    a = random_variable(i)\n",
    "    setup2 = imain(a)\n",
    "    practice2 = Integral(setup2,a)  \n",
    "    p2eq = TR22(Eq(practice2,practice2.doit(),evaluate=False))\n",
    "    if str(factor_terms(p2eq.lhs)) != str(factor_terms(p2eq.rhs)) and not any(kw in str(p2eq) for kw in ikeywords)\\\n",
    "    and str(p2eq.lhs) != str(-p2eq.rhs): \n",
    "        if any(kw in str(setup2) for kw in keywords2):\n",
    "            setup2 = setup2.replace(a,theta)\n",
    "            practice2 = Integral(setup2,theta)  \n",
    "            p2eq = TR22(Eq(practice2,practice2.doit(),evaluate=False))\n",
    "        ierror = False\n",
    "    return p2eq\n",
    "while ierror == True:\n",
    "    output2 = itest()\n",
    "questionmark = Symbol('?')\n",
    "addsymbol = Symbol('+')\n",
    "def lhs():\n",
    "    return display(Eq(nsimplify(output1.lhs),questionmark),Eq(nsimplify(output2.lhs),questionmark)) \n",
    "def rhs():\n",
    "    return display(Eq(nsimplify(output1.lhs),nsimplify(output1.rhs)),Eq(nsimplify(output2.lhs),nsimplify(output2.rhs)))\n",
    "\n",
    "k=0\n",
    "n=random.randrange(2, 6, 2) \n",
    "A0 = MatrixSymbol('A',n,n)\n",
    "A1 = MatrixSymbol('A^-1',n,n)\n",
    "A = randMatrix(n,n,percent=100,min=0, max=10,symmetric=False)\n",
    "B0 = MatrixSymbol('B',n,n)\n",
    "B1 = MatrixSymbol('B^-1',n,n)\n",
    "B = randMatrix(n,n,percent=100,min=0, max=10,symmetric=False)\n",
    "print('1)')\n",
    "lhs()\n",
    "print(\"2) Multiply these two matrices:\")\n",
    "display(Eq(A0,A,evaluate=False),Eq(B0,B,evaluate=False))\n",
    "print('3) Calculate the determinate of matrix AB denoted |AB|.')\n",
    "print(\"\\n\")\n",
    "print(\"\\n\")\n",
    "print(\"\\n\")\n",
    "print(\"\\n\")\n",
    "print(\"\\n\")\n",
    "print(\"Possible answers:\")\n",
    "print('1)')\n",
    "rhs()\n",
    "print('2)')\n",
    "answer1=A*B\n",
    "display(Eq(A0*B0,answer1))\n",
    "print('3) ')\n",
    "display(answer1.det())\n",
    "print(\"\\n\")\n",
    "print(\"\\n\")\n",
    "print(\"hint: det(AB) = det(A)*det(B)\")"
   ]
  },
  {
   "attachments": {
    "Screenshot%20from%202023-07-03%2010-14-57.png": {
     "image/png": "[encoded data removed]"
    }
   },
   "cell_type": "markdown",
   "id": "f323604d",
   "metadata": {},
   "source": [
    "source: https://www.math.uci.edu/~ndonalds/math121a/4det.pdf\n",
    "![Screenshot%20from%202023-07-03%2010-14-57.png](attachment:Screenshot%20from%202023-07-03%2010-14-57.png)"
   ]
  }
 ],
 "metadata": {
  "kernelspec": {
   "display_name": "Python 3 (ipykernel)",
   "language": "python",
   "name": "python3"
  },
  "language_info": {
   "codemirror_mode": {
    "name": "ipython",
    "version": 3
   },
   "file_extension": ".py",
   "mimetype": "text/x-python",
   "name": "python",
   "nbconvert_exporter": "python",
   "pygments_lexer": "ipython3",
   "version": "3.10.6"
  }
 },
 "nbformat": 4,
 "nbformat_minor": 5
}
