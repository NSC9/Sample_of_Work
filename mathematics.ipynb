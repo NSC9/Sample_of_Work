{
 "cells": [
  {
   "cell_type": "markdown",
   "id": "69dc5572",
   "metadata": {},
   "source": [
    "This program is designed to accelerate ones ability to solve mathematical/logical problems using pen and paper to strengthen intuition. I use this program everyday for less than 15 minutes and post example use cases on my twitter @Noeo1234. \n",
    "\n",
    "Note: May need to occassionally restart the Jupyter Notebook kernel"
   ]
  },
  {
   "cell_type": "markdown",
   "id": "b74751a4",
   "metadata": {},
   "source": [
    "# Donate With Crypto:\n",
    " Bitcoin (BTC): bc1qtrjmtsfxhmjmu4wwdh03u92gpy662rnt3drlm7\n",
    "\n",
    "Ethereum (ETH,BNB/BEP20): 0x8B20704BB59E985Ad85D2477A9aB85a6F499F9E8\n",
    "\n",
    "Created by https://github.com/NSC9 - MIT License"
   ]
  },
  {
   "cell_type": "code",
   "execution_count": 3,
   "id": "108761f9",
   "metadata": {
    "scrolled": false
   },
   "outputs": [
    {
     "name": "stdout",
     "output_type": "stream",
     "text": [
      "...regenerating derivative\n",
      "...regenerating integral\n",
      "...regenerating integral\n",
      "...regenerating integral\n",
      "...regenerating integral\n",
      "...regenerating integral\n",
      "...regenerating integral\n",
      "...regenerating integral\n",
      "...regenerating integral\n",
      "...regenerating integral\n",
      "...regenerating integral\n",
      "...regenerating integral\n",
      "...regenerating integral\n",
      "...regenerating integral\n",
      "...regenerating integral\n",
      "...regenerating integral\n",
      "...regenerating integral\n",
      "...regenerating integral\n",
      "...regenerating integral\n",
      "...regenerating integral\n",
      "...regenerating integral\n",
      "...regenerating integral\n",
      "...regenerating integral\n",
      "Solve with Pen and Paper:\n",
      "\n",
      "\n",
      "q1)\n"
     ]
    },
    {
     "data": {
      "text/latex": [
       "$\\displaystyle \\frac{\\partial}{\\partial x} \\left(\\frac{3 \\pi e^{5 x}}{2} + 3\\right) \\log{\\left(x \\right)} = ?$"
      ],
      "text/plain": [
       "Eq(Derivative((3*pi*exp(5*x)/2 + 3)*log(x), x), ?)"
      ]
     },
     "metadata": {},
     "output_type": "display_data"
    },
    {
     "name": "stdout",
     "output_type": "stream",
     "text": [
      "q2)\n"
     ]
    },
    {
     "data": {
      "text/latex": [
       "$\\displaystyle \\int 2 \\sqrt{z}\\, dz = ?$"
      ],
      "text/plain": [
       "Eq(Integral(2*sqrt(z), z), ?)"
      ]
     },
     "metadata": {},
     "output_type": "display_data"
    },
    {
     "name": "stdout",
     "output_type": "stream",
     "text": [
      "\n",
      "\n",
      "a1)\n"
     ]
    },
    {
     "data": {
      "text/latex": [
       "$\\displaystyle \\frac{\\partial}{\\partial x} \\left(\\frac{3 \\pi e^{5 x}}{2} + 3\\right) \\log{\\left(x \\right)} = \\frac{15 \\pi e^{5 x} \\log{\\left(x \\right)}}{2} + \\frac{\\frac{3 \\pi e^{5 x}}{2} + 3}{x}$"
      ],
      "text/plain": [
       "Eq(Derivative((3*pi*exp(5*x)/2 + 3)*log(x), x), 15*pi*exp(5*x)*log(x)/2 + (3*pi*exp(5*x)/2 + 3)/x)"
      ]
     },
     "metadata": {},
     "output_type": "display_data"
    },
    {
     "name": "stdout",
     "output_type": "stream",
     "text": [
      "a2)\n"
     ]
    },
    {
     "data": {
      "text/latex": [
       "$\\displaystyle \\int 2 \\sqrt{z}\\, dz = \\frac{4 z^{\\frac{3}{2}}}{3}$"
      ],
      "text/plain": [
       "Eq(Integral(2*sqrt(z), z), 4*z**(3/2)/3)"
      ]
     },
     "metadata": {},
     "output_type": "display_data"
    },
    {
     "name": "stdout",
     "output_type": "stream",
     "text": [
      "----------------------------------------------------------------------\n"
     ]
    }
   ],
   "source": [
    "# Sympy v1.12\n",
    "from sympy.simplify.fu import TR22\n",
    "from sympy import *\n",
    "import random\n",
    "from sympy.abc import x,y,theta,pi\n",
    "f,g,h,i = Function('f'),Function('g'),Function('h'),0\n",
    "keywords = {\"polylog\",\"Ei\",\"gamma\",\"Piecewise\",\"li\",\"erf\",\n",
    "             \"hyper\",\"fresnel\",\"Li\",\"expint\",\"zoo\",\"nan\",\"oo\",\"abs\",\n",
    "             \"re\",\"EulerGamma\", \"sinh\",\"tanh\", \"cosh\",'sign',\"abs\",\n",
    "             \"atan\",\"csc\",\"asin\",\"Ci\",\"Si\"}\n",
    "keywords2 = {\"sin\",\"cos\",\"tan\"}\n",
    "def randconst(i):\n",
    "    check = random.randint(1, 30)\n",
    "    if  check <= 26:\n",
    "        random_number = random.randint(-10, 10)\n",
    "        if random_number == 0:\n",
    "            random_number = random.choice([-10, 10])\n",
    "        return random_number\n",
    "    elif check == 27:\n",
    "        return pi/2\n",
    "    elif check == 28:\n",
    "        return pi\n",
    "    elif check == 29:\n",
    "        return 3*pi/2\n",
    "    elif check == 30:\n",
    "        return 2*pi\n",
    "aa,bb,cc = randconst(i),randconst(i),randconst(i)\n",
    "\n",
    "def randvar(i):\n",
    "    return Symbol(random.choice([i for i in ['phi','psi','v','t','x','z','y']]), real=True)                                               \n",
    "def power(x):      \n",
    "    return aa*x**bb+cc\n",
    "def dmain(x):\n",
    "    def random_math(x): \n",
    "        funs = [power,sqrt,cbrt,ln,exp,sin,cos,tan]   \n",
    "        operations = [f(x)+g(x),\n",
    "                      f(x)-g(x),\n",
    "                      f(x)*g(x),\n",
    "                      f(x)/g(x),\n",
    "                      f(g(x))+h(x),\n",
    "                      f(g(x))-h(x),\n",
    "                      f(x)+g(x)+h(x),\n",
    "                      f(g(x))*h(x),\n",
    "                      f(g(x))/h(x),\n",
    "                      f(x)+g(x)-h(x),\n",
    "                      f(x)-g(x)-h(x),\n",
    "                      f(g(x))+h(x),\n",
    "                      f(g(x))-h(x),\n",
    "                      f(g(h(x)))]\n",
    "        operation = operations[random.randrange(0,len(operations))]\n",
    "        return [[[operation.replace(f, i) for i in funs][random.randrange(0,len(funs))].replace(g, i) for i in funs]\\\n",
    "    [random.randrange(0,len(funs))].replace(h, i) for i in funs][random.randrange(0,len(funs))]\n",
    "    return random_math(x)\n",
    "def imain(x):\n",
    "    def random_math2(x):  \n",
    "        funs = [power,power,sqrt,ln,exp,sin,cos,tan]   \n",
    "        operations = [f(x)+g(x),f(x)-g(x),f(x)*g(x),f(g(x))]\n",
    "        operation = operations[random.randrange(0,len(operations))]\n",
    "        return [[operation.replace(f, i) for i in funs][random.randrange(0,len(funs))].replace(g, i) for i in funs]\\\n",
    "    [random.randrange(0,len(funs))]\n",
    "    return random_math2(x)\n",
    "derror = True\n",
    "def dtest():\n",
    "    global derror\n",
    "    x = randvar(i)\n",
    "    setup1 = dmain(x)\n",
    "    practice1 = Derivative(setup1,x)       \n",
    "    p1eq = Eq(practice1,practice1.doit(),evaluate=False)\n",
    "    if any(kw in str(setup1) for kw in keywords2):\n",
    "        setup1 = setup1.replace(x,theta)\n",
    "        practice1 = Derivative(setup1,theta)   \n",
    "        p1eq = Eq(practice1,practice1.doit(),evaluate=False)\n",
    "    if p1eq.rhs != 0 and not any(kw in str(p1eq) for kw in keywords):\n",
    "        derror = False\n",
    "    return p1eq\n",
    "while derror == True: \n",
    "    print(\"...regenerating derivative\")\n",
    "    output1 = dtest()\n",
    "ierror = True\n",
    "def itest():\n",
    "    global ierror\n",
    "    x = randvar(i)\n",
    "    setup2 = imain(x)\n",
    "    practice2 = Integral(setup2,x) \n",
    "    p2eq = Eq(practice2,practice2.doit(),evaluate=False)\n",
    "    integral = \"Integral\"\n",
    "    if str(factor_terms(p2eq.lhs)) != str(factor_terms(p2eq.rhs)) and not any(kw in str(p2eq) for kw in keywords)\\\n",
    "    and str(p2eq.lhs) != str(-p2eq.rhs)and not any(kw in str(p2eq.rhs) for kw in integral): \n",
    "        if any(kw in str(setup2) for kw in keywords2):\n",
    "            setup2 = setup2.replace(x,theta)\n",
    "            practice2 = Integral(setup2,theta)  \n",
    "            p2eq = Eq(practice2,practice2.doit(),evaluate=False)\n",
    "        ierror = False\n",
    "    return p2eq\n",
    "while ierror == True:\n",
    "    print(\"...regenerating integral\")\n",
    "    output2 = itest()\n",
    "\"\"\"\n",
    "ierror2 = True\n",
    "def itest2():\n",
    "    global ierror2\n",
    "    x = randvar(i)\n",
    "    setup2 = imain(x)\n",
    "    a = -abs(randconst(i))\n",
    "    b = abs(randconst(i))\n",
    "    practice2 = Integral(setup2,(x, a, b))  \n",
    "    p2eq = Eq(practice2,practice2.doit(),evaluate=False)\n",
    "    integral = \"Integral\"\n",
    "    if str(factor_terms(p2eq.lhs)) != str(factor_terms(p2eq.rhs)) and not any(kw in str(p2eq) for kw in keywords)\\\n",
    "    and str(p2eq.lhs) != str(-p2eq.rhs)and not any(kw in str(p2eq.rhs) for kw in integral): \n",
    "        if any(kw in str(setup2) for kw in keywords2):\n",
    "            setup2 = setup2.replace(x,theta)\n",
    "            practice2 = Integral(setup2,theta)  \n",
    "            p2eq = Eq(practice2,practice2.doit(),evaluate=False)\n",
    "        ierror = False\n",
    "    return p2eq\n",
    "while ierror2 == True:\n",
    "    output3 = itest2()\n",
    "\"\"\"\n",
    "questionmark = Symbol('?')\n",
    "addsymbol = Symbol('+')\n",
    "def question():\n",
    "    eqn = Eq(nsimplify(output1.lhs),questionmark)\n",
    "    eqn2 = Eq(nsimplify(output2.lhs),questionmark)\n",
    "    #eqn3 = Eq(nsimplify(output3.lhs),questionmark)\n",
    "    return print(\"q1)\"),display(eqn),print(\"q2)\"),display(eqn2)#,print(\"q3\"),display(eqn3)\n",
    "def answer():\n",
    "    eqn = TR22(Eq(nsimplify(output1.lhs),nsimplify(output1.rhs)))\n",
    "    eqn2 = TR22(Eq(nsimplify(output2.lhs),nsimplify(output2.rhs)))\n",
    "    #eqn3 = TR22(Eq(nsimplify(output3.lhs),nsimplify(output3.rhs)))\n",
    "    return print(\"a1)\"),display(eqn),print(\"a2)\"),display(eqn2)#,print(\"a3\"),display(eqn3)\n",
    "def calculus():\n",
    "    print('Solve with Pen and Paper:')\n",
    "    print(\"\\n\")\n",
    "    question()\n",
    "    print(\"\\n\")\n",
    "    answer()\n",
    "    print(\"----------------------------------------------------------------------\")\n",
    "\n",
    "    \n",
    "def resources():\n",
    "    print(\"\\n\")\n",
    "    print(\"----------------------------------------------------------------------\") \n",
    "    print(\"for help on q1&q2: copy/paste expressions to https://www.derivative-calculator.net/ or https://www.integral-calculator.com/\")\n",
    "    print(\"     Differentiate:\",str(nsimplify(output1.lhs))[11:-4])\n",
    "    print(\"     Integrate:\",str(nsimplify(output2.lhs))[9:-4]) \n",
    "    print(\"\\n\")\n",
    "\n",
    "def main():\n",
    "    calculus()\n",
    "    #resources()\n",
    "main()"
   ]
  }
 ],
 "metadata": {
  "kernelspec": {
   "display_name": "Python 3 (ipykernel)",
   "language": "python",
   "name": "python3"
  },
  "language_info": {
   "codemirror_mode": {
    "name": "ipython",
    "version": 3
   },
   "file_extension": ".py",
   "mimetype": "text/x-python",
   "name": "python",
   "nbconvert_exporter": "python",
   "pygments_lexer": "ipython3",
   "version": "3.10.12"
  }
 },
 "nbformat": 4,
 "nbformat_minor": 5
}
