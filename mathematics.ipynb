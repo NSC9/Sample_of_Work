{
 "cells": [
  {
   "cell_type": "markdown",
   "id": "b74751a4",
   "metadata": {},
   "source": [
    "# Donate With Crypto:\n",
    " Bitcoin (BTC): bc1qtrjmtsfxhmjmu4wwdh03u92gpy662rnt3drlm7\n",
    "\n",
    "Ethereum (ETH): 0x8B20704BB59E985Ad85D2477A9aB85a6F499F9E8\n",
    "\n",
    "Binance (BNB/BEP20): 0x8B20704BB59E985Ad85D2477A9aB85a6F499F9E8\n",
    "\n",
    "Created by https://github.com/NSC9 - MIT License"
   ]
  },
  {
   "cell_type": "code",
   "execution_count": 7,
   "id": "108761f9",
   "metadata": {
    "scrolled": false
   },
   "outputs": [
    {
     "name": "stdout",
     "output_type": "stream",
     "text": [
      "1)\n"
     ]
    },
    {
     "data": {
      "text/latex": [
       "$\\displaystyle \\frac{d}{d v} \\left(\\sqrt{v} + e^{v}\\right) = ?$"
      ],
      "text/plain": [
       "Eq(Derivative(sqrt(v) + exp(v), v), ?)"
      ]
     },
     "metadata": {},
     "output_type": "display_data"
    },
    {
     "data": {
      "text/latex": [
       "$\\displaystyle \\int \\frac{6}{z^{\\frac{3}{2}}}\\, dz = ?$"
      ],
      "text/plain": [
       "Eq(Integral(6/z**(3/2), z), ?)"
      ]
     },
     "metadata": {},
     "output_type": "display_data"
    },
    {
     "name": "stdout",
     "output_type": "stream",
     "text": [
      "\n",
      "\n",
      "Possible answers:\n",
      "\n",
      "\n",
      "1)\n"
     ]
    },
    {
     "data": {
      "text/latex": [
       "$\\displaystyle \\frac{d}{d v} \\left(\\sqrt{v} + e^{v}\\right) = e^{v} + \\frac{1}{2 \\sqrt{v}}$"
      ],
      "text/plain": [
       "Eq(Derivative(sqrt(v) + exp(v), v), exp(v) + 1/(2*sqrt(v)))"
      ]
     },
     "metadata": {},
     "output_type": "display_data"
    },
    {
     "data": {
      "text/latex": [
       "$\\displaystyle \\int \\frac{6}{z^{\\frac{3}{2}}}\\, dz = - \\frac{12}{\\sqrt{z}}$"
      ],
      "text/plain": [
       "Eq(Integral(6/z**(3/2), z), -12/sqrt(z))"
      ]
     },
     "metadata": {},
     "output_type": "display_data"
    },
    {
     "name": "stdout",
     "output_type": "stream",
     "text": [
      "----------------------------------------------------------------------\n",
      "2) Calculate the eigenvalues of matrix M by solving the \n",
      "     characteristic equation det(M-lambda*I)=0.\n"
     ]
    },
    {
     "data": {
      "text/latex": [
       "$\\displaystyle M = \\left[\\begin{matrix}1 & 2\\\\3 & 0\\end{matrix}\\right]$"
      ],
      "text/plain": [
       "Eq(M, Matrix([\n",
       "[1, 2],\n",
       "[3, 0]]))"
      ]
     },
     "metadata": {},
     "output_type": "display_data"
    },
    {
     "name": "stdout",
     "output_type": "stream",
     "text": [
      "3) Find which eigenvectors correspond to the set of eigenvalues.\n",
      "\n",
      "\n",
      "4) Diagonalize the matrix MP = PD where \n",
      "     P: matrix of M's eigenvectors \n",
      "     D: a 0 matrix that places M's eigenvalues on its diagonal entries\n",
      "\n",
      "\n",
      "\n",
      "\n",
      "Possible answers:\n",
      "\n",
      "\n",
      "2) Eigenvalues for M:  (Eigenalues are on the left side of the colons, right side are multiplicity values)\n"
     ]
    },
    {
     "data": {
      "text/latex": [
       "$\\displaystyle 0 = \\left(\\lambda - 3\\right) \\left(\\lambda + 2\\right)$"
      ],
      "text/plain": [
       "Eq(0, (lamda - 3)*(lamda + 2))"
      ]
     },
     "metadata": {},
     "output_type": "display_data"
    },
    {
     "data": {
      "text/latex": [
       "$\\displaystyle \\lambda_{i} = \\left\\{ -2 : 1, \\  3 : 1\\right\\}$"
      ],
      "text/plain": [
       "Eq(lambda_i, {-2: 1, 3: 1})"
      ]
     },
     "metadata": {},
     "output_type": "display_data"
    },
    {
     "name": "stdout",
     "output_type": "stream",
     "text": [
      "\n",
      "\n",
      "3) Eigenvectors for M:\n"
     ]
    },
    {
     "data": {
      "text/latex": [
       "$\\displaystyle V_{1} = \\left[\\begin{matrix}-2\\\\3\\end{matrix}\\right]$"
      ],
      "text/plain": [
       "Eq(V_1, Matrix([\n",
       "[-2],\n",
       "[ 3]]))"
      ]
     },
     "metadata": {},
     "output_type": "display_data"
    },
    {
     "data": {
      "text/latex": [
       "$\\displaystyle V_{2} = \\left[\\begin{matrix}1\\\\1\\end{matrix}\\right]$"
      ],
      "text/plain": [
       "Eq(V_2, Matrix([\n",
       "[1],\n",
       "[1]]))"
      ]
     },
     "metadata": {},
     "output_type": "display_data"
    },
    {
     "name": "stdout",
     "output_type": "stream",
     "text": [
      "\n",
      "\n",
      "4) Diagonalize the matrix MP = PD where \n",
      "     P: matrix of M's eigenvectors \n",
      "     D: a 0 matrix that places M's eigenvalues on its diagonal entries\n"
     ]
    },
    {
     "data": {
      "text/latex": [
       "$\\displaystyle M = \\left[\\begin{matrix}1 & 2\\\\3 & 0\\end{matrix}\\right]$"
      ],
      "text/plain": [
       "Eq(M, Matrix([\n",
       "[1, 2],\n",
       "[3, 0]]))"
      ]
     },
     "metadata": {},
     "output_type": "display_data"
    },
    {
     "data": {
      "text/latex": [
       "$\\displaystyle P = \\left[\\begin{matrix}-2 & 1\\\\3 & 1\\end{matrix}\\right]$"
      ],
      "text/plain": [
       "Eq(P, Matrix([\n",
       "[-2, 1],\n",
       "[ 3, 1]]))"
      ]
     },
     "metadata": {},
     "output_type": "display_data"
    },
    {
     "data": {
      "text/latex": [
       "$\\displaystyle D_{M} = \\left[\\begin{matrix}-2 & 0\\\\0 & 3\\end{matrix}\\right]$"
      ],
      "text/plain": [
       "Eq(D_M, Matrix([\n",
       "[-2, 0],\n",
       "[ 0, 3]]))"
      ]
     },
     "metadata": {},
     "output_type": "display_data"
    },
    {
     "data": {
      "text/latex": [
       "$\\displaystyle MP = \\left[\\begin{matrix}4 & 3\\\\-6 & 3\\end{matrix}\\right] = PD_{M}$"
      ],
      "text/plain": [
       "Eq(Eq(MP, Matrix([\n",
       "[ 4, 3],\n",
       "[-6, 3]])), PD_M)"
      ]
     },
     "metadata": {},
     "output_type": "display_data"
    },
    {
     "name": "stdout",
     "output_type": "stream",
     "text": [
      "\n",
      "\n",
      "\n",
      "\n",
      "----------------------------------------------------------------------\n",
      "for help on 1), copy/paste https://www.derivative-calculator.net/ or https://www.integral-calculator.com/\n",
      "Differentiate: sqrt(v) + exp(v)\n",
      "Integrate: 6/z**(3/2)\n",
      "https://calculatores.com/eigenvectors-calculator\n"
     ]
    }
   ],
   "source": [
    "from sympy.simplify.fu import TR22,TR2i\n",
    "from sympy import *\n",
    "import random\n",
    "f,g,h,theta,i = Function('f'),Function('g'),Function('h'),Symbol('theta'),0\n",
    "keywords, keywords2 = {\"polylog\",\"Ei\",\"gamma\",\"Piecewise\",\"li\",\"erf\",\n",
    "             \"hyper\",\"fresnel\",\"Li\",\"expint\",\"zoo\",\"nan\",\"oo\",\"abs\",\n",
    "             \"re\",\"EulerGamma\", \"sinh\",\"tanh\", \"cosh\",'sign',\"abs\",\n",
    "             \"atan\",\"csc\",\"asin\",\"Ci\",\"Si\"},{\"sin\",\"cos\",\"tan\"}\n",
    "def random_variable(i):\n",
    "    return Symbol(random.choice([i for i in ['v','t','x','z','y']]), real=True)\n",
    "def random_value(i):\n",
    "    return random.choice([i for i in range(-9,9) if i not in [0]])\n",
    "def power(a):      \n",
    "    return random_value(i)*a**int(random_value(i)/2)\n",
    "def scalar(a):       \n",
    "    return a*random_value(i) + random_value(i)\n",
    "def addSUBTR(a):     \n",
    "    return a+random_value(i)\n",
    "def dmain(a):\n",
    "    def random_math(a): \n",
    "        funs = [power,scalar,addSUBTR,power,scalar,addSUBTR,\n",
    "                power,scalar,addSUBTR,power,scalar,addSUBTR,\n",
    "                sqrt,ln,exp,sin,cos,tan]   \n",
    "        operations = [f(a)+g(a),f(a)-g(a),f(a)*g(a),f(a)/g(a),\n",
    "                      f(a)+g(a),f(a)-g(a),f(a)*g(a),f(a)/g(a),\n",
    "                      f(a)+g(a),f(a)-g(a),f(a)*g(a),f(a)/g(a),\n",
    "                      f(a)+g(a),f(a)-g(a),f(a)*g(a),f(a)/g(a),\n",
    "                      f(a)+g(a),f(a)-g(a),f(a)*g(a),f(a)/g(a),\n",
    "                      f(a)**g(a),]\n",
    "        operation = operations[random.randrange(0,len(operations))]\n",
    "        return [[[operation.replace(f, i) for i in funs][random.randrange(0,len(funs))].replace(g, i) for i in funs]\\\n",
    "    [random.randrange(0,len(funs))].replace(h, i) for i in funs][random.randrange(0,len(funs))]\n",
    "    return random_math(a)\n",
    "def imain(a):\n",
    "    def random_math2(a):  \n",
    "        funs = [power,scalar,addSUBTR,power,scalar,addSUBTR,sqrt,\n",
    "                power,scalar,addSUBTR,power,scalar,addSUBTR,sqrt,\n",
    "                ln,exp,sin,cos,tan]   \n",
    "        operations = [f(g(a)),f(a)+g(a),f(a)-g(a),f(a)/g(a),f(a)*g(a),\n",
    "                      f(g(a)),f(a)+g(a),f(a)-g(a),f(a)/g(a),f(a)*g(a),\n",
    "                      f(g(a)),f(a)+g(a),f(a)-g(a),f(a)/g(a),f(a)*g(a),\n",
    "                     ]\n",
    "        operation = operations[random.randrange(0,len(operations))]\n",
    "        return [[operation.replace(f, i) for i in funs][random.randrange(0,len(funs))].replace(g, i) for i in funs]\\\n",
    "    [random.randrange(0,len(funs))]\n",
    "    return random_math2(a)\n",
    "derror = True\n",
    "def dtest():\n",
    "    global setup1\n",
    "    global derror\n",
    "    global practice1\n",
    "    a = random_variable(i)\n",
    "    setup1 = dmain(a)\n",
    "    practice1 = Derivative(setup1,a)       \n",
    "    p1eq = TR22(Eq(practice1,practice1.doit(),evaluate=False))\n",
    "    if any(kw in str(setup1) for kw in keywords2):\n",
    "        setup1 = setup1.replace(a,theta)\n",
    "        practice1 = Derivative(setup1,theta)   \n",
    "        p1eq = TR22(Eq(practice1,practice1.doit(),evaluate=False))\n",
    "    if p1eq.rhs != 0 and not any(kw in str(p1eq) for kw in keywords):\n",
    "        derror = False\n",
    "    return p1eq\n",
    "while derror == True: \n",
    "    output1 = dtest()\n",
    "ierror = True\n",
    "def itest():\n",
    "    global ierror\n",
    "    global practice2\n",
    "    global setup2\n",
    "    a = random_variable(i)\n",
    "    setup2 = imain(a)\n",
    "    practice2 = Integral(setup2,a)  \n",
    "    p2eq = TR22(Eq(practice2,practice2.doit(),evaluate=False))\n",
    "    if str(factor_terms(p2eq.lhs)) != str(factor_terms(p2eq.rhs)) and not any(kw in str(p2eq) for kw in keywords)\\\n",
    "    and str(p2eq.lhs) != str(-p2eq.rhs): \n",
    "        if any(kw in str(setup2) for kw in keywords2):\n",
    "            setup2 = setup2.replace(a,theta)\n",
    "            practice2 = Integral(setup2,theta)  \n",
    "            p2eq = TR22(Eq(practice2,practice2.doit(),evaluate=False))\n",
    "        ierror = False\n",
    "    return p2eq\n",
    "while ierror == True:\n",
    "    output2 = itest()\n",
    "questionmark = Symbol('?')\n",
    "addsymbol = Symbol('+')\n",
    "\n",
    "def lhs():\n",
    "    return display(Eq(nsimplify(output1.lhs),questionmark),Eq(nsimplify(output2.lhs),questionmark)) \n",
    "def rhs():\n",
    "    return display(Eq(nsimplify(output1.lhs),nsimplify(output1.rhs)),Eq(nsimplify(output2.lhs),nsimplify(output2.rhs)))\n",
    "\n",
    "def calculus():\n",
    "    print('1)')\n",
    "    lhs()\n",
    "    print(\"\\n\")\n",
    "    print(\"Possible answers:\")\n",
    "    print(\"\\n\")\n",
    "    print('1)')\n",
    "    rhs()\n",
    "    print(\"----------------------------------------------------------------------\")\n",
    "\n",
    "def linear_algebra():\n",
    "    lambda1 = Symbol('lambda_i')\n",
    "    kw3 = {\"I\",\"*I\",\"I/2\",\"*I/2\",\"*I:\",\"I:\",\"sqrt\"}\n",
    "    n = 2\n",
    "    def Mgen():\n",
    "        M = randMatrix(n,n,percent=100,min=0, max=4,symmetric=False)\n",
    "        return M\n",
    "    def diagonalizer():\n",
    "        M = Mgen()\n",
    "        P,D = [0,0]\n",
    "        if M.is_diagonalizable():\n",
    "            P, D = M.diagonalize()\n",
    "        else:\n",
    "            diagonalizer()\n",
    "        return P, D, M\n",
    "    def mstest():\n",
    "        P,D,M = diagonalizer()\n",
    "        if not any(kw in str(M) for kw in kw3) and not any(kw in str(P) for kw in kw3) and str(P) != '0' and str(D) != '0':\n",
    "            merror = False\n",
    "            return merror,P,D,M\n",
    "        else:\n",
    "            merror = True\n",
    "            return merror,P,D,M\n",
    "            mstest()\n",
    "    if type(mstest()) == None:\n",
    "        linear_algebra()\n",
    "    else:\n",
    "        merror,P,D,M = mstest()\n",
    "    if merror == False and type(merror) != None:\n",
    "        M0 = Symbol('M')\n",
    "        lamda = symbols('lamda')\n",
    "        print('2) Calculate the eigenvalues of matrix M by solving the \\n     characteristic equation det(M-lambda*I)=0.')\n",
    "        display(Eq(M0,M,evaluate=False))\n",
    "        print(\"3) Find which eigenvectors correspond to the set of eigenvalues.\")\n",
    "        print(\"\\n\")\n",
    "        print(\"4) Diagonalize the matrix MP = PD where \\n     P: matrix of M's eigenvectors \\n     D: a 0 matrix that places M's eigenvalues on its diagonal entries\")\n",
    "        print(\"\\n\")\n",
    "        print(\"\\n\")\n",
    "        print(\"Possible answers:\")\n",
    "        print(\"\\n\")\n",
    "        print('2) Eigenvalues for M:  (Eigenalues are on the left side of the colons, right side are multiplicity values)')\n",
    "        display(Eq(0,factor((M.charpoly(lamda)).as_expr()),evaluate=False))\n",
    "        display(Eq(lambda1,M.eigenvals()))\n",
    "        print(\"\\n\")\n",
    "        print(\"3) Eigenvectors for M:\")\n",
    "        eigvec0,eigvec1 = Symbol('V_1'),Symbol('V_2')\n",
    "        display(Eq(eigvec0,P.col(0),evaluate=False))\n",
    "        display(Eq(eigvec1,P.col(1),evaluate=False))\n",
    "        print(\"\\n\")\n",
    "        print(\"4) Diagonalize the matrix MP = PD where \\n     P: matrix of M's eigenvectors \\n     D: a 0 matrix that places M's eigenvalues on its diagonal entries\")\n",
    "        P0 = Symbol(\"P\")\n",
    "        D0 = Symbol(\"D_M\")\n",
    "        PD = Symbol(\"PD_M\")\n",
    "        MP = Symbol(\"MP\")\n",
    "        display(Eq(M0,M,evaluate=False))\n",
    "        display(Eq(P0,P,evaluate=False))\n",
    "        display(Eq(D0,D,evaluate=False))\n",
    "        display(Eq(Eq(MP,M*P,evaluate=False),PD,evaluate=False)) \n",
    "    else:\n",
    "        linear_algebra()\n",
    "\n",
    "def plaintext():\n",
    "    print(\"\\n\")\n",
    "    print(\"\\n\")\n",
    "    print(\"----------------------------------------------------------------------\")    \n",
    "    print(\"for help on 1), copy/paste https://www.derivative-calculator.net/ or https://www.integral-calculator.com/\")\n",
    "    kw4 = {\"theta\"}\n",
    "    if any(kw in str(nsimplify(output1.lhs)) for kw in kw4):\n",
    "        print(\"Differentiate:\",str(nsimplify(output1.lhs))[11:-8])\n",
    "        p1 = \"    \"+str(nsimplify(output1.lhs))[11:-8]\n",
    "    else:\n",
    "        print(\"Differentiate:\",str(nsimplify(output1.lhs))[11:-4])\n",
    "        p1 = \"    \"+str(nsimplify(output1.lhs))[11:-4]\n",
    "\n",
    "    if any(kw in str(nsimplify(output2.lhs)) for kw in kw4):\n",
    "        print(\"Integrate:\",str(nsimplify(output2.lhs))[9:-8])\n",
    "        p2 = \"    \"+str(nsimplify(output2.lhs))[9:-8]\n",
    "    else:\n",
    "        print(\"Integrate:\",str(nsimplify(output2.lhs))[9:-4]) \n",
    "        p2 = \"    \"+str(nsimplify(output2.lhs))[9:-4]\n",
    "    print(\"https://calculatores.com/eigenvectors-calculator\")\n",
    "calculus()\n",
    "linear_algebra()\n",
    "plaintext()"
   ]
  }
 ],
 "metadata": {
  "kernelspec": {
   "display_name": "Python 3 (ipykernel)",
   "language": "python",
   "name": "python3"
  },
  "language_info": {
   "codemirror_mode": {
    "name": "ipython",
    "version": 3
   },
   "file_extension": ".py",
   "mimetype": "text/x-python",
   "name": "python",
   "nbconvert_exporter": "python",
   "pygments_lexer": "ipython3",
   "version": "3.10.6"
  }
 },
 "nbformat": 4,
 "nbformat_minor": 5
}
