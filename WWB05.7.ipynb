{
 "cells": [
  {
   "cell_type": "code",
   "execution_count": 18,
   "id": "fc9487a4",
   "metadata": {},
   "outputs": [],
   "source": [
    "#Web work 5.7\n",
    "#\n",
    "# picture of problem at https://i.imgur.com/Gdl7KJw.png\n",
    "#\n",
    "#                            sources: \n",
    "#     https://www.deeplearningwizard.com/programming/sympy/calculus_sympy/\n",
    "#     https://docs.sympy.org/latest/modules/functions/index.html\n",
    "#     https://docs.sympy.org/latest/modules/utilities/lambdify.html\n",
    "#     https://www.mathway.com/examples/calculus/functions/difference-quotient?id=152\n",
    "import sympy as sy"
   ]
  },
  {
   "cell_type": "code",
   "execution_count": 26,
   "id": "0c628dba",
   "metadata": {},
   "outputs": [
    {
     "name": "stdout",
     "output_type": "stream",
     "text": [
      "Help on built-in function abs in module builtins:\n",
      "\n",
      "abs(x, /)\n",
      "    Return the absolute value of the argument.\n",
      "\n"
     ]
    }
   ],
   "source": [
    "help(abs)"
   ]
  },
  {
   "cell_type": "code",
   "execution_count": 27,
   "id": "1edf9485",
   "metadata": {},
   "outputs": [
    {
     "name": "stdout",
     "output_type": "stream",
     "text": [
      "g(3) =\n"
     ]
    },
    {
     "data": {
      "text/latex": [
       "$\\displaystyle 4$"
      ],
      "text/plain": [
       "4"
      ]
     },
     "execution_count": 27,
     "metadata": {},
     "output_type": "execute_result"
    }
   ],
   "source": [
    "from sympy import *\n",
    " \n",
    "# create a \"symbol\" called x\n",
    "t = Symbol('t')\n",
    " \n",
    "#Define function\n",
    "g = abs(t-7)\n",
    " \n",
    "g = lambdify(t, g)\n",
    "#passing x=2 to the function\n",
    "print('g(3) =');g(t.subs(t,3))"
   ]
  },
  {
   "cell_type": "code",
   "execution_count": 34,
   "id": "5ef0acef",
   "metadata": {},
   "outputs": [
    {
     "data": {
      "text/latex": [
       "$\\displaystyle \\frac{\\left|{t - 7}\\right|}{t - 7}$"
      ],
      "text/plain": [
       "Abs(t - 7)/(t - 7)"
      ]
     },
     "execution_count": 34,
     "metadata": {},
     "output_type": "execute_result"
    }
   ],
   "source": [
    "diff_quot = (g(t) - g(7)) / (t - 7)\n",
    "diff_quot"
   ]
  },
  {
   "cell_type": "code",
   "execution_count": 40,
   "id": "895a4a39",
   "metadata": {},
   "outputs": [
    {
     "data": {
      "text/latex": [
       "$\\displaystyle -1$"
      ],
      "text/plain": [
       "-1"
      ]
     },
     "execution_count": 40,
     "metadata": {},
     "output_type": "execute_result"
    }
   ],
   "source": [
    "sy.limit(diff_quot,t,7,'-')\n",
    "    #sy.limit takes the limit of some symbolic expression (diff_quot)\n",
    "    #     our symbolic expression is stored as variable 'diff_quot'\n",
    "    #sy.limit is taking the limit of our expression as t aproaches 7\n",
    "    #   '-' specifies the limit is taken from the left"
   ]
  },
  {
   "cell_type": "code",
   "execution_count": 42,
   "id": "b378b7fe",
   "metadata": {},
   "outputs": [
    {
     "data": {
      "text/latex": [
       "$\\displaystyle 1$"
      ],
      "text/plain": [
       "1"
      ]
     },
     "execution_count": 42,
     "metadata": {},
     "output_type": "execute_result"
    }
   ],
   "source": [
    "sy.limit(diff_quot,t,7,'+')\n",
    "#and limit from the right"
   ]
  },
  {
   "cell_type": "code",
   "execution_count": 43,
   "id": "35fa919a",
   "metadata": {},
   "outputs": [
    {
     "name": "stdout",
     "output_type": "stream",
     "text": [
      "WWB05: Problem 7\n",
      "Attempt Results\n",
      "Entered\tAnswer Preview\tResult\n",
      "-1\t\n",
      "−1\n",
      "correct\n",
      "1\t\n",
      "1\n",
      "correct\n",
      "\n"
     ]
    }
   ],
   "source": [
    "print(\"\"\"WWB05: Problem 7\n",
    "Attempt Results\n",
    "Entered\tAnswer Preview\tResult\n",
    "-1\t\n",
    "−1\n",
    "correct\n",
    "1\t\n",
    "1\n",
    "correct\n",
    "\"\"\")"
   ]
  },
  {
   "cell_type": "code",
   "execution_count": 46,
   "id": "6ba2d032",
   "metadata": {},
   "outputs": [
    {
     "data": {
      "image/png": "[encoded data removed]",
      "text/plain": [
       "<Figure size 432x288 with 1 Axes>"
      ]
     },
     "metadata": {
      "needs_background": "light"
     },
     "output_type": "display_data"
    },
    {
     "data": {
      "text/plain": [
       "<sympy.plotting.plot.Plot at 0x191bdd329d0>"
      ]
     },
     "execution_count": 46,
     "metadata": {},
     "output_type": "execute_result"
    }
   ],
   "source": [
    "from sympy.plotting import plot\n",
    "sy.plot(diff_quot)"
   ]
  },
  {
   "cell_type": "code",
   "execution_count": null,
   "id": "ba81e4bf",
   "metadata": {},
   "outputs": [],
   "source": []
  }
 ],
 "metadata": {
  "kernelspec": {
   "display_name": "Python 3 (ipykernel)",
   "language": "python",
   "name": "python3"
  },
  "language_info": {
   "codemirror_mode": {
    "name": "ipython",
    "version": 3
   },
   "file_extension": ".py",
   "mimetype": "text/x-python",
   "name": "python",
   "nbconvert_exporter": "python",
   "pygments_lexer": "ipython3",
   "version": "3.9.6"
  }
 },
 "nbformat": 4,
 "nbformat_minor": 5
}
