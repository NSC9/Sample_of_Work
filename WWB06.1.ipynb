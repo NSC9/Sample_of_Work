{
 "cells": [
  {
   "cell_type": "code",
   "execution_count": 1,
   "id": "93dad994",
   "metadata": {},
   "outputs": [],
   "source": [
    "#first problem https://i.imgur.com/oPKGzfs.png\n",
    "#source https://mathculus.com/how-to-find-the-domain-of-a-function-algebraically/\n",
    "from sympy import *\n",
    "x,h = symbols('x h')"
   ]
  },
  {
   "cell_type": "code",
   "execution_count": 2,
   "id": "79eae083",
   "metadata": {},
   "outputs": [],
   "source": [
    "def f(x):\n",
    "    return 12*x+0"
   ]
  },
  {
   "cell_type": "code",
   "execution_count": 3,
   "id": "16d8d974",
   "metadata": {},
   "outputs": [
    {
     "data": {
      "text/latex": [
       "$\\displaystyle 12$"
      ],
      "text/plain": [
       "12"
      ]
     },
     "execution_count": 3,
     "metadata": {},
     "output_type": "execute_result"
    }
   ],
   "source": [
    "f(x).diff()"
   ]
  },
  {
   "cell_type": "code",
   "execution_count": 4,
   "id": "c2db371d",
   "metadata": {},
   "outputs": [
    {
     "data": {
      "text/latex": [
       "$\\displaystyle 0$"
      ],
      "text/plain": [
       "0"
      ]
     },
     "execution_count": 4,
     "metadata": {},
     "output_type": "execute_result"
    }
   ],
   "source": [
    "(3*(x+h)**2 -8 -1*(3*x**2 - 8)).limit(h,0)"
   ]
  },
  {
   "cell_type": "code",
   "execution_count": 5,
   "id": "74951926",
   "metadata": {},
   "outputs": [
    {
     "data": {
      "text/latex": [
       "$\\displaystyle 6 x$"
      ],
      "text/plain": [
       "6*x"
      ]
     },
     "execution_count": 5,
     "metadata": {},
     "output_type": "execute_result"
    }
   ],
   "source": [
    "limit(((3*(x+h)**2 -8 -1*(3*x**2 - 8))/h),h,0)"
   ]
  },
  {
   "cell_type": "code",
   "execution_count": 6,
   "id": "2fe8cf88",
   "metadata": {},
   "outputs": [
    {
     "data": {
      "text/latex": [
       "$\\displaystyle \\frac{4}{x^{2}}$"
      ],
      "text/plain": [
       "4/x**2"
      ]
     },
     "execution_count": 6,
     "metadata": {},
     "output_type": "execute_result"
    }
   ],
   "source": [
    "expr = 8/(2*(x**2))\n",
    "expr"
   ]
  },
  {
   "cell_type": "code",
   "execution_count": 7,
   "id": "960c9522",
   "metadata": {},
   "outputs": [
    {
     "data": {
      "text/latex": [
       "$\\displaystyle - \\frac{8}{x^{3}}$"
      ],
      "text/plain": [
       "-8/x**3"
      ]
     },
     "execution_count": 7,
     "metadata": {},
     "output_type": "execute_result"
    }
   ],
   "source": [
    "diff(expr,x)"
   ]
  },
  {
   "cell_type": "code",
   "execution_count": 8,
   "id": "4b73d86e",
   "metadata": {},
   "outputs": [
    {
     "name": "stdout",
     "output_type": "stream",
     "text": [
      "-8/x**3\n"
     ]
    }
   ],
   "source": [
    "print(diff(expr,x))"
   ]
  },
  {
   "cell_type": "code",
   "execution_count": 9,
   "id": "47add213",
   "metadata": {},
   "outputs": [
    {
     "data": {
      "text/latex": [
       "$\\displaystyle \\infty$"
      ],
      "text/plain": [
       "oo"
      ]
     },
     "execution_count": 9,
     "metadata": {},
     "output_type": "execute_result"
    }
   ],
   "source": [
    "limit(expr,x,0,'-')"
   ]
  },
  {
   "cell_type": "code",
   "execution_count": 10,
   "id": "af96d99d",
   "metadata": {},
   "outputs": [
    {
     "data": {
      "text/latex": [
       "$\\displaystyle \\left|{n - 1}\\right|$"
      ],
      "text/plain": [
       "Abs(n - 1)"
      ]
     },
     "execution_count": 10,
     "metadata": {},
     "output_type": "execute_result"
    }
   ],
   "source": [
    "n = Symbol('n')\n",
    "refine(Abs(n-1), Q.positive(n-1))\n",
    "n - 1\n",
    "refine(Abs(n-1))\n"
   ]
  },
  {
   "cell_type": "code",
   "execution_count": 11,
   "id": "e000b5b9",
   "metadata": {},
   "outputs": [
    {
     "name": "stdout",
     "output_type": "stream",
     "text": [
      "Find the domain of the expression:\n"
     ]
    },
    {
     "data": {
      "text/latex": [
       "$\\displaystyle \\frac{4}{x^{2}}$"
      ],
      "text/plain": [
       "4/x**2"
      ]
     },
     "execution_count": 11,
     "metadata": {},
     "output_type": "execute_result"
    }
   ],
   "source": [
    "print(\"Find the domain of the expression:\"); expr"
   ]
  },
  {
   "cell_type": "code",
   "execution_count": 12,
   "id": "f3a1dac8",
   "metadata": {},
   "outputs": [
    {
     "name": "stdout",
     "output_type": "stream",
     "text": [
      "The domain of the rational function f(x) is expressed as D(f).\n"
     ]
    }
   ],
   "source": [
    "print(\"The domain of the rational function f(x) is expressed as D(f).\")"
   ]
  },
  {
   "cell_type": "code",
   "execution_count": 13,
   "id": "35303019",
   "metadata": {},
   "outputs": [],
   "source": [
    "#def D(f):\n",
    "#    return f(x)\n",
    "#D(f)"
   ]
  },
  {
   "cell_type": "code",
   "execution_count": 14,
   "id": "582a3639",
   "metadata": {},
   "outputs": [
    {
     "data": {
      "image/png": "[encoded data removed]",
      "text/plain": [
       "<Figure size 432x288 with 1 Axes>"
      ]
     },
     "metadata": {
      "needs_background": "light"
     },
     "output_type": "display_data"
    },
    {
     "data": {
      "text/plain": [
       "<sympy.plotting.plot.Plot at 0x2b16a5feca0>"
      ]
     },
     "execution_count": 14,
     "metadata": {},
     "output_type": "execute_result"
    }
   ],
   "source": [
    "%matplotlib inline\n",
    "import matplotlib.pyplot as plt\n",
    "plt.rcParams[\"xtick.labelsize\"] = 20\n",
    "plt.rcParams[\"xtick.color\"] = \"blue\"\n",
    "plot(expr)"
   ]
  },
  {
   "cell_type": "code",
   "execution_count": 15,
   "id": "82ead988",
   "metadata": {},
   "outputs": [
    {
     "name": "stdout",
     "output_type": "stream",
     "text": [
      "Find the domain of the expression:\n"
     ]
    },
    {
     "data": {
      "text/latex": [
       "$\\displaystyle - \\frac{8}{x^{3}}$"
      ],
      "text/plain": [
       "-8/x**3"
      ]
     },
     "execution_count": 15,
     "metadata": {},
     "output_type": "execute_result"
    }
   ],
   "source": [
    "print(\"Find the domain of the expression:\"); diff(expr,x)"
   ]
  },
  {
   "cell_type": "code",
   "execution_count": 16,
   "id": "d4f6eecc",
   "metadata": {},
   "outputs": [
    {
     "data": {
      "image/png": "[encoded data removed]",
      "text/plain": [
       "<Figure size 432x288 with 1 Axes>"
      ]
     },
     "metadata": {
      "needs_background": "light"
     },
     "output_type": "display_data"
    },
    {
     "data": {
      "text/plain": [
       "<sympy.plotting.plot.Plot at 0x2b169182b20>"
      ]
     },
     "execution_count": 16,
     "metadata": {},
     "output_type": "execute_result"
    }
   ],
   "source": [
    "%matplotlib inline\n",
    "import matplotlib.pyplot as plt\n",
    "plt.rcParams[\"xtick.labelsize\"] = 20\n",
    "plt.rcParams[\"xtick.color\"] = \"blue\"\n",
    "plot(diff(expr,x))"
   ]
  },
  {
   "cell_type": "code",
   "execution_count": 20,
   "id": "83879411",
   "metadata": {},
   "outputs": [
    {
     "name": "stdout",
     "output_type": "stream",
     "text": [
      " f( -10000 )  =  1/25000000\n",
      " f( -1000 )  =  1/250000\n",
      " f( -100 )  =  1/2500\n",
      " f( -10 )  =  1/25\n",
      " f( -1 )  =  4\n",
      " f( 0 )  =  zoo\n",
      " f( 1 )  =  4\n",
      " f( 10 )  =  1/25\n",
      " f( 100 )  =  1/2500\n",
      " f( 1000 )  =  1/250000\n",
      " f( 10000 )  =  1/25000000\n"
     ]
    }
   ],
   "source": [
    "for i in range(-10000,10001):\n",
    "        #jupyter notebook python+sympy gets really slow between 10,00 and 100,000 interations\n",
    "    ci = expr.subs(x,i)\n",
    "    #%matplotlib inline\n",
    "    #import matplotlib.pyplot as plt\n",
    "    #plt.rcParams[\"xtick.labelsize\"] = 20\n",
    "    #plt.rcParams[\"xtick.color\"] = \"blue\"\n",
    "    #plot(ci)\n",
    "    \n",
    "    #i=i+1\n",
    "    #y.pprint(expr)\n",
    "    if i == -100000:\n",
    "        print(\" f(\",i,\")  = \",ci)\n",
    "    if i == -10000:\n",
    "        print(\" f(\",i,\")  = \",ci)\n",
    "    if i == -1000:\n",
    "        print(\" f(\",i,\")  = \",ci)\n",
    "    if i == -100:\n",
    "        print(\" f(\",i,\")  = \",ci)\n",
    "    if i == -10:\n",
    "        print(\" f(\",i,\")  = \",ci)\n",
    "    if i == -1:\n",
    "        print(\" f(\",i,\")  = \",ci)\n",
    "    if i == 0:\n",
    "        print(\" f(\",i,\")  = \",ci)\n",
    "    if i == 1:\n",
    "        print(\" f(\",i,\")  = \",ci)\n",
    "    if i == 10:\n",
    "        print(\" f(\",i,\")  = \",ci)\n",
    "    if i == 100:\n",
    "        print(\" f(\",i,\")  = \",ci)\n",
    "    if i == 1000:\n",
    "        print(\" f(\",i,\")  = \",ci)\n",
    "    if i == 10000:\n",
    "        print(\" f(\",i,\")  = \",ci)\n",
    "    if i == 100000:\n",
    "        print(\" f(\",i,\")  = \",ci)\n",
    "    #print(i+1)\n",
    "    #print(i)"
   ]
  },
  {
   "cell_type": "code",
   "execution_count": null,
   "id": "a10d4562",
   "metadata": {},
   "outputs": [],
   "source": []
  },
  {
   "cell_type": "code",
   "execution_count": null,
   "id": "c0593524",
   "metadata": {},
   "outputs": [],
   "source": []
  }
 ],
 "metadata": {
  "kernelspec": {
   "display_name": "Python 3 (ipykernel)",
   "language": "python",
   "name": "python3"
  },
  "language_info": {
   "codemirror_mode": {
    "name": "ipython",
    "version": 3
   },
   "file_extension": ".py",
   "mimetype": "text/x-python",
   "name": "python",
   "nbconvert_exporter": "python",
   "pygments_lexer": "ipython3",
   "version": "3.9.6"
  }
 },
 "nbformat": 4,
 "nbformat_minor": 5
}
