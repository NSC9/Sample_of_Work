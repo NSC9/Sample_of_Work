{
 "cells": [
  {
   "cell_type": "code",
   "execution_count": 2,
   "id": "3571a7c5",
   "metadata": {},
   "outputs": [
    {
     "data": {
      "text/html": [
       "<img src=\"https://i.imgur.com/f6YYF0w.png\"/>"
      ],
      "text/plain": [
       "<IPython.core.display.Image object>"
      ]
     },
     "execution_count": 2,
     "metadata": {},
     "output_type": "execute_result"
    }
   ],
   "source": [
    "from IPython.display import Image\n",
    "from IPython.core.display import HTML \n",
    "from sympy import *; x,h,y = symbols(\"x h y\")\n",
    "Image(url= \"https://i.imgur.com/f6YYF0w.png\")\n",
    "# source: https://www.math.purdue.edu/files/academic/courses/2015fall/MA15910/MA15910Lesson16Notes(revsp15).pdf\n"
   ]
  },
  {
   "cell_type": "code",
   "execution_count": 28,
   "id": "e35f1deb",
   "metadata": {},
   "outputs": [],
   "source": [
    "#from class notes\n",
    "#\n",
   ]
  },
  {
   "cell_type": "code",
   "execution_count": 8,
   "id": "4cc2b786",
   "metadata": {},
   "outputs": [
    {
     "data": {
      "text/plain": [
       "0.625"
      ]
     },
     "execution_count": 8,
     "metadata": {},
     "output_type": "execute_result"
    }
   ],
   "source": [
    "F0 = 4\n",
    "dF0 = -10\n",
    "def dH(): \n",
    "    return  (    F0*0 - 1*dF0  )   /   F0**2                       #remember the derivative of a constant is 0\n",
    "dH()"
   ]
  },
  {
   "cell_type": "code",
   "execution_count": 62,
   "id": "1feb78ae",
   "metadata": {},
   "outputs": [
    {
     "data": {
      "text/html": [
       "<img src=\"https://i.imgur.com/YnjJXoS.png\"/>"
      ],
      "text/plain": [
       "<IPython.core.display.Image object>"
      ]
     },
     "execution_count": 62,
     "metadata": {},
     "output_type": "execute_result"
    }
   ],
   "source": [
    "Image(url= \"https://i.imgur.com/YnjJXoS.png\")"
   ]
  },
  {
   "cell_type": "code",
   "execution_count": 9,
   "id": "a30d2993",
   "metadata": {},
   "outputs": [
    {
     "data": {
      "text/html": [
       "<img src=\"https://i.imgur.com/88uLtrE.png\"/>"
      ],
      "text/plain": [
       "<IPython.core.display.Image object>"
      ]
     },
     "execution_count": 9,
     "metadata": {},
     "output_type": "execute_result"
    }
   ],
   "source": [
    "Image(url= \"https://i.imgur.com/88uLtrE.png\")"
   ]
  },
  {
   "cell_type": "code",
   "execution_count": null,
   "id": "95a6efa1",
   "metadata": {},
   "outputs": [],
   "source": []
  }
 ],
 "metadata": {
  "kernelspec": {
   "display_name": "Python 3 (ipykernel)",
   "language": "python",
   "name": "python3"
  },
  "language_info": {
   "codemirror_mode": {
    "name": "ipython",
    "version": 3
   },
   "file_extension": ".py",
   "mimetype": "text/x-python",
   "name": "python",
   "nbconvert_exporter": "python",
   "pygments_lexer": "ipython3",
   "version": "3.9.6"
  }
 },
 "nbformat": 4,
 "nbformat_minor": 5
}
