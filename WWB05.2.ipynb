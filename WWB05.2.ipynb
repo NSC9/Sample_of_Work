{
 "cells": [
  {
   "cell_type": "code",
   "execution_count": 1,
   "id": "e88ad235",
   "metadata": {},
   "outputs": [],
   "source": [
    "# picture of problem https://i.imgur.com/LQvAVts.png"
   ]
  },
  {
   "cell_type": "code",
   "execution_count": 2,
   "id": "6015bd12",
   "metadata": {},
   "outputs": [],
   "source": [
    "from sympy import *\n",
    "x,h = symbols('x h')"
   ]
  },
  {
   "cell_type": "code",
   "execution_count": 3,
   "id": "e8943569",
   "metadata": {},
   "outputs": [],
   "source": [
    "# (0.14,2.6264000000000487)\n",
    "# (0.15, 2.789999999999925\n",
    "# (0.16, 2.9503999999999255)"
   ]
  },
  {
   "cell_type": "code",
   "execution_count": 7,
   "id": "71ae04c5",
   "metadata": {},
   "outputs": [
    {
     "data": {
      "text/plain": [
       "16.19999999999385"
      ]
     },
     "execution_count": 7,
     "metadata": {},
     "output_type": "execute_result"
    }
   ],
   "source": [
    "(2.9503999999999255 - 2.6264000000000487)/ (0.16 - 0.14)\n",
    "# (y0 - y1) / (x0 - x1)"
   ]
  },
  {
   "cell_type": "code",
   "execution_count": null,
   "id": "9b22bc08",
   "metadata": {},
   "outputs": [],
   "source": []
  }
 ],
 "metadata": {
  "kernelspec": {
   "display_name": "Python 3 (ipykernel)",
   "language": "python",
   "name": "python3"
  },
  "language_info": {
   "codemirror_mode": {
    "name": "ipython",
    "version": 3
   },
   "file_extension": ".py",
   "mimetype": "text/x-python",
   "name": "python",
   "nbconvert_exporter": "python",
   "pygments_lexer": "ipython3",
   "version": "3.9.6"
  }
 },
 "nbformat": 4,
 "nbformat_minor": 5
}
