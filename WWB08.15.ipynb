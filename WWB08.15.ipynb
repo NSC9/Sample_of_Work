{
 "cells": [
  {
   "cell_type": "code",
   "execution_count": 1,
   "metadata": {
    "scrolled": false
   },
   "outputs": [
    {
     "data": {
      "text/html": [
       "<img src=\"https://i.imgur.com/L7yUQSQ.png\"/>"
      ],
      "text/plain": [
       "<IPython.core.display.Image object>"
      ]
     },
     "execution_count": 1,
     "metadata": {},
     "output_type": "execute_result"
    }
   ],
   "source": [
    "from IPython.display import Image\n",
    "from IPython.core.display import HTML \n",
    "from sympy import *; x,h,y = symbols(\"x h y\")\n",
    "Image(url= \"https://i.imgur.com/L7yUQSQ.png\")"
   ]
  },
  {
   "cell_type": "code",
   "execution_count": 6,
   "metadata": {},
   "outputs": [
    {
     "data": {
      "text/latex": [
       "$\\displaystyle \\frac{\\sqrt{x} - 5}{\\sqrt{x} + 5}$"
      ],
      "text/plain": [
       "(sqrt(x) - 5)/(sqrt(x) + 5)"
      ]
     },
     "execution_count": 6,
     "metadata": {},
     "output_type": "execute_result"
    }
   ],
   "source": [
    "expr = (sqrt(x) -5)/(sqrt(x) +5)\n",
    "def F(x):\n",
    "    return expr\n",
    "F(x)\n",
    "#first step is to find dF(x)\n",
    "#then we do slope point form with dF(x) as m   so y = y0 + dF(x)(x-x0)"
   ]
  },
  {
   "cell_type": "code",
   "execution_count": 7,
   "metadata": {},
   "outputs": [
    {
     "data": {
      "text/latex": [
       "$\\displaystyle - \\frac{\\sqrt{x} - 5}{2 \\sqrt{x} \\left(\\sqrt{x} + 5\\right)^{2}} + \\frac{1}{2 \\sqrt{x} \\left(\\sqrt{x} + 5\\right)}$"
      ],
      "text/plain": [
       "-(sqrt(x) - 5)/(2*sqrt(x)*(sqrt(x) + 5)**2) + 1/(2*sqrt(x)*(sqrt(x) + 5))"
      ]
     },
     "execution_count": 7,
     "metadata": {},
     "output_type": "execute_result"
    }
   ],
   "source": [
    "dF = diff(F(x))\n",
    "dF"
   ]
  },
  {
   "cell_type": "code",
   "execution_count": 8,
   "metadata": {},
   "outputs": [
    {
     "name": "stdout",
     "output_type": "stream",
     "text": [
      "-(sqrt(x) - 5)/(2*sqrt(x)*(sqrt(x) + 5)**2) + 1/(2*sqrt(x)*(sqrt(x) + 5))\n"
     ]
    }
   ],
   "source": [
    "print(dF)"
   ]
  },
  {
   "cell_type": "code",
   "execution_count": 11,
   "metadata": {},
   "outputs": [
    {
     "name": "stdout",
     "output_type": "stream",
     "text": [
      "-sqrt(5)*(-5 + sqrt(5))/(10*(sqrt(5) + 5)**2) + sqrt(5)/(10*(sqrt(5) + 5))\n"
     ]
    }
   ],
   "source": [
    "print(dF.subs(x,5))"
   ]
  },
  {
   "cell_type": "code",
   "execution_count": 12,
   "metadata": {},
   "outputs": [
    {
     "data": {
      "text/html": [
       "<img src=\"https://i.imgur.com/oGIGPCd.png\"/>"
      ],
      "text/plain": [
       "<IPython.core.display.Image object>"
      ]
     },
     "execution_count": 12,
     "metadata": {},
     "output_type": "execute_result"
    }
   ],
   "source": [
    "#then we replace all x values with a\n",
    "Image(url= \"https://i.imgur.com/oGIGPCd.png\")"
   ]
  },
  {
   "cell_type": "code",
   "execution_count": null,
   "metadata": {},
   "outputs": [],
   "source": []
  }
 ],
 "metadata": {
  "kernelspec": {
   "display_name": "Python 3",
   "language": "python",
   "name": "python3"
  },
  "language_info": {
   "codemirror_mode": {
    "name": "ipython",
    "version": 3
   },
   "file_extension": ".py",
   "mimetype": "text/x-python",
   "name": "python",
   "nbconvert_exporter": "python",
   "pygments_lexer": "ipython3",
   "version": "3.8.10"
  }
 },
 "nbformat": 4,
 "nbformat_minor": 5
}
