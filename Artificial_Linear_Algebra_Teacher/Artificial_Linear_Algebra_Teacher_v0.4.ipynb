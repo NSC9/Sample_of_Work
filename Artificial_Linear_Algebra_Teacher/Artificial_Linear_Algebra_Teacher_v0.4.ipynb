{
 "cells": [
  {
   "cell_type": "raw",
   "id": "8c69730d",
   "metadata": {},
   "source": [
    "---\n",
    "title: Linear Algebra Problem Generator\n",
    "description: Generates n x m matrices to practice Linear Algebra techniques on.\n",
    "show-code : False\n",
    "---"
   ]
  },
  {
   "cell_type": "code",
   "execution_count": 1,
   "id": "c5197005",
   "metadata": {},
   "outputs": [],
   "source": [
    "# changelog: https://stackoverflow.com/questions/74397038/how-do-i-express-augmented-matrix-notation-in-sympy-for-rrefing-random-matrice"
   ]
  },
  {
   "cell_type": "markdown",
   "id": "6bdf2faf",
   "metadata": {},
   "source": [
    "# With pen and paper, reduce this matrix to reduced row echelon form using Gaussian elimination:"
   ]
  },
  {
   "cell_type": "code",
   "execution_count": 5,
   "id": "bf8457bf",
   "metadata": {
    "scrolled": true
   },
   "outputs": [
    {
     "data": {
      "text/latex": [
       "$\\displaystyle A = \\left[\\begin{matrix}8 & 14 & 15 & 12 & 0 & 14\\\\14 & 7 & 15 & 5 & 7 & 4\\\\15 & 15 & 6 & 11 & 15 & 8\\\\12 & 5 & 11 & 0 & 1 & 10\\\\0 & 7 & 15 & 1 & 13 & 16\\\\14 & 4 & 8 & 10 & 16 & 11\\end{matrix}\\right]$"
      ],
      "text/plain": [
       "Eq(A, Matrix([\n",
       "[ 8, 14, 15, 12,  0, 14],\n",
       "[14,  7, 15,  5,  7,  4],\n",
       "[15, 15,  6, 11, 15,  8],\n",
       "[12,  5, 11,  0,  1, 10],\n",
       "[ 0,  7, 15,  1, 13, 16],\n",
       "[14,  4,  8, 10, 16, 11]]))"
      ]
     },
     "metadata": {},
     "output_type": "display_data"
    },
    {
     "data": {
      "text/latex": [
       "$\\displaystyle B = \\left[\\begin{matrix}11\\\\16\\\\4\\\\9\\\\5\\\\7\\end{matrix}\\right]$"
      ],
      "text/plain": [
       "Eq(B, Matrix([\n",
       "[11],\n",
       "[16],\n",
       "[ 4],\n",
       "[ 9],\n",
       "[ 5],\n",
       "[ 7]]))"
      ]
     },
     "metadata": {},
     "output_type": "display_data"
    },
    {
     "data": {
      "text/latex": [
       "$\\displaystyle \\left[\\begin{matrix}1 & 0 & 0 & 0 & 0 & 0\\\\0 & 1 & 0 & 0 & 0 & 0\\\\0 & 0 & 1 & 0 & 0 & 0\\\\0 & 0 & 0 & 1 & 0 & 0\\\\0 & 0 & 0 & 0 & 1 & 0\\\\0 & 0 & 0 & 0 & 0 & 1\\end{matrix}\\right]$"
      ],
      "text/plain": [
       "Matrix([\n",
       "[1, 0, 0, 0, 0, 0],\n",
       "[0, 1, 0, 0, 0, 0],\n",
       "[0, 0, 1, 0, 0, 0],\n",
       "[0, 0, 0, 1, 0, 0],\n",
       "[0, 0, 0, 0, 1, 0],\n",
       "[0, 0, 0, 0, 0, 1]])"
      ]
     },
     "metadata": {},
     "output_type": "display_data"
    }
   ],
   "source": [
    "from sympy import randMatrix,Eq,MatrixSymbol\n",
    "import random\n",
    "k=0\n",
    "def random_value(k):\n",
    "    return random.choice([k for k in range(2,7) if k not in [0]])\n",
    "size = random_value(k)\n",
    "A0 = MatrixSymbol('A',size,size)\n",
    "B0 = MatrixSymbol('B',size,size)\n",
    "\n",
    "A = randMatrix(size,percent=100,min=0, max=16,symmetric=True)\n",
    "B = randMatrix(size,1,percent=100,min=0, max=16,symmetric=False)\n",
    "display(Eq(A0,A,evaluate=False))\n",
    "display(Eq(B0,B,evaluate=False))\n",
    "display(A.rref()[0])"
   ]
  },
  {
   "cell_type": "markdown",
   "id": "2393180e",
   "metadata": {},
   "source": [
    "___________________________________________________________________________________________________________________\n",
    "If LaTeX display breaks, refresh the page. Runtime is under a second if you run the Jupyter-Notebook locally.\n",
    "\n",
    "**Created by GitHub.com/NSC9  - NOT YET DEPLOYED - MIT License - v0.4**\n",
    "\n",
    "Latest version source code: https://github.com/NSC9/Sample_of_Work/tree/Main/Artificial_Linear_Algebra_Teacher\n",
    "\n",
    "Donate by sending Bitcoin (BTC) to address: **bc1qtawr2gw52ftufzu0r3r20pnj3vmynssxs0mjl4**\n"
   ]
  },
  {
   "cell_type": "markdown",
   "id": "30b55c90",
   "metadata": {},
   "source": [
    "___________________________________________________________________________\n",
    "\n",
    "# Solution:"
   ]
  },
  {
   "cell_type": "code",
   "execution_count": 6,
   "id": "fbec286d",
   "metadata": {},
   "outputs": [],
   "source": [
    "#Eq(M0,M.rref()[0],evaluate=False)"
   ]
  },
  {
   "cell_type": "markdown",
   "id": "3563e045",
   "metadata": {},
   "source": [
    "**(Hint: There are three types of elementary row operations.**)\n",
    "\n",
    "**Type 1: Swap the positions of two rows.**\n",
    "\n",
    "**Type 2: Multiply a row by a nonzero scalar.**\n",
    "\n",
    "**Type 3: Add to one row a scalar multiple of another.**"
   ]
  }
 ],
 "metadata": {
  "kernelspec": {
   "display_name": "Python 3 (ipykernel)",
   "language": "python",
   "name": "python3"
  },
  "language_info": {
   "codemirror_mode": {
    "name": "ipython",
    "version": 3
   },
   "file_extension": ".py",
   "mimetype": "text/x-python",
   "name": "python",
   "nbconvert_exporter": "python",
   "pygments_lexer": "ipython3",
   "version": "3.8.10"
  }
 },
 "nbformat": 4,
 "nbformat_minor": 5
}
