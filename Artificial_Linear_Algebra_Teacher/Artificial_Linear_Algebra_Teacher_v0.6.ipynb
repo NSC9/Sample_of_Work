{
 "cells": [
  {
   "cell_type": "raw",
   "id": "8c69730d",
   "metadata": {},
   "source": [
    "---\n",
    "title: Linear Algebra Problem Generator\n",
    "description: Generates n x m matrices to practice Linear Algebra techniques on.\n",
    "show-code : False\n",
    "---"
   ]
  },
  {
   "cell_type": "code",
   "execution_count": 1,
   "id": "c5197005",
   "metadata": {},
   "outputs": [],
   "source": [
    "# changelog:"
   ]
  },
  {
   "cell_type": "markdown",
   "id": "6bdf2faf",
   "metadata": {},
   "source": [
    "# With pen and paper, reduce this matrix to reduced row echelon form using Gaussian elimination:"
   ]
  },
  {
   "cell_type": "code",
   "execution_count": 203,
   "id": "be3f81aa",
   "metadata": {
    "scrolled": false
   },
   "outputs": [
    {
     "data": {
      "text/latex": [
       "$\\displaystyle (A|B)_{1} = \\left[\\begin{matrix}6 & 14 & 1 & 11 & 4\\\\1 & 0 & 6 & 6 & 13\\\\5 & 2 & 9 & 15 & 3\\end{matrix}\\right]$"
      ],
      "text/plain": [
       "Eq((A|B)_1, Matrix([\n",
       "[6, 14, 1, 11,  4],\n",
       "[1,  0, 6,  6, 13],\n",
       "[5,  2, 9, 15,  3]]))"
      ]
     },
     "metadata": {},
     "output_type": "display_data"
    },
    {
     "data": {
      "text/latex": [
       "$\\displaystyle (A|B)_{1} = \\left[\\begin{matrix}1 & 0 & 0 & \\frac{12}{7} & - \\frac{44}{7}\\\\0 & 1 & 0 & 0 & \\frac{11}{4}\\\\0 & 0 & 1 & \\frac{5}{7} & \\frac{45}{14}\\end{matrix}\\right]$"
      ],
      "text/plain": [
       "Eq((A|B)_1, Matrix([\n",
       "[1, 0, 0, 12/7, -44/7],\n",
       "[0, 1, 0,    0,  11/4],\n",
       "[0, 0, 1,  5/7, 45/14]]))"
      ]
     },
     "metadata": {},
     "output_type": "display_data"
    },
    {
     "data": {
      "text/latex": [
       "$\\displaystyle (A|B)_{2} = \\left[\\begin{matrix}10 & 3 & 10 & 12\\\\9 & 3 & 5 & 16\\\\3 & 5 & 15 & 9\\\\4 & 2 & 5 & 15\\end{matrix}\\right]$"
      ],
      "text/plain": [
       "Eq((A|B)_2, Matrix([\n",
       "[10, 3, 10, 12],\n",
       "[ 9, 3,  5, 16],\n",
       "[ 3, 5, 15,  9],\n",
       "[ 4, 2,  5, 15]]))"
      ]
     },
     "metadata": {},
     "output_type": "display_data"
    },
    {
     "data": {
      "text/latex": [
       "$\\displaystyle (A|B)_{2} = \\left[\\begin{matrix}1 & 0 & 0 & 0\\\\0 & 1 & 0 & 0\\\\0 & 0 & 1 & 0\\\\0 & 0 & 0 & 1\\end{matrix}\\right]$"
      ],
      "text/plain": [
       "Eq((A|B)_2, Matrix([\n",
       "[1, 0, 0, 0],\n",
       "[0, 1, 0, 0],\n",
       "[0, 0, 1, 0],\n",
       "[0, 0, 0, 1]]))"
      ]
     },
     "metadata": {},
     "output_type": "display_data"
    },
    {
     "data": {
      "text/latex": [
       "$\\displaystyle (A|B)_{3} = \\left[\\begin{matrix}8 & 11 & 4\\\\11 & 14 & 14\\\\1 & 13 & 1\\\\4 & 16 & 4\\\\5 & 1 & 0\\\\3 & 14 & 2\\end{matrix}\\right]$"
      ],
      "text/plain": [
       "Eq((A|B)_3, Matrix([\n",
       "[ 8, 11,  4],\n",
       "[11, 14, 14],\n",
       "[ 1, 13,  1],\n",
       "[ 4, 16,  4],\n",
       "[ 5,  1,  0],\n",
       "[ 3, 14,  2]]))"
      ]
     },
     "metadata": {},
     "output_type": "display_data"
    },
    {
     "data": {
      "text/latex": [
       "$\\displaystyle (A|B)_{3} = \\left[\\begin{matrix}1 & 0 & 0\\\\0 & 1 & 0\\\\0 & 0 & 1\\\\0 & 0 & 0\\\\0 & 0 & 0\\\\0 & 0 & 0\\end{matrix}\\right]$"
      ],
      "text/plain": [
       "Eq((A|B)_3, Matrix([\n",
       "[1, 0, 0],\n",
       "[0, 1, 0],\n",
       "[0, 0, 1],\n",
       "[0, 0, 0],\n",
       "[0, 0, 0],\n",
       "[0, 0, 0]]))"
      ]
     },
     "metadata": {},
     "output_type": "display_data"
    },
    {
     "data": {
      "text/latex": [
       "$\\displaystyle (A|B)_{4} = \\left[\\begin{matrix}14 & 12 & 10\\\\9 & 5 & 12\\\\7 & 14 & 15\\\\5 & 3 & 16\\\\4 & 5 & 11\\\\10 & 13 & 16\\\\4 & 5 & 6\\\\6 & 11 & 1\\\\8 & 7 & 8\\end{matrix}\\right]$"
      ],
      "text/plain": [
       "Eq((A|B)_4, Matrix([\n",
       "[14, 12, 10],\n",
       "[ 9,  5, 12],\n",
       "[ 7, 14, 15],\n",
       "[ 5,  3, 16],\n",
       "[ 4,  5, 11],\n",
       "[10, 13, 16],\n",
       "[ 4,  5,  6],\n",
       "[ 6, 11,  1],\n",
       "[ 8,  7,  8]]))"
      ]
     },
     "metadata": {},
     "output_type": "display_data"
    },
    {
     "data": {
      "text/latex": [
       "$\\displaystyle (A|B)_{4} = \\left[\\begin{matrix}1 & 0 & 0\\\\0 & 1 & 0\\\\0 & 0 & 1\\\\0 & 0 & 0\\\\0 & 0 & 0\\\\0 & 0 & 0\\\\0 & 0 & 0\\\\0 & 0 & 0\\\\0 & 0 & 0\\end{matrix}\\right]$"
      ],
      "text/plain": [
       "Eq((A|B)_4, Matrix([\n",
       "[1, 0, 0],\n",
       "[0, 1, 0],\n",
       "[0, 0, 1],\n",
       "[0, 0, 0],\n",
       "[0, 0, 0],\n",
       "[0, 0, 0],\n",
       "[0, 0, 0],\n",
       "[0, 0, 0],\n",
       "[0, 0, 0]]))"
      ]
     },
     "metadata": {},
     "output_type": "display_data"
    },
    {
     "data": {
      "text/latex": [
       "$\\displaystyle (A|B)_{5} = \\left[\\begin{matrix}2 & 8 & 10\\\\3 & 16 & 16\\\\10 & 2 & 11\\\\5 & 10 & 16\\\\13 & 13 & 4\\end{matrix}\\right]$"
      ],
      "text/plain": [
       "Eq((A|B)_5, Matrix([\n",
       "[ 2,  8, 10],\n",
       "[ 3, 16, 16],\n",
       "[10,  2, 11],\n",
       "[ 5, 10, 16],\n",
       "[13, 13,  4]]))"
      ]
     },
     "metadata": {},
     "output_type": "display_data"
    },
    {
     "data": {
      "text/latex": [
       "$\\displaystyle (A|B)_{5} = \\left[\\begin{matrix}1 & 0 & 0\\\\0 & 1 & 0\\\\0 & 0 & 1\\\\0 & 0 & 0\\\\0 & 0 & 0\\end{matrix}\\right]$"
      ],
      "text/plain": [
       "Eq((A|B)_5, Matrix([\n",
       "[1, 0, 0],\n",
       "[0, 1, 0],\n",
       "[0, 0, 1],\n",
       "[0, 0, 0],\n",
       "[0, 0, 0]]))"
      ]
     },
     "metadata": {},
     "output_type": "display_data"
    },
    {
     "data": {
      "text/latex": [
       "$\\displaystyle (A|B)_{6} = \\left[\\begin{matrix}3 & 8 & 6 & 14 & 10 & 8 & 9 & 0\\\\0 & 10 & 7 & 0 & 1 & 7 & 6 & 14\\\\10 & 12 & 1 & 9 & 14 & 12 & 9 & 15\\\\4 & 6 & 13 & 9 & 10 & 5 & 7 & 8\\\\6 & 9 & 10 & 15 & 10 & 12 & 4 & 1\\\\14 & 10 & 11 & 1 & 3 & 16 & 8 & 1\\\\1 & 12 & 9 & 13 & 8 & 16 & 14 & 9\\\\1 & 14 & 0 & 0 & 10 & 1 & 13 & 16\\\\11 & 3 & 2 & 3 & 10 & 10 & 1 & 6\\end{matrix}\\right]$"
      ],
      "text/plain": [
       "Eq((A|B)_6, Matrix([\n",
       "[ 3,  8,  6, 14, 10,  8,  9,  0],\n",
       "[ 0, 10,  7,  0,  1,  7,  6, 14],\n",
       "[10, 12,  1,  9, 14, 12,  9, 15],\n",
       "[ 4,  6, 13,  9, 10,  5,  7,  8],\n",
       "[ 6,  9, 10, 15, 10, 12,  4,  1],\n",
       "[14, 10, 11,  1,  3, 16,  8,  1],\n",
       "[ 1, 12,  9, 13,  8, 16, 14,  9],\n",
       "[ 1, 14,  0,  0, 10,  1, 13, 16],\n",
       "[11,  3,  2,  3, 10, 10,  1,  6]]))"
      ]
     },
     "metadata": {},
     "output_type": "display_data"
    },
    {
     "data": {
      "text/latex": [
       "$\\displaystyle (A|B)_{6} = \\left[\\begin{matrix}1 & 0 & 0 & 0 & 0 & 0 & 0 & 0\\\\0 & 1 & 0 & 0 & 0 & 0 & 0 & 0\\\\0 & 0 & 1 & 0 & 0 & 0 & 0 & 0\\\\0 & 0 & 0 & 1 & 0 & 0 & 0 & 0\\\\0 & 0 & 0 & 0 & 1 & 0 & 0 & 0\\\\0 & 0 & 0 & 0 & 0 & 1 & 0 & 0\\\\0 & 0 & 0 & 0 & 0 & 0 & 1 & 0\\\\0 & 0 & 0 & 0 & 0 & 0 & 0 & 1\\\\0 & 0 & 0 & 0 & 0 & 0 & 0 & 0\\end{matrix}\\right]$"
      ],
      "text/plain": [
       "Eq((A|B)_6, Matrix([\n",
       "[1, 0, 0, 0, 0, 0, 0, 0],\n",
       "[0, 1, 0, 0, 0, 0, 0, 0],\n",
       "[0, 0, 1, 0, 0, 0, 0, 0],\n",
       "[0, 0, 0, 1, 0, 0, 0, 0],\n",
       "[0, 0, 0, 0, 1, 0, 0, 0],\n",
       "[0, 0, 0, 0, 0, 1, 0, 0],\n",
       "[0, 0, 0, 0, 0, 0, 1, 0],\n",
       "[0, 0, 0, 0, 0, 0, 0, 1],\n",
       "[0, 0, 0, 0, 0, 0, 0, 0]]))"
      ]
     },
     "metadata": {},
     "output_type": "display_data"
    },
    {
     "data": {
      "text/latex": [
       "$\\displaystyle (A|B)_{7} = \\left[\\begin{matrix}8 & 11 & 11 & 2 & 9\\\\2 & 6 & 7 & 2 & 15\\\\0 & 9 & 9 & 9 & 0\\\\8 & 14 & 0 & 11 & 0\\\\10 & 7 & 16 & 10 & 16\\\\16 & 10 & 9 & 9 & 10\\\\6 & 12 & 7 & 12 & 8\\end{matrix}\\right]$"
      ],
      "text/plain": [
       "Eq((A|B)_7, Matrix([\n",
       "[ 8, 11, 11,  2,  9],\n",
       "[ 2,  6,  7,  2, 15],\n",
       "[ 0,  9,  9,  9,  0],\n",
       "[ 8, 14,  0, 11,  0],\n",
       "[10,  7, 16, 10, 16],\n",
       "[16, 10,  9,  9, 10],\n",
       "[ 6, 12,  7, 12,  8]]))"
      ]
     },
     "metadata": {},
     "output_type": "display_data"
    },
    {
     "data": {
      "text/latex": [
       "$\\displaystyle (A|B)_{7} = \\left[\\begin{matrix}1 & 0 & 0 & 0 & 0\\\\0 & 1 & 0 & 0 & 0\\\\0 & 0 & 1 & 0 & 0\\\\0 & 0 & 0 & 1 & 0\\\\0 & 0 & 0 & 0 & 1\\\\0 & 0 & 0 & 0 & 0\\\\0 & 0 & 0 & 0 & 0\\end{matrix}\\right]$"
      ],
      "text/plain": [
       "Eq((A|B)_7, Matrix([\n",
       "[1, 0, 0, 0, 0],\n",
       "[0, 1, 0, 0, 0],\n",
       "[0, 0, 1, 0, 0],\n",
       "[0, 0, 0, 1, 0],\n",
       "[0, 0, 0, 0, 1],\n",
       "[0, 0, 0, 0, 0],\n",
       "[0, 0, 0, 0, 0]]))"
      ]
     },
     "metadata": {},
     "output_type": "display_data"
    },
    {
     "data": {
      "text/latex": [
       "$\\displaystyle (A|B)_{8} = \\left[\\begin{matrix}11 & 10 & 14 & 2\\\\8 & 6 & 12 & 15\\\\0 & 13 & 1 & 2\\\\0 & 2 & 8 & 12\\\\11 & 5 & 14 & 4\\end{matrix}\\right]$"
      ],
      "text/plain": [
       "Eq((A|B)_8, Matrix([\n",
       "[11, 10, 14,  2],\n",
       "[ 8,  6, 12, 15],\n",
       "[ 0, 13,  1,  2],\n",
       "[ 0,  2,  8, 12],\n",
       "[11,  5, 14,  4]]))"
      ]
     },
     "metadata": {},
     "output_type": "display_data"
    },
    {
     "data": {
      "text/latex": [
       "$\\displaystyle (A|B)_{8} = \\left[\\begin{matrix}1 & 0 & 0 & 0\\\\0 & 1 & 0 & 0\\\\0 & 0 & 1 & 0\\\\0 & 0 & 0 & 1\\\\0 & 0 & 0 & 0\\end{matrix}\\right]$"
      ],
      "text/plain": [
       "Eq((A|B)_8, Matrix([\n",
       "[1, 0, 0, 0],\n",
       "[0, 1, 0, 0],\n",
       "[0, 0, 1, 0],\n",
       "[0, 0, 0, 1],\n",
       "[0, 0, 0, 0]]))"
      ]
     },
     "metadata": {},
     "output_type": "display_data"
    },
    {
     "data": {
      "text/latex": [
       "$\\displaystyle (A|B)_{9} = \\left[\\begin{matrix}6 & 8 & 5 & 13 & 7 & 8 & 14 & 12\\\\6 & 2 & 7 & 1 & 11 & 4 & 10 & 6\\\\3 & 16 & 9 & 9 & 2 & 13 & 16 & 5\\\\8 & 11 & 12 & 1 & 8 & 4 & 2 & 16\\end{matrix}\\right]$"
      ],
      "text/plain": [
       "Eq((A|B)_9, Matrix([\n",
       "[6,  8,  5, 13,  7,  8, 14, 12],\n",
       "[6,  2,  7,  1, 11,  4, 10,  6],\n",
       "[3, 16,  9,  9,  2, 13, 16,  5],\n",
       "[8, 11, 12,  1,  8,  4,  2, 16]]))"
      ]
     },
     "metadata": {},
     "output_type": "display_data"
    },
    {
     "data": {
      "text/latex": [
       "$\\displaystyle (A|B)_{9} = \\left[\\begin{matrix}1 & 0 & 0 & 0 & - \\frac{197}{553} & - \\frac{1303}{553} & - \\frac{2750}{553} & \\frac{2525}{553}\\\\0 & 1 & 0 & 0 & - \\frac{1625}{1106} & - \\frac{536}{553} & - \\frac{1781}{553} & \\frac{2245}{1106}\\\\0 & 0 & 1 & 0 & \\frac{2419}{1106} & \\frac{1486}{553} & \\frac{3421}{553} & - \\frac{3849}{1106}\\\\0 & 0 & 0 & 1 & \\frac{121}{158} & \\frac{100}{79} & \\frac{235}{79} & - \\frac{173}{158}\\end{matrix}\\right]$"
      ],
      "text/plain": [
       "Eq((A|B)_9, Matrix([\n",
       "[1, 0, 0, 0,   -197/553, -1303/553, -2750/553,   2525/553],\n",
       "[0, 1, 0, 0, -1625/1106,  -536/553, -1781/553,  2245/1106],\n",
       "[0, 0, 1, 0,  2419/1106,  1486/553,  3421/553, -3849/1106],\n",
       "[0, 0, 0, 1,    121/158,    100/79,    235/79,   -173/158]]))"
      ]
     },
     "metadata": {},
     "output_type": "display_data"
    }
   ],
   "source": [
    "from sympy import randMatrix,Eq,MatrixSymbol\n",
    "import random\n",
    "for i in range(1,10):\n",
    "    k=0\n",
    "    def random_value(k):\n",
    "        return random.choice([k for k in range(2,10) if k not in [0]])\n",
    "    size1 = random_value(k)\n",
    "    size2 = random_value(k)\n",
    "    A0 = MatrixSymbol('(A|B)_%i'%(i),size1,size2)\n",
    "    A = randMatrix(size1,size2,percent=100,min=0, max=16,symmetric=False)\n",
    "    display(Eq(A0,A,evaluate=False))\n",
    "    display(Eq(A0,A.rref()[0]))"
   ]
  },
  {
   "cell_type": "markdown",
   "id": "2393180e",
   "metadata": {},
   "source": [
    "___________________________________________________________________________________________________________________\n",
    "If LaTeX display breaks, refresh the page. Runtime is under a second if you run the Jupyter-Notebook locally.\n",
    "\n",
    "**Created by GitHub.com/NSC9  - NOT YET DEPLOYED - MIT License - v0.6**\n",
    "\n",
    "Latest version source code: https://github.com/NSC9/Sample_of_Work/tree/Main/Artificial_Linear_Algebra_Teacher\n",
    "\n",
    "Donate by sending Bitcoin (BTC) to address: **bc1qtawr2gw52ftufzu0r3r20pnj3vmynssxs0mjl4**\n"
   ]
  },
  {
   "cell_type": "markdown",
   "id": "cfa83f60",
   "metadata": {},
   "source": [
    "**(Hint: There are three types of elementary row operations.**)\n",
    "\n",
    "**Type 1: Swap the positions of two rows.**\n",
    "\n",
    "**Type 2: Multiply a row by a nonzero scalar.**\n",
    "\n",
    "**Type 3: Add to one row a scalar multiple of another.**"
   ]
  }
 ],
 "metadata": {
  "kernelspec": {
   "display_name": "Python 3 (ipykernel)",
   "language": "python",
   "name": "python3"
  },
  "language_info": {
   "codemirror_mode": {
    "name": "ipython",
    "version": 3
   },
   "file_extension": ".py",
   "mimetype": "text/x-python",
   "name": "python",
   "nbconvert_exporter": "python",
   "pygments_lexer": "ipython3",
   "version": "3.8.10"
  }
 },
 "nbformat": 4,
 "nbformat_minor": 5
}
