{
 "cells": [
  {
   "cell_type": "raw",
   "id": "8c69730d",
   "metadata": {},
   "source": [
    "---\n",
    "title: Linear Algebra Problem Generator\n",
    "description: Generates n x m matrices to practice Linear Algebra techniques on.\n",
    "show-code : False\n",
    "---"
   ]
  },
  {
   "cell_type": "code",
   "execution_count": 21,
   "id": "c5197005",
   "metadata": {},
   "outputs": [],
   "source": [
    "# changelog: https://stackoverflow.com/questions/74396342/how-do-i-replace-each-entry-in-my-matrix-with-a-random-integer"
   ]
  },
  {
   "cell_type": "markdown",
   "id": "6bdf2faf",
   "metadata": {},
   "source": [
    "# With pen and paper, reduce this matrix to reduced row echelon form using Gaussian elimination:"
   ]
  },
  {
   "cell_type": "code",
   "execution_count": 20,
   "id": "21e43371",
   "metadata": {},
   "outputs": [
    {
     "data": {
      "text/latex": [
       "$\\displaystyle C = \\left[\\begin{matrix}C_{0, 0} & C_{0, 1} & C_{0, 2}\\\\C_{1, 0} & C_{1, 1} & C_{1, 2}\\\\C_{2, 0} & C_{2, 1} & C_{2, 2}\\end{matrix}\\right]$"
      ],
      "text/plain": [
       "Eq(C, Matrix([\n",
       "[C[0, 0], C[0, 1], C[0, 2]],\n",
       "[C[1, 0], C[1, 1], C[1, 2]],\n",
       "[C[2, 0], C[2, 1], C[2, 2]]]))"
      ]
     },
     "metadata": {},
     "output_type": "display_data"
    },
    {
     "data": {
      "text/latex": [
       "$\\displaystyle C_{0, 0}$"
      ],
      "text/plain": [
       "C[0, 0]"
      ]
     },
     "metadata": {},
     "output_type": "display_data"
    },
    {
     "data": {
      "text/latex": [
       "$\\displaystyle C_{0, 1}$"
      ],
      "text/plain": [
       "C[0, 1]"
      ]
     },
     "metadata": {},
     "output_type": "display_data"
    },
    {
     "data": {
      "text/latex": [
       "$\\displaystyle C_{0, 2}$"
      ],
      "text/plain": [
       "C[0, 2]"
      ]
     },
     "metadata": {},
     "output_type": "display_data"
    },
    {
     "data": {
      "text/latex": [
       "$\\displaystyle C_{1, 0}$"
      ],
      "text/plain": [
       "C[1, 0]"
      ]
     },
     "metadata": {},
     "output_type": "display_data"
    },
    {
     "data": {
      "text/latex": [
       "$\\displaystyle C_{1, 1}$"
      ],
      "text/plain": [
       "C[1, 1]"
      ]
     },
     "metadata": {},
     "output_type": "display_data"
    },
    {
     "data": {
      "text/latex": [
       "$\\displaystyle C_{1, 2}$"
      ],
      "text/plain": [
       "C[1, 2]"
      ]
     },
     "metadata": {},
     "output_type": "display_data"
    },
    {
     "data": {
      "text/latex": [
       "$\\displaystyle C_{2, 0}$"
      ],
      "text/plain": [
       "C[2, 0]"
      ]
     },
     "metadata": {},
     "output_type": "display_data"
    },
    {
     "data": {
      "text/latex": [
       "$\\displaystyle C_{2, 1}$"
      ],
      "text/plain": [
       "C[2, 1]"
      ]
     },
     "metadata": {},
     "output_type": "display_data"
    },
    {
     "data": {
      "text/latex": [
       "$\\displaystyle C_{2, 2}$"
      ],
      "text/plain": [
       "C[2, 2]"
      ]
     },
     "metadata": {},
     "output_type": "display_data"
    },
    {
     "data": {
      "text/latex": [
       "$\\displaystyle C = \\left[\\begin{matrix}C_{0, 0} & C_{0, 1} & C_{0, 2}\\\\C_{1, 0} & C_{1, 1} & C_{1, 2}\\\\C_{2, 0} & C_{2, 1} & C_{2, 2}\\end{matrix}\\right]$"
      ],
      "text/plain": [
       "Eq(C, Matrix([\n",
       "[C[0, 0], C[0, 1], C[0, 2]],\n",
       "[C[1, 0], C[1, 1], C[1, 2]],\n",
       "[C[2, 0], C[2, 1], C[2, 2]]]))"
      ]
     },
     "metadata": {},
     "output_type": "display_data"
    }
   ],
   "source": [
    "from sympy import MatrixSymbol,Eq\n",
    "import random\n",
    "k=0\n",
    "def random_value(k):\n",
    "    return random.choice([k for k in range(-4,4) if k not in [0]])\n",
    "\n",
    "rowlength = abs(random_value(k))\n",
    "columnlength = abs(random_value(k))\n",
    "C = MatrixSymbol('C',rowlength ,columnlength)\n",
    "display(Eq(C,C.as_explicit()))\n",
    "for i in range(0,rowlength):\n",
    "    for j in range(0,columnlength):\n",
    "        p = C.as_explicit().row(i).col(j)\n",
    "        display(p[0])\n",
    "display(Eq(C,C.as_explicit()))"
   ]
  },
  {
   "cell_type": "markdown",
   "id": "2393180e",
   "metadata": {},
   "source": [
    "___________________________________________________________________________________________________________________\n",
    "If LaTeX display breaks, refresh the page. Runtime is under a second if you run the Jupyter-Notebook locally.\n",
    "\n",
    "**Created by GitHub.com/NSC9  - NOT YET DEPLOYED - MIT License - v0.1**\n",
    "\n",
    "Latest version source code: https://github.com/NSC9/Sample_of_Work/tree/Main/Artificial_Linear_Algebra_Teacher\n",
    "\n",
    "Donate by sending Bitcoin (BTC) to address: **bc1qtawr2gw52ftufzu0r3r20pnj3vmynssxs0mjl4**"
   ]
  },
  {
   "cell_type": "markdown",
   "id": "30b55c90",
   "metadata": {},
   "source": [
    "___________________________________________________________________________\n",
    "\n",
    "# Solution:"
   ]
  },
  {
   "cell_type": "code",
   "execution_count": 19,
   "id": "fbec286d",
   "metadata": {},
   "outputs": [],
   "source": [
    "#display(C.rref()[0])"
   ]
  }
 ],
 "metadata": {
  "kernelspec": {
   "display_name": "Python 3 (ipykernel)",
   "language": "python",
   "name": "python3"
  },
  "language_info": {
   "codemirror_mode": {
    "name": "ipython",
    "version": 3
   },
   "file_extension": ".py",
   "mimetype": "text/x-python",
   "name": "python",
   "nbconvert_exporter": "python",
   "pygments_lexer": "ipython3",
   "version": "3.8.10"
  }
 },
 "nbformat": 4,
 "nbformat_minor": 5
}
