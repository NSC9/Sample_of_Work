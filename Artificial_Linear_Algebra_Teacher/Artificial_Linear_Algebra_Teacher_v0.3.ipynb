{
 "cells": [
  {
   "cell_type": "raw",
   "id": "8c69730d",
   "metadata": {},
   "source": [
    "---\n",
    "title: Linear Algebra Problem Generator\n",
    "description: Generates n x m matrices to practice Linear Algebra techniques on.\n",
    "show-code : False\n",
    "---"
   ]
  },
  {
   "cell_type": "code",
   "execution_count": 1,
   "id": "c5197005",
   "metadata": {},
   "outputs": [],
   "source": [
    "# changelog: "
   ]
  },
  {
   "cell_type": "markdown",
   "id": "6bdf2faf",
   "metadata": {},
   "source": [
    "# With pen and paper, reduce this matrix to reduced row echelon form using Gaussian elimination:"
   ]
  },
  {
   "cell_type": "code",
   "execution_count": 242,
   "id": "609d78d5",
   "metadata": {},
   "outputs": [
    {
     "data": {
      "text/latex": [
       "$\\displaystyle M = \\left[\\begin{matrix}16 & 8 & 16 & 8\\\\8 & 7 & 2 & 14\\\\16 & 2 & 3 & 15\\\\8 & 14 & 15 & 10\\end{matrix}\\right]$"
      ],
      "text/plain": [
       "Eq(M, Matrix([\n",
       "[16,  8, 16,  8],\n",
       "[ 8,  7,  2, 14],\n",
       "[16,  2,  3, 15],\n",
       "[ 8, 14, 15, 10]]))"
      ]
     },
     "execution_count": 242,
     "metadata": {},
     "output_type": "execute_result"
    }
   ],
   "source": [
    "from sympy import randMatrix,Eq,MatrixSymbol\n",
    "import random\n",
    "size = random_value(k)\n",
    "M0 = MatrixSymbol('M',size,size)\n",
    "k=0\n",
    "def random_value(k):\n",
    "    return random.choice([k for k in range(2,7) if k not in [0]])\n",
    "M = randMatrix(random_value(k),percent=100,min=1, max=16,symmetric=True)\n",
    "Eq(M0,M,evaluate=False)"
   ]
  },
  {
   "cell_type": "markdown",
   "id": "2393180e",
   "metadata": {},
   "source": [
    "___________________________________________________________________________________________________________________\n",
    "If LaTeX display breaks, refresh the page. Runtime is under a second if you run the Jupyter-Notebook locally.\n",
    "\n",
    "**Created by GitHub.com/NSC9  - NOT YET DEPLOYED - MIT License - v0.3**\n",
    "\n",
    "Latest version source code: https://github.com/NSC9/Sample_of_Work/tree/Main/Artificial_Linear_Algebra_Teacher\n",
    "\n",
    "Donate by sending Bitcoin (BTC) to address: **bc1qtawr2gw52ftufzu0r3r20pnj3vmynssxs0mjl4**\n"
   ]
  },
  {
   "cell_type": "markdown",
   "id": "30b55c90",
   "metadata": {},
   "source": [
    "___________________________________________________________________________\n",
    "\n",
    "# Solution:"
   ]
  },
  {
   "cell_type": "code",
   "execution_count": 243,
   "id": "fbec286d",
   "metadata": {},
   "outputs": [
    {
     "data": {
      "text/latex": [
       "$\\displaystyle M = \\left[\\begin{matrix}1 & 0 & 0 & 0\\\\0 & 1 & 0 & 0\\\\0 & 0 & 1 & 0\\\\0 & 0 & 0 & 1\\end{matrix}\\right]$"
      ],
      "text/plain": [
       "Eq(M, Matrix([\n",
       "[1, 0, 0, 0],\n",
       "[0, 1, 0, 0],\n",
       "[0, 0, 1, 0],\n",
       "[0, 0, 0, 1]]))"
      ]
     },
     "execution_count": 243,
     "metadata": {},
     "output_type": "execute_result"
    }
   ],
   "source": [
    "Eq(M0,M.rref()[0],evaluate=False)"
   ]
  },
  {
   "cell_type": "markdown",
   "id": "52606472",
   "metadata": {},
   "source": [
    "**(Hint: There are three types of elementary row operations.**)\n",
    "\n",
    "**Type 1: Swap the positions of two rows.**\n",
    "\n",
    "**Type 2: Multiply a row by a nonzero scalar.**\n",
    "\n",
    "**Type 3: Add to one row a scalar multiple of another.**"
   ]
  }
 ],
 "metadata": {
  "kernelspec": {
   "display_name": "Python 3 (ipykernel)",
   "language": "python",
   "name": "python3"
  },
  "language_info": {
   "codemirror_mode": {
    "name": "ipython",
    "version": 3
   },
   "file_extension": ".py",
   "mimetype": "text/x-python",
   "name": "python",
   "nbconvert_exporter": "python",
   "pygments_lexer": "ipython3",
   "version": "3.8.10"
  }
 },
 "nbformat": 4,
 "nbformat_minor": 5
}
