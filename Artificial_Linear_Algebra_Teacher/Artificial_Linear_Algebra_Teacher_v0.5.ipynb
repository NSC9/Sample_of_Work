{
 "cells": [
  {
   "cell_type": "raw",
   "id": "8c69730d",
   "metadata": {},
   "source": [
    "---\n",
    "title: Linear Algebra Problem Generator\n",
    "description: Generates n x m matrices to practice Linear Algebra techniques on.\n",
    "show-code : False\n",
    "---"
   ]
  },
  {
   "cell_type": "code",
   "execution_count": 1,
   "id": "c5197005",
   "metadata": {},
   "outputs": [],
   "source": [
    "# changelog:"
   ]
  },
  {
   "cell_type": "markdown",
   "id": "6bdf2faf",
   "metadata": {},
   "source": [
    "# With pen and paper, reduce this matrix to reduced row echelon form using Gaussian elimination:"
   ]
  },
  {
   "cell_type": "code",
   "execution_count": 166,
   "id": "261001e0",
   "metadata": {
    "scrolled": true
   },
   "outputs": [
    {
     "data": {
      "text/latex": [
       "$\\displaystyle A = \\left[\\begin{matrix}16 & 1 & 12 & 5\\\\16 & 3 & 11 & 1\\\\9 & 14 & 14 & 11\\end{matrix}\\right]$"
      ],
      "text/plain": [
       "Eq(A, Matrix([\n",
       "[16,  1, 12,  5],\n",
       "[16,  3, 11,  1],\n",
       "[ 9, 14, 14, 11]]))"
      ]
     },
     "metadata": {},
     "output_type": "display_data"
    }
   ],
   "source": [
    "from sympy import randMatrix,Eq,MatrixSymbol\n",
    "import random\n",
    "k=0\n",
    "def random_value(k):\n",
    "    return random.choice([k for k in range(2,5) if k not in [0]])\n",
    "size1 = random_value(k)\n",
    "size2 = random_value(k)\n",
    "A0 = MatrixSymbol('A',size1,size2)\n",
    "A = randMatrix(size1,size2,percent=100,min=0, max=16,symmetric=False)\n",
    "display(Eq(A0,A,evaluate=False))"
   ]
  },
  {
   "cell_type": "markdown",
   "id": "2393180e",
   "metadata": {},
   "source": [
    "___________________________________________________________________________________________________________________\n",
    "If LaTeX display breaks, refresh the page. Runtime is under a second if you run the Jupyter-Notebook locally.\n",
    "\n",
    "**Created by GitHub.com/NSC9  - NOT YET DEPLOYED - MIT License - v0.5**\n",
    "\n",
    "Latest version source code: https://github.com/NSC9/Sample_of_Work/tree/Main/Artificial_Linear_Algebra_Teacher\n",
    "\n",
    "Donate by sending Bitcoin (BTC) to address: **bc1qtawr2gw52ftufzu0r3r20pnj3vmynssxs0mjl4**\n"
   ]
  },
  {
   "cell_type": "markdown",
   "id": "30b55c90",
   "metadata": {},
   "source": [
    "___________________________________________________________________________\n",
    "\n",
    "# Solution:"
   ]
  },
  {
   "cell_type": "code",
   "execution_count": 167,
   "id": "fbec286d",
   "metadata": {},
   "outputs": [
    {
     "data": {
      "text/latex": [
       "$\\displaystyle A = \\left[\\begin{matrix}1 & 0 & 0 & - \\frac{227}{149}\\\\0 & 1 & 0 & - \\frac{111}{149}\\\\0 & 0 & 1 & \\frac{374}{149}\\end{matrix}\\right]$"
      ],
      "text/plain": [
       "Eq(A, Matrix([\n",
       "[1, 0, 0, -227/149],\n",
       "[0, 1, 0, -111/149],\n",
       "[0, 0, 1,  374/149]]))"
      ]
     },
     "metadata": {},
     "output_type": "display_data"
    }
   ],
   "source": [
    "display(Eq(A0,A.rref()[0]))"
   ]
  },
  {
   "cell_type": "markdown",
   "id": "f0f73c7d",
   "metadata": {},
   "source": [
    "**(Hint: There are three types of elementary row operations.**)\n",
    "\n",
    "**Type 1: Swap the positions of two rows.**\n",
    "\n",
    "**Type 2: Multiply a row by a nonzero scalar.**\n",
    "\n",
    "**Type 3: Add to one row a scalar multiple of another.**"
   ]
  }
 ],
 "metadata": {
  "kernelspec": {
   "display_name": "Python 3 (ipykernel)",
   "language": "python",
   "name": "python3"
  },
  "language_info": {
   "codemirror_mode": {
    "name": "ipython",
    "version": 3
   },
   "file_extension": ".py",
   "mimetype": "text/x-python",
   "name": "python",
   "nbconvert_exporter": "python",
   "pygments_lexer": "ipython3",
   "version": "3.8.10"
  }
 },
 "nbformat": 4,
 "nbformat_minor": 5
}
