{
 "cells": [
  {
   "cell_type": "code",
   "execution_count": 1,
   "id": "542537e3",
   "metadata": {},
   "outputs": [],
   "source": [
    "#Let f(x)=1x. Compute the difference quotient for f(x) at x=3 with h=0.4\n",
    "#sources: \n",
    "#     https://www.deeplearningwizard.com/programming/sympy/calculus_sympy/\n",
    "#     https://docs.sympy.org/latest/modules/functions/index.html\n",
    "#     https://docs.sympy.org/latest/modules/utilities/lambdify.html\n",
    "import sympy as sy"
   ]
  },
  {
   "cell_type": "code",
   "execution_count": 33,
   "id": "49c650e3",
   "metadata": {},
   "outputs": [],
   "source": [
    "x,n= sy.symbols('x n')\n",
    "basic_rule_0 = x**n\n",
    "derivative_basic_rule_0 = basic_rule_0.diff(x)\n"
   ]
  },
  {
   "cell_type": "code",
   "execution_count": 34,
   "id": "7c74ce11",
   "metadata": {},
   "outputs": [
    {
     "name": "stdout",
     "output_type": "stream",
     "text": [
      "the first basic rule in calculus f(x) = (x**n) :\n"
     ]
    },
    {
     "data": {
      "text/latex": [
       "$\\displaystyle x^{n}$"
      ],
      "text/plain": [
       "x**n"
      ]
     },
     "execution_count": 34,
     "metadata": {},
     "output_type": "execute_result"
    }
   ],
   "source": [
    "print(\"the first basic rule in calculus f(x) = (x**n) :\"); basic_rule_0"
   ]
  },
  {
   "cell_type": "code",
   "execution_count": 35,
   "id": "084cdda1",
   "metadata": {},
   "outputs": [
    {
     "name": "stdout",
     "output_type": "stream",
     "text": [
      "the derivative of the first basic rule in calculus is :\n"
     ]
    },
    {
     "data": {
      "text/latex": [
       "$\\displaystyle \\frac{n x^{n}}{x}$"
      ],
      "text/plain": [
       "n*x**n/x"
      ]
     },
     "execution_count": 35,
     "metadata": {},
     "output_type": "execute_result"
    }
   ],
   "source": [
    "print(\"the derivative of the first basic rule in calculus is :\"); derivative_basic_rule_0"
   ]
  },
  {
   "cell_type": "code",
   "execution_count": 36,
   "id": "81ff6cc4",
   "metadata": {},
   "outputs": [
    {
     "name": "stdout",
     "output_type": "stream",
     "text": [
      "the first basic rule in calculus f(x) = (x**n) but with x substituted with integer 5 :\n"
     ]
    },
    {
     "data": {
      "text/latex": [
       "$\\displaystyle 5^{n}$"
      ],
      "text/plain": [
       "5**n"
      ]
     },
     "execution_count": 36,
     "metadata": {},
     "output_type": "execute_result"
    }
   ],
   "source": [
    "print(\"the first basic rule in calculus f(x) = (x**n) but with x substituted with integer 5 :\"); basic_rule_0.subs(x,5)"
   ]
  },
  {
   "cell_type": "code",
   "execution_count": 37,
   "id": "e08fec6f",
   "metadata": {},
   "outputs": [
    {
     "data": {
      "text/latex": [
       "$\\displaystyle 9765625$"
      ],
      "text/plain": [
       "9765625"
      ]
     },
     "execution_count": 37,
     "metadata": {},
     "output_type": "execute_result"
    }
   ],
   "source": [
    "basic_rule_0.subs(x,5).subs(n,10)"
   ]
  },
  {
   "cell_type": "code",
   "execution_count": 38,
   "id": "1ace3916",
   "metadata": {},
   "outputs": [
    {
     "data": {
      "text/latex": [
       "$\\displaystyle 19531250$"
      ],
      "text/plain": [
       "19531250"
      ]
     },
     "execution_count": 38,
     "metadata": {},
     "output_type": "execute_result"
    }
   ],
   "source": [
    "derivative_basic_rule_0.subs(x,5).subs(n,10)\n",
    "\n"
   ]
  },
  {
   "cell_type": "code",
   "execution_count": 39,
   "id": "fc0c5b1d",
   "metadata": {},
   "outputs": [
    {
     "data": {
      "image/png": "[encoded data removed]",
      "text/plain": [
       "<Figure size 432x288 with 1 Axes>"
      ]
     },
     "metadata": {
      "needs_background": "light"
     },
     "output_type": "display_data"
    },
    {
     "data": {
      "text/plain": [
       "<sympy.plotting.plot.Plot at 0x1d05dfff9a0>"
      ]
     },
     "execution_count": 39,
     "metadata": {},
     "output_type": "execute_result"
    }
   ],
   "source": [
    "from sympy.plotting import plot\n",
    "sy.plot(basic_rule_0.subs(x,5))"
   ]
  },
  {
   "cell_type": "code",
   "execution_count": 91,
   "id": "6c0a9bd4",
   "metadata": {},
   "outputs": [
    {
     "data": {
      "text/latex": [
       "$\\displaystyle \\frac{1}{x}$"
      ],
      "text/plain": [
       "1/x"
      ]
     },
     "execution_count": 91,
     "metadata": {},
     "output_type": "execute_result"
    }
   ],
   "source": [
    "expr = 1/x\n",
    "f = expr\n",
    "f"
   ]
  },
  {
   "cell_type": "code",
   "execution_count": 92,
   "id": "79708c6a",
   "metadata": {},
   "outputs": [
    {
     "name": "stdout",
     "output_type": "stream",
     "text": [
      "f(3) =\n"
     ]
    },
    {
     "data": {
      "text/latex": [
       "$\\displaystyle 0.333333333333333$"
      ],
      "text/plain": [
       "0.333333333333333"
      ]
     },
     "execution_count": 92,
     "metadata": {},
     "output_type": "execute_result"
    }
   ],
   "source": [
    "from sympy import *\n",
    " \n",
    "# create a \"symbol\" called x\n",
    "x = Symbol('x')\n",
    " \n",
    "#Define function\n",
    "f = 1/x\n",
    " \n",
    "f = lambdify(x, f)\n",
    "#passing x=2 to the function\n",
    "print('f(3) =');f(x.subs(x,3))\n"
   ]
  },
  {
   "cell_type": "code",
   "execution_count": 93,
   "id": "eff2ef32",
   "metadata": {},
   "outputs": [
    {
     "data": {
      "text/plain": [
       "2.5"
      ]
     },
     "execution_count": 93,
     "metadata": {},
     "output_type": "execute_result"
    }
   ],
   "source": [
    "f(0.4) "
   ]
  },
  {
   "cell_type": "code",
   "execution_count": 94,
   "id": "5dea2471",
   "metadata": {},
   "outputs": [
    {
     "name": "stdout",
     "output_type": "stream",
     "text": [
      "f(x) at x = 3 is 0.33\n",
      "f(h) at h = 0.4 is 2.5\n",
      "\n"
     ]
    }
   ],
   "source": [
    "print(\"\"\"f(x) at x = 3 is 0.33\n",
    "f(h) at h = 0.4 is 2.5\n",
    "\"\"\")"
   ]
  },
  {
   "cell_type": "code",
   "execution_count": 95,
   "id": "47d55d65",
   "metadata": {},
   "outputs": [
    {
     "data": {
      "text/plain": [
       "-0.09803921568627444"
      ]
     },
     "execution_count": 95,
     "metadata": {},
     "output_type": "execute_result"
    }
   ],
   "source": [
    "diff_quotient = (f(3+0.4) - f(3) )  /   0.4\n",
    "diff_quotient"
   ]
  },
  {
   "cell_type": "code",
   "execution_count": 96,
   "id": "735aabd8",
   "metadata": {},
   "outputs": [
    {
     "name": "stdout",
     "output_type": "stream",
     "text": [
      "WWB05: Problem 4\n",
      "Attempt Results\n",
      "Entered\tAnswer Preview\tResult\n",
      "-0.0980392\t\n",
      "−0.0980392\n",
      "correct\n"
     ]
    }
   ],
   "source": [
    "print(\"\"\"WWB05: Problem 4\n",
    "Attempt Results\n",
    "Entered\tAnswer Preview\tResult\n",
    "-0.0980392\t\n",
    "−0.0980392\n",
    "correct\"\"\")"
   ]
  },
  {
   "cell_type": "code",
   "execution_count": null,
   "id": "9b041e04",
   "metadata": {},
   "outputs": [],
   "source": []
  },
  {
   "cell_type": "code",
   "execution_count": null,
   "id": "a8b72936",
   "metadata": {},
   "outputs": [],
   "source": []
  }
 ],
 "metadata": {
  "kernelspec": {
   "display_name": "Python 3 (ipykernel)",
   "language": "python",
   "name": "python3"
  },
  "language_info": {
   "codemirror_mode": {
    "name": "ipython",
    "version": 3
   },
   "file_extension": ".py",
   "mimetype": "text/x-python",
   "name": "python",
   "nbconvert_exporter": "python",
   "pygments_lexer": "ipython3",
   "version": "3.9.6"
  }
 },
 "nbformat": 4,
 "nbformat_minor": 5
}
