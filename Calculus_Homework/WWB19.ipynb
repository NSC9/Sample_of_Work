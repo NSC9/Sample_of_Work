{
 "cells": [
  {
   "cell_type": "code",
   "execution_count": 2,
   "id": "5c5d1eb8",
   "metadata": {},
   "outputs": [
    {
     "data": {
      "text/html": [
       "<img src=\"https://i.imgur.com/wo5OwkX.png\"/>"
      ],
      "text/plain": [
       "<IPython.core.display.Image object>"
      ]
     },
     "execution_count": 2,
     "metadata": {},
     "output_type": "execute_result"
    }
   ],
   "source": [
    "from IPython.display import Image\n",
    "from IPython.core.display import HTML \n",
    "from sympy import *\n",
    "Image(url= \"https://i.imgur.com/wo5OwkX.png\")"
   ]
  },
  {
   "cell_type": "code",
   "execution_count": 3,
   "id": "00cf790d",
   "metadata": {},
   "outputs": [
    {
     "data": {
      "text/latex": [
       "$\\displaystyle \\int\\limits_{- \\pi}^{\\pi} f{\\left(x \\right)}\\, dx$"
      ],
      "text/plain": [
       "Integral(f(x), (x, -pi, pi))"
      ]
     },
     "execution_count": 3,
     "metadata": {},
     "output_type": "execute_result"
    }
   ],
   "source": [
    "f = Function(\"f\")\n",
    "x,y = symbols(\"x y\")\n",
    "e0 = Integral(f(x),(x,-pi,pi))\n",
    "e0"
   ]
  },
  {
   "cell_type": "code",
   "execution_count": 4,
   "id": "772850b0",
   "metadata": {},
   "outputs": [
    {
     "data": {
      "text/latex": [
       "$\\displaystyle f{\\left(x \\right)} = \\begin{cases} 2 x^{3} & \\text{for}\\: x \\geq - \\pi \\wedge x < 0 \\\\5 \\sin{\\left(x \\right)} & \\text{for}\\: x \\geq 0 \\wedge x \\leq \\pi \\end{cases}$"
      ],
      "text/plain": [
       "Eq(f(x), Piecewise((2*x**3, (x < 0) & (x >= -pi)), (5*sin(x), (x >= 0) & (x <= pi))))"
      ]
     },
     "execution_count": 4,
     "metadata": {},
     "output_type": "execute_result"
    }
   ],
   "source": [
    "a  = 2*x**3\n",
    "b = 5*sin(x)\n",
    "e3 = Piecewise((a, ((x < 0)) & ((x >= -pi))),(b,((x<=pi))& ((x >= 0))))\n",
    "e4 = Eq(f(x),e3)\n",
    "e4\n"
   ]
  },
  {
   "cell_type": "code",
   "execution_count": 5,
   "id": "273aed39",
   "metadata": {},
   "outputs": [
    {
     "data": {
      "text/latex": [
       "$\\displaystyle \\int\\limits_{- \\pi}^{\\pi} f{\\left(x \\right)}\\, dx = \\int\\limits_{- \\pi}^{\\pi} \\begin{cases} 2 x^{3} & \\text{for}\\: x \\geq - \\pi \\wedge x < 0 \\\\5 \\sin{\\left(x \\right)} & \\text{for}\\: x \\geq 0 \\wedge x \\leq \\pi \\end{cases}\\, dx$"
      ],
      "text/plain": [
       "Eq(Integral(f(x), (x, -pi, pi)), Integral(Piecewise((2*x**3, (x < 0) & (x >= -pi)), (5*sin(x), (x >= 0) & (x <= pi))), (x, -pi, pi)))"
      ]
     },
     "execution_count": 5,
     "metadata": {},
     "output_type": "execute_result"
    }
   ],
   "source": [
    "e5 = Integral(e4,(x,-pi,pi))\n",
    "e5"
   ]
  },
  {
   "cell_type": "code",
   "execution_count": 6,
   "id": "f8b1ab9c",
   "metadata": {},
   "outputs": [
    {
     "data": {
      "text/latex": [
       "$\\displaystyle \\int\\limits_{- \\pi}^{\\pi} f{\\left(x \\right)}\\, dx = 10 - \\frac{\\pi^{4}}{2}$"
      ],
      "text/plain": [
       "Eq(Integral(f(x), (x, -pi, pi)), 10 - pi**4/2)"
      ]
     },
     "execution_count": 6,
     "metadata": {},
     "output_type": "execute_result"
    }
   ],
   "source": [
    "e5.doit()"
   ]
  },
  {
   "cell_type": "code",
   "execution_count": 7,
   "id": "5c3e3d65",
   "metadata": {},
   "outputs": [
    {
     "name": "stdout",
     "output_type": "stream",
     "text": [
      "10 - pi**4/2\n"
     ]
    }
   ],
   "source": [
    "print(e5.doit().rhs)"
   ]
  },
  {
   "cell_type": "code",
   "execution_count": 8,
   "id": "41531800",
   "metadata": {},
   "outputs": [
    {
     "data": {
      "text/html": [
       "<img src=\"https://i.imgur.com/XAC2vgG.png\"/>"
      ],
      "text/plain": [
       "<IPython.core.display.Image object>"
      ]
     },
     "execution_count": 8,
     "metadata": {},
     "output_type": "execute_result"
    }
   ],
   "source": [
    "Image(url= \"https://i.imgur.com/XAC2vgG.png\")"
   ]
  },
  {
   "cell_type": "code",
   "execution_count": 9,
   "id": "94b27050",
   "metadata": {},
   "outputs": [
    {
     "data": {
      "text/html": [
       "<img src=\"https://i.imgur.com/z77oGr5.png\"/>"
      ],
      "text/plain": [
       "<IPython.core.display.Image object>"
      ]
     },
     "execution_count": 9,
     "metadata": {},
     "output_type": "execute_result"
    }
   ],
   "source": [
    "Image(url= \"https://i.imgur.com/z77oGr5.png\")"
   ]
  },
  {
   "cell_type": "code",
   "execution_count": 10,
   "id": "af18f842",
   "metadata": {},
   "outputs": [
    {
     "data": {
      "text/latex": [
       "$\\displaystyle \\int\\limits_{- \\frac{\\pi}{4}}^{0} \\frac{1}{\\cos^{2}{\\left(x \\right)}}\\, dx$"
      ],
      "text/plain": [
       "Integral(cos(x)**(-2), (x, -pi/4, 0))"
      ]
     },
     "execution_count": 10,
     "metadata": {},
     "output_type": "execute_result"
    }
   ],
   "source": [
    "e6 = 1/(cos(x)**2)\n",
    "e7 = Integral(e6,(x,-pi/4,0))\n",
    "e7"
   ]
  },
  {
   "cell_type": "code",
   "execution_count": 11,
   "id": "5d4dfe05",
   "metadata": {},
   "outputs": [
    {
     "data": {
      "text/latex": [
       "$\\displaystyle 1$"
      ],
      "text/plain": [
       "1"
      ]
     },
     "execution_count": 11,
     "metadata": {},
     "output_type": "execute_result"
    }
   ],
   "source": [
    "e7.doit()"
   ]
  },
  {
   "cell_type": "code",
   "execution_count": 12,
   "id": "fc10bd54",
   "metadata": {},
   "outputs": [
    {
     "data": {
      "text/html": [
       "<img src=\"https://i.imgur.com/F7HIMOE.png\"/>"
      ],
      "text/plain": [
       "<IPython.core.display.Image object>"
      ]
     },
     "execution_count": 12,
     "metadata": {},
     "output_type": "execute_result"
    }
   ],
   "source": [
    "Image(url= \"https://i.imgur.com/F7HIMOE.png\")"
   ]
  },
  {
   "cell_type": "code",
   "execution_count": 13,
   "id": "43f8c1bd",
   "metadata": {},
   "outputs": [
    {
     "data": {
      "text/html": [
       "<img src=\"https://i.imgur.com/30ggSC2.png\"/>"
      ],
      "text/plain": [
       "<IPython.core.display.Image object>"
      ]
     },
     "execution_count": 13,
     "metadata": {},
     "output_type": "execute_result"
    }
   ],
   "source": [
    "Image(url= \"https://i.imgur.com/30ggSC2.png\")"
   ]
  },
  {
   "cell_type": "code",
   "execution_count": 14,
   "id": "455a3128",
   "metadata": {},
   "outputs": [
    {
     "data": {
      "text/latex": [
       "$\\displaystyle \\int\\limits_{-2}^{1} x \\left(1 - x\\right) \\left(x + 2\\right)\\, dx$"
      ],
      "text/plain": [
       "Integral(x*(1 - x)*(x + 2), (x, -2, 1))"
      ]
     },
     "execution_count": 14,
     "metadata": {},
     "output_type": "execute_result"
    }
   ],
   "source": [
    "e8 = x*(x+2)*(1-x)\n",
    "e9 = Integral(e8,(x,-2,1))\n",
    "e9"
   ]
  },
  {
   "cell_type": "code",
   "execution_count": 15,
   "id": "68336216",
   "metadata": {},
   "outputs": [
    {
     "data": {
      "text/latex": [
       "$\\displaystyle - \\frac{9}{4}$"
      ],
      "text/plain": [
       "-9/4"
      ]
     },
     "execution_count": 15,
     "metadata": {},
     "output_type": "execute_result"
    }
   ],
   "source": [
    "e9.doit()"
   ]
  },
  {
   "cell_type": "code",
   "execution_count": 16,
   "id": "54447f15",
   "metadata": {},
   "outputs": [
    {
     "data": {
      "text/html": [
       "<img src=\"https://i.imgur.com/hyJJz6w.png\"/>"
      ],
      "text/plain": [
       "<IPython.core.display.Image object>"
      ]
     },
     "execution_count": 16,
     "metadata": {},
     "output_type": "execute_result"
    }
   ],
   "source": [
    "Image(url= \"https://i.imgur.com/hyJJz6w.png\")"
   ]
  },
  {
   "cell_type": "code",
   "execution_count": 17,
   "id": "fb90e9b5",
   "metadata": {},
   "outputs": [
    {
     "data": {
      "text/html": [
       "<img src=\"https://i.imgur.com/xUGdasC.png\"/>"
      ],
      "text/plain": [
       "<IPython.core.display.Image object>"
      ]
     },
     "execution_count": 17,
     "metadata": {},
     "output_type": "execute_result"
    }
   ],
   "source": [
    "Image(url= \"https://i.imgur.com/xUGdasC.png\")"
   ]
  },
  {
   "cell_type": "code",
   "execution_count": 18,
   "id": "cbf90ec5",
   "metadata": {},
   "outputs": [
    {
     "data": {
      "text/latex": [
       "$\\displaystyle \\int\\limits_{-2}^{1} \\left|{x^{3}}\\right|\\, dx$"
      ],
      "text/plain": [
       "Integral(Abs(x**3), (x, -2, 1))"
      ]
     },
     "execution_count": 18,
     "metadata": {},
     "output_type": "execute_result"
    }
   ],
   "source": [
    "e10 = abs(x**3)\n",
    "e11 = Integral(e10,(x,-2,1))\n",
    "e11"
   ]
  },
  {
   "cell_type": "code",
   "execution_count": 19,
   "id": "13448941",
   "metadata": {},
   "outputs": [
    {
     "data": {
      "text/latex": [
       "$\\displaystyle \\frac{17}{4}$"
      ],
      "text/plain": [
       "17/4"
      ]
     },
     "execution_count": 19,
     "metadata": {},
     "output_type": "execute_result"
    }
   ],
   "source": [
    "e11.doit()"
   ]
  },
  {
   "cell_type": "code",
   "execution_count": 20,
   "id": "365cb31f",
   "metadata": {},
   "outputs": [
    {
     "data": {
      "text/html": [
       "<img src=\"https://i.imgur.com/rYiDqF4.png\"/>"
      ],
      "text/plain": [
       "<IPython.core.display.Image object>"
      ]
     },
     "execution_count": 20,
     "metadata": {},
     "output_type": "execute_result"
    }
   ],
   "source": [
    "Image(url= \"https://i.imgur.com/rYiDqF4.png\")"
   ]
  },
  {
   "cell_type": "code",
   "execution_count": 21,
   "id": "403d9aeb",
   "metadata": {},
   "outputs": [
    {
     "data": {
      "text/html": [
       "<img src=\"https://i.imgur.com/vnZPXrc.png\"/>"
      ],
      "text/plain": [
       "<IPython.core.display.Image object>"
      ]
     },
     "execution_count": 21,
     "metadata": {},
     "output_type": "execute_result"
    }
   ],
   "source": [
    "Image(url= \"https://i.imgur.com/vnZPXrc.png\")"
   ]
  },
  {
   "cell_type": "code",
   "execution_count": 22,
   "id": "c7d4f6b1",
   "metadata": {},
   "outputs": [
    {
     "data": {
      "text/latex": [
       "$\\displaystyle \\int\\limits_{1}^{4} \\sqrt{t} \\left(t + 5\\right)\\, dt$"
      ],
      "text/plain": [
       "Integral(sqrt(t)*(t + 5), (t, 1, 4))"
      ]
     },
     "execution_count": 22,
     "metadata": {},
     "output_type": "execute_result"
    }
   ],
   "source": [
    "t = symbols('t')\n",
    "e12 = sqrt(t)*(5+t)\n",
    "e13 = Integral(e12,(t,1,4))\n",
    "e13"
   ]
  },
  {
   "cell_type": "code",
   "execution_count": 23,
   "id": "20075901",
   "metadata": {},
   "outputs": [
    {
     "data": {
      "text/latex": [
       "$\\displaystyle \\frac{536}{15}$"
      ],
      "text/plain": [
       "536/15"
      ]
     },
     "execution_count": 23,
     "metadata": {},
     "output_type": "execute_result"
    }
   ],
   "source": [
    "e13.doit()"
   ]
  },
  {
   "cell_type": "code",
   "execution_count": 24,
   "id": "e493c9e6",
   "metadata": {},
   "outputs": [
    {
     "data": {
      "text/html": [
       "<img src=\"https://i.imgur.com/RPOvgy8.png\"/>"
      ],
      "text/plain": [
       "<IPython.core.display.Image object>"
      ]
     },
     "execution_count": 24,
     "metadata": {},
     "output_type": "execute_result"
    }
   ],
   "source": [
    "Image(url= \"https://i.imgur.com/RPOvgy8.png\")"
   ]
  },
  {
   "cell_type": "code",
   "execution_count": 25,
   "id": "f95cf8ad",
   "metadata": {},
   "outputs": [
    {
     "data": {
      "text/html": [
       "<img src=\"https://i.imgur.com/vmAzFRJ.png\"/>"
      ],
      "text/plain": [
       "<IPython.core.display.Image object>"
      ]
     },
     "execution_count": 25,
     "metadata": {},
     "output_type": "execute_result"
    }
   ],
   "source": [
    "Image(url= \"https://i.imgur.com/vmAzFRJ.png\")"
   ]
  },
  {
   "cell_type": "code",
   "execution_count": 26,
   "id": "d787bd12",
   "metadata": {},
   "outputs": [
    {
     "data": {
      "text/latex": [
       "$\\displaystyle \\int\\limits_{1}^{4} \\sqrt{2} \\sqrt{\\frac{1}{x}}\\, dx$"
      ],
      "text/plain": [
       "Integral(sqrt(2)*sqrt(1/x), (x, 1, 4))"
      ]
     },
     "execution_count": 26,
     "metadata": {},
     "output_type": "execute_result"
    }
   ],
   "source": [
    "e14= sqrt(2/x)\n",
    "e15 = Integral(e14,(x,1,4))\n",
    "e15"
   ]
  },
  {
   "cell_type": "code",
   "execution_count": 27,
   "id": "8ac0bc59",
   "metadata": {},
   "outputs": [
    {
     "data": {
      "text/latex": [
       "$\\displaystyle 2 \\sqrt{2}$"
      ],
      "text/plain": [
       "2*sqrt(2)"
      ]
     },
     "execution_count": 27,
     "metadata": {},
     "output_type": "execute_result"
    }
   ],
   "source": [
    "e15.doit()"
   ]
  },
  {
   "cell_type": "code",
   "execution_count": 28,
   "id": "3456c9ac",
   "metadata": {},
   "outputs": [
    {
     "data": {
      "text/html": [
       "<img src=\"https://i.imgur.com/hcQlywf.png\"/>"
      ],
      "text/plain": [
       "<IPython.core.display.Image object>"
      ]
     },
     "execution_count": 28,
     "metadata": {},
     "output_type": "execute_result"
    }
   ],
   "source": [
    "Image(url= \"https://i.imgur.com/hcQlywf.png\")"
   ]
  },
  {
   "cell_type": "code",
   "execution_count": 29,
   "id": "a8e01741",
   "metadata": {},
   "outputs": [
    {
     "data": {
      "text/html": [
       "<img src=\"https://i.imgur.com/iyZsZHs.png\"/>"
      ],
      "text/plain": [
       "<IPython.core.display.Image object>"
      ]
     },
     "execution_count": 29,
     "metadata": {},
     "output_type": "execute_result"
    }
   ],
   "source": [
    "Image(url= \"https://i.imgur.com/iyZsZHs.png\")"
   ]
  },
  {
   "cell_type": "code",
   "execution_count": 30,
   "id": "e59a80ad",
   "metadata": {},
   "outputs": [
    {
     "data": {
      "text/latex": [
       "$\\displaystyle \\int\\limits_{-1}^{5} \\left(t^{3} - 4 t^{2}\\right)\\, dt$"
      ],
      "text/plain": [
       "Integral(t**3 - 4*t**2, (t, -1, 5))"
      ]
     },
     "execution_count": 30,
     "metadata": {},
     "output_type": "execute_result"
    }
   ],
   "source": [
    "e15= t**3 - 4*t**2\n",
    "e16 = Integral(e15,(t,-1,5))\n",
    "e16"
   ]
  },
  {
   "cell_type": "code",
   "execution_count": 31,
   "id": "e708a787",
   "metadata": {},
   "outputs": [
    {
     "data": {
      "text/latex": [
       "$\\displaystyle -12$"
      ],
      "text/plain": [
       "-12"
      ]
     },
     "execution_count": 31,
     "metadata": {},
     "output_type": "execute_result"
    }
   ],
   "source": [
    "e16.doit()"
   ]
  },
  {
   "cell_type": "code",
   "execution_count": 35,
   "id": "63ffff39",
   "metadata": {},
   "outputs": [
    {
     "data": {
      "text/latex": [
       "$\\displaystyle \\int\\limits_{-1}^{5} \\left|{t^{3} - 4 t^{2}}\\right|\\, dt$"
      ],
      "text/plain": [
       "Integral(Abs(t**3 - 4*t**2), (t, -1, 5))"
      ]
     },
     "execution_count": 35,
     "metadata": {},
     "output_type": "execute_result"
    }
   ],
   "source": [
    "e17 = abs(e15)\n",
    "e18 = Integral(e17,(t,-1,5))\n",
    "e18"
   ]
  },
  {
   "cell_type": "code",
   "execution_count": 33,
   "id": "6a63b59c",
   "metadata": {},
   "outputs": [
    {
     "data": {
      "text/latex": [
       "$\\displaystyle \\frac{203}{6}$"
      ],
      "text/plain": [
       "203/6"
      ]
     },
     "execution_count": 33,
     "metadata": {},
     "output_type": "execute_result"
    }
   ],
   "source": [
    "e18.doit()"
   ]
  },
  {
   "cell_type": "code",
   "execution_count": 34,
   "id": "fcbe3d2f",
   "metadata": {},
   "outputs": [
    {
     "data": {
      "text/html": [
       "<img src=\"https://i.imgur.com/7uplphF.png\"/>"
      ],
      "text/plain": [
       "<IPython.core.display.Image object>"
      ]
     },
     "execution_count": 34,
     "metadata": {},
     "output_type": "execute_result"
    }
   ],
   "source": [
    "Image(url= \"https://i.imgur.com/7uplphF.png\")"
   ]
  },
  {
   "cell_type": "code",
   "execution_count": 36,
   "id": "0ff5484c",
   "metadata": {},
   "outputs": [
    {
     "data": {
      "text/html": [
       "<img src=\"https://i.imgur.com/d9Fbxag.png\"/>"
      ],
      "text/plain": [
       "<IPython.core.display.Image object>"
      ]
     },
     "execution_count": 36,
     "metadata": {},
     "output_type": "execute_result"
    }
   ],
   "source": [
    "Image(url= \"https://i.imgur.com/d9Fbxag.png\")"
   ]
  },
  {
   "cell_type": "code",
   "execution_count": 57,
   "id": "5842a419",
   "metadata": {},
   "outputs": [
    {
     "data": {
      "text/latex": [
       "$\\displaystyle \\int\\limits_{5}^{9} \\left(\\sqrt{t} + 3\\right)\\, dt$"
      ],
      "text/plain": [
       "Integral(sqrt(t) + 3, (t, 5, 9))"
      ]
     },
     "execution_count": 57,
     "metadata": {},
     "output_type": "execute_result"
    }
   ],
   "source": [
    "e20 = t**Rational(1,2)+3\n",
    "e21 = Integral(e20,(t,5,9))\n",
    "e21"
   ]
  },
  {
   "cell_type": "code",
   "execution_count": 64,
   "id": "4fb2b681",
   "metadata": {},
   "outputs": [
    {
     "data": {
      "text/latex": [
       "$\\displaystyle 22.5464400750007$"
      ],
      "text/plain": [
       "22.5464400750007"
      ]
     },
     "execution_count": 64,
     "metadata": {},
     "output_type": "execute_result"
    }
   ],
   "source": [
    "a = e21.doit().evalf()\n",
    "a"
   ]
  },
  {
   "cell_type": "code",
   "execution_count": 65,
   "id": "fcd84950",
   "metadata": {},
   "outputs": [
    {
     "data": {
      "text/latex": [
       "$\\displaystyle 5.63661001875017$"
      ],
      "text/plain": [
       "5.63661001875017"
      ]
     },
     "execution_count": 65,
     "metadata": {},
     "output_type": "execute_result"
    }
   ],
   "source": [
    "a/4"
   ]
  },
  {
   "cell_type": "code",
   "execution_count": 66,
   "id": "01afc003",
   "metadata": {},
   "outputs": [
    {
     "data": {
      "text/html": [
       "<img src=\"https://i.imgur.com/kG9utPJ.png\"/>"
      ],
      "text/plain": [
       "<IPython.core.display.Image object>"
      ]
     },
     "execution_count": 66,
     "metadata": {},
     "output_type": "execute_result"
    }
   ],
   "source": [
    "Image(url= \"https://i.imgur.com/kG9utPJ.png\")"
   ]
  },
  {
   "cell_type": "code",
   "execution_count": 67,
   "id": "69bc6eae",
   "metadata": {},
   "outputs": [
    {
     "data": {
      "text/html": [
       "<img src=\"https://i.imgur.com/1jAeHgI.png\"/>"
      ],
      "text/plain": [
       "<IPython.core.display.Image object>"
      ]
     },
     "execution_count": 67,
     "metadata": {},
     "output_type": "execute_result"
    }
   ],
   "source": [
    "Image(url= \"https://i.imgur.com/1jAeHgI.png\")"
   ]
  },
  {
   "cell_type": "code",
   "execution_count": 69,
   "id": "17752856",
   "metadata": {},
   "outputs": [
    {
     "data": {
      "text/latex": [
       "$\\displaystyle v{\\left(r \\right)}$"
      ],
      "text/plain": [
       "v(r)"
      ]
     },
     "execution_count": 69,
     "metadata": {},
     "output_type": "execute_result"
    }
   ],
   "source": [
    "v = Function(\"v\")\n",
    "r,n,l,R,P = symbols('r n l R P')\n",
    "v(r)"
   ]
  },
  {
   "cell_type": "code",
   "execution_count": 80,
   "id": "e5e9f49f",
   "metadata": {},
   "outputs": [
    {
     "data": {
      "text/latex": [
       "$\\displaystyle v{\\left(r \\right)} = \\frac{P \\left(R^{2} - r^{2}\\right)}{4 l n}$"
      ],
      "text/plain": [
       "Eq(v(r), P*(R**2 - r**2)/(4*l*n))"
      ]
     },
     "execution_count": 80,
     "metadata": {},
     "output_type": "execute_result"
    }
   ],
   "source": [
    "e22 = (P/(4*n*l)   )*(R**2-r**2)\n",
    "e23 = Eq(v(r),e22)    \n",
    "e23"
   ]
  },
  {
   "cell_type": "code",
   "execution_count": 83,
   "id": "bdf33a89",
   "metadata": {},
   "outputs": [
    {
     "data": {
      "text/latex": [
       "$\\displaystyle \\int\\limits_{0}^{R} \\frac{P \\left(R^{2} - r^{2}\\right)}{4 l n}\\, dr$"
      ],
      "text/plain": [
       "Integral(P*(R**2 - r**2)/(4*l*n), (r, 0, R))"
      ]
     },
     "execution_count": 83,
     "metadata": {},
     "output_type": "execute_result"
    }
   ],
   "source": [
    "e24 = Integral(e23.rhs,(r,0,R))\n",
    "e24"
   ]
  },
  {
   "cell_type": "code",
   "execution_count": 131,
   "id": "69bee125",
   "metadata": {},
   "outputs": [
    {
     "data": {
      "text/latex": [
       "$\\displaystyle \\frac{P R^{2}}{6 l n}$"
      ],
      "text/plain": [
       "P*R**2/(6*l*n)"
      ]
     },
     "execution_count": 131,
     "metadata": {},
     "output_type": "execute_result"
    }
   ],
   "source": [
    "e24.doit()/R"
   ]
  },
  {
   "cell_type": "code",
   "execution_count": 132,
   "id": "59274a96",
   "metadata": {},
   "outputs": [
    {
     "name": "stdout",
     "output_type": "stream",
     "text": [
      "P*R**2/(6*l*n)\n"
     ]
    }
   ],
   "source": [
    "print(e24.doit()/R)"
   ]
  },
  {
   "cell_type": "code",
   "execution_count": 156,
   "id": "97559f6c",
   "metadata": {},
   "outputs": [
    {
     "data": {
      "text/latex": [
       "$\\displaystyle \\frac{P R^{2}}{6 l n}$"
      ],
      "text/plain": [
       "P*R**2/(6*l*n)"
      ]
     },
     "execution_count": 156,
     "metadata": {},
     "output_type": "execute_result"
    }
   ],
   "source": [
    "e40 = P*R**2/(6*l*n)\n",
    "e40\n",
    "# source 06-05-018_Average_Value_of_a_Function.pdf\n"
   ]
  },
  {
   "cell_type": "code",
   "execution_count": 157,
   "id": "b0077a3d",
   "metadata": {},
   "outputs": [
    {
     "data": {
      "text/html": [
       "<img src=\"https://i.imgur.com/3c17nUy.png\"/>"
      ],
      "text/plain": [
       "<IPython.core.display.Image object>"
      ]
     },
     "execution_count": 157,
     "metadata": {},
     "output_type": "execute_result"
    }
   ],
   "source": [
    "Image(url= \"https://i.imgur.com/3c17nUy.png\")"
   ]
  },
  {
   "cell_type": "code",
   "execution_count": 87,
   "id": "dca14863",
   "metadata": {},
   "outputs": [
    {
     "data": {
      "text/html": [
       "<img src=\"https://i.imgur.com/psTFm7P.png\"/>"
      ],
      "text/plain": [
       "<IPython.core.display.Image object>"
      ]
     },
     "execution_count": 87,
     "metadata": {},
     "output_type": "execute_result"
    }
   ],
   "source": [
    "Image(url= \"https://i.imgur.com/psTFm7P.png\")"
   ]
  },
  {
   "cell_type": "code",
   "execution_count": 102,
   "id": "642a68e2",
   "metadata": {},
   "outputs": [
    {
     "data": {
      "text/latex": [
       "$\\displaystyle \\int\\limits_{3}^{6} x^{2}\\, dx$"
      ],
      "text/plain": [
       "Integral(x**2, (x, 3, 6))"
      ]
     },
     "execution_count": 102,
     "metadata": {},
     "output_type": "execute_result"
    }
   ],
   "source": [
    "e30 = x**2\n",
    "e31 = Integral(e30,(x,3,6))\n",
    "e31"
   ]
  },
  {
   "cell_type": "code",
   "execution_count": 103,
   "id": "838cba6f",
   "metadata": {},
   "outputs": [
    {
     "data": {
      "text/latex": [
       "$\\displaystyle 63$"
      ],
      "text/plain": [
       "63"
      ]
     },
     "execution_count": 103,
     "metadata": {},
     "output_type": "execute_result"
    }
   ],
   "source": [
    "e31.doit()"
   ]
  },
  {
   "cell_type": "code",
   "execution_count": 105,
   "id": "9c7e1aed",
   "metadata": {},
   "outputs": [
    {
     "data": {
      "text/plain": [
       "21.0"
      ]
     },
     "execution_count": 105,
     "metadata": {},
     "output_type": "execute_result"
    }
   ],
   "source": [
    "63/3"
   ]
  },
  {
   "cell_type": "code",
   "execution_count": 106,
   "id": "11210004",
   "metadata": {},
   "outputs": [
    {
     "data": {
      "text/html": [
       "<img src=\"https://i.imgur.com/CeUw8Mi.png\"/>"
      ],
      "text/plain": [
       "<IPython.core.display.Image object>"
      ]
     },
     "execution_count": 106,
     "metadata": {},
     "output_type": "execute_result"
    }
   ],
   "source": [
    "Image(url= \"https://i.imgur.com/CeUw8Mi.png\")"
   ]
  },
  {
   "cell_type": "code",
   "execution_count": 107,
   "id": "3e6c1c7f",
   "metadata": {},
   "outputs": [
    {
     "data": {
      "text/html": [
       "<img src=\"https://i.imgur.com/af7s3HK.png\"/>"
      ],
      "text/plain": [
       "<IPython.core.display.Image object>"
      ]
     },
     "execution_count": 107,
     "metadata": {},
     "output_type": "execute_result"
    }
   ],
   "source": [
    "Image(url= \"https://i.imgur.com/af7s3HK.png\")"
   ]
  },
  {
   "cell_type": "code",
   "execution_count": 113,
   "id": "5498d1d3",
   "metadata": {},
   "outputs": [
    {
     "data": {
      "text/latex": [
       "$\\displaystyle \\int\\limits_{0}^{450} \\left(0.2 x^{2} + 130 x + 200\\right)\\, dx$"
      ],
      "text/plain": [
       "Integral(0.2*x**2 + 130*x + 200, (x, 0, 450))"
      ]
     },
     "execution_count": 113,
     "metadata": {},
     "output_type": "execute_result"
    }
   ],
   "source": [
    "e32 = 0.2*x**2+130*x+200\n",
    "e33 = Integral(e32,(x,0,450))\n",
    "e33"
   ]
  },
  {
   "cell_type": "code",
   "execution_count": 114,
   "id": "e27185d4",
   "metadata": {},
   "outputs": [
    {
     "data": {
      "text/latex": [
       "$\\displaystyle 42950.0$"
      ],
      "text/plain": [
       "42950.0000000000"
      ]
     },
     "execution_count": 114,
     "metadata": {},
     "output_type": "execute_result"
    }
   ],
   "source": [
    "e33.doit()/450"
   ]
  },
  {
   "cell_type": "code",
   "execution_count": 115,
   "id": "a5c472d2",
   "metadata": {},
   "outputs": [
    {
     "data": {
      "text/html": [
       "<img src=\"https://i.imgur.com/xII0vO4.png\"/>"
      ],
      "text/plain": [
       "<IPython.core.display.Image object>"
      ]
     },
     "execution_count": 115,
     "metadata": {},
     "output_type": "execute_result"
    }
   ],
   "source": [
    "Image(url= \"https://i.imgur.com/xII0vO4.png\")"
   ]
  }
 ],
 "metadata": {
  "kernelspec": {
   "display_name": "Python 3 (ipykernel)",
   "language": "python",
   "name": "python3"
  },
  "language_info": {
   "codemirror_mode": {
    "name": "ipython",
    "version": 3
   },
   "file_extension": ".py",
   "mimetype": "text/x-python",
   "name": "python",
   "nbconvert_exporter": "python",
   "pygments_lexer": "ipython3",
   "version": "3.9.6"
  }
 },
 "nbformat": 4,
 "nbformat_minor": 5
}
