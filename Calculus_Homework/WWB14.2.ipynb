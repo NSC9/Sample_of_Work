{
 "cells": [
  {
   "cell_type": "code",
   "execution_count": 23,
   "id": "3571a7c5",
   "metadata": {
    "scrolled": true
   },
   "outputs": [
    {
     "data": {
      "text/html": [
       "<img src=\"https://i.imgur.com/yehNtaw.png\"/>"
      ],
      "text/plain": [
       "<IPython.core.display.Image object>"
      ]
     },
     "execution_count": 23,
     "metadata": {},
     "output_type": "execute_result"
    }
   ],
   "source": [
    "# reference https://www.youtube.com/watch?v=_E3CPn6yfgw&ab_channel=RajendraDahal\n",
    "from IPython.display import Image\n",
    "from IPython.core.display import HTML \n",
    "from sympy import *; x,h,y,n,t,d  = symbols(\"x h y n t d\"); C, D = symbols(\"C D\", real=True)\n",
    "Image(url= \"https://i.imgur.com/yehNtaw.png\")"
   ]
  },
  {
   "cell_type": "code",
   "execution_count": 5,
   "id": "e35f1deb",
   "metadata": {
    "scrolled": true
   },
   "outputs": [
    {
     "data": {
      "text/latex": [
       "$\\displaystyle 4 x + 2 y + 4 = 0$"
      ],
      "text/plain": [
       "Eq(4*x + 2*y + 4, 0)"
      ]
     },
     "execution_count": 5,
     "metadata": {},
     "output_type": "execute_result"
    }
   ],
   "source": [
    "Eq(4*x+2*y+4,0)"
   ]
  },
  {
   "cell_type": "code",
   "execution_count": 19,
   "id": "9153445b",
   "metadata": {},
   "outputs": [
    {
     "data": {
      "text/plain": [
       "[-2*x - 2]"
      ]
     },
     "execution_count": 19,
     "metadata": {},
     "output_type": "execute_result"
    }
   ],
   "source": [
    "solve(4*x+2*y+4,y)"
   ]
  },
  {
   "cell_type": "code",
   "execution_count": 37,
   "id": "5d92fdb5",
   "metadata": {},
   "outputs": [
    {
     "data": {
      "text/latex": [
       "$\\displaystyle y = - 2 x - 2$"
      ],
      "text/plain": [
       "Eq(y, -2*x - 2)"
      ]
     },
     "execution_count": 37,
     "metadata": {},
     "output_type": "execute_result"
    }
   ],
   "source": [
    "expr = -2*x - 2\n",
    "Eq(y,-2*x - 2)"
   ]
  },
  {
   "cell_type": "code",
   "execution_count": 38,
   "id": "e227339b",
   "metadata": {},
   "outputs": [
    {
     "data": {
      "text/latex": [
       "$\\displaystyle d = \\sqrt{\\left(x - 4\\right)^{2} + \\left(y - 1\\right)^{2}}$"
      ],
      "text/plain": [
       "Eq(d, sqrt((x - 4)**2 + (y - 1)**2))"
      ]
     },
     "execution_count": 38,
     "metadata": {},
     "output_type": "execute_result"
    }
   ],
   "source": [
    "Eq(d,sqrt((x-4)**2+(y-1)**2))"
   ]
  },
  {
   "cell_type": "code",
   "execution_count": 39,
   "id": "8fa49453",
   "metadata": {},
   "outputs": [
    {
     "data": {
      "text/latex": [
       "$\\displaystyle d = \\sqrt{\\left(- 2 x - 3\\right)^{2} + \\left(x - 4\\right)^{2}}$"
      ],
      "text/plain": [
       "Eq(d, sqrt((-2*x - 3)**2 + (x - 4)**2))"
      ]
     },
     "execution_count": 39,
     "metadata": {},
     "output_type": "execute_result"
    }
   ],
   "source": [
    "Eq(d,sqrt((x-4)**2+(y.subs(y,expr)-1)**2))"
   ]
  },
  {
   "cell_type": "code",
   "execution_count": 44,
   "id": "c5527ea7",
   "metadata": {},
   "outputs": [
    {
     "data": {
      "text/latex": [
       "$\\displaystyle \\left(- 2 x - 3\\right)^{2} + \\left(x - 4\\right)^{2}$"
      ],
      "text/plain": [
       "(-2*x - 3)**2 + (x - 4)**2"
      ]
     },
     "execution_count": 44,
     "metadata": {},
     "output_type": "execute_result"
    }
   ],
   "source": [
    "def f(x):\n",
    "    return (x-4)**2+(y.subs(y,expr)-1)**2\n",
    "f(x)"
   ]
  },
  {
   "cell_type": "code",
   "execution_count": 45,
   "id": "a0c50a5c",
   "metadata": {},
   "outputs": [
    {
     "data": {
      "text/latex": [
       "$\\displaystyle 10 x + 4$"
      ],
      "text/plain": [
       "10*x + 4"
      ]
     },
     "execution_count": 45,
     "metadata": {},
     "output_type": "execute_result"
    }
   ],
   "source": [
    "diff(f(x))"
   ]
  },
  {
   "cell_type": "code",
   "execution_count": 48,
   "id": "2dcffea1",
   "metadata": {},
   "outputs": [
    {
     "data": {
      "text/plain": [
       "[-2/5]"
      ]
     },
     "execution_count": 48,
     "metadata": {},
     "output_type": "execute_result"
    }
   ],
   "source": [
    "solve(10*x+4,x)"
   ]
  },
  {
   "cell_type": "code",
   "execution_count": 49,
   "id": "ee275438",
   "metadata": {},
   "outputs": [
    {
     "data": {
      "text/latex": [
       "$\\displaystyle 10$"
      ],
      "text/plain": [
       "10"
      ]
     },
     "execution_count": 49,
     "metadata": {},
     "output_type": "execute_result"
    }
   ],
   "source": [
    "diff(f(x),x,2)  #second derivative "
   ]
  },
  {
   "cell_type": "code",
   "execution_count": 53,
   "id": "fba6e222",
   "metadata": {},
   "outputs": [
    {
     "data": {
      "text/latex": [
       "$\\displaystyle -1.2$"
      ],
      "text/plain": [
       "-1.20000000000000"
      ]
     },
     "execution_count": 53,
     "metadata": {},
     "output_type": "execute_result"
    }
   ],
   "source": [
    "(-2*x - 2).subs(x,(-2/5))"
   ]
  },
  {
   "cell_type": "code",
   "execution_count": 54,
   "id": "1e32ad79",
   "metadata": {},
   "outputs": [
    {
     "data": {
      "text/html": [
       "<img src=\"https://i.imgur.com/eMhm6SD.png\"/>"
      ],
      "text/plain": [
       "<IPython.core.display.Image object>"
      ]
     },
     "execution_count": 54,
     "metadata": {},
     "output_type": "execute_result"
    }
   ],
   "source": [
    "Image(url= \"https://i.imgur.com/eMhm6SD.png\")"
   ]
  }
 ],
 "metadata": {
  "kernelspec": {
   "display_name": "Python 3 (ipykernel)",
   "language": "python",
   "name": "python3"
  },
  "language_info": {
   "codemirror_mode": {
    "name": "ipython",
    "version": 3
   },
   "file_extension": ".py",
   "mimetype": "text/x-python",
   "name": "python",
   "nbconvert_exporter": "python",
   "pygments_lexer": "ipython3",
   "version": "3.9.6"
  }
 },
 "nbformat": 4,
 "nbformat_minor": 5
}
