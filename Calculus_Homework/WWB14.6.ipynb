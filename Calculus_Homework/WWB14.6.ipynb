{
 "cells": [
  {
   "cell_type": "code",
   "execution_count": 1,
   "id": "3571a7c5",
   "metadata": {
    "scrolled": true
   },
   "outputs": [
    {
     "data": {
      "text/html": [
       "<img src=\"https://i.imgur.com/XYvZXIq.png\"/>"
      ],
      "text/plain": [
       "<IPython.core.display.Image object>"
      ]
     },
     "execution_count": 1,
     "metadata": {},
     "output_type": "execute_result"
    }
   ],
   "source": [
    "# https://socratic.org/questions/a-fence-8-ft-tall-runs-parallel-to-a-tall-building-at-a-distance-of-4-ft-from-th-1\n",
    "from IPython.display import Image\n",
    "from IPython.core.display import HTML \n",
    "from sympy import *; x,h,y,n,t,d,c,A,r   = symbols(\"x h y n t d c A r\"); C, D = symbols(\"C D\", real=True)\n",
    "Image(url= \"https://i.imgur.com/XYvZXIq.png\")"
   ]
  },
  {
   "cell_type": "code",
   "execution_count": 2,
   "id": "03808e7d",
   "metadata": {},
   "outputs": [
    {
     "data": {
      "text/html": [
       "<img src=\"https://i.imgur.com/2DeA9ZT.png\"/>"
      ],
      "text/plain": [
       "<IPython.core.display.Image object>"
      ]
     },
     "execution_count": 2,
     "metadata": {},
     "output_type": "execute_result"
    }
   ],
   "source": [
    "Image(url= \"https://i.imgur.com/2DeA9ZT.png\")\n",
    "# change 4 to 5"
   ]
  },
  {
   "cell_type": "code",
   "execution_count": 3,
   "id": "525584e1",
   "metadata": {},
   "outputs": [
    {
     "data": {
      "text/html": [
       "<img src=\"https://i.imgur.com/um3ZnlW.png\"/>"
      ],
      "text/plain": [
       "<IPython.core.display.Image object>"
      ]
     },
     "execution_count": 3,
     "metadata": {},
     "output_type": "execute_result"
    }
   ],
   "source": [
    "Image(url= \"https://i.imgur.com/um3ZnlW.png\")"
   ]
  },
  {
   "cell_type": "code",
   "execution_count": 18,
   "id": "db00a100",
   "metadata": {},
   "outputs": [
    {
     "data": {
      "text/latex": [
       "$\\displaystyle \\frac{8 \\left(x + 5\\right)}{x}$"
      ],
      "text/plain": [
       "8*(x + 5)/x"
      ]
     },
     "execution_count": 18,
     "metadata": {},
     "output_type": "execute_result"
    }
   ],
   "source": [
    "h = factor(8*(5+x))/x\n",
    "h"
   ]
  },
  {
   "cell_type": "code",
   "execution_count": 33,
   "id": "014bb298",
   "metadata": {},
   "outputs": [
    {
     "data": {
      "text/latex": [
       "$\\displaystyle L^{2} = \\left(x + 5\\right)^{2} + \\frac{64 \\left(x + 5\\right)^{2}}{x^{2}}$"
      ],
      "text/plain": [
       "Eq(L**2, (x + 5)**2 + 64*(x + 5)**2/x**2)"
      ]
     },
     "execution_count": 33,
     "metadata": {},
     "output_type": "execute_result"
    }
   ],
   "source": [
    "L = h**2+(x+5)**2\n",
    "Eq(symbols(\"L\")**2,L)"
   ]
  },
  {
   "cell_type": "code",
   "execution_count": 38,
   "id": "28545c09",
   "metadata": {},
   "outputs": [
    {
     "data": {
      "text/latex": [
       "$\\displaystyle 2 x + 10 + \\frac{64 \\left(2 x + 10\\right)}{x^{2}} - \\frac{128 \\left(x + 5\\right)^{2}}{x^{3}}$"
      ],
      "text/plain": [
       "2*x + 10 + 64*(2*x + 10)/x**2 - 128*(x + 5)**2/x**3"
      ]
     },
     "execution_count": 38,
     "metadata": {},
     "output_type": "execute_result"
    }
   ],
   "source": [
    "diff(L)"
   ]
  },
  {
   "cell_type": "code",
   "execution_count": 40,
   "id": "d9008b6a",
   "metadata": {},
   "outputs": [
    {
     "data": {
      "text/plain": [
       "[-5,\n",
       " 4*5**(1/3),\n",
       " -2*5**(1/3) - 2*sqrt(3)*5**(1/3)*I,\n",
       " -2*5**(1/3) + 2*sqrt(3)*5**(1/3)*I]"
      ]
     },
     "execution_count": 40,
     "metadata": {},
     "output_type": "execute_result"
    }
   ],
   "source": [
    "solve(diff(L),x)"
   ]
  },
  {
   "cell_type": "code",
   "execution_count": 46,
   "id": "8f4f8bed",
   "metadata": {},
   "outputs": [
    {
     "data": {
      "text/latex": [
       "$\\displaystyle 331.951408234819$"
      ],
      "text/plain": [
       "331.951408234819"
      ]
     },
     "execution_count": 46,
     "metadata": {},
     "output_type": "execute_result"
    }
   ],
   "source": [
    "L.subs(x, 4*5**(1/3))"
   ]
  },
  {
   "cell_type": "code",
   "execution_count": 47,
   "id": "3f160f9b",
   "metadata": {},
   "outputs": [
    {
     "data": {
      "text/latex": [
       "$\\displaystyle 18.2195336997087$"
      ],
      "text/plain": [
       "18.2195336997087"
      ]
     },
     "execution_count": 47,
     "metadata": {},
     "output_type": "execute_result"
    }
   ],
   "source": [
    "sqrt(L.subs(x, 4*5**(1/3)))"
   ]
  },
  {
   "cell_type": "code",
   "execution_count": 31,
   "id": "53df1cc0",
   "metadata": {},
   "outputs": [
    {
     "data": {
      "text/latex": [
       "$\\displaystyle 13.8480354764257$"
      ],
      "text/plain": [
       "13.8480354764257"
      ]
     },
     "execution_count": 31,
     "metadata": {},
     "output_type": "execute_result"
    }
   ],
   "source": [
    "(8*(5+x)/x).subs(x, 4*5**(1/3))"
   ]
  },
  {
   "cell_type": "code",
   "execution_count": 48,
   "id": "e168d601",
   "metadata": {},
   "outputs": [
    {
     "data": {
      "text/html": [
       "<img src=\"https://i.imgur.com/yafiIYG.png\"/>"
      ],
      "text/plain": [
       "<IPython.core.display.Image object>"
      ]
     },
     "execution_count": 48,
     "metadata": {},
     "output_type": "execute_result"
    }
   ],
   "source": [
    "Image(url= \"https://i.imgur.com/yafiIYG.png\")"
   ]
  }
 ],
 "metadata": {
  "kernelspec": {
   "display_name": "Python 3 (ipykernel)",
   "language": "python",
   "name": "python3"
  },
  "language_info": {
   "codemirror_mode": {
    "name": "ipython",
    "version": 3
   },
   "file_extension": ".py",
   "mimetype": "text/x-python",
   "name": "python",
   "nbconvert_exporter": "python",
   "pygments_lexer": "ipython3",
   "version": "3.9.6"
  }
 },
 "nbformat": 4,
 "nbformat_minor": 5
}
