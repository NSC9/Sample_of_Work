{
 "cells": [
  {
   "cell_type": "code",
   "execution_count": 1,
   "id": "3571a7c5",
   "metadata": {},
   "outputs": [
    {
     "data": {
      "text/html": [
       "<img src=\"https://i.imgur.com/LA701Wi.png\"/>"
      ],
      "text/plain": [
       "<IPython.core.display.Image object>"
      ]
     },
     "execution_count": 1,
     "metadata": {},
     "output_type": "execute_result"
    }
   ],
   "source": [
    "# reference https://socratic.org/questions/the-top-and-bottom-margins-of-a-poster-are-4-cm-and-the-side-margins-are-each-6-\n",
    "from IPython.display import Image\n",
    "from IPython.core.display import HTML \n",
    "from sympy import *; x,h,y,n,t = symbols(\"x h y n t\"); C, D = symbols(\"C D\", real=True)\n",
    "Image(url= \"https://i.imgur.com/LA701Wi.png\")"
   ]
  },
  {
   "cell_type": "code",
   "execution_count": 2,
   "id": "e35f1deb",
   "metadata": {
    "scrolled": true
   },
   "outputs": [
    {
     "data": {
      "text/latex": [
       "$\\displaystyle 16 a + 16 b + 126$"
      ],
      "text/plain": [
       "16*a + 16*b + 126"
      ]
     },
     "execution_count": 2,
     "metadata": {},
     "output_type": "execute_result"
    }
   ],
   "source": [
    "A,a,b = symbols(\"A a b\")\n",
    "A = 382 + 2*(a*8) + 2*(b*8)-4*(8*8)\n",
    "A"
   ]
  },
  {
   "cell_type": "code",
   "execution_count": 3,
   "id": "9153445b",
   "metadata": {},
   "outputs": [
    {
     "data": {
      "text/latex": [
       "$\\displaystyle 16 a + 16 b + 126 = a b$"
      ],
      "text/plain": [
       "Eq(16*a + 16*b + 126, a*b)"
      ]
     },
     "execution_count": 3,
     "metadata": {},
     "output_type": "execute_result"
    }
   ],
   "source": [
    "Eq(A,a*b)"
   ]
  },
  {
   "cell_type": "code",
   "execution_count": 8,
   "id": "5d92fdb5",
   "metadata": {},
   "outputs": [
    {
     "name": "stdout",
     "output_type": "stream",
     "text": [
      "⎡2⋅(8⋅b + 63)⎤\n",
      "⎢────────────⎥\n",
      "⎣   b - 16   ⎦\n"
     ]
    }
   ],
   "source": [
    "pprint(solve(Eq(A,a*b),a))  # A(b)"
   ]
  },
  {
   "cell_type": "code",
   "execution_count": 9,
   "id": "e227339b",
   "metadata": {},
   "outputs": [
    {
     "data": {
      "text/latex": [
       "$\\displaystyle \\frac{2 b \\left(8 b + 63\\right)}{b - 16}$"
      ],
      "text/plain": [
       "2*b*(8*b + 63)/(b - 16)"
      ]
     },
     "execution_count": 9,
     "metadata": {},
     "output_type": "execute_result"
    }
   ],
   "source": [
    "simplify((2*(8*b + 63)/(b - 16))*b)   *a * b"
   ]
  },
  {
   "cell_type": "code",
   "execution_count": 16,
   "id": "8fa49453",
   "metadata": {},
   "outputs": [
    {
     "data": {
      "text/latex": [
       "$\\displaystyle \\frac{16 \\left(b^{2} - 32 b - 126\\right)}{b^{2} - 32 b + 256}$"
      ],
      "text/plain": [
       "16*(b**2 - 32*b - 126)/(b**2 - 32*b + 256)"
      ]
     },
     "execution_count": 16,
     "metadata": {},
     "output_type": "execute_result"
    }
   ],
   "source": [
    "simplify(diff((2*(8*b + 63)/(b - 16))*b))"
   ]
  },
  {
   "cell_type": "code",
   "execution_count": 20,
   "id": "c5527ea7",
   "metadata": {},
   "outputs": [
    {
     "name": "stdout",
     "output_type": "stream",
     "text": [
      "16*(b**2 - 32*b - 126)/(b**2 - 32*b + 256)\n"
     ]
    }
   ],
   "source": [
    "print(simplify(diff((2*(8*b + 63)/(b - 16))*b)))"
   ]
  },
  {
   "cell_type": "code",
   "execution_count": 22,
   "id": "2dcffea1",
   "metadata": {},
   "outputs": [
    {
     "data": {
      "text/latex": [
       "$\\displaystyle b^{2} - 32 b - 126$"
      ],
      "text/plain": [
       "b**2 - 32*b - 126"
      ]
     },
     "execution_count": 22,
     "metadata": {},
     "output_type": "execute_result"
    }
   ],
   "source": [
    "b**2 - 32*b - 126"
   ]
  },
  {
   "cell_type": "code",
   "execution_count": 26,
   "id": "ee275438",
   "metadata": {},
   "outputs": [
    {
     "data": {
      "text/plain": [
       "[16 - sqrt(382), 16 + sqrt(382)]"
      ]
     },
     "execution_count": 26,
     "metadata": {},
     "output_type": "execute_result"
    }
   ],
   "source": [
    "solve(b**2 - 32*b - 126,b)"
   ]
  },
  {
   "cell_type": "code",
   "execution_count": 27,
   "id": "1e32ad79",
   "metadata": {},
   "outputs": [
    {
     "data": {
      "text/html": [
       "<img src=\"https://i.imgur.com/3RToGO0.png\"/>"
      ],
      "text/plain": [
       "<IPython.core.display.Image object>"
      ]
     },
     "execution_count": 27,
     "metadata": {},
     "output_type": "execute_result"
    }
   ],
   "source": [
    "Image(url= \"https://i.imgur.com/3RToGO0.png\")"
   ]
  }
 ],
 "metadata": {
  "kernelspec": {
   "display_name": "Python 3 (ipykernel)",
   "language": "python",
   "name": "python3"
  },
  "language_info": {
   "codemirror_mode": {
    "name": "ipython",
    "version": 3
   },
   "file_extension": ".py",
   "mimetype": "text/x-python",
   "name": "python",
   "nbconvert_exporter": "python",
   "pygments_lexer": "ipython3",
   "version": "3.9.6"
  }
 },
 "nbformat": 4,
 "nbformat_minor": 5
}
