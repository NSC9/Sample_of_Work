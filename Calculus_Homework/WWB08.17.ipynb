{
 "cells": [
  {
   "cell_type": "code",
   "execution_count": 5,
   "id": "3571a7c5",
   "metadata": {},
   "outputs": [
    {
     "data": {
      "text/html": [
       "<img src=\"https://i.imgur.com/EeLxt89.png\"/>"
      ],
      "text/plain": [
       "<IPython.core.display.Image object>"
      ]
     },
     "execution_count": 5,
     "metadata": {},
     "output_type": "execute_result"
    }
   ],
   "source": [
    "from IPython.display import Image\n",
    "from IPython.core.display import HTML \n",
    "from sympy import *; x,h,y = symbols(\"x h y\")\n",
    "Image(url= \"https://i.imgur.com/EeLxt89.png\")\n",
    "\n"
   ]
  },
  {
   "cell_type": "code",
   "execution_count": 18,
   "id": "e35f1deb",
   "metadata": {},
   "outputs": [
    {
     "data": {
      "text/latex": [
       "$\\displaystyle \\frac{2 x^{2} - 6 x + 6}{7 x^{2} + 2 x + 11}$"
      ],
      "text/plain": [
       "(2*x**2 - 6*x + 6)/(7*x**2 + 2*x + 11)"
      ]
     },
     "execution_count": 18,
     "metadata": {},
     "output_type": "execute_result"
    }
   ],
   "source": [
    "expr = ( 2*x**2 - 6*x + 6 ) / (7*x**2 + 2*x + 11)\n",
    "def f(x):\n",
    "    return expr\n",
    "F(x)"
   ]
  },
  {
   "cell_type": "code",
   "execution_count": 19,
   "id": "a0e93446",
   "metadata": {},
   "outputs": [
    {
     "data": {
      "text/latex": [
       "$\\displaystyle \\frac{2 x^{2} - 6 x + 6}{7 x^{2} + 2 x + 11}$"
      ],
      "text/plain": [
       "(2*x**2 - 6*x + 6)/(7*x**2 + 2*x + 11)"
      ]
     },
     "execution_count": 19,
     "metadata": {},
     "output_type": "execute_result"
    }
   ],
   "source": [
    "F(2)"
   ]
  },
  {
   "cell_type": "code",
   "execution_count": 24,
   "id": "3550929a",
   "metadata": {},
   "outputs": [],
   "source": [
    "dF = diff(F(x))"
   ]
  },
  {
   "cell_type": "code",
   "execution_count": 26,
   "id": "2f6bcfe9",
   "metadata": {},
   "outputs": [
    {
     "data": {
      "text/latex": [
       "$\\displaystyle \\frac{26}{1849}$"
      ],
      "text/plain": [
       "26/1849"
      ]
     },
     "execution_count": 26,
     "metadata": {},
     "output_type": "execute_result"
    }
   ],
   "source": [
    "dF.subs(x,2)"
   ]
  },
  {
   "cell_type": "code",
   "execution_count": 27,
   "id": "69e129f5",
   "metadata": {},
   "outputs": [
    {
     "name": "stdout",
     "output_type": "stream",
     "text": [
      "26/1849\n"
     ]
    }
   ],
   "source": [
    "print(dF.subs(x,2))"
   ]
  },
  {
   "cell_type": "code",
   "execution_count": 28,
   "id": "a30d2993",
   "metadata": {},
   "outputs": [
    {
     "data": {
      "text/html": [
       "<img src=\"https://i.imgur.com/ZnOtOYx.png\"/>"
      ],
      "text/plain": [
       "<IPython.core.display.Image object>"
      ]
     },
     "execution_count": 28,
     "metadata": {},
     "output_type": "execute_result"
    }
   ],
   "source": [
    "Image(url= \"https://i.imgur.com/ZnOtOYx.png\")"
   ]
  },
  {
   "cell_type": "code",
   "execution_count": null,
   "id": "95a6efa1",
   "metadata": {},
   "outputs": [],
   "source": []
  }
 ],
 "metadata": {
  "kernelspec": {
   "display_name": "Python 3 (ipykernel)",
   "language": "python",
   "name": "python3"
  },
  "language_info": {
   "codemirror_mode": {
    "name": "ipython",
    "version": 3
   },
   "file_extension": ".py",
   "mimetype": "text/x-python",
   "name": "python",
   "nbconvert_exporter": "python",
   "pygments_lexer": "ipython3",
   "version": "3.9.6"
  }
 },
 "nbformat": 4,
 "nbformat_minor": 5
}
