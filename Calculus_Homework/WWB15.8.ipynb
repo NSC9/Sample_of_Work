{
 "cells": [
  {
   "cell_type": "code",
   "execution_count": 1,
   "metadata": {
    "scrolled": false
   },
   "outputs": [
    {
     "data": {
      "text/html": [
       "<img src=\"https://i.imgur.com/mQS31ly.png\"/>"
      ],
      "text/plain": [
       "<IPython.core.display.Image object>"
      ]
     },
     "execution_count": 1,
     "metadata": {},
     "output_type": "execute_result"
    }
   ],
   "source": [
    "from IPython.display import Image\n",
    "from IPython.core.display import HTML \n",
    "from sympy import *\n",
    "Image(url= \"https://i.imgur.com/mQS31ly.png\")"
   ]
  },
  {
   "cell_type": "code",
   "execution_count": 2,
   "metadata": {
    "scrolled": true
   },
   "outputs": [
    {
     "data": {
      "text/latex": [
       "$\\displaystyle L{\\left(x \\right)} = \\left(- a + x\\right) \\frac{d}{d a} f{\\left(a \\right)} + f{\\left(a \\right)}$"
      ],
      "text/plain": [
       "Eq(L(x), (-a + x)*Derivative(f(a), a) + f(a))"
      ]
     },
     "execution_count": 2,
     "metadata": {},
     "output_type": "execute_result"
    }
   ],
   "source": [
    "L  = Function(\"L\")\n",
    "f = Function(\"f\")\n",
    "x,a = symbols('x a')\n",
    "Eq(L(x) , f(a) + Derivative(f(a),a)*(x-a))"
   ]
  },
  {
   "cell_type": "code",
   "execution_count": 3,
   "metadata": {},
   "outputs": [
    {
     "data": {
      "text/latex": [
       "$\\displaystyle f{\\left(x \\right)} = \\left(x^{2} + 5\\right)^{4}$"
      ],
      "text/plain": [
       "Eq(f(x), (x**2 + 5)**4)"
      ]
     },
     "execution_count": 3,
     "metadata": {},
     "output_type": "execute_result"
    }
   ],
   "source": [
    "# source https://www.enotes.com/homework-help/let-y-2-x-2-4x-3-find-differential-dy-when-x-4-dx-327281\n",
    "expr = (x**2+5)**4\n",
    "x1 = 4 ; dx1 = 0.2\n",
    "x2 = 4 ; dx2 = 0.05\n",
    "Eq(f(x), expr)"
   ]
  },
  {
   "cell_type": "code",
   "execution_count": 4,
   "metadata": {},
   "outputs": [
    {
     "data": {
      "text/latex": [
       "$\\displaystyle \\frac{dy}{dx} = \\frac{d}{d x} \\left(x^{2} + 5\\right)^{4}$"
      ],
      "text/plain": [
       "Eq(dy/dx, Derivative((x**2 + 5)**4, x))"
      ]
     },
     "execution_count": 4,
     "metadata": {},
     "output_type": "execute_result"
    }
   ],
   "source": [
    "dy,dx = symbols('dy dx')\n",
    "Eq(dy/dx,Derivative(expr))"
   ]
  },
  {
   "cell_type": "code",
   "execution_count": 5,
   "metadata": {},
   "outputs": [
    {
     "data": {
      "text/latex": [
       "$\\displaystyle 8 dx x \\left(x^{2} + 5\\right)^{3}$"
      ],
      "text/plain": [
       "8*dx*x*(x**2 + 5)**3"
      ]
     },
     "execution_count": 5,
     "metadata": {},
     "output_type": "execute_result"
    }
   ],
   "source": [
    "expr2 = solve(Eq((dy/dx),diff(expr)),dy)[0]\n",
    "expr2"
   ]
  },
  {
   "cell_type": "code",
   "execution_count": 6,
   "metadata": {},
   "outputs": [
    {
     "data": {
      "text/latex": [
       "$\\displaystyle 59270.4$"
      ],
      "text/plain": [
       "59270.4000000000"
      ]
     },
     "execution_count": 6,
     "metadata": {},
     "output_type": "execute_result"
    }
   ],
   "source": [
    "expr2.subs(dx,dx1).subs(x,x1)"
   ]
  },
  {
   "cell_type": "code",
   "execution_count": 7,
   "metadata": {},
   "outputs": [
    {
     "data": {
      "text/latex": [
       "$\\displaystyle 14817.6$"
      ],
      "text/plain": [
       "14817.6000000000"
      ]
     },
     "execution_count": 7,
     "metadata": {},
     "output_type": "execute_result"
    }
   ],
   "source": [
    "expr2.subs(dx,dx2).subs(x,x2)"
   ]
  },
  {
   "cell_type": "code",
   "execution_count": 8,
   "metadata": {},
   "outputs": [
    {
     "data": {
      "text/html": [
       "<img src=\"https://i.imgur.com/YTkEbdu.png\"/>"
      ],
      "text/plain": [
       "<IPython.core.display.Image object>"
      ]
     },
     "execution_count": 8,
     "metadata": {},
     "output_type": "execute_result"
    }
   ],
   "source": [
    "Image(url= \"https://i.imgur.com/YTkEbdu.png\")"
   ]
  }
 ],
 "metadata": {
  "kernelspec": {
   "display_name": "Python 3",
   "language": "python",
   "name": "python3"
  },
  "language_info": {
   "codemirror_mode": {
    "name": "ipython",
    "version": 3
   },
   "file_extension": ".py",
   "mimetype": "text/x-python",
   "name": "python",
   "nbconvert_exporter": "python",
   "pygments_lexer": "ipython3",
   "version": "3.8.10"
  }
 },
 "nbformat": 4,
 "nbformat_minor": 5
}
