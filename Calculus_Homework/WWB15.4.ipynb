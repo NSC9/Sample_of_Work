{
 "cells": [
  {
   "cell_type": "code",
   "execution_count": 3,
   "metadata": {
    "scrolled": false
   },
   "outputs": [
    {
     "data": {
      "text/html": [
       "<img src=\"https://i.imgur.com/34jEdSf.png\"/>"
      ],
      "text/plain": [
       "<IPython.core.display.Image object>"
      ]
     },
     "execution_count": 3,
     "metadata": {},
     "output_type": "execute_result"
    }
   ],
   "source": [
    "from IPython.display import Image\n",
    "from IPython.core.display import HTML \n",
    "from sympy import *\n",
    "Image(url= \"https://i.imgur.com/34jEdSf.png\")"
   ]
  },
  {
   "cell_type": "code",
   "execution_count": 4,
   "metadata": {
    "scrolled": true
   },
   "outputs": [
    {
     "data": {
      "text/latex": [
       "$\\displaystyle L{\\left(x \\right)}$"
      ],
      "text/plain": [
       "L(x)"
      ]
     },
     "execution_count": 4,
     "metadata": {},
     "output_type": "execute_result"
    }
   ],
   "source": [
    "L  = Function(\"L\")\n",
    "f = Function(\"f\")\n",
    "x,a = symbols('x a')\n",
    "L(x)"
   ]
  },
  {
   "cell_type": "code",
   "execution_count": 5,
   "metadata": {},
   "outputs": [
    {
     "data": {
      "text/latex": [
       "$\\displaystyle L{\\left(x \\right)} = \\left(- a + x\\right) \\frac{d}{d a} f{\\left(a \\right)} + f{\\left(a \\right)}$"
      ],
      "text/plain": [
       "Eq(L(x), (-a + x)*Derivative(f(a), a) + f(a))"
      ]
     },
     "execution_count": 5,
     "metadata": {},
     "output_type": "execute_result"
    }
   ],
   "source": [
    "Eq(L(x) , f(a) + Derivative(f(a),a)*(x-a))"
   ]
  },
  {
   "cell_type": "code",
   "execution_count": 10,
   "metadata": {},
   "outputs": [
    {
     "data": {
      "text/latex": [
       "$\\displaystyle f{\\left(x \\right)} = \\frac{1}{\\sqrt{x + 3}}$"
      ],
      "text/plain": [
       "Eq(f(x), 1/sqrt(x + 3))"
      ]
     },
     "execution_count": 10,
     "metadata": {},
     "output_type": "execute_result"
    }
   ],
   "source": [
    "expr = (3+x)**Rational(-1/2)\n",
    "x1 = 22\n",
    "Eq(f(x), expr)"
   ]
  },
  {
   "cell_type": "code",
   "execution_count": 11,
   "metadata": {},
   "outputs": [
    {
     "data": {
      "text/latex": [
       "$\\displaystyle f{\\left(22 \\right)} = \\frac{1}{5}$"
      ],
      "text/plain": [
       "Eq(f(22), 1/5)"
      ]
     },
     "execution_count": 11,
     "metadata": {},
     "output_type": "execute_result"
    }
   ],
   "source": [
    "eq1 = Eq(f(x), expr).subs(x,x1)\n",
    "eq1"
   ]
  },
  {
   "cell_type": "code",
   "execution_count": 12,
   "metadata": {},
   "outputs": [
    {
     "data": {
      "text/latex": [
       "$\\displaystyle \\left. \\frac{d}{d x} \\frac{1}{\\sqrt{x + 3}} \\right|_{\\substack{ x=22 }} = - \\frac{1}{250}$"
      ],
      "text/plain": [
       "Eq(Subs(Derivative(1/sqrt(x + 3), x), x, 22), -1/250)"
      ]
     },
     "execution_count": 12,
     "metadata": {},
     "output_type": "execute_result"
    }
   ],
   "source": [
    "fa = eq1.rhs\n",
    "def f(x):\n",
    "    return expr\n",
    "df = diff(f(x),x)\n",
    "eq2 = Eq(Derivative(f(x)),df).subs(x,x1)\n",
    "eq2"
   ]
  },
  {
   "cell_type": "code",
   "execution_count": 13,
   "metadata": {},
   "outputs": [
    {
     "data": {
      "text/latex": [
       "$\\displaystyle L{\\left(x \\right)} = 0.288 - 0.004 x$"
      ],
      "text/plain": [
       "Eq(L(x), 0.288 - 0.004*x)"
      ]
     },
     "execution_count": 13,
     "metadata": {},
     "output_type": "execute_result"
    }
   ],
   "source": [
    "dfa= eq2.rhs\n",
    "Eq(L(x) , fa+ dfa*(x-x1)).evalf()"
   ]
  },
  {
   "cell_type": "code",
   "execution_count": 14,
   "metadata": {},
   "outputs": [
    {
     "name": "stdout",
     "output_type": "stream",
     "text": [
      "0.288 - 0.004*x\n"
     ]
    }
   ],
   "source": [
    "print(Eq(L(x) , fa+ dfa*(x-x1)).evalf().rhs)"
   ]
  },
  {
   "cell_type": "code",
   "execution_count": 15,
   "metadata": {},
   "outputs": [
    {
     "data": {
      "text/html": [
       "<img src=\"https://i.imgur.com/TCfoLrx.png\"/>"
      ],
      "text/plain": [
       "<IPython.core.display.Image object>"
      ]
     },
     "execution_count": 15,
     "metadata": {},
     "output_type": "execute_result"
    }
   ],
   "source": [
    "Image(url= \"https://i.imgur.com/TCfoLrx.png\")"
   ]
  }
 ],
 "metadata": {
  "kernelspec": {
   "display_name": "Python 3",
   "language": "python",
   "name": "python3"
  },
  "language_info": {
   "codemirror_mode": {
    "name": "ipython",
    "version": 3
   },
   "file_extension": ".py",
   "mimetype": "text/x-python",
   "name": "python",
   "nbconvert_exporter": "python",
   "pygments_lexer": "ipython3",
   "version": "3.8.10"
  }
 },
 "nbformat": 4,
 "nbformat_minor": 5
}
