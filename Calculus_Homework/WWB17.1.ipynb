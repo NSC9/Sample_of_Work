{
 "cells": [
  {
   "cell_type": "code",
   "execution_count": 1,
   "id": "3571a7c5",
   "metadata": {
    "scrolled": false
   },
   "outputs": [
    {
     "data": {
      "text/html": [
       "<img src=\"https://i.imgur.com/IBghUMh.png\"/>"
      ],
      "text/plain": [
       "<IPython.core.display.Image object>"
      ]
     },
     "execution_count": 1,
     "metadata": {},
     "output_type": "execute_result"
    }
   ],
   "source": [
    "from IPython.display import Image\n",
    "from IPython.core.display import HTML \n",
    "from sympy import *\n",
    "Image(url= \"https://i.imgur.com/IBghUMh.png\")"
   ]
  },
  {
   "cell_type": "code",
   "execution_count": 3,
   "id": "edac8e2d",
   "metadata": {},
   "outputs": [
    {
     "data": {
      "text/html": [
       "<img src=\"https://i.imgur.com/ZspIgwo.png\"/>"
      ],
      "text/plain": [
       "<IPython.core.display.Image object>"
      ]
     },
     "execution_count": 3,
     "metadata": {},
     "output_type": "execute_result"
    }
   ],
   "source": [
    "Image(url= \"https://i.imgur.com/ZspIgwo.png\")\n",
    "#https://www.albert.io/blog/how-to-use-the-midpoint-rule-in-ap-calculus/"
   ]
  },
  {
   "cell_type": "code",
   "execution_count": 5,
   "id": "0037a272",
   "metadata": {},
   "outputs": [
    {
     "name": "stdout",
     "output_type": "stream",
     "text": [
      "-1.0\n",
      "0.0\n",
      "1.0\n",
      "8.0\n",
      "27.0\n"
     ]
    },
    {
     "data": {
      "text/plain": [
       "35.0"
      ]
     },
     "execution_count": 5,
     "metadata": {},
     "output_type": "execute_result"
    }
   ],
   "source": [
    "x,a,b,n = symbols('x a b n')\n",
    "\n",
    "f = lambda x: x**3\n",
    "a  = -1.5\n",
    "b = 3.5\n",
    "n = 5\n",
    "dx = (b-a)/n\n",
    "mylist = []\n",
    "\n",
    "i = -0.5\n",
    "g2 = f((dx*i + dx*(i-1))/2) * dx\n",
    "print(g2)\n",
    "mylist.append(g2)\n",
    "\n",
    "i = 0.5\n",
    "g3 = f((dx*i + dx*(i-1))/2) * dx\n",
    "print(g3)\n",
    "mylist.append(g3)\n",
    "\n",
    "i = 1.5\n",
    "g4 = f((dx*i + dx*(i-1))/2) * dx\n",
    "print(g4)\n",
    "mylist.append(g4)\n",
    "\n",
    "i = 2.5\n",
    "g5 = f((dx*i + dx*(i-1))/2) * dx\n",
    "print(g5)\n",
    "mylist.append(g5)\n",
    "\n",
    "i = 3.5\n",
    "g6 = f((dx*i + dx*(i-1))/2) * dx\n",
    "print(g6)\n",
    "mylist.append(g6)\n",
    "\n",
    "sum(mylist[0:10])"
   ]
  },
  {
   "cell_type": "code",
   "execution_count": 6,
   "id": "858e2f5d",
   "metadata": {},
   "outputs": [
    {
     "data": {
      "text/html": [
       "<img src=\"https://i.imgur.com/4EWJrf3.png\"/>"
      ],
      "text/plain": [
       "<IPython.core.display.Image object>"
      ]
     },
     "execution_count": 6,
     "metadata": {},
     "output_type": "execute_result"
    }
   ],
   "source": [
    "Image(url= \"https://i.imgur.com/4EWJrf3.png\")"
   ]
  }
 ],
 "metadata": {
  "kernelspec": {
   "display_name": "Python 3 (ipykernel)",
   "language": "python",
   "name": "python3"
  },
  "language_info": {
   "codemirror_mode": {
    "name": "ipython",
    "version": 3
   },
   "file_extension": ".py",
   "mimetype": "text/x-python",
   "name": "python",
   "nbconvert_exporter": "python",
   "pygments_lexer": "ipython3",
   "version": "3.9.6"
  }
 },
 "nbformat": 4,
 "nbformat_minor": 5
}
