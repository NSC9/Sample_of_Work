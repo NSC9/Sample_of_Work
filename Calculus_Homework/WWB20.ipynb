{
 "cells": [
  {
   "cell_type": "code",
   "execution_count": 1,
   "id": "5c5d1eb8",
   "metadata": {},
   "outputs": [
    {
     "data": {
      "text/html": [
       "<img src=\"https://i.imgur.com/4HeGIe7.png\"/>"
      ],
      "text/plain": [
       "<IPython.core.display.Image object>"
      ]
     },
     "execution_count": 1,
     "metadata": {},
     "output_type": "execute_result"
    }
   ],
   "source": [
    "from IPython.display import Image\n",
    "from IPython.core.display import HTML \n",
    "from sympy import *\n",
    "Image(url= \"https://i.imgur.com/4HeGIe7.png\")"
   ]
  },
  {
   "cell_type": "code",
   "execution_count": 2,
   "id": "00cf790d",
   "metadata": {},
   "outputs": [
    {
     "data": {
      "text/latex": [
       "$\\displaystyle \\int \\sqrt{4 t + 9}\\, dt$"
      ],
      "text/plain": [
       "Integral(sqrt(4*t + 9), t)"
      ]
     },
     "execution_count": 2,
     "metadata": {},
     "output_type": "execute_result"
    }
   ],
   "source": [
    "t = symbols(\"t\")\n",
    "Integral(sqrt(4*t+9))"
   ]
  },
  {
   "cell_type": "code",
   "execution_count": 8,
   "id": "5ce4e311",
   "metadata": {},
   "outputs": [
    {
     "data": {
      "text/latex": [
       "$\\displaystyle \\frac{\\left(4 t + 9\\right)^{\\frac{3}{2}}}{6}$"
      ],
      "text/plain": [
       "(4*t + 9)**(3/2)/6"
      ]
     },
     "execution_count": 8,
     "metadata": {},
     "output_type": "execute_result"
    }
   ],
   "source": [
    "simplify(Integral(sqrt(4*t+9)).doit())\n"
   ]
  },
  {
   "cell_type": "code",
   "execution_count": 9,
   "id": "772850b0",
   "metadata": {},
   "outputs": [
    {
     "data": {
      "text/html": [
       "<img src=\"https://i.imgur.com/tAO2Ij3.png\"/>"
      ],
      "text/plain": [
       "<IPython.core.display.Image object>"
      ]
     },
     "execution_count": 9,
     "metadata": {},
     "output_type": "execute_result"
    }
   ],
   "source": [
    "Image(url= \"https://i.imgur.com/tAO2Ij3.png\")\n"
   ]
  },
  {
   "cell_type": "code",
   "execution_count": 10,
   "id": "273aed39",
   "metadata": {},
   "outputs": [
    {
     "data": {
      "text/html": [
       "<img src=\"https://i.imgur.com/kXlWcEb.png\"/>"
      ],
      "text/plain": [
       "<IPython.core.display.Image object>"
      ]
     },
     "execution_count": 10,
     "metadata": {},
     "output_type": "execute_result"
    }
   ],
   "source": [
    "Image(url= \"https://i.imgur.com/kXlWcEb.png\")"
   ]
  },
  {
   "cell_type": "code",
   "execution_count": 15,
   "id": "f8b1ab9c",
   "metadata": {},
   "outputs": [
    {
     "data": {
      "text/latex": [
       "$\\displaystyle \\int x^{5} \\sin{\\left(x^{6} \\right)}\\, dx$"
      ],
      "text/plain": [
       "Integral(x**5*sin(x**6), x)"
      ]
     },
     "execution_count": 15,
     "metadata": {},
     "output_type": "execute_result"
    }
   ],
   "source": [
    "x = symbols(\"x\")\n",
    "Integral(x**5*sin(x**6))"
   ]
  },
  {
   "cell_type": "code",
   "execution_count": 17,
   "id": "5c3e3d65",
   "metadata": {},
   "outputs": [
    {
     "name": "stdout",
     "output_type": "stream",
     "text": [
      "-cos(x**6)/6\n"
     ]
    }
   ],
   "source": [
    "print(Integral(x**5*sin(x**6)).doit())"
   ]
  },
  {
   "cell_type": "code",
   "execution_count": 18,
   "id": "41531800",
   "metadata": {},
   "outputs": [
    {
     "data": {
      "text/html": [
       "<img src=\"https://i.imgur.com/Mr3KaY2.png\"/>"
      ],
      "text/plain": [
       "<IPython.core.display.Image object>"
      ]
     },
     "execution_count": 18,
     "metadata": {},
     "output_type": "execute_result"
    }
   ],
   "source": [
    "Image(url= \"https://i.imgur.com/Mr3KaY2.png\")"
   ]
  },
  {
   "cell_type": "code",
   "execution_count": 19,
   "id": "94b27050",
   "metadata": {},
   "outputs": [
    {
     "data": {
      "text/html": [
       "<img src=\"https://i.imgur.com/RpUQmc0.png\"/>"
      ],
      "text/plain": [
       "<IPython.core.display.Image object>"
      ]
     },
     "execution_count": 19,
     "metadata": {},
     "output_type": "execute_result"
    }
   ],
   "source": [
    "Image(url= \"https://i.imgur.com/RpUQmc0.png\")"
   ]
  },
  {
   "cell_type": "code",
   "execution_count": 21,
   "id": "af18f842",
   "metadata": {},
   "outputs": [
    {
     "data": {
      "text/latex": [
       "$\\displaystyle \\int \\frac{\\cos{\\left(\\frac{\\pi}{x} \\right)}}{x^{2}}\\, dx$"
      ],
      "text/plain": [
       "Integral(cos(pi/x)/x**2, x)"
      ]
     },
     "execution_count": 21,
     "metadata": {},
     "output_type": "execute_result"
    }
   ],
   "source": [
    "from sympy import pi\n",
    "Integral(cos(pi/x)/x**2)"
   ]
  },
  {
   "cell_type": "code",
   "execution_count": 23,
   "id": "5d4dfe05",
   "metadata": {},
   "outputs": [
    {
     "name": "stdout",
     "output_type": "stream",
     "text": [
      "-sin(pi/x)/pi\n"
     ]
    }
   ],
   "source": [
    "print(Integral(cos(pi/x)/x**2).doit())"
   ]
  },
  {
   "cell_type": "code",
   "execution_count": 24,
   "id": "fc10bd54",
   "metadata": {},
   "outputs": [
    {
     "data": {
      "text/html": [
       "<img src=\"https://i.imgur.com/Nj4pFIO.png\"/>"
      ],
      "text/plain": [
       "<IPython.core.display.Image object>"
      ]
     },
     "execution_count": 24,
     "metadata": {},
     "output_type": "execute_result"
    }
   ],
   "source": [
    "Image(url= \"https://i.imgur.com/Nj4pFIO.png\")"
   ]
  },
  {
   "cell_type": "code",
   "execution_count": 25,
   "id": "43f8c1bd",
   "metadata": {},
   "outputs": [
    {
     "data": {
      "text/html": [
       "<img src=\"https://i.imgur.com/u7LsgcI.png\"/>"
      ],
      "text/plain": [
       "<IPython.core.display.Image object>"
      ]
     },
     "execution_count": 25,
     "metadata": {},
     "output_type": "execute_result"
    }
   ],
   "source": [
    "Image(url= \"https://i.imgur.com/u7LsgcI.png\")"
   ]
  },
  {
   "cell_type": "code",
   "execution_count": 26,
   "id": "455a3128",
   "metadata": {},
   "outputs": [
    {
     "data": {
      "text/latex": [
       "$\\displaystyle \\int \\sin^{4}{\\left(x \\right)} \\cos{\\left(x \\right)}\\, dx$"
      ],
      "text/plain": [
       "Integral(sin(x)**4*cos(x), x)"
      ]
     },
     "execution_count": 26,
     "metadata": {},
     "output_type": "execute_result"
    }
   ],
   "source": [
    "Integral(sin(x)**4*cos(x))"
   ]
  },
  {
   "cell_type": "code",
   "execution_count": 27,
   "id": "68336216",
   "metadata": {},
   "outputs": [
    {
     "name": "stdout",
     "output_type": "stream",
     "text": [
      "sin(x)**5/5\n"
     ]
    }
   ],
   "source": [
    "print(Integral(sin(x)**4*cos(x)).doit())"
   ]
  },
  {
   "cell_type": "code",
   "execution_count": 28,
   "id": "54447f15",
   "metadata": {},
   "outputs": [
    {
     "data": {
      "text/html": [
       "<img src=\"https://i.imgur.com/Bytu7tM.png\"/>"
      ],
      "text/plain": [
       "<IPython.core.display.Image object>"
      ]
     },
     "execution_count": 28,
     "metadata": {},
     "output_type": "execute_result"
    }
   ],
   "source": [
    "Image(url= \"https://i.imgur.com/Bytu7tM.png\")"
   ]
  },
  {
   "cell_type": "code",
   "execution_count": 29,
   "id": "fb90e9b5",
   "metadata": {},
   "outputs": [
    {
     "data": {
      "text/html": [
       "<img src=\"https://i.imgur.com/ZTp8zyi.png\"/>"
      ],
      "text/plain": [
       "<IPython.core.display.Image object>"
      ]
     },
     "execution_count": 29,
     "metadata": {},
     "output_type": "execute_result"
    }
   ],
   "source": [
    "Image(url= \"https://i.imgur.com/ZTp8zyi.png\")"
   ]
  },
  {
   "cell_type": "code",
   "execution_count": 32,
   "id": "cbf90ec5",
   "metadata": {},
   "outputs": [
    {
     "data": {
      "text/latex": [
       "$\\displaystyle \\int x \\cos{\\left(x^{2} - 1 \\right)}\\, dx$"
      ],
      "text/plain": [
       "Integral(x*cos(x**2 - 1), x)"
      ]
     },
     "execution_count": 32,
     "metadata": {},
     "output_type": "execute_result"
    }
   ],
   "source": [
    "Integral(x*cos(1-x**2))"
   ]
  },
  {
   "cell_type": "code",
   "execution_count": 35,
   "id": "13448941",
   "metadata": {},
   "outputs": [
    {
     "name": "stdout",
     "output_type": "stream",
     "text": [
      "sin(x**2 - 1)/2\n"
     ]
    }
   ],
   "source": [
    "print(Integral(x*cos(1-x**2)).doit())"
   ]
  },
  {
   "cell_type": "code",
   "execution_count": 36,
   "id": "365cb31f",
   "metadata": {},
   "outputs": [
    {
     "data": {
      "text/html": [
       "<img src=\"https://i.imgur.com/D72UOm8.png\"/>"
      ],
      "text/plain": [
       "<IPython.core.display.Image object>"
      ]
     },
     "execution_count": 36,
     "metadata": {},
     "output_type": "execute_result"
    }
   ],
   "source": [
    "Image(url= \"https://i.imgur.com/D72UOm8.png\")"
   ]
  },
  {
   "cell_type": "code",
   "execution_count": 37,
   "id": "403d9aeb",
   "metadata": {},
   "outputs": [
    {
     "data": {
      "text/html": [
       "<img src=\"https://i.imgur.com/Tt4wiJA.png\"/>"
      ],
      "text/plain": [
       "<IPython.core.display.Image object>"
      ]
     },
     "execution_count": 37,
     "metadata": {},
     "output_type": "execute_result"
    }
   ],
   "source": [
    "Image(url= \"https://i.imgur.com/Tt4wiJA.png\")"
   ]
  },
  {
   "cell_type": "code",
   "execution_count": 44,
   "id": "c7d4f6b1",
   "metadata": {},
   "outputs": [
    {
     "data": {
      "text/latex": [
       "$\\displaystyle \\int \\sin{\\left(4 t \\right)} \\cos^{15}{\\left(4 t \\right)}\\, dt$"
      ],
      "text/plain": [
       "Integral(sin(4*t)*cos(4*t)**15, t)"
      ]
     },
     "execution_count": 44,
     "metadata": {},
     "output_type": "execute_result"
    }
   ],
   "source": [
    "(Integral(cos(4*t)**15*sin(4*t)))"
   ]
  },
  {
   "cell_type": "code",
   "execution_count": 46,
   "id": "20075901",
   "metadata": {},
   "outputs": [
    {
     "name": "stdout",
     "output_type": "stream",
     "text": [
      "-cos(4*t)**16/64\n"
     ]
    }
   ],
   "source": [
    "print(Integral(cos(4*t)**15*sin(4*t)).doit())"
   ]
  },
  {
   "cell_type": "code",
   "execution_count": 47,
   "id": "e493c9e6",
   "metadata": {},
   "outputs": [
    {
     "data": {
      "text/html": [
       "<img src=\"https://i.imgur.com/fp90pIZ.png\"/>"
      ],
      "text/plain": [
       "<IPython.core.display.Image object>"
      ]
     },
     "execution_count": 47,
     "metadata": {},
     "output_type": "execute_result"
    }
   ],
   "source": [
    "Image(url= \"https://i.imgur.com/fp90pIZ.png\")"
   ]
  },
  {
   "cell_type": "code",
   "execution_count": 48,
   "id": "f95cf8ad",
   "metadata": {},
   "outputs": [
    {
     "data": {
      "text/html": [
       "<img src=\"https://i.imgur.com/87ipBxf.png\"/>"
      ],
      "text/plain": [
       "<IPython.core.display.Image object>"
      ]
     },
     "execution_count": 48,
     "metadata": {},
     "output_type": "execute_result"
    }
   ],
   "source": [
    "Image(url= \"https://i.imgur.com/87ipBxf.png\")"
   ]
  },
  {
   "cell_type": "code",
   "execution_count": 50,
   "id": "d787bd12",
   "metadata": {},
   "outputs": [
    {
     "data": {
      "text/latex": [
       "$\\displaystyle \\int \\tan{\\left(5 x \\right)} \\sec{\\left(5 x \\right)}\\, dx$"
      ],
      "text/plain": [
       "Integral(tan(5*x)*sec(5*x), x)"
      ]
     },
     "execution_count": 50,
     "metadata": {},
     "output_type": "execute_result"
    }
   ],
   "source": [
    "Integral(sec(5*x)*tan(5*x))"
   ]
  },
  {
   "cell_type": "code",
   "execution_count": 51,
   "id": "8ac0bc59",
   "metadata": {},
   "outputs": [
    {
     "name": "stdout",
     "output_type": "stream",
     "text": [
      "1/(5*cos(5*x))\n"
     ]
    }
   ],
   "source": [
    "print(Integral(sec(5*x)*tan(5*x)).doit())"
   ]
  },
  {
   "cell_type": "code",
   "execution_count": 52,
   "id": "3456c9ac",
   "metadata": {},
   "outputs": [
    {
     "data": {
      "text/html": [
       "<img src=\"https://i.imgur.com/p3TV8lD.png\"/>"
      ],
      "text/plain": [
       "<IPython.core.display.Image object>"
      ]
     },
     "execution_count": 52,
     "metadata": {},
     "output_type": "execute_result"
    }
   ],
   "source": [
    "Image(url= \"https://i.imgur.com/p3TV8lD.png\")"
   ]
  },
  {
   "cell_type": "code",
   "execution_count": 53,
   "id": "a8e01741",
   "metadata": {},
   "outputs": [
    {
     "data": {
      "text/html": [
       "<img src=\"https://i.imgur.com/VOZPhlq.png\"/>"
      ],
      "text/plain": [
       "<IPython.core.display.Image object>"
      ]
     },
     "execution_count": 53,
     "metadata": {},
     "output_type": "execute_result"
    }
   ],
   "source": [
    "Image(url= \"https://i.imgur.com/VOZPhlq.png\")"
   ]
  },
  {
   "cell_type": "code",
   "execution_count": 55,
   "id": "e59a80ad",
   "metadata": {},
   "outputs": [
    {
     "data": {
      "text/latex": [
       "$\\displaystyle \\int\\limits_{3}^{5} \\left(2 x - 5\\right)^{5}\\, dx$"
      ],
      "text/plain": [
       "Integral((2*x - 5)**5, (x, 3, 5))"
      ]
     },
     "execution_count": 55,
     "metadata": {},
     "output_type": "execute_result"
    }
   ],
   "source": [
    "Integral((2*x-5)**5,(x,3,5))"
   ]
  },
  {
   "cell_type": "code",
   "execution_count": 56,
   "id": "e708a787",
   "metadata": {},
   "outputs": [
    {
     "name": "stdout",
     "output_type": "stream",
     "text": [
      "1302\n"
     ]
    }
   ],
   "source": [
    "print(Integral((2*x-5)**5,(x,3,5)).doit())"
   ]
  },
  {
   "cell_type": "code",
   "execution_count": 57,
   "id": "63ffff39",
   "metadata": {},
   "outputs": [
    {
     "data": {
      "text/html": [
       "<img src=\"https://i.imgur.com/IEjf5cG.png\"/>"
      ],
      "text/plain": [
       "<IPython.core.display.Image object>"
      ]
     },
     "execution_count": 57,
     "metadata": {},
     "output_type": "execute_result"
    }
   ],
   "source": [
    "Image(url= \"https://i.imgur.com/IEjf5cG.png\")"
   ]
  },
  {
   "cell_type": "code",
   "execution_count": 58,
   "id": "6a63b59c",
   "metadata": {},
   "outputs": [
    {
     "data": {
      "text/html": [
       "<img src=\"https://i.imgur.com/SSN6ZNW.png\"/>"
      ],
      "text/plain": [
       "<IPython.core.display.Image object>"
      ]
     },
     "execution_count": 58,
     "metadata": {},
     "output_type": "execute_result"
    }
   ],
   "source": [
    "Image(url= \"https://i.imgur.com/SSN6ZNW.png\")"
   ]
  },
  {
   "cell_type": "code",
   "execution_count": 60,
   "id": "fcbe3d2f",
   "metadata": {},
   "outputs": [
    {
     "data": {
      "text/latex": [
       "$\\displaystyle \\int\\limits_{-4}^{-10} \\frac{4}{\\sqrt{9 - 4 x}}\\, dx$"
      ],
      "text/plain": [
       "Integral(4/sqrt(9 - 4*x), (x, -4, -10))"
      ]
     },
     "execution_count": 60,
     "metadata": {},
     "output_type": "execute_result"
    }
   ],
   "source": [
    "Integral(4/(sqrt(9-4*x)),(x,-4,-10))"
   ]
  },
  {
   "cell_type": "code",
   "execution_count": 61,
   "id": "36d1986b",
   "metadata": {},
   "outputs": [
    {
     "name": "stdout",
     "output_type": "stream",
     "text": [
      "-4\n"
     ]
    }
   ],
   "source": [
    "print(Integral(4/(sqrt(9-4*x)),(x,-4,-10)).doit())"
   ]
  },
  {
   "cell_type": "code",
   "execution_count": 62,
   "id": "0ff5484c",
   "metadata": {},
   "outputs": [
    {
     "data": {
      "text/html": [
       "<img src=\"https://i.imgur.com/GpwBaxw.png\"/>"
      ],
      "text/plain": [
       "<IPython.core.display.Image object>"
      ]
     },
     "execution_count": 62,
     "metadata": {},
     "output_type": "execute_result"
    }
   ],
   "source": [
    "Image(url= \"https://i.imgur.com/GpwBaxw.png\")"
   ]
  },
  {
   "cell_type": "code",
   "execution_count": 63,
   "id": "5842a419",
   "metadata": {},
   "outputs": [
    {
     "data": {
      "text/html": [
       "<img src=\"https://i.imgur.com/McCH6Kx.png\"/>"
      ],
      "text/plain": [
       "<IPython.core.display.Image object>"
      ]
     },
     "execution_count": 63,
     "metadata": {},
     "output_type": "execute_result"
    }
   ],
   "source": [
    "Image(url= \"https://i.imgur.com/McCH6Kx.png\")"
   ]
  },
  {
   "cell_type": "code",
   "execution_count": 82,
   "id": "4fb2b681",
   "metadata": {},
   "outputs": [
    {
     "data": {
      "text/latex": [
       "$\\displaystyle \\int \\left(8 x^{9} + 8 x^{4}\\right)\\, dx$"
      ],
      "text/plain": [
       "Integral(8*x**9 + 8*x**4, x)"
      ]
     },
     "execution_count": 82,
     "metadata": {},
     "output_type": "execute_result"
    }
   ],
   "source": [
    "Integral(8*x**9 + 8*x**4)"
   ]
  },
  {
   "cell_type": "code",
   "execution_count": 102,
   "id": "f543ee2c",
   "metadata": {},
   "outputs": [
    {
     "name": "stdout",
     "output_type": "stream",
     "text": [
      "4*x**10/5 + 8*x**5/5\n"
     ]
    }
   ],
   "source": [
    "print(Integral(8*x**9 + 8*x**4).doit())"
   ]
  },
  {
   "cell_type": "code",
   "execution_count": 103,
   "id": "022495dc",
   "metadata": {},
   "outputs": [
    {
     "data": {
      "text/html": [
       "<img src=\"https://i.imgur.com/Hziq0U9.png\"/>"
      ],
      "text/plain": [
       "<IPython.core.display.Image object>"
      ]
     },
     "execution_count": 103,
     "metadata": {},
     "output_type": "execute_result"
    }
   ],
   "source": [
    "Image(url= \"https://i.imgur.com/Hziq0U9.png\")"
   ]
  },
  {
   "cell_type": "code",
   "execution_count": 66,
   "id": "fcd84950",
   "metadata": {},
   "outputs": [
    {
     "data": {
      "text/html": [
       "<img src=\"https://i.imgur.com/cMQDWXn.png\"/>"
      ],
      "text/plain": [
       "<IPython.core.display.Image object>"
      ]
     },
     "execution_count": 66,
     "metadata": {},
     "output_type": "execute_result"
    }
   ],
   "source": [
    "Image(url= \"https://i.imgur.com/cMQDWXn.png\")"
   ]
  },
  {
   "cell_type": "code",
   "execution_count": 118,
   "id": "9540b4a8",
   "metadata": {},
   "outputs": [
    {
     "data": {
      "text/latex": [
       "$\\displaystyle \\int\\limits_{0}^{4} x\\, dx = 8$"
      ],
      "text/plain": [
       "Eq(Integral(x, (x, 0, 4)), 8)"
      ]
     },
     "execution_count": 118,
     "metadata": {},
     "output_type": "execute_result"
    }
   ],
   "source": [
    "from sympy import Function\n",
    "f = Function('f')\n",
    "def f(x):\n",
    "    return x\n",
    "Eq(Integral(f(x),(x,0,4)),8)"
   ]
  },
  {
   "cell_type": "code",
   "execution_count": 124,
   "id": "7562ff8c",
   "metadata": {},
   "outputs": [
    {
     "data": {
      "text/latex": [
       "$\\displaystyle 4$"
      ],
      "text/plain": [
       "4"
      ]
     },
     "execution_count": 124,
     "metadata": {},
     "output_type": "execute_result"
    }
   ],
   "source": [
    "Integral(f(2*x),(x,0,2)).doit()"
   ]
  },
  {
   "cell_type": "code",
   "execution_count": 125,
   "id": "01afc003",
   "metadata": {},
   "outputs": [
    {
     "data": {
      "text/html": [
       "<img src=\"https://i.imgur.com/Ir5yAmw.png\"/>"
      ],
      "text/plain": [
       "<IPython.core.display.Image object>"
      ]
     },
     "execution_count": 125,
     "metadata": {},
     "output_type": "execute_result"
    }
   ],
   "source": [
    "Image(url= \"https://i.imgur.com/Ir5yAmw.png\")"
   ]
  },
  {
   "cell_type": "code",
   "execution_count": 126,
   "id": "69bc6eae",
   "metadata": {},
   "outputs": [
    {
     "data": {
      "text/html": [
       "<img src=\"https://i.imgur.com/hIFtNsa.png\"/>"
      ],
      "text/plain": [
       "<IPython.core.display.Image object>"
      ]
     },
     "execution_count": 126,
     "metadata": {},
     "output_type": "execute_result"
    }
   ],
   "source": [
    "Image(url= \"https://i.imgur.com/hIFtNsa.png\")"
   ]
  },
  {
   "cell_type": "code",
   "execution_count": 129,
   "id": "17752856",
   "metadata": {},
   "outputs": [
    {
     "data": {
      "text/latex": [
       "$\\displaystyle \\int\\limits_{-4}^{2} \\sqrt{5 - 2 x}\\, dx$"
      ],
      "text/plain": [
       "Integral(sqrt(5 - 2*x), (x, -4, 2))"
      ]
     },
     "execution_count": 129,
     "metadata": {},
     "output_type": "execute_result"
    }
   ],
   "source": [
    "Integral(sqrt(5-2*x),(x,-4,2))"
   ]
  },
  {
   "cell_type": "code",
   "execution_count": 130,
   "id": "e5e9f49f",
   "metadata": {},
   "outputs": [
    {
     "name": "stdout",
     "output_type": "stream",
     "text": [
      "-1/3 + 13*sqrt(13)/3\n"
     ]
    }
   ],
   "source": [
    "print(Integral(sqrt(5-2*x),(x,-4,2)).doit())"
   ]
  },
  {
   "cell_type": "code",
   "execution_count": 131,
   "id": "bdf33a89",
   "metadata": {},
   "outputs": [
    {
     "data": {
      "text/html": [
       "<img src=\"https://i.imgur.com/RXi96fW.png\"/>"
      ],
      "text/plain": [
       "<IPython.core.display.Image object>"
      ]
     },
     "execution_count": 131,
     "metadata": {},
     "output_type": "execute_result"
    }
   ],
   "source": [
    "Image(url= \"https://i.imgur.com/RXi96fW.png\")"
   ]
  },
  {
   "cell_type": "code",
   "execution_count": 148,
   "id": "69bee125",
   "metadata": {},
   "outputs": [
    {
     "data": {
      "text/html": [
       "<img src=\"https://i.imgur.com/Kg571fy.png\"/>"
      ],
      "text/plain": [
       "<IPython.core.display.Image object>"
      ]
     },
     "execution_count": 148,
     "metadata": {},
     "output_type": "execute_result"
    }
   ],
   "source": [
    "Image(url= \"https://i.imgur.com/Kg571fy.png\")"
   ]
  },
  {
   "cell_type": "code",
   "execution_count": 192,
   "id": "59274a96",
   "metadata": {},
   "outputs": [
    {
     "data": {
      "text/latex": [
       "$\\displaystyle \\frac{\\sin{\\left(\\sqrt[4]{x} \\right)}}{x^{\\frac{3}{4}}}$"
      ],
      "text/plain": [
       "sin(x**(1/4))/x**(3/4)"
      ]
     },
     "execution_count": 192,
     "metadata": {},
     "output_type": "execute_result"
    }
   ],
   "source": [
    "e5 = sin(x**(Rational(1,4)))/x**(Rational(3,4))\n",
    "e5"
   ]
  },
  {
   "cell_type": "code",
   "execution_count": 193,
   "id": "97559f6c",
   "metadata": {},
   "outputs": [
    {
     "data": {
      "text/latex": [
       "$\\displaystyle - 4 \\cos{\\left(2 \\right)} + 4 \\cos{\\left(1 \\right)}$"
      ],
      "text/plain": [
       "-4*cos(2) + 4*cos(1)"
      ]
     },
     "execution_count": 193,
     "metadata": {},
     "output_type": "execute_result"
    }
   ],
   "source": [
    "e6 = Integral(e5,(x,1,16)).doit()\n",
    "e6"
   ]
  },
  {
   "cell_type": "code",
   "execution_count": 195,
   "id": "27023925",
   "metadata": {},
   "outputs": [
    {
     "name": "stdout",
     "output_type": "stream",
     "text": [
      "-4*cos(2) + 4*cos(1)\n"
     ]
    }
   ],
   "source": [
    "print(e6)"
   ]
  },
  {
   "cell_type": "code",
   "execution_count": 196,
   "id": "ce09543e",
   "metadata": {},
   "outputs": [
    {
     "data": {
      "text/html": [
       "<img src=\"https://i.imgur.com/IZerZus.png\"/>"
      ],
      "text/plain": [
       "<IPython.core.display.Image object>"
      ]
     },
     "execution_count": 196,
     "metadata": {},
     "output_type": "execute_result"
    }
   ],
   "source": [
    "Image(url= \"https://i.imgur.com/IZerZus.png\")"
   ]
  },
  {
   "cell_type": "code",
   "execution_count": 197,
   "id": "8a11079e",
   "metadata": {},
   "outputs": [
    {
     "data": {
      "text/html": [
       "<img src=\"https://i.imgur.com/0JLEO9z.png\"/>"
      ],
      "text/plain": [
       "<IPython.core.display.Image object>"
      ]
     },
     "execution_count": 197,
     "metadata": {},
     "output_type": "execute_result"
    }
   ],
   "source": [
    "Image(url= \"https://i.imgur.com/0JLEO9z.png\")"
   ]
  },
  {
   "cell_type": "code",
   "execution_count": 198,
   "id": "6673e291",
   "metadata": {},
   "outputs": [
    {
     "data": {
      "text/latex": [
       "$\\displaystyle \\frac{3 \\sin{\\left(x \\right)}}{\\cos^{2}{\\left(x \\right)}}$"
      ],
      "text/plain": [
       "3*sin(x)/cos(x)**2"
      ]
     },
     "execution_count": 198,
     "metadata": {},
     "output_type": "execute_result"
    }
   ],
   "source": [
    "e7 = 3*sin(x)/cos(x)**2\n",
    "e7"
   ]
  },
  {
   "cell_type": "code",
   "execution_count": 200,
   "id": "d08c51d9",
   "metadata": {},
   "outputs": [
    {
     "data": {
      "text/latex": [
       "$\\displaystyle \\int\\limits_{0}^{\\frac{\\pi}{3}} \\frac{3 \\sin{\\left(x \\right)}}{\\cos^{2}{\\left(x \\right)}}\\, dx$"
      ],
      "text/plain": [
       "Integral(3*sin(x)/cos(x)**2, (x, 0, pi/3))"
      ]
     },
     "execution_count": 200,
     "metadata": {},
     "output_type": "execute_result"
    }
   ],
   "source": [
    "Integral(e7,(x,0,pi/3))"
   ]
  },
  {
   "cell_type": "code",
   "execution_count": 201,
   "id": "c9006edd",
   "metadata": {},
   "outputs": [
    {
     "data": {
      "text/latex": [
       "$\\displaystyle 3$"
      ],
      "text/plain": [
       "3"
      ]
     },
     "execution_count": 201,
     "metadata": {},
     "output_type": "execute_result"
    }
   ],
   "source": [
    "Integral(e7,(x,0,pi/3)).doit()"
   ]
  },
  {
   "cell_type": "code",
   "execution_count": 202,
   "id": "b0077a3d",
   "metadata": {},
   "outputs": [
    {
     "data": {
      "text/html": [
       "<img src=\"https://i.imgur.com/ZN10AB4.png\"/>"
      ],
      "text/plain": [
       "<IPython.core.display.Image object>"
      ]
     },
     "execution_count": 202,
     "metadata": {},
     "output_type": "execute_result"
    }
   ],
   "source": [
    "Image(url= \"https://i.imgur.com/ZN10AB4.png\")"
   ]
  },
  {
   "cell_type": "code",
   "execution_count": 203,
   "id": "dca14863",
   "metadata": {},
   "outputs": [
    {
     "data": {
      "text/html": [
       "<img src=\"https://i.imgur.com/mb5y8z8.png\"/>"
      ],
      "text/plain": [
       "<IPython.core.display.Image object>"
      ]
     },
     "execution_count": 203,
     "metadata": {},
     "output_type": "execute_result"
    }
   ],
   "source": [
    "Image(url= \"https://i.imgur.com/mb5y8z8.png\")"
   ]
  },
  {
   "cell_type": "code",
   "execution_count": 204,
   "id": "642a68e2",
   "metadata": {},
   "outputs": [
    {
     "data": {
      "text/latex": [
       "$\\displaystyle \\int \\sqrt{14 - \\sin{\\left(8 x \\right)}} \\cos{\\left(8 x \\right)}\\, dx$"
      ],
      "text/plain": [
       "Integral(sqrt(14 - sin(8*x))*cos(8*x), x)"
      ]
     },
     "execution_count": 204,
     "metadata": {},
     "output_type": "execute_result"
    }
   ],
   "source": [
    "Integral(cos(8*x)*sqrt(14-sin(8*x)))"
   ]
  },
  {
   "cell_type": "code",
   "execution_count": 205,
   "id": "838cba6f",
   "metadata": {},
   "outputs": [
    {
     "name": "stdout",
     "output_type": "stream",
     "text": [
      "sqrt(14 - sin(8*x))*sin(8*x)/12 - 7*sqrt(14 - sin(8*x))/6\n"
     ]
    }
   ],
   "source": [
    "print(Integral(cos(8*x)*sqrt(14-sin(8*x))).doit())"
   ]
  },
  {
   "cell_type": "code",
   "execution_count": 206,
   "id": "9c7e1aed",
   "metadata": {},
   "outputs": [
    {
     "data": {
      "text/html": [
       "<img src=\"https://i.imgur.com/E2evsbD.png\"/>"
      ],
      "text/plain": [
       "<IPython.core.display.Image object>"
      ]
     },
     "execution_count": 206,
     "metadata": {},
     "output_type": "execute_result"
    }
   ],
   "source": [
    "Image(url= \"https://i.imgur.com/E2evsbD.png\")"
   ]
  },
  {
   "cell_type": "code",
   "execution_count": 207,
   "id": "11210004",
   "metadata": {},
   "outputs": [
    {
     "data": {
      "text/html": [
       "<img src=\"https://i.imgur.com/iFHeHfX.png\"/>"
      ],
      "text/plain": [
       "<IPython.core.display.Image object>"
      ]
     },
     "execution_count": 207,
     "metadata": {},
     "output_type": "execute_result"
    }
   ],
   "source": [
    "Image(url= \"https://i.imgur.com/iFHeHfX.png\")"
   ]
  },
  {
   "cell_type": "code",
   "execution_count": 242,
   "id": "7634733e",
   "metadata": {},
   "outputs": [
    {
     "data": {
      "text/latex": [
       "$\\displaystyle \\int\\limits_{1}^{4} \\frac{\\sqrt{1 + \\frac{1}{x^{4}}}}{x^{5}}\\, dx$"
      ],
      "text/plain": [
       "Integral(sqrt(1 + x**(-4))/x**5, (x, 1, 4))"
      ]
     },
     "execution_count": 242,
     "metadata": {},
     "output_type": "execute_result"
    }
   ],
   "source": [
    "Integral(1/x**5*sqrt(1+(1/x**4)),(x,1,4))"
   ]
  },
  {
   "cell_type": "code",
   "execution_count": 243,
   "id": "2e05dcf2",
   "metadata": {},
   "outputs": [
    {
     "name": "stdout",
     "output_type": "stream",
     "text": [
      "-257*sqrt(257)/24576 + sqrt(2)/3\n"
     ]
    }
   ],
   "source": [
    "print(Integral(1/x**5*sqrt(1+(1/x**4)),(x,1,4)).doit())"
   ]
  },
  {
   "cell_type": "code",
   "execution_count": 244,
   "id": "3e6c1c7f",
   "metadata": {},
   "outputs": [
    {
     "data": {
      "text/html": [
       "<img src=\"https://i.imgur.com/nceIFbp.png\"/>"
      ],
      "text/plain": [
       "<IPython.core.display.Image object>"
      ]
     },
     "execution_count": 244,
     "metadata": {},
     "output_type": "execute_result"
    }
   ],
   "source": [
    "Image(url= \"https://i.imgur.com/nceIFbp.png\")"
   ]
  },
  {
   "cell_type": "code",
   "execution_count": 245,
   "id": "5498d1d3",
   "metadata": {},
   "outputs": [
    {
     "data": {
      "text/html": [
       "<img src=\"https://i.imgur.com/NxrFbm7.png\"/>"
      ],
      "text/plain": [
       "<IPython.core.display.Image object>"
      ]
     },
     "execution_count": 245,
     "metadata": {},
     "output_type": "execute_result"
    }
   ],
   "source": [
    "Image(url= \"https://i.imgur.com/NxrFbm7.png\")"
   ]
  },
  {
   "cell_type": "code",
   "execution_count": 249,
   "id": "e27185d4",
   "metadata": {},
   "outputs": [
    {
     "data": {
      "text/latex": [
       "$\\displaystyle \\int\\limits_{0}^{1} x^{2} \\left(3 x^{3} + 1\\right)^{5}\\, dx$"
      ],
      "text/plain": [
       "Integral(x**2*(3*x**3 + 1)**5, (x, 0, 1))"
      ]
     },
     "execution_count": 249,
     "metadata": {},
     "output_type": "execute_result"
    }
   ],
   "source": [
    "Integral(x**2*(1+3*x**3)**5,(x,0,1))"
   ]
  },
  {
   "cell_type": "code",
   "execution_count": 251,
   "id": "c4744e4c",
   "metadata": {},
   "outputs": [
    {
     "name": "stdout",
     "output_type": "stream",
     "text": [
      "455/6\n"
     ]
    }
   ],
   "source": [
    "print(Integral(x**2*(1+3*x**3)**5,(x,0,1)).doit())"
   ]
  },
  {
   "cell_type": "code",
   "execution_count": 252,
   "id": "a5c472d2",
   "metadata": {},
   "outputs": [
    {
     "data": {
      "text/html": [
       "<img src=\"https://i.imgur.com/RXX2ruO.png\"/>"
      ],
      "text/plain": [
       "<IPython.core.display.Image object>"
      ]
     },
     "execution_count": 252,
     "metadata": {},
     "output_type": "execute_result"
    }
   ],
   "source": [
    "Image(url= \"https://i.imgur.com/RXX2ruO.png\")"
   ]
  },
  {
   "cell_type": "code",
   "execution_count": 253,
   "id": "811a3a49",
   "metadata": {},
   "outputs": [
    {
     "data": {
      "text/html": [
       "<img src=\"https://i.imgur.com/8u9zXhU.png\"/>"
      ],
      "text/plain": [
       "<IPython.core.display.Image object>"
      ]
     },
     "execution_count": 253,
     "metadata": {},
     "output_type": "execute_result"
    }
   ],
   "source": [
    "Image(url= \"https://i.imgur.com/8u9zXhU.png\")"
   ]
  },
  {
   "cell_type": "code",
   "execution_count": 256,
   "id": "c9c78d2d",
   "metadata": {},
   "outputs": [
    {
     "data": {
      "text/latex": [
       "$\\displaystyle \\int\\limits_{2}^{4} \\frac{4 x^{3}}{\\left(x^{4} + 1\\right)^{2}}\\, dx$"
      ],
      "text/plain": [
       "Integral(4*x**3/(x**4 + 1)**2, (x, 2, 4))"
      ]
     },
     "execution_count": 256,
     "metadata": {},
     "output_type": "execute_result"
    }
   ],
   "source": [
    "Integral((4*x**3)/(x**4+1)**2,(x,2,4))"
   ]
  },
  {
   "cell_type": "code",
   "execution_count": 257,
   "id": "df2c0352",
   "metadata": {},
   "outputs": [
    {
     "name": "stdout",
     "output_type": "stream",
     "text": [
      "240/4369\n"
     ]
    }
   ],
   "source": [
    "print(Integral((4*x**3)/(x**4+1)**2,(x,2,4)).doit())\n"
   ]
  },
  {
   "cell_type": "code",
   "execution_count": 258,
   "id": "047c860e",
   "metadata": {},
   "outputs": [
    {
     "data": {
      "text/html": [
       "<img src=\"https://i.imgur.com/pqFk6Hu.png\"/>"
      ],
      "text/plain": [
       "<IPython.core.display.Image object>"
      ]
     },
     "execution_count": 258,
     "metadata": {},
     "output_type": "execute_result"
    }
   ],
   "source": [
    "Image(url= \"https://i.imgur.com/pqFk6Hu.png\")"
   ]
  },
  {
   "cell_type": "code",
   "execution_count": 259,
   "id": "f8d7e570",
   "metadata": {},
   "outputs": [
    {
     "data": {
      "text/html": [
       "<img src=\"https://i.imgur.com/vFmjBoG.png\"/>"
      ],
      "text/plain": [
       "<IPython.core.display.Image object>"
      ]
     },
     "execution_count": 259,
     "metadata": {},
     "output_type": "execute_result"
    }
   ],
   "source": [
    "Image(url= \"https://i.imgur.com/vFmjBoG.png\")"
   ]
  },
  {
   "cell_type": "code",
   "execution_count": 261,
   "id": "92fd00f3",
   "metadata": {},
   "outputs": [
    {
     "data": {
      "text/latex": [
       "$\\displaystyle \\int y \\sqrt{y + 8}\\, dy$"
      ],
      "text/plain": [
       "Integral(y*sqrt(y + 8), y)"
      ]
     },
     "execution_count": 261,
     "metadata": {},
     "output_type": "execute_result"
    }
   ],
   "source": [
    "y = symbols('y')\n",
    "Integral(y*sqrt(y+8))"
   ]
  },
  {
   "cell_type": "code",
   "execution_count": 264,
   "id": "bf9d130c",
   "metadata": {},
   "outputs": [
    {
     "name": "stdout",
     "output_type": "stream",
     "text": [
      "2*y**2*sqrt(y + 8)/5 + 16*y*sqrt(y + 8)/15 - 256*sqrt(y + 8)/15\n"
     ]
    }
   ],
   "source": [
    "print(Integral(y*sqrt(y+8)).doit())"
   ]
  },
  {
   "cell_type": "code",
   "execution_count": 265,
   "id": "035592f8",
   "metadata": {},
   "outputs": [
    {
     "data": {
      "text/html": [
       "<img src=\"https://i.imgur.com/Ef9IGex.png\"/>"
      ],
      "text/plain": [
       "<IPython.core.display.Image object>"
      ]
     },
     "execution_count": 265,
     "metadata": {},
     "output_type": "execute_result"
    }
   ],
   "source": [
    "Image(url= \"https://i.imgur.com/Ef9IGex.png\")"
   ]
  },
  {
   "cell_type": "code",
   "execution_count": 266,
   "id": "709c847b",
   "metadata": {},
   "outputs": [
    {
     "data": {
      "text/html": [
       "<img src=\"https://i.imgur.com/iniy2ix.png\"/>"
      ],
      "text/plain": [
       "<IPython.core.display.Image object>"
      ]
     },
     "execution_count": 266,
     "metadata": {},
     "output_type": "execute_result"
    }
   ],
   "source": [
    "Image(url= \"https://i.imgur.com/iniy2ix.png\")"
   ]
  },
  {
   "cell_type": "code",
   "execution_count": 277,
   "id": "106a7877",
   "metadata": {},
   "outputs": [
    {
     "data": {
      "text/latex": [
       "$\\displaystyle \\frac{12}{\\left(4 x - 7\\right)^{2}}$"
      ],
      "text/plain": [
       "12/(4*x - 7)**2"
      ]
     },
     "execution_count": 277,
     "metadata": {},
     "output_type": "execute_result"
    }
   ],
   "source": [
    "f = 12/(4*x-7)**2\n",
    "f"
   ]
  },
  {
   "cell_type": "code",
   "execution_count": 356,
   "id": "3fb2f0d6",
   "metadata": {},
   "outputs": [
    {
     "data": {
      "text/latex": [
       "$\\displaystyle c + \\int\\limits^{2} \\frac{12}{\\left(4 x - 7\\right)^{2}}\\, dx = -6$"
      ],
      "text/plain": [
       "Eq(c + Integral(12/(4*x - 7)**2, (x, 2)), -6)"
      ]
     },
     "execution_count": 356,
     "metadata": {},
     "output_type": "execute_result"
    }
   ],
   "source": [
    "g = Integral(f)\n",
    "c = symbols('c')\n",
    "Eq(g.subs(x,2)+c,-6)"
   ]
  },
  {
   "cell_type": "code",
   "execution_count": 357,
   "id": "913ff6de",
   "metadata": {},
   "outputs": [
    {
     "data": {
      "text/plain": [
       "[-3]"
      ]
     },
     "execution_count": 357,
     "metadata": {},
     "output_type": "execute_result"
    }
   ],
   "source": [
    "solve(Eq(g.subs(x,2)+c,-6),c)"
   ]
  },
  {
   "cell_type": "code",
   "execution_count": 361,
   "id": "fdf5e586",
   "metadata": {},
   "outputs": [
    {
     "name": "stdout",
     "output_type": "stream",
     "text": [
      "-3 - 12/(16*x - 28)\n"
     ]
    }
   ],
   "source": [
    "print(g.doit()-3)"
   ]
  },
  {
   "cell_type": "code",
   "execution_count": 362,
   "id": "73d261cc",
   "metadata": {},
   "outputs": [
    {
     "data": {
      "text/html": [
       "<img src=\"https://i.imgur.com/K2tpqzf.png\"/>"
      ],
      "text/plain": [
       "<IPython.core.display.Image object>"
      ]
     },
     "execution_count": 362,
     "metadata": {},
     "output_type": "execute_result"
    }
   ],
   "source": [
    "Image(url= \"https://i.imgur.com/K2tpqzf.png\")"
   ]
  }
 ],
 "metadata": {
  "kernelspec": {
   "display_name": "Python 3 (ipykernel)",
   "language": "python",
   "name": "python3"
  },
  "language_info": {
   "codemirror_mode": {
    "name": "ipython",
    "version": 3
   },
   "file_extension": ".py",
   "mimetype": "text/x-python",
   "name": "python",
   "nbconvert_exporter": "python",
   "pygments_lexer": "ipython3",
   "version": "3.9.6"
  }
 },
 "nbformat": 4,
 "nbformat_minor": 5
}
