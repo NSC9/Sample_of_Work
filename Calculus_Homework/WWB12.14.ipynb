{
 "cells": [
  {
   "cell_type": "code",
   "execution_count": 112,
   "id": "3571a7c5",
   "metadata": {},
   "outputs": [
    {
     "data": {
      "text/html": [
       "<img src=\"https://i.imgur.com/eCBwLMi.png\"/>"
      ],
      "text/plain": [
       "<IPython.core.display.Image object>"
      ]
     },
     "execution_count": 112,
     "metadata": {},
     "output_type": "execute_result"
    }
   ],
   "source": [
    "from IPython.display import Image\n",
    "from IPython.core.display import HTML \n",
    "from sympy import *; x,h,y,n,t = symbols(\"x h y n t\"); C, D = symbols(\"C D\", real=True)\n",
    "Image(url= \"https://i.imgur.com/eCBwLMi.png\")"
   ]
  },
  {
   "cell_type": "code",
   "execution_count": 113,
   "id": "e35f1deb",
   "metadata": {},
   "outputs": [
    {
     "data": {
      "text/latex": [
       "$\\displaystyle \\int \\left(- 8 \\sin{\\left(t \\right)} + 7 \\cos{\\left(t \\right)}\\right)\\, dt$"
      ],
      "text/plain": [
       "Integral(-8*sin(t) + 7*cos(t), t)"
      ]
     },
     "execution_count": 113,
     "metadata": {},
     "output_type": "execute_result"
    }
   ],
   "source": [
    "expr = Integral(7*cos(t) - 8*sin(t), t) \n",
    "expr"
   ]
  },
  {
   "cell_type": "code",
   "execution_count": 120,
   "id": "bd7588e6",
   "metadata": {},
   "outputs": [
    {
     "name": "stdout",
     "output_type": "stream",
     "text": [
      "7*sin(t) + 8*cos(t)                       Do not forget to add a constant C to final answer\n"
     ]
    }
   ],
   "source": [
    "expr2 = expr.doit()\n",
    "print(expr2, \"                      Do not forget to add a constant C to final answer\")"
   ]
  },
  {
   "cell_type": "code",
   "execution_count": 116,
   "id": "a30d2993",
   "metadata": {},
   "outputs": [
    {
     "data": {
      "text/html": [
       "<img src=\"https://i.imgur.com/kIo1SdC.png\"/>"
      ],
      "text/plain": [
       "<IPython.core.display.Image object>"
      ]
     },
     "execution_count": 116,
     "metadata": {},
     "output_type": "execute_result"
    }
   ],
   "source": [
    "Image(url= \"https://i.imgur.com/kIo1SdC.png\")"
   ]
  }
 ],
 "metadata": {
  "kernelspec": {
   "display_name": "Python 3 (ipykernel)",
   "language": "python",
   "name": "python3"
  },
  "language_info": {
   "codemirror_mode": {
    "name": "ipython",
    "version": 3
   },
   "file_extension": ".py",
   "mimetype": "text/x-python",
   "name": "python",
   "nbconvert_exporter": "python",
   "pygments_lexer": "ipython3",
   "version": "3.9.6"
  }
 },
 "nbformat": 4,
 "nbformat_minor": 5
}
