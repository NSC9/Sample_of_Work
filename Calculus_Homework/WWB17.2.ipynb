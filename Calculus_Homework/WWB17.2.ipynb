{
 "cells": [
  {
   "cell_type": "code",
   "execution_count": 1,
   "id": "3571a7c5",
   "metadata": {
    "scrolled": false
   },
   "outputs": [
    {
     "data": {
      "text/html": [
       "<img src=\"https://i.imgur.com/mlreXuN.png\"/>"
      ],
      "text/plain": [
       "<IPython.core.display.Image object>"
      ]
     },
     "execution_count": 1,
     "metadata": {},
     "output_type": "execute_result"
    }
   ],
   "source": [
    "from IPython.display import Image\n",
    "from IPython.core.display import HTML \n",
    "from sympy import *\n",
    "Image(url= \"https://i.imgur.com/mlreXuN.png\")"
   ]
  },
  {
   "cell_type": "code",
   "execution_count": 3,
   "id": "25011006",
   "metadata": {},
   "outputs": [
    {
     "data": {
      "text/html": [
       "<img src=\"https://i.imgur.com/ZspIgwo.png\"/>"
      ],
      "text/plain": [
       "<IPython.core.display.Image object>"
      ]
     },
     "execution_count": 3,
     "metadata": {},
     "output_type": "execute_result"
    }
   ],
   "source": [
    "Image(url= \"https://i.imgur.com/ZspIgwo.png\")\n",
    "#https://www.albert.io/blog/how-to-use-the-midpoint-rule-in-ap-calculus/"
   ]
  },
  {
   "cell_type": "code",
   "execution_count": 13,
   "id": "28cf33c2",
   "metadata": {},
   "outputs": [
    {
     "name": "stdout",
     "output_type": "stream",
     "text": [
      "24.0\n",
      "i = 1\n",
      "      \n",
      "21.0\n",
      "i = 2\n",
      "      \n",
      "16.0\n",
      "i = 3\n",
      "      \n",
      "9.0\n",
      "i = 4\n",
      "      \n",
      "0.0\n",
      "i = 5\n",
      "      \n",
      "total =  70.0\n"
     ]
    }
   ],
   "source": [
    "x,a,b,n = symbols('x a b n')\n",
    "\n",
    "f = lambda x: 25- x**2\n",
    "a  = 0\n",
    "b = 5\n",
    "n = 5\n",
    "dx = (b-a)/n\n",
    "mylist = []\n",
    "\n",
    "#right hand sum\n",
    "for i in range(1,6):\n",
    "    g = f(i)* dx\n",
    "\n",
    "    print(g)\n",
    "    print('i =',i)\n",
    "    print('      ')\n",
    "    mylist.append(g)\n",
    "\n",
    "print(\"total = \",sum(mylist[0:10]))"
   ]
  },
  {
   "cell_type": "code",
   "execution_count": 14,
   "id": "32057548",
   "metadata": {},
   "outputs": [
    {
     "name": "stdout",
     "output_type": "stream",
     "text": [
      "25.0\n",
      "i = 0\n",
      "      \n",
      "24.0\n",
      "i = 1\n",
      "      \n",
      "21.0\n",
      "i = 2\n",
      "      \n",
      "16.0\n",
      "i = 3\n",
      "      \n",
      "9.0\n",
      "i = 4\n",
      "      \n",
      "total =  95.0\n"
     ]
    }
   ],
   "source": [
    "x,a,b,n = symbols('x a b n')\n",
    "\n",
    "f = lambda x: 25- x**2\n",
    "a  = 0\n",
    "b = 5\n",
    "n = 5\n",
    "dx = (b-a)/n\n",
    "mylist = []\n",
    "\n",
    "#left hand sum\n",
    "for i in range(0,5):\n",
    "    g = f(i)* dx\n",
    "\n",
    "    print(g)\n",
    "    print('i =',i)\n",
    "    print('      ')\n",
    "    mylist.append(g)\n",
    "\n",
    "print(\"total = \",sum(mylist[0:10]))"
   ]
  },
  {
   "cell_type": "code",
   "execution_count": 15,
   "id": "3cd4430c",
   "metadata": {},
   "outputs": [
    {
     "data": {
      "image/png": "[encoded data removed]",
      "text/plain": [
       "<Figure size 432x288 with 1 Axes>"
      ]
     },
     "metadata": {
      "needs_background": "light"
     },
     "output_type": "display_data"
    },
    {
     "data": {
      "text/plain": [
       "<sympy.plotting.plot.Plot at 0x1f207b05cd0>"
      ]
     },
     "execution_count": 15,
     "metadata": {},
     "output_type": "execute_result"
    }
   ],
   "source": [
    "plot(f(x))"
   ]
  },
  {
   "cell_type": "code",
   "execution_count": 16,
   "id": "72c15bbd",
   "metadata": {},
   "outputs": [
    {
     "data": {
      "text/html": [
       "<img src=\"https://i.imgur.com/UZzymrR.png\"/>"
      ],
      "text/plain": [
       "<IPython.core.display.Image object>"
      ]
     },
     "execution_count": 16,
     "metadata": {},
     "output_type": "execute_result"
    }
   ],
   "source": [
    "Image(url= \"https://i.imgur.com/UZzymrR.png\")"
   ]
  }
 ],
 "metadata": {
  "kernelspec": {
   "display_name": "Python 3 (ipykernel)",
   "language": "python",
   "name": "python3"
  },
  "language_info": {
   "codemirror_mode": {
    "name": "ipython",
    "version": 3
   },
   "file_extension": ".py",
   "mimetype": "text/x-python",
   "name": "python",
   "nbconvert_exporter": "python",
   "pygments_lexer": "ipython3",
   "version": "3.9.6"
  }
 },
 "nbformat": 4,
 "nbformat_minor": 5
}
