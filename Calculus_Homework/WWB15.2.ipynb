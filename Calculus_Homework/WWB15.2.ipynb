{
 "cells": [
  {
   "cell_type": "code",
   "execution_count": 1,
   "metadata": {
    "scrolled": false
   },
   "outputs": [
    {
     "data": {
      "text/html": [
       "<img src=\"https://i.imgur.com/auyZwus.png\"/>"
      ],
      "text/plain": [
       "<IPython.core.display.Image object>"
      ]
     },
     "execution_count": 1,
     "metadata": {},
     "output_type": "execute_result"
    }
   ],
   "source": [
    "from IPython.display import Image\n",
    "from IPython.core.display import HTML \n",
    "from sympy import *; x,h,y,t,w = symbols(\"x h y t w\"); A = Function(\"A\")\n",
    "Image(url= \"https://i.imgur.com/auyZwus.png\")"
   ]
  },
  {
   "cell_type": "code",
   "execution_count": 2,
   "metadata": {
    "scrolled": true
   },
   "outputs": [
    {
     "data": {
      "text/latex": [
       "$\\displaystyle L{\\left(x \\right)}$"
      ],
      "text/plain": [
       "L(x)"
      ]
     },
     "execution_count": 2,
     "metadata": {},
     "output_type": "execute_result"
    }
   ],
   "source": [
    "L  = Function(\"L\")\n",
    "f = Function(\"f\")\n",
    "x,a = symbols('x a')\n",
    "L(x)"
   ]
  },
  {
   "cell_type": "code",
   "execution_count": 3,
   "metadata": {},
   "outputs": [
    {
     "data": {
      "text/latex": [
       "$\\displaystyle L{\\left(x \\right)} = \\left(- a + x\\right) \\frac{d}{d a} f{\\left(a \\right)} + f{\\left(a \\right)}$"
      ],
      "text/plain": [
       "Eq(L(x), (-a + x)*Derivative(f(a), a) + f(a))"
      ]
     },
     "execution_count": 3,
     "metadata": {},
     "output_type": "execute_result"
    }
   ],
   "source": [
    "Eq(L(x) , f(a) + diff(f(a),a)*(x-a))"
   ]
  },
  {
   "cell_type": "code",
   "execution_count": 4,
   "metadata": {},
   "outputs": [
    {
     "data": {
      "text/latex": [
       "$\\displaystyle f{\\left(x \\right)} = x^{4} - x^{2} + 2$"
      ],
      "text/plain": [
       "Eq(f(x), x**4 - x**2 + 2)"
      ]
     },
     "execution_count": 4,
     "metadata": {},
     "output_type": "execute_result"
    }
   ],
   "source": [
    "expr = x**4 - x**2 +2\n",
    "Eq(f(x), expr)"
   ]
  },
  {
   "cell_type": "code",
   "execution_count": 5,
   "metadata": {},
   "outputs": [
    {
     "data": {
      "text/latex": [
       "$\\displaystyle f{\\left(1 \\right)} = 2$"
      ],
      "text/plain": [
       "Eq(f(1), 2)"
      ]
     },
     "execution_count": 5,
     "metadata": {},
     "output_type": "execute_result"
    }
   ],
   "source": [
    "x1 = 1\n",
    "Eq(f(x), expr).subs(x,x1)"
   ]
  },
  {
   "cell_type": "code",
   "execution_count": 6,
   "metadata": {},
   "outputs": [],
   "source": [
    "fa = 2        # f(a) \n",
    "f = lambdify(x, expr, \"math\")\n",
    "df = diff(f(x),x)"
   ]
  },
  {
   "cell_type": "code",
   "execution_count": 7,
   "metadata": {},
   "outputs": [
    {
     "data": {
      "text/latex": [
       "$\\displaystyle \\left. \\frac{d}{d x} \\left(x^{4} - x^{2} + 2\\right) \\right|_{\\substack{ x=1 }} = 2$"
      ],
      "text/plain": [
       "Eq(Subs(Derivative(x**4 - x**2 + 2, x), x, 1), 2)"
      ]
     },
     "execution_count": 7,
     "metadata": {},
     "output_type": "execute_result"
    }
   ],
   "source": [
    "Eq(Derivative(f(x)),df).subs(x,x1)"
   ]
  },
  {
   "cell_type": "code",
   "execution_count": 9,
   "metadata": {},
   "outputs": [
    {
     "data": {
      "text/latex": [
       "$\\displaystyle L{\\left(x \\right)} = 2 x$"
      ],
      "text/plain": [
       "Eq(L(x), 2*x)"
      ]
     },
     "execution_count": 9,
     "metadata": {},
     "output_type": "execute_result"
    }
   ],
   "source": [
    "dfa= df.subs(x,x1)\n",
    "Eq(L(x) , fa+ dfa*(x-x1))"
   ]
  },
  {
   "cell_type": "code",
   "execution_count": 10,
   "metadata": {},
   "outputs": [
    {
     "data": {
      "text/html": [
       "<img src=\"https://i.imgur.com/dYuwIib.png\"/>"
      ],
      "text/plain": [
       "<IPython.core.display.Image object>"
      ]
     },
     "execution_count": 10,
     "metadata": {},
     "output_type": "execute_result"
    }
   ],
   "source": [
    "Image(url= \"https://i.imgur.com/dYuwIib.png\")"
   ]
  }
 ],
 "metadata": {
  "kernelspec": {
   "display_name": "Python 3",
   "language": "python",
   "name": "python3"
  },
  "language_info": {
   "codemirror_mode": {
    "name": "ipython",
    "version": 3
   },
   "file_extension": ".py",
   "mimetype": "text/x-python",
   "name": "python",
   "nbconvert_exporter": "python",
   "pygments_lexer": "ipython3",
   "version": "3.8.10"
  }
 },
 "nbformat": 4,
 "nbformat_minor": 5
}
