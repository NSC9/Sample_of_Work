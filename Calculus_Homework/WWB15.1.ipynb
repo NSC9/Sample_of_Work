{
 "cells": [
  {
   "cell_type": "code",
   "execution_count": 1,
   "id": "3571a7c5",
   "metadata": {
    "scrolled": true
   },
   "outputs": [
    {
     "data": {
      "text/html": [
       "<img src=\"https://i.imgur.com/fP6ard7.png\"/>"
      ],
      "text/plain": [
       "<IPython.core.display.Image object>"
      ]
     },
     "execution_count": 1,
     "metadata": {},
     "output_type": "execute_result"
    }
   ],
   "source": [
    "from IPython.display import Image\n",
    "from IPython.core.display import HTML \n",
    "from sympy import *\n",
    "Image(url= \"https://i.imgur.com/fP6ard7.png\")"
   ]
  },
  {
   "cell_type": "code",
   "execution_count": 2,
   "id": "2324373d",
   "metadata": {},
   "outputs": [
    {
     "data": {
      "text/latex": [
       "$\\displaystyle L{\\left(x \\right)}$"
      ],
      "text/plain": [
       "L(x)"
      ]
     },
     "execution_count": 2,
     "metadata": {},
     "output_type": "execute_result"
    }
   ],
   "source": [
    "L  = Function(\"L\")\n",
    "f = Function(\"f\")\n",
    "x,a = symbols('x a')\n",
    "L(x)"
   ]
  },
  {
   "cell_type": "code",
   "execution_count": 3,
   "id": "dbcad1aa",
   "metadata": {},
   "outputs": [
    {
     "data": {
      "text/latex": [
       "$\\displaystyle L{\\left(x \\right)} = \\left(- a + x\\right) \\frac{d}{d a} f{\\left(a \\right)} + f{\\left(a \\right)}$"
      ],
      "text/plain": [
       "Eq(L(x), (-a + x)*Derivative(f(a), a) + f(a))"
      ]
     },
     "execution_count": 3,
     "metadata": {},
     "output_type": "execute_result"
    }
   ],
   "source": [
    "Eq(L(x) , f(a) + diff(f(a),a)*(x-a))"
   ]
  },
  {
   "cell_type": "code",
   "execution_count": 4,
   "id": "45dc67b8",
   "metadata": {},
   "outputs": [
    {
     "data": {
      "text/latex": [
       "$\\displaystyle f{\\left(x \\right)} = x^{\\frac{3}{4}}$"
      ],
      "text/plain": [
       "Eq(f(x), x**(3/4))"
      ]
     },
     "execution_count": 4,
     "metadata": {},
     "output_type": "execute_result"
    }
   ],
   "source": [
    "Eq(f(x), x**Rational(3/4))"
   ]
  },
  {
   "cell_type": "code",
   "execution_count": 5,
   "id": "974f9685",
   "metadata": {},
   "outputs": [
    {
     "data": {
      "text/latex": [
       "$\\displaystyle f{\\left(16 \\right)} = 8$"
      ],
      "text/plain": [
       "Eq(f(16), 8)"
      ]
     },
     "execution_count": 5,
     "metadata": {},
     "output_type": "execute_result"
    }
   ],
   "source": [
    "Eq(f(x), x**Rational(3/4)).subs(x,16)  "
   ]
  },
  {
   "cell_type": "code",
   "execution_count": 11,
   "id": "257b5a58",
   "metadata": {},
   "outputs": [],
   "source": [
    "fa = 8        # f(a) = 8\n",
    "f = lambdify(x, x**Rational(3/4), \"math\")\n",
    "df = diff(f(x),x)"
   ]
  },
  {
   "cell_type": "code",
   "execution_count": 12,
   "id": "1dba2664",
   "metadata": {},
   "outputs": [
    {
     "data": {
      "text/latex": [
       "$\\displaystyle \\left. \\frac{d}{d x} x^{0.75} \\right|_{\\substack{ x=16 }} = 0.375$"
      ],
      "text/plain": [
       "Eq(Subs(Derivative(x**0.75, x), x, 16), 0.375)"
      ]
     },
     "execution_count": 12,
     "metadata": {},
     "output_type": "execute_result"
    }
   ],
   "source": [
    "Eq(Derivative(f(x)),df).subs(x,16)"
   ]
  },
  {
   "cell_type": "code",
   "execution_count": 13,
   "id": "9e10d608",
   "metadata": {},
   "outputs": [
    {
     "data": {
      "text/latex": [
       "$\\displaystyle L{\\left(x \\right)} = 0.375 x + 2.0$"
      ],
      "text/plain": [
       "Eq(L(x), 0.375*x + 2.0)"
      ]
     },
     "execution_count": 13,
     "metadata": {},
     "output_type": "execute_result"
    }
   ],
   "source": [
    "a = 16\n",
    "dfa= df.subs(x,16)\n",
    "Eq(L(x) , fa+ dfa*(x-a))"
   ]
  },
  {
   "cell_type": "code",
   "execution_count": 14,
   "id": "9797306b",
   "metadata": {},
   "outputs": [
    {
     "data": {
      "text/html": [
       "<img src=\"https://i.imgur.com/BesUBIc.png\"/>"
      ],
      "text/plain": [
       "<IPython.core.display.Image object>"
      ]
     },
     "execution_count": 14,
     "metadata": {},
     "output_type": "execute_result"
    }
   ],
   "source": [
    "Image(url= \"https://i.imgur.com/BesUBIc.png\")"
   ]
  }
 ],
 "metadata": {
  "kernelspec": {
   "display_name": "Python 3 (ipykernel)",
   "language": "python",
   "name": "python3"
  },
  "language_info": {
   "codemirror_mode": {
    "name": "ipython",
    "version": 3
   },
   "file_extension": ".py",
   "mimetype": "text/x-python",
   "name": "python",
   "nbconvert_exporter": "python",
   "pygments_lexer": "ipython3",
   "version": "3.9.6"
  }
 },
 "nbformat": 4,
 "nbformat_minor": 5
}
