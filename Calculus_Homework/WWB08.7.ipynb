{
 "cells": [
  {
   "cell_type": "code",
   "execution_count": 1,
   "id": "a91313e1",
   "metadata": {},
   "outputs": [
    {
     "data": {
      "text/html": [
       "<img src=\"https://i.imgur.com/ehWy2jK.png\"/>"
      ],
      "text/plain": [
       "<IPython.core.display.Image object>"
      ]
     },
     "execution_count": 1,
     "metadata": {},
     "output_type": "execute_result"
    }
   ],
   "source": [
    "from IPython.display import Image\n",
    "from IPython.core.display import HTML \n",
    "Image(url= \"https://i.imgur.com/ehWy2jK.png\")"
   ]
  },
  {
   "cell_type": "code",
   "execution_count": 2,
   "id": "a1a9a3f9",
   "metadata": {},
   "outputs": [],
   "source": [
    "from sympy import *; x = symbols('x')"
   ]
  },
  {
   "cell_type": "code",
   "execution_count": 14,
   "id": "81691ebe",
   "metadata": {},
   "outputs": [
    {
     "name": "stdout",
     "output_type": "stream",
     "text": [
      "T(x) =\n"
     ]
    },
    {
     "data": {
      "text/latex": [
       "$\\displaystyle x^{2} \\left(1 - 0.5 x\\right)$"
      ],
      "text/plain": [
       "x**2*(1 - 0.5*x)"
      ]
     },
     "execution_count": 14,
     "metadata": {},
     "output_type": "execute_result"
    }
   ],
   "source": [
    "# a good first step is to write down the expressions\n",
    "expr0 = (x**2)*(1-(x/2))\n",
    "T = lambdify(x,expr0, 'numpy')\n",
    "# f = lambdify(x, expr, 'numpy')\n",
    "print(\"T(x) =\");T(x)"
   ]
  },
  {
   "cell_type": "code",
   "execution_count": 6,
   "id": "6321ed39",
   "metadata": {},
   "outputs": [],
   "source": [
    "lambdify??"
   ]
  },
  {
   "cell_type": "code",
   "execution_count": 15,
   "id": "e0f68195",
   "metadata": {},
   "outputs": [
    {
     "data": {
      "text/latex": [
       "$\\displaystyle - 0.5 x^{2} + 2 x \\left(1 - 0.5 x\\right)$"
      ],
      "text/plain": [
       "-0.5*x**2 + 2*x*(1 - 0.5*x)"
      ]
     },
     "execution_count": 15,
     "metadata": {},
     "output_type": "execute_result"
    }
   ],
   "source": [
    "#Question wants derivatives\n",
    "#let us try diff() and if that fails we will try limit(difference_quotient)\n",
    "diff(T(x))"
   ]
  },
  {
   "cell_type": "code",
   "execution_count": 18,
   "id": "878a8361",
   "metadata": {},
   "outputs": [],
   "source": [
    "# What if we took our T(x) and just plugged in 1"
   ]
  },
  {
   "cell_type": "code",
   "execution_count": 19,
   "id": "1cc6376c",
   "metadata": {},
   "outputs": [
    {
     "data": {
      "text/plain": [
       "0.5"
      ]
     },
     "execution_count": 19,
     "metadata": {},
     "output_type": "execute_result"
    }
   ],
   "source": [
    "#T(1)"
   ]
  },
  {
   "cell_type": "code",
   "execution_count": 21,
   "id": "43aae673",
   "metadata": {},
   "outputs": [],
   "source": [
    "h = symbols('h')\n",
    "expr1  = ( T(x+h)-T(x) ) / h\n",
    "G = lambdify(x,expr1, 'numpy')"
   ]
  },
  {
   "cell_type": "code",
   "execution_count": 23,
   "id": "14973677",
   "metadata": {},
   "outputs": [
    {
     "data": {
      "text/latex": [
       "$\\displaystyle x \\left(2.0 - 1.5 x\\right)$"
      ],
      "text/plain": [
       "x*(2.0 - 1.5*x)"
      ]
     },
     "execution_count": 23,
     "metadata": {},
     "output_type": "execute_result"
    }
   ],
   "source": [
    "limit(G(x),h,0)"
   ]
  },
  {
   "cell_type": "code",
   "execution_count": 24,
   "id": "eba6d2d6",
   "metadata": {},
   "outputs": [
    {
     "data": {
      "text/latex": [
       "$\\displaystyle 0.5$"
      ],
      "text/plain": [
       "0.500000000000000"
      ]
     },
     "execution_count": 24,
     "metadata": {},
     "output_type": "execute_result"
    }
   ],
   "source": [
    "limit(G(x),h,0).subs(x,1)"
   ]
  },
  {
   "cell_type": "code",
   "execution_count": 25,
   "id": "229e1645",
   "metadata": {},
   "outputs": [
    {
     "data": {
      "text/latex": [
       "$\\displaystyle -7.5$"
      ],
      "text/plain": [
       "-7.50000000000000"
      ]
     },
     "execution_count": 25,
     "metadata": {},
     "output_type": "execute_result"
    }
   ],
   "source": [
    "limit(G(x),h,0).subs(x,3)"
   ]
  },
  {
   "cell_type": "code",
   "execution_count": 27,
   "id": "427357fe",
   "metadata": {},
   "outputs": [
    {
     "data": {
      "text/latex": [
       "$\\displaystyle -42.0$"
      ],
      "text/plain": [
       "-42.0000000000000"
      ]
     },
     "execution_count": 27,
     "metadata": {},
     "output_type": "execute_result"
    }
   ],
   "source": [
    "limit(G(x),h,0).subs(x,6)"
   ]
  },
  {
   "cell_type": "code",
   "execution_count": 28,
   "id": "a6df0365",
   "metadata": {},
   "outputs": [
    {
     "data": {
      "text/html": [
       "<img src=\"https://i.imgur.com/5Sw09wi.png\"/>"
      ],
      "text/plain": [
       "<IPython.core.display.Image object>"
      ]
     },
     "execution_count": 28,
     "metadata": {},
     "output_type": "execute_result"
    }
   ],
   "source": [
    "Image(url= \"https://i.imgur.com/5Sw09wi.png\")"
   ]
  },
  {
   "cell_type": "code",
   "execution_count": null,
   "id": "8ca8b6cf",
   "metadata": {},
   "outputs": [],
   "source": []
  }
 ],
 "metadata": {
  "kernelspec": {
   "display_name": "Python 3 (ipykernel)",
   "language": "python",
   "name": "python3"
  },
  "language_info": {
   "codemirror_mode": {
    "name": "ipython",
    "version": 3
   },
   "file_extension": ".py",
   "mimetype": "text/x-python",
   "name": "python",
   "nbconvert_exporter": "python",
   "pygments_lexer": "ipython3",
   "version": "3.9.6"
  }
 },
 "nbformat": 4,
 "nbformat_minor": 5
}
