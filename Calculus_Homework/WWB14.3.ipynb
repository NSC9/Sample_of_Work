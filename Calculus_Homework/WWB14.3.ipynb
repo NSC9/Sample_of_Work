{
 "cells": [
  {
   "cell_type": "code",
   "execution_count": 56,
   "id": "3571a7c5",
   "metadata": {
    "scrolled": true
   },
   "outputs": [
    {
     "data": {
      "text/html": [
       "<img src=\"https://i.imgur.com/iU00Tki.png\"/>"
      ],
      "text/plain": [
       "<IPython.core.display.Image object>"
      ]
     },
     "execution_count": 56,
     "metadata": {},
     "output_type": "execute_result"
    }
   ],
   "source": [
    "# https://www.khanacademy.org/math/ap-calculus-ab/ab-diff-analytical-applications-new/ab-5-11/v/minimizing-the-cost-of-a-storage-container\n",
    "from IPython.display import Image\n",
    "from IPython.core.display import HTML \n",
    "from sympy import *; x,h,y,n,t,d,c   = symbols(\"x h y n t d c\"); C, D = symbols(\"C D\", real=True)\n",
    "Image(url= \"https://i.imgur.com/iU00Tki.png\")"
   ]
  },
  {
   "cell_type": "code",
   "execution_count": 190,
   "id": "54f8dce1",
   "metadata": {},
   "outputs": [
    {
     "data": {
      "text/latex": [
       "$\\displaystyle 20 x^{2}$"
      ],
      "text/plain": [
       "20*x**2"
      ]
     },
     "execution_count": 190,
     "metadata": {},
     "output_type": "execute_result"
    }
   ],
   "source": [
    "cost_of_base = 10*x*(2*x)\n",
    "cb = cost_of_base\n",
    "cb"
   ]
  },
  {
   "cell_type": "code",
   "execution_count": 191,
   "id": "ba28bd0a",
   "metadata": {},
   "outputs": [
    {
     "data": {
      "text/latex": [
       "$\\displaystyle 10 h x$"
      ],
      "text/plain": [
       "10*h*x"
      ]
     },
     "execution_count": 191,
     "metadata": {},
     "output_type": "execute_result"
    }
   ],
   "source": [
    "cost_of_side_pair0 = 2*5*x*h \n",
    "cs0 = cost_of_side_pair0\n",
    "cs0"
   ]
  },
  {
   "cell_type": "code",
   "execution_count": 192,
   "id": "56086a9d",
   "metadata": {},
   "outputs": [
    {
     "data": {
      "text/latex": [
       "$\\displaystyle 20 h x$"
      ],
      "text/plain": [
       "20*h*x"
      ]
     },
     "execution_count": 192,
     "metadata": {},
     "output_type": "execute_result"
    }
   ],
   "source": [
    "cost_of_side_pair1 = 2*5*2*x*h\n",
    "cs1 = cost_of_side_pair1\n",
    "cs1"
   ]
  },
  {
   "cell_type": "code",
   "execution_count": 193,
   "id": "989b9a98",
   "metadata": {},
   "outputs": [
    {
     "data": {
      "text/latex": [
       "$\\displaystyle 30 h x + 20 x^{2}$"
      ],
      "text/plain": [
       "30*h*x + 20*x**2"
      ]
     },
     "execution_count": 193,
     "metadata": {},
     "output_type": "execute_result"
    }
   ],
   "source": [
    "total_cost = cb + cs0 + cs1\n",
    "tc = total_cost\n",
    "tc"
   ]
  },
  {
   "cell_type": "code",
   "execution_count": 194,
   "id": "c6f4b4e9",
   "metadata": {},
   "outputs": [],
   "source": [
    "# now lets optimize this in respect to x"
   ]
  },
  {
   "cell_type": "code",
   "execution_count": 195,
   "id": "55a49282",
   "metadata": {},
   "outputs": [
    {
     "data": {
      "text/latex": [
       "$\\displaystyle 2 h x^{2} = 16$"
      ],
      "text/plain": [
       "Eq(2*h*x**2, 16)"
      ]
     },
     "execution_count": 195,
     "metadata": {},
     "output_type": "execute_result"
    }
   ],
   "source": [
    "Eq(x*2*x*h,16)"
   ]
  },
  {
   "cell_type": "code",
   "execution_count": 176,
   "id": "b5d44282",
   "metadata": {},
   "outputs": [
    {
     "data": {
      "text/plain": [
       "[8/x**2]"
      ]
     },
     "execution_count": 176,
     "metadata": {},
     "output_type": "execute_result"
    }
   ],
   "source": [
    "# to make Eq(x*2*x*h,10) a function of h(x) then solve for h\n",
    "solve(Eq(x*2*x*h,16),h)"
   ]
  },
  {
   "cell_type": "code",
   "execution_count": 196,
   "id": "d9c45357",
   "metadata": {},
   "outputs": [
    {
     "data": {
      "text/latex": [
       "$\\displaystyle \\frac{8}{x^{2}}$"
      ],
      "text/plain": [
       "8/x**2"
      ]
     },
     "execution_count": 196,
     "metadata": {},
     "output_type": "execute_result"
    }
   ],
   "source": [
    "8/x**2"
   ]
  },
  {
   "cell_type": "code",
   "execution_count": 197,
   "id": "6f5448dd",
   "metadata": {},
   "outputs": [],
   "source": [
    "#let us substitute 8/x**2 for h in our variable tc"
   ]
  },
  {
   "cell_type": "code",
   "execution_count": 198,
   "id": "c30ed97a",
   "metadata": {},
   "outputs": [
    {
     "data": {
      "text/latex": [
       "$\\displaystyle 30 h x + 20 x^{2}$"
      ],
      "text/plain": [
       "30*h*x + 20*x**2"
      ]
     },
     "execution_count": 198,
     "metadata": {},
     "output_type": "execute_result"
    }
   ],
   "source": [
    "tc"
   ]
  },
  {
   "cell_type": "code",
   "execution_count": 199,
   "id": "9ce5c052",
   "metadata": {},
   "outputs": [
    {
     "data": {
      "text/latex": [
       "$\\displaystyle 20 x^{2} + \\frac{240}{x}$"
      ],
      "text/plain": [
       "20*x**2 + 240/x"
      ]
     },
     "execution_count": 199,
     "metadata": {},
     "output_type": "execute_result"
    }
   ],
   "source": [
    "tc.subs(h, 8/x**2)  "
   ]
  },
  {
   "cell_type": "code",
   "execution_count": 200,
   "id": "7cd56adf",
   "metadata": {},
   "outputs": [
    {
     "data": {
      "text/latex": [
       "$\\displaystyle 20 x^{2} + \\frac{240}{x}$"
      ],
      "text/plain": [
       "20*x**2 + 240/x"
      ]
     },
     "execution_count": 200,
     "metadata": {},
     "output_type": "execute_result"
    }
   ],
   "source": [
    "def C(x):\n",
    "    return tc.subs(h, 8/x**2)\n",
    "C(x)"
   ]
  },
  {
   "cell_type": "code",
   "execution_count": 201,
   "id": "5d92fdb5",
   "metadata": {},
   "outputs": [
    {
     "data": {
      "text/latex": [
       "$\\displaystyle 40 x - \\frac{240}{x^{2}}$"
      ],
      "text/plain": [
       "40*x - 240/x**2"
      ]
     },
     "execution_count": 201,
     "metadata": {},
     "output_type": "execute_result"
    }
   ],
   "source": [
    "# now let us optomize C(x) and\n",
    "# find the critical points to find min/max values\n",
    "diff(C(x))  # find the derivative \n"
   ]
  },
  {
   "cell_type": "code",
   "execution_count": 202,
   "id": "e227339b",
   "metadata": {},
   "outputs": [
    {
     "data": {
      "text/latex": [
       "$\\displaystyle 40 x - \\frac{240}{x^{2}} = 0$"
      ],
      "text/plain": [
       "Eq(40*x - 240/x**2, 0)"
      ]
     },
     "execution_count": 202,
     "metadata": {},
     "output_type": "execute_result"
    }
   ],
   "source": [
    "# find when diff(C(x)) is 0\n",
    "Eq(diff(C(x)) ,0)"
   ]
  },
  {
   "cell_type": "code",
   "execution_count": 203,
   "id": "a1727272",
   "metadata": {},
   "outputs": [
    {
     "data": {
      "text/plain": [
       "[6**(1/3),\n",
       " -6**(1/3)/2 - 2**(1/3)*3**(5/6)*I/2,\n",
       " -6**(1/3)/2 + 2**(1/3)*3**(5/6)*I/2]"
      ]
     },
     "execution_count": 203,
     "metadata": {},
     "output_type": "execute_result"
    }
   ],
   "source": [
    "solve(diff(C(x)) ,x)"
   ]
  },
  {
   "cell_type": "code",
   "execution_count": 204,
   "id": "8fa49453",
   "metadata": {},
   "outputs": [
    {
     "data": {
      "text/plain": [
       "1.8171205928321397"
      ]
     },
     "execution_count": 204,
     "metadata": {},
     "output_type": "execute_result"
    }
   ],
   "source": [
    "# 30**(2/3)/5 is our critical point\n",
    "critical_point = 6**(1/3)\n",
    "cp = critical_point\n",
    "cp"
   ]
  },
  {
   "cell_type": "code",
   "execution_count": 205,
   "id": "a0c50a5c",
   "metadata": {},
   "outputs": [
    {
     "data": {
      "text/latex": [
       "$\\displaystyle 40 + \\frac{480}{x^{3}}$"
      ],
      "text/plain": [
       "40 + 480/x**3"
      ]
     },
     "execution_count": 205,
     "metadata": {},
     "output_type": "execute_result"
    }
   ],
   "source": [
    "simplify(diff(C(x),x,2)) #second derivative to see concave upward"
   ]
  },
  {
   "cell_type": "code",
   "execution_count": 207,
   "id": "ee275438",
   "metadata": {},
   "outputs": [
    {
     "data": {
      "text/latex": [
       "$\\displaystyle 198.115634933678$"
      ],
      "text/plain": [
       "198.115634933678"
      ]
     },
     "execution_count": 207,
     "metadata": {},
     "output_type": "execute_result"
    }
   ],
   "source": [
    "C(x).subs(x,cp)"
   ]
  },
  {
   "cell_type": "code",
   "execution_count": 208,
   "id": "1e32ad79",
   "metadata": {},
   "outputs": [
    {
     "data": {
      "text/html": [
       "<img src=\"https://i.imgur.com/hLdDjpC.png\"/>"
      ],
      "text/plain": [
       "<IPython.core.display.Image object>"
      ]
     },
     "execution_count": 208,
     "metadata": {},
     "output_type": "execute_result"
    }
   ],
   "source": [
    "Image(url= \"https://i.imgur.com/hLdDjpC.png\")"
   ]
  }
 ],
 "metadata": {
  "kernelspec": {
   "display_name": "Python 3 (ipykernel)",
   "language": "python",
   "name": "python3"
  },
  "language_info": {
   "codemirror_mode": {
    "name": "ipython",
    "version": 3
   },
   "file_extension": ".py",
   "mimetype": "text/x-python",
   "name": "python",
   "nbconvert_exporter": "python",
   "pygments_lexer": "ipython3",
   "version": "3.9.6"
  }
 },
 "nbformat": 4,
 "nbformat_minor": 5
}
