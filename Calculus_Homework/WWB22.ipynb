{
 "cells": [
  {
   "cell_type": "code",
   "execution_count": 1,
   "id": "5c5d1eb8",
   "metadata": {},
   "outputs": [
    {
     "data": {
      "text/html": [
       "<img src=\"https://i.imgur.com/KjUCSfj.png\"/>"
      ],
      "text/plain": [
       "<IPython.core.display.Image object>"
      ]
     },
     "execution_count": 1,
     "metadata": {},
     "output_type": "execute_result"
    }
   ],
   "source": [
    "from IPython.display import Image\n",
    "from IPython.core.display import HTML \n",
    "from sympy import *\n",
    "Image(url= \"https://i.imgur.com/KjUCSfj.png\")"
   ]
  },
  {
   "cell_type": "code",
   "execution_count": 2,
   "id": "00cf790d",
   "metadata": {},
   "outputs": [
    {
     "name": "stdout",
     "output_type": "stream",
     "text": [
      "9*log(x) + 3 + 9*log(3)\n"
     ]
    }
   ],
   "source": [
    "x,a,y,b = symbols(\"x a y b \")\n",
    "f = lambda x: 9*x*(ln(x)+ln(3))-6*x+pi\n",
    "print(Derivative(f(x)).doit())"
   ]
  },
  {
   "cell_type": "code",
   "execution_count": 111,
   "id": "41531800",
   "metadata": {},
   "outputs": [
    {
     "data": {
      "text/html": [
       "<img src=\"https://i.imgur.com/xevzAkU.png\"/>"
      ],
      "text/plain": [
       "<IPython.core.display.Image object>"
      ]
     },
     "execution_count": 111,
     "metadata": {},
     "output_type": "execute_result"
    }
   ],
   "source": [
    "Image(url= \"https://i.imgur.com/xevzAkU.png\")"
   ]
  },
  {
   "cell_type": "code",
   "execution_count": 137,
   "id": "94b27050",
   "metadata": {},
   "outputs": [
    {
     "name": "stdout",
     "output_type": "stream",
     "text": [
      "1/2 + log(9)\n"
     ]
    }
   ],
   "source": [
    "f = lambda x: Piecewise((x, (x< 1)), (1/x, x >= 1))\n",
    "print(Integral(f(x),(x,0,9)).doit())"
   ]
  },
  {
   "cell_type": "code",
   "execution_count": 81,
   "id": "fc10bd54",
   "metadata": {},
   "outputs": [
    {
     "name": "stdout",
     "output_type": "stream",
     "text": [
      "5*x**4*log(x) + x**4\n"
     ]
    }
   ],
   "source": [
    "print(diff(g(x)))"
   ]
  },
  {
   "cell_type": "code",
   "execution_count": 138,
   "id": "43f8c1bd",
   "metadata": {},
   "outputs": [
    {
     "data": {
      "text/html": [
       "<img src=\"https://i.imgur.com/e9M6KpV.png\"/>"
      ],
      "text/plain": [
       "<IPython.core.display.Image object>"
      ]
     },
     "execution_count": 138,
     "metadata": {},
     "output_type": "execute_result"
    }
   ],
   "source": [
    "Image(url= \"https://i.imgur.com/e9M6KpV.png\")"
   ]
  }
 ],
 "metadata": {
  "kernelspec": {
   "display_name": "Python 3 (ipykernel)",
   "language": "python",
   "name": "python3"
  },
  "language_info": {
   "codemirror_mode": {
    "name": "ipython",
    "version": 3
   },
   "file_extension": ".py",
   "mimetype": "text/x-python",
   "name": "python",
   "nbconvert_exporter": "python",
   "pygments_lexer": "ipython3",
   "version": "3.9.6"
  }
 },
 "nbformat": 4,
 "nbformat_minor": 5
}
