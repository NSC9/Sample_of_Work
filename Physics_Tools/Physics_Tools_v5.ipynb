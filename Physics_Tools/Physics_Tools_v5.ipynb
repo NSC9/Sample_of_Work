{
 "cells": [
  {
   "cell_type": "code",
   "execution_count": 1,
   "id": "fcc8986c",
   "metadata": {},
   "outputs": [],
   "source": [
    "#https://tinyurl.com/Physics-Tools\n",
    "from sympy import *\n",
    "from sympy.abc import x,y,t\n",
    "decis = 1 #specifies decimal places in outputs for n in N(stuff,n)"
   ]
  },
  {
   "cell_type": "markdown",
   "id": "7ceecb91",
   "metadata": {},
   "source": [
    "# Motion Along a Straight Line"
   ]
  },
  {
   "cell_type": "code",
   "execution_count": 2,
   "id": "7a90a820",
   "metadata": {},
   "outputs": [
    {
     "data": {
      "text/plain": [
       "7133.333333333333"
      ]
     },
     "execution_count": 2,
     "metadata": {},
     "output_type": "execute_result"
    }
   ],
   "source": [
    "#impromptu calculator\n",
    "eqn = Eq(0,t**2+10*t-200)\n",
    "eqn\n",
    "solve(eqn)\n",
    "q = 120**2\n",
    "(1000000-q*20/2)/120"
   ]
  },
  {
   "cell_type": "code",
   "execution_count": 3,
   "id": "0cf4f1f3",
   "metadata": {},
   "outputs": [
    {
     "name": "stdout",
     "output_type": "stream",
     "text": [
      "Speed in m/s: 22.2\n"
     ]
    }
   ],
   "source": [
    "# Converts km/hr to m/s\n",
    "def km_per_hr_to_m_per_s(speed_km_hr):\n",
    "    # 1 km/hr = 1000 m / 3600 s\n",
    "    conversion_factor = Rational(1000, 3600)\n",
    "    return speed_km_hr * conversion_factor\n",
    "speed_km_hr = 80  # Example speed in km/hr\n",
    "speed_m_per_s = km_per_hr_to_m_per_s(speed_km_hr)\n",
    "print(\"Speed in m/s:\", N(speed_m_per_s,3))"
   ]
  },
  {
   "cell_type": "code",
   "execution_count": 4,
   "id": "94ac1c7a",
   "metadata": {},
   "outputs": [
    {
     "name": "stdout",
     "output_type": "stream",
     "text": [
      "f1) Determines Average Velocity\n"
     ]
    },
    {
     "data": {
      "text/latex": [
       "$\\displaystyle \\bar{v} = \\frac{v}{2} + \\frac{v_{0}}{2}$"
      ],
      "text/plain": [
       "Eq(\\bar{v}, v/2 + v_0/2)"
      ]
     },
     "metadata": {},
     "output_type": "display_data"
    },
    {
     "name": "stdout",
     "output_type": "stream",
     "text": [
      "f2) Determines Displacement\n"
     ]
    },
    {
     "data": {
      "text/latex": [
       "$\\displaystyle x = \\bar{v} t + x_{0}$"
      ],
      "text/plain": [
       "Eq(x, \\bar{v}*t + x_0)"
      ]
     },
     "metadata": {},
     "output_type": "display_data"
    },
    {
     "name": "stdout",
     "output_type": "stream",
     "text": [
      "f3) Equation of Motion\n"
     ]
    },
    {
     "data": {
      "text/latex": [
       "$\\displaystyle v = a t + v_{0}$"
      ],
      "text/plain": [
       "Eq(v, a*t + v_0)"
      ]
     },
     "metadata": {},
     "output_type": "display_data"
    },
    {
     "name": "stdout",
     "output_type": "stream",
     "text": [
      "f4) Determines Displacement\n"
     ]
    },
    {
     "data": {
      "text/latex": [
       "$\\displaystyle x = 0.5 a t^{2} + t v_{0} + x_{0}$"
      ],
      "text/plain": [
       "Eq(x, 0.5*a*t**2 + t*v_0 + x_0)"
      ]
     },
     "metadata": {},
     "output_type": "display_data"
    },
    {
     "name": "stdout",
     "output_type": "stream",
     "text": [
      "f5) Final Velocity Squared\n"
     ]
    },
    {
     "data": {
      "text/latex": [
       "$\\displaystyle v^{2} = 2 a \\left(x - x_{0}\\right) + v_{0}^{2}$"
      ],
      "text/plain": [
       "Eq(v**2, 2*a*(x - x_0) + v_0**2)"
      ]
     },
     "metadata": {},
     "output_type": "display_data"
    },
    {
     "name": "stdout",
     "output_type": "stream",
     "text": [
      "Enter the number of the function: 4\n",
      "Enter the displacement: x\n",
      "Enter the acceleration: -9.8\n",
      "Enter the time: 2.35\n",
      "Enter the initial velocity: 8\n",
      "Enter the initial position: 0\n",
      "The result is: [-8.26025000000001]\n"
     ]
    }
   ],
   "source": [
    "t, x0, v0, v, v_avg, a = Symbol('t'), Symbol('x_0'), Symbol('v_0'), Symbol('v'), Symbol(r'\\bar{v}'), Symbol('a')\n",
    "eq1 = Eq(v_avg, (v0 + v) / 2)       #NOTE: avg acceleration is (v-v0)/(t-t0)\n",
    "eq2 = Eq(x, x0 + v_avg * t)\n",
    "eq3 = Eq(v, v0 + a * t)\n",
    "eq4 = Eq(x, x0 + v0 * t + (1 / 2) * a * t ** 2)\n",
    "eq5 = Eq(v ** 2, v0 ** 2 + 2 * a * (x - x0))\n",
    "print(\"f1) Determines Average Velocity\");display(eq1)\n",
    "print(\"f2) Determines Displacement\");display(eq2)\n",
    "print(\"f3) Equation of Motion\");display(eq3)\n",
    "print(\"f4) Determines Displacement\");display(eq4)\n",
    "print(\"f5) Final Velocity Squared\");display(eq5)\n",
    "def solve_eq(eq, subs_dict):\n",
    "    return solve(eq.subs(subs_dict))\n",
    "def f1(vv_avg,vv,v0v0): \n",
    "    return solve_eq(eq1, {v_avg: vv_avg, v: vv, v0: v0v0})\n",
    "def f2(xx,vv_avg,tt,x0x0): \n",
    "    return solve_eq(eq2, {x: xx, v_avg: vv_avg, t: tt, x0: x0x0})\n",
    "def f3(vv,aa,tt,v0v0): \n",
    "    return solve_eq(eq3, {v: vv, a: aa, t: tt, v0: v0v0})\n",
    "def f4(xx, aa, tt, v0v0, x0x0):\n",
    "    return solve_eq(eq4, {x: xx, a: aa, t: tt, v0: v0v0, x0: x0x0})\n",
    "def f5(vv, aa, xx, x0x0,v0v0):\n",
    "    return solve_eq(eq5, {v: vv, a: aa, x: xx, x0: x0x0, v0: v0v0})\n",
    "\n",
    "# Dictionary to map function numbers to their corresponding functions\n",
    "functions = {\n",
    "    1: f1,\n",
    "    2: f2,\n",
    "    3: f3,\n",
    "    4: f4,\n",
    "    5: f5\n",
    "}\n",
    "selected_function = int(input(\"Enter the number of the function: \"))\n",
    "\n",
    "# Prompt user to enter variables\n",
    "if selected_function in functions:\n",
    "    func = functions[selected_function]\n",
    "    if selected_function == 1:\n",
    "        vv_avg = input(\"Enter the average velocity: \")\n",
    "        if vv_avg.isnumeric() or (vv_avg[0] == '-' and vv_avg[1:].isnumeric()):\n",
    "            vv_avg = float(vv_avg)\n",
    "        vv = input(\"Enter the final velocity: \")\n",
    "        v0v0 = input(\"Enter the initial velocity: \")\n",
    "        if v0v0.isnumeric() or (v0v0[0] == '-' and v0v0[1:].isnumeric()):\n",
    "            v0v0 = float(v0v0)\n",
    "        result = func(vv_avg, vv, v0v0)\n",
    "    elif selected_function == 2:\n",
    "        xx = input(\"Enter the displacement: \")\n",
    "        if xx.isnumeric() or (xx[0] == '-' and xx[1:].isnumeric()):\n",
    "            xx = float(xx)\n",
    "        vv_avg = input(\"Enter the average velocity: \")\n",
    "        tt = input(\"Enter the time: \")\n",
    "        if tt.isnumeric() or (tt[0] == '-' and tt[1:].isnumeric()):\n",
    "            tt = float(tt)\n",
    "        x0x0 = input(\"Enter the initial position: \")\n",
    "        if x0x0.isnumeric() or (x0x0[0] == '-' and x0x0[1:].isnumeric()):\n",
    "            x0x0 = float(x0x0)\n",
    "        result = func(xx, vv_avg, tt, x0x0)\n",
    "    elif selected_function == 3:\n",
    "        vv = input(\"Enter the final velocity: \")\n",
    "        aa = input(\"Enter the acceleration: \")\n",
    "        tt = input(\"Enter the time: \")\n",
    "        v0v0 = input(\"Enter the initial velocity: \")\n",
    "        if v0v0.isnumeric() or (v0v0[0] == '-' and v0v0[1:].isnumeric()):\n",
    "            v0v0 = float(v0v0)\n",
    "        result = func(vv, aa, tt, v0v0)\n",
    "    elif selected_function == 4:\n",
    "        xx = input(\"Enter the displacement: \")\n",
    "        aa = input(\"Enter the acceleration: \")\n",
    "        tt = input(\"Enter the time: \")\n",
    "        v0v0 = input(\"Enter the initial velocity: \")\n",
    "        if v0v0.isnumeric() or (v0v0[0] == '-' and v0v0[1:].isnumeric()):\n",
    "            v0v0 = float(v0v0)\n",
    "        x0x0 = input(\"Enter the initial position: \")\n",
    "        if x0x0.isnumeric() or (x0x0[0] == '-' and x0x0[1:].isnumeric()):\n",
    "            x0x0 = float(x0x0)\n",
    "        result = func(xx, aa, tt, v0v0, x0x0)\n",
    "    elif selected_function == 5: # might be broken\n",
    "        vv = input(\"Enter the final velocity: \")\n",
    "        aa = input(\"Enter the acceleration: \")\n",
    "        xx = input(\"Enter the displacement: \")\n",
    "        x0x0 = input(\"Enter the initial position: \")\n",
    "        v0v0 = input(\"Enter the initial velocity: \")\n",
    "        if v0v0.isnumeric() or (v0v0[0] == '-' and v0v0[1:].isnumeric()):\n",
    "            v0v0 = float(v0v0)\n",
    "        result = func(vv, aa, xx, x0x0, v0v0)\n",
    "\n",
    "    print(\"The result is:\", result)\n",
    "else:\n",
    "    print(\"Invalid function number. Please choose a number between 1 and 5.\")"
   ]
  },
  {
   "cell_type": "markdown",
   "id": "d408b43f",
   "metadata": {},
   "source": [
    "# Vectors"
   ]
  },
  {
   "cell_type": "code",
   "execution_count": 5,
   "id": "f731043e",
   "metadata": {},
   "outputs": [
    {
     "name": "stdout",
     "output_type": "stream",
     "text": [
      "pythagorean of two sides: 90.7\n",
      "pythagorean of three sides: 94.9\n"
     ]
    }
   ],
   "source": [
    "#Pythagorean Theoreom\n",
    "#magnitude given A and B for A^2+B^2=C^2\n",
    "A = 51\n",
    "B =-75\n",
    "C =28\n",
    "two = N(sqrt(A**2+B**2),3)\n",
    "three =N(sqrt(A**2+B**2+C**2),3)\n",
    "print(\"pythagorean of two sides:\",two)\n",
    "print(\"pythagorean of three sides:\",three)"
   ]
  },
  {
   "cell_type": "code",
   "execution_count": 6,
   "id": "a1a255b7",
   "metadata": {},
   "outputs": [
    {
     "data": {
      "text/plain": [
       "957.8787878787879"
      ]
     },
     "execution_count": 6,
     "metadata": {},
     "output_type": "execute_result"
    }
   ],
   "source": [
    "#on the spot basic calculator\n",
    "s = (109/33)\n",
    "s*290"
   ]
  },
  {
   "cell_type": "code",
   "execution_count": 7,
   "id": "aa86cfe4",
   "metadata": {},
   "outputs": [
    {
     "name": "stdout",
     "output_type": "stream",
     "text": [
      "The unit vector for 30 degrees is:\n"
     ]
    },
    {
     "data": {
      "text/latex": [
       "$\\displaystyle \\left[\\begin{matrix}0.87\\\\0.5\\end{matrix}\\right]$"
      ],
      "text/plain": [
       "Matrix([\n",
       "[0.87],\n",
       "[ 0.5]])"
      ]
     },
     "metadata": {},
     "output_type": "display_data"
    }
   ],
   "source": [
    "def degrees_to_unit_vector(degrees):\n",
    "    radians = rad(degrees)\n",
    "    x = cos(radians)\n",
    "    y = sin(radians)\n",
    "    return (N(x,2), N(y,2))\n",
    "\n",
    "# Test the function\n",
    "degrees = 30  # Example angle in degrees\n",
    "unit_vector = degrees_to_unit_vector(degrees)\n",
    "print(f\"The unit vector for {degrees} degrees is:\")\n",
    "display(Matrix([unit_vector[0],unit_vector[1]]))"
   ]
  },
  {
   "cell_type": "code",
   "execution_count": 8,
   "id": "e719e2f4",
   "metadata": {},
   "outputs": [
    {
     "name": "stdout",
     "output_type": "stream",
     "text": [
      "cos of x-component: 3.009\n",
      "sin of y-component: -3.993\n"
     ]
    }
   ],
   "source": [
    "#calc components given a angle and magnitude\n",
    "magnitude=5\n",
    "angle_degrees =307\n",
    "\n",
    "# Convert degrees to radians\n",
    "angle_radians = rad(angle_degrees)\n",
    "# Calculate cosine of the angle in degrees\n",
    "print(\"cos of x-component:\",N(magnitude*cos(angle_radians),4))\n",
    "print(\"sin of y-component:\",N(magnitude*sin(angle_radians),4))"
   ]
  },
  {
   "cell_type": "code",
   "execution_count": 9,
   "id": "6737251d",
   "metadata": {},
   "outputs": [
    {
     "name": "stdout",
     "output_type": "stream",
     "text": [
      "The cross product C x D is:\n"
     ]
    },
    {
     "data": {
      "text/latex": [
       "$\\displaystyle \\left[\\begin{matrix}-40.0\\\\10.0\\\\8.0\\end{matrix}\\right]$"
      ],
      "text/plain": [
       "Matrix([\n",
       "[-40.0],\n",
       "[ 10.0],\n",
       "[  8.0]])"
      ]
     },
     "metadata": {},
     "output_type": "display_data"
    },
    {
     "name": "stdout",
     "output_type": "stream",
     "text": [
      "The magnitude of cross product C x D is 42.0:\n",
      "\n",
      "\n",
      "Dot product of A and B is -1.200E+4\n",
      "\n",
      "\n",
      "Dot product of C and D is 19.0\n",
      "\n",
      "\n",
      "Projection of A onto B proj_B(A):\n"
     ]
    },
    {
     "data": {
      "text/latex": [
       "$\\displaystyle \\left[\\begin{matrix}127.0\\\\70.8\\end{matrix}\\right]$"
      ],
      "text/plain": [
       "Matrix([\n",
       "[127.0],\n",
       "[ 70.8]])"
      ]
     },
     "metadata": {},
     "output_type": "display_data"
    },
    {
     "name": "stdout",
     "output_type": "stream",
     "text": [
      "Projection of B onto A proj_A(B):\n"
     ]
    },
    {
     "data": {
      "text/latex": [
       "$\\displaystyle \\left[\\begin{matrix}-55.0\\\\16.5\\end{matrix}\\right]$"
      ],
      "text/plain": [
       "Matrix([\n",
       "[-55.0],\n",
       "[ 16.5]])"
      ]
     },
     "metadata": {},
     "output_type": "display_data"
    },
    {
     "name": "stdout",
     "output_type": "stream",
     "text": [
      "The angle between A and B is 134 degrees (2 components or dimensions)\n",
      "The angle between C and D is 65.7 degrees (3 components or dimensions)\n"
     ]
    }
   ],
   "source": [
    "# Vector algebra, dot/cross products, and projections with angles\n",
    "a = Symbol('A')\n",
    "b = Symbol('B')\n",
    "bhat = Symbol('B^hat')\n",
    "ahat = Symbol('A^hat')\n",
    "A = Matrix([200, -60])\n",
    "B = Matrix([-72, -40])\n",
    "C = Matrix([3, 4,10])\n",
    "D = Matrix([1, 4,0])\n",
    "B_ = B*(1/sqrt(B.dot(B)))\n",
    "A_ = A*(1/sqrt(A.dot(A)))\n",
    "\n",
    "# Compute the cross product C x D (3 components or dimensions)\n",
    "cross_product = N(C.cross(D),3)\n",
    "print(f\"The cross product C x D is:\")\n",
    "display(cross_product)\n",
    "\n",
    "# Compute the magnitude of the cross product C x D (3 components or dimensions)\n",
    "magn_cross = N(sqrt(cross_product[0]**2+cross_product[1]**2+cross_product[2]**2),3)\n",
    "print(f\"The magnitude of cross product C x D is {magn_cross}:\")\n",
    "print(\"\\n\")\n",
    "\n",
    "# Compute the dot product (2 components or dimensions)\n",
    "dot_product = N(A.dot(B),4)\n",
    "print(f\"Dot product of A and B is {dot_product}\")\n",
    "print(\"\\n\")\n",
    "\n",
    "# Compute the dot product (3 components or dimensions)\n",
    "dot_product2 = N(C.dot(D),3)\n",
    "print(f\"Dot product of C and D is {dot_product2}\")\n",
    "print(\"\\n\")\n",
    "\n",
    "# Find the projection of A onto B       proj_B(A)\n",
    "projection = N((A.dot(B_)* B_),3)\n",
    "print(\"Projection of A onto B proj_B(A):\")\n",
    "display(projection)\n",
    "\n",
    "# Find the projection of B onto A\n",
    "projection2 = N((B.dot(A_)* A_),3)\n",
    "print(\"Projection of B onto A proj_A(B):\")\n",
    "display(projection2)\n",
    "\n",
    "# Find the Angle between A and B (2 components or dimensions)\n",
    "angle = N(deg(acos(A.dot(B)/(sqrt(A.dot(A))*sqrt(B.dot(B))))),3)\n",
    "print(f\"The angle between A and B is {angle} degrees (2 components or dimensions)\")\n",
    "\n",
    "# Find the Angle between C and D (3 components or dimensions)\n",
    "angle = N(deg(acos(C.dot(D)/(sqrt(C.dot(C))*sqrt(D.dot(D))))),3)\n",
    "print(f\"The angle between C and D is {angle} degrees (3 components or dimensions)\")\n",
    "\n"
   ]
  },
  {
   "cell_type": "code",
   "execution_count": 10,
   "id": "ed22d5d3",
   "metadata": {},
   "outputs": [
    {
     "name": "stdout",
     "output_type": "stream",
     "text": [
      "The angle is 53.1 degrees\n"
     ]
    }
   ],
   "source": [
    "# TOA Calculate the direction of the force using the inverse tangent function\n",
    "\n",
    "# Given components of the vector\n",
    "opposite_y = 4\n",
    "adjacent_x = 3\n",
    "\n",
    "# Calculate the angle using atan2\n",
    "direction = atan2(opposite_y, adjacent_x).evalf()\n",
    "\n",
    "# Convert the direction or angle to degrees\n",
    "direction_degrees = N(deg(direction),3)\n",
    "\n",
    "# Adjust the result to be in the range [0, 360)\n",
    "if direction_degrees < 0:\n",
    "    direction_degrees += 360\n",
    "print(f\"The angle is {direction_degrees} degrees\")"
   ]
  },
  {
   "cell_type": "code",
   "execution_count": 11,
   "id": "bcf1359c",
   "metadata": {},
   "outputs": [
    {
     "name": "stdout",
     "output_type": "stream",
     "text": [
      "Length of adjacent side: 15.0 meters\n"
     ]
    }
   ],
   "source": [
    "# TOA finding x-component (adjacent) given y-component and angle\n",
    "opposite_side_length = 15\n",
    "angle_degrees = 45\n",
    "angle_radians = rad(angle_degrees)\n",
    "adjacent_side_length = N(opposite_side_length / tan(angle_radians),3)\n",
    "print(\"Length of adjacent side:\", adjacent_side_length, \"meters\")"
   ]
  },
  {
   "cell_type": "code",
   "execution_count": 12,
   "id": "43f0f49d",
   "metadata": {},
   "outputs": [
    {
     "name": "stdout",
     "output_type": "stream",
     "text": [
      "Length or magnitude of opposite side: 5.64 meters\n"
     ]
    }
   ],
   "source": [
    "# TOA finding opposite given hypotenus (magnitude) and angle\n",
    "hypotenus = 32\n",
    "angle_degrees = 10\n",
    "angle_radians = rad(angle_degrees)\n",
    "opposite = N(hypotenus * tan(angle_radians),3)\n",
    "print(\"Length or magnitude of opposite side:\", opposite, \"meters\")"
   ]
  },
  {
   "cell_type": "code",
   "execution_count": 13,
   "id": "6f8775ea",
   "metadata": {},
   "outputs": [
    {
     "name": "stdout",
     "output_type": "stream",
     "text": [
      "Point 1 converted is (0, 0)\n",
      "Point 2 converted is (-5.0, 0)\n",
      "The distance between the points is 5.0\n"
     ]
    }
   ],
   "source": [
    "# Two points in a plane have polar coordinates\n",
    "# Determine their x-y coordinates and the distance between them in\n",
    "# Given polar coordinates\n",
    "p1_r = 0\n",
    "p1_phi = 0  # Angle in degrees\n",
    "p2_r = 5\n",
    "p2_phi = 180  # Angle in degrees\n",
    "\n",
    "# Converting polar coordinates to Cartesian coordinates\n",
    "x1 = N(p1_r * cos(p1_phi*pi/180), 2)  # Convert degrees to radians\n",
    "y1 = N(p1_r * sin(p1_phi*pi/180), 2)\n",
    "x2 = N(p2_r * cos(p2_phi*pi/180), 2)\n",
    "y2 = N(p2_r * sin(p2_phi*pi/180), 2)\n",
    "\n",
    "# Distance between two points in Cartesian coordinate system\n",
    "distance = N(sqrt((x2 - x1)**2 + (y2 - y1)**2), 2)\n",
    "\n",
    "# Splicing the variables inside the print statement\n",
    "print(f\"Point 1 converted is ({x1}, {y1})\")\n",
    "print(f\"Point 2 converted is ({x2}, {y2})\")\n",
    "print(f\"The distance between the points is {distance}\")"
   ]
  },
  {
   "cell_type": "code",
   "execution_count": 14,
   "id": "d364c23c",
   "metadata": {},
   "outputs": [
    {
     "data": {
      "text/latex": [
       "$\\displaystyle 0.523598775598299$"
      ],
      "text/plain": [
       "0.523598775598299"
      ]
     },
     "execution_count": 14,
     "metadata": {},
     "output_type": "execute_result"
    }
   ],
   "source": [
    "# general calculator\n",
    "(pi/6).evalf()"
   ]
  },
  {
   "cell_type": "code",
   "execution_count": 15,
   "id": "9b5464b2",
   "metadata": {},
   "outputs": [
    {
     "name": "stdout",
     "output_type": "stream",
     "text": [
      "Polar coordinates: (r=1, phi=2)\n"
     ]
    }
   ],
   "source": [
    "#Find Polar Coordinates given x and y points\n",
    "# Given Cartesian coordinates\n",
    "x = -1\n",
    "y = 1\n",
    "# Calculate radius (r)\n",
    "r = N(sqrt((x)**2 + y**2), decis)\n",
    "\n",
    "# Calculate angle (phi) using atan2 function to handle all cases\n",
    "phi = N(atan2(y, x), decis)\n",
    "\n",
    "# Convert angle to be between 0 and 2*pi\n",
    "phi = (phi + 2*pi) % (2*pi)\n",
    "\n",
    "# Output the polar coordinates\n",
    "print(f\"Polar coordinates: (r={r}, phi={phi})\")"
   ]
  },
  {
   "cell_type": "code",
   "execution_count": 16,
   "id": "86dbf4c8",
   "metadata": {},
   "outputs": [
    {
     "name": "stdout",
     "output_type": "stream",
     "text": [
      "Polar coordinates: (r=3.0*(x**2 - 0.3*y**2)**0.5, phi=Mod(atan2(-3*y, 3*x), 2*pi))\n"
     ]
    }
   ],
   "source": [
    "# Special Case Find Polar Coordinates given abstract ax and yy points given constants a, b\n",
    "a,b = 3,-3 #constants\n",
    "x,y = Symbol('x'),Symbol('y')\n",
    "# Calculate radius (r)\n",
    "r = N(sqrt((a*x)**2 + b*y**2), decis)\n",
    "\n",
    "# Calculate angle (phi) using atan2 function to handle all cases\n",
    "phi = N(atan2(b*y, a*x), decis)\n",
    "\n",
    "# Convert angle to be between 0 and 2*pi\n",
    "phi = (phi + 2*pi) % (2*pi)\n",
    "\n",
    "# Output the polar coordinates\n",
    "print(f\"Polar coordinates: (r={r}, phi={phi})\")"
   ]
  },
  {
   "cell_type": "code",
   "execution_count": 17,
   "id": "b435ab65",
   "metadata": {},
   "outputs": [
    {
     "name": "stdout",
     "output_type": "stream",
     "text": [
      "Cartesian coordinates for Point A: (2.0, -4.0)\n",
      "Cartesian coordinates for Point B: (-3.0, 3.0)\n",
      "The distance between the points is 9.0\n"
     ]
    }
   ],
   "source": [
    "#Find Polar Coordinates given 2 sets of x and y points\n",
    "# Given Cartesian coordinates\n",
    "A_x = 2\n",
    "A_y = -4\n",
    "B_x = -3\n",
    "B_y = 3\n",
    "\n",
    "# Convert Cartesian coordinates to polar coordinates\n",
    "def cartesian_to_polar(x, y):\n",
    "    r = sqrt(x**2 + y**2)\n",
    "    phi = atan2(y, x)\n",
    "    return r, phi\n",
    "\n",
    "A_r, A_phi = cartesian_to_polar(A_x, A_y)\n",
    "B_r, B_phi = cartesian_to_polar(B_x, B_y)\n",
    "\n",
    "# Convert polar coordinates to Cartesian coordinates\n",
    "x1 = N(A_r * cos(A_phi), decis)\n",
    "y1 = N(A_r * sin(A_phi), decis)\n",
    "x2 = N(B_r * cos(B_phi), decis)\n",
    "y2 = N(B_r * sin(B_phi), decis)\n",
    "\n",
    "# Distance between two points in Cartesian coordinate system\n",
    "distance = N(sqrt((x2 - x1)**2 + (y2 - y1)**2), decis)\n",
    "\n",
    "# Output the Cartesian coordinates and distance\n",
    "print(f\"Cartesian coordinates for Point A: ({x1}, {y1})\")\n",
    "print(f\"Cartesian coordinates for Point B: ({x2}, {y2})\")\n",
    "print(f\"The distance between the points is {distance}\")\n"
   ]
  },
  {
   "cell_type": "code",
   "execution_count": 18,
   "id": "bf820401",
   "metadata": {},
   "outputs": [
    {
     "data": {
      "image/png": "[encoded data removed]",
      "text/plain": [
       "<Figure size 360x360 with 1 Axes>"
      ]
     },
     "metadata": {
      "needs_background": "light"
     },
     "output_type": "display_data"
    }
   ],
   "source": [
    "eqn = sqrt(x)\n",
    "p = plot(eqn,title=\"Log Scaled Graph\",size = (5,5),show=True,legend=True,yscale='log')"
   ]
  },
  {
   "cell_type": "code",
   "execution_count": 19,
   "id": "16e06a3f",
   "metadata": {},
   "outputs": [
    {
     "data": {
      "image/png": "[encoded data removed]",
      "text/plain": [
       "<Figure size 360x360 with 1 Axes>"
      ]
     },
     "metadata": {
      "needs_background": "light"
     },
     "output_type": "display_data"
    }
   ],
   "source": [
    "p = plot(eqn,diff(eqn),title=\"Regular Scaled Graph\",size = (5,5),show=True,legend=True,ylim=(0,3))"
   ]
  }
 ],
 "metadata": {
  "kernelspec": {
   "display_name": "Python 3 (ipykernel)",
   "language": "python",
   "name": "python3"
  },
  "language_info": {
   "codemirror_mode": {
    "name": "ipython",
    "version": 3
   },
   "file_extension": ".py",
   "mimetype": "text/x-python",
   "name": "python",
   "nbconvert_exporter": "python",
   "pygments_lexer": "ipython3",
   "version": "3.10.12"
  }
 },
 "nbformat": 4,
 "nbformat_minor": 5
}
