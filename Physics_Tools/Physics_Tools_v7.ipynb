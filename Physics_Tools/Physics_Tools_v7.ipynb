{
 "cells": [
  {
   "cell_type": "code",
   "execution_count": 20,
   "id": "fcc8986c",
   "metadata": {},
   "outputs": [],
   "source": [
    "#https://tinyurl.com/Physics-Tools\n",
    "from sympy import *\n",
    "from sympy.abc import x,y,t,theta,omega\n",
    "decis = 1 #specifies decimal places in outputs for n in N(stuff,n)\n",
    "funcv = Function('v')(t)\n",
    "i = symbols('i')\n",
    "j = symbols('j')\n",
    "r,T,t0, t, x0, v0, v, v_avg, a =  Symbol('r'),Symbol('T'),Symbol('t_0'),Symbol('t'), Symbol('x_0'), Symbol('v_0'), Symbol('v'), Symbol(r'\\bar{v}'), Symbol('a')"
   ]
  },
  {
   "cell_type": "markdown",
   "id": "a2bf454c",
   "metadata": {},
   "source": [
    "# Motion in Two and Three Dimensions\n"
   ]
  },
  {
   "cell_type": "code",
   "execution_count": 22,
   "id": "abd3ba93",
   "metadata": {},
   "outputs": [
    {
     "name": "stdout",
     "output_type": "stream",
     "text": [
      "Enter the time in seconds: 2\n",
      "Enter the radius in meters: 3\n"
     ]
    },
    {
     "data": {
      "text/latex": [
       "$\\displaystyle v{\\left(t \\right)} = t^{3} - t^{2} + 5 t$"
      ],
      "text/plain": [
       "Eq(v(t), t**3 - t**2 + 5*t)"
      ]
     },
     "metadata": {},
     "output_type": "display_data"
    },
    {
     "data": {
      "text/latex": [
       "$\\displaystyle v{\\left(2 \\right)} = 14.0$"
      ],
      "text/plain": [
       "Eq(v(2), 14.0)"
      ]
     },
     "metadata": {},
     "output_type": "display_data"
    },
    {
     "data": {
      "text/latex": [
       "$\\displaystyle a_{c} = \\frac{\\left(t^{3} - t^{2} + 5 t\\right)^{2}}{r} = a_{c} = 65.3$"
      ],
      "text/plain": [
       "Eq(a_c, Eq((t**3 - t**2 + 5*t)**2/r, Eq(a_c, 65.3)))"
      ]
     },
     "metadata": {},
     "output_type": "display_data"
    },
    {
     "data": {
      "text/latex": [
       "$\\displaystyle a_{T} = \\left. \\frac{d}{d t} \\left(t^{3} - t^{2} + 5 t\\right) \\right|_{\\substack{ t=2 }} = a_{T} = 13.0$"
      ],
      "text/plain": [
       "Eq(Eq(a_T, Subs(Derivative(t**3 - t**2 + 5*t, t), t, 2)), Eq(a_T, 13.0))"
      ]
     },
     "metadata": {},
     "output_type": "display_data"
    },
    {
     "data": {
      "text/latex": [
       "$\\displaystyle ||a⃗|| = 66.6$"
      ],
      "text/plain": [
       "Eq(||a⃗||, 66.6)"
      ]
     },
     "metadata": {},
     "output_type": "display_data"
    },
    {
     "name": "stdout",
     "output_type": "stream",
     "text": [
      "The angle is 78.7 degrees\n"
     ]
    },
    {
     "data": {
      "text/latex": [
       "$\\displaystyle a⃗ = 13.02 i + 65.32 j$"
      ],
      "text/plain": [
       "Eq(a⃗, 13.02*i + 65.32*j)"
      ]
     },
     "metadata": {},
     "output_type": "display_data"
    }
   ],
   "source": [
    "#NON UNIFORM CIRCULAR MOTION\n",
    "tt = input(\"Enter the time in seconds: \") \n",
    "rr = input(\"Enter the radius in meters: \") \n",
    "function = t**3-t**2+5*t   #original velocity function must be manually entered\n",
    "funcv = Function('v')(t)\n",
    "a_c = Symbol('a_c'); a_T = Symbol('a_T'); a = Symbol('||a\\u20D7||'); aa = Symbol('a\\u20D7')\n",
    "eq11 = Eq(funcv,function,evalute=False)\n",
    "eq12 = N(Eq(funcv,function,evalute=False).subs(t,tt),3)\n",
    "eq13 = N(Eq(a_c,eq11.rhs.subs(t,tt)**2/r).subs(r,rr),3)\n",
    "eq133 = Eq(a_c,Eq(eq11.rhs**2/r,eq13,evaluate=False))\n",
    "eq14 = Eq(a_T,Derivative(function)).subs(t,tt)\n",
    "eq15 = N(Eq(eq14,eq14.doit()),3)\n",
    "a_c = eq13.rhs; a_T = eq15.rhs.rhs\n",
    "eq16 = Eq(a,N(sqrt(a_c**2+a_T**2),3))\n",
    "\n",
    "#TOA Calculate the direction of the force using the inverse tangent function\n",
    "opposite_y = a_c\n",
    "adjacent_x = a_T\n",
    "direction = atan2(opposite_y, adjacent_x).evalf()\n",
    "direction_degrees = N(deg(direction),3)\n",
    "if direction_degrees < 0:\n",
    "    direction_degrees += 360\n",
    "    \n",
    "display(eq11,eq12,eq133,eq15,eq16)\n",
    "print(f\"The angle is {direction_degrees} degrees\")\n",
    "\n",
    "#calc components of the final acceleration vector given its angle and magnitude\n",
    "magnitude=eq16.rhs\n",
    "angle_degrees =direction_degrees\n",
    "\n",
    "# Convert degrees to radians\n",
    "angle_radians = rad(angle_degrees)\n",
    "# Calculate cosine of the angle in degrees\n",
    "a0x = Symbol('a_0x');a0y = Symbol('a_0y')\n",
    "a0x = Eq(a0x,N(magnitude*cos(angle_radians),4)).rhs\n",
    "a0y = Eq(a0y,N(magnitude*sin(angle_radians),4)).rhs\n",
    "display(Eq(aa,a0x*i+a0y*j))"
   ]
  },
  {
   "cell_type": "code",
   "execution_count": 24,
   "id": "210384e5",
   "metadata": {},
   "outputs": [
    {
     "data": {
      "text/latex": [
       "$\\displaystyle v_{0x} = 21.21$"
      ],
      "text/plain": [
       "Eq(v_0x, 21.21)"
      ]
     },
     "metadata": {},
     "output_type": "display_data"
    },
    {
     "data": {
      "text/latex": [
       "$\\displaystyle v_{0y} = 21.21$"
      ],
      "text/plain": [
       "Eq(v_0y, 21.21)"
      ]
     },
     "metadata": {},
     "output_type": "display_data"
    }
   ],
   "source": [
    "#calc components of initial velocity vector given its angle and magnitude\n",
    "magnitude=30\n",
    "angle_degrees =45\n",
    "\n",
    "# Convert degrees to radians\n",
    "angle_radians = rad(angle_degrees)\n",
    "# Calculate cosine of the angle in degrees\n",
    "v0x = Symbol('v_0x');v0y = Symbol('v_0y')\n",
    "display(Eq(v0x,N(magnitude*cos(angle_radians),4)))\n",
    "display(Eq(v0y,N(magnitude*sin(angle_radians),4)))"
   ]
  },
  {
   "cell_type": "code",
   "execution_count": 3,
   "id": "979ab98f",
   "metadata": {
    "scrolled": false
   },
   "outputs": [
    {
     "name": "stdout",
     "output_type": "stream",
     "text": [
      "f0) Equation of Motion\n"
     ]
    },
    {
     "data": {
      "text/latex": [
       "$\\displaystyle v{\\left(t \\right)} = a \\left(t - t_{0}\\right) + v_{0}$"
      ],
      "text/plain": [
       "Eq(v(t), a*(t - t_0) + v_0)"
      ]
     },
     "metadata": {},
     "output_type": "display_data"
    },
    {
     "name": "stdout",
     "output_type": "stream",
     "text": [
      "f1) Determines Average Velocity\n"
     ]
    },
    {
     "data": {
      "text/latex": [
       "$\\displaystyle \\bar{v} = \\frac{v}{2} + \\frac{v_{0}}{2}$"
      ],
      "text/plain": [
       "Eq(\\bar{v}, v/2 + v_0/2)"
      ]
     },
     "metadata": {},
     "output_type": "display_data"
    },
    {
     "name": "stdout",
     "output_type": "stream",
     "text": [
      "f2) Determines Displacement\n"
     ]
    },
    {
     "data": {
      "text/latex": [
       "$\\displaystyle x = \\bar{v} t + x_{0}$"
      ],
      "text/plain": [
       "Eq(x, \\bar{v}*t + x_0)"
      ]
     },
     "metadata": {},
     "output_type": "display_data"
    },
    {
     "name": "stdout",
     "output_type": "stream",
     "text": [
      "f3) Equation of Motion\n"
     ]
    },
    {
     "data": {
      "text/latex": [
       "$\\displaystyle v = a t + v_{0}$"
      ],
      "text/plain": [
       "Eq(v, a*t + v_0)"
      ]
     },
     "metadata": {},
     "output_type": "display_data"
    },
    {
     "name": "stdout",
     "output_type": "stream",
     "text": [
      "f4) Determines Displacement\n"
     ]
    },
    {
     "data": {
      "text/latex": [
       "$\\displaystyle x = 0.5 a t^{2} + t v_{0} + x_{0}$"
      ],
      "text/plain": [
       "Eq(x, 0.5*a*t**2 + t*v_0 + x_0)"
      ]
     },
     "metadata": {},
     "output_type": "display_data"
    },
    {
     "name": "stdout",
     "output_type": "stream",
     "text": [
      "f5) Final Velocity Squared\n"
     ]
    },
    {
     "data": {
      "text/latex": [
       "$\\displaystyle v^{2} = 2 a \\left(x - x_{0}\\right) + v_{0}^{2}$"
      ],
      "text/plain": [
       "Eq(v**2, 2*a*(x - x_0) + v_0**2)"
      ]
     },
     "metadata": {},
     "output_type": "display_data"
    },
    {
     "name": "stdout",
     "output_type": "stream",
     "text": [
      "f6) Calculates initial velocity\n"
     ]
    },
    {
     "data": {
      "text/latex": [
       "$\\displaystyle v_{0} = \\sqrt{\\frac{a \\left(x - x_{0}\\right)}{\\sin{\\left(\\frac{\\pi \\theta}{90} \\right)}}}$"
      ],
      "text/plain": [
       "Eq(v_0, sqrt(a*(x - x_0)/sin(pi*theta/90)))"
      ]
     },
     "metadata": {},
     "output_type": "display_data"
    },
    {
     "name": "stdout",
     "output_type": "stream",
     "text": [
      "f7) Calculates Trajectory\n"
     ]
    },
    {
     "data": {
      "text/latex": [
       "$\\displaystyle y = x \\left(- \\frac{a x}{2 v_{0}^{2} \\cos^{2}{\\left(\\frac{\\pi \\theta}{180} \\right)}} + \\tan{\\left(\\frac{\\pi \\theta}{180} \\right)}\\right)$"
      ],
      "text/plain": [
       "Eq(y, x*(-a*x/(2*v_0**2*cos(pi*theta/180)**2) + tan(pi*theta/180)))"
      ]
     },
     "metadata": {},
     "output_type": "display_data"
    },
    {
     "name": "stdout",
     "output_type": "stream",
     "text": [
      "f8) Period for Uniform Circular Motion\n"
     ]
    },
    {
     "data": {
      "text/latex": [
       "$\\displaystyle T = \\frac{2 \\pi r}{v}$"
      ],
      "text/plain": [
       "Eq(T, 2*pi*r/v)"
      ]
     },
     "metadata": {},
     "output_type": "display_data"
    },
    {
     "name": "stdout",
     "output_type": "stream",
     "text": [
      "f9) Angular Frequency for Uniform Circular Motion\n"
     ]
    },
    {
     "data": {
      "text/latex": [
       "$\\displaystyle \\omega = \\frac{2 \\pi}{T}$"
      ],
      "text/plain": [
       "Eq(omega, 2*pi/T)"
      ]
     },
     "metadata": {},
     "output_type": "display_data"
    },
    {
     "name": "stdout",
     "output_type": "stream",
     "text": [
      "f10) The position of the particle for Uniform Circular Motion\n"
     ]
    },
    {
     "data": {
      "text/latex": [
       "$\\displaystyle \\operatorname{r⃗}{\\left(t \\right)} = i r \\cos{\\left(\\omega t \\right)} + j r \\sin{\\left(\\omega t \\right)}$"
      ],
      "text/plain": [
       "Eq(r⃗(t), i*r*cos(omega*t) + j*r*sin(omega*t))"
      ]
     },
     "metadata": {},
     "output_type": "display_data"
    },
    {
     "name": "stdout",
     "output_type": "stream",
     "text": [
      "Enter the number of the function: 10\n",
      "Enter the particle's position (type 'funcr' if unknown): funcr\n",
      "Enter the radius in radians: 0.175\n",
      "Enter the angular frequency in radians (type 'omega' if unknown): 2.875*10**7\n",
      "Enter the time: 2*10**-7\n",
      "The result is: [{funcr: 0.150708673003266*i - 0.0889488385623702*j}]\n"
     ]
    }
   ],
   "source": [
    "funcr = Function('r\\u20D7')(t)\n",
    "eq0 = Eq(funcv, a*(t-t0)+v0)\n",
    "eq1 = Eq(v_avg, (v0 + v) / 2)       #NOTE: avg acceleration is (v-v0)/(t-t0)\n",
    "eq2 = Eq(x, x0 + v_avg * t)\n",
    "eq3 = Eq(v, v0 + a * t)\n",
    "eq4 = Eq(x, x0 + v0 * t + (1 / 2) * a * t ** 2)\n",
    "eq5 = Eq(v ** 2, v0 ** 2 + 2 * a * (x - x0))\n",
    "eq6 = Eq(v0,sqrt((a*(x-x0))/sin(2*rad(theta))))\n",
    "eq7 = Eq(y,x*(tan(rad(theta))-x*(a/(2*(v0*cos(rad(theta)))**2))))\n",
    "eq8 = Eq(T,(2*pi*r)/v)\n",
    "eq9 = Eq(omega, (2*pi)/T)\n",
    "eq10 = Eq(funcr,r*cos(omega*t)*i+r*sin(omega*t)*j)\n",
    "\n",
    "print(\"f0) Equation of Motion\");display(eq0)\n",
    "print(\"f1) Determines Average Velocity\");display(eq1)\n",
    "print(\"f2) Determines Displacement\");display(eq2)\n",
    "print(\"f3) Equation of Motion\");display(eq3)\n",
    "print(\"f4) Determines Displacement\");display(eq4)\n",
    "print(\"f5) Final Velocity Squared\");display(eq5)\n",
    "print(\"f6) Calculates initial velocity\");display(eq6)\n",
    "print(\"f7) Calculates Trajectory\");display(eq7)\n",
    "print(\"f8) Period for Uniform Circular Motion\");display(eq8)\n",
    "print(\"f9) Angular Frequency for Uniform Circular Motion\");display(eq9)\n",
    "print(\"f10) The position of the particle for Uniform Circular Motion\");display(eq10)\n",
    "def solve_eq(eq, subs_dict):\n",
    "    return solve(eq.subs(subs_dict))\n",
    "def f0(ffuncv,aa,tt,t0t0,v0v0): \n",
    "    return solve_eq(eq0, {funcv: ffuncv, a: aa, t: tt,t0: t0t0, v0: v0v0})\n",
    "def f1(vv_avg,vv,v0v0): \n",
    "    return solve_eq(eq1, {v_avg: vv_avg, v: vv, v0: v0v0})\n",
    "def f2(xx,vv_avg,tt,x0x0): \n",
    "    return solve_eq(eq2, {x: xx, v_avg: vv_avg, t: tt, x0: x0x0})\n",
    "def f3(vv,aa,tt,v0v0): \n",
    "    return solve_eq(eq3, {v: vv, a: aa, t: tt, v0: v0v0})\n",
    "def f4(xx, aa, tt, v0v0, x0x0):\n",
    "    return solve_eq(eq4, {x: xx, a: aa, t: tt, v0: v0v0, x0: x0x0})\n",
    "def f5(vv, aa, xx, x0x0,v0v0):\n",
    "    return solve_eq(eq5, {v: vv, a: aa, x: xx, x0: x0x0, v0: v0v0})\n",
    "def f6(v0v0, aa, xx, x0x0,thetatheta):\n",
    "    return solve_eq(eq6, {v0: v0v0, a: aa, x: xx, x0: x0x0, theta: thetatheta})\n",
    "def f7(yy, xx,aa,v0v0,thetatheta):\n",
    "    return solve_eq(eq7, {y: yy, x: xx,a: aa, v0: v0v0, theta: thetatheta})\n",
    "def f8(TT, rr, vv):\n",
    "    return solve_eq(eq8, {T: TT, r: rr,v: vv})\n",
    "def f9(omegaomega,TT):\n",
    "    return solve_eq(eq9, {omega: omegaomega, T: TT})\n",
    "def f10(ffuncr,rr,omegaomega,tt):\n",
    "    return solve_eq(eq10, {funcr:ffuncr, r:rr,omega: omegaomega, t: tt})\n",
    "# Dictionary to map function numbers to their corresponding functions\n",
    "functions = {\n",
    "    0: f0,\n",
    "    1: f1,\n",
    "    2: f2,\n",
    "    3: f3,\n",
    "    4: f4,\n",
    "    5: f5,\n",
    "    6: f6,\n",
    "    7: f7,\n",
    "    8: f8,\n",
    "    9: f9,\n",
    "    10:f10,\n",
    "\n",
    "}\n",
    "selected_function = int(input(\"Enter the number of the function: \"))\n",
    "\n",
    "# Prompt user to enter variables\n",
    "if selected_function in functions:\n",
    "    func = functions[selected_function]\n",
    "    if selected_function == 0:\n",
    "        ffuncv = input(\"Enter the final velocity: \")\n",
    "        aa = input(\"Enter the acceleration: \")\n",
    "        tt = input(\"Enter the final time: \")\n",
    "        t0t0=input(\"Enter the initial time: \")\n",
    "        v0v0 = input(\"Enter the initial velocity: \")\n",
    "        if v0v0.isnumeric() or (v0v0[0] == '-' and v0v0[1:].isnumeric()):\n",
    "            v0v0 = float(v0v0)\n",
    "        result = func(ffuncv, aa, tt,t0t0, v0v0)\n",
    "    elif selected_function == 1:\n",
    "        vv_avg = input(\"Enter the average velocity: \")\n",
    "        if vv_avg.isnumeric() or (vv_avg[0] == '-' and vv_avg[1:].isnumeric()):\n",
    "            vv_avg = float(vv_avg)\n",
    "        vv = input(\"Enter the final velocity: \")\n",
    "        v0v0 = input(\"Enter the initial velocity: \")\n",
    "        if v0v0.isnumeric() or (v0v0[0] == '-' and v0v0[1:].isnumeric()):\n",
    "            v0v0 = float(v0v0)\n",
    "        result = func(vv_avg, vv, v0v0)\n",
    "    elif selected_function == 2:\n",
    "        xx = input(\"Enter the displacement: \")\n",
    "        if xx.isnumeric() or (xx[0] == '-' and xx[1:].isnumeric()):\n",
    "            xx = float(xx)\n",
    "        vv_avg = input(\"Enter the average velocity: \")\n",
    "        tt = input(\"Enter the time: \")\n",
    "        if tt.isnumeric() or (tt[0] == '-' and tt[1:].isnumeric()):\n",
    "            tt = float(tt)\n",
    "        x0x0 = input(\"Enter the initial position: \")\n",
    "        if x0x0.isnumeric() or (x0x0[0] == '-' and x0x0[1:].isnumeric()):\n",
    "            x0x0 = float(x0x0)\n",
    "        result = func(xx, vv_avg, tt, x0x0)\n",
    "    elif selected_function == 3:\n",
    "        vv = input(\"Enter the final velocity: \")\n",
    "        aa = input(\"Enter the acceleration: \")\n",
    "        tt = input(\"Enter the time: \")\n",
    "        v0v0 = input(\"Enter the initial velocity: \")\n",
    "        if v0v0.isnumeric() or (v0v0[0] == '-' and v0v0[1:].isnumeric()):\n",
    "            v0v0 = float(v0v0)\n",
    "        result = func(vv, aa, tt, v0v0)\n",
    "    elif selected_function == 4:\n",
    "        xx = input(\"Enter the displacement: \")\n",
    "        aa = input(\"Enter the acceleration: \")\n",
    "        tt = input(\"Enter the time: \")\n",
    "        v0v0 = input(\"Enter the initial velocity: \")\n",
    "        if v0v0.isnumeric() or (v0v0[0] == '-' and v0v0[1:].isnumeric()):\n",
    "            v0v0 = float(v0v0)\n",
    "        x0x0 = input(\"Enter the initial position: \")\n",
    "        if x0x0.isnumeric() or (x0x0[0] == '-' and x0x0[1:].isnumeric()):\n",
    "            x0x0 = float(x0x0)\n",
    "        result = func(xx, aa, tt, v0v0, x0x0)\n",
    "    elif selected_function == 5: \n",
    "        vv = input(\"Enter the final velocity: \")\n",
    "        aa = input(\"Enter the acceleration: \")\n",
    "        xx = input(\"Enter the displacement: \")\n",
    "        x0x0 = input(\"Enter the initial position: \")\n",
    "        v0v0 = input(\"Enter the initial velocity: \")\n",
    "        if v0v0.isnumeric() or (v0v0[0] == '-' and v0v0[1:].isnumeric()):\n",
    "            v0v0 = float(v0v0)\n",
    "        result = func(vv, aa, xx, x0x0, v0v0)\n",
    "    elif selected_function == 6: \n",
    "        v0v0 = input(\"Enter the initial velocity: \")\n",
    "        aa = input(\"Enter the acceleration: \")\n",
    "        xx = input(\"Enter the end distance: \")\n",
    "        x0x0 = input(\"Enter the initial distance: \")\n",
    "        thetatheta = input(\"Enter the initial angle in degrees: \")\n",
    "        if v0v0.isnumeric() or (v0v0[0] == '-' and v0v0[1:].isnumeric()):\n",
    "            v0v0 = float(v0v0)\n",
    "        result = func(v0v0, aa, xx, x0x0, thetatheta)\n",
    "    elif selected_function == 7: \n",
    "        yy = input(\"Enter the initial height: \")\n",
    "        xx = input(\"Enter the end distance: \")\n",
    "        aa = input(\"Enter the acceleration: \")\n",
    "        v0v0 = input(\"Enter the initial velocity: \")\n",
    "        thetatheta = input(\"Enter the initial angle in degrees: \")\n",
    "        if v0v0.isnumeric() or (v0v0[0] == '-' and v0v0[1:].isnumeric()):\n",
    "            v0v0 = float(v0v0)\n",
    "        result = func(yy, xx, aa, v0v0, thetatheta)\n",
    "    elif selected_function == 8: \n",
    "        TT = input(\"Enter the period of motion: \")\n",
    "        rr = input(\"Enter the radius: \")\n",
    "        vv = input(\"Enter the speed or velocity: \")\n",
    "        result = func(TT, rr, vv)        \n",
    "    elif selected_function == 9: \n",
    "        omegaomega = input(\"Enter the angular frequency in radians (type 'omega' if unknown): \")\n",
    "        TT = input(\"Enter the period of motion: \")\n",
    "        result = func(omegaomega, TT)  \n",
    "    elif selected_function == 10: \n",
    "        ffuncr = input(\"Enter the particle's position (type 'funcr' if unknown): \")\n",
    "        rr = input(\"Enter the radius in radians: \")\n",
    "        omegaomega = input(\"Enter the angular frequency in radians (type 'omega' if unknown): \")\n",
    "        tt = input(\"Enter the time: \")\n",
    "        result = func(ffuncr,rr,omegaomega,tt)          \n",
    "        \n",
    "    print(\"The result is:\", result)\n",
    "else:\n",
    "    print(\"Invalid function number. Please choose a number between 0 and 10.\")"
   ]
  },
  {
   "cell_type": "code",
   "execution_count": null,
   "id": "81e23c6b",
   "metadata": {},
   "outputs": [],
   "source": [
    "#Pythagorean Theoreom to find the MAGNITUDE of a velocity vector\n",
    "# magnitude given A and B for A^2+B^2=C^2\n",
    "A = -15.9\n",
    "B =21\n",
    "C =24  #if three dimensions\n",
    "two = N(sqrt(A**2+B**2),3)\n",
    "three =N(sqrt(A**2+B**2+C**2),3)\n",
    "print(\"pythagorean of two sides:\",two)\n",
    "print(\"pythagorean of three sides:\",three)"
   ]
  },
  {
   "cell_type": "code",
   "execution_count": null,
   "id": "2b77e516",
   "metadata": {},
   "outputs": [],
   "source": [
    "# TOA Calculate the ANGLE of final velocity vector using the inverse tangent function\n",
    "\n",
    "# Given components of the vector V as v_x and v_y\n",
    "opposite_y = -15.9 \n",
    "adjacent_x = 21\n",
    "\n",
    "# Calculate the angle using atan2\n",
    "direction = atan2(opposite_y, adjacent_x)\n",
    "\n",
    "# Convert the direction or angle to degrees\n",
    "direction_degrees = N(deg(direction),3)\n",
    "\n",
    "# Adjust the result to be in the range [0, 360)\n",
    "if direction_degrees < 0:\n",
    "    direction_degrees += 360\n",
    "print(f\"The angle is {direction_degrees} degrees\")\n",
    "print(f\"The angle is {360-direction_degrees} degrees below the x-axis\")"
   ]
  },
  {
   "cell_type": "markdown",
   "id": "7ceecb91",
   "metadata": {},
   "source": [
    "# Motion Along a Straight Line"
   ]
  },
  {
   "cell_type": "code",
   "execution_count": null,
   "id": "7a90a820",
   "metadata": {},
   "outputs": [],
   "source": [
    "#impromptu calculator\n",
    "eqn = Eq(0,t**2+10*t-200)\n",
    "eqn\n",
    "solve(eqn)\n",
    "q = 120**2\n",
    "q = Symbol('q')\n",
    "N(800000*sqrt(94),3)\n",
    "2501/50"
   ]
  },
  {
   "cell_type": "code",
   "execution_count": null,
   "id": "0cf4f1f3",
   "metadata": {},
   "outputs": [],
   "source": [
    "# Converts km/hr to m/s\n",
    "def km_per_hr_to_m_per_s(speed_km_hr):\n",
    "    # 1 km/hr = 1000 m / 3600 s\n",
    "    conversion_factor = Rational(1000, 3600)\n",
    "    return speed_km_hr * conversion_factor\n",
    "speed_km_hr = 80  # Example speed in km/hr\n",
    "speed_m_per_s = km_per_hr_to_m_per_s(speed_km_hr)\n",
    "print(\"Speed in m/s:\", N(speed_m_per_s,3))"
   ]
  },
  {
   "cell_type": "code",
   "execution_count": null,
   "id": "94ac1c7a",
   "metadata": {},
   "outputs": [],
   "source": [
    "t0, t, x0, v0, v, v_avg, a =  Symbol('t_0'),Symbol('t'), Symbol('x_0'), Symbol('v_0'), Symbol('v'), Symbol(r'\\bar{v}'), Symbol('a')\n",
    "funcv = Function('v')(t)\n",
    "eq0 = Eq(funcv, a*(t-t0)+v0)\n",
    "eq1 = Eq(v_avg, (v0 + v) / 2)       #NOTE: avg acceleration is (v-v0)/(t-t0)\n",
    "eq2 = Eq(x, x0 + v_avg * t)\n",
    "eq3 = Eq(v, v0 + a * t)\n",
    "eq4 = Eq(x, x0 + v0 * t + (1 / 2) * a * t ** 2)\n",
    "eq5 = Eq(v ** 2, v0 ** 2 + 2 * a * (x - x0))\n",
    "print(\"f0) Equation of Motion\");display(eq0)\n",
    "print(\"f1) Determines Average Velocity\");display(eq1)\n",
    "print(\"f2) Determines Displacement\");display(eq2)\n",
    "print(\"f3) Equation of Motion\");display(eq3)\n",
    "print(\"f4) Determines Displacement\");display(eq4)\n",
    "print(\"f5) Final Velocity Squared\");display(eq5)\n",
    "\n",
    "def solve_eq(eq, subs_dict):\n",
    "    return solve(eq.subs(subs_dict))\n",
    "def f0(ffuncv,aa,tt,t0t0,v0v0): \n",
    "    return solve_eq(eq0, {funcv: ffuncv, a: aa, t: tt,t0: t0t0, v0: v0v0})\n",
    "def f1(vv_avg,vv,v0v0): \n",
    "    return solve_eq(eq1, {v_avg: vv_avg, v: vv, v0: v0v0})\n",
    "def f2(xx,vv_avg,tt,x0x0): \n",
    "    return solve_eq(eq2, {x: xx, v_avg: vv_avg, t: tt, x0: x0x0})\n",
    "def f3(vv,aa,tt,v0v0): \n",
    "    return solve_eq(eq3, {v: vv, a: aa, t: tt, v0: v0v0})\n",
    "def f4(xx, aa, tt, v0v0, x0x0):\n",
    "    return solve_eq(eq4, {x: xx, a: aa, t: tt, v0: v0v0, x0: x0x0})\n",
    "def f5(vv, aa, xx, x0x0,v0v0):\n",
    "    return solve_eq(eq5, {v: vv, a: aa, x: xx, x0: x0x0, v0: v0v0})\n",
    "\n",
    "# Dictionary to map function numbers to their corresponding functions\n",
    "functions = {\n",
    "    0: f0,\n",
    "    1: f1,\n",
    "    2: f2,\n",
    "    3: f3,\n",
    "    4: f4,\n",
    "    5: f5\n",
    "}\n",
    "selected_function = int(input(\"Enter the number of the function: \"))\n",
    "\n",
    "# Prompt user to enter variables\n",
    "if selected_function in functions:\n",
    "    func = functions[selected_function]\n",
    "    if selected_function == 0:\n",
    "        ffuncv = input(\"Enter the final velocity: \")\n",
    "        aa = input(\"Enter the acceleration: \")\n",
    "        tt = input(\"Enter the final time: \")\n",
    "        t0t0=input(\"Enter the initial time: \")\n",
    "        v0v0 = input(\"Enter the initial velocity: \")\n",
    "        if v0v0.isnumeric() or (v0v0[0] == '-' and v0v0[1:].isnumeric()):\n",
    "            v0v0 = float(v0v0)\n",
    "        result = func(ffuncv, aa, tt,t0t0, v0v0)\n",
    "    elif selected_function == 1:\n",
    "        vv_avg = input(\"Enter the average velocity: \")\n",
    "        if vv_avg.isnumeric() or (vv_avg[0] == '-' and vv_avg[1:].isnumeric()):\n",
    "            vv_avg = float(vv_avg)\n",
    "        vv = input(\"Enter the final velocity: \")\n",
    "        v0v0 = input(\"Enter the initial velocity: \")\n",
    "        if v0v0.isnumeric() or (v0v0[0] == '-' and v0v0[1:].isnumeric()):\n",
    "            v0v0 = float(v0v0)\n",
    "        result = func(vv_avg, vv, v0v0)\n",
    "    elif selected_function == 2:\n",
    "        xx = input(\"Enter the displacement: \")\n",
    "        if xx.isnumeric() or (xx[0] == '-' and xx[1:].isnumeric()):\n",
    "            xx = float(xx)\n",
    "        vv_avg = input(\"Enter the average velocity: \")\n",
    "        tt = input(\"Enter the time: \")\n",
    "        if tt.isnumeric() or (tt[0] == '-' and tt[1:].isnumeric()):\n",
    "            tt = float(tt)\n",
    "        x0x0 = input(\"Enter the initial position: \")\n",
    "        if x0x0.isnumeric() or (x0x0[0] == '-' and x0x0[1:].isnumeric()):\n",
    "            x0x0 = float(x0x0)\n",
    "        result = func(xx, vv_avg, tt, x0x0)\n",
    "    elif selected_function == 3:\n",
    "        vv = input(\"Enter the final velocity: \")\n",
    "        aa = input(\"Enter the acceleration: \")\n",
    "        tt = input(\"Enter the time: \")\n",
    "        v0v0 = input(\"Enter the initial velocity: \")\n",
    "        if v0v0.isnumeric() or (v0v0[0] == '-' and v0v0[1:].isnumeric()):\n",
    "            v0v0 = float(v0v0)\n",
    "        result = func(vv, aa, tt, v0v0)\n",
    "    elif selected_function == 4:\n",
    "        xx = input(\"Enter the displacement: \")\n",
    "        aa = input(\"Enter the acceleration: \")\n",
    "        tt = input(\"Enter the time: \")\n",
    "        v0v0 = input(\"Enter the initial velocity: \")\n",
    "        if v0v0.isnumeric() or (v0v0[0] == '-' and v0v0[1:].isnumeric()):\n",
    "            v0v0 = float(v0v0)\n",
    "        x0x0 = input(\"Enter the initial position: \")\n",
    "        if x0x0.isnumeric() or (x0x0[0] == '-' and x0x0[1:].isnumeric()):\n",
    "            x0x0 = float(x0x0)\n",
    "        result = func(xx, aa, tt, v0v0, x0x0)\n",
    "    elif selected_function == 5: # might be broken\n",
    "        vv = input(\"Enter the final velocity: \")\n",
    "        aa = input(\"Enter the acceleration: \")\n",
    "        xx = input(\"Enter the displacement: \")\n",
    "        x0x0 = input(\"Enter the initial position: \")\n",
    "        v0v0 = input(\"Enter the initial velocity: \")\n",
    "        if v0v0.isnumeric() or (v0v0[0] == '-' and v0v0[1:].isnumeric()):\n",
    "            v0v0 = float(v0v0)\n",
    "        result = func(vv, aa, xx, x0x0, v0v0)\n",
    "\n",
    "    print(\"The result is:\", result)\n",
    "else:\n",
    "    print(\"Invalid function number. Please choose a number between 0 and 5.\")"
   ]
  },
  {
   "cell_type": "markdown",
   "id": "d408b43f",
   "metadata": {},
   "source": [
    "# Vectors"
   ]
  },
  {
   "cell_type": "code",
   "execution_count": null,
   "id": "f731043e",
   "metadata": {},
   "outputs": [],
   "source": [
    "#Pythagorean Theoreom\n",
    "#magnitude given A and B for A^2+B^2=C^2\n",
    "A = 5\n",
    "B =4\n",
    "C =24\n",
    "two = N(sqrt(A**2+B**2),3)\n",
    "three =N(sqrt(A**2+B**2+C**2),3)\n",
    "print(\"pythagorean of two sides:\",two)\n",
    "print(\"pythagorean of three sides:\",three)"
   ]
  },
  {
   "cell_type": "code",
   "execution_count": null,
   "id": "a1a255b7",
   "metadata": {},
   "outputs": [],
   "source": [
    "#on the spot basic calculator\n",
    "s = (109/33)\n",
    "s*290"
   ]
  },
  {
   "cell_type": "code",
   "execution_count": null,
   "id": "aa86cfe4",
   "metadata": {},
   "outputs": [],
   "source": [
    "def degrees_to_unit_vector(degrees):\n",
    "    radians = rad(degrees)\n",
    "    x = cos(radians)\n",
    "    y = sin(radians)\n",
    "    return (N(x,2), N(y,2))\n",
    "\n",
    "# Test the function\n",
    "degrees = 30  # Example angle in degrees\n",
    "unit_vector = degrees_to_unit_vector(degrees)\n",
    "print(f\"The unit vector for {degrees} degrees is:\")\n",
    "display(Matrix([unit_vector[0],unit_vector[1]]))"
   ]
  },
  {
   "cell_type": "code",
   "execution_count": null,
   "id": "e719e2f4",
   "metadata": {},
   "outputs": [],
   "source": [
    "#calc components given a angle and magnitude\n",
    "magnitude=2.1\n",
    "angle_degrees =15\n",
    "\n",
    "# Convert degrees to radians\n",
    "angle_radians = rad(angle_degrees)\n",
    "# Calculate cosine of the angle in degrees\n",
    "print(\"cos of x-component:\",N(magnitude*cos(angle_radians),4))\n",
    "print(\"sin of y-component:\",N(magnitude*sin(angle_radians),4))"
   ]
  },
  {
   "cell_type": "code",
   "execution_count": null,
   "id": "6737251d",
   "metadata": {},
   "outputs": [],
   "source": [
    "# Vector algebra, dot/cross products, and projections with angles\n",
    "a = Symbol('A')\n",
    "b = Symbol('B')\n",
    "bhat = Symbol('B^hat')\n",
    "ahat = Symbol('A^hat')\n",
    "A = Matrix([200, -60])\n",
    "B = Matrix([-72, -40])\n",
    "C = Matrix([3, 4,10])\n",
    "D = Matrix([1, 4,0])\n",
    "B_ = B*(1/sqrt(B.dot(B)))\n",
    "A_ = A*(1/sqrt(A.dot(A)))\n",
    "\n",
    "# Compute the cross product C x D (3 components or dimensions)\n",
    "cross_product = N(C.cross(D),3)\n",
    "print(f\"The cross product C x D is:\")\n",
    "display(cross_product)\n",
    "\n",
    "# Compute the magnitude of the cross product C x D (3 components or dimensions)\n",
    "magn_cross = N(sqrt(cross_product[0]**2+cross_product[1]**2+cross_product[2]**2),3)\n",
    "print(f\"The magnitude of cross product C x D is {magn_cross}:\")\n",
    "print(\"\\n\")\n",
    "\n",
    "# Compute the dot product (2 components or dimensions)\n",
    "dot_product = N(A.dot(B),4)\n",
    "print(f\"Dot product of A and B is {dot_product}\")\n",
    "print(\"\\n\")\n",
    "\n",
    "# Compute the dot product (3 components or dimensions)\n",
    "dot_product2 = N(C.dot(D),3)\n",
    "print(f\"Dot product of C and D is {dot_product2}\")\n",
    "print(\"\\n\")\n",
    "\n",
    "# Find the projection of A onto B       proj_B(A)\n",
    "projection = N((A.dot(B_)* B_),3)\n",
    "print(\"Projection of A onto B proj_B(A):\")\n",
    "display(projection)\n",
    "\n",
    "# Find the projection of B onto A\n",
    "projection2 = N((B.dot(A_)* A_),3)\n",
    "print(\"Projection of B onto A proj_A(B):\")\n",
    "display(projection2)\n",
    "\n",
    "# Find the Angle between A and B (2 components or dimensions)\n",
    "angle = N(deg(acos(A.dot(B)/(sqrt(A.dot(A))*sqrt(B.dot(B))))),3)\n",
    "print(f\"The angle between A and B is {angle} degrees (2 components or dimensions)\")\n",
    "\n",
    "# Find the Angle between C and D (3 components or dimensions)\n",
    "angle = N(deg(acos(C.dot(D)/(sqrt(C.dot(C))*sqrt(D.dot(D))))),3)\n",
    "print(f\"The angle between C and D is {angle} degrees (3 components or dimensions)\")\n",
    "\n"
   ]
  },
  {
   "cell_type": "code",
   "execution_count": null,
   "id": "ed22d5d3",
   "metadata": {},
   "outputs": [],
   "source": [
    "# TOA Calculate the direction of the force using the inverse tangent function\n",
    "\n",
    "# Given components of the vector\n",
    "opposite_y = 4\n",
    "adjacent_x = 3\n",
    "\n",
    "# Calculate the angle using atan2\n",
    "direction = atan2(opposite_y, adjacent_x).evalf()\n",
    "\n",
    "# Convert the direction or angle to degrees\n",
    "direction_degrees = N(deg(direction),3)\n",
    "\n",
    "# Adjust the result to be in the range [0, 360)\n",
    "if direction_degrees < 0:\n",
    "    direction_degrees += 360\n",
    "print(f\"The angle is {direction_degrees} degrees\")"
   ]
  },
  {
   "cell_type": "code",
   "execution_count": null,
   "id": "bcf1359c",
   "metadata": {},
   "outputs": [],
   "source": [
    "# TOA finding x-component (adjacent) given y-component and angle\n",
    "opposite_side_length = 15\n",
    "angle_degrees = 45\n",
    "angle_radians = rad(angle_degrees)\n",
    "adjacent_side_length = N(opposite_side_length / tan(angle_radians),3)\n",
    "print(\"Length of adjacent side:\", adjacent_side_length, \"meters\")"
   ]
  },
  {
   "cell_type": "code",
   "execution_count": null,
   "id": "43f0f49d",
   "metadata": {},
   "outputs": [],
   "source": [
    "# TOA finding opposite given hypotenus (magnitude) and angle\n",
    "hypotenus = 32\n",
    "angle_degrees = 10\n",
    "angle_radians = rad(angle_degrees)\n",
    "opposite = N(hypotenus * tan(angle_radians),3)\n",
    "print(\"Length or magnitude of opposite side:\", opposite, \"meters\")"
   ]
  },
  {
   "cell_type": "code",
   "execution_count": null,
   "id": "6f8775ea",
   "metadata": {},
   "outputs": [],
   "source": [
    "# Two points in a plane have polar coordinates\n",
    "# Determine their x-y coordinates and the distance between them in\n",
    "# Given polar coordinates\n",
    "p1_r = 0\n",
    "p1_phi = 0  # Angle in degrees\n",
    "p2_r = 5\n",
    "p2_phi = 180  # Angle in degrees\n",
    "\n",
    "# Converting polar coordinates to Cartesian coordinates\n",
    "x1 = N(p1_r * cos(p1_phi*pi/180), 2)  # Convert degrees to radians\n",
    "y1 = N(p1_r * sin(p1_phi*pi/180), 2)\n",
    "x2 = N(p2_r * cos(p2_phi*pi/180), 2)\n",
    "y2 = N(p2_r * sin(p2_phi*pi/180), 2)\n",
    "\n",
    "# Distance between two points in Cartesian coordinate system\n",
    "distance = N(sqrt((x2 - x1)**2 + (y2 - y1)**2), 2)\n",
    "\n",
    "# Splicing the variables inside the print statement\n",
    "print(f\"Point 1 converted is ({x1}, {y1})\")\n",
    "print(f\"Point 2 converted is ({x2}, {y2})\")\n",
    "print(f\"The distance between the points is {distance}\")"
   ]
  },
  {
   "cell_type": "code",
   "execution_count": null,
   "id": "d364c23c",
   "metadata": {},
   "outputs": [],
   "source": [
    "# general calculator\n",
    "(pi/6).evalf()"
   ]
  },
  {
   "cell_type": "code",
   "execution_count": null,
   "id": "9b5464b2",
   "metadata": {},
   "outputs": [],
   "source": [
    "#Find Polar Coordinates given x and y points\n",
    "# Given Cartesian coordinates\n",
    "x = -1\n",
    "y = 1\n",
    "# Calculate radius (r)\n",
    "r = N(sqrt((x)**2 + y**2), decis)\n",
    "\n",
    "# Calculate angle (phi) using atan2 function to handle all cases\n",
    "phi = N(atan2(y, x), decis)\n",
    "\n",
    "# Convert angle to be between 0 and 2*pi\n",
    "phi = (phi + 2*pi) % (2*pi)\n",
    "\n",
    "# Output the polar coordinates\n",
    "print(f\"Polar coordinates: (r={r}, phi={phi})\")"
   ]
  },
  {
   "cell_type": "code",
   "execution_count": null,
   "id": "86dbf4c8",
   "metadata": {},
   "outputs": [],
   "source": [
    "# Special Case Find Polar Coordinates given abstract ax and yy points given constants a, b\n",
    "a,b = 3,-3 #constants\n",
    "x,y = Symbol('x'),Symbol('y')\n",
    "# Calculate radius (r)\n",
    "r = N(sqrt((a*x)**2 + b*y**2), decis)\n",
    "\n",
    "# Calculate angle (phi) using atan2 function to handle all cases\n",
    "phi = N(atan2(b*y, a*x), decis)\n",
    "\n",
    "# Convert angle to be between 0 and 2*pi\n",
    "phi = (phi + 2*pi) % (2*pi)\n",
    "\n",
    "# Output the polar coordinates\n",
    "print(f\"Polar coordinates: (r={r}, phi={phi})\")"
   ]
  },
  {
   "cell_type": "code",
   "execution_count": null,
   "id": "b435ab65",
   "metadata": {},
   "outputs": [],
   "source": [
    "#Find Polar Coordinates given 2 sets of x and y points\n",
    "# Given Cartesian coordinates\n",
    "A_x = 2\n",
    "A_y = -4\n",
    "B_x = -3\n",
    "B_y = 3\n",
    "\n",
    "# Convert Cartesian coordinates to polar coordinates\n",
    "def cartesian_to_polar(x, y):\n",
    "    r = sqrt(x**2 + y**2)\n",
    "    phi = atan2(y, x)\n",
    "    return r, phi\n",
    "\n",
    "A_r, A_phi = cartesian_to_polar(A_x, A_y)\n",
    "B_r, B_phi = cartesian_to_polar(B_x, B_y)\n",
    "\n",
    "# Convert polar coordinates to Cartesian coordinates\n",
    "x1 = N(A_r * cos(A_phi), decis)\n",
    "y1 = N(A_r * sin(A_phi), decis)\n",
    "x2 = N(B_r * cos(B_phi), decis)\n",
    "y2 = N(B_r * sin(B_phi), decis)\n",
    "\n",
    "# Distance between two points in Cartesian coordinate system\n",
    "distance = N(sqrt((x2 - x1)**2 + (y2 - y1)**2), decis)\n",
    "\n",
    "# Output the Cartesian coordinates and distance\n",
    "print(f\"Cartesian coordinates for Point A: ({x1}, {y1})\")\n",
    "print(f\"Cartesian coordinates for Point B: ({x2}, {y2})\")\n",
    "print(f\"The distance between the points is {distance}\")\n"
   ]
  },
  {
   "cell_type": "code",
   "execution_count": null,
   "id": "bf820401",
   "metadata": {},
   "outputs": [],
   "source": [
    "eqn = sqrt(x)\n",
    "p = plot(eqn,title=\"Log Scaled Graph\",size = (5,5),show=True,legend=True,yscale='log')"
   ]
  },
  {
   "cell_type": "code",
   "execution_count": null,
   "id": "16e06a3f",
   "metadata": {},
   "outputs": [],
   "source": [
    "p = plot(eqn,diff(eqn),title=\"Regular Scaled Graph\",size = (5,5),show=True,legend=True,ylim=(0,3))"
   ]
  },
  {
   "cell_type": "code",
   "execution_count": null,
   "id": "ed7082d7",
   "metadata": {},
   "outputs": [],
   "source": [
    "import sympy as sp\n",
    "import numpy as np\n",
    "import matplotlib.pyplot as plt\n",
    "from mpl_toolkits.mplot3d import Axes3D\n",
    "\n",
    "# Define the variable\n",
    "t = sp.symbols('t')\n",
    "\n",
    "# Define the vector components\n",
    "rx = 10*t - t**2\n",
    "ry = 5*t\n",
    "rz = 5*t\n",
    "\n",
    "# Convert symbolic expressions to numerical arrays\n",
    "t_values = np.linspace(0, 10, 100)  # Define the range of t values\n",
    "rx_values = np.array([rx.subs(t, val) - rx.subs(t, 0) for val in t_values])\n",
    "ry_values = np.array([ry.subs(t, val) - ry.subs(t, 0) for val in t_values])\n",
    "rz_values = np.array([rz.subs(t, val) - rz.subs(t, 0) for val in t_values])\n",
    "\n",
    "# Create a figure and 3D axes\n",
    "fig = plt.figure()\n",
    "ax = fig.add_subplot(111, projection='3d')\n",
    "\n",
    "# Plot the vector\n",
    "ax.plot3D(rx_values, ry_values, rz_values)\n",
    "\n",
    "# Set labels\n",
    "ax.set_xlabel('r_x(t)')\n",
    "ax.set_ylabel('r_y(t)')\n",
    "ax.set_zlabel('r_z(t)')\n",
    "\n",
    "# Show plot\n",
    "plt.show()\n"
   ]
  }
 ],
 "metadata": {
  "kernelspec": {
   "display_name": "Python 3 (ipykernel)",
   "language": "python",
   "name": "python3"
  },
  "language_info": {
   "codemirror_mode": {
    "name": "ipython",
    "version": 3
   },
   "file_extension": ".py",
   "mimetype": "text/x-python",
   "name": "python",
   "nbconvert_exporter": "python",
   "pygments_lexer": "ipython3",
   "version": "3.10.12"
  }
 },
 "nbformat": 4,
 "nbformat_minor": 5
}
