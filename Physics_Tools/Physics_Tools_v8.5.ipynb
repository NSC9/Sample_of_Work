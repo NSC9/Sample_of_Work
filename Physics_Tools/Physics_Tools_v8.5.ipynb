{
 "cells": [
  {
   "cell_type": "code",
   "execution_count": null,
   "id": "fa9010fb",
   "metadata": {},
   "outputs": [],
   "source": [
    "# example of api_key.py in same local directory as this python file\n",
    "\n",
    "# Your API key\n",
    "chatgpt_api_key = \"sk-proj-PQmKwy2cy4B4CaDpevUTuT3BlbkhaQL0CdcKOu8NHcYqKp9L8\""
   ]
  },
  {
   "cell_type": "code",
   "execution_count": 1,
   "id": "fcc8986c",
   "metadata": {},
   "outputs": [],
   "source": [
    "#https://tinyurl.com/Physics-Tools\n",
    "from openai import OpenAI\n",
    "from api_key import chatgpt_api_key\n",
    "from sympy import *\n",
    "from sympy.abc import x,y,t,theta,omega\n",
    "decis = 1 #specifies decimal places in outputs for n in N(stuff,n)\n",
    "funcv = Function('v')(t)\n",
    "i = symbols('i');j = symbols('j');v0x = Symbol('v_0x');v0y = Symbol('v_0y');vvv = Symbol('v\\u20D7')\n",
    "a_c = Symbol('a_c'); a_T = Symbol('a_T'); a = Symbol('||a\\u20D7||'); aa = Symbol('a\\u20D7')\n",
    "r,T,t0, t, x0, v0, v, v_avg, a =  Symbol('r'),Symbol('T'),Symbol('t_0'),Symbol('t'), Symbol('x_0'), Symbol('v_0'), Symbol('v'), Symbol(r'\\bar{v}'), Symbol('a')"
   ]
  },
  {
   "cell_type": "code",
   "execution_count": 5,
   "id": "f366858a",
   "metadata": {},
   "outputs": [
    {
     "data": {
      "text/plain": [
       "27.22222222222222"
      ]
     },
     "execution_count": 5,
     "metadata": {},
     "output_type": "execute_result"
    }
   ],
   "source": [
    "# quick calculator\n",
    "solve(Eq(x,2*t+t**2),t)\n",
    "245/9"
   ]
  },
  {
   "cell_type": "markdown",
   "id": "c50b517e",
   "metadata": {},
   "source": [
    "# Feature Extractor"
   ]
  },
  {
   "cell_type": "code",
   "execution_count": 24,
   "id": "11fbb45c",
   "metadata": {},
   "outputs": [
    {
     "name": "stdout",
     "output_type": "stream",
     "text": [
      "Copy/paste the word problem here: A bullet is shot horizontally from shoulder height (1.5 m) with an initial speed 200 m/s.\n",
      "...\n",
      ".......\n",
      ".............\n",
      "v0x = 200 m/s, v0y = 0 m/s, y0 = 1.5 m, ax = 0 m/s^2, ay = -9.81 m/s^2\n"
     ]
    }
   ],
   "source": [
    "# Takes word problem as input and outputs the givens/knowns/variables\n",
    "word_problem = input(\"Copy/paste the word problem here: \")\n",
    "prompt = f\"Focus on minimizing the words used, users only need to know what the variables are\\\n",
    "In your response, format the output in a way that is prepared to be used as \\\n",
    "the input for a function solver. For example, use variables like r for radius, \\\n",
    "t for time, v = velocity, a = acceleration, v0 = initial velocity, etc. Now, extract the \\\n",
    "givens/knowns/variables from the \\\n",
    "following word problem: {word_problem}. Do not forget to include gravity if needed. Specify v0 as v0y or v0x.\"\n",
    "print(\"...\")\n",
    "print(\".......\")\n",
    "print(\".............\")\n",
    "client = OpenAI(\n",
    "    api_key=chatgpt_api_key,\n",
    ")\n",
    "\n",
    "completion = client.chat.completions.create(\n",
    "  model=\"gpt-3.5-turbo\",\n",
    "  messages=[\n",
    "    {\"role\": \"system\", \"content\": \"You are a program that assists a professor.\"},\n",
    "    {\"role\": \"user\", \"content\": prompt}\n",
    "  ]\n",
    ")\n",
    "print(completion.choices[0].message.content)"
   ]
  },
  {
   "cell_type": "code",
   "execution_count": 21,
   "id": "16f515e4",
   "metadata": {},
   "outputs": [
    {
     "name": "stdout",
     "output_type": "stream",
     "text": [
      "Copy/paste the word problem here: A bullet is shot horizontally from shoulder height (1.5 m) with an initial speed 200 m/s. (a) How much time elapses before the bullet hits the ground? (b) How far does the bullet travel horizontally?\n",
      "...\n",
      ".......\n",
      ".............\n",
      "To solve this word problem, we can use the equations of motion for projectile motion. \n",
      "\n",
      "Given:\n",
      "Initial position in the vertical direction, y0 = 1.5 m\n",
      "Initial speed in the horizontal direction, v0x = 200 m/s\n",
      "Acceleration due to gravity, a = -9.81 m/s^2\n",
      "\n",
      "(a) To find the time before the bullet hits the ground:\n",
      "We can use the equation: Eq(y, y0 + v0yt + (1/2)at^2)\n",
      "Where:\n",
      "y = 0 (when the bullet hits the ground)\n",
      "y0 = 1.5 m\n",
      "v0y = 0 (since the bullet is shot horizontally)\n",
      "a = -9.81 m/s^2\n",
      "\n",
      "Substitute the values into the equation to solve for t:\n",
      "0 = 1.5 + 0 + (1/2)(-9.81)t^2\n",
      "-1.5 = -4.905t^2\n",
      "t^2 = 1.5 / 4.905\n",
      "t ≈ sqrt(0.306) ≈ 0.553 s\n",
      "\n",
      "Therefore, the time elapsed before the bullet hits the ground is approximately 0.553 seconds.\n",
      "\n",
      "(b) To find how far the bullet travels horizontally:\n",
      "We can use the equation: Eq(x, x0 + v0x * t)\n",
      "Where:\n",
      "x0 = 0 (initial position in the horizontal direction)\n",
      "v0x = 200 m/s\n",
      "t = 0.553 s\n",
      "\n",
      "Substitute the values into the equation to find x:\n",
      "x = 0 + 200 * 0.553\n",
      "x ≈ 110.6 m\n",
      "\n",
      "Therefore, the bullet travels approximately 110.6 meters horizontally before hitting the ground.\n"
     ]
    }
   ],
   "source": [
    "# Takes word problem as input and outputs suggested equations to use\n",
    "word_problem = input(\"Copy/paste the word problem here: \")\n",
    "prompt = f\"Suggest an equation from this list or one that is not listed that can be used\\\n",
    "to solve this word problem. Equations might be Eq(funcv, a*(t-t0)+v0), \\\n",
    "Eq(v_avg, (v0 + v) / 2),Eq(x, x0 + v * t),Eq(v, v0 + a * t), \\\n",
    "Eq(x, x0 + v0 * t + (1 / 2) * a * t ** 2),Eq(v ** 2, v0 ** 2 + 2 * a * (x - x0)), \\\n",
    "Eq(v0,sqrt((a*(x-x0))/sin(2*rad(theta)))),Eq(T,(2*pi*r)/v),Eq(omega, (2*pi)/T) \\\n",
    "Eq(funcr,r*cos(omega*t)*i+r*sin(omega*t)*j),..use the following word problem: {word_problem}\\\n",
    "swap variables x for y variables when needed like using y0 instead of x0 given the context.\\\n",
    "Double check the gravity is correctly a positive or negative value.\\\n",
    "Ensure the initial speed v0 is framed correctly. v0x and v0y should be specified\"\n",
    "print(\"...\")\n",
    "print(\".......\")\n",
    "print(\".............\")\n",
    "client = OpenAI(\n",
    "    api_key=chatgpt_api_key,\n",
    ")\n",
    "\n",
    "completion = client.chat.completions.create(\n",
    "  model=\"gpt-3.5-turbo\",\n",
    "  messages=[\n",
    "    {\"role\": \"system\", \"content\": \"You are a program that assists a professor.\"},\n",
    "    {\"role\": \"user\", \"content\": prompt}\n",
    "  ]\n",
    ")\n",
    "print(completion.choices[0].message.content)"
   ]
  },
  {
   "cell_type": "markdown",
   "id": "a2bf454c",
   "metadata": {},
   "source": [
    "# Motion in Two and Three Dimensions\n"
   ]
  },
  {
   "cell_type": "code",
   "execution_count": 2,
   "id": "210384e5",
   "metadata": {},
   "outputs": [
    {
     "data": {
      "text/latex": [
       "$\\displaystyle v_{0x} = 4.33$"
      ],
      "text/plain": [
       "Eq(v_0x, 4.33)"
      ]
     },
     "metadata": {},
     "output_type": "display_data"
    },
    {
     "data": {
      "text/latex": [
       "$\\displaystyle v_{0y} = 2.5$"
      ],
      "text/plain": [
       "Eq(v_0y, 2.5)"
      ]
     },
     "metadata": {},
     "output_type": "display_data"
    },
    {
     "data": {
      "text/latex": [
       "$\\displaystyle v⃗ = 4.33 i + 2.5 j$"
      ],
      "text/plain": [
       "Eq(v⃗, 4.33*i + 2.5*j)"
      ]
     },
     "metadata": {},
     "output_type": "display_data"
    }
   ],
   "source": [
    "#calc components of initial velocity vector given its angle and magnitude\n",
    "magnitude=5\n",
    "angle_degrees =30\n",
    "# Convert degrees to radians\n",
    "angle_radians = rad(angle_degrees)\n",
    "# Calculate cosine of the angle in degrees\n",
    "display(Eq(v0x,N(magnitude*cos(angle_radians),4)))\n",
    "display(Eq(v0y,N(magnitude*sin(angle_radians),4)))\n",
    "display(Eq(vvv,N(magnitude*cos(angle_radians),4)*i+N(magnitude*sin(angle_radians),4)*j))"
   ]
  },
  {
   "cell_type": "code",
   "execution_count": 41,
   "id": "6598fb07",
   "metadata": {},
   "outputs": [
    {
     "name": "stdout",
     "output_type": "stream",
     "text": [
      "Enter the time in seconds: 1\n",
      "Enter the radius in meters: 4\n"
     ]
    },
    {
     "data": {
      "text/latex": [
       "$\\displaystyle v{\\left(t \\right)} = t^{3} - t^{2} + 5 t$"
      ],
      "text/plain": [
       "Eq(v(t), t**3 - t**2 + 5*t)"
      ]
     },
     "metadata": {},
     "output_type": "display_data"
    },
    {
     "data": {
      "text/latex": [
       "$\\displaystyle v{\\left(1 \\right)} = 5.0$"
      ],
      "text/plain": [
       "Eq(v(1), 5.0)"
      ]
     },
     "metadata": {},
     "output_type": "display_data"
    },
    {
     "data": {
      "text/latex": [
       "$\\displaystyle a_{c} = \\frac{\\left(t^{3} - t^{2} + 5 t\\right)^{2}}{r} = a_{c} = 6.25$"
      ],
      "text/plain": [
       "Eq(a_c, Eq((t**3 - t**2 + 5*t)**2/r, Eq(a_c, 6.25)))"
      ]
     },
     "metadata": {},
     "output_type": "display_data"
    },
    {
     "data": {
      "text/latex": [
       "$\\displaystyle a_{T} = \\left. \\frac{d}{d t} \\left(t^{3} - t^{2} + 5 t\\right) \\right|_{\\substack{ t=1 }} = a_{T} = 6.0$"
      ],
      "text/plain": [
       "Eq(Eq(a_T, Subs(Derivative(t**3 - t**2 + 5*t, t), t, 1)), Eq(a_T, 6.0))"
      ]
     },
     "metadata": {},
     "output_type": "display_data"
    },
    {
     "data": {
      "text/latex": [
       "$\\displaystyle ||a⃗|| = 8.66$"
      ],
      "text/plain": [
       "Eq(||a⃗||, 8.66)"
      ]
     },
     "metadata": {},
     "output_type": "display_data"
    },
    {
     "name": "stdout",
     "output_type": "stream",
     "text": [
      "The angle is 46.2 degrees\n"
     ]
    },
    {
     "data": {
      "text/latex": [
       "$\\displaystyle a⃗ = 6.001 i + 6.25 j$"
      ],
      "text/plain": [
       "Eq(a⃗, 6.001*i + 6.25*j)"
      ]
     },
     "metadata": {},
     "output_type": "display_data"
    }
   ],
   "source": [
    "#NON UNIFORM CIRCULAR MOTION\n",
    "tt = input(\"Enter the time in seconds: \") \n",
    "rr = input(\"Enter the radius in meters: \") \n",
    "function = t**3-t**2+5*t   #original velocity function must be manually entered\n",
    "funcv = Function('v')(t)\n",
    "eq11 = Eq(funcv,function,evalute=False)\n",
    "eq12 = N(Eq(funcv,function,evalute=False).subs(t,tt),3)\n",
    "eq13 = N(Eq(a_c,eq11.rhs.subs(t,tt)**2/r).subs(r,rr),3)\n",
    "eq133 = Eq(a_c,Eq(eq11.rhs**2/r,eq13,evaluate=False))\n",
    "eq14 = Eq(a_T,Derivative(function)).subs(t,tt)\n",
    "eq15 = N(Eq(eq14,eq14.doit()),3)\n",
    "a_c = eq13.rhs; a_T = eq15.rhs.rhs\n",
    "eq16 = Eq(a,N(sqrt(a_c**2+a_T**2),3))\n",
    "\n",
    "#TOA Calculate the direction of the force using the inverse tangent function\n",
    "opposite_y = a_c\n",
    "adjacent_x = a_T\n",
    "direction = atan2(opposite_y, adjacent_x).evalf()\n",
    "direction_degrees = N(deg(direction),3)\n",
    "if direction_degrees < 0:\n",
    "    direction_degrees += 360\n",
    "    \n",
    "display(eq11,eq12,eq133,eq15,eq16)\n",
    "print(f\"The angle is {direction_degrees} degrees\")\n",
    "\n",
    "#calc components of the final acceleration vector given its angle and magnitude\n",
    "magnitude=eq16.rhs\n",
    "angle_degrees =direction_degrees\n",
    "\n",
    "# Convert degrees to radians\n",
    "angle_radians = rad(angle_degrees)\n",
    "# Calculate cosine of the angle in degrees\n",
    "a0x = Symbol('a_0x');a0y = Symbol('a_0y')\n",
    "a0x = Eq(a0x,N(magnitude*cos(angle_radians),4)).rhs\n",
    "a0y = Eq(a0y,N(magnitude*sin(angle_radians),4)).rhs\n",
    "display(Eq(aa,a0x*i+a0y*j))"
   ]
  },
  {
   "cell_type": "code",
   "execution_count": 27,
   "id": "979ab98f",
   "metadata": {
    "scrolled": false
   },
   "outputs": [
    {
     "name": "stdout",
     "output_type": "stream",
     "text": [
      "f0) Equation of Motion\n"
     ]
    },
    {
     "data": {
      "text/latex": [
       "$\\displaystyle v{\\left(t \\right)} = a \\left(t - t_{0}\\right) + v_{0}$"
      ],
      "text/plain": [
       "Eq(v(t), a*(t - t_0) + v_0)"
      ]
     },
     "metadata": {},
     "output_type": "display_data"
    },
    {
     "name": "stdout",
     "output_type": "stream",
     "text": [
      "f1) Determines Average Velocity\n"
     ]
    },
    {
     "data": {
      "text/latex": [
       "$\\displaystyle \\bar{v} = \\frac{v}{2} + \\frac{v_{0}}{2}$"
      ],
      "text/plain": [
       "Eq(\\bar{v}, v/2 + v_0/2)"
      ]
     },
     "metadata": {},
     "output_type": "display_data"
    },
    {
     "name": "stdout",
     "output_type": "stream",
     "text": [
      "f2) Determines Displacement\n"
     ]
    },
    {
     "data": {
      "text/latex": [
       "$\\displaystyle x = t v + x_{0}$"
      ],
      "text/plain": [
       "Eq(x, t*v + x_0)"
      ]
     },
     "metadata": {},
     "output_type": "display_data"
    },
    {
     "name": "stdout",
     "output_type": "stream",
     "text": [
      "f3) Equation of Motion\n"
     ]
    },
    {
     "data": {
      "text/latex": [
       "$\\displaystyle v = a t + v_{0}$"
      ],
      "text/plain": [
       "Eq(v, a*t + v_0)"
      ]
     },
     "metadata": {},
     "output_type": "display_data"
    },
    {
     "name": "stdout",
     "output_type": "stream",
     "text": [
      "f4) Determines Displacement\n"
     ]
    },
    {
     "data": {
      "text/latex": [
       "$\\displaystyle x = 0.5 a t^{2} + t v_{0} + x_{0}$"
      ],
      "text/plain": [
       "Eq(x, 0.5*a*t**2 + t*v_0 + x_0)"
      ]
     },
     "metadata": {},
     "output_type": "display_data"
    },
    {
     "name": "stdout",
     "output_type": "stream",
     "text": [
      "f5) Final Velocity Squared\n"
     ]
    },
    {
     "data": {
      "text/latex": [
       "$\\displaystyle v^{2} = 2 a \\left(x - x_{0}\\right) + v_{0}^{2}$"
      ],
      "text/plain": [
       "Eq(v**2, 2*a*(x - x_0) + v_0**2)"
      ]
     },
     "metadata": {},
     "output_type": "display_data"
    },
    {
     "name": "stdout",
     "output_type": "stream",
     "text": [
      "f6) Calculates initial velocity\n"
     ]
    },
    {
     "data": {
      "text/latex": [
       "$\\displaystyle v_{0} = \\sqrt{\\frac{a \\left(x - x_{0}\\right)}{\\sin{\\left(\\frac{\\pi \\theta}{90} \\right)}}}$"
      ],
      "text/plain": [
       "Eq(v_0, sqrt(a*(x - x_0)/sin(pi*theta/90)))"
      ]
     },
     "metadata": {},
     "output_type": "display_data"
    },
    {
     "name": "stdout",
     "output_type": "stream",
     "text": [
      "f7) Calculates Trajectory\n"
     ]
    },
    {
     "data": {
      "text/latex": [
       "$\\displaystyle y = x \\left(- \\frac{a x}{2 v_{0}^{2} \\cos^{2}{\\left(\\frac{\\pi \\theta}{180} \\right)}} + \\tan{\\left(\\frac{\\pi \\theta}{180} \\right)}\\right)$"
      ],
      "text/plain": [
       "Eq(y, x*(-a*x/(2*v_0**2*cos(pi*theta/180)**2) + tan(pi*theta/180)))"
      ]
     },
     "metadata": {},
     "output_type": "display_data"
    },
    {
     "name": "stdout",
     "output_type": "stream",
     "text": [
      "f8) Period for Uniform Circular Motion\n"
     ]
    },
    {
     "data": {
      "text/latex": [
       "$\\displaystyle T = \\frac{2 \\pi r}{v}$"
      ],
      "text/plain": [
       "Eq(T, 2*pi*r/v)"
      ]
     },
     "metadata": {},
     "output_type": "display_data"
    },
    {
     "name": "stdout",
     "output_type": "stream",
     "text": [
      "f9) Angular Frequency for Uniform Circular Motion\n"
     ]
    },
    {
     "data": {
      "text/latex": [
       "$\\displaystyle \\omega = \\frac{2 \\pi}{T}$"
      ],
      "text/plain": [
       "Eq(omega, 2*pi/T)"
      ]
     },
     "metadata": {},
     "output_type": "display_data"
    },
    {
     "name": "stdout",
     "output_type": "stream",
     "text": [
      "f10) The position of the particle for Uniform Circular Motion\n"
     ]
    },
    {
     "data": {
      "text/latex": [
       "$\\displaystyle \\operatorname{r⃗}{\\left(t \\right)} = i r \\cos{\\left(\\omega t \\right)} + j r \\sin{\\left(\\omega t \\right)}$"
      ],
      "text/plain": [
       "Eq(r⃗(t), i*r*cos(omega*t) + j*r*sin(omega*t))"
      ]
     },
     "metadata": {},
     "output_type": "display_data"
    },
    {
     "name": "stdout",
     "output_type": "stream",
     "text": [
      "Enter the number of the function: 5\n",
      "Enter the final velocity: v\n",
      "Enter the acceleration: -9.8\n",
      "Enter the final position: 0\n",
      "Enter the initial position: 1\n",
      "Enter the initial velocity: 0\n",
      "The result is: [-4.42718872423573, 4.42718872423573]\n"
     ]
    }
   ],
   "source": [
    "funcr = Function('r\\u20D7')(t)\n",
    "eq0 = Eq(funcv, a*(t-t0)+v0)\n",
    "eq1 = Eq(v_avg, (v0 + v) / 2)       #NOTE: avg acceleration is (v-v0)/(t-t0)\n",
    "eq2 = Eq(x, x0 + v* t)\n",
    "eq3 = Eq(v, v0 + a * t)\n",
    "eq4 = Eq(x, x0 + v0 * t + (1 / 2) * a * t ** 2)\n",
    "eq5 = Eq(v ** 2, v0 ** 2 + 2 * a * (x - x0))\n",
    "eq6 = Eq(v0,sqrt((a*(x-x0))/sin(2*rad(theta))))\n",
    "eq7 = Eq(y,x*(tan(rad(theta))-x*(a/(2*(v0*cos(rad(theta)))**2))))\n",
    "eq8 = Eq(T,(2*pi*r)/v)\n",
    "eq9 = Eq(omega, (2*pi)/T)\n",
    "eq10 = Eq(funcr,r*cos(omega*t)*i+r*sin(omega*t)*j)\n",
    "\n",
    "print(\"f0) Equation of Motion\");display(eq0)\n",
    "print(\"f1) Determines Average Velocity\");display(eq1)\n",
    "print(\"f2) Determines Displacement\");display(eq2)\n",
    "print(\"f3) Equation of Motion\");display(eq3)\n",
    "print(\"f4) Determines Displacement\");display(eq4)\n",
    "print(\"f5) Final Velocity Squared\");display(eq5)\n",
    "print(\"f6) Calculates initial velocity\");display(eq6)\n",
    "print(\"f7) Calculates Trajectory\");display(eq7)\n",
    "print(\"f8) Period for Uniform Circular Motion\");display(eq8)\n",
    "print(\"f9) Angular Frequency for Uniform Circular Motion\");display(eq9)\n",
    "print(\"f10) The position of the particle for Uniform Circular Motion\");display(eq10)\n",
    "def solve_eq(eq, subs_dict):\n",
    "    return solve(eq.subs(subs_dict))\n",
    "def f0(ffuncv,aa,tt,t0t0,v0v0): \n",
    "    return solve_eq(eq0, {funcv: ffuncv, a: aa, t: tt,t0: t0t0, v0: v0v0})\n",
    "def f1(vv_avg,vv,v0v0): \n",
    "    return solve_eq(eq1, {v_avg: vv_avg, v: vv, v0: v0v0})\n",
    "def f2(xx,vv,tt,x0x0): \n",
    "    return solve_eq(eq2, {x: xx, v: vv, t: tt, x0: x0x0})\n",
    "def f3(vv,aa,tt,v0v0): \n",
    "    return solve_eq(eq3, {v: vv, a: aa, t: tt, v0: v0v0})\n",
    "def f4(xx, aa, tt, v0v0, x0x0):\n",
    "    return solve_eq(eq4, {x: xx, a: aa, t: tt, v0: v0v0, x0: x0x0})\n",
    "def f5(vv, aa, xx, x0x0,v0v0):\n",
    "    return solve_eq(eq5, {v: vv, a: aa, x: xx, x0: x0x0, v0: v0v0})\n",
    "def f6(v0v0, aa, xx, x0x0,thetatheta):\n",
    "    return solve_eq(eq6, {v0: v0v0, a: aa, x: xx, x0: x0x0, theta: thetatheta})\n",
    "def f7(yy, xx,aa,v0v0,thetatheta):\n",
    "    return solve_eq(eq7, {y: yy, x: xx,a: aa, v0: v0v0, theta: thetatheta})\n",
    "def f8(TT, rr, vv):\n",
    "    return solve_eq(eq8, {T: TT, r: rr,v: vv})\n",
    "def f9(omegaomega,TT):\n",
    "    return solve_eq(eq9, {omega: omegaomega, T: TT})\n",
    "def f10(ffuncr,rr,omegaomega,tt):\n",
    "    return solve_eq(eq10, {funcr:ffuncr, r:rr,omega: omegaomega, t: tt})\n",
    "# Dictionary to map function numbers to their corresponding functions\n",
    "functions = {\n",
    "    0: f0,\n",
    "    1: f1,\n",
    "    2: f2,\n",
    "    3: f3,\n",
    "    4: f4,\n",
    "    5: f5,\n",
    "    6: f6,\n",
    "    7: f7,\n",
    "    8: f8,\n",
    "    9: f9,\n",
    "    10:f10,\n",
    "\n",
    "}\n",
    "selected_function = int(input(\"Enter the number of the function: \"))\n",
    "\n",
    "# Prompt user to enter variables\n",
    "if selected_function in functions:\n",
    "    func = functions[selected_function]\n",
    "    if selected_function == 0:\n",
    "        ffuncv = input(\"Enter the final velocity: \")\n",
    "        aa = input(\"Enter the acceleration: \")\n",
    "        tt = input(\"Enter the final time: \")\n",
    "        t0t0=input(\"Enter the initial time: \")\n",
    "        v0v0 = input(\"Enter the initial velocity: \")\n",
    "        if v0v0.isnumeric() or (v0v0[0] == '-' and v0v0[1:].isnumeric()):\n",
    "            v0v0 = float(v0v0)\n",
    "        result = func(ffuncv, aa, tt,t0t0, v0v0)\n",
    "    elif selected_function == 1:\n",
    "        vv_avg = input(\"Enter the average velocity: \")\n",
    "        if vv_avg.isnumeric() or (vv_avg[0] == '-' and vv_avg[1:].isnumeric()):\n",
    "            vv_avg = float(vv_avg)\n",
    "        vv = input(\"Enter the final velocity: \")\n",
    "        v0v0 = input(\"Enter the initial velocity: \")\n",
    "        if v0v0.isnumeric() or (v0v0[0] == '-' and v0v0[1:].isnumeric()):\n",
    "            v0v0 = float(v0v0)\n",
    "        result = func(vv_avg, vv, v0v0)\n",
    "    elif selected_function == 2:\n",
    "        xx = input(\"Enter the displacement: \")\n",
    "        if xx.isnumeric() or (xx[0] == '-' and xx[1:].isnumeric()):\n",
    "            xx = float(xx)\n",
    "        tt = input(\"Enter the time: \")\n",
    "        vv = input(\"Enter the velocity: \")\n",
    "        if tt.isnumeric() or (tt[0] == '-' and tt[1:].isnumeric()):\n",
    "            tt = float(tt)\n",
    "        x0x0 = input(\"Enter the initial position: \")\n",
    "        if x0x0.isnumeric() or (x0x0[0] == '-' and x0x0[1:].isnumeric()):\n",
    "            x0x0 = float(x0x0)\n",
    "        result = func(xx, vv, tt, x0x0)\n",
    "    elif selected_function == 3:\n",
    "        vv = input(\"Enter the final velocity: \")\n",
    "        aa = input(\"Enter the acceleration: \")\n",
    "        tt = input(\"Enter the time: \")\n",
    "        v0v0 = input(\"Enter the initial velocity: \")\n",
    "        if v0v0.isnumeric() or (v0v0[0] == '-' and v0v0[1:].isnumeric()):\n",
    "            v0v0 = float(v0v0)\n",
    "        result = func(vv, aa, tt, v0v0)\n",
    "    elif selected_function == 4:\n",
    "        xx = input(\"Enter the final position: \")\n",
    "        aa = input(\"Enter the acceleration: \")\n",
    "        tt = input(\"Enter the time: \")\n",
    "        v0v0 = input(\"Enter the initial velocity: \")\n",
    "        if v0v0.isnumeric() or (v0v0[0] == '-' and v0v0[1:].isnumeric()):\n",
    "            v0v0 = float(v0v0)\n",
    "        x0x0 = input(\"Enter the initial position: \")\n",
    "        if x0x0.isnumeric() or (x0x0[0] == '-' and x0x0[1:].isnumeric()):\n",
    "            x0x0 = float(x0x0)\n",
    "        result = func(xx, aa, tt, v0v0, x0x0)\n",
    "    elif selected_function == 5: \n",
    "        vv = input(\"Enter the final velocity: \")\n",
    "        aa = input(\"Enter the acceleration: \")\n",
    "        xx = input(\"Enter the final position: \")\n",
    "        x0x0 = input(\"Enter the initial position: \")\n",
    "        v0v0 = input(\"Enter the initial velocity: \")\n",
    "        if v0v0.isnumeric() or (v0v0[0] == '-' and v0v0[1:].isnumeric()):\n",
    "            v0v0 = float(v0v0)\n",
    "        result = func(vv, aa, xx, x0x0, v0v0)\n",
    "    elif selected_function == 6: \n",
    "        v0v0 = input(\"Enter the initial velocity: \")\n",
    "        aa = input(\"Enter the acceleration: \")\n",
    "        xx = input(\"Enter the end distance: \")\n",
    "        x0x0 = input(\"Enter the initial distance: \")\n",
    "        thetatheta = input(\"Enter the initial angle in degrees: \")\n",
    "        if v0v0.isnumeric() or (v0v0[0] == '-' and v0v0[1:].isnumeric()):\n",
    "            v0v0 = float(v0v0)\n",
    "        result = func(v0v0, aa, xx, x0x0, thetatheta)\n",
    "    elif selected_function == 7: \n",
    "        yy = input(\"Enter the initial height: \")\n",
    "        xx = input(\"Enter the end distance: \")\n",
    "        aa = input(\"Enter the acceleration: \")\n",
    "        v0v0 = input(\"Enter the initial velocity: \")\n",
    "        thetatheta = input(\"Enter the initial angle in degrees: \")\n",
    "        if v0v0.isnumeric() or (v0v0[0] == '-' and v0v0[1:].isnumeric()):\n",
    "            v0v0 = float(v0v0)\n",
    "        result = func(yy, xx, aa, v0v0, thetatheta)\n",
    "    elif selected_function == 8: \n",
    "        TT = input(\"Enter the period of motion: \")\n",
    "        rr = input(\"Enter the radius: \")\n",
    "        vv = input(\"Enter the speed or velocity: \")\n",
    "        result = func(TT, rr, vv)        \n",
    "    elif selected_function == 9: \n",
    "        omegaomega = input(\"Enter the angular frequency in radians (type 'omega' if unknown): \")\n",
    "        TT = input(\"Enter the period of motion: \")\n",
    "        result = func(omegaomega, TT)  \n",
    "    elif selected_function == 10: \n",
    "        ffuncr = input(\"Enter the particle's position (type 'funcr' if unknown): \")\n",
    "        rr = input(\"Enter the radius in radians: \")\n",
    "        omegaomega = input(\"Enter the angular frequency in radians (type 'omega' if unknown): \")\n",
    "        tt = input(\"Enter the time: \")\n",
    "        result = func(ffuncr,rr,omegaomega,tt)          \n",
    "        \n",
    "    print(\"The result is:\", result)\n",
    "else:\n",
    "    print(\"Invalid function number. Please choose a number between 0 and 10.\")"
   ]
  },
  {
   "cell_type": "code",
   "execution_count": 8,
   "id": "81e23c6b",
   "metadata": {},
   "outputs": [
    {
     "name": "stdout",
     "output_type": "stream",
     "text": [
      "pythagorean of two sides: 21.8\n",
      "pythagorean of three sides: 24.0\n"
     ]
    }
   ],
   "source": [
    "#Pythagorean Theoreom to find the MAGNITUDE of a velocity vector\n",
    "# magnitude given A and B for A^2+B^2=C^2\n",
    "A = 6\n",
    "B =-21\n",
    "C =10 #if three dimensions\n",
    "two = N(sqrt(A**2+B**2),3)\n",
    "three =N(sqrt(A**2+B**2+C**2),3)\n",
    "print(\"pythagorean of two sides:\",two)\n",
    "print(\"pythagorean of three sides:\",three)"
   ]
  },
  {
   "cell_type": "code",
   "execution_count": 6,
   "id": "2b77e516",
   "metadata": {},
   "outputs": [
    {
     "name": "stdout",
     "output_type": "stream",
     "text": [
      "The angle is 323 degrees\n",
      "The angle is 37.1 degrees below the x-axis\n"
     ]
    }
   ],
   "source": [
    "# TOA Calculate the ANGLE of final velocity vector using the inverse tangent function\n",
    "\n",
    "# Given components of the vector V as v_x and v_y\n",
    "opposite_y = -15.9 \n",
    "adjacent_x = 21\n",
    "\n",
    "# Calculate the angle using atan2\n",
    "direction = atan2(opposite_y, adjacent_x)\n",
    "\n",
    "# Convert the direction or angle to degrees\n",
    "direction_degrees = N(deg(direction),3)\n",
    "\n",
    "# Adjust the result to be in the range [0, 360)\n",
    "if direction_degrees < 0:\n",
    "    direction_degrees += 360\n",
    "print(f\"The angle is {direction_degrees} degrees\")\n",
    "print(f\"The angle is {360-direction_degrees} degrees below the x-axis\")"
   ]
  },
  {
   "cell_type": "markdown",
   "id": "7ceecb91",
   "metadata": {},
   "source": [
    "# Motion Along a Straight Line"
   ]
  },
  {
   "cell_type": "code",
   "execution_count": 7,
   "id": "7a90a820",
   "metadata": {},
   "outputs": [
    {
     "data": {
      "text/plain": [
       "50.02"
      ]
     },
     "execution_count": 7,
     "metadata": {},
     "output_type": "execute_result"
    }
   ],
   "source": [
    "#impromptu calculator\n",
    "eqn = Eq(0,t**2+10*t-200)\n",
    "eqn\n",
    "solve(eqn)\n",
    "q = 120**2\n",
    "q = Symbol('q')\n",
    "N(800000*sqrt(94),3)\n",
    "2501/50"
   ]
  },
  {
   "cell_type": "code",
   "execution_count": 8,
   "id": "0cf4f1f3",
   "metadata": {},
   "outputs": [
    {
     "name": "stdout",
     "output_type": "stream",
     "text": [
      "Speed in m/s: 22.2\n"
     ]
    }
   ],
   "source": [
    "# Converts km/hr to m/s\n",
    "def km_per_hr_to_m_per_s(speed_km_hr):\n",
    "    # 1 km/hr = 1000 m / 3600 s\n",
    "    conversion_factor = Rational(1000, 3600)\n",
    "    return speed_km_hr * conversion_factor\n",
    "speed_km_hr = 80  # Example speed in km/hr\n",
    "speed_m_per_s = km_per_hr_to_m_per_s(speed_km_hr)\n",
    "print(\"Speed in m/s:\", N(speed_m_per_s,3))"
   ]
  },
  {
   "cell_type": "markdown",
   "id": "d408b43f",
   "metadata": {},
   "source": [
    "# Vectors"
   ]
  },
  {
   "cell_type": "code",
   "execution_count": 9,
   "id": "f731043e",
   "metadata": {},
   "outputs": [
    {
     "name": "stdout",
     "output_type": "stream",
     "text": [
      "pythagorean of two sides: 6.40\n",
      "pythagorean of three sides: 24.8\n"
     ]
    }
   ],
   "source": [
    "#Pythagorean Theoreom\n",
    "#magnitude given A and B for A^2+B^2=C^2\n",
    "A = 5\n",
    "B =4\n",
    "C =24\n",
    "two = N(sqrt(A**2+B**2),3)\n",
    "three =N(sqrt(A**2+B**2+C**2),3)\n",
    "print(\"pythagorean of two sides:\",two)\n",
    "print(\"pythagorean of three sides:\",three)"
   ]
  },
  {
   "cell_type": "code",
   "execution_count": 10,
   "id": "a1a255b7",
   "metadata": {},
   "outputs": [
    {
     "data": {
      "text/plain": [
       "957.8787878787879"
      ]
     },
     "execution_count": 10,
     "metadata": {},
     "output_type": "execute_result"
    }
   ],
   "source": [
    "#on the spot basic calculator\n",
    "s = (109/33)\n",
    "s*290"
   ]
  },
  {
   "cell_type": "code",
   "execution_count": 11,
   "id": "aa86cfe4",
   "metadata": {},
   "outputs": [
    {
     "name": "stdout",
     "output_type": "stream",
     "text": [
      "The unit vector for 30 degrees is:\n"
     ]
    },
    {
     "data": {
      "text/latex": [
       "$\\displaystyle \\left[\\begin{matrix}0.87\\\\0.5\\end{matrix}\\right]$"
      ],
      "text/plain": [
       "Matrix([\n",
       "[0.87],\n",
       "[ 0.5]])"
      ]
     },
     "metadata": {},
     "output_type": "display_data"
    }
   ],
   "source": [
    "def degrees_to_unit_vector(degrees):\n",
    "    radians = rad(degrees)\n",
    "    x = cos(radians)\n",
    "    y = sin(radians)\n",
    "    return (N(x,2), N(y,2))\n",
    "\n",
    "# Test the function\n",
    "degrees = 30  # Example angle in degrees\n",
    "unit_vector = degrees_to_unit_vector(degrees)\n",
    "print(f\"The unit vector for {degrees} degrees is:\")\n",
    "display(Matrix([unit_vector[0],unit_vector[1]]))"
   ]
  },
  {
   "cell_type": "code",
   "execution_count": 4,
   "id": "e719e2f4",
   "metadata": {},
   "outputs": [
    {
     "name": "stdout",
     "output_type": "stream",
     "text": [
      "cos of x-component: 67.17\n",
      "sin of y-component: 67.17\n"
     ]
    }
   ],
   "source": [
    "#calc components given a angle and magnitude\n",
    "magnitude=95\n",
    "angle_degrees =45\n",
    "\n",
    "# Convert degrees to radians\n",
    "angle_radians = rad(angle_degrees)\n",
    "# Calculate cosine of the angle in degrees\n",
    "print(\"cos of x-component:\",N(magnitude*cos(angle_radians),4))\n",
    "print(\"sin of y-component:\",N(magnitude*sin(angle_radians),4))"
   ]
  },
  {
   "cell_type": "code",
   "execution_count": 13,
   "id": "6737251d",
   "metadata": {},
   "outputs": [
    {
     "name": "stdout",
     "output_type": "stream",
     "text": [
      "The cross product C x D is:\n"
     ]
    },
    {
     "data": {
      "text/latex": [
       "$\\displaystyle \\left[\\begin{matrix}-40.0\\\\10.0\\\\8.0\\end{matrix}\\right]$"
      ],
      "text/plain": [
       "Matrix([\n",
       "[-40.0],\n",
       "[ 10.0],\n",
       "[  8.0]])"
      ]
     },
     "metadata": {},
     "output_type": "display_data"
    },
    {
     "name": "stdout",
     "output_type": "stream",
     "text": [
      "The magnitude of cross product C x D is 42.0:\n",
      "\n",
      "\n",
      "Dot product of A and B is -1.200E+4\n",
      "\n",
      "\n",
      "Dot product of C and D is 19.0\n",
      "\n",
      "\n",
      "Projection of A onto B proj_B(A):\n"
     ]
    },
    {
     "data": {
      "text/latex": [
       "$\\displaystyle \\left[\\begin{matrix}127.0\\\\70.8\\end{matrix}\\right]$"
      ],
      "text/plain": [
       "Matrix([\n",
       "[127.0],\n",
       "[ 70.8]])"
      ]
     },
     "metadata": {},
     "output_type": "display_data"
    },
    {
     "name": "stdout",
     "output_type": "stream",
     "text": [
      "Projection of B onto A proj_A(B):\n"
     ]
    },
    {
     "data": {
      "text/latex": [
       "$\\displaystyle \\left[\\begin{matrix}-55.0\\\\16.5\\end{matrix}\\right]$"
      ],
      "text/plain": [
       "Matrix([\n",
       "[-55.0],\n",
       "[ 16.5]])"
      ]
     },
     "metadata": {},
     "output_type": "display_data"
    },
    {
     "name": "stdout",
     "output_type": "stream",
     "text": [
      "The angle between A and B is 134 degrees (2 components or dimensions)\n",
      "The angle between C and D is 65.7 degrees (3 components or dimensions)\n"
     ]
    }
   ],
   "source": [
    "# Vector algebra, dot/cross products, and projections with angles\n",
    "a = Symbol('A')\n",
    "b = Symbol('B')\n",
    "bhat = Symbol('B^hat')\n",
    "ahat = Symbol('A^hat')\n",
    "A = Matrix([200, -60])\n",
    "B = Matrix([-72, -40])\n",
    "C = Matrix([3, 4,10])\n",
    "D = Matrix([1, 4,0])\n",
    "B_ = B*(1/sqrt(B.dot(B)))\n",
    "A_ = A*(1/sqrt(A.dot(A)))\n",
    "\n",
    "# Compute the cross product C x D (3 components or dimensions)\n",
    "cross_product = N(C.cross(D),3)\n",
    "print(f\"The cross product C x D is:\")\n",
    "display(cross_product)\n",
    "\n",
    "# Compute the magnitude of the cross product C x D (3 components or dimensions)\n",
    "magn_cross = N(sqrt(cross_product[0]**2+cross_product[1]**2+cross_product[2]**2),3)\n",
    "print(f\"The magnitude of cross product C x D is {magn_cross}:\")\n",
    "print(\"\\n\")\n",
    "\n",
    "# Compute the dot product (2 components or dimensions)\n",
    "dot_product = N(A.dot(B),4)\n",
    "print(f\"Dot product of A and B is {dot_product}\")\n",
    "print(\"\\n\")\n",
    "\n",
    "# Compute the dot product (3 components or dimensions)\n",
    "dot_product2 = N(C.dot(D),3)\n",
    "print(f\"Dot product of C and D is {dot_product2}\")\n",
    "print(\"\\n\")\n",
    "\n",
    "# Find the projection of A onto B       proj_B(A)\n",
    "projection = N((A.dot(B_)* B_),3)\n",
    "print(\"Projection of A onto B proj_B(A):\")\n",
    "display(projection)\n",
    "\n",
    "# Find the projection of B onto A\n",
    "projection2 = N((B.dot(A_)* A_),3)\n",
    "print(\"Projection of B onto A proj_A(B):\")\n",
    "display(projection2)\n",
    "\n",
    "# Find the Angle between A and B (2 components or dimensions)\n",
    "angle = N(deg(acos(A.dot(B)/(sqrt(A.dot(A))*sqrt(B.dot(B))))),3)\n",
    "print(f\"The angle between A and B is {angle} degrees (2 components or dimensions)\")\n",
    "\n",
    "# Find the Angle between C and D (3 components or dimensions)\n",
    "angle = N(deg(acos(C.dot(D)/(sqrt(C.dot(C))*sqrt(D.dot(D))))),3)\n",
    "print(f\"The angle between C and D is {angle} degrees (3 components or dimensions)\")\n",
    "\n"
   ]
  },
  {
   "cell_type": "code",
   "execution_count": 14,
   "id": "ed22d5d3",
   "metadata": {},
   "outputs": [
    {
     "name": "stdout",
     "output_type": "stream",
     "text": [
      "The angle is 53.1 degrees\n"
     ]
    }
   ],
   "source": [
    "# TOA Calculate the direction of the force using the inverse tangent function\n",
    "\n",
    "# Given components of the vector\n",
    "opposite_y = 4\n",
    "adjacent_x = 3\n",
    "\n",
    "# Calculate the angle using atan2\n",
    "direction = atan2(opposite_y, adjacent_x).evalf()\n",
    "\n",
    "# Convert the direction or angle to degrees\n",
    "direction_degrees = N(deg(direction),3)\n",
    "\n",
    "# Adjust the result to be in the range [0, 360)\n",
    "if direction_degrees < 0:\n",
    "    direction_degrees += 360\n",
    "print(f\"The angle is {direction_degrees} degrees\")"
   ]
  },
  {
   "cell_type": "code",
   "execution_count": 15,
   "id": "bcf1359c",
   "metadata": {},
   "outputs": [
    {
     "name": "stdout",
     "output_type": "stream",
     "text": [
      "Length of adjacent side: 15.0 meters\n"
     ]
    }
   ],
   "source": [
    "# TOA finding x-component (adjacent) given y-component and angle\n",
    "opposite_side_length = 15\n",
    "angle_degrees = 45\n",
    "angle_radians = rad(angle_degrees)\n",
    "adjacent_side_length = N(opposite_side_length / tan(angle_radians),3)\n",
    "print(\"Length of adjacent side:\", adjacent_side_length, \"meters\")"
   ]
  },
  {
   "cell_type": "code",
   "execution_count": 16,
   "id": "43f0f49d",
   "metadata": {},
   "outputs": [
    {
     "name": "stdout",
     "output_type": "stream",
     "text": [
      "Length or magnitude of opposite side: 5.64 meters\n"
     ]
    }
   ],
   "source": [
    "# TOA finding opposite given hypotenus (magnitude) and angle\n",
    "hypotenus = 32\n",
    "angle_degrees = 10\n",
    "angle_radians = rad(angle_degrees)\n",
    "opposite = N(hypotenus * tan(angle_radians),3)\n",
    "print(\"Length or magnitude of opposite side:\", opposite, \"meters\")"
   ]
  },
  {
   "cell_type": "code",
   "execution_count": 17,
   "id": "6f8775ea",
   "metadata": {},
   "outputs": [
    {
     "name": "stdout",
     "output_type": "stream",
     "text": [
      "Point 1 converted is (0, 0)\n",
      "Point 2 converted is (-5.0, 0)\n",
      "The distance between the points is 5.0\n"
     ]
    }
   ],
   "source": [
    "# Two points in a plane have polar coordinates\n",
    "# Determine their x-y coordinates and the distance between them in\n",
    "# Given polar coordinates\n",
    "p1_r = 0\n",
    "p1_phi = 0  # Angle in degrees\n",
    "p2_r = 5\n",
    "p2_phi = 180  # Angle in degrees\n",
    "\n",
    "# Converting polar coordinates to Cartesian coordinates\n",
    "x1 = N(p1_r * cos(p1_phi*pi/180), 2)  # Convert degrees to radians\n",
    "y1 = N(p1_r * sin(p1_phi*pi/180), 2)\n",
    "x2 = N(p2_r * cos(p2_phi*pi/180), 2)\n",
    "y2 = N(p2_r * sin(p2_phi*pi/180), 2)\n",
    "\n",
    "# Distance between two points in Cartesian coordinate system\n",
    "distance = N(sqrt((x2 - x1)**2 + (y2 - y1)**2), 2)\n",
    "\n",
    "# Splicing the variables inside the print statement\n",
    "print(f\"Point 1 converted is ({x1}, {y1})\")\n",
    "print(f\"Point 2 converted is ({x2}, {y2})\")\n",
    "print(f\"The distance between the points is {distance}\")"
   ]
  },
  {
   "cell_type": "code",
   "execution_count": 18,
   "id": "d364c23c",
   "metadata": {},
   "outputs": [
    {
     "data": {
      "text/latex": [
       "$\\displaystyle 0.523598775598299$"
      ],
      "text/plain": [
       "0.523598775598299"
      ]
     },
     "execution_count": 18,
     "metadata": {},
     "output_type": "execute_result"
    }
   ],
   "source": [
    "# general calculator\n",
    "(pi/6).evalf()"
   ]
  },
  {
   "cell_type": "code",
   "execution_count": 19,
   "id": "9b5464b2",
   "metadata": {},
   "outputs": [
    {
     "name": "stdout",
     "output_type": "stream",
     "text": [
      "Polar coordinates: (r=1, phi=2)\n"
     ]
    }
   ],
   "source": [
    "#Find Polar Coordinates given x and y points\n",
    "# Given Cartesian coordinates\n",
    "x = -1\n",
    "y = 1\n",
    "# Calculate radius (r)\n",
    "r = N(sqrt((x)**2 + y**2), decis)\n",
    "\n",
    "# Calculate angle (phi) using atan2 function to handle all cases\n",
    "phi = N(atan2(y, x), decis)\n",
    "\n",
    "# Convert angle to be between 0 and 2*pi\n",
    "phi = (phi + 2*pi) % (2*pi)\n",
    "\n",
    "# Output the polar coordinates\n",
    "print(f\"Polar coordinates: (r={r}, phi={phi})\")"
   ]
  },
  {
   "cell_type": "code",
   "execution_count": 20,
   "id": "86dbf4c8",
   "metadata": {},
   "outputs": [
    {
     "name": "stdout",
     "output_type": "stream",
     "text": [
      "Polar coordinates: (r=3.0*(x**2 - 0.3*y**2)**0.5, phi=Mod(atan2(-3*y, 3*x), 2*pi))\n"
     ]
    }
   ],
   "source": [
    "# Special Case Find Polar Coordinates given abstract ax and yy points given constants a, b\n",
    "a,b = 3,-3 #constants\n",
    "x,y = Symbol('x'),Symbol('y')\n",
    "# Calculate radius (r)\n",
    "r = N(sqrt((a*x)**2 + b*y**2), decis)\n",
    "\n",
    "# Calculate angle (phi) using atan2 function to handle all cases\n",
    "phi = N(atan2(b*y, a*x), decis)\n",
    "\n",
    "# Convert angle to be between 0 and 2*pi\n",
    "phi = (phi + 2*pi) % (2*pi)\n",
    "\n",
    "# Output the polar coordinates\n",
    "print(f\"Polar coordinates: (r={r}, phi={phi})\")"
   ]
  },
  {
   "cell_type": "code",
   "execution_count": 21,
   "id": "b435ab65",
   "metadata": {},
   "outputs": [
    {
     "name": "stdout",
     "output_type": "stream",
     "text": [
      "Cartesian coordinates for Point A: (2.0, -4.0)\n",
      "Cartesian coordinates for Point B: (-3.0, 3.0)\n",
      "The distance between the points is 9.0\n"
     ]
    }
   ],
   "source": [
    "#Find Polar Coordinates given 2 sets of x and y points\n",
    "# Given Cartesian coordinates\n",
    "A_x = 2\n",
    "A_y = -4\n",
    "B_x = -3\n",
    "B_y = 3\n",
    "\n",
    "# Convert Cartesian coordinates to polar coordinates\n",
    "def cartesian_to_polar(x, y):\n",
    "    r = sqrt(x**2 + y**2)\n",
    "    phi = atan2(y, x)\n",
    "    return r, phi\n",
    "\n",
    "A_r, A_phi = cartesian_to_polar(A_x, A_y)\n",
    "B_r, B_phi = cartesian_to_polar(B_x, B_y)\n",
    "\n",
    "# Convert polar coordinates to Cartesian coordinates\n",
    "x1 = N(A_r * cos(A_phi), decis)\n",
    "y1 = N(A_r * sin(A_phi), decis)\n",
    "x2 = N(B_r * cos(B_phi), decis)\n",
    "y2 = N(B_r * sin(B_phi), decis)\n",
    "\n",
    "# Distance between two points in Cartesian coordinate system\n",
    "distance = N(sqrt((x2 - x1)**2 + (y2 - y1)**2), decis)\n",
    "\n",
    "# Output the Cartesian coordinates and distance\n",
    "print(f\"Cartesian coordinates for Point A: ({x1}, {y1})\")\n",
    "print(f\"Cartesian coordinates for Point B: ({x2}, {y2})\")\n",
    "print(f\"The distance between the points is {distance}\")\n"
   ]
  },
  {
   "cell_type": "code",
   "execution_count": 22,
   "id": "bf820401",
   "metadata": {},
   "outputs": [
    {
     "data": {
      "image/png": "[encoded data removed]",
      "text/plain": [
       "<Figure size 360x360 with 1 Axes>"
      ]
     },
     "metadata": {
      "needs_background": "light"
     },
     "output_type": "display_data"
    }
   ],
   "source": [
    "eqn = sqrt(x)\n",
    "p = plot(eqn,title=\"Log Scaled Graph\",size = (5,5),show=True,legend=True,yscale='log')"
   ]
  },
  {
   "cell_type": "code",
   "execution_count": 23,
   "id": "16e06a3f",
   "metadata": {},
   "outputs": [
    {
     "data": {
      "image/png": "[encoded data removed]",
      "text/plain": [
       "<Figure size 360x360 with 1 Axes>"
      ]
     },
     "metadata": {
      "needs_background": "light"
     },
     "output_type": "display_data"
    }
   ],
   "source": [
    "p = plot(eqn,diff(eqn),title=\"Regular Scaled Graph\",size = (5,5),show=True,legend=True,ylim=(0,3))"
   ]
  },
  {
   "cell_type": "code",
   "execution_count": 24,
   "id": "ed7082d7",
   "metadata": {},
   "outputs": [
    {
     "data": {
      "image/png": "[encoded data removed]",
      "text/plain": [
       "<Figure size 432x288 with 1 Axes>"
      ]
     },
     "metadata": {
      "needs_background": "light"
     },
     "output_type": "display_data"
    }
   ],
   "source": [
    "import sympy as sp\n",
    "import numpy as np\n",
    "import matplotlib.pyplot as plt\n",
    "from mpl_toolkits.mplot3d import Axes3D\n",
    "\n",
    "# Define the variable\n",
    "t = sp.symbols('t')\n",
    "\n",
    "# Define the vector components\n",
    "rx = 10*t - t**2\n",
    "ry = 5*t\n",
    "rz = 5*t\n",
    "\n",
    "# Convert symbolic expressions to numerical arrays\n",
    "t_values = np.linspace(0, 10, 100)  # Define the range of t values\n",
    "rx_values = np.array([rx.subs(t, val) - rx.subs(t, 0) for val in t_values])\n",
    "ry_values = np.array([ry.subs(t, val) - ry.subs(t, 0) for val in t_values])\n",
    "rz_values = np.array([rz.subs(t, val) - rz.subs(t, 0) for val in t_values])\n",
    "\n",
    "# Create a figure and 3D axes\n",
    "fig = plt.figure()\n",
    "ax = fig.add_subplot(111, projection='3d')\n",
    "\n",
    "# Plot the vector\n",
    "ax.plot3D(rx_values, ry_values, rz_values)\n",
    "\n",
    "# Set labels\n",
    "ax.set_xlabel('r_x(t)')\n",
    "ax.set_ylabel('r_y(t)')\n",
    "ax.set_zlabel('r_z(t)')\n",
    "\n",
    "# Show plot\n",
    "plt.show()\n"
   ]
  }
 ],
 "metadata": {
  "kernelspec": {
   "display_name": "Python 3 (ipykernel)",
   "language": "python",
   "name": "python3"
  },
  "language_info": {
   "codemirror_mode": {
    "name": "ipython",
    "version": 3
   },
   "file_extension": ".py",
   "mimetype": "text/x-python",
   "name": "python",
   "nbconvert_exporter": "python",
   "pygments_lexer": "ipython3",
   "version": "3.10.12"
  }
 },
 "nbformat": 4,
 "nbformat_minor": 5
}
