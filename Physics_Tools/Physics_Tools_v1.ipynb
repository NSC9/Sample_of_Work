{
 "cells": [
  {
   "cell_type": "code",
   "execution_count": 1,
   "id": "fcc8986c",
   "metadata": {},
   "outputs": [],
   "source": [
    "from sympy import *\n",
    "from sympy.abc import x,y"
   ]
  },
  {
   "cell_type": "code",
   "execution_count": 20,
   "id": "f731043e",
   "metadata": {},
   "outputs": [
    {
     "data": {
      "text/latex": [
       "$\\displaystyle 8724.70056792782$"
      ],
      "text/plain": [
       "8724.70056792782"
      ]
     },
     "execution_count": 20,
     "metadata": {},
     "output_type": "execute_result"
    }
   ],
   "source": [
    "#Pythagorean Theoreom\n",
    "#magnitude given A and B for A^2+B^2=C^2\n",
    "A = 8200\n",
    "B = -2980\n",
    "C = 2.4\n",
    "sqrt(A**2+B**2).evalf()#+C**2)\n",
    "\n"
   ]
  },
  {
   "cell_type": "code",
   "execution_count": 22,
   "id": "e719e2f4",
   "metadata": {},
   "outputs": [
    {
     "name": "stdout",
     "output_type": "stream",
     "text": [
      "cos of x-component: 3.83022221559489\n",
      "sin of y-component: 3.21393804843270\n"
     ]
    }
   ],
   "source": [
    "#calc components given a angle and magnitude\n",
    "magnitude=5\n",
    "angle_degrees = 40\n",
    "\n",
    "# Convert degrees to radians\n",
    "angle_radians = angle_degrees * pi / 180\n",
    "# Calculate cosine of the angle in degrees\n",
    "print(\"cos of x-component:\",magnitude*cos(angle_radians).evalf())\n",
    "print(\"sin of y-component:\",magnitude*sin(angle_radians).evalf())\n"
   ]
  },
  {
   "cell_type": "code",
   "execution_count": 21,
   "id": "ed22d5d3",
   "metadata": {},
   "outputs": [
    {
     "name": "stdout",
     "output_type": "stream",
     "text": [
      "positive degrees from x-axis 109.971885256961 degrees\n"
     ]
    }
   ],
   "source": [
    "# TOA\n",
    "# Angles in degrees (right triangle)\n",
    "opposite_angle_degrees = 8200\n",
    "adjacent_angle_degrees = -2980\n",
    "\n",
    "\n",
    "# Convert degrees to radians\n",
    "angle_radians2 = opposite_angle_degrees * pi / 180\n",
    "angle_radians1 = adjacent_angle_degrees * pi / 180\n",
    "\n",
    "\n",
    "# Calculate the direction of the force using atan2\n",
    "direction = atan2(angle_radians2, angle_radians1).evalf()\n",
    "\n",
    "# Convert the direction to degrees\n",
    "direction_degrees = direction * 180 / pi\n",
    "\n",
    "# Adjust the result to be in the range [0, 360)\n",
    "if direction_degrees < 0:\n",
    "    direction_degrees += 360\n",
    "print(\"positive degrees from x-axis\",direction_degrees.evalf(), \"degrees\")\n",
    "#degrees in south west\n",
    "#print(\"degrees southwest\",-(360-direction_degrees.evalf()-90))\n"
   ]
  },
  {
   "cell_type": "code",
   "execution_count": 20,
   "id": "e3bda9b2",
   "metadata": {},
   "outputs": [
    {
     "name": "stdout",
     "output_type": "stream",
     "text": [
      "Angle with positive x-axis: 63.4349488229220 degrees\n"
     ]
    }
   ],
   "source": [
    "from sympy import atan2, pi\n",
    "\n",
    "# Given components of the vector\n",
    "x = 2\n",
    "y = 4\n",
    "\n",
    "# Calculate the angle using atan2\n",
    "angle_radians = atan2(y, x)\n",
    "\n",
    "# Convert the angle to degrees\n",
    "angle_degrees = angle_radians * 180 / pi\n",
    "\n",
    "# Adjust the result to be in the range [0, 360)\n",
    "if angle_degrees < 0:\n",
    "    angle_degrees += 360\n",
    "\n",
    "print(\"Angle with positive x-axis:\", angle_degrees.evalf(), \"degrees\")"
   ]
  },
  {
   "cell_type": "code",
   "execution_count": 1,
   "id": "6737251d",
   "metadata": {},
   "outputs": [
    {
     "name": "stdout",
     "output_type": "stream",
     "text": [
      "Dot product: -46.4000000000000\n"
     ]
    }
   ],
   "source": [
    "from sympy import Matrix\n",
    "\n",
    "# Define the vectors\n",
    "vector1 = Matrix([-5, 2,3.5])\n",
    "vector2 = Matrix([7.2, -1,-2.4])\n",
    "\n",
    "# Compute the dot product\n",
    "dot_product = vector1.dot(vector2)\n",
    "\n",
    "print(\"Dot product:\", dot_product)"
   ]
  },
  {
   "cell_type": "code",
   "execution_count": 9,
   "id": "bcf1359c",
   "metadata": {},
   "outputs": [
    {
     "name": "stdout",
     "output_type": "stream",
     "text": [
      "Length of adjacent side: 142.81480067421145 meters\n"
     ]
    }
   ],
   "source": [
    "import math\n",
    "from sympy import atan2, pi\n",
    "#TOA\n",
    "opposite_side_length = 100\n",
    "angle_degrees = 35\n",
    "angle_radians = math.radians(angle_degrees)\n",
    "adjacent_side_length = opposite_side_length / math.tan(angle_radians)\n",
    "print(\"Length of adjacent side:\", adjacent_side_length, \"meters\")\n"
   ]
  },
  {
   "cell_type": "code",
   "execution_count": 23,
   "id": "6f8775ea",
   "metadata": {},
   "outputs": [
    {
     "name": "stdout",
     "output_type": "stream",
     "text": [
      "Point 1 converted is (2.165063509461097, 1.2499999999999998)\n",
      "Point 2 converted is (-1.899999999999999, 3.290896534380867)\n",
      "The distance between the points is 4.548626166217663\n"
     ]
    }
   ],
   "source": [
    "from math import cos, sin, pi, sqrt\n",
    "\n",
    "# Two points in a plane have polar coordinates\n",
    "# Determine their Cartesian coordinates and the distance between them in the Cartesian\n",
    "# coordinate system\n",
    "p1_r = 2.5\n",
    "p1_phi = pi/6\n",
    "p2_r = 3.8\n",
    "p2_phi = 2*pi/3\n",
    "\n",
    "# Converting polar coordinates to Cartesian coordinates\n",
    "x1 = p1_r * cos(p1_phi)\n",
    "y1 = p1_r * sin(p1_phi)\n",
    "x2 = p2_r * cos(p2_phi)\n",
    "y2 = p2_r * sin(p2_phi)\n",
    "\n",
    "# Distance between two points in Cartesian coordinate system\n",
    "distance = sqrt((x2 - x1)**2 + (y2 - y1)**2)\n",
    "\n",
    "# Splicing the variables inside the print statement\n",
    "print(f\"Point 1 converted is ({x1}, {y1})\")\n",
    "print(f\"Point 2 converted is ({x2}, {y2})\")\n",
    "print(f\"The distance between the points is {distance}\")"
   ]
  },
  {
   "cell_type": "code",
   "execution_count": 5,
   "id": "bf820401",
   "metadata": {},
   "outputs": [
    {
     "data": {
      "image/png": "[encoded data removed]",
      "text/plain": [
       "<Figure size 360x360 with 1 Axes>"
      ]
     },
     "metadata": {
      "needs_background": "light"
     },
     "output_type": "display_data"
    }
   ],
   "source": [
    "eqn = x**3+5\n",
    "p = plot(eqn,title=\"Log Scaled Graph\",size = (5,5),show=True,legend=True,yscale='log')"
   ]
  },
  {
   "cell_type": "code",
   "execution_count": 6,
   "id": "16e06a3f",
   "metadata": {},
   "outputs": [
    {
     "data": {
      "image/png": "[encoded data removed]",
      "text/plain": [
       "<Figure size 360x360 with 1 Axes>"
      ]
     },
     "metadata": {
      "needs_background": "light"
     },
     "output_type": "display_data"
    }
   ],
   "source": [
    "p = plot(eqn,title=\"Regular Scaled Graph\",size = (5,5),show=True,legend=True)"
   ]
  }
 ],
 "metadata": {
  "kernelspec": {
   "display_name": "Python 3 (ipykernel)",
   "language": "python",
   "name": "python3"
  },
  "language_info": {
   "codemirror_mode": {
    "name": "ipython",
    "version": 3
   },
   "file_extension": ".py",
   "mimetype": "text/x-python",
   "name": "python",
   "nbconvert_exporter": "python",
   "pygments_lexer": "ipython3",
   "version": "3.10.12"
  }
 },
 "nbformat": 4,
 "nbformat_minor": 5
}
