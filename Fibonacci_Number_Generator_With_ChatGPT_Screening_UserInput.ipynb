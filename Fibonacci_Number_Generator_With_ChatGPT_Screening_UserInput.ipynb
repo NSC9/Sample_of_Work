{
 "cells": [
  {
   "cell_type": "code",
   "execution_count": 14,
   "id": "1ad4e6ac-c260-4811-82f0-a86f812cad36",
   "metadata": {},
   "outputs": [],
   "source": [
    "# This program is free software: you can redistribute it and/or modify\n",
    "# it under the terms of the GNU General Public License as published by\n",
    "# the Free Software Foundation, either version 3 of the License, or\n",
    "# (at your option) any later version.\n",
    "#\n",
    "# This program is distributed in the hope that it will be useful,\n",
    "# but WITHOUT ANY WARRANTY; without even the implied warranty of\n",
    "# MERCHANTABILITY or FITNESS FOR A PARTICULAR PURPOSE. See the\n",
    "# GNU General Public License for more details.\n",
    "#\n",
    "# You should have received a copy of the GNU General Public License\n",
    "# along with this program. If not, see <https://www.gnu.org/licenses/>."
   ]
  },
  {
   "cell_type": "code",
   "execution_count": 15,
   "id": "0372161b-bb24-4d81-a6aa-3c278631d34f",
   "metadata": {},
   "outputs": [],
   "source": [
    "# credit: Professor Nicholas S. Caudill of the Automated Intelligence Community College at X.com/@TheAI2C youtube.com/@AI2C github.com/NSC9\n",
    "# known errors: typing \"5,5,5\" breaks ChatGPT's vetting of the user's input but \"5.1\" can be correctly replaced with integer \"5\""
   ]
  },
  {
   "cell_type": "code",
   "execution_count": 5,
   "id": "69638515-c593-4fcf-9126-acb9925f2982",
   "metadata": {},
   "outputs": [
    {
     "name": "stdout",
     "output_type": "stream",
     "text": [
      "Python version: 3.12.6 (main, Sep  9 2024, 00:00:00) [GCC 14.2.1 20240801 (Red Hat 14.2.1-1)]\n",
      "openai version: 1.46.0\n"
     ]
    }
   ],
   "source": [
    "import sys\n",
    "import functools\n",
    "import traceback\n",
    "import openai\n",
    "\n",
    "# Print Python version\n",
    "print(f\"Python version: {sys.version}\")\n",
    "\n",
    "# Print version for the openai package\n",
    "print(f\"openai version: {openai.__version__}\")\n",
    "\n",
    "openai.api_key = \"sq-...nakA\"   # change to your own openai personal/project API key\n",
    "\n",
    "# foundation of source code was found at https://www.youtube.com/watch?v=Qk0zUZW-U_M&ab_channel=Socratica by \n",
    "# Socratica's video Recursion, the Fibonacci Sequence and Memoization || Python Tutorial || Learn Python Programming\n",
    "\n",
    "# ChatGPT integration was found at \n",
    "# https://github.com/NSC9/Sample_of_Work/blob/Main/Artificial_Calculus_Teacher/Artificial_Calc_Teacher_v7.9_CHATGPT-INTEGRATION_BETA.ipynb"
   ]
  },
  {
   "cell_type": "code",
   "execution_count": 11,
   "id": "c783ef4a-0509-4fec-b40a-fc07e7609795",
   "metadata": {},
   "outputs": [
    {
     "name": "stdin",
     "output_type": "stream",
     "text": [
      "Please enter the nth Fibonacci number you wish to compute:  8.2\n"
     ]
    },
    {
     "name": "stdout",
     "output_type": "stream",
     "text": [
      "The 8th Fibonacci number is: 21\n"
     ]
    }
   ],
   "source": [
    "@lru_cache(maxsize=1000)\n",
    "def fibonacci(n):\n",
    "    if not isinstance(n, int):\n",
    "        raise TypeError(\"n must be an integer\")\n",
    "    if n <= 0:\n",
    "        raise ValueError(\"n must be a positive integer\")\n",
    "    \n",
    "    # Iterative approach for efficiency\n",
    "    a, b = 0, 1\n",
    "    for _ in range(n - 1):\n",
    "        a, b = b, a + b\n",
    "    return b\n",
    "\n",
    "def call_fibonacci_with_traceback(n):\n",
    "    try:\n",
    "        result = fibonacci(n)\n",
    "        return result\n",
    "    except Exception as e:\n",
    "        error_message = traceback.format_exc()  # Capture full traceback as a string\n",
    "        print(f\"Error occurred:\\n{error_message}\")\n",
    "        return None\n",
    "\n",
    "def get_corrected_input(user_input):\n",
    "    prompt = (\n",
    "        \"Check if {} looks like it will run in our program without erroring like not being a positive integer. \"\n",
    "        \"Interpret what the user likely meant and change {} to a new value and let that be all of what your response consists of.\"\n",
    "    ).format(user_input, user_input)\n",
    "\n",
    "    response = openai.ChatCompletion.create(\n",
    "        model=\"gpt-3.5-turbo\",  # Choose the appropriate model\n",
    "        messages=[\n",
    "            {\"role\": \"system\", \"content\": \"You are a helpful assistant.\"},\n",
    "            {\"role\": \"user\", \"content\": prompt}\n",
    "        ],\n",
    "        max_tokens=50,\n",
    "        temperature=0.5\n",
    "    )\n",
    "\n",
    "    corrected_input = response.choices[0].message['content'].strip()\n",
    "    \n",
    "    # Handle cases where the response might not be a valid integer\n",
    "    try:\n",
    "        corrected_value = int(float(corrected_input))\n",
    "        return corrected_value\n",
    "    except ValueError:\n",
    "        print(\"The response from the API was not a valid integer.\")\n",
    "        return None\n",
    "\n",
    "# Main script\n",
    "user_input = input(\"Please enter the nth Fibonacci number you wish to compute: \")\n",
    "\n",
    "# Attempt to convert user input to integer\n",
    "try:\n",
    "    user_value = int(float(user_input))\n",
    "except ValueError:\n",
    "    # Get a corrected input from OpenAI if the initial input is invalid\n",
    "    corrected_value = get_corrected_input(user_input)\n",
    "    if corrected_value is None:\n",
    "        print(\"Unable to correct the input. Exiting.\")\n",
    "        exit(1)\n",
    "    else:\n",
    "        user_value = corrected_value\n",
    "\n",
    "# Compute the Fibonacci number with the corrected or valid input\n",
    "result = call_fibonacci_with_traceback(user_value)\n",
    "if result is not None:\n",
    "    print(f'The {user_value}th Fibonacci number is: {result}')"
   ]
  }
 ],
 "metadata": {
  "kernelspec": {
   "display_name": "Python 3 (ipykernel)",
   "language": "python",
   "name": "python3"
  },
  "language_info": {
   "codemirror_mode": {
    "name": "ipython",
    "version": 3
   },
   "file_extension": ".py",
   "mimetype": "text/x-python",
   "name": "python",
   "nbconvert_exporter": "python",
   "pygments_lexer": "ipython3",
   "version": "3.12.6"
  }
 },
 "nbformat": 4,
 "nbformat_minor": 5
}
