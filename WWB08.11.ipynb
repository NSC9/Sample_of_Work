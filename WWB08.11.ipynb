{
 "cells": [
  {
   "cell_type": "code",
   "execution_count": 29,
   "id": "3571a7c5",
   "metadata": {},
   "outputs": [
    {
     "data": {
      "text/html": [
       "<img src=\"https://i.imgur.com/X8aWqQZ.png\"/>"
      ],
      "text/plain": [
       "<IPython.core.display.Image object>"
      ]
     },
     "execution_count": 29,
     "metadata": {},
     "output_type": "execute_result"
    }
   ],
   "source": [
    "from IPython.display import Image\n",
    "from IPython.core.display import HTML \n",
    "from sympy import *; x,h,y = symbols(\"x h y\")\n",
    "Image(url= \"https://i.imgur.com/X8aWqQZ.png\")\n",
    "# source: https://www.math.purdue.edu/files/academic/courses/2015fall/MA15910/MA15910Lesson16Notes(revsp15).pdf\n"
   ]
  },
  {
   "cell_type": "code",
   "execution_count": 28,
   "id": "e35f1deb",
   "metadata": {},
   "outputs": [],
   "source": [
    "#from class notes\n",
    "#\n",
    "#  derivative product rule  (capital letter means a Function() )\n",
    "# (U * V)' = U'*V + U*V'\n",
    "# (F * G)' = F'*G + F*G'\n",
    "#\n",
    "#derivative quotient rule\n",
    "#(U/V)' = ( V*U' - U*V' ) / sqrt(V)\n",
    "#(F/G)' = ( F*dG - G*dF ) / G**2"
   ]
  },
  {
   "cell_type": "code",
   "execution_count": 74,
   "id": "4cc2b786",
   "metadata": {},
   "outputs": [
    {
     "data": {
      "text/plain": [
       "-0.7777777777777778"
      ]
     },
     "execution_count": 74,
     "metadata": {},
     "output_type": "execute_result"
    }
   ],
   "source": [
    "F = 4\n",
    "dF = -9\n",
    "G = 3\n",
    "dG = -5\n",
    "def dH(): \n",
    "    return  (    G*dF - F*dG  )   /   G**2                        #(F/G)' = ( F*dG - G*dF ) / (G)**2\n",
    "dH()"
   ]
  },
  {
   "cell_type": "code",
   "execution_count": 62,
   "id": "1feb78ae",
   "metadata": {},
   "outputs": [
    {
     "data": {
      "text/html": [
       "<img src=\"https://i.imgur.com/YnjJXoS.png\"/>"
      ],
      "text/plain": [
       "<IPython.core.display.Image object>"
      ]
     },
     "execution_count": 62,
     "metadata": {},
     "output_type": "execute_result"
    }
   ],
   "source": [
    "Image(url= \"https://i.imgur.com/YnjJXoS.png\")"
   ]
  },
  {
   "cell_type": "code",
   "execution_count": 75,
   "id": "a30d2993",
   "metadata": {},
   "outputs": [
    {
     "data": {
      "text/html": [
       "<img src=\"https://i.imgur.com/oetLU8x.png\"/>"
      ],
      "text/plain": [
       "<IPython.core.display.Image object>"
      ]
     },
     "execution_count": 75,
     "metadata": {},
     "output_type": "execute_result"
    }
   ],
   "source": [
    "Image(url= \"https://i.imgur.com/oetLU8x.png\")"
   ]
  },
  {
   "cell_type": "code",
   "execution_count": null,
   "id": "95a6efa1",
   "metadata": {},
   "outputs": [],
   "source": []
  }
 ],
 "metadata": {
  "kernelspec": {
   "display_name": "Python 3 (ipykernel)",
   "language": "python",
   "name": "python3"
  },
  "language_info": {
   "codemirror_mode": {
    "name": "ipython",
    "version": 3
   },
   "file_extension": ".py",
   "mimetype": "text/x-python",
   "name": "python",
   "nbconvert_exporter": "python",
   "pygments_lexer": "ipython3",
   "version": "3.9.6"
  }
 },
 "nbformat": 4,
 "nbformat_minor": 5
}
