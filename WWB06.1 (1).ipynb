{
 "cells": [
  {
   "cell_type": "code",
   "execution_count": 3,
   "id": "7424f649",
   "metadata": {},
   "outputs": [],
   "source": [
    "#first problem https://i.imgur.com/oPKGzfs.png\n",
    "#source https://mathculus.com/how-to-find-the-domain-of-a-function-algebraically/\\\n",
    "#source https://www.mathsisfun.com/algebra/line-equation-2points.html\n",
    "#Loop at end is the highlight of this work\n",
    "\n",
    "from sympy import *\n",
    "x,h = symbols('x h')"
   ]
  },
  {
   "cell_type": "code",
   "execution_count": 4,
   "id": "88ed5037",
   "metadata": {},
   "outputs": [],
   "source": [
    "def f(x):\n",
    "    return 12*x+0"
   ]
  },
  {
   "cell_type": "code",
   "execution_count": 5,
   "id": "fc9682fc",
   "metadata": {},
   "outputs": [
    {
     "data": {
      "text/latex": [
       "$\\displaystyle 12$"
      ],
      "text/plain": [
       "12"
      ]
     },
     "execution_count": 5,
     "metadata": {},
     "output_type": "execute_result"
    }
   ],
   "source": [
    "f(x).diff()"
   ]
  },
  {
   "cell_type": "code",
   "execution_count": 6,
   "id": "d6705d26",
   "metadata": {},
   "outputs": [
    {
     "data": {
      "text/latex": [
       "$\\displaystyle 0$"
      ],
      "text/plain": [
       "0"
      ]
     },
     "execution_count": 6,
     "metadata": {},
     "output_type": "execute_result"
    }
   ],
   "source": [
    "(3*(x+h)**2 -8 -1*(3*x**2 - 8)).limit(h,0)"
   ]
  },
  {
   "cell_type": "code",
   "execution_count": 7,
   "id": "93dfdcea",
   "metadata": {},
   "outputs": [
    {
     "data": {
      "text/latex": [
       "$\\displaystyle 6 x$"
      ],
      "text/plain": [
       "6*x"
      ]
     },
     "execution_count": 7,
     "metadata": {},
     "output_type": "execute_result"
    }
   ],
   "source": [
    "limit(((3*(x+h)**2 -8 -1*(3*x**2 - 8))/h),h,0)"
   ]
  },
  {
   "cell_type": "code",
   "execution_count": 8,
   "id": "d1179ff9",
   "metadata": {},
   "outputs": [
    {
     "data": {
      "text/latex": [
       "$\\displaystyle \\frac{4}{x^{2}}$"
      ],
      "text/plain": [
       "4/x**2"
      ]
     },
     "execution_count": 8,
     "metadata": {},
     "output_type": "execute_result"
    }
   ],
   "source": [
    "expr = 8/(2*(x**2))\n",
    "expr"
   ]
  },
  {
   "cell_type": "code",
   "execution_count": 9,
   "id": "25e7c6c5",
   "metadata": {},
   "outputs": [
    {
     "data": {
      "text/latex": [
       "$\\displaystyle - \\frac{8}{x^{3}}$"
      ],
      "text/plain": [
       "-8/x**3"
      ]
     },
     "execution_count": 9,
     "metadata": {},
     "output_type": "execute_result"
    }
   ],
   "source": [
    "diff(expr,x)"
   ]
  },
  {
   "cell_type": "code",
   "execution_count": 10,
   "id": "5f794844",
   "metadata": {},
   "outputs": [
    {
     "name": "stdout",
     "output_type": "stream",
     "text": [
      "-8/x**3\n"
     ]
    }
   ],
   "source": [
    "print(diff(expr,x))"
   ]
  },
  {
   "cell_type": "code",
   "execution_count": 11,
   "id": "c6a3b9c3",
   "metadata": {},
   "outputs": [
    {
     "data": {
      "text/latex": [
       "$\\displaystyle \\infty$"
      ],
      "text/plain": [
       "oo"
      ]
     },
     "execution_count": 11,
     "metadata": {},
     "output_type": "execute_result"
    }
   ],
   "source": [
    "limit(expr,x,0,'-')"
   ]
  },
  {
   "cell_type": "code",
   "execution_count": 12,
   "id": "2c7c922d",
   "metadata": {},
   "outputs": [
    {
     "data": {
      "text/latex": [
       "$\\displaystyle \\left|{n - 1}\\right|$"
      ],
      "text/plain": [
       "Abs(n - 1)"
      ]
     },
     "execution_count": 12,
     "metadata": {},
     "output_type": "execute_result"
    }
   ],
   "source": [
    "n = Symbol('n')\n",
    "refine(Abs(n-1), Q.positive(n-1))\n",
    "n - 1\n",
    "refine(Abs(n-1))\n"
   ]
  },
  {
   "cell_type": "code",
   "execution_count": 13,
   "id": "944b36fd",
   "metadata": {},
   "outputs": [
    {
     "name": "stdout",
     "output_type": "stream",
     "text": [
      "Find the domain of the expression:\n"
     ]
    },
    {
     "data": {
      "text/latex": [
       "$\\displaystyle \\frac{4}{x^{2}}$"
      ],
      "text/plain": [
       "4/x**2"
      ]
     },
     "execution_count": 13,
     "metadata": {},
     "output_type": "execute_result"
    }
   ],
   "source": [
    "print(\"Find the domain of the expression:\"); expr"
   ]
  },
  {
   "cell_type": "code",
   "execution_count": 14,
   "id": "8030b38f",
   "metadata": {},
   "outputs": [
    {
     "name": "stdout",
     "output_type": "stream",
     "text": [
      "The domain of the rational function f(x) is expressed as D(f).\n"
     ]
    }
   ],
   "source": [
    "print(\"The domain of the rational function f(x) is expressed as D(f).\")"
   ]
  },
  {
   "cell_type": "code",
   "execution_count": 15,
   "id": "c5411485",
   "metadata": {},
   "outputs": [],
   "source": [
    "#def D(f):\n",
    "#    return f(x)\n",
    "#D(f)"
   ]
  },
  {
   "cell_type": "code",
   "execution_count": 16,
   "id": "b5f9fd60",
   "metadata": {},
   "outputs": [
    {
     "data": {
      "image/png": "[encoded data removed]",
      "text/plain": [
       "<Figure size 432x288 with 1 Axes>"
      ]
     },
     "metadata": {
      "needs_background": "light"
     },
     "output_type": "display_data"
    },
    {
     "data": {
      "text/plain": [
       "<sympy.plotting.plot.Plot at 0x1f807156550>"
      ]
     },
     "execution_count": 16,
     "metadata": {},
     "output_type": "execute_result"
    }
   ],
   "source": [
    "%matplotlib inline\n",
    "import matplotlib.pyplot as plt\n",
    "plt.rcParams[\"xtick.labelsize\"] = 20\n",
    "plt.rcParams[\"xtick.color\"] = \"blue\"\n",
    "plot(expr)"
   ]
  },
  {
   "cell_type": "code",
   "execution_count": 17,
   "id": "3edca646",
   "metadata": {},
   "outputs": [
    {
     "name": "stdout",
     "output_type": "stream",
     "text": [
      "Find the domain of the expression:\n"
     ]
    },
    {
     "data": {
      "text/latex": [
       "$\\displaystyle - \\frac{8}{x^{3}}$"
      ],
      "text/plain": [
       "-8/x**3"
      ]
     },
     "execution_count": 17,
     "metadata": {},
     "output_type": "execute_result"
    }
   ],
   "source": [
    "print(\"Find the domain of the expression:\"); diff(expr,x)"
   ]
  },
  {
   "cell_type": "code",
   "execution_count": 18,
   "id": "656c40c7",
   "metadata": {},
   "outputs": [
    {
     "data": {
      "image/png": "[encoded data removed]",
      "text/plain": [
       "<Figure size 432x288 with 1 Axes>"
      ]
     },
     "metadata": {
      "needs_background": "light"
     },
     "output_type": "display_data"
    },
    {
     "data": {
      "text/plain": [
       "<sympy.plotting.plot.Plot at 0x1f807188940>"
      ]
     },
     "execution_count": 18,
     "metadata": {},
     "output_type": "execute_result"
    }
   ],
   "source": [
    "%matplotlib inline\n",
    "import matplotlib.pyplot as plt\n",
    "plt.rcParams[\"xtick.labelsize\"] = 20\n",
    "plt.rcParams[\"xtick.color\"] = \"blue\"\n",
    "plot(diff(expr,x))"
   ]
  },
  {
   "cell_type": "code",
   "execution_count": 72,
   "id": "184c072f",
   "metadata": {
    "scrolled": true
   },
   "outputs": [
    {
     "name": "stdout",
     "output_type": "stream",
     "text": [
      "f(x) = 8/(2*(x**2))\n",
      " f( -2000 )  =  1/1000000 . . . . . .  |\n",
      " f( -1000 )  =  1/250000 . . . . .    |\n",
      " f( -1000 )  =  1/250000 . . . . .    |\n",
      " f( -100 )  =  1/2500 . . . .      |\n",
      " f( -10 )  =  1/25 . . .        |\n",
      " f( -1 )  =  4 . .          | \n",
      " f( 0 )  =  zoo .         |\n",
      " f( 1 )  =  4 . .          |\n",
      " f( 10 )  =  1/25 . . .        | \n",
      " f( 100 )  =  1/2500 . . . .      |\n",
      " f( 1000 )  =  1/250000 . . . . .    |\n",
      " f( 2000 )  =  1/1000000 . . . . .    |\n",
      "4000 iterations of x in both - and + direction took 2.2767622470855713 seconds to run\n",
      "---------------------------------------------------------------------------\n"
     ]
    }
   ],
   "source": [
    "# Calculating the Domain of f(x) = 8/(2*(x**2))\n",
    "# Find the Function and the Derivative for the clocked run time of this script\n",
    "#      no cpu or gpu thread optimization has been done\n",
    "#     Processor Intel(R) Core(TM) i5-7400 CPU @ 3.00GHz   3.00 GHz\n",
    "#      Ram 16.0 GB\n",
    "#      GeForce GTX 1060 3GB\n",
    "#\n",
    "#\n",
    "# jupyter notebook python+sympy gets slow between 20,000 and 400,000 interations\n",
    "\n",
    "def f(x):\n",
    "    print(\"f(x) = 8/(2*(x**2))\")\n",
    "    import time\n",
    "    global expr\n",
    "    expr = 8/(2*(x**2))\n",
    "    start_time = time.time()\n",
    "\n",
    "    from sympy import symbols\n",
    "    x,h = symbols('x h')\n",
    "\n",
    "    for i in range(-2000,2001): \n",
    "        ci = expr.subs(x,i)\n",
    "\n",
    "        if i == -100000:\n",
    "            print(\" f(\",i,\")  = \",ci,)\n",
    "\n",
    "        if i == -20000:\n",
    "            print(\" f(\",i,\")  = \",ci,\". . . . . . . |\")\n",
    "        if i == -2000:\n",
    "            print(\" f(\",i,\")  = \",ci,\". . . . . .  |\")\n",
    "        if i == -1000:\n",
    "            print(\" f(\",i,\")  = \",ci,\". . . . .    |\")\n",
    "        if i == -1000:\n",
    "            print(\" f(\",i,\")  = \",ci,\". . . . .    |\")\n",
    "        if i == -100:\n",
    "            print(\" f(\",i,\")  = \",ci,\". . . .      |\")\n",
    "        if i == -10:\n",
    "            print(\" f(\",i,\")  = \",ci,\". . .        |\")\n",
    "        if i == -1:\n",
    "            print(\" f(\",i,\")  = \",ci,\". .          | \")\n",
    "        if i == 0:\n",
    "            print(\" f(\",i,\")  = \",ci,\".         |\")\n",
    "        if i == 1:\n",
    "            print(\" f(\",i,\")  = \",ci,\". .          |\")\n",
    "        if i == 10:\n",
    "            print(\" f(\",i,\")  = \",ci,\". . .        | \")\n",
    "        if i == 100:\n",
    "            print(\" f(\",i,\")  = \",ci,\". . . .      |\")\n",
    "           \n",
    "        if i == 1000:\n",
    "            print(\" f(\",i,\")  = \",ci,\". . . . .    |\")\n",
    "        if i == 2000:\n",
    "            print(\" f(\",i,\")  = \",ci,\". . . . .    |\")\n",
    "           \n",
    "        if i == 10000:\n",
    "            print(\" f(\",i,\")  = \",ci,\". . . . .  . |\") \n",
    "         \n",
    "        if i == 20000:\n",
    "            print(\" f(\",i,\")  = \",ci,\". . . . . . . |\") \n",
    "            #print(\"Amount of iterations:\",len(i))\n",
    "            \n",
    "        if i == 100000:\n",
    "            print(\" f(\",i,\")  = \",ci)\n",
    "    print(i*2, \"iterations of x in both - and + direction took %s seconds to run\"% (time.time() - start_time))\n",
    "f(x)\n",
    "print(\"---------------------------------------------------------------------------\")\n",
    "\n",
    "\n",
    "\n",
    "\n",
    "\n",
    "        "
   ]
  },
  {
   "cell_type": "code",
   "execution_count": null,
   "id": "ebc86666",
   "metadata": {},
   "outputs": [],
   "source": []
  }
 ],
 "metadata": {
  "kernelspec": {
   "display_name": "Python 3 (ipykernel)",
   "language": "python",
   "name": "python3"
  },
  "language_info": {
   "codemirror_mode": {
    "name": "ipython",
    "version": 3
   },
   "file_extension": ".py",
   "mimetype": "text/x-python",
   "name": "python",
   "nbconvert_exporter": "python",
   "pygments_lexer": "ipython3",
   "version": "3.9.6"
  }
 },
 "nbformat": 4,
 "nbformat_minor": 5
}
