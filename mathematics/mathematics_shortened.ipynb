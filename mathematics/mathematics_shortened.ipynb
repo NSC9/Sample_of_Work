{
 "cells": [
  {
   "cell_type": "code",
   "execution_count": 36,
   "id": "876a1198-73e8-4052-9133-48eaaa479c21",
   "metadata": {},
   "outputs": [
    {
     "name": "stdout",
     "output_type": "stream",
     "text": [
      "...generating derivative 1\n",
      "...generating integral 1\n",
      "\n",
      "\n",
      "Solve with Pen and Paper:\n",
      "\n",
      "\n",
      "q1)\n"
     ]
    },
    {
     "data": {
      "text/latex": [
       "$\\displaystyle \\frac{d}{d y} \\left(- 2 y + \\left(3 - 2 y^{3}\\right)^{2} + 3\\right) = ?$"
      ],
      "text/plain": [
       "Eq(Derivative(-2*y + (3 - 2*y**3)**2 + 3, y), ?)"
      ]
     },
     "metadata": {},
     "output_type": "display_data"
    },
    {
     "name": "stdout",
     "output_type": "stream",
     "text": [
      "q2)\n"
     ]
    },
    {
     "data": {
      "text/latex": [
       "$\\displaystyle \\int \\left(\\sqrt[3]{x} - 2 x^{3} + 3\\right)\\, dx = ?$"
      ],
      "text/plain": [
       "Eq(Integral(x**(1/3) - 2*x**3 + 3, x), ?)"
      ]
     },
     "metadata": {},
     "output_type": "display_data"
    },
    {
     "name": "stdout",
     "output_type": "stream",
     "text": [
      "\n",
      "\n",
      "a1)\n"
     ]
    },
    {
     "data": {
      "text/latex": [
       "$\\displaystyle \\frac{d}{d y} \\left(- 2 y + \\left(3 - 2 y^{3}\\right)^{2} + 3\\right) = - 12 y^{2} \\cdot \\left(3 - 2 y^{3}\\right) - 2$"
      ],
      "text/plain": [
       "Eq(Derivative(-2*y + (3 - 2*y**3)**2 + 3, y), -12*y**2*(3 - 2*y**3) - 2)"
      ]
     },
     "metadata": {},
     "output_type": "display_data"
    },
    {
     "name": "stdout",
     "output_type": "stream",
     "text": [
      "a2)\n"
     ]
    },
    {
     "data": {
      "text/latex": [
       "$\\displaystyle \\int \\left(\\sqrt[3]{x} - 2 x^{3} + 3\\right)\\, dx = \\frac{3 x^{\\frac{4}{3}}}{4} - \\frac{x^{4}}{2} + 3 x$"
      ],
      "text/plain": [
       "Eq(Integral(x**(1/3) - 2*x**3 + 3, x), 3*x**(4/3)/4 - x**4/2 + 3*x)"
      ]
     },
     "metadata": {},
     "output_type": "display_data"
    },
    {
     "name": "stdout",
     "output_type": "stream",
     "text": [
      "----------------------------------------------------------------------\n",
      "\n",
      "\n",
      "for help on q1&q2: copy/paste expressions into https://www.derivative-calculator.net/ or https://www.integral-calculator.com/\n",
      "     Differentiate: -2*y + (3 - 2*y**3)**2 + 3\n",
      "     Integrate: x**(1/3) - 2*x**3 + 3\n",
      "\n",
      "\n"
     ]
    }
   ],
   "source": [
    "import importlib\n",
    "import mymath\n",
    "importlib.reload(mymath)\n",
    "mymath.main()"
   ]
  }
 ],
 "metadata": {
  "kernelspec": {
   "display_name": "Python 3 (ipykernel)",
   "language": "python",
   "name": "python3"
  },
  "language_info": {
   "codemirror_mode": {
    "name": "ipython",
    "version": 3
   },
   "file_extension": ".py",
   "mimetype": "text/x-python",
   "name": "python",
   "nbconvert_exporter": "python",
   "pygments_lexer": "ipython3",
   "version": "3.12.5"
  }
 },
 "nbformat": 4,
 "nbformat_minor": 5
}
