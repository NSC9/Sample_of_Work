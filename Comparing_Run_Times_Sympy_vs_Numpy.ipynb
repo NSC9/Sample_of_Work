{
 "cells": [
  {
   "cell_type": "code",
   "execution_count": 1,
   "id": "07b78002",
   "metadata": {},
   "outputs": [],
   "source": [
    "# sources: \n",
    "#     https://youtu.be/qleGSnrnxgc?t=2696\n",
    "#     https://appdividend.com/2020/11/23/python-string-substitution-example/\n",
    "#     https://stackoverflow.com/questions/5622976/how-do-you-calculate-program-run-time-in-python\n",
    "import timeit\n",
    "from sympy import *; x = symbols('x')"
   ]
  },
  {
   "cell_type": "code",
   "execution_count": 2,
   "id": "9ce5cdee",
   "metadata": {},
   "outputs": [
    {
     "name": "stdout",
     "output_type": "stream",
     "text": [
      "Time:  0.2884548999999996            f(3) =  9\n"
     ]
    }
   ],
   "source": [
    "start0 = timeit.default_timer()\n",
    "\n",
    "#lamdify specifies an input and output expression\n",
    "#this runs as a basic python function\n",
    "f = lambdify(x,x**2)  \n",
    "f(3)\n",
    "\n",
    "stop0 = timeit.default_timer()\n",
    "print('Time: ', stop0 - start0, \"           f(3) = \",f(3))  \n",
    "diff0 = stop0 - start0"
   ]
  },
  {
   "cell_type": "code",
   "execution_count": 3,
   "id": "3072f475",
   "metadata": {},
   "outputs": [
    {
     "name": "stdout",
     "output_type": "stream",
     "text": [
      "Time:  0.0008004000000001454            f(3) =  9\n"
     ]
    }
   ],
   "source": [
    "start1 = timeit.default_timer()\n",
    "\n",
    "# since python is slow, we can swap sympy for numpy to do \n",
    "# faster calculations (faster run time)\n",
    "f = lambdify(x,x**2, 'numpy')  \n",
    "f(3)\n",
    "\n",
    "stop1 = timeit.default_timer()\n",
    "print('Time: ', stop1 - start1, \"           f(3) = \",f(3))  \n",
    "diff1 = stop1 - start1"
   ]
  },
  {
   "cell_type": "code",
   "execution_count": 4,
   "id": "42c67b51",
   "metadata": {},
   "outputs": [
    {
     "name": "stdout",
     "output_type": "stream",
     "text": [
      "Numpy is 35938 percent faster than Sympy for doing arithmetic.\n"
     ]
    }
   ],
   "source": [
    "# returned values from first test\n",
    "# Time:  0.2861325999999984\n",
    "# Time:  0.0007134999999998115\n",
    "def percentage_change(diff0, diff1):\n",
    "    if diff1 != 0 :\n",
    "        return float(diff0 - diff1) / abs(diff1) * 100\n",
    "    else:\n",
    "        return \"undefined\"\n",
    "    \n",
    "    \n",
    "# Our Percent Change is 40002% by offloading the math to numpy.\n",
    "# This is useful for real world application using sympy    \n",
    "print(\"Numpy is %s percent faster than Sympy for doing arithmetic.\" % int(percentage_change(diff0, diff1)))"
   ]
  }
 ],
 "metadata": {
  "kernelspec": {
   "display_name": "Python 3 (ipykernel)",
   "language": "python",
   "name": "python3"
  },
  "language_info": {
   "codemirror_mode": {
    "name": "ipython",
    "version": 3
   },
   "file_extension": ".py",
   "mimetype": "text/x-python",
   "name": "python",
   "nbconvert_exporter": "python",
   "pygments_lexer": "ipython3",
   "version": "3.9.6"
  }
 },
 "nbformat": 4,
 "nbformat_minor": 5
}
