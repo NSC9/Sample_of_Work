{
 "cells": [
  {
   "cell_type": "code",
   "execution_count": 84,
   "id": "b389f694-0dd6-4c2f-904f-c06734002281",
   "metadata": {},
   "outputs": [],
   "source": [
    "from sympy import *\n",
    "from sympy.abc import x,y,z,a,b,c,f,g,h,P,Q,R,n"
   ]
  },
  {
   "cell_type": "code",
   "execution_count": 2,
   "id": "12973c46-8c34-4dff-aaf6-944f92f9f668",
   "metadata": {},
   "outputs": [
    {
     "data": {
      "text/latex": [
       "$\\displaystyle x$"
      ],
      "text/plain": [
       "x"
      ]
     },
     "execution_count": 2,
     "metadata": {},
     "output_type": "execute_result"
    }
   ],
   "source": [
    "x = symbols('x')\n",
    "x"
   ]
  },
  {
   "cell_type": "code",
   "execution_count": 3,
   "id": "ba93bbb2-ab10-4a2f-9790-b39b28a1a9aa",
   "metadata": {},
   "outputs": [
    {
     "data": {
      "text/latex": [
       "$\\displaystyle x^{2}$"
      ],
      "text/plain": [
       "x**2"
      ]
     },
     "execution_count": 3,
     "metadata": {},
     "output_type": "execute_result"
    }
   ],
   "source": [
    "x**2"
   ]
  },
  {
   "cell_type": "code",
   "execution_count": 4,
   "id": "cb5c199b-2b8d-4c50-a0c2-6ac8cb63cae8",
   "metadata": {},
   "outputs": [
    {
     "data": {
      "text/plain": [
       "\u001b[0;31mInit signature:\u001b[0m \u001b[0mfibonacci\u001b[0m\u001b[0;34m(\u001b[0m\u001b[0mn\u001b[0m\u001b[0;34m,\u001b[0m \u001b[0msym\u001b[0m\u001b[0;34m=\u001b[0m\u001b[0;32mNone\u001b[0m\u001b[0;34m)\u001b[0m\u001b[0;34m\u001b[0m\u001b[0;34m\u001b[0m\u001b[0m\n",
       "\u001b[0;31mDocstring:\u001b[0m     \n",
       "Fibonacci numbers / Fibonacci polynomials\n",
       "\n",
       "The Fibonacci numbers are the integer sequence defined by the\n",
       "initial terms `F_0 = 0`, `F_1 = 1` and the two-term recurrence\n",
       "relation `F_n = F_{n-1} + F_{n-2}`.  This definition\n",
       "extended to arbitrary real and complex arguments using\n",
       "the formula\n",
       "\n",
       ".. math :: F_z = \\frac{\\phi^z - \\cos(\\pi z) \\phi^{-z}}{\\sqrt 5}\n",
       "\n",
       "The Fibonacci polynomials are defined by `F_1(x) = 1`,\n",
       "`F_2(x) = x`, and `F_n(x) = x*F_{n-1}(x) + F_{n-2}(x)` for `n > 2`.\n",
       "For all positive integers `n`, `F_n(1) = F_n`.\n",
       "\n",
       "* ``fibonacci(n)`` gives the `n^{th}` Fibonacci number, `F_n`\n",
       "* ``fibonacci(n, x)`` gives the `n^{th}` Fibonacci polynomial in `x`, `F_n(x)`\n",
       "\n",
       "Examples\n",
       "========\n",
       "\n",
       ">>> from sympy import fibonacci, Symbol\n",
       "\n",
       ">>> [fibonacci(x) for x in range(11)]\n",
       "[0, 1, 1, 2, 3, 5, 8, 13, 21, 34, 55]\n",
       ">>> fibonacci(5, Symbol('t'))\n",
       "t**4 + 3*t**2 + 1\n",
       "\n",
       "See Also\n",
       "========\n",
       "\n",
       "bell, bernoulli, catalan, euler, harmonic, lucas, genocchi, partition, tribonacci\n",
       "\n",
       "References\n",
       "==========\n",
       "\n",
       ".. [1] https://en.wikipedia.org/wiki/Fibonacci_number\n",
       ".. [2] http://mathworld.wolfram.com/FibonacciNumber.html\n",
       "\u001b[0;31mFile:\u001b[0m           ~/.local/lib/python3.8/site-packages/sympy/functions/combinatorial/numbers.py\n",
       "\u001b[0;31mType:\u001b[0m           FunctionClass\n",
       "\u001b[0;31mSubclasses:\u001b[0m     \n"
      ]
     },
     "metadata": {},
     "output_type": "display_data"
    }
   ],
   "source": [
    "fibonacci?"
   ]
  },
  {
   "cell_type": "code",
   "execution_count": 5,
   "id": "d664dcc6-314c-4358-8bcf-eaa6aaef3229",
   "metadata": {},
   "outputs": [
    {
     "name": "stdout",
     "output_type": "stream",
     "text": [
      "Value of n fibonacci number : 1\n",
      "Value of n fibonacci number : 1\n",
      "Value of n fibonacci number : 2\n"
     ]
    }
   ],
   "source": [
    "for i in range(1,4):\n",
    "    #print(\"Value of n = {}\".format(i))\n",
    "   \n",
    "# Use sympy.fibonacci() method \n",
    "    nth_fibonacci = fibonacci(i)  \n",
    "      \n",
    "    print(\"Value of n fibonacci number : {}\".format(nth_fibonacci)) "
   ]
  },
  {
   "cell_type": "code",
   "execution_count": 6,
   "id": "d12ed520-9478-40de-9b8b-a8d1882bba22",
   "metadata": {},
   "outputs": [
    {
     "name": "stdout",
     "output_type": "stream",
     "text": [
      "1\n",
      "2\n",
      "4\n",
      "8\n",
      "16\n"
     ]
    }
   ],
   "source": [
    "for i in range(0,5):\n",
    "    print(2**i)\n",
    "    "
   ]
  },
  {
   "cell_type": "code",
   "execution_count": 7,
   "id": "9a4a9b34-a412-42aa-b4a1-0dd751d8f2c6",
   "metadata": {},
   "outputs": [
    {
     "data": {
      "text/latex": [
       "$\\displaystyle \\frac{x!}{y! \\left(x - y\\right)!}$"
      ],
      "text/plain": [
       "factorial(x)/(factorial(y)*factorial(x - y))"
      ]
     },
     "execution_count": 7,
     "metadata": {},
     "output_type": "execute_result"
    }
   ],
   "source": [
    "f = factorial(x)/(factorial(y)*factorial(x-y))\n",
    "f"
   ]
  },
  {
   "cell_type": "code",
   "execution_count": 22,
   "id": "9bed85b6-c78b-46eb-b38e-a641d7660ed1",
   "metadata": {},
   "outputs": [
    {
     "data": {
      "text/latex": [
       "$\\displaystyle -0.0435986286291878$"
      ],
      "text/plain": [
       "-0.0435986286291878"
      ]
     },
     "execution_count": 22,
     "metadata": {},
     "output_type": "execute_result"
    }
   ],
   "source": [
    "f.subs(x,pi-y).subs(y,pi).evalf()"
   ]
  },
  {
   "cell_type": "code",
   "execution_count": 24,
   "id": "c7823a4e-2a64-428e-8d15-c7a8c9312b61",
   "metadata": {},
   "outputs": [
    {
     "data": {
      "text/latex": [
       "$\\displaystyle 5$"
      ],
      "text/plain": [
       "5"
      ]
     },
     "execution_count": 24,
     "metadata": {},
     "output_type": "execute_result"
    }
   ],
   "source": [
    "fibonacci(5)"
   ]
  },
  {
   "cell_type": "code",
   "execution_count": 25,
   "id": "277f428f-804c-4898-b035-3a2595ea5dbd",
   "metadata": {},
   "outputs": [
    {
     "data": {
      "text/plain": [
       "[0, 1, 1, 2, 3, 5, 8, 13, 21, 34, 55]"
      ]
     },
     "execution_count": 25,
     "metadata": {},
     "output_type": "execute_result"
    }
   ],
   "source": [
    "[fibonacci(x) for x in range(11)]"
   ]
  },
  {
   "cell_type": "code",
   "execution_count": 85,
   "id": "38999acf-a477-4b72-a246-f13f0f447150",
   "metadata": {},
   "outputs": [
    {
     "data": {
      "text/latex": [
       "$\\displaystyle F_{n}\\left(t\\right)$"
      ],
      "text/plain": [
       "fibonacci(n, t)"
      ]
     },
     "execution_count": 85,
     "metadata": {},
     "output_type": "execute_result"
    }
   ],
   "source": [
    "fibonacci(n, Symbol('t'))"
   ]
  },
  {
   "cell_type": "code",
   "execution_count": 122,
   "id": "6005ed85-4dbe-4571-b0ec-bd673906e81d",
   "metadata": {},
   "outputs": [
    {
     "data": {
      "text/latex": [
       "$\\displaystyle t^{2} + 1$"
      ],
      "text/plain": [
       "t**2 + 1"
      ]
     },
     "execution_count": 122,
     "metadata": {},
     "output_type": "execute_result"
    }
   ],
   "source": [
    "fibonacci(3, Symbol('t'))"
   ]
  },
  {
   "cell_type": "code",
   "execution_count": 175,
   "id": "bea5ae09-a803-4dc7-b949-f731823e2a1f",
   "metadata": {},
   "outputs": [
    {
     "data": {
      "text/plain": [
       "[1,\n",
       " x,\n",
       " x**2 + 1,\n",
       " x**3 + 2*x,\n",
       " x**4 + 3*x**2 + 1,\n",
       " x**5 + 4*x**3 + 3*x,\n",
       " x**6 + 5*x**4 + 6*x**2 + 1,\n",
       " x**7 + 6*x**5 + 10*x**3 + 4*x,\n",
       " x**8 + 7*x**6 + 15*x**4 + 10*x**2 + 1,\n",
       " x**9 + 8*x**7 + 21*x**5 + 20*x**3 + 5*x,\n",
       " x**10 + 9*x**8 + 28*x**6 + 35*x**4 + 15*x**2 + 1,\n",
       " x**11 + 10*x**9 + 36*x**7 + 56*x**5 + 35*x**3 + 6*x,\n",
       " x**12 + 11*x**10 + 45*x**8 + 84*x**6 + 70*x**4 + 21*x**2 + 1,\n",
       " x**13 + 12*x**11 + 55*x**9 + 120*x**7 + 126*x**5 + 56*x**3 + 7*x,\n",
       " x**14 + 13*x**12 + 66*x**10 + 165*x**8 + 210*x**6 + 126*x**4 + 28*x**2 + 1,\n",
       " x**15 + 14*x**13 + 78*x**11 + 220*x**9 + 330*x**7 + 252*x**5 + 84*x**3 + 8*x,\n",
       " x**16 + 15*x**14 + 91*x**12 + 286*x**10 + 495*x**8 + 462*x**6 + 210*x**4 + 36*x**2 + 1,\n",
       " x**17 + 16*x**15 + 105*x**13 + 364*x**11 + 715*x**9 + 792*x**7 + 462*x**5 + 120*x**3 + 9*x,\n",
       " x**18 + 17*x**16 + 120*x**14 + 455*x**12 + 1001*x**10 + 1287*x**8 + 924*x**6 + 330*x**4 + 45*x**2 + 1]"
      ]
     },
     "execution_count": 175,
     "metadata": {},
     "output_type": "execute_result"
    }
   ],
   "source": [
    "list = []\n",
    "for x in range(1,20):\n",
    "    list.append(fibonacci(x, Symbol('x')))\n",
    "list    "
   ]
  },
  {
   "cell_type": "code",
   "execution_count": 176,
   "id": "f0520339-559f-423a-9a8c-25bd1d2ab7a1",
   "metadata": {},
   "outputs": [
    {
     "data": {
      "text/latex": [
       "$\\displaystyle x$"
      ],
      "text/plain": [
       "x"
      ]
     },
     "execution_count": 176,
     "metadata": {},
     "output_type": "execute_result"
    }
   ],
   "source": [
    "list[1]   "
   ]
  },
  {
   "cell_type": "code",
   "execution_count": 177,
   "id": "c9a2efe0-ec3f-4724-8f74-0b9fca2efa05",
   "metadata": {},
   "outputs": [
    {
     "data": {
      "text/latex": [
       "$\\displaystyle x^{2} + 1$"
      ],
      "text/plain": [
       "x**2 + 1"
      ]
     },
     "execution_count": 177,
     "metadata": {},
     "output_type": "execute_result"
    }
   ],
   "source": [
    "list[2]   "
   ]
  },
  {
   "cell_type": "code",
   "execution_count": 178,
   "id": "5a89e0fe-0d1d-43dd-89c2-340e983fd84c",
   "metadata": {},
   "outputs": [
    {
     "data": {
      "text/latex": [
       "$\\displaystyle x^{3} + 2 x$"
      ],
      "text/plain": [
       "x**3 + 2*x"
      ]
     },
     "execution_count": 178,
     "metadata": {},
     "output_type": "execute_result"
    }
   ],
   "source": [
    "list[3]   "
   ]
  },
  {
   "cell_type": "code",
   "execution_count": 179,
   "id": "4016da1c-25d4-43a7-a780-18de15edcba8",
   "metadata": {},
   "outputs": [
    {
     "data": {
      "text/latex": [
       "$\\displaystyle x^{4} + 3 x^{2} + 1$"
      ],
      "text/plain": [
       "x**4 + 3*x**2 + 1"
      ]
     },
     "execution_count": 179,
     "metadata": {},
     "output_type": "execute_result"
    }
   ],
   "source": [
    "list[4]   "
   ]
  },
  {
   "cell_type": "code",
   "execution_count": 180,
   "id": "71e74cf1-972a-4a66-bab1-6847e7b71b4f",
   "metadata": {},
   "outputs": [
    {
     "data": {
      "text/latex": [
       "$\\displaystyle x^{5} + 4 x^{3} + 3 x$"
      ],
      "text/plain": [
       "x**5 + 4*x**3 + 3*x"
      ]
     },
     "execution_count": 180,
     "metadata": {},
     "output_type": "execute_result"
    }
   ],
   "source": [
    "list[5] "
   ]
  },
  {
   "cell_type": "code",
   "execution_count": 181,
   "id": "28c6ded5-7fa9-42d0-801b-de6cae00d5f3",
   "metadata": {},
   "outputs": [
    {
     "data": {
      "text/latex": [
       "$\\displaystyle x^{6} + 5 x^{4} + 6 x^{2} + 1$"
      ],
      "text/plain": [
       "x**6 + 5*x**4 + 6*x**2 + 1"
      ]
     },
     "execution_count": 181,
     "metadata": {},
     "output_type": "execute_result"
    }
   ],
   "source": [
    "list[6]"
   ]
  },
  {
   "cell_type": "code",
   "execution_count": 182,
   "id": "f4eed417-a411-4144-a25c-045021c02683",
   "metadata": {},
   "outputs": [],
   "source": [
    "q = list[0]+list[1]\n",
    "w = list[1] + list[2]\n",
    "e = list[2]+list[3]\n",
    "r = list[3]+list[4]  \n",
    "u = list[4]+list[5] "
   ]
  },
  {
   "cell_type": "code",
   "execution_count": 183,
   "id": "79e7e1af-6ed3-4e48-be6b-46501ec452a0",
   "metadata": {},
   "outputs": [
    {
     "data": {
      "image/png": "[encoded data removed]",
      "text/plain": [
       "<Figure size 432x288 with 1 Axes>"
      ]
     },
     "metadata": {
      "needs_background": "light"
     },
     "output_type": "display_data"
    },
    {
     "data": {
      "text/plain": [
       "<sympy.plotting.plot.Plot at 0x7fe824df43d0>"
      ]
     },
     "execution_count": 183,
     "metadata": {},
     "output_type": "execute_result"
    }
   ],
   "source": [
    "plot(q,w,e,r,u,yscale='log')"
   ]
  },
  {
   "cell_type": "code",
   "execution_count": 184,
   "id": "a557a526-908f-404f-b90e-39e0c8c6aa34",
   "metadata": {},
   "outputs": [
    {
     "data": {
      "image/png": "[encoded data removed]",
      "text/plain": [
       "<Figure size 432x288 with 1 Axes>"
      ]
     },
     "metadata": {
      "needs_background": "light"
     },
     "output_type": "display_data"
    },
    {
     "data": {
      "text/plain": [
       "<sympy.plotting.plot.Plot at 0x7fe824c73b20>"
      ]
     },
     "execution_count": 184,
     "metadata": {},
     "output_type": "execute_result"
    }
   ],
   "source": [
    "plot(log(q),log(w),log(e),log(r),log(u))"
   ]
  },
  {
   "cell_type": "code",
   "execution_count": 185,
   "id": "07eeb68a-44e1-429c-b3eb-46c5f9577871",
   "metadata": {},
   "outputs": [
    {
     "data": {
      "text/latex": [
       "$\\displaystyle \\log{\\left(x + 1 \\right)}$"
      ],
      "text/plain": [
       "log(x + 1)"
      ]
     },
     "execution_count": 185,
     "metadata": {},
     "output_type": "execute_result"
    }
   ],
   "source": [
    "log(q)"
   ]
  },
  {
   "cell_type": "code",
   "execution_count": 186,
   "id": "7f7c61a9-3f1d-42f0-8969-57be405d9340",
   "metadata": {},
   "outputs": [
    {
     "data": {
      "text/latex": [
       "$\\displaystyle \\log{\\left(x^{2} + x + 1 \\right)}$"
      ],
      "text/plain": [
       "log(x**2 + x + 1)"
      ]
     },
     "execution_count": 186,
     "metadata": {},
     "output_type": "execute_result"
    }
   ],
   "source": [
    "log(w)"
   ]
  },
  {
   "cell_type": "code",
   "execution_count": 187,
   "id": "e06499d8-b6e2-4283-96bf-7ef12b94229d",
   "metadata": {},
   "outputs": [
    {
     "data": {
      "text/latex": [
       "$\\displaystyle \\log{\\left(x^{3} + x^{2} + 2 x + 1 \\right)}$"
      ],
      "text/plain": [
       "log(x**3 + x**2 + 2*x + 1)"
      ]
     },
     "execution_count": 187,
     "metadata": {},
     "output_type": "execute_result"
    }
   ],
   "source": [
    "log(e)"
   ]
  },
  {
   "cell_type": "code",
   "execution_count": 188,
   "id": "843ee1f8-498b-4349-aaa4-79601d1bb307",
   "metadata": {},
   "outputs": [
    {
     "data": {
      "text/latex": [
       "$\\displaystyle \\log{\\left(x^{4} + x^{3} + 3 x^{2} + 2 x + 1 \\right)}$"
      ],
      "text/plain": [
       "log(x**4 + x**3 + 3*x**2 + 2*x + 1)"
      ]
     },
     "execution_count": 188,
     "metadata": {},
     "output_type": "execute_result"
    }
   ],
   "source": [
    "log(r)"
   ]
  },
  {
   "cell_type": "code",
   "execution_count": 189,
   "id": "48cdaf69-c02d-430a-91dd-377eb6961de6",
   "metadata": {},
   "outputs": [
    {
     "data": {
      "text/latex": [
       "$\\displaystyle \\log{\\left(x^{5} + x^{4} + 4 x^{3} + 3 x^{2} + 3 x + 1 \\right)}$"
      ],
      "text/plain": [
       "log(x**5 + x**4 + 4*x**3 + 3*x**2 + 3*x + 1)"
      ]
     },
     "execution_count": 189,
     "metadata": {},
     "output_type": "execute_result"
    }
   ],
   "source": [
    "log(u)"
   ]
  },
  {
   "cell_type": "code",
   "execution_count": 190,
   "id": "8610e26c-9646-4b74-b08e-5801d9ff7d7c",
   "metadata": {},
   "outputs": [
    {
     "data": {
      "text/latex": [
       "$\\displaystyle 1$"
      ],
      "text/plain": [
       "1"
      ]
     },
     "execution_count": 190,
     "metadata": {},
     "output_type": "execute_result"
    }
   ],
   "source": [
    "list[0]"
   ]
  },
  {
   "cell_type": "code",
   "execution_count": 191,
   "id": "a5e39d81-ef8c-4201-a5a5-fa506ee14152",
   "metadata": {},
   "outputs": [
    {
     "data": {
      "text/latex": [
       "$\\displaystyle x$"
      ],
      "text/plain": [
       "x"
      ]
     },
     "execution_count": 191,
     "metadata": {},
     "output_type": "execute_result"
    }
   ],
   "source": [
    "list[1]"
   ]
  },
  {
   "cell_type": "code",
   "execution_count": 192,
   "id": "7290f75a-3fd7-4538-bec4-ecff16457542",
   "metadata": {},
   "outputs": [
    {
     "data": {
      "text/latex": [
       "$\\displaystyle x + 1$"
      ],
      "text/plain": [
       "x + 1"
      ]
     },
     "execution_count": 192,
     "metadata": {},
     "output_type": "execute_result"
    }
   ],
   "source": [
    "q"
   ]
  },
  {
   "cell_type": "code",
   "execution_count": 193,
   "id": "964d7ce3-38c5-4e58-8ae1-d5f6f19c8d45",
   "metadata": {},
   "outputs": [
    {
     "data": {
      "text/latex": [
       "$\\displaystyle x^{2} + x + 1$"
      ],
      "text/plain": [
       "x**2 + x + 1"
      ]
     },
     "execution_count": 193,
     "metadata": {},
     "output_type": "execute_result"
    }
   ],
   "source": [
    "w"
   ]
  },
  {
   "cell_type": "code",
   "execution_count": 194,
   "id": "306dec96-94a5-460e-b0db-89d6a3cd2bdb",
   "metadata": {},
   "outputs": [
    {
     "data": {
      "text/latex": [
       "$\\displaystyle 1$"
      ],
      "text/plain": [
       "1"
      ]
     },
     "execution_count": 194,
     "metadata": {},
     "output_type": "execute_result"
    }
   ],
   "source": [
    "x = symbols('x')\n",
    "fibonacci(1, Symbol('x'))"
   ]
  },
  {
   "cell_type": "code",
   "execution_count": 195,
   "id": "ad11fc59-f3e1-4d00-931a-79e4c3fb8bb5",
   "metadata": {},
   "outputs": [
    {
     "data": {
      "text/latex": [
       "$\\displaystyle x$"
      ],
      "text/plain": [
       "x"
      ]
     },
     "execution_count": 195,
     "metadata": {},
     "output_type": "execute_result"
    }
   ],
   "source": [
    "fibonacci(2, Symbol('x'))"
   ]
  },
  {
   "cell_type": "code",
   "execution_count": 196,
   "id": "ab3c88b2-4089-412c-ba5e-ea1f5e010080",
   "metadata": {},
   "outputs": [
    {
     "data": {
      "text/latex": [
       "$\\displaystyle x + 1$"
      ],
      "text/plain": [
       "x + 1"
      ]
     },
     "execution_count": 196,
     "metadata": {},
     "output_type": "execute_result"
    }
   ],
   "source": [
    "fibonacci(1, Symbol('x'))+fibonacci(2, Symbol('x'))"
   ]
  },
  {
   "cell_type": "code",
   "execution_count": 197,
   "id": "a73a94cc-2011-461a-9437-280101639257",
   "metadata": {},
   "outputs": [
    {
     "data": {
      "text/latex": [
       "$\\displaystyle x^{2} + x + 1$"
      ],
      "text/plain": [
       "x**2 + x + 1"
      ]
     },
     "execution_count": 197,
     "metadata": {},
     "output_type": "execute_result"
    }
   ],
   "source": [
    "fibonacci(2, Symbol('x'))+fibonacci(3, Symbol('x'))"
   ]
  },
  {
   "cell_type": "code",
   "execution_count": 202,
   "id": "c1325776-d3a0-45ea-924b-57b794d3fb14",
   "metadata": {},
   "outputs": [
    {
     "data": {
      "text/plain": [
       "[x + 1,\n",
       " x**2 + x + 1,\n",
       " x**3 + x**2 + 2*x + 1,\n",
       " x**4 + x**3 + 3*x**2 + 2*x + 1,\n",
       " x**5 + x**4 + 4*x**3 + 3*x**2 + 3*x + 1,\n",
       " x**6 + x**5 + 5*x**4 + 4*x**3 + 6*x**2 + 3*x + 1,\n",
       " x**7 + x**6 + 6*x**5 + 5*x**4 + 10*x**3 + 6*x**2 + 4*x + 1,\n",
       " x**8 + x**7 + 7*x**6 + 6*x**5 + 15*x**4 + 10*x**3 + 10*x**2 + 4*x + 1,\n",
       " x**9 + x**8 + 8*x**7 + 7*x**6 + 21*x**5 + 15*x**4 + 20*x**3 + 10*x**2 + 5*x + 1,\n",
       " x**10 + x**9 + 9*x**8 + 8*x**7 + 28*x**6 + 21*x**5 + 35*x**4 + 20*x**3 + 15*x**2 + 5*x + 1,\n",
       " x**11 + x**10 + 10*x**9 + 9*x**8 + 36*x**7 + 28*x**6 + 56*x**5 + 35*x**4 + 35*x**3 + 15*x**2 + 6*x + 1,\n",
       " x**12 + x**11 + 11*x**10 + 10*x**9 + 45*x**8 + 36*x**7 + 84*x**6 + 56*x**5 + 70*x**4 + 35*x**3 + 21*x**2 + 6*x + 1,\n",
       " x**13 + x**12 + 12*x**11 + 11*x**10 + 55*x**9 + 45*x**8 + 120*x**7 + 84*x**6 + 126*x**5 + 70*x**4 + 56*x**3 + 21*x**2 + 7*x + 1]"
      ]
     },
     "execution_count": 202,
     "metadata": {},
     "output_type": "execute_result"
    }
   ],
   "source": [
    "list2 = []\n",
    "for i in range(1,14):\n",
    "    list2.append(fibonacci(i, Symbol('x'))+fibonacci(i+1, Symbol('x')))\n",
    "list2       "
   ]
  },
  {
   "cell_type": "code",
   "execution_count": 208,
   "id": "0f41cc7e-8604-4b1b-bbbe-b683a1a61784",
   "metadata": {},
   "outputs": [
    {
     "data": {
      "text/plain": [
       "[x**2 + x + 1,\n",
       " x**3 + x**2 + 2*x + 1,\n",
       " x**4 + x**3 + 3*x**2 + 2*x + 1,\n",
       " x**5 + x**4 + 4*x**3 + 3*x**2 + 3*x + 1,\n",
       " x**6 + x**5 + 5*x**4 + 4*x**3 + 6*x**2 + 3*x + 1,\n",
       " x**7 + x**6 + 6*x**5 + 5*x**4 + 10*x**3 + 6*x**2 + 4*x + 1,\n",
       " x**8 + x**7 + 7*x**6 + 6*x**5 + 15*x**4 + 10*x**3 + 10*x**2 + 4*x + 1,\n",
       " x**9 + x**8 + 8*x**7 + 7*x**6 + 21*x**5 + 15*x**4 + 20*x**3 + 10*x**2 + 5*x + 1,\n",
       " x**10 + x**9 + 9*x**8 + 8*x**7 + 28*x**6 + 21*x**5 + 35*x**4 + 20*x**3 + 15*x**2 + 5*x + 1,\n",
       " x**11 + x**10 + 10*x**9 + 9*x**8 + 36*x**7 + 28*x**6 + 56*x**5 + 35*x**4 + 35*x**3 + 15*x**2 + 6*x + 1,\n",
       " x**12 + x**11 + 11*x**10 + 10*x**9 + 45*x**8 + 36*x**7 + 84*x**6 + 56*x**5 + 70*x**4 + 35*x**3 + 21*x**2 + 6*x + 1,\n",
       " x**13 + x**12 + 12*x**11 + 11*x**10 + 55*x**9 + 45*x**8 + 120*x**7 + 84*x**6 + 126*x**5 + 70*x**4 + 56*x**3 + 21*x**2 + 7*x + 1,\n",
       " x**14 + x**13 + 13*x**12 + 12*x**11 + 66*x**10 + 55*x**9 + 165*x**8 + 120*x**7 + 210*x**6 + 126*x**5 + 126*x**4 + 56*x**3 + 28*x**2 + 7*x + 1]"
      ]
     },
     "execution_count": 208,
     "metadata": {},
     "output_type": "execute_result"
    }
   ],
   "source": [
    "list3 = []\n",
    "for i in range(1,14):\n",
    "    list3.append(fibonacci(i+1, Symbol('x'))+fibonacci(i+2, Symbol('x')))\n",
    "list3   "
   ]
  },
  {
   "cell_type": "code",
   "execution_count": 210,
   "id": "87460e77-a4ea-445d-876b-8c3351156f2a",
   "metadata": {},
   "outputs": [
    {
     "data": {
      "text/latex": [
       "$\\displaystyle x + 1$"
      ],
      "text/plain": [
       "x + 1"
      ]
     },
     "execution_count": 210,
     "metadata": {},
     "output_type": "execute_result"
    }
   ],
   "source": [
    "list2[0]"
   ]
  },
  {
   "cell_type": "code",
   "execution_count": 213,
   "id": "5c3950c5-7c52-442b-9282-a64a032a7ee2",
   "metadata": {},
   "outputs": [
    {
     "data": {
      "text/latex": [
       "$\\displaystyle x^{2} + x + 1$"
      ],
      "text/plain": [
       "x**2 + x + 1"
      ]
     },
     "execution_count": 213,
     "metadata": {},
     "output_type": "execute_result"
    }
   ],
   "source": [
    "list3[0]"
   ]
  },
  {
   "cell_type": "code",
   "execution_count": 218,
   "id": "4c6402ff-7ebf-4862-86ce-4d2c1596563d",
   "metadata": {},
   "outputs": [
    {
     "data": {
      "text/plain": [
       "[x**2 + 2*x + 2,\n",
       " x**3 + 2*x**2 + 3*x + 2,\n",
       " x**4 + 2*x**3 + 4*x**2 + 4*x + 2,\n",
       " x**5 + 2*x**4 + 5*x**3 + 6*x**2 + 5*x + 2,\n",
       " x**6 + 2*x**5 + 6*x**4 + 8*x**3 + 9*x**2 + 6*x + 2,\n",
       " x**7 + 2*x**6 + 7*x**5 + 10*x**4 + 14*x**3 + 12*x**2 + 7*x + 2,\n",
       " x**8 + 2*x**7 + 8*x**6 + 12*x**5 + 20*x**4 + 20*x**3 + 16*x**2 + 8*x + 2,\n",
       " x**9 + 2*x**8 + 9*x**7 + 14*x**6 + 27*x**5 + 30*x**4 + 30*x**3 + 20*x**2 + 9*x + 2,\n",
       " x**10 + 2*x**9 + 10*x**8 + 16*x**7 + 35*x**6 + 42*x**5 + 50*x**4 + 40*x**3 + 25*x**2 + 10*x + 2,\n",
       " x**11 + 2*x**10 + 11*x**9 + 18*x**8 + 44*x**7 + 56*x**6 + 77*x**5 + 70*x**4 + 55*x**3 + 30*x**2 + 11*x + 2]"
      ]
     },
     "execution_count": 218,
     "metadata": {},
     "output_type": "execute_result"
    }
   ],
   "source": [
    "list4 = []\n",
    "for i in range(0,10):\n",
    "\n",
    "    list4.append(list2[i]+list3[i])\n",
    "list4"
   ]
  },
  {
   "cell_type": "code",
   "execution_count": 219,
   "id": "a5bba39f-9842-42bf-b0fe-a9771684f360",
   "metadata": {},
   "outputs": [
    {
     "data": {
      "text/latex": [
       "$\\displaystyle x^{2} + 2 x + 2$"
      ],
      "text/plain": [
       "x**2 + 2*x + 2"
      ]
     },
     "execution_count": 219,
     "metadata": {},
     "output_type": "execute_result"
    }
   ],
   "source": [
    "list4[0]"
   ]
  },
  {
   "cell_type": "code",
   "execution_count": 220,
   "id": "06b02842-4dbf-4eab-a070-f092546e4360",
   "metadata": {},
   "outputs": [
    {
     "data": {
      "text/latex": [
       "$\\displaystyle x^{3} + 2 x^{2} + 3 x + 2$"
      ],
      "text/plain": [
       "x**3 + 2*x**2 + 3*x + 2"
      ]
     },
     "execution_count": 220,
     "metadata": {},
     "output_type": "execute_result"
    }
   ],
   "source": [
    "list4[1]"
   ]
  },
  {
   "cell_type": "code",
   "execution_count": 222,
   "id": "cae7ca19-a81b-4703-8d34-0142176909d2",
   "metadata": {},
   "outputs": [
    {
     "data": {
      "text/latex": [
       "$\\displaystyle x^{4} + 2 x^{3} + 4 x^{2} + 4 x + 2$"
      ],
      "text/plain": [
       "x**4 + 2*x**3 + 4*x**2 + 4*x + 2"
      ]
     },
     "execution_count": 222,
     "metadata": {},
     "output_type": "execute_result"
    }
   ],
   "source": [
    "list4[2]"
   ]
  },
  {
   "cell_type": "code",
   "execution_count": null,
   "id": "b56b914d-3841-4839-a60d-1a22a6484fb6",
   "metadata": {},
   "outputs": [],
   "source": []
  }
 ],
 "metadata": {
  "kernelspec": {
   "display_name": "Python 3 (ipykernel)",
   "language": "python",
   "name": "python3"
  },
  "language_info": {
   "codemirror_mode": {
    "name": "ipython",
    "version": 3
   },
   "file_extension": ".py",
   "mimetype": "text/x-python",
   "name": "python",
   "nbconvert_exporter": "python",
   "pygments_lexer": "ipython3",
   "version": "3.8.10"
  }
 },
 "nbformat": 4,
 "nbformat_minor": 5
}
