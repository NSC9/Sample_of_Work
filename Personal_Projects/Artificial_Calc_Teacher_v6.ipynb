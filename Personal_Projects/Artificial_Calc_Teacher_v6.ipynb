{
 "cells": [
  {
   "cell_type": "markdown",
   "id": "0625835f",
   "metadata": {},
   "source": [
    "Credits to https://people.math.harvard.edu/~knill/teaching/math1a_2011/handouts/46-ai.pdf\n",
    "\n",
    "Notebook by github.com/nsc9\n"
   ]
  },
  {
   "cell_type": "code",
   "execution_count": 16,
   "id": "9aef0f0e",
   "metadata": {},
   "outputs": [],
   "source": [
    "# Thanks to @smichr for .replace suggestion https://stackoverflow.com/a/73000728/17291132 \n",
    "from sympy import sqrt,sin,cos,log,exp,tan,Function,Derivative,Eq,Pow,S,sympify,Integral,plot,cbrt,Limit\n",
    "from sympy.abc import x\n",
    "import random\n",
    "f = Function('f')\n",
    "g = Function('g')\n",
    "h = Function('h')"
   ]
  },
  {
   "cell_type": "code",
   "execution_count": 28,
   "id": "108761f9",
   "metadata": {},
   "outputs": [
    {
     "data": {
      "text/latex": [
       "$\\displaystyle \\frac{d}{d x} \\frac{\\sqrt[3]{x}}{\\cos{\\left(e^{x} \\right)}}$"
      ],
      "text/plain": [
       "Derivative(x**(1/3)/cos(exp(x)), x)"
      ]
     },
     "metadata": {},
     "output_type": "display_data"
    },
    {
     "data": {
      "text/latex": [
       "$\\displaystyle \\int \\left(x - \\log{\\left(x \\right)} - 3\\right)\\, dx$"
      ],
      "text/plain": [
       "Integral(x - log(x) - 3, x)"
      ]
     },
     "metadata": {},
     "output_type": "display_data"
    },
    {
     "name": "stdout",
     "output_type": "stream",
     "text": [
      "----------------------------------------------------------------------\n",
      "----------------------------------------------------------------------\n",
      "----------------------------------------------------------------------\n",
      "----------------------------------------------------------------------\n",
      "----------------------------------------------------------------------\n",
      "----------------------------------------------------------------------\n",
      "----------------------------------------------------------------------\n",
      "----------------------------------------------------------------------\n",
      "----------------------------------------------------------------------\n"
     ]
    },
    {
     "data": {
      "text/latex": [
       "$\\displaystyle \\frac{d}{d x} \\frac{\\sqrt[3]{x}}{\\cos{\\left(e^{x} \\right)}} = \\frac{\\sqrt[3]{x} e^{x} \\sin{\\left(e^{x} \\right)}}{\\cos^{2}{\\left(e^{x} \\right)}} + \\frac{1}{3 x^{\\frac{2}{3}} \\cos{\\left(e^{x} \\right)}}$"
      ],
      "text/plain": [
       "Eq(Derivative(x**(1/3)/cos(exp(x)), x), x**(1/3)*exp(x)*sin(exp(x))/cos(exp(x))**2 + 1/(3*x**(2/3)*cos(exp(x))))"
      ]
     },
     "metadata": {},
     "output_type": "display_data"
    },
    {
     "data": {
      "text/latex": [
       "$\\displaystyle \\int \\left(x - \\log{\\left(x \\right)} - 3\\right)\\, dx = \\frac{x^{2}}{2} - x \\log{\\left(x \\right)} - 2 x$"
      ],
      "text/plain": [
       "Eq(Integral(x - log(x) - 3, x), x**2/2 - x*log(x) - 2*x)"
      ]
     },
     "metadata": {},
     "output_type": "display_data"
    }
   ],
   "source": [
    "def random_math(x):\n",
    "    def power_function(x):\n",
    "        return x**(random.randrange(-4,6,1))\n",
    "    def scalar_function(x):\n",
    "        allowed_values = list(range(-4, 3))\n",
    "        allowed_values.remove(0)\n",
    "        random_value = random.choice(allowed_values)  \n",
    "        return x*(random_value)\n",
    "    def addSUBTR_function(x):\n",
    "        return x+(random.randrange(-5,5,1))\n",
    "    def rational_function(x):\n",
    "        return power_function(x) +scalar_function(x) + addSUBTR_function(x)\n",
    "    funs = [sqrt,cbrt,sin,cos,log,exp,tan,power_function,\n",
    "            scalar_function,addSUBTR_function,rational_function]      \n",
    "    operations = [f(g(x)),f(x)+g(x),f(x)/g(x),f(x)*g(x),f(x)-g(x),\n",
    "                  f(g(h(x))),f(h(x))+g(x),f(h(x))/g(x),f(x)/g(h(x)),f(h(x))*g(x),f(x)*g(h(x)),f(h(x))-g(x)]\n",
    "    operation = operations[random.randrange(0,len(operations))]\n",
    "    return [[[operation.replace(f, i) for i in funs][random.randrange(0,len(funs))].replace(g, i) for i in funs]\\\n",
    "[random.randrange(0,len(funs))].replace(h, i) for i in funs][random.randrange(0,len(funs))]\n",
    "\n",
    "practice1 = Derivative(random_math(x))\n",
    "practice2 = Integral(random_math(x),x)\n",
    "if practice1.evalf() != 0 and practice2.evalf()!= 0:\n",
    "    display(practice1)\n",
    "    display(practice2)\n",
    "    for i in range(0,9):\n",
    "        print(\"----------------------------------------------------------------------\")    \n",
    "    display(Eq(practice1,practice1.doit(),evaluate=False))\n",
    "    display(Eq(practice2,practice2.doit(),evaluate=False))"
   ]
  }
 ],
 "metadata": {
  "kernelspec": {
   "display_name": "Python 3 (ipykernel)",
   "language": "python",
   "name": "python3"
  },
  "language_info": {
   "codemirror_mode": {
    "name": "ipython",
    "version": 3
   },
   "file_extension": ".py",
   "mimetype": "text/x-python",
   "name": "python",
   "nbconvert_exporter": "python",
   "pygments_lexer": "ipython3",
   "version": "3.8.10"
  }
 },
 "nbformat": 4,
 "nbformat_minor": 5
}
