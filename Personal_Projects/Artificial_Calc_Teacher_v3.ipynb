{
 "cells": [
  {
   "cell_type": "markdown",
   "id": "0625835f",
   "metadata": {},
   "source": [
    "Credits to https://people.math.harvard.edu/~knill/teaching/math1a_2011/handouts/46-ai.pdf\n",
    "\n",
    "Notebook by github.com/nsc9\n"
   ]
  },
  {
   "cell_type": "code",
   "execution_count": 6,
   "id": "9aef0f0e",
   "metadata": {},
   "outputs": [],
   "source": [
    "# Thanks to @smichr for .replace suggestion https://stackoverflow.com/a/73000728/17291132 \n",
    "from sympy import sqrt,sin,cos,log,exp,tan,Function,Derivative,Eq, Pow , S, sympify, Integral\n",
    "from sympy.abc import x\n",
    "import random\n",
    "f = Function('f')\n",
    "g = Function('g')"
   ]
  },
  {
   "cell_type": "code",
   "execution_count": 7,
   "id": "108761f9",
   "metadata": {},
   "outputs": [
    {
     "data": {
      "text/latex": [
       "$\\displaystyle \\frac{x + 1}{\\sin{\\left(x \\right)}}$"
      ],
      "text/plain": [
       "(x + 1)/sin(x)"
      ]
     },
     "metadata": {},
     "output_type": "display_data"
    },
    {
     "data": {
      "text/latex": [
       "$\\displaystyle x^{2} + \\sin{\\left(x \\right)}$"
      ],
      "text/plain": [
       "x**2 + sin(x)"
      ]
     },
     "metadata": {},
     "output_type": "display_data"
    },
    {
     "data": {
      "text/latex": [
       "$\\displaystyle e^{\\cos{\\left(x \\right)}}$"
      ],
      "text/plain": [
       "exp(cos(x))"
      ]
     },
     "metadata": {},
     "output_type": "display_data"
    },
    {
     "data": {
      "text/latex": [
       "$\\displaystyle - 3 \\sqrt{x}$"
      ],
      "text/plain": [
       "-3*sqrt(x)"
      ]
     },
     "metadata": {},
     "output_type": "display_data"
    },
    {
     "data": {
      "text/latex": [
       "$\\displaystyle \\frac{\\sin{\\left(x \\right)}}{\\log{\\left(x \\right)}}$"
      ],
      "text/plain": [
       "sin(x)/log(x)"
      ]
     },
     "metadata": {},
     "output_type": "display_data"
    },
    {
     "data": {
      "text/latex": [
       "$\\displaystyle 1$"
      ],
      "text/plain": [
       "1"
      ]
     },
     "metadata": {},
     "output_type": "display_data"
    },
    {
     "data": {
      "text/latex": [
       "$\\displaystyle \\cos{\\left(\\sin{\\left(x \\right)} \\right)}$"
      ],
      "text/plain": [
       "cos(sin(x))"
      ]
     },
     "metadata": {},
     "output_type": "display_data"
    },
    {
     "data": {
      "text/latex": [
       "$\\displaystyle \\cos{\\left(x \\right)} + \\frac{1}{x^{3}}$"
      ],
      "text/plain": [
       "cos(x) + x**(-3)"
      ]
     },
     "metadata": {},
     "output_type": "display_data"
    },
    {
     "data": {
      "text/latex": [
       "$\\displaystyle \\tan{\\left(x \\right)} + \\frac{1}{x^{3}}$"
      ],
      "text/plain": [
       "tan(x) + x**(-3)"
      ]
     },
     "metadata": {},
     "output_type": "display_data"
    },
    {
     "data": {
      "text/latex": [
       "$\\displaystyle \\sin{\\left(x \\right)} - \\tan{\\left(x \\right)}$"
      ],
      "text/plain": [
       "sin(x) - tan(x)"
      ]
     },
     "metadata": {},
     "output_type": "display_data"
    },
    {
     "data": {
      "text/latex": [
       "$\\displaystyle - \\sin{\\left(x \\right)} + \\tan{\\left(x \\right)}$"
      ],
      "text/plain": [
       "-sin(x) + tan(x)"
      ]
     },
     "metadata": {},
     "output_type": "display_data"
    },
    {
     "data": {
      "text/latex": [
       "$\\displaystyle e^{\\tan{\\left(x \\right)}}$"
      ],
      "text/plain": [
       "exp(tan(x))"
      ]
     },
     "metadata": {},
     "output_type": "display_data"
    },
    {
     "data": {
      "text/latex": [
       "$\\displaystyle x^{5} + \\log{\\left(x \\right)}$"
      ],
      "text/plain": [
       "x**5 + log(x)"
      ]
     },
     "metadata": {},
     "output_type": "display_data"
    },
    {
     "data": {
      "text/latex": [
       "$\\displaystyle \\frac{1}{x^{10}}$"
      ],
      "text/plain": [
       "x**(-10)"
      ]
     },
     "metadata": {},
     "output_type": "display_data"
    }
   ],
   "source": [
    "def random_math(x): \n",
    "    def inv_power_function(x):\n",
    "        return x**(random.randrange(-1,-4,-1))\n",
    "    def scalar_function(x):\n",
    "        allowed_values = list(range(-4, 3))\n",
    "        allowed_values.remove(0)\n",
    "        random_value = random.choice(allowed_values)  \n",
    "        return x*(random_value)\n",
    "    def addSUBTR_function(x):\n",
    "        return x+(random.randrange(-5,5,1))\n",
    "    funs = [lambda _:Pow(_,S.Half),sin,cos,log,exp,tan,lambda _:Pow(_,random.randrange(2,6)),inv_power_function,\n",
    "            scalar_function,addSUBTR_function]      \n",
    "    \n",
    "    operations = [f(g(x)),f(x)+g(x),f(x)/g(x),f(x)-g(x)]\n",
    "    operation = operations[random.randrange(0,len(operations))]\n",
    "    return [[operation.replace(f, i) for i in funs][random.randrange(0,len(funs))].replace(g, i) for i in funs]\\\n",
    "[random.randrange(0,len(funs))]\n",
    "\n",
    "\n",
    "for i in range(1,15):\n",
    "    display(random_math(x))"
   ]
  },
  {
   "cell_type": "code",
   "execution_count": 15,
   "id": "953fc230",
   "metadata": {},
   "outputs": [
    {
     "name": "stdout",
     "output_type": "stream",
     "text": [
      "Differentiate:\n"
     ]
    },
    {
     "data": {
      "text/latex": [
       "$\\displaystyle \\sin{\\left(x \\right)} - \\tan{\\left(x \\right)}$"
      ],
      "text/plain": [
       "sin(x) - tan(x)"
      ]
     },
     "metadata": {},
     "output_type": "display_data"
    },
    {
     "data": {
      "text/latex": [
       "$\\displaystyle - \\cos{\\left(x \\right)} + \\frac{1}{x}$"
      ],
      "text/plain": [
       "-cos(x) + 1/x"
      ]
     },
     "metadata": {},
     "output_type": "display_data"
    },
    {
     "data": {
      "text/latex": [
       "$\\displaystyle x$"
      ],
      "text/plain": [
       "x"
      ]
     },
     "metadata": {},
     "output_type": "display_data"
    },
    {
     "name": "stdout",
     "output_type": "stream",
     "text": [
      "-------\n",
      "-------\n",
      "-------\n",
      "-------\n",
      "-------\n",
      "-------\n",
      "-------\n",
      "-------\n",
      "-------\n",
      "-------\n",
      "-------\n",
      "-------\n",
      "-------\n",
      "-------\n",
      "-------\n",
      "Solutions:\n"
     ]
    },
    {
     "data": {
      "text/latex": [
       "$\\displaystyle \\frac{d}{d x} \\left(\\sin{\\left(x \\right)} - \\tan{\\left(x \\right)}\\right) = \\cos{\\left(x \\right)} - \\tan^{2}{\\left(x \\right)} - 1$"
      ],
      "text/plain": [
       "Eq(Derivative(sin(x) - tan(x), x), cos(x) - tan(x)**2 - 1)"
      ]
     },
     "metadata": {},
     "output_type": "display_data"
    },
    {
     "data": {
      "text/latex": [
       "$\\displaystyle \\frac{d}{d x} \\left(- \\cos{\\left(x \\right)} + \\frac{1}{x}\\right) = \\sin{\\left(x \\right)} - \\frac{1}{x^{2}}$"
      ],
      "text/plain": [
       "Eq(Derivative(-cos(x) + 1/x, x), sin(x) - 1/x**2)"
      ]
     },
     "metadata": {},
     "output_type": "display_data"
    },
    {
     "data": {
      "text/latex": [
       "$\\displaystyle \\frac{d}{d x} x = 1$"
      ],
      "text/plain": [
       "Eq(Derivative(x, x), 1)"
      ]
     },
     "metadata": {},
     "output_type": "display_data"
    }
   ],
   "source": [
    "practice1 = random_math(x)\n",
    "practice2 = random_math(x)\n",
    "practice3 = random_math(x)\n",
    "print(\"Differentiate:\")\n",
    "display(practice1)\n",
    "display(practice2)\n",
    "display(practice3)\n",
    "for i in range(0,15):\n",
    "    print(\"-------\")\n",
    "print(\"Solutions:\")\n",
    "display(Eq(Derivative(practice1,x),Derivative(practice1,x).doit(),evaluate=False))\n",
    "display(Eq(Derivative(practice2,x),Derivative(practice2,x).doit(),evaluate=False))\n",
    "display(Eq(Derivative(practice3,x),Derivative(practice3,x).doit(),evaluate=False))"
   ]
  },
  {
   "cell_type": "code",
   "execution_count": 18,
   "id": "92e5b66f",
   "metadata": {},
   "outputs": [
    {
     "name": "stdout",
     "output_type": "stream",
     "text": [
      "Integrate:\n"
     ]
    },
    {
     "data": {
      "text/latex": [
       "$\\displaystyle \\log{\\left(x \\right)}^{5}$"
      ],
      "text/plain": [
       "log(x)**5"
      ]
     },
     "metadata": {},
     "output_type": "display_data"
    },
    {
     "data": {
      "text/latex": [
       "$\\displaystyle - 2 x$"
      ],
      "text/plain": [
       "-2*x"
      ]
     },
     "metadata": {},
     "output_type": "display_data"
    },
    {
     "data": {
      "text/latex": [
       "$\\displaystyle x + \\cos{\\left(x \\right)}$"
      ],
      "text/plain": [
       "x + cos(x)"
      ]
     },
     "metadata": {},
     "output_type": "display_data"
    },
    {
     "name": "stdout",
     "output_type": "stream",
     "text": [
      "-------\n",
      "-------\n",
      "-------\n",
      "-------\n",
      "-------\n",
      "-------\n",
      "-------\n",
      "-------\n",
      "-------\n",
      "-------\n",
      "-------\n",
      "-------\n",
      "-------\n",
      "-------\n",
      "-------\n",
      "Solutions:\n"
     ]
    },
    {
     "data": {
      "text/latex": [
       "$\\displaystyle \\int \\log{\\left(x \\right)}^{5}\\, dx = x \\log{\\left(x \\right)}^{5} - 5 x \\log{\\left(x \\right)}^{4} + 20 x \\log{\\left(x \\right)}^{3} - 60 x \\log{\\left(x \\right)}^{2} + 120 x \\log{\\left(x \\right)} - 120 x$"
      ],
      "text/plain": [
       "Eq(Integral(log(x)**5, x), x*log(x)**5 - 5*x*log(x)**4 + 20*x*log(x)**3 - 60*x*log(x)**2 + 120*x*log(x) - 120*x)"
      ]
     },
     "metadata": {},
     "output_type": "display_data"
    },
    {
     "data": {
      "text/latex": [
       "$\\displaystyle \\int \\left(- 2 x\\right)\\, dx = - x^{2}$"
      ],
      "text/plain": [
       "Eq(Integral(-2*x, x), -x**2)"
      ]
     },
     "metadata": {},
     "output_type": "display_data"
    },
    {
     "data": {
      "text/latex": [
       "$\\displaystyle \\int \\left(x + \\cos{\\left(x \\right)}\\right)\\, dx = \\frac{x^{2}}{2} + \\sin{\\left(x \\right)}$"
      ],
      "text/plain": [
       "Eq(Integral(x + cos(x), x), x**2/2 + sin(x))"
      ]
     },
     "metadata": {},
     "output_type": "display_data"
    }
   ],
   "source": [
    "practice4 = random_math(x)\n",
    "practice5 = random_math(x)\n",
    "practice6 = random_math(x)\n",
    "print(\"Integrate:\")\n",
    "display(practice4)\n",
    "display(practice5)\n",
    "display(practice6)\n",
    "for i in range(0,15):\n",
    "    print(\"-------\")\n",
    "print(\"Solutions:\")\n",
    "display(Eq(Integral(practice4,x),Integral(practice4,x).doit(),evaluate=False))\n",
    "display(Eq(Integral(practice5,x),Integral(practice5,x).doit(),evaluate=False))\n",
    "display(Eq(Integral(practice6,x),Integral(practice6,x).doit(),evaluate=False))"
   ]
  },
  {
   "cell_type": "code",
   "execution_count": null,
   "id": "de98f829",
   "metadata": {},
   "outputs": [],
   "source": []
  }
 ],
 "metadata": {
  "kernelspec": {
   "display_name": "Python 3 (ipykernel)",
   "language": "python",
   "name": "python3"
  },
  "language_info": {
   "codemirror_mode": {
    "name": "ipython",
    "version": 3
   },
   "file_extension": ".py",
   "mimetype": "text/x-python",
   "name": "python",
   "nbconvert_exporter": "python",
   "pygments_lexer": "ipython3",
   "version": "3.8.10"
  }
 },
 "nbformat": 4,
 "nbformat_minor": 5
}
