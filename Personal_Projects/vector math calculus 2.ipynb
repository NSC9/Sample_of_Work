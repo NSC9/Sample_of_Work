{
 "cells": [
  {
   "cell_type": "code",
   "execution_count": 1,
   "id": "85bd0599",
   "metadata": {},
   "outputs": [
    {
     "data": {
      "text/html": [
       "<img src=\"https://i.imgur.com/NLtIf3P.png\"/>"
      ],
      "text/plain": [
       "<IPython.core.display.Image object>"
      ]
     },
     "execution_count": 1,
     "metadata": {},
     "output_type": "execute_result"
    }
   ],
   "source": [
    "from IPython.display import Image\n",
    "from IPython.core.display import HTML \n",
    "Image(url= \"https://i.imgur.com/NLtIf3P.png\")"
   ]
  },
  {
   "cell_type": "code",
   "execution_count": 2,
   "id": "2bf275e0",
   "metadata": {},
   "outputs": [],
   "source": [
    "# Start with a coordinate system\n",
    "from sympy.vector import CoordSys3D, Del\n",
    "delop = Del()\n",
    "C = CoordSys3D('C')"
   ]
  },
  {
   "cell_type": "code",
   "execution_count": 4,
   "id": "79dd2201",
   "metadata": {},
   "outputs": [
    {
     "data": {
      "text/latex": [
       "$\\displaystyle CoordSys3D\\left(C, \\left( \\left[\\begin{matrix}1 & 0 & 0\\\\0 & 1 & 0\\\\0 & 0 & 1\\end{matrix}\\right], \\  \\mathbf{\\hat{0}}\\right)\\right)$"
      ],
      "text/plain": [
       "C"
      ]
     },
     "execution_count": 4,
     "metadata": {},
     "output_type": "execute_result"
    }
   ],
   "source": [
    "C"
   ]
  },
  {
   "cell_type": "code",
   "execution_count": 6,
   "id": "48fe70e1",
   "metadata": {},
   "outputs": [
    {
     "data": {
      "text/latex": [
       "$\\displaystyle Del\\left(\\right)$"
      ],
      "text/plain": [
       "delop"
      ]
     },
     "execution_count": 6,
     "metadata": {},
     "output_type": "execute_result"
    }
   ],
   "source": [
    "delop"
   ]
  },
  {
   "cell_type": "code",
   "execution_count": 13,
   "id": "060ece71",
   "metadata": {},
   "outputs": [],
   "source": [
    "from sympy import symbols, Function\n",
    "v1, v2, v3, f = symbols('v1 v2 v3 f', cls=Function)"
   ]
  },
  {
   "cell_type": "code",
   "execution_count": 14,
   "id": "341de58c",
   "metadata": {},
   "outputs": [],
   "source": [
    "# Define the vector field as vfield and the scalar field as sfield.\n",
    "vfield = v1(C.x, C.y, C.z)*C.i + v2(C.x, C.y, C.z)*C.j + v3(C.x, C.y, C.z)*C.k\n",
    "ffield = f(C.x, C.y, C.z)"
   ]
  },
  {
   "cell_type": "code",
   "execution_count": 15,
   "id": "ba36d857",
   "metadata": {},
   "outputs": [
    {
     "data": {
      "text/latex": [
       "$\\displaystyle (\\operatorname{v_{1}}{\\left(\\mathbf{{x}_{C}},\\mathbf{{y}_{C}},\\mathbf{{z}_{C}} \\right)})\\mathbf{\\hat{i}_{C}} + (\\operatorname{v_{2}}{\\left(\\mathbf{{x}_{C}},\\mathbf{{y}_{C}},\\mathbf{{z}_{C}} \\right)})\\mathbf{\\hat{j}_{C}} + (\\operatorname{v_{3}}{\\left(\\mathbf{{x}_{C}},\\mathbf{{y}_{C}},\\mathbf{{z}_{C}} \\right)})\\mathbf{\\hat{k}_{C}}$"
      ],
      "text/plain": [
       "(v1(C.x, C.y, C.z))*C.i + (v2(C.x, C.y, C.z))*C.j + (v3(C.x, C.y, C.z))*C.k"
      ]
     },
     "execution_count": 15,
     "metadata": {},
     "output_type": "execute_result"
    }
   ],
   "source": [
    "vfield"
   ]
  },
  {
   "cell_type": "code",
   "execution_count": 16,
   "id": "8ece9cfb",
   "metadata": {},
   "outputs": [
    {
     "data": {
      "text/latex": [
       "$\\displaystyle f{\\left(\\mathbf{{x}_{C}},\\mathbf{{y}_{C}},\\mathbf{{z}_{C}} \\right)}$"
      ],
      "text/plain": [
       "f(C.x, C.y, C.z)"
      ]
     },
     "execution_count": 16,
     "metadata": {},
     "output_type": "execute_result"
    }
   ],
   "source": [
    "ffield"
   ]
  },
  {
   "cell_type": "code",
   "execution_count": 20,
   "id": "72fa2791",
   "metadata": {},
   "outputs": [],
   "source": [
    "# Construct the expression for the LHS of the equation using Del()\n",
    "lhs = (delop.dot(ffield * vfield)).doit()"
   ]
  },
  {
   "cell_type": "code",
   "execution_count": 21,
   "id": "773d0b98",
   "metadata": {},
   "outputs": [
    {
     "data": {
      "text/latex": [
       "$\\displaystyle f{\\left(\\mathbf{{x}_{C}},\\mathbf{{y}_{C}},\\mathbf{{z}_{C}} \\right)} \\frac{\\partial}{\\partial \\mathbf{{x}_{C}}} \\operatorname{v_{1}}{\\left(\\mathbf{{x}_{C}},\\mathbf{{y}_{C}},\\mathbf{{z}_{C}} \\right)} + f{\\left(\\mathbf{{x}_{C}},\\mathbf{{y}_{C}},\\mathbf{{z}_{C}} \\right)} \\frac{\\partial}{\\partial \\mathbf{{y}_{C}}} \\operatorname{v_{2}}{\\left(\\mathbf{{x}_{C}},\\mathbf{{y}_{C}},\\mathbf{{z}_{C}} \\right)} + f{\\left(\\mathbf{{x}_{C}},\\mathbf{{y}_{C}},\\mathbf{{z}_{C}} \\right)} \\frac{\\partial}{\\partial \\mathbf{{z}_{C}}} \\operatorname{v_{3}}{\\left(\\mathbf{{x}_{C}},\\mathbf{{y}_{C}},\\mathbf{{z}_{C}} \\right)} + \\operatorname{v_{1}}{\\left(\\mathbf{{x}_{C}},\\mathbf{{y}_{C}},\\mathbf{{z}_{C}} \\right)} \\frac{\\partial}{\\partial \\mathbf{{x}_{C}}} f{\\left(\\mathbf{{x}_{C}},\\mathbf{{y}_{C}},\\mathbf{{z}_{C}} \\right)} + \\operatorname{v_{2}}{\\left(\\mathbf{{x}_{C}},\\mathbf{{y}_{C}},\\mathbf{{z}_{C}} \\right)} \\frac{\\partial}{\\partial \\mathbf{{y}_{C}}} f{\\left(\\mathbf{{x}_{C}},\\mathbf{{y}_{C}},\\mathbf{{z}_{C}} \\right)} + \\operatorname{v_{3}}{\\left(\\mathbf{{x}_{C}},\\mathbf{{y}_{C}},\\mathbf{{z}_{C}} \\right)} \\frac{\\partial}{\\partial \\mathbf{{z}_{C}}} f{\\left(\\mathbf{{x}_{C}},\\mathbf{{y}_{C}},\\mathbf{{z}_{C}} \\right)}$"
      ],
      "text/plain": [
       "f(C.x, C.y, C.z)*Derivative(v1(C.x, C.y, C.z), C.x) + f(C.x, C.y, C.z)*Derivative(v2(C.x, C.y, C.z), C.y) + f(C.x, C.y, C.z)*Derivative(v3(C.x, C.y, C.z), C.z) + v1(C.x, C.y, C.z)*Derivative(f(C.x, C.y, C.z), C.x) + v2(C.x, C.y, C.z)*Derivative(f(C.x, C.y, C.z), C.y) + v3(C.x, C.y, C.z)*Derivative(f(C.x, C.y, C.z), C.z)"
      ]
     },
     "execution_count": 21,
     "metadata": {},
     "output_type": "execute_result"
    }
   ],
   "source": [
    "lhs"
   ]
  },
  {
   "cell_type": "code",
   "execution_count": 19,
   "id": "b0bc02c5",
   "metadata": {},
   "outputs": [],
   "source": [
    "# Similarly, the RHS would be defined.\n",
    "rhs = ((vfield.dot(delop(ffield))) + (ffield * (delop.dot(vfield)))).doit()"
   ]
  },
  {
   "cell_type": "code",
   "execution_count": 23,
   "id": "4f9c08a7",
   "metadata": {},
   "outputs": [
    {
     "data": {
      "text/latex": [
       "$\\displaystyle \\left(\\frac{\\partial}{\\partial \\mathbf{{x}_{C}}} \\operatorname{v_{1}}{\\left(\\mathbf{{x}_{C}},\\mathbf{{y}_{C}},\\mathbf{{z}_{C}} \\right)} + \\frac{\\partial}{\\partial \\mathbf{{y}_{C}}} \\operatorname{v_{2}}{\\left(\\mathbf{{x}_{C}},\\mathbf{{y}_{C}},\\mathbf{{z}_{C}} \\right)} + \\frac{\\partial}{\\partial \\mathbf{{z}_{C}}} \\operatorname{v_{3}}{\\left(\\mathbf{{x}_{C}},\\mathbf{{y}_{C}},\\mathbf{{z}_{C}} \\right)}\\right) f{\\left(\\mathbf{{x}_{C}},\\mathbf{{y}_{C}},\\mathbf{{z}_{C}} \\right)} + \\operatorname{v_{1}}{\\left(\\mathbf{{x}_{C}},\\mathbf{{y}_{C}},\\mathbf{{z}_{C}} \\right)} \\frac{\\partial}{\\partial \\mathbf{{x}_{C}}} f{\\left(\\mathbf{{x}_{C}},\\mathbf{{y}_{C}},\\mathbf{{z}_{C}} \\right)} + \\operatorname{v_{2}}{\\left(\\mathbf{{x}_{C}},\\mathbf{{y}_{C}},\\mathbf{{z}_{C}} \\right)} \\frac{\\partial}{\\partial \\mathbf{{y}_{C}}} f{\\left(\\mathbf{{x}_{C}},\\mathbf{{y}_{C}},\\mathbf{{z}_{C}} \\right)} + \\operatorname{v_{3}}{\\left(\\mathbf{{x}_{C}},\\mathbf{{y}_{C}},\\mathbf{{z}_{C}} \\right)} \\frac{\\partial}{\\partial \\mathbf{{z}_{C}}} f{\\left(\\mathbf{{x}_{C}},\\mathbf{{y}_{C}},\\mathbf{{z}_{C}} \\right)}$"
      ],
      "text/plain": [
       "(Derivative(v1(C.x, C.y, C.z), C.x) + Derivative(v2(C.x, C.y, C.z), C.y) + Derivative(v3(C.x, C.y, C.z), C.z))*f(C.x, C.y, C.z) + v1(C.x, C.y, C.z)*Derivative(f(C.x, C.y, C.z), C.x) + v2(C.x, C.y, C.z)*Derivative(f(C.x, C.y, C.z), C.y) + v3(C.x, C.y, C.z)*Derivative(f(C.x, C.y, C.z), C.z)"
      ]
     },
     "execution_count": 23,
     "metadata": {},
     "output_type": "execute_result"
    }
   ],
   "source": [
    "rhs"
   ]
  },
  {
   "cell_type": "code",
   "execution_count": 25,
   "id": "34fb91aa",
   "metadata": {},
   "outputs": [
    {
     "data": {
      "text/plain": [
       "True"
      ]
     },
     "execution_count": 25,
     "metadata": {},
     "output_type": "execute_result"
    }
   ],
   "source": [
    "# Now, to prove the product rule, we would just need to equate the expanded and simplified versions of the lhs and the rhs,\n",
    "# so that the SymPy expressions match.\n",
    "lhs.expand().simplify() == rhs.expand().doit().simplify()"
   ]
  },
  {
   "cell_type": "code",
   "execution_count": 26,
   "id": "b918a083",
   "metadata": {},
   "outputs": [
    {
     "data": {
      "text/latex": [
       "$\\displaystyle f{\\left(\\mathbf{{x}_{C}},\\mathbf{{y}_{C}},\\mathbf{{z}_{C}} \\right)} \\frac{\\partial}{\\partial \\mathbf{{x}_{C}}} \\operatorname{v_{1}}{\\left(\\mathbf{{x}_{C}},\\mathbf{{y}_{C}},\\mathbf{{z}_{C}} \\right)} + f{\\left(\\mathbf{{x}_{C}},\\mathbf{{y}_{C}},\\mathbf{{z}_{C}} \\right)} \\frac{\\partial}{\\partial \\mathbf{{y}_{C}}} \\operatorname{v_{2}}{\\left(\\mathbf{{x}_{C}},\\mathbf{{y}_{C}},\\mathbf{{z}_{C}} \\right)} + f{\\left(\\mathbf{{x}_{C}},\\mathbf{{y}_{C}},\\mathbf{{z}_{C}} \\right)} \\frac{\\partial}{\\partial \\mathbf{{z}_{C}}} \\operatorname{v_{3}}{\\left(\\mathbf{{x}_{C}},\\mathbf{{y}_{C}},\\mathbf{{z}_{C}} \\right)} + \\operatorname{v_{1}}{\\left(\\mathbf{{x}_{C}},\\mathbf{{y}_{C}},\\mathbf{{z}_{C}} \\right)} \\frac{\\partial}{\\partial \\mathbf{{x}_{C}}} f{\\left(\\mathbf{{x}_{C}},\\mathbf{{y}_{C}},\\mathbf{{z}_{C}} \\right)} + \\operatorname{v_{2}}{\\left(\\mathbf{{x}_{C}},\\mathbf{{y}_{C}},\\mathbf{{z}_{C}} \\right)} \\frac{\\partial}{\\partial \\mathbf{{y}_{C}}} f{\\left(\\mathbf{{x}_{C}},\\mathbf{{y}_{C}},\\mathbf{{z}_{C}} \\right)} + \\operatorname{v_{3}}{\\left(\\mathbf{{x}_{C}},\\mathbf{{y}_{C}},\\mathbf{{z}_{C}} \\right)} \\frac{\\partial}{\\partial \\mathbf{{z}_{C}}} f{\\left(\\mathbf{{x}_{C}},\\mathbf{{y}_{C}},\\mathbf{{z}_{C}} \\right)}$"
      ],
      "text/plain": [
       "f(C.x, C.y, C.z)*Derivative(v1(C.x, C.y, C.z), C.x) + f(C.x, C.y, C.z)*Derivative(v2(C.x, C.y, C.z), C.y) + f(C.x, C.y, C.z)*Derivative(v3(C.x, C.y, C.z), C.z) + v1(C.x, C.y, C.z)*Derivative(f(C.x, C.y, C.z), C.x) + v2(C.x, C.y, C.z)*Derivative(f(C.x, C.y, C.z), C.y) + v3(C.x, C.y, C.z)*Derivative(f(C.x, C.y, C.z), C.z)"
      ]
     },
     "execution_count": 26,
     "metadata": {},
     "output_type": "execute_result"
    }
   ],
   "source": [
    "lhs.expand().simplify()"
   ]
  },
  {
   "cell_type": "code",
   "execution_count": 27,
   "id": "8f561e42",
   "metadata": {},
   "outputs": [
    {
     "data": {
      "text/latex": [
       "$\\displaystyle f{\\left(\\mathbf{{x}_{C}},\\mathbf{{y}_{C}},\\mathbf{{z}_{C}} \\right)} \\frac{\\partial}{\\partial \\mathbf{{x}_{C}}} \\operatorname{v_{1}}{\\left(\\mathbf{{x}_{C}},\\mathbf{{y}_{C}},\\mathbf{{z}_{C}} \\right)} + f{\\left(\\mathbf{{x}_{C}},\\mathbf{{y}_{C}},\\mathbf{{z}_{C}} \\right)} \\frac{\\partial}{\\partial \\mathbf{{y}_{C}}} \\operatorname{v_{2}}{\\left(\\mathbf{{x}_{C}},\\mathbf{{y}_{C}},\\mathbf{{z}_{C}} \\right)} + f{\\left(\\mathbf{{x}_{C}},\\mathbf{{y}_{C}},\\mathbf{{z}_{C}} \\right)} \\frac{\\partial}{\\partial \\mathbf{{z}_{C}}} \\operatorname{v_{3}}{\\left(\\mathbf{{x}_{C}},\\mathbf{{y}_{C}},\\mathbf{{z}_{C}} \\right)} + \\operatorname{v_{1}}{\\left(\\mathbf{{x}_{C}},\\mathbf{{y}_{C}},\\mathbf{{z}_{C}} \\right)} \\frac{\\partial}{\\partial \\mathbf{{x}_{C}}} f{\\left(\\mathbf{{x}_{C}},\\mathbf{{y}_{C}},\\mathbf{{z}_{C}} \\right)} + \\operatorname{v_{2}}{\\left(\\mathbf{{x}_{C}},\\mathbf{{y}_{C}},\\mathbf{{z}_{C}} \\right)} \\frac{\\partial}{\\partial \\mathbf{{y}_{C}}} f{\\left(\\mathbf{{x}_{C}},\\mathbf{{y}_{C}},\\mathbf{{z}_{C}} \\right)} + \\operatorname{v_{3}}{\\left(\\mathbf{{x}_{C}},\\mathbf{{y}_{C}},\\mathbf{{z}_{C}} \\right)} \\frac{\\partial}{\\partial \\mathbf{{z}_{C}}} f{\\left(\\mathbf{{x}_{C}},\\mathbf{{y}_{C}},\\mathbf{{z}_{C}} \\right)}$"
      ],
      "text/plain": [
       "f(C.x, C.y, C.z)*Derivative(v1(C.x, C.y, C.z), C.x) + f(C.x, C.y, C.z)*Derivative(v2(C.x, C.y, C.z), C.y) + f(C.x, C.y, C.z)*Derivative(v3(C.x, C.y, C.z), C.z) + v1(C.x, C.y, C.z)*Derivative(f(C.x, C.y, C.z), C.x) + v2(C.x, C.y, C.z)*Derivative(f(C.x, C.y, C.z), C.y) + v3(C.x, C.y, C.z)*Derivative(f(C.x, C.y, C.z), C.z)"
      ]
     },
     "execution_count": 27,
     "metadata": {},
     "output_type": "execute_result"
    }
   ],
   "source": [
    "rhs.expand().doit().simplify()"
   ]
  },
  {
   "cell_type": "code",
   "execution_count": null,
   "id": "39e86b78",
   "metadata": {},
   "outputs": [],
   "source": [
    "# Thus, the general form of the third product rule mentioned above can be proven using sympy.vector.\n",
    "\n",
    "# source: https://docs.sympy.org/latest/modules/vector/examples.html"
   ]
  }
 ],
 "metadata": {
  "kernelspec": {
   "display_name": "Python 3 (ipykernel)",
   "language": "python",
   "name": "python3"
  },
  "language_info": {
   "codemirror_mode": {
    "name": "ipython",
    "version": 3
   },
   "file_extension": ".py",
   "mimetype": "text/x-python",
   "name": "python",
   "nbconvert_exporter": "python",
   "pygments_lexer": "ipython3",
   "version": "3.9.6"
  }
 },
 "nbformat": 4,
 "nbformat_minor": 5
}
