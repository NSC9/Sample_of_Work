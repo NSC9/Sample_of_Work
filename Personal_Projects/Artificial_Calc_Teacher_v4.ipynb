{
 "cells": [
  {
   "cell_type": "markdown",
   "id": "0625835f",
   "metadata": {},
   "source": [
    "Credits to https://people.math.harvard.edu/~knill/teaching/math1a_2011/handouts/46-ai.pdf\n",
    "\n",
    "Notebook by github.com/nsc9\n"
   ]
  },
  {
   "cell_type": "code",
   "execution_count": 1,
   "id": "9aef0f0e",
   "metadata": {},
   "outputs": [],
   "source": [
    "# Thanks to @smichr for .replace suggestion https://stackoverflow.com/a/73000728/17291132 \n",
    "from sympy import sqrt,sin,cos,log,exp,tan,Function,Derivative,Eq,Pow,S,sympify,Integral,plot,cbrt,Limit\n",
    "from sympy.abc import x\n",
    "import random\n",
    "f = Function('f')\n",
    "g = Function('g')"
   ]
  },
  {
   "cell_type": "code",
   "execution_count": 2,
   "id": "108761f9",
   "metadata": {},
   "outputs": [],
   "source": [
    "def random_math(x): \n",
    "    def inv_power_function(x):\n",
    "        return x**(random.randrange(-1,-4,-1))\n",
    "    def scalar_function(x):\n",
    "        allowed_values = list(range(-4, 3))\n",
    "        allowed_values.remove(0)\n",
    "        random_value = random.choice(allowed_values)  \n",
    "        return x*(random_value)\n",
    "    def addSUBTR_function(x):\n",
    "        return x+(random.randrange(-5,5,1))\n",
    "    def rational_function(x):\n",
    "        return scalar_function(x)+addSUBTR_function(x)\n",
    "    funs = [sqrt,cbrt,sin,cos,log,exp,tan,lambda _:Pow(_,random.randrange(2,6)),inv_power_function,\n",
    "            scalar_function,addSUBTR_function,rational_function]      \n",
    "    operations = [f(g(x)),f(x)+g(x),f(x)/g(x),f(x)-g(x)]\n",
    "    operation = operations[random.randrange(0,len(operations))]\n",
    "    return [[operation.replace(f, i) for i in funs][random.randrange(0,len(funs))].replace(g, i) for i in funs]\\\n",
    "[random.randrange(0,len(funs))]"
   ]
  },
  {
   "cell_type": "code",
   "execution_count": 4,
   "id": "953fc230",
   "metadata": {},
   "outputs": [
    {
     "data": {
      "text/latex": [
       "$\\displaystyle \\lim_{x \\to -3}\\left(- x - 4\\right)$"
      ],
      "text/plain": [
       "Limit(-x - 4, x, -3, dir='+-')"
      ]
     },
     "metadata": {},
     "output_type": "display_data"
    },
    {
     "data": {
      "text/latex": [
       "$\\displaystyle \\frac{d}{d x} \\left(\\cos{\\left(x \\right)} + \\frac{1}{x^{2}}\\right)$"
      ],
      "text/plain": [
       "Derivative(cos(x) + x**(-2), x)"
      ]
     },
     "metadata": {},
     "output_type": "display_data"
    },
    {
     "data": {
      "text/latex": [
       "$\\displaystyle \\int \\left(- 2 x + \\cos{\\left(x \\right)} - 4\\right)\\, dx$"
      ],
      "text/plain": [
       "Integral(-2*x + cos(x) - 4, x)"
      ]
     },
     "metadata": {},
     "output_type": "display_data"
    },
    {
     "name": "stdout",
     "output_type": "stream",
     "text": [
      "----------------------------------------------------------------------\n",
      "----------------------------------------------------------------------\n",
      "----------------------------------------------------------------------\n",
      "----------------------------------------------------------------------\n",
      "----------------------------------------------------------------------\n",
      "----------------------------------------------------------------------\n",
      "----------------------------------------------------------------------\n",
      "----------------------------------------------------------------------\n",
      "----------------------------------------------------------------------\n"
     ]
    },
    {
     "data": {
      "text/latex": [
       "$\\displaystyle \\lim_{x \\to -3}\\left(- x - 4\\right) = -1$"
      ],
      "text/plain": [
       "Eq(Limit(-x - 4, x, -3, dir='+-'), -1)"
      ]
     },
     "metadata": {},
     "output_type": "display_data"
    },
    {
     "data": {
      "text/latex": [
       "$\\displaystyle \\frac{d}{d x} \\left(\\cos{\\left(x \\right)} + \\frac{1}{x^{2}}\\right) = - \\sin{\\left(x \\right)} - \\frac{2}{x^{3}}$"
      ],
      "text/plain": [
       "Eq(Derivative(cos(x) + x**(-2), x), -sin(x) - 2/x**3)"
      ]
     },
     "metadata": {},
     "output_type": "display_data"
    },
    {
     "data": {
      "text/latex": [
       "$\\displaystyle \\int \\left(- 2 x + \\cos{\\left(x \\right)} - 4\\right)\\, dx = - x^{2} - 4 x + \\sin{\\left(x \\right)}$"
      ],
      "text/plain": [
       "Eq(Integral(-2*x + cos(x) - 4, x), -x**2 - 4*x + sin(x))"
      ]
     },
     "metadata": {},
     "output_type": "display_data"
    }
   ],
   "source": [
    "practice3 = Limit(random_math(x),x,random.randrange(-5,5,1),dir='+-')\n",
    "practice1 = Derivative(random_math(x))\n",
    "practice2 = Integral(random_math(x),x)\n",
    "if practice1.evalf() != 0 and practice2.evalf() and practice3.evalf() != 0:\n",
    "    display(practice3)\n",
    "    display(practice1)\n",
    "    display(practice2)\n",
    "    for i in range(0,9):\n",
    "        print(\"----------------------------------------------------------------------\")\n",
    "    display(Eq(practice3,practice3.doit(),evaluate=False))    \n",
    "    display(Eq(practice1,practice1.doit(),evaluate=False))\n",
    "    display(Eq(practice2,practice2.doit(),evaluate=False))\n",
    "    "
   ]
  }
 ],
 "metadata": {
  "kernelspec": {
   "display_name": "Python 3 (ipykernel)",
   "language": "python",
   "name": "python3"
  },
  "language_info": {
   "codemirror_mode": {
    "name": "ipython",
    "version": 3
   },
   "file_extension": ".py",
   "mimetype": "text/x-python",
   "name": "python",
   "nbconvert_exporter": "python",
   "pygments_lexer": "ipython3",
   "version": "3.8.10"
  }
 },
 "nbformat": 4,
 "nbformat_minor": 5
}
