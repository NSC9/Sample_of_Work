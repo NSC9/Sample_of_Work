{
 "cells": [
  {
   "cell_type": "markdown",
   "id": "0625835f",
   "metadata": {},
   "source": [
    "*Credits to https://people.math.harvard.edu/~knill/teaching/math1a_2011/handouts/46-ai.pdf for inspiration*\n",
    "\n",
    "*Thanks to @smichr for .replace suggestion https://stackoverflow.com/a/73000728/17291132*\n",
    "\n",
    "**Notebook by github.com/nsc9   - MIT License**\n",
    "\n",
    "**Changelog:**\n",
    "\n",
    "     Integrals are now filtered if answers are complicated or impossible. \n",
    "    \n",
    "**Requested Features:**\n",
    "\n",
    "     Program stops if it exceeds 2 second run-time.\n",
    "     \n",
    "**Known Bugs**\n",
    "\n",
    "    Complex Integrals lead to entire Jupyter Notebook crashes and/or exponential run-times\n",
    "        "
   ]
  },
  {
   "cell_type": "code",
   "execution_count": 1,
   "id": "3078a4f4",
   "metadata": {},
   "outputs": [],
   "source": [
    "fail = 0\n",
    "win = 0"
   ]
  },
  {
   "cell_type": "code",
   "execution_count": 2,
   "id": "108761f9",
   "metadata": {
    "scrolled": false
   },
   "outputs": [
    {
     "name": "stdout",
     "output_type": "stream",
     "text": [
      "Error: Impossible Integral\n"
     ]
    },
    {
     "data": {
      "text/latex": [
       "$\\displaystyle \\int 2 x^{\\frac{2}{3}}\\, dx = \\frac{6 x^{\\frac{5}{3}}}{5}$"
      ],
      "text/plain": [
       "Eq(Integral(2*x**(2/3), x), 6*x**(5/3)/5)"
      ]
     },
     "metadata": {},
     "output_type": "display_data"
    },
    {
     "data": {
      "text/latex": [
       "$\\displaystyle \\int \\left(\\sqrt{x} + e^{x}\\right)\\, dx = \\frac{2 x^{\\frac{3}{2}}}{3} + e^{x}$"
      ],
      "text/plain": [
       "Eq(Integral(sqrt(x) + exp(x), x), 2*x**(3/2)/3 + exp(x))"
      ]
     },
     "metadata": {},
     "output_type": "display_data"
    },
    {
     "data": {
      "text/latex": [
       "$\\displaystyle \\int \\left(- \\sin{\\left(x \\right)} + \\tan{\\left(x \\right)}\\right)\\, dx = - \\log{\\left(\\cos{\\left(x \\right)} \\right)} + \\cos{\\left(x \\right)}$"
      ],
      "text/plain": [
       "Eq(Integral(-sin(x) + tan(x), x), -log(cos(x)) + cos(x))"
      ]
     },
     "metadata": {},
     "output_type": "display_data"
    },
    {
     "data": {
      "text/latex": [
       "$\\displaystyle \\int \\left(- \\sqrt[3]{x} + \\log{\\left(x \\right)}\\right)\\, dx = - \\frac{3 x^{\\frac{4}{3}}}{4} + x \\log{\\left(x \\right)} - x$"
      ],
      "text/plain": [
       "Eq(Integral(-x**(1/3) + log(x), x), -3*x**(4/3)/4 + x*log(x) - x)"
      ]
     },
     "metadata": {},
     "output_type": "display_data"
    },
    {
     "data": {
      "text/latex": [
       "$\\displaystyle \\int \\left(\\cos{\\left(x \\right)} + \\tan{\\left(x \\right)}\\right)\\, dx = - \\log{\\left(\\cos{\\left(x \\right)} \\right)} + \\sin{\\left(x \\right)}$"
      ],
      "text/plain": [
       "Eq(Integral(cos(x) + tan(x), x), -log(cos(x)) + sin(x))"
      ]
     },
     "metadata": {},
     "output_type": "display_data"
    },
    {
     "data": {
      "text/latex": [
       "$\\displaystyle \\int \\frac{1 - x}{\\sqrt{x}}\\, dx = \\frac{2 \\sqrt{x} \\left(3 - x\\right)}{3}$"
      ],
      "text/plain": [
       "Eq(Integral((1 - x)/sqrt(x), x), 2*sqrt(x)*(3 - x)/3)"
      ]
     },
     "metadata": {},
     "output_type": "display_data"
    },
    {
     "name": "stdout",
     "output_type": "stream",
     "text": [
      "Error: Complex Integral\n"
     ]
    },
    {
     "data": {
      "text/latex": [
       "$\\displaystyle \\int \\left(\\sqrt{x} - \\sin{\\left(x \\right)}\\right)\\, dx = \\frac{2 x^{\\frac{3}{2}}}{3} + \\cos{\\left(x \\right)}$"
      ],
      "text/plain": [
       "Eq(Integral(sqrt(x) - sin(x), x), 2*x**(3/2)/3 + cos(x))"
      ]
     },
     "metadata": {},
     "output_type": "display_data"
    },
    {
     "data": {
      "text/latex": [
       "$\\displaystyle \\int e^{- x}\\, dx = - e^{- x}$"
      ],
      "text/plain": [
       "Eq(Integral(exp(-x), x), -exp(-x))"
      ]
     },
     "metadata": {},
     "output_type": "display_data"
    },
    {
     "data": {
      "text/latex": [
       "$\\displaystyle \\int \\left(- 2 x - e^{x}\\right)\\, dx = - x^{2} - e^{x}$"
      ],
      "text/plain": [
       "Eq(Integral(-2*x - exp(x), x), -x**2 - exp(x))"
      ]
     },
     "metadata": {},
     "output_type": "display_data"
    },
    {
     "data": {
      "text/latex": [
       "$\\displaystyle \\int \\sin{\\left(x \\right)}\\, dx = - \\cos{\\left(x \\right)}$"
      ],
      "text/plain": [
       "Eq(Integral(sin(x), x), -cos(x))"
      ]
     },
     "metadata": {},
     "output_type": "display_data"
    },
    {
     "name": "stdout",
     "output_type": "stream",
     "text": [
      "Error: Complex Integral\n"
     ]
    },
    {
     "data": {
      "text/latex": [
       "$\\displaystyle \\int \\left(e^{x} + \\sin{\\left(x \\right)}\\right)\\, dx = e^{x} - \\cos{\\left(x \\right)}$"
      ],
      "text/plain": [
       "Eq(Integral(exp(x) + sin(x), x), exp(x) - cos(x))"
      ]
     },
     "metadata": {},
     "output_type": "display_data"
    },
    {
     "data": {
      "text/latex": [
       "$\\displaystyle \\int \\left(- 5 x \\sin{\\left(x \\right)}\\right)\\, dx = 5 x \\cos{\\left(x \\right)} - 5 \\sin{\\left(x \\right)}$"
      ],
      "text/plain": [
       "Eq(Integral(-5*x*sin(x), x), 5*x*cos(x) - 5*sin(x))"
      ]
     },
     "metadata": {},
     "output_type": "display_data"
    },
    {
     "data": {
      "text/latex": [
       "$\\displaystyle \\int \\left(x + 3 - \\frac{1}{x^{\\frac{3}{2}}}\\right)\\, dx = \\frac{x^{2}}{2} + 3 x + \\frac{2}{\\sqrt{x}}$"
      ],
      "text/plain": [
       "Eq(Integral(x + 3 - 1/x**(3/2), x), x**2/2 + 3*x + 2/sqrt(x))"
      ]
     },
     "metadata": {},
     "output_type": "display_data"
    },
    {
     "data": {
      "text/latex": [
       "$\\displaystyle \\int \\left(x - \\tan{\\left(x \\right)} - 1\\right)\\, dx = \\frac{x^{2}}{2} - x + \\log{\\left(\\cos{\\left(x \\right)} \\right)}$"
      ],
      "text/plain": [
       "Eq(Integral(x - tan(x) - 1, x), x**2/2 - x + log(cos(x)))"
      ]
     },
     "metadata": {},
     "output_type": "display_data"
    },
    {
     "name": "stdout",
     "output_type": "stream",
     "text": [
      "Error: Complex Integral\n"
     ]
    },
    {
     "data": {
      "text/latex": [
       "$\\displaystyle \\int \\left(- 2 x e^{- x}\\right)\\, dx = 2 \\left(x + 1\\right) e^{- x}$"
      ],
      "text/plain": [
       "Eq(Integral(-2*x*exp(-x), x), 2*(x + 1)*exp(-x))"
      ]
     },
     "metadata": {},
     "output_type": "display_data"
    },
    {
     "name": "stdout",
     "output_type": "stream",
     "text": [
      "Error: Impossible Integral\n"
     ]
    },
    {
     "data": {
      "text/latex": [
       "$\\displaystyle \\int \\left(\\sqrt{x} - \\tan{\\left(x \\right)}\\right)\\, dx = \\frac{2 x^{\\frac{3}{2}}}{3} + \\log{\\left(\\cos{\\left(x \\right)} \\right)}$"
      ],
      "text/plain": [
       "Eq(Integral(sqrt(x) - tan(x), x), 2*x**(3/2)/3 + log(cos(x)))"
      ]
     },
     "metadata": {},
     "output_type": "display_data"
    },
    {
     "name": "stdout",
     "output_type": "stream",
     "text": [
      "Error: Impossible Integral\n"
     ]
    },
    {
     "data": {
      "text/latex": [
       "$\\displaystyle \\int 2 \\tan{\\left(x \\right)}\\, dx = - 2 \\log{\\left(\\cos{\\left(x \\right)} \\right)}$"
      ],
      "text/plain": [
       "Eq(Integral(2*tan(x), x), -2*log(cos(x)))"
      ]
     },
     "metadata": {},
     "output_type": "display_data"
    },
    {
     "data": {
      "text/latex": [
       "$\\displaystyle \\int \\left(x - \\log{\\left(x \\right)}\\right)\\, dx = \\frac{x \\left(x - 2 \\log{\\left(x \\right)} + 2\\right)}{2}$"
      ],
      "text/plain": [
       "Eq(Integral(x - log(x), x), x*(x - 2*log(x) + 2)/2)"
      ]
     },
     "metadata": {},
     "output_type": "display_data"
    },
    {
     "data": {
      "text/latex": [
       "$\\displaystyle \\int \\left(\\sqrt{x} + \\log{\\left(x \\right)}\\right)\\, dx = \\frac{2 x^{\\frac{3}{2}}}{3} + x \\log{\\left(x \\right)} - x$"
      ],
      "text/plain": [
       "Eq(Integral(sqrt(x) + log(x), x), 2*x**(3/2)/3 + x*log(x) - x)"
      ]
     },
     "metadata": {},
     "output_type": "display_data"
    },
    {
     "data": {
      "text/latex": [
       "$\\displaystyle \\int 1\\, dx = x$"
      ],
      "text/plain": [
       "Eq(Integral(1, x), x)"
      ]
     },
     "metadata": {},
     "output_type": "display_data"
    },
    {
     "name": "stdout",
     "output_type": "stream",
     "text": [
      "Error: Impossible Integral\n"
     ]
    },
    {
     "data": {
      "text/latex": [
       "$\\displaystyle \\int \\left(\\sqrt{x} - 4 x\\right)\\, dx = \\frac{2 x^{\\frac{3}{2}}}{3} - 2 x^{2}$"
      ],
      "text/plain": [
       "Eq(Integral(sqrt(x) - 4*x, x), 2*x**(3/2)/3 - 2*x**2)"
      ]
     },
     "metadata": {},
     "output_type": "display_data"
    },
    {
     "data": {
      "text/latex": [
       "$\\displaystyle \\int \\left(x + \\sin{\\left(x \\right)} - 3\\right)\\, dx = \\frac{x^{2}}{2} - 3 x - \\cos{\\left(x \\right)}$"
      ],
      "text/plain": [
       "Eq(Integral(x + sin(x) - 3, x), x**2/2 - 3*x - cos(x))"
      ]
     },
     "metadata": {},
     "output_type": "display_data"
    },
    {
     "data": {
      "text/latex": [
       "$\\displaystyle \\int \\left(- \\sqrt{x} + x + 3\\right)\\, dx = - \\frac{2 x^{\\frac{3}{2}}}{3} + \\frac{x^{2}}{2} + 3 x$"
      ],
      "text/plain": [
       "Eq(Integral(-sqrt(x) + x + 3, x), -2*x**(3/2)/3 + x**2/2 + 3*x)"
      ]
     },
     "metadata": {},
     "output_type": "display_data"
    },
    {
     "name": "stdout",
     "output_type": "stream",
     "text": [
      "Error: Impossible Integral\n"
     ]
    },
    {
     "data": {
      "text/latex": [
       "$\\displaystyle \\int \\left(\\sqrt[3]{x} + \\sin{\\left(x \\right)}\\right)\\, dx = \\frac{3 x^{\\frac{4}{3}}}{4} - \\cos{\\left(x \\right)}$"
      ],
      "text/plain": [
       "Eq(Integral(x**(1/3) + sin(x), x), 3*x**(4/3)/4 - cos(x))"
      ]
     },
     "metadata": {},
     "output_type": "display_data"
    },
    {
     "data": {
      "text/latex": [
       "$\\displaystyle \\int \\left(x + \\cos{\\left(x \\right)} - 5\\right)\\, dx = \\frac{x^{2}}{2} - 5 x + \\sin{\\left(x \\right)}$"
      ],
      "text/plain": [
       "Eq(Integral(x + cos(x) - 5, x), x**2/2 - 5*x + sin(x))"
      ]
     },
     "metadata": {},
     "output_type": "display_data"
    },
    {
     "data": {
      "text/latex": [
       "$\\displaystyle \\int \\frac{x + 2}{2 x}\\, dx = \\frac{x}{2} + \\log{\\left(x \\right)}$"
      ],
      "text/plain": [
       "Eq(Integral((x + 2)/(2*x), x), x/2 + log(x))"
      ]
     },
     "metadata": {},
     "output_type": "display_data"
    },
    {
     "data": {
      "text/latex": [
       "$\\displaystyle \\int \\left(\\sqrt{x} + \\cos{\\left(x \\right)}\\right)\\, dx = \\frac{2 x^{\\frac{3}{2}}}{3} + \\sin{\\left(x \\right)}$"
      ],
      "text/plain": [
       "Eq(Integral(sqrt(x) + cos(x), x), 2*x**(3/2)/3 + sin(x))"
      ]
     },
     "metadata": {},
     "output_type": "display_data"
    },
    {
     "name": "stdout",
     "output_type": "stream",
     "text": [
      "Error: Impossible Integral\n"
     ]
    },
    {
     "data": {
      "text/latex": [
       "$\\displaystyle \\int \\left(\\sqrt[3]{x} + e^{x}\\right)\\, dx = \\frac{3 x^{\\frac{4}{3}}}{4} + e^{x}$"
      ],
      "text/plain": [
       "Eq(Integral(x**(1/3) + exp(x), x), 3*x**(4/3)/4 + exp(x))"
      ]
     },
     "metadata": {},
     "output_type": "display_data"
    },
    {
     "data": {
      "text/latex": [
       "$\\displaystyle \\int \\cos^{2}{\\left(x \\right)}\\, dx = \\frac{x}{2} + \\frac{\\sin{\\left(2 x \\right)}}{4}$"
      ],
      "text/plain": [
       "Eq(Integral(cos(x)**2, x), x/2 + sin(2*x)/4)"
      ]
     },
     "metadata": {},
     "output_type": "display_data"
    },
    {
     "data": {
      "text/latex": [
       "$\\displaystyle \\int x^{\\frac{5}{6}}\\, dx = \\frac{6 x^{\\frac{11}{6}}}{11}$"
      ],
      "text/plain": [
       "Eq(Integral(x**(5/6), x), 6*x**(11/6)/11)"
      ]
     },
     "metadata": {},
     "output_type": "display_data"
    },
    {
     "data": {
      "text/latex": [
       "$\\displaystyle \\int \\left(x + \\cos{\\left(x \\right)} + 2\\right)\\, dx = \\frac{x^{2}}{2} + 2 x + \\sin{\\left(x \\right)}$"
      ],
      "text/plain": [
       "Eq(Integral(x + cos(x) + 2, x), x**2/2 + 2*x + sin(x))"
      ]
     },
     "metadata": {},
     "output_type": "display_data"
    },
    {
     "name": "stdout",
     "output_type": "stream",
     "text": [
      "Error: Impossible Integral\n"
     ]
    },
    {
     "data": {
      "text/latex": [
       "$\\displaystyle \\int \\left(\\cos{\\left(x \\right)} - \\frac{1}{x^{2}}\\right)\\, dx = \\sin{\\left(x \\right)} + \\frac{1}{x}$"
      ],
      "text/plain": [
       "Eq(Integral(cos(x) - 1/x**2, x), sin(x) + 1/x)"
      ]
     },
     "metadata": {},
     "output_type": "display_data"
    },
    {
     "name": "stdout",
     "output_type": "stream",
     "text": [
      "Error: Impossible Integral\n"
     ]
    },
    {
     "data": {
      "text/latex": [
       "$\\displaystyle \\int \\frac{1}{\\sqrt[3]{e^{x}}}\\, dx = - \\frac{3}{\\sqrt[3]{e^{x}}}$"
      ],
      "text/plain": [
       "Eq(Integral(exp(x)**(-1/3), x), -3/exp(x)**(1/3))"
      ]
     },
     "metadata": {},
     "output_type": "display_data"
    },
    {
     "data": {
      "text/latex": [
       "$\\displaystyle \\int \\left(\\sqrt{x} - \\sin{\\left(x \\right)}\\right)\\, dx = \\frac{2 x^{\\frac{3}{2}}}{3} + \\cos{\\left(x \\right)}$"
      ],
      "text/plain": [
       "Eq(Integral(sqrt(x) - sin(x), x), 2*x**(3/2)/3 + cos(x))"
      ]
     },
     "metadata": {},
     "output_type": "display_data"
    },
    {
     "data": {
      "text/latex": [
       "$\\displaystyle \\int \\frac{x^{\\frac{4}{3}} - 1}{x}\\, dx = \\frac{3 x^{\\frac{4}{3}}}{4} - \\log{\\left(x \\right)}$"
      ],
      "text/plain": [
       "Eq(Integral((x**(4/3) - 1)/x, x), 3*x**(4/3)/4 - log(x))"
      ]
     },
     "metadata": {},
     "output_type": "display_data"
    },
    {
     "data": {
      "text/latex": [
       "$\\displaystyle \\int \\sqrt{e^{x}}\\, dx = 2 \\sqrt{e^{x}}$"
      ],
      "text/plain": [
       "Eq(Integral(sqrt(exp(x)), x), 2*sqrt(exp(x)))"
      ]
     },
     "metadata": {},
     "output_type": "display_data"
    },
    {
     "data": {
      "text/latex": [
       "$\\displaystyle \\int \\left(x^{2} + e^{x}\\right)\\, dx = \\frac{x^{3}}{3} + e^{x}$"
      ],
      "text/plain": [
       "Eq(Integral(x**2 + exp(x), x), x**3/3 + exp(x))"
      ]
     },
     "metadata": {},
     "output_type": "display_data"
    },
    {
     "data": {
      "text/latex": [
       "$\\displaystyle \\int \\left(- \\frac{3 \\log{\\left(x \\right)}}{4}\\right)\\, dx = \\frac{3 x \\left(1 - \\log{\\left(x \\right)}\\right)}{4}$"
      ],
      "text/plain": [
       "Eq(Integral(-3*log(x)/4, x), 3*x*(1 - log(x))/4)"
      ]
     },
     "metadata": {},
     "output_type": "display_data"
    },
    {
     "data": {
      "text/latex": [
       "$\\displaystyle \\int \\left(- x + \\cos{\\left(x \\right)} - 1\\right)\\, dx = - \\frac{x^{2}}{2} - x + \\sin{\\left(x \\right)}$"
      ],
      "text/plain": [
       "Eq(Integral(-x + cos(x) - 1, x), -x**2/2 - x + sin(x))"
      ]
     },
     "metadata": {},
     "output_type": "display_data"
    },
    {
     "name": "stdout",
     "output_type": "stream",
     "text": [
      "Error: Impossible Integral\n"
     ]
    },
    {
     "data": {
      "text/latex": [
       "$\\displaystyle \\int \\left(\\tan{\\left(x \\right)} + \\frac{1}{x}\\right)\\, dx = \\log{\\left(x \\right)} - \\log{\\left(\\cos{\\left(x \\right)} \\right)}$"
      ],
      "text/plain": [
       "Eq(Integral(tan(x) + 1/x, x), log(x) - log(cos(x)))"
      ]
     },
     "metadata": {},
     "output_type": "display_data"
    },
    {
     "data": {
      "text/latex": [
       "$\\displaystyle \\int \\frac{1}{\\cos{\\left(x \\right)}}\\, dx = - \\frac{\\log{\\left(\\sin{\\left(x \\right)} - 1 \\right)}}{2} + \\frac{\\log{\\left(\\sin{\\left(x \\right)} + 1 \\right)}}{2}$"
      ],
      "text/plain": [
       "Eq(Integral(1/cos(x), x), -log(sin(x) - 1)/2 + log(sin(x) + 1)/2)"
      ]
     },
     "metadata": {},
     "output_type": "display_data"
    },
    {
     "data": {
      "text/latex": [
       "$\\displaystyle \\int \\left(x - 4 + \\frac{1}{x^{4}}\\right)\\, dx = \\frac{3 x^{4} \\left(x - 8\\right) - 2}{6 x^{3}}$"
      ],
      "text/plain": [
       "Eq(Integral(x - 4 + x**(-4), x), (3*x**4*(x - 8) - 2)/(6*x**3))"
      ]
     },
     "metadata": {},
     "output_type": "display_data"
    },
    {
     "name": "stdout",
     "output_type": "stream",
     "text": [
      "Error: Complex Integral\n"
     ]
    },
    {
     "data": {
      "text/latex": [
       "$\\displaystyle \\int \\left(- 3 x^{\\frac{4}{3}}\\right)\\, dx = - \\frac{9 x^{\\frac{7}{3}}}{7}$"
      ],
      "text/plain": [
       "Eq(Integral(-3*x**(4/3), x), -9*x**(7/3)/7)"
      ]
     },
     "metadata": {},
     "output_type": "display_data"
    },
    {
     "data": {
      "text/latex": [
       "$\\displaystyle \\int \\left(- \\sqrt{x} + x + 4\\right)\\, dx = - \\frac{2 x^{\\frac{3}{2}}}{3} + \\frac{x^{2}}{2} + 4 x$"
      ],
      "text/plain": [
       "Eq(Integral(-sqrt(x) + x + 4, x), -2*x**(3/2)/3 + x**2/2 + 4*x)"
      ]
     },
     "metadata": {},
     "output_type": "display_data"
    },
    {
     "data": {
      "text/latex": [
       "$\\displaystyle \\int \\left(\\sqrt{x} + x - 5\\right)\\, dx = \\frac{2 x^{\\frac{3}{2}}}{3} + \\frac{x^{2}}{2} - 5 x$"
      ],
      "text/plain": [
       "Eq(Integral(sqrt(x) + x - 5, x), 2*x**(3/2)/3 + x**2/2 - 5*x)"
      ]
     },
     "metadata": {},
     "output_type": "display_data"
    },
    {
     "data": {
      "text/latex": [
       "$\\displaystyle \\int \\left(\\sqrt[3]{x} + \\sqrt{x}\\right)\\, dx = \\frac{3 x^{\\frac{4}{3}}}{4} + \\frac{2 x^{\\frac{3}{2}}}{3}$"
      ],
      "text/plain": [
       "Eq(Integral(x**(1/3) + sqrt(x), x), 3*x**(4/3)/4 + 2*x**(3/2)/3)"
      ]
     },
     "metadata": {},
     "output_type": "display_data"
    },
    {
     "name": "stdout",
     "output_type": "stream",
     "text": [
      "Error: Complex Integral\n"
     ]
    },
    {
     "data": {
      "text/latex": [
       "$\\displaystyle \\int \\sin{\\left(x \\right)}\\, dx = - \\cos{\\left(x \\right)}$"
      ],
      "text/plain": [
       "Eq(Integral(sin(x), x), -cos(x))"
      ]
     },
     "metadata": {},
     "output_type": "display_data"
    },
    {
     "data": {
      "text/latex": [
       "$\\displaystyle \\int \\frac{1}{x^{\\frac{2}{5}}}\\, dx = \\frac{5 x^{\\frac{3}{5}}}{3}$"
      ],
      "text/plain": [
       "Eq(Integral(x**(-2/5), x), 5*x**(3/5)/3)"
      ]
     },
     "metadata": {},
     "output_type": "display_data"
    },
    {
     "name": "stdout",
     "output_type": "stream",
     "text": [
      "Error: Impossible Integral\n"
     ]
    },
    {
     "data": {
      "text/latex": [
       "$\\displaystyle \\int \\sin{\\left(\\sqrt{x} \\right)}\\, dx = - 2 \\sqrt{x} \\cos{\\left(\\sqrt{x} \\right)} + 2 \\sin{\\left(\\sqrt{x} \\right)}$"
      ],
      "text/plain": [
       "Eq(Integral(sin(sqrt(x)), x), -2*sqrt(x)*cos(sqrt(x)) + 2*sin(sqrt(x)))"
      ]
     },
     "metadata": {},
     "output_type": "display_data"
    },
    {
     "name": "stdout",
     "output_type": "stream",
     "text": [
      "Error: Complex Integral\n"
     ]
    },
    {
     "data": {
      "text/latex": [
       "$\\displaystyle \\int \\frac{1 - x^{\\frac{11}{6}}}{x^{\\frac{4}{3}}}\\, dx = \\frac{- 2 x^{\\frac{11}{6}} - 9}{3 \\sqrt[3]{x}}$"
      ],
      "text/plain": [
       "Eq(Integral((1 - x**(11/6))/x**(4/3), x), (-2*x**(11/6) - 9)/(3*x**(1/3)))"
      ]
     },
     "metadata": {},
     "output_type": "display_data"
    },
    {
     "data": {
      "text/latex": [
       "$\\displaystyle \\int \\left(- \\sqrt{x} + \\tan{\\left(x \\right)}\\right)\\, dx = - \\frac{2 x^{\\frac{3}{2}}}{3} - \\log{\\left(\\cos{\\left(x \\right)} \\right)}$"
      ],
      "text/plain": [
       "Eq(Integral(-sqrt(x) + tan(x), x), -2*x**(3/2)/3 - log(cos(x)))"
      ]
     },
     "metadata": {},
     "output_type": "display_data"
    },
    {
     "name": "stdout",
     "output_type": "stream",
     "text": [
      "Error: Impossible Integral\n"
     ]
    },
    {
     "data": {
      "text/latex": [
       "$\\displaystyle \\int \\left(x + 4\\right) \\log{\\left(x \\right)}\\, dx = \\frac{x \\left(- x + 2 \\left(x + 8\\right) \\log{\\left(x \\right)} - 16\\right)}{4}$"
      ],
      "text/plain": [
       "Eq(Integral((x + 4)*log(x), x), x*(-x + 2*(x + 8)*log(x) - 16)/4)"
      ]
     },
     "metadata": {},
     "output_type": "display_data"
    },
    {
     "data": {
      "text/latex": [
       "$\\displaystyle \\int 4 x \\left(4 - x\\right)\\, dx = \\frac{4 x^{2} \\cdot \\left(6 - x\\right)}{3}$"
      ],
      "text/plain": [
       "Eq(Integral(4*x*(4 - x), x), 4*x**2*(6 - x)/3)"
      ]
     },
     "metadata": {},
     "output_type": "display_data"
    },
    {
     "data": {
      "text/latex": [
       "$\\displaystyle \\int \\left(3 x + \\cos{\\left(x \\right)}\\right)\\, dx = \\frac{3 x^{2}}{2} + \\sin{\\left(x \\right)}$"
      ],
      "text/plain": [
       "Eq(Integral(3*x + cos(x), x), 3*x**2/2 + sin(x))"
      ]
     },
     "metadata": {},
     "output_type": "display_data"
    },
    {
     "name": "stdout",
     "output_type": "stream",
     "text": [
      "Error: Complex Integral\n",
      "Error: Complex Integral\n"
     ]
    },
    {
     "data": {
      "text/latex": [
       "$\\displaystyle \\int \\left(\\sqrt[3]{x} - \\sin{\\left(x \\right)}\\right)\\, dx = \\frac{3 x^{\\frac{4}{3}}}{4} + \\cos{\\left(x \\right)}$"
      ],
      "text/plain": [
       "Eq(Integral(x**(1/3) - sin(x), x), 3*x**(4/3)/4 + cos(x))"
      ]
     },
     "metadata": {},
     "output_type": "display_data"
    },
    {
     "data": {
      "text/latex": [
       "$\\displaystyle \\int \\left(- \\sqrt{x} + e^{x}\\right)\\, dx = - \\frac{2 x^{\\frac{3}{2}}}{3} + e^{x}$"
      ],
      "text/plain": [
       "Eq(Integral(-sqrt(x) + exp(x), x), -2*x**(3/2)/3 + exp(x))"
      ]
     },
     "metadata": {},
     "output_type": "display_data"
    },
    {
     "data": {
      "text/latex": [
       "$\\displaystyle \\int \\left(x + \\tan{\\left(x \\right)} + 3\\right)\\, dx = \\frac{x^{2}}{2} + 3 x - \\log{\\left(\\cos{\\left(x \\right)} \\right)}$"
      ],
      "text/plain": [
       "Eq(Integral(x + tan(x) + 3, x), x**2/2 + 3*x - log(cos(x)))"
      ]
     },
     "metadata": {},
     "output_type": "display_data"
    },
    {
     "name": "stdout",
     "output_type": "stream",
     "text": [
      "Error: Complex Integral\n",
      "Error: Impossible Integral\n"
     ]
    },
    {
     "data": {
      "text/latex": [
       "$\\displaystyle \\int \\left(\\sin{\\left(x \\right)} - \\tan{\\left(x \\right)}\\right)\\, dx = \\log{\\left(\\cos{\\left(x \\right)} \\right)} - \\cos{\\left(x \\right)}$"
      ],
      "text/plain": [
       "Eq(Integral(sin(x) - tan(x), x), log(cos(x)) - cos(x))"
      ]
     },
     "metadata": {},
     "output_type": "display_data"
    },
    {
     "data": {
      "text/latex": [
       "$\\displaystyle \\int \\left(x - 3\\right)^{2}\\, dx = \\frac{x \\left(x^{2} - 9 x + 27\\right)}{3}$"
      ],
      "text/plain": [
       "Eq(Integral((x - 3)**2, x), x*(x**2 - 9*x + 27)/3)"
      ]
     },
     "metadata": {},
     "output_type": "display_data"
    },
    {
     "data": {
      "text/latex": [
       "$\\displaystyle \\int \\left(e^{x} + \\sin{\\left(x \\right)}\\right)\\, dx = e^{x} - \\cos{\\left(x \\right)}$"
      ],
      "text/plain": [
       "Eq(Integral(exp(x) + sin(x), x), exp(x) - cos(x))"
      ]
     },
     "metadata": {},
     "output_type": "display_data"
    },
    {
     "data": {
      "text/latex": [
       "$\\displaystyle \\int \\left(x^{\\frac{3}{5}} + \\sqrt[3]{x}\\right)\\, dx = \\frac{5 x^{\\frac{8}{5}}}{8} + \\frac{3 x^{\\frac{4}{3}}}{4}$"
      ],
      "text/plain": [
       "Eq(Integral(x**(3/5) + x**(1/3), x), 5*x**(8/5)/8 + 3*x**(4/3)/4)"
      ]
     },
     "metadata": {},
     "output_type": "display_data"
    },
    {
     "data": {
      "text/latex": [
       "$\\displaystyle \\int \\left(\\sqrt{x} + 3\\right)\\, dx = \\frac{2 x^{\\frac{3}{2}}}{3} + 3 x$"
      ],
      "text/plain": [
       "Eq(Integral(sqrt(x) + 3, x), 2*x**(3/2)/3 + 3*x)"
      ]
     },
     "metadata": {},
     "output_type": "display_data"
    },
    {
     "data": {
      "text/latex": [
       "$\\displaystyle \\int x^{2}\\, dx = \\frac{x^{3}}{3}$"
      ],
      "text/plain": [
       "Eq(Integral(x**2, x), x**3/3)"
      ]
     },
     "metadata": {},
     "output_type": "display_data"
    },
    {
     "name": "stdout",
     "output_type": "stream",
     "text": [
      "Error: Impossible Integral\n"
     ]
    },
    {
     "data": {
      "text/latex": [
       "$\\displaystyle \\int \\left(e^{x} + \\cos{\\left(x \\right)}\\right)\\, dx = e^{x} + \\sin{\\left(x \\right)}$"
      ],
      "text/plain": [
       "Eq(Integral(exp(x) + cos(x), x), exp(x) + sin(x))"
      ]
     },
     "metadata": {},
     "output_type": "display_data"
    },
    {
     "data": {
      "text/latex": [
       "$\\displaystyle \\int e^{2 x}\\, dx = \\frac{e^{2 x}}{2}$"
      ],
      "text/plain": [
       "Eq(Integral(exp(2*x), x), exp(2*x)/2)"
      ]
     },
     "metadata": {},
     "output_type": "display_data"
    },
    {
     "name": "stdout",
     "output_type": "stream",
     "text": [
      "Error: Impossible Integral\n",
      "Error: Impossible Integral\n"
     ]
    },
    {
     "data": {
      "text/latex": [
       "$\\displaystyle \\int 3 x^{\\frac{2}{3}}\\, dx = \\frac{9 x^{\\frac{5}{3}}}{5}$"
      ],
      "text/plain": [
       "Eq(Integral(3*x**(2/3), x), 9*x**(5/3)/5)"
      ]
     },
     "metadata": {},
     "output_type": "display_data"
    },
    {
     "name": "stdout",
     "output_type": "stream",
     "text": [
      "Error: Impossible Integral\n"
     ]
    },
    {
     "data": {
      "text/latex": [
       "$\\displaystyle \\int \\sqrt[3]{x} \\left(x - 1\\right)\\, dx = \\frac{3 x^{\\frac{4}{3}} \\cdot \\left(4 x - 7\\right)}{28}$"
      ],
      "text/plain": [
       "Eq(Integral(x**(1/3)*(x - 1), x), 3*x**(4/3)*(4*x - 7)/28)"
      ]
     },
     "metadata": {},
     "output_type": "display_data"
    },
    {
     "data": {
      "text/latex": [
       "$\\displaystyle \\int \\frac{1}{x^{\\frac{8}{3}}}\\, dx = - \\frac{3}{5 x^{\\frac{5}{3}}}$"
      ],
      "text/plain": [
       "Eq(Integral(x**(-8/3), x), -3/(5*x**(5/3)))"
      ]
     },
     "metadata": {},
     "output_type": "display_data"
    },
    {
     "name": "stdout",
     "output_type": "stream",
     "text": [
      "Error: Complex Integral\n"
     ]
    },
    {
     "data": {
      "text/latex": [
       "$\\displaystyle \\int \\frac{x - 1}{\\sqrt[3]{x}}\\, dx = \\frac{3 x^{\\frac{2}{3}} \\cdot \\left(2 x - 5\\right)}{10}$"
      ],
      "text/plain": [
       "Eq(Integral((x - 1)/x**(1/3), x), 3*x**(2/3)*(2*x - 5)/10)"
      ]
     },
     "metadata": {},
     "output_type": "display_data"
    },
    {
     "name": "stdout",
     "output_type": "stream",
     "text": [
      "Error: Impossible Integral\n",
      "Error: Impossible Integral\n"
     ]
    },
    {
     "data": {
      "text/latex": [
       "$\\displaystyle \\int \\left(\\sqrt{x} + \\sin{\\left(x \\right)}\\right)\\, dx = \\frac{2 x^{\\frac{3}{2}}}{3} - \\cos{\\left(x \\right)}$"
      ],
      "text/plain": [
       "Eq(Integral(sqrt(x) + sin(x), x), 2*x**(3/2)/3 - cos(x))"
      ]
     },
     "metadata": {},
     "output_type": "display_data"
    },
    {
     "data": {
      "text/latex": [
       "$\\displaystyle \\int \\left(- e^{x} + \\log{\\left(x \\right)}\\right)\\, dx = x \\log{\\left(x \\right)} - x - e^{x}$"
      ],
      "text/plain": [
       "Eq(Integral(-exp(x) + log(x), x), x*log(x) - x - exp(x))"
      ]
     },
     "metadata": {},
     "output_type": "display_data"
    },
    {
     "data": {
      "text/latex": [
       "$\\displaystyle \\int \\sin{\\left(x \\right)}\\, dx = - \\cos{\\left(x \\right)}$"
      ],
      "text/plain": [
       "Eq(Integral(sin(x), x), -cos(x))"
      ]
     },
     "metadata": {},
     "output_type": "display_data"
    },
    {
     "name": "stdout",
     "output_type": "stream",
     "text": [
      "38.88888888888889 % failure rate for integrals\n"
     ]
    }
   ],
   "source": [
    "from sympy import sin,cos,log,exp,tan,Function,Derivative,Eq,Pow,S,sympify,Integral,plot,Limit,Rational\n",
    "from sympy import factor_terms,simplify, sqrt, cbrt\n",
    "from sympy.abc import x\n",
    "import random\n",
    "f = Function('f')\n",
    "g = Function('g')\n",
    "h = Function('h')\n",
    "def random_math(x):\n",
    "    allowed_values = list(range(-5, 5))\n",
    "    allowed_values.remove(0)\n",
    "    random_value = random.choice(allowed_values)\n",
    "    random_value2 = random.choice(allowed_values)\n",
    "    def power_function(x):      \n",
    "        return x**(Rational(random_value,random_value2))\n",
    "    def scalar_function(x):\n",
    "        return x*random_value\n",
    "    def addSUBTR_function(x): \n",
    "        return x+random_value\n",
    "    funs = [sqrt,cbrt,sin,cos,log,exp,tan,power_function,\n",
    "            scalar_function,addSUBTR_function]     \n",
    "    operations = [f(g(x)),f(x)+g(x),f(x)-g(x),f(x)/g(x),f(x)*g(x)]\n",
    "                 # f(g(h(x))),f(h(x))+g(x),f(h(x))-g(x),f(h(x))/g(x),f(x)/g(h(x)),f(h(x))*g(x)]\n",
    "    operation = operations[random.randrange(0,len(operations))]\n",
    "    return [[[operation.replace(f, i) for i in funs][random.randrange(0,len(funs))].replace(g, i) for i in funs]\\\n",
    "[random.randrange(0,len(funs))].replace(h, i) for i in funs][random.randrange(0,len(funs))]\n",
    "\n",
    "for i in range(1,101):\n",
    "    practice2 = Integral(simplify(random_math(x)),x)\n",
    "    p2eq = Eq(practice2,practice2.doit().simplify(),evaluate=False)\n",
    "    if str(factor_terms(p2eq.lhs)) != str(p2eq.rhs):     \n",
    "        if str(p2eq).find(\"Ei\") == -1 and str(p2eq).find(\"gamma\") == -1 and str(p2eq).find(\"Piecewise\") == -1\\\n",
    "        and str(p2eq).find(\"li\") == -1 and str(p2eq).find(\"erf\") == -1 and str(p2eq).find(\"atan\") == -1\\\n",
    "        and str(p2eq).find(\"Si\") == -1 and str(p2eq).find(\"Ci\") == -1 and str(p2eq).find(\"hyper\") == -1\\\n",
    "        and str(p2eq).find(\"fresnel\") == -1 and str(p2eq).find(\"Li\") == -1:\n",
    "            win = win+1\n",
    "            display(p2eq)  \n",
    "        else:\n",
    "            fail = fail+1\n",
    "            print(\"Error: Complex Integral\")\n",
    "    else:\n",
    "        fail = fail+1\n",
    "        print(\"Error: Impossible Integral\") \n",
    "\n",
    "print(fail/win*100,\"% failure rate for integrals\")"
   ]
  }
 ],
 "metadata": {
  "kernelspec": {
   "display_name": "Python 3 (ipykernel)",
   "language": "python",
   "name": "python3"
  },
  "language_info": {
   "codemirror_mode": {
    "name": "ipython",
    "version": 3
   },
   "file_extension": ".py",
   "mimetype": "text/x-python",
   "name": "python",
   "nbconvert_exporter": "python",
   "pygments_lexer": "ipython3",
   "version": "3.8.10"
  }
 },
 "nbformat": 4,
 "nbformat_minor": 5
}
