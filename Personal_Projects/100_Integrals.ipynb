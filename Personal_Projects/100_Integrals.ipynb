{
 "cells": [
  {
   "cell_type": "markdown",
   "id": "0625835f",
   "metadata": {},
   "source": [
    "Credits to https://people.math.harvard.edu/~knill/teaching/math1a_2011/handouts/46-ai.pdf\n",
    "\n",
    "Notebook by github.com/nsc9\n"
   ]
  },
  {
   "cell_type": "code",
   "execution_count": 2,
   "id": "9aef0f0e",
   "metadata": {},
   "outputs": [],
   "source": [
    "# Thanks to @smichr for .replace suggestion https://stackoverflow.com/a/73000728/17291132 \n",
    "from sympy import sqrt,sin,cos,log,exp,tan,Function,Derivative,Eq,Pow,S,sympify,Integral,plot,cbrt\n",
    "from sympy.abc import x,y\n",
    "import random\n",
    "f = Function('f')\n",
    "g = Function('g')"
   ]
  },
  {
   "cell_type": "code",
   "execution_count": 3,
   "id": "108761f9",
   "metadata": {},
   "outputs": [],
   "source": [
    "def random_math(x): \n",
    "    def power_function(x):\n",
    "        return x**(random.randrange(-4,6,1))\n",
    "    def scalar_function(x):\n",
    "        allowed_values = list(range(-4, 3))\n",
    "        allowed_values.remove(0)\n",
    "        random_value = random.choice(allowed_values)  \n",
    "        return x*(random_value)\n",
    "    def addSUBTR_function(x):\n",
    "        return x+(random.randrange(-5,5,1))\n",
    "    def rational_function(x):\n",
    "        return power_function(x) +scalar_function(x) + addSUBTR_function(x)\n",
    "    funs = [sqrt,cbrt,sin,cos,log,exp,tan,power_function,\n",
    "            scalar_function,addSUBTR_function,rational_function]      \n",
    "    operations = [f(g(x)),f(x)+g(x),f(x)/g(x),f(x)-g(x)]\n",
    "    operation = operations[random.randrange(0,len(operations))]\n",
    "    return [[operation.replace(f, i) for i in funs][random.randrange(0,len(funs))].replace(g, i) for i in funs]\\\n",
    "[random.randrange(0,len(funs))]"
   ]
  },
  {
   "cell_type": "code",
   "execution_count": null,
   "id": "953fc230",
   "metadata": {
    "scrolled": false
   },
   "outputs": [
    {
     "data": {
      "text/latex": [
       "$\\displaystyle \\int\\limits_{0}^{1} \\sqrt[3]{\\cos{\\left(x \\right)}}\\, dx = \\int\\limits_{0}^{1} \\sqrt[3]{\\cos{\\left(x \\right)}}\\, dx$"
      ],
      "text/plain": [
       "Eq(Integral(cos(x)**(1/3), (x, 0, 1)), Integral(cos(x)**(1/3), (x, 0, 1)))"
      ]
     },
     "metadata": {},
     "output_type": "display_data"
    },
    {
     "data": {
      "text/latex": [
       "$\\displaystyle \\int\\limits_{0}^{1} \\frac{\\sqrt{x}}{\\tan{\\left(x \\right)}}\\, dx = \\int\\limits_{0}^{1} \\frac{\\sqrt{x}}{\\tan{\\left(x \\right)}}\\, dx$"
      ],
      "text/plain": [
       "Eq(Integral(sqrt(x)/tan(x), (x, 0, 1)), Integral(sqrt(x)/tan(x), (x, 0, 1)))"
      ]
     },
     "metadata": {},
     "output_type": "display_data"
    },
    {
     "data": {
      "text/latex": [
       "$\\displaystyle \\int\\limits_{0}^{1} \\frac{\\tan{\\left(x \\right)}}{\\sin{\\left(x \\right)}}\\, dx = \\frac{\\log{\\left(\\sin{\\left(1 \\right)} + 1 \\right)}}{2} - \\frac{\\log{\\left(1 - \\sin{\\left(1 \\right)} \\right)}}{2}$"
      ],
      "text/plain": [
       "Eq(Integral(tan(x)/sin(x), (x, 0, 1)), log(sin(1) + 1)/2 - log(1 - sin(1))/2)"
      ]
     },
     "metadata": {},
     "output_type": "display_data"
    },
    {
     "data": {
      "text/latex": [
       "$\\displaystyle \\int\\limits_{0}^{1} \\log{\\left(x \\right)}\\, dx = -1$"
      ],
      "text/plain": [
       "Eq(Integral(log(x), (x, 0, 1)), -1)"
      ]
     },
     "metadata": {},
     "output_type": "display_data"
    },
    {
     "data": {
      "text/latex": [
       "$\\displaystyle \\int\\limits_{0}^{1} 2 \\sin{\\left(x \\right)}\\, dx = 2 - 2 \\cos{\\left(1 \\right)}$"
      ],
      "text/plain": [
       "Eq(Integral(2*sin(x), (x, 0, 1)), 2 - 2*cos(1))"
      ]
     },
     "metadata": {},
     "output_type": "display_data"
    },
    {
     "data": {
      "text/latex": [
       "$\\displaystyle \\int\\limits_{0}^{1} \\left(\\cos{\\left(x \\right)} - \\frac{1}{x}\\right)\\, dx = -\\infty$"
      ],
      "text/plain": [
       "Eq(Integral(cos(x) - 1/x, (x, 0, 1)), -oo)"
      ]
     },
     "metadata": {},
     "output_type": "display_data"
    },
    {
     "data": {
      "text/latex": [
       "$\\displaystyle \\int\\limits_{0}^{1} \\left(e^{x} - 4\\right)\\, dx = -5 + e$"
      ],
      "text/plain": [
       "Eq(Integral(exp(x) - 4, (x, 0, 1)), -5 + E)"
      ]
     },
     "metadata": {},
     "output_type": "display_data"
    },
    {
     "data": {
      "text/latex": [
       "$\\displaystyle \\int\\limits_{0}^{1} 1\\, dx = 1$"
      ],
      "text/plain": [
       "Eq(Integral(1, (x, 0, 1)), 1)"
      ]
     },
     "metadata": {},
     "output_type": "display_data"
    },
    {
     "data": {
      "text/latex": [
       "$\\displaystyle \\int\\limits_{0}^{1} \\left(- x^{3} + 3 x + \\tan{\\left(x \\right)} - 2\\right)\\, dx = - \\frac{3}{4} - \\log{\\left(\\cos{\\left(1 \\right)} \\right)}$"
      ],
      "text/plain": [
       "Eq(Integral(-x**3 + 3*x + tan(x) - 2, (x, 0, 1)), -3/4 - log(cos(1)))"
      ]
     },
     "metadata": {},
     "output_type": "display_data"
    },
    {
     "data": {
      "text/latex": [
       "$\\displaystyle \\int\\limits_{0}^{1} \\left(- e^{x} + \\log{\\left(x \\right)}\\right)\\, dx = - e$"
      ],
      "text/plain": [
       "Eq(Integral(-exp(x) + log(x), (x, 0, 1)), -E)"
      ]
     },
     "metadata": {},
     "output_type": "display_data"
    },
    {
     "data": {
      "text/latex": [
       "$\\displaystyle \\int\\limits_{0}^{1} \\left(\\sqrt{x} + e^{x}\\right)\\, dx = - \\frac{1}{3} + e$"
      ],
      "text/plain": [
       "Eq(Integral(sqrt(x) + exp(x), (x, 0, 1)), -1/3 + E)"
      ]
     },
     "metadata": {},
     "output_type": "display_data"
    },
    {
     "data": {
      "text/latex": [
       "$\\displaystyle \\int\\limits_{0}^{1} \\left(- \\sqrt[3]{x} + \\sin{\\left(x \\right)}\\right)\\, dx = \\frac{1}{4} - \\cos{\\left(1 \\right)}$"
      ],
      "text/plain": [
       "Eq(Integral(-x**(1/3) + sin(x), (x, 0, 1)), 1/4 - cos(1))"
      ]
     },
     "metadata": {},
     "output_type": "display_data"
    },
    {
     "data": {
      "text/latex": [
       "$\\displaystyle \\int\\limits_{0}^{1} \\left(\\sqrt[3]{x} + \\log{\\left(x \\right)}\\right)\\, dx = - \\frac{1}{4}$"
      ],
      "text/plain": [
       "Eq(Integral(x**(1/3) + log(x), (x, 0, 1)), -1/4)"
      ]
     },
     "metadata": {},
     "output_type": "display_data"
    },
    {
     "data": {
      "text/latex": [
       "$\\displaystyle \\int\\limits_{0}^{1} \\left(\\log{\\left(x \\right)} + \\cos{\\left(x \\right)}\\right)\\, dx = -1 + \\sin{\\left(1 \\right)}$"
      ],
      "text/plain": [
       "Eq(Integral(log(x) + cos(x), (x, 0, 1)), -1 + sin(1))"
      ]
     },
     "metadata": {},
     "output_type": "display_data"
    },
    {
     "data": {
      "text/latex": [
       "$\\displaystyle \\int\\limits_{0}^{1} \\left(e^{x} + \\log{\\left(x \\right)}\\right)\\, dx = -2 + e$"
      ],
      "text/plain": [
       "Eq(Integral(exp(x) + log(x), (x, 0, 1)), -2 + E)"
      ]
     },
     "metadata": {},
     "output_type": "display_data"
    },
    {
     "data": {
      "text/latex": [
       "$\\displaystyle \\int\\limits_{0}^{1} \\left(x^{4} + 2 - \\frac{2}{x}\\right)\\, dx = -\\infty$"
      ],
      "text/plain": [
       "Eq(Integral(x**4 + 2 - 2/x, (x, 0, 1)), -oo)"
      ]
     },
     "metadata": {},
     "output_type": "display_data"
    },
    {
     "data": {
      "text/latex": [
       "$\\displaystyle \\int\\limits_{0}^{1} \\left(\\sqrt[3]{x} + \\tan{\\left(x \\right)}\\right)\\, dx = \\frac{3}{4} - \\log{\\left(\\cos{\\left(1 \\right)} \\right)}$"
      ],
      "text/plain": [
       "Eq(Integral(x**(1/3) + tan(x), (x, 0, 1)), 3/4 - log(cos(1)))"
      ]
     },
     "metadata": {},
     "output_type": "display_data"
    },
    {
     "data": {
      "text/latex": [
       "$\\displaystyle \\int\\limits_{0}^{1} \\left(\\sqrt[3]{x} - \\sin{\\left(x \\right)}\\right)\\, dx = - \\frac{1}{4} + \\cos{\\left(1 \\right)}$"
      ],
      "text/plain": [
       "Eq(Integral(x**(1/3) - sin(x), (x, 0, 1)), -1/4 + cos(1))"
      ]
     },
     "metadata": {},
     "output_type": "display_data"
    },
    {
     "data": {
      "text/latex": [
       "$\\displaystyle \\int\\limits_{0}^{1} \\left(e^{x} - \\log{\\left(x \\right)}\\right)\\, dx = e$"
      ],
      "text/plain": [
       "Eq(Integral(exp(x) - log(x), (x, 0, 1)), E)"
      ]
     },
     "metadata": {},
     "output_type": "display_data"
    },
    {
     "data": {
      "text/latex": [
       "$\\displaystyle \\int\\limits_{0}^{1} \\left(\\sqrt{x} + \\tan{\\left(x \\right)}\\right)\\, dx = \\frac{2}{3} - \\log{\\left(\\cos{\\left(1 \\right)} \\right)}$"
      ],
      "text/plain": [
       "Eq(Integral(sqrt(x) + tan(x), (x, 0, 1)), 2/3 - log(cos(1)))"
      ]
     },
     "metadata": {},
     "output_type": "display_data"
    },
    {
     "data": {
      "text/latex": [
       "$\\displaystyle \\int\\limits_{0}^{1} \\left(- \\sqrt[3]{x} + e^{x}\\right)\\, dx = - \\frac{7}{4} + e$"
      ],
      "text/plain": [
       "Eq(Integral(-x**(1/3) + exp(x), (x, 0, 1)), -7/4 + E)"
      ]
     },
     "metadata": {},
     "output_type": "display_data"
    },
    {
     "data": {
      "text/latex": [
       "$\\displaystyle \\int\\limits_{0}^{1} \\left(- \\sqrt{x} + \\tan{\\left(x \\right)}\\right)\\, dx = - \\frac{2}{3} - \\log{\\left(\\cos{\\left(1 \\right)} \\right)}$"
      ],
      "text/plain": [
       "Eq(Integral(-sqrt(x) + tan(x), (x, 0, 1)), -2/3 - log(cos(1)))"
      ]
     },
     "metadata": {},
     "output_type": "display_data"
    },
    {
     "data": {
      "text/latex": [
       "$\\displaystyle \\int\\limits_{0}^{1} \\cos^{4}{\\left(x \\right)}\\, dx = \\frac{\\sin{\\left(1 \\right)} \\cos^{3}{\\left(1 \\right)}}{4} + \\frac{3 \\sin{\\left(1 \\right)} \\cos{\\left(1 \\right)}}{8} + \\frac{3}{8}$"
      ],
      "text/plain": [
       "Eq(Integral(cos(x)**4, (x, 0, 1)), sin(1)*cos(1)**3/4 + 3*sin(1)*cos(1)/8 + 3/8)"
      ]
     },
     "metadata": {},
     "output_type": "display_data"
    },
    {
     "data": {
      "text/latex": [
       "$\\displaystyle \\int\\limits_{0}^{1} \\left(x - 2\\right)^{3}\\, dx = - \\frac{15}{4}$"
      ],
      "text/plain": [
       "Eq(Integral((x - 2)**3, (x, 0, 1)), -15/4)"
      ]
     },
     "metadata": {},
     "output_type": "display_data"
    },
    {
     "data": {
      "text/latex": [
       "$\\displaystyle \\int\\limits_{0}^{1} \\left(\\sqrt{x} - x\\right)\\, dx = \\frac{1}{6}$"
      ],
      "text/plain": [
       "Eq(Integral(sqrt(x) - x, (x, 0, 1)), 1/6)"
      ]
     },
     "metadata": {},
     "output_type": "display_data"
    },
    {
     "data": {
      "text/latex": [
       "$\\displaystyle \\int\\limits_{0}^{1} \\left(2 x - \\tan{\\left(x \\right)}\\right)\\, dx = \\log{\\left(\\cos{\\left(1 \\right)} \\right)} + 1$"
      ],
      "text/plain": [
       "Eq(Integral(2*x - tan(x), (x, 0, 1)), log(cos(1)) + 1)"
      ]
     },
     "metadata": {},
     "output_type": "display_data"
    },
    {
     "data": {
      "text/latex": [
       "$\\displaystyle \\int\\limits_{0}^{1} \\left(-5\\right)\\, dx = -5$"
      ],
      "text/plain": [
       "Eq(Integral(-5, (x, 0, 1)), -5)"
      ]
     },
     "metadata": {},
     "output_type": "display_data"
    },
    {
     "data": {
      "text/latex": [
       "$\\displaystyle \\int\\limits_{0}^{1} \\log{\\left(\\tan{\\left(x \\right)} \\right)}\\, dx = \\int\\limits_{0}^{1} \\log{\\left(\\tan{\\left(x \\right)} \\right)}\\, dx$"
      ],
      "text/plain": [
       "Eq(Integral(log(tan(x)), (x, 0, 1)), Integral(log(tan(x)), (x, 0, 1)))"
      ]
     },
     "metadata": {},
     "output_type": "display_data"
    },
    {
     "data": {
      "text/latex": [
       "$\\displaystyle \\int\\limits_{0}^{1} \\left(- 2 x + \\cos{\\left(x \\right)}\\right)\\, dx = -1 + \\sin{\\left(1 \\right)}$"
      ],
      "text/plain": [
       "Eq(Integral(-2*x + cos(x), (x, 0, 1)), -1 + sin(1))"
      ]
     },
     "metadata": {},
     "output_type": "display_data"
    },
    {
     "data": {
      "text/latex": [
       "$\\displaystyle \\int\\limits_{0}^{1} \\left(x - \\cos{\\left(x \\right)} - 3\\right)\\, dx = - \\frac{5}{2} - \\sin{\\left(1 \\right)}$"
      ],
      "text/plain": [
       "Eq(Integral(x - cos(x) - 3, (x, 0, 1)), -5/2 - sin(1))"
      ]
     },
     "metadata": {},
     "output_type": "display_data"
    },
    {
     "data": {
      "text/latex": [
       "$\\displaystyle \\int\\limits_{0}^{1} \\left(1 - \\frac{1}{x^{4}}\\right)\\, dx = -\\infty$"
      ],
      "text/plain": [
       "Eq(Integral(1 - 1/x**4, (x, 0, 1)), -oo)"
      ]
     },
     "metadata": {},
     "output_type": "display_data"
    },
    {
     "data": {
      "text/latex": [
       "$\\displaystyle \\int\\limits_{0}^{1} \\frac{\\sqrt{x}}{- 3 x + 4 + \\frac{1}{x}}\\, dx = \\frac{84}{-126 + 36 \\sqrt{7}} + \\frac{8 \\sqrt{21} \\sqrt{-2 + \\sqrt{7}} \\operatorname{atan}{\\left(\\frac{\\sqrt{3}}{\\sqrt{-2 + \\sqrt{7}}} \\right)}}{-126 + 36 \\sqrt{7}} + \\frac{3 \\sqrt{3} \\sqrt{2 + \\sqrt{7}} \\log{\\left(\\frac{\\sqrt{3} \\sqrt{2 + \\sqrt{7}}}{3} \\right)}}{-126 + 36 \\sqrt{7}} - \\frac{3 \\sqrt{3} \\sqrt{2 + \\sqrt{7}} \\log{\\left(1 + \\frac{\\sqrt{3} \\sqrt{2 + \\sqrt{7}}}{3} \\right)}}{-126 + 36 \\sqrt{7}} - \\frac{22 \\sqrt{3} \\sqrt{-2 + \\sqrt{7}} \\operatorname{atan}{\\left(\\frac{\\sqrt{3}}{\\sqrt{-2 + \\sqrt{7}}} \\right)}}{-126 + 36 \\sqrt{7}} - \\frac{24 \\sqrt{7}}{-126 + 36 \\sqrt{7}} + \\frac{3 \\sqrt{3} \\sqrt{2 + \\sqrt{7}} \\left(\\log{\\left(-1 + \\frac{\\sqrt{3} \\sqrt{2 + \\sqrt{7}}}{3} \\right)} + i \\pi\\right)}{-126 + 36 \\sqrt{7}} - \\frac{3 \\sqrt{3} \\sqrt{2 + \\sqrt{7}} \\left(\\log{\\left(\\frac{\\sqrt{3} \\sqrt{2 + \\sqrt{7}}}{3} \\right)} + i \\pi\\right)}{-126 + 36 \\sqrt{7}}$"
      ],
      "text/plain": [
       "Eq(Integral(sqrt(x)/(-3*x + 4 + 1/x), (x, 0, 1)), 84/(-126 + 36*sqrt(7)) + 8*sqrt(21)*sqrt(-2 + sqrt(7))*atan(sqrt(3)/sqrt(-2 + sqrt(7)))/(-126 + 36*sqrt(7)) + 3*sqrt(3)*sqrt(2 + sqrt(7))*log(sqrt(3)*sqrt(2 + sqrt(7))/3)/(-126 + 36*sqrt(7)) - 3*sqrt(3)*sqrt(2 + sqrt(7))*log(1 + sqrt(3)*sqrt(2 + sqrt(7))/3)/(-126 + 36*sqrt(7)) - 22*sqrt(3)*sqrt(-2 + sqrt(7))*atan(sqrt(3)/sqrt(-2 + sqrt(7)))/(-126 + 36*sqrt(7)) - 24*sqrt(7)/(-126 + 36*sqrt(7)) + 3*sqrt(3)*sqrt(2 + sqrt(7))*(log(-1 + sqrt(3)*sqrt(2 + sqrt(7))/3) + I*pi)/(-126 + 36*sqrt(7)) - 3*sqrt(3)*sqrt(2 + sqrt(7))*(log(sqrt(3)*sqrt(2 + sqrt(7))/3) + I*pi)/(-126 + 36*sqrt(7)))"
      ]
     },
     "metadata": {},
     "output_type": "display_data"
    },
    {
     "data": {
      "text/latex": [
       "$\\displaystyle \\int\\limits_{0}^{1} 2 \\sqrt{- x}\\, dx = \\frac{4 i}{3}$"
      ],
      "text/plain": [
       "Eq(Integral(2*sqrt(-x), (x, 0, 1)), 4*I/3)"
      ]
     },
     "metadata": {},
     "output_type": "display_data"
    },
    {
     "data": {
      "text/latex": [
       "$\\displaystyle \\int\\limits_{0}^{1} \\left(\\sin^{4}{\\left(x \\right)} + 2 \\sin{\\left(x \\right)}\\right)\\, dx = - 2 \\cos{\\left(1 \\right)} - \\frac{3 \\sin{\\left(1 \\right)} \\cos{\\left(1 \\right)}}{8} - \\frac{\\sin^{3}{\\left(1 \\right)} \\cos{\\left(1 \\right)}}{4} + \\frac{19}{8}$"
      ],
      "text/plain": [
       "Eq(Integral(sin(x)**4 + 2*sin(x), (x, 0, 1)), -2*cos(1) - 3*sin(1)*cos(1)/8 - sin(1)**3*cos(1)/4 + 19/8)"
      ]
     },
     "metadata": {},
     "output_type": "display_data"
    },
    {
     "data": {
      "text/latex": [
       "$\\displaystyle \\int\\limits_{0}^{1} \\left(- \\sqrt[3]{x} + \\sqrt{x}\\right)\\, dx = - \\frac{1}{12}$"
      ],
      "text/plain": [
       "Eq(Integral(-x**(1/3) + sqrt(x), (x, 0, 1)), -1/12)"
      ]
     },
     "metadata": {},
     "output_type": "display_data"
    },
    {
     "data": {
      "text/latex": [
       "$\\displaystyle \\int\\limits_{0}^{1} \\left(\\sqrt{x} + \\sin{\\left(x \\right)}\\right)\\, dx = \\frac{5}{3} - \\cos{\\left(1 \\right)}$"
      ],
      "text/plain": [
       "Eq(Integral(sqrt(x) + sin(x), (x, 0, 1)), 5/3 - cos(1))"
      ]
     },
     "metadata": {},
     "output_type": "display_data"
    },
    {
     "data": {
      "text/latex": [
       "$\\displaystyle \\int\\limits_{0}^{1} \\left(- \\sqrt{x} + \\sin{\\left(x \\right)}\\right)\\, dx = \\frac{1}{3} - \\cos{\\left(1 \\right)}$"
      ],
      "text/plain": [
       "Eq(Integral(-sqrt(x) + sin(x), (x, 0, 1)), 1/3 - cos(1))"
      ]
     },
     "metadata": {},
     "output_type": "display_data"
    },
    {
     "data": {
      "text/latex": [
       "$\\displaystyle \\int\\limits_{0}^{1} \\left(- x^{4} + \\cos{\\left(x \\right)}\\right)\\, dx = - \\frac{1}{5} + \\sin{\\left(1 \\right)}$"
      ],
      "text/plain": [
       "Eq(Integral(-x**4 + cos(x), (x, 0, 1)), -1/5 + sin(1))"
      ]
     },
     "metadata": {},
     "output_type": "display_data"
    },
    {
     "data": {
      "text/latex": [
       "$\\displaystyle \\int\\limits_{0}^{1} \\left(e^{x} + \\log{\\left(x \\right)}\\right)\\, dx = -2 + e$"
      ],
      "text/plain": [
       "Eq(Integral(exp(x) + log(x), (x, 0, 1)), -2 + E)"
      ]
     },
     "metadata": {},
     "output_type": "display_data"
    },
    {
     "data": {
      "text/latex": [
       "$\\displaystyle \\int\\limits_{0}^{1} x^{2} e^{- x}\\, dx = 2 - \\frac{5}{e}$"
      ],
      "text/plain": [
       "Eq(Integral(x**2*exp(-x), (x, 0, 1)), 2 - 5*exp(-1))"
      ]
     },
     "metadata": {},
     "output_type": "display_data"
    },
    {
     "data": {
      "text/latex": [
       "$\\displaystyle \\int\\limits_{0}^{1} \\frac{\\sqrt{x}}{\\cos{\\left(x \\right)}}\\, dx = \\int\\limits_{0}^{1} \\frac{\\sqrt{x}}{\\cos{\\left(x \\right)}}\\, dx$"
      ],
      "text/plain": [
       "Eq(Integral(sqrt(x)/cos(x), (x, 0, 1)), Integral(sqrt(x)/cos(x), (x, 0, 1)))"
      ]
     },
     "metadata": {},
     "output_type": "display_data"
    },
    {
     "data": {
      "text/latex": [
       "$\\displaystyle \\int\\limits_{0}^{1} \\left(\\sqrt[3]{x} + x - 1\\right)\\, dx = \\frac{1}{4}$"
      ],
      "text/plain": [
       "Eq(Integral(x**(1/3) + x - 1, (x, 0, 1)), 1/4)"
      ]
     },
     "metadata": {},
     "output_type": "display_data"
    },
    {
     "data": {
      "text/latex": [
       "$\\displaystyle \\int\\limits_{0}^{1} \\frac{\\tan{\\left(x \\right)}}{\\sqrt[3]{x}}\\, dx = \\int\\limits_{0}^{1} \\frac{\\tan{\\left(x \\right)}}{\\sqrt[3]{x}}\\, dx$"
      ],
      "text/plain": [
       "Eq(Integral(tan(x)/x**(1/3), (x, 0, 1)), Integral(tan(x)/x**(1/3), (x, 0, 1)))"
      ]
     },
     "metadata": {},
     "output_type": "display_data"
    },
    {
     "data": {
      "text/latex": [
       "$\\displaystyle \\int\\limits_{0}^{1} \\frac{1}{x^{\\frac{9}{2}}}\\, dx = \\infty$"
      ],
      "text/plain": [
       "Eq(Integral(x**(-9/2), (x, 0, 1)), oo)"
      ]
     },
     "metadata": {},
     "output_type": "display_data"
    },
    {
     "data": {
      "text/latex": [
       "$\\displaystyle \\int\\limits_{0}^{1} \\left(- 4 x + \\log{\\left(x \\right)}\\right)\\, dx = -3$"
      ],
      "text/plain": [
       "Eq(Integral(-4*x + log(x), (x, 0, 1)), -3)"
      ]
     },
     "metadata": {},
     "output_type": "display_data"
    },
    {
     "data": {
      "text/latex": [
       "$\\displaystyle \\int\\limits_{0}^{1} \\left(- e^{x} + \\tan{\\left(x \\right)}\\right)\\, dx = - e - \\log{\\left(\\cos{\\left(1 \\right)} \\right)} + 1$"
      ],
      "text/plain": [
       "Eq(Integral(-exp(x) + tan(x), (x, 0, 1)), -E - log(cos(1)) + 1)"
      ]
     },
     "metadata": {},
     "output_type": "display_data"
    },
    {
     "data": {
      "text/latex": [
       "$\\displaystyle \\int\\limits_{0}^{1} e^{- x} \\sin{\\left(x \\right)}\\, dx = - \\frac{\\sin{\\left(1 \\right)}}{2 e} - \\frac{\\cos{\\left(1 \\right)}}{2 e} + \\frac{1}{2}$"
      ],
      "text/plain": [
       "Eq(Integral(exp(-x)*sin(x), (x, 0, 1)), -exp(-1)*sin(1)/2 - exp(-1)*cos(1)/2 + 1/2)"
      ]
     },
     "metadata": {},
     "output_type": "display_data"
    },
    {
     "data": {
      "text/latex": [
       "$\\displaystyle \\int\\limits_{0}^{1} \\left(x^{3} + x - 5\\right)\\, dx = - \\frac{17}{4}$"
      ],
      "text/plain": [
       "Eq(Integral(x**3 + x - 5, (x, 0, 1)), -17/4)"
      ]
     },
     "metadata": {},
     "output_type": "display_data"
    },
    {
     "data": {
      "text/latex": [
       "$\\displaystyle \\int\\limits_{0}^{1} \\sqrt{\\cos{\\left(x \\right)}}\\, dx = \\int\\limits_{0}^{1} \\sqrt{\\cos{\\left(x \\right)}}\\, dx$"
      ],
      "text/plain": [
       "Eq(Integral(sqrt(cos(x)), (x, 0, 1)), Integral(sqrt(cos(x)), (x, 0, 1)))"
      ]
     },
     "metadata": {},
     "output_type": "display_data"
    },
    {
     "data": {
      "text/latex": [
       "$\\displaystyle \\int\\limits_{0}^{1} \\frac{x + 4}{x + 3}\\, dx = - \\log{\\left(3 \\right)} + 1 + \\log{\\left(4 \\right)}$"
      ],
      "text/plain": [
       "Eq(Integral((x + 4)/(x + 3), (x, 0, 1)), -log(3) + 1 + log(4))"
      ]
     },
     "metadata": {},
     "output_type": "display_data"
    },
    {
     "data": {
      "text/latex": [
       "$\\displaystyle \\int\\limits_{0}^{1} \\frac{\\sin{\\left(x \\right)}}{\\log{\\left(x \\right)}}\\, dx = \\int\\limits_{0}^{1} \\frac{\\sin{\\left(x \\right)}}{\\log{\\left(x \\right)}}\\, dx$"
      ],
      "text/plain": [
       "Eq(Integral(sin(x)/log(x), (x, 0, 1)), Integral(sin(x)/log(x), (x, 0, 1)))"
      ]
     },
     "metadata": {},
     "output_type": "display_data"
    },
    {
     "data": {
      "text/latex": [
       "$\\displaystyle \\int\\limits_{0}^{1} \\left(\\sqrt[3]{x} - \\tan{\\left(x \\right)}\\right)\\, dx = \\log{\\left(\\cos{\\left(1 \\right)} \\right)} + \\frac{3}{4}$"
      ],
      "text/plain": [
       "Eq(Integral(x**(1/3) - tan(x), (x, 0, 1)), log(cos(1)) + 3/4)"
      ]
     },
     "metadata": {},
     "output_type": "display_data"
    },
    {
     "data": {
      "text/latex": [
       "$\\displaystyle \\int\\limits_{0}^{1} x\\, dx = \\frac{1}{2}$"
      ],
      "text/plain": [
       "Eq(Integral(x, (x, 0, 1)), 1/2)"
      ]
     },
     "metadata": {},
     "output_type": "display_data"
    },
    {
     "data": {
      "text/latex": [
       "$\\displaystyle \\int\\limits_{0}^{1} \\left(- x^{3} + \\log{\\left(x \\right)}\\right)\\, dx = - \\frac{5}{4}$"
      ],
      "text/plain": [
       "Eq(Integral(-x**3 + log(x), (x, 0, 1)), -5/4)"
      ]
     },
     "metadata": {},
     "output_type": "display_data"
    },
    {
     "data": {
      "text/latex": [
       "$\\displaystyle \\int\\limits_{0}^{1} \\left(\\sqrt{x} - x^{4} + 3 x + 1\\right)\\, dx = \\frac{89}{30}$"
      ],
      "text/plain": [
       "Eq(Integral(sqrt(x) - x**4 + 3*x + 1, (x, 0, 1)), 89/30)"
      ]
     },
     "metadata": {},
     "output_type": "display_data"
    },
    {
     "data": {
      "text/latex": [
       "$\\displaystyle \\int\\limits_{0}^{1} \\left(3 x - \\tan{\\left(x \\right)} + \\frac{1}{x^{2}}\\right)\\, dx = \\infty$"
      ],
      "text/plain": [
       "Eq(Integral(3*x - tan(x) + x**(-2), (x, 0, 1)), oo)"
      ]
     },
     "metadata": {},
     "output_type": "display_data"
    },
    {
     "data": {
      "text/latex": [
       "$\\displaystyle \\int\\limits_{0}^{1} \\left(- x^{4} + x + 4\\right)\\, dx = \\frac{43}{10}$"
      ],
      "text/plain": [
       "Eq(Integral(-x**4 + x + 4, (x, 0, 1)), 43/10)"
      ]
     },
     "metadata": {},
     "output_type": "display_data"
    },
    {
     "data": {
      "text/latex": [
       "$\\displaystyle \\int\\limits_{0}^{1} \\left(- e^{x} + \\log{\\left(x \\right)}\\right)\\, dx = - e$"
      ],
      "text/plain": [
       "Eq(Integral(-exp(x) + log(x), (x, 0, 1)), -E)"
      ]
     },
     "metadata": {},
     "output_type": "display_data"
    },
    {
     "data": {
      "text/latex": [
       "$\\displaystyle \\int\\limits_{0}^{1} \\frac{\\tan{\\left(x \\right)}}{x^{2}}\\, dx = \\int\\limits_{0}^{1} \\frac{\\tan{\\left(x \\right)}}{x^{2}}\\, dx$"
      ],
      "text/plain": [
       "Eq(Integral(tan(x)/x**2, (x, 0, 1)), Integral(tan(x)/x**2, (x, 0, 1)))"
      ]
     },
     "metadata": {},
     "output_type": "display_data"
    },
    {
     "data": {
      "text/latex": [
       "$\\displaystyle \\int\\limits_{0}^{1} \\left(\\sqrt{x} - e^{x}\\right)\\, dx = \\frac{5}{3} - e$"
      ],
      "text/plain": [
       "Eq(Integral(sqrt(x) - exp(x), (x, 0, 1)), 5/3 - E)"
      ]
     },
     "metadata": {},
     "output_type": "display_data"
    },
    {
     "data": {
      "text/latex": [
       "$\\displaystyle \\int\\limits_{0}^{1} \\left(- e^{x} + \\sin{\\left(x \\right)}\\right)\\, dx = - e - \\cos{\\left(1 \\right)} + 2$"
      ],
      "text/plain": [
       "Eq(Integral(-exp(x) + sin(x), (x, 0, 1)), -E - cos(1) + 2)"
      ]
     },
     "metadata": {},
     "output_type": "display_data"
    },
    {
     "data": {
      "text/latex": [
       "$\\displaystyle \\int\\limits_{0}^{1} \\sqrt[3]{e^{x}}\\, dx = -3 + 3 e^{\\frac{1}{3}}$"
      ],
      "text/plain": [
       "Eq(Integral(exp(x)**(1/3), (x, 0, 1)), -3 + 3*exp(1/3))"
      ]
     },
     "metadata": {},
     "output_type": "display_data"
    },
    {
     "data": {
      "text/latex": [
       "$\\displaystyle \\int\\limits_{0}^{1} \\left(\\tan{\\left(x \\right)} + 3\\right)\\, dx = 3 - \\log{\\left(\\cos{\\left(1 \\right)} \\right)}$"
      ],
      "text/plain": [
       "Eq(Integral(tan(x) + 3, (x, 0, 1)), 3 - log(cos(1)))"
      ]
     },
     "metadata": {},
     "output_type": "display_data"
    },
    {
     "data": {
      "text/latex": [
       "$\\displaystyle \\int\\limits_{0}^{1} \\left(e^{x} + \\log{\\left(x \\right)}\\right)\\, dx = -2 + e$"
      ],
      "text/plain": [
       "Eq(Integral(exp(x) + log(x), (x, 0, 1)), -2 + E)"
      ]
     },
     "metadata": {},
     "output_type": "display_data"
    },
    {
     "data": {
      "text/latex": [
       "$\\displaystyle \\int\\limits_{0}^{1} \\left(x^{5} - 3 x - \\tan{\\left(x \\right)} - 1\\right)\\, dx = - \\frac{7}{3} + \\log{\\left(\\cos{\\left(1 \\right)} \\right)}$"
      ],
      "text/plain": [
       "Eq(Integral(x**5 - 3*x - tan(x) - 1, (x, 0, 1)), -7/3 + log(cos(1)))"
      ]
     },
     "metadata": {},
     "output_type": "display_data"
    },
    {
     "data": {
      "text/latex": [
       "$\\displaystyle \\int\\limits_{0}^{1} \\frac{x^{2} + 3 x + 4}{\\cos{\\left(x \\right)}}\\, dx = \\int\\limits_{0}^{1} \\frac{x^{2} + 3 x + 4}{\\cos{\\left(x \\right)}}\\, dx$"
      ],
      "text/plain": [
       "Eq(Integral((x**2 + 3*x + 4)/cos(x), (x, 0, 1)), Integral((x**2 + 3*x + 4)/cos(x), (x, 0, 1)))"
      ]
     },
     "metadata": {},
     "output_type": "display_data"
    },
    {
     "data": {
      "text/latex": [
       "$\\displaystyle \\int\\limits_{0}^{1} \\left(e^{x} + \\sin{\\left(x \\right)}\\right)\\, dx = e - \\cos{\\left(1 \\right)}$"
      ],
      "text/plain": [
       "Eq(Integral(exp(x) + sin(x), (x, 0, 1)), E - cos(1))"
      ]
     },
     "metadata": {},
     "output_type": "display_data"
    },
    {
     "data": {
      "text/latex": [
       "$\\displaystyle \\int\\limits_{0}^{1} \\sin{\\left(x + 1 \\right)}\\, dx = - \\cos{\\left(2 \\right)} + \\cos{\\left(1 \\right)}$"
      ],
      "text/plain": [
       "Eq(Integral(sin(x + 1), (x, 0, 1)), -cos(2) + cos(1))"
      ]
     },
     "metadata": {},
     "output_type": "display_data"
    },
    {
     "data": {
      "text/latex": [
       "$\\displaystyle \\int\\limits_{0}^{1} \\left(- x\\right)\\, dx = - \\frac{1}{2}$"
      ],
      "text/plain": [
       "Eq(Integral(-x, (x, 0, 1)), -1/2)"
      ]
     },
     "metadata": {},
     "output_type": "display_data"
    },
    {
     "data": {
      "text/latex": [
       "$\\displaystyle \\int\\limits_{0}^{1} e^{x - 5}\\, dx = - \\frac{1}{e^{5}} + e^{-4}$"
      ],
      "text/plain": [
       "Eq(Integral(exp(x - 5), (x, 0, 1)), -exp(-5) + exp(-4))"
      ]
     },
     "metadata": {},
     "output_type": "display_data"
    },
    {
     "data": {
      "text/latex": [
       "$\\displaystyle \\int\\limits_{0}^{1} \\sqrt[3]{x}\\, dx = \\frac{3}{4}$"
      ],
      "text/plain": [
       "Eq(Integral(x**(1/3), (x, 0, 1)), 3/4)"
      ]
     },
     "metadata": {},
     "output_type": "display_data"
    },
    {
     "data": {
      "text/latex": [
       "$\\displaystyle \\int\\limits_{0}^{1} \\frac{x^{4}}{x - 3}\\, dx = - 81 \\log{\\left(3 \\right)} + \\frac{131}{4} + 81 \\log{\\left(2 \\right)}$"
      ],
      "text/plain": [
       "Eq(Integral(x**4/(x - 3), (x, 0, 1)), -81*log(3) + 131/4 + 81*log(2))"
      ]
     },
     "metadata": {},
     "output_type": "display_data"
    },
    {
     "data": {
      "text/latex": [
       "$\\displaystyle \\int\\limits_{0}^{1} \\left(\\cos{\\left(x \\right)} + \\frac{1}{x^{2}}\\right)\\, dx = \\infty$"
      ],
      "text/plain": [
       "Eq(Integral(cos(x) + x**(-2), (x, 0, 1)), oo)"
      ]
     },
     "metadata": {},
     "output_type": "display_data"
    },
    {
     "data": {
      "text/latex": [
       "$\\displaystyle \\int\\limits_{0}^{1} \\frac{\\sin{\\left(x \\right)}}{\\cos{\\left(x \\right)}}\\, dx = - \\log{\\left(\\cos{\\left(1 \\right)} \\right)}$"
      ],
      "text/plain": [
       "Eq(Integral(sin(x)/cos(x), (x, 0, 1)), -log(cos(1)))"
      ]
     },
     "metadata": {},
     "output_type": "display_data"
    },
    {
     "data": {
      "text/latex": [
       "$\\displaystyle \\int\\limits_{0}^{1} \\left(- x + \\log{\\left(x \\right)}\\right)\\, dx = - \\frac{3}{2}$"
      ],
      "text/plain": [
       "Eq(Integral(-x + log(x), (x, 0, 1)), -3/2)"
      ]
     },
     "metadata": {},
     "output_type": "display_data"
    },
    {
     "data": {
      "text/latex": [
       "$\\displaystyle \\int\\limits_{0}^{1} x^{5} e^{- x}\\, dx = 120 - \\frac{326}{e}$"
      ],
      "text/plain": [
       "Eq(Integral(x**5*exp(-x), (x, 0, 1)), 120 - 326*exp(-1))"
      ]
     },
     "metadata": {},
     "output_type": "display_data"
    },
    {
     "data": {
      "text/latex": [
       "$\\displaystyle \\int\\limits_{0}^{1} \\sqrt[3]{\\log{\\left(x \\right)}}\\, dx = \\int\\limits_{0}^{1} \\sqrt[3]{\\log{\\left(x \\right)}}\\, dx$"
      ],
      "text/plain": [
       "Eq(Integral(log(x)**(1/3), (x, 0, 1)), Integral(log(x)**(1/3), (x, 0, 1)))"
      ]
     },
     "metadata": {},
     "output_type": "display_data"
    },
    {
     "data": {
      "text/latex": [
       "$\\displaystyle \\int\\limits_{0}^{1} \\left(e^{x} + \\cos{\\left(x \\right)}\\right)\\, dx = -1 + \\sin{\\left(1 \\right)} + e$"
      ],
      "text/plain": [
       "Eq(Integral(exp(x) + cos(x), (x, 0, 1)), -1 + sin(1) + E)"
      ]
     },
     "metadata": {},
     "output_type": "display_data"
    },
    {
     "data": {
      "text/latex": [
       "$\\displaystyle \\int\\limits_{0}^{1} \\left(4 - x\\right)\\, dx = \\frac{7}{2}$"
      ],
      "text/plain": [
       "Eq(Integral(4 - x, (x, 0, 1)), 7/2)"
      ]
     },
     "metadata": {},
     "output_type": "display_data"
    },
    {
     "data": {
      "text/latex": [
       "$\\displaystyle \\int\\limits_{0}^{1} \\frac{\\cos{\\left(x \\right)}}{\\log{\\left(x \\right)}}\\, dx = \\int\\limits_{0}^{1} \\frac{\\cos{\\left(x \\right)}}{\\log{\\left(x \\right)}}\\, dx$"
      ],
      "text/plain": [
       "Eq(Integral(cos(x)/log(x), (x, 0, 1)), Integral(cos(x)/log(x), (x, 0, 1)))"
      ]
     },
     "metadata": {},
     "output_type": "display_data"
    },
    {
     "data": {
      "text/latex": [
       "$\\displaystyle \\int\\limits_{0}^{1} \\left(- x^{4} + e^{x}\\right)\\, dx = - \\frac{6}{5} + e$"
      ],
      "text/plain": [
       "Eq(Integral(-x**4 + exp(x), (x, 0, 1)), -6/5 + E)"
      ]
     },
     "metadata": {},
     "output_type": "display_data"
    },
    {
     "data": {
      "text/latex": [
       "$\\displaystyle \\int\\limits_{0}^{1} \\left(- 2 x - 2\\right)\\, dx = -3$"
      ],
      "text/plain": [
       "Eq(Integral(-2*x - 2, (x, 0, 1)), -3)"
      ]
     },
     "metadata": {},
     "output_type": "display_data"
    },
    {
     "data": {
      "text/latex": [
       "$\\displaystyle \\int\\limits_{0}^{1} \\left(x + 1 + \\frac{1}{x^{4}}\\right)\\, dx = \\infty$"
      ],
      "text/plain": [
       "Eq(Integral(x + 1 + x**(-4), (x, 0, 1)), oo)"
      ]
     },
     "metadata": {},
     "output_type": "display_data"
    },
    {
     "data": {
      "text/latex": [
       "$\\displaystyle \\int\\limits_{0}^{1} \\left(\\sin{\\left(x \\right)} - \\tan{\\left(x \\right)}\\right)\\, dx = \\log{\\left(\\cos{\\left(1 \\right)} \\right)} - \\cos{\\left(1 \\right)} + 1$"
      ],
      "text/plain": [
       "Eq(Integral(sin(x) - tan(x), (x, 0, 1)), log(cos(1)) - cos(1) + 1)"
      ]
     },
     "metadata": {},
     "output_type": "display_data"
    },
    {
     "data": {
      "text/latex": [
       "$\\displaystyle \\int\\limits_{0}^{1} \\left(- \\tan{\\left(x + 4 - \\frac{1}{x} \\right)}\\right)\\, dx = - \\int\\limits_{0}^{1} \\tan{\\left(x + 4 - \\frac{1}{x} \\right)}\\, dx$"
      ],
      "text/plain": [
       "Eq(Integral(-tan(x + 4 - 1/x), (x, 0, 1)), -Integral(tan(x + 4 - 1/x), (x, 0, 1)))"
      ]
     },
     "metadata": {},
     "output_type": "display_data"
    },
    {
     "data": {
      "text/latex": [
       "$\\displaystyle \\int\\limits_{0}^{1} \\left(\\sqrt[3]{x} - 2 x\\right)\\, dx = - \\frac{1}{4}$"
      ],
      "text/plain": [
       "Eq(Integral(x**(1/3) - 2*x, (x, 0, 1)), -1/4)"
      ]
     },
     "metadata": {},
     "output_type": "display_data"
    },
    {
     "data": {
      "text/latex": [
       "$\\displaystyle \\int\\limits_{0}^{1} \\left(\\tan{\\left(x \\right)} - 5\\right)\\, dx = -5 - \\log{\\left(\\cos{\\left(1 \\right)} \\right)}$"
      ],
      "text/plain": [
       "Eq(Integral(tan(x) - 5, (x, 0, 1)), -5 - log(cos(1)))"
      ]
     },
     "metadata": {},
     "output_type": "display_data"
    },
    {
     "data": {
      "text/latex": [
       "$\\displaystyle \\int\\limits_{0}^{1} e^{- x} \\sin{\\left(x \\right)}\\, dx = - \\frac{\\sin{\\left(1 \\right)}}{2 e} - \\frac{\\cos{\\left(1 \\right)}}{2 e} + \\frac{1}{2}$"
      ],
      "text/plain": [
       "Eq(Integral(exp(-x)*sin(x), (x, 0, 1)), -exp(-1)*sin(1)/2 - exp(-1)*cos(1)/2 + 1/2)"
      ]
     },
     "metadata": {},
     "output_type": "display_data"
    },
    {
     "data": {
      "text/latex": [
       "$\\displaystyle \\int\\limits_{0}^{1} \\left(\\sqrt{x} - \\log{\\left(x \\right)}\\right)\\, dx = \\frac{5}{3}$"
      ],
      "text/plain": [
       "Eq(Integral(sqrt(x) - log(x), (x, 0, 1)), 5/3)"
      ]
     },
     "metadata": {},
     "output_type": "display_data"
    },
    {
     "data": {
      "text/latex": [
       "$\\displaystyle \\int\\limits_{0}^{1} \\left(3 x + 3\\right)\\, dx = \\frac{9}{2}$"
      ],
      "text/plain": [
       "Eq(Integral(3*x + 3, (x, 0, 1)), 9/2)"
      ]
     },
     "metadata": {},
     "output_type": "display_data"
    },
    {
     "data": {
      "text/latex": [
       "$\\displaystyle \\int\\limits_{0}^{1} \\frac{\\sqrt{x}}{\\log{\\left(x \\right)}}\\, dx = \\int\\limits_{0}^{1} \\frac{\\sqrt{x}}{\\log{\\left(x \\right)}}\\, dx$"
      ],
      "text/plain": [
       "Eq(Integral(sqrt(x)/log(x), (x, 0, 1)), Integral(sqrt(x)/log(x), (x, 0, 1)))"
      ]
     },
     "metadata": {},
     "output_type": "display_data"
    },
    {
     "data": {
      "text/latex": [
       "$\\displaystyle \\int\\limits_{0}^{1} \\left(\\sqrt{x} + e^{x}\\right)\\, dx = - \\frac{1}{3} + e$"
      ],
      "text/plain": [
       "Eq(Integral(sqrt(x) + exp(x), (x, 0, 1)), -1/3 + E)"
      ]
     },
     "metadata": {},
     "output_type": "display_data"
    }
   ],
   "source": [
    "for i in range(0,101):\n",
    "    practice2 = Integral(random_math(x),(x,0,1))\n",
    "    if practice2.evalf()!= 0: \n",
    "        display(Eq(practice2,practice2.doit(),evaluate=False))"
   ]
  }
 ],
 "metadata": {
  "kernelspec": {
   "display_name": "Python 3 (ipykernel)",
   "language": "python",
   "name": "python3"
  },
  "language_info": {
   "codemirror_mode": {
    "name": "ipython",
    "version": 3
   },
   "file_extension": ".py",
   "mimetype": "text/x-python",
   "name": "python",
   "nbconvert_exporter": "python",
   "pygments_lexer": "ipython3",
   "version": "3.8.10"
  }
 },
 "nbformat": 4,
 "nbformat_minor": 5
}
