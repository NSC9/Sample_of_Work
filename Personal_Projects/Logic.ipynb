{
 "cells": [
  {
   "cell_type": "code",
   "execution_count": 162,
   "metadata": {},
   "outputs": [
    {
     "data": {
      "text/plain": [
       "'Since the sky is cloudy,the month is June,and the area is Indiana, then it is possibile for rain to fall.'"
      ]
     },
     "execution_count": 162,
     "metadata": {},
     "output_type": "execute_result"
    }
   ],
   "source": [
    "from sympy import Function,symbols\n",
    "p1,p2,p3,pn,dps = symbols(\"p1 p2 p3 pn dps\")\n",
    "Argument = {                  # this line of code creates a python dictionary. \n",
    "    p1: \"the sky is cloudy\",  # p1 = the first proposition\n",
    "    p2: \"the month is June\",\n",
    "    p3: \"the area is Indiana\",\n",
    "    # a proposition that acts as a conclusion and is a derived from the original propositions pn\n",
    "}\n",
    "Argument[dps]=\"Since {},{},and {}, then it is possibile for rain to fall.\".format(Argument[p1],Argument[p2],Argument[p3])\n",
    "    # the line above this adds a new element to our dictionary'Argument'\n",
    "Argument[dps]"
   ]
  },
  {
   "cell_type": "code",
   "execution_count": 167,
   "metadata": {},
   "outputs": [
    {
     "name": "stdout",
     "output_type": "stream",
     "text": [
      "\n",
      "We see that there is a fundamental relation to Aristotles syllogism and mathematics. \n",
      "Derivatives in Calculus can be analogous to the conlusions of an argument.\n",
      "\n",
      "In Calculus we take a set X that contains all real numbers and a set Y that contains all real numbers\n",
      "and assign each element of X exactly one element of Y. This is the same assignment we did in the block of code above.\n",
      "\n"
     ]
    }
   ],
   "source": [
    "print(\"\"\"\n",
    "We see that there is a fundamental relation to Aristotles syllogism and mathematics. \n",
    "Derivatives in Calculus can be analogous to the conlusions of an argument.\n",
    "\n",
    "In Calculus we take a set X that contains all real numbers {x_n} and a set Y {y_n} that contains all real numbers\n",
    "and assign each element of X exactly one element of Y. This is the same assignment we did in the block of code above.\n",
    "\"\"\")\n"
   ]
  }
 ],
 "metadata": {
  "kernelspec": {
   "display_name": "Python 3",
   "language": "python",
   "name": "python3"
  },
  "language_info": {
   "codemirror_mode": {
    "name": "ipython",
    "version": 3
   },
   "file_extension": ".py",
   "mimetype": "text/x-python",
   "name": "python",
   "nbconvert_exporter": "python",
   "pygments_lexer": "ipython3",
   "version": "3.8.10"
  }
 },
 "nbformat": 4,
 "nbformat_minor": 4
}
