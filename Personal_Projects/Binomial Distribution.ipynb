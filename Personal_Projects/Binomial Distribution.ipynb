{
 "cells": [
  {
   "cell_type": "code",
   "execution_count": 3,
   "id": "6ca0864f",
   "metadata": {},
   "outputs": [
    {
     "data": {
      "text/latex": [
       "$\\displaystyle \\lim_{n \\to \\infty} e^{\\frac{x}{n}} = 1$"
      ],
      "text/plain": [
       "Eq(Limit(exp(x/n), n, oo, dir='-'), 1)"
      ]
     },
     "execution_count": 3,
     "metadata": {},
     "output_type": "execute_result"
    }
   ],
   "source": [
    "from sympy import symbols,Eq,Limit,E,oo,Function,factorial,binomial\n",
    "n,x = symbols('n x')\n",
    "Eq(Limit(E**(x/n),n,oo),Limit(E**(x/n),n,oo).doit())"
   ]
  },
  {
   "cell_type": "code",
   "execution_count": 4,
   "id": "2789f948",
   "metadata": {},
   "outputs": [
    {
     "data": {
      "text/latex": [
       "$\\displaystyle {\\binom{N}{n}} = \\frac{N!}{n! \\left(N - n\\right)!}$"
      ],
      "text/plain": [
       "Eq(binomial(N, n), factorial(N)/(factorial(n)*factorial(N - n)))"
      ]
     },
     "execution_count": 4,
     "metadata": {},
     "output_type": "execute_result"
    }
   ],
   "source": [
    "P = Function('P') # probability function\n",
    "r,N,f  = symbols('r N f')\n",
    "\n",
    "N_choose_n = factorial(N)/(factorial(N-n)*factorial(n))\n",
    "Eq(binomial(N, n),N_choose_n) # the number of ways of selecting an unordered set of n objects from a set of size N"
   ]
  },
  {
   "cell_type": "code",
   "execution_count": 5,
   "id": "42fe09f6",
   "metadata": {},
   "outputs": [
    {
     "data": {
      "text/latex": [
       "$\\displaystyle P{\\left(r,N \\wedge f \\right)} = f^{r} \\left(1 - f\\right)^{N - r} {\\binom{N}{r}}$"
      ],
      "text/plain": [
       "Eq(P(r, N & f), f**r*(1 - f)**(N - r)*binomial(N, r))"
      ]
     },
     "execution_count": 5,
     "metadata": {},
     "output_type": "execute_result"
    }
   ],
   "source": [
    "# Binomial Distribution\n",
    "e1 = Eq(P(r,f & N) ,binomial(N, r)*f**r*(1-f)**(N-r))\n",
    "e1\n",
    "# probability of r given N and f "
   ]
  },
  {
   "cell_type": "code",
   "execution_count": 6,
   "id": "65594745",
   "metadata": {},
   "outputs": [
    {
     "data": {
      "text/latex": [
       "$\\displaystyle e^{\\frac{r + x}{r!}}$"
      ],
      "text/plain": [
       "exp((r + x)/factorial(r))"
      ]
     },
     "execution_count": 6,
     "metadata": {},
     "output_type": "execute_result"
    }
   ],
   "source": [
    "E**((x+r)/factorial(r))"
   ]
  },
  {
   "cell_type": "code",
   "execution_count": 7,
   "id": "7e1c2034",
   "metadata": {},
   "outputs": [
    {
     "data": {
      "text/latex": [
       "$\\displaystyle e^{e!}$"
      ],
      "text/plain": [
       "exp(factorial(E))"
      ]
     },
     "execution_count": 7,
     "metadata": {},
     "output_type": "execute_result"
    }
   ],
   "source": [
    "from sympy import E, factorial,Eq\n",
    "E**factorial(E)"
   ]
  },
  {
   "cell_type": "code",
   "execution_count": 8,
   "id": "713aef42",
   "metadata": {},
   "outputs": [
    {
     "data": {
      "text/latex": [
       "$\\displaystyle 70.8681052120441$"
      ],
      "text/plain": [
       "70.8681052120441"
      ]
     },
     "execution_count": 8,
     "metadata": {},
     "output_type": "execute_result"
    }
   ],
   "source": [
    "E**factorial(E).evalf()"
   ]
  },
  {
   "cell_type": "code",
   "execution_count": 9,
   "id": "3b0354aa",
   "metadata": {},
   "outputs": [
    {
     "data": {
      "text/latex": [
       "$\\displaystyle \\text{False}$"
      ],
      "text/plain": [
       "False"
      ]
     },
     "execution_count": 9,
     "metadata": {},
     "output_type": "execute_result"
    }
   ],
   "source": [
    "Eq(E**factorial(E),E**factorial(E).evalf()) # issue raised at https://github.com/sympy/sympy/issues/22903\n"
   ]
  },
  {
   "cell_type": "code",
   "execution_count": 14,
   "id": "97cc1a6e",
   "metadata": {},
   "outputs": [
    {
     "data": {
      "text/latex": [
       "$\\displaystyle e^{e!} = 70.8681052120441$"
      ],
      "text/plain": [
       "Eq(exp(factorial(E)), 70.8681052120441)"
      ]
     },
     "execution_count": 14,
     "metadata": {},
     "output_type": "execute_result"
    }
   ],
   "source": [
    "# issue resolution \n",
    "Eq(E**factorial(E),E**factorial(E).evalf(), evaluate = False)"
   ]
  }
 ],
 "metadata": {
  "kernelspec": {
   "display_name": "Python 3 (ipykernel)",
   "language": "python",
   "name": "python3"
  },
  "language_info": {
   "codemirror_mode": {
    "name": "ipython",
    "version": 3
   },
   "file_extension": ".py",
   "mimetype": "text/x-python",
   "name": "python",
   "nbconvert_exporter": "python",
   "pygments_lexer": "ipython3",
   "version": "3.9.6"
  }
 },
 "nbformat": 4,
 "nbformat_minor": 5
}
