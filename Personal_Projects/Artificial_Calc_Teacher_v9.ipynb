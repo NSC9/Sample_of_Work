{
 "cells": [
  {
   "cell_type": "markdown",
   "id": "0625835f",
   "metadata": {},
   "source": [
    "*Credits to https://people.math.harvard.edu/~knill/teaching/math1a_2011/handouts/46-ai.pdf for inspiration*\n",
    "\n",
    "*Thanks to @smichr for .replace suggestion https://stackoverflow.com/a/73000728/17291132*\n",
    "\n",
    "**Notebook by github.com/nsc9   - MIT License**\n",
    "\n",
    "**Changelog:**\n",
    "\n",
    "     Integrals are now filtered if answers are complicated or impossible. \n",
    "    \n",
    "**Requested Features:**\n",
    "\n",
    "     Program stops if it exceeds 2 second run-time.\n",
    "     \n",
    "**Known Bugs**\n",
    "\n",
    "   Still Rarely Crashes. Minimized by lowering \n",
    "       allowed_values = list(range(-5, 5)) -> -2,2"
   ]
  },
  {
   "cell_type": "code",
   "execution_count": 1,
   "id": "108761f9",
   "metadata": {
    "scrolled": false
   },
   "outputs": [
    {
     "data": {
      "text/latex": [
       "$\\displaystyle \\frac{d}{d x} \\left(\\frac{\\log{\\left(x \\right)}}{3} + 1\\right) = \\frac{1}{3 x}$"
      ],
      "text/plain": [
       "Eq(Derivative(log(x)/3 + 1, x), 1/(3*x))"
      ]
     },
     "metadata": {},
     "output_type": "display_data"
    },
    {
     "data": {
      "text/latex": [
       "$\\displaystyle \\int \\cos{\\left(x \\right)}\\, dx = \\sin{\\left(x \\right)}$"
      ],
      "text/plain": [
       "Eq(Integral(cos(x), x), sin(x))"
      ]
     },
     "metadata": {},
     "output_type": "display_data"
    },
    {
     "data": {
      "text/latex": [
       "$\\displaystyle \\frac{d}{d x} \\cos^{\\frac{3}{2}}{\\left(x \\right)} = - \\frac{3 \\sin{\\left(x \\right)} \\sqrt{\\cos{\\left(x \\right)}}}{2}$"
      ],
      "text/plain": [
       "Eq(Derivative(cos(x)**(3/2), x), -3*sin(x)*sqrt(cos(x))/2)"
      ]
     },
     "metadata": {},
     "output_type": "display_data"
    },
    {
     "data": {
      "text/latex": [
       "$\\displaystyle \\int \\sin{\\left(x \\right)} \\tan{\\left(x \\right)}\\, dx = - \\frac{\\log{\\left(\\sin{\\left(x \\right)} - 1 \\right)}}{2} + \\frac{\\log{\\left(\\sin{\\left(x \\right)} + 1 \\right)}}{2} - \\sin{\\left(x \\right)}$"
      ],
      "text/plain": [
       "Eq(Integral(sin(x)*tan(x), x), -log(sin(x) - 1)/2 + log(sin(x) + 1)/2 - sin(x))"
      ]
     },
     "metadata": {},
     "output_type": "display_data"
    },
    {
     "data": {
      "text/latex": [
       "$\\displaystyle \\frac{d}{d x} \\frac{\\log{\\left(x \\right)}}{x} = \\frac{1 - \\log{\\left(x \\right)}}{x^{2}}$"
      ],
      "text/plain": [
       "Eq(Derivative(log(x)/x, x), (1 - log(x))/x**2)"
      ]
     },
     "metadata": {},
     "output_type": "display_data"
    },
    {
     "data": {
      "text/latex": [
       "$\\displaystyle \\int \\left(e^{x} - 1\\right)\\, dx = - x + e^{x}$"
      ],
      "text/plain": [
       "Eq(Integral(exp(x) - 1, x), -x + exp(x))"
      ]
     },
     "metadata": {},
     "output_type": "display_data"
    },
    {
     "data": {
      "text/latex": [
       "$\\displaystyle \\frac{d}{d x} \\cos{\\left(2 x \\right)} = - 2 \\sin{\\left(2 x \\right)}$"
      ],
      "text/plain": [
       "Eq(Derivative(cos(2*x), x), -2*sin(2*x))"
      ]
     },
     "metadata": {},
     "output_type": "display_data"
    },
    {
     "data": {
      "text/latex": [
       "$\\displaystyle \\int \\left(e^{\\sqrt[3]{x}} + \\frac{1}{x^{2}}\\right)\\, dx = \\frac{3 x \\left(x^{\\frac{2}{3}} - 2 \\sqrt[3]{x} + 2\\right) e^{\\sqrt[3]{x}} - 1}{x}$"
      ],
      "text/plain": [
       "Eq(Integral(exp(x**(1/3)) + x**(-2), x), (3*x*(x**(2/3) - 2*x**(1/3) + 2)*exp(x**(1/3)) - 1)/x)"
      ]
     },
     "metadata": {},
     "output_type": "display_data"
    },
    {
     "data": {
      "text/latex": [
       "$\\displaystyle \\frac{d}{d x} \\left(\\sqrt[3]{x} + e^{x}\\right) = e^{x} + \\frac{1}{3 x^{\\frac{2}{3}}}$"
      ],
      "text/plain": [
       "Eq(Derivative(x**(1/3) + exp(x), x), exp(x) + 1/(3*x**(2/3)))"
      ]
     },
     "metadata": {},
     "output_type": "display_data"
    },
    {
     "data": {
      "text/latex": [
       "$\\displaystyle \\int \\frac{1 - \\frac{x}{2}}{\\tan{\\left(x \\right)}}\\, dx = \\log{\\left(\\sin{\\left(x \\right)} \\right)} - \\frac{\\int \\frac{x}{\\tan{\\left(x \\right)}}\\, dx}{2}$"
      ],
      "text/plain": [
       "Eq(Integral((1 - x/2)/tan(x), x), log(sin(x)) - Integral(x/tan(x), x)/2)"
      ]
     },
     "metadata": {},
     "output_type": "display_data"
    },
    {
     "data": {
      "text/latex": [
       "$\\displaystyle \\frac{d}{d x} \\left(1 - \\cos{\\left(x \\right)}\\right) = \\sin{\\left(x \\right)}$"
      ],
      "text/plain": [
       "Eq(Derivative(1 - cos(x), x), sin(x))"
      ]
     },
     "metadata": {},
     "output_type": "display_data"
    },
    {
     "data": {
      "text/latex": [
       "$\\displaystyle \\int \\left(\\frac{\\log{\\left(x \\right)}}{2} - \\tan{\\left(x \\right)}\\right)\\, dx = \\frac{x \\log{\\left(x \\right)}}{2} - \\frac{x}{2} + \\log{\\left(\\cos{\\left(x \\right)} \\right)}$"
      ],
      "text/plain": [
       "Eq(Integral(log(x)/2 - tan(x), x), x*log(x)/2 - x/2 + log(cos(x)))"
      ]
     },
     "metadata": {},
     "output_type": "display_data"
    },
    {
     "data": {
      "text/latex": [
       "$\\displaystyle \\frac{d}{d x} \\left(\\sqrt{x - 1} + \\sin{\\left(x \\right)}\\right) = \\cos{\\left(x \\right)} + \\frac{1}{2 \\sqrt{x - 1}}$"
      ],
      "text/plain": [
       "Eq(Derivative(sqrt(x - 1) + sin(x), x), cos(x) + 1/(2*sqrt(x - 1)))"
      ]
     },
     "metadata": {},
     "output_type": "display_data"
    },
    {
     "data": {
      "text/latex": [
       "$\\displaystyle \\int \\left(- e^{x} + 1 + \\frac{1}{x}\\right)\\, dx = x - e^{x} + \\log{\\left(x \\right)}$"
      ],
      "text/plain": [
       "Eq(Integral(-exp(x) + 1 + 1/x, x), x - exp(x) + log(x))"
      ]
     },
     "metadata": {},
     "output_type": "display_data"
    },
    {
     "data": {
      "text/latex": [
       "$\\displaystyle \\frac{d}{d x} \\left(- x + \\sqrt[3]{\\cos{\\left(x \\right)}} - 1\\right) = - \\frac{\\sin{\\left(x \\right)}}{3 \\cos^{\\frac{2}{3}}{\\left(x \\right)}} - 1$"
      ],
      "text/plain": [
       "Eq(Derivative(-x + cos(x)**(1/3) - 1, x), -sin(x)/(3*cos(x)**(2/3)) - 1)"
      ]
     },
     "metadata": {},
     "output_type": "display_data"
    },
    {
     "data": {
      "text/latex": [
       "$\\displaystyle \\int \\left(\\sqrt[4]{x} - e^{x}\\right)\\, dx = \\frac{4 x^{\\frac{5}{4}}}{5} - e^{x}$"
      ],
      "text/plain": [
       "Eq(Integral(x**(1/4) - exp(x), x), 4*x**(5/4)/5 - exp(x))"
      ]
     },
     "metadata": {},
     "output_type": "display_data"
    },
    {
     "data": {
      "text/latex": [
       "$\\displaystyle \\frac{d}{d x} e^{- x} \\tan{\\left(x \\right)} = \\left(- \\tan{\\left(x \\right)} + \\frac{1}{\\cos^{2}{\\left(x \\right)}}\\right) e^{- x}$"
      ],
      "text/plain": [
       "Eq(Derivative(exp(-x)*tan(x), x), (-tan(x) + cos(x)**(-2))*exp(-x))"
      ]
     },
     "metadata": {},
     "output_type": "display_data"
    },
    {
     "data": {
      "text/latex": [
       "$\\displaystyle \\int \\left(x + e^{x}\\right)\\, dx = \\frac{x^{2}}{2} + e^{x}$"
      ],
      "text/plain": [
       "Eq(Integral(x + exp(x), x), x**2/2 + exp(x))"
      ]
     },
     "metadata": {},
     "output_type": "display_data"
    },
    {
     "data": {
      "text/latex": [
       "$\\displaystyle \\frac{d}{d x} \\left(- x - 1 + e^{- x}\\right) = -1 - e^{- x}$"
      ],
      "text/plain": [
       "Eq(Derivative(-x - 1 + exp(-x), x), -1 - exp(-x))"
      ]
     },
     "metadata": {},
     "output_type": "display_data"
    },
    {
     "data": {
      "text/latex": [
       "$\\displaystyle \\int 1\\, dx = x$"
      ],
      "text/plain": [
       "Eq(Integral(1, x), x)"
      ]
     },
     "metadata": {},
     "output_type": "display_data"
    },
    {
     "data": {
      "text/latex": [
       "$\\displaystyle \\frac{d}{d x} \\left(- \\frac{2 \\sin{\\left(x \\right)}}{\\sqrt[3]{x}}\\right) = \\frac{2 \\left(- 3 x \\cos{\\left(x \\right)} + \\sin{\\left(x \\right)}\\right)}{3 x^{\\frac{4}{3}}}$"
      ],
      "text/plain": [
       "Eq(Derivative(-2*sin(x)/x**(1/3), x), 2*(-3*x*cos(x) + sin(x))/(3*x**(4/3)))"
      ]
     },
     "metadata": {},
     "output_type": "display_data"
    },
    {
     "data": {
      "text/latex": [
       "$\\displaystyle \\int \\left(e^{x} + \\log{\\left(x \\right)}\\right)\\, dx = x \\log{\\left(x \\right)} - x + e^{x}$"
      ],
      "text/plain": [
       "Eq(Integral(exp(x) + log(x), x), x*log(x) - x + exp(x))"
      ]
     },
     "metadata": {},
     "output_type": "display_data"
    },
    {
     "data": {
      "text/latex": [
       "$\\displaystyle \\frac{d}{d x} \\sin{\\left(x \\right)} = \\cos{\\left(x \\right)}$"
      ],
      "text/plain": [
       "Eq(Derivative(sin(x), x), cos(x))"
      ]
     },
     "metadata": {},
     "output_type": "display_data"
    },
    {
     "data": {
      "text/latex": [
       "$\\displaystyle \\int \\left(- 2 x^{\\frac{5}{6}}\\right)\\, dx = - \\frac{12 x^{\\frac{11}{6}}}{11}$"
      ],
      "text/plain": [
       "Eq(Integral(-2*x**(5/6), x), -12*x**(11/6)/11)"
      ]
     },
     "metadata": {},
     "output_type": "display_data"
    },
    {
     "data": {
      "text/latex": [
       "$\\displaystyle \\frac{d}{d x} \\frac{\\log{\\left(x - 1 \\right)}}{\\sqrt{x}} = \\frac{x - \\frac{\\left(x - 1\\right) \\log{\\left(x - 1 \\right)}}{2}}{x^{\\frac{3}{2}} \\left(x - 1\\right)}$"
      ],
      "text/plain": [
       "Eq(Derivative(log(x - 1)/sqrt(x), x), (x - (x - 1)*log(x - 1)/2)/(x**(3/2)*(x - 1)))"
      ]
     },
     "metadata": {},
     "output_type": "display_data"
    },
    {
     "data": {
      "text/latex": [
       "$\\displaystyle \\int 1\\, dx = x$"
      ],
      "text/plain": [
       "Eq(Integral(1, x), x)"
      ]
     },
     "metadata": {},
     "output_type": "display_data"
    },
    {
     "data": {
      "text/latex": [
       "$\\displaystyle \\frac{d}{d x} \\frac{\\sin{\\left(x \\right)}}{\\sqrt[3]{x}} = \\frac{x \\cos{\\left(x \\right)} - \\frac{\\sin{\\left(x \\right)}}{3}}{x^{\\frac{4}{3}}}$"
      ],
      "text/plain": [
       "Eq(Derivative(sin(x)/x**(1/3), x), (x*cos(x) - sin(x)/3)/x**(4/3))"
      ]
     },
     "metadata": {},
     "output_type": "display_data"
    },
    {
     "data": {
      "text/latex": [
       "$\\displaystyle \\int \\left(\\log{\\left(\\sin{\\left(x \\right)} \\right)} - 1\\right)\\, dx = - x + \\int \\log{\\left(\\sin{\\left(x \\right)} \\right)}\\, dx$"
      ],
      "text/plain": [
       "Eq(Integral(log(sin(x)) - 1, x), -x + Integral(log(sin(x)), x))"
      ]
     },
     "metadata": {},
     "output_type": "display_data"
    },
    {
     "data": {
      "text/latex": [
       "$\\displaystyle \\frac{d}{d x} \\left(- \\frac{2}{x^{\\frac{3}{2}}}\\right) = \\frac{3}{x^{\\frac{5}{2}}}$"
      ],
      "text/plain": [
       "Eq(Derivative(-2/x**(3/2), x), 3/x**(5/2))"
      ]
     },
     "metadata": {},
     "output_type": "display_data"
    },
    {
     "data": {
      "text/latex": [
       "$\\displaystyle \\int \\log{\\left(x \\right)}\\, dx = x \\left(\\log{\\left(x \\right)} - 1\\right)$"
      ],
      "text/plain": [
       "Eq(Integral(log(x), x), x*(log(x) - 1))"
      ]
     },
     "metadata": {},
     "output_type": "display_data"
    },
    {
     "data": {
      "text/latex": [
       "$\\displaystyle \\frac{d}{d x} \\sin{\\left(\\log{\\left(\\cos{\\left(x \\right)} \\right)} \\right)} = - \\cos{\\left(\\log{\\left(\\cos{\\left(x \\right)} \\right)} \\right)} \\tan{\\left(x \\right)}$"
      ],
      "text/plain": [
       "Eq(Derivative(sin(log(cos(x))), x), -cos(log(cos(x)))*tan(x))"
      ]
     },
     "metadata": {},
     "output_type": "display_data"
    },
    {
     "data": {
      "text/latex": [
       "$\\displaystyle \\int \\left(- 2 \\sin{\\left(x \\right)}\\right)\\, dx = 2 \\cos{\\left(x \\right)}$"
      ],
      "text/plain": [
       "Eq(Integral(-2*sin(x), x), 2*cos(x))"
      ]
     },
     "metadata": {},
     "output_type": "display_data"
    },
    {
     "data": {
      "text/latex": [
       "$\\displaystyle \\frac{d}{d x} e^{2 x} = 2 e^{2 x}$"
      ],
      "text/plain": [
       "Eq(Derivative(exp(2*x), x), 2*exp(2*x))"
      ]
     },
     "metadata": {},
     "output_type": "display_data"
    },
    {
     "data": {
      "text/latex": [
       "$\\displaystyle \\int \\left(x - 2\\right) \\sqrt[3]{e^{x}}\\, dx = 3 \\left(x - 5\\right) \\sqrt[3]{e^{x}}$"
      ],
      "text/plain": [
       "Eq(Integral((x - 2)*exp(x)**(1/3), x), 3*(x - 5)*exp(x)**(1/3))"
      ]
     },
     "metadata": {},
     "output_type": "display_data"
    }
   ],
   "source": [
    "from sympy import sin,cos,log,exp,tan,Function,Derivative,Eq,Integral,Rational\n",
    "from sympy import factor_terms,simplify, sqrt, cbrt\n",
    "from sympy.abc import x\n",
    "import random\n",
    "f = Function('f')\n",
    "g = Function('g')\n",
    "h = Function('h')\n",
    "def random_math(x):\n",
    "    allowed_values = list(range(-2, 2))\n",
    "    allowed_values.remove(0)\n",
    "    random_value = random.choice(allowed_values)\n",
    "    random_value2 = random.choice(allowed_values)\n",
    "    def power_function(x):      \n",
    "        return x**(Rational(random_value,random_value2))\n",
    "    def scalar_function(x):\n",
    "        return x*random_value\n",
    "    def addSUBTR_function(x): \n",
    "        return x+random_value\n",
    "    funs = [sin,power_function,log,exp,cos,tan,sqrt,cbrt,\n",
    "            scalar_function,addSUBTR_function]     \n",
    "    operations = [f(g(x)),f(x)+g(x),f(x)-g(x),f(x)/g(x),f(x)*g(x),\n",
    "                 f(g(h(x))),f(h(x))+g(x),f(h(x))-g(x),f(h(x))/g(x),f(x)/g(h(x)),f(h(x))*g(x)]\n",
    "    operation = operations[random.randrange(0,len(operations))]\n",
    "    return [[[operation.replace(f, i) for i in funs][random.randrange(0,len(funs))].replace(g, i) for i in funs]\\\n",
    "[random.randrange(0,len(funs))].replace(h, i) for i in funs][random.randrange(0,len(funs))]\n",
    "\n",
    "\n",
    "for i in range(1,31):  \n",
    "    practice1 = Derivative(simplify(random_math(x)),x)\n",
    "    practice2 = Integral(simplify(random_math(x)),x)\n",
    "    p1eq = Eq(practice1,practice1.doit().simplify(),evaluate=False)\n",
    "    p2eq = Eq(practice2,practice2.doit().simplify(),evaluate=False)\n",
    "    if str(factor_terms(p2eq.lhs)) != str(p2eq.rhs):    \n",
    "        if str(p2eq).find(\"Ei\") == -1 and str(p2eq).find(\"gamma\") == -1 and str(p2eq).find(\"Piecewise\") == -1\\\n",
    "        and str(p2eq).find(\"li\") == -1 and str(p2eq).find(\"erf\") == -1 and str(p2eq).find(\"atan\") == -1\\\n",
    "        and str(p2eq).find(\"Si\") == -1 and str(p2eq).find(\"Ci\") == -1 and str(p2eq).find(\"hyper\") == -1\\\n",
    "        and str(p2eq).find(\"fresnel\") == -1 and str(p2eq).find(\"Li\") == -1: \n",
    "            if  practice1.doit != 0: \n",
    "                display(p1eq)\n",
    "            display(p2eq)\n",
    "        else:\n",
    "            pass\n",
    "            #print(\"Error: Complex Integral\")\n",
    "  \n",
    "    else:\n",
    "        pass\n",
    "       # print(\"Error: Impossible Integral\")       "
   ]
  }
 ],
 "metadata": {
  "kernelspec": {
   "display_name": "Python 3 (ipykernel)",
   "language": "python",
   "name": "python3"
  },
  "language_info": {
   "codemirror_mode": {
    "name": "ipython",
    "version": 3
   },
   "file_extension": ".py",
   "mimetype": "text/x-python",
   "name": "python",
   "nbconvert_exporter": "python",
   "pygments_lexer": "ipython3",
   "version": "3.8.10"
  }
 },
 "nbformat": 4,
 "nbformat_minor": 5
}
