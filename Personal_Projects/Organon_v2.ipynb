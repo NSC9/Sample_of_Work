{
 "cells": [
  {
   "cell_type": "code",
   "execution_count": 217,
   "metadata": {},
   "outputs": [
    {
     "data": {
      "text/plain": [
       "'Since the sky is cloudy,the month is June,and the area is Indiana, then it is possibile for rain to fall.'"
      ]
     },
     "execution_count": 217,
     "metadata": {},
     "output_type": "execute_result"
    }
   ],
   "source": [
    "from sympy import Function,symbols\n",
    "p1,p2,p3,pn,dps = symbols(\"p1 p2 p3 pn dps\")\n",
    "Argument = {                  # this line of code creates a python dictionary. \n",
    "    p1: \"the sky is cloudy\",  # p1 = the first proposition\n",
    "    p2: \"the month is June\",\n",
    "    p3: \"the area is Indiana\",\n",
    "}\n",
    "Argument[dps]=\"Since {},{},and {}, then it is possibile for rain to fall.\".format(Argument[p1],Argument[p2],Argument[p3])\n",
    "    # the line above this adds a new element to our dictionary'Argument'\n",
    "Argument[dps]"
   ]
  },
  {
   "cell_type": "code",
   "execution_count": 167,
   "metadata": {},
   "outputs": [
    {
     "name": "stdout",
     "output_type": "stream",
     "text": [
      "\n",
      "We see that there is a fundamental relation to Aristotles syllogism and mathematics. \n",
      "Derivatives in Calculus can be analogous to the conlusions of an argument.\n",
      "\n",
      "In Calculus we take a set X that contains all real numbers and a set Y that contains all real numbers\n",
      "and assign each element of X exactly one element of Y. This is the same assignment we did in the block of code above.\n",
      "\n"
     ]
    }
   ],
   "source": [
    "print(\"\"\"\n",
    "We see that there is a fundamental relation to Aristotles syllogism and mathematics. \n",
    "Derivatives in Calculus can be analogous to the conlusions of an argument.\n",
    "\n",
    "In Calculus we take a set X that contains all real numbers {x_n} and a set Y {y_n} that contains all real numbers\n",
    "and assign each element of X exactly one element of Y. This is the same assignment we did in the block of code above.\n",
    "\n",
    "We could look at it differently\n",
    "\"\"\")\n"
   ]
  },
  {
   "cell_type": "code",
   "execution_count": 187,
   "metadata": {
    "scrolled": true
   },
   "outputs": [
    {
     "name": "stdout",
     "output_type": "stream",
     "text": [
      "October\n",
      "January\n",
      "June\n",
      "July\n",
      "March\n",
      "April\n",
      "Novermber\n",
      "February\n",
      "May\n",
      "December\n",
      "September\n",
      "August\n"
     ]
    }
   ],
   "source": [
    "year = { \"January\", \"February\",\"March\",\"April\", \"May\",\"June\",\"July\",\"August\",\"September\",\"October\",\"November\",\"December\"}\n",
    "for i in year:\n",
    "    print(i)"
   ]
  },
  {
   "cell_type": "code",
   "execution_count": 244,
   "metadata": {},
   "outputs": [
    {
     "data": {
      "text/plain": [
       "'January'"
      ]
     },
     "execution_count": 244,
     "metadata": {},
     "output_type": "execute_result"
    }
   ],
   "source": [
    "month = { \n",
    "    1:\"January\",\n",
    "    2: \"February\",\n",
    "    3: \"March\",\n",
    "    4: \"April\",\n",
    "    5:\"May\",\n",
    "    6: \"June\",\n",
    "    7:\"July\",\n",
    "    8:\"August\",\n",
    "    9:\"September\",\n",
    "    10:\"October\",\n",
    "    11:\"November\",\n",
    "    12:\"December\"\n",
    "}\n",
    "month[1]"
   ]
  },
  {
   "cell_type": "code",
   "execution_count": 245,
   "metadata": {},
   "outputs": [
    {
     "name": "stdout",
     "output_type": "stream",
     "text": [
      "January\n",
      "February\n",
      "March\n",
      "April\n",
      "May\n"
     ]
    }
   ],
   "source": [
    "for i in range(1,6):\n",
    "    print(month[i])"
   ]
  },
  {
   "cell_type": "code",
   "execution_count": 277,
   "metadata": {},
   "outputs": [
    {
     "data": {
      "text/plain": [
       "{x1: y6, x2: y3, x3: y12}"
      ]
     },
     "execution_count": 277,
     "metadata": {},
     "output_type": "execute_result"
    }
   ],
   "source": [
    "x1,x2,x3,y6,y3,y12,dx  = symbols(\"x1 x2 x3 y6 y3 y12 dx1\")\n",
    "# a function assigns each element of set X where X = {all real numbers} to exactly one element of\n",
    "# set Y {all real numbers}\n",
    "function = { \n",
    "    x1:y6,\n",
    "    x2:y3,\n",
    "    x3:y12,\n",
    "}\n",
    "function"
   ]
  },
  {
   "cell_type": "code",
   "execution_count": 278,
   "metadata": {
    "scrolled": true
   },
   "outputs": [
    {
     "name": "stdout",
     "output_type": "stream",
     "text": [
      "\n",
      "We can analogize Aristotle's syllogism here and say x1,x2,x3 are propositions \"x1 IS y6\" like \"The sky IS cloudy\"\n",
      "Arguments can be defined as requiring 2 or more propositions AND a conclusion (derivation) of the original propositions\n",
      "\n",
      "So we can come to some conclusion based on our 3 propositions like \"the output f(x) increased, later decreased, and even later increased again\"  \n",
      "\n"
     ]
    }
   ],
   "source": [
    "print(\"\"\"\n",
    "We can analogize Aristotle's syllogism here and say x1,x2,x3 are propositions \"x1 IS y6\" like \"The sky IS cloudy\"\n",
    "Arguments can be defined as requiring 2 or more propositions AND a conclusion (derivation) of the original propositions\n",
    "\n",
    "So we can come to some conclusion based on our 3 propositions like \"the output f(x) increased, later decreased, and even later increased again\"  \n",
    "\"\"\")"
   ]
  }
 ],
 "metadata": {
  "kernelspec": {
   "display_name": "Python 3",
   "language": "python",
   "name": "python3"
  },
  "language_info": {
   "codemirror_mode": {
    "name": "ipython",
    "version": 3
   },
   "file_extension": ".py",
   "mimetype": "text/x-python",
   "name": "python",
   "nbconvert_exporter": "python",
   "pygments_lexer": "ipython3",
   "version": "3.8.10"
  }
 },
 "nbformat": 4,
 "nbformat_minor": 4
}
