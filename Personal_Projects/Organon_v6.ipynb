{
 "cells": [
  {
   "cell_type": "code",
   "execution_count": 3,
   "metadata": {},
   "outputs": [
    {
     "data": {
      "text/plain": [
       "{p1: 'the sky is cloudy',\n",
       " p2: 'the month is June',\n",
       " p3: 'the area is Indiana',\n",
       " dps: 'Since the sky is cloudy,the month is June,and the area is Indiana, then it is possibile for rain to fall.'}"
      ]
     },
     "execution_count": 3,
     "metadata": {},
     "output_type": "execute_result"
    }
   ],
   "source": [
    "from sympy import symbols\n",
    "p1,p2,p3,dps = symbols(\"p1 p2 p3 dps\")\n",
    "\n",
    "Argument = {                  # this line creates a python dictionary. \n",
    "    p1: \"the sky is cloudy\",  # p1 = the first proposition\n",
    "    p2: \"the month is June\",\n",
    "    p3: \"the area is Indiana\",\n",
    "}\n",
    "\n",
    "Argument[dps]=\"Since {},{},and {}, then it is possibile for rain to fall.\".format(Argument[p1],Argument[p2],Argument[p3])\n",
    "    # the line adds a new element to our dictionary'Argument' \n",
    "    # this is the derivative (conclusion) of the first 3 propositions\n",
    "    \n",
    "Argument"
   ]
  },
  {
   "cell_type": "code",
   "execution_count": 5,
   "metadata": {},
   "outputs": [
    {
     "data": {
      "text/plain": [
       "{1: 6, 2: 3, 3: 12}"
      ]
     },
     "execution_count": 5,
     "metadata": {},
     "output_type": "execute_result"
    }
   ],
   "source": [
    "function_of_x = { \n",
    "    1:6,            \n",
    "    2:3,\n",
    "    3:12,\n",
    "}\n",
    "\n",
    "function_of_x"
   ]
  },
  {
   "cell_type": "code",
   "execution_count": null,
   "metadata": {
    "scrolled": true
   },
   "outputs": [],
   "source": [
    "\"\"\"\n",
    "\n",
    "We see that there is a fundamental relation to Aristotles syllogism and mathematics. \n",
    "Derivatives in Calculus can be analogous to the conclusions of an argument.\n",
    "\n",
    "Functions take set X and set Y and assigns each element of X exactly one element of Y. This is similar to what\n",
    "was done with our dictionary Argument = {x:y, ...} \n",
    "\n",
    "We can analogize Aristotle's syllogism here.\n",
    "\n",
    "When you paint four houses, you can get one candy bar\n",
    "x = 4 houses painted, y = 1 candy bar\n",
    "These coordinates or points (x,y) are relational in some way. \n",
    "\n",
    "Arguments can be defined as requiring 2 or more propositions AND a conclusion (derivation) of the \n",
    "original propositions\n",
    "\n",
    "Since I painted four houses today and last time I painted 4 house I received 1 candy bar, then I should be \n",
    "rewarded with another candy bar.\n",
    "\n",
    "So we can come to some conclusion based on our 3 propositions such as \"the output f(x) had increased,\n",
    "later on decreased, and even later increased once again.\n",
    "\n",
    "\"\"\""
   ]
  }
 ],
 "metadata": {
  "kernelspec": {
   "display_name": "Python 3",
   "language": "python",
   "name": "python3"
  },
  "language_info": {
   "codemirror_mode": {
    "name": "ipython",
    "version": 3
   },
   "file_extension": ".py",
   "mimetype": "text/x-python",
   "name": "python",
   "nbconvert_exporter": "python",
   "pygments_lexer": "ipython3",
   "version": "3.8.10"
  }
 },
 "nbformat": 4,
 "nbformat_minor": 4
}
