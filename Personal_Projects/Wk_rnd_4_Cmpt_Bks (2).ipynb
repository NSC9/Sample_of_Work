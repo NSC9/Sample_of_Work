{
 "cells": [
  {
   "cell_type": "code",
   "execution_count": 1,
   "id": "e9184b68",
   "metadata": {},
   "outputs": [],
   "source": [
    "# Includes an expression that takes the average of several integrals. I was thinking that one way \n",
    "# you could get a better approximation of a function would be by assuming computational speed is a \n",
    "# bottleneck dx,so as dx approaches infinity or \"computational speed gets better and better but there\n",
    "# is still bottleneck dx that limits how accurate one sum can be,\" \n",
    "# then you could change the Function ever so slightly and then take an average of those variations. "
   ]
  },
  {
   "cell_type": "code",
   "execution_count": 2,
   "id": "57956d1e",
   "metadata": {},
   "outputs": [
    {
     "data": {
      "text/latex": [
       "$\\displaystyle \\int \\operatorname{F_{1}}{\\left(x \\right)}\\, dx + \\int \\operatorname{F_{2}}{\\left(x \\right)}\\, dx + \\int \\operatorname{F_{3}}{\\left(x \\right)}\\, dx + \\int \\operatorname{F_{4}}{\\left(x \\right)}\\, dx$"
      ],
      "text/plain": [
       "Integral(F_1(x), x) + Integral(F_2(x), x) + Integral(F_3(x), x) + Integral(F_4(x), x)"
      ]
     },
     "execution_count": 2,
     "metadata": {},
     "output_type": "execute_result"
    }
   ],
   "source": [
    "from sympy import *\n",
    "F = Function(\"F\")\n",
    "F_1 = Function(\"F_1\")\n",
    "F_2 = Function(\"F_2\")\n",
    "F_3  = Function(\"F_3\")\n",
    "F_4 = Function(\"F_4\")\n",
    "F_n = Function(\"F_n\")\n",
    "x,df,dx = symbols('x df dx')\n",
    "e0 = Integral(F_1(x))+Integral(F_2(x))+Integral(F_3(x))+Integral(F_4(x))\n",
    "e0"
   ]
  },
  {
   "cell_type": "code",
   "execution_count": 3,
   "id": "4a3ae9eb",
   "metadata": {},
   "outputs": [
    {
     "data": {
      "text/latex": [
       "$\\displaystyle \\frac{\\int \\operatorname{F_{1}}{\\left(x \\right)}\\, dx + \\int \\operatorname{F_{2}}{\\left(x \\right)}\\, dx + \\int \\operatorname{F_{3}}{\\left(x \\right)}\\, dx + \\int \\operatorname{F_{4}}{\\left(x \\right)}\\, dx}{4}$"
      ],
      "text/plain": [
       "(Integral(F_1(x), x) + Integral(F_2(x), x) + Integral(F_3(x), x) + Integral(F_4(x), x))/4"
      ]
     },
     "execution_count": 3,
     "metadata": {},
     "output_type": "execute_result"
    }
   ],
   "source": [
    "e1 = factor(e0/4)\n",
    "e1"
   ]
  },
  {
   "cell_type": "code",
   "execution_count": 4,
   "id": "4565a411",
   "metadata": {},
   "outputs": [
    {
     "data": {
      "text/latex": [
       "$\\displaystyle \\lim_{dx \\to \\infty}\\left(\\frac{\\int \\operatorname{F_{1}}{\\left(x \\right)}\\, dx + \\int \\operatorname{F_{2}}{\\left(x \\right)}\\, dx + \\int \\operatorname{F_{3}}{\\left(x \\right)}\\, dx + \\int \\operatorname{F_{4}}{\\left(x \\right)}\\, dx}{4}\\right)$"
      ],
      "text/plain": [
       "Limit((Integral(F_1(x), x) + Integral(F_2(x), x) + Integral(F_3(x), x) + Integral(F_4(x), x))/4, dx, oo, dir='-')"
      ]
     },
     "execution_count": 4,
     "metadata": {},
     "output_type": "execute_result"
    }
   ],
   "source": [
    "Limit(e1,dx,oo)"
   ]
  },
  {
   "cell_type": "code",
   "execution_count": 7,
   "id": "66e86ccf",
   "metadata": {},
   "outputs": [
    {
     "data": {
      "text/latex": [
       "$\\displaystyle df F{\\left(x \\right)} = \\operatorname{F_{n}}{\\left(x \\right)}$"
      ],
      "text/plain": [
       "Eq(df*F(x), F_n(x))"
      ]
     },
     "execution_count": 7,
     "metadata": {},
     "output_type": "execute_result"
    }
   ],
   "source": [
    "Eq(df*F(x),F_n(x))"
   ]
  },
  {
   "cell_type": "code",
   "execution_count": null,
   "id": "bb138381",
   "metadata": {},
   "outputs": [],
   "source": []
  },
  {
   "cell_type": "code",
   "execution_count": null,
   "id": "5608eaf1",
   "metadata": {},
   "outputs": [],
   "source": []
  },
  {
   "cell_type": "code",
   "execution_count": 8,
   "id": "3848c56f",
   "metadata": {},
   "outputs": [
    {
     "data": {
      "text/html": [
       "<img src=\"https://i.imgur.com/LwgqgvP.png\"/>"
      ],
      "text/plain": [
       "<IPython.core.display.Image object>"
      ]
     },
     "execution_count": 8,
     "metadata": {},
     "output_type": "execute_result"
    }
   ],
   "source": [
    "# image of original notebook\n",
    "#      github notebook display was not displaying F_1 subscripts correctly\n",
    "from IPython.display import Image\n",
    "from IPython.core.display import HTML \n",
    "Image(url= \"https://i.imgur.com/LwgqgvP.png\")"
   ]
  }
 ],
 "metadata": {
  "kernelspec": {
   "display_name": "Python 3 (ipykernel)",
   "language": "python",
   "name": "python3"
  },
  "language_info": {
   "codemirror_mode": {
    "name": "ipython",
    "version": 3
   },
   "file_extension": ".py",
   "mimetype": "text/x-python",
   "name": "python",
   "nbconvert_exporter": "python",
   "pygments_lexer": "ipython3",
   "version": "3.9.6"
  }
 },
 "nbformat": 4,
 "nbformat_minor": 5
}
