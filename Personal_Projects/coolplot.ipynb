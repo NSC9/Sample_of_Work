{
 "cells": [
  {
   "cell_type": "code",
   "execution_count": 19,
   "id": "a0ec8c3a-5ce9-4962-9898-2759b426fe31",
   "metadata": {},
   "outputs": [],
   "source": [
    "from sympy import *\n",
    "from sympy.abc import *\n",
    "from sympy import E\n"
   ]
  },
  {
   "cell_type": "code",
   "execution_count": 20,
   "id": "980e9d1d-6f27-41fb-ae58-32d2a2a43021",
   "metadata": {},
   "outputs": [
    {
     "name": "stdout",
     "output_type": "stream",
     "text": [
      "f( 0 ) =  1.00000000000000\n",
      "f( 1000 ) =  2.71692393223589\n",
      "f( 2000 ) =  2.71760256932314\n",
      "f( 3000 ) =  2.71782891987462\n",
      "f( 4000 ) =  2.71794212107936\n",
      "f( 5000 ) =  2.71801005010185\n",
      "f( 6000 ) =  2.71805533957559\n",
      "f( 7000 ) =  2.71808769089394\n",
      "f( 8000 ) =  2.71811195530931\n",
      "f( 9000 ) =  2.71813082818150\n",
      "f( 10000 ) =  2.71814592682522\n"
     ]
    }
   ],
   "source": [
    "f = (1+(1/x))**x\n",
    "for i in range(0,10001,1000):\n",
    "    print(\"f(\",i,\") = \",f.subs(x,i).evalf())"
   ]
  },
  {
   "cell_type": "code",
   "execution_count": 21,
   "id": "05e064ad-fb06-44b9-8c70-a956284be26e",
   "metadata": {},
   "outputs": [
    {
     "name": "stdout",
     "output_type": "stream",
     "text": [
      "g( 0 ) =  2.71828182845905\n",
      "g( 1 ) =  2.71828182845905\n",
      "g( 2 ) =  2.71828182845905\n",
      "g( 3 ) =  2.71828182845905\n",
      "g( 4 ) =  2.71828182845905\n",
      "g( 5 ) =  2.71828182845905\n",
      "g( 6 ) =  2.71828182845905\n",
      "g( 7 ) =  2.71828182845905\n",
      "g( 8 ) =  2.71828182845905\n",
      "g( 9 ) =  2.71828182845905\n"
     ]
    }
   ],
   "source": [
    "g = Sum(1/factorial(x),(x,0,oo))\n",
    "for i in range(0,10,1):\n",
    "    print(\"g(\",i,\") = \",g.subs(x,i).evalf())\n"
   ]
  },
  {
   "cell_type": "code",
   "execution_count": 22,
   "id": "1816724b-e33b-4972-9112-3f1c680341eb",
   "metadata": {},
   "outputs": [
    {
     "data": {
      "text/latex": [
       "$\\displaystyle \\int\\limits_{1}^{e} \\frac{1}{4 t}\\, dt$"
      ],
      "text/plain": [
       "Integral(1/(4*t), (t, 1, E))"
      ]
     },
     "execution_count": 22,
     "metadata": {},
     "output_type": "execute_result"
    }
   ],
   "source": [
    "Integral(1/t/4,(t,1,E))"
   ]
  },
  {
   "cell_type": "code",
   "execution_count": 23,
   "id": "ad7c393a-a5cb-4941-8515-7e269ed51036",
   "metadata": {},
   "outputs": [
    {
     "data": {
      "image/png": "[encoded data removed]",
      "text/plain": [
       "<Figure size 432x288 with 1 Axes>"
      ]
     },
     "metadata": {
      "needs_background": "light"
     },
     "output_type": "display_data"
    },
    {
     "data": {
      "text/plain": [
       "<sympy.plotting.plot.Plot at 0x7f0da545f610>"
      ]
     },
     "execution_count": 23,
     "metadata": {},
     "output_type": "execute_result"
    }
   ],
   "source": [
    "plot(1/t/4,yscale='log',xlim = (0,E))"
   ]
  },
  {
   "cell_type": "code",
   "execution_count": 24,
   "id": "65c88909-b5f8-484c-9494-c32a2f289a92",
   "metadata": {},
   "outputs": [
    {
     "name": "stdout",
     "output_type": "stream",
     "text": [
      "exp(x)\n"
     ]
    }
   ],
   "source": [
    "h = Sum((x**n)/factorial(n),(n,0,oo))\n",
    "print(h.doit())"
   ]
  },
  {
   "cell_type": "code",
   "execution_count": 25,
   "id": "d9b26be1-adde-4c82-bd83-3e460efc0e81",
   "metadata": {},
   "outputs": [
    {
     "data": {
      "text/latex": [
       "$\\displaystyle \\sum_{x=0}^{\\infty} \\frac{1}{x!}$"
      ],
      "text/plain": [
       "Sum(1/factorial(x), (x, 0, oo))"
      ]
     },
     "execution_count": 25,
     "metadata": {},
     "output_type": "execute_result"
    }
   ],
   "source": [
    "g"
   ]
  },
  {
   "cell_type": "code",
   "execution_count": 26,
   "id": "2a77647c-e9da-44f0-a513-d0a66e112553",
   "metadata": {},
   "outputs": [
    {
     "data": {
      "text/latex": [
       "$\\displaystyle \\lim_{n \\to \\infty} \\left(1 + \\frac{1}{n}\\right)^{n}$"
      ],
      "text/plain": [
       "Limit((1 + 1/n)**n, n, oo, dir='-')"
      ]
     },
     "execution_count": 26,
     "metadata": {},
     "output_type": "execute_result"
    }
   ],
   "source": [
    "Limit((1+(1/n))**n,n,oo)"
   ]
  },
  {
   "cell_type": "code",
   "execution_count": 27,
   "id": "3a12fe1c-3c1a-4005-bd6c-16dd89fe4113",
   "metadata": {},
   "outputs": [
    {
     "data": {
      "text/latex": [
       "$\\displaystyle 148.413159102577$"
      ],
      "text/plain": [
       "148.413159102577"
      ]
     },
     "execution_count": 27,
     "metadata": {},
     "output_type": "execute_result"
    }
   ],
   "source": [
    "from sympy import E,Sum,factorial,oo\n",
    "from sympy.abc import x,n\n",
    "(E**5).evalf()"
   ]
  },
  {
   "cell_type": "code",
   "execution_count": 28,
   "id": "b5ee1d5e-75d8-4308-895d-39b06e040dc6",
   "metadata": {},
   "outputs": [
    {
     "name": "stdout",
     "output_type": "stream",
     "text": [
      "exp(x)\n"
     ]
    }
   ],
   "source": [
    "h = Sum((x**n)/factorial(n),(n,0,oo))\n",
    "print(h.doit())"
   ]
  },
  {
   "cell_type": "code",
   "execution_count": 29,
   "id": "862ad595-7ee8-4263-bd64-f4ab75585ebf",
   "metadata": {},
   "outputs": [
    {
     "data": {
      "text/latex": [
       "$\\displaystyle 148.41315910258$"
      ],
      "text/plain": [
       "148.41315910258"
      ]
     },
     "execution_count": 29,
     "metadata": {},
     "output_type": "execute_result"
    }
   ],
   "source": [
    "h.subs(x,5).evalf()"
   ]
  },
  {
   "cell_type": "code",
   "execution_count": 144,
   "id": "349a475f-0253-463b-be0d-3ee1529d9e09",
   "metadata": {},
   "outputs": [
    {
     "data": {
      "image/png": "[encoded data removed]",
      "text/plain": [
       "<Figure size 432x288 with 1 Axes>"
      ]
     },
     "metadata": {
      "needs_background": "light"
     },
     "output_type": "display_data"
    },
    {
     "data": {
      "text/plain": [
       "<sympy.plotting.plot.Plot at 0x7f0d9df951c0>"
      ]
     },
     "execution_count": 144,
     "metadata": {},
     "output_type": "execute_result"
    }
   ],
   "source": [
    "from sympy import pi\n",
    "plot(exp(sin(t)),exp(-sin(t)),exp(t),exp(t)**-1,yscale='log',xlim = (-2*pi,2*pi),legend=True)"
   ]
  },
  {
   "cell_type": "code",
   "execution_count": 102,
   "id": "fa1e698e-47e4-45f9-8570-05a4f33f06fd",
   "metadata": {},
   "outputs": [
    {
     "data": {
      "text/latex": [
       "$\\displaystyle e^{\\sin{\\left(t \\right)}} \\cos{\\left(t \\right)}$"
      ],
      "text/plain": [
       "exp(sin(t))*cos(t)"
      ]
     },
     "execution_count": 102,
     "metadata": {},
     "output_type": "execute_result"
    }
   ],
   "source": [
    "diff(exp(sin(t)))"
   ]
  },
  {
   "cell_type": "code",
   "execution_count": 22,
   "id": "5881e233-2457-4e46-bb02-2f294d076c5c",
   "metadata": {},
   "outputs": [
    {
     "data": {
      "image/png": "[encoded data removed]",
      "text/plain": [
       "<Figure size 432x288 with 1 Axes>"
      ]
     },
     "metadata": {
      "needs_background": "light"
     },
     "output_type": "display_data"
    },
    {
     "data": {
      "text/plain": [
       "<sympy.plotting.plot.Plot at 0x7fe3010c8fd0>"
      ]
     },
     "execution_count": 22,
     "metadata": {},
     "output_type": "execute_result"
    }
   ],
   "source": [
    "from sympy import E\n",
    "from sympy.abc import x\n",
    "plot(E**(2*x),x**2)"
   ]
  },
  {
   "cell_type": "code",
   "execution_count": 111,
   "id": "535cdd54-0ba8-4623-b6ec-323d4f4eca90",
   "metadata": {},
   "outputs": [
    {
     "data": {
      "text/latex": [
       "$\\displaystyle \\frac{x^{10}}{11} + \\frac{10 x^{9}}{11} + \\frac{90 x^{8}}{11} + \\frac{720 x^{7}}{11} + \\frac{5040 x^{6}}{11} + \\frac{30240 x^{5}}{11} + \\frac{151200 x^{4}}{11} + \\frac{604800 x^{3}}{11} + \\frac{1814400 x^{2}}{11} + \\frac{3628800 x}{11} + \\frac{3628800}{11}$"
      ],
      "text/plain": [
       "x**10/11 + 10*x**9/11 + 90*x**8/11 + 720*x**7/11 + 5040*x**6/11 + 30240*x**5/11 + 151200*x**4/11 + 604800*x**3/11 + 1814400*x**2/11 + 3628800*x/11 + 3628800/11"
      ]
     },
     "execution_count": 111,
     "metadata": {},
     "output_type": "execute_result"
    }
   ],
   "source": [
    "e2"
   ]
  },
  {
   "cell_type": "code",
   "execution_count": null,
   "id": "14bcae96-b601-4945-8350-bbed6a819e33",
   "metadata": {},
   "outputs": [],
   "source": []
  },
  {
   "cell_type": "code",
   "execution_count": null,
   "id": "00c8c41d-e73e-45ae-b0a8-dd17ff875989",
   "metadata": {},
   "outputs": [],
   "source": []
  }
 ],
 "metadata": {
  "kernelspec": {
   "display_name": "Python 3 (ipykernel)",
   "language": "python",
   "name": "python3"
  },
  "language_info": {
   "codemirror_mode": {
    "name": "ipython",
    "version": 3
   },
   "file_extension": ".py",
   "mimetype": "text/x-python",
   "name": "python",
   "nbconvert_exporter": "python",
   "pygments_lexer": "ipython3",
   "version": "3.8.10"
  }
 },
 "nbformat": 4,
 "nbformat_minor": 5
}
