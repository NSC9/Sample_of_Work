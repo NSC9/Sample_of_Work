{
 "cells": [
  {
   "cell_type": "code",
   "execution_count": 1,
   "id": "f17a35fe-dae4-4607-bff9-8686ce41741f",
   "metadata": {},
   "outputs": [
    {
     "data": {
      "text/latex": [
       "$\\displaystyle 148.413159102577$"
      ],
      "text/plain": [
       "148.413159102577"
      ]
     },
     "execution_count": 1,
     "metadata": {},
     "output_type": "execute_result"
    }
   ],
   "source": [
    "from sympy import E,Sum,factorial,oo\n",
    "from sympy.abc import x,n\n",
    "(E**5).evalf()"
   ]
  },
  {
   "cell_type": "code",
   "execution_count": 2,
   "id": "4ae70b53-5df8-40cb-8d9e-5868dddd8542",
   "metadata": {},
   "outputs": [
    {
     "name": "stdout",
     "output_type": "stream",
     "text": [
      "exp(x)\n"
     ]
    }
   ],
   "source": [
    "h = Sum((x**n)/factorial(n),(n,0,oo))\n",
    "print(h.doit())"
   ]
  },
  {
   "cell_type": "code",
   "execution_count": 3,
   "id": "65eea006-3c2b-421d-af7f-0948f4269028",
   "metadata": {},
   "outputs": [
    {
     "data": {
      "text/latex": [
       "$\\displaystyle 148.41315910258$"
      ],
      "text/plain": [
       "148.41315910258"
      ]
     },
     "execution_count": 3,
     "metadata": {},
     "output_type": "execute_result"
    }
   ],
   "source": [
    "h.subs(x,5).evalf()"
   ]
  },
  {
   "cell_type": "code",
   "execution_count": null,
   "id": "ad130657-7c87-414d-88d3-adb3b7d619ba",
   "metadata": {},
   "outputs": [],
   "source": []
  }
 ],
 "metadata": {
  "kernelspec": {
   "display_name": "Python 3 (ipykernel)",
   "language": "python",
   "name": "python3"
  },
  "language_info": {
   "codemirror_mode": {
    "name": "ipython",
    "version": 3
   },
   "file_extension": ".py",
   "mimetype": "text/x-python",
   "name": "python",
   "nbconvert_exporter": "python",
   "pygments_lexer": "ipython3",
   "version": "3.8.10"
  }
 },
 "nbformat": 4,
 "nbformat_minor": 5
}
