{
 "cells": [
  {
   "cell_type": "code",
   "execution_count": 202,
   "id": "cfd1b5b8",
   "metadata": {
    "scrolled": false
   },
   "outputs": [
    {
     "data": {
      "text/latex": [
       "$\\displaystyle u = \\left[\\begin{matrix}5 & -4 & 10 & 6 & -2 & 3 & -8\\end{matrix}\\right]$"
      ],
      "text/plain": [
       "Eq(u, Matrix([[5, -4, 10, 6, -2, 3, -8]]))"
      ]
     },
     "metadata": {},
     "output_type": "display_data"
    },
    {
     "data": {
      "text/latex": [
       "$\\displaystyle v = \\left[\\begin{matrix}7 & -1 & 4 & 9 & 2 & 10 & 4\\end{matrix}\\right]$"
      ],
      "text/plain": [
       "Eq(v, Matrix([[7, -1, 4, 9, 2, 10, 4]]))"
      ]
     },
     "metadata": {},
     "output_type": "display_data"
    },
    {
     "data": {
      "text/latex": [
       "$\\displaystyle u•v = 127$"
      ],
      "text/plain": [
       "Eq(u•v, 127)"
      ]
     },
     "metadata": {},
     "output_type": "display_data"
    },
    {
     "data": {
      "text/latex": [
       "$\\displaystyle ||u|| = \\sqrt{254}$"
      ],
      "text/plain": [
       "Eq(||u||, sqrt(254))"
      ]
     },
     "metadata": {},
     "output_type": "display_data"
    },
    {
     "data": {
      "text/latex": [
       "$\\displaystyle ||v|| = \\sqrt{267}$"
      ],
      "text/plain": [
       "Eq(||v||, sqrt(267))"
      ]
     },
     "metadata": {},
     "output_type": "display_data"
    },
    {
     "data": {
      "text/latex": [
       "$\\displaystyle \\theta = \\frac{180 \\operatorname{acos}{\\left(\\frac{u•v}{||u|| ||v||} \\right)}}{\\pi}$"
      ],
      "text/plain": [
       "Eq(theta, 180*acos(u•v/(||u||*||v||))/pi)"
      ]
     },
     "metadata": {},
     "output_type": "display_data"
    },
    {
     "data": {
      "text/latex": [
       "$\\displaystyle \\theta = \\frac{180 \\operatorname{acos}{\\left(\\frac{\\sqrt{67818}}{534} \\right)}}{\\pi}$"
      ],
      "text/plain": [
       "Eq(theta, 180*acos(sqrt(67818)/534)/pi)"
      ]
     },
     "metadata": {},
     "output_type": "display_data"
    },
    {
     "data": {
      "text/latex": [
       "$\\displaystyle \\theta = 60.812065226976$"
      ],
      "text/plain": [
       "Eq(theta, 60.812065226976)"
      ]
     },
     "metadata": {},
     "output_type": "display_data"
    }
   ],
   "source": [
    "import random\n",
    "from sympy import *\n",
    "from sympy.vector import CoordSys3D\n",
    "N = CoordSys3D('N')\n",
    "for i in range(1,2):\n",
    "    k=0\n",
    "    def random_value(k):\n",
    "        return random.choice([k for k in range(2,10) if k not in [0]])\n",
    "    size1 = random_value(k)\n",
    "    size2 = random_value(k)\n",
    "    \n",
    "    u0 = MatrixSymbol('u',size1,size1)\n",
    "    u1 = MatrixSymbol('u',size1,size1)\n",
    "    v0 = MatrixSymbol('v',size1,size1)\n",
    "    v1 = MatrixSymbol('v^-1',size1,size1)\n",
    "    norm1 = Symbol('||u||')#,size1,size1)\n",
    "    norm2 = Symbol('||v||')#,size1,size1)\n",
    "    udotv = Symbol('u•v')\n",
    "    theta = Symbol('theta')\n",
    "\n",
    "    u = randMatrix(1,size1,percent=100,min=-10, max=10,symmetric=False)\n",
    "    v = randMatrix(1,size1,percent=100,min=-10, max=10,symmetric=False)\n",
    "\n",
    "    display(Eq(u0,u, evaluate=False))\n",
    "    display(Eq(v0,v, evaluate=False))\n",
    "    display(Eq(udotv,u.dot(v), evaluate=False))\n",
    "    display(Eq(norm1,(u).norm(), evaluate=False))\n",
    "    display(Eq(norm2,(v).norm(), evaluate=False))\n",
    "    eq1 = (180/pi)*acos(udotv/(norm1*norm2))\n",
    "    eq2 = (180/pi)*acos(u.dot(v)/((u).norm()*(v).norm()))\n",
    "    display(Eq(theta,eq1, evaluate=False))\n",
    "    display(Eq(theta,eq2, evaluate=False))\n",
    "    display(Eq(theta,eq2.evalf(), evaluate=False))\n"
   ]
  }
 ],
 "metadata": {
  "kernelspec": {
   "display_name": "Python 3 (ipykernel)",
   "language": "python",
   "name": "python3"
  },
  "language_info": {
   "codemirror_mode": {
    "name": "ipython",
    "version": 3
   },
   "file_extension": ".py",
   "mimetype": "text/x-python",
   "name": "python",
   "nbconvert_exporter": "python",
   "pygments_lexer": "ipython3",
   "version": "3.10.6"
  }
 },
 "nbformat": 4,
 "nbformat_minor": 5
}
