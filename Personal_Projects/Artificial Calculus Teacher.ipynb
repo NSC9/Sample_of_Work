{
 "cells": [
  {
   "attachments": {
    "image-2.png": {
     "image/png": "[encoded data removed]"
    }
   },
   "cell_type": "markdown",
   "id": "411a7a31",
   "metadata": {},
   "source": [
    "Credits to https://people.math.harvard.edu/~knill/teaching/math1a_2011/handouts/46-ai.pdf\n",
    "\n",
    "Notebook by github.com/nsc9\n",
    "\n",
    "![image-2.png](attachment:image-2.png)"
   ]
  },
  {
   "cell_type": "code",
   "execution_count": 1,
   "id": "c0fbdc40",
   "metadata": {},
   "outputs": [],
   "source": [
    "from sympy import sqrt,sin,cos,log,exp,tan,Function,Derivative,Eq\n",
    "from sympy.abc import x,k\n",
    "import random"
   ]
  },
  {
   "cell_type": "code",
   "execution_count": 2,
   "id": "292732bd",
   "metadata": {},
   "outputs": [
    {
     "data": {
      "text/latex": [
       "$\\displaystyle x^{3}$"
      ],
      "text/plain": [
       "x**3"
      ]
     },
     "metadata": {},
     "output_type": "display_data"
    },
    {
     "data": {
      "text/latex": [
       "$\\displaystyle x^{2}$"
      ],
      "text/plain": [
       "x**2"
      ]
     },
     "metadata": {},
     "output_type": "display_data"
    },
    {
     "data": {
      "text/latex": [
       "$\\displaystyle x^{2}$"
      ],
      "text/plain": [
       "x**2"
      ]
     },
     "metadata": {},
     "output_type": "display_data"
    },
    {
     "data": {
      "text/latex": [
       "$\\displaystyle x^{2}$"
      ],
      "text/plain": [
       "x**2"
      ]
     },
     "metadata": {},
     "output_type": "display_data"
    },
    {
     "data": {
      "text/latex": [
       "$\\displaystyle x^{2}$"
      ],
      "text/plain": [
       "x**2"
      ]
     },
     "metadata": {},
     "output_type": "display_data"
    }
   ],
   "source": [
    "def power_function(x):\n",
    "    return x**(random.randrange(2,6))\n",
    "\n",
    "display(power_function(x))\n",
    "display(power_function(x))\n",
    "display(power_function(x))\n",
    "display(power_function(x))\n",
    "display(power_function(x))"
   ]
  },
  {
   "cell_type": "code",
   "execution_count": 3,
   "id": "8767bb66",
   "metadata": {},
   "outputs": [
    {
     "data": {
      "text/latex": [
       "$\\displaystyle \\frac{1}{x^{3}}$"
      ],
      "text/plain": [
       "x**(-3)"
      ]
     },
     "metadata": {},
     "output_type": "display_data"
    },
    {
     "data": {
      "text/latex": [
       "$\\displaystyle \\frac{1}{x}$"
      ],
      "text/plain": [
       "1/x"
      ]
     },
     "metadata": {},
     "output_type": "display_data"
    },
    {
     "data": {
      "text/latex": [
       "$\\displaystyle \\frac{1}{x^{3}}$"
      ],
      "text/plain": [
       "x**(-3)"
      ]
     },
     "metadata": {},
     "output_type": "display_data"
    },
    {
     "data": {
      "text/latex": [
       "$\\displaystyle \\frac{1}{x^{2}}$"
      ],
      "text/plain": [
       "x**(-2)"
      ]
     },
     "metadata": {},
     "output_type": "display_data"
    },
    {
     "data": {
      "text/latex": [
       "$\\displaystyle \\frac{1}{x^{3}}$"
      ],
      "text/plain": [
       "x**(-3)"
      ]
     },
     "metadata": {},
     "output_type": "display_data"
    },
    {
     "data": {
      "text/latex": [
       "$\\displaystyle \\frac{1}{x^{3}}$"
      ],
      "text/plain": [
       "x**(-3)"
      ]
     },
     "metadata": {},
     "output_type": "display_data"
    }
   ],
   "source": [
    "def inv_power_function(x):\n",
    "    return x**(random.randrange(-1,-4,-1))\n",
    "\n",
    "display(inv_power_function(x))\n",
    "display(inv_power_function(x))\n",
    "display(inv_power_function(x))\n",
    "display(inv_power_function(x))\n",
    "display(inv_power_function(x))\n",
    "display(inv_power_function(x))"
   ]
  },
  {
   "cell_type": "code",
   "execution_count": 5,
   "id": "ae07a254",
   "metadata": {},
   "outputs": [
    {
     "data": {
      "text/latex": [
       "$\\displaystyle - 2 x$"
      ],
      "text/plain": [
       "-2*x"
      ]
     },
     "metadata": {},
     "output_type": "display_data"
    },
    {
     "data": {
      "text/latex": [
       "$\\displaystyle 2 x$"
      ],
      "text/plain": [
       "2*x"
      ]
     },
     "metadata": {},
     "output_type": "display_data"
    },
    {
     "data": {
      "text/latex": [
       "$\\displaystyle - 4 x$"
      ],
      "text/plain": [
       "-4*x"
      ]
     },
     "metadata": {},
     "output_type": "display_data"
    },
    {
     "data": {
      "text/latex": [
       "$\\displaystyle 2 x$"
      ],
      "text/plain": [
       "2*x"
      ]
     },
     "metadata": {},
     "output_type": "display_data"
    }
   ],
   "source": [
    "def scalar_function(x):\n",
    "    allowed_values = list(range(-4, 3))\n",
    "    allowed_values.remove(0)\n",
    "    random_value = random.choice(allowed_values)  \n",
    "    return x*(random_value)\n",
    "\n",
    "display(scalar_function(x))\n",
    "display(scalar_function(x))\n",
    "display(scalar_function(x))\n",
    "display(scalar_function(x))"
   ]
  },
  {
   "cell_type": "code",
   "execution_count": 6,
   "id": "3e53f8c4",
   "metadata": {},
   "outputs": [
    {
     "data": {
      "text/latex": [
       "$\\displaystyle x - 5$"
      ],
      "text/plain": [
       "x - 5"
      ]
     },
     "metadata": {},
     "output_type": "display_data"
    },
    {
     "data": {
      "text/latex": [
       "$\\displaystyle x + 4$"
      ],
      "text/plain": [
       "x + 4"
      ]
     },
     "metadata": {},
     "output_type": "display_data"
    },
    {
     "data": {
      "text/latex": [
       "$\\displaystyle x + 1$"
      ],
      "text/plain": [
       "x + 1"
      ]
     },
     "metadata": {},
     "output_type": "display_data"
    },
    {
     "data": {
      "text/latex": [
       "$\\displaystyle x + 4$"
      ],
      "text/plain": [
       "x + 4"
      ]
     },
     "metadata": {},
     "output_type": "display_data"
    }
   ],
   "source": [
    "def addSUBTR_function(x):\n",
    "    return x+(random.randrange(-5,5,1))\n",
    "\n",
    "display(addSUBTR_function(x))\n",
    "display(addSUBTR_function(x))\n",
    "display(addSUBTR_function(x))\n",
    "display(addSUBTR_function(x))"
   ]
  },
  {
   "cell_type": "code",
   "execution_count": 10,
   "id": "2b16c7ee",
   "metadata": {},
   "outputs": [
    {
     "data": {
      "text/latex": [
       "$\\displaystyle x - 5$"
      ],
      "text/plain": [
       "x - 5"
      ]
     },
     "metadata": {},
     "output_type": "display_data"
    },
    {
     "data": {
      "text/latex": [
       "$\\displaystyle \\cos{\\left(x \\right)}$"
      ],
      "text/plain": [
       "cos(x)"
      ]
     },
     "metadata": {},
     "output_type": "display_data"
    },
    {
     "data": {
      "text/latex": [
       "$\\displaystyle x - 5$"
      ],
      "text/plain": [
       "x - 5"
      ]
     },
     "metadata": {},
     "output_type": "display_data"
    },
    {
     "data": {
      "text/latex": [
       "$\\displaystyle \\sqrt{x}$"
      ],
      "text/plain": [
       "sqrt(x)"
      ]
     },
     "metadata": {},
     "output_type": "display_data"
    },
    {
     "data": {
      "text/latex": [
       "$\\displaystyle \\frac{1}{x^{2}}$"
      ],
      "text/plain": [
       "x**(-2)"
      ]
     },
     "metadata": {},
     "output_type": "display_data"
    }
   ],
   "source": [
    "funs = [sqrt(x),sin(x),cos(x),log(x),exp(x),tan(x),power_function(x),inv_power_function(x),scalar_function(x),\n",
    "        addSUBTR_function(x)]\n",
    "\n",
    "def random_math(x): \n",
    "    for i in range(0,len(funs)):\n",
    "        return funs[random.randrange(0,len(funs))]\n",
    "\n",
    "display(random_math(x))\n",
    "display(random_math(x))\n",
    "display(random_math(x))\n",
    "display(random_math(x))\n",
    "display(random_math(x))"
   ]
  },
  {
   "attachments": {
    "image.png": {
     "image/png": "[encoded data removed]"
    }
   },
   "cell_type": "markdown",
   "id": "0969c028",
   "metadata": {},
   "source": [
    "![image.png](attachment:image.png)"
   ]
  },
  {
   "cell_type": "code",
   "execution_count": 11,
   "id": "0d3b995f",
   "metadata": {},
   "outputs": [
    {
     "data": {
      "text/latex": [
       "$\\displaystyle f{\\left(x \\right)} - g{\\left(x \\right)}$"
      ],
      "text/plain": [
       "f(x) - g(x)"
      ]
     },
     "metadata": {},
     "output_type": "display_data"
    },
    {
     "data": {
      "text/latex": [
       "$\\displaystyle f{\\left(x \\right)} - g{\\left(x \\right)}$"
      ],
      "text/plain": [
       "f(x) - g(x)"
      ]
     },
     "metadata": {},
     "output_type": "display_data"
    },
    {
     "data": {
      "text/latex": [
       "$\\displaystyle f{\\left(x \\right)} + g{\\left(x \\right)}$"
      ],
      "text/plain": [
       "f(x) + g(x)"
      ]
     },
     "metadata": {},
     "output_type": "display_data"
    },
    {
     "data": {
      "text/latex": [
       "$\\displaystyle f{\\left(g{\\left(x \\right)} \\right)}$"
      ],
      "text/plain": [
       "f(g(x))"
      ]
     },
     "metadata": {},
     "output_type": "display_data"
    },
    {
     "data": {
      "text/latex": [
       "$\\displaystyle f{\\left(g{\\left(x \\right)} \\right)}$"
      ],
      "text/plain": [
       "f(g(x))"
      ]
     },
     "metadata": {},
     "output_type": "display_data"
    }
   ],
   "source": [
    "f = Function('f', real=True)(x)\n",
    "g = Function('g', real=True)(x)\n",
    "\n",
    "def random_operation(x):  \n",
    "    def comp(x):\n",
    "        return f.subs(x,g)\n",
    "    def add(x):\n",
    "        return f+g\n",
    "    def multi(x):\n",
    "        return f*g\n",
    "    def divide(x):\n",
    "        return f/g\n",
    "    def subtr(x):\n",
    "        return f-g\n",
    "    operations = [comp(x),add(x),multi(x),divide(x),subtr(x)]\n",
    "    for i in range(0,len(operations)):\n",
    "         return operations[random.randrange(0,len(operations))]\n",
    "display(random_operation(x))\n",
    "display(random_operation(x))\n",
    "display(random_operation(x))\n",
    "display(random_operation(x))\n",
    "display(random_operation(x))"
   ]
  },
  {
   "cell_type": "code",
   "execution_count": 18,
   "id": "8a744217",
   "metadata": {},
   "outputs": [
    {
     "name": "stdout",
     "output_type": "stream",
     "text": [
      "Differentiate These Problems:\n"
     ]
    },
    {
     "data": {
      "text/latex": [
       "$\\displaystyle f{\\left(\\cos{\\left(x \\right)} \\right)}$"
      ],
      "text/plain": [
       "f(cos(x))"
      ]
     },
     "metadata": {},
     "output_type": "display_data"
    },
    {
     "data": {
      "text/latex": [
       "$\\displaystyle f{\\left(\\log{\\left(x \\right)} \\right)}$"
      ],
      "text/plain": [
       "f(log(x))"
      ]
     },
     "metadata": {},
     "output_type": "display_data"
    },
    {
     "data": {
      "text/latex": [
       "$\\displaystyle - e^{x} + \\sin{\\left(x \\right)}$"
      ],
      "text/plain": [
       "-exp(x) + sin(x)"
      ]
     },
     "metadata": {},
     "output_type": "display_data"
    },
    {
     "name": "stdout",
     "output_type": "stream",
     "text": [
      "-------\n",
      "-------\n",
      "-------\n",
      "-------\n",
      "-------\n",
      "-------\n",
      "-------\n",
      "-------\n",
      "-------\n",
      "-------\n",
      "-------\n",
      "-------\n",
      "-------\n",
      "-------\n",
      "-------\n",
      "solutions:\n"
     ]
    },
    {
     "data": {
      "text/latex": [
       "$\\displaystyle \\frac{d}{d x} f{\\left(\\cos{\\left(x \\right)} \\right)} = - \\sin{\\left(x \\right)} \\left. \\frac{d}{d \\xi_{1}} f{\\left(\\xi_{1} \\right)} \\right|_{\\substack{ \\xi_{1}=\\cos{\\left(x \\right)} }}$"
      ],
      "text/plain": [
       "Eq(Derivative(f(cos(x)), x), -sin(x)*Subs(Derivative(f(_xi_1), _xi_1), _xi_1, cos(x)))"
      ]
     },
     "metadata": {},
     "output_type": "display_data"
    },
    {
     "data": {
      "text/latex": [
       "$\\displaystyle \\frac{d}{d x} f{\\left(\\log{\\left(x \\right)} \\right)} = \\frac{\\left. \\frac{d}{d \\xi_{1}} f{\\left(\\xi_{1} \\right)} \\right|_{\\substack{ \\xi_{1}=\\log{\\left(x \\right)} }}}{x}$"
      ],
      "text/plain": [
       "Eq(Derivative(f(log(x)), x), Subs(Derivative(f(_xi_1), _xi_1), _xi_1, log(x))/x)"
      ]
     },
     "metadata": {},
     "output_type": "display_data"
    },
    {
     "data": {
      "text/latex": [
       "$\\displaystyle \\frac{d}{d x} \\left(- e^{x} + \\sin{\\left(x \\right)}\\right) = - e^{x} + \\cos{\\left(x \\right)}$"
      ],
      "text/plain": [
       "Eq(Derivative(-exp(x) + sin(x), x), -exp(x) + cos(x))"
      ]
     },
     "metadata": {},
     "output_type": "display_data"
    }
   ],
   "source": [
    "def ez_teacher():\n",
    "    return random_operation(x).subs(f,random_math(x)).subs(g,random_math(x))\n",
    "practice1 = ez_teacher()\n",
    "practice2 = ez_teacher()\n",
    "practice3 = ez_teacher()\n",
    "print(\"Differentiate These Problems:\")\n",
    "display(practice1)\n",
    "display(practice2)\n",
    "display(practice3)\n",
    "for i in range(0,15):\n",
    "    print(\"-------\")\n",
    "print(\"solutions:\")\n",
    "display(Eq(Derivative(practice1,x),Derivative(practice1,x).doit()))\n",
    "display(Eq(Derivative(practice2,x),Derivative(practice2,x).doit()))\n",
    "display(Eq(Derivative(practice3,x),Derivative(practice3,x).doit()))"
   ]
  },
  {
   "cell_type": "raw",
   "id": "0eab114b",
   "metadata": {},
   "source": [
    "def medium_teacher():\n",
    "    ez1 = ez_teacher()\n",
    "    ez2 = ez_teacher()\n",
    "    return ez1+ez2\n",
    "display(medium_teacher())"
   ]
  },
  {
   "cell_type": "raw",
   "id": "3950dcd2",
   "metadata": {},
   "source": [
    "def hard_teacher():\n",
    "    med1 = medium_teacher()\n",
    "    med2 = medium_teacher()\n",
    "    return med1*med2\n",
    "display(hard_teacher())"
   ]
  }
 ],
 "metadata": {
  "kernelspec": {
   "display_name": "Python 3 (ipykernel)",
   "language": "python",
   "name": "python3"
  },
  "language_info": {
   "codemirror_mode": {
    "name": "ipython",
    "version": 3
   },
   "file_extension": ".py",
   "mimetype": "text/x-python",
   "name": "python",
   "nbconvert_exporter": "python",
   "pygments_lexer": "ipython3",
   "version": "3.8.10"
  }
 },
 "nbformat": 4,
 "nbformat_minor": 5
}
