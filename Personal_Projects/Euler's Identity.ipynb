{
 "cells": [
  {
   "cell_type": "code",
   "execution_count": 1,
   "id": "91b7e03b",
   "metadata": {},
   "outputs": [],
   "source": [
    "from sympy import *\n",
    "from sympy.abc import x,theta"
   ]
  },
  {
   "cell_type": "code",
   "execution_count": 2,
   "id": "14b6f03b",
   "metadata": {},
   "outputs": [
    {
     "data": {
      "text/latex": [
       "$\\displaystyle \\frac{1}{1 - x}$"
      ],
      "text/plain": [
       "1/(1 - x)"
      ]
     },
     "execution_count": 2,
     "metadata": {},
     "output_type": "execute_result"
    }
   ],
   "source": [
    "eq1 = 1 / (1 - x)\n",
    "eq1"
   ]
  },
  {
   "cell_type": "code",
   "execution_count": 3,
   "id": "7fe8976a",
   "metadata": {},
   "outputs": [
    {
     "data": {
      "text/latex": [
       "$\\displaystyle \\frac{1}{1 - x} = 1 + x + x^{2} + x^{3} + x^{4} + x^{5} + x^{6} + x^{7} + x^{8} + x^{9} + O\\left(x^{10}\\right)$"
      ],
      "text/plain": [
       "Eq(1/(1 - x), 1 + x + x**2 + x**3 + x**4 + x**5 + x**6 + x**7 + x**8 + x**9 + O(x**10))"
      ]
     },
     "execution_count": 3,
     "metadata": {},
     "output_type": "execute_result"
    }
   ],
   "source": [
    "Eq(eq1,series(eq1, n=10))"
   ]
  },
  {
   "cell_type": "code",
   "execution_count": 4,
   "id": "e2f8e6dd",
   "metadata": {},
   "outputs": [
    {
     "data": {
      "text/latex": [
       "$\\displaystyle \\sin{\\left(\\theta \\right)} = \\theta - \\frac{\\theta^{3}}{6} + \\frac{\\theta^{5}}{120} - \\frac{\\theta^{7}}{5040} + \\frac{\\theta^{9}}{362880} + O\\left(\\theta^{10}\\right)$"
      ],
      "text/plain": [
       "Eq(sin(theta), theta - theta**3/6 + theta**5/120 - theta**7/5040 + theta**9/362880 + O(theta**10))"
      ]
     },
     "metadata": {},
     "output_type": "display_data"
    },
    {
     "data": {
      "text/latex": [
       "$\\displaystyle \\cos{\\left(\\theta \\right)} = 1 - \\frac{\\theta^{2}}{2} + \\frac{\\theta^{4}}{24} - \\frac{\\theta^{6}}{720} + \\frac{\\theta^{8}}{40320} + O\\left(\\theta^{10}\\right)$"
      ],
      "text/plain": [
       "Eq(cos(theta), 1 - theta**2/2 + theta**4/24 - theta**6/720 + theta**8/40320 + O(theta**10))"
      ]
     },
     "metadata": {},
     "output_type": "display_data"
    }
   ],
   "source": [
    "display(Eq(sin(theta),series(sin(theta), n=10)))\n",
    "display(Eq(cos(theta),series(cos(theta), n=10)))"
   ]
  },
  {
   "cell_type": "code",
   "execution_count": 5,
   "id": "999c1f9e",
   "metadata": {},
   "outputs": [
    {
     "data": {
      "text/latex": [
       "$\\displaystyle e^{i \\theta} = 1 + i \\theta - \\frac{\\theta^{2}}{2} - \\frac{i \\theta^{3}}{6} + \\frac{\\theta^{4}}{24} + \\frac{i \\theta^{5}}{120} - \\frac{\\theta^{6}}{720} - \\frac{i \\theta^{7}}{5040} + \\frac{\\theta^{8}}{40320} + \\frac{i \\theta^{9}}{362880} + O\\left(\\theta^{10}\\right)$"
      ],
      "text/plain": [
       "Eq(exp(I*theta), 1 + I*theta - theta**2/2 - I*theta**3/6 + theta**4/24 + I*theta**5/120 - theta**6/720 - I*theta**7/5040 + theta**8/40320 + I*theta**9/362880 + O(theta**10))"
      ]
     },
     "execution_count": 5,
     "metadata": {},
     "output_type": "execute_result"
    }
   ],
   "source": [
    "eq2 = exp(I * theta)\n",
    "Eq(eq2,(series(eq2,n=10)))"
   ]
  },
  {
   "cell_type": "code",
   "execution_count": 8,
   "id": "7fe777a1",
   "metadata": {},
   "outputs": [
    {
     "data": {
      "text/latex": [
       "$\\displaystyle e^{i \\theta} = 1 + i \\left(\\theta - \\frac{\\theta^{3}}{6} + \\frac{\\theta^{5}}{120} - \\frac{\\theta^{7}}{5040} + \\frac{\\theta^{9}}{362880} + O\\left(\\theta^{10}\\right)\\right) - \\frac{\\theta^{2}}{2} + \\frac{\\theta^{4}}{24} - \\frac{\\theta^{6}}{720} + \\frac{\\theta^{8}}{40320} + O\\left(\\theta^{10}\\right)$"
      ],
      "text/plain": [
       "Eq(exp(I*theta), 1 + I*(theta - theta**3/6 + theta**5/120 - theta**7/5040 + theta**9/362880 + O(theta**10)) - theta**2/2 + theta**4/24 - theta**6/720 + theta**8/40320 + O(theta**10))"
      ]
     },
     "execution_count": 8,
     "metadata": {},
     "output_type": "execute_result"
    }
   ],
   "source": [
    "Eq(eq2,collect(series(eq2,n=10), I))"
   ]
  },
  {
   "cell_type": "code",
   "execution_count": 7,
   "id": "669357e2",
   "metadata": {},
   "outputs": [
    {
     "data": {
      "text/latex": [
       "$\\displaystyle e^{i x} = i \\sin{\\left(x \\right)} - \\cos{\\left(x \\right)}$"
      ],
      "text/plain": [
       "Eq(exp(I*x), I*sin(x) - cos(x))"
      ]
     },
     "execution_count": 7,
     "metadata": {},
     "output_type": "execute_result"
    }
   ],
   "source": [
    "eq3 = Eq(eq2.subs(theta,x),I*sin(x)-cos(x))\n",
    "eq3"
   ]
  }
 ],
 "metadata": {
  "kernelspec": {
   "display_name": "Python 3 (ipykernel)",
   "language": "python",
   "name": "python3"
  },
  "language_info": {
   "codemirror_mode": {
    "name": "ipython",
    "version": 3
   },
   "file_extension": ".py",
   "mimetype": "text/x-python",
   "name": "python",
   "nbconvert_exporter": "python",
   "pygments_lexer": "ipython3",
   "version": "3.8.10"
  }
 },
 "nbformat": 4,
 "nbformat_minor": 5
}
