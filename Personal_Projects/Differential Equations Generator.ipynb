{
 "cells": [
  {
   "cell_type": "code",
   "execution_count": 23,
   "id": "108761f9",
   "metadata": {
    "scrolled": false
   },
   "outputs": [
    {
     "name": "stdout",
     "output_type": "stream",
     "text": [
      "solve for f\n"
     ]
    },
    {
     "data": {
      "text/latex": [
       "$\\displaystyle \\left(f{\\left(x \\right)} - g{\\left(x \\right)}\\right) \\frac{d}{d x} h{\\left(x \\right)} + \\frac{f{\\left(x \\right)}}{g{\\left(h{\\left(x \\right)} \\right)}} = \\frac{f{\\left(x \\right)}}{g{\\left(h{\\left(x \\right)} \\right)}}$"
      ],
      "text/plain": [
       "Eq((f(x) - g(x))*Derivative(h(x), x) + f(x)/g(h(x)), f(x)/g(h(x)))"
      ]
     },
     "metadata": {},
     "output_type": "display_data"
    },
    {
     "data": {
      "text/latex": [
       "$\\displaystyle f{\\left(x \\right)} = g{\\left(x \\right)}$"
      ],
      "text/plain": [
       "Eq(f(x), g(x))"
      ]
     },
     "metadata": {},
     "output_type": "display_data"
    }
   ],
   "source": [
    "import warnings\n",
    "warnings.filterwarnings('ignore')\n",
    "warnings.simplefilter('ignore')\n",
    "\n",
    "from sympy import sin,cos,log,exp,tan,Function,Derivative,Eq,Integral,Rational,dsolve\n",
    "from sympy import factor_terms,simplify, sqrt, cbrt\n",
    "from sympy.abc import x,t\n",
    "import random\n",
    "f = Function('f')\n",
    "g = Function('g')\n",
    "h = Function('h')\n",
    "def random_math(x):\n",
    "    allowed_values = list(range(-2, 2))\n",
    "    allowed_values.remove(0)\n",
    "    random_value = random.choice(allowed_values)\n",
    "    def power_function(x):      \n",
    "        return x**random_value\n",
    "    def scalar_function(x):\n",
    "        return x*random_value\n",
    "    def addSUBTR_function(x): \n",
    "        return x+random_value\n",
    "    funs = [sin,power_function,log,exp,cos,tan,sqrt,cbrt,\n",
    "            scalar_function,addSUBTR_function]     \n",
    "    operations = [f(x),g(x),h(x),f(g(x)),f(x)+g(x),f(x)-g(x),f(x)/g(x),f(x)*g(x),\n",
    "                  f(g(h(x))),f(h(x))+g(x),f(h(x))-g(x),f(h(x))/g(x),f(x)/g(h(x)),f(h(x))*g(x)]\n",
    "    operation = operations[random.randrange(0,len(operations))]\n",
    "    return operation\n",
    "\n",
    "a = random_math(x)\n",
    "b = random_math(x)\n",
    "d = random_math(x)\n",
    "e = random_math(x)\n",
    "allowed_values = list(range(1, 3))\n",
    "random_value = random.choice(allowed_values)\n",
    "setup1 = e*Derivative(a,x,random_value) + b \n",
    "#practice1 = Derivative(simplify(setup1),x)\n",
    "#practice2 = Integral(simplify(setup2),x)\n",
    "p1eq = Eq(setup1,b,evaluate=False)\n",
    "print(\"solve for f\")\n",
    "display(p1eq)\n",
    "c = dsolve(p1eq,f(x))\n",
    "if str(c).find(\"Ei\") == -1 and str(c).find(\"gamma\") == -1 and str(c).find(\"Piecewise\") == -1\\\n",
    "and str(c).find(\"li\") == -1 and str(c).find(\"erf\") == -1 and str(c).find(\"atan\") == -1\\\n",
    "and str(c).find(\"Si\") == -1 and str(c).find(\"Ci\") == -1 and str(c).find(\"hyper\") == -1\\\n",
    "and str(c).find(\"fresnel\") == -1 and str(c).find(\"Li\") == -1 and str(c).find(\"xi\") == -1 and str(c).find(\"O\") == -1:  \n",
    "    display(c)\n",
    "else:\n",
    "    print(\"Error: Complex\")\n",
    "    pass"
   ]
  },
  {
   "cell_type": "markdown",
   "id": "b3f5b9fb",
   "metadata": {},
   "source": [
    "If LaTeX display breaks, refresh the page and run again.\n",
    "\n",
    "**Made by github.com/nsc9   - MIT License**\n",
    "\n",
    "Donate by sending Bitcoin (BTC) to address: **bc1qtawr2gw52ftufzu0r3r20pnj3vmynssxs0mjl4**"
   ]
  }
 ],
 "metadata": {
  "kernelspec": {
   "display_name": "Python 3 (ipykernel)",
   "language": "python",
   "name": "python3"
  },
  "language_info": {
   "codemirror_mode": {
    "name": "ipython",
    "version": 3
   },
   "file_extension": ".py",
   "mimetype": "text/x-python",
   "name": "python",
   "nbconvert_exporter": "python",
   "pygments_lexer": "ipython3",
   "version": "3.8.10"
  }
 },
 "nbformat": 4,
 "nbformat_minor": 5
}
