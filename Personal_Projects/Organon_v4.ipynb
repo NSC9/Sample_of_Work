{
 "cells": [
  {
   "cell_type": "code",
   "execution_count": 1,
   "metadata": {},
   "outputs": [
    {
     "data": {
      "text/plain": [
       "'Since the sky is cloudy,the month is June,and the area is Indiana, then it is possibile for rain to fall.'"
      ]
     },
     "execution_count": 1,
     "metadata": {},
     "output_type": "execute_result"
    }
   ],
   "source": [
    "from sympy import Function,symbols\n",
    "p1,p2,p3,pn,dps = symbols(\"p1 p2 p3 pn dps\")\n",
    "Argument = {                  # this line of code creates a python dictionary. \n",
    "    p1: \"the sky is cloudy\",  # p1 = the first proposition\n",
    "    p2: \"the month is June\",\n",
    "    p3: \"the area is Indiana\",\n",
    "}\n",
    "Argument[dps]=\"Since {},{},and {}, then it is possibile for rain to fall.\".format(Argument[p1],Argument[p2],Argument[p3])\n",
    "    # the line above this adds a new element to our dictionary'Argument'\n",
    "Argument[dps]"
   ]
  },
  {
   "cell_type": "code",
   "execution_count": 2,
   "metadata": {},
   "outputs": [
    {
     "data": {
      "text/plain": [
       "{1: 6, 2: 3, 3: 12}"
      ]
     },
     "execution_count": 2,
     "metadata": {},
     "output_type": "execute_result"
    }
   ],
   "source": [
    "x1,x2,x3,y6,y3,y12  = symbols(\"x1 x2 x3 y6 y3 y12\")\n",
    "# a function assigns each element of set X where X = {all real numbers} to exactly one element of\n",
    "# set Y {all real numbers} using ordered pairs (python dict() values are ordered in v3.6 and later)\n",
    "function_of_x = { \n",
    "    1:6,            # format is nth x-value : nth y-value or x_subscript-n : y_subscript-n or x_n: y_n\n",
    "    2:3,\n",
    "    3:12,\n",
    "}\n",
    "function_of_x"
   ]
  },
  {
   "cell_type": "code",
   "execution_count": null,
   "metadata": {
    "scrolled": true
   },
   "outputs": [],
   "source": [
    "\"\"\"\n",
    "\n",
    "We see that there is a fundamental relation to Aristotles syllogism and mathematics. \n",
    "Derivatives in Calculus can be analogous to the conclusions of an argument.\n",
    "\n",
    "Functions take set X and set Y and assigns each element of X exactly one element of Y. This is the similar to the\n",
    "what was done with our dictionary Argument = {x:y} \n",
    "\n",
    "We can analogize Aristotle's syllogism here.\n",
    "\n",
    "When you paint four houses, you can get one candy bar\n",
    "When x = 4 quarters, y = 1 candy bar\n",
    "\n",
    "Arguments can be defined as requiring 2 or more propositions AND a conclusion (derivation) of the \n",
    "original propositions\n",
    "\n",
    "So we can come to some conclusion based on our 3 propositions like \"the output f(x) increased,\n",
    "later decreased, and even later increased again\n",
    "\n",
    "\"\"\""
   ]
  }
 ],
 "metadata": {
  "kernelspec": {
   "display_name": "Python 3",
   "language": "python",
   "name": "python3"
  },
  "language_info": {
   "codemirror_mode": {
    "name": "ipython",
    "version": 3
   },
   "file_extension": ".py",
   "mimetype": "text/x-python",
   "name": "python",
   "nbconvert_exporter": "python",
   "pygments_lexer": "ipython3",
   "version": "3.8.10"
  }
 },
 "nbformat": 4,
 "nbformat_minor": 4
}
