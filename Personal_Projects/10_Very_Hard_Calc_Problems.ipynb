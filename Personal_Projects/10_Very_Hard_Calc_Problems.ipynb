{
 "cells": [
  {
   "cell_type": "markdown",
   "id": "0625835f",
   "metadata": {},
   "source": [
    "Credits to https://people.math.harvard.edu/~knill/teaching/math1a_2011/handouts/46-ai.pdf\n",
    "\n",
    "Notebook by github.com/nsc9\n"
   ]
  },
  {
   "cell_type": "code",
   "execution_count": 1,
   "id": "9aef0f0e",
   "metadata": {},
   "outputs": [],
   "source": [
    "# Thanks to @smichr for .replace suggestion https://stackoverflow.com/a/73000728/17291132 \n",
    "from sympy import sqrt,sin,cos,log,exp,tan,Function,Derivative,Eq,Pow,S,sympify,Integral,plot,cbrt,Limit\n",
    "from sympy.abc import x\n",
    "import random\n",
    "f = Function('f')\n",
    "g = Function('g')\n",
    "h = Function('h')\n",
    "j = Function('j')"
   ]
  },
  {
   "cell_type": "code",
   "execution_count": 2,
   "id": "108761f9",
   "metadata": {
    "scrolled": false
   },
   "outputs": [
    {
     "data": {
      "text/latex": [
       "$\\displaystyle \\frac{d}{d x} \\left(- e^{x} + \\sqrt[3]{\\tan{\\left(x \\right)}}\\right) = \\frac{\\frac{\\tan^{2}{\\left(x \\right)}}{3} + \\frac{1}{3}}{\\tan^{\\frac{2}{3}}{\\left(x \\right)}} - e^{x}$"
      ],
      "text/plain": [
       "Eq(Derivative(-exp(x) + tan(x)**(1/3), x), (tan(x)**2/3 + 1/3)/tan(x)**(2/3) - exp(x))"
      ]
     },
     "metadata": {},
     "output_type": "display_data"
    },
    {
     "data": {
      "text/latex": [
       "$\\displaystyle \\int \\left(e^{e^{x}} + \\cos{\\left(x - 2 \\right)}\\right)\\, dx = \\sin{\\left(x - 2 \\right)} + \\operatorname{Ei}{\\left(e^{x} \\right)}$"
      ],
      "text/plain": [
       "Eq(Integral(exp(exp(x)) + cos(x - 2), x), sin(x - 2) + Ei(exp(x)))"
      ]
     },
     "metadata": {},
     "output_type": "display_data"
    },
    {
     "data": {
      "text/latex": [
       "$\\displaystyle \\frac{d}{d x} \\frac{x + \\log{\\left(x \\right)}^{3} + 2 \\log{\\left(x \\right)} + 4}{\\log{\\left(\\sin{\\left(x \\right)} \\right)}} = \\frac{1 + \\frac{3 \\log{\\left(x \\right)}^{2}}{x} + \\frac{2}{x}}{\\log{\\left(\\sin{\\left(x \\right)} \\right)}} - \\frac{\\left(x + \\log{\\left(x \\right)}^{3} + 2 \\log{\\left(x \\right)} + 4\\right) \\cos{\\left(x \\right)}}{\\log{\\left(\\sin{\\left(x \\right)} \\right)}^{2} \\sin{\\left(x \\right)}}$"
      ],
      "text/plain": [
       "Eq(Derivative((x + log(x)**3 + 2*log(x) + 4)/log(sin(x)), x), (1 + 3*log(x)**2/x + 2/x)/log(sin(x)) - (x + log(x)**3 + 2*log(x) + 4)*cos(x)/(log(sin(x))**2*sin(x)))"
      ]
     },
     "metadata": {},
     "output_type": "display_data"
    },
    {
     "data": {
      "text/latex": [
       "$\\displaystyle \\int \\left(x - \\sin{\\left(x \\right)} - 4\\right)\\, dx = \\frac{x^{2}}{2} - 4 x + \\cos{\\left(x \\right)}$"
      ],
      "text/plain": [
       "Eq(Integral(x - sin(x) - 4, x), x**2/2 - 4*x + cos(x))"
      ]
     },
     "metadata": {},
     "output_type": "display_data"
    },
    {
     "data": {
      "text/latex": [
       "$\\displaystyle \\frac{d}{d x} \\left(2 \\sqrt[3]{x} + x + 5 + \\frac{1}{x}\\right) = 1 - \\frac{1}{x^{2}} + \\frac{2}{3 x^{\\frac{2}{3}}}$"
      ],
      "text/plain": [
       "Eq(Derivative(2*x**(1/3) + x + 5 + 1/x, x), 1 - 1/x**2 + 2/(3*x**(2/3)))"
      ]
     },
     "metadata": {},
     "output_type": "display_data"
    },
    {
     "data": {
      "text/latex": [
       "$\\displaystyle \\int \\left(- \\log{\\left(\\cos{\\left(x \\right)} \\right)} + \\sqrt{\\tan{\\left(x \\right)}}\\right)\\, dx = \\int \\left(- \\log{\\left(\\cos{\\left(x \\right)} \\right)} + \\sqrt{\\tan{\\left(x \\right)}}\\right)\\, dx$"
      ],
      "text/plain": [
       "Eq(Integral(-log(cos(x)) + sqrt(tan(x)), x), Integral(-log(cos(x)) + sqrt(tan(x)), x))"
      ]
     },
     "metadata": {},
     "output_type": "display_data"
    },
    {
     "data": {
      "text/latex": [
       "$\\displaystyle \\frac{d}{d x} \\left(- \\frac{- 2 \\sqrt[6]{x} + x - 4}{4 x}\\right) = - \\frac{1 - \\frac{1}{3 x^{\\frac{5}{6}}}}{4 x} + \\frac{- 2 \\sqrt[6]{x} + x - 4}{4 x^{2}}$"
      ],
      "text/plain": [
       "Eq(Derivative(-(-2*x**(1/6) + x - 4)/(4*x), x), -(1 - 1/(3*x**(5/6)))/(4*x) + (-2*x**(1/6) + x - 4)/(4*x**2))"
      ]
     },
     "metadata": {},
     "output_type": "display_data"
    },
    {
     "data": {
      "text/latex": [
       "$\\displaystyle \\int \\frac{\\sqrt[3]{\\cos{\\left(x \\right)}}}{\\tan{\\left(\\cos{\\left(x \\right)} \\right)}}\\, dx = \\int \\frac{\\sqrt[3]{\\cos{\\left(x \\right)}}}{\\tan{\\left(\\cos{\\left(x \\right)} \\right)}}\\, dx$"
      ],
      "text/plain": [
       "Eq(Integral(cos(x)**(1/3)/tan(cos(x)), x), Integral(cos(x)**(1/3)/tan(cos(x)), x))"
      ]
     },
     "metadata": {},
     "output_type": "display_data"
    },
    {
     "data": {
      "text/latex": [
       "$\\displaystyle \\frac{d}{d x} \\left(\\sqrt[3]{x} - 2 x + \\cos{\\left(2 x \\right)} - 1\\right) = - 2 \\sin{\\left(2 x \\right)} - 2 + \\frac{1}{3 x^{\\frac{2}{3}}}$"
      ],
      "text/plain": [
       "Eq(Derivative(x**(1/3) - 2*x + cos(2*x) - 1, x), -2*sin(2*x) - 2 + 1/(3*x**(2/3)))"
      ]
     },
     "metadata": {},
     "output_type": "display_data"
    },
    {
     "data": {
      "text/latex": [
       "$\\displaystyle \\int x^{2} \\left(x + 2\\right)\\, dx = \\frac{x^{4}}{4} + \\frac{2 x^{3}}{3}$"
      ],
      "text/plain": [
       "Eq(Integral(x**2*(x + 2), x), x**4/4 + 2*x**3/3)"
      ]
     },
     "metadata": {},
     "output_type": "display_data"
    }
   ],
   "source": [
    "def random_math(x):\n",
    "    def power_function(x):\n",
    "        return x**(random.randrange(-4,6,1))\n",
    "    def scalar_function(x):\n",
    "        allowed_values = list(range(-4, 3))\n",
    "        allowed_values.remove(0)\n",
    "        random_value = random.choice(allowed_values)  \n",
    "        return x*(random_value)\n",
    "    def addSUBTR_function(A):\n",
    "        return x+(random.randrange(-5,5,1))\n",
    "    def rational_function(x):\n",
    "        return power_function(x) +scalar_function(x) + addSUBTR_function(x)\n",
    "    funs = [sqrt,cbrt,sin,cos,log,exp,tan,power_function,\n",
    "            scalar_function,addSUBTR_function,rational_function]      \n",
    "    operations = [f(g(h(j(x)))),f(h(x))+g(j(x)),f(h(x))-g(j(x)),f(h(x))/g(j(x)),f(g(j(x)))/h(x),f(h(x))*g(j(x)),\n",
    "                  f(x)*g(h(j(x)))]\n",
    "                  \n",
    "    operation = operations[random.randrange(0,len(operations))]\n",
    "    return [[[[operation.replace(f, i) for i in funs][random.randrange(0,len(funs))].replace(g, i) for i in funs]\\\n",
    "[random.randrange(0,len(funs))].replace(h, i) for i in funs][random.randrange(0,len(funs))].replace(j, i) for i in funs]\\\n",
    "[random.randrange(0,len(funs))]\n",
    "\n",
    "for i in range(0,5):\n",
    "    practice1 = Derivative(random_math(x))\n",
    "    practice2 = Integral(random_math(x),x)\n",
    "    if practice1.evalf() != 0 and practice2.evalf()!= 0:\n",
    "        display(Eq(practice1,practice1.doit(),evaluate=False))\n",
    "        display(Eq(practice2,practice2.doit(),evaluate=False))"
   ]
  }
 ],
 "metadata": {
  "kernelspec": {
   "display_name": "Python 3 (ipykernel)",
   "language": "python",
   "name": "python3"
  },
  "language_info": {
   "codemirror_mode": {
    "name": "ipython",
    "version": 3
   },
   "file_extension": ".py",
   "mimetype": "text/x-python",
   "name": "python",
   "nbconvert_exporter": "python",
   "pygments_lexer": "ipython3",
   "version": "3.8.10"
  }
 },
 "nbformat": 4,
 "nbformat_minor": 5
}
