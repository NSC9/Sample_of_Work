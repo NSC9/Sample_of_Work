{
 "cells": [
  {
   "cell_type": "code",
   "execution_count": 2,
   "id": "cd266b68",
   "metadata": {},
   "outputs": [
    {
     "data": {
      "text/latex": [
       "$\\displaystyle \\omega = e^{e^{x}}$"
      ],
      "text/plain": [
       "Eq(omega, exp(exp(x)))"
      ]
     },
     "execution_count": 2,
     "metadata": {},
     "output_type": "execute_result"
    }
   ],
   "source": [
    "# In mathematics, the exponential integral Ei is a special function on the complex plane. \n",
    "# It is defined as one particular definite integral of the ratio between an exponential function and its argument.\n",
    "\n",
    "from sympy import *\n",
    "from sympy import E\n",
    "from sympy.abc import x,omega,u,m,g\n",
    "f = lambda x: E**(E**x)\n",
    "expr = f(x)\n",
    "Eq(omega,f(x))"
   ]
  },
  {
   "cell_type": "code",
   "execution_count": 3,
   "id": "36735a54",
   "metadata": {},
   "outputs": [
    {
     "data": {
      "text/latex": [
       "$\\displaystyle \\frac{d}{d x} e^{e^{x}} = e^{x} e^{e^{x}}$"
      ],
      "text/plain": [
       "Eq(Derivative(exp(exp(x)), x), exp(x)*exp(exp(x)))"
      ]
     },
     "execution_count": 3,
     "metadata": {},
     "output_type": "execute_result"
    }
   ],
   "source": [
    "dexpr = Derivative(expr)\n",
    "Eq(dexpr,dexpr.doit())  "
   ]
  },
  {
   "cell_type": "code",
   "execution_count": 4,
   "id": "03ed1401",
   "metadata": {},
   "outputs": [
    {
     "data": {
      "text/latex": [
       "$\\displaystyle e^{x} e^{e^{x}} = e^{x + e^{x}}$"
      ],
      "text/plain": [
       "Eq(exp(x)*exp(exp(x)), exp(x + exp(x)))"
      ]
     },
     "execution_count": 4,
     "metadata": {},
     "output_type": "execute_result"
    }
   ],
   "source": [
    "dexprs = Eq(dexpr,dexpr.doit()).rhs.simplify()\n",
    "Eq(dexpr.doit(),dexprs)  "
   ]
  },
  {
   "cell_type": "code",
   "execution_count": 5,
   "id": "577e1abf",
   "metadata": {},
   "outputs": [
    {
     "data": {
      "text/latex": [
       "$\\displaystyle \\int e^{e^{x}}\\, dx = \\frac{d}{d x} e^{e^{x}}$"
      ],
      "text/plain": [
       "Eq(Integral(exp(exp(x)), x), Derivative(exp(exp(x)), x))"
      ]
     },
     "execution_count": 5,
     "metadata": {},
     "output_type": "execute_result"
    }
   ],
   "source": [
    "Eq(Integral(expr),Derivative(expr)) # is this true in terms of density? (a very thin string = large object in essence)\n",
    "                                    # trying to show that derivative/integral are inverse operations"
   ]
  },
  {
   "cell_type": "code",
   "execution_count": 6,
   "id": "b1c4544d",
   "metadata": {},
   "outputs": [
    {
     "data": {
      "text/latex": [
       "$\\displaystyle \\int e^{e^{x}}\\, dx = e^{x + e^{x}}$"
      ],
      "text/plain": [
       "Eq(Integral(exp(exp(x)), x), exp(x + exp(x)))"
      ]
     },
     "execution_count": 6,
     "metadata": {},
     "output_type": "execute_result"
    }
   ],
   "source": [
    "# if the above is true then the below expression must also be true\n",
    "Eq(Integral(expr),dexprs)\n",
    "#https://en.wikipedia.org/wiki/Exponential_integral"
   ]
  },
  {
   "cell_type": "code",
   "execution_count": 7,
   "id": "27d948d4",
   "metadata": {},
   "outputs": [
    {
     "data": {
      "text/latex": [
       "$\\displaystyle \\int e^{e^{x}}\\, dx = \\operatorname{Ei}{\\left(e^{x} \\right)}$"
      ],
      "text/plain": [
       "Eq(Integral(exp(exp(x)), x), Ei(exp(x)))"
      ]
     },
     "execution_count": 7,
     "metadata": {},
     "output_type": "execute_result"
    }
   ],
   "source": [
    "Eq(Integral(expr),Integral(expr).doit())   # .doit() is a method that evaluate objects that are not evaluated by default."
   ]
  },
  {
   "cell_type": "code",
   "execution_count": 8,
   "id": "62ab419a",
   "metadata": {},
   "outputs": [
    {
     "data": {
      "text/latex": [
       "$\\displaystyle \\operatorname{Ei}{\\left(e^{x} \\right)} = e^{x + e^{x}}$"
      ],
      "text/plain": [
       "Eq(Ei(exp(x)), exp(x + exp(x)))"
      ]
     },
     "execution_count": 8,
     "metadata": {},
     "output_type": "execute_result"
    }
   ],
   "source": [
    "# therefore\n",
    "Eq(Integral(expr).doit(),dexprs)   # reads as \"the exponential integral of e**x equals e**(x+e**x)\""
   ]
  },
  {
   "cell_type": "code",
   "execution_count": 9,
   "id": "b7bc43a2",
   "metadata": {},
   "outputs": [
    {
     "data": {
      "text/latex": [
       "$\\displaystyle \\frac{d}{d x} \\operatorname{Ei}{\\left(e^{x} \\right)} = e^{e^{x}}$"
      ],
      "text/plain": [
       "Eq(Derivative(Ei(exp(x)), x), exp(exp(x)))"
      ]
     },
     "execution_count": 9,
     "metadata": {},
     "output_type": "execute_result"
    }
   ],
   "source": [
    "# and\n",
    "Eq(Derivative(Integral(expr).doit()),Derivative(Integral(expr).doit()).doit())"
   ]
  },
  {
   "cell_type": "code",
   "execution_count": 10,
   "id": "095a5003",
   "metadata": {},
   "outputs": [
    {
     "data": {
      "text/latex": [
       "$\\displaystyle g = \\int\\limits_{0}^{m} \\operatorname{Ei}{\\left(e^{x} \\right)}\\, dx$"
      ],
      "text/plain": [
       "Eq(g, Integral(Ei(exp(x)), (x, 0, m)))"
      ]
     },
     "execution_count": 10,
     "metadata": {},
     "output_type": "execute_result"
    }
   ],
   "source": [
    "# here we succeeded in calculating some definite exponential integrals. The calculator got too slow around m>4\n",
    "u = Integral(Ei(exp(x)),(x,0,m))\n",
    "Eq(g,u)"
   ]
  },
  {
   "cell_type": "code",
   "execution_count": 61,
   "id": "7ce6fb10",
   "metadata": {
    "scrolled": false
   },
   "outputs": [
    {
     "name": "stdout",
     "output_type": "stream",
     "text": [
      "4.15775030018700 -------------------------------------------------------------when m =  1\n",
      "                        Compute Time:  0.4002557999999681 Seconds\n",
      "                                      \n",
      "58.4176824523972 -------------------------------------------------------------when m =  2\n",
      "                        Compute Time:  0.6176943000000392 Seconds\n",
      "                                      \n",
      "1552871.13084787 -------------------------------------------------------------when m =  3\n",
      "                        Compute Time:  0.8336731999999074 Seconds\n",
      "                                      \n",
      "1.82897127952040e+20 -------------------------------------------------------------when m =  4\n",
      "                        Compute Time:  6.680456499999991 Seconds\n",
      "                                      \n",
      "1.32124004569319e+60 -------------------------------------------------------------when m =  5\n",
      "                        Compute Time:  17.255297300000052 Seconds\n",
      "                                      \n",
      "0.e+170 -------------------------------------------------------------when m =  6\n",
      "                        Compute Time:  14.982998400000042 Seconds\n",
      "                                      \n",
      "                                                           \n",
      "                                                           \n",
      "                        Average Speed = 6.795062583333333 Seconds     \n",
      "                                                           \n",
      "                                                           \n",
      "                                                           \n",
      "defaultdict(<class 'list'>, {0.4002557999999681: [1], 0.6176943000000392: [2], 0.8336731999999074: [3], 6.680456499999991: [4], 17.255297300000052: [5], 14.982998400000042: [6]})\n"
     ]
    }
   ],
   "source": [
    "import timeit # This returns the time it takes to execute the main statement a number of times, measured in seconds as a float.\n",
    "values = []\n",
    "total_time = []\n",
    "from collections import defaultdict\n",
    "Points = defaultdict(list)\n",
    "\n",
    "for i in range (1,7):\n",
    "    start0 = timeit.default_timer()\n",
    "    print(u.subs(m,i).evalf(),\"-------------------------------------------------------------when m = \",i)\n",
    "    stop0 = timeit.default_timer()\n",
    "    values.append(Integral(Ei(exp(x)),(x,0,)).evalf())\n",
    "    print('                        Compute Time: ', stop0 - start0,'Seconds')  \n",
    "    print('                                      ')\n",
    "    total_time.append(stop0 - start0)\n",
    "    Points[total_time[i-1]].append(i)\n",
    "print('                                                           ')\n",
    "print('                                                           ')\n",
    "print(\"                        Average Speed =\",sum(total_time)/len(values),\"Seconds     \")\n",
    "print('                                                           ')\n",
    "print('                                                           ')\n",
    "print('                                                           ')\n",
    "print(Points)"
   ]
  },
  {
   "cell_type": "code",
   "execution_count": 62,
   "id": "b0ed3669",
   "metadata": {},
   "outputs": [
    {
     "data": {
      "text/html": [
       "<img src=\"https://i.imgur.com/8HOr9wu.png\"/>"
      ],
      "text/plain": [
       "<IPython.core.display.Image object>"
      ]
     },
     "execution_count": 62,
     "metadata": {},
     "output_type": "execute_result"
    }
   ],
   "source": [
    "from IPython.display import Image\n",
    "from IPython.core.display import HTML \n",
    "from sympy import *\n",
    "Image(url= \"https://i.imgur.com/8HOr9wu.png\")"
   ]
  }
 ],
 "metadata": {
  "kernelspec": {
   "display_name": "Python 3 (ipykernel)",
   "language": "python",
   "name": "python3"
  },
  "language_info": {
   "codemirror_mode": {
    "name": "ipython",
    "version": 3
   },
   "file_extension": ".py",
   "mimetype": "text/x-python",
   "name": "python",
   "nbconvert_exporter": "python",
   "pygments_lexer": "ipython3",
   "version": "3.9.6"
  }
 },
 "nbformat": 4,
 "nbformat_minor": 5
}
