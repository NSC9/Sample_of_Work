{
 "cells": [
  {
   "cell_type": "code",
   "execution_count": 157,
   "id": "118d6a3d",
   "metadata": {},
   "outputs": [],
   "source": [
    "from sympy import *\n",
    "from sympy.abc import t,T,m,n,Q"
   ]
  },
  {
   "cell_type": "code",
   "execution_count": 217,
   "id": "df65d6a3",
   "metadata": {},
   "outputs": [
    {
     "name": "stdout",
     "output_type": "stream",
     "text": [
      "Equation representing a house where the parents divides its value to their children after the parent's death.\n"
     ]
    },
    {
     "data": {
      "text/latex": [
       "$\\displaystyle \\int\\limits_{0}^{T} p{\\left(t \\right)}\\, dt = \\frac{m}{n}$"
      ],
      "text/plain": [
       "Eq(Integral(p(t), (t, 0, T)), m/n)"
      ]
     },
     "metadata": {},
     "output_type": "display_data"
    },
    {
     "name": "stdout",
     "output_type": "stream",
     "text": [
      "where \n",
      "     T = length of mortgage in years\n",
      "     p(t) = a function representing the rate at which the parents pays off the mortgage over time\n",
      "     m = total amount of the mortgage\n",
      "     n = # of children that the property is divided to after the death of the parents who have the mortgage\n"
     ]
    }
   ],
   "source": [
    "p = Function('p')\n",
    "q = Function('q')\n",
    "eq = Eq((Integral(p(t),(t,0,T))),m/n,evaluate=False)\n",
    "print(\"Equation representing a house where the parents divides its value to their children after the parent's death.\")\n",
    "display(eq)\n",
    "print(\"where \")\n",
    "print(\"     T = length of mortgage in years\")\n",
    "print(\"     p(t) = a function representing the rate at which the parents pays off the mortgage over time\")\n",
    "print(\"     m = total amount of the mortgage\")\n",
    "print(\"     n = # of children that the property is divided to after the death of the parents who have the mortgage\")\n"
   ]
  },
  {
   "cell_type": "markdown",
   "id": "7ae039f6",
   "metadata": {},
   "source": [
    "Example"
   ]
  },
  {
   "cell_type": "code",
   "execution_count": 218,
   "id": "43364fa0",
   "metadata": {},
   "outputs": [
    {
     "data": {
      "text/latex": [
       "$\\displaystyle \\int\\limits_{0}^{30} p{\\left(t \\right)}\\, dt = \\frac{100000}{n}$"
      ],
      "text/plain": [
       "Eq(Integral(p(t), (t, 0, 30)), 100000/n)"
      ]
     },
     "metadata": {},
     "output_type": "display_data"
    },
    {
     "data": {
      "text/latex": [
       "$\\displaystyle \\int\\limits_{0}^{30} p{\\left(t \\right)}\\, dt = 20000$"
      ],
      "text/plain": [
       "Eq(Integral(p(t), (t, 0, 30)), 20000)"
      ]
     },
     "metadata": {},
     "output_type": "display_data"
    },
    {
     "name": "stdout",
     "output_type": "stream",
     "text": [
      "$20,000 to each of the 5 children for a 30 year mortgage that totalled $100,000.\n"
     ]
    }
   ],
   "source": [
    "display(eq.subs(T,30).subs(m,100_000))\n",
    "display(eq.subs(T,30).subs(m,100_000).subs(n,5))\n",
    "print(\"$20,000 to each of the 5 children for a 30 year mortgage that totalled $100,000.\")"
   ]
  },
  {
   "cell_type": "markdown",
   "id": "22192a76",
   "metadata": {},
   "source": [
    "Say one child, John, wants to help his parents and himself by contributing $2000/year to his parents so that they can pay off their mortgage sooner and enjoy retirement earlier in return that John gets a higher share of the property after the death of John's parents. This deal is to be expressed in his parent's will and is updated each year. "
   ]
  },
  {
   "cell_type": "code",
   "execution_count": 219,
   "id": "2f04f5d9",
   "metadata": {},
   "outputs": [
    {
     "name": "stdout",
     "output_type": "stream",
     "text": [
      "For John's division of his parents will:\n"
     ]
    },
    {
     "data": {
      "text/latex": [
       "$\\displaystyle \\int\\limits_{0}^{T} \\left(p{\\left(t \\right)} + q{\\left(t \\right)}\\right)\\, dt = Q + \\frac{m}{n}$"
      ],
      "text/plain": [
       "Eq(Integral(p(t) + q(t), (t, 0, T)), Q + m/n)"
      ]
     },
     "metadata": {},
     "output_type": "display_data"
    },
    {
     "name": "stdout",
     "output_type": "stream",
     "text": [
      "where \n",
      "     q = Johns contribution\n",
      "     Q = factor increasing John's share\n"
     ]
    }
   ],
   "source": [
    "eq2 = Eq((Integral(p(t)+q(t),(t,0,T))),Q+(m/n),evaluate=False)\n",
    "print(\"For John's division of his parents will:\")\n",
    "display(eq2)\n",
    "print(\"where \")\n",
    "print(\"     q = Johns contribution\")\n",
    "print(\"     Q = factor increasing John's share\")\n"
   ]
  },
  {
   "cell_type": "code",
   "execution_count": 220,
   "id": "5775d88f",
   "metadata": {},
   "outputs": [
    {
     "data": {
      "text/latex": [
       "$\\displaystyle \\int\\limits_{0}^{30} \\left(p{\\left(t \\right)} + q{\\left(t \\right)}\\right)\\, dt = Q + \\frac{100000}{n}$"
      ],
      "text/plain": [
       "Eq(Integral(p(t) + q(t), (t, 0, 30)), Q + 100000/n)"
      ]
     },
     "metadata": {},
     "output_type": "display_data"
    }
   ],
   "source": [
    "display(eq2.subs(T,30).subs(m,100_000))"
   ]
  },
  {
   "cell_type": "code",
   "execution_count": 221,
   "id": "15140435",
   "metadata": {},
   "outputs": [
    {
     "data": {
      "text/latex": [
       "$\\displaystyle \\int\\limits_{0}^{30} p{\\left(t \\right)}\\, dt + \\int\\limits_{0}^{30} q{\\left(t \\right)}\\, dt = Q + 20000$"
      ],
      "text/plain": [
       "Eq(Integral(p(t), (t, 0, 30)) + Integral(q(t), (t, 0, 30)), Q + 20000)"
      ]
     },
     "metadata": {},
     "output_type": "display_data"
    }
   ],
   "source": [
    "display(expand(eq2.subs(T,30).subs(m,100_000).subs(n,5)))"
   ]
  },
  {
   "cell_type": "code",
   "execution_count": 223,
   "id": "32a4ab35",
   "metadata": {},
   "outputs": [
    {
     "data": {
      "text/latex": [
       "$\\displaystyle \\int\\limits_{0}^{T} p{\\left(t \\right)}\\, dt = \\frac{m}{n} + \\int\\limits_{0}^{T} q{\\left(t \\right)}\\, dt$"
      ],
      "text/plain": [
       "Eq(Integral(p(t), (t, 0, T)), m/n + Integral(q(t), (t, 0, T)))"
      ]
     },
     "metadata": {},
     "output_type": "display_data"
    },
    {
     "name": "stdout",
     "output_type": "stream",
     "text": [
      "     for John's division of the property\n"
     ]
    }
   ],
   "source": [
    "display(Eq(eq.lhs,eq.rhs+eq.lhs.subs(p(t),q(t))))\n",
    "print(\"     for John's division of the property\")"
   ]
  },
  {
   "cell_type": "code",
   "execution_count": 225,
   "id": "99094a9e",
   "metadata": {},
   "outputs": [
    {
     "data": {
      "text/latex": [
       "$\\displaystyle \\int\\limits_{0}^{T} p{\\left(t \\right)}\\, dt = \\frac{m}{n} - \\int\\limits_{0}^{T} q{\\left(t \\right)}\\, dt$"
      ],
      "text/plain": [
       "Eq(Integral(p(t), (t, 0, T)), m/n - Integral(q(t), (t, 0, T)))"
      ]
     },
     "metadata": {},
     "output_type": "display_data"
    },
    {
     "name": "stdout",
     "output_type": "stream",
     "text": [
      "     for every child that is not John's division of the property\n"
     ]
    }
   ],
   "source": [
    "display(Eq(eq.lhs,eq.rhs-eq.lhs.subs(p(t),q(t))))\n",
    "print(\"     for every child that is not John's division of the property\")"
   ]
  },
  {
   "cell_type": "markdown",
   "id": "ce46c87d",
   "metadata": {},
   "source": [
    "The above equations works if John simply wants to get back the money he put in after his parents die. John wants his contribution to be like an investment that grows over time and thus"
   ]
  },
  {
   "cell_type": "code",
   "execution_count": 226,
   "id": "08468e30",
   "metadata": {},
   "outputs": [
    {
     "data": {
      "text/latex": [
       "$\\displaystyle Q = \\frac{\\int\\limits_{0}^{T} q{\\left(t \\right)}\\, dt}{\\int\\limits_{0}^{T} p{\\left(t \\right)}\\, dt}$"
      ],
      "text/plain": [
       "Eq(Q, Integral(q(t), (t, 0, T))/Integral(p(t), (t, 0, T)))"
      ]
     },
     "execution_count": 226,
     "metadata": {},
     "output_type": "execute_result"
    }
   ],
   "source": [
    "from sympy.abc import psi\n",
    "eq3 = Eq(Q,eq.lhs.subs(p(t),q(t))/eq.lhs)\n",
    "eq3"
   ]
  },
  {
   "cell_type": "code",
   "execution_count": 227,
   "id": "2c516e60",
   "metadata": {},
   "outputs": [
    {
     "data": {
      "text/latex": [
       "$\\displaystyle \\int\\limits_{0}^{T} \\left(p{\\left(t \\right)} + q{\\left(t \\right)}\\right)\\, dt = \\frac{m}{n} + \\frac{\\int\\limits_{0}^{T} q{\\left(t \\right)}\\, dt}{\\int\\limits_{0}^{T} p{\\left(t \\right)}\\, dt}$"
      ],
      "text/plain": [
       "Eq(Integral(p(t) + q(t), (t, 0, T)), m/n + Integral(q(t), (t, 0, T))/Integral(p(t), (t, 0, T)))"
      ]
     },
     "execution_count": 227,
     "metadata": {},
     "output_type": "execute_result"
    }
   ],
   "source": [
    "eq2.subs(Q,eq3.rhs)"
   ]
  },
  {
   "cell_type": "markdown",
   "id": "7cb32a2e",
   "metadata": {},
   "source": [
    "Example:\n",
    "\n",
    "Say John's parent's mortgage is 100,000 dollars\n",
    "and they pay the mortgage in 30 years with the aid of John's contribution of $2,000 per year. The property is divided by 5 children.\n"
   ]
  },
  {
   "cell_type": "code",
   "execution_count": 230,
   "id": "c8448110",
   "metadata": {},
   "outputs": [
    {
     "data": {
      "text/latex": [
       "$\\displaystyle \\int\\limits_{0}^{30} \\left(p{\\left(t \\right)} + q{\\left(t \\right)}\\right)\\, dt = 20000 + \\frac{\\int\\limits_{0}^{30} q{\\left(t \\right)}\\, dt}{\\int\\limits_{0}^{30} p{\\left(t \\right)}\\, dt}$"
      ],
      "text/plain": [
       "Eq(Integral(p(t) + q(t), (t, 0, 30)), 20000 + Integral(q(t), (t, 0, 30))/Integral(p(t), (t, 0, 30)))"
      ]
     },
     "execution_count": 230,
     "metadata": {},
     "output_type": "execute_result"
    }
   ],
   "source": [
    "eq2.subs(Q,eq3.rhs).subs(T,30).subs(m,100000).subs(n,5)"
   ]
  },
  {
   "cell_type": "code",
   "execution_count": 233,
   "id": "d4b0b70d",
   "metadata": {},
   "outputs": [
    {
     "data": {
      "text/latex": [
       "$\\displaystyle \\int\\limits_{0}^{30} \\left(p{\\left(t \\right)} + q{\\left(t \\right)}\\right)\\, dt = 20000 + \\frac{\\int\\limits_{0}^{30} q{\\left(t \\right)}\\, dt}{\\int\\limits_{0}^{30} p{\\left(t \\right)}\\, dt}$"
      ],
      "text/plain": [
       "Eq(Integral(p(t) + q(t), (t, 0, 30)), 20000 + Integral(q(t), (t, 0, 30))/Integral(p(t), (t, 0, 30)))"
      ]
     },
     "metadata": {},
     "output_type": "display_data"
    },
    {
     "name": "stdout",
     "output_type": "stream",
     "text": [
      "say q(t) = 5000\n"
     ]
    },
    {
     "data": {
      "text/latex": [
       "$\\displaystyle \\int\\limits_{0}^{30} \\left(p{\\left(t \\right)} + q{\\left(t \\right)}\\right)\\, dt = 20000 + \\frac{\\int\\limits_{0}^{30} q{\\left(t \\right)}\\, dt}{\\int\\limits_{0}^{30} p{\\left(t \\right)}\\, dt}$"
      ],
      "text/plain": [
       "Eq(Integral(p(t) + q(t), (t, 0, 30)), 20000 + Integral(q(t), (t, 0, 30))/Integral(p(t), (t, 0, 30)))"
      ]
     },
     "metadata": {},
     "output_type": "display_data"
    }
   ],
   "source": [
    "display(eq2.subs(Q,eq3.rhs).subs(T,30).subs(m,100000).subs(n,5))\n",
    "print(\"say q(t) = 5000\")\n",
    "display(eq2.subs(Q,eq3.rhs).subs(T,30).subs(m,100000).subs(n,5))"
   ]
  },
  {
   "cell_type": "code",
   "execution_count": 250,
   "id": "598f6890",
   "metadata": {},
   "outputs": [
    {
     "data": {
      "text/latex": [
       "$\\displaystyle \\frac{d}{d T} \\int\\limits_{0}^{T} \\left(p{\\left(t \\right)} + q{\\left(t \\right)}\\right)\\, dt = p{\\left(T \\right)} + q{\\left(T \\right)}$"
      ],
      "text/plain": [
       "Eq(Derivative(Integral(p(t) + q(t), (t, 0, T)), T), p(T) + q(T))"
      ]
     },
     "execution_count": 250,
     "metadata": {},
     "output_type": "execute_result"
    }
   ],
   "source": [
    "Eq(Derivative(eq2.subs(Q,eq3.rhs).lhs,T),Derivative(eq2.subs(Q,eq3.rhs).lhs,T).doit())"
   ]
  },
  {
   "cell_type": "code",
   "execution_count": 294,
   "id": "68d2c5fc",
   "metadata": {},
   "outputs": [
    {
     "data": {
      "text/latex": [
       "$\\displaystyle p{\\left(T \\right)} + q{\\left(T \\right)} = \\frac{d}{d T} \\left(20000 + \\frac{\\int\\limits_{0}^{T} q{\\left(t \\right)}\\, dt}{\\int\\limits_{0}^{T} p{\\left(t \\right)}\\, dt}\\right)$"
      ],
      "text/plain": [
       "Eq(p(T) + q(T), Derivative(20000 + Integral(q(t), (t, 0, T))/Integral(p(t), (t, 0, T)), T))"
      ]
     },
     "metadata": {},
     "output_type": "display_data"
    },
    {
     "data": {
      "text/latex": [
       "$\\displaystyle p{\\left(T \\right)} + q{\\left(T \\right)} = - \\frac{p{\\left(T \\right)} \\int\\limits_{0}^{T} q{\\left(t \\right)}\\, dt}{\\left(\\int\\limits_{0}^{T} p{\\left(t \\right)}\\, dt\\right)^{2}} + \\frac{q{\\left(T \\right)}}{\\int\\limits_{0}^{T} p{\\left(t \\right)}\\, dt}$"
      ],
      "text/plain": [
       "Eq(p(T) + q(T), -p(T)*Integral(q(t), (t, 0, T))/Integral(p(t), (t, 0, T))**2 + q(T)/Integral(p(t), (t, 0, T)))"
      ]
     },
     "metadata": {},
     "output_type": "display_data"
    },
    {
     "data": {
      "text/latex": [
       "$\\displaystyle p{\\left(30 \\right)} + q{\\left(30 \\right)} = - \\frac{p{\\left(30 \\right)} \\int\\limits_{0}^{30} q{\\left(t \\right)}\\, dt}{\\left(\\int\\limits_{0}^{30} p{\\left(t \\right)}\\, dt\\right)^{2}} + \\frac{q{\\left(30 \\right)}}{\\int\\limits_{0}^{30} p{\\left(t \\right)}\\, dt}$"
      ],
      "text/plain": [
       "Eq(p(30) + q(30), -p(30)*Integral(q(t), (t, 0, 30))/Integral(p(t), (t, 0, 30))**2 + q(30)/Integral(p(t), (t, 0, 30)))"
      ]
     },
     "metadata": {},
     "output_type": "display_data"
    }
   ],
   "source": [
    "eq6 = Eq(Derivative(eq2.subs(Q,eq3.rhs).lhs,T),Derivative(eq2.subs(Q,eq3.rhs).lhs,T).doit()).rhs\n",
    "eq7 = eq2.subs(Q,eq3.rhs).subs(m,100000).subs(n,5).rhs\n",
    "display(Eq(eq6,Derivative(eq7,T)))\n",
    "display(Eq(eq6,Derivative(eq7,T).doit()))\n",
    "display(Eq(eq6,Derivative(eq7,T).doit()).subs(T,30))"
   ]
  },
  {
   "cell_type": "code",
   "execution_count": null,
   "id": "bcabc5d4",
   "metadata": {},
   "outputs": [],
   "source": []
  }
 ],
 "metadata": {
  "kernelspec": {
   "display_name": "Python 3 (ipykernel)",
   "language": "python",
   "name": "python3"
  },
  "language_info": {
   "codemirror_mode": {
    "name": "ipython",
    "version": 3
   },
   "file_extension": ".py",
   "mimetype": "text/x-python",
   "name": "python",
   "nbconvert_exporter": "python",
   "pygments_lexer": "ipython3",
   "version": "3.8.10"
  }
 },
 "nbformat": 4,
 "nbformat_minor": 5
}
