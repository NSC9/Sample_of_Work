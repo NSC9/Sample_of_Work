{
 "cells": [
  {
   "cell_type": "markdown",
   "id": "0625835f",
   "metadata": {},
   "source": [
    "Credits to https://people.math.harvard.edu/~knill/teaching/math1a_2011/handouts/46-ai.pdf\n",
    "\n",
    "Notebook by github.com/nsc9\n"
   ]
  },
  {
   "cell_type": "code",
   "execution_count": 2,
   "id": "9aef0f0e",
   "metadata": {},
   "outputs": [],
   "source": [
    "# Thanks to @smichr for .replace suggestion https://stackoverflow.com/a/73000728/17291132 \n",
    "from sympy import sqrt,sin,cos,log,exp,tan,Function,Derivative,Eq,Pow,S,sympify,Integral,plot,cbrt,Limit\n",
    "from sympy.abc import x\n",
    "import random\n",
    "f = Function('f')\n",
    "g = Function('g')\n",
    "h = Function('h')"
   ]
  },
  {
   "cell_type": "code",
   "execution_count": 3,
   "id": "108761f9",
   "metadata": {
    "scrolled": false
   },
   "outputs": [
    {
     "data": {
      "text/latex": [
       "$\\displaystyle \\frac{d}{d x} \\sin{\\left(e^{\\sqrt[3]{x}} \\right)} = \\frac{e^{\\sqrt[3]{x}} \\cos{\\left(e^{\\sqrt[3]{x}} \\right)}}{3 x^{\\frac{2}{3}}}$"
      ],
      "text/plain": [
       "Eq(Derivative(sin(exp(x**(1/3))), x), exp(x**(1/3))*cos(exp(x**(1/3)))/(3*x**(2/3)))"
      ]
     },
     "metadata": {},
     "output_type": "display_data"
    },
    {
     "data": {
      "text/latex": [
       "$\\displaystyle \\int \\sqrt[3]{\\log{\\left(x \\right)}}\\, dx = \\frac{\\sqrt[3]{\\log{\\left(x \\right)}} \\Gamma\\left(\\frac{4}{3}, - \\log{\\left(x \\right)}\\right)}{\\sqrt[3]{- \\log{\\left(x \\right)}}}$"
      ],
      "text/plain": [
       "Eq(Integral(log(x)**(1/3), x), log(x)**(1/3)*uppergamma(4/3, -log(x))/(-log(x))**(1/3))"
      ]
     },
     "metadata": {},
     "output_type": "display_data"
    },
    {
     "data": {
      "text/latex": [
       "$\\displaystyle \\frac{d}{d x} \\frac{\\log{\\left(\\sqrt{x} \\right)}}{\\sqrt{x}} = - \\frac{\\log{\\left(\\sqrt{x} \\right)}}{2 x^{\\frac{3}{2}}} + \\frac{1}{2 x^{\\frac{3}{2}}}$"
      ],
      "text/plain": [
       "Eq(Derivative(log(sqrt(x))/sqrt(x), x), -log(sqrt(x))/(2*x**(3/2)) + 1/(2*x**(3/2)))"
      ]
     },
     "metadata": {},
     "output_type": "display_data"
    },
    {
     "data": {
      "text/latex": [
       "$\\displaystyle \\int \\frac{\\log{\\left(x \\right)}}{x + 2}\\, dx = \\begin{cases} - \\operatorname{Li}_{2}\\left(\\frac{x}{2} + 1\\right) & \\text{for}\\: \\frac{1}{\\left|{x + 2}\\right|} < 1 \\wedge \\left|{x + 2}\\right| < 1 \\\\\\log{\\left(2 \\right)} \\log{\\left(x + 2 \\right)} + 3 i \\pi \\log{\\left(x + 2 \\right)} - \\operatorname{Li}_{2}\\left(\\frac{x}{2} + 1\\right) & \\text{for}\\: \\left|{x + 2}\\right| < 1 \\\\- \\log{\\left(2 \\right)} \\log{\\left(\\frac{1}{x + 2} \\right)} - 3 i \\pi \\log{\\left(\\frac{1}{x + 2} \\right)} - \\operatorname{Li}_{2}\\left(\\frac{x}{2} + 1\\right) & \\text{for}\\: \\frac{1}{\\left|{x + 2}\\right|} < 1 \\\\- {G_{2, 2}^{2, 0}\\left(\\begin{matrix}  & 1, 1 \\\\0, 0 &  \\end{matrix} \\middle| {x + 2} \\right)} \\log{\\left(2 \\right)} - 3 i \\pi {G_{2, 2}^{2, 0}\\left(\\begin{matrix}  & 1, 1 \\\\0, 0 &  \\end{matrix} \\middle| {x + 2} \\right)} + {G_{2, 2}^{0, 2}\\left(\\begin{matrix} 1, 1 &  \\\\ & 0, 0 \\end{matrix} \\middle| {x + 2} \\right)} \\log{\\left(2 \\right)} + 3 i \\pi {G_{2, 2}^{0, 2}\\left(\\begin{matrix} 1, 1 &  \\\\ & 0, 0 \\end{matrix} \\middle| {x + 2} \\right)} - \\operatorname{Li}_{2}\\left(\\frac{x}{2} + 1\\right) & \\text{otherwise} \\end{cases}$"
      ],
      "text/plain": [
       "Eq(Integral(log(x)/(x + 2), x), Piecewise((-polylog(2, x/2 + 1), (Abs(x + 2) < 1) & (1/Abs(x + 2) < 1)), (log(2)*log(x + 2) + 3*I*pi*log(x + 2) - polylog(2, x/2 + 1), Abs(x + 2) < 1), (-log(2)*log(1/(x + 2)) - 3*I*pi*log(1/(x + 2)) - polylog(2, x/2 + 1), 1/Abs(x + 2) < 1), (-meijerg(((), (1, 1)), ((0, 0), ()), x + 2)*log(2) - 3*I*pi*meijerg(((), (1, 1)), ((0, 0), ()), x + 2) + meijerg(((1, 1), ()), ((), (0, 0)), x + 2)*log(2) + 3*I*pi*meijerg(((1, 1), ()), ((), (0, 0)), x + 2) - polylog(2, x/2 + 1), True)))"
      ]
     },
     "metadata": {},
     "output_type": "display_data"
    },
    {
     "data": {
      "text/latex": [
       "$\\displaystyle \\frac{d}{d x} \\log{\\left(3 - x \\right)} = - \\frac{1}{3 - x}$"
      ],
      "text/plain": [
       "Eq(Derivative(log(3 - x), x), -1/(3 - x))"
      ]
     },
     "metadata": {},
     "output_type": "display_data"
    },
    {
     "data": {
      "text/latex": [
       "$\\displaystyle \\int \\left(- \\sin{\\left(x \\right)} + \\frac{1}{x^{4}}\\right)\\, dx = \\cos{\\left(x \\right)} - \\frac{1}{3 x^{3}}$"
      ],
      "text/plain": [
       "Eq(Integral(-sin(x) + x**(-4), x), cos(x) - 1/(3*x**3))"
      ]
     },
     "metadata": {},
     "output_type": "display_data"
    },
    {
     "data": {
      "text/latex": [
       "$\\displaystyle \\frac{d}{d x} \\left(- \\cos{\\left(x \\right)} + \\sqrt{\\tan{\\left(x \\right)}}\\right) = \\frac{\\frac{\\tan^{2}{\\left(x \\right)}}{2} + \\frac{1}{2}}{\\sqrt{\\tan{\\left(x \\right)}}} + \\sin{\\left(x \\right)}$"
      ],
      "text/plain": [
       "Eq(Derivative(-cos(x) + sqrt(tan(x)), x), (tan(x)**2/2 + 1/2)/sqrt(tan(x)) + sin(x))"
      ]
     },
     "metadata": {},
     "output_type": "display_data"
    },
    {
     "data": {
      "text/latex": [
       "$\\displaystyle \\int \\left(\\log{\\left(x \\right)} - \\tan{\\left(x \\right)}\\right)\\, dx = x \\log{\\left(x \\right)} - x + \\log{\\left(\\cos{\\left(x \\right)} \\right)}$"
      ],
      "text/plain": [
       "Eq(Integral(log(x) - tan(x), x), x*log(x) - x + log(cos(x)))"
      ]
     },
     "metadata": {},
     "output_type": "display_data"
    },
    {
     "data": {
      "text/latex": [
       "$\\displaystyle \\frac{d}{d x} \\frac{\\sqrt[3]{\\tan{\\left(x \\right)}}}{x - 4} = \\frac{\\frac{\\tan^{2}{\\left(x \\right)}}{3} + \\frac{1}{3}}{\\left(x - 4\\right) \\tan^{\\frac{2}{3}}{\\left(x \\right)}} - \\frac{\\sqrt[3]{\\tan{\\left(x \\right)}}}{\\left(x - 4\\right)^{2}}$"
      ],
      "text/plain": [
       "Eq(Derivative(tan(x)**(1/3)/(x - 4), x), (tan(x)**2/3 + 1/3)/((x - 4)*tan(x)**(2/3)) - tan(x)**(1/3)/(x - 4)**2)"
      ]
     },
     "metadata": {},
     "output_type": "display_data"
    },
    {
     "data": {
      "text/latex": [
       "$\\displaystyle \\int \\left(- \\tan{\\left(x \\right)} + \\tan{\\left(\\cos{\\left(x \\right)} \\right)}\\right)\\, dx = \\int \\left(- \\tan{\\left(x \\right)} + \\tan{\\left(\\cos{\\left(x \\right)} \\right)}\\right)\\, dx$"
      ],
      "text/plain": [
       "Eq(Integral(-tan(x) + tan(cos(x)), x), Integral(-tan(x) + tan(cos(x)), x))"
      ]
     },
     "metadata": {},
     "output_type": "display_data"
    },
    {
     "data": {
      "text/latex": [
       "$\\displaystyle \\frac{d}{d x} x = 1$"
      ],
      "text/plain": [
       "Eq(Derivative(x, x), 1)"
      ]
     },
     "metadata": {},
     "output_type": "display_data"
    },
    {
     "data": {
      "text/latex": [
       "$\\displaystyle \\int \\sqrt{\\log{\\left(x \\right)}}\\, dx = \\frac{\\left(x \\sqrt{- \\log{\\left(x \\right)}} + \\frac{\\sqrt{\\pi} \\operatorname{erfc}{\\left(\\sqrt{- \\log{\\left(x \\right)}} \\right)}}{2}\\right) \\sqrt{\\log{\\left(x \\right)}}}{\\sqrt{- \\log{\\left(x \\right)}}}$"
      ],
      "text/plain": [
       "Eq(Integral(sqrt(log(x)), x), (x*sqrt(-log(x)) + sqrt(pi)*erfc(sqrt(-log(x)))/2)*sqrt(log(x))/sqrt(-log(x)))"
      ]
     },
     "metadata": {},
     "output_type": "display_data"
    },
    {
     "data": {
      "text/latex": [
       "$\\displaystyle \\frac{d}{d x} \\left(- e^{x} + e^{\\sin{\\left(x \\right)}}\\right) = - e^{x} + e^{\\sin{\\left(x \\right)}} \\cos{\\left(x \\right)}$"
      ],
      "text/plain": [
       "Eq(Derivative(-exp(x) + exp(sin(x)), x), -exp(x) + exp(sin(x))*cos(x))"
      ]
     },
     "metadata": {},
     "output_type": "display_data"
    },
    {
     "data": {
      "text/latex": [
       "$\\displaystyle \\int \\frac{x - 3}{\\cos{\\left(\\cos{\\left(x \\right)} \\right)}}\\, dx = \\int \\frac{x - 3}{\\cos{\\left(\\cos{\\left(x \\right)} \\right)}}\\, dx$"
      ],
      "text/plain": [
       "Eq(Integral((x - 3)/cos(cos(x)), x), Integral((x - 3)/cos(cos(x)), x))"
      ]
     },
     "metadata": {},
     "output_type": "display_data"
    },
    {
     "data": {
      "text/latex": [
       "$\\displaystyle \\frac{d}{d x} \\left(2 x - \\tan{\\left(x \\right)}\\right) = 1 - \\tan^{2}{\\left(x \\right)}$"
      ],
      "text/plain": [
       "Eq(Derivative(2*x - tan(x), x), 1 - tan(x)**2)"
      ]
     },
     "metadata": {},
     "output_type": "display_data"
    },
    {
     "data": {
      "text/latex": [
       "$\\displaystyle \\int \\left(- x + e^{x} + 3 + \\frac{1}{x^{2}}\\right)\\, dx = - \\frac{x^{2}}{2} + 3 x + e^{x} - \\frac{1}{x}$"
      ],
      "text/plain": [
       "Eq(Integral(-x + exp(x) + 3 + x**(-2), x), -x**2/2 + 3*x + exp(x) - 1/x)"
      ]
     },
     "metadata": {},
     "output_type": "display_data"
    },
    {
     "data": {
      "text/latex": [
       "$\\displaystyle \\frac{d}{d x} \\log{\\left(\\tan{\\left(x \\right)} \\right)} \\tan{\\left(x \\right)} = \\left(\\tan^{2}{\\left(x \\right)} + 1\\right) \\log{\\left(\\tan{\\left(x \\right)} \\right)} + \\tan^{2}{\\left(x \\right)} + 1$"
      ],
      "text/plain": [
       "Eq(Derivative(log(tan(x))*tan(x), x), (tan(x)**2 + 1)*log(tan(x)) + tan(x)**2 + 1)"
      ]
     },
     "metadata": {},
     "output_type": "display_data"
    },
    {
     "data": {
      "text/latex": [
       "$\\displaystyle \\int \\left(x - e^{x}\\right)\\, dx = \\frac{x^{2}}{2} - e^{x}$"
      ],
      "text/plain": [
       "Eq(Integral(x - exp(x), x), x**2/2 - exp(x))"
      ]
     },
     "metadata": {},
     "output_type": "display_data"
    },
    {
     "data": {
      "text/latex": [
       "$\\displaystyle \\frac{d}{d x} \\cos{\\left(\\sin{\\left(e^{x} \\right)} \\right)} = - e^{x} \\sin{\\left(\\sin{\\left(e^{x} \\right)} \\right)} \\cos{\\left(e^{x} \\right)}$"
      ],
      "text/plain": [
       "Eq(Derivative(cos(sin(exp(x))), x), -exp(x)*sin(sin(exp(x)))*cos(exp(x)))"
      ]
     },
     "metadata": {},
     "output_type": "display_data"
    },
    {
     "data": {
      "text/latex": [
       "$\\displaystyle \\int x \\tan{\\left(x \\right)}\\, dx = \\int x \\tan{\\left(x \\right)}\\, dx$"
      ],
      "text/plain": [
       "Eq(Integral(x*tan(x), x), Integral(x*tan(x), x))"
      ]
     },
     "metadata": {},
     "output_type": "display_data"
    },
    {
     "data": {
      "text/latex": [
       "$\\displaystyle \\frac{d}{d x} \\left(\\sqrt[3]{x^{2}} + \\sin{\\left(x \\right)}\\right) = \\cos{\\left(x \\right)} + \\frac{2 \\sqrt[3]{x^{2}}}{3 x}$"
      ],
      "text/plain": [
       "Eq(Derivative((x**2)**(1/3) + sin(x), x), cos(x) + 2*(x**2)**(1/3)/(3*x))"
      ]
     },
     "metadata": {},
     "output_type": "display_data"
    },
    {
     "data": {
      "text/latex": [
       "$\\displaystyle \\int \\frac{\\sqrt{x}}{\\sin{\\left(x \\right)}}\\, dx = \\int \\frac{\\sqrt{x}}{\\sin{\\left(x \\right)}}\\, dx$"
      ],
      "text/plain": [
       "Eq(Integral(sqrt(x)/sin(x), x), Integral(sqrt(x)/sin(x), x))"
      ]
     },
     "metadata": {},
     "output_type": "display_data"
    },
    {
     "data": {
      "text/latex": [
       "$\\displaystyle \\frac{d}{d x} \\frac{e^{x}}{\\sqrt[3]{x}} = \\frac{e^{x}}{\\sqrt[3]{x}} - \\frac{e^{x}}{3 x^{\\frac{4}{3}}}$"
      ],
      "text/plain": [
       "Eq(Derivative(exp(x)/x**(1/3), x), exp(x)/x**(1/3) - exp(x)/(3*x**(4/3)))"
      ]
     },
     "metadata": {},
     "output_type": "display_data"
    },
    {
     "data": {
      "text/latex": [
       "$\\displaystyle \\int \\frac{e^{x}}{\\sin{\\left(x \\right)}}\\, dx = \\int \\frac{e^{x}}{\\sin{\\left(x \\right)}}\\, dx$"
      ],
      "text/plain": [
       "Eq(Integral(exp(x)/sin(x), x), Integral(exp(x)/sin(x), x))"
      ]
     },
     "metadata": {},
     "output_type": "display_data"
    },
    {
     "data": {
      "text/latex": [
       "$\\displaystyle \\frac{d}{d x} \\frac{\\sqrt[3]{x}}{x + 2} = - \\frac{\\sqrt[3]{x}}{\\left(x + 2\\right)^{2}} + \\frac{1}{3 x^{\\frac{2}{3}} \\left(x + 2\\right)}$"
      ],
      "text/plain": [
       "Eq(Derivative(x**(1/3)/(x + 2), x), -x**(1/3)/(x + 2)**2 + 1/(3*x**(2/3)*(x + 2)))"
      ]
     },
     "metadata": {},
     "output_type": "display_data"
    },
    {
     "data": {
      "text/latex": [
       "$\\displaystyle \\int x^{\\frac{3}{2}}\\, dx = \\frac{2 x^{\\frac{5}{2}}}{5}$"
      ],
      "text/plain": [
       "Eq(Integral(x**(3/2), x), 2*x**(5/2)/5)"
      ]
     },
     "metadata": {},
     "output_type": "display_data"
    },
    {
     "data": {
      "text/latex": [
       "$\\displaystyle \\frac{d}{d x} \\frac{1}{x^{\\frac{10}{3}}} = - \\frac{10}{3 x^{\\frac{13}{3}}}$"
      ],
      "text/plain": [
       "Eq(Derivative(x**(-10/3), x), -10/(3*x**(13/3)))"
      ]
     },
     "metadata": {},
     "output_type": "display_data"
    },
    {
     "data": {
      "text/latex": [
       "$\\displaystyle \\int \\sqrt[3]{x} \\cos{\\left(x \\right)}\\, dx = \\frac{x^{\\frac{4}{3}} \\Gamma\\left(\\frac{2}{3}\\right) {{}_{1}F_{2}\\left(\\begin{matrix} \\frac{2}{3} \\\\ \\frac{1}{2}, \\frac{5}{3} \\end{matrix}\\middle| {- \\frac{x^{2}}{4}} \\right)}}{2 \\Gamma\\left(\\frac{5}{3}\\right)}$"
      ],
      "text/plain": [
       "Eq(Integral(x**(1/3)*cos(x), x), x**(4/3)*gamma(2/3)*hyper((2/3,), (1/2, 5/3), -x**2/4)/(2*gamma(5/3)))"
      ]
     },
     "metadata": {},
     "output_type": "display_data"
    },
    {
     "data": {
      "text/latex": [
       "$\\displaystyle \\frac{d}{d x} \\cos{\\left(x \\right)} \\tan{\\left(x \\right)} = \\left(\\tan^{2}{\\left(x \\right)} + 1\\right) \\cos{\\left(x \\right)} - \\sin{\\left(x \\right)} \\tan{\\left(x \\right)}$"
      ],
      "text/plain": [
       "Eq(Derivative(cos(x)*tan(x), x), (tan(x)**2 + 1)*cos(x) - sin(x)*tan(x))"
      ]
     },
     "metadata": {},
     "output_type": "display_data"
    },
    {
     "data": {
      "text/latex": [
       "$\\displaystyle \\int \\sqrt{x} e^{\\sqrt{x}}\\, dx = - 4 \\sqrt{x} e^{\\sqrt{x}} + 2 x e^{\\sqrt{x}} + 4 e^{\\sqrt{x}}$"
      ],
      "text/plain": [
       "Eq(Integral(sqrt(x)*exp(sqrt(x)), x), -4*sqrt(x)*exp(sqrt(x)) + 2*x*exp(sqrt(x)) + 4*exp(sqrt(x)))"
      ]
     },
     "metadata": {},
     "output_type": "display_data"
    },
    {
     "data": {
      "text/latex": [
       "$\\displaystyle \\frac{d}{d x} \\left(x + 4\\right) = 1$"
      ],
      "text/plain": [
       "Eq(Derivative(x + 4, x), 1)"
      ]
     },
     "metadata": {},
     "output_type": "display_data"
    },
    {
     "data": {
      "text/latex": [
       "$\\displaystyle \\int \\frac{x^{2} + 3}{\\tan{\\left(x \\right)}}\\, dx = \\int \\frac{x^{2} + 3}{\\tan{\\left(x \\right)}}\\, dx$"
      ],
      "text/plain": [
       "Eq(Integral((x**2 + 3)/tan(x), x), Integral((x**2 + 3)/tan(x), x))"
      ]
     },
     "metadata": {},
     "output_type": "display_data"
    },
    {
     "data": {
      "text/latex": [
       "$\\displaystyle \\frac{d}{d x} \\left(\\sqrt[3]{x} - \\log{\\left(x \\right)}\\right) = - \\frac{1}{x} + \\frac{1}{3 x^{\\frac{2}{3}}}$"
      ],
      "text/plain": [
       "Eq(Derivative(x**(1/3) - log(x), x), -1/x + 1/(3*x**(2/3)))"
      ]
     },
     "metadata": {},
     "output_type": "display_data"
    },
    {
     "data": {
      "text/latex": [
       "$\\displaystyle \\int \\left(\\sqrt{x} + \\cos{\\left(3 x \\right)}\\right)\\, dx = \\frac{2 x^{\\frac{3}{2}}}{3} + \\frac{\\sin{\\left(3 x \\right)}}{3}$"
      ],
      "text/plain": [
       "Eq(Integral(sqrt(x) + cos(3*x), x), 2*x**(3/2)/3 + sin(3*x)/3)"
      ]
     },
     "metadata": {},
     "output_type": "display_data"
    },
    {
     "data": {
      "text/latex": [
       "$\\displaystyle \\frac{d}{d x} \\cos^{2}{\\left(x \\right)} = - 2 \\sin{\\left(x \\right)} \\cos{\\left(x \\right)}$"
      ],
      "text/plain": [
       "Eq(Derivative(cos(x)**2, x), -2*sin(x)*cos(x))"
      ]
     },
     "metadata": {},
     "output_type": "display_data"
    },
    {
     "data": {
      "text/latex": [
       "$\\displaystyle \\int \\cos{\\left(x - \\frac{1}{x^{3}} \\right)}\\, dx = \\int \\cos{\\left(x - \\frac{1}{x^{3}} \\right)}\\, dx$"
      ],
      "text/plain": [
       "Eq(Integral(cos(x - 1/x**3), x), Integral(cos(x - 1/x**3), x))"
      ]
     },
     "metadata": {},
     "output_type": "display_data"
    },
    {
     "data": {
      "text/latex": [
       "$\\displaystyle \\frac{d}{d x} \\frac{- x - 4 + \\frac{1}{x^{3}}}{\\sqrt{x + 2}} = \\frac{-1 - \\frac{3}{x^{4}}}{\\sqrt{x + 2}} - \\frac{- x - 4 + \\frac{1}{x^{3}}}{2 \\left(x + 2\\right)^{\\frac{3}{2}}}$"
      ],
      "text/plain": [
       "Eq(Derivative((-x - 4 + x**(-3))/sqrt(x + 2), x), (-1 - 3/x**4)/sqrt(x + 2) - (-x - 4 + x**(-3))/(2*(x + 2)**(3/2)))"
      ]
     },
     "metadata": {},
     "output_type": "display_data"
    },
    {
     "data": {
      "text/latex": [
       "$\\displaystyle \\int \\sin{\\left(x \\right)} \\cos{\\left(\\cos{\\left(x \\right)} \\right)}\\, dx = - \\sin{\\left(\\cos{\\left(x \\right)} \\right)}$"
      ],
      "text/plain": [
       "Eq(Integral(sin(x)*cos(cos(x)), x), -sin(cos(x)))"
      ]
     },
     "metadata": {},
     "output_type": "display_data"
    },
    {
     "data": {
      "text/latex": [
       "$\\displaystyle \\frac{d}{d x} \\frac{x^{5}}{\\tan{\\left(x \\right)}} = \\frac{x^{5} \\left(- \\tan^{2}{\\left(x \\right)} - 1\\right)}{\\tan^{2}{\\left(x \\right)}} + \\frac{5 x^{4}}{\\tan{\\left(x \\right)}}$"
      ],
      "text/plain": [
       "Eq(Derivative(x**5/tan(x), x), x**5*(-tan(x)**2 - 1)/tan(x)**2 + 5*x**4/tan(x))"
      ]
     },
     "metadata": {},
     "output_type": "display_data"
    },
    {
     "data": {
      "text/latex": [
       "$\\displaystyle \\int \\frac{\\sqrt{\\sin{\\left(x \\right)}}}{\\sqrt[3]{x}}\\, dx = \\int \\frac{\\sqrt{\\sin{\\left(x \\right)}}}{\\sqrt[3]{x}}\\, dx$"
      ],
      "text/plain": [
       "Eq(Integral(sqrt(sin(x))/x**(1/3), x), Integral(sqrt(sin(x))/x**(1/3), x))"
      ]
     },
     "metadata": {},
     "output_type": "display_data"
    },
    {
     "data": {
      "text/latex": [
       "$\\displaystyle \\frac{d}{d x} \\left(- 4 x + \\sin{\\left(x \\right)}\\right) = \\cos{\\left(x \\right)} - 4$"
      ],
      "text/plain": [
       "Eq(Derivative(-4*x + sin(x), x), cos(x) - 4)"
      ]
     },
     "metadata": {},
     "output_type": "display_data"
    },
    {
     "data": {
      "text/latex": [
       "$\\displaystyle \\int \\left(3 x + e^{\\sqrt{x}} + 4 - \\frac{1}{x^{2}}\\right)\\, dx = 2 \\sqrt{x} e^{\\sqrt{x}} + \\frac{3 x^{2}}{2} + 4 x - 2 e^{\\sqrt{x}} + \\frac{1}{x}$"
      ],
      "text/plain": [
       "Eq(Integral(3*x + exp(sqrt(x)) + 4 - 1/x**2, x), 2*sqrt(x)*exp(sqrt(x)) + 3*x**2/2 + 4*x - 2*exp(sqrt(x)) + 1/x)"
      ]
     },
     "metadata": {},
     "output_type": "display_data"
    },
    {
     "data": {
      "text/latex": [
       "$\\displaystyle \\frac{d}{d x} \\left(- \\sqrt{x} + x - 4\\right) = 1 - \\frac{1}{2 \\sqrt{x}}$"
      ],
      "text/plain": [
       "Eq(Derivative(-sqrt(x) + x - 4, x), 1 - 1/(2*sqrt(x)))"
      ]
     },
     "metadata": {},
     "output_type": "display_data"
    },
    {
     "data": {
      "text/latex": [
       "$\\displaystyle \\int \\left(\\sqrt[3]{x} + \\cos{\\left(x \\right)}\\right)\\, dx = \\frac{3 x^{\\frac{4}{3}}}{4} + \\sin{\\left(x \\right)}$"
      ],
      "text/plain": [
       "Eq(Integral(x**(1/3) + cos(x), x), 3*x**(4/3)/4 + sin(x))"
      ]
     },
     "metadata": {},
     "output_type": "display_data"
    },
    {
     "data": {
      "text/latex": [
       "$\\displaystyle \\frac{d}{d x} \\frac{x^{5} - 3 x}{\\log{\\left(\\tan{\\left(x \\right)} \\right)}} = \\frac{5 x^{4} - 3}{\\log{\\left(\\tan{\\left(x \\right)} \\right)}} - \\frac{\\left(x^{5} - 3 x\\right) \\left(\\tan^{2}{\\left(x \\right)} + 1\\right)}{\\log{\\left(\\tan{\\left(x \\right)} \\right)}^{2} \\tan{\\left(x \\right)}}$"
      ],
      "text/plain": [
       "Eq(Derivative((x**5 - 3*x)/log(tan(x)), x), (5*x**4 - 3)/log(tan(x)) - (x**5 - 3*x)*(tan(x)**2 + 1)/(log(tan(x))**2*tan(x)))"
      ]
     },
     "metadata": {},
     "output_type": "display_data"
    },
    {
     "data": {
      "text/latex": [
       "$\\displaystyle \\int x^{5} \\sin{\\left(x \\right)}\\, dx = - x^{5} \\cos{\\left(x \\right)} + 5 x^{4} \\sin{\\left(x \\right)} + 20 x^{3} \\cos{\\left(x \\right)} - 60 x^{2} \\sin{\\left(x \\right)} - 120 x \\cos{\\left(x \\right)} + 120 \\sin{\\left(x \\right)}$"
      ],
      "text/plain": [
       "Eq(Integral(x**5*sin(x), x), -x**5*cos(x) + 5*x**4*sin(x) + 20*x**3*cos(x) - 60*x**2*sin(x) - 120*x*cos(x) + 120*sin(x))"
      ]
     },
     "metadata": {},
     "output_type": "display_data"
    },
    {
     "data": {
      "text/latex": [
       "$\\displaystyle \\frac{d}{d x} \\frac{3 x + 1}{3 x + \\frac{1}{x^{2}}} = \\frac{\\left(-3 + \\frac{2}{x^{3}}\\right) \\left(3 x + 1\\right)}{\\left(3 x + \\frac{1}{x^{2}}\\right)^{2}} + \\frac{3}{3 x + \\frac{1}{x^{2}}}$"
      ],
      "text/plain": [
       "Eq(Derivative((3*x + 1)/(3*x + x**(-2)), x), (-3 + 2/x**3)*(3*x + 1)/(3*x + x**(-2))**2 + 3/(3*x + x**(-2)))"
      ]
     },
     "metadata": {},
     "output_type": "display_data"
    },
    {
     "data": {
      "text/latex": [
       "$\\displaystyle \\int \\left(\\log{\\left(- 2 x \\right)} + \\frac{1}{x^{4}}\\right)\\, dx = x \\log{\\left(- 2 x \\right)} - x - \\frac{1}{3 x^{3}}$"
      ],
      "text/plain": [
       "Eq(Integral(log(-2*x) + x**(-4), x), x*log(-2*x) - x - 1/(3*x**3))"
      ]
     },
     "metadata": {},
     "output_type": "display_data"
    },
    {
     "data": {
      "text/latex": [
       "$\\displaystyle \\frac{d}{d x} \\sin{\\left(\\sqrt[3]{x} \\right)} \\tan{\\left(x \\right)} = \\left(\\tan^{2}{\\left(x \\right)} + 1\\right) \\sin{\\left(\\sqrt[3]{x} \\right)} + \\frac{\\cos{\\left(\\sqrt[3]{x} \\right)} \\tan{\\left(x \\right)}}{3 x^{\\frac{2}{3}}}$"
      ],
      "text/plain": [
       "Eq(Derivative(sin(x**(1/3))*tan(x), x), (tan(x)**2 + 1)*sin(x**(1/3)) + cos(x**(1/3))*tan(x)/(3*x**(2/3)))"
      ]
     },
     "metadata": {},
     "output_type": "display_data"
    },
    {
     "data": {
      "text/latex": [
       "$\\displaystyle \\int \\left(- 3 x + \\left(x - 1\\right)^{3} - 2\\right)\\, dx = \\frac{x^{4}}{4} - x^{3} - 3 x$"
      ],
      "text/plain": [
       "Eq(Integral(-3*x + (x - 1)**3 - 2, x), x**4/4 - x**3 - 3*x)"
      ]
     },
     "metadata": {},
     "output_type": "display_data"
    },
    {
     "data": {
      "text/latex": [
       "$\\displaystyle \\frac{d}{d x} \\left(- 3 x^{2} - e^{x}\\right) = - 6 x - e^{x}$"
      ],
      "text/plain": [
       "Eq(Derivative(-3*x**2 - exp(x), x), -6*x - exp(x))"
      ]
     },
     "metadata": {},
     "output_type": "display_data"
    },
    {
     "data": {
      "text/latex": [
       "$\\displaystyle \\int \\log{\\left(x \\right)} \\sqrt[3]{\\sin{\\left(x \\right)}}\\, dx = \\int \\log{\\left(x \\right)} \\sqrt[3]{\\sin{\\left(x \\right)}}\\, dx$"
      ],
      "text/plain": [
       "Eq(Integral(log(x)*sin(x)**(1/3), x), Integral(log(x)*sin(x)**(1/3), x))"
      ]
     },
     "metadata": {},
     "output_type": "display_data"
    },
    {
     "data": {
      "text/latex": [
       "$\\displaystyle \\frac{d}{d x} \\left(\\log{\\left(x \\right)} - \\sin{\\left(x \\right)}\\right) = - \\cos{\\left(x \\right)} + \\frac{1}{x}$"
      ],
      "text/plain": [
       "Eq(Derivative(log(x) - sin(x), x), -cos(x) + 1/x)"
      ]
     },
     "metadata": {},
     "output_type": "display_data"
    },
    {
     "data": {
      "text/latex": [
       "$\\displaystyle \\int x \\cos^{4}{\\left(x \\right)}\\, dx = \\frac{3 x^{2} \\sin^{4}{\\left(x \\right)}}{16} + \\frac{3 x^{2} \\sin^{2}{\\left(x \\right)} \\cos^{2}{\\left(x \\right)}}{8} + \\frac{3 x^{2} \\cos^{4}{\\left(x \\right)}}{16} + \\frac{3 x \\sin^{3}{\\left(x \\right)} \\cos{\\left(x \\right)}}{8} + \\frac{5 x \\sin{\\left(x \\right)} \\cos^{3}{\\left(x \\right)}}{8} - \\frac{3 \\sin^{4}{\\left(x \\right)}}{32} + \\frac{5 \\cos^{4}{\\left(x \\right)}}{32}$"
      ],
      "text/plain": [
       "Eq(Integral(x*cos(x)**4, x), 3*x**2*sin(x)**4/16 + 3*x**2*sin(x)**2*cos(x)**2/8 + 3*x**2*cos(x)**4/16 + 3*x*sin(x)**3*cos(x)/8 + 5*x*sin(x)*cos(x)**3/8 - 3*sin(x)**4/32 + 5*cos(x)**4/32)"
      ]
     },
     "metadata": {},
     "output_type": "display_data"
    },
    {
     "data": {
      "text/latex": [
       "$\\displaystyle \\frac{d}{d x} \\frac{\\log{\\left(\\sin{\\left(x \\right)} \\right)}}{x^{3}} = \\frac{\\cos{\\left(x \\right)}}{x^{3} \\sin{\\left(x \\right)}} - \\frac{3 \\log{\\left(\\sin{\\left(x \\right)} \\right)}}{x^{4}}$"
      ],
      "text/plain": [
       "Eq(Derivative(log(sin(x))/x**3, x), cos(x)/(x**3*sin(x)) - 3*log(sin(x))/x**4)"
      ]
     },
     "metadata": {},
     "output_type": "display_data"
    },
    {
     "data": {
      "text/latex": [
       "$\\displaystyle \\int \\tan{\\left(x \\right)} \\tan{\\left(x - 4 \\right)}\\, dx = - \\frac{2 x \\tan^{2}{\\left(4 \\right)}}{2 + 2 \\tan^{2}{\\left(4 \\right)}} - \\frac{2 x \\tan{\\left(4 \\right)}}{2 \\tan{\\left(4 \\right)} + 2 \\tan^{3}{\\left(4 \\right)}} + \\frac{2 \\log{\\left(\\tan{\\left(4 \\right)} \\tan{\\left(x \\right)} + 1 \\right)}}{2 \\tan{\\left(4 \\right)} + 2 \\tan^{3}{\\left(4 \\right)}} + \\frac{2 \\log{\\left(\\tan{\\left(4 \\right)} \\tan{\\left(x \\right)} + 1 \\right)} \\tan{\\left(4 \\right)}}{2 + 2 \\tan^{2}{\\left(4 \\right)}} - \\frac{\\log{\\left(\\tan^{2}{\\left(x \\right)} + 1 \\right)} \\tan{\\left(4 \\right)}}{2 + 2 \\tan^{2}{\\left(4 \\right)}} + \\frac{\\log{\\left(\\tan^{2}{\\left(x \\right)} + 1 \\right)} \\tan^{2}{\\left(4 \\right)}}{2 \\tan{\\left(4 \\right)} + 2 \\tan^{3}{\\left(4 \\right)}}$"
      ],
      "text/plain": [
       "Eq(Integral(tan(x)*tan(x - 4), x), -2*x*tan(4)**2/(2 + 2*tan(4)**2) - 2*x*tan(4)/(2*tan(4) + 2*tan(4)**3) + 2*log(tan(4)*tan(x) + 1)/(2*tan(4) + 2*tan(4)**3) + 2*log(tan(4)*tan(x) + 1)*tan(4)/(2 + 2*tan(4)**2) - log(tan(x)**2 + 1)*tan(4)/(2 + 2*tan(4)**2) + log(tan(x)**2 + 1)*tan(4)**2/(2*tan(4) + 2*tan(4)**3))"
      ]
     },
     "metadata": {},
     "output_type": "display_data"
    },
    {
     "data": {
      "text/latex": [
       "$\\displaystyle \\frac{d}{d x} \\left(- \\sqrt{x} + \\log{\\left(\\tan{\\left(x \\right)} \\right)}\\right) = \\frac{\\tan^{2}{\\left(x \\right)} + 1}{\\tan{\\left(x \\right)}} - \\frac{1}{2 \\sqrt{x}}$"
      ],
      "text/plain": [
       "Eq(Derivative(-sqrt(x) + log(tan(x)), x), (tan(x)**2 + 1)/tan(x) - 1/(2*sqrt(x)))"
      ]
     },
     "metadata": {},
     "output_type": "display_data"
    },
    {
     "data": {
      "text/latex": [
       "$\\displaystyle \\int \\left(- x^{\\frac{4}{3}}\\right)\\, dx = - \\frac{3 x^{\\frac{7}{3}}}{7}$"
      ],
      "text/plain": [
       "Eq(Integral(-x**(4/3), x), -3*x**(7/3)/7)"
      ]
     },
     "metadata": {},
     "output_type": "display_data"
    },
    {
     "data": {
      "text/latex": [
       "$\\displaystyle \\frac{d}{d x} \\left(x + e^{x + 2}\\right) = e^{x + 2} + 1$"
      ],
      "text/plain": [
       "Eq(Derivative(x + exp(x + 2), x), exp(x + 2) + 1)"
      ]
     },
     "metadata": {},
     "output_type": "display_data"
    },
    {
     "data": {
      "text/latex": [
       "$\\displaystyle \\int \\left(- x + \\tan{\\left(x \\right)} - 1\\right)\\, dx = - \\frac{x^{2}}{2} - x - \\log{\\left(\\cos{\\left(x \\right)} \\right)}$"
      ],
      "text/plain": [
       "Eq(Integral(-x + tan(x) - 1, x), -x**2/2 - x - log(cos(x)))"
      ]
     },
     "metadata": {},
     "output_type": "display_data"
    },
    {
     "data": {
      "text/latex": [
       "$\\displaystyle \\frac{d}{d x} \\frac{x - 5}{- \\sqrt[3]{x} + x + 3 + \\frac{1}{x}} = \\frac{\\left(x - 5\\right) \\left(-1 + \\frac{1}{x^{2}} + \\frac{1}{3 x^{\\frac{2}{3}}}\\right)}{\\left(- \\sqrt[3]{x} + x + 3 + \\frac{1}{x}\\right)^{2}} + \\frac{1}{- \\sqrt[3]{x} + x + 3 + \\frac{1}{x}}$"
      ],
      "text/plain": [
       "Eq(Derivative((x - 5)/(-x**(1/3) + x + 3 + 1/x), x), (x - 5)*(-1 + x**(-2) + 1/(3*x**(2/3)))/(-x**(1/3) + x + 3 + 1/x)**2 + 1/(-x**(1/3) + x + 3 + 1/x))"
      ]
     },
     "metadata": {},
     "output_type": "display_data"
    },
    {
     "data": {
      "text/latex": [
       "$\\displaystyle \\int \\sqrt[9]{x + 4}\\, dx = \\frac{9 \\left(x + 4\\right)^{\\frac{10}{9}}}{10}$"
      ],
      "text/plain": [
       "Eq(Integral((x + 4)**(1/9), x), 9*(x + 4)**(10/9)/10)"
      ]
     },
     "metadata": {},
     "output_type": "display_data"
    },
    {
     "data": {
      "text/latex": [
       "$\\displaystyle \\frac{d}{d x} x \\left(- 3 x + 3 + \\frac{1}{x^{2}}\\right) = x \\left(-3 - \\frac{2}{x^{3}}\\right) - 3 x + 3 + \\frac{1}{x^{2}}$"
      ],
      "text/plain": [
       "Eq(Derivative(x*(-3*x + 3 + x**(-2)), x), x*(-3 - 2/x**3) - 3*x + 3 + x**(-2))"
      ]
     },
     "metadata": {},
     "output_type": "display_data"
    },
    {
     "data": {
      "text/latex": [
       "$\\displaystyle \\int \\left(e^{x} - \\cos{\\left(x \\right)}\\right)\\, dx = e^{x} - \\sin{\\left(x \\right)}$"
      ],
      "text/plain": [
       "Eq(Integral(exp(x) - cos(x), x), exp(x) - sin(x))"
      ]
     },
     "metadata": {},
     "output_type": "display_data"
    },
    {
     "data": {
      "text/latex": [
       "$\\displaystyle \\frac{d}{d x} \\left(- \\sqrt[3]{x} + \\tan{\\left(x \\right)}\\right) = \\tan^{2}{\\left(x \\right)} + 1 - \\frac{1}{3 x^{\\frac{2}{3}}}$"
      ],
      "text/plain": [
       "Eq(Derivative(-x**(1/3) + tan(x), x), tan(x)**2 + 1 - 1/(3*x**(2/3)))"
      ]
     },
     "metadata": {},
     "output_type": "display_data"
    },
    {
     "data": {
      "text/latex": [
       "$\\displaystyle \\int \\left(2 \\sqrt{x} + x + 7\\right)\\, dx = \\frac{4 x^{\\frac{3}{2}}}{3} + \\frac{x^{2}}{2} + 7 x$"
      ],
      "text/plain": [
       "Eq(Integral(2*sqrt(x) + x + 7, x), 4*x**(3/2)/3 + x**2/2 + 7*x)"
      ]
     },
     "metadata": {},
     "output_type": "display_data"
    },
    {
     "data": {
      "text/latex": [
       "$\\displaystyle \\frac{d}{d x} \\frac{\\log{\\left(x \\right)}}{\\sin{\\left(x \\right)}} = - \\frac{\\log{\\left(x \\right)} \\cos{\\left(x \\right)}}{\\sin^{2}{\\left(x \\right)}} + \\frac{1}{x \\sin{\\left(x \\right)}}$"
      ],
      "text/plain": [
       "Eq(Derivative(log(x)/sin(x), x), -log(x)*cos(x)/sin(x)**2 + 1/(x*sin(x)))"
      ]
     },
     "metadata": {},
     "output_type": "display_data"
    },
    {
     "data": {
      "text/latex": [
       "$\\displaystyle \\int 2 x e^{\\cos{\\left(x \\right)}}\\, dx = 2 \\int x e^{\\cos{\\left(x \\right)}}\\, dx$"
      ],
      "text/plain": [
       "Eq(Integral(2*x*exp(cos(x)), x), 2*Integral(x*exp(cos(x)), x))"
      ]
     },
     "metadata": {},
     "output_type": "display_data"
    },
    {
     "data": {
      "text/latex": [
       "$\\displaystyle \\frac{d}{d x} \\left(- 3 x + 3 - \\frac{1}{x^{2}}\\right) = -3 + \\frac{2}{x^{3}}$"
      ],
      "text/plain": [
       "Eq(Derivative(-3*x + 3 - 1/x**2, x), -3 + 2/x**3)"
      ]
     },
     "metadata": {},
     "output_type": "display_data"
    },
    {
     "data": {
      "text/latex": [
       "$\\displaystyle \\int \\left(\\sqrt[3]{x} + e^{x}\\right)\\, dx = \\frac{3 x^{\\frac{4}{3}}}{4} + e^{x}$"
      ],
      "text/plain": [
       "Eq(Integral(x**(1/3) + exp(x), x), 3*x**(4/3)/4 + exp(x))"
      ]
     },
     "metadata": {},
     "output_type": "display_data"
    },
    {
     "data": {
      "text/latex": [
       "$\\displaystyle \\frac{d}{d x} \\left(x^{\\frac{5}{3}} + 2 \\sqrt[3]{x} + x\\right) \\sin{\\left(x \\right)} = \\left(\\frac{5 x^{\\frac{2}{3}}}{3} + 1 + \\frac{2}{3 x^{\\frac{2}{3}}}\\right) \\sin{\\left(x \\right)} + \\left(x^{\\frac{5}{3}} + 2 \\sqrt[3]{x} + x\\right) \\cos{\\left(x \\right)}$"
      ],
      "text/plain": [
       "Eq(Derivative((x**(5/3) + 2*x**(1/3) + x)*sin(x), x), (5*x**(2/3)/3 + 1 + 2/(3*x**(2/3)))*sin(x) + (x**(5/3) + 2*x**(1/3) + x)*cos(x))"
      ]
     },
     "metadata": {},
     "output_type": "display_data"
    },
    {
     "data": {
      "text/latex": [
       "$\\displaystyle \\int \\sqrt[6]{\\frac{1}{x^{3}}}\\, dx = 2 x \\sqrt[6]{\\frac{1}{x^{3}}}$"
      ],
      "text/plain": [
       "Eq(Integral((x**(-3))**(1/6), x), 2*x*(x**(-3))**(1/6))"
      ]
     },
     "metadata": {},
     "output_type": "display_data"
    },
    {
     "data": {
      "text/latex": [
       "$\\displaystyle \\frac{d}{d x} \\left(5 x - 2 + \\frac{1}{x^{4}}\\right) = 5 - \\frac{4}{x^{5}}$"
      ],
      "text/plain": [
       "Eq(Derivative(5*x - 2 + x**(-4), x), 5 - 4/x**5)"
      ]
     },
     "metadata": {},
     "output_type": "display_data"
    },
    {
     "data": {
      "text/latex": [
       "$\\displaystyle \\int \\left(- 2 x + \\tan{\\left(x \\right)} - 4 - \\frac{1}{x^{2}}\\right)\\, dx = - x^{2} - 4 x - \\log{\\left(\\cos{\\left(x \\right)} \\right)} + \\frac{1}{x}$"
      ],
      "text/plain": [
       "Eq(Integral(-2*x + tan(x) - 4 - 1/x**2, x), -x**2 - 4*x - log(cos(x)) + 1/x)"
      ]
     },
     "metadata": {},
     "output_type": "display_data"
    },
    {
     "data": {
      "text/latex": [
       "$\\displaystyle \\frac{d}{d x} \\left(- 243 x^{5} + 3 x - \\cos{\\left(x \\right)} + 1\\right) = - 1215 x^{4} + \\sin{\\left(x \\right)} + 3$"
      ],
      "text/plain": [
       "Eq(Derivative(-243*x**5 + 3*x - cos(x) + 1, x), -1215*x**4 + sin(x) + 3)"
      ]
     },
     "metadata": {},
     "output_type": "display_data"
    },
    {
     "data": {
      "text/latex": [
       "$\\displaystyle \\int \\frac{\\sqrt{x^{2}}}{x - 5}\\, dx = \\sqrt{x^{2}} + 5 \\log{\\left(\\sqrt{x^{2}} - 5 \\right)}$"
      ],
      "text/plain": [
       "Eq(Integral(sqrt(x**2)/(x - 5), x), sqrt(x**2) + 5*log(sqrt(x**2) - 5))"
      ]
     },
     "metadata": {},
     "output_type": "display_data"
    },
    {
     "data": {
      "text/latex": [
       "$\\displaystyle \\frac{d}{d x} \\left(- \\frac{\\sqrt{x}}{\\sin{\\left(- x^{4} + 3 x + 1 \\right)}}\\right) = \\frac{\\sqrt{x} \\left(3 - 4 x^{3}\\right) \\cos{\\left(- x^{4} + 3 x + 1 \\right)}}{\\sin^{2}{\\left(- x^{4} + 3 x + 1 \\right)}} - \\frac{1}{2 \\sqrt{x} \\sin{\\left(- x^{4} + 3 x + 1 \\right)}}$"
      ],
      "text/plain": [
       "Eq(Derivative(-sqrt(x)/sin(-x**4 + 3*x + 1), x), sqrt(x)*(3 - 4*x**3)*cos(-x**4 + 3*x + 1)/sin(-x**4 + 3*x + 1)**2 - 1/(2*sqrt(x)*sin(-x**4 + 3*x + 1)))"
      ]
     },
     "metadata": {},
     "output_type": "display_data"
    },
    {
     "data": {
      "text/latex": [
       "$\\displaystyle \\int \\frac{x^{2} - 2 x + 3}{\\sqrt{x^{3} - 1}}\\, dx = \\frac{2 i x^{2} \\Gamma\\left(\\frac{2}{3}\\right) {{}_{2}F_{1}\\left(\\begin{matrix} \\frac{1}{2}, \\frac{2}{3} \\\\ \\frac{5}{3} \\end{matrix}\\middle| {x^{3}} \\right)}}{3 \\Gamma\\left(\\frac{5}{3}\\right)} - \\frac{i x \\Gamma\\left(\\frac{1}{3}\\right) {{}_{2}F_{1}\\left(\\begin{matrix} \\frac{1}{3}, \\frac{1}{2} \\\\ \\frac{4}{3} \\end{matrix}\\middle| {x^{3}} \\right)}}{\\Gamma\\left(\\frac{4}{3}\\right)} + \\frac{2 \\sqrt{x^{3} - 1}}{3}$"
      ],
      "text/plain": [
       "Eq(Integral((x**2 - 2*x + 3)/sqrt(x**3 - 1), x), 2*I*x**2*gamma(2/3)*hyper((1/2, 2/3), (5/3,), x**3)/(3*gamma(5/3)) - I*x*gamma(1/3)*hyper((1/3, 1/2), (4/3,), x**3)/gamma(4/3) + 2*sqrt(x**3 - 1)/3)"
      ]
     },
     "metadata": {},
     "output_type": "display_data"
    },
    {
     "data": {
      "text/latex": [
       "$\\displaystyle \\frac{d}{d x} \\left(x^{5} + 2 x\\right) = 5 x^{4} + 2$"
      ],
      "text/plain": [
       "Eq(Derivative(x**5 + 2*x, x), 5*x**4 + 2)"
      ]
     },
     "metadata": {},
     "output_type": "display_data"
    },
    {
     "data": {
      "text/latex": [
       "$\\displaystyle \\int \\left(x + e^{x}\\right)\\, dx = \\frac{x^{2}}{2} + e^{x}$"
      ],
      "text/plain": [
       "Eq(Integral(x + exp(x), x), x**2/2 + exp(x))"
      ]
     },
     "metadata": {},
     "output_type": "display_data"
    },
    {
     "data": {
      "text/latex": [
       "$\\displaystyle \\frac{d}{d x} \\frac{\\sqrt[3]{\\log{\\left(x \\right)}}}{x^{5} - 2 x - 5} = \\frac{\\left(2 - 5 x^{4}\\right) \\sqrt[3]{\\log{\\left(x \\right)}}}{\\left(x^{5} - 2 x - 5\\right)^{2}} + \\frac{1}{3 x \\left(x^{5} - 2 x - 5\\right) \\log{\\left(x \\right)}^{\\frac{2}{3}}}$"
      ],
      "text/plain": [
       "Eq(Derivative(log(x)**(1/3)/(x**5 - 2*x - 5), x), (2 - 5*x**4)*log(x)**(1/3)/(x**5 - 2*x - 5)**2 + 1/(3*x*(x**5 - 2*x - 5)*log(x)**(2/3)))"
      ]
     },
     "metadata": {},
     "output_type": "display_data"
    },
    {
     "data": {
      "text/latex": [
       "$\\displaystyle \\int \\left(- 2 x^{2}\\right)\\, dx = - \\frac{2 x^{3}}{3}$"
      ],
      "text/plain": [
       "Eq(Integral(-2*x**2, x), -2*x**3/3)"
      ]
     },
     "metadata": {},
     "output_type": "display_data"
    },
    {
     "data": {
      "text/latex": [
       "$\\displaystyle \\frac{d}{d x} \\cos{\\left(\\sin{\\left(x \\right)} \\right)} = - \\sin{\\left(\\sin{\\left(x \\right)} \\right)} \\cos{\\left(x \\right)}$"
      ],
      "text/plain": [
       "Eq(Derivative(cos(sin(x)), x), -sin(sin(x))*cos(x))"
      ]
     },
     "metadata": {},
     "output_type": "display_data"
    },
    {
     "data": {
      "text/latex": [
       "$\\displaystyle \\int \\left(- x \\log{\\left(\\log{\\left(x \\right)} \\right)}\\right)\\, dx = - \\frac{x^{2} \\log{\\left(\\log{\\left(x \\right)} \\right)}}{2} + \\frac{\\operatorname{Ei}{\\left(2 \\log{\\left(x \\right)} \\right)}}{2}$"
      ],
      "text/plain": [
       "Eq(Integral(-x*log(log(x)), x), -x**2*log(log(x))/2 + Ei(2*log(x))/2)"
      ]
     },
     "metadata": {},
     "output_type": "display_data"
    },
    {
     "data": {
      "text/latex": [
       "$\\displaystyle \\frac{d}{d x} \\cos{\\left(x - 3 \\right)} = - \\sin{\\left(x - 3 \\right)}$"
      ],
      "text/plain": [
       "Eq(Derivative(cos(x - 3), x), -sin(x - 3))"
      ]
     },
     "metadata": {},
     "output_type": "display_data"
    },
    {
     "data": {
      "text/latex": [
       "$\\displaystyle \\int \\frac{\\log{\\left(x \\right)}}{\\cos{\\left(x \\right)}}\\, dx = \\int \\frac{\\log{\\left(x \\right)}}{\\cos{\\left(x \\right)}}\\, dx$"
      ],
      "text/plain": [
       "Eq(Integral(log(x)/cos(x), x), Integral(log(x)/cos(x), x))"
      ]
     },
     "metadata": {},
     "output_type": "display_data"
    },
    {
     "data": {
      "text/latex": [
       "$\\displaystyle \\frac{d}{d x} \\left(- 2 x - e^{x} + 3\\right) = - e^{x} - 2$"
      ],
      "text/plain": [
       "Eq(Derivative(-2*x - exp(x) + 3, x), -exp(x) - 2)"
      ]
     },
     "metadata": {},
     "output_type": "display_data"
    },
    {
     "data": {
      "text/latex": [
       "$\\displaystyle \\int \\left(x - 2 e^{x} + 4\\right)\\, dx = \\frac{x^{2}}{2} + 4 x - 2 e^{x}$"
      ],
      "text/plain": [
       "Eq(Integral(x - 2*exp(x) + 4, x), x**2/2 + 4*x - 2*exp(x))"
      ]
     },
     "metadata": {},
     "output_type": "display_data"
    },
    {
     "data": {
      "text/latex": [
       "$\\displaystyle \\frac{d}{d x} \\left(- x^{3} + x + 3\\right) = 1 - 3 x^{2}$"
      ],
      "text/plain": [
       "Eq(Derivative(-x**3 + x + 3, x), 1 - 3*x**2)"
      ]
     },
     "metadata": {},
     "output_type": "display_data"
    },
    {
     "data": {
      "text/latex": [
       "$\\displaystyle \\int \\left(- \\sqrt[3]{x} + \\tan{\\left(x \\right)}\\right)\\, dx = - \\frac{3 x^{\\frac{4}{3}}}{4} - \\log{\\left(\\cos{\\left(x \\right)} \\right)}$"
      ],
      "text/plain": [
       "Eq(Integral(-x**(1/3) + tan(x), x), -3*x**(4/3)/4 - log(cos(x)))"
      ]
     },
     "metadata": {},
     "output_type": "display_data"
    },
    {
     "data": {
      "text/latex": [
       "$\\displaystyle \\frac{d}{d x} \\left(- \\sqrt[3]{x} + x + 3\\right) = 1 - \\frac{1}{3 x^{\\frac{2}{3}}}$"
      ],
      "text/plain": [
       "Eq(Derivative(-x**(1/3) + x + 3, x), 1 - 1/(3*x**(2/3)))"
      ]
     },
     "metadata": {},
     "output_type": "display_data"
    },
    {
     "data": {
      "text/latex": [
       "$\\displaystyle \\int \\left(- 2 x - 4 + \\frac{1}{x^{4}}\\right)\\, dx = - x^{2} - 4 x - \\frac{1}{3 x^{3}}$"
      ],
      "text/plain": [
       "Eq(Integral(-2*x - 4 + x**(-4), x), -x**2 - 4*x - 1/(3*x**3))"
      ]
     },
     "metadata": {},
     "output_type": "display_data"
    },
    {
     "data": {
      "text/latex": [
       "$\\displaystyle \\frac{d}{d x} \\frac{x - 4}{\\tan{\\left(\\cos{\\left(x \\right)} \\right)}} = \\frac{\\left(x - 4\\right) \\left(\\tan^{2}{\\left(\\cos{\\left(x \\right)} \\right)} + 1\\right) \\sin{\\left(x \\right)}}{\\tan^{2}{\\left(\\cos{\\left(x \\right)} \\right)}} + \\frac{1}{\\tan{\\left(\\cos{\\left(x \\right)} \\right)}}$"
      ],
      "text/plain": [
       "Eq(Derivative((x - 4)/tan(cos(x)), x), (x - 4)*(tan(cos(x))**2 + 1)*sin(x)/tan(cos(x))**2 + 1/tan(cos(x)))"
      ]
     },
     "metadata": {},
     "output_type": "display_data"
    },
    {
     "data": {
      "text/latex": [
       "$\\displaystyle \\int \\frac{2 x}{\\log{\\left(\\sqrt[3]{x} \\right)}}\\, dx = 6 \\operatorname{Ei}{\\left(6 \\log{\\left(\\sqrt[3]{x} \\right)} \\right)}$"
      ],
      "text/plain": [
       "Eq(Integral(2*x/log(x**(1/3)), x), 6*Ei(6*log(x**(1/3))))"
      ]
     },
     "metadata": {},
     "output_type": "display_data"
    },
    {
     "data": {
      "text/latex": [
       "$\\displaystyle \\frac{d}{d x} \\left(- \\frac{1}{8 x^{\\frac{2}{3}}}\\right) = \\frac{1}{12 x^{\\frac{5}{3}}}$"
      ],
      "text/plain": [
       "Eq(Derivative(-1/(8*x**(2/3)), x), 1/(12*x**(5/3)))"
      ]
     },
     "metadata": {},
     "output_type": "display_data"
    },
    {
     "data": {
      "text/latex": [
       "$\\displaystyle \\int \\sqrt[3]{x - 2} \\sin{\\left(x \\right)}\\, dx = \\int \\sqrt[3]{x - 2} \\sin{\\left(x \\right)}\\, dx$"
      ],
      "text/plain": [
       "Eq(Integral((x - 2)**(1/3)*sin(x), x), Integral((x - 2)**(1/3)*sin(x), x))"
      ]
     },
     "metadata": {},
     "output_type": "display_data"
    },
    {
     "data": {
      "text/latex": [
       "$\\displaystyle \\frac{d}{d x} \\sqrt[3]{\\frac{1}{x^{2}}} = - \\frac{2 \\sqrt[3]{\\frac{1}{x^{2}}}}{3 x}$"
      ],
      "text/plain": [
       "Eq(Derivative((x**(-2))**(1/3), x), -2*(x**(-2))**(1/3)/(3*x))"
      ]
     },
     "metadata": {},
     "output_type": "display_data"
    },
    {
     "data": {
      "text/latex": [
       "$\\displaystyle \\int e^{x - 4} \\cos{\\left(x \\right)}\\, dx = \\frac{e^{x} \\sin{\\left(x \\right)}}{2 e^{4}} + \\frac{e^{x} \\cos{\\left(x \\right)}}{2 e^{4}}$"
      ],
      "text/plain": [
       "Eq(Integral(exp(x - 4)*cos(x), x), exp(-4)*exp(x)*sin(x)/2 + exp(-4)*exp(x)*cos(x)/2)"
      ]
     },
     "metadata": {},
     "output_type": "display_data"
    },
    {
     "data": {
      "text/latex": [
       "$\\displaystyle \\frac{d}{d x} \\frac{\\cos{\\left(x \\right)}}{7 x + 2} = - \\frac{\\sin{\\left(x \\right)}}{7 x + 2} - \\frac{7 \\cos{\\left(x \\right)}}{\\left(7 x + 2\\right)^{2}}$"
      ],
      "text/plain": [
       "Eq(Derivative(cos(x)/(7*x + 2), x), -sin(x)/(7*x + 2) - 7*cos(x)/(7*x + 2)**2)"
      ]
     },
     "metadata": {},
     "output_type": "display_data"
    },
    {
     "data": {
      "text/latex": [
       "$\\displaystyle \\int \\left(- \\sqrt[3]{x} + \\sqrt{\\log{\\left(x \\right)}}\\right)\\, dx = - \\frac{3 x^{\\frac{4}{3}}}{4} + \\frac{\\left(x \\sqrt{- \\log{\\left(x \\right)}} + \\frac{\\sqrt{\\pi} \\operatorname{erfc}{\\left(\\sqrt{- \\log{\\left(x \\right)}} \\right)}}{2}\\right) \\sqrt{\\log{\\left(x \\right)}}}{\\sqrt{- \\log{\\left(x \\right)}}}$"
      ],
      "text/plain": [
       "Eq(Integral(-x**(1/3) + sqrt(log(x)), x), -3*x**(4/3)/4 + (x*sqrt(-log(x)) + sqrt(pi)*erfc(sqrt(-log(x)))/2)*sqrt(log(x))/sqrt(-log(x)))"
      ]
     },
     "metadata": {},
     "output_type": "display_data"
    }
   ],
   "source": [
    "def random_math(x):\n",
    "    def power_function(x):\n",
    "        return x**(random.randrange(-4,6,1))\n",
    "    def scalar_function(x):\n",
    "        allowed_values = list(range(-4, 3))\n",
    "        allowed_values.remove(0)\n",
    "        random_value = random.choice(allowed_values)  \n",
    "        return x*(random_value)\n",
    "    def addSUBTR_function(x):\n",
    "        return x+(random.randrange(-5,5,1))\n",
    "    def rational_function(x):\n",
    "        return power_function(x) +scalar_function(x) + addSUBTR_function(x)\n",
    "    funs = [sqrt,cbrt,sin,cos,log,exp,tan,power_function,\n",
    "            scalar_function,addSUBTR_function,rational_function]      \n",
    "    operations = [f(g(x)),f(x)+g(x),f(x)-g(x),f(x)/g(x),f(x)*g(x),\n",
    "                  f(g(h(x))),f(h(x))+g(x),f(h(x))-g(x),f(h(x))/g(x),f(x)/g(h(x)),f(h(x))*g(x),f(x)*g(h(x))]\n",
    "    operation = operations[random.randrange(0,len(operations))]\n",
    "    return [[[operation.replace(f, i) for i in funs][random.randrange(0,len(funs))].replace(g, i) for i in funs]\\\n",
    "[random.randrange(0,len(funs))].replace(h, i) for i in funs][random.randrange(0,len(funs))]\n",
    "\n",
    "for i in range(0,50):\n",
    "    practice1 = Derivative(random_math(x))\n",
    "    practice2 = Integral(random_math(x),x)\n",
    "    if practice1.evalf() != 0 and practice2.evalf()!= 0:\n",
    "        display(Eq(practice1,practice1.doit(),evaluate=False))\n",
    "        display(Eq(practice2,practice2.doit(),evaluate=False))"
   ]
  }
 ],
 "metadata": {
  "kernelspec": {
   "display_name": "Python 3 (ipykernel)",
   "language": "python",
   "name": "python3"
  },
  "language_info": {
   "codemirror_mode": {
    "name": "ipython",
    "version": 3
   },
   "file_extension": ".py",
   "mimetype": "text/x-python",
   "name": "python",
   "nbconvert_exporter": "python",
   "pygments_lexer": "ipython3",
   "version": "3.8.10"
  }
 },
 "nbformat": 4,
 "nbformat_minor": 5
}
