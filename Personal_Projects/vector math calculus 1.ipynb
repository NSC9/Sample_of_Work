{
 "cells": [
  {
   "cell_type": "code",
   "execution_count": null,
   "id": "377f08a4",
   "metadata": {},
   "outputs": [],
   "source": [
    "OABC is any quadrilateral in 3D space. \n",
    "P is the midpoint of OA, Q is the midpoint of AB, R is the midpoint of BC and S is the midpoint of OC. \n",
    "Prove that PQ is parallel to SR"
   ]
  },
  {
   "cell_type": "code",
   "execution_count": 18,
   "id": "c3127153",
   "metadata": {},
   "outputs": [],
   "source": [
    "#Define a coordinate system\n",
    "from sympy.vector import CoordSys3D\n",
    "Sys = CoordSys3D('Sys')"
   ]
  },
  {
   "cell_type": "code",
   "execution_count": 23,
   "id": "c2f0e0c3",
   "metadata": {},
   "outputs": [],
   "source": [
    "# Define point O to be Sys’ origin. We can do this without loss of generality\n",
    "O = Sys.origin\n"
   ]
  },
  {
   "cell_type": "code",
   "execution_count": 26,
   "id": "5d1a7fa1",
   "metadata": {},
   "outputs": [
    {
     "data": {
      "text/latex": [
       "$\\displaystyle Point\\left(A, (a_{1})\\mathbf{\\hat{i}_{Sys}} + (a_{2})\\mathbf{\\hat{j}_{Sys}} + (a_{3})\\mathbf{\\hat{k}_{Sys}}, Point\\left(Sys.origin, \\mathbf{\\hat{0}}\\right)\\right)$"
      ],
      "text/plain": [
       "A"
      ]
     },
     "execution_count": 26,
     "metadata": {},
     "output_type": "execute_result"
    }
   ],
   "source": [
    "#Define point A with respect to O\n",
    "\n",
    "from sympy import symbols\n",
    "a1, a2, a3 = symbols('a1 a2 a3')\n",
    "A = O.locate_new('A', a1*Sys.i + a2*Sys.j + a3*Sys.k)"
   ]
  },
  {
   "cell_type": "code",
   "execution_count": 45,
   "id": "8ec980eb",
   "metadata": {},
   "outputs": [
    {
     "data": {
      "text/latex": [
       "$\\displaystyle Point\\left(A, (a_{1})\\mathbf{\\hat{i}_{Sys}} + (a_{2})\\mathbf{\\hat{j}_{Sys}} + (a_{3})\\mathbf{\\hat{k}_{Sys}}, Point\\left(Sys.origin, \\mathbf{\\hat{0}}\\right)\\right)$"
      ],
      "text/plain": [
       "A"
      ]
     },
     "execution_count": 45,
     "metadata": {},
     "output_type": "execute_result"
    }
   ],
   "source": [
    "A"
   ]
  },
  {
   "cell_type": "code",
   "execution_count": 44,
   "id": "ac5dd77b",
   "metadata": {},
   "outputs": [],
   "source": [
    "# Similarly define points B and C\n",
    "\n",
    "b1, b2, b3 = symbols('b1 b2 b3')\n",
    "B = O.locate_new('B', b1*Sys.i + b2*Sys.j + b3*Sys.k)\n",
    "c1, c2, c3 = symbols('c1 c2 c3')\n",
    "C = O.locate_new('C', c1*Sys.i + c2*Sys.j + c3*Sys.k)"
   ]
  },
  {
   "cell_type": "code",
   "execution_count": 43,
   "id": "6c9402de",
   "metadata": {},
   "outputs": [
    {
     "data": {
      "text/latex": [
       "$\\displaystyle Point\\left(B, (b_{1})\\mathbf{\\hat{i}_{Sys}} + (b_{2})\\mathbf{\\hat{j}_{Sys}} + (b_{3})\\mathbf{\\hat{k}_{Sys}}, Point\\left(Sys.origin, \\mathbf{\\hat{0}}\\right)\\right)$"
      ],
      "text/plain": [
       "B"
      ]
     },
     "execution_count": 43,
     "metadata": {},
     "output_type": "execute_result"
    }
   ],
   "source": [
    "B"
   ]
  },
  {
   "cell_type": "code",
   "execution_count": 31,
   "id": "eacec799",
   "metadata": {},
   "outputs": [
    {
     "data": {
      "text/latex": [
       "$\\displaystyle Point\\left(C, (c_{1})\\mathbf{\\hat{i}_{Sys}} + (c_{2})\\mathbf{\\hat{j}_{Sys}} + (c_{3})\\mathbf{\\hat{k}_{Sys}}, Point\\left(Sys.origin, \\mathbf{\\hat{0}}\\right)\\right)$"
      ],
      "text/plain": [
       "C"
      ]
     },
     "execution_count": 31,
     "metadata": {},
     "output_type": "execute_result"
    }
   ],
   "source": [
    "C"
   ]
  },
  {
   "cell_type": "code",
   "execution_count": 33,
   "id": "4d142445",
   "metadata": {},
   "outputs": [
    {
     "data": {
      "text/latex": [
       "$\\displaystyle Point\\left(P, (\\frac{a_{1}}{2})\\mathbf{\\hat{i}_{Sys}} + (\\frac{a_{2}}{2})\\mathbf{\\hat{j}_{Sys}} + (\\frac{a_{3}}{2})\\mathbf{\\hat{k}_{Sys}}, Point\\left(Sys.origin, \\mathbf{\\hat{0}}\\right)\\right)$"
      ],
      "text/plain": [
       "P"
      ]
     },
     "execution_count": 33,
     "metadata": {},
     "output_type": "execute_result"
    }
   ],
   "source": [
    "# P is the midpoint of OA. Lets locate it with respect to O (you could also define it with respect to A).\n",
    "P = O.locate_new('P', A.position_wrt(O) + (O.position_wrt(A) / 2))\n",
    "P"
   ]
  },
  {
   "cell_type": "code",
   "execution_count": 35,
   "id": "8a78eaee",
   "metadata": {},
   "outputs": [],
   "source": [
    "# Similarly define points Q, R and S as per the problem definitions.\n",
    "Q = A.locate_new('Q', B.position_wrt(A) / 2)\n",
    "R = B.locate_new('R', C.position_wrt(B) / 2)\n",
    "S = O.locate_new('R', C.position_wrt(O) / 2)"
   ]
  },
  {
   "cell_type": "code",
   "execution_count": 36,
   "id": "ec948ac8",
   "metadata": {},
   "outputs": [
    {
     "data": {
      "text/latex": [
       "$\\displaystyle Point\\left(Q, (- \\frac{a_{1}}{2} + \\frac{b_{1}}{2})\\mathbf{\\hat{i}_{Sys}} + (- \\frac{a_{2}}{2} + \\frac{b_{2}}{2})\\mathbf{\\hat{j}_{Sys}} + (- \\frac{a_{3}}{2} + \\frac{b_{3}}{2})\\mathbf{\\hat{k}_{Sys}}, Point\\left(A, (a_{1})\\mathbf{\\hat{i}_{Sys}} + (a_{2})\\mathbf{\\hat{j}_{Sys}} + (a_{3})\\mathbf{\\hat{k}_{Sys}}, Point\\left(Sys.origin, \\mathbf{\\hat{0}}\\right)\\right)\\right)$"
      ],
      "text/plain": [
       "Q"
      ]
     },
     "execution_count": 36,
     "metadata": {},
     "output_type": "execute_result"
    }
   ],
   "source": [
    "Q"
   ]
  },
  {
   "cell_type": "code",
   "execution_count": 37,
   "id": "d596da21",
   "metadata": {},
   "outputs": [
    {
     "data": {
      "text/latex": [
       "$\\displaystyle Point\\left(R, (- \\frac{b_{1}}{2} + \\frac{c_{1}}{2})\\mathbf{\\hat{i}_{Sys}} + (- \\frac{b_{2}}{2} + \\frac{c_{2}}{2})\\mathbf{\\hat{j}_{Sys}} + (- \\frac{b_{3}}{2} + \\frac{c_{3}}{2})\\mathbf{\\hat{k}_{Sys}}, Point\\left(B, (b_{1})\\mathbf{\\hat{i}_{Sys}} + (b_{2})\\mathbf{\\hat{j}_{Sys}} + (b_{3})\\mathbf{\\hat{k}_{Sys}}, Point\\left(Sys.origin, \\mathbf{\\hat{0}}\\right)\\right)\\right)$"
      ],
      "text/plain": [
       "R"
      ]
     },
     "execution_count": 37,
     "metadata": {},
     "output_type": "execute_result"
    }
   ],
   "source": [
    "R"
   ]
  },
  {
   "cell_type": "code",
   "execution_count": 38,
   "id": "487759db",
   "metadata": {},
   "outputs": [
    {
     "data": {
      "text/latex": [
       "$\\displaystyle Point\\left(R, (\\frac{c_{1}}{2})\\mathbf{\\hat{i}_{Sys}} + (\\frac{c_{2}}{2})\\mathbf{\\hat{j}_{Sys}} + (\\frac{c_{3}}{2})\\mathbf{\\hat{k}_{Sys}}, Point\\left(Sys.origin, \\mathbf{\\hat{0}}\\right)\\right)$"
      ],
      "text/plain": [
       "R"
      ]
     },
     "execution_count": 38,
     "metadata": {},
     "output_type": "execute_result"
    }
   ],
   "source": [
    "S"
   ]
  },
  {
   "cell_type": "code",
   "execution_count": 40,
   "id": "36f2d21a",
   "metadata": {},
   "outputs": [
    {
     "data": {
      "text/latex": [
       "$\\displaystyle (\\frac{b_{1}}{2})\\mathbf{\\hat{i}_{Sys}} + (\\frac{b_{2}}{2})\\mathbf{\\hat{j}_{Sys}} + (\\frac{b_{3}}{2})\\mathbf{\\hat{k}_{Sys}}$"
      ],
      "text/plain": [
       "b1/2*Sys.i + b2/2*Sys.j + b3/2*Sys.k"
      ]
     },
     "execution_count": 40,
     "metadata": {},
     "output_type": "execute_result"
    }
   ],
   "source": [
    "# Now compute the vectors in the directions specified by PQ and SR.\n",
    "PQ = Q.position_wrt(P)\n",
    "SR = R.position_wrt(S)"
   ]
  },
  {
   "cell_type": "code",
   "execution_count": 41,
   "id": "1f9d6a0d",
   "metadata": {},
   "outputs": [
    {
     "data": {
      "text/latex": [
       "$\\displaystyle (\\frac{b_{1}}{2})\\mathbf{\\hat{i}_{Sys}} + (\\frac{b_{2}}{2})\\mathbf{\\hat{j}_{Sys}} + (\\frac{b_{3}}{2})\\mathbf{\\hat{k}_{Sys}}$"
      ],
      "text/plain": [
       "b1/2*Sys.i + b2/2*Sys.j + b3/2*Sys.k"
      ]
     },
     "execution_count": 41,
     "metadata": {},
     "output_type": "execute_result"
    }
   ],
   "source": [
    "PQ"
   ]
  },
  {
   "cell_type": "code",
   "execution_count": 42,
   "id": "77c3dcef",
   "metadata": {},
   "outputs": [
    {
     "data": {
      "text/latex": [
       "$\\displaystyle (\\frac{b_{1}}{2})\\mathbf{\\hat{i}_{Sys}} + (\\frac{b_{2}}{2})\\mathbf{\\hat{j}_{Sys}} + (\\frac{b_{3}}{2})\\mathbf{\\hat{k}_{Sys}}$"
      ],
      "text/plain": [
       "b1/2*Sys.i + b2/2*Sys.j + b3/2*Sys.k"
      ]
     },
     "execution_count": 42,
     "metadata": {},
     "output_type": "execute_result"
    }
   ],
   "source": [
    "SR"
   ]
  },
  {
   "cell_type": "code",
   "execution_count": 47,
   "id": "9f1009c0",
   "metadata": {},
   "outputs": [
    {
     "data": {
      "text/latex": [
       "$\\displaystyle \\mathbf{\\hat{0}}$"
      ],
      "text/plain": [
       "0"
      ]
     },
     "execution_count": 47,
     "metadata": {},
     "output_type": "execute_result"
    }
   ],
   "source": [
    "# Compute cross product\n",
    "PQ.cross(SR)"
   ]
  },
  {
   "cell_type": "code",
   "execution_count": null,
   "id": "59b93173",
   "metadata": {},
   "outputs": [],
   "source": [
    "# Since the cross product is a zero vector, the two vectors have to be parallel, thus proving that PQ || SR."
   ]
  }
 ],
 "metadata": {
  "kernelspec": {
   "display_name": "Python 3 (ipykernel)",
   "language": "python",
   "name": "python3"
  },
  "language_info": {
   "codemirror_mode": {
    "name": "ipython",
    "version": 3
   },
   "file_extension": ".py",
   "mimetype": "text/x-python",
   "name": "python",
   "nbconvert_exporter": "python",
   "pygments_lexer": "ipython3",
   "version": "3.9.6"
  }
 },
 "nbformat": 4,
 "nbformat_minor": 5
}
