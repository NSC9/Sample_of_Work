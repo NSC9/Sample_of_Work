{
 "cells": [
  {
   "cell_type": "code",
   "execution_count": 1,
   "id": "e74310b2",
   "metadata": {},
   "outputs": [],
   "source": [
    "# references https://stackoverflow.com/questions/61100589/is-there-a-way-of-working-in-spherical-coordinates-in-sympy\n",
    "from sympy.vector import CoordSys3D"
   ]
  },
  {
   "cell_type": "code",
   "execution_count": 4,
   "id": "b5934e0a",
   "metadata": {},
   "outputs": [
    {
     "data": {
      "text/latex": [
       "$\\displaystyle \\mathbf{\\hat{r}_{P}}$"
      ],
      "text/plain": [
       "P.r"
      ]
     },
     "execution_count": 4,
     "metadata": {},
     "output_type": "execute_result"
    }
   ],
   "source": [
    "P = CoordSys3D('P', transformation='spherical',\n",
    "                    vector_names=list('rtp'), \n",
    "                    variable_names=list('RTP'))\n",
    "P.r"
   ]
  },
  {
   "cell_type": "code",
   "execution_count": 7,
   "id": "558245fe",
   "metadata": {},
   "outputs": [
    {
     "data": {
      "text/plain": [
       "True"
      ]
     },
     "execution_count": 7,
     "metadata": {},
     "output_type": "execute_result"
    }
   ],
   "source": [
    "P.r & P.t == 0\n",
    "P.r ^ P.t == P.p"
   ]
  },
  {
   "cell_type": "code",
   "execution_count": null,
   "id": "0af8bb79",
   "metadata": {},
   "outputs": [],
   "source": []
  }
 ],
 "metadata": {
  "kernelspec": {
   "display_name": "Python 3 (ipykernel)",
   "language": "python",
   "name": "python3"
  },
  "language_info": {
   "codemirror_mode": {
    "name": "ipython",
    "version": 3
   },
   "file_extension": ".py",
   "mimetype": "text/x-python",
   "name": "python",
   "nbconvert_exporter": "python",
   "pygments_lexer": "ipython3",
   "version": "3.9.6"
  }
 },
 "nbformat": 4,
 "nbformat_minor": 5
}
