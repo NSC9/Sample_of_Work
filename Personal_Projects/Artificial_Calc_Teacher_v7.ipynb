{
 "cells": [
  {
   "cell_type": "markdown",
   "id": "0625835f",
   "metadata": {},
   "source": [
    "Credits to https://people.math.harvard.edu/~knill/teaching/math1a_2011/handouts/46-ai.pdf\n",
    "\n",
    "Notebook by github.com/nsc9\n"
   ]
  },
  {
   "cell_type": "code",
   "execution_count": 1,
   "id": "9aef0f0e",
   "metadata": {},
   "outputs": [],
   "source": [
    "# Thanks to @smichr for .replace suggestion https://stackoverflow.com/a/73000728/17291132 \n",
    "from sympy import sqrt,sin,cos,log,exp,tan,Function,Derivative,Eq,Pow,S,sympify,Integral,plot,cbrt,Limit,Rational\n",
    "from sympy.abc import x\n",
    "import random\n",
    "f = Function('f')\n",
    "g = Function('g')\n",
    "h = Function('h')"
   ]
  },
  {
   "cell_type": "code",
   "execution_count": 20,
   "id": "108761f9",
   "metadata": {
    "scrolled": false
   },
   "outputs": [
    {
     "data": {
      "text/latex": [
       "$\\displaystyle \\frac{d}{d x} \\left(x - 1\\right) \\tan{\\left(e^{x} \\right)} = \\left(x - 1\\right) \\left(\\tan^{2}{\\left(e^{x} \\right)} + 1\\right) e^{x} + \\tan{\\left(e^{x} \\right)}$"
      ],
      "text/plain": [
       "Eq(Derivative((x - 1)*tan(exp(x)), x), (x - 1)*(tan(exp(x))**2 + 1)*exp(x) + tan(exp(x)))"
      ]
     },
     "metadata": {},
     "output_type": "display_data"
    },
    {
     "data": {
      "text/latex": [
       "$\\displaystyle \\int \\sqrt[3]{x} \\log{\\left(\\log{\\left(x \\right)} \\right)}\\, dx = \\frac{3 x^{\\frac{4}{3}} \\log{\\left(\\log{\\left(x \\right)} \\right)}}{4} - \\frac{3 \\operatorname{Ei}{\\left(\\frac{4 \\log{\\left(x \\right)}}{3} \\right)}}{4}$"
      ],
      "text/plain": [
       "Eq(Integral(x**(1/3)*log(log(x)), x), 3*x**(4/3)*log(log(x))/4 - 3*Ei(4*log(x)/3)/4)"
      ]
     },
     "metadata": {},
     "output_type": "display_data"
    }
   ],
   "source": [
    "def random_math(x):\n",
    "    allowed_values = list(range(-9, 9))\n",
    "    allowed_values.remove(0)\n",
    "    random_value = random.choice(allowed_values)\n",
    "    def power_function(x):      \n",
    "        return x**(Rational(random_value/random_value))\n",
    "    def scalar_function(x):\n",
    "        return x*random_value\n",
    "    def addSUBTR_function(x): \n",
    "        return x+random_value\n",
    "    funs = [sqrt,cbrt,sin,cos,log,exp,tan,power_function,\n",
    "            scalar_function,addSUBTR_function]      \n",
    "    operations = [f(g(x)),f(x)+g(x),f(x)-g(x),f(x)/g(x),f(x)*g(x),\n",
    "                  f(g(h(x))),f(h(x))+g(x),f(h(x))-g(x),f(h(x))/g(x),f(x)/g(h(x)),f(h(x))*g(x),f(x)*g(h(x))]\n",
    "    operation = operations[random.randrange(0,len(operations))]\n",
    "    return [[[operation.replace(f, i) for i in funs][random.randrange(0,len(funs))].replace(g, i) for i in funs]\\\n",
    "[random.randrange(0,len(funs))].replace(h, i) for i in funs][random.randrange(0,len(funs))]\n",
    "\n",
    "practice1 = Derivative(random_math(x))\n",
    "practice2 = Integral(random_math(x),x)\n",
    "p1eq = Eq(practice1,practice1.doit(),evaluate=False)\n",
    "p2eq = Eq(practice2,practice2.doit(),evaluate=False)\n",
    "if practice1.evalf() != 0:\n",
    "    display(p1eq)\n",
    "else:\n",
    "    print(\"Error\")\n",
    "if p2eq.lhs != p2eq.rhs:\n",
    "    display(p2eq)\n",
    "else:\n",
    "    print(\"Error\")"
   ]
  },
  {
   "cell_type": "code",
   "execution_count": null,
   "id": "8e951162",
   "metadata": {},
   "outputs": [],
   "source": []
  },
  {
   "cell_type": "code",
   "execution_count": null,
   "id": "1892b3c7",
   "metadata": {},
   "outputs": [],
   "source": []
  }
 ],
 "metadata": {
  "kernelspec": {
   "display_name": "Python 3 (ipykernel)",
   "language": "python",
   "name": "python3"
  },
  "language_info": {
   "codemirror_mode": {
    "name": "ipython",
    "version": 3
   },
   "file_extension": ".py",
   "mimetype": "text/x-python",
   "name": "python",
   "nbconvert_exporter": "python",
   "pygments_lexer": "ipython3",
   "version": "3.8.10"
  }
 },
 "nbformat": 4,
 "nbformat_minor": 5
}
