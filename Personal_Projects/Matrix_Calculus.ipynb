{
 "cells": [
  {
   "cell_type": "code",
   "execution_count": 128,
   "id": "614e4540",
   "metadata": {},
   "outputs": [
    {
     "data": {
      "text/latex": [
       "$\\displaystyle \\left[\\begin{matrix}x\\\\y\\\\z\\end{matrix}\\right]$"
      ],
      "text/plain": [
       "Matrix([\n",
       "[x],\n",
       "[y],\n",
       "[z]])"
      ]
     },
     "execution_count": 128,
     "metadata": {},
     "output_type": "execute_result"
    }
   ],
   "source": [
    "from sympy import *\n",
    "from sympy.abc import *\n",
    "Matrix([x,y,z])"
   ]
  },
  {
   "cell_type": "code",
   "execution_count": 163,
   "id": "a598b55f",
   "metadata": {},
   "outputs": [],
   "source": [
    "e1 = 5*x+3*y+4*z\n",
    "e2 = 3*x+4*y+5*z\n",
    "e3 = 4*x+5*y+3*z"
   ]
  },
  {
   "cell_type": "code",
   "execution_count": 164,
   "id": "8268e569",
   "metadata": {},
   "outputs": [
    {
     "data": {
      "text/latex": [
       "$\\displaystyle \\left[\\begin{matrix}5 x + 3 y + 4 z\\\\3 x + 4 y + 5 z\\\\4 x + 5 y + 3 z\\end{matrix}\\right]$"
      ],
      "text/plain": [
       "Matrix([\n",
       "[5*x + 3*y + 4*z],\n",
       "[3*x + 4*y + 5*z],\n",
       "[4*x + 5*y + 3*z]])"
      ]
     },
     "execution_count": 164,
     "metadata": {},
     "output_type": "execute_result"
    }
   ],
   "source": [
    "A = Matrix([e1,e2,e3])\n",
    "A"
   ]
  },
  {
   "cell_type": "code",
   "execution_count": 165,
   "id": "1bc24ef0",
   "metadata": {},
   "outputs": [
    {
     "data": {
      "text/latex": [
       "$\\displaystyle \\left[\\begin{matrix}10 x + 6 y + 8 z\\\\6 x + 8 y + 10 z\\\\8 x + 10 y + 6 z\\end{matrix}\\right]$"
      ],
      "text/plain": [
       "Matrix([\n",
       "[10*x + 6*y + 8*z],\n",
       "[6*x + 8*y + 10*z],\n",
       "[8*x + 10*y + 6*z]])"
      ]
     },
     "execution_count": 165,
     "metadata": {},
     "output_type": "execute_result"
    }
   ],
   "source": [
    "B = A*2\n",
    "B"
   ]
  },
  {
   "cell_type": "code",
   "execution_count": 187,
   "id": "6b1ad336",
   "metadata": {},
   "outputs": [
    {
     "data": {
      "text/latex": [
       "$\\displaystyle \\int \\left[\\begin{matrix}5 x + 3 y + 4 z\\\\3 x + 4 y + 5 z\\\\4 x + 5 y + 3 z\\end{matrix}\\right]\\, dx$"
      ],
      "text/plain": [
       "Integral(Matrix([\n",
       "[5*x + 3*y + 4*z],\n",
       "[3*x + 4*y + 5*z],\n",
       "[4*x + 5*y + 3*z]]), x)"
      ]
     },
     "execution_count": 187,
     "metadata": {},
     "output_type": "execute_result"
    }
   ],
   "source": [
    "Integral(A,x)"
   ]
  },
  {
   "cell_type": "code",
   "execution_count": 188,
   "id": "0c59e057",
   "metadata": {},
   "outputs": [
    {
     "data": {
      "text/latex": [
       "$\\displaystyle \\left[\\begin{matrix}\\frac{5 x^{2}}{2} + x \\left(3 y + 4 z\\right)\\\\\\frac{3 x^{2}}{2} + x \\left(4 y + 5 z\\right)\\\\2 x^{2} + x \\left(5 y + 3 z\\right)\\end{matrix}\\right]$"
      ],
      "text/plain": [
       "Matrix([\n",
       "[5*x**2/2 + x*(3*y + 4*z)],\n",
       "[3*x**2/2 + x*(4*y + 5*z)],\n",
       "[  2*x**2 + x*(5*y + 3*z)]])"
      ]
     },
     "execution_count": 188,
     "metadata": {},
     "output_type": "execute_result"
    }
   ],
   "source": [
    "Integral(A,x).doit()"
   ]
  },
  {
   "cell_type": "code",
   "execution_count": 205,
   "id": "6277d359",
   "metadata": {},
   "outputs": [
    {
     "data": {
      "text/latex": [
       "$\\displaystyle \\frac{\\partial}{\\partial x} \\left[\\begin{matrix}5 x + 3 y + 4 z\\\\3 x + 4 y + 5 z\\\\4 x + 5 y + 3 z\\end{matrix}\\right]$"
      ],
      "text/plain": [
       "Derivative(Matrix([\n",
       "[5*x + 3*y + 4*z],\n",
       "[3*x + 4*y + 5*z],\n",
       "[4*x + 5*y + 3*z]]), x)"
      ]
     },
     "execution_count": 205,
     "metadata": {},
     "output_type": "execute_result"
    }
   ],
   "source": [
    "Derivative(A,x)"
   ]
  },
  {
   "cell_type": "code",
   "execution_count": 204,
   "id": "b1bd8720",
   "metadata": {},
   "outputs": [
    {
     "data": {
      "text/latex": [
       "$\\displaystyle \\left[\\begin{matrix}5\\\\3\\\\4\\end{matrix}\\right]$"
      ],
      "text/plain": [
       "Matrix([\n",
       "[5],\n",
       "[3],\n",
       "[4]])"
      ]
     },
     "execution_count": 204,
     "metadata": {},
     "output_type": "execute_result"
    }
   ],
   "source": [
    "Derivative(A,x).doit()"
   ]
  }
 ],
 "metadata": {
  "kernelspec": {
   "display_name": "Python 3 (ipykernel)",
   "language": "python",
   "name": "python3"
  },
  "language_info": {
   "codemirror_mode": {
    "name": "ipython",
    "version": 3
   },
   "file_extension": ".py",
   "mimetype": "text/x-python",
   "name": "python",
   "nbconvert_exporter": "python",
   "pygments_lexer": "ipython3",
   "version": "3.9.6"
  }
 },
 "nbformat": 4,
 "nbformat_minor": 5
}
