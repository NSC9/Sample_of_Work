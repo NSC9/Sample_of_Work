{
 "cells": [
  {
   "cell_type": "code",
   "execution_count": 1,
   "id": "0e6c6bb1",
   "metadata": {},
   "outputs": [
    {
     "name": "stdout",
     "output_type": "stream",
     "text": [
      "\n",
      "Function exp_by_squaring(x, n)\n",
      "    if n < 0  then return exp_by_squaring(1 / x, -n);\n",
      "    else if n = 0  then return  1;\n",
      "    else if n = 1  then return  x ;\n",
      "    else if n is even  then return exp_by_squaring(x * x,  n / 2);\n",
      "    else if n is odd  then return x * exp_by_squaring(x * x, (n - 1) / 2);\n",
      "\n"
     ]
    }
   ],
   "source": [
    "print(\"\"\"\n",
    "Function exp_by_squaring(x, n)\n",
    "    if n < 0  then return exp_by_squaring(1 / x, -n);\n",
    "    else if n = 0  then return  1;\n",
    "    else if n = 1  then return  x ;\n",
    "    else if n is even  then return exp_by_squaring(x * x,  n / 2);\n",
    "    else if n is odd  then return x * exp_by_squaring(x * x, (n - 1) / 2);\n",
    "\"\"\")"
   ]
  },
  {
   "cell_type": "code",
   "execution_count": 5,
   "id": "7b82b7b1",
   "metadata": {},
   "outputs": [
    {
     "name": "stdout",
     "output_type": "stream",
     "text": [
      "\n",
      "The above algorithm is taken from:\n",
      "      https://en.wikipedia.org/wiki/Exponentiation_by_squaring\n",
      "The below is my conversion of this algorithm to work Python 3.\n",
      "\n"
     ]
    }
   ],
   "source": [
    "print(\"\"\"\n",
    "The above algorithm is taken from:\n",
    "      https://en.wikipedia.org/wiki/Exponentiation_by_squaring\n",
    "The below is my conversion of this algorithm to work Python 3.\n",
    "\"\"\")"
   ]
  },
  {
   "cell_type": "code",
   "execution_count": 15,
   "id": "2b0a95ac",
   "metadata": {
    "scrolled": true
   },
   "outputs": [
    {
     "data": {
      "text/plain": [
       "25"
      ]
     },
     "execution_count": 15,
     "metadata": {},
     "output_type": "execute_result"
    }
   ],
   "source": [
    "def exp_by_squaring(x, n):\n",
    "    if n < 0:\n",
    "        return exp_by_squaring(1 / x, -n);\n",
    "    elif n == 0:\n",
    "        return  1;\n",
    "    elif n == 1:\n",
    "        return  x ;\n",
    "    elif n % 2 == 0:\n",
    "        return exp_by_squaring(x * x,  n / 2);\n",
    "    else:\n",
    "        return x * exp_by_squaring(x * x, (n - 1) / 2);\n",
    "exp_by_squaring(5, 2)   # change these int-type values to validate this function works"
   ]
  }
 ],
 "metadata": {
  "kernelspec": {
   "display_name": "Python 3 (ipykernel)",
   "language": "python",
   "name": "python3"
  },
  "language_info": {
   "codemirror_mode": {
    "name": "ipython",
    "version": 3
   },
   "file_extension": ".py",
   "mimetype": "text/x-python",
   "name": "python",
   "nbconvert_exporter": "python",
   "pygments_lexer": "ipython3",
   "version": "3.9.6"
  }
 },
 "nbformat": 4,
 "nbformat_minor": 5
}
