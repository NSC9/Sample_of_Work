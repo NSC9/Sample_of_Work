{
 "cells": [
  {
   "cell_type": "code",
   "execution_count": 6,
   "id": "3571a7c5",
   "metadata": {},
   "outputs": [
    {
     "data": {
      "text/html": [
       "<img src=\"https://i.imgur.com/pnSQKJk.png\"/>"
      ],
      "text/plain": [
       "<IPython.core.display.Image object>"
      ]
     },
     "execution_count": 6,
     "metadata": {},
     "output_type": "execute_result"
    }
   ],
   "source": [
    "from IPython.display import Image\n",
    "from IPython.core.display import HTML \n",
    "from sympy import *; x,h,y = symbols(\"x h y\")\n",
    "Image(url= \"https://i.imgur.com/pnSQKJk.png\")\n",
    "\n"
   ]
  },
  {
   "cell_type": "code",
   "execution_count": 19,
   "id": "e35f1deb",
   "metadata": {},
   "outputs": [
    {
     "data": {
      "text/latex": [
       "$\\displaystyle - \\frac{1}{9}$"
      ],
      "text/plain": [
       "-1/9"
      ]
     },
     "execution_count": 19,
     "metadata": {},
     "output_type": "execute_result"
    }
   ],
   "source": [
    "dF = diff(1/ (4*sin(x) + 6*cos(x)))\n",
    "dF.subs(x,0)   #gives the correct slope of the tangent line"
   ]
  },
  {
   "cell_type": "code",
   "execution_count": 24,
   "id": "a0e93446",
   "metadata": {},
   "outputs": [
    {
     "name": "stdout",
     "output_type": "stream",
     "text": [
      "0.166666666666667 - x/9\n"
     ]
    }
   ],
   "source": [
    "x0 = 0; y0 = 1/6\n",
    "MofT = dF.subs(x,0)\n",
    "y = y0 + MofT*(x - x0)\n",
    "print(y)"
   ]
  },
  {
   "cell_type": "code",
   "execution_count": 24,
   "id": "3550929a",
   "metadata": {},
   "outputs": [],
   "source": [
    "# b = 0.166666666666667"
   ]
  },
  {
   "cell_type": "code",
   "execution_count": 25,
   "id": "a30d2993",
   "metadata": {},
   "outputs": [
    {
     "data": {
      "text/html": [
       "<img src=\"https://i.imgur.com/A9gEwzV.png\"/>"
      ],
      "text/plain": [
       "<IPython.core.display.Image object>"
      ]
     },
     "execution_count": 25,
     "metadata": {},
     "output_type": "execute_result"
    }
   ],
   "source": [
    "Image(url= \"https://i.imgur.com/A9gEwzV.png\")"
   ]
  },
  {
   "cell_type": "code",
   "execution_count": null,
   "id": "95a6efa1",
   "metadata": {},
   "outputs": [],
   "source": []
  }
 ],
 "metadata": {
  "kernelspec": {
   "display_name": "Python 3 (ipykernel)",
   "language": "python",
   "name": "python3"
  },
  "language_info": {
   "codemirror_mode": {
    "name": "ipython",
    "version": 3
   },
   "file_extension": ".py",
   "mimetype": "text/x-python",
   "name": "python",
   "nbconvert_exporter": "python",
   "pygments_lexer": "ipython3",
   "version": "3.9.6"
  }
 },
 "nbformat": 4,
 "nbformat_minor": 5
}
